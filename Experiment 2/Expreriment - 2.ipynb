{
 "cells": [
  {
   "cell_type": "code",
   "execution_count": 1,
   "metadata": {},
   "outputs": [],
   "source": [
    "import pandas as pd\n",
    "import numpy as np\n",
    "import json\n",
    "import warnings\n",
    "import spacy\n",
    "warnings.filterwarnings(\"ignore\")\n",
    "import random"
   ]
  },
  {
   "cell_type": "code",
   "execution_count": 2,
   "metadata": {},
   "outputs": [],
   "source": [
    "train_data = pd.read_csv(\"C:\\\\Users\\\\llohi\\\\OneDrive\\\\Desktop\\\\CAP_Stone\\\\train.csv\")\n",
    "features = pd.read_csv(\"C:\\\\Users\\\\llohi\\\\OneDrive\\\\Desktop\\\\CAP_Stone\\\\features.csv\")\n",
    "patient_notes = pd.read_csv(\"C:\\\\Users\\\\llohi\\\\OneDrive\\\\Desktop\\\\CAP_Stone\\\\patient_notes.csv\")"
   ]
  },
  {
   "cell_type": "code",
   "execution_count": 3,
   "metadata": {},
   "outputs": [
    {
     "data": {
      "text/html": [
       "<div>\n",
       "<style scoped>\n",
       "    .dataframe tbody tr th:only-of-type {\n",
       "        vertical-align: middle;\n",
       "    }\n",
       "\n",
       "    .dataframe tbody tr th {\n",
       "        vertical-align: top;\n",
       "    }\n",
       "\n",
       "    .dataframe thead th {\n",
       "        text-align: right;\n",
       "    }\n",
       "</style>\n",
       "<table border=\"1\" class=\"dataframe\">\n",
       "  <thead>\n",
       "    <tr style=\"text-align: right;\">\n",
       "      <th></th>\n",
       "      <th>id</th>\n",
       "      <th>case_num</th>\n",
       "      <th>pn_num</th>\n",
       "      <th>feature_num</th>\n",
       "      <th>annotation</th>\n",
       "      <th>location</th>\n",
       "    </tr>\n",
       "  </thead>\n",
       "  <tbody>\n",
       "    <tr>\n",
       "      <th>0</th>\n",
       "      <td>00016_000</td>\n",
       "      <td>0</td>\n",
       "      <td>16</td>\n",
       "      <td>0</td>\n",
       "      <td>['dad with recent heart attcak']</td>\n",
       "      <td>['696 724']</td>\n",
       "    </tr>\n",
       "    <tr>\n",
       "      <th>1</th>\n",
       "      <td>00016_001</td>\n",
       "      <td>0</td>\n",
       "      <td>16</td>\n",
       "      <td>1</td>\n",
       "      <td>['mom with \"thyroid disease']</td>\n",
       "      <td>['668 693']</td>\n",
       "    </tr>\n",
       "    <tr>\n",
       "      <th>2</th>\n",
       "      <td>00016_002</td>\n",
       "      <td>0</td>\n",
       "      <td>16</td>\n",
       "      <td>2</td>\n",
       "      <td>['chest pressure']</td>\n",
       "      <td>['203 217']</td>\n",
       "    </tr>\n",
       "    <tr>\n",
       "      <th>3</th>\n",
       "      <td>00016_003</td>\n",
       "      <td>0</td>\n",
       "      <td>16</td>\n",
       "      <td>3</td>\n",
       "      <td>['intermittent episodes', 'episode']</td>\n",
       "      <td>['70 91', '176 183']</td>\n",
       "    </tr>\n",
       "    <tr>\n",
       "      <th>4</th>\n",
       "      <td>00016_004</td>\n",
       "      <td>0</td>\n",
       "      <td>16</td>\n",
       "      <td>4</td>\n",
       "      <td>['felt as if he were going to pass out']</td>\n",
       "      <td>['222 258']</td>\n",
       "    </tr>\n",
       "  </tbody>\n",
       "</table>\n",
       "</div>"
      ],
      "text/plain": [
       "          id  case_num  pn_num  feature_num  \\\n",
       "0  00016_000         0      16            0   \n",
       "1  00016_001         0      16            1   \n",
       "2  00016_002         0      16            2   \n",
       "3  00016_003         0      16            3   \n",
       "4  00016_004         0      16            4   \n",
       "\n",
       "                                 annotation              location  \n",
       "0          ['dad with recent heart attcak']           ['696 724']  \n",
       "1             ['mom with \"thyroid disease']           ['668 693']  \n",
       "2                        ['chest pressure']           ['203 217']  \n",
       "3      ['intermittent episodes', 'episode']  ['70 91', '176 183']  \n",
       "4  ['felt as if he were going to pass out']           ['222 258']  "
      ]
     },
     "execution_count": 3,
     "metadata": {},
     "output_type": "execute_result"
    }
   ],
   "source": [
    "train_data.head()"
   ]
  },
  {
   "cell_type": "code",
   "execution_count": 4,
   "metadata": {},
   "outputs": [
    {
     "data": {
      "text/html": [
       "<div>\n",
       "<style scoped>\n",
       "    .dataframe tbody tr th:only-of-type {\n",
       "        vertical-align: middle;\n",
       "    }\n",
       "\n",
       "    .dataframe tbody tr th {\n",
       "        vertical-align: top;\n",
       "    }\n",
       "\n",
       "    .dataframe thead th {\n",
       "        text-align: right;\n",
       "    }\n",
       "</style>\n",
       "<table border=\"1\" class=\"dataframe\">\n",
       "  <thead>\n",
       "    <tr style=\"text-align: right;\">\n",
       "      <th></th>\n",
       "      <th>feature_num</th>\n",
       "      <th>case_num</th>\n",
       "      <th>feature_text</th>\n",
       "    </tr>\n",
       "  </thead>\n",
       "  <tbody>\n",
       "    <tr>\n",
       "      <th>0</th>\n",
       "      <td>0</td>\n",
       "      <td>0</td>\n",
       "      <td>Family-history-of-MI-OR-Family-history-of-myoc...</td>\n",
       "    </tr>\n",
       "    <tr>\n",
       "      <th>1</th>\n",
       "      <td>1</td>\n",
       "      <td>0</td>\n",
       "      <td>Family-history-of-thyroid-disorder</td>\n",
       "    </tr>\n",
       "    <tr>\n",
       "      <th>2</th>\n",
       "      <td>2</td>\n",
       "      <td>0</td>\n",
       "      <td>Chest-pressure</td>\n",
       "    </tr>\n",
       "    <tr>\n",
       "      <th>3</th>\n",
       "      <td>3</td>\n",
       "      <td>0</td>\n",
       "      <td>Intermittent-symptoms</td>\n",
       "    </tr>\n",
       "    <tr>\n",
       "      <th>4</th>\n",
       "      <td>4</td>\n",
       "      <td>0</td>\n",
       "      <td>Lightheaded</td>\n",
       "    </tr>\n",
       "  </tbody>\n",
       "</table>\n",
       "</div>"
      ],
      "text/plain": [
       "   feature_num  case_num                                       feature_text\n",
       "0            0         0  Family-history-of-MI-OR-Family-history-of-myoc...\n",
       "1            1         0                 Family-history-of-thyroid-disorder\n",
       "2            2         0                                     Chest-pressure\n",
       "3            3         0                              Intermittent-symptoms\n",
       "4            4         0                                        Lightheaded"
      ]
     },
     "execution_count": 4,
     "metadata": {},
     "output_type": "execute_result"
    }
   ],
   "source": [
    "features.head()"
   ]
  },
  {
   "cell_type": "code",
   "execution_count": 5,
   "metadata": {},
   "outputs": [
    {
     "data": {
      "text/html": [
       "<div>\n",
       "<style scoped>\n",
       "    .dataframe tbody tr th:only-of-type {\n",
       "        vertical-align: middle;\n",
       "    }\n",
       "\n",
       "    .dataframe tbody tr th {\n",
       "        vertical-align: top;\n",
       "    }\n",
       "\n",
       "    .dataframe thead th {\n",
       "        text-align: right;\n",
       "    }\n",
       "</style>\n",
       "<table border=\"1\" class=\"dataframe\">\n",
       "  <thead>\n",
       "    <tr style=\"text-align: right;\">\n",
       "      <th></th>\n",
       "      <th>pn_num</th>\n",
       "      <th>case_num</th>\n",
       "      <th>pn_history</th>\n",
       "    </tr>\n",
       "  </thead>\n",
       "  <tbody>\n",
       "    <tr>\n",
       "      <th>0</th>\n",
       "      <td>0</td>\n",
       "      <td>0</td>\n",
       "      <td>17-year-old male, has come to the student heal...</td>\n",
       "    </tr>\n",
       "    <tr>\n",
       "      <th>1</th>\n",
       "      <td>1</td>\n",
       "      <td>0</td>\n",
       "      <td>17 yo male with recurrent palpitations for the...</td>\n",
       "    </tr>\n",
       "    <tr>\n",
       "      <th>2</th>\n",
       "      <td>2</td>\n",
       "      <td>0</td>\n",
       "      <td>Dillon Cleveland is a 17 y.o. male patient wit...</td>\n",
       "    </tr>\n",
       "    <tr>\n",
       "      <th>3</th>\n",
       "      <td>3</td>\n",
       "      <td>0</td>\n",
       "      <td>a 17 yo m c/o palpitation started 3 mos ago; \\...</td>\n",
       "    </tr>\n",
       "    <tr>\n",
       "      <th>4</th>\n",
       "      <td>4</td>\n",
       "      <td>0</td>\n",
       "      <td>17yo male with no pmh here for evaluation of p...</td>\n",
       "    </tr>\n",
       "  </tbody>\n",
       "</table>\n",
       "</div>"
      ],
      "text/plain": [
       "   pn_num  case_num                                         pn_history\n",
       "0       0         0  17-year-old male, has come to the student heal...\n",
       "1       1         0  17 yo male with recurrent palpitations for the...\n",
       "2       2         0  Dillon Cleveland is a 17 y.o. male patient wit...\n",
       "3       3         0  a 17 yo m c/o palpitation started 3 mos ago; \\...\n",
       "4       4         0  17yo male with no pmh here for evaluation of p..."
      ]
     },
     "execution_count": 5,
     "metadata": {},
     "output_type": "execute_result"
    }
   ],
   "source": [
    "patient_notes.head()"
   ]
  },
  {
   "cell_type": "code",
   "execution_count": 6,
   "metadata": {},
   "outputs": [
    {
     "data": {
      "text/html": [
       "<div>\n",
       "<style scoped>\n",
       "    .dataframe tbody tr th:only-of-type {\n",
       "        vertical-align: middle;\n",
       "    }\n",
       "\n",
       "    .dataframe tbody tr th {\n",
       "        vertical-align: top;\n",
       "    }\n",
       "\n",
       "    .dataframe thead th {\n",
       "        text-align: right;\n",
       "    }\n",
       "</style>\n",
       "<table border=\"1\" class=\"dataframe\">\n",
       "  <thead>\n",
       "    <tr style=\"text-align: right;\">\n",
       "      <th></th>\n",
       "      <th>id</th>\n",
       "      <th>case_num</th>\n",
       "      <th>pn_num</th>\n",
       "      <th>feature_num</th>\n",
       "      <th>annotation</th>\n",
       "      <th>location</th>\n",
       "    </tr>\n",
       "  </thead>\n",
       "  <tbody>\n",
       "    <tr>\n",
       "      <th>0</th>\n",
       "      <td>00016_000</td>\n",
       "      <td>0</td>\n",
       "      <td>16</td>\n",
       "      <td>0</td>\n",
       "      <td>['dad with recent heart attcak']</td>\n",
       "      <td>['696 724']</td>\n",
       "    </tr>\n",
       "    <tr>\n",
       "      <th>1</th>\n",
       "      <td>00016_001</td>\n",
       "      <td>0</td>\n",
       "      <td>16</td>\n",
       "      <td>1</td>\n",
       "      <td>['mom with \"thyroid disease']</td>\n",
       "      <td>['668 693']</td>\n",
       "    </tr>\n",
       "    <tr>\n",
       "      <th>2</th>\n",
       "      <td>00016_002</td>\n",
       "      <td>0</td>\n",
       "      <td>16</td>\n",
       "      <td>2</td>\n",
       "      <td>['chest pressure']</td>\n",
       "      <td>['203 217']</td>\n",
       "    </tr>\n",
       "    <tr>\n",
       "      <th>3</th>\n",
       "      <td>00016_003</td>\n",
       "      <td>0</td>\n",
       "      <td>16</td>\n",
       "      <td>3</td>\n",
       "      <td>['intermittent episodes', 'episode']</td>\n",
       "      <td>['70 91', '176 183']</td>\n",
       "    </tr>\n",
       "    <tr>\n",
       "      <th>4</th>\n",
       "      <td>00016_004</td>\n",
       "      <td>0</td>\n",
       "      <td>16</td>\n",
       "      <td>4</td>\n",
       "      <td>['felt as if he were going to pass out']</td>\n",
       "      <td>['222 258']</td>\n",
       "    </tr>\n",
       "  </tbody>\n",
       "</table>\n",
       "</div>"
      ],
      "text/plain": [
       "          id  case_num  pn_num  feature_num  \\\n",
       "0  00016_000         0      16            0   \n",
       "1  00016_001         0      16            1   \n",
       "2  00016_002         0      16            2   \n",
       "3  00016_003         0      16            3   \n",
       "4  00016_004         0      16            4   \n",
       "\n",
       "                                 annotation              location  \n",
       "0          ['dad with recent heart attcak']           ['696 724']  \n",
       "1             ['mom with \"thyroid disease']           ['668 693']  \n",
       "2                        ['chest pressure']           ['203 217']  \n",
       "3      ['intermittent episodes', 'episode']  ['70 91', '176 183']  \n",
       "4  ['felt as if he were going to pass out']           ['222 258']  "
      ]
     },
     "execution_count": 6,
     "metadata": {},
     "output_type": "execute_result"
    }
   ],
   "source": [
    "train_data.head()"
   ]
  },
  {
   "cell_type": "code",
   "execution_count": 7,
   "metadata": {},
   "outputs": [
    {
     "data": {
      "text/plain": [
       "array([  16,   41,   46,   82,  100,  161,  188,  211,  224,  225,  234,\n",
       "        331,  344,  352,  372,  390,  426,  464,  489,  495,  510,  575,\n",
       "        583,  585,  625,  653,  669,  673,  699,  701,  719,  768,  769,\n",
       "        777,  796,  804,  810,  816,  817,  821,  831,  861,  883,  970,\n",
       "        977,  987, 1010, 1110, 1115, 1133, 1146, 1149, 1151, 1165, 1173,\n",
       "       1186, 1200, 1209, 1235, 1250, 1264, 1270, 1281, 1318, 1376, 1512,\n",
       "       1547, 1581, 1587, 1613, 1622, 1652, 1692, 1694, 1699, 1723, 1742,\n",
       "       1809, 1835, 1847, 1855, 1881, 1939, 1948, 2078, 2151, 2163, 2184,\n",
       "       2198, 2201, 2223, 2271, 2285, 2290, 2308, 2315, 2425, 2428, 2430,\n",
       "       2436], dtype=int64)"
      ]
     },
     "execution_count": 7,
     "metadata": {},
     "output_type": "execute_result"
    }
   ],
   "source": [
    "train_data[(train_data.case_num == 0)].pn_num.unique()"
   ]
  },
  {
   "cell_type": "code",
   "execution_count": 15,
   "metadata": {},
   "outputs": [
    {
     "data": {
      "text/html": [
       "<div>\n",
       "<style scoped>\n",
       "    .dataframe tbody tr th:only-of-type {\n",
       "        vertical-align: middle;\n",
       "    }\n",
       "\n",
       "    .dataframe tbody tr th {\n",
       "        vertical-align: top;\n",
       "    }\n",
       "\n",
       "    .dataframe thead th {\n",
       "        text-align: right;\n",
       "    }\n",
       "</style>\n",
       "<table border=\"1\" class=\"dataframe\">\n",
       "  <thead>\n",
       "    <tr style=\"text-align: right;\">\n",
       "      <th></th>\n",
       "      <th>id</th>\n",
       "      <th>case_num</th>\n",
       "      <th>pn_num</th>\n",
       "      <th>feature_num</th>\n",
       "      <th>annotation</th>\n",
       "      <th>location</th>\n",
       "    </tr>\n",
       "  </thead>\n",
       "  <tbody>\n",
       "    <tr>\n",
       "      <th>1248</th>\n",
       "      <td>02425_000</td>\n",
       "      <td>0</td>\n",
       "      <td>2425</td>\n",
       "      <td>0</td>\n",
       "      <td>[]</td>\n",
       "      <td>[]</td>\n",
       "    </tr>\n",
       "    <tr>\n",
       "      <th>1249</th>\n",
       "      <td>02425_001</td>\n",
       "      <td>0</td>\n",
       "      <td>2425</td>\n",
       "      <td>1</td>\n",
       "      <td>['Mother hx of thyroid disease']</td>\n",
       "      <td>['594 622']</td>\n",
       "    </tr>\n",
       "    <tr>\n",
       "      <th>1250</th>\n",
       "      <td>02425_002</td>\n",
       "      <td>0</td>\n",
       "      <td>2425</td>\n",
       "      <td>2</td>\n",
       "      <td>[]</td>\n",
       "      <td>[]</td>\n",
       "    </tr>\n",
       "    <tr>\n",
       "      <th>1251</th>\n",
       "      <td>02425_003</td>\n",
       "      <td>0</td>\n",
       "      <td>2425</td>\n",
       "      <td>3</td>\n",
       "      <td>['5-7 episodes']</td>\n",
       "      <td>['64 76']</td>\n",
       "    </tr>\n",
       "    <tr>\n",
       "      <th>1252</th>\n",
       "      <td>02425_004</td>\n",
       "      <td>0</td>\n",
       "      <td>2425</td>\n",
       "      <td>4</td>\n",
       "      <td>[]</td>\n",
       "      <td>[]</td>\n",
       "    </tr>\n",
       "    <tr>\n",
       "      <th>1253</th>\n",
       "      <td>02425_005</td>\n",
       "      <td>0</td>\n",
       "      <td>2425</td>\n",
       "      <td>5</td>\n",
       "      <td>['no heat intolerance']</td>\n",
       "      <td>['380 399']</td>\n",
       "    </tr>\n",
       "    <tr>\n",
       "      <th>1254</th>\n",
       "      <td>02425_006</td>\n",
       "      <td>0</td>\n",
       "      <td>2425</td>\n",
       "      <td>6</td>\n",
       "      <td>[]</td>\n",
       "      <td>[]</td>\n",
       "    </tr>\n",
       "    <tr>\n",
       "      <th>1255</th>\n",
       "      <td>02425_007</td>\n",
       "      <td>0</td>\n",
       "      <td>2425</td>\n",
       "      <td>7</td>\n",
       "      <td>['SOB']</td>\n",
       "      <td>['330 333']</td>\n",
       "    </tr>\n",
       "    <tr>\n",
       "      <th>1256</th>\n",
       "      <td>02425_008</td>\n",
       "      <td>0</td>\n",
       "      <td>2425</td>\n",
       "      <td>8</td>\n",
       "      <td>[]</td>\n",
       "      <td>[]</td>\n",
       "    </tr>\n",
       "    <tr>\n",
       "      <th>1257</th>\n",
       "      <td>02425_009</td>\n",
       "      <td>0</td>\n",
       "      <td>2425</td>\n",
       "      <td>9</td>\n",
       "      <td>['palpitation']</td>\n",
       "      <td>['9 20']</td>\n",
       "    </tr>\n",
       "    <tr>\n",
       "      <th>1258</th>\n",
       "      <td>02425_010</td>\n",
       "      <td>0</td>\n",
       "      <td>2425</td>\n",
       "      <td>10</td>\n",
       "      <td>['Started 3 months ago']</td>\n",
       "      <td>['24 44']</td>\n",
       "    </tr>\n",
       "    <tr>\n",
       "      <th>1259</th>\n",
       "      <td>02425_011</td>\n",
       "      <td>0</td>\n",
       "      <td>2425</td>\n",
       "      <td>11</td>\n",
       "      <td>['17 yo']</td>\n",
       "      <td>['0 5']</td>\n",
       "    </tr>\n",
       "    <tr>\n",
       "      <th>1260</th>\n",
       "      <td>02425_012</td>\n",
       "      <td>0</td>\n",
       "      <td>2425</td>\n",
       "      <td>12</td>\n",
       "      <td>[]</td>\n",
       "      <td>[]</td>\n",
       "    </tr>\n",
       "  </tbody>\n",
       "</table>\n",
       "</div>"
      ],
      "text/plain": [
       "             id  case_num  pn_num  feature_num  \\\n",
       "1248  02425_000         0    2425            0   \n",
       "1249  02425_001         0    2425            1   \n",
       "1250  02425_002         0    2425            2   \n",
       "1251  02425_003         0    2425            3   \n",
       "1252  02425_004         0    2425            4   \n",
       "1253  02425_005         0    2425            5   \n",
       "1254  02425_006         0    2425            6   \n",
       "1255  02425_007         0    2425            7   \n",
       "1256  02425_008         0    2425            8   \n",
       "1257  02425_009         0    2425            9   \n",
       "1258  02425_010         0    2425           10   \n",
       "1259  02425_011         0    2425           11   \n",
       "1260  02425_012         0    2425           12   \n",
       "\n",
       "                            annotation     location  \n",
       "1248                                []           []  \n",
       "1249  ['Mother hx of thyroid disease']  ['594 622']  \n",
       "1250                                []           []  \n",
       "1251                  ['5-7 episodes']    ['64 76']  \n",
       "1252                                []           []  \n",
       "1253           ['no heat intolerance']  ['380 399']  \n",
       "1254                                []           []  \n",
       "1255                           ['SOB']  ['330 333']  \n",
       "1256                                []           []  \n",
       "1257                   ['palpitation']     ['9 20']  \n",
       "1258          ['Started 3 months ago']    ['24 44']  \n",
       "1259                         ['17 yo']      ['0 5']  \n",
       "1260                                []           []  "
      ]
     },
     "execution_count": 15,
     "metadata": {},
     "output_type": "execute_result"
    }
   ],
   "source": [
    "train_data[(train_data.case_num == 0)&(train_data.pn_num == 2425)]"
   ]
  },
  {
   "cell_type": "markdown",
   "metadata": {},
   "source": [
    "**test : 1146,188,831,2425,2430**"
   ]
  },
  {
   "cell_type": "code",
   "execution_count": 24,
   "metadata": {},
   "outputs": [],
   "source": [
    "new_train = train_data[(train_data.case_num == 0)&(train_data.pn_num != 1146)&(train_data.pn_num != 188)&(train_data.pn_num != 831)&(train_data.pn_num != 2425)&(train_data.pn_num != 2430)][['pn_num','annotation',\"location\",\"feature_num\"]]"
   ]
  },
  {
   "cell_type": "code",
   "execution_count": 26,
   "metadata": {},
   "outputs": [
    {
     "data": {
      "text/plain": [
       "array([  16,   41,   46,   82,  100,  161,  211,  224,  225,  234,  331,\n",
       "        344,  352,  372,  390,  426,  464,  489,  495,  510,  575,  583,\n",
       "        585,  625,  653,  669,  673,  699,  701,  719,  768,  769,  777,\n",
       "        796,  804,  810,  816,  817,  821,  861,  883,  970,  977,  987,\n",
       "       1010, 1110, 1115, 1133, 1149, 1151, 1165, 1173, 1186, 1200, 1209,\n",
       "       1235, 1250, 1264, 1270, 1281, 1318, 1376, 1512, 1547, 1581, 1587,\n",
       "       1613, 1622, 1652, 1692, 1694, 1699, 1723, 1742, 1809, 1835, 1847,\n",
       "       1855, 1881, 1939, 1948, 2078, 2151, 2163, 2184, 2198, 2201, 2223,\n",
       "       2271, 2285, 2290, 2308, 2315, 2428, 2436], dtype=int64)"
      ]
     },
     "execution_count": 26,
     "metadata": {},
     "output_type": "execute_result"
    }
   ],
   "source": [
    "new_train.pn_num.unique()"
   ]
  },
  {
   "cell_type": "code",
   "execution_count": 27,
   "metadata": {},
   "outputs": [
    {
     "data": {
      "text/html": [
       "<div>\n",
       "<style scoped>\n",
       "    .dataframe tbody tr th:only-of-type {\n",
       "        vertical-align: middle;\n",
       "    }\n",
       "\n",
       "    .dataframe tbody tr th {\n",
       "        vertical-align: top;\n",
       "    }\n",
       "\n",
       "    .dataframe thead th {\n",
       "        text-align: right;\n",
       "    }\n",
       "</style>\n",
       "<table border=\"1\" class=\"dataframe\">\n",
       "  <thead>\n",
       "    <tr style=\"text-align: right;\">\n",
       "      <th></th>\n",
       "      <th>pn_num</th>\n",
       "      <th>annotation</th>\n",
       "      <th>location</th>\n",
       "      <th>feature_num</th>\n",
       "    </tr>\n",
       "  </thead>\n",
       "  <tbody>\n",
       "    <tr>\n",
       "      <th>0</th>\n",
       "      <td>16</td>\n",
       "      <td>['dad with recent heart attcak']</td>\n",
       "      <td>['696 724']</td>\n",
       "      <td>0</td>\n",
       "    </tr>\n",
       "    <tr>\n",
       "      <th>1</th>\n",
       "      <td>16</td>\n",
       "      <td>['mom with \"thyroid disease']</td>\n",
       "      <td>['668 693']</td>\n",
       "      <td>1</td>\n",
       "    </tr>\n",
       "    <tr>\n",
       "      <th>2</th>\n",
       "      <td>16</td>\n",
       "      <td>['chest pressure']</td>\n",
       "      <td>['203 217']</td>\n",
       "      <td>2</td>\n",
       "    </tr>\n",
       "    <tr>\n",
       "      <th>3</th>\n",
       "      <td>16</td>\n",
       "      <td>['intermittent episodes', 'episode']</td>\n",
       "      <td>['70 91', '176 183']</td>\n",
       "      <td>3</td>\n",
       "    </tr>\n",
       "    <tr>\n",
       "      <th>4</th>\n",
       "      <td>16</td>\n",
       "      <td>['felt as if he were going to pass out']</td>\n",
       "      <td>['222 258']</td>\n",
       "      <td>4</td>\n",
       "    </tr>\n",
       "  </tbody>\n",
       "</table>\n",
       "</div>"
      ],
      "text/plain": [
       "   pn_num                                annotation              location  \\\n",
       "0      16          ['dad with recent heart attcak']           ['696 724']   \n",
       "1      16             ['mom with \"thyroid disease']           ['668 693']   \n",
       "2      16                        ['chest pressure']           ['203 217']   \n",
       "3      16      ['intermittent episodes', 'episode']  ['70 91', '176 183']   \n",
       "4      16  ['felt as if he were going to pass out']           ['222 258']   \n",
       "\n",
       "   feature_num  \n",
       "0            0  \n",
       "1            1  \n",
       "2            2  \n",
       "3            3  \n",
       "4            4  "
      ]
     },
     "execution_count": 27,
     "metadata": {},
     "output_type": "execute_result"
    }
   ],
   "source": [
    "new_train.head()"
   ]
  },
  {
   "cell_type": "code",
   "execution_count": 28,
   "metadata": {},
   "outputs": [
    {
     "data": {
      "text/plain": [
       "(1235, 4)"
      ]
     },
     "execution_count": 28,
     "metadata": {},
     "output_type": "execute_result"
    }
   ],
   "source": [
    "new_train.shape"
   ]
  },
  {
   "cell_type": "markdown",
   "metadata": {},
   "source": [
    "#### Removing all [ ] or null columns "
   ]
  },
  {
   "cell_type": "code",
   "execution_count": 29,
   "metadata": {},
   "outputs": [],
   "source": [
    "new_train = new_train[new_train.annotation != '[]']"
   ]
  },
  {
   "cell_type": "code",
   "execution_count": 30,
   "metadata": {},
   "outputs": [
    {
     "data": {
      "text/plain": [
       "(948, 4)"
      ]
     },
     "execution_count": 30,
     "metadata": {},
     "output_type": "execute_result"
    }
   ],
   "source": [
    "new_train.shape"
   ]
  },
  {
   "cell_type": "markdown",
   "metadata": {},
   "source": [
    "**Removing all [ & ] in strings**"
   ]
  },
  {
   "cell_type": "code",
   "execution_count": 42,
   "metadata": {},
   "outputs": [],
   "source": [
    "new_train[\"annotation\"] = new_train.annotation.str.replace('[','')\n",
    "new_train[\"annotation\"] = new_train.annotation.str.replace(']','')\n",
    "new_train[\"location\"] = new_train.location.str.replace('[','')\n",
    "new_train[\"location\"] = new_train.location.str.replace(']','')"
   ]
  },
  {
   "cell_type": "code",
   "execution_count": 32,
   "metadata": {
    "scrolled": true
   },
   "outputs": [
    {
     "data": {
      "text/html": [
       "<div>\n",
       "<style scoped>\n",
       "    .dataframe tbody tr th:only-of-type {\n",
       "        vertical-align: middle;\n",
       "    }\n",
       "\n",
       "    .dataframe tbody tr th {\n",
       "        vertical-align: top;\n",
       "    }\n",
       "\n",
       "    .dataframe thead th {\n",
       "        text-align: right;\n",
       "    }\n",
       "</style>\n",
       "<table border=\"1\" class=\"dataframe\">\n",
       "  <thead>\n",
       "    <tr style=\"text-align: right;\">\n",
       "      <th></th>\n",
       "      <th>pn_num</th>\n",
       "      <th>annotation</th>\n",
       "      <th>location</th>\n",
       "      <th>feature_num</th>\n",
       "    </tr>\n",
       "  </thead>\n",
       "  <tbody>\n",
       "    <tr>\n",
       "      <th>0</th>\n",
       "      <td>16</td>\n",
       "      <td>'dad with recent heart attcak'</td>\n",
       "      <td>'696 724'</td>\n",
       "      <td>0</td>\n",
       "    </tr>\n",
       "    <tr>\n",
       "      <th>1</th>\n",
       "      <td>16</td>\n",
       "      <td>'mom with \"thyroid disease'</td>\n",
       "      <td>'668 693'</td>\n",
       "      <td>1</td>\n",
       "    </tr>\n",
       "    <tr>\n",
       "      <th>2</th>\n",
       "      <td>16</td>\n",
       "      <td>'chest pressure'</td>\n",
       "      <td>'203 217'</td>\n",
       "      <td>2</td>\n",
       "    </tr>\n",
       "    <tr>\n",
       "      <th>3</th>\n",
       "      <td>16</td>\n",
       "      <td>'intermittent episodes', 'episode'</td>\n",
       "      <td>'70 91', '176 183'</td>\n",
       "      <td>3</td>\n",
       "    </tr>\n",
       "    <tr>\n",
       "      <th>4</th>\n",
       "      <td>16</td>\n",
       "      <td>'felt as if he were going to pass out'</td>\n",
       "      <td>'222 258'</td>\n",
       "      <td>4</td>\n",
       "    </tr>\n",
       "  </tbody>\n",
       "</table>\n",
       "</div>"
      ],
      "text/plain": [
       "   pn_num                              annotation            location  \\\n",
       "0      16          'dad with recent heart attcak'           '696 724'   \n",
       "1      16             'mom with \"thyroid disease'           '668 693'   \n",
       "2      16                        'chest pressure'           '203 217'   \n",
       "3      16      'intermittent episodes', 'episode'  '70 91', '176 183'   \n",
       "4      16  'felt as if he were going to pass out'           '222 258'   \n",
       "\n",
       "   feature_num  \n",
       "0            0  \n",
       "1            1  \n",
       "2            2  \n",
       "3            3  \n",
       "4            4  "
      ]
     },
     "execution_count": 32,
     "metadata": {},
     "output_type": "execute_result"
    }
   ],
   "source": [
    "new_train.head()"
   ]
  },
  {
   "cell_type": "code",
   "execution_count": null,
   "metadata": {},
   "outputs": [],
   "source": []
  },
  {
   "cell_type": "markdown",
   "metadata": {},
   "source": [
    "#### special row in which data was stored incorrectly need to correct it"
   ]
  },
  {
   "cell_type": "code",
   "execution_count": 40,
   "metadata": {},
   "outputs": [],
   "source": [
    "new_train.loc[new_train.location == \"'883 900'\",'annotation'] = \"'dad  heart attack'\""
   ]
  },
  {
   "cell_type": "code",
   "execution_count": 43,
   "metadata": {},
   "outputs": [
    {
     "data": {
      "text/plain": [
       "871    'dad  heart attack'\n",
       "Name: annotation, dtype: object"
      ]
     },
     "execution_count": 43,
     "metadata": {},
     "output_type": "execute_result"
    }
   ],
   "source": [
    "new_train[new_train.pn_num == 1581][0:1].annotation"
   ]
  },
  {
   "cell_type": "markdown",
   "metadata": {},
   "source": [
    "**splitting locations and annotations**"
   ]
  },
  {
   "cell_type": "code",
   "execution_count": 44,
   "metadata": {},
   "outputs": [],
   "source": [
    "new_train = (new_train.set_index(['pn_num',\"feature_num\"]) \n",
    "   .apply(lambda col: col.str.split(',').explode())\n",
    "   .reset_index()\n",
    "   .reindex(new_train.columns, axis=1))"
   ]
  },
  {
   "cell_type": "code",
   "execution_count": 45,
   "metadata": {},
   "outputs": [
    {
     "data": {
      "text/html": [
       "<div>\n",
       "<style scoped>\n",
       "    .dataframe tbody tr th:only-of-type {\n",
       "        vertical-align: middle;\n",
       "    }\n",
       "\n",
       "    .dataframe tbody tr th {\n",
       "        vertical-align: top;\n",
       "    }\n",
       "\n",
       "    .dataframe thead th {\n",
       "        text-align: right;\n",
       "    }\n",
       "</style>\n",
       "<table border=\"1\" class=\"dataframe\">\n",
       "  <thead>\n",
       "    <tr style=\"text-align: right;\">\n",
       "      <th></th>\n",
       "      <th>pn_num</th>\n",
       "      <th>annotation</th>\n",
       "      <th>location</th>\n",
       "      <th>feature_num</th>\n",
       "    </tr>\n",
       "  </thead>\n",
       "  <tbody>\n",
       "    <tr>\n",
       "      <th>1131</th>\n",
       "      <td>2436</td>\n",
       "      <td>'Father MI'</td>\n",
       "      <td>'915 924'</td>\n",
       "      <td>0</td>\n",
       "    </tr>\n",
       "    <tr>\n",
       "      <th>1132</th>\n",
       "      <td>2436</td>\n",
       "      <td>'father had a heart attack'</td>\n",
       "      <td>'545 570'</td>\n",
       "      <td>0</td>\n",
       "    </tr>\n",
       "    <tr>\n",
       "      <th>1133</th>\n",
       "      <td>2436</td>\n",
       "      <td>'Mother thyroid issues'</td>\n",
       "      <td>'893 914'</td>\n",
       "      <td>1</td>\n",
       "    </tr>\n",
       "    <tr>\n",
       "      <th>1134</th>\n",
       "      <td>2436</td>\n",
       "      <td>'adderal'</td>\n",
       "      <td>'603 610'</td>\n",
       "      <td>6</td>\n",
       "    </tr>\n",
       "    <tr>\n",
       "      <th>1135</th>\n",
       "      <td>2436</td>\n",
       "      <td>'shortness of breath'</td>\n",
       "      <td>'371 390'</td>\n",
       "      <td>7</td>\n",
       "    </tr>\n",
       "    <tr>\n",
       "      <th>1136</th>\n",
       "      <td>2436</td>\n",
       "      <td>'chest palpitations'</td>\n",
       "      <td>'71 89'</td>\n",
       "      <td>9</td>\n",
       "    </tr>\n",
       "    <tr>\n",
       "      <th>1137</th>\n",
       "      <td>2436</td>\n",
       "      <td>'chest palpitations'</td>\n",
       "      <td>'109 127'</td>\n",
       "      <td>9</td>\n",
       "    </tr>\n",
       "    <tr>\n",
       "      <th>1138</th>\n",
       "      <td>2436</td>\n",
       "      <td>'2-3 month'</td>\n",
       "      <td>'50 59'</td>\n",
       "      <td>10</td>\n",
       "    </tr>\n",
       "    <tr>\n",
       "      <th>1139</th>\n",
       "      <td>2436</td>\n",
       "      <td>'17 year old'</td>\n",
       "      <td>'26 37'</td>\n",
       "      <td>11</td>\n",
       "    </tr>\n",
       "    <tr>\n",
       "      <th>1140</th>\n",
       "      <td>2436</td>\n",
       "      <td>'male'</td>\n",
       "      <td>'38 42'</td>\n",
       "      <td>12</td>\n",
       "    </tr>\n",
       "  </tbody>\n",
       "</table>\n",
       "</div>"
      ],
      "text/plain": [
       "      pn_num                    annotation    location  feature_num\n",
       "1131    2436                   'Father MI'   '915 924'            0\n",
       "1132    2436   'father had a heart attack'   '545 570'            0\n",
       "1133    2436       'Mother thyroid issues'   '893 914'            1\n",
       "1134    2436                     'adderal'   '603 610'            6\n",
       "1135    2436         'shortness of breath'   '371 390'            7\n",
       "1136    2436          'chest palpitations'     '71 89'            9\n",
       "1137    2436          'chest palpitations'   '109 127'            9\n",
       "1138    2436                   '2-3 month'     '50 59'           10\n",
       "1139    2436                 '17 year old'     '26 37'           11\n",
       "1140    2436                        'male'     '38 42'           12"
      ]
     },
     "execution_count": 45,
     "metadata": {},
     "output_type": "execute_result"
    }
   ],
   "source": [
    "new_train.loc[new_train.pn_num == 2436]"
   ]
  },
  {
   "cell_type": "markdown",
   "metadata": {},
   "source": [
    "**Creating two new columns \"start location\" and \"end location\"**"
   ]
  },
  {
   "cell_type": "code",
   "execution_count": 46,
   "metadata": {},
   "outputs": [],
   "source": [
    "new_train[\"start_location\"] = new_train[\"location\"].apply(lambda x: x.split()[0][1:])\n",
    "new_train[\"end_location\"] = new_train[\"location\"].apply(lambda x: x.split()[-1][:-1])"
   ]
  },
  {
   "cell_type": "code",
   "execution_count": 47,
   "metadata": {},
   "outputs": [
    {
     "data": {
      "text/html": [
       "<div>\n",
       "<style scoped>\n",
       "    .dataframe tbody tr th:only-of-type {\n",
       "        vertical-align: middle;\n",
       "    }\n",
       "\n",
       "    .dataframe tbody tr th {\n",
       "        vertical-align: top;\n",
       "    }\n",
       "\n",
       "    .dataframe thead th {\n",
       "        text-align: right;\n",
       "    }\n",
       "</style>\n",
       "<table border=\"1\" class=\"dataframe\">\n",
       "  <thead>\n",
       "    <tr style=\"text-align: right;\">\n",
       "      <th></th>\n",
       "      <th>pn_num</th>\n",
       "      <th>annotation</th>\n",
       "      <th>location</th>\n",
       "      <th>feature_num</th>\n",
       "      <th>start_location</th>\n",
       "      <th>end_location</th>\n",
       "    </tr>\n",
       "  </thead>\n",
       "  <tbody>\n",
       "    <tr>\n",
       "      <th>0</th>\n",
       "      <td>16</td>\n",
       "      <td>'dad with recent heart attcak'</td>\n",
       "      <td>'696 724'</td>\n",
       "      <td>0</td>\n",
       "      <td>696</td>\n",
       "      <td>724</td>\n",
       "    </tr>\n",
       "    <tr>\n",
       "      <th>1</th>\n",
       "      <td>16</td>\n",
       "      <td>'mom with \"thyroid disease'</td>\n",
       "      <td>'668 693'</td>\n",
       "      <td>1</td>\n",
       "      <td>668</td>\n",
       "      <td>693</td>\n",
       "    </tr>\n",
       "    <tr>\n",
       "      <th>2</th>\n",
       "      <td>16</td>\n",
       "      <td>'chest pressure'</td>\n",
       "      <td>'203 217'</td>\n",
       "      <td>2</td>\n",
       "      <td>203</td>\n",
       "      <td>217</td>\n",
       "    </tr>\n",
       "    <tr>\n",
       "      <th>3</th>\n",
       "      <td>16</td>\n",
       "      <td>'intermittent episodes'</td>\n",
       "      <td>'70 91'</td>\n",
       "      <td>3</td>\n",
       "      <td>70</td>\n",
       "      <td>91</td>\n",
       "    </tr>\n",
       "    <tr>\n",
       "      <th>4</th>\n",
       "      <td>16</td>\n",
       "      <td>'episode'</td>\n",
       "      <td>'176 183'</td>\n",
       "      <td>3</td>\n",
       "      <td>176</td>\n",
       "      <td>183</td>\n",
       "    </tr>\n",
       "  </tbody>\n",
       "</table>\n",
       "</div>"
      ],
      "text/plain": [
       "   pn_num                      annotation    location  feature_num  \\\n",
       "0      16  'dad with recent heart attcak'   '696 724'            0   \n",
       "1      16     'mom with \"thyroid disease'   '668 693'            1   \n",
       "2      16                'chest pressure'   '203 217'            2   \n",
       "3      16         'intermittent episodes'     '70 91'            3   \n",
       "4      16                       'episode'   '176 183'            3   \n",
       "\n",
       "  start_location end_location  \n",
       "0            696          724  \n",
       "1            668          693  \n",
       "2            203          217  \n",
       "3             70           91  \n",
       "4            176          183  "
      ]
     },
     "execution_count": 47,
     "metadata": {},
     "output_type": "execute_result"
    }
   ],
   "source": [
    "new_train.head()"
   ]
  },
  {
   "cell_type": "code",
   "execution_count": null,
   "metadata": {},
   "outputs": [],
   "source": []
  },
  {
   "cell_type": "code",
   "execution_count": 139,
   "metadata": {},
   "outputs": [],
   "source": [
    "row_index = []\n",
    "start_location = []\n",
    "end_location = []\n",
    "pn_notes = set()\n",
    "for index,row in new_train.iterrows():   # Iterating every row in trainn data\n",
    "    if row[\"pn_num\"] not in pn_notes:    # Verifying whether there is a change in pn_num to reinitialize start and end location lists\n",
    "        start_location = []\n",
    "        end_location = []\n",
    "        pn_notes.add(row[\"pn_num\"])      # Appending pn_num\n",
    "        if (row[\"start_location\"] in start_location) | (row[\"end_location\"] in end_location):\n",
    "            row_index.append(index)\n",
    "        start_location.append(row[\"start_location\"])\n",
    "        end_location.append(row[\"end_location\"])\n",
    "    else: \n",
    "        if (row[\"start_location\"] in start_location) | (row[\"end_location\"] in end_location):\n",
    "            row_index.append(index)\n",
    "        start_location.append(row[\"start_location\"])\n",
    "        end_location.append(row[\"end_location\"])"
   ]
  },
  {
   "cell_type": "code",
   "execution_count": 140,
   "metadata": {},
   "outputs": [
    {
     "name": "stdout",
     "output_type": "stream",
     "text": [
      "[46, 74, 85, 105, 148, 162, 234, 237, 253, 294, 300, 315, 338, 500, 524, 578, 653, 696, 798, 824, 871, 873, 911, 1033, 1081, 1082]\n"
     ]
    }
   ],
   "source": [
    "print(row_index)"
   ]
  },
  {
   "cell_type": "markdown",
   "metadata": {},
   "source": [
    "#### The features in these row indexes have repeated start or end locations, so one of the repeated rows should be eliminated to fix this problem as this will be a issue while training spacy NER model\n"
   ]
  },
  {
   "cell_type": "code",
   "execution_count": 84,
   "metadata": {},
   "outputs": [
    {
     "data": {
      "text/html": [
       "<div>\n",
       "<style scoped>\n",
       "    .dataframe tbody tr th:only-of-type {\n",
       "        vertical-align: middle;\n",
       "    }\n",
       "\n",
       "    .dataframe tbody tr th {\n",
       "        vertical-align: top;\n",
       "    }\n",
       "\n",
       "    .dataframe thead th {\n",
       "        text-align: right;\n",
       "    }\n",
       "</style>\n",
       "<table border=\"1\" class=\"dataframe\">\n",
       "  <thead>\n",
       "    <tr style=\"text-align: right;\">\n",
       "      <th></th>\n",
       "      <th>pn_num</th>\n",
       "      <th>annotation</th>\n",
       "      <th>location</th>\n",
       "      <th>feature_num</th>\n",
       "      <th>start_location</th>\n",
       "      <th>end_location</th>\n",
       "    </tr>\n",
       "  </thead>\n",
       "  <tbody>\n",
       "    <tr>\n",
       "      <th>45</th>\n",
       "      <td>82</td>\n",
       "      <td>'heart racing'</td>\n",
       "      <td>'126 138'</td>\n",
       "      <td>9</td>\n",
       "      <td>126</td>\n",
       "      <td>138</td>\n",
       "    </tr>\n",
       "    <tr>\n",
       "      <th>46</th>\n",
       "      <td>82</td>\n",
       "      <td>'heart pounding'</td>\n",
       "      <td>'126 131;143 151'</td>\n",
       "      <td>9</td>\n",
       "      <td>126</td>\n",
       "      <td>151</td>\n",
       "    </tr>\n",
       "  </tbody>\n",
       "</table>\n",
       "</div>"
      ],
      "text/plain": [
       "    pn_num         annotation            location  feature_num start_location  \\\n",
       "45      82     'heart racing'           '126 138'            9            126   \n",
       "46      82   'heart pounding'   '126 131;143 151'            9            126   \n",
       "\n",
       "   end_location  \n",
       "45          138  \n",
       "46          151  "
      ]
     },
     "execution_count": 84,
     "metadata": {},
     "output_type": "execute_result"
    }
   ],
   "source": [
    "new_train.iloc[45:47,]   # 45"
   ]
  },
  {
   "cell_type": "code",
   "execution_count": 88,
   "metadata": {},
   "outputs": [
    {
     "data": {
      "text/plain": [
       "'heart racing and pounding'"
      ]
     },
     "execution_count": 88,
     "metadata": {},
     "output_type": "execute_result"
    }
   ],
   "source": [
    "np.array(patient_notes.pn_history[patient_notes.pn_num == 82])[0][126:151]"
   ]
  },
  {
   "cell_type": "code",
   "execution_count": 89,
   "metadata": {},
   "outputs": [
    {
     "data": {
      "text/html": [
       "<div>\n",
       "<style scoped>\n",
       "    .dataframe tbody tr th:only-of-type {\n",
       "        vertical-align: middle;\n",
       "    }\n",
       "\n",
       "    .dataframe tbody tr th {\n",
       "        vertical-align: top;\n",
       "    }\n",
       "\n",
       "    .dataframe thead th {\n",
       "        text-align: right;\n",
       "    }\n",
       "</style>\n",
       "<table border=\"1\" class=\"dataframe\">\n",
       "  <thead>\n",
       "    <tr style=\"text-align: right;\">\n",
       "      <th></th>\n",
       "      <th>pn_num</th>\n",
       "      <th>annotation</th>\n",
       "      <th>location</th>\n",
       "      <th>feature_num</th>\n",
       "      <th>start_location</th>\n",
       "      <th>end_location</th>\n",
       "    </tr>\n",
       "  </thead>\n",
       "  <tbody>\n",
       "    <tr>\n",
       "      <th>73</th>\n",
       "      <td>211</td>\n",
       "      <td>'thyroid problem'</td>\n",
       "      <td>'665 680'</td>\n",
       "      <td>1</td>\n",
       "      <td>665</td>\n",
       "      <td>680</td>\n",
       "    </tr>\n",
       "    <tr>\n",
       "      <th>74</th>\n",
       "      <td>211</td>\n",
       "      <td>'Mother has a thyroid problem'</td>\n",
       "      <td>'652 680'</td>\n",
       "      <td>1</td>\n",
       "      <td>652</td>\n",
       "      <td>680</td>\n",
       "    </tr>\n",
       "  </tbody>\n",
       "</table>\n",
       "</div>"
      ],
      "text/plain": [
       "    pn_num                       annotation    location  feature_num  \\\n",
       "73     211                'thyroid problem'   '665 680'            1   \n",
       "74     211   'Mother has a thyroid problem'   '652 680'            1   \n",
       "\n",
       "   start_location end_location  \n",
       "73            665          680  \n",
       "74            652          680  "
      ]
     },
     "execution_count": 89,
     "metadata": {},
     "output_type": "execute_result"
    }
   ],
   "source": [
    "new_train.iloc[73:75,]   #73"
   ]
  },
  {
   "cell_type": "code",
   "execution_count": 90,
   "metadata": {},
   "outputs": [
    {
     "data": {
      "text/html": [
       "<div>\n",
       "<style scoped>\n",
       "    .dataframe tbody tr th:only-of-type {\n",
       "        vertical-align: middle;\n",
       "    }\n",
       "\n",
       "    .dataframe tbody tr th {\n",
       "        vertical-align: top;\n",
       "    }\n",
       "\n",
       "    .dataframe thead th {\n",
       "        text-align: right;\n",
       "    }\n",
       "</style>\n",
       "<table border=\"1\" class=\"dataframe\">\n",
       "  <thead>\n",
       "    <tr style=\"text-align: right;\">\n",
       "      <th></th>\n",
       "      <th>pn_num</th>\n",
       "      <th>annotation</th>\n",
       "      <th>location</th>\n",
       "      <th>feature_num</th>\n",
       "      <th>start_location</th>\n",
       "      <th>end_location</th>\n",
       "    </tr>\n",
       "  </thead>\n",
       "  <tbody>\n",
       "    <tr>\n",
       "      <th>84</th>\n",
       "      <td>211</td>\n",
       "      <td>'heart is pounding'</td>\n",
       "      <td>'161 178'</td>\n",
       "      <td>9</td>\n",
       "      <td>161</td>\n",
       "      <td>178</td>\n",
       "    </tr>\n",
       "    <tr>\n",
       "      <th>85</th>\n",
       "      <td>211</td>\n",
       "      <td>'heart is fast'</td>\n",
       "      <td>'161 169;179 183'</td>\n",
       "      <td>9</td>\n",
       "      <td>161</td>\n",
       "      <td>183</td>\n",
       "    </tr>\n",
       "  </tbody>\n",
       "</table>\n",
       "</div>"
      ],
      "text/plain": [
       "    pn_num            annotation            location  feature_num  \\\n",
       "84     211   'heart is pounding'           '161 178'            9   \n",
       "85     211       'heart is fast'   '161 169;179 183'            9   \n",
       "\n",
       "   start_location end_location  \n",
       "84            161          178  \n",
       "85            161          183  "
      ]
     },
     "execution_count": 90,
     "metadata": {},
     "output_type": "execute_result"
    }
   ],
   "source": [
    "new_train.iloc[84:86,] # 84"
   ]
  },
  {
   "cell_type": "code",
   "execution_count": 91,
   "metadata": {},
   "outputs": [
    {
     "data": {
      "text/plain": [
       "'heart is pounding fast'"
      ]
     },
     "execution_count": 91,
     "metadata": {},
     "output_type": "execute_result"
    }
   ],
   "source": [
    "np.array(patient_notes.pn_history[patient_notes.pn_num == 211])[0][161:183]"
   ]
  },
  {
   "cell_type": "code",
   "execution_count": 92,
   "metadata": {},
   "outputs": [
    {
     "data": {
      "text/html": [
       "<div>\n",
       "<style scoped>\n",
       "    .dataframe tbody tr th:only-of-type {\n",
       "        vertical-align: middle;\n",
       "    }\n",
       "\n",
       "    .dataframe tbody tr th {\n",
       "        vertical-align: top;\n",
       "    }\n",
       "\n",
       "    .dataframe thead th {\n",
       "        text-align: right;\n",
       "    }\n",
       "</style>\n",
       "<table border=\"1\" class=\"dataframe\">\n",
       "  <thead>\n",
       "    <tr style=\"text-align: right;\">\n",
       "      <th></th>\n",
       "      <th>pn_num</th>\n",
       "      <th>annotation</th>\n",
       "      <th>location</th>\n",
       "      <th>feature_num</th>\n",
       "      <th>start_location</th>\n",
       "      <th>end_location</th>\n",
       "    </tr>\n",
       "  </thead>\n",
       "  <tbody>\n",
       "    <tr>\n",
       "      <th>104</th>\n",
       "      <td>225</td>\n",
       "      <td>'drinks coffee'</td>\n",
       "      <td>'461 467;483 489'</td>\n",
       "      <td>8</td>\n",
       "      <td>461</td>\n",
       "      <td>489</td>\n",
       "    </tr>\n",
       "    <tr>\n",
       "      <th>105</th>\n",
       "      <td>225</td>\n",
       "      <td>'drinks energy drinks'</td>\n",
       "      <td>'461 467;506 519'</td>\n",
       "      <td>8</td>\n",
       "      <td>461</td>\n",
       "      <td>519</td>\n",
       "    </tr>\n",
       "  </tbody>\n",
       "</table>\n",
       "</div>"
      ],
      "text/plain": [
       "     pn_num               annotation            location  feature_num  \\\n",
       "104     225          'drinks coffee'   '461 467;483 489'            8   \n",
       "105     225   'drinks energy drinks'   '461 467;506 519'            8   \n",
       "\n",
       "    start_location end_location  \n",
       "104            461          489  \n",
       "105            461          519  "
      ]
     },
     "execution_count": 92,
     "metadata": {},
     "output_type": "execute_result"
    }
   ],
   "source": [
    "new_train.iloc[104:106,] # 104"
   ]
  },
  {
   "cell_type": "code",
   "execution_count": 93,
   "metadata": {},
   "outputs": [
    {
     "data": {
      "text/plain": [
       "'drinks about 3-4 cups coffee/day and several energy drinks'"
      ]
     },
     "execution_count": 93,
     "metadata": {},
     "output_type": "execute_result"
    }
   ],
   "source": [
    "np.array(patient_notes.pn_history[patient_notes.pn_num == 225])[0][461:519]"
   ]
  },
  {
   "cell_type": "code",
   "execution_count": 130,
   "metadata": {},
   "outputs": [
    {
     "data": {
      "text/html": [
       "<div>\n",
       "<style scoped>\n",
       "    .dataframe tbody tr th:only-of-type {\n",
       "        vertical-align: middle;\n",
       "    }\n",
       "\n",
       "    .dataframe tbody tr th {\n",
       "        vertical-align: top;\n",
       "    }\n",
       "\n",
       "    .dataframe thead th {\n",
       "        text-align: right;\n",
       "    }\n",
       "</style>\n",
       "<table border=\"1\" class=\"dataframe\">\n",
       "  <thead>\n",
       "    <tr style=\"text-align: right;\">\n",
       "      <th></th>\n",
       "      <th>pn_num</th>\n",
       "      <th>annotation</th>\n",
       "      <th>location</th>\n",
       "      <th>feature_num</th>\n",
       "      <th>start_location</th>\n",
       "      <th>end_location</th>\n",
       "    </tr>\n",
       "  </thead>\n",
       "  <tbody>\n",
       "    <tr>\n",
       "      <th>293</th>\n",
       "      <td>653</td>\n",
       "      <td>'denies heat/cold intolerance'</td>\n",
       "      <td>'258 264;335 356'</td>\n",
       "      <td>5</td>\n",
       "      <td>258</td>\n",
       "      <td>356</td>\n",
       "    </tr>\n",
       "    <tr>\n",
       "      <th>294</th>\n",
       "      <td>653</td>\n",
       "      <td>'denies hair loss'</td>\n",
       "      <td>'258 264;358 367'</td>\n",
       "      <td>5</td>\n",
       "      <td>258</td>\n",
       "      <td>367</td>\n",
       "    </tr>\n",
       "  </tbody>\n",
       "</table>\n",
       "</div>"
      ],
      "text/plain": [
       "     pn_num                      annotation            location  feature_num  \\\n",
       "293     653  'denies heat/cold intolerance'   '258 264;335 356'            5   \n",
       "294     653              'denies hair loss'   '258 264;358 367'            5   \n",
       "\n",
       "    start_location end_location  \n",
       "293            258          356  \n",
       "294            258          367  "
      ]
     },
     "execution_count": 130,
     "metadata": {},
     "output_type": "execute_result"
    }
   ],
   "source": [
    "new_train.iloc[293:295,] # 104"
   ]
  },
  {
   "cell_type": "markdown",
   "metadata": {},
   "source": [
    "#### Code to identify the drop indexes by comparing the start and end locations of the similar locations"
   ]
  },
  {
   "cell_type": "code",
   "execution_count": 135,
   "metadata": {},
   "outputs": [],
   "source": [
    "row_index = []\n",
    "start_location = []\n",
    "end_location = []\n",
    "pn_notes = set()\n",
    "drop_index = []\n",
    "for index,row in new_train.iterrows():   # Iterating every row in trainn data\n",
    "    if row[\"pn_num\"] not in pn_notes:    # Verifying whether there is a change in pn_num to reinitialize start and end location lists\n",
    "        start_location = []\n",
    "        end_location = []\n",
    "        pn_notes.add(row[\"pn_num\"])      # Appending pn_num\n",
    "        if (row[\"start_location\"] in start_location) | (row[\"end_location\"] in end_location):\n",
    "            row_index.append(index)\n",
    "        start_location.append(row[\"start_location\"])\n",
    "        end_location.append(row[\"end_location\"])\n",
    "    else: \n",
    "        if (row[\"start_location\"] in start_location) | (row[\"end_location\"] in end_location):\n",
    "            row_index.append(index)\n",
    "            if row[\"start_location\"] in start_location:\n",
    "                if row[\"end_location\"] >= new_train.iloc[index -1,5]:\n",
    "                    drop_index.append(index -1)\n",
    "                else:\n",
    "                    drop_index.append(index)\n",
    "            elif row[\"end_location\"] in end_location:\n",
    "                if row[\"start_location\"] <= new_train.iloc[index -1,4]:\n",
    "                    drop_index.append(index - 1)\n",
    "                else:\n",
    "                    drop_index.append(index)\n",
    "        start_location.append(row[\"start_location\"])\n",
    "        end_location.append(row[\"end_location\"])"
   ]
  },
  {
   "cell_type": "code",
   "execution_count": 137,
   "metadata": {},
   "outputs": [
    {
     "data": {
      "text/plain": [
       "26"
      ]
     },
     "execution_count": 137,
     "metadata": {},
     "output_type": "execute_result"
    }
   ],
   "source": [
    "len(drop_index)"
   ]
  },
  {
   "cell_type": "code",
   "execution_count": 141,
   "metadata": {},
   "outputs": [
    {
     "name": "stdout",
     "output_type": "stream",
     "text": [
      "[45, 73, 84, 104, 148, 161, 233, 236, 252, 293, 299, 314, 337, 499, 523, 577, 652, 695, 797, 823, 870, 873, 910, 1033, 1080, 1081]\n"
     ]
    }
   ],
   "source": [
    "print(drop_index)"
   ]
  },
  {
   "cell_type": "markdown",
   "metadata": {},
   "source": [
    "#### Dropping the unwanted indexes"
   ]
  },
  {
   "cell_type": "code",
   "execution_count": 142,
   "metadata": {},
   "outputs": [],
   "source": [
    "new_train = new_train.drop(drop_index,axis=0)"
   ]
  },
  {
   "cell_type": "code",
   "execution_count": 176,
   "metadata": {},
   "outputs": [
    {
     "data": {
      "text/html": [
       "<div>\n",
       "<style scoped>\n",
       "    .dataframe tbody tr th:only-of-type {\n",
       "        vertical-align: middle;\n",
       "    }\n",
       "\n",
       "    .dataframe tbody tr th {\n",
       "        vertical-align: top;\n",
       "    }\n",
       "\n",
       "    .dataframe thead th {\n",
       "        text-align: right;\n",
       "    }\n",
       "</style>\n",
       "<table border=\"1\" class=\"dataframe\">\n",
       "  <thead>\n",
       "    <tr style=\"text-align: right;\">\n",
       "      <th></th>\n",
       "      <th>pn_num</th>\n",
       "      <th>annotation</th>\n",
       "      <th>location</th>\n",
       "      <th>feature_num</th>\n",
       "      <th>start_location</th>\n",
       "      <th>end_location</th>\n",
       "    </tr>\n",
       "  </thead>\n",
       "  <tbody>\n",
       "    <tr>\n",
       "      <th>931</th>\n",
       "      <td>1847</td>\n",
       "      <td>'drinks coffee'</td>\n",
       "      <td>'114 120;135 141'</td>\n",
       "      <td>8</td>\n",
       "      <td>114</td>\n",
       "      <td>141</td>\n",
       "    </tr>\n",
       "    <tr>\n",
       "      <th>941</th>\n",
       "      <td>1855</td>\n",
       "      <td>'episode'</td>\n",
       "      <td>'134 141'</td>\n",
       "      <td>3</td>\n",
       "      <td>134</td>\n",
       "      <td>141</td>\n",
       "    </tr>\n",
       "    <tr>\n",
       "      <th>1077</th>\n",
       "      <td>2285</td>\n",
       "      <td>'5-6 times in the past 3 months'</td>\n",
       "      <td>'111 141'</td>\n",
       "      <td>3</td>\n",
       "      <td>111</td>\n",
       "      <td>141</td>\n",
       "    </tr>\n",
       "    <tr>\n",
       "      <th>1082</th>\n",
       "      <td>2285</td>\n",
       "      <td>'past 3 months'</td>\n",
       "      <td>'128 141'</td>\n",
       "      <td>10</td>\n",
       "      <td>128</td>\n",
       "      <td>141</td>\n",
       "    </tr>\n",
       "  </tbody>\n",
       "</table>\n",
       "</div>"
      ],
      "text/plain": [
       "      pn_num                         annotation           location  \\\n",
       "931     1847                    'drinks coffee'  '114 120;135 141'   \n",
       "941     1855                          'episode'          '134 141'   \n",
       "1077    2285   '5-6 times in the past 3 months'          '111 141'   \n",
       "1082    2285                    'past 3 months'          '128 141'   \n",
       "\n",
       "      feature_num start_location end_location  \n",
       "931             8            114          141  \n",
       "941             3            134          141  \n",
       "1077            3            111          141  \n",
       "1082           10            128          141  "
      ]
     },
     "execution_count": 176,
     "metadata": {},
     "output_type": "execute_result"
    }
   ],
   "source": [
    "new_train.loc[(new_train.end_location == '141')]"
   ]
  },
  {
   "cell_type": "code",
   "execution_count": 177,
   "metadata": {},
   "outputs": [],
   "source": [
    "new_train = new_train.drop(1077,axis = 0)"
   ]
  },
  {
   "cell_type": "code",
   "execution_count": 179,
   "metadata": {},
   "outputs": [
    {
     "data": {
      "text/html": [
       "<div>\n",
       "<style scoped>\n",
       "    .dataframe tbody tr th:only-of-type {\n",
       "        vertical-align: middle;\n",
       "    }\n",
       "\n",
       "    .dataframe tbody tr th {\n",
       "        vertical-align: top;\n",
       "    }\n",
       "\n",
       "    .dataframe thead th {\n",
       "        text-align: right;\n",
       "    }\n",
       "</style>\n",
       "<table border=\"1\" class=\"dataframe\">\n",
       "  <thead>\n",
       "    <tr style=\"text-align: right;\">\n",
       "      <th></th>\n",
       "      <th>pn_num</th>\n",
       "      <th>annotation</th>\n",
       "      <th>location</th>\n",
       "      <th>feature_num</th>\n",
       "      <th>start_location</th>\n",
       "      <th>end_location</th>\n",
       "    </tr>\n",
       "  </thead>\n",
       "  <tbody>\n",
       "    <tr>\n",
       "      <th>931</th>\n",
       "      <td>1847</td>\n",
       "      <td>'drinks coffee'</td>\n",
       "      <td>'114 120;135 141'</td>\n",
       "      <td>8</td>\n",
       "      <td>114</td>\n",
       "      <td>141</td>\n",
       "    </tr>\n",
       "    <tr>\n",
       "      <th>941</th>\n",
       "      <td>1855</td>\n",
       "      <td>'episode'</td>\n",
       "      <td>'134 141'</td>\n",
       "      <td>3</td>\n",
       "      <td>134</td>\n",
       "      <td>141</td>\n",
       "    </tr>\n",
       "    <tr>\n",
       "      <th>1082</th>\n",
       "      <td>2285</td>\n",
       "      <td>'past 3 months'</td>\n",
       "      <td>'128 141'</td>\n",
       "      <td>10</td>\n",
       "      <td>128</td>\n",
       "      <td>141</td>\n",
       "    </tr>\n",
       "  </tbody>\n",
       "</table>\n",
       "</div>"
      ],
      "text/plain": [
       "      pn_num       annotation           location  feature_num start_location  \\\n",
       "931     1847  'drinks coffee'  '114 120;135 141'            8            114   \n",
       "941     1855        'episode'          '134 141'            3            134   \n",
       "1082    2285  'past 3 months'          '128 141'           10            128   \n",
       "\n",
       "     end_location  \n",
       "931           141  \n",
       "941           141  \n",
       "1082          141  "
      ]
     },
     "execution_count": 179,
     "metadata": {},
     "output_type": "execute_result"
    }
   ],
   "source": [
    "new_train.loc[(new_train.end_location == '141')]"
   ]
  },
  {
   "cell_type": "code",
   "execution_count": 201,
   "metadata": {},
   "outputs": [
    {
     "data": {
      "text/html": [
       "<div>\n",
       "<style scoped>\n",
       "    .dataframe tbody tr th:only-of-type {\n",
       "        vertical-align: middle;\n",
       "    }\n",
       "\n",
       "    .dataframe tbody tr th {\n",
       "        vertical-align: top;\n",
       "    }\n",
       "\n",
       "    .dataframe thead th {\n",
       "        text-align: right;\n",
       "    }\n",
       "</style>\n",
       "<table border=\"1\" class=\"dataframe\">\n",
       "  <thead>\n",
       "    <tr style=\"text-align: right;\">\n",
       "      <th></th>\n",
       "      <th>pn_num</th>\n",
       "      <th>annotation</th>\n",
       "      <th>location</th>\n",
       "      <th>feature_num</th>\n",
       "      <th>start_location</th>\n",
       "      <th>end_location</th>\n",
       "    </tr>\n",
       "  </thead>\n",
       "  <tbody>\n",
       "    <tr>\n",
       "      <th>1120</th>\n",
       "      <td>2428</td>\n",
       "      <td>'father heart attack'</td>\n",
       "      <td>'589 595;606 618'</td>\n",
       "      <td>0</td>\n",
       "      <td>589</td>\n",
       "      <td>618</td>\n",
       "    </tr>\n",
       "    <tr>\n",
       "      <th>1121</th>\n",
       "      <td>2428</td>\n",
       "      <td>'mother hyroid problem'</td>\n",
       "      <td>'551 557;566 580'</td>\n",
       "      <td>1</td>\n",
       "      <td>551</td>\n",
       "      <td>580</td>\n",
       "    </tr>\n",
       "    <tr>\n",
       "      <th>1122</th>\n",
       "      <td>2428</td>\n",
       "      <td>'chest pressure'</td>\n",
       "      <td>'161 175'</td>\n",
       "      <td>2</td>\n",
       "      <td>161</td>\n",
       "      <td>175</td>\n",
       "    </tr>\n",
       "    <tr>\n",
       "      <th>1123</th>\n",
       "      <td>2428</td>\n",
       "      <td>'felt ike he was going to \"pass out\"'</td>\n",
       "      <td>'131 135;182 212'</td>\n",
       "      <td>4</td>\n",
       "      <td>131</td>\n",
       "      <td>212</td>\n",
       "    </tr>\n",
       "    <tr>\n",
       "      <th>1124</th>\n",
       "      <td>2428</td>\n",
       "      <td>'denies sweating'</td>\n",
       "      <td>'217 223;224 232'</td>\n",
       "      <td>5</td>\n",
       "      <td>217</td>\n",
       "      <td>232</td>\n",
       "    </tr>\n",
       "    <tr>\n",
       "      <th>1125</th>\n",
       "      <td>2428</td>\n",
       "      <td>'adderall'</td>\n",
       "      <td>'456 464'</td>\n",
       "      <td>6</td>\n",
       "      <td>456</td>\n",
       "      <td>464</td>\n",
       "    </tr>\n",
       "    <tr>\n",
       "      <th>1126</th>\n",
       "      <td>2428</td>\n",
       "      <td>'short of breath'</td>\n",
       "      <td>'136 151'</td>\n",
       "      <td>7</td>\n",
       "      <td>136</td>\n",
       "      <td>151</td>\n",
       "    </tr>\n",
       "    <tr>\n",
       "      <th>1127</th>\n",
       "      <td>2428</td>\n",
       "      <td>'palpitations'</td>\n",
       "      <td>'63 75'</td>\n",
       "      <td>9</td>\n",
       "      <td>63</td>\n",
       "      <td>75</td>\n",
       "    </tr>\n",
       "    <tr>\n",
       "      <th>1128</th>\n",
       "      <td>2428</td>\n",
       "      <td>'going on for a few months'</td>\n",
       "      <td>'328 353'</td>\n",
       "      <td>10</td>\n",
       "      <td>328</td>\n",
       "      <td>353</td>\n",
       "    </tr>\n",
       "    <tr>\n",
       "      <th>1129</th>\n",
       "      <td>2428</td>\n",
       "      <td>'17yo'</td>\n",
       "      <td>'22 26'</td>\n",
       "      <td>11</td>\n",
       "      <td>22</td>\n",
       "      <td>26</td>\n",
       "    </tr>\n",
       "    <tr>\n",
       "      <th>1130</th>\n",
       "      <td>2428</td>\n",
       "      <td>'male'</td>\n",
       "      <td>'27 31'</td>\n",
       "      <td>12</td>\n",
       "      <td>27</td>\n",
       "      <td>31</td>\n",
       "    </tr>\n",
       "  </tbody>\n",
       "</table>\n",
       "</div>"
      ],
      "text/plain": [
       "      pn_num                             annotation           location  \\\n",
       "1120    2428                  'father heart attack'  '589 595;606 618'   \n",
       "1121    2428                'mother hyroid problem'  '551 557;566 580'   \n",
       "1122    2428                       'chest pressure'          '161 175'   \n",
       "1123    2428  'felt ike he was going to \"pass out\"'  '131 135;182 212'   \n",
       "1124    2428                      'denies sweating'  '217 223;224 232'   \n",
       "1125    2428                             'adderall'          '456 464'   \n",
       "1126    2428                      'short of breath'          '136 151'   \n",
       "1127    2428                         'palpitations'            '63 75'   \n",
       "1128    2428            'going on for a few months'          '328 353'   \n",
       "1129    2428                                 '17yo'            '22 26'   \n",
       "1130    2428                                 'male'            '27 31'   \n",
       "\n",
       "      feature_num start_location end_location  \n",
       "1120            0            589          618  \n",
       "1121            1            551          580  \n",
       "1122            2            161          175  \n",
       "1123            4            131          212  \n",
       "1124            5            217          232  \n",
       "1125            6            456          464  \n",
       "1126            7            136          151  \n",
       "1127            9             63           75  \n",
       "1128           10            328          353  \n",
       "1129           11             22           26  \n",
       "1130           12             27           31  "
      ]
     },
     "execution_count": 201,
     "metadata": {},
     "output_type": "execute_result"
    }
   ],
   "source": [
    "new_train.loc[(new_train.pn_num == 2428)]"
   ]
  },
  {
   "cell_type": "code",
   "execution_count": 202,
   "metadata": {},
   "outputs": [],
   "source": [
    "new_train = new_train.drop(1123,axis = 0)"
   ]
  },
  {
   "cell_type": "code",
   "execution_count": null,
   "metadata": {},
   "outputs": [],
   "source": []
  },
  {
   "cell_type": "code",
   "execution_count": null,
   "metadata": {},
   "outputs": [],
   "source": []
  },
  {
   "cell_type": "code",
   "execution_count": null,
   "metadata": {},
   "outputs": [],
   "source": []
  },
  {
   "cell_type": "code",
   "execution_count": null,
   "metadata": {},
   "outputs": [],
   "source": []
  },
  {
   "cell_type": "markdown",
   "metadata": {},
   "source": [
    "**Finding unique patient numbers in the train dataset**"
   ]
  },
  {
   "cell_type": "code",
   "execution_count": 203,
   "metadata": {},
   "outputs": [],
   "source": [
    "pn_Num_list = list(new_train.pn_num.unique())"
   ]
  },
  {
   "cell_type": "code",
   "execution_count": 204,
   "metadata": {},
   "outputs": [
    {
     "name": "stdout",
     "output_type": "stream",
     "text": [
      "[16, 41, 46, 82, 100, 161, 211, 224, 225, 234, 331, 344, 352, 372, 390, 426, 464, 489, 495, 510, 575, 583, 585, 625, 653, 669, 673, 699, 701, 719, 768, 769, 777, 796, 804, 810, 816, 817, 821, 861, 883, 970, 977, 987, 1010, 1110, 1115, 1133, 1149, 1151, 1165, 1173, 1186, 1200, 1209, 1235, 1250, 1264, 1270, 1281, 1318, 1376, 1512, 1547, 1581, 1587, 1613, 1622, 1652, 1692, 1694, 1699, 1723, 1742, 1809, 1835, 1847, 1855, 1881, 1939, 1948, 2078, 2151, 2163, 2184, 2198, 2201, 2223, 2271, 2285, 2290, 2308, 2315, 2428, 2436]\n"
     ]
    }
   ],
   "source": [
    "print(pn_Num_list)"
   ]
  },
  {
   "cell_type": "code",
   "execution_count": null,
   "metadata": {},
   "outputs": [],
   "source": []
  },
  {
   "cell_type": "code",
   "execution_count": 205,
   "metadata": {},
   "outputs": [],
   "source": [
    "final_train = []   # appending all the individual rows\n",
    "for patient_number in pn_Num_list:  # for each unique patient number\n",
    "    entities = []  # saving individaual entities locations\n",
    "    for row_index,row in new_train[new_train.pn_num == patient_number].iterrows():  # for each unique patient number \n",
    "        \n",
    "        entities.append((int(row[\"start_location\"]),int(row[\"end_location\"]),\"Feature_\"+ str(row[\"feature_num\"]))) # store the locations in numeric format\n",
    "        \n",
    "    text = patient_notes[patient_notes.pn_num == patient_number][\"pn_history\"].values[0] # save the text for the unique patient number\n",
    "    \n",
    "    final_train.append((text,{\"entities\":entities}))  # for each unique pn_number append to final list"
   ]
  },
  {
   "cell_type": "code",
   "execution_count": null,
   "metadata": {},
   "outputs": [],
   "source": []
  },
  {
   "cell_type": "code",
   "execution_count": 207,
   "metadata": {},
   "outputs": [],
   "source": [
    "# Serializing json \n",
    "json_object = json.dumps(final_train, indent = 4)\n",
    "  \n",
    "# Writing to sample.json\n",
    "with open(\"sample_Week2.json\", \"w\") as outfile:\n",
    "    outfile.write(json_object)"
   ]
  },
  {
   "cell_type": "code",
   "execution_count": null,
   "metadata": {},
   "outputs": [],
   "source": []
  },
  {
   "cell_type": "code",
   "execution_count": 208,
   "metadata": {},
   "outputs": [],
   "source": [
    "import json\n",
    " \n",
    "# Opening JSON file\n",
    "f = open(\"sample_Week2.json\")\n",
    " \n",
    "# returns JSON object as\n",
    "# a dictionary\n",
    "data = json.load(f)"
   ]
  },
  {
   "cell_type": "code",
   "execution_count": null,
   "metadata": {},
   "outputs": [],
   "source": []
  },
  {
   "cell_type": "markdown",
   "metadata": {},
   "source": [
    "#### Deviding the data into train and validation"
   ]
  },
  {
   "cell_type": "code",
   "execution_count": 210,
   "metadata": {},
   "outputs": [
    {
     "data": {
      "text/plain": [
       "95"
      ]
     },
     "execution_count": 210,
     "metadata": {},
     "output_type": "execute_result"
    }
   ],
   "source": [
    "len(data)"
   ]
  },
  {
   "cell_type": "code",
   "execution_count": 211,
   "metadata": {},
   "outputs": [],
   "source": [
    "train = data[:75]\n",
    "validation = data[75:]"
   ]
  },
  {
   "cell_type": "code",
   "execution_count": 212,
   "metadata": {},
   "outputs": [
    {
     "data": {
      "text/plain": [
       "(75, 20)"
      ]
     },
     "execution_count": 212,
     "metadata": {},
     "output_type": "execute_result"
    }
   ],
   "source": [
    "len(train),len(validation)"
   ]
  },
  {
   "cell_type": "code",
   "execution_count": 213,
   "metadata": {},
   "outputs": [],
   "source": [
    "from spacy.tokens import DocBin\n",
    "import spacy\n",
    "import json\n",
    "from tqdm import tqdm\n",
    "import spacy\n",
    "from spacy.tokens import DocBin\n",
    "import random"
   ]
  },
  {
   "cell_type": "code",
   "execution_count": 214,
   "metadata": {},
   "outputs": [],
   "source": [
    "# converting the json file to spacy file in order to use it in training model\n",
    "\n",
    "nlp = spacy.blank(\"en\")\n",
    "def create_training(TRAIN_DATA):\n",
    "    db = DocBin()\n",
    "    for text, annot in tqdm(TRAIN_DATA):\n",
    "        doc = nlp.make_doc(text)\n",
    "        ents = []\n",
    "        for start, end, label in annot[\"entities\"]:\n",
    "            span = doc.char_span(start, end, label=label, alignment_mode=\"contract\")\n",
    "            if span is None:\n",
    "                print (\"Skipping entity\")\n",
    "            else:\n",
    "                ents.append(span)\n",
    "        doc.ents = ents\n",
    "        db.add(doc)\n",
    "    return (db)"
   ]
  },
  {
   "cell_type": "code",
   "execution_count": 215,
   "metadata": {},
   "outputs": [
    {
     "name": "stderr",
     "output_type": "stream",
     "text": [
      "100%|█████████████████████████████████████████████████████████████████████████████████| 75/75 [00:00<00:00, 340.77it/s]"
     ]
    },
    {
     "name": "stdout",
     "output_type": "stream",
     "text": [
      "Skipping entity\n",
      "Skipping entity\n",
      "Skipping entity\n",
      "Skipping entity\n",
      "Skipping entity\n",
      "Skipping entity\n",
      "Skipping entity\n"
     ]
    },
    {
     "name": "stderr",
     "output_type": "stream",
     "text": [
      "\n"
     ]
    },
    {
     "data": {
      "text/plain": [
       "<spacy.tokens._serialize.DocBin at 0x251979e36d0>"
      ]
     },
     "execution_count": 215,
     "metadata": {},
     "output_type": "execute_result"
    }
   ],
   "source": [
    "create_training(train)"
   ]
  },
  {
   "cell_type": "code",
   "execution_count": 216,
   "metadata": {},
   "outputs": [
    {
     "name": "stderr",
     "output_type": "stream",
     "text": [
      "100%|█████████████████████████████████████████████████████████████████████████████████| 75/75 [00:00<00:00, 604.55it/s]"
     ]
    },
    {
     "name": "stdout",
     "output_type": "stream",
     "text": [
      "Skipping entity\n",
      "Skipping entity\n",
      "Skipping entity\n",
      "Skipping entity\n",
      "Skipping entity\n",
      "Skipping entity\n",
      "Skipping entity\n"
     ]
    },
    {
     "name": "stderr",
     "output_type": "stream",
     "text": [
      "\n"
     ]
    }
   ],
   "source": [
    "#train data set\n",
    "\n",
    "camp_train = create_training(train)\n",
    "camp_train.to_disk(\"nbme_train_Week2.spacy\")"
   ]
  },
  {
   "cell_type": "code",
   "execution_count": 217,
   "metadata": {},
   "outputs": [
    {
     "name": "stderr",
     "output_type": "stream",
     "text": [
      "100%|█████████████████████████████████████████████████████████████████████████████████| 20/20 [00:00<00:00, 356.09it/s]"
     ]
    },
    {
     "name": "stdout",
     "output_type": "stream",
     "text": [
      "Skipping entity\n",
      "Skipping entity\n"
     ]
    },
    {
     "name": "stderr",
     "output_type": "stream",
     "text": [
      "\n"
     ]
    }
   ],
   "source": [
    "#test data set\n",
    "\n",
    "camp_train = create_training(validation)\n",
    "camp_train.to_disk(\"nbme_validation_Week2.spacy\")"
   ]
  },
  {
   "cell_type": "code",
   "execution_count": 218,
   "metadata": {},
   "outputs": [
    {
     "name": "stdout",
     "output_type": "stream",
     "text": [
      "[+] Auto-filled config with all values\n",
      "[+] Saved config\n",
      "config.cfg\n",
      "You can now add your data and train your pipeline:\n",
      "python -m spacy train config.cfg --paths.train ./train.spacy --paths.dev ./dev.spacy\n"
     ]
    }
   ],
   "source": [
    "!python -m spacy init fill-config ./base_config.cfg ./config.cfg"
   ]
  },
  {
   "cell_type": "code",
   "execution_count": 219,
   "metadata": {},
   "outputs": [
    {
     "name": "stdout",
     "output_type": "stream",
     "text": [
      "[+] Created output directory: output\n",
      "[i] Saving to output directory: output\n",
      "[i] Using CPU\n",
      "\u001b[1m\n",
      "=========================== Initializing pipeline ===========================\u001b[0m\n",
      "[+] Initialized pipeline\n",
      "\u001b[1m\n",
      "============================= Training pipeline =============================\u001b[0m\n",
      "[i] Pipeline: ['tok2vec', 'ner']\n",
      "[i] Initial learn rate: 0.001\n",
      "E    #       LOSS TOK2VEC  LOSS NER  ENTS_F  ENTS_P  ENTS_R  SCORE \n",
      "---  ------  ------------  --------  ------  ------  ------  ------"
     ]
    },
    {
     "name": "stderr",
     "output_type": "stream",
     "text": [
      "[2022-03-18 12:32:28,617] [INFO] Set up nlp object from config\n",
      "[2022-03-18 12:32:28,640] [INFO] Pipeline: ['tok2vec', 'ner']\n",
      "[2022-03-18 12:32:28,647] [INFO] Created vocabulary\n",
      "[2022-03-18 12:32:28,672] [INFO] Finished initializing nlp object\n",
      "[2022-03-18 12:32:29,918] [INFO] Initialized pipeline components: ['tok2vec', 'ner']\n"
     ]
    },
    {
     "name": "stdout",
     "output_type": "stream",
     "text": [
      "\n",
      "  0       0          0.00    104.78    0.00    0.00    0.00    0.00\n",
      "  2     200       7493.32   6479.08   47.59   57.42   40.64    0.48\n",
      "  5     400       6874.22   3148.56   60.15   64.74   56.16    0.60\n",
      "  8     600        361.38   1361.91   65.14   65.44   64.84    0.65\n",
      " 10     800       2500.20   1263.77   66.19   68.63   63.93    0.66\n",
      " 13    1000        548.54    898.57   65.38   69.59   61.64    0.65\n",
      " 16    1200        405.70    634.53   67.48   72.63   63.01    0.67\n",
      " 18    1400        425.59    524.84   63.18   65.84   60.73    0.63\n",
      " 21    1600        424.41    499.19   64.15   66.34   62.10    0.64\n",
      " 24    1800       1121.34    390.32   64.49   66.03   63.01    0.64\n",
      " 26    2000        482.87    375.21   64.49   66.03   63.01    0.64\n",
      " 29    2200       1063.47    335.93   65.27   66.67   63.93    0.65\n",
      " 32    2400        630.26    336.06   64.79   66.67   63.01    0.65\n",
      " 34    2600        989.75    297.53   63.70   62.17   65.30    0.64\n",
      " 37    2800        931.41    254.53   65.38   69.04   62.10    0.65\n",
      "[+] Saved pipeline to output directory\n",
      "output\\model-last\n"
     ]
    }
   ],
   "source": [
    "!python -m spacy train config.cfg --output ./output"
   ]
  },
  {
   "cell_type": "code",
   "execution_count": null,
   "metadata": {},
   "outputs": [],
   "source": []
  },
  {
   "cell_type": "code",
   "execution_count": null,
   "metadata": {},
   "outputs": [],
   "source": []
  },
  {
   "cell_type": "markdown",
   "metadata": {},
   "source": [
    "#### test : 1146,188,831,2425,2430"
   ]
  },
  {
   "cell_type": "code",
   "execution_count": 3,
   "metadata": {},
   "outputs": [
    {
     "data": {
      "text/plain": [
       "'pt 17y/m c/o palpitation since 2-3 months, episodes come and go, last for 3-4 minutes, no precipitating or releiving factors. last episode happened while playing basketball, pt felt chest pressure, and felt like almost passed out. pt has no chest pain, nause or vomitting, no tremors, no heat or cold intolerance, no changes in bladder or bowel habits. no changes in diet or polydypsia pt had changed college 7-8 months back, and has trouble adjusting to it, no rashes. pt has been taking 3-4 cups of coffee every day and red bull 4-5  in a week.\\r\\nno mood changes, no anxiety or panic attack\\r\\nROS - nothing significant except as above\\r\\nallergy - none\\r\\nmedication - pt takes aderral multiple times, last 2 days ago.\\r\\nPMH - none\\r\\nPSH - none\\r\\nSH - no smoking, occasional marijuana 5month ago, sexually active with girlfriend, uses condom, no STI\\r\\nFH - father had problems with heart and mother has hyperthyroid \\r\\n'"
      ]
     },
     "execution_count": 3,
     "metadata": {},
     "output_type": "execute_result"
    }
   ],
   "source": [
    "test = np.array(patient_notes.loc[patient_notes.pn_num ==1146,\"pn_history\"])[0]\n",
    "test"
   ]
  },
  {
   "cell_type": "code",
   "execution_count": 4,
   "metadata": {},
   "outputs": [
    {
     "name": "stdout",
     "output_type": "stream",
     "text": [
      "palpitation Feature_3 13 24\n",
      "since 2-3 months Feature_10 25 41\n",
      "episodes Feature_3 43 51\n",
      "chest pressure Feature_2 182 196\n",
      "felt like almost passed out Feature_4 202 229\n",
      "coffee Feature_8 501 507\n",
      "father had problems with heart Feature_0 849 879\n",
      "mother has hyperthyroid Feature_1 884 907\n"
     ]
    }
   ],
   "source": [
    "nlp = spacy.load(\"output/model-best\")\n",
    "doc = nlp(test)\n",
    "for ent in doc.ents:\n",
    "    print(ent.text, ent.label_,ent.start_char, ent.end_char)"
   ]
  },
  {
   "cell_type": "code",
   "execution_count": 5,
   "metadata": {},
   "outputs": [
    {
     "data": {
      "text/html": [
       "<div>\n",
       "<style scoped>\n",
       "    .dataframe tbody tr th:only-of-type {\n",
       "        vertical-align: middle;\n",
       "    }\n",
       "\n",
       "    .dataframe tbody tr th {\n",
       "        vertical-align: top;\n",
       "    }\n",
       "\n",
       "    .dataframe thead th {\n",
       "        text-align: right;\n",
       "    }\n",
       "</style>\n",
       "<table border=\"1\" class=\"dataframe\">\n",
       "  <thead>\n",
       "    <tr style=\"text-align: right;\">\n",
       "      <th></th>\n",
       "      <th>id</th>\n",
       "      <th>case_num</th>\n",
       "      <th>pn_num</th>\n",
       "      <th>feature_num</th>\n",
       "      <th>annotation</th>\n",
       "      <th>location</th>\n",
       "    </tr>\n",
       "  </thead>\n",
       "  <tbody>\n",
       "    <tr>\n",
       "      <th>650</th>\n",
       "      <td>01146_000</td>\n",
       "      <td>0</td>\n",
       "      <td>1146</td>\n",
       "      <td>0</td>\n",
       "      <td>['father had problems with heart']</td>\n",
       "      <td>['849 879']</td>\n",
       "    </tr>\n",
       "    <tr>\n",
       "      <th>651</th>\n",
       "      <td>01146_001</td>\n",
       "      <td>0</td>\n",
       "      <td>1146</td>\n",
       "      <td>1</td>\n",
       "      <td>['mother has hyperthyroid']</td>\n",
       "      <td>['884 907']</td>\n",
       "    </tr>\n",
       "    <tr>\n",
       "      <th>652</th>\n",
       "      <td>01146_002</td>\n",
       "      <td>0</td>\n",
       "      <td>1146</td>\n",
       "      <td>2</td>\n",
       "      <td>['chest pressure']</td>\n",
       "      <td>['182 196']</td>\n",
       "    </tr>\n",
       "    <tr>\n",
       "      <th>653</th>\n",
       "      <td>01146_003</td>\n",
       "      <td>0</td>\n",
       "      <td>1146</td>\n",
       "      <td>3</td>\n",
       "      <td>['episodes come and go']</td>\n",
       "      <td>['43 63']</td>\n",
       "    </tr>\n",
       "    <tr>\n",
       "      <th>654</th>\n",
       "      <td>01146_004</td>\n",
       "      <td>0</td>\n",
       "      <td>1146</td>\n",
       "      <td>4</td>\n",
       "      <td>['felt like almost passed out']</td>\n",
       "      <td>['202 229']</td>\n",
       "    </tr>\n",
       "    <tr>\n",
       "      <th>655</th>\n",
       "      <td>01146_005</td>\n",
       "      <td>0</td>\n",
       "      <td>1146</td>\n",
       "      <td>5</td>\n",
       "      <td>['no heat intolerance', 'no old intolerance']</td>\n",
       "      <td>['285 292;301 312', '285 287;297 312']</td>\n",
       "    </tr>\n",
       "    <tr>\n",
       "      <th>656</th>\n",
       "      <td>01146_006</td>\n",
       "      <td>0</td>\n",
       "      <td>1146</td>\n",
       "      <td>6</td>\n",
       "      <td>['takes aderral']</td>\n",
       "      <td>['668 681']</td>\n",
       "    </tr>\n",
       "    <tr>\n",
       "      <th>657</th>\n",
       "      <td>01146_007</td>\n",
       "      <td>0</td>\n",
       "      <td>1146</td>\n",
       "      <td>7</td>\n",
       "      <td>[]</td>\n",
       "      <td>[]</td>\n",
       "    </tr>\n",
       "    <tr>\n",
       "      <th>658</th>\n",
       "      <td>01146_008</td>\n",
       "      <td>0</td>\n",
       "      <td>1146</td>\n",
       "      <td>8</td>\n",
       "      <td>['coffee every day', 'taking red bull']</td>\n",
       "      <td>['501 517', '482 488;522 530']</td>\n",
       "    </tr>\n",
       "    <tr>\n",
       "      <th>659</th>\n",
       "      <td>01146_009</td>\n",
       "      <td>0</td>\n",
       "      <td>1146</td>\n",
       "      <td>9</td>\n",
       "      <td>['palpitation']</td>\n",
       "      <td>['13 24']</td>\n",
       "    </tr>\n",
       "    <tr>\n",
       "      <th>660</th>\n",
       "      <td>01146_010</td>\n",
       "      <td>0</td>\n",
       "      <td>1146</td>\n",
       "      <td>10</td>\n",
       "      <td>['since 2-3 months']</td>\n",
       "      <td>['25 41']</td>\n",
       "    </tr>\n",
       "    <tr>\n",
       "      <th>661</th>\n",
       "      <td>01146_011</td>\n",
       "      <td>0</td>\n",
       "      <td>1146</td>\n",
       "      <td>11</td>\n",
       "      <td>['17y']</td>\n",
       "      <td>['3 6']</td>\n",
       "    </tr>\n",
       "    <tr>\n",
       "      <th>662</th>\n",
       "      <td>01146_012</td>\n",
       "      <td>0</td>\n",
       "      <td>1146</td>\n",
       "      <td>12</td>\n",
       "      <td>['m']</td>\n",
       "      <td>['7 8']</td>\n",
       "    </tr>\n",
       "  </tbody>\n",
       "</table>\n",
       "</div>"
      ],
      "text/plain": [
       "            id  case_num  pn_num  feature_num  \\\n",
       "650  01146_000         0    1146            0   \n",
       "651  01146_001         0    1146            1   \n",
       "652  01146_002         0    1146            2   \n",
       "653  01146_003         0    1146            3   \n",
       "654  01146_004         0    1146            4   \n",
       "655  01146_005         0    1146            5   \n",
       "656  01146_006         0    1146            6   \n",
       "657  01146_007         0    1146            7   \n",
       "658  01146_008         0    1146            8   \n",
       "659  01146_009         0    1146            9   \n",
       "660  01146_010         0    1146           10   \n",
       "661  01146_011         0    1146           11   \n",
       "662  01146_012         0    1146           12   \n",
       "\n",
       "                                        annotation  \\\n",
       "650             ['father had problems with heart']   \n",
       "651                    ['mother has hyperthyroid']   \n",
       "652                             ['chest pressure']   \n",
       "653                       ['episodes come and go']   \n",
       "654                ['felt like almost passed out']   \n",
       "655  ['no heat intolerance', 'no old intolerance']   \n",
       "656                              ['takes aderral']   \n",
       "657                                             []   \n",
       "658        ['coffee every day', 'taking red bull']   \n",
       "659                                ['palpitation']   \n",
       "660                           ['since 2-3 months']   \n",
       "661                                        ['17y']   \n",
       "662                                          ['m']   \n",
       "\n",
       "                                   location  \n",
       "650                             ['849 879']  \n",
       "651                             ['884 907']  \n",
       "652                             ['182 196']  \n",
       "653                               ['43 63']  \n",
       "654                             ['202 229']  \n",
       "655  ['285 292;301 312', '285 287;297 312']  \n",
       "656                             ['668 681']  \n",
       "657                                      []  \n",
       "658          ['501 517', '482 488;522 530']  \n",
       "659                               ['13 24']  \n",
       "660                               ['25 41']  \n",
       "661                                 ['3 6']  \n",
       "662                                 ['7 8']  "
      ]
     },
     "execution_count": 5,
     "metadata": {},
     "output_type": "execute_result"
    }
   ],
   "source": [
    "train_data = pd.read_csv(\"C:\\\\Users\\\\llohi\\\\OneDrive\\\\Desktop\\\\CAP_Stone\\\\train.csv\")\n",
    "train_data[train_data.pn_num == 1146]"
   ]
  },
  {
   "cell_type": "code",
   "execution_count": null,
   "metadata": {},
   "outputs": [],
   "source": []
  }
 ],
 "metadata": {
  "kernelspec": {
   "display_name": "Python 3",
   "language": "python",
   "name": "python3"
  },
  "language_info": {
   "codemirror_mode": {
    "name": "ipython",
    "version": 3
   },
   "file_extension": ".py",
   "mimetype": "text/x-python",
   "name": "python",
   "nbconvert_exporter": "python",
   "pygments_lexer": "ipython3",
   "version": "3.8.8"
  }
 },
 "nbformat": 4,
 "nbformat_minor": 4
}
