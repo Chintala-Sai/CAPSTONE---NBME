{
 "cells": [
  {
   "cell_type": "code",
   "execution_count": 1,
   "id": "ab4638b5",
   "metadata": {},
   "outputs": [],
   "source": [
    "import pandas as pd\n",
    "import numpy as np\n",
    "import json\n",
    "import warnings\n",
    "import spacy\n",
    "warnings.filterwarnings(\"ignore\")\n",
    "import random\n",
    "\n",
    "import nltk\n",
    "from nltk.stem import WordNetLemmatizer\n",
    "\n",
    "import re\n",
    "\n",
    "from spacy.tokens import DocBin\n",
    "\n",
    "from tqdm import tqdm\n",
    "\n",
    "from sklearn.model_selection import train_test_split"
   ]
  },
  {
   "cell_type": "code",
   "execution_count": 2,
   "id": "555b3213",
   "metadata": {},
   "outputs": [],
   "source": [
    "train_data = pd.read_csv(r\"C:\\Users\\sai\\Desktop\\PRAXIS\\Term - 3\\CAPP\\Datasets\\train.csv\")\n",
    "features = pd.read_csv(r\"C:\\Users\\sai\\Desktop\\PRAXIS\\Term - 3\\CAPP\\Datasets\\features.csv\")\n",
    "patient_notes = pd.read_csv(r\"C:\\Users\\sai\\Desktop\\PRAXIS\\Term - 3\\CAPP\\Datasets\\patient_notes.csv\")"
   ]
  },
  {
   "cell_type": "markdown",
   "id": "5c6f052e",
   "metadata": {},
   "source": [
    "### CASE - 1"
   ]
  },
  {
   "cell_type": "code",
   "execution_count": 3,
   "id": "52ba4aa7",
   "metadata": {},
   "outputs": [
    {
     "data": {
      "text/html": [
       "<div>\n",
       "<style scoped>\n",
       "    .dataframe tbody tr th:only-of-type {\n",
       "        vertical-align: middle;\n",
       "    }\n",
       "\n",
       "    .dataframe tbody tr th {\n",
       "        vertical-align: top;\n",
       "    }\n",
       "\n",
       "    .dataframe thead th {\n",
       "        text-align: right;\n",
       "    }\n",
       "</style>\n",
       "<table border=\"1\" class=\"dataframe\">\n",
       "  <thead>\n",
       "    <tr style=\"text-align: right;\">\n",
       "      <th></th>\n",
       "      <th>feature_num</th>\n",
       "      <th>case_num</th>\n",
       "      <th>feature_text</th>\n",
       "    </tr>\n",
       "  </thead>\n",
       "  <tbody>\n",
       "    <tr>\n",
       "      <th>13</th>\n",
       "      <td>100</td>\n",
       "      <td>1</td>\n",
       "      <td>No-vaginal-discharge</td>\n",
       "    </tr>\n",
       "    <tr>\n",
       "      <th>14</th>\n",
       "      <td>101</td>\n",
       "      <td>1</td>\n",
       "      <td>Weight-loss</td>\n",
       "    </tr>\n",
       "    <tr>\n",
       "      <th>15</th>\n",
       "      <td>102</td>\n",
       "      <td>1</td>\n",
       "      <td>Not-sexually-active</td>\n",
       "    </tr>\n",
       "    <tr>\n",
       "      <th>16</th>\n",
       "      <td>103</td>\n",
       "      <td>1</td>\n",
       "      <td>Prior-episodes-of-diarrhea</td>\n",
       "    </tr>\n",
       "    <tr>\n",
       "      <th>17</th>\n",
       "      <td>104</td>\n",
       "      <td>1</td>\n",
       "      <td>20-year</td>\n",
       "    </tr>\n",
       "    <tr>\n",
       "      <th>18</th>\n",
       "      <td>105</td>\n",
       "      <td>1</td>\n",
       "      <td>No-bloody-bowel-movements</td>\n",
       "    </tr>\n",
       "    <tr>\n",
       "      <th>19</th>\n",
       "      <td>106</td>\n",
       "      <td>1</td>\n",
       "      <td>Recurrent-bouts-over-past-6-months</td>\n",
       "    </tr>\n",
       "    <tr>\n",
       "      <th>20</th>\n",
       "      <td>107</td>\n",
       "      <td>1</td>\n",
       "      <td>Right-sided-LQ-abdominal-pain-OR-Right-lower-q...</td>\n",
       "    </tr>\n",
       "    <tr>\n",
       "      <th>21</th>\n",
       "      <td>108</td>\n",
       "      <td>1</td>\n",
       "      <td>No-urinary-symptoms</td>\n",
       "    </tr>\n",
       "    <tr>\n",
       "      <th>22</th>\n",
       "      <td>109</td>\n",
       "      <td>1</td>\n",
       "      <td>Diminished-appetite</td>\n",
       "    </tr>\n",
       "    <tr>\n",
       "      <th>23</th>\n",
       "      <td>110</td>\n",
       "      <td>1</td>\n",
       "      <td>Normal-LMP-2-weeks-ago-OR-Normal-last-menstrua...</td>\n",
       "    </tr>\n",
       "    <tr>\n",
       "      <th>24</th>\n",
       "      <td>111</td>\n",
       "      <td>1</td>\n",
       "      <td>8-to-10-hours-of-acute-pain</td>\n",
       "    </tr>\n",
       "    <tr>\n",
       "      <th>25</th>\n",
       "      <td>112</td>\n",
       "      <td>1</td>\n",
       "      <td>Female</td>\n",
       "    </tr>\n",
       "  </tbody>\n",
       "</table>\n",
       "</div>"
      ],
      "text/plain": [
       "    feature_num  case_num                                       feature_text\n",
       "13          100         1                               No-vaginal-discharge\n",
       "14          101         1                                        Weight-loss\n",
       "15          102         1                                Not-sexually-active\n",
       "16          103         1                         Prior-episodes-of-diarrhea\n",
       "17          104         1                                            20-year\n",
       "18          105         1                          No-bloody-bowel-movements\n",
       "19          106         1                 Recurrent-bouts-over-past-6-months\n",
       "20          107         1  Right-sided-LQ-abdominal-pain-OR-Right-lower-q...\n",
       "21          108         1                                No-urinary-symptoms\n",
       "22          109         1                                Diminished-appetite\n",
       "23          110         1  Normal-LMP-2-weeks-ago-OR-Normal-last-menstrua...\n",
       "24          111         1                        8-to-10-hours-of-acute-pain\n",
       "25          112         1                                             Female"
      ]
     },
     "execution_count": 3,
     "metadata": {},
     "output_type": "execute_result"
    }
   ],
   "source": [
    "case_1_features = features[features[\"case_num\"] == 1]\n",
    "case_1_features"
   ]
  },
  {
   "cell_type": "code",
   "execution_count": 4,
   "id": "8932c488",
   "metadata": {
    "scrolled": true
   },
   "outputs": [
    {
     "data": {
      "text/html": [
       "<div>\n",
       "<style scoped>\n",
       "    .dataframe tbody tr th:only-of-type {\n",
       "        vertical-align: middle;\n",
       "    }\n",
       "\n",
       "    .dataframe tbody tr th {\n",
       "        vertical-align: top;\n",
       "    }\n",
       "\n",
       "    .dataframe thead th {\n",
       "        text-align: right;\n",
       "    }\n",
       "</style>\n",
       "<table border=\"1\" class=\"dataframe\">\n",
       "  <thead>\n",
       "    <tr style=\"text-align: right;\">\n",
       "      <th></th>\n",
       "      <th>pn_num</th>\n",
       "      <th>case_num</th>\n",
       "      <th>pn_history</th>\n",
       "    </tr>\n",
       "  </thead>\n",
       "  <tbody>\n",
       "    <tr>\n",
       "      <th>2268</th>\n",
       "      <td>10000</td>\n",
       "      <td>1</td>\n",
       "      <td>Ms. Suzanne Powelton is a 20 y/o F that presen...</td>\n",
       "    </tr>\n",
       "    <tr>\n",
       "      <th>2269</th>\n",
       "      <td>10001</td>\n",
       "      <td>1</td>\n",
       "      <td>Suzanne Powelton is a 20 year old woman who pr...</td>\n",
       "    </tr>\n",
       "    <tr>\n",
       "      <th>2270</th>\n",
       "      <td>10002</td>\n",
       "      <td>1</td>\n",
       "      <td>HPI: 20 yo f c/o constant worsening right lowe...</td>\n",
       "    </tr>\n",
       "    <tr>\n",
       "      <th>2271</th>\n",
       "      <td>10004</td>\n",
       "      <td>1</td>\n",
       "      <td>20 y/o F c/o abdominal pain  \\r\\n5/10. from la...</td>\n",
       "    </tr>\n",
       "    <tr>\n",
       "      <th>2272</th>\n",
       "      <td>10005</td>\n",
       "      <td>1</td>\n",
       "      <td>20 YO F came to the ED complaining of Right lo...</td>\n",
       "    </tr>\n",
       "    <tr>\n",
       "      <th>...</th>\n",
       "      <td>...</td>\n",
       "      <td>...</td>\n",
       "      <td>...</td>\n",
       "    </tr>\n",
       "    <tr>\n",
       "      <th>3071</th>\n",
       "      <td>10986</td>\n",
       "      <td>1</td>\n",
       "      <td>suzanne is a 20 year old woman who presents wi...</td>\n",
       "    </tr>\n",
       "    <tr>\n",
       "      <th>3072</th>\n",
       "      <td>10987</td>\n",
       "      <td>1</td>\n",
       "      <td>Ms. 20yo wiht no PMH presenting with concerns ...</td>\n",
       "    </tr>\n",
       "    <tr>\n",
       "      <th>3073</th>\n",
       "      <td>10988</td>\n",
       "      <td>1</td>\n",
       "      <td>HPI: 20 yo F c/o RLQ pain for past 10 hrs. 5/1...</td>\n",
       "    </tr>\n",
       "    <tr>\n",
       "      <th>3074</th>\n",
       "      <td>10989</td>\n",
       "      <td>1</td>\n",
       "      <td>Ms. Powelton is a 20 yo female presenting with...</td>\n",
       "    </tr>\n",
       "    <tr>\n",
       "      <th>3075</th>\n",
       "      <td>10991</td>\n",
       "      <td>1</td>\n",
       "      <td>20 YO F COMPLAINS OF ABDOMINAL PAIN FOR 10 HOU...</td>\n",
       "    </tr>\n",
       "  </tbody>\n",
       "</table>\n",
       "<p>808 rows × 3 columns</p>\n",
       "</div>"
      ],
      "text/plain": [
       "      pn_num  case_num                                         pn_history\n",
       "2268   10000         1  Ms. Suzanne Powelton is a 20 y/o F that presen...\n",
       "2269   10001         1  Suzanne Powelton is a 20 year old woman who pr...\n",
       "2270   10002         1  HPI: 20 yo f c/o constant worsening right lowe...\n",
       "2271   10004         1  20 y/o F c/o abdominal pain  \\r\\n5/10. from la...\n",
       "2272   10005         1  20 YO F came to the ED complaining of Right lo...\n",
       "...      ...       ...                                                ...\n",
       "3071   10986         1  suzanne is a 20 year old woman who presents wi...\n",
       "3072   10987         1  Ms. 20yo wiht no PMH presenting with concerns ...\n",
       "3073   10988         1  HPI: 20 yo F c/o RLQ pain for past 10 hrs. 5/1...\n",
       "3074   10989         1  Ms. Powelton is a 20 yo female presenting with...\n",
       "3075   10991         1  20 YO F COMPLAINS OF ABDOMINAL PAIN FOR 10 HOU...\n",
       "\n",
       "[808 rows x 3 columns]"
      ]
     },
     "execution_count": 4,
     "metadata": {},
     "output_type": "execute_result"
    }
   ],
   "source": [
    "case_1_pn = patient_notes[patient_notes[\"case_num\"] ==  1]\n",
    "case_1_pn"
   ]
  },
  {
   "cell_type": "code",
   "execution_count": 5,
   "id": "8d19ce57",
   "metadata": {
    "scrolled": true
   },
   "outputs": [
    {
     "data": {
      "text/html": [
       "<div>\n",
       "<style scoped>\n",
       "    .dataframe tbody tr th:only-of-type {\n",
       "        vertical-align: middle;\n",
       "    }\n",
       "\n",
       "    .dataframe tbody tr th {\n",
       "        vertical-align: top;\n",
       "    }\n",
       "\n",
       "    .dataframe thead th {\n",
       "        text-align: right;\n",
       "    }\n",
       "</style>\n",
       "<table border=\"1\" class=\"dataframe\">\n",
       "  <thead>\n",
       "    <tr style=\"text-align: right;\">\n",
       "      <th></th>\n",
       "      <th>id</th>\n",
       "      <th>case_num</th>\n",
       "      <th>pn_num</th>\n",
       "      <th>feature_num</th>\n",
       "      <th>annotation</th>\n",
       "      <th>location</th>\n",
       "    </tr>\n",
       "  </thead>\n",
       "  <tbody>\n",
       "    <tr>\n",
       "      <th>1300</th>\n",
       "      <td>10004_100</td>\n",
       "      <td>1</td>\n",
       "      <td>10004</td>\n",
       "      <td>100</td>\n",
       "      <td>['no discharge']</td>\n",
       "      <td>['206 218']</td>\n",
       "    </tr>\n",
       "    <tr>\n",
       "      <th>1302</th>\n",
       "      <td>10004_102</td>\n",
       "      <td>1</td>\n",
       "      <td>10004</td>\n",
       "      <td>102</td>\n",
       "      <td>['last sexual encounter 9 months ago']</td>\n",
       "      <td>['529 563']</td>\n",
       "    </tr>\n",
       "    <tr>\n",
       "      <th>1304</th>\n",
       "      <td>10004_104</td>\n",
       "      <td>1</td>\n",
       "      <td>10004</td>\n",
       "      <td>104</td>\n",
       "      <td>['20 y/o']</td>\n",
       "      <td>['0 6']</td>\n",
       "    </tr>\n",
       "    <tr>\n",
       "      <th>1306</th>\n",
       "      <td>10004_106</td>\n",
       "      <td>1</td>\n",
       "      <td>10004</td>\n",
       "      <td>106</td>\n",
       "      <td>['similar episodes 3-4 in the last 6 months']</td>\n",
       "      <td>['265 306']</td>\n",
       "    </tr>\n",
       "    <tr>\n",
       "      <th>1307</th>\n",
       "      <td>10004_107</td>\n",
       "      <td>1</td>\n",
       "      <td>10004</td>\n",
       "      <td>107</td>\n",
       "      <td>['pain in the right lower quadrant']</td>\n",
       "      <td>['82 114']</td>\n",
       "    </tr>\n",
       "  </tbody>\n",
       "</table>\n",
       "</div>"
      ],
      "text/plain": [
       "             id  case_num  pn_num  feature_num  \\\n",
       "1300  10004_100         1   10004          100   \n",
       "1302  10004_102         1   10004          102   \n",
       "1304  10004_104         1   10004          104   \n",
       "1306  10004_106         1   10004          106   \n",
       "1307  10004_107         1   10004          107   \n",
       "\n",
       "                                         annotation     location  \n",
       "1300                               ['no discharge']  ['206 218']  \n",
       "1302         ['last sexual encounter 9 months ago']  ['529 563']  \n",
       "1304                                     ['20 y/o']      ['0 6']  \n",
       "1306  ['similar episodes 3-4 in the last 6 months']  ['265 306']  \n",
       "1307           ['pain in the right lower quadrant']   ['82 114']  "
      ]
     },
     "execution_count": 5,
     "metadata": {},
     "output_type": "execute_result"
    }
   ],
   "source": [
    "case_1_train = train_data[train_data[\"case_num\"] == 1]\n",
    "case_1_train = case_1_train[case_1_train.annotation != '[]']\n",
    "case_1_train.head()"
   ]
  },
  {
   "cell_type": "code",
   "execution_count": 6,
   "id": "90399fdc",
   "metadata": {
    "scrolled": false
   },
   "outputs": [
    {
     "data": {
      "image/png": "[encoded data removed]",
      "text/plain": [
       "<Figure size 576x432 with 1 Axes>"
      ]
     },
     "metadata": {
      "needs_background": "light"
     },
     "output_type": "display_data"
    }
   ],
   "source": [
    "import matplotlib.pyplot as plt\n",
    "plt.figure(figsize=[8,6])\n",
    "case_1_train.groupby(\"feature_num\").size().plot.bar()\n",
    "plt.title(\"CASE - 1\")\n",
    "plt.ylabel(\"Number of observations\")\n",
    "plt.show()"
   ]
  },
  {
   "cell_type": "code",
   "execution_count": null,
   "id": "3167a634",
   "metadata": {},
   "outputs": [],
   "source": []
  },
  {
   "cell_type": "markdown",
   "id": "ebfbf8c1",
   "metadata": {},
   "source": [
    "### Over Sampling for CASE - 1"
   ]
  },
  {
   "cell_type": "code",
   "execution_count": 7,
   "id": "9cbf73e6",
   "metadata": {},
   "outputs": [],
   "source": [
    "pn_dict = {}\n",
    "for idx, row in case_1_pn.iterrows():\n",
    "    pn_dict[row['pn_num']] = row['pn_history']"
   ]
  },
  {
   "cell_type": "code",
   "execution_count": 8,
   "id": "619134e6",
   "metadata": {},
   "outputs": [],
   "source": [
    "new_annotation = []\n",
    "for case_id in case_1_features['case_num'].unique():\n",
    "    \n",
    "    all_pn_id = set(case_1_pn[case_1_pn['case_num']==case_id]['pn_num'].tolist())\n",
    "    \n",
    "    for feature_id in case_1_features[case_1_features['case_num']==case_id]['feature_num'].unique():\n",
    "        # get all the pn_num that have already been annotated\n",
    "        annotated_pn = set(case_1_train[case_1_train['feature_num']==feature_id]['pn_num'].tolist())\n",
    "        # get all the pn_num that have NOT been annotated\n",
    "        pn_to_annotate = all_pn_id-annotated_pn\n",
    "        \n",
    "        # get all current annotations\n",
    "        # we will use them to find more annotations\n",
    "        annotations = case_1_train[case_1_train['feature_num']==feature_id]['annotation'].tolist()\n",
    "        annotation_texts = set()\n",
    "        for a in annotations:\n",
    "            anns = eval(a)\n",
    "            for at in anns:\n",
    "                annotation_texts.add(at)\n",
    "                \n",
    "        # annotate       \n",
    "        for pn_id in pn_to_annotate:\n",
    "            new_annotation_pn, new_location_pn = [], []\n",
    "            pn_text = pn_dict[pn_id]\n",
    "            for at in annotation_texts:\n",
    "                start = pn_text.find(at)\n",
    "                if start>=0:\n",
    "                    new_annotation_pn.append(at)\n",
    "                    new_location_pn.append(f'{start} {start+len(at)}')\n",
    "            if len(new_annotation_pn)>0:\n",
    "                new_annotation.append((\n",
    "                    f'{pn_id:04d}_{feature_id:03d}',\n",
    "                    case_id,\n",
    "                    pn_id,\n",
    "                    feature_id,\n",
    "                    new_annotation_pn,\n",
    "                    new_location_pn\n",
    "                ))\n",
    "     #   break\n",
    "    break\n",
    "    # break to get sample results quickly"
   ]
  },
  {
   "cell_type": "code",
   "execution_count": 9,
   "id": "553ba92b",
   "metadata": {},
   "outputs": [
    {
     "data": {
      "text/plain": [
       "4629"
      ]
     },
     "execution_count": 9,
     "metadata": {},
     "output_type": "execute_result"
    }
   ],
   "source": [
    "len(new_annotation)"
   ]
  },
  {
   "cell_type": "code",
   "execution_count": 10,
   "id": "9b444399",
   "metadata": {},
   "outputs": [
    {
     "data": {
      "text/html": [
       "<div>\n",
       "<style scoped>\n",
       "    .dataframe tbody tr th:only-of-type {\n",
       "        vertical-align: middle;\n",
       "    }\n",
       "\n",
       "    .dataframe tbody tr th {\n",
       "        vertical-align: top;\n",
       "    }\n",
       "\n",
       "    .dataframe thead th {\n",
       "        text-align: right;\n",
       "    }\n",
       "</style>\n",
       "<table border=\"1\" class=\"dataframe\">\n",
       "  <thead>\n",
       "    <tr style=\"text-align: right;\">\n",
       "      <th></th>\n",
       "      <th>0</th>\n",
       "      <th>1</th>\n",
       "      <th>2</th>\n",
       "      <th>3</th>\n",
       "      <th>4</th>\n",
       "      <th>5</th>\n",
       "    </tr>\n",
       "  </thead>\n",
       "  <tbody>\n",
       "    <tr>\n",
       "      <th>0</th>\n",
       "      <td>10255_100</td>\n",
       "      <td>1</td>\n",
       "      <td>10255</td>\n",
       "      <td>100</td>\n",
       "      <td>[No vaginal discharge]</td>\n",
       "      <td>[546 566]</td>\n",
       "    </tr>\n",
       "    <tr>\n",
       "      <th>1</th>\n",
       "      <td>10257_100</td>\n",
       "      <td>1</td>\n",
       "      <td>10257</td>\n",
       "      <td>100</td>\n",
       "      <td>[Denies vaginal discharge]</td>\n",
       "      <td>[355 379]</td>\n",
       "    </tr>\n",
       "    <tr>\n",
       "      <th>2</th>\n",
       "      <td>10259_100</td>\n",
       "      <td>1</td>\n",
       "      <td>10259</td>\n",
       "      <td>100</td>\n",
       "      <td>[Denies vaginal discharge]</td>\n",
       "      <td>[654 678]</td>\n",
       "    </tr>\n",
       "    <tr>\n",
       "      <th>3</th>\n",
       "      <td>10290_100</td>\n",
       "      <td>1</td>\n",
       "      <td>10290</td>\n",
       "      <td>100</td>\n",
       "      <td>[no vaginal discharge]</td>\n",
       "      <td>[376 396]</td>\n",
       "    </tr>\n",
       "    <tr>\n",
       "      <th>4</th>\n",
       "      <td>10307_100</td>\n",
       "      <td>1</td>\n",
       "      <td>10307</td>\n",
       "      <td>100</td>\n",
       "      <td>[No vaginal discharge]</td>\n",
       "      <td>[419 439]</td>\n",
       "    </tr>\n",
       "  </tbody>\n",
       "</table>\n",
       "</div>"
      ],
      "text/plain": [
       "           0  1      2    3                           4          5\n",
       "0  10255_100  1  10255  100      [No vaginal discharge]  [546 566]\n",
       "1  10257_100  1  10257  100  [Denies vaginal discharge]  [355 379]\n",
       "2  10259_100  1  10259  100  [Denies vaginal discharge]  [654 678]\n",
       "3  10290_100  1  10290  100      [no vaginal discharge]  [376 396]\n",
       "4  10307_100  1  10307  100      [No vaginal discharge]  [419 439]"
      ]
     },
     "execution_count": 10,
     "metadata": {},
     "output_type": "execute_result"
    }
   ],
   "source": [
    "df=pd.DataFrame(new_annotation)\n",
    "df.head()"
   ]
  },
  {
   "cell_type": "code",
   "execution_count": 11,
   "id": "dec109cb",
   "metadata": {},
   "outputs": [
    {
     "data": {
      "text/html": [
       "<div>\n",
       "<style scoped>\n",
       "    .dataframe tbody tr th:only-of-type {\n",
       "        vertical-align: middle;\n",
       "    }\n",
       "\n",
       "    .dataframe tbody tr th {\n",
       "        vertical-align: top;\n",
       "    }\n",
       "\n",
       "    .dataframe thead th {\n",
       "        text-align: right;\n",
       "    }\n",
       "</style>\n",
       "<table border=\"1\" class=\"dataframe\">\n",
       "  <thead>\n",
       "    <tr style=\"text-align: right;\">\n",
       "      <th></th>\n",
       "      <th>id</th>\n",
       "      <th>case_num</th>\n",
       "      <th>pn_num</th>\n",
       "      <th>feature_num</th>\n",
       "      <th>annotation</th>\n",
       "      <th>location</th>\n",
       "    </tr>\n",
       "  </thead>\n",
       "  <tbody>\n",
       "    <tr>\n",
       "      <th>0</th>\n",
       "      <td>10255_100</td>\n",
       "      <td>1</td>\n",
       "      <td>10255</td>\n",
       "      <td>100</td>\n",
       "      <td>[No vaginal discharge]</td>\n",
       "      <td>[546 566]</td>\n",
       "    </tr>\n",
       "    <tr>\n",
       "      <th>1</th>\n",
       "      <td>10257_100</td>\n",
       "      <td>1</td>\n",
       "      <td>10257</td>\n",
       "      <td>100</td>\n",
       "      <td>[Denies vaginal discharge]</td>\n",
       "      <td>[355 379]</td>\n",
       "    </tr>\n",
       "    <tr>\n",
       "      <th>2</th>\n",
       "      <td>10259_100</td>\n",
       "      <td>1</td>\n",
       "      <td>10259</td>\n",
       "      <td>100</td>\n",
       "      <td>[Denies vaginal discharge]</td>\n",
       "      <td>[654 678]</td>\n",
       "    </tr>\n",
       "    <tr>\n",
       "      <th>3</th>\n",
       "      <td>10290_100</td>\n",
       "      <td>1</td>\n",
       "      <td>10290</td>\n",
       "      <td>100</td>\n",
       "      <td>[no vaginal discharge]</td>\n",
       "      <td>[376 396]</td>\n",
       "    </tr>\n",
       "    <tr>\n",
       "      <th>4</th>\n",
       "      <td>10307_100</td>\n",
       "      <td>1</td>\n",
       "      <td>10307</td>\n",
       "      <td>100</td>\n",
       "      <td>[No vaginal discharge]</td>\n",
       "      <td>[419 439]</td>\n",
       "    </tr>\n",
       "  </tbody>\n",
       "</table>\n",
       "</div>"
      ],
      "text/plain": [
       "          id  case_num  pn_num  feature_num                  annotation  \\\n",
       "0  10255_100         1   10255          100      [No vaginal discharge]   \n",
       "1  10257_100         1   10257          100  [Denies vaginal discharge]   \n",
       "2  10259_100         1   10259          100  [Denies vaginal discharge]   \n",
       "3  10290_100         1   10290          100      [no vaginal discharge]   \n",
       "4  10307_100         1   10307          100      [No vaginal discharge]   \n",
       "\n",
       "    location  \n",
       "0  [546 566]  \n",
       "1  [355 379]  \n",
       "2  [654 678]  \n",
       "3  [376 396]  \n",
       "4  [419 439]  "
      ]
     },
     "execution_count": 11,
     "metadata": {},
     "output_type": "execute_result"
    }
   ],
   "source": [
    "df.columns=['id','case_num','pn_num','feature_num','annotation','location']\n",
    "df.head()"
   ]
  },
  {
   "cell_type": "code",
   "execution_count": 12,
   "id": "cdaf159b",
   "metadata": {},
   "outputs": [
    {
     "data": {
      "text/html": [
       "<div>\n",
       "<style scoped>\n",
       "    .dataframe tbody tr th:only-of-type {\n",
       "        vertical-align: middle;\n",
       "    }\n",
       "\n",
       "    .dataframe tbody tr th {\n",
       "        vertical-align: top;\n",
       "    }\n",
       "\n",
       "    .dataframe thead th {\n",
       "        text-align: right;\n",
       "    }\n",
       "</style>\n",
       "<table border=\"1\" class=\"dataframe\">\n",
       "  <thead>\n",
       "    <tr style=\"text-align: right;\">\n",
       "      <th></th>\n",
       "      <th>id</th>\n",
       "      <th>case_num</th>\n",
       "      <th>pn_num</th>\n",
       "      <th>feature_num</th>\n",
       "      <th>annotation</th>\n",
       "      <th>location</th>\n",
       "    </tr>\n",
       "  </thead>\n",
       "  <tbody>\n",
       "    <tr>\n",
       "      <th>0</th>\n",
       "      <td>10255_100</td>\n",
       "      <td>1</td>\n",
       "      <td>10255</td>\n",
       "      <td>100</td>\n",
       "      <td>'No vaginal discharge'</td>\n",
       "      <td>'546 566'</td>\n",
       "    </tr>\n",
       "    <tr>\n",
       "      <th>1</th>\n",
       "      <td>10257_100</td>\n",
       "      <td>1</td>\n",
       "      <td>10257</td>\n",
       "      <td>100</td>\n",
       "      <td>'Denies vaginal discharge'</td>\n",
       "      <td>'355 379'</td>\n",
       "    </tr>\n",
       "    <tr>\n",
       "      <th>2</th>\n",
       "      <td>10259_100</td>\n",
       "      <td>1</td>\n",
       "      <td>10259</td>\n",
       "      <td>100</td>\n",
       "      <td>'Denies vaginal discharge'</td>\n",
       "      <td>'654 678'</td>\n",
       "    </tr>\n",
       "    <tr>\n",
       "      <th>3</th>\n",
       "      <td>10290_100</td>\n",
       "      <td>1</td>\n",
       "      <td>10290</td>\n",
       "      <td>100</td>\n",
       "      <td>'no vaginal discharge'</td>\n",
       "      <td>'376 396'</td>\n",
       "    </tr>\n",
       "    <tr>\n",
       "      <th>4</th>\n",
       "      <td>10307_100</td>\n",
       "      <td>1</td>\n",
       "      <td>10307</td>\n",
       "      <td>100</td>\n",
       "      <td>'No vaginal discharge'</td>\n",
       "      <td>'419 439'</td>\n",
       "    </tr>\n",
       "  </tbody>\n",
       "</table>\n",
       "</div>"
      ],
      "text/plain": [
       "          id  case_num  pn_num  feature_num                  annotation  \\\n",
       "0  10255_100         1   10255          100      'No vaginal discharge'   \n",
       "1  10257_100         1   10257          100  'Denies vaginal discharge'   \n",
       "2  10259_100         1   10259          100  'Denies vaginal discharge'   \n",
       "3  10290_100         1   10290          100      'no vaginal discharge'   \n",
       "4  10307_100         1   10307          100      'No vaginal discharge'   \n",
       "\n",
       "    location  \n",
       "0  '546 566'  \n",
       "1  '355 379'  \n",
       "2  '654 678'  \n",
       "3  '376 396'  \n",
       "4  '419 439'  "
      ]
     },
     "execution_count": 12,
     "metadata": {},
     "output_type": "execute_result"
    }
   ],
   "source": [
    "df[\"location\"] = df[\"location\"].apply(str)\n",
    "df[\"annotation\"] = df[\"annotation\"].apply(str)\n",
    "\n",
    "df[\"annotation\"] = df.annotation.str.replace('[','')\n",
    "df[\"annotation\"] = df.annotation.str.replace(']','')\n",
    "df[\"location\"] = df.location.str.replace('[','')\n",
    "df[\"location\"] = df.location.str.replace(']','')\n",
    "\n",
    "df.head()"
   ]
  },
  {
   "cell_type": "code",
   "execution_count": 13,
   "id": "91a0d64a",
   "metadata": {},
   "outputs": [
    {
     "data": {
      "text/plain": [
       "(1171, 4)"
      ]
     },
     "execution_count": 13,
     "metadata": {},
     "output_type": "execute_result"
    }
   ],
   "source": [
    "df = df[(df[\"feature_num\"] == 100)|(df[\"feature_num\"] == 101)|(df[\"feature_num\"] == 102)|(df[\"feature_num\"] == 105)|(df[\"feature_num\"] == 106)|(df[\"feature_num\"] == 108)|(df[\"feature_num\"] == 109)][['pn_num','annotation',\"location\",\"feature_num\"]]\n",
    "df.shape"
   ]
  },
  {
   "cell_type": "code",
   "execution_count": 14,
   "id": "665f4b15",
   "metadata": {},
   "outputs": [
    {
     "data": {
      "text/html": [
       "<div>\n",
       "<style scoped>\n",
       "    .dataframe tbody tr th:only-of-type {\n",
       "        vertical-align: middle;\n",
       "    }\n",
       "\n",
       "    .dataframe tbody tr th {\n",
       "        vertical-align: top;\n",
       "    }\n",
       "\n",
       "    .dataframe thead th {\n",
       "        text-align: right;\n",
       "    }\n",
       "</style>\n",
       "<table border=\"1\" class=\"dataframe\">\n",
       "  <thead>\n",
       "    <tr style=\"text-align: right;\">\n",
       "      <th></th>\n",
       "      <th>pn_num</th>\n",
       "      <th>annotation</th>\n",
       "      <th>location</th>\n",
       "      <th>feature_num</th>\n",
       "    </tr>\n",
       "  </thead>\n",
       "  <tbody>\n",
       "    <tr>\n",
       "      <th>0</th>\n",
       "      <td>10255</td>\n",
       "      <td>'No vaginal discharge'</td>\n",
       "      <td>'546 566'</td>\n",
       "      <td>100</td>\n",
       "    </tr>\n",
       "    <tr>\n",
       "      <th>1</th>\n",
       "      <td>10257</td>\n",
       "      <td>'Denies vaginal discharge'</td>\n",
       "      <td>'355 379'</td>\n",
       "      <td>100</td>\n",
       "    </tr>\n",
       "    <tr>\n",
       "      <th>2</th>\n",
       "      <td>10259</td>\n",
       "      <td>'Denies vaginal discharge'</td>\n",
       "      <td>'654 678'</td>\n",
       "      <td>100</td>\n",
       "    </tr>\n",
       "    <tr>\n",
       "      <th>3</th>\n",
       "      <td>10290</td>\n",
       "      <td>'no vaginal discharge'</td>\n",
       "      <td>'376 396'</td>\n",
       "      <td>100</td>\n",
       "    </tr>\n",
       "    <tr>\n",
       "      <th>4</th>\n",
       "      <td>10307</td>\n",
       "      <td>'No vaginal discharge'</td>\n",
       "      <td>'419 439'</td>\n",
       "      <td>100</td>\n",
       "    </tr>\n",
       "    <tr>\n",
       "      <th>...</th>\n",
       "      <td>...</td>\n",
       "      <td>...</td>\n",
       "      <td>...</td>\n",
       "      <td>...</td>\n",
       "    </tr>\n",
       "    <tr>\n",
       "      <th>1482</th>\n",
       "      <td>10215</td>\n",
       "      <td>'anorexia'</td>\n",
       "      <td>'464 472'</td>\n",
       "      <td>109</td>\n",
       "    </tr>\n",
       "    <tr>\n",
       "      <th>1483</th>\n",
       "      <td>10225</td>\n",
       "      <td>'no appetite'</td>\n",
       "      <td>'329 340'</td>\n",
       "      <td>109</td>\n",
       "    </tr>\n",
       "    <tr>\n",
       "      <th>1484</th>\n",
       "      <td>10234</td>\n",
       "      <td>'poor appetite'</td>\n",
       "      <td>'352 365'</td>\n",
       "      <td>109</td>\n",
       "    </tr>\n",
       "    <tr>\n",
       "      <th>1485</th>\n",
       "      <td>10237</td>\n",
       "      <td>'decreased appetite'</td>\n",
       "      <td>'583 601'</td>\n",
       "      <td>109</td>\n",
       "    </tr>\n",
       "    <tr>\n",
       "      <th>1486</th>\n",
       "      <td>10239</td>\n",
       "      <td>'poor appetite'</td>\n",
       "      <td>'438 451'</td>\n",
       "      <td>109</td>\n",
       "    </tr>\n",
       "  </tbody>\n",
       "</table>\n",
       "<p>1487 rows × 4 columns</p>\n",
       "</div>"
      ],
      "text/plain": [
       "      pn_num                  annotation   location  feature_num\n",
       "0      10255      'No vaginal discharge'  '546 566'          100\n",
       "1      10257  'Denies vaginal discharge'  '355 379'          100\n",
       "2      10259  'Denies vaginal discharge'  '654 678'          100\n",
       "3      10290      'no vaginal discharge'  '376 396'          100\n",
       "4      10307      'No vaginal discharge'  '419 439'          100\n",
       "...      ...                         ...        ...          ...\n",
       "1482   10215                  'anorexia'  '464 472'          109\n",
       "1483   10225               'no appetite'  '329 340'          109\n",
       "1484   10234             'poor appetite'  '352 365'          109\n",
       "1485   10237        'decreased appetite'  '583 601'          109\n",
       "1486   10239             'poor appetite'  '438 451'          109\n",
       "\n",
       "[1487 rows x 4 columns]"
      ]
     },
     "execution_count": 14,
     "metadata": {},
     "output_type": "execute_result"
    }
   ],
   "source": [
    "df = (df.set_index(['pn_num',\"feature_num\"]) \n",
    "   .apply(lambda col: col.str.split(',').explode())\n",
    "   .reset_index()\n",
    "   .reindex(df.columns, axis=1))\n",
    "df"
   ]
  },
  {
   "cell_type": "code",
   "execution_count": 15,
   "id": "cab9cbb4",
   "metadata": {
    "scrolled": true
   },
   "outputs": [
    {
     "data": {
      "text/html": [
       "<div>\n",
       "<style scoped>\n",
       "    .dataframe tbody tr th:only-of-type {\n",
       "        vertical-align: middle;\n",
       "    }\n",
       "\n",
       "    .dataframe tbody tr th {\n",
       "        vertical-align: top;\n",
       "    }\n",
       "\n",
       "    .dataframe thead th {\n",
       "        text-align: right;\n",
       "    }\n",
       "</style>\n",
       "<table border=\"1\" class=\"dataframe\">\n",
       "  <thead>\n",
       "    <tr style=\"text-align: right;\">\n",
       "      <th></th>\n",
       "      <th>pn_num</th>\n",
       "      <th>annotation</th>\n",
       "      <th>location</th>\n",
       "      <th>feature_num</th>\n",
       "      <th>start_location</th>\n",
       "      <th>end_location</th>\n",
       "    </tr>\n",
       "  </thead>\n",
       "  <tbody>\n",
       "    <tr>\n",
       "      <th>0</th>\n",
       "      <td>10255</td>\n",
       "      <td>'No vaginal discharge'</td>\n",
       "      <td>'546 566'</td>\n",
       "      <td>100</td>\n",
       "      <td>546</td>\n",
       "      <td>566</td>\n",
       "    </tr>\n",
       "    <tr>\n",
       "      <th>1</th>\n",
       "      <td>10257</td>\n",
       "      <td>'Denies vaginal discharge'</td>\n",
       "      <td>'355 379'</td>\n",
       "      <td>100</td>\n",
       "      <td>355</td>\n",
       "      <td>379</td>\n",
       "    </tr>\n",
       "    <tr>\n",
       "      <th>2</th>\n",
       "      <td>10259</td>\n",
       "      <td>'Denies vaginal discharge'</td>\n",
       "      <td>'654 678'</td>\n",
       "      <td>100</td>\n",
       "      <td>654</td>\n",
       "      <td>678</td>\n",
       "    </tr>\n",
       "    <tr>\n",
       "      <th>3</th>\n",
       "      <td>10290</td>\n",
       "      <td>'no vaginal discharge'</td>\n",
       "      <td>'376 396'</td>\n",
       "      <td>100</td>\n",
       "      <td>376</td>\n",
       "      <td>396</td>\n",
       "    </tr>\n",
       "    <tr>\n",
       "      <th>4</th>\n",
       "      <td>10307</td>\n",
       "      <td>'No vaginal discharge'</td>\n",
       "      <td>'419 439'</td>\n",
       "      <td>100</td>\n",
       "      <td>419</td>\n",
       "      <td>439</td>\n",
       "    </tr>\n",
       "    <tr>\n",
       "      <th>...</th>\n",
       "      <td>...</td>\n",
       "      <td>...</td>\n",
       "      <td>...</td>\n",
       "      <td>...</td>\n",
       "      <td>...</td>\n",
       "      <td>...</td>\n",
       "    </tr>\n",
       "    <tr>\n",
       "      <th>1482</th>\n",
       "      <td>10215</td>\n",
       "      <td>'anorexia'</td>\n",
       "      <td>'464 472'</td>\n",
       "      <td>109</td>\n",
       "      <td>464</td>\n",
       "      <td>472</td>\n",
       "    </tr>\n",
       "    <tr>\n",
       "      <th>1483</th>\n",
       "      <td>10225</td>\n",
       "      <td>'no appetite'</td>\n",
       "      <td>'329 340'</td>\n",
       "      <td>109</td>\n",
       "      <td>329</td>\n",
       "      <td>340</td>\n",
       "    </tr>\n",
       "    <tr>\n",
       "      <th>1484</th>\n",
       "      <td>10234</td>\n",
       "      <td>'poor appetite'</td>\n",
       "      <td>'352 365'</td>\n",
       "      <td>109</td>\n",
       "      <td>352</td>\n",
       "      <td>365</td>\n",
       "    </tr>\n",
       "    <tr>\n",
       "      <th>1485</th>\n",
       "      <td>10237</td>\n",
       "      <td>'decreased appetite'</td>\n",
       "      <td>'583 601'</td>\n",
       "      <td>109</td>\n",
       "      <td>583</td>\n",
       "      <td>601</td>\n",
       "    </tr>\n",
       "    <tr>\n",
       "      <th>1486</th>\n",
       "      <td>10239</td>\n",
       "      <td>'poor appetite'</td>\n",
       "      <td>'438 451'</td>\n",
       "      <td>109</td>\n",
       "      <td>438</td>\n",
       "      <td>451</td>\n",
       "    </tr>\n",
       "  </tbody>\n",
       "</table>\n",
       "<p>1487 rows × 6 columns</p>\n",
       "</div>"
      ],
      "text/plain": [
       "      pn_num                  annotation   location  feature_num  \\\n",
       "0      10255      'No vaginal discharge'  '546 566'          100   \n",
       "1      10257  'Denies vaginal discharge'  '355 379'          100   \n",
       "2      10259  'Denies vaginal discharge'  '654 678'          100   \n",
       "3      10290      'no vaginal discharge'  '376 396'          100   \n",
       "4      10307      'No vaginal discharge'  '419 439'          100   \n",
       "...      ...                         ...        ...          ...   \n",
       "1482   10215                  'anorexia'  '464 472'          109   \n",
       "1483   10225               'no appetite'  '329 340'          109   \n",
       "1484   10234             'poor appetite'  '352 365'          109   \n",
       "1485   10237        'decreased appetite'  '583 601'          109   \n",
       "1486   10239             'poor appetite'  '438 451'          109   \n",
       "\n",
       "     start_location end_location  \n",
       "0               546          566  \n",
       "1               355          379  \n",
       "2               654          678  \n",
       "3               376          396  \n",
       "4               419          439  \n",
       "...             ...          ...  \n",
       "1482            464          472  \n",
       "1483            329          340  \n",
       "1484            352          365  \n",
       "1485            583          601  \n",
       "1486            438          451  \n",
       "\n",
       "[1487 rows x 6 columns]"
      ]
     },
     "execution_count": 15,
     "metadata": {},
     "output_type": "execute_result"
    }
   ],
   "source": [
    "df[\"start_location\"] = df[\"location\"].apply(lambda x: x.split()[0][1:])\n",
    "df[\"end_location\"] = df[\"location\"].apply(lambda x: x.split()[-1][:-1])\n",
    "df"
   ]
  },
  {
   "cell_type": "code",
   "execution_count": 16,
   "id": "0d219438",
   "metadata": {},
   "outputs": [
    {
     "data": {
      "text/plain": [
       "(80, 6)"
      ]
     },
     "execution_count": 16,
     "metadata": {},
     "output_type": "execute_result"
    }
   ],
   "source": [
    "df_100 = df[df[\"feature_num\"] == 100]\n",
    "df_100.shape"
   ]
  },
  {
   "cell_type": "code",
   "execution_count": 17,
   "id": "5ca3a994",
   "metadata": {},
   "outputs": [
    {
     "data": {
      "text/plain": [
       "(50, 6)"
      ]
     },
     "execution_count": 17,
     "metadata": {},
     "output_type": "execute_result"
    }
   ],
   "source": [
    "df_101 = df[df[\"feature_num\"] == 101].sample(n = 50, random_state = 100)\n",
    "df_101.shape"
   ]
  },
  {
   "cell_type": "code",
   "execution_count": 18,
   "id": "aa853a71",
   "metadata": {},
   "outputs": [
    {
     "data": {
      "text/plain": [
       "(60, 6)"
      ]
     },
     "execution_count": 18,
     "metadata": {},
     "output_type": "execute_result"
    }
   ],
   "source": [
    "df_102 = df[df[\"feature_num\"] == 102].sample(n = 60, random_state = 100)\n",
    "df_102.shape"
   ]
  },
  {
   "cell_type": "code",
   "execution_count": 19,
   "id": "7c78cc28",
   "metadata": {},
   "outputs": [
    {
     "data": {
      "text/plain": [
       "(60, 6)"
      ]
     },
     "execution_count": 19,
     "metadata": {},
     "output_type": "execute_result"
    }
   ],
   "source": [
    "df_105 = df[df[\"feature_num\"] == 105].sample(n = 60, random_state = 100)\n",
    "df_105.shape"
   ]
  },
  {
   "cell_type": "code",
   "execution_count": 20,
   "id": "c9ddf453",
   "metadata": {},
   "outputs": [
    {
     "data": {
      "text/plain": [
       "(50, 6)"
      ]
     },
     "execution_count": 20,
     "metadata": {},
     "output_type": "execute_result"
    }
   ],
   "source": [
    "df_106 = df[df[\"feature_num\"] == 106].sample(n = 50, random_state = 100)\n",
    "df_106.shape"
   ]
  },
  {
   "cell_type": "code",
   "execution_count": 21,
   "id": "d85171dd",
   "metadata": {},
   "outputs": [
    {
     "data": {
      "text/plain": [
       "(41, 6)"
      ]
     },
     "execution_count": 21,
     "metadata": {},
     "output_type": "execute_result"
    }
   ],
   "source": [
    "df_108 = df[df[\"feature_num\"] == 108].sample(n = 41, random_state = 100)\n",
    "df_108.shape"
   ]
  },
  {
   "cell_type": "code",
   "execution_count": 22,
   "id": "5d5b3abe",
   "metadata": {},
   "outputs": [
    {
     "data": {
      "text/plain": [
       "(40, 6)"
      ]
     },
     "execution_count": 22,
     "metadata": {},
     "output_type": "execute_result"
    }
   ],
   "source": [
    "df_109 = df[df[\"feature_num\"] == 109].sample(n = 40, random_state = 100)\n",
    "df_109.shape"
   ]
  },
  {
   "cell_type": "code",
   "execution_count": null,
   "id": "dbe95a0a",
   "metadata": {},
   "outputs": [],
   "source": []
  },
  {
   "cell_type": "markdown",
   "id": "beb4a7d5",
   "metadata": {},
   "source": [
    "### Case - 1 Train data"
   ]
  },
  {
   "cell_type": "code",
   "execution_count": 23,
   "id": "e154c02b",
   "metadata": {},
   "outputs": [],
   "source": [
    "case_1_train = case_1_train[['pn_num','annotation',\"location\",\"feature_num\"]]"
   ]
  },
  {
   "cell_type": "code",
   "execution_count": 24,
   "id": "64162feb",
   "metadata": {},
   "outputs": [
    {
     "data": {
      "text/html": [
       "<div>\n",
       "<style scoped>\n",
       "    .dataframe tbody tr th:only-of-type {\n",
       "        vertical-align: middle;\n",
       "    }\n",
       "\n",
       "    .dataframe tbody tr th {\n",
       "        vertical-align: top;\n",
       "    }\n",
       "\n",
       "    .dataframe thead th {\n",
       "        text-align: right;\n",
       "    }\n",
       "</style>\n",
       "<table border=\"1\" class=\"dataframe\">\n",
       "  <thead>\n",
       "    <tr style=\"text-align: right;\">\n",
       "      <th></th>\n",
       "      <th>pn_num</th>\n",
       "      <th>annotation</th>\n",
       "      <th>location</th>\n",
       "      <th>feature_num</th>\n",
       "    </tr>\n",
       "  </thead>\n",
       "  <tbody>\n",
       "    <tr>\n",
       "      <th>1300</th>\n",
       "      <td>10004</td>\n",
       "      <td>'no discharge'</td>\n",
       "      <td>'206 218'</td>\n",
       "      <td>100</td>\n",
       "    </tr>\n",
       "    <tr>\n",
       "      <th>1302</th>\n",
       "      <td>10004</td>\n",
       "      <td>'last sexual encounter 9 months ago'</td>\n",
       "      <td>'529 563'</td>\n",
       "      <td>102</td>\n",
       "    </tr>\n",
       "    <tr>\n",
       "      <th>1304</th>\n",
       "      <td>10004</td>\n",
       "      <td>'20 y/o'</td>\n",
       "      <td>'0 6'</td>\n",
       "      <td>104</td>\n",
       "    </tr>\n",
       "    <tr>\n",
       "      <th>1306</th>\n",
       "      <td>10004</td>\n",
       "      <td>'similar episodes 3-4 in the last 6 months'</td>\n",
       "      <td>'265 306'</td>\n",
       "      <td>106</td>\n",
       "    </tr>\n",
       "    <tr>\n",
       "      <th>1307</th>\n",
       "      <td>10004</td>\n",
       "      <td>'pain in the right lower quadrant'</td>\n",
       "      <td>'82 114'</td>\n",
       "      <td>107</td>\n",
       "    </tr>\n",
       "    <tr>\n",
       "      <th>...</th>\n",
       "      <td>...</td>\n",
       "      <td>...</td>\n",
       "      <td>...</td>\n",
       "      <td>...</td>\n",
       "    </tr>\n",
       "    <tr>\n",
       "      <th>2594</th>\n",
       "      <td>10988</td>\n",
       "      <td>'RLQ pain'</td>\n",
       "      <td>'17 25'</td>\n",
       "      <td>107</td>\n",
       "    </tr>\n",
       "    <tr>\n",
       "      <th>2596</th>\n",
       "      <td>10988</td>\n",
       "      <td>'loss of appetite'</td>\n",
       "      <td>'376 392'</td>\n",
       "      <td>109</td>\n",
       "    </tr>\n",
       "    <tr>\n",
       "      <th>2597</th>\n",
       "      <td>10988</td>\n",
       "      <td>'LMP was 2 wks ago', 'LMP 2wks ago'</td>\n",
       "      <td>'459 476', '665 677'</td>\n",
       "      <td>110</td>\n",
       "    </tr>\n",
       "    <tr>\n",
       "      <th>2598</th>\n",
       "      <td>10988</td>\n",
       "      <td>'10 hrs'</td>\n",
       "      <td>'35 41'</td>\n",
       "      <td>111</td>\n",
       "    </tr>\n",
       "    <tr>\n",
       "      <th>2599</th>\n",
       "      <td>10988</td>\n",
       "      <td>'F'</td>\n",
       "      <td>'11 12'</td>\n",
       "      <td>112</td>\n",
       "    </tr>\n",
       "  </tbody>\n",
       "</table>\n",
       "<p>942 rows × 4 columns</p>\n",
       "</div>"
      ],
      "text/plain": [
       "      pn_num                                   annotation  \\\n",
       "1300   10004                               'no discharge'   \n",
       "1302   10004         'last sexual encounter 9 months ago'   \n",
       "1304   10004                                     '20 y/o'   \n",
       "1306   10004  'similar episodes 3-4 in the last 6 months'   \n",
       "1307   10004           'pain in the right lower quadrant'   \n",
       "...      ...                                          ...   \n",
       "2594   10988                                   'RLQ pain'   \n",
       "2596   10988                           'loss of appetite'   \n",
       "2597   10988          'LMP was 2 wks ago', 'LMP 2wks ago'   \n",
       "2598   10988                                     '10 hrs'   \n",
       "2599   10988                                          'F'   \n",
       "\n",
       "                  location  feature_num  \n",
       "1300             '206 218'          100  \n",
       "1302             '529 563'          102  \n",
       "1304                 '0 6'          104  \n",
       "1306             '265 306'          106  \n",
       "1307              '82 114'          107  \n",
       "...                    ...          ...  \n",
       "2594               '17 25'          107  \n",
       "2596             '376 392'          109  \n",
       "2597  '459 476', '665 677'          110  \n",
       "2598               '35 41'          111  \n",
       "2599               '11 12'          112  \n",
       "\n",
       "[942 rows x 4 columns]"
      ]
     },
     "execution_count": 24,
     "metadata": {},
     "output_type": "execute_result"
    }
   ],
   "source": [
    "case_1_train[\"annotation\"] = case_1_train.annotation.str.replace('[','')\n",
    "case_1_train[\"annotation\"] = case_1_train.annotation.str.replace(']','')\n",
    "case_1_train[\"location\"] = case_1_train.location.str.replace('[','')\n",
    "case_1_train[\"location\"] = case_1_train.location.str.replace(']','')\n",
    "\n",
    "case_1_train"
   ]
  },
  {
   "cell_type": "code",
   "execution_count": 25,
   "id": "8df694b2",
   "metadata": {},
   "outputs": [],
   "source": [
    "case_1_train.loc[case_1_train[\"annotation\"] ==\"'stool , with no blood'\", \"annotation\"] = \"'stool   with no blood'\"\n",
    "case_1_train.loc[case_1_train[\"annotation\"] ==\"'diarrhea, which does not contain blood'\",\"annotation\"] = \"'diarrhea  which does not contain blood'\"\n",
    "case_1_train.loc[case_1_train[\"annotation\"] ==\"'3-4 similar, previous episodes of pain'\"] = \"'3-4 similar  previous episodes of pain'\"\n",
    "case_1_train.loc[case_1_train[\"annotation\"] ==\"'diarrhea', 'loose, watery stool'\",\"annotation\"] = \"'diarrhea', 'loose  watery stool'\"\n",
    "case_1_train.loc[case_1_train[\"annotation\"] ==\"'LMP: 2WK, REGULAR'\",\"annotation\"] = \"'LMP: 2WK  REGULAR'\"\n",
    "case_1_train.loc[case_1_train[\"annotation\"] ==\"'sexual active, last time was 9 months ago'\",\"annotation\"] = \"'sexual active  last time was 9 months ago'\"\n",
    "case_1_train.loc[case_1_train[\"annotation\"] ==\"'pain, started 8-10 hours ago'\",\"annotation\"] = \"'pain  started 8-10 hours ago'\"\n",
    "case_1_train.loc[case_1_train[\"annotation\"] ==\"'diarrhea in the past 2 days', 'soft, watery stools'\",\"annotation\"] = \"'diarrhea in the past 2 days', 'soft  watery stools'\""
   ]
  },
  {
   "cell_type": "code",
   "execution_count": 26,
   "id": "d56dbee6",
   "metadata": {
    "scrolled": true
   },
   "outputs": [
    {
     "data": {
      "text/html": [
       "<div>\n",
       "<style scoped>\n",
       "    .dataframe tbody tr th:only-of-type {\n",
       "        vertical-align: middle;\n",
       "    }\n",
       "\n",
       "    .dataframe tbody tr th {\n",
       "        vertical-align: top;\n",
       "    }\n",
       "\n",
       "    .dataframe thead th {\n",
       "        text-align: right;\n",
       "    }\n",
       "</style>\n",
       "<table border=\"1\" class=\"dataframe\">\n",
       "  <thead>\n",
       "    <tr style=\"text-align: right;\">\n",
       "      <th></th>\n",
       "      <th>pn_num</th>\n",
       "      <th>annotation</th>\n",
       "      <th>location</th>\n",
       "      <th>feature_num</th>\n",
       "    </tr>\n",
       "  </thead>\n",
       "  <tbody>\n",
       "    <tr>\n",
       "      <th>0</th>\n",
       "      <td>10004</td>\n",
       "      <td>'no discharge'</td>\n",
       "      <td>'206 218'</td>\n",
       "      <td>100</td>\n",
       "    </tr>\n",
       "    <tr>\n",
       "      <th>1</th>\n",
       "      <td>10004</td>\n",
       "      <td>'last sexual encounter 9 months ago'</td>\n",
       "      <td>'529 563'</td>\n",
       "      <td>102</td>\n",
       "    </tr>\n",
       "    <tr>\n",
       "      <th>2</th>\n",
       "      <td>10004</td>\n",
       "      <td>'20 y/o'</td>\n",
       "      <td>'0 6'</td>\n",
       "      <td>104</td>\n",
       "    </tr>\n",
       "    <tr>\n",
       "      <th>3</th>\n",
       "      <td>10004</td>\n",
       "      <td>'similar episodes 3-4 in the last 6 months'</td>\n",
       "      <td>'265 306'</td>\n",
       "      <td>106</td>\n",
       "    </tr>\n",
       "    <tr>\n",
       "      <th>4</th>\n",
       "      <td>10004</td>\n",
       "      <td>'pain in the right lower quadrant'</td>\n",
       "      <td>'82 114'</td>\n",
       "      <td>107</td>\n",
       "    </tr>\n",
       "    <tr>\n",
       "      <th>...</th>\n",
       "      <td>...</td>\n",
       "      <td>...</td>\n",
       "      <td>...</td>\n",
       "      <td>...</td>\n",
       "    </tr>\n",
       "    <tr>\n",
       "      <th>1024</th>\n",
       "      <td>10988</td>\n",
       "      <td>'loss of appetite'</td>\n",
       "      <td>'376 392'</td>\n",
       "      <td>109</td>\n",
       "    </tr>\n",
       "    <tr>\n",
       "      <th>1025</th>\n",
       "      <td>10988</td>\n",
       "      <td>'LMP was 2 wks ago'</td>\n",
       "      <td>'459 476'</td>\n",
       "      <td>110</td>\n",
       "    </tr>\n",
       "    <tr>\n",
       "      <th>1026</th>\n",
       "      <td>10988</td>\n",
       "      <td>'LMP 2wks ago'</td>\n",
       "      <td>'665 677'</td>\n",
       "      <td>110</td>\n",
       "    </tr>\n",
       "    <tr>\n",
       "      <th>1027</th>\n",
       "      <td>10988</td>\n",
       "      <td>'10 hrs'</td>\n",
       "      <td>'35 41'</td>\n",
       "      <td>111</td>\n",
       "    </tr>\n",
       "    <tr>\n",
       "      <th>1028</th>\n",
       "      <td>10988</td>\n",
       "      <td>'F'</td>\n",
       "      <td>'11 12'</td>\n",
       "      <td>112</td>\n",
       "    </tr>\n",
       "  </tbody>\n",
       "</table>\n",
       "<p>1029 rows × 4 columns</p>\n",
       "</div>"
      ],
      "text/plain": [
       "     pn_num                                   annotation    location  \\\n",
       "0     10004                               'no discharge'   '206 218'   \n",
       "1     10004         'last sexual encounter 9 months ago'   '529 563'   \n",
       "2     10004                                     '20 y/o'       '0 6'   \n",
       "3     10004  'similar episodes 3-4 in the last 6 months'   '265 306'   \n",
       "4     10004           'pain in the right lower quadrant'    '82 114'   \n",
       "...     ...                                          ...         ...   \n",
       "1024  10988                           'loss of appetite'   '376 392'   \n",
       "1025  10988                          'LMP was 2 wks ago'   '459 476'   \n",
       "1026  10988                               'LMP 2wks ago'   '665 677'   \n",
       "1027  10988                                     '10 hrs'     '35 41'   \n",
       "1028  10988                                          'F'     '11 12'   \n",
       "\n",
       "     feature_num  \n",
       "0            100  \n",
       "1            102  \n",
       "2            104  \n",
       "3            106  \n",
       "4            107  \n",
       "...          ...  \n",
       "1024         109  \n",
       "1025         110  \n",
       "1026         110  \n",
       "1027         111  \n",
       "1028         112  \n",
       "\n",
       "[1029 rows x 4 columns]"
      ]
     },
     "execution_count": 26,
     "metadata": {},
     "output_type": "execute_result"
    }
   ],
   "source": [
    "case_1_train = (case_1_train.set_index(['pn_num',\"feature_num\"]) \n",
    "   .apply(lambda col: col.str.split(',').explode())\n",
    "   .reset_index()\n",
    "   .reindex(case_1_train.columns, axis=1))\n",
    "case_1_train"
   ]
  },
  {
   "cell_type": "code",
   "execution_count": 27,
   "id": "1308701c",
   "metadata": {},
   "outputs": [],
   "source": [
    "case_1_train = case_1_train.drop(index = 433, axis = 0)"
   ]
  },
  {
   "cell_type": "code",
   "execution_count": 28,
   "id": "b108a514",
   "metadata": {},
   "outputs": [
    {
     "data": {
      "text/html": [
       "<div>\n",
       "<style scoped>\n",
       "    .dataframe tbody tr th:only-of-type {\n",
       "        vertical-align: middle;\n",
       "    }\n",
       "\n",
       "    .dataframe tbody tr th {\n",
       "        vertical-align: top;\n",
       "    }\n",
       "\n",
       "    .dataframe thead th {\n",
       "        text-align: right;\n",
       "    }\n",
       "</style>\n",
       "<table border=\"1\" class=\"dataframe\">\n",
       "  <thead>\n",
       "    <tr style=\"text-align: right;\">\n",
       "      <th></th>\n",
       "      <th>pn_num</th>\n",
       "      <th>annotation</th>\n",
       "      <th>location</th>\n",
       "      <th>feature_num</th>\n",
       "      <th>start_location</th>\n",
       "      <th>end_location</th>\n",
       "    </tr>\n",
       "  </thead>\n",
       "  <tbody>\n",
       "    <tr>\n",
       "      <th>0</th>\n",
       "      <td>10004</td>\n",
       "      <td>'no discharge'</td>\n",
       "      <td>'206 218'</td>\n",
       "      <td>100</td>\n",
       "      <td>206</td>\n",
       "      <td>218</td>\n",
       "    </tr>\n",
       "    <tr>\n",
       "      <th>1</th>\n",
       "      <td>10004</td>\n",
       "      <td>'last sexual encounter 9 months ago'</td>\n",
       "      <td>'529 563'</td>\n",
       "      <td>102</td>\n",
       "      <td>529</td>\n",
       "      <td>563</td>\n",
       "    </tr>\n",
       "    <tr>\n",
       "      <th>2</th>\n",
       "      <td>10004</td>\n",
       "      <td>'20 y/o'</td>\n",
       "      <td>'0 6'</td>\n",
       "      <td>104</td>\n",
       "      <td>0</td>\n",
       "      <td>6</td>\n",
       "    </tr>\n",
       "    <tr>\n",
       "      <th>3</th>\n",
       "      <td>10004</td>\n",
       "      <td>'similar episodes 3-4 in the last 6 months'</td>\n",
       "      <td>'265 306'</td>\n",
       "      <td>106</td>\n",
       "      <td>265</td>\n",
       "      <td>306</td>\n",
       "    </tr>\n",
       "    <tr>\n",
       "      <th>4</th>\n",
       "      <td>10004</td>\n",
       "      <td>'pain in the right lower quadrant'</td>\n",
       "      <td>'82 114'</td>\n",
       "      <td>107</td>\n",
       "      <td>82</td>\n",
       "      <td>114</td>\n",
       "    </tr>\n",
       "    <tr>\n",
       "      <th>...</th>\n",
       "      <td>...</td>\n",
       "      <td>...</td>\n",
       "      <td>...</td>\n",
       "      <td>...</td>\n",
       "      <td>...</td>\n",
       "      <td>...</td>\n",
       "    </tr>\n",
       "    <tr>\n",
       "      <th>1024</th>\n",
       "      <td>10988</td>\n",
       "      <td>'loss of appetite'</td>\n",
       "      <td>'376 392'</td>\n",
       "      <td>109</td>\n",
       "      <td>376</td>\n",
       "      <td>392</td>\n",
       "    </tr>\n",
       "    <tr>\n",
       "      <th>1025</th>\n",
       "      <td>10988</td>\n",
       "      <td>'LMP was 2 wks ago'</td>\n",
       "      <td>'459 476'</td>\n",
       "      <td>110</td>\n",
       "      <td>459</td>\n",
       "      <td>476</td>\n",
       "    </tr>\n",
       "    <tr>\n",
       "      <th>1026</th>\n",
       "      <td>10988</td>\n",
       "      <td>'LMP 2wks ago'</td>\n",
       "      <td>'665 677'</td>\n",
       "      <td>110</td>\n",
       "      <td>665</td>\n",
       "      <td>677</td>\n",
       "    </tr>\n",
       "    <tr>\n",
       "      <th>1027</th>\n",
       "      <td>10988</td>\n",
       "      <td>'10 hrs'</td>\n",
       "      <td>'35 41'</td>\n",
       "      <td>111</td>\n",
       "      <td>35</td>\n",
       "      <td>41</td>\n",
       "    </tr>\n",
       "    <tr>\n",
       "      <th>1028</th>\n",
       "      <td>10988</td>\n",
       "      <td>'F'</td>\n",
       "      <td>'11 12'</td>\n",
       "      <td>112</td>\n",
       "      <td>11</td>\n",
       "      <td>12</td>\n",
       "    </tr>\n",
       "  </tbody>\n",
       "</table>\n",
       "<p>1028 rows × 6 columns</p>\n",
       "</div>"
      ],
      "text/plain": [
       "     pn_num                                   annotation    location  \\\n",
       "0     10004                               'no discharge'   '206 218'   \n",
       "1     10004         'last sexual encounter 9 months ago'   '529 563'   \n",
       "2     10004                                     '20 y/o'       '0 6'   \n",
       "3     10004  'similar episodes 3-4 in the last 6 months'   '265 306'   \n",
       "4     10004           'pain in the right lower quadrant'    '82 114'   \n",
       "...     ...                                          ...         ...   \n",
       "1024  10988                           'loss of appetite'   '376 392'   \n",
       "1025  10988                          'LMP was 2 wks ago'   '459 476'   \n",
       "1026  10988                               'LMP 2wks ago'   '665 677'   \n",
       "1027  10988                                     '10 hrs'     '35 41'   \n",
       "1028  10988                                          'F'     '11 12'   \n",
       "\n",
       "     feature_num start_location end_location  \n",
       "0            100            206          218  \n",
       "1            102            529          563  \n",
       "2            104              0            6  \n",
       "3            106            265          306  \n",
       "4            107             82          114  \n",
       "...          ...            ...          ...  \n",
       "1024         109            376          392  \n",
       "1025         110            459          476  \n",
       "1026         110            665          677  \n",
       "1027         111             35           41  \n",
       "1028         112             11           12  \n",
       "\n",
       "[1028 rows x 6 columns]"
      ]
     },
     "execution_count": 28,
     "metadata": {},
     "output_type": "execute_result"
    }
   ],
   "source": [
    "case_1_train[\"start_location\"] = case_1_train[\"location\"].apply(lambda x: x.split()[0][1:])\n",
    "case_1_train[\"end_location\"] = case_1_train[\"location\"].apply(lambda x: x.split()[-1][:-1])\n",
    "case_1_train"
   ]
  },
  {
   "cell_type": "code",
   "execution_count": 29,
   "id": "3adb5774",
   "metadata": {},
   "outputs": [
    {
     "data": {
      "text/plain": [
       "(1409, 6)"
      ]
     },
     "execution_count": 29,
     "metadata": {},
     "output_type": "execute_result"
    }
   ],
   "source": [
    "case_1 = pd.concat([case_1_train, df_100, df_101, df_108,df_102, df_105, df_106, df_109])\n",
    "case_1.shape"
   ]
  },
  {
   "cell_type": "code",
   "execution_count": 30,
   "id": "93ec525d",
   "metadata": {},
   "outputs": [
    {
     "data": {
      "text/html": [
       "<div>\n",
       "<style scoped>\n",
       "    .dataframe tbody tr th:only-of-type {\n",
       "        vertical-align: middle;\n",
       "    }\n",
       "\n",
       "    .dataframe tbody tr th {\n",
       "        vertical-align: top;\n",
       "    }\n",
       "\n",
       "    .dataframe thead th {\n",
       "        text-align: right;\n",
       "    }\n",
       "</style>\n",
       "<table border=\"1\" class=\"dataframe\">\n",
       "  <thead>\n",
       "    <tr style=\"text-align: right;\">\n",
       "      <th></th>\n",
       "      <th>pn_num</th>\n",
       "      <th>annotation</th>\n",
       "      <th>location</th>\n",
       "      <th>feature_num</th>\n",
       "      <th>start_location</th>\n",
       "      <th>end_location</th>\n",
       "      <th>case_num</th>\n",
       "      <th>pn_history</th>\n",
       "    </tr>\n",
       "  </thead>\n",
       "  <tbody>\n",
       "    <tr>\n",
       "      <th>0</th>\n",
       "      <td>10004</td>\n",
       "      <td>'no discharge'</td>\n",
       "      <td>'206 218'</td>\n",
       "      <td>100</td>\n",
       "      <td>206</td>\n",
       "      <td>218</td>\n",
       "      <td>1</td>\n",
       "      <td>20 y/o F c/o abdominal pain  \\r\\n5/10. from la...</td>\n",
       "    </tr>\n",
       "    <tr>\n",
       "      <th>1</th>\n",
       "      <td>10004</td>\n",
       "      <td>'last sexual encounter 9 months ago'</td>\n",
       "      <td>'529 563'</td>\n",
       "      <td>102</td>\n",
       "      <td>529</td>\n",
       "      <td>563</td>\n",
       "      <td>1</td>\n",
       "      <td>20 y/o F c/o abdominal pain  \\r\\n5/10. from la...</td>\n",
       "    </tr>\n",
       "    <tr>\n",
       "      <th>2</th>\n",
       "      <td>10004</td>\n",
       "      <td>'20 y/o'</td>\n",
       "      <td>'0 6'</td>\n",
       "      <td>104</td>\n",
       "      <td>0</td>\n",
       "      <td>6</td>\n",
       "      <td>1</td>\n",
       "      <td>20 y/o F c/o abdominal pain  \\r\\n5/10. from la...</td>\n",
       "    </tr>\n",
       "    <tr>\n",
       "      <th>3</th>\n",
       "      <td>10004</td>\n",
       "      <td>'similar episodes 3-4 in the last 6 months'</td>\n",
       "      <td>'265 306'</td>\n",
       "      <td>106</td>\n",
       "      <td>265</td>\n",
       "      <td>306</td>\n",
       "      <td>1</td>\n",
       "      <td>20 y/o F c/o abdominal pain  \\r\\n5/10. from la...</td>\n",
       "    </tr>\n",
       "    <tr>\n",
       "      <th>4</th>\n",
       "      <td>10004</td>\n",
       "      <td>'pain in the right lower quadrant'</td>\n",
       "      <td>'82 114'</td>\n",
       "      <td>107</td>\n",
       "      <td>82</td>\n",
       "      <td>114</td>\n",
       "      <td>1</td>\n",
       "      <td>20 y/o F c/o abdominal pain  \\r\\n5/10. from la...</td>\n",
       "    </tr>\n",
       "    <tr>\n",
       "      <th>...</th>\n",
       "      <td>...</td>\n",
       "      <td>...</td>\n",
       "      <td>...</td>\n",
       "      <td>...</td>\n",
       "      <td>...</td>\n",
       "      <td>...</td>\n",
       "      <td>...</td>\n",
       "      <td>...</td>\n",
       "    </tr>\n",
       "    <tr>\n",
       "      <th>1404</th>\n",
       "      <td>10791</td>\n",
       "      <td>'anorexia'</td>\n",
       "      <td>'347 355'</td>\n",
       "      <td>109</td>\n",
       "      <td>347</td>\n",
       "      <td>355</td>\n",
       "      <td>1</td>\n",
       "      <td>This is a 20 year old female who presents for ...</td>\n",
       "    </tr>\n",
       "    <tr>\n",
       "      <th>1405</th>\n",
       "      <td>10706</td>\n",
       "      <td>'decreased appetite'</td>\n",
       "      <td>'143 161'</td>\n",
       "      <td>109</td>\n",
       "      <td>143</td>\n",
       "      <td>161</td>\n",
       "      <td>1</td>\n",
       "      <td>20 year old female presents with sudden onset ...</td>\n",
       "    </tr>\n",
       "    <tr>\n",
       "      <th>1406</th>\n",
       "      <td>10918</td>\n",
       "      <td>'anorexia'</td>\n",
       "      <td>'408 416'</td>\n",
       "      <td>109</td>\n",
       "      <td>408</td>\n",
       "      <td>416</td>\n",
       "      <td>1</td>\n",
       "      <td>Ms Powelton is a 20 yo F with no PMH presentin...</td>\n",
       "    </tr>\n",
       "    <tr>\n",
       "      <th>1407</th>\n",
       "      <td>10452</td>\n",
       "      <td>'Loss of appetite'</td>\n",
       "      <td>'273 289'</td>\n",
       "      <td>109</td>\n",
       "      <td>273</td>\n",
       "      <td>289</td>\n",
       "      <td>1</td>\n",
       "      <td>HPI 20 yo F complains of lower righ abdominal ...</td>\n",
       "    </tr>\n",
       "    <tr>\n",
       "      <th>1408</th>\n",
       "      <td>10356</td>\n",
       "      <td>'decreased apetite'</td>\n",
       "      <td>'574 591'</td>\n",
       "      <td>109</td>\n",
       "      <td>574</td>\n",
       "      <td>591</td>\n",
       "      <td>1</td>\n",
       "      <td>Ms. Powelton is a 20 yo F who is otherwise hea...</td>\n",
       "    </tr>\n",
       "  </tbody>\n",
       "</table>\n",
       "<p>1409 rows × 8 columns</p>\n",
       "</div>"
      ],
      "text/plain": [
       "     pn_num                                   annotation   location  \\\n",
       "0     10004                               'no discharge'  '206 218'   \n",
       "1     10004         'last sexual encounter 9 months ago'  '529 563'   \n",
       "2     10004                                     '20 y/o'      '0 6'   \n",
       "3     10004  'similar episodes 3-4 in the last 6 months'  '265 306'   \n",
       "4     10004           'pain in the right lower quadrant'   '82 114'   \n",
       "...     ...                                          ...        ...   \n",
       "1404  10791                                   'anorexia'  '347 355'   \n",
       "1405  10706                         'decreased appetite'  '143 161'   \n",
       "1406  10918                                   'anorexia'  '408 416'   \n",
       "1407  10452                           'Loss of appetite'  '273 289'   \n",
       "1408  10356                          'decreased apetite'  '574 591'   \n",
       "\n",
       "     feature_num start_location end_location  case_num  \\\n",
       "0            100            206          218         1   \n",
       "1            102            529          563         1   \n",
       "2            104              0            6         1   \n",
       "3            106            265          306         1   \n",
       "4            107             82          114         1   \n",
       "...          ...            ...          ...       ...   \n",
       "1404         109            347          355         1   \n",
       "1405         109            143          161         1   \n",
       "1406         109            408          416         1   \n",
       "1407         109            273          289         1   \n",
       "1408         109            574          591         1   \n",
       "\n",
       "                                             pn_history  \n",
       "0     20 y/o F c/o abdominal pain  \\r\\n5/10. from la...  \n",
       "1     20 y/o F c/o abdominal pain  \\r\\n5/10. from la...  \n",
       "2     20 y/o F c/o abdominal pain  \\r\\n5/10. from la...  \n",
       "3     20 y/o F c/o abdominal pain  \\r\\n5/10. from la...  \n",
       "4     20 y/o F c/o abdominal pain  \\r\\n5/10. from la...  \n",
       "...                                                 ...  \n",
       "1404  This is a 20 year old female who presents for ...  \n",
       "1405  20 year old female presents with sudden onset ...  \n",
       "1406  Ms Powelton is a 20 yo F with no PMH presentin...  \n",
       "1407  HPI 20 yo F complains of lower righ abdominal ...  \n",
       "1408  Ms. Powelton is a 20 yo F who is otherwise hea...  \n",
       "\n",
       "[1409 rows x 8 columns]"
      ]
     },
     "execution_count": 30,
     "metadata": {},
     "output_type": "execute_result"
    }
   ],
   "source": [
    "case_1 = case_1.merge(patient_notes, on='pn_num', how='left')\n",
    "case_1"
   ]
  },
  {
   "cell_type": "code",
   "execution_count": 31,
   "id": "4aa5152a",
   "metadata": {},
   "outputs": [
    {
     "data": {
      "text/html": [
       "<div>\n",
       "<style scoped>\n",
       "    .dataframe tbody tr th:only-of-type {\n",
       "        vertical-align: middle;\n",
       "    }\n",
       "\n",
       "    .dataframe tbody tr th {\n",
       "        vertical-align: top;\n",
       "    }\n",
       "\n",
       "    .dataframe thead th {\n",
       "        text-align: right;\n",
       "    }\n",
       "</style>\n",
       "<table border=\"1\" class=\"dataframe\">\n",
       "  <thead>\n",
       "    <tr style=\"text-align: right;\">\n",
       "      <th></th>\n",
       "      <th>pn_num</th>\n",
       "      <th>annotation</th>\n",
       "      <th>location</th>\n",
       "      <th>feature_num</th>\n",
       "      <th>start_location</th>\n",
       "      <th>end_location</th>\n",
       "      <th>case_num</th>\n",
       "      <th>pn_history</th>\n",
       "      <th>New_annotation</th>\n",
       "    </tr>\n",
       "  </thead>\n",
       "  <tbody>\n",
       "    <tr>\n",
       "      <th>0</th>\n",
       "      <td>10004</td>\n",
       "      <td>'no discharge'</td>\n",
       "      <td>'206 218'</td>\n",
       "      <td>100</td>\n",
       "      <td>206</td>\n",
       "      <td>218</td>\n",
       "      <td>1</td>\n",
       "      <td>20 y/o F c/o abdominal pain  \\r\\n5/10. from la...</td>\n",
       "      <td>no discharge</td>\n",
       "    </tr>\n",
       "    <tr>\n",
       "      <th>1</th>\n",
       "      <td>10004</td>\n",
       "      <td>'last sexual encounter 9 months ago'</td>\n",
       "      <td>'529 563'</td>\n",
       "      <td>102</td>\n",
       "      <td>529</td>\n",
       "      <td>563</td>\n",
       "      <td>1</td>\n",
       "      <td>20 y/o F c/o abdominal pain  \\r\\n5/10. from la...</td>\n",
       "      <td>last sexual encounter 9 months ago</td>\n",
       "    </tr>\n",
       "    <tr>\n",
       "      <th>2</th>\n",
       "      <td>10004</td>\n",
       "      <td>'20 y/o'</td>\n",
       "      <td>'0 6'</td>\n",
       "      <td>104</td>\n",
       "      <td>0</td>\n",
       "      <td>6</td>\n",
       "      <td>1</td>\n",
       "      <td>20 y/o F c/o abdominal pain  \\r\\n5/10. from la...</td>\n",
       "      <td>20 y/o</td>\n",
       "    </tr>\n",
       "    <tr>\n",
       "      <th>3</th>\n",
       "      <td>10004</td>\n",
       "      <td>'similar episodes 3-4 in the last 6 months'</td>\n",
       "      <td>'265 306'</td>\n",
       "      <td>106</td>\n",
       "      <td>265</td>\n",
       "      <td>306</td>\n",
       "      <td>1</td>\n",
       "      <td>20 y/o F c/o abdominal pain  \\r\\n5/10. from la...</td>\n",
       "      <td>similar episodes 3-4 in the last 6 months</td>\n",
       "    </tr>\n",
       "    <tr>\n",
       "      <th>4</th>\n",
       "      <td>10004</td>\n",
       "      <td>'pain in the right lower quadrant'</td>\n",
       "      <td>'82 114'</td>\n",
       "      <td>107</td>\n",
       "      <td>82</td>\n",
       "      <td>114</td>\n",
       "      <td>1</td>\n",
       "      <td>20 y/o F c/o abdominal pain  \\r\\n5/10. from la...</td>\n",
       "      <td>pain in the right lower quadrant</td>\n",
       "    </tr>\n",
       "  </tbody>\n",
       "</table>\n",
       "</div>"
      ],
      "text/plain": [
       "  pn_num                                   annotation   location feature_num  \\\n",
       "0  10004                               'no discharge'  '206 218'         100   \n",
       "1  10004         'last sexual encounter 9 months ago'  '529 563'         102   \n",
       "2  10004                                     '20 y/o'      '0 6'         104   \n",
       "3  10004  'similar episodes 3-4 in the last 6 months'  '265 306'         106   \n",
       "4  10004           'pain in the right lower quadrant'   '82 114'         107   \n",
       "\n",
       "  start_location end_location  case_num  \\\n",
       "0            206          218         1   \n",
       "1            529          563         1   \n",
       "2              0            6         1   \n",
       "3            265          306         1   \n",
       "4             82          114         1   \n",
       "\n",
       "                                          pn_history  \\\n",
       "0  20 y/o F c/o abdominal pain  \\r\\n5/10. from la...   \n",
       "1  20 y/o F c/o abdominal pain  \\r\\n5/10. from la...   \n",
       "2  20 y/o F c/o abdominal pain  \\r\\n5/10. from la...   \n",
       "3  20 y/o F c/o abdominal pain  \\r\\n5/10. from la...   \n",
       "4  20 y/o F c/o abdominal pain  \\r\\n5/10. from la...   \n",
       "\n",
       "                              New_annotation  \n",
       "0                               no discharge  \n",
       "1         last sexual encounter 9 months ago  \n",
       "2                                     20 y/o  \n",
       "3  similar episodes 3-4 in the last 6 months  \n",
       "4           pain in the right lower quadrant  "
      ]
     },
     "execution_count": 31,
     "metadata": {},
     "output_type": "execute_result"
    }
   ],
   "source": [
    "case_1[\"New_annotation\"] = case_1.apply(lambda x: x.pn_history[int(x.start_location):int(x.end_location)],axis=1)\n",
    "case_1.head()"
   ]
  },
  {
   "cell_type": "code",
   "execution_count": 32,
   "id": "fa232627",
   "metadata": {},
   "outputs": [
    {
     "data": {
      "text/html": [
       "<div>\n",
       "<style scoped>\n",
       "    .dataframe tbody tr th:only-of-type {\n",
       "        vertical-align: middle;\n",
       "    }\n",
       "\n",
       "    .dataframe tbody tr th {\n",
       "        vertical-align: top;\n",
       "    }\n",
       "\n",
       "    .dataframe thead th {\n",
       "        text-align: right;\n",
       "    }\n",
       "</style>\n",
       "<table border=\"1\" class=\"dataframe\">\n",
       "  <thead>\n",
       "    <tr style=\"text-align: right;\">\n",
       "      <th></th>\n",
       "      <th>pn_num</th>\n",
       "      <th>annotation</th>\n",
       "      <th>location</th>\n",
       "      <th>feature_num</th>\n",
       "      <th>start_location</th>\n",
       "      <th>end_location</th>\n",
       "      <th>case_num</th>\n",
       "      <th>pn_history</th>\n",
       "      <th>New_annotation</th>\n",
       "    </tr>\n",
       "  </thead>\n",
       "  <tbody>\n",
       "    <tr>\n",
       "      <th>0</th>\n",
       "      <td>10004</td>\n",
       "      <td>'no discharge'</td>\n",
       "      <td>'206 218'</td>\n",
       "      <td>100</td>\n",
       "      <td>206</td>\n",
       "      <td>218</td>\n",
       "      <td>1</td>\n",
       "      <td>20 y/o F c/o abdominal pain  \\r\\n5/10. from la...</td>\n",
       "      <td>no discharge</td>\n",
       "    </tr>\n",
       "    <tr>\n",
       "      <th>1</th>\n",
       "      <td>10004</td>\n",
       "      <td>'last sexual encounter 9 months ago'</td>\n",
       "      <td>'529 563'</td>\n",
       "      <td>102</td>\n",
       "      <td>529</td>\n",
       "      <td>563</td>\n",
       "      <td>1</td>\n",
       "      <td>20 y/o F c/o abdominal pain  \\r\\n5/10. from la...</td>\n",
       "      <td>last sexual encounter 9 months ago</td>\n",
       "    </tr>\n",
       "    <tr>\n",
       "      <th>2</th>\n",
       "      <td>10004</td>\n",
       "      <td>'20 y/o'</td>\n",
       "      <td>'0 6'</td>\n",
       "      <td>104</td>\n",
       "      <td>0</td>\n",
       "      <td>6</td>\n",
       "      <td>1</td>\n",
       "      <td>20 y/o F c/o abdominal pain  \\r\\n5/10. from la...</td>\n",
       "      <td>20 y o</td>\n",
       "    </tr>\n",
       "    <tr>\n",
       "      <th>3</th>\n",
       "      <td>10004</td>\n",
       "      <td>'similar episodes 3-4 in the last 6 months'</td>\n",
       "      <td>'265 306'</td>\n",
       "      <td>106</td>\n",
       "      <td>265</td>\n",
       "      <td>306</td>\n",
       "      <td>1</td>\n",
       "      <td>20 y/o F c/o abdominal pain  \\r\\n5/10. from la...</td>\n",
       "      <td>similar episodes 3-4 in the last 6 months</td>\n",
       "    </tr>\n",
       "    <tr>\n",
       "      <th>4</th>\n",
       "      <td>10004</td>\n",
       "      <td>'pain in the right lower quadrant'</td>\n",
       "      <td>'82 114'</td>\n",
       "      <td>107</td>\n",
       "      <td>82</td>\n",
       "      <td>114</td>\n",
       "      <td>1</td>\n",
       "      <td>20 y/o F c/o abdominal pain  \\r\\n5/10. from la...</td>\n",
       "      <td>pain in the right lower quadrant</td>\n",
       "    </tr>\n",
       "    <tr>\n",
       "      <th>...</th>\n",
       "      <td>...</td>\n",
       "      <td>...</td>\n",
       "      <td>...</td>\n",
       "      <td>...</td>\n",
       "      <td>...</td>\n",
       "      <td>...</td>\n",
       "      <td>...</td>\n",
       "      <td>...</td>\n",
       "      <td>...</td>\n",
       "    </tr>\n",
       "    <tr>\n",
       "      <th>1404</th>\n",
       "      <td>10791</td>\n",
       "      <td>'anorexia'</td>\n",
       "      <td>'347 355'</td>\n",
       "      <td>109</td>\n",
       "      <td>347</td>\n",
       "      <td>355</td>\n",
       "      <td>1</td>\n",
       "      <td>This is a 20 year old female who presents for ...</td>\n",
       "      <td>anorexia</td>\n",
       "    </tr>\n",
       "    <tr>\n",
       "      <th>1405</th>\n",
       "      <td>10706</td>\n",
       "      <td>'decreased appetite'</td>\n",
       "      <td>'143 161'</td>\n",
       "      <td>109</td>\n",
       "      <td>143</td>\n",
       "      <td>161</td>\n",
       "      <td>1</td>\n",
       "      <td>20 year old female presents with sudden onset ...</td>\n",
       "      <td>decreased appetite</td>\n",
       "    </tr>\n",
       "    <tr>\n",
       "      <th>1406</th>\n",
       "      <td>10918</td>\n",
       "      <td>'anorexia'</td>\n",
       "      <td>'408 416'</td>\n",
       "      <td>109</td>\n",
       "      <td>408</td>\n",
       "      <td>416</td>\n",
       "      <td>1</td>\n",
       "      <td>Ms Powelton is a 20 yo F with no PMH presentin...</td>\n",
       "      <td>anorexia</td>\n",
       "    </tr>\n",
       "    <tr>\n",
       "      <th>1407</th>\n",
       "      <td>10452</td>\n",
       "      <td>'Loss of appetite'</td>\n",
       "      <td>'273 289'</td>\n",
       "      <td>109</td>\n",
       "      <td>273</td>\n",
       "      <td>289</td>\n",
       "      <td>1</td>\n",
       "      <td>HPI 20 yo F complains of lower righ abdominal ...</td>\n",
       "      <td>Loss of appetite</td>\n",
       "    </tr>\n",
       "    <tr>\n",
       "      <th>1408</th>\n",
       "      <td>10356</td>\n",
       "      <td>'decreased apetite'</td>\n",
       "      <td>'574 591'</td>\n",
       "      <td>109</td>\n",
       "      <td>574</td>\n",
       "      <td>591</td>\n",
       "      <td>1</td>\n",
       "      <td>Ms. Powelton is a 20 yo F who is otherwise hea...</td>\n",
       "      <td>decreased apetite</td>\n",
       "    </tr>\n",
       "  </tbody>\n",
       "</table>\n",
       "<p>1409 rows × 9 columns</p>\n",
       "</div>"
      ],
      "text/plain": [
       "     pn_num                                   annotation   location  \\\n",
       "0     10004                               'no discharge'  '206 218'   \n",
       "1     10004         'last sexual encounter 9 months ago'  '529 563'   \n",
       "2     10004                                     '20 y/o'      '0 6'   \n",
       "3     10004  'similar episodes 3-4 in the last 6 months'  '265 306'   \n",
       "4     10004           'pain in the right lower quadrant'   '82 114'   \n",
       "...     ...                                          ...        ...   \n",
       "1404  10791                                   'anorexia'  '347 355'   \n",
       "1405  10706                         'decreased appetite'  '143 161'   \n",
       "1406  10918                                   'anorexia'  '408 416'   \n",
       "1407  10452                           'Loss of appetite'  '273 289'   \n",
       "1408  10356                          'decreased apetite'  '574 591'   \n",
       "\n",
       "     feature_num start_location end_location  case_num  \\\n",
       "0            100            206          218         1   \n",
       "1            102            529          563         1   \n",
       "2            104              0            6         1   \n",
       "3            106            265          306         1   \n",
       "4            107             82          114         1   \n",
       "...          ...            ...          ...       ...   \n",
       "1404         109            347          355         1   \n",
       "1405         109            143          161         1   \n",
       "1406         109            408          416         1   \n",
       "1407         109            273          289         1   \n",
       "1408         109            574          591         1   \n",
       "\n",
       "                                             pn_history  \\\n",
       "0     20 y/o F c/o abdominal pain  \\r\\n5/10. from la...   \n",
       "1     20 y/o F c/o abdominal pain  \\r\\n5/10. from la...   \n",
       "2     20 y/o F c/o abdominal pain  \\r\\n5/10. from la...   \n",
       "3     20 y/o F c/o abdominal pain  \\r\\n5/10. from la...   \n",
       "4     20 y/o F c/o abdominal pain  \\r\\n5/10. from la...   \n",
       "...                                                 ...   \n",
       "1404  This is a 20 year old female who presents for ...   \n",
       "1405  20 year old female presents with sudden onset ...   \n",
       "1406  Ms Powelton is a 20 yo F with no PMH presentin...   \n",
       "1407  HPI 20 yo F complains of lower righ abdominal ...   \n",
       "1408  Ms. Powelton is a 20 yo F who is otherwise hea...   \n",
       "\n",
       "                                 New_annotation  \n",
       "0                                  no discharge  \n",
       "1            last sexual encounter 9 months ago  \n",
       "2                                        20 y o  \n",
       "3     similar episodes 3-4 in the last 6 months  \n",
       "4              pain in the right lower quadrant  \n",
       "...                                         ...  \n",
       "1404                                   anorexia  \n",
       "1405                         decreased appetite  \n",
       "1406                                   anorexia  \n",
       "1407                           Loss of appetite  \n",
       "1408                          decreased apetite  \n",
       "\n",
       "[1409 rows x 9 columns]"
      ]
     },
     "execution_count": 32,
     "metadata": {},
     "output_type": "execute_result"
    }
   ],
   "source": [
    "case_1[\"New_annotation\"] = case_1[\"New_annotation\"].apply(lambda x: re.sub(r'''[/\"+,()\\r\\n]''',' ',x))\n",
    "case_1[\"New_annotation\"] = case_1[\"New_annotation\"].apply(lambda x: re.sub(r'''[']''','',x))\n",
    "case_1[\"New_annotation\"] = case_1[\"New_annotation\"].apply(lambda x: x.strip())\n",
    "case_1"
   ]
  },
  {
   "cell_type": "code",
   "execution_count": 33,
   "id": "b1148992",
   "metadata": {},
   "outputs": [
    {
     "data": {
      "text/html": [
       "<div>\n",
       "<style scoped>\n",
       "    .dataframe tbody tr th:only-of-type {\n",
       "        vertical-align: middle;\n",
       "    }\n",
       "\n",
       "    .dataframe tbody tr th {\n",
       "        vertical-align: top;\n",
       "    }\n",
       "\n",
       "    .dataframe thead th {\n",
       "        text-align: right;\n",
       "    }\n",
       "</style>\n",
       "<table border=\"1\" class=\"dataframe\">\n",
       "  <thead>\n",
       "    <tr style=\"text-align: right;\">\n",
       "      <th></th>\n",
       "      <th>pn_num</th>\n",
       "      <th>annotation</th>\n",
       "      <th>location</th>\n",
       "      <th>feature_num</th>\n",
       "      <th>start_location</th>\n",
       "      <th>end_location</th>\n",
       "      <th>case_num</th>\n",
       "      <th>pn_history</th>\n",
       "      <th>New_annotation</th>\n",
       "      <th>New_pn_history</th>\n",
       "    </tr>\n",
       "  </thead>\n",
       "  <tbody>\n",
       "    <tr>\n",
       "      <th>0</th>\n",
       "      <td>10004</td>\n",
       "      <td>'no discharge'</td>\n",
       "      <td>'206 218'</td>\n",
       "      <td>100</td>\n",
       "      <td>206</td>\n",
       "      <td>218</td>\n",
       "      <td>1</td>\n",
       "      <td>20 y/o F c/o abdominal pain  \\r\\n5/10. from la...</td>\n",
       "      <td>no discharge</td>\n",
       "      <td>20 y o F c o abdominal pain    5 10. from last...</td>\n",
       "    </tr>\n",
       "    <tr>\n",
       "      <th>1</th>\n",
       "      <td>10004</td>\n",
       "      <td>'last sexual encounter 9 months ago'</td>\n",
       "      <td>'529 563'</td>\n",
       "      <td>102</td>\n",
       "      <td>529</td>\n",
       "      <td>563</td>\n",
       "      <td>1</td>\n",
       "      <td>20 y/o F c/o abdominal pain  \\r\\n5/10. from la...</td>\n",
       "      <td>last sexual encounter 9 months ago</td>\n",
       "      <td>20 y o F c o abdominal pain    5 10. from last...</td>\n",
       "    </tr>\n",
       "    <tr>\n",
       "      <th>2</th>\n",
       "      <td>10004</td>\n",
       "      <td>'20 y/o'</td>\n",
       "      <td>'0 6'</td>\n",
       "      <td>104</td>\n",
       "      <td>0</td>\n",
       "      <td>6</td>\n",
       "      <td>1</td>\n",
       "      <td>20 y/o F c/o abdominal pain  \\r\\n5/10. from la...</td>\n",
       "      <td>20 y o</td>\n",
       "      <td>20 y o F c o abdominal pain    5 10. from last...</td>\n",
       "    </tr>\n",
       "    <tr>\n",
       "      <th>3</th>\n",
       "      <td>10004</td>\n",
       "      <td>'similar episodes 3-4 in the last 6 months'</td>\n",
       "      <td>'265 306'</td>\n",
       "      <td>106</td>\n",
       "      <td>265</td>\n",
       "      <td>306</td>\n",
       "      <td>1</td>\n",
       "      <td>20 y/o F c/o abdominal pain  \\r\\n5/10. from la...</td>\n",
       "      <td>similar episodes 3-4 in the last 6 months</td>\n",
       "      <td>20 y o F c o abdominal pain    5 10. from last...</td>\n",
       "    </tr>\n",
       "    <tr>\n",
       "      <th>4</th>\n",
       "      <td>10004</td>\n",
       "      <td>'pain in the right lower quadrant'</td>\n",
       "      <td>'82 114'</td>\n",
       "      <td>107</td>\n",
       "      <td>82</td>\n",
       "      <td>114</td>\n",
       "      <td>1</td>\n",
       "      <td>20 y/o F c/o abdominal pain  \\r\\n5/10. from la...</td>\n",
       "      <td>pain in the right lower quadrant</td>\n",
       "      <td>20 y o F c o abdominal pain    5 10. from last...</td>\n",
       "    </tr>\n",
       "    <tr>\n",
       "      <th>...</th>\n",
       "      <td>...</td>\n",
       "      <td>...</td>\n",
       "      <td>...</td>\n",
       "      <td>...</td>\n",
       "      <td>...</td>\n",
       "      <td>...</td>\n",
       "      <td>...</td>\n",
       "      <td>...</td>\n",
       "      <td>...</td>\n",
       "      <td>...</td>\n",
       "    </tr>\n",
       "    <tr>\n",
       "      <th>1404</th>\n",
       "      <td>10791</td>\n",
       "      <td>'anorexia'</td>\n",
       "      <td>'347 355'</td>\n",
       "      <td>109</td>\n",
       "      <td>347</td>\n",
       "      <td>355</td>\n",
       "      <td>1</td>\n",
       "      <td>This is a 20 year old female who presents for ...</td>\n",
       "      <td>anorexia</td>\n",
       "      <td>This is a 20 year old female who presents for ...</td>\n",
       "    </tr>\n",
       "    <tr>\n",
       "      <th>1405</th>\n",
       "      <td>10706</td>\n",
       "      <td>'decreased appetite'</td>\n",
       "      <td>'143 161'</td>\n",
       "      <td>109</td>\n",
       "      <td>143</td>\n",
       "      <td>161</td>\n",
       "      <td>1</td>\n",
       "      <td>20 year old female presents with sudden onset ...</td>\n",
       "      <td>decreased appetite</td>\n",
       "      <td>20 year old female presents with sudden onset ...</td>\n",
       "    </tr>\n",
       "    <tr>\n",
       "      <th>1406</th>\n",
       "      <td>10918</td>\n",
       "      <td>'anorexia'</td>\n",
       "      <td>'408 416'</td>\n",
       "      <td>109</td>\n",
       "      <td>408</td>\n",
       "      <td>416</td>\n",
       "      <td>1</td>\n",
       "      <td>Ms Powelton is a 20 yo F with no PMH presentin...</td>\n",
       "      <td>anorexia</td>\n",
       "      <td>Ms Powelton is a 20 yo F with no PMH presentin...</td>\n",
       "    </tr>\n",
       "    <tr>\n",
       "      <th>1407</th>\n",
       "      <td>10452</td>\n",
       "      <td>'Loss of appetite'</td>\n",
       "      <td>'273 289'</td>\n",
       "      <td>109</td>\n",
       "      <td>273</td>\n",
       "      <td>289</td>\n",
       "      <td>1</td>\n",
       "      <td>HPI 20 yo F complains of lower righ abdominal ...</td>\n",
       "      <td>Loss of appetite</td>\n",
       "      <td>HPI 20 yo F complains of lower righ abdominal ...</td>\n",
       "    </tr>\n",
       "    <tr>\n",
       "      <th>1408</th>\n",
       "      <td>10356</td>\n",
       "      <td>'decreased apetite'</td>\n",
       "      <td>'574 591'</td>\n",
       "      <td>109</td>\n",
       "      <td>574</td>\n",
       "      <td>591</td>\n",
       "      <td>1</td>\n",
       "      <td>Ms. Powelton is a 20 yo F who is otherwise hea...</td>\n",
       "      <td>decreased apetite</td>\n",
       "      <td>Ms. Powelton is a 20 yo F who is otherwise hea...</td>\n",
       "    </tr>\n",
       "  </tbody>\n",
       "</table>\n",
       "<p>1409 rows × 10 columns</p>\n",
       "</div>"
      ],
      "text/plain": [
       "     pn_num                                   annotation   location  \\\n",
       "0     10004                               'no discharge'  '206 218'   \n",
       "1     10004         'last sexual encounter 9 months ago'  '529 563'   \n",
       "2     10004                                     '20 y/o'      '0 6'   \n",
       "3     10004  'similar episodes 3-4 in the last 6 months'  '265 306'   \n",
       "4     10004           'pain in the right lower quadrant'   '82 114'   \n",
       "...     ...                                          ...        ...   \n",
       "1404  10791                                   'anorexia'  '347 355'   \n",
       "1405  10706                         'decreased appetite'  '143 161'   \n",
       "1406  10918                                   'anorexia'  '408 416'   \n",
       "1407  10452                           'Loss of appetite'  '273 289'   \n",
       "1408  10356                          'decreased apetite'  '574 591'   \n",
       "\n",
       "     feature_num start_location end_location  case_num  \\\n",
       "0            100            206          218         1   \n",
       "1            102            529          563         1   \n",
       "2            104              0            6         1   \n",
       "3            106            265          306         1   \n",
       "4            107             82          114         1   \n",
       "...          ...            ...          ...       ...   \n",
       "1404         109            347          355         1   \n",
       "1405         109            143          161         1   \n",
       "1406         109            408          416         1   \n",
       "1407         109            273          289         1   \n",
       "1408         109            574          591         1   \n",
       "\n",
       "                                             pn_history  \\\n",
       "0     20 y/o F c/o abdominal pain  \\r\\n5/10. from la...   \n",
       "1     20 y/o F c/o abdominal pain  \\r\\n5/10. from la...   \n",
       "2     20 y/o F c/o abdominal pain  \\r\\n5/10. from la...   \n",
       "3     20 y/o F c/o abdominal pain  \\r\\n5/10. from la...   \n",
       "4     20 y/o F c/o abdominal pain  \\r\\n5/10. from la...   \n",
       "...                                                 ...   \n",
       "1404  This is a 20 year old female who presents for ...   \n",
       "1405  20 year old female presents with sudden onset ...   \n",
       "1406  Ms Powelton is a 20 yo F with no PMH presentin...   \n",
       "1407  HPI 20 yo F complains of lower righ abdominal ...   \n",
       "1408  Ms. Powelton is a 20 yo F who is otherwise hea...   \n",
       "\n",
       "                                 New_annotation  \\\n",
       "0                                  no discharge   \n",
       "1            last sexual encounter 9 months ago   \n",
       "2                                        20 y o   \n",
       "3     similar episodes 3-4 in the last 6 months   \n",
       "4              pain in the right lower quadrant   \n",
       "...                                         ...   \n",
       "1404                                   anorexia   \n",
       "1405                         decreased appetite   \n",
       "1406                                   anorexia   \n",
       "1407                           Loss of appetite   \n",
       "1408                          decreased apetite   \n",
       "\n",
       "                                         New_pn_history  \n",
       "0     20 y o F c o abdominal pain    5 10. from last...  \n",
       "1     20 y o F c o abdominal pain    5 10. from last...  \n",
       "2     20 y o F c o abdominal pain    5 10. from last...  \n",
       "3     20 y o F c o abdominal pain    5 10. from last...  \n",
       "4     20 y o F c o abdominal pain    5 10. from last...  \n",
       "...                                                 ...  \n",
       "1404  This is a 20 year old female who presents for ...  \n",
       "1405  20 year old female presents with sudden onset ...  \n",
       "1406  Ms Powelton is a 20 yo F with no PMH presentin...  \n",
       "1407  HPI 20 yo F complains of lower righ abdominal ...  \n",
       "1408  Ms. Powelton is a 20 yo F who is otherwise hea...  \n",
       "\n",
       "[1409 rows x 10 columns]"
      ]
     },
     "execution_count": 33,
     "metadata": {},
     "output_type": "execute_result"
    }
   ],
   "source": [
    "case_1[\"New_pn_history\"] = case_1[\"pn_history\"].apply(lambda x: re.sub(r'''[/\",+()\\r\\n]''',' ',x))\n",
    "case_1[\"New_pn_history\"] = case_1[\"New_pn_history\"].apply(lambda x: re.sub(r'''[']''','',x))\n",
    "case_1"
   ]
  },
  {
   "cell_type": "code",
   "execution_count": 34,
   "id": "19af79fd",
   "metadata": {},
   "outputs": [],
   "source": [
    "def word_lemm(sentence):\n",
    "    word_list = nltk.word_tokenize(sentence)\n",
    "    \n",
    "    lemmaztier = WordNetLemmatizer()\n",
    "    lemmatized_output = ' '.join([lemmaztier.lemmatize(w) for w in word_list])\n",
    "    return(lemmatized_output)"
   ]
  },
  {
   "cell_type": "code",
   "execution_count": 35,
   "id": "f824c492",
   "metadata": {},
   "outputs": [
    {
     "data": {
      "text/html": [
       "<div>\n",
       "<style scoped>\n",
       "    .dataframe tbody tr th:only-of-type {\n",
       "        vertical-align: middle;\n",
       "    }\n",
       "\n",
       "    .dataframe tbody tr th {\n",
       "        vertical-align: top;\n",
       "    }\n",
       "\n",
       "    .dataframe thead th {\n",
       "        text-align: right;\n",
       "    }\n",
       "</style>\n",
       "<table border=\"1\" class=\"dataframe\">\n",
       "  <thead>\n",
       "    <tr style=\"text-align: right;\">\n",
       "      <th></th>\n",
       "      <th>pn_num</th>\n",
       "      <th>annotation</th>\n",
       "      <th>location</th>\n",
       "      <th>feature_num</th>\n",
       "      <th>start_location</th>\n",
       "      <th>end_location</th>\n",
       "      <th>case_num</th>\n",
       "      <th>pn_history</th>\n",
       "      <th>New_annotation</th>\n",
       "      <th>New_pn_history</th>\n",
       "    </tr>\n",
       "  </thead>\n",
       "  <tbody>\n",
       "    <tr>\n",
       "      <th>0</th>\n",
       "      <td>10004</td>\n",
       "      <td>'no discharge'</td>\n",
       "      <td>'206 218'</td>\n",
       "      <td>100</td>\n",
       "      <td>206</td>\n",
       "      <td>218</td>\n",
       "      <td>1</td>\n",
       "      <td>20 y/o F c/o abdominal pain  \\r\\n5/10. from la...</td>\n",
       "      <td>no discharge</td>\n",
       "      <td>20 y o F c o abdominal pain 5 10. from last 10...</td>\n",
       "    </tr>\n",
       "    <tr>\n",
       "      <th>1</th>\n",
       "      <td>10004</td>\n",
       "      <td>'last sexual encounter 9 months ago'</td>\n",
       "      <td>'529 563'</td>\n",
       "      <td>102</td>\n",
       "      <td>529</td>\n",
       "      <td>563</td>\n",
       "      <td>1</td>\n",
       "      <td>20 y/o F c/o abdominal pain  \\r\\n5/10. from la...</td>\n",
       "      <td>last sexual encounter 9 month ago</td>\n",
       "      <td>20 y o F c o abdominal pain 5 10. from last 10...</td>\n",
       "    </tr>\n",
       "    <tr>\n",
       "      <th>2</th>\n",
       "      <td>10004</td>\n",
       "      <td>'20 y/o'</td>\n",
       "      <td>'0 6'</td>\n",
       "      <td>104</td>\n",
       "      <td>0</td>\n",
       "      <td>6</td>\n",
       "      <td>1</td>\n",
       "      <td>20 y/o F c/o abdominal pain  \\r\\n5/10. from la...</td>\n",
       "      <td>20 y o</td>\n",
       "      <td>20 y o F c o abdominal pain 5 10. from last 10...</td>\n",
       "    </tr>\n",
       "    <tr>\n",
       "      <th>3</th>\n",
       "      <td>10004</td>\n",
       "      <td>'similar episodes 3-4 in the last 6 months'</td>\n",
       "      <td>'265 306'</td>\n",
       "      <td>106</td>\n",
       "      <td>265</td>\n",
       "      <td>306</td>\n",
       "      <td>1</td>\n",
       "      <td>20 y/o F c/o abdominal pain  \\r\\n5/10. from la...</td>\n",
       "      <td>similar episode 3-4 in the last 6 month</td>\n",
       "      <td>20 y o F c o abdominal pain 5 10. from last 10...</td>\n",
       "    </tr>\n",
       "    <tr>\n",
       "      <th>4</th>\n",
       "      <td>10004</td>\n",
       "      <td>'pain in the right lower quadrant'</td>\n",
       "      <td>'82 114'</td>\n",
       "      <td>107</td>\n",
       "      <td>82</td>\n",
       "      <td>114</td>\n",
       "      <td>1</td>\n",
       "      <td>20 y/o F c/o abdominal pain  \\r\\n5/10. from la...</td>\n",
       "      <td>pain in the right lower quadrant</td>\n",
       "      <td>20 y o F c o abdominal pain 5 10. from last 10...</td>\n",
       "    </tr>\n",
       "  </tbody>\n",
       "</table>\n",
       "</div>"
      ],
      "text/plain": [
       "  pn_num                                   annotation   location feature_num  \\\n",
       "0  10004                               'no discharge'  '206 218'         100   \n",
       "1  10004         'last sexual encounter 9 months ago'  '529 563'         102   \n",
       "2  10004                                     '20 y/o'      '0 6'         104   \n",
       "3  10004  'similar episodes 3-4 in the last 6 months'  '265 306'         106   \n",
       "4  10004           'pain in the right lower quadrant'   '82 114'         107   \n",
       "\n",
       "  start_location end_location  case_num  \\\n",
       "0            206          218         1   \n",
       "1            529          563         1   \n",
       "2              0            6         1   \n",
       "3            265          306         1   \n",
       "4             82          114         1   \n",
       "\n",
       "                                          pn_history  \\\n",
       "0  20 y/o F c/o abdominal pain  \\r\\n5/10. from la...   \n",
       "1  20 y/o F c/o abdominal pain  \\r\\n5/10. from la...   \n",
       "2  20 y/o F c/o abdominal pain  \\r\\n5/10. from la...   \n",
       "3  20 y/o F c/o abdominal pain  \\r\\n5/10. from la...   \n",
       "4  20 y/o F c/o abdominal pain  \\r\\n5/10. from la...   \n",
       "\n",
       "                            New_annotation  \\\n",
       "0                             no discharge   \n",
       "1        last sexual encounter 9 month ago   \n",
       "2                                   20 y o   \n",
       "3  similar episode 3-4 in the last 6 month   \n",
       "4         pain in the right lower quadrant   \n",
       "\n",
       "                                      New_pn_history  \n",
       "0  20 y o F c o abdominal pain 5 10. from last 10...  \n",
       "1  20 y o F c o abdominal pain 5 10. from last 10...  \n",
       "2  20 y o F c o abdominal pain 5 10. from last 10...  \n",
       "3  20 y o F c o abdominal pain 5 10. from last 10...  \n",
       "4  20 y o F c o abdominal pain 5 10. from last 10...  "
      ]
     },
     "execution_count": 35,
     "metadata": {},
     "output_type": "execute_result"
    }
   ],
   "source": [
    "case_1[\"New_annotation\"] = case_1[\"New_annotation\"].apply(word_lemm)\n",
    "case_1[\"New_pn_history\"] = case_1[\"New_pn_history\"].apply(word_lemm)\n",
    "case_1.head()"
   ]
  },
  {
   "cell_type": "code",
   "execution_count": 36,
   "id": "63f6ddf1",
   "metadata": {
    "scrolled": true
   },
   "outputs": [
    {
     "data": {
      "text/html": [
       "<div>\n",
       "<style scoped>\n",
       "    .dataframe tbody tr th:only-of-type {\n",
       "        vertical-align: middle;\n",
       "    }\n",
       "\n",
       "    .dataframe tbody tr th {\n",
       "        vertical-align: top;\n",
       "    }\n",
       "\n",
       "    .dataframe thead th {\n",
       "        text-align: right;\n",
       "    }\n",
       "</style>\n",
       "<table border=\"1\" class=\"dataframe\">\n",
       "  <thead>\n",
       "    <tr style=\"text-align: right;\">\n",
       "      <th></th>\n",
       "      <th>pn_num</th>\n",
       "      <th>annotation</th>\n",
       "      <th>location</th>\n",
       "      <th>feature_num</th>\n",
       "      <th>start_location</th>\n",
       "      <th>end_location</th>\n",
       "      <th>case_num</th>\n",
       "      <th>pn_history</th>\n",
       "      <th>New_annotation</th>\n",
       "      <th>New_pn_history</th>\n",
       "      <th>new_location</th>\n",
       "    </tr>\n",
       "  </thead>\n",
       "  <tbody>\n",
       "    <tr>\n",
       "      <th>0</th>\n",
       "      <td>10004</td>\n",
       "      <td>'no discharge'</td>\n",
       "      <td>'206 218'</td>\n",
       "      <td>100</td>\n",
       "      <td>206</td>\n",
       "      <td>218</td>\n",
       "      <td>1</td>\n",
       "      <td>20 y/o F c/o abdominal pain  \\r\\n5/10. from la...</td>\n",
       "      <td>no discharge</td>\n",
       "      <td>20 y o F c o abdominal pain 5 10. from last 10...</td>\n",
       "      <td>&lt;re.Match object; span=(201, 213), match='no d...</td>\n",
       "    </tr>\n",
       "    <tr>\n",
       "      <th>1</th>\n",
       "      <td>10004</td>\n",
       "      <td>'last sexual encounter 9 months ago'</td>\n",
       "      <td>'529 563'</td>\n",
       "      <td>102</td>\n",
       "      <td>529</td>\n",
       "      <td>563</td>\n",
       "      <td>1</td>\n",
       "      <td>20 y/o F c/o abdominal pain  \\r\\n5/10. from la...</td>\n",
       "      <td>last sexual encounter 9 month ago</td>\n",
       "      <td>20 y o F c o abdominal pain 5 10. from last 10...</td>\n",
       "      <td>&lt;re.Match object; span=(519, 552), match='last...</td>\n",
       "    </tr>\n",
       "    <tr>\n",
       "      <th>2</th>\n",
       "      <td>10004</td>\n",
       "      <td>'20 y/o'</td>\n",
       "      <td>'0 6'</td>\n",
       "      <td>104</td>\n",
       "      <td>0</td>\n",
       "      <td>6</td>\n",
       "      <td>1</td>\n",
       "      <td>20 y/o F c/o abdominal pain  \\r\\n5/10. from la...</td>\n",
       "      <td>20 y o</td>\n",
       "      <td>20 y o F c o abdominal pain 5 10. from last 10...</td>\n",
       "      <td>&lt;re.Match object; span=(0, 6), match='20 y o'&gt;</td>\n",
       "    </tr>\n",
       "    <tr>\n",
       "      <th>3</th>\n",
       "      <td>10004</td>\n",
       "      <td>'similar episodes 3-4 in the last 6 months'</td>\n",
       "      <td>'265 306'</td>\n",
       "      <td>106</td>\n",
       "      <td>265</td>\n",
       "      <td>306</td>\n",
       "      <td>1</td>\n",
       "      <td>20 y/o F c/o abdominal pain  \\r\\n5/10. from la...</td>\n",
       "      <td>similar episode 3-4 in the last 6 month</td>\n",
       "      <td>20 y o F c o abdominal pain 5 10. from last 10...</td>\n",
       "      <td>&lt;re.Match object; span=(260, 299), match='simi...</td>\n",
       "    </tr>\n",
       "    <tr>\n",
       "      <th>4</th>\n",
       "      <td>10004</td>\n",
       "      <td>'pain in the right lower quadrant'</td>\n",
       "      <td>'82 114'</td>\n",
       "      <td>107</td>\n",
       "      <td>82</td>\n",
       "      <td>114</td>\n",
       "      <td>1</td>\n",
       "      <td>20 y/o F c/o abdominal pain  \\r\\n5/10. from la...</td>\n",
       "      <td>pain in the right lower quadrant</td>\n",
       "      <td>20 y o F c o abdominal pain 5 10. from last 10...</td>\n",
       "      <td>&lt;re.Match object; span=(79, 111), match='pain ...</td>\n",
       "    </tr>\n",
       "    <tr>\n",
       "      <th>...</th>\n",
       "      <td>...</td>\n",
       "      <td>...</td>\n",
       "      <td>...</td>\n",
       "      <td>...</td>\n",
       "      <td>...</td>\n",
       "      <td>...</td>\n",
       "      <td>...</td>\n",
       "      <td>...</td>\n",
       "      <td>...</td>\n",
       "      <td>...</td>\n",
       "      <td>...</td>\n",
       "    </tr>\n",
       "    <tr>\n",
       "      <th>1404</th>\n",
       "      <td>10791</td>\n",
       "      <td>'anorexia'</td>\n",
       "      <td>'347 355'</td>\n",
       "      <td>109</td>\n",
       "      <td>347</td>\n",
       "      <td>355</td>\n",
       "      <td>1</td>\n",
       "      <td>This is a 20 year old female who presents for ...</td>\n",
       "      <td>anorexia</td>\n",
       "      <td>This is a 20 year old female who present for e...</td>\n",
       "      <td>&lt;re.Match object; span=(345, 353), match='anor...</td>\n",
       "    </tr>\n",
       "    <tr>\n",
       "      <th>1405</th>\n",
       "      <td>10706</td>\n",
       "      <td>'decreased appetite'</td>\n",
       "      <td>'143 161'</td>\n",
       "      <td>109</td>\n",
       "      <td>143</td>\n",
       "      <td>161</td>\n",
       "      <td>1</td>\n",
       "      <td>20 year old female presents with sudden onset ...</td>\n",
       "      <td>decreased appetite</td>\n",
       "      <td>20 year old female present with sudden onset R...</td>\n",
       "      <td>&lt;re.Match object; span=(140, 158), match='decr...</td>\n",
       "    </tr>\n",
       "    <tr>\n",
       "      <th>1406</th>\n",
       "      <td>10918</td>\n",
       "      <td>'anorexia'</td>\n",
       "      <td>'408 416'</td>\n",
       "      <td>109</td>\n",
       "      <td>408</td>\n",
       "      <td>416</td>\n",
       "      <td>1</td>\n",
       "      <td>Ms Powelton is a 20 yo F with no PMH presentin...</td>\n",
       "      <td>anorexia</td>\n",
       "      <td>Ms Powelton is a 20 yo F with no PMH presentin...</td>\n",
       "      <td>&lt;re.Match object; span=(406, 414), match='anor...</td>\n",
       "    </tr>\n",
       "    <tr>\n",
       "      <th>1407</th>\n",
       "      <td>10452</td>\n",
       "      <td>'Loss of appetite'</td>\n",
       "      <td>'273 289'</td>\n",
       "      <td>109</td>\n",
       "      <td>273</td>\n",
       "      <td>289</td>\n",
       "      <td>1</td>\n",
       "      <td>HPI 20 yo F complains of lower righ abdominal ...</td>\n",
       "      <td>Loss of appetite</td>\n",
       "      <td>HPI 20 yo F complains of lower righ abdominal ...</td>\n",
       "      <td>&lt;re.Match object; span=(273, 289), match='Loss...</td>\n",
       "    </tr>\n",
       "    <tr>\n",
       "      <th>1408</th>\n",
       "      <td>10356</td>\n",
       "      <td>'decreased apetite'</td>\n",
       "      <td>'574 591'</td>\n",
       "      <td>109</td>\n",
       "      <td>574</td>\n",
       "      <td>591</td>\n",
       "      <td>1</td>\n",
       "      <td>Ms. Powelton is a 20 yo F who is otherwise hea...</td>\n",
       "      <td>decreased apetite</td>\n",
       "      <td>Ms. Powelton is a 20 yo F who is otherwise hea...</td>\n",
       "      <td>&lt;re.Match object; span=(562, 579), match='decr...</td>\n",
       "    </tr>\n",
       "  </tbody>\n",
       "</table>\n",
       "<p>1409 rows × 11 columns</p>\n",
       "</div>"
      ],
      "text/plain": [
       "     pn_num                                   annotation   location  \\\n",
       "0     10004                               'no discharge'  '206 218'   \n",
       "1     10004         'last sexual encounter 9 months ago'  '529 563'   \n",
       "2     10004                                     '20 y/o'      '0 6'   \n",
       "3     10004  'similar episodes 3-4 in the last 6 months'  '265 306'   \n",
       "4     10004           'pain in the right lower quadrant'   '82 114'   \n",
       "...     ...                                          ...        ...   \n",
       "1404  10791                                   'anorexia'  '347 355'   \n",
       "1405  10706                         'decreased appetite'  '143 161'   \n",
       "1406  10918                                   'anorexia'  '408 416'   \n",
       "1407  10452                           'Loss of appetite'  '273 289'   \n",
       "1408  10356                          'decreased apetite'  '574 591'   \n",
       "\n",
       "     feature_num start_location end_location  case_num  \\\n",
       "0            100            206          218         1   \n",
       "1            102            529          563         1   \n",
       "2            104              0            6         1   \n",
       "3            106            265          306         1   \n",
       "4            107             82          114         1   \n",
       "...          ...            ...          ...       ...   \n",
       "1404         109            347          355         1   \n",
       "1405         109            143          161         1   \n",
       "1406         109            408          416         1   \n",
       "1407         109            273          289         1   \n",
       "1408         109            574          591         1   \n",
       "\n",
       "                                             pn_history  \\\n",
       "0     20 y/o F c/o abdominal pain  \\r\\n5/10. from la...   \n",
       "1     20 y/o F c/o abdominal pain  \\r\\n5/10. from la...   \n",
       "2     20 y/o F c/o abdominal pain  \\r\\n5/10. from la...   \n",
       "3     20 y/o F c/o abdominal pain  \\r\\n5/10. from la...   \n",
       "4     20 y/o F c/o abdominal pain  \\r\\n5/10. from la...   \n",
       "...                                                 ...   \n",
       "1404  This is a 20 year old female who presents for ...   \n",
       "1405  20 year old female presents with sudden onset ...   \n",
       "1406  Ms Powelton is a 20 yo F with no PMH presentin...   \n",
       "1407  HPI 20 yo F complains of lower righ abdominal ...   \n",
       "1408  Ms. Powelton is a 20 yo F who is otherwise hea...   \n",
       "\n",
       "                               New_annotation  \\\n",
       "0                                no discharge   \n",
       "1           last sexual encounter 9 month ago   \n",
       "2                                      20 y o   \n",
       "3     similar episode 3-4 in the last 6 month   \n",
       "4            pain in the right lower quadrant   \n",
       "...                                       ...   \n",
       "1404                                 anorexia   \n",
       "1405                       decreased appetite   \n",
       "1406                                 anorexia   \n",
       "1407                         Loss of appetite   \n",
       "1408                        decreased apetite   \n",
       "\n",
       "                                         New_pn_history  \\\n",
       "0     20 y o F c o abdominal pain 5 10. from last 10...   \n",
       "1     20 y o F c o abdominal pain 5 10. from last 10...   \n",
       "2     20 y o F c o abdominal pain 5 10. from last 10...   \n",
       "3     20 y o F c o abdominal pain 5 10. from last 10...   \n",
       "4     20 y o F c o abdominal pain 5 10. from last 10...   \n",
       "...                                                 ...   \n",
       "1404  This is a 20 year old female who present for e...   \n",
       "1405  20 year old female present with sudden onset R...   \n",
       "1406  Ms Powelton is a 20 yo F with no PMH presentin...   \n",
       "1407  HPI 20 yo F complains of lower righ abdominal ...   \n",
       "1408  Ms. Powelton is a 20 yo F who is otherwise hea...   \n",
       "\n",
       "                                           new_location  \n",
       "0     <re.Match object; span=(201, 213), match='no d...  \n",
       "1     <re.Match object; span=(519, 552), match='last...  \n",
       "2        <re.Match object; span=(0, 6), match='20 y o'>  \n",
       "3     <re.Match object; span=(260, 299), match='simi...  \n",
       "4     <re.Match object; span=(79, 111), match='pain ...  \n",
       "...                                                 ...  \n",
       "1404  <re.Match object; span=(345, 353), match='anor...  \n",
       "1405  <re.Match object; span=(140, 158), match='decr...  \n",
       "1406  <re.Match object; span=(406, 414), match='anor...  \n",
       "1407  <re.Match object; span=(273, 289), match='Loss...  \n",
       "1408  <re.Match object; span=(562, 579), match='decr...  \n",
       "\n",
       "[1409 rows x 11 columns]"
      ]
     },
     "execution_count": 36,
     "metadata": {},
     "output_type": "execute_result"
    }
   ],
   "source": [
    "case_1[\"new_location\"] = case_1.apply(lambda x :re.search(r'\\b' + x.New_annotation + r'\\b', x.New_pn_history),axis =1)\n",
    "case_1"
   ]
  },
  {
   "cell_type": "code",
   "execution_count": 37,
   "id": "95d67f02",
   "metadata": {},
   "outputs": [
    {
     "name": "stdout",
     "output_type": "stream",
     "text": [
      "[100, 122, 233, 234, 240, 241, 290, 297, 331, 659, 708, 1001, 1145, 1203, 1208, 1216, 1240, 1253, 1257, 1258, 1323, 1332]\n"
     ]
    },
    {
     "data": {
      "text/plain": [
       "(None, 22)"
      ]
     },
     "execution_count": 37,
     "metadata": {},
     "output_type": "execute_result"
    }
   ],
   "source": [
    "drop_index = []\n",
    "for  index,row in case_1.iterrows():\n",
    "    if row[\"new_location\"] == None:\n",
    "        drop_index.append(index)\n",
    "        \n",
    "print(drop_index),len(drop_index)"
   ]
  },
  {
   "cell_type": "code",
   "execution_count": 38,
   "id": "c3bd0537",
   "metadata": {},
   "outputs": [
    {
     "data": {
      "text/html": [
       "<div>\n",
       "<style scoped>\n",
       "    .dataframe tbody tr th:only-of-type {\n",
       "        vertical-align: middle;\n",
       "    }\n",
       "\n",
       "    .dataframe tbody tr th {\n",
       "        vertical-align: top;\n",
       "    }\n",
       "\n",
       "    .dataframe thead th {\n",
       "        text-align: right;\n",
       "    }\n",
       "</style>\n",
       "<table border=\"1\" class=\"dataframe\">\n",
       "  <thead>\n",
       "    <tr style=\"text-align: right;\">\n",
       "      <th></th>\n",
       "      <th>pn_num</th>\n",
       "      <th>annotation</th>\n",
       "      <th>location</th>\n",
       "      <th>feature_num</th>\n",
       "      <th>start_location</th>\n",
       "      <th>end_location</th>\n",
       "      <th>case_num</th>\n",
       "      <th>pn_history</th>\n",
       "      <th>New_annotation</th>\n",
       "      <th>New_pn_history</th>\n",
       "      <th>new_location</th>\n",
       "    </tr>\n",
       "  </thead>\n",
       "  <tbody>\n",
       "    <tr>\n",
       "      <th>0</th>\n",
       "      <td>10004</td>\n",
       "      <td>'no discharge'</td>\n",
       "      <td>'206 218'</td>\n",
       "      <td>100</td>\n",
       "      <td>206</td>\n",
       "      <td>218</td>\n",
       "      <td>1</td>\n",
       "      <td>20 y/o F c/o abdominal pain  \\r\\n5/10. from la...</td>\n",
       "      <td>no discharge</td>\n",
       "      <td>20 y o F c o abdominal pain 5 10. from last 10...</td>\n",
       "      <td>&lt;re.Match object; span=(201, 213), match='no d...</td>\n",
       "    </tr>\n",
       "    <tr>\n",
       "      <th>1</th>\n",
       "      <td>10004</td>\n",
       "      <td>'last sexual encounter 9 months ago'</td>\n",
       "      <td>'529 563'</td>\n",
       "      <td>102</td>\n",
       "      <td>529</td>\n",
       "      <td>563</td>\n",
       "      <td>1</td>\n",
       "      <td>20 y/o F c/o abdominal pain  \\r\\n5/10. from la...</td>\n",
       "      <td>last sexual encounter 9 month ago</td>\n",
       "      <td>20 y o F c o abdominal pain 5 10. from last 10...</td>\n",
       "      <td>&lt;re.Match object; span=(519, 552), match='last...</td>\n",
       "    </tr>\n",
       "    <tr>\n",
       "      <th>2</th>\n",
       "      <td>10004</td>\n",
       "      <td>'20 y/o'</td>\n",
       "      <td>'0 6'</td>\n",
       "      <td>104</td>\n",
       "      <td>0</td>\n",
       "      <td>6</td>\n",
       "      <td>1</td>\n",
       "      <td>20 y/o F c/o abdominal pain  \\r\\n5/10. from la...</td>\n",
       "      <td>20 y o</td>\n",
       "      <td>20 y o F c o abdominal pain 5 10. from last 10...</td>\n",
       "      <td>&lt;re.Match object; span=(0, 6), match='20 y o'&gt;</td>\n",
       "    </tr>\n",
       "    <tr>\n",
       "      <th>3</th>\n",
       "      <td>10004</td>\n",
       "      <td>'similar episodes 3-4 in the last 6 months'</td>\n",
       "      <td>'265 306'</td>\n",
       "      <td>106</td>\n",
       "      <td>265</td>\n",
       "      <td>306</td>\n",
       "      <td>1</td>\n",
       "      <td>20 y/o F c/o abdominal pain  \\r\\n5/10. from la...</td>\n",
       "      <td>similar episode 3-4 in the last 6 month</td>\n",
       "      <td>20 y o F c o abdominal pain 5 10. from last 10...</td>\n",
       "      <td>&lt;re.Match object; span=(260, 299), match='simi...</td>\n",
       "    </tr>\n",
       "    <tr>\n",
       "      <th>4</th>\n",
       "      <td>10004</td>\n",
       "      <td>'pain in the right lower quadrant'</td>\n",
       "      <td>'82 114'</td>\n",
       "      <td>107</td>\n",
       "      <td>82</td>\n",
       "      <td>114</td>\n",
       "      <td>1</td>\n",
       "      <td>20 y/o F c/o abdominal pain  \\r\\n5/10. from la...</td>\n",
       "      <td>pain in the right lower quadrant</td>\n",
       "      <td>20 y o F c o abdominal pain 5 10. from last 10...</td>\n",
       "      <td>&lt;re.Match object; span=(79, 111), match='pain ...</td>\n",
       "    </tr>\n",
       "    <tr>\n",
       "      <th>...</th>\n",
       "      <td>...</td>\n",
       "      <td>...</td>\n",
       "      <td>...</td>\n",
       "      <td>...</td>\n",
       "      <td>...</td>\n",
       "      <td>...</td>\n",
       "      <td>...</td>\n",
       "      <td>...</td>\n",
       "      <td>...</td>\n",
       "      <td>...</td>\n",
       "      <td>...</td>\n",
       "    </tr>\n",
       "    <tr>\n",
       "      <th>1404</th>\n",
       "      <td>10791</td>\n",
       "      <td>'anorexia'</td>\n",
       "      <td>'347 355'</td>\n",
       "      <td>109</td>\n",
       "      <td>347</td>\n",
       "      <td>355</td>\n",
       "      <td>1</td>\n",
       "      <td>This is a 20 year old female who presents for ...</td>\n",
       "      <td>anorexia</td>\n",
       "      <td>This is a 20 year old female who present for e...</td>\n",
       "      <td>&lt;re.Match object; span=(345, 353), match='anor...</td>\n",
       "    </tr>\n",
       "    <tr>\n",
       "      <th>1405</th>\n",
       "      <td>10706</td>\n",
       "      <td>'decreased appetite'</td>\n",
       "      <td>'143 161'</td>\n",
       "      <td>109</td>\n",
       "      <td>143</td>\n",
       "      <td>161</td>\n",
       "      <td>1</td>\n",
       "      <td>20 year old female presents with sudden onset ...</td>\n",
       "      <td>decreased appetite</td>\n",
       "      <td>20 year old female present with sudden onset R...</td>\n",
       "      <td>&lt;re.Match object; span=(140, 158), match='decr...</td>\n",
       "    </tr>\n",
       "    <tr>\n",
       "      <th>1406</th>\n",
       "      <td>10918</td>\n",
       "      <td>'anorexia'</td>\n",
       "      <td>'408 416'</td>\n",
       "      <td>109</td>\n",
       "      <td>408</td>\n",
       "      <td>416</td>\n",
       "      <td>1</td>\n",
       "      <td>Ms Powelton is a 20 yo F with no PMH presentin...</td>\n",
       "      <td>anorexia</td>\n",
       "      <td>Ms Powelton is a 20 yo F with no PMH presentin...</td>\n",
       "      <td>&lt;re.Match object; span=(406, 414), match='anor...</td>\n",
       "    </tr>\n",
       "    <tr>\n",
       "      <th>1407</th>\n",
       "      <td>10452</td>\n",
       "      <td>'Loss of appetite'</td>\n",
       "      <td>'273 289'</td>\n",
       "      <td>109</td>\n",
       "      <td>273</td>\n",
       "      <td>289</td>\n",
       "      <td>1</td>\n",
       "      <td>HPI 20 yo F complains of lower righ abdominal ...</td>\n",
       "      <td>Loss of appetite</td>\n",
       "      <td>HPI 20 yo F complains of lower righ abdominal ...</td>\n",
       "      <td>&lt;re.Match object; span=(273, 289), match='Loss...</td>\n",
       "    </tr>\n",
       "    <tr>\n",
       "      <th>1408</th>\n",
       "      <td>10356</td>\n",
       "      <td>'decreased apetite'</td>\n",
       "      <td>'574 591'</td>\n",
       "      <td>109</td>\n",
       "      <td>574</td>\n",
       "      <td>591</td>\n",
       "      <td>1</td>\n",
       "      <td>Ms. Powelton is a 20 yo F who is otherwise hea...</td>\n",
       "      <td>decreased apetite</td>\n",
       "      <td>Ms. Powelton is a 20 yo F who is otherwise hea...</td>\n",
       "      <td>&lt;re.Match object; span=(562, 579), match='decr...</td>\n",
       "    </tr>\n",
       "  </tbody>\n",
       "</table>\n",
       "<p>1387 rows × 11 columns</p>\n",
       "</div>"
      ],
      "text/plain": [
       "     pn_num                                   annotation   location  \\\n",
       "0     10004                               'no discharge'  '206 218'   \n",
       "1     10004         'last sexual encounter 9 months ago'  '529 563'   \n",
       "2     10004                                     '20 y/o'      '0 6'   \n",
       "3     10004  'similar episodes 3-4 in the last 6 months'  '265 306'   \n",
       "4     10004           'pain in the right lower quadrant'   '82 114'   \n",
       "...     ...                                          ...        ...   \n",
       "1404  10791                                   'anorexia'  '347 355'   \n",
       "1405  10706                         'decreased appetite'  '143 161'   \n",
       "1406  10918                                   'anorexia'  '408 416'   \n",
       "1407  10452                           'Loss of appetite'  '273 289'   \n",
       "1408  10356                          'decreased apetite'  '574 591'   \n",
       "\n",
       "     feature_num start_location end_location  case_num  \\\n",
       "0            100            206          218         1   \n",
       "1            102            529          563         1   \n",
       "2            104              0            6         1   \n",
       "3            106            265          306         1   \n",
       "4            107             82          114         1   \n",
       "...          ...            ...          ...       ...   \n",
       "1404         109            347          355         1   \n",
       "1405         109            143          161         1   \n",
       "1406         109            408          416         1   \n",
       "1407         109            273          289         1   \n",
       "1408         109            574          591         1   \n",
       "\n",
       "                                             pn_history  \\\n",
       "0     20 y/o F c/o abdominal pain  \\r\\n5/10. from la...   \n",
       "1     20 y/o F c/o abdominal pain  \\r\\n5/10. from la...   \n",
       "2     20 y/o F c/o abdominal pain  \\r\\n5/10. from la...   \n",
       "3     20 y/o F c/o abdominal pain  \\r\\n5/10. from la...   \n",
       "4     20 y/o F c/o abdominal pain  \\r\\n5/10. from la...   \n",
       "...                                                 ...   \n",
       "1404  This is a 20 year old female who presents for ...   \n",
       "1405  20 year old female presents with sudden onset ...   \n",
       "1406  Ms Powelton is a 20 yo F with no PMH presentin...   \n",
       "1407  HPI 20 yo F complains of lower righ abdominal ...   \n",
       "1408  Ms. Powelton is a 20 yo F who is otherwise hea...   \n",
       "\n",
       "                               New_annotation  \\\n",
       "0                                no discharge   \n",
       "1           last sexual encounter 9 month ago   \n",
       "2                                      20 y o   \n",
       "3     similar episode 3-4 in the last 6 month   \n",
       "4            pain in the right lower quadrant   \n",
       "...                                       ...   \n",
       "1404                                 anorexia   \n",
       "1405                       decreased appetite   \n",
       "1406                                 anorexia   \n",
       "1407                         Loss of appetite   \n",
       "1408                        decreased apetite   \n",
       "\n",
       "                                         New_pn_history  \\\n",
       "0     20 y o F c o abdominal pain 5 10. from last 10...   \n",
       "1     20 y o F c o abdominal pain 5 10. from last 10...   \n",
       "2     20 y o F c o abdominal pain 5 10. from last 10...   \n",
       "3     20 y o F c o abdominal pain 5 10. from last 10...   \n",
       "4     20 y o F c o abdominal pain 5 10. from last 10...   \n",
       "...                                                 ...   \n",
       "1404  This is a 20 year old female who present for e...   \n",
       "1405  20 year old female present with sudden onset R...   \n",
       "1406  Ms Powelton is a 20 yo F with no PMH presentin...   \n",
       "1407  HPI 20 yo F complains of lower righ abdominal ...   \n",
       "1408  Ms. Powelton is a 20 yo F who is otherwise hea...   \n",
       "\n",
       "                                           new_location  \n",
       "0     <re.Match object; span=(201, 213), match='no d...  \n",
       "1     <re.Match object; span=(519, 552), match='last...  \n",
       "2        <re.Match object; span=(0, 6), match='20 y o'>  \n",
       "3     <re.Match object; span=(260, 299), match='simi...  \n",
       "4     <re.Match object; span=(79, 111), match='pain ...  \n",
       "...                                                 ...  \n",
       "1404  <re.Match object; span=(345, 353), match='anor...  \n",
       "1405  <re.Match object; span=(140, 158), match='decr...  \n",
       "1406  <re.Match object; span=(406, 414), match='anor...  \n",
       "1407  <re.Match object; span=(273, 289), match='Loss...  \n",
       "1408  <re.Match object; span=(562, 579), match='decr...  \n",
       "\n",
       "[1387 rows x 11 columns]"
      ]
     },
     "execution_count": 38,
     "metadata": {},
     "output_type": "execute_result"
    }
   ],
   "source": [
    "case_1 = case_1.drop(drop_index,axis = 0)\n",
    "case_1"
   ]
  },
  {
   "cell_type": "code",
   "execution_count": 39,
   "id": "a4ae5f47",
   "metadata": {},
   "outputs": [
    {
     "data": {
      "text/html": [
       "<div>\n",
       "<style scoped>\n",
       "    .dataframe tbody tr th:only-of-type {\n",
       "        vertical-align: middle;\n",
       "    }\n",
       "\n",
       "    .dataframe tbody tr th {\n",
       "        vertical-align: top;\n",
       "    }\n",
       "\n",
       "    .dataframe thead th {\n",
       "        text-align: right;\n",
       "    }\n",
       "</style>\n",
       "<table border=\"1\" class=\"dataframe\">\n",
       "  <thead>\n",
       "    <tr style=\"text-align: right;\">\n",
       "      <th></th>\n",
       "      <th>pn_num</th>\n",
       "      <th>annotation</th>\n",
       "      <th>location</th>\n",
       "      <th>feature_num</th>\n",
       "      <th>start_location</th>\n",
       "      <th>end_location</th>\n",
       "      <th>case_num</th>\n",
       "      <th>pn_history</th>\n",
       "      <th>New_annotation</th>\n",
       "      <th>New_pn_history</th>\n",
       "      <th>new_location</th>\n",
       "    </tr>\n",
       "  </thead>\n",
       "  <tbody>\n",
       "    <tr>\n",
       "      <th>0</th>\n",
       "      <td>10004</td>\n",
       "      <td>'no discharge'</td>\n",
       "      <td>'206 218'</td>\n",
       "      <td>100</td>\n",
       "      <td>201</td>\n",
       "      <td>213</td>\n",
       "      <td>1</td>\n",
       "      <td>20 y/o F c/o abdominal pain  \\r\\n5/10. from la...</td>\n",
       "      <td>no discharge</td>\n",
       "      <td>20 y o F c o abdominal pain 5 10. from last 10...</td>\n",
       "      <td>&lt;re.Match object; span=(201, 213), match='no d...</td>\n",
       "    </tr>\n",
       "    <tr>\n",
       "      <th>1</th>\n",
       "      <td>10004</td>\n",
       "      <td>'last sexual encounter 9 months ago'</td>\n",
       "      <td>'529 563'</td>\n",
       "      <td>102</td>\n",
       "      <td>519</td>\n",
       "      <td>552</td>\n",
       "      <td>1</td>\n",
       "      <td>20 y/o F c/o abdominal pain  \\r\\n5/10. from la...</td>\n",
       "      <td>last sexual encounter 9 month ago</td>\n",
       "      <td>20 y o F c o abdominal pain 5 10. from last 10...</td>\n",
       "      <td>&lt;re.Match object; span=(519, 552), match='last...</td>\n",
       "    </tr>\n",
       "    <tr>\n",
       "      <th>2</th>\n",
       "      <td>10004</td>\n",
       "      <td>'20 y/o'</td>\n",
       "      <td>'0 6'</td>\n",
       "      <td>104</td>\n",
       "      <td>0</td>\n",
       "      <td>6</td>\n",
       "      <td>1</td>\n",
       "      <td>20 y/o F c/o abdominal pain  \\r\\n5/10. from la...</td>\n",
       "      <td>20 y o</td>\n",
       "      <td>20 y o F c o abdominal pain 5 10. from last 10...</td>\n",
       "      <td>&lt;re.Match object; span=(0, 6), match='20 y o'&gt;</td>\n",
       "    </tr>\n",
       "    <tr>\n",
       "      <th>3</th>\n",
       "      <td>10004</td>\n",
       "      <td>'similar episodes 3-4 in the last 6 months'</td>\n",
       "      <td>'265 306'</td>\n",
       "      <td>106</td>\n",
       "      <td>260</td>\n",
       "      <td>299</td>\n",
       "      <td>1</td>\n",
       "      <td>20 y/o F c/o abdominal pain  \\r\\n5/10. from la...</td>\n",
       "      <td>similar episode 3-4 in the last 6 month</td>\n",
       "      <td>20 y o F c o abdominal pain 5 10. from last 10...</td>\n",
       "      <td>&lt;re.Match object; span=(260, 299), match='simi...</td>\n",
       "    </tr>\n",
       "    <tr>\n",
       "      <th>4</th>\n",
       "      <td>10004</td>\n",
       "      <td>'pain in the right lower quadrant'</td>\n",
       "      <td>'82 114'</td>\n",
       "      <td>107</td>\n",
       "      <td>79</td>\n",
       "      <td>111</td>\n",
       "      <td>1</td>\n",
       "      <td>20 y/o F c/o abdominal pain  \\r\\n5/10. from la...</td>\n",
       "      <td>pain in the right lower quadrant</td>\n",
       "      <td>20 y o F c o abdominal pain 5 10. from last 10...</td>\n",
       "      <td>&lt;re.Match object; span=(79, 111), match='pain ...</td>\n",
       "    </tr>\n",
       "    <tr>\n",
       "      <th>...</th>\n",
       "      <td>...</td>\n",
       "      <td>...</td>\n",
       "      <td>...</td>\n",
       "      <td>...</td>\n",
       "      <td>...</td>\n",
       "      <td>...</td>\n",
       "      <td>...</td>\n",
       "      <td>...</td>\n",
       "      <td>...</td>\n",
       "      <td>...</td>\n",
       "      <td>...</td>\n",
       "    </tr>\n",
       "    <tr>\n",
       "      <th>1404</th>\n",
       "      <td>10791</td>\n",
       "      <td>'anorexia'</td>\n",
       "      <td>'347 355'</td>\n",
       "      <td>109</td>\n",
       "      <td>345</td>\n",
       "      <td>353</td>\n",
       "      <td>1</td>\n",
       "      <td>This is a 20 year old female who presents for ...</td>\n",
       "      <td>anorexia</td>\n",
       "      <td>This is a 20 year old female who present for e...</td>\n",
       "      <td>&lt;re.Match object; span=(345, 353), match='anor...</td>\n",
       "    </tr>\n",
       "    <tr>\n",
       "      <th>1405</th>\n",
       "      <td>10706</td>\n",
       "      <td>'decreased appetite'</td>\n",
       "      <td>'143 161'</td>\n",
       "      <td>109</td>\n",
       "      <td>140</td>\n",
       "      <td>158</td>\n",
       "      <td>1</td>\n",
       "      <td>20 year old female presents with sudden onset ...</td>\n",
       "      <td>decreased appetite</td>\n",
       "      <td>20 year old female present with sudden onset R...</td>\n",
       "      <td>&lt;re.Match object; span=(140, 158), match='decr...</td>\n",
       "    </tr>\n",
       "    <tr>\n",
       "      <th>1406</th>\n",
       "      <td>10918</td>\n",
       "      <td>'anorexia'</td>\n",
       "      <td>'408 416'</td>\n",
       "      <td>109</td>\n",
       "      <td>406</td>\n",
       "      <td>414</td>\n",
       "      <td>1</td>\n",
       "      <td>Ms Powelton is a 20 yo F with no PMH presentin...</td>\n",
       "      <td>anorexia</td>\n",
       "      <td>Ms Powelton is a 20 yo F with no PMH presentin...</td>\n",
       "      <td>&lt;re.Match object; span=(406, 414), match='anor...</td>\n",
       "    </tr>\n",
       "    <tr>\n",
       "      <th>1407</th>\n",
       "      <td>10452</td>\n",
       "      <td>'Loss of appetite'</td>\n",
       "      <td>'273 289'</td>\n",
       "      <td>109</td>\n",
       "      <td>273</td>\n",
       "      <td>289</td>\n",
       "      <td>1</td>\n",
       "      <td>HPI 20 yo F complains of lower righ abdominal ...</td>\n",
       "      <td>Loss of appetite</td>\n",
       "      <td>HPI 20 yo F complains of lower righ abdominal ...</td>\n",
       "      <td>&lt;re.Match object; span=(273, 289), match='Loss...</td>\n",
       "    </tr>\n",
       "    <tr>\n",
       "      <th>1408</th>\n",
       "      <td>10356</td>\n",
       "      <td>'decreased apetite'</td>\n",
       "      <td>'574 591'</td>\n",
       "      <td>109</td>\n",
       "      <td>562</td>\n",
       "      <td>579</td>\n",
       "      <td>1</td>\n",
       "      <td>Ms. Powelton is a 20 yo F who is otherwise hea...</td>\n",
       "      <td>decreased apetite</td>\n",
       "      <td>Ms. Powelton is a 20 yo F who is otherwise hea...</td>\n",
       "      <td>&lt;re.Match object; span=(562, 579), match='decr...</td>\n",
       "    </tr>\n",
       "  </tbody>\n",
       "</table>\n",
       "<p>1387 rows × 11 columns</p>\n",
       "</div>"
      ],
      "text/plain": [
       "     pn_num                                   annotation   location  \\\n",
       "0     10004                               'no discharge'  '206 218'   \n",
       "1     10004         'last sexual encounter 9 months ago'  '529 563'   \n",
       "2     10004                                     '20 y/o'      '0 6'   \n",
       "3     10004  'similar episodes 3-4 in the last 6 months'  '265 306'   \n",
       "4     10004           'pain in the right lower quadrant'   '82 114'   \n",
       "...     ...                                          ...        ...   \n",
       "1404  10791                                   'anorexia'  '347 355'   \n",
       "1405  10706                         'decreased appetite'  '143 161'   \n",
       "1406  10918                                   'anorexia'  '408 416'   \n",
       "1407  10452                           'Loss of appetite'  '273 289'   \n",
       "1408  10356                          'decreased apetite'  '574 591'   \n",
       "\n",
       "     feature_num  start_location  end_location  case_num  \\\n",
       "0            100             201           213         1   \n",
       "1            102             519           552         1   \n",
       "2            104               0             6         1   \n",
       "3            106             260           299         1   \n",
       "4            107              79           111         1   \n",
       "...          ...             ...           ...       ...   \n",
       "1404         109             345           353         1   \n",
       "1405         109             140           158         1   \n",
       "1406         109             406           414         1   \n",
       "1407         109             273           289         1   \n",
       "1408         109             562           579         1   \n",
       "\n",
       "                                             pn_history  \\\n",
       "0     20 y/o F c/o abdominal pain  \\r\\n5/10. from la...   \n",
       "1     20 y/o F c/o abdominal pain  \\r\\n5/10. from la...   \n",
       "2     20 y/o F c/o abdominal pain  \\r\\n5/10. from la...   \n",
       "3     20 y/o F c/o abdominal pain  \\r\\n5/10. from la...   \n",
       "4     20 y/o F c/o abdominal pain  \\r\\n5/10. from la...   \n",
       "...                                                 ...   \n",
       "1404  This is a 20 year old female who presents for ...   \n",
       "1405  20 year old female presents with sudden onset ...   \n",
       "1406  Ms Powelton is a 20 yo F with no PMH presentin...   \n",
       "1407  HPI 20 yo F complains of lower righ abdominal ...   \n",
       "1408  Ms. Powelton is a 20 yo F who is otherwise hea...   \n",
       "\n",
       "                               New_annotation  \\\n",
       "0                                no discharge   \n",
       "1           last sexual encounter 9 month ago   \n",
       "2                                      20 y o   \n",
       "3     similar episode 3-4 in the last 6 month   \n",
       "4            pain in the right lower quadrant   \n",
       "...                                       ...   \n",
       "1404                                 anorexia   \n",
       "1405                       decreased appetite   \n",
       "1406                                 anorexia   \n",
       "1407                         Loss of appetite   \n",
       "1408                        decreased apetite   \n",
       "\n",
       "                                         New_pn_history  \\\n",
       "0     20 y o F c o abdominal pain 5 10. from last 10...   \n",
       "1     20 y o F c o abdominal pain 5 10. from last 10...   \n",
       "2     20 y o F c o abdominal pain 5 10. from last 10...   \n",
       "3     20 y o F c o abdominal pain 5 10. from last 10...   \n",
       "4     20 y o F c o abdominal pain 5 10. from last 10...   \n",
       "...                                                 ...   \n",
       "1404  This is a 20 year old female who present for e...   \n",
       "1405  20 year old female present with sudden onset R...   \n",
       "1406  Ms Powelton is a 20 yo F with no PMH presentin...   \n",
       "1407  HPI 20 yo F complains of lower righ abdominal ...   \n",
       "1408  Ms. Powelton is a 20 yo F who is otherwise hea...   \n",
       "\n",
       "                                           new_location  \n",
       "0     <re.Match object; span=(201, 213), match='no d...  \n",
       "1     <re.Match object; span=(519, 552), match='last...  \n",
       "2        <re.Match object; span=(0, 6), match='20 y o'>  \n",
       "3     <re.Match object; span=(260, 299), match='simi...  \n",
       "4     <re.Match object; span=(79, 111), match='pain ...  \n",
       "...                                                 ...  \n",
       "1404  <re.Match object; span=(345, 353), match='anor...  \n",
       "1405  <re.Match object; span=(140, 158), match='decr...  \n",
       "1406  <re.Match object; span=(406, 414), match='anor...  \n",
       "1407  <re.Match object; span=(273, 289), match='Loss...  \n",
       "1408  <re.Match object; span=(562, 579), match='decr...  \n",
       "\n",
       "[1387 rows x 11 columns]"
      ]
     },
     "execution_count": 39,
     "metadata": {},
     "output_type": "execute_result"
    }
   ],
   "source": [
    "case_1[\"start_location\"] = case_1.apply(lambda x :re.search(r'\\b' + x.New_annotation + r'\\b', x.New_pn_history).start(),axis =1)\n",
    "case_1[\"end_location\"] = case_1.apply(lambda x :re.search(r'\\b' + x.New_annotation + r'\\b', x.New_pn_history).end(),axis =1)\n",
    "case_1"
   ]
  },
  {
   "cell_type": "code",
   "execution_count": 40,
   "id": "b484ee83",
   "metadata": {},
   "outputs": [],
   "source": [
    "case_1 = case_1.drop(index = 261, axis = 0)\n",
    "case_1 = case_1.drop(index = 1018, axis = 0)\n",
    "case_1 = case_1.drop(index = 46, axis = 0)\n",
    "case_1 = case_1.drop(index = 114, axis = 0)\n",
    "case_1 = case_1.drop(index = [264,265], axis = 0)\n",
    "case_1 = case_1.drop(index = 312, axis = 0)\n",
    "case_1 = case_1.drop(index = 431, axis = 0)\n",
    "case_1 = case_1.drop(index = 536, axis = 0)\n",
    "case_1 = case_1.drop(index = 780, axis = 0)\n",
    "case_1 = case_1.drop(index = 932, axis = 0)\n",
    "case_1 = case_1.drop(index = 381, axis = 0)\n",
    "case_1 = case_1.drop(index = 482, axis = 0)\n",
    "case_1 = case_1.drop(index = 496, axis = 0)\n",
    "case_1 = case_1.drop(index = 662, axis = 0)\n",
    "case_1 = case_1.drop(index = 957, axis = 0)\n",
    "case_1 = case_1.drop(index = 106, axis = 0)\n",
    "case_1 = case_1.drop(index = 317, axis = 0)\n",
    "case_1 = case_1.drop(index = 605, axis = 0)\n",
    "case_1 = case_1.drop(index = 38, axis = 0)\n",
    "case_1 = case_1.drop(index = 108, axis = 0)\n",
    "case_1 = case_1.drop(index = 148, axis = 0)\n",
    "case_1 = case_1.drop(index = 371, axis = 0)\n",
    "case_1 = case_1.drop(index = 405, axis = 0)\n",
    "case_1 = case_1.drop(index = [486,485], axis = 0)\n",
    "case_1 = case_1.drop(index = 999, axis = 0)\n",
    "case_1 = case_1.drop(index = 938, axis = 0)\n",
    "case_1 = case_1.drop(index = [1009,1008], axis = 0)\n",
    "case_1 = case_1.drop(index = 319, axis = 0)\n",
    "case_1 = case_1.drop(index = 500, axis = 0)\n",
    "case_1 = case_1.drop(index = 1231, axis = 0)\n",
    "case_1 = case_1.drop(index = 1325, axis = 0)\n",
    "case_1 = case_1.drop(index = 1333, axis = 0)\n",
    "case_1 = case_1.drop(index = 1346, axis = 0)\n",
    "case_1 = case_1.drop(index = 1359, axis = 0)"
   ]
  },
  {
   "cell_type": "code",
   "execution_count": null,
   "id": "da350938",
   "metadata": {},
   "outputs": [],
   "source": []
  },
  {
   "cell_type": "markdown",
   "id": "c70d75ab",
   "metadata": {},
   "source": [
    "### Feature 100"
   ]
  },
  {
   "cell_type": "code",
   "execution_count": 41,
   "id": "5df7d509",
   "metadata": {},
   "outputs": [
    {
     "data": {
      "text/plain": [
       "(104, 11)"
      ]
     },
     "execution_count": 41,
     "metadata": {},
     "output_type": "execute_result"
    }
   ],
   "source": [
    "case_1_100 = case_1[case_1[\"feature_num\"] == 100]\n",
    "case_1_100.shape"
   ]
  },
  {
   "cell_type": "code",
   "execution_count": 42,
   "id": "6573b688",
   "metadata": {},
   "outputs": [
    {
     "data": {
      "text/plain": [
       "(83, 21)"
      ]
     },
     "execution_count": 42,
     "metadata": {},
     "output_type": "execute_result"
    }
   ],
   "source": [
    "pn_Num_list = list(case_1_100.pn_num.unique())\n",
    "\n",
    "final_train = []   # appending all the individual rows\n",
    "for patient_number in pn_Num_list:  # for each unique patient number\n",
    "    entities = []  # saving individaual entities locations\n",
    "    for row_index,row in case_1_100[case_1_100.pn_num == patient_number].iterrows():  # for each unique patient number \n",
    "        \n",
    "        entities.append((int(row[\"start_location\"]),int(row[\"end_location\"]),\"Feature_\" + str(row[\"feature_num\"]))) # store the locations in numeric format\n",
    "        \n",
    "    text = case_1_100[case_1_100.pn_num == patient_number][\"New_pn_history\"].values[0] # save the text for the unique patient number\n",
    "    \n",
    "    final_train.append((text,{\"entities\":entities}))  # for each unique pn_number append to final list\n",
    "    \n",
    "# Serializing json \n",
    "json_object = json.dumps(final_train, indent = 4)\n",
    "  \n",
    "# Writing to sample.json\n",
    "with open(\"sample_100.json\", \"w\") as outfile:\n",
    "    outfile.write(json_object)\n",
    "    \n",
    "# Opening JSON file\n",
    "f = open(\"sample_100.json\")\n",
    " \n",
    "# returns JSON object as\n",
    "# a dictionary\n",
    "data = json.load(f)\n",
    "\n",
    "nlp = spacy.blank(\"en\")\n",
    "def create_training(TRAIN_DATA):\n",
    "    db = DocBin()\n",
    "    for text, annot in tqdm(TRAIN_DATA):\n",
    "        doc = nlp.make_doc(text)\n",
    "        ents = []\n",
    "        for start, end, label in annot[\"entities\"]:\n",
    "            span = doc.char_span(start, end, label=label, alignment_mode=\"contract\")\n",
    "            if span is None:\n",
    "                print (\"Skipping entity\")\n",
    "            else:\n",
    "                ents.append(span)\n",
    "        doc.ents = ents\n",
    "        db.add(doc)\n",
    "    return (db)\n",
    "\n",
    "train, validation = train_test_split(data, test_size = 0.2, random_state = 100)\n",
    "len(train),len(validation)"
   ]
  },
  {
   "cell_type": "code",
   "execution_count": 43,
   "id": "cb492003",
   "metadata": {},
   "outputs": [
    {
     "name": "stderr",
     "output_type": "stream",
     "text": [
      "100%|█████████████████████████████████████████████████████████████████████████████████| 83/83 [00:00<00:00, 319.07it/s]\n"
     ]
    }
   ],
   "source": [
    "#train data set\n",
    "camp_train = create_training(train)\n",
    "camp_train.to_disk(\"nbme_train_100.spacy\")"
   ]
  },
  {
   "cell_type": "code",
   "execution_count": 44,
   "id": "c56f8eca",
   "metadata": {},
   "outputs": [
    {
     "name": "stderr",
     "output_type": "stream",
     "text": [
      "100%|█████████████████████████████████████████████████████████████████████████████████| 21/21 [00:00<00:00, 418.27it/s]\n"
     ]
    }
   ],
   "source": [
    "#Validation data set\n",
    "camp_validation = create_training(validation)\n",
    "camp_validation.to_disk(\"nbme_validation_100.spacy\")"
   ]
  },
  {
   "cell_type": "code",
   "execution_count": 45,
   "id": "7b9db849",
   "metadata": {},
   "outputs": [
    {
     "name": "stdout",
     "output_type": "stream",
     "text": [
      "[+] Auto-filled config with all values\n",
      "[+] Saved config\n",
      "config_100.cfg\n",
      "You can now add your data and train your pipeline:\n",
      "python -m spacy train config_100.cfg --paths.train ./train.spacy --paths.dev ./dev.spacy\n"
     ]
    },
    {
     "name": "stderr",
     "output_type": "stream",
     "text": [
      "2022-05-02 11:45:30.481078: W tensorflow/stream_executor/platform/default/dso_loader.cc:64] Could not load dynamic library 'cudart64_110.dll'; dlerror: cudart64_110.dll not found\n",
      "2022-05-02 11:45:30.481139: I tensorflow/stream_executor/cuda/cudart_stub.cc:29] Ignore above cudart dlerror if you do not have a GPU set up on your machine.\n"
     ]
    }
   ],
   "source": [
    "!python -m spacy init fill-config ./base_config_100.cfg ./config_100.cfg"
   ]
  },
  {
   "cell_type": "code",
   "execution_count": 46,
   "id": "a4356185",
   "metadata": {},
   "outputs": [
    {
     "name": "stdout",
     "output_type": "stream",
     "text": [
      "[i] Saving to output directory: output_100\n",
      "[i] Using CPU\n",
      "\u001b[1m\n",
      "=========================== Initializing pipeline ===========================\u001b[0m\n",
      "[+] Initialized pipeline\n",
      "\u001b[1m\n",
      "============================= Training pipeline =============================\u001b[0m\n",
      "[i] Pipeline: ['tok2vec', 'ner']\n",
      "[i] Initial learn rate: 0.001\n",
      "E    #       LOSS TOK2VEC  LOSS NER  ENTS_F  ENTS_P  ENTS_R  SCORE \n",
      "---  ------  ------------  --------  ------  ------  ------  ------\n",
      "  0       0          0.00     46.00    0.00    0.00    0.00    0.00\n",
      "  2     200        231.78   1420.72   60.00   63.16   57.14    0.60\n",
      "  4     400         63.54     70.39   53.33   50.00   57.14    0.53\n",
      "  7     600         32.16     41.20   95.24   95.24   95.24    0.95\n",
      "  9     800         55.03     38.15   90.91   86.96   95.24    0.91\n",
      " 12    1000         24.01     21.89   95.24   95.24   95.24    0.95\n",
      " 14    1200         33.66     16.77   92.68   95.00   90.48    0.93\n",
      " 16    1400          9.81     14.75   90.00   94.74   85.71    0.90\n",
      " 19    1600         66.43     19.47   87.80   90.00   85.71    0.88\n",
      " 22    1800       6899.07     71.19   88.89   83.33   95.24    0.89\n",
      " 27    2000          3.27      1.83   93.02   90.91   95.24    0.93\n",
      " 33    2200          0.00      0.00   93.02   90.91   95.24    0.93\n",
      "[+] Saved pipeline to output directory\n",
      "output_100\\model-last\n"
     ]
    },
    {
     "name": "stderr",
     "output_type": "stream",
     "text": [
      "2022-05-02 11:45:41.760952: W tensorflow/stream_executor/platform/default/dso_loader.cc:64] Could not load dynamic library 'cudart64_110.dll'; dlerror: cudart64_110.dll not found\n",
      "2022-05-02 11:45:41.761037: I tensorflow/stream_executor/cuda/cudart_stub.cc:29] Ignore above cudart dlerror if you do not have a GPU set up on your machine.\n",
      "[2022-05-02 11:45:52,097] [INFO] Set up nlp object from config\n",
      "[2022-05-02 11:45:52,119] [INFO] Pipeline: ['tok2vec', 'ner']\n",
      "[2022-05-02 11:45:52,131] [INFO] Created vocabulary\n",
      "[2022-05-02 11:45:52,133] [INFO] Finished initializing nlp object\n",
      "[2022-05-02 11:45:53,417] [INFO] Initialized pipeline components: ['tok2vec', 'ner']\n"
     ]
    }
   ],
   "source": [
    "!python -m spacy train config_100.cfg --output ./output_100"
   ]
  },
  {
   "cell_type": "code",
   "execution_count": null,
   "id": "271f23de",
   "metadata": {},
   "outputs": [],
   "source": []
  },
  {
   "cell_type": "markdown",
   "id": "5c631219",
   "metadata": {},
   "source": [
    "### Feature 101"
   ]
  },
  {
   "cell_type": "code",
   "execution_count": 47,
   "id": "6c24c945",
   "metadata": {},
   "outputs": [
    {
     "data": {
      "text/plain": [
       "(96, 11)"
      ]
     },
     "execution_count": 47,
     "metadata": {},
     "output_type": "execute_result"
    }
   ],
   "source": [
    "case_1_101 = case_1[case_1[\"feature_num\"] == 101]\n",
    "case_1_101.shape"
   ]
  },
  {
   "cell_type": "code",
   "execution_count": 48,
   "id": "d90f30ea",
   "metadata": {},
   "outputs": [
    {
     "data": {
      "text/plain": [
       "(69, 18)"
      ]
     },
     "execution_count": 48,
     "metadata": {},
     "output_type": "execute_result"
    }
   ],
   "source": [
    "pn_Num_list = list(case_1_101.pn_num.unique())\n",
    "\n",
    "final_train = []   # appending all the individual rows\n",
    "for patient_number in pn_Num_list:  # for each unique patient number\n",
    "    entities = []  # saving individaual entities locations\n",
    "    for row_index,row in case_1_101[case_1_101.pn_num == patient_number].iterrows():  # for each unique patient number \n",
    "        \n",
    "        entities.append((int(row[\"start_location\"]),int(row[\"end_location\"]),\"Feature_\" + str(row[\"feature_num\"]))) # store the locations in numeric format\n",
    "        \n",
    "    text = case_1_101[case_1_101.pn_num == patient_number][\"New_pn_history\"].values[0] # save the text for the unique patient number\n",
    "    \n",
    "    final_train.append((text,{\"entities\":entities}))  # for each unique pn_number append to final list\n",
    "\n",
    "# Serializing json \n",
    "json_object = json.dumps(final_train, indent = 4)\n",
    "  \n",
    "# Writing to sample.json\n",
    "with open(\"sample_101.json\", \"w\") as outfile:\n",
    "    outfile.write(json_object)\n",
    "    \n",
    "# Opening JSON file\n",
    "f = open(\"sample_101.json\")\n",
    " \n",
    "# returns JSON object as\n",
    "# a dictionary\n",
    "data = json.load(f)\n",
    "\n",
    "nlp = spacy.blank(\"en\")\n",
    "def create_training(TRAIN_DATA):\n",
    "    db = DocBin()\n",
    "    for text, annot in tqdm(TRAIN_DATA):\n",
    "        doc = nlp.make_doc(text)\n",
    "        ents = []\n",
    "        for start, end, label in annot[\"entities\"]:\n",
    "            span = doc.char_span(start, end, label=label, alignment_mode=\"contract\")\n",
    "            if span is None:\n",
    "                print (\"Skipping entity\")\n",
    "            else:\n",
    "                ents.append(span)\n",
    "        doc.ents = ents\n",
    "        db.add(doc)\n",
    "    return (db)\n",
    "\n",
    "train, validation = train_test_split(data, test_size = 0.2, random_state = 100)\n",
    "len(train),len(validation)"
   ]
  },
  {
   "cell_type": "code",
   "execution_count": 49,
   "id": "cb6e75c9",
   "metadata": {},
   "outputs": [
    {
     "name": "stderr",
     "output_type": "stream",
     "text": [
      "100%|█████████████████████████████████████████████████████████████████████████████████| 69/69 [00:00<00:00, 313.66it/s]\n"
     ]
    }
   ],
   "source": [
    "#train data set\n",
    "camp_train = create_training(train)\n",
    "camp_train.to_disk(\"nbme_train_101.spacy\")"
   ]
  },
  {
   "cell_type": "code",
   "execution_count": 50,
   "id": "46ea2ab1",
   "metadata": {},
   "outputs": [
    {
     "name": "stderr",
     "output_type": "stream",
     "text": [
      "100%|█████████████████████████████████████████████████████████████████████████████████| 18/18 [00:00<00:00, 440.48it/s]\n"
     ]
    }
   ],
   "source": [
    "#Validation data set\n",
    "camp_validation = create_training(validation)\n",
    "camp_validation.to_disk(\"nbme_validation_101.spacy\")"
   ]
  },
  {
   "cell_type": "code",
   "execution_count": 51,
   "id": "9c62c43c",
   "metadata": {},
   "outputs": [
    {
     "name": "stdout",
     "output_type": "stream",
     "text": [
      "[+] Auto-filled config with all values\n",
      "[+] Saved config\n",
      "config_101.cfg\n",
      "You can now add your data and train your pipeline:\n",
      "python -m spacy train config_101.cfg --paths.train ./train.spacy --paths.dev ./dev.spacy\n"
     ]
    },
    {
     "name": "stderr",
     "output_type": "stream",
     "text": [
      "2022-05-02 11:49:56.144598: W tensorflow/stream_executor/platform/default/dso_loader.cc:64] Could not load dynamic library 'cudart64_110.dll'; dlerror: cudart64_110.dll not found\n",
      "2022-05-02 11:49:56.144651: I tensorflow/stream_executor/cuda/cudart_stub.cc:29] Ignore above cudart dlerror if you do not have a GPU set up on your machine.\n"
     ]
    }
   ],
   "source": [
    "!python -m spacy init fill-config ./base_config_101.cfg ./config_101.cfg"
   ]
  },
  {
   "cell_type": "code",
   "execution_count": 52,
   "id": "bbf5b67e",
   "metadata": {},
   "outputs": [
    {
     "name": "stdout",
     "output_type": "stream",
     "text": [
      "[i] Saving to output directory: output_101\n",
      "[i] Using CPU\n",
      "\u001b[1m\n",
      "=========================== Initializing pipeline ===========================\u001b[0m\n",
      "[+] Initialized pipeline\n",
      "\u001b[1m\n",
      "============================= Training pipeline =============================\u001b[0m\n",
      "[i] Pipeline: ['tok2vec', 'ner']\n",
      "[i] Initial learn rate: 0.001\n",
      "E    #       LOSS TOK2VEC  LOSS NER  ENTS_F  ENTS_P  ENTS_R  SCORE \n",
      "---  ------  ------------  --------  ------  ------  ------  ------\n",
      "  0       0          0.00     66.00    0.00    0.00    0.00    0.00\n",
      "  2     200       7029.81   1592.83   66.67   65.22   68.18    0.67\n",
      "  5     400        253.56     47.08   80.95   85.00   77.27    0.81\n",
      "  8     600         18.18     20.06   75.00   83.33   68.18    0.75\n",
      " 11     800          9.17      9.39   71.43   75.00   68.18    0.71\n",
      " 14    1000          1.57      1.78   73.17   78.95   68.18    0.73\n",
      " 17    1200          0.00      0.00   74.42   76.19   72.73    0.74\n",
      " 20    1400          0.00      0.00   74.42   76.19   72.73    0.74\n",
      " 23    1600          0.00      0.00   71.43   75.00   68.18    0.71\n",
      " 26    1800          0.00      0.00   73.17   78.95   68.18    0.73\n",
      " 30    2000          0.00      0.00   73.17   78.95   68.18    0.73\n",
      "[+] Saved pipeline to output directory\n",
      "output_101\\model-last\n"
     ]
    },
    {
     "name": "stderr",
     "output_type": "stream",
     "text": [
      "2022-05-02 11:50:02.885248: W tensorflow/stream_executor/platform/default/dso_loader.cc:64] Could not load dynamic library 'cudart64_110.dll'; dlerror: cudart64_110.dll not found\n",
      "2022-05-02 11:50:02.885299: I tensorflow/stream_executor/cuda/cudart_stub.cc:29] Ignore above cudart dlerror if you do not have a GPU set up on your machine.\n",
      "[2022-05-02 11:50:07,275] [INFO] Set up nlp object from config\n",
      "[2022-05-02 11:50:07,285] [INFO] Pipeline: ['tok2vec', 'ner']\n",
      "[2022-05-02 11:50:07,289] [INFO] Created vocabulary\n",
      "[2022-05-02 11:50:07,290] [INFO] Finished initializing nlp object\n",
      "[2022-05-02 11:50:07,867] [INFO] Initialized pipeline components: ['tok2vec', 'ner']\n"
     ]
    }
   ],
   "source": [
    "!python -m spacy train config_101.cfg --output ./output_101"
   ]
  },
  {
   "cell_type": "code",
   "execution_count": null,
   "id": "bbaa91c2",
   "metadata": {},
   "outputs": [],
   "source": []
  },
  {
   "cell_type": "markdown",
   "id": "1312dce7",
   "metadata": {},
   "source": [
    "### Feature 102"
   ]
  },
  {
   "cell_type": "code",
   "execution_count": 53,
   "id": "e70dfb4d",
   "metadata": {},
   "outputs": [
    {
     "data": {
      "text/plain": [
       "(139, 11)"
      ]
     },
     "execution_count": 53,
     "metadata": {},
     "output_type": "execute_result"
    }
   ],
   "source": [
    "case_1_102 = case_1[case_1[\"feature_num\"] == 102]\n",
    "case_1_102.shape"
   ]
  },
  {
   "cell_type": "code",
   "execution_count": 54,
   "id": "98f19aa1",
   "metadata": {},
   "outputs": [
    {
     "data": {
      "text/plain": [
       "(105, 27)"
      ]
     },
     "execution_count": 54,
     "metadata": {},
     "output_type": "execute_result"
    }
   ],
   "source": [
    "pn_Num_list = list(case_1_102.pn_num.unique())\n",
    "\n",
    "final_train = []   # appending all the individual rows\n",
    "for patient_number in pn_Num_list:  # for each unique patient number\n",
    "    entities = []  # saving individaual entities locations\n",
    "    for row_index,row in case_1_102[case_1_102.pn_num == patient_number].iterrows():  # for each unique patient number \n",
    "        \n",
    "        entities.append((int(row[\"start_location\"]),int(row[\"end_location\"]),\"Feature_\" + str(row[\"feature_num\"]))) # store the locations in numeric format\n",
    "        \n",
    "    text = case_1_102[case_1_102.pn_num == patient_number][\"New_pn_history\"].values[0] # save the text for the unique patient number\n",
    "    \n",
    "    final_train.append((text,{\"entities\":entities}))  # for each unique pn_number append to final list\n",
    "\n",
    "# Serializing json \n",
    "json_object = json.dumps(final_train, indent = 4)\n",
    "  \n",
    "# Writing to sample.json\n",
    "with open(\"sample_102.json\", \"w\") as outfile:\n",
    "    outfile.write(json_object)\n",
    "    \n",
    "# Opening JSON file\n",
    "f = open(\"sample_102.json\")\n",
    " \n",
    "# returns JSON object as\n",
    "# a dictionary\n",
    "data = json.load(f)\n",
    "\n",
    "nlp = spacy.blank(\"en\")\n",
    "def create_training(TRAIN_DATA):\n",
    "    db = DocBin()\n",
    "    for text, annot in tqdm(TRAIN_DATA):\n",
    "        doc = nlp.make_doc(text)\n",
    "        ents = []\n",
    "        for start, end, label in annot[\"entities\"]:\n",
    "            span = doc.char_span(start, end, label=label, alignment_mode=\"contract\")\n",
    "            if span is None:\n",
    "                print (\"Skipping entity\")\n",
    "            else:\n",
    "                ents.append(span)\n",
    "        doc.ents = ents\n",
    "        db.add(doc)\n",
    "    return (db)\n",
    "\n",
    "train, validation = train_test_split(data, test_size = 0.2, random_state = 100)\n",
    "len(train),len(validation)"
   ]
  },
  {
   "cell_type": "code",
   "execution_count": 55,
   "id": "55b94f0b",
   "metadata": {},
   "outputs": [
    {
     "name": "stderr",
     "output_type": "stream",
     "text": [
      "100%|███████████████████████████████████████████████████████████████████████████████| 105/105 [00:00<00:00, 334.44it/s]"
     ]
    },
    {
     "name": "stdout",
     "output_type": "stream",
     "text": [
      "Skipping entity\n",
      "Skipping entity\n"
     ]
    },
    {
     "name": "stderr",
     "output_type": "stream",
     "text": [
      "\n"
     ]
    }
   ],
   "source": [
    "#train data set\n",
    "camp_train = create_training(train)\n",
    "camp_train.to_disk(\"nbme_train_102.spacy\")"
   ]
  },
  {
   "cell_type": "code",
   "execution_count": 56,
   "id": "a3b6e771",
   "metadata": {
    "scrolled": true
   },
   "outputs": [
    {
     "name": "stderr",
     "output_type": "stream",
     "text": [
      "100%|█████████████████████████████████████████████████████████████████████████████████| 27/27 [00:00<00:00, 511.15it/s]\n"
     ]
    }
   ],
   "source": [
    "#Validation data set\n",
    "camp_validation = create_training(validation)\n",
    "camp_validation.to_disk(\"nbme_validation_102.spacy\")"
   ]
  },
  {
   "cell_type": "code",
   "execution_count": 57,
   "id": "e4e3fbdf",
   "metadata": {},
   "outputs": [
    {
     "name": "stdout",
     "output_type": "stream",
     "text": [
      "[+] Auto-filled config with all values\n",
      "[+] Saved config\n",
      "config_102.cfg\n",
      "You can now add your data and train your pipeline:\n",
      "python -m spacy train config_102.cfg --paths.train ./train.spacy --paths.dev ./dev.spacy\n"
     ]
    },
    {
     "name": "stderr",
     "output_type": "stream",
     "text": [
      "2022-05-02 11:54:06.337682: W tensorflow/stream_executor/platform/default/dso_loader.cc:64] Could not load dynamic library 'cudart64_110.dll'; dlerror: cudart64_110.dll not found\n",
      "2022-05-02 11:54:06.337806: I tensorflow/stream_executor/cuda/cudart_stub.cc:29] Ignore above cudart dlerror if you do not have a GPU set up on your machine.\n"
     ]
    }
   ],
   "source": [
    "!python -m spacy init fill-config ./base_config_102.cfg ./config_102.cfg"
   ]
  },
  {
   "cell_type": "code",
   "execution_count": 58,
   "id": "e0619199",
   "metadata": {},
   "outputs": [
    {
     "name": "stdout",
     "output_type": "stream",
     "text": [
      "[i] Saving to output directory: output_102\n",
      "[i] Using CPU\n",
      "\u001b[1m\n",
      "=========================== Initializing pipeline ===========================\u001b[0m\n",
      "[+] Initialized pipeline\n",
      "\u001b[1m\n",
      "============================= Training pipeline =============================\u001b[0m\n",
      "[i] Pipeline: ['tok2vec', 'ner']\n",
      "[i] Initial learn rate: 0.001\n",
      "E    #       LOSS TOK2VEC  LOSS NER  ENTS_F  ENTS_P  ENTS_R  SCORE \n",
      "---  ------  ------------  --------  ------  ------  ------  ------\n",
      "  0       0          0.00     64.00    0.00    0.00    0.00    0.00\n",
      "  1     200        357.58   1758.53   50.98   61.90   43.33    0.51\n",
      "  3     400         42.23    158.71   70.00   70.00   70.00    0.70\n",
      "  5     600         72.14    119.89   77.19   81.48   73.33    0.77\n",
      "  7     800         74.78    100.91   71.70   82.61   63.33    0.72\n",
      "  9    1000         87.07     80.08   52.83   60.87   46.67    0.53\n",
      " 11    1200         52.60     49.70   50.98   61.90   43.33    0.51\n",
      " 13    1400         73.05     61.25   72.41   75.00   70.00    0.72\n",
      " 15    1600         64.23     38.95   66.67   66.67   66.67    0.67\n",
      " 17    1800        100.75     45.09   60.71   65.38   56.67    0.61\n",
      " 19    2000         66.11     36.33   73.68   77.78   70.00    0.74\n",
      " 22    2200         64.39     42.99   66.67   66.67   66.67    0.67\n",
      "[+] Saved pipeline to output directory\n",
      "output_102\\model-last\n"
     ]
    },
    {
     "name": "stderr",
     "output_type": "stream",
     "text": [
      "2022-05-02 11:54:13.259305: W tensorflow/stream_executor/platform/default/dso_loader.cc:64] Could not load dynamic library 'cudart64_110.dll'; dlerror: cudart64_110.dll not found\n",
      "2022-05-02 11:54:13.259366: I tensorflow/stream_executor/cuda/cudart_stub.cc:29] Ignore above cudart dlerror if you do not have a GPU set up on your machine.\n",
      "[2022-05-02 11:54:17,555] [INFO] Set up nlp object from config\n",
      "[2022-05-02 11:54:17,565] [INFO] Pipeline: ['tok2vec', 'ner']\n",
      "[2022-05-02 11:54:17,569] [INFO] Created vocabulary\n",
      "[2022-05-02 11:54:17,570] [INFO] Finished initializing nlp object\n",
      "[2022-05-02 11:54:18,328] [INFO] Initialized pipeline components: ['tok2vec', 'ner']\n"
     ]
    }
   ],
   "source": [
    "!python -m spacy train config_102.cfg --output ./output_102"
   ]
  },
  {
   "cell_type": "code",
   "execution_count": null,
   "id": "3ea953e4",
   "metadata": {},
   "outputs": [],
   "source": []
  },
  {
   "cell_type": "markdown",
   "id": "ad010e3c",
   "metadata": {},
   "source": [
    "### Feature 103"
   ]
  },
  {
   "cell_type": "code",
   "execution_count": 59,
   "id": "9595c994",
   "metadata": {},
   "outputs": [
    {
     "data": {
      "text/plain": [
       "(113, 11)"
      ]
     },
     "execution_count": 59,
     "metadata": {},
     "output_type": "execute_result"
    }
   ],
   "source": [
    "case_1_103 = case_1[case_1[\"feature_num\"] == 103]\n",
    "case_1_103.shape"
   ]
  },
  {
   "cell_type": "code",
   "execution_count": 60,
   "id": "77c0bf74",
   "metadata": {},
   "outputs": [
    {
     "data": {
      "text/plain": [
       "(76, 20)"
      ]
     },
     "execution_count": 60,
     "metadata": {},
     "output_type": "execute_result"
    }
   ],
   "source": [
    "pn_Num_list = list(case_1_103.pn_num.unique())\n",
    "\n",
    "final_train = []   # appending all the individual rows\n",
    "for patient_number in pn_Num_list:  # for each unique patient number\n",
    "    entities = []  # saving individaual entities locations\n",
    "    for row_index,row in case_1_103[case_1_103.pn_num == patient_number].iterrows():  # for each unique patient number \n",
    "        \n",
    "        entities.append((int(row[\"start_location\"]),int(row[\"end_location\"]),\"Feature_\" + str(row[\"feature_num\"]))) # store the locations in numeric format\n",
    "        \n",
    "    text = case_1_103[case_1_103.pn_num == patient_number][\"New_pn_history\"].values[0] # save the text for the unique patient number\n",
    "    \n",
    "    final_train.append((text,{\"entities\":entities}))  # for each unique pn_number append to final list\n",
    "\n",
    "# Serializing json \n",
    "json_object = json.dumps(final_train, indent = 4)\n",
    "  \n",
    "# Writing to sample.json\n",
    "with open(\"sample_103.json\", \"w\") as outfile:\n",
    "    outfile.write(json_object)\n",
    "    \n",
    "# Opening JSON file\n",
    "f = open(\"sample_103.json\")\n",
    " \n",
    "# returns JSON object as\n",
    "# a dictionary\n",
    "data = json.load(f)\n",
    "\n",
    "nlp = spacy.blank(\"en\")\n",
    "def create_training(TRAIN_DATA):\n",
    "    db = DocBin()\n",
    "    for text, annot in tqdm(TRAIN_DATA):\n",
    "        doc = nlp.make_doc(text)\n",
    "        ents = []\n",
    "        for start, end, label in annot[\"entities\"]:\n",
    "            span = doc.char_span(start, end, label=label, alignment_mode=\"contract\")\n",
    "            if span is None:\n",
    "                print (\"Skipping entity\")\n",
    "            else:\n",
    "                ents.append(span)\n",
    "        doc.ents = ents\n",
    "        db.add(doc)\n",
    "    return (db)\n",
    "\n",
    "train, validation = train_test_split(data, test_size = 0.2, random_state = 100)\n",
    "len(train),len(validation)"
   ]
  },
  {
   "cell_type": "code",
   "execution_count": 61,
   "id": "34b2d969",
   "metadata": {},
   "outputs": [
    {
     "name": "stderr",
     "output_type": "stream",
     "text": [
      "100%|█████████████████████████████████████████████████████████████████████████████████| 76/76 [00:00<00:00, 338.91it/s]"
     ]
    },
    {
     "name": "stdout",
     "output_type": "stream",
     "text": [
      "Skipping entity\n"
     ]
    },
    {
     "name": "stderr",
     "output_type": "stream",
     "text": [
      "\n"
     ]
    }
   ],
   "source": [
    "#train data set\n",
    "camp_train = create_training(train)\n",
    "camp_train.to_disk(\"nbme_train_103.spacy\")"
   ]
  },
  {
   "cell_type": "code",
   "execution_count": 62,
   "id": "990a78c1",
   "metadata": {},
   "outputs": [
    {
     "name": "stderr",
     "output_type": "stream",
     "text": [
      "100%|█████████████████████████████████████████████████████████████████████████████████| 20/20 [00:00<00:00, 418.07it/s]\n"
     ]
    }
   ],
   "source": [
    "#Validation data set\n",
    "camp_validation = create_training(validation)\n",
    "camp_validation.to_disk(\"nbme_validation_103.spacy\")"
   ]
  },
  {
   "cell_type": "code",
   "execution_count": 63,
   "id": "e995017e",
   "metadata": {},
   "outputs": [
    {
     "name": "stdout",
     "output_type": "stream",
     "text": [
      "[+] Auto-filled config with all values\n",
      "[+] Saved config\n",
      "config_103.cfg\n",
      "You can now add your data and train your pipeline:\n",
      "python -m spacy train config_103.cfg --paths.train ./train.spacy --paths.dev ./dev.spacy\n"
     ]
    },
    {
     "name": "stderr",
     "output_type": "stream",
     "text": [
      "2022-05-02 11:58:46.547478: W tensorflow/stream_executor/platform/default/dso_loader.cc:64] Could not load dynamic library 'cudart64_110.dll'; dlerror: cudart64_110.dll not found\n",
      "2022-05-02 11:58:46.547536: I tensorflow/stream_executor/cuda/cudart_stub.cc:29] Ignore above cudart dlerror if you do not have a GPU set up on your machine.\n"
     ]
    }
   ],
   "source": [
    "!python -m spacy init fill-config ./base_config_103.cfg ./config_103.cfg"
   ]
  },
  {
   "cell_type": "code",
   "execution_count": 64,
   "id": "aee66459",
   "metadata": {},
   "outputs": [
    {
     "name": "stdout",
     "output_type": "stream",
     "text": [
      "[i] Saving to output directory: output_103\n",
      "[i] Using CPU\n",
      "\u001b[1m\n",
      "=========================== Initializing pipeline ===========================\u001b[0m\n",
      "[+] Initialized pipeline\n",
      "\u001b[1m\n",
      "============================= Training pipeline =============================\u001b[0m\n",
      "[i] Pipeline: ['tok2vec', 'ner']\n",
      "[i] Initial learn rate: 0.001\n",
      "E    #       LOSS TOK2VEC  LOSS NER  ENTS_F  ENTS_P  ENTS_R  SCORE \n",
      "---  ------  ------------  --------  ------  ------  ------  ------\n",
      "  0       0          0.00     49.33    0.00    0.00    0.00    0.00\n",
      "  2     200        414.56   1645.95   25.00   26.09   24.00    0.25\n",
      "  5     400         34.53    237.39   17.78   20.00   16.00    0.18\n",
      "  7     600         66.78    171.74   13.04   14.29   12.00    0.13\n",
      " 10     800         76.64    106.11   21.74   23.81   20.00    0.22\n",
      " 13    1000         69.62     54.09   24.39   31.25   20.00    0.24\n",
      " 15    1200         88.08     47.75   22.64   21.43   24.00    0.23\n",
      " 18    1400         71.76     29.87   16.33   16.67   16.00    0.16\n",
      " 21    1600         79.70     41.38   21.74   23.81   20.00    0.22\n",
      " 26    1800        109.23     39.32   20.00   26.67   16.00    0.20\n",
      "[+] Saved pipeline to output directory\n",
      "output_103\\model-last\n"
     ]
    },
    {
     "name": "stderr",
     "output_type": "stream",
     "text": [
      "2022-05-02 11:58:55.077142: W tensorflow/stream_executor/platform/default/dso_loader.cc:64] Could not load dynamic library 'cudart64_110.dll'; dlerror: cudart64_110.dll not found\n",
      "2022-05-02 11:58:55.077223: I tensorflow/stream_executor/cuda/cudart_stub.cc:29] Ignore above cudart dlerror if you do not have a GPU set up on your machine.\n",
      "[2022-05-02 11:59:00,950] [INFO] Set up nlp object from config\n",
      "[2022-05-02 11:59:00,973] [INFO] Pipeline: ['tok2vec', 'ner']\n",
      "[2022-05-02 11:59:00,981] [INFO] Created vocabulary\n",
      "[2022-05-02 11:59:00,983] [INFO] Finished initializing nlp object\n",
      "[2022-05-02 11:59:01,784] [INFO] Initialized pipeline components: ['tok2vec', 'ner']\n"
     ]
    }
   ],
   "source": [
    "!python -m spacy train config_103.cfg --output ./output_103"
   ]
  },
  {
   "cell_type": "code",
   "execution_count": null,
   "id": "73e0c655",
   "metadata": {},
   "outputs": [],
   "source": []
  },
  {
   "cell_type": "markdown",
   "id": "0735e7e9",
   "metadata": {},
   "source": [
    "### Feature 104"
   ]
  },
  {
   "cell_type": "code",
   "execution_count": 65,
   "id": "75fae2dd",
   "metadata": {},
   "outputs": [
    {
     "data": {
      "text/plain": [
       "(95, 11)"
      ]
     },
     "execution_count": 65,
     "metadata": {},
     "output_type": "execute_result"
    }
   ],
   "source": [
    "case_1_104 = case_1[case_1[\"feature_num\"] == 104]\n",
    "case_1_104.shape"
   ]
  },
  {
   "cell_type": "code",
   "execution_count": 66,
   "id": "017784ec",
   "metadata": {},
   "outputs": [
    {
     "data": {
      "text/plain": [
       "(76, 19)"
      ]
     },
     "execution_count": 66,
     "metadata": {},
     "output_type": "execute_result"
    }
   ],
   "source": [
    "pn_Num_list = list(case_1_104.pn_num.unique())\n",
    "\n",
    "final_train = []   # appending all the individual rows\n",
    "for patient_number in pn_Num_list:  # for each unique patient number\n",
    "    entities = []  # saving individaual entities locations\n",
    "    for row_index,row in case_1_104[case_1_104.pn_num == patient_number].iterrows():  # for each unique patient number \n",
    "        \n",
    "        entities.append((int(row[\"start_location\"]),int(row[\"end_location\"]),\"Feature_\" + str(row[\"feature_num\"]))) # store the locations in numeric format\n",
    "        \n",
    "    text = case_1_104[case_1_104.pn_num == patient_number][\"New_pn_history\"].values[0] # save the text for the unique patient number\n",
    "    \n",
    "    final_train.append((text,{\"entities\":entities}))  # for each unique pn_number append to final list\n",
    "\n",
    "# Serializing json \n",
    "json_object = json.dumps(final_train, indent = 4)\n",
    "  \n",
    "# Writing to sample.json\n",
    "with open(\"sample_104.json\", \"w\") as outfile:\n",
    "    outfile.write(json_object)\n",
    "    \n",
    "# Opening JSON file\n",
    "f = open(\"sample_104.json\")\n",
    " \n",
    "# returns JSON object as\n",
    "# a dictionary\n",
    "data = json.load(f)\n",
    "\n",
    "nlp = spacy.blank(\"en\")\n",
    "def create_training(TRAIN_DATA):\n",
    "    db = DocBin()\n",
    "    for text, annot in tqdm(TRAIN_DATA):\n",
    "        doc = nlp.make_doc(text)\n",
    "        ents = []\n",
    "        for start, end, label in annot[\"entities\"]:\n",
    "            span = doc.char_span(start, end, label=label, alignment_mode=\"contract\")\n",
    "            if span is None:\n",
    "                print (\"Skipping entity\")\n",
    "            else:\n",
    "                ents.append(span)\n",
    "        doc.ents = ents\n",
    "        db.add(doc)\n",
    "    return (db)\n",
    "\n",
    "train, validation = train_test_split(data, test_size = 0.2, random_state = 100)\n",
    "len(train),len(validation)"
   ]
  },
  {
   "cell_type": "code",
   "execution_count": 67,
   "id": "739ac4ab",
   "metadata": {},
   "outputs": [
    {
     "name": "stderr",
     "output_type": "stream",
     "text": [
      "100%|█████████████████████████████████████████████████████████████████████████████████| 76/76 [00:00<00:00, 271.37it/s]\n"
     ]
    }
   ],
   "source": [
    "#train data set\n",
    "camp_train = create_training(train)\n",
    "camp_train.to_disk(\"nbme_train_104.spacy\")"
   ]
  },
  {
   "cell_type": "code",
   "execution_count": 68,
   "id": "b451b967",
   "metadata": {},
   "outputs": [
    {
     "name": "stderr",
     "output_type": "stream",
     "text": [
      "100%|█████████████████████████████████████████████████████████████████████████████████| 19/19 [00:00<00:00, 488.80it/s]\n"
     ]
    }
   ],
   "source": [
    "#Validation data set\n",
    "camp_validation = create_training(validation)\n",
    "camp_validation.to_disk(\"nbme_validation_104.spacy\")"
   ]
  },
  {
   "cell_type": "code",
   "execution_count": 69,
   "id": "760ae178",
   "metadata": {},
   "outputs": [
    {
     "name": "stdout",
     "output_type": "stream",
     "text": [
      "[+] Auto-filled config with all values\n",
      "[+] Saved config\n",
      "config_104.cfg\n",
      "You can now add your data and train your pipeline:\n",
      "python -m spacy train config_104.cfg --paths.train ./train.spacy --paths.dev ./dev.spacy\n"
     ]
    },
    {
     "name": "stderr",
     "output_type": "stream",
     "text": [
      "2022-05-02 12:03:15.647056: W tensorflow/stream_executor/platform/default/dso_loader.cc:64] Could not load dynamic library 'cudart64_110.dll'; dlerror: cudart64_110.dll not found\n",
      "2022-05-02 12:03:15.647110: I tensorflow/stream_executor/cuda/cudart_stub.cc:29] Ignore above cudart dlerror if you do not have a GPU set up on your machine.\n"
     ]
    }
   ],
   "source": [
    "!python -m spacy init fill-config ./base_config_104.cfg ./config_104.cfg"
   ]
  },
  {
   "cell_type": "code",
   "execution_count": 70,
   "id": "953c318b",
   "metadata": {},
   "outputs": [
    {
     "name": "stdout",
     "output_type": "stream",
     "text": [
      "[i] Saving to output directory: output_104"
     ]
    },
    {
     "name": "stderr",
     "output_type": "stream",
     "text": [
      "2022-05-02 12:03:24.175886: W tensorflow/stream_executor/platform/default/dso_loader.cc:64] Could not load dynamic library 'cudart64_110.dll'; dlerror: cudart64_110.dll not found\n",
      "2022-05-02 12:03:24.175941: I tensorflow/stream_executor/cuda/cudart_stub.cc:29] Ignore above cudart dlerror if you do not have a GPU set up on your machine.\n",
      "[2022-05-02 12:03:29,927] [INFO] Set up nlp object from config\n",
      "[2022-05-02 12:03:29,948] [INFO] Pipeline: ['tok2vec', 'ner']\n",
      "[2022-05-02 12:03:29,957] [INFO] Created vocabulary\n",
      "[2022-05-02 12:03:29,958] [INFO] Finished initializing nlp object\n",
      "[2022-05-02 12:03:30,709] [INFO] Initialized pipeline components: ['tok2vec', 'ner']\n"
     ]
    },
    {
     "name": "stdout",
     "output_type": "stream",
     "text": [
      "\n",
      "[i] Using CPU\n",
      "\u001b[1m\n",
      "=========================== Initializing pipeline ===========================\u001b[0m\n",
      "[+] Initialized pipeline\n",
      "\u001b[1m\n",
      "============================= Training pipeline =============================\u001b[0m\n",
      "[i] Pipeline: ['tok2vec', 'ner']\n",
      "[i] Initial learn rate: 0.001\n",
      "E    #       LOSS TOK2VEC  LOSS NER  ENTS_F  ENTS_P  ENTS_R  SCORE \n",
      "---  ------  ------------  --------  ------  ------  ------  ------\n",
      "  0       0          0.00     67.33    0.00    0.00    0.00    0.00\n",
      "  2     200      24838.60   2668.12   86.49   88.89   84.21    0.86\n",
      "  5     400         16.39     45.95   86.49   88.89   84.21    0.86\n",
      "  7     600         16.38     46.28   84.21   84.21   84.21    0.84\n",
      " 10     800         91.36     57.92   86.49   88.89   84.21    0.86\n",
      " 13    1000          9.50     34.67   84.21   84.21   84.21    0.84\n",
      " 15    1200         18.30     39.85   84.21   84.21   84.21    0.84\n",
      " 18    1400         14.72     32.89   82.05   80.00   84.21    0.82\n",
      " 21    1600         25.22     51.43   78.95   78.95   78.95    0.79\n",
      " 25    1800         23.47     35.32   76.92   75.00   78.95    0.77\n",
      "[+] Saved pipeline to output directory\n",
      "output_104\\model-last\n"
     ]
    }
   ],
   "source": [
    "!python -m spacy train config_104.cfg --output ./output_104"
   ]
  },
  {
   "cell_type": "code",
   "execution_count": null,
   "id": "68565294",
   "metadata": {},
   "outputs": [],
   "source": []
  },
  {
   "cell_type": "markdown",
   "id": "f6f2e7bf",
   "metadata": {},
   "source": [
    "### Feature 105"
   ]
  },
  {
   "cell_type": "code",
   "execution_count": 71,
   "id": "f8019d74",
   "metadata": {},
   "outputs": [
    {
     "data": {
      "text/plain": [
       "(127, 11)"
      ]
     },
     "execution_count": 71,
     "metadata": {},
     "output_type": "execute_result"
    }
   ],
   "source": [
    "case_1_105 = case_1[case_1[\"feature_num\"] == 105]\n",
    "case_1_105.shape"
   ]
  },
  {
   "cell_type": "code",
   "execution_count": 72,
   "id": "b588a3e0",
   "metadata": {},
   "outputs": [
    {
     "data": {
      "text/plain": [
       "(99, 25)"
      ]
     },
     "execution_count": 72,
     "metadata": {},
     "output_type": "execute_result"
    }
   ],
   "source": [
    "pn_Num_list = list(case_1_105.pn_num.unique())\n",
    "\n",
    "final_train = []   # appending all the individual rows\n",
    "for patient_number in pn_Num_list:  # for each unique patient number\n",
    "    entities = []  # saving individaual entities locations\n",
    "    for row_index,row in case_1_105[case_1_105.pn_num == patient_number].iterrows():  # for each unique patient number \n",
    "        \n",
    "        entities.append((int(row[\"start_location\"]),int(row[\"end_location\"]),\"Feature_\" + str(row[\"feature_num\"]))) # store the locations in numeric format\n",
    "        \n",
    "    text = case_1_105[case_1_105.pn_num == patient_number][\"New_pn_history\"].values[0] # save the text for the unique patient number\n",
    "    \n",
    "    final_train.append((text,{\"entities\":entities}))  # for each unique pn_number append to final list\n",
    "\n",
    "# Serializing json \n",
    "json_object = json.dumps(final_train, indent = 4)\n",
    "  \n",
    "# Writing to sample.json\n",
    "with open(\"sample_105.json\", \"w\") as outfile:\n",
    "    outfile.write(json_object)\n",
    "    \n",
    "# Opening JSON file\n",
    "f = open(\"sample_105.json\")\n",
    " \n",
    "# returns JSON object as\n",
    "# a dictionary\n",
    "data = json.load(f)\n",
    "\n",
    "nlp = spacy.blank(\"en\")\n",
    "def create_training(TRAIN_DATA):\n",
    "    db = DocBin()\n",
    "    for text, annot in tqdm(TRAIN_DATA):\n",
    "        doc = nlp.make_doc(text)\n",
    "        ents = []\n",
    "        for start, end, label in annot[\"entities\"]:\n",
    "            span = doc.char_span(start, end, label=label, alignment_mode=\"contract\")\n",
    "            if span is None:\n",
    "                print (\"Skipping entity\")\n",
    "            else:\n",
    "                ents.append(span)\n",
    "        doc.ents = ents\n",
    "        db.add(doc)\n",
    "    return (db)\n",
    "\n",
    "train, validation = train_test_split(data, test_size = 0.2, random_state = 100)\n",
    "len(train),len(validation)"
   ]
  },
  {
   "cell_type": "code",
   "execution_count": 73,
   "id": "68e495af",
   "metadata": {},
   "outputs": [
    {
     "name": "stderr",
     "output_type": "stream",
     "text": [
      "100%|█████████████████████████████████████████████████████████████████████████████████| 99/99 [00:00<00:00, 309.14it/s]\n"
     ]
    }
   ],
   "source": [
    "#train data set\n",
    "camp_train = create_training(train)\n",
    "camp_train.to_disk(\"nbme_train_105.spacy\")"
   ]
  },
  {
   "cell_type": "code",
   "execution_count": 74,
   "id": "403540ef",
   "metadata": {},
   "outputs": [
    {
     "name": "stderr",
     "output_type": "stream",
     "text": [
      "100%|█████████████████████████████████████████████████████████████████████████████████| 25/25 [00:00<00:00, 557.34it/s]\n"
     ]
    }
   ],
   "source": [
    "#Validation data set\n",
    "camp_validation = create_training(validation)\n",
    "camp_validation.to_disk(\"nbme_validation_105.spacy\")"
   ]
  },
  {
   "cell_type": "code",
   "execution_count": 75,
   "id": "89d0a394",
   "metadata": {},
   "outputs": [
    {
     "name": "stdout",
     "output_type": "stream",
     "text": [
      "[+] Auto-filled config with all values"
     ]
    },
    {
     "name": "stderr",
     "output_type": "stream",
     "text": [
      "2022-05-02 12:07:24.957780: W tensorflow/stream_executor/platform/default/dso_loader.cc:64] Could not load dynamic library 'cudart64_110.dll'; dlerror: cudart64_110.dll not found\n",
      "2022-05-02 12:07:24.957857: I tensorflow/stream_executor/cuda/cudart_stub.cc:29] Ignore above cudart dlerror if you do not have a GPU set up on your machine.\n"
     ]
    },
    {
     "name": "stdout",
     "output_type": "stream",
     "text": [
      "\n",
      "[+] Saved config\n",
      "config_105.cfg\n",
      "You can now add your data and train your pipeline:\n",
      "python -m spacy train config_105.cfg --paths.train ./train.spacy --paths.dev ./dev.spacy\n"
     ]
    }
   ],
   "source": [
    "!python -m spacy init fill-config ./base_config_105.cfg ./config_105.cfg"
   ]
  },
  {
   "cell_type": "code",
   "execution_count": 76,
   "id": "e45e1a92",
   "metadata": {},
   "outputs": [
    {
     "name": "stdout",
     "output_type": "stream",
     "text": [
      "[i] Saving to output directory: output_105\n",
      "[i] Using CPU\n",
      "\u001b[1m\n",
      "=========================== Initializing pipeline ===========================\u001b[0m\n",
      "[+] Initialized pipeline\n",
      "\u001b[1m\n",
      "============================= Training pipeline =============================\u001b[0m\n",
      "[i] Pipeline: ['tok2vec', 'ner']\n",
      "[i] Initial learn rate: 0.001\n",
      "E    #       LOSS TOK2VEC  LOSS NER  ENTS_F  ENTS_P  ENTS_R  SCORE \n",
      "---  ------  ------------  --------  ------  ------  ------  ------\n",
      "  0       0          0.00     53.83    0.00    0.00    0.00    0.00\n",
      "  2     200        397.91   1693.26   68.00   73.91   62.96    0.68\n",
      "  4     400         91.40    160.84   54.24   50.00   59.26    0.54\n",
      "  6     600        112.14     97.83   57.69   60.00   55.56    0.58\n",
      "  8     800        136.06     83.48   50.91   50.00   51.85    0.51\n",
      " 10    1000         63.04     65.31   65.31   72.73   59.26    0.65\n",
      " 12    1200         44.69     22.07   52.00   56.52   48.15    0.52\n",
      " 14    1400         67.49     25.95   61.54   64.00   59.26    0.62\n",
      " 16    1600         28.25     23.11   54.55   53.57   55.56    0.55\n",
      " 18    1800         54.77     16.21   62.75   66.67   59.26    0.63\n",
      "[+] Saved pipeline to output directory\n",
      "output_105\\model-last\n"
     ]
    },
    {
     "name": "stderr",
     "output_type": "stream",
     "text": [
      "2022-05-02 12:07:32.922967: W tensorflow/stream_executor/platform/default/dso_loader.cc:64] Could not load dynamic library 'cudart64_110.dll'; dlerror: cudart64_110.dll not found\n",
      "2022-05-02 12:07:32.923035: I tensorflow/stream_executor/cuda/cudart_stub.cc:29] Ignore above cudart dlerror if you do not have a GPU set up on your machine.\n",
      "[2022-05-02 12:07:38,456] [INFO] Set up nlp object from config\n",
      "[2022-05-02 12:07:38,474] [INFO] Pipeline: ['tok2vec', 'ner']\n",
      "[2022-05-02 12:07:38,478] [INFO] Created vocabulary\n",
      "[2022-05-02 12:07:38,480] [INFO] Finished initializing nlp object\n",
      "[2022-05-02 12:07:39,282] [INFO] Initialized pipeline components: ['tok2vec', 'ner']\n"
     ]
    }
   ],
   "source": [
    "!python -m spacy train config_105.cfg --output ./output_105"
   ]
  },
  {
   "cell_type": "code",
   "execution_count": null,
   "id": "bb2d1d39",
   "metadata": {},
   "outputs": [],
   "source": []
  },
  {
   "cell_type": "markdown",
   "id": "ae13245d",
   "metadata": {},
   "source": [
    "### Feature 106"
   ]
  },
  {
   "cell_type": "code",
   "execution_count": 77,
   "id": "1a18645e",
   "metadata": {},
   "outputs": [
    {
     "data": {
      "text/plain": [
       "(106, 11)"
      ]
     },
     "execution_count": 77,
     "metadata": {},
     "output_type": "execute_result"
    }
   ],
   "source": [
    "case_1_106 = case_1[case_1[\"feature_num\"] == 106]\n",
    "case_1_106.shape"
   ]
  },
  {
   "cell_type": "code",
   "execution_count": 78,
   "id": "39005516",
   "metadata": {},
   "outputs": [
    {
     "data": {
      "text/plain": [
       "(82, 21)"
      ]
     },
     "execution_count": 78,
     "metadata": {},
     "output_type": "execute_result"
    }
   ],
   "source": [
    "pn_Num_list = list(case_1_106.pn_num.unique())\n",
    "\n",
    "final_train = []   # appending all the individual rows\n",
    "for patient_number in pn_Num_list:  # for each unique patient number\n",
    "    entities = []  # saving individaual entities locations\n",
    "    for row_index,row in case_1_106[case_1_106.pn_num == patient_number].iterrows():  # for each unique patient number \n",
    "        \n",
    "        entities.append((int(row[\"start_location\"]),int(row[\"end_location\"]),\"Feature_\" + str(row[\"feature_num\"]))) # store the locations in numeric format\n",
    "        \n",
    "    text = case_1_106[case_1_106.pn_num == patient_number][\"New_pn_history\"].values[0] # save the text for the unique patient number\n",
    "    \n",
    "    final_train.append((text,{\"entities\":entities}))  # for each unique pn_number append to final list\n",
    "\n",
    "# Serializing json \n",
    "json_object = json.dumps(final_train, indent = 4)\n",
    "  \n",
    "# Writing to sample.json\n",
    "with open(\"sample_106.json\", \"w\") as outfile:\n",
    "    outfile.write(json_object)\n",
    "    \n",
    "# Opening JSON file\n",
    "f = open(\"sample_106.json\")\n",
    " \n",
    "# returns JSON object as\n",
    "# a dictionary\n",
    "data = json.load(f)\n",
    "\n",
    "nlp = spacy.blank(\"en\")\n",
    "def create_training(TRAIN_DATA):\n",
    "    db = DocBin()\n",
    "    for text, annot in tqdm(TRAIN_DATA):\n",
    "        doc = nlp.make_doc(text)\n",
    "        ents = []\n",
    "        for start, end, label in annot[\"entities\"]:\n",
    "            span = doc.char_span(start, end, label=label, alignment_mode=\"contract\")\n",
    "            if span is None:\n",
    "                print (\"Skipping entity\")\n",
    "            else:\n",
    "                ents.append(span)\n",
    "        doc.ents = ents\n",
    "        db.add(doc)\n",
    "    return (db)\n",
    "\n",
    "train, validation = train_test_split(data, test_size = 0.2, random_state = 100)\n",
    "len(train),len(validation)"
   ]
  },
  {
   "cell_type": "code",
   "execution_count": 79,
   "id": "dd64bb95",
   "metadata": {
    "scrolled": true
   },
   "outputs": [
    {
     "name": "stderr",
     "output_type": "stream",
     "text": [
      "100%|█████████████████████████████████████████████████████████████████████████████████| 82/82 [00:00<00:00, 360.08it/s]\n"
     ]
    }
   ],
   "source": [
    "#train data set\n",
    "camp_train = create_training(train)\n",
    "camp_train.to_disk(\"nbme_train_106.spacy\")"
   ]
  },
  {
   "cell_type": "code",
   "execution_count": 80,
   "id": "dc10eba8",
   "metadata": {},
   "outputs": [
    {
     "name": "stderr",
     "output_type": "stream",
     "text": [
      "100%|█████████████████████████████████████████████████████████████████████████████████| 21/21 [00:00<00:00, 468.21it/s]\n"
     ]
    }
   ],
   "source": [
    "#Validation data set\n",
    "camp_validation = create_training(validation)\n",
    "camp_validation.to_disk(\"nbme_validation_106.spacy\")"
   ]
  },
  {
   "cell_type": "code",
   "execution_count": 81,
   "id": "903111a1",
   "metadata": {},
   "outputs": [
    {
     "name": "stdout",
     "output_type": "stream",
     "text": [
      "[+] Auto-filled config with all values\n",
      "[+] Saved config\n",
      "config_106.cfg\n",
      "You can now add your data and train your pipeline:\n",
      "python -m spacy train config_106.cfg --paths.train ./train.spacy --paths.dev ./dev.spacy\n"
     ]
    },
    {
     "name": "stderr",
     "output_type": "stream",
     "text": [
      "2022-05-02 12:11:33.370808: W tensorflow/stream_executor/platform/default/dso_loader.cc:64] Could not load dynamic library 'cudart64_110.dll'; dlerror: cudart64_110.dll not found\n",
      "2022-05-02 12:11:33.370878: I tensorflow/stream_executor/cuda/cudart_stub.cc:29] Ignore above cudart dlerror if you do not have a GPU set up on your machine.\n"
     ]
    }
   ],
   "source": [
    "!python -m spacy init fill-config ./base_config_106.cfg ./config_106.cfg"
   ]
  },
  {
   "cell_type": "code",
   "execution_count": 82,
   "id": "77a5acbe",
   "metadata": {},
   "outputs": [
    {
     "name": "stdout",
     "output_type": "stream",
     "text": [
      "[i] Saving to output directory: output_106\n",
      "[i] Using CPU\n",
      "\u001b[1m\n",
      "=========================== Initializing pipeline ===========================\u001b[0m\n",
      "[+] Initialized pipeline\n",
      "\u001b[1m\n",
      "============================= Training pipeline =============================\u001b[0m\n",
      "[i] Pipeline: ['tok2vec', 'ner']\n",
      "[i] Initial learn rate: 0.001\n",
      "E    #       LOSS TOK2VEC  LOSS NER  ENTS_F  ENTS_P  ENTS_R  SCORE \n",
      "---  ------  ------------  --------  ------  ------  ------  ------\n",
      "  0       0          0.00     60.00    1.59    0.97    4.35    0.02\n",
      "  2     200        889.76   1477.47    0.00    0.00    0.00    0.00\n",
      "  4     400        234.24    366.05   19.61   17.86   21.74    0.20\n",
      "  7     600         70.49    289.74   38.10   42.11   34.78    0.38\n",
      "  9     800        151.21    225.51   32.56   35.00   30.43    0.33\n",
      " 12    1000         98.07    178.50   23.81   26.32   21.74    0.24\n",
      " 14    1200        141.88    173.55   39.02   44.44   34.78    0.39\n",
      " 17    1400        169.70    172.00   34.04   33.33   34.78    0.34\n",
      " 19    1600        216.79    154.33   26.32   33.33   21.74    0.26\n",
      " 22    1800        200.93    196.05   34.78   34.78   34.78    0.35\n",
      " 25    2000        441.14    197.64   39.02   44.44   34.78    0.39\n",
      " 30    2200        152.30    245.82   37.21   40.00   34.78    0.37\n",
      " 36    2400        278.59    285.86   30.00   35.29   26.09    0.30\n",
      " 44    2600        278.33    369.20   25.64   31.25   21.74    0.26\n",
      " 53    2800        261.02    373.24   35.00   41.18   30.43    0.35\n",
      "[+] Saved pipeline to output directory\n",
      "output_106\\model-last\n"
     ]
    },
    {
     "name": "stderr",
     "output_type": "stream",
     "text": [
      "2022-05-02 12:11:40.541495: W tensorflow/stream_executor/platform/default/dso_loader.cc:64] Could not load dynamic library 'cudart64_110.dll'; dlerror: cudart64_110.dll not found\n",
      "2022-05-02 12:11:40.541568: I tensorflow/stream_executor/cuda/cudart_stub.cc:29] Ignore above cudart dlerror if you do not have a GPU set up on your machine.\n",
      "[2022-05-02 12:11:46,846] [INFO] Set up nlp object from config\n",
      "[2022-05-02 12:11:46,856] [INFO] Pipeline: ['tok2vec', 'ner']\n",
      "[2022-05-02 12:11:46,860] [INFO] Created vocabulary\n",
      "[2022-05-02 12:11:46,861] [INFO] Finished initializing nlp object\n",
      "[2022-05-02 12:11:47,541] [INFO] Initialized pipeline components: ['tok2vec', 'ner']\n"
     ]
    }
   ],
   "source": [
    "!python -m spacy train config_106.cfg --output ./output_106"
   ]
  },
  {
   "cell_type": "code",
   "execution_count": null,
   "id": "bc2b8129",
   "metadata": {},
   "outputs": [],
   "source": []
  },
  {
   "cell_type": "markdown",
   "id": "dd0f443d",
   "metadata": {},
   "source": [
    "### Feature 107"
   ]
  },
  {
   "cell_type": "code",
   "execution_count": 83,
   "id": "0fd6a2be",
   "metadata": {},
   "outputs": [
    {
     "data": {
      "text/plain": [
       "(98, 11)"
      ]
     },
     "execution_count": 83,
     "metadata": {},
     "output_type": "execute_result"
    }
   ],
   "source": [
    "case_1_107 = case_1[case_1[\"feature_num\"] == 107]\n",
    "case_1_107.shape"
   ]
  },
  {
   "cell_type": "code",
   "execution_count": 84,
   "id": "892a70dd",
   "metadata": {},
   "outputs": [
    {
     "data": {
      "text/plain": [
       "(72, 19)"
      ]
     },
     "execution_count": 84,
     "metadata": {},
     "output_type": "execute_result"
    }
   ],
   "source": [
    "pn_Num_list = list(case_1_107.pn_num.unique())\n",
    "\n",
    "final_train = []   # appending all the individual rows\n",
    "for patient_number in pn_Num_list:  # for each unique patient number\n",
    "    entities = []  # saving individaual entities locations\n",
    "    for row_index,row in case_1_107[case_1_107.pn_num == patient_number].iterrows():  # for each unique patient number \n",
    "        \n",
    "        entities.append((int(row[\"start_location\"]),int(row[\"end_location\"]),\"Feature_\" + str(row[\"feature_num\"]))) # store the locations in numeric format\n",
    "        \n",
    "    text = case_1_107[case_1_107.pn_num == patient_number][\"New_pn_history\"].values[0] # save the text for the unique patient number\n",
    "    \n",
    "    final_train.append((text,{\"entities\":entities}))  # for each unique pn_number append to final list\n",
    "\n",
    "# Serializing json \n",
    "json_object = json.dumps(final_train, indent = 4)\n",
    "  \n",
    "# Writing to sample.json\n",
    "with open(\"sample_107.json\", \"w\") as outfile:\n",
    "    outfile.write(json_object)\n",
    "    \n",
    "# Opening JSON file\n",
    "f = open(\"sample_107.json\")\n",
    " \n",
    "# returns JSON object as\n",
    "# a dictionary\n",
    "data = json.load(f)\n",
    "\n",
    "nlp = spacy.blank(\"en\")\n",
    "def create_training(TRAIN_DATA):\n",
    "    db = DocBin()\n",
    "    for text, annot in tqdm(TRAIN_DATA):\n",
    "        doc = nlp.make_doc(text)\n",
    "        ents = []\n",
    "        for start, end, label in annot[\"entities\"]:\n",
    "            span = doc.char_span(start, end, label=label, alignment_mode=\"contract\")\n",
    "            if span is None:\n",
    "                print (\"Skipping entity\")\n",
    "            else:\n",
    "                ents.append(span)\n",
    "        doc.ents = ents\n",
    "        db.add(doc)\n",
    "    return (db)\n",
    "\n",
    "train, validation = train_test_split(data, test_size = 0.2, random_state = 100)\n",
    "len(train),len(validation)"
   ]
  },
  {
   "cell_type": "code",
   "execution_count": 85,
   "id": "938f4fe3",
   "metadata": {},
   "outputs": [
    {
     "name": "stderr",
     "output_type": "stream",
     "text": [
      "100%|█████████████████████████████████████████████████████████████████████████████████| 72/72 [00:00<00:00, 348.13it/s]\n"
     ]
    }
   ],
   "source": [
    "#train data set\n",
    "camp_train = create_training(train)\n",
    "camp_train.to_disk(\"nbme_train_107.spacy\")"
   ]
  },
  {
   "cell_type": "code",
   "execution_count": 86,
   "id": "8c3752a7",
   "metadata": {},
   "outputs": [
    {
     "name": "stderr",
     "output_type": "stream",
     "text": [
      "100%|█████████████████████████████████████████████████████████████████████████████████| 19/19 [00:00<00:00, 453.91it/s]\n"
     ]
    }
   ],
   "source": [
    "#Validation data set\n",
    "camp_validation = create_training(validation)\n",
    "camp_validation.to_disk(\"nbme_validation_107.spacy\")"
   ]
  },
  {
   "cell_type": "code",
   "execution_count": 87,
   "id": "87e6b3f5",
   "metadata": {},
   "outputs": [
    {
     "name": "stdout",
     "output_type": "stream",
     "text": [
      "[+] Auto-filled config with all values"
     ]
    },
    {
     "name": "stderr",
     "output_type": "stream",
     "text": [
      "2022-05-02 12:17:59.787467: W tensorflow/stream_executor/platform/default/dso_loader.cc:64] Could not load dynamic library 'cudart64_110.dll'; dlerror: cudart64_110.dll not found\n",
      "2022-05-02 12:17:59.787529: I tensorflow/stream_executor/cuda/cudart_stub.cc:29] Ignore above cudart dlerror if you do not have a GPU set up on your machine.\n"
     ]
    },
    {
     "name": "stdout",
     "output_type": "stream",
     "text": [
      "\n",
      "[+] Saved config\n",
      "config_107.cfg\n",
      "You can now add your data and train your pipeline:\n",
      "python -m spacy train config_107.cfg --paths.train ./train.spacy --paths.dev ./dev.spacy\n"
     ]
    }
   ],
   "source": [
    "!python -m spacy init fill-config ./base_config_107.cfg ./config_107.cfg"
   ]
  },
  {
   "cell_type": "code",
   "execution_count": 88,
   "id": "02903684",
   "metadata": {},
   "outputs": [
    {
     "name": "stdout",
     "output_type": "stream",
     "text": [
      "[i] Saving to output directory: output_107\n",
      "[i] Using CPU\n",
      "\u001b[1m\n",
      "=========================== Initializing pipeline ===========================\u001b[0m\n",
      "[+] Initialized pipeline\n",
      "\u001b[1m\n",
      "============================= Training pipeline =============================\u001b[0m\n",
      "[i] Pipeline: ['tok2vec', 'ner']\n",
      "[i] Initial learn rate: 0.001\n",
      "E    #       LOSS TOK2VEC  LOSS NER  ENTS_F  ENTS_P  ENTS_R  SCORE \n",
      "---  ------  ------------  --------  ------  ------  ------  ------\n",
      "  0       0          0.00     47.83    0.00    0.00    0.00    0.00\n",
      "  2     200      19646.40   1491.52   47.06   37.50   63.16    0.47\n",
      "  5     400      18758.88    331.77   62.07   90.00   47.37    0.62\n",
      "  8     600         59.93    114.07   50.00   61.54   42.11    0.50\n",
      " 11     800         32.99     30.71   56.41   55.00   57.89    0.56\n",
      " 13    1000         59.50     40.11   68.57   75.00   63.16    0.69\n",
      " 16    1200         24.17     13.68   55.81   50.00   63.16    0.56\n",
      " 19    1400         17.18     10.06   66.67   57.69   78.95    0.67\n",
      " 23    1600      97948.29    205.75   75.68   77.78   73.68    0.76\n",
      " 29    1800         94.81     27.99   68.29   63.64   73.68    0.68\n",
      " 35    2000         17.72      2.98   73.17   68.18   78.95    0.73\n",
      " 44    2200         37.80     13.20   66.67   60.87   73.68    0.67\n",
      " 55    2400         74.59     15.86   73.17   68.18   78.95    0.73\n",
      " 68    2600        133.22     28.97   71.43   65.22   78.95    0.71\n",
      " 84    2800        325.09     49.83   63.41   59.09   68.42    0.63\n",
      "101    3000          0.00      0.00   65.00   61.90   68.42    0.65\n",
      "117    3200          5.90      1.64   71.79   70.00   73.68    0.72\n",
      "[+] Saved pipeline to output directory\n",
      "output_107\\model-last\n"
     ]
    },
    {
     "name": "stderr",
     "output_type": "stream",
     "text": [
      "2022-05-02 12:18:06.961345: W tensorflow/stream_executor/platform/default/dso_loader.cc:64] Could not load dynamic library 'cudart64_110.dll'; dlerror: cudart64_110.dll not found\n",
      "2022-05-02 12:18:06.961434: I tensorflow/stream_executor/cuda/cudart_stub.cc:29] Ignore above cudart dlerror if you do not have a GPU set up on your machine.\n",
      "[2022-05-02 12:18:11,581] [INFO] Set up nlp object from config\n",
      "[2022-05-02 12:18:11,599] [INFO] Pipeline: ['tok2vec', 'ner']\n",
      "[2022-05-02 12:18:11,606] [INFO] Created vocabulary\n",
      "[2022-05-02 12:18:11,608] [INFO] Finished initializing nlp object\n",
      "[2022-05-02 12:18:12,213] [INFO] Initialized pipeline components: ['tok2vec', 'ner']\n"
     ]
    }
   ],
   "source": [
    "!python -m spacy train config_107.cfg --output ./output_107"
   ]
  },
  {
   "cell_type": "code",
   "execution_count": null,
   "id": "3f3d90aa",
   "metadata": {},
   "outputs": [],
   "source": []
  },
  {
   "cell_type": "markdown",
   "id": "cc706fab",
   "metadata": {},
   "source": [
    "### Feature 108"
   ]
  },
  {
   "cell_type": "code",
   "execution_count": 89,
   "id": "4cfe45ac",
   "metadata": {},
   "outputs": [
    {
     "data": {
      "text/plain": [
       "(86, 11)"
      ]
     },
     "execution_count": 89,
     "metadata": {},
     "output_type": "execute_result"
    }
   ],
   "source": [
    "case_1_108 = case_1[case_1[\"feature_num\"] == 108]\n",
    "case_1_108.shape"
   ]
  },
  {
   "cell_type": "code",
   "execution_count": 90,
   "id": "ce38d851",
   "metadata": {},
   "outputs": [
    {
     "data": {
      "text/plain": [
       "(68, 17)"
      ]
     },
     "execution_count": 90,
     "metadata": {},
     "output_type": "execute_result"
    }
   ],
   "source": [
    "pn_Num_list = list(case_1_108.pn_num.unique())\n",
    "\n",
    "final_train = []   # appending all the individual rows\n",
    "for patient_number in pn_Num_list:  # for each unique patient number\n",
    "    entities = []  # saving individaual entities locations\n",
    "    for row_index,row in case_1_108[case_1_108.pn_num == patient_number].iterrows():  # for each unique patient number \n",
    "        \n",
    "        entities.append((int(row[\"start_location\"]),int(row[\"end_location\"]),\"Feature_\" + str(row[\"feature_num\"]))) # store the locations in numeric format\n",
    "        \n",
    "    text = case_1_108[case_1_108.pn_num == patient_number][\"New_pn_history\"].values[0] # save the text for the unique patient number\n",
    "    \n",
    "    final_train.append((text,{\"entities\":entities}))  # for each unique pn_number append to final list\n",
    "\n",
    "# Serializing json \n",
    "json_object = json.dumps(final_train, indent = 4)\n",
    "  \n",
    "# Writing to sample.json\n",
    "with open(\"sample_108.json\", \"w\") as outfile:\n",
    "    outfile.write(json_object)\n",
    "    \n",
    "# Opening JSON file\n",
    "f = open(\"sample_108.json\")\n",
    " \n",
    "# returns JSON object as\n",
    "# a dictionary\n",
    "data = json.load(f)\n",
    "\n",
    "nlp = spacy.blank(\"en\")\n",
    "def create_training(TRAIN_DATA):\n",
    "    db = DocBin()\n",
    "    for text, annot in tqdm(TRAIN_DATA):\n",
    "        doc = nlp.make_doc(text)\n",
    "        ents = []\n",
    "        for start, end, label in annot[\"entities\"]:\n",
    "            span = doc.char_span(start, end, label=label, alignment_mode=\"contract\")\n",
    "            if span is None:\n",
    "                print (\"Skipping entity\")\n",
    "            else:\n",
    "                ents.append(span)\n",
    "        doc.ents = ents\n",
    "        db.add(doc)\n",
    "    return (db)\n",
    "\n",
    "train, validation = train_test_split(data, test_size = 0.2, random_state = 100)\n",
    "len(train),len(validation)"
   ]
  },
  {
   "cell_type": "code",
   "execution_count": 91,
   "id": "5ac616ea",
   "metadata": {},
   "outputs": [
    {
     "name": "stderr",
     "output_type": "stream",
     "text": [
      "100%|█████████████████████████████████████████████████████████████████████████████████| 68/68 [00:00<00:00, 410.91it/s]\n"
     ]
    }
   ],
   "source": [
    "#train data set\n",
    "camp_train = create_training(train)\n",
    "camp_train.to_disk(\"nbme_train_108.spacy\")"
   ]
  },
  {
   "cell_type": "code",
   "execution_count": 92,
   "id": "26c68bd4",
   "metadata": {},
   "outputs": [
    {
     "name": "stderr",
     "output_type": "stream",
     "text": [
      "100%|█████████████████████████████████████████████████████████████████████████████████| 17/17 [00:00<00:00, 406.04it/s]\n"
     ]
    }
   ],
   "source": [
    "#Validation data set\n",
    "camp_validation = create_training(validation)\n",
    "camp_validation.to_disk(\"nbme_validation_108.spacy\")"
   ]
  },
  {
   "cell_type": "code",
   "execution_count": 93,
   "id": "7779299b",
   "metadata": {},
   "outputs": [
    {
     "name": "stdout",
     "output_type": "stream",
     "text": [
      "[+] Auto-filled config with all values\n",
      "[+] Saved config\n",
      "config_108.cfg\n",
      "You can now add your data and train your pipeline:\n",
      "python -m spacy train config_108.cfg --paths.train ./train.spacy --paths.dev ./dev.spacy\n"
     ]
    },
    {
     "name": "stderr",
     "output_type": "stream",
     "text": [
      "2022-05-02 12:26:15.956613: W tensorflow/stream_executor/platform/default/dso_loader.cc:64] Could not load dynamic library 'cudart64_110.dll'; dlerror: cudart64_110.dll not found\n",
      "2022-05-02 12:26:15.956669: I tensorflow/stream_executor/cuda/cudart_stub.cc:29] Ignore above cudart dlerror if you do not have a GPU set up on your machine.\n"
     ]
    }
   ],
   "source": [
    "!python -m spacy init fill-config ./base_config_108.cfg ./config_108.cfg"
   ]
  },
  {
   "cell_type": "code",
   "execution_count": 94,
   "id": "21127543",
   "metadata": {},
   "outputs": [
    {
     "name": "stdout",
     "output_type": "stream",
     "text": [
      "[i] Saving to output directory: output_108\n",
      "[i] Using CPU\n",
      "\u001b[1m\n",
      "=========================== Initializing pipeline ===========================\u001b[0m\n",
      "[+] Initialized pipeline\n",
      "\u001b[1m\n",
      "============================= Training pipeline =============================\u001b[0m\n",
      "[i] Pipeline: ['tok2vec', 'ner']\n",
      "[i] Initial learn rate: 0.001\n",
      "E    #       LOSS TOK2VEC  LOSS NER  ENTS_F  ENTS_P  ENTS_R  SCORE \n",
      "---  ------  ------------  --------  ------  ------  ------  ------\n",
      "  0       0          0.00     44.17    1.63    0.86   17.65    0.02\n",
      "  2     200        660.61   1899.47   44.44   42.11   47.06    0.44\n",
      "  5     400        120.87    184.16   64.52   71.43   58.82    0.65\n",
      "  8     600         66.04     78.81   56.25   60.00   52.94    0.56\n",
      " 11     800         29.03     33.53   56.25   60.00   52.94    0.56\n",
      " 14    1000         85.76     48.91   60.00   69.23   52.94    0.60\n",
      " 17    1200         38.08     15.95   53.33   61.54   47.06    0.53\n",
      " 20    1400         56.21     23.84   55.56   52.63   58.82    0.56\n",
      " 23    1600         95.41     35.73   62.50   66.67   58.82    0.62\n",
      " 26    1800         23.71      6.69   66.67   68.75   64.71    0.67\n",
      " 30    2000       1295.82     30.54   62.86   61.11   64.71    0.63\n",
      " 36    2200         60.95     16.54   60.61   62.50   58.82    0.61\n",
      " 43    2400         56.30      9.95   58.82   58.82   58.82    0.59\n",
      " 52    2600        161.67     30.62   64.52   71.43   58.82    0.65\n",
      " 63    2800         35.30      6.42   70.97   78.57   64.71    0.71\n",
      " 77    3000       4162.83     40.92   60.61   62.50   58.82    0.61\n",
      " 94    3200        122.34     22.04   58.06   64.29   52.94    0.58\n",
      "111    3400        105.92     14.78   56.25   60.00   52.94    0.56\n",
      "127    3600         65.25      4.07   56.25   60.00   52.94    0.56\n",
      "144    3800          0.00      0.00   56.25   60.00   52.94    0.56\n",
      "160    4000          0.00      0.00   56.25   60.00   52.94    0.56\n",
      "177    4200          0.00      0.00   56.25   60.00   52.94    0.56\n",
      "194    4400          0.00      0.00   56.25   60.00   52.94    0.56\n",
      "[+] Saved pipeline to output directory\n",
      "output_108\\model-last\n"
     ]
    },
    {
     "name": "stderr",
     "output_type": "stream",
     "text": [
      "2022-05-02 12:26:22.620844: W tensorflow/stream_executor/platform/default/dso_loader.cc:64] Could not load dynamic library 'cudart64_110.dll'; dlerror: cudart64_110.dll not found\n",
      "2022-05-02 12:26:22.620914: I tensorflow/stream_executor/cuda/cudart_stub.cc:29] Ignore above cudart dlerror if you do not have a GPU set up on your machine.\n",
      "[2022-05-02 12:26:27,417] [INFO] Set up nlp object from config\n",
      "[2022-05-02 12:26:27,429] [INFO] Pipeline: ['tok2vec', 'ner']\n",
      "[2022-05-02 12:26:27,436] [INFO] Created vocabulary\n",
      "[2022-05-02 12:26:27,438] [INFO] Finished initializing nlp object\n",
      "[2022-05-02 12:26:28,165] [INFO] Initialized pipeline components: ['tok2vec', 'ner']\n"
     ]
    }
   ],
   "source": [
    "!python -m spacy train config_108.cfg --output ./output_108"
   ]
  },
  {
   "cell_type": "code",
   "execution_count": null,
   "id": "785b6e4a",
   "metadata": {},
   "outputs": [],
   "source": []
  },
  {
   "cell_type": "markdown",
   "id": "8e517501",
   "metadata": {},
   "source": [
    "### Feature 109"
   ]
  },
  {
   "cell_type": "code",
   "execution_count": 95,
   "id": "91197cd0",
   "metadata": {},
   "outputs": [
    {
     "data": {
      "text/plain": [
       "(111, 11)"
      ]
     },
     "execution_count": 95,
     "metadata": {},
     "output_type": "execute_result"
    }
   ],
   "source": [
    "case_1_109 = case_1[case_1[\"feature_num\"] == 109]\n",
    "case_1_109.shape"
   ]
  },
  {
   "cell_type": "code",
   "execution_count": 96,
   "id": "4f7aa80c",
   "metadata": {},
   "outputs": [
    {
     "data": {
      "text/plain": [
       "(85, 22)"
      ]
     },
     "execution_count": 96,
     "metadata": {},
     "output_type": "execute_result"
    }
   ],
   "source": [
    "pn_Num_list = list(case_1_109.pn_num.unique())\n",
    "\n",
    "final_train = []   # appending all the individual rows\n",
    "for patient_number in pn_Num_list:  # for each unique patient number\n",
    "    entities = []  # saving individaual entities locations\n",
    "    for row_index,row in case_1_109[case_1_109.pn_num == patient_number].iterrows():  # for each unique patient number \n",
    "        \n",
    "        entities.append((int(row[\"start_location\"]),int(row[\"end_location\"]),\"Feature_\" + str(row[\"feature_num\"]))) # store the locations in numeric format\n",
    "        \n",
    "    text = case_1_109[case_1_109.pn_num == patient_number][\"New_pn_history\"].values[0] # save the text for the unique patient number\n",
    "    \n",
    "    final_train.append((text,{\"entities\":entities}))  # for each unique pn_number append to final list\n",
    "\n",
    "# Serializing json \n",
    "json_object = json.dumps(final_train, indent = 4)\n",
    "  \n",
    "# Writing to sample.json\n",
    "with open(\"sample_109.json\", \"w\") as outfile:\n",
    "    outfile.write(json_object)\n",
    "    \n",
    "# Opening JSON file\n",
    "f = open(\"sample_109.json\")\n",
    " \n",
    "# returns JSON object as\n",
    "# a dictionary\n",
    "data = json.load(f)\n",
    "\n",
    "nlp = spacy.blank(\"en\")\n",
    "def create_training(TRAIN_DATA):\n",
    "    db = DocBin()\n",
    "    for text, annot in tqdm(TRAIN_DATA):\n",
    "        doc = nlp.make_doc(text)\n",
    "        ents = []\n",
    "        for start, end, label in annot[\"entities\"]:\n",
    "            span = doc.char_span(start, end, label=label, alignment_mode=\"contract\")\n",
    "            if span is None:\n",
    "                print (\"Skipping entity\")\n",
    "            else:\n",
    "                ents.append(span)\n",
    "        doc.ents = ents\n",
    "        db.add(doc)\n",
    "    return (db)\n",
    "\n",
    "train, validation = train_test_split(data, test_size = 0.2, random_state = 100)\n",
    "len(train),len(validation)"
   ]
  },
  {
   "cell_type": "code",
   "execution_count": 97,
   "id": "e2b0607d",
   "metadata": {},
   "outputs": [
    {
     "name": "stderr",
     "output_type": "stream",
     "text": [
      "100%|█████████████████████████████████████████████████████████████████████████████████| 85/85 [00:00<00:00, 402.28it/s]\n"
     ]
    }
   ],
   "source": [
    "#train data set\n",
    "camp_train = create_training(train)\n",
    "camp_train.to_disk(\"nbme_train_109.spacy\")"
   ]
  },
  {
   "cell_type": "code",
   "execution_count": 98,
   "id": "c6037149",
   "metadata": {},
   "outputs": [
    {
     "name": "stderr",
     "output_type": "stream",
     "text": [
      "100%|█████████████████████████████████████████████████████████████████████████████████| 22/22 [00:00<00:00, 315.32it/s]\n"
     ]
    }
   ],
   "source": [
    "#Validation data set\n",
    "camp_validation = create_training(validation)\n",
    "camp_validation.to_disk(\"nbme_validation_109.spacy\")"
   ]
  },
  {
   "cell_type": "code",
   "execution_count": 99,
   "id": "c9e05149",
   "metadata": {},
   "outputs": [
    {
     "name": "stdout",
     "output_type": "stream",
     "text": [
      "[+] Auto-filled config with all values\n",
      "[+] Saved config\n",
      "config_109.cfg\n",
      "You can now add your data and train your pipeline:\n",
      "python -m spacy train config_109.cfg --paths.train ./train.spacy --paths.dev ./dev.spacy\n"
     ]
    },
    {
     "name": "stderr",
     "output_type": "stream",
     "text": [
      "2022-05-02 12:38:21.860685: W tensorflow/stream_executor/platform/default/dso_loader.cc:64] Could not load dynamic library 'cudart64_110.dll'; dlerror: cudart64_110.dll not found\n",
      "2022-05-02 12:38:21.860743: I tensorflow/stream_executor/cuda/cudart_stub.cc:29] Ignore above cudart dlerror if you do not have a GPU set up on your machine.\n"
     ]
    }
   ],
   "source": [
    "!python -m spacy init fill-config ./base_config_109.cfg ./config_109.cfg"
   ]
  },
  {
   "cell_type": "code",
   "execution_count": 100,
   "id": "acd39cfc",
   "metadata": {},
   "outputs": [
    {
     "name": "stdout",
     "output_type": "stream",
     "text": [
      "[i] Saving to output directory: output_109\n",
      "[i] Using CPU\n",
      "\u001b[1m\n",
      "=========================== Initializing pipeline ===========================\u001b[0m\n",
      "[+] Initialized pipeline\n",
      "\u001b[1m\n",
      "============================= Training pipeline =============================\u001b[0m\n",
      "[i] Pipeline: ['tok2vec', 'ner']\n",
      "[i] Initial learn rate: 0.001\n",
      "E    #       LOSS TOK2VEC  LOSS NER  ENTS_F  ENTS_P  ENTS_R  SCORE \n",
      "---  ------  ------------  --------  ------  ------  ------  ------\n",
      "  0       0          0.00     46.67    1.63    0.83   50.00    0.02\n",
      "  2     200        399.41   1189.72   50.00   50.00   50.00    0.50\n",
      "  4     400        212.38    101.16   85.00   94.44   77.27    0.85\n",
      "  7     600         37.39     53.55   72.34   68.00   77.27    0.72\n",
      "  9     800         67.74     36.18   82.05   94.12   72.73    0.82\n",
      " 11    1000         38.20     27.13   65.22   62.50   68.18    0.65\n",
      " 14    1200       8528.01    111.56   82.05   94.12   72.73    0.82\n",
      " 16    1400         29.27     17.59   84.21  100.00   72.73    0.84\n",
      " 18    1600          3.97      4.47   82.05   94.12   72.73    0.82\n",
      " 21    1800         19.87      8.59   82.93   89.47   77.27    0.83\n",
      " 23    2000          2.34      2.17   76.19   80.00   72.73    0.76\n",
      "[+] Saved pipeline to output directory\n",
      "output_109\\model-last\n"
     ]
    },
    {
     "name": "stderr",
     "output_type": "stream",
     "text": [
      "2022-05-02 12:38:28.611626: W tensorflow/stream_executor/platform/default/dso_loader.cc:64] Could not load dynamic library 'cudart64_110.dll'; dlerror: cudart64_110.dll not found\n",
      "2022-05-02 12:38:28.611695: I tensorflow/stream_executor/cuda/cudart_stub.cc:29] Ignore above cudart dlerror if you do not have a GPU set up on your machine.\n",
      "[2022-05-02 12:38:33,157] [INFO] Set up nlp object from config\n",
      "[2022-05-02 12:38:33,172] [INFO] Pipeline: ['tok2vec', 'ner']\n",
      "[2022-05-02 12:38:33,178] [INFO] Created vocabulary\n",
      "[2022-05-02 12:38:33,179] [INFO] Finished initializing nlp object\n",
      "[2022-05-02 12:38:33,852] [INFO] Initialized pipeline components: ['tok2vec', 'ner']\n"
     ]
    }
   ],
   "source": [
    "!python -m spacy train config_109.cfg --output ./output_109"
   ]
  },
  {
   "cell_type": "code",
   "execution_count": null,
   "id": "9a5fdec3",
   "metadata": {},
   "outputs": [],
   "source": []
  },
  {
   "cell_type": "markdown",
   "id": "75723eba",
   "metadata": {},
   "source": [
    "### Feature 110"
   ]
  },
  {
   "cell_type": "code",
   "execution_count": 101,
   "id": "b919ca6b",
   "metadata": {},
   "outputs": [
    {
     "data": {
      "text/plain": [
       "(85, 11)"
      ]
     },
     "execution_count": 101,
     "metadata": {},
     "output_type": "execute_result"
    }
   ],
   "source": [
    "case_1_110 = case_1[case_1[\"feature_num\"] == 110]\n",
    "case_1_110.shape"
   ]
  },
  {
   "cell_type": "code",
   "execution_count": 102,
   "id": "cb6976f3",
   "metadata": {},
   "outputs": [
    {
     "data": {
      "text/plain": [
       "(66, 17)"
      ]
     },
     "execution_count": 102,
     "metadata": {},
     "output_type": "execute_result"
    }
   ],
   "source": [
    "pn_Num_list = list(case_1_110.pn_num.unique())\n",
    "\n",
    "final_train = []   # appending all the individual rows\n",
    "for patient_number in pn_Num_list:  # for each unique patient number\n",
    "    entities = []  # saving individaual entities locations\n",
    "    for row_index,row in case_1_110[case_1_110.pn_num == patient_number].iterrows():  # for each unique patient number \n",
    "        \n",
    "        entities.append((int(row[\"start_location\"]),int(row[\"end_location\"]),\"Feature_\" + str(row[\"feature_num\"]))) # store the locations in numeric format\n",
    "        \n",
    "    text = case_1_110[case_1_110.pn_num == patient_number][\"New_pn_history\"].values[0] # save the text for the unique patient number\n",
    "    \n",
    "    final_train.append((text,{\"entities\":entities}))  # for each unique pn_number append to final list\n",
    "\n",
    "# Serializing json \n",
    "json_object = json.dumps(final_train, indent = 4)\n",
    "  \n",
    "# Writing to sample.json\n",
    "with open(\"sample_110.json\", \"w\") as outfile:\n",
    "    outfile.write(json_object)\n",
    "    \n",
    "# Opening JSON file\n",
    "f = open(\"sample_110.json\")\n",
    " \n",
    "# returns JSON object as\n",
    "# a dictionary\n",
    "data = json.load(f)\n",
    "\n",
    "nlp = spacy.blank(\"en\")\n",
    "def create_training(TRAIN_DATA):\n",
    "    db = DocBin()\n",
    "    for text, annot in tqdm(TRAIN_DATA):\n",
    "        doc = nlp.make_doc(text)\n",
    "        ents = []\n",
    "        for start, end, label in annot[\"entities\"]:\n",
    "            span = doc.char_span(start, end, label=label, alignment_mode=\"contract\")\n",
    "            if span is None:\n",
    "                print (\"Skipping entity\")\n",
    "            else:\n",
    "                ents.append(span)\n",
    "        doc.ents = ents\n",
    "        db.add(doc)\n",
    "    return (db)\n",
    "\n",
    "train, validation = train_test_split(data, test_size = 0.2, random_state = 100)\n",
    "len(train),len(validation)"
   ]
  },
  {
   "cell_type": "code",
   "execution_count": 103,
   "id": "4f42cf28",
   "metadata": {},
   "outputs": [
    {
     "name": "stderr",
     "output_type": "stream",
     "text": [
      "100%|█████████████████████████████████████████████████████████████████████████████████| 66/66 [00:00<00:00, 335.65it/s]\n"
     ]
    }
   ],
   "source": [
    "#train data set\n",
    "camp_train = create_training(train)\n",
    "camp_train.to_disk(\"nbme_train_110.spacy\")"
   ]
  },
  {
   "cell_type": "code",
   "execution_count": 104,
   "id": "8dfbb0db",
   "metadata": {},
   "outputs": [
    {
     "name": "stderr",
     "output_type": "stream",
     "text": [
      "100%|█████████████████████████████████████████████████████████████████████████████████| 17/17 [00:00<00:00, 387.65it/s]\n"
     ]
    }
   ],
   "source": [
    "#Validation data set\n",
    "camp_validation = create_training(validation)\n",
    "camp_validation.to_disk(\"nbme_validation_110.spacy\")"
   ]
  },
  {
   "cell_type": "code",
   "execution_count": 105,
   "id": "3f89d42f",
   "metadata": {},
   "outputs": [
    {
     "name": "stdout",
     "output_type": "stream",
     "text": [
      "[+] Auto-filled config with all values\n",
      "[+] Saved config\n",
      "config_110.cfg\n",
      "You can now add your data and train your pipeline:\n",
      "python -m spacy train config_110.cfg --paths.train ./train.spacy --paths.dev ./dev.spacy\n"
     ]
    },
    {
     "name": "stderr",
     "output_type": "stream",
     "text": [
      "2022-05-02 12:42:44.287410: W tensorflow/stream_executor/platform/default/dso_loader.cc:64] Could not load dynamic library 'cudart64_110.dll'; dlerror: cudart64_110.dll not found\n",
      "2022-05-02 12:42:44.287481: I tensorflow/stream_executor/cuda/cudart_stub.cc:29] Ignore above cudart dlerror if you do not have a GPU set up on your machine.\n"
     ]
    }
   ],
   "source": [
    "!python -m spacy init fill-config ./base_config_110.cfg ./config_110.cfg"
   ]
  },
  {
   "cell_type": "code",
   "execution_count": 106,
   "id": "199b50be",
   "metadata": {},
   "outputs": [
    {
     "name": "stdout",
     "output_type": "stream",
     "text": [
      "[i] Saving to output directory: output_110\n",
      "[i] Using CPU\n",
      "\u001b[1m\n",
      "=========================== Initializing pipeline ===========================\u001b[0m\n"
     ]
    },
    {
     "name": "stderr",
     "output_type": "stream",
     "text": [
      "2022-05-02 12:42:51.351453: W tensorflow/stream_executor/platform/default/dso_loader.cc:64] Could not load dynamic library 'cudart64_110.dll'; dlerror: cudart64_110.dll not found\n",
      "2022-05-02 12:42:51.351505: I tensorflow/stream_executor/cuda/cudart_stub.cc:29] Ignore above cudart dlerror if you do not have a GPU set up on your machine.\n",
      "[2022-05-02 12:42:56,300] [INFO] Set up nlp object from config\n",
      "[2022-05-02 12:42:56,326] [INFO] Pipeline: ['tok2vec', 'ner']\n",
      "[2022-05-02 12:42:56,334] [INFO] Created vocabulary\n",
      "[2022-05-02 12:42:56,336] [INFO] Finished initializing nlp object\n",
      "[2022-05-02 12:42:57,123] [INFO] Initialized pipeline components: ['tok2vec', 'ner']\n"
     ]
    },
    {
     "name": "stdout",
     "output_type": "stream",
     "text": [
      "[+] Initialized pipeline\n",
      "\u001b[1m\n",
      "============================= Training pipeline =============================\u001b[0m\n",
      "[i] Pipeline: ['tok2vec', 'ner']\n",
      "[i] Initial learn rate: 0.001\n",
      "E    #       LOSS TOK2VEC  LOSS NER  ENTS_F  ENTS_P  ENTS_R  SCORE \n",
      "---  ------  ------------  --------  ------  ------  ------  ------\n",
      "  0       0          0.00     61.17    0.00    0.00    0.00    0.00\n",
      "  3     200        432.26   1416.38   72.22   68.42   76.47    0.72\n",
      "  6     400         28.29     44.43   85.71   83.33   88.24    0.86\n",
      "  9     600         27.00     27.85   87.50   93.33   82.35    0.87\n",
      " 12     800         49.19     29.34   74.29   72.22   76.47    0.74\n",
      " 15    1000         14.87     16.10   75.00   80.00   70.59    0.75\n",
      " 18    1200        616.91     32.11   83.87   92.86   76.47    0.84\n",
      " 21    1400         18.33     12.38   80.00   92.31   70.59    0.80\n",
      " 24    1600          3.73      3.00   75.00   80.00   70.59    0.75\n",
      " 30    1800          2.26      0.82   86.67  100.00   76.47    0.87\n",
      " 36    2000         31.08      8.09   88.24   88.24   88.24    0.88\n",
      " 45    2200          1.93      1.08   68.57   66.67   70.59    0.69\n",
      " 55    2400          0.00      0.00   72.73   75.00   70.59    0.73\n",
      " 68    2600          0.00      0.00   81.25   86.67   76.47    0.81\n",
      " 84    2800          0.00      0.00   81.25   86.67   76.47    0.81\n",
      "102    3000          0.00      0.00   78.79   81.25   76.47    0.79\n",
      "121    3200          0.00      0.00   78.79   81.25   76.47    0.79\n",
      "139    3400          0.00      0.00   78.79   81.25   76.47    0.79\n",
      "157    3600          0.00      0.00   78.79   81.25   76.47    0.79\n",
      "[+] Saved pipeline to output directory\n",
      "output_110\\model-last\n"
     ]
    }
   ],
   "source": [
    "!python -m spacy train config_110.cfg --output ./output_110"
   ]
  },
  {
   "cell_type": "code",
   "execution_count": null,
   "id": "5ffb3b5d",
   "metadata": {},
   "outputs": [],
   "source": []
  },
  {
   "cell_type": "markdown",
   "id": "8e6fd768",
   "metadata": {},
   "source": [
    "### Feature 111"
   ]
  },
  {
   "cell_type": "code",
   "execution_count": 107,
   "id": "398f341d",
   "metadata": {},
   "outputs": [
    {
     "data": {
      "text/plain": [
       "(94, 11)"
      ]
     },
     "execution_count": 107,
     "metadata": {},
     "output_type": "execute_result"
    }
   ],
   "source": [
    "case_1_111 = case_1[case_1[\"feature_num\"] == 111]\n",
    "case_1_111.shape"
   ]
  },
  {
   "cell_type": "code",
   "execution_count": 108,
   "id": "c5715728",
   "metadata": {},
   "outputs": [
    {
     "data": {
      "text/plain": [
       "(74, 19)"
      ]
     },
     "execution_count": 108,
     "metadata": {},
     "output_type": "execute_result"
    }
   ],
   "source": [
    "pn_Num_list = list(case_1_111.pn_num.unique())\n",
    "\n",
    "final_train = []   # appending all the individual rows\n",
    "for patient_number in pn_Num_list:  # for each unique patient number\n",
    "    entities = []  # saving individaual entities locations\n",
    "    for row_index,row in case_1_111[case_1_111.pn_num == patient_number].iterrows():  # for each unique patient number \n",
    "        \n",
    "        entities.append((int(row[\"start_location\"]),int(row[\"end_location\"]),\"Feature_\" + str(row[\"feature_num\"]))) # store the locations in numeric format\n",
    "        \n",
    "    text = case_1_111[case_1_111.pn_num == patient_number][\"New_pn_history\"].values[0] # save the text for the unique patient number\n",
    "    \n",
    "    final_train.append((text,{\"entities\":entities}))  # for each unique pn_number append to final list\n",
    "\n",
    "# Serializing json \n",
    "json_object = json.dumps(final_train, indent = 4)\n",
    "  \n",
    "# Writing to sample.json\n",
    "with open(\"sample_111.json\", \"w\") as outfile:\n",
    "    outfile.write(json_object)\n",
    "    \n",
    "# Opening JSON file\n",
    "f = open(\"sample_111.json\")\n",
    " \n",
    "# returns JSON object as\n",
    "# a dictionary\n",
    "data = json.load(f)\n",
    "\n",
    "nlp = spacy.blank(\"en\")\n",
    "def create_training(TRAIN_DATA):\n",
    "    db = DocBin()\n",
    "    for text, annot in tqdm(TRAIN_DATA):\n",
    "        doc = nlp.make_doc(text)\n",
    "        ents = []\n",
    "        for start, end, label in annot[\"entities\"]:\n",
    "            span = doc.char_span(start, end, label=label, alignment_mode=\"contract\")\n",
    "            if span is None:\n",
    "                print (\"Skipping entity\")\n",
    "            else:\n",
    "                ents.append(span)\n",
    "        doc.ents = ents\n",
    "        db.add(doc)\n",
    "    return (db)\n",
    "\n",
    "train, validation = train_test_split(data, test_size = 0.2, random_state = 100)\n",
    "len(train),len(validation)"
   ]
  },
  {
   "cell_type": "code",
   "execution_count": 109,
   "id": "ca3182ef",
   "metadata": {},
   "outputs": [
    {
     "name": "stderr",
     "output_type": "stream",
     "text": [
      "100%|█████████████████████████████████████████████████████████████████████████████████| 74/74 [00:00<00:00, 472.91it/s]\n"
     ]
    }
   ],
   "source": [
    "#train data set\n",
    "camp_train = create_training(train)\n",
    "camp_train.to_disk(\"nbme_train_111.spacy\")"
   ]
  },
  {
   "cell_type": "code",
   "execution_count": 110,
   "id": "119e1941",
   "metadata": {},
   "outputs": [
    {
     "name": "stderr",
     "output_type": "stream",
     "text": [
      "100%|█████████████████████████████████████████████████████████████████████████████████| 19/19 [00:00<00:00, 276.28it/s]\n"
     ]
    }
   ],
   "source": [
    "#Validation data set\n",
    "camp_validation = create_training(validation)\n",
    "camp_validation.to_disk(\"nbme_validation_111.spacy\")"
   ]
  },
  {
   "cell_type": "code",
   "execution_count": 111,
   "id": "5d06ffbd",
   "metadata": {},
   "outputs": [
    {
     "name": "stdout",
     "output_type": "stream",
     "text": [
      "[+] Auto-filled config with all values\n",
      "[+] Saved config\n",
      "config_111.cfg\n",
      "You can now add your data and train your pipeline:\n",
      "python -m spacy train config_111.cfg --paths.train ./train.spacy --paths.dev ./dev.spacy\n"
     ]
    },
    {
     "name": "stderr",
     "output_type": "stream",
     "text": [
      "2022-05-02 12:52:22.819163: W tensorflow/stream_executor/platform/default/dso_loader.cc:64] Could not load dynamic library 'cudart64_110.dll'; dlerror: cudart64_110.dll not found\n",
      "2022-05-02 12:52:22.819217: I tensorflow/stream_executor/cuda/cudart_stub.cc:29] Ignore above cudart dlerror if you do not have a GPU set up on your machine.\n"
     ]
    }
   ],
   "source": [
    "!python -m spacy init fill-config ./base_config_111.cfg ./config_111.cfg"
   ]
  },
  {
   "cell_type": "code",
   "execution_count": 112,
   "id": "faf58310",
   "metadata": {},
   "outputs": [
    {
     "name": "stdout",
     "output_type": "stream",
     "text": [
      "[i] Saving to output directory: output_111\n",
      "[i] Using CPU\n",
      "\u001b[1m\n",
      "=========================== Initializing pipeline ===========================\u001b[0m\n",
      "[+] Initialized pipeline\n",
      "\u001b[1m\n",
      "============================= Training pipeline =============================\u001b[0m\n",
      "[i] Pipeline: ['tok2vec', 'ner']\n",
      "[i] Initial learn rate: 0.001\n",
      "E    #       LOSS TOK2VEC  LOSS NER  ENTS_F  ENTS_P  ENTS_R  SCORE \n",
      "---  ------  ------------  --------  ------  ------  ------  ------\n",
      "  0       0          0.00     51.50    0.00    0.00    0.00    0.00\n",
      "  2     200       3856.70   2095.04    0.00    0.00    0.00    0.00\n",
      "  5     400         35.98    250.67   25.64   25.00   26.32    0.26\n",
      "  8     600         80.53    195.24   30.30   35.71   26.32    0.30\n",
      " 10     800         90.53    157.55   28.57   31.25   26.32    0.29\n",
      " 13    1000        106.90    124.32   34.29   37.50   31.58    0.34\n",
      " 16    1200        138.95    105.82   17.65   20.00   15.79    0.18\n",
      " 18    1400        132.43     83.08   22.86   25.00   21.05    0.23\n",
      " 21    1600       5493.62    163.15   29.63   50.00   21.05    0.30\n",
      " 25    1800        112.84     66.93   27.03   27.78   26.32    0.27\n",
      " 31    2000        171.14    102.34   31.58   31.58   31.58    0.32\n",
      " 37    2200         98.25     51.70   24.24   28.57   21.05    0.24\n",
      " 45    2400        450.89     50.16   22.86   25.00   21.05    0.23\n",
      " 56    2600        392.48     40.55   22.86   25.00   21.05    0.23\n",
      "[+] Saved pipeline to output directory\n",
      "output_111\\model-last\n"
     ]
    },
    {
     "name": "stderr",
     "output_type": "stream",
     "text": [
      "2022-05-02 12:52:29.843754: W tensorflow/stream_executor/platform/default/dso_loader.cc:64] Could not load dynamic library 'cudart64_110.dll'; dlerror: cudart64_110.dll not found\n",
      "2022-05-02 12:52:29.843807: I tensorflow/stream_executor/cuda/cudart_stub.cc:29] Ignore above cudart dlerror if you do not have a GPU set up on your machine.\n",
      "[2022-05-02 12:52:34,880] [INFO] Set up nlp object from config\n",
      "[2022-05-02 12:52:34,891] [INFO] Pipeline: ['tok2vec', 'ner']\n",
      "[2022-05-02 12:52:34,895] [INFO] Created vocabulary\n",
      "[2022-05-02 12:52:34,896] [INFO] Finished initializing nlp object\n",
      "[2022-05-02 12:52:35,519] [INFO] Initialized pipeline components: ['tok2vec', 'ner']\n"
     ]
    }
   ],
   "source": [
    "!python -m spacy train config_111.cfg --output ./output_111"
   ]
  },
  {
   "cell_type": "code",
   "execution_count": null,
   "id": "b7118fe6",
   "metadata": {},
   "outputs": [],
   "source": []
  },
  {
   "cell_type": "markdown",
   "id": "843aed89",
   "metadata": {},
   "source": [
    "### Feature 112"
   ]
  },
  {
   "cell_type": "code",
   "execution_count": 113,
   "id": "877f7781",
   "metadata": {},
   "outputs": [
    {
     "data": {
      "text/plain": [
       "(96, 11)"
      ]
     },
     "execution_count": 113,
     "metadata": {},
     "output_type": "execute_result"
    }
   ],
   "source": [
    "case_1_112 = case_1[case_1[\"feature_num\"] == 112]\n",
    "case_1_112.shape"
   ]
  },
  {
   "cell_type": "code",
   "execution_count": 114,
   "id": "71a716af",
   "metadata": {},
   "outputs": [
    {
     "data": {
      "text/plain": [
       "(76, 20)"
      ]
     },
     "execution_count": 114,
     "metadata": {},
     "output_type": "execute_result"
    }
   ],
   "source": [
    "pn_Num_list = list(case_1_112.pn_num.unique())\n",
    "\n",
    "final_train = []   # appending all the individual rows\n",
    "for patient_number in pn_Num_list:  # for each unique patient number\n",
    "    entities = []  # saving individaual entities locations\n",
    "    for row_index,row in case_1_112[case_1_112.pn_num == patient_number].iterrows():  # for each unique patient number \n",
    "        \n",
    "        entities.append((int(row[\"start_location\"]),int(row[\"end_location\"]),\"Feature_\" + str(row[\"feature_num\"]))) # store the locations in numeric format\n",
    "        \n",
    "    text = case_1_112[case_1_112.pn_num == patient_number][\"New_pn_history\"].values[0] # save the text for the unique patient number\n",
    "    \n",
    "    final_train.append((text,{\"entities\":entities}))  # for each unique pn_number append to final list\n",
    "\n",
    "# Serializing json \n",
    "json_object = json.dumps(final_train, indent = 4)\n",
    "  \n",
    "# Writing to sample.json\n",
    "with open(\"sample_112.json\", \"w\") as outfile:\n",
    "    outfile.write(json_object)\n",
    "    \n",
    "# Opening JSON file\n",
    "f = open(\"sample_112.json\")\n",
    " \n",
    "# returns JSON object as\n",
    "# a dictionary\n",
    "data = json.load(f)\n",
    "\n",
    "nlp = spacy.blank(\"en\")\n",
    "def create_training(TRAIN_DATA):\n",
    "    db = DocBin()\n",
    "    for text, annot in tqdm(TRAIN_DATA):\n",
    "        doc = nlp.make_doc(text)\n",
    "        ents = []\n",
    "        for start, end, label in annot[\"entities\"]:\n",
    "            span = doc.char_span(start, end, label=label, alignment_mode=\"contract\")\n",
    "            if span is None:\n",
    "                print (\"Skipping entity\")\n",
    "            else:\n",
    "                ents.append(span)\n",
    "        doc.ents = ents\n",
    "        db.add(doc)\n",
    "    return (db)\n",
    "\n",
    "train, validation = train_test_split(data, test_size = 0.2, random_state = 100)\n",
    "len(train),len(validation)"
   ]
  },
  {
   "cell_type": "code",
   "execution_count": 115,
   "id": "cb0201b3",
   "metadata": {},
   "outputs": [
    {
     "name": "stderr",
     "output_type": "stream",
     "text": [
      "100%|█████████████████████████████████████████████████████████████████████████████████| 76/76 [00:00<00:00, 409.63it/s]\n"
     ]
    }
   ],
   "source": [
    "#train data set\n",
    "camp_train = create_training(train)\n",
    "camp_train.to_disk(\"nbme_train_112.spacy\")"
   ]
  },
  {
   "cell_type": "code",
   "execution_count": 116,
   "id": "f0a56725",
   "metadata": {},
   "outputs": [
    {
     "name": "stderr",
     "output_type": "stream",
     "text": [
      "100%|█████████████████████████████████████████████████████████████████████████████████| 20/20 [00:00<00:00, 519.84it/s]\n"
     ]
    }
   ],
   "source": [
    "#Validation data set\n",
    "camp_validation = create_training(validation)\n",
    "camp_validation.to_disk(\"nbme_validation_112.spacy\")"
   ]
  },
  {
   "cell_type": "code",
   "execution_count": 117,
   "id": "eff1e1ff",
   "metadata": {},
   "outputs": [
    {
     "name": "stdout",
     "output_type": "stream",
     "text": [
      "[+] Auto-filled config with all values\n",
      "[+] Saved config\n",
      "config_112.cfg\n",
      "You can now add your data and train your pipeline:\n",
      "python -m spacy train config_112.cfg --paths.train ./train.spacy --paths.dev ./dev.spacy\n"
     ]
    },
    {
     "name": "stderr",
     "output_type": "stream",
     "text": [
      "2022-05-02 12:57:39.797091: W tensorflow/stream_executor/platform/default/dso_loader.cc:64] Could not load dynamic library 'cudart64_110.dll'; dlerror: cudart64_110.dll not found\n",
      "2022-05-02 12:57:39.797146: I tensorflow/stream_executor/cuda/cudart_stub.cc:29] Ignore above cudart dlerror if you do not have a GPU set up on your machine.\n"
     ]
    }
   ],
   "source": [
    "!python -m spacy init fill-config ./base_config_112.cfg ./config_112.cfg"
   ]
  },
  {
   "cell_type": "code",
   "execution_count": 118,
   "id": "7efb4010",
   "metadata": {},
   "outputs": [
    {
     "name": "stdout",
     "output_type": "stream",
     "text": [
      "[i] Saving to output directory: output_112"
     ]
    },
    {
     "name": "stderr",
     "output_type": "stream",
     "text": [
      "2022-05-02 12:57:45.921637: W tensorflow/stream_executor/platform/default/dso_loader.cc:64] Could not load dynamic library 'cudart64_110.dll'; dlerror: cudart64_110.dll not found\n",
      "2022-05-02 12:57:45.921686: I tensorflow/stream_executor/cuda/cudart_stub.cc:29] Ignore above cudart dlerror if you do not have a GPU set up on your machine.\n",
      "[2022-05-02 12:57:50,090] [INFO] Set up nlp object from config\n",
      "[2022-05-02 12:57:50,100] [INFO] Pipeline: ['tok2vec', 'ner']\n",
      "[2022-05-02 12:57:50,104] [INFO] Created vocabulary\n",
      "[2022-05-02 12:57:50,105] [INFO] Finished initializing nlp object\n",
      "[2022-05-02 12:57:50,639] [INFO] Initialized pipeline components: ['tok2vec', 'ner']\n"
     ]
    },
    {
     "name": "stdout",
     "output_type": "stream",
     "text": [
      "\n",
      "[i] Using CPU\n",
      "\u001b[1m\n",
      "=========================== Initializing pipeline ===========================\u001b[0m\n",
      "[+] Initialized pipeline\n",
      "\u001b[1m\n",
      "============================= Training pipeline =============================\u001b[0m\n",
      "[i] Pipeline: ['tok2vec', 'ner']\n",
      "[i] Initial learn rate: 0.001\n",
      "E    #       LOSS TOK2VEC  LOSS NER  ENTS_F  ENTS_P  ENTS_R  SCORE \n",
      "---  ------  ------------  --------  ------  ------  ------  ------\n",
      "  0       0          0.00     53.00    0.00    0.00    0.00    0.00\n",
      "  2     200          8.93    979.26   97.56   95.24  100.00    0.98\n",
      "  5     400          0.06      0.18  100.00  100.00  100.00    1.00\n",
      "  7     600          0.00      0.00  100.00  100.00  100.00    1.00\n",
      " 10     800          0.00      0.00  100.00  100.00  100.00    1.00\n",
      " 13    1000          0.00      0.00  100.00  100.00  100.00    1.00\n",
      " 15    1200          0.00      0.00  100.00  100.00  100.00    1.00\n",
      " 18    1400          0.00      0.00  100.00  100.00  100.00    1.00\n",
      " 21    1600          0.00      0.00  100.00  100.00  100.00    1.00\n",
      " 26    1800          0.00      0.00  100.00  100.00  100.00    1.00\n",
      " 32    2000          0.00      0.00  100.00  100.00  100.00    1.00\n",
      "[+] Saved pipeline to output directory\n",
      "output_112\\model-last\n"
     ]
    }
   ],
   "source": [
    "!python -m spacy train config_112.cfg --output ./output_112"
   ]
  },
  {
   "cell_type": "code",
   "execution_count": null,
   "id": "e9407bd0",
   "metadata": {},
   "outputs": [],
   "source": []
  }
 ],
 "metadata": {
  "kernelspec": {
   "display_name": "Python 3",
   "language": "python",
   "name": "python3"
  },
  "language_info": {
   "codemirror_mode": {
    "name": "ipython",
    "version": 3
   },
   "file_extension": ".py",
   "mimetype": "text/x-python",
   "name": "python",
   "nbconvert_exporter": "python",
   "pygments_lexer": "ipython3",
   "version": "3.8.8"
  }
 },
 "nbformat": 4,
 "nbformat_minor": 5
}
