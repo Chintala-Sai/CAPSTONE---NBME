{
 "cells": [
  {
   "cell_type": "code",
   "execution_count": 1,
   "id": "3edffe31",
   "metadata": {},
   "outputs": [],
   "source": [
    "import pandas as pd\n",
    "import numpy as np\n",
    "import json\n",
    "import warnings\n",
    "import spacy\n",
    "warnings.filterwarnings(\"ignore\")\n",
    "import random\n",
    "import matplotlib.pyplot as plt\n",
    "\n",
    "import nltk\n",
    "from nltk.stem import WordNetLemmatizer\n",
    "\n",
    "import re\n",
    "\n",
    "from spacy.tokens import DocBin\n",
    "\n",
    "from tqdm import tqdm\n",
    "\n",
    "from sklearn.model_selection import train_test_split"
   ]
  },
  {
   "cell_type": "code",
   "execution_count": 2,
   "id": "02d08898",
   "metadata": {},
   "outputs": [],
   "source": [
    "train_data = pd.read_csv(r\"C:\\Users\\sai\\Desktop\\PRAXIS\\Term - 3\\CAPP\\Datasets\\train.csv\")\n",
    "features = pd.read_csv(r\"C:\\Users\\sai\\Desktop\\PRAXIS\\Term - 3\\CAPP\\Datasets\\features.csv\")\n",
    "patient_notes = pd.read_csv(r\"C:\\Users\\sai\\Desktop\\PRAXIS\\Term - 3\\CAPP\\Datasets\\patient_notes.csv\")"
   ]
  },
  {
   "cell_type": "markdown",
   "id": "c15f60f2",
   "metadata": {},
   "source": [
    "### CASE - 3"
   ]
  },
  {
   "cell_type": "code",
   "execution_count": 3,
   "id": "054ab62c",
   "metadata": {},
   "outputs": [
    {
     "data": {
      "text/html": [
       "<div>\n",
       "<style scoped>\n",
       "    .dataframe tbody tr th:only-of-type {\n",
       "        vertical-align: middle;\n",
       "    }\n",
       "\n",
       "    .dataframe tbody tr th {\n",
       "        vertical-align: top;\n",
       "    }\n",
       "\n",
       "    .dataframe thead th {\n",
       "        text-align: right;\n",
       "    }\n",
       "</style>\n",
       "<table border=\"1\" class=\"dataframe\">\n",
       "  <thead>\n",
       "    <tr style=\"text-align: right;\">\n",
       "      <th></th>\n",
       "      <th>feature_num</th>\n",
       "      <th>case_num</th>\n",
       "      <th>feature_text</th>\n",
       "    </tr>\n",
       "  </thead>\n",
       "  <tbody>\n",
       "    <tr>\n",
       "      <th>43</th>\n",
       "      <td>300</td>\n",
       "      <td>3</td>\n",
       "      <td>FHx-of-PUD-OR-Family-history-of-peptic-ulcer-d...</td>\n",
       "    </tr>\n",
       "    <tr>\n",
       "      <th>44</th>\n",
       "      <td>301</td>\n",
       "      <td>3</td>\n",
       "      <td>Epigastric-discomfort</td>\n",
       "    </tr>\n",
       "    <tr>\n",
       "      <th>45</th>\n",
       "      <td>302</td>\n",
       "      <td>3</td>\n",
       "      <td>Darker-bowel-movements</td>\n",
       "    </tr>\n",
       "    <tr>\n",
       "      <th>46</th>\n",
       "      <td>303</td>\n",
       "      <td>3</td>\n",
       "      <td>NSAID-use-OR-Nonsteroidal-anti-inflammatory-dr...</td>\n",
       "    </tr>\n",
       "    <tr>\n",
       "      <th>47</th>\n",
       "      <td>304</td>\n",
       "      <td>3</td>\n",
       "      <td>burning-OR-gnawing-OR-burning-and-gnawing</td>\n",
       "    </tr>\n",
       "    <tr>\n",
       "      <th>48</th>\n",
       "      <td>305</td>\n",
       "      <td>3</td>\n",
       "      <td>Post-prandial-bloating-OR-fullness-with-meals</td>\n",
       "    </tr>\n",
       "    <tr>\n",
       "      <th>49</th>\n",
       "      <td>306</td>\n",
       "      <td>3</td>\n",
       "      <td>getting-worse-OR-progressive-OR-symptoms-now-d...</td>\n",
       "    </tr>\n",
       "    <tr>\n",
       "      <th>50</th>\n",
       "      <td>307</td>\n",
       "      <td>3</td>\n",
       "      <td>2-to-3-beers-a-week</td>\n",
       "    </tr>\n",
       "    <tr>\n",
       "      <th>51</th>\n",
       "      <td>308</td>\n",
       "      <td>3</td>\n",
       "      <td>Male</td>\n",
       "    </tr>\n",
       "    <tr>\n",
       "      <th>52</th>\n",
       "      <td>309</td>\n",
       "      <td>3</td>\n",
       "      <td>duration-2-months</td>\n",
       "    </tr>\n",
       "    <tr>\n",
       "      <th>53</th>\n",
       "      <td>310</td>\n",
       "      <td>3</td>\n",
       "      <td>Awakens-at-night</td>\n",
       "    </tr>\n",
       "    <tr>\n",
       "      <th>54</th>\n",
       "      <td>311</td>\n",
       "      <td>3</td>\n",
       "      <td>No-blood-in-stool</td>\n",
       "    </tr>\n",
       "    <tr>\n",
       "      <th>55</th>\n",
       "      <td>312</td>\n",
       "      <td>3</td>\n",
       "      <td>Intermittent</td>\n",
       "    </tr>\n",
       "    <tr>\n",
       "      <th>56</th>\n",
       "      <td>313</td>\n",
       "      <td>3</td>\n",
       "      <td>Minimal-to-no-change-with-Tums</td>\n",
       "    </tr>\n",
       "    <tr>\n",
       "      <th>57</th>\n",
       "      <td>314</td>\n",
       "      <td>3</td>\n",
       "      <td>Nausea</td>\n",
       "    </tr>\n",
       "    <tr>\n",
       "      <th>58</th>\n",
       "      <td>315</td>\n",
       "      <td>3</td>\n",
       "      <td>35-year</td>\n",
       "    </tr>\n",
       "  </tbody>\n",
       "</table>\n",
       "</div>"
      ],
      "text/plain": [
       "    feature_num  case_num                                       feature_text\n",
       "43          300         3  FHx-of-PUD-OR-Family-history-of-peptic-ulcer-d...\n",
       "44          301         3                              Epigastric-discomfort\n",
       "45          302         3                             Darker-bowel-movements\n",
       "46          303         3  NSAID-use-OR-Nonsteroidal-anti-inflammatory-dr...\n",
       "47          304         3          burning-OR-gnawing-OR-burning-and-gnawing\n",
       "48          305         3      Post-prandial-bloating-OR-fullness-with-meals\n",
       "49          306         3  getting-worse-OR-progressive-OR-symptoms-now-d...\n",
       "50          307         3                                2-to-3-beers-a-week\n",
       "51          308         3                                               Male\n",
       "52          309         3                                  duration-2-months\n",
       "53          310         3                                   Awakens-at-night\n",
       "54          311         3                                  No-blood-in-stool\n",
       "55          312         3                                       Intermittent\n",
       "56          313         3                     Minimal-to-no-change-with-Tums\n",
       "57          314         3                                             Nausea\n",
       "58          315         3                                            35-year"
      ]
     },
     "execution_count": 3,
     "metadata": {},
     "output_type": "execute_result"
    }
   ],
   "source": [
    "case_3_features = features[features[\"case_num\"] == 3]\n",
    "case_3_features"
   ]
  },
  {
   "cell_type": "code",
   "execution_count": 4,
   "id": "d2a72ae7",
   "metadata": {
    "scrolled": true
   },
   "outputs": [
    {
     "data": {
      "text/html": [
       "<div>\n",
       "<style scoped>\n",
       "    .dataframe tbody tr th:only-of-type {\n",
       "        vertical-align: middle;\n",
       "    }\n",
       "\n",
       "    .dataframe tbody tr th {\n",
       "        vertical-align: top;\n",
       "    }\n",
       "\n",
       "    .dataframe thead th {\n",
       "        text-align: right;\n",
       "    }\n",
       "</style>\n",
       "<table border=\"1\" class=\"dataframe\">\n",
       "  <thead>\n",
       "    <tr style=\"text-align: right;\">\n",
       "      <th></th>\n",
       "      <th>pn_num</th>\n",
       "      <th>case_num</th>\n",
       "      <th>pn_history</th>\n",
       "    </tr>\n",
       "  </thead>\n",
       "  <tbody>\n",
       "    <tr>\n",
       "      <th>5034</th>\n",
       "      <td>30000</td>\n",
       "      <td>3</td>\n",
       "      <td>35 YO M  WAITH MIDEPIGARTRIC PAIN, NO RADIATIO...</td>\n",
       "    </tr>\n",
       "    <tr>\n",
       "      <th>5035</th>\n",
       "      <td>30001</td>\n",
       "      <td>3</td>\n",
       "      <td>Chief Complaint: 35 yo M presenting with \"stom...</td>\n",
       "    </tr>\n",
       "    <tr>\n",
       "      <th>5036</th>\n",
       "      <td>30002</td>\n",
       "      <td>3</td>\n",
       "      <td>35 y/o male with 20 year smoking history who p...</td>\n",
       "    </tr>\n",
       "    <tr>\n",
       "      <th>5037</th>\n",
       "      <td>30003</td>\n",
       "      <td>3</td>\n",
       "      <td>Pt is 35 y/o male comes in c/o central abdomin...</td>\n",
       "    </tr>\n",
       "    <tr>\n",
       "      <th>5038</th>\n",
       "      <td>30004</td>\n",
       "      <td>3</td>\n",
       "      <td>35 yo M with epigastric pain for the past 2 mo...</td>\n",
       "    </tr>\n",
       "    <tr>\n",
       "      <th>...</th>\n",
       "      <td>...</td>\n",
       "      <td>...</td>\n",
       "      <td>...</td>\n",
       "    </tr>\n",
       "    <tr>\n",
       "      <th>14782</th>\n",
       "      <td>39931</td>\n",
       "      <td>3</td>\n",
       "      <td>35 yo m presenting with stomach troubles inter...</td>\n",
       "    </tr>\n",
       "    <tr>\n",
       "      <th>14783</th>\n",
       "      <td>39932</td>\n",
       "      <td>3</td>\n",
       "      <td>35 YO M C/O STOMACH PAIN X 2 MONTHS. \\r\\nPAIN ...</td>\n",
       "    </tr>\n",
       "    <tr>\n",
       "      <th>14784</th>\n",
       "      <td>39933</td>\n",
       "      <td>3</td>\n",
       "      <td>ID/CC: 35M with \"stomach problems\"\\r\\nHPI: Int...</td>\n",
       "    </tr>\n",
       "    <tr>\n",
       "      <th>14785</th>\n",
       "      <td>39934</td>\n",
       "      <td>3</td>\n",
       "      <td>35 year old male presents to the clinic for \"s...</td>\n",
       "    </tr>\n",
       "    <tr>\n",
       "      <th>14786</th>\n",
       "      <td>39935</td>\n",
       "      <td>3</td>\n",
       "      <td>35 yo man with a 2 month history of epigastric...</td>\n",
       "    </tr>\n",
       "  </tbody>\n",
       "</table>\n",
       "<p>9753 rows × 3 columns</p>\n",
       "</div>"
      ],
      "text/plain": [
       "       pn_num  case_num                                         pn_history\n",
       "5034    30000         3  35 YO M  WAITH MIDEPIGARTRIC PAIN, NO RADIATIO...\n",
       "5035    30001         3  Chief Complaint: 35 yo M presenting with \"stom...\n",
       "5036    30002         3  35 y/o male with 20 year smoking history who p...\n",
       "5037    30003         3  Pt is 35 y/o male comes in c/o central abdomin...\n",
       "5038    30004         3  35 yo M with epigastric pain for the past 2 mo...\n",
       "...       ...       ...                                                ...\n",
       "14782   39931         3  35 yo m presenting with stomach troubles inter...\n",
       "14783   39932         3  35 YO M C/O STOMACH PAIN X 2 MONTHS. \\r\\nPAIN ...\n",
       "14784   39933         3  ID/CC: 35M with \"stomach problems\"\\r\\nHPI: Int...\n",
       "14785   39934         3  35 year old male presents to the clinic for \"s...\n",
       "14786   39935         3  35 yo man with a 2 month history of epigastric...\n",
       "\n",
       "[9753 rows x 3 columns]"
      ]
     },
     "execution_count": 4,
     "metadata": {},
     "output_type": "execute_result"
    }
   ],
   "source": [
    "case_3_pn = patient_notes[patient_notes[\"case_num\"] ==  3]\n",
    "case_3_pn"
   ]
  },
  {
   "cell_type": "code",
   "execution_count": 5,
   "id": "a0b2ab33",
   "metadata": {},
   "outputs": [
    {
     "data": {
      "text/html": [
       "<div>\n",
       "<style scoped>\n",
       "    .dataframe tbody tr th:only-of-type {\n",
       "        vertical-align: middle;\n",
       "    }\n",
       "\n",
       "    .dataframe tbody tr th {\n",
       "        vertical-align: top;\n",
       "    }\n",
       "\n",
       "    .dataframe thead th {\n",
       "        text-align: right;\n",
       "    }\n",
       "</style>\n",
       "<table border=\"1\" class=\"dataframe\">\n",
       "  <thead>\n",
       "    <tr style=\"text-align: right;\">\n",
       "      <th></th>\n",
       "      <th>id</th>\n",
       "      <th>case_num</th>\n",
       "      <th>pn_num</th>\n",
       "      <th>feature_num</th>\n",
       "      <th>annotation</th>\n",
       "      <th>location</th>\n",
       "    </tr>\n",
       "  </thead>\n",
       "  <tbody>\n",
       "    <tr>\n",
       "      <th>4300</th>\n",
       "      <td>30037_300</td>\n",
       "      <td>3</td>\n",
       "      <td>30037</td>\n",
       "      <td>300</td>\n",
       "      <td>['Uncle with bleeding ulcer']</td>\n",
       "      <td>['844 869']</td>\n",
       "    </tr>\n",
       "    <tr>\n",
       "      <th>4301</th>\n",
       "      <td>30037_301</td>\n",
       "      <td>3</td>\n",
       "      <td>30037</td>\n",
       "      <td>301</td>\n",
       "      <td>['pain is located in the epigastric region']</td>\n",
       "      <td>['124 164']</td>\n",
       "    </tr>\n",
       "    <tr>\n",
       "      <th>4302</th>\n",
       "      <td>30037_302</td>\n",
       "      <td>3</td>\n",
       "      <td>30037</td>\n",
       "      <td>302</td>\n",
       "      <td>['stools have appeared darker']</td>\n",
       "      <td>['508 535']</td>\n",
       "    </tr>\n",
       "    <tr>\n",
       "      <th>4303</th>\n",
       "      <td>30037_303</td>\n",
       "      <td>3</td>\n",
       "      <td>30037</td>\n",
       "      <td>303</td>\n",
       "      <td>['Motrin']</td>\n",
       "      <td>['771 777']</td>\n",
       "    </tr>\n",
       "    <tr>\n",
       "      <th>4304</th>\n",
       "      <td>30037_304</td>\n",
       "      <td>3</td>\n",
       "      <td>30037</td>\n",
       "      <td>304</td>\n",
       "      <td>['burning/gnawing']</td>\n",
       "      <td>['206 221']</td>\n",
       "    </tr>\n",
       "  </tbody>\n",
       "</table>\n",
       "</div>"
      ],
      "text/plain": [
       "             id  case_num  pn_num  feature_num  \\\n",
       "4300  30037_300         3   30037          300   \n",
       "4301  30037_301         3   30037          301   \n",
       "4302  30037_302         3   30037          302   \n",
       "4303  30037_303         3   30037          303   \n",
       "4304  30037_304         3   30037          304   \n",
       "\n",
       "                                        annotation     location  \n",
       "4300                 ['Uncle with bleeding ulcer']  ['844 869']  \n",
       "4301  ['pain is located in the epigastric region']  ['124 164']  \n",
       "4302               ['stools have appeared darker']  ['508 535']  \n",
       "4303                                    ['Motrin']  ['771 777']  \n",
       "4304                           ['burning/gnawing']  ['206 221']  "
      ]
     },
     "execution_count": 5,
     "metadata": {},
     "output_type": "execute_result"
    }
   ],
   "source": [
    "case_3_train = train_data[train_data[\"case_num\"] == 3]\n",
    "case_3_train = case_3_train[case_3_train.annotation != '[]']\n",
    "case_3_train.head()"
   ]
  },
  {
   "cell_type": "code",
   "execution_count": 6,
   "id": "e9d95856",
   "metadata": {},
   "outputs": [
    {
     "data": {
      "image/png": "[encoded data removed]",
      "text/plain": [
       "<Figure size 576x432 with 1 Axes>"
      ]
     },
     "metadata": {
      "needs_background": "light"
     },
     "output_type": "display_data"
    }
   ],
   "source": [
    "plt.figure(figsize=[8,6])\n",
    "case_3_train.groupby(\"feature_num\").size().plot.bar()\n",
    "plt.title(\"CASE - 3\")\n",
    "plt.ylabel(\"Number of observations\")\n",
    "plt.show()"
   ]
  },
  {
   "cell_type": "code",
   "execution_count": null,
   "id": "b248eac8",
   "metadata": {},
   "outputs": [],
   "source": []
  },
  {
   "cell_type": "markdown",
   "id": "d614466a",
   "metadata": {},
   "source": [
    "### Over Sampling for CASE 3"
   ]
  },
  {
   "cell_type": "code",
   "execution_count": 7,
   "id": "5b22928d",
   "metadata": {},
   "outputs": [],
   "source": [
    "pn_dict = {}\n",
    "for idx, row in case_3_pn.iterrows():\n",
    "    pn_dict[row['pn_num']] = row['pn_history']"
   ]
  },
  {
   "cell_type": "code",
   "execution_count": 8,
   "id": "f27cd3e2",
   "metadata": {
    "scrolled": true
   },
   "outputs": [],
   "source": [
    "new_annotation = []\n",
    "for case_id in case_3_features['case_num'].unique():\n",
    "    \n",
    "    all_pn_id = set(case_3_pn[case_3_pn['case_num']==case_id]['pn_num'].tolist())\n",
    "    \n",
    "    for feature_id in case_3_features[case_3_features['case_num']==case_id]['feature_num'].unique():\n",
    "        # get all the pn_num that have already been annotated\n",
    "        annotated_pn = set(case_3_train[case_3_train['feature_num']==feature_id]['pn_num'].tolist())\n",
    "        # get all the pn_num that have NOT been annotated\n",
    "        pn_to_annotate = all_pn_id-annotated_pn\n",
    "        \n",
    "        # get all current annotations\n",
    "        # we will use them to find more annotations\n",
    "        annotations = case_3_train[case_3_train['feature_num']==feature_id]['annotation'].tolist()\n",
    "        annotation_texts = set()\n",
    "        for a in annotations:\n",
    "            anns = eval(a)\n",
    "            for at in anns:\n",
    "                annotation_texts.add(at)\n",
    "                \n",
    "        # annotate       \n",
    "        for pn_id in pn_to_annotate:\n",
    "            new_annotation_pn, new_location_pn = [], []\n",
    "            pn_text = pn_dict[pn_id]\n",
    "            for at in annotation_texts:\n",
    "                start = pn_text.find(at)\n",
    "                if start>=0:\n",
    "                    new_annotation_pn.append(at)\n",
    "                    new_location_pn.append(f'{start} {start+len(at)}')\n",
    "            if len(new_annotation_pn)>0:\n",
    "                new_annotation.append((\n",
    "                    f'{pn_id:04d}_{feature_id:03d}',\n",
    "                    case_id,\n",
    "                    pn_id,\n",
    "                    feature_id,\n",
    "                    new_annotation_pn,\n",
    "                    new_location_pn\n",
    "                ))\n",
    "     #   break\n",
    "    break\n",
    "    # break to get sample results quickly"
   ]
  },
  {
   "cell_type": "code",
   "execution_count": 9,
   "id": "8c27a4bc",
   "metadata": {},
   "outputs": [
    {
     "data": {
      "text/plain": [
       "83864"
      ]
     },
     "execution_count": 9,
     "metadata": {},
     "output_type": "execute_result"
    }
   ],
   "source": [
    "len(new_annotation)"
   ]
  },
  {
   "cell_type": "code",
   "execution_count": 10,
   "id": "6f9744c7",
   "metadata": {},
   "outputs": [
    {
     "data": {
      "text/html": [
       "<div>\n",
       "<style scoped>\n",
       "    .dataframe tbody tr th:only-of-type {\n",
       "        vertical-align: middle;\n",
       "    }\n",
       "\n",
       "    .dataframe tbody tr th {\n",
       "        vertical-align: top;\n",
       "    }\n",
       "\n",
       "    .dataframe thead th {\n",
       "        text-align: right;\n",
       "    }\n",
       "</style>\n",
       "<table border=\"1\" class=\"dataframe\">\n",
       "  <thead>\n",
       "    <tr style=\"text-align: right;\">\n",
       "      <th></th>\n",
       "      <th>0</th>\n",
       "      <th>1</th>\n",
       "      <th>2</th>\n",
       "      <th>3</th>\n",
       "      <th>4</th>\n",
       "      <th>5</th>\n",
       "    </tr>\n",
       "  </thead>\n",
       "  <tbody>\n",
       "    <tr>\n",
       "      <th>0</th>\n",
       "      <td>32770_300</td>\n",
       "      <td>3</td>\n",
       "      <td>32770</td>\n",
       "      <td>300</td>\n",
       "      <td>[Uncle with bleeding ulcer]</td>\n",
       "      <td>[540 565]</td>\n",
       "    </tr>\n",
       "    <tr>\n",
       "      <th>1</th>\n",
       "      <td>32772_300</td>\n",
       "      <td>3</td>\n",
       "      <td>32772</td>\n",
       "      <td>300</td>\n",
       "      <td>[Uncle with bleeding ulcer]</td>\n",
       "      <td>[662 687]</td>\n",
       "    </tr>\n",
       "    <tr>\n",
       "      <th>2</th>\n",
       "      <td>32773_300</td>\n",
       "      <td>3</td>\n",
       "      <td>32773</td>\n",
       "      <td>300</td>\n",
       "      <td>[uncle with bleeding ulcer]</td>\n",
       "      <td>[606 631]</td>\n",
       "    </tr>\n",
       "    <tr>\n",
       "      <th>3</th>\n",
       "      <td>32779_300</td>\n",
       "      <td>3</td>\n",
       "      <td>32779</td>\n",
       "      <td>300</td>\n",
       "      <td>[paternal uncle had bleeding ulcer]</td>\n",
       "      <td>[669 702]</td>\n",
       "    </tr>\n",
       "    <tr>\n",
       "      <th>4</th>\n",
       "      <td>32780_300</td>\n",
       "      <td>3</td>\n",
       "      <td>32780</td>\n",
       "      <td>300</td>\n",
       "      <td>[uncle with bleeding ulcer]</td>\n",
       "      <td>[919 944]</td>\n",
       "    </tr>\n",
       "  </tbody>\n",
       "</table>\n",
       "</div>"
      ],
      "text/plain": [
       "           0  1      2    3                                    4          5\n",
       "0  32770_300  3  32770  300          [Uncle with bleeding ulcer]  [540 565]\n",
       "1  32772_300  3  32772  300          [Uncle with bleeding ulcer]  [662 687]\n",
       "2  32773_300  3  32773  300          [uncle with bleeding ulcer]  [606 631]\n",
       "3  32779_300  3  32779  300  [paternal uncle had bleeding ulcer]  [669 702]\n",
       "4  32780_300  3  32780  300          [uncle with bleeding ulcer]  [919 944]"
      ]
     },
     "execution_count": 10,
     "metadata": {},
     "output_type": "execute_result"
    }
   ],
   "source": [
    "df=pd.DataFrame(new_annotation)\n",
    "df.head()"
   ]
  },
  {
   "cell_type": "code",
   "execution_count": 11,
   "id": "3c165be4",
   "metadata": {},
   "outputs": [
    {
     "data": {
      "text/html": [
       "<div>\n",
       "<style scoped>\n",
       "    .dataframe tbody tr th:only-of-type {\n",
       "        vertical-align: middle;\n",
       "    }\n",
       "\n",
       "    .dataframe tbody tr th {\n",
       "        vertical-align: top;\n",
       "    }\n",
       "\n",
       "    .dataframe thead th {\n",
       "        text-align: right;\n",
       "    }\n",
       "</style>\n",
       "<table border=\"1\" class=\"dataframe\">\n",
       "  <thead>\n",
       "    <tr style=\"text-align: right;\">\n",
       "      <th></th>\n",
       "      <th>id</th>\n",
       "      <th>case_num</th>\n",
       "      <th>pn_num</th>\n",
       "      <th>feature_num</th>\n",
       "      <th>annotation</th>\n",
       "      <th>location</th>\n",
       "    </tr>\n",
       "  </thead>\n",
       "  <tbody>\n",
       "    <tr>\n",
       "      <th>0</th>\n",
       "      <td>32770_300</td>\n",
       "      <td>3</td>\n",
       "      <td>32770</td>\n",
       "      <td>300</td>\n",
       "      <td>[Uncle with bleeding ulcer]</td>\n",
       "      <td>[540 565]</td>\n",
       "    </tr>\n",
       "    <tr>\n",
       "      <th>1</th>\n",
       "      <td>32772_300</td>\n",
       "      <td>3</td>\n",
       "      <td>32772</td>\n",
       "      <td>300</td>\n",
       "      <td>[Uncle with bleeding ulcer]</td>\n",
       "      <td>[662 687]</td>\n",
       "    </tr>\n",
       "    <tr>\n",
       "      <th>2</th>\n",
       "      <td>32773_300</td>\n",
       "      <td>3</td>\n",
       "      <td>32773</td>\n",
       "      <td>300</td>\n",
       "      <td>[uncle with bleeding ulcer]</td>\n",
       "      <td>[606 631]</td>\n",
       "    </tr>\n",
       "    <tr>\n",
       "      <th>3</th>\n",
       "      <td>32779_300</td>\n",
       "      <td>3</td>\n",
       "      <td>32779</td>\n",
       "      <td>300</td>\n",
       "      <td>[paternal uncle had bleeding ulcer]</td>\n",
       "      <td>[669 702]</td>\n",
       "    </tr>\n",
       "    <tr>\n",
       "      <th>4</th>\n",
       "      <td>32780_300</td>\n",
       "      <td>3</td>\n",
       "      <td>32780</td>\n",
       "      <td>300</td>\n",
       "      <td>[uncle with bleeding ulcer]</td>\n",
       "      <td>[919 944]</td>\n",
       "    </tr>\n",
       "  </tbody>\n",
       "</table>\n",
       "</div>"
      ],
      "text/plain": [
       "          id  case_num  pn_num  feature_num  \\\n",
       "0  32770_300         3   32770          300   \n",
       "1  32772_300         3   32772          300   \n",
       "2  32773_300         3   32773          300   \n",
       "3  32779_300         3   32779          300   \n",
       "4  32780_300         3   32780          300   \n",
       "\n",
       "                            annotation   location  \n",
       "0          [Uncle with bleeding ulcer]  [540 565]  \n",
       "1          [Uncle with bleeding ulcer]  [662 687]  \n",
       "2          [uncle with bleeding ulcer]  [606 631]  \n",
       "3  [paternal uncle had bleeding ulcer]  [669 702]  \n",
       "4          [uncle with bleeding ulcer]  [919 944]  "
      ]
     },
     "execution_count": 11,
     "metadata": {},
     "output_type": "execute_result"
    }
   ],
   "source": [
    "df.columns=['id','case_num','pn_num','feature_num','annotation','location']\n",
    "df.head()"
   ]
  },
  {
   "cell_type": "code",
   "execution_count": 12,
   "id": "a17b3b48",
   "metadata": {},
   "outputs": [
    {
     "data": {
      "text/html": [
       "<div>\n",
       "<style scoped>\n",
       "    .dataframe tbody tr th:only-of-type {\n",
       "        vertical-align: middle;\n",
       "    }\n",
       "\n",
       "    .dataframe tbody tr th {\n",
       "        vertical-align: top;\n",
       "    }\n",
       "\n",
       "    .dataframe thead th {\n",
       "        text-align: right;\n",
       "    }\n",
       "</style>\n",
       "<table border=\"1\" class=\"dataframe\">\n",
       "  <thead>\n",
       "    <tr style=\"text-align: right;\">\n",
       "      <th></th>\n",
       "      <th>id</th>\n",
       "      <th>case_num</th>\n",
       "      <th>pn_num</th>\n",
       "      <th>feature_num</th>\n",
       "      <th>annotation</th>\n",
       "      <th>location</th>\n",
       "    </tr>\n",
       "  </thead>\n",
       "  <tbody>\n",
       "    <tr>\n",
       "      <th>0</th>\n",
       "      <td>32770_300</td>\n",
       "      <td>3</td>\n",
       "      <td>32770</td>\n",
       "      <td>300</td>\n",
       "      <td>'Uncle with bleeding ulcer'</td>\n",
       "      <td>'540 565'</td>\n",
       "    </tr>\n",
       "    <tr>\n",
       "      <th>1</th>\n",
       "      <td>32772_300</td>\n",
       "      <td>3</td>\n",
       "      <td>32772</td>\n",
       "      <td>300</td>\n",
       "      <td>'Uncle with bleeding ulcer'</td>\n",
       "      <td>'662 687'</td>\n",
       "    </tr>\n",
       "    <tr>\n",
       "      <th>2</th>\n",
       "      <td>32773_300</td>\n",
       "      <td>3</td>\n",
       "      <td>32773</td>\n",
       "      <td>300</td>\n",
       "      <td>'uncle with bleeding ulcer'</td>\n",
       "      <td>'606 631'</td>\n",
       "    </tr>\n",
       "    <tr>\n",
       "      <th>3</th>\n",
       "      <td>32779_300</td>\n",
       "      <td>3</td>\n",
       "      <td>32779</td>\n",
       "      <td>300</td>\n",
       "      <td>'paternal uncle had bleeding ulcer'</td>\n",
       "      <td>'669 702'</td>\n",
       "    </tr>\n",
       "    <tr>\n",
       "      <th>4</th>\n",
       "      <td>32780_300</td>\n",
       "      <td>3</td>\n",
       "      <td>32780</td>\n",
       "      <td>300</td>\n",
       "      <td>'uncle with bleeding ulcer'</td>\n",
       "      <td>'919 944'</td>\n",
       "    </tr>\n",
       "  </tbody>\n",
       "</table>\n",
       "</div>"
      ],
      "text/plain": [
       "          id  case_num  pn_num  feature_num  \\\n",
       "0  32770_300         3   32770          300   \n",
       "1  32772_300         3   32772          300   \n",
       "2  32773_300         3   32773          300   \n",
       "3  32779_300         3   32779          300   \n",
       "4  32780_300         3   32780          300   \n",
       "\n",
       "                            annotation   location  \n",
       "0          'Uncle with bleeding ulcer'  '540 565'  \n",
       "1          'Uncle with bleeding ulcer'  '662 687'  \n",
       "2          'uncle with bleeding ulcer'  '606 631'  \n",
       "3  'paternal uncle had bleeding ulcer'  '669 702'  \n",
       "4          'uncle with bleeding ulcer'  '919 944'  "
      ]
     },
     "execution_count": 12,
     "metadata": {},
     "output_type": "execute_result"
    }
   ],
   "source": [
    "df[\"location\"] = df[\"location\"].apply(str)\n",
    "df[\"annotation\"] = df[\"annotation\"].apply(str)\n",
    "\n",
    "df[\"annotation\"] = df.annotation.str.replace('[','')\n",
    "df[\"annotation\"] = df.annotation.str.replace(']','')\n",
    "df[\"location\"] = df.location.str.replace('[','')\n",
    "df[\"location\"] = df.location.str.replace(']','')\n",
    "\n",
    "df.head()"
   ]
  },
  {
   "cell_type": "code",
   "execution_count": 13,
   "id": "989ea612",
   "metadata": {},
   "outputs": [],
   "source": [
    "# 313, 312, 311, 310, 307, 305 "
   ]
  },
  {
   "cell_type": "code",
   "execution_count": 14,
   "id": "64ceda76",
   "metadata": {},
   "outputs": [
    {
     "data": {
      "text/plain": [
       "(50, 4)"
      ]
     },
     "execution_count": 14,
     "metadata": {},
     "output_type": "execute_result"
    }
   ],
   "source": [
    "df_305 = df[(df[\"feature_num\"] == 305)][['pn_num','annotation',\"location\",\"feature_num\"]].sample(n = 50, random_state = 100)\n",
    "df_305.shape"
   ]
  },
  {
   "cell_type": "code",
   "execution_count": 15,
   "id": "02e918f7",
   "metadata": {
    "scrolled": true
   },
   "outputs": [
    {
     "data": {
      "text/html": [
       "<div>\n",
       "<style scoped>\n",
       "    .dataframe tbody tr th:only-of-type {\n",
       "        vertical-align: middle;\n",
       "    }\n",
       "\n",
       "    .dataframe tbody tr th {\n",
       "        vertical-align: top;\n",
       "    }\n",
       "\n",
       "    .dataframe thead th {\n",
       "        text-align: right;\n",
       "    }\n",
       "</style>\n",
       "<table border=\"1\" class=\"dataframe\">\n",
       "  <thead>\n",
       "    <tr style=\"text-align: right;\">\n",
       "      <th></th>\n",
       "      <th>pn_num</th>\n",
       "      <th>annotation</th>\n",
       "      <th>location</th>\n",
       "      <th>feature_num</th>\n",
       "    </tr>\n",
       "  </thead>\n",
       "  <tbody>\n",
       "    <tr>\n",
       "      <th>0</th>\n",
       "      <td>38182</td>\n",
       "      <td>'BLOATING'</td>\n",
       "      <td>'191 199'</td>\n",
       "      <td>305</td>\n",
       "    </tr>\n",
       "    <tr>\n",
       "      <th>1</th>\n",
       "      <td>37786</td>\n",
       "      <td>'bloating'</td>\n",
       "      <td>'482 490'</td>\n",
       "      <td>305</td>\n",
       "    </tr>\n",
       "    <tr>\n",
       "      <th>2</th>\n",
       "      <td>31700</td>\n",
       "      <td>'bloating'</td>\n",
       "      <td>'338 346'</td>\n",
       "      <td>305</td>\n",
       "    </tr>\n",
       "    <tr>\n",
       "      <th>3</th>\n",
       "      <td>35729</td>\n",
       "      <td>'bloating'</td>\n",
       "      <td>'414 422'</td>\n",
       "      <td>305</td>\n",
       "    </tr>\n",
       "    <tr>\n",
       "      <th>4</th>\n",
       "      <td>35725</td>\n",
       "      <td>'bloated'</td>\n",
       "      <td>'435 442'</td>\n",
       "      <td>305</td>\n",
       "    </tr>\n",
       "    <tr>\n",
       "      <th>...</th>\n",
       "      <td>...</td>\n",
       "      <td>...</td>\n",
       "      <td>...</td>\n",
       "      <td>...</td>\n",
       "    </tr>\n",
       "    <tr>\n",
       "      <th>57</th>\n",
       "      <td>34569</td>\n",
       "      <td>'bloating'</td>\n",
       "      <td>'347 355'</td>\n",
       "      <td>305</td>\n",
       "    </tr>\n",
       "    <tr>\n",
       "      <th>58</th>\n",
       "      <td>34569</td>\n",
       "      <td>'bloating after eating'</td>\n",
       "      <td>'347 368'</td>\n",
       "      <td>305</td>\n",
       "    </tr>\n",
       "    <tr>\n",
       "      <th>59</th>\n",
       "      <td>33752</td>\n",
       "      <td>'bloating'</td>\n",
       "      <td>'315 323'</td>\n",
       "      <td>305</td>\n",
       "    </tr>\n",
       "    <tr>\n",
       "      <th>60</th>\n",
       "      <td>30040</td>\n",
       "      <td>'bloating'</td>\n",
       "      <td>'166 174'</td>\n",
       "      <td>305</td>\n",
       "    </tr>\n",
       "    <tr>\n",
       "      <th>61</th>\n",
       "      <td>34749</td>\n",
       "      <td>'bloated'</td>\n",
       "      <td>'482 489'</td>\n",
       "      <td>305</td>\n",
       "    </tr>\n",
       "  </tbody>\n",
       "</table>\n",
       "<p>62 rows × 4 columns</p>\n",
       "</div>"
      ],
      "text/plain": [
       "    pn_num                annotation    location  feature_num\n",
       "0    38182                'BLOATING'   '191 199'          305\n",
       "1    37786                'bloating'   '482 490'          305\n",
       "2    31700                'bloating'   '338 346'          305\n",
       "3    35729                'bloating'   '414 422'          305\n",
       "4    35725                 'bloated'   '435 442'          305\n",
       "..     ...                       ...         ...          ...\n",
       "57   34569                'bloating'   '347 355'          305\n",
       "58   34569   'bloating after eating'   '347 368'          305\n",
       "59   33752                'bloating'   '315 323'          305\n",
       "60   30040                'bloating'   '166 174'          305\n",
       "61   34749                 'bloated'   '482 489'          305\n",
       "\n",
       "[62 rows x 4 columns]"
      ]
     },
     "execution_count": 15,
     "metadata": {},
     "output_type": "execute_result"
    }
   ],
   "source": [
    "df_305 = (df_305.set_index(['pn_num',\"feature_num\"]) \n",
    "   .apply(lambda col: col.str.split(',').explode())\n",
    "   .reset_index()\n",
    "   .reindex(df_305.columns, axis=1))\n",
    "df_305"
   ]
  },
  {
   "cell_type": "code",
   "execution_count": 16,
   "id": "1043c527",
   "metadata": {},
   "outputs": [
    {
     "data": {
      "text/html": [
       "<div>\n",
       "<style scoped>\n",
       "    .dataframe tbody tr th:only-of-type {\n",
       "        vertical-align: middle;\n",
       "    }\n",
       "\n",
       "    .dataframe tbody tr th {\n",
       "        vertical-align: top;\n",
       "    }\n",
       "\n",
       "    .dataframe thead th {\n",
       "        text-align: right;\n",
       "    }\n",
       "</style>\n",
       "<table border=\"1\" class=\"dataframe\">\n",
       "  <thead>\n",
       "    <tr style=\"text-align: right;\">\n",
       "      <th></th>\n",
       "      <th>pn_num</th>\n",
       "      <th>annotation</th>\n",
       "      <th>location</th>\n",
       "      <th>feature_num</th>\n",
       "      <th>start_location</th>\n",
       "      <th>end_location</th>\n",
       "    </tr>\n",
       "  </thead>\n",
       "  <tbody>\n",
       "    <tr>\n",
       "      <th>0</th>\n",
       "      <td>38182</td>\n",
       "      <td>'BLOATING'</td>\n",
       "      <td>'191 199'</td>\n",
       "      <td>305</td>\n",
       "      <td>191</td>\n",
       "      <td>199</td>\n",
       "    </tr>\n",
       "    <tr>\n",
       "      <th>1</th>\n",
       "      <td>37786</td>\n",
       "      <td>'bloating'</td>\n",
       "      <td>'482 490'</td>\n",
       "      <td>305</td>\n",
       "      <td>482</td>\n",
       "      <td>490</td>\n",
       "    </tr>\n",
       "    <tr>\n",
       "      <th>2</th>\n",
       "      <td>31700</td>\n",
       "      <td>'bloating'</td>\n",
       "      <td>'338 346'</td>\n",
       "      <td>305</td>\n",
       "      <td>338</td>\n",
       "      <td>346</td>\n",
       "    </tr>\n",
       "    <tr>\n",
       "      <th>3</th>\n",
       "      <td>35729</td>\n",
       "      <td>'bloating'</td>\n",
       "      <td>'414 422'</td>\n",
       "      <td>305</td>\n",
       "      <td>414</td>\n",
       "      <td>422</td>\n",
       "    </tr>\n",
       "    <tr>\n",
       "      <th>4</th>\n",
       "      <td>35725</td>\n",
       "      <td>'bloated'</td>\n",
       "      <td>'435 442'</td>\n",
       "      <td>305</td>\n",
       "      <td>435</td>\n",
       "      <td>442</td>\n",
       "    </tr>\n",
       "    <tr>\n",
       "      <th>...</th>\n",
       "      <td>...</td>\n",
       "      <td>...</td>\n",
       "      <td>...</td>\n",
       "      <td>...</td>\n",
       "      <td>...</td>\n",
       "      <td>...</td>\n",
       "    </tr>\n",
       "    <tr>\n",
       "      <th>57</th>\n",
       "      <td>34569</td>\n",
       "      <td>'bloating'</td>\n",
       "      <td>'347 355'</td>\n",
       "      <td>305</td>\n",
       "      <td>347</td>\n",
       "      <td>355</td>\n",
       "    </tr>\n",
       "    <tr>\n",
       "      <th>58</th>\n",
       "      <td>34569</td>\n",
       "      <td>'bloating after eating'</td>\n",
       "      <td>'347 368'</td>\n",
       "      <td>305</td>\n",
       "      <td>347</td>\n",
       "      <td>368</td>\n",
       "    </tr>\n",
       "    <tr>\n",
       "      <th>59</th>\n",
       "      <td>33752</td>\n",
       "      <td>'bloating'</td>\n",
       "      <td>'315 323'</td>\n",
       "      <td>305</td>\n",
       "      <td>315</td>\n",
       "      <td>323</td>\n",
       "    </tr>\n",
       "    <tr>\n",
       "      <th>60</th>\n",
       "      <td>30040</td>\n",
       "      <td>'bloating'</td>\n",
       "      <td>'166 174'</td>\n",
       "      <td>305</td>\n",
       "      <td>166</td>\n",
       "      <td>174</td>\n",
       "    </tr>\n",
       "    <tr>\n",
       "      <th>61</th>\n",
       "      <td>34749</td>\n",
       "      <td>'bloated'</td>\n",
       "      <td>'482 489'</td>\n",
       "      <td>305</td>\n",
       "      <td>482</td>\n",
       "      <td>489</td>\n",
       "    </tr>\n",
       "  </tbody>\n",
       "</table>\n",
       "<p>62 rows × 6 columns</p>\n",
       "</div>"
      ],
      "text/plain": [
       "    pn_num                annotation    location  feature_num start_location  \\\n",
       "0    38182                'BLOATING'   '191 199'          305            191   \n",
       "1    37786                'bloating'   '482 490'          305            482   \n",
       "2    31700                'bloating'   '338 346'          305            338   \n",
       "3    35729                'bloating'   '414 422'          305            414   \n",
       "4    35725                 'bloated'   '435 442'          305            435   \n",
       "..     ...                       ...         ...          ...            ...   \n",
       "57   34569                'bloating'   '347 355'          305            347   \n",
       "58   34569   'bloating after eating'   '347 368'          305            347   \n",
       "59   33752                'bloating'   '315 323'          305            315   \n",
       "60   30040                'bloating'   '166 174'          305            166   \n",
       "61   34749                 'bloated'   '482 489'          305            482   \n",
       "\n",
       "   end_location  \n",
       "0           199  \n",
       "1           490  \n",
       "2           346  \n",
       "3           422  \n",
       "4           442  \n",
       "..          ...  \n",
       "57          355  \n",
       "58          368  \n",
       "59          323  \n",
       "60          174  \n",
       "61          489  \n",
       "\n",
       "[62 rows x 6 columns]"
      ]
     },
     "execution_count": 16,
     "metadata": {},
     "output_type": "execute_result"
    }
   ],
   "source": [
    "df_305[\"start_location\"] = df_305[\"location\"].apply(lambda x: x.split()[0][1:])\n",
    "df_305[\"end_location\"] = df_305[\"location\"].apply(lambda x: x.split()[-1][:-1])\n",
    "df_305"
   ]
  },
  {
   "cell_type": "code",
   "execution_count": 17,
   "id": "c2b114a4",
   "metadata": {},
   "outputs": [
    {
     "data": {
      "text/plain": [
       "(40, 4)"
      ]
     },
     "execution_count": 17,
     "metadata": {},
     "output_type": "execute_result"
    }
   ],
   "source": [
    "df_307 = df[(df[\"feature_num\"] == 307)][['pn_num','annotation',\"location\",\"feature_num\"]].sample(n = 40, random_state = 100)\n",
    "df_307.shape"
   ]
  },
  {
   "cell_type": "code",
   "execution_count": 18,
   "id": "db582603",
   "metadata": {},
   "outputs": [
    {
     "data": {
      "text/html": [
       "<div>\n",
       "<style scoped>\n",
       "    .dataframe tbody tr th:only-of-type {\n",
       "        vertical-align: middle;\n",
       "    }\n",
       "\n",
       "    .dataframe tbody tr th {\n",
       "        vertical-align: top;\n",
       "    }\n",
       "\n",
       "    .dataframe thead th {\n",
       "        text-align: right;\n",
       "    }\n",
       "</style>\n",
       "<table border=\"1\" class=\"dataframe\">\n",
       "  <thead>\n",
       "    <tr style=\"text-align: right;\">\n",
       "      <th></th>\n",
       "      <th>pn_num</th>\n",
       "      <th>annotation</th>\n",
       "      <th>location</th>\n",
       "      <th>feature_num</th>\n",
       "    </tr>\n",
       "  </thead>\n",
       "  <tbody>\n",
       "    <tr>\n",
       "      <th>0</th>\n",
       "      <td>34508</td>\n",
       "      <td>'2 drinks per week'</td>\n",
       "      <td>'596 613'</td>\n",
       "      <td>307</td>\n",
       "    </tr>\n",
       "    <tr>\n",
       "      <th>1</th>\n",
       "      <td>37792</td>\n",
       "      <td>'few beers a week'</td>\n",
       "      <td>'925 941'</td>\n",
       "      <td>307</td>\n",
       "    </tr>\n",
       "    <tr>\n",
       "      <th>2</th>\n",
       "      <td>32610</td>\n",
       "      <td>'1-2 beers per week'</td>\n",
       "      <td>'672 690'</td>\n",
       "      <td>307</td>\n",
       "    </tr>\n",
       "    <tr>\n",
       "      <th>3</th>\n",
       "      <td>31966</td>\n",
       "      <td>'occasional alcohol'</td>\n",
       "      <td>'607 625'</td>\n",
       "      <td>307</td>\n",
       "    </tr>\n",
       "    <tr>\n",
       "      <th>4</th>\n",
       "      <td>37446</td>\n",
       "      <td>'few beers/wk'</td>\n",
       "      <td>'741 753'</td>\n",
       "      <td>307</td>\n",
       "    </tr>\n",
       "  </tbody>\n",
       "</table>\n",
       "</div>"
      ],
      "text/plain": [
       "   pn_num            annotation   location  feature_num\n",
       "0   34508   '2 drinks per week'  '596 613'          307\n",
       "1   37792    'few beers a week'  '925 941'          307\n",
       "2   32610  '1-2 beers per week'  '672 690'          307\n",
       "3   31966  'occasional alcohol'  '607 625'          307\n",
       "4   37446        'few beers/wk'  '741 753'          307"
      ]
     },
     "execution_count": 18,
     "metadata": {},
     "output_type": "execute_result"
    }
   ],
   "source": [
    "df_307 = (df_307.set_index(['pn_num',\"feature_num\"]) \n",
    "   .apply(lambda col: col.str.split(',').explode())\n",
    "   .reset_index()\n",
    "   .reindex(df_307.columns, axis=1))\n",
    "df_307.head()"
   ]
  },
  {
   "cell_type": "code",
   "execution_count": 19,
   "id": "652355d5",
   "metadata": {},
   "outputs": [
    {
     "data": {
      "text/html": [
       "<div>\n",
       "<style scoped>\n",
       "    .dataframe tbody tr th:only-of-type {\n",
       "        vertical-align: middle;\n",
       "    }\n",
       "\n",
       "    .dataframe tbody tr th {\n",
       "        vertical-align: top;\n",
       "    }\n",
       "\n",
       "    .dataframe thead th {\n",
       "        text-align: right;\n",
       "    }\n",
       "</style>\n",
       "<table border=\"1\" class=\"dataframe\">\n",
       "  <thead>\n",
       "    <tr style=\"text-align: right;\">\n",
       "      <th></th>\n",
       "      <th>pn_num</th>\n",
       "      <th>annotation</th>\n",
       "      <th>location</th>\n",
       "      <th>feature_num</th>\n",
       "      <th>start_location</th>\n",
       "      <th>end_location</th>\n",
       "    </tr>\n",
       "  </thead>\n",
       "  <tbody>\n",
       "    <tr>\n",
       "      <th>0</th>\n",
       "      <td>34508</td>\n",
       "      <td>'2 drinks per week'</td>\n",
       "      <td>'596 613'</td>\n",
       "      <td>307</td>\n",
       "      <td>596</td>\n",
       "      <td>613</td>\n",
       "    </tr>\n",
       "    <tr>\n",
       "      <th>1</th>\n",
       "      <td>37792</td>\n",
       "      <td>'few beers a week'</td>\n",
       "      <td>'925 941'</td>\n",
       "      <td>307</td>\n",
       "      <td>925</td>\n",
       "      <td>941</td>\n",
       "    </tr>\n",
       "    <tr>\n",
       "      <th>2</th>\n",
       "      <td>32610</td>\n",
       "      <td>'1-2 beers per week'</td>\n",
       "      <td>'672 690'</td>\n",
       "      <td>307</td>\n",
       "      <td>672</td>\n",
       "      <td>690</td>\n",
       "    </tr>\n",
       "    <tr>\n",
       "      <th>3</th>\n",
       "      <td>31966</td>\n",
       "      <td>'occasional alcohol'</td>\n",
       "      <td>'607 625'</td>\n",
       "      <td>307</td>\n",
       "      <td>607</td>\n",
       "      <td>625</td>\n",
       "    </tr>\n",
       "    <tr>\n",
       "      <th>4</th>\n",
       "      <td>37446</td>\n",
       "      <td>'few beers/wk'</td>\n",
       "      <td>'741 753'</td>\n",
       "      <td>307</td>\n",
       "      <td>741</td>\n",
       "      <td>753</td>\n",
       "    </tr>\n",
       "  </tbody>\n",
       "</table>\n",
       "</div>"
      ],
      "text/plain": [
       "   pn_num            annotation   location  feature_num start_location  \\\n",
       "0   34508   '2 drinks per week'  '596 613'          307            596   \n",
       "1   37792    'few beers a week'  '925 941'          307            925   \n",
       "2   32610  '1-2 beers per week'  '672 690'          307            672   \n",
       "3   31966  'occasional alcohol'  '607 625'          307            607   \n",
       "4   37446        'few beers/wk'  '741 753'          307            741   \n",
       "\n",
       "  end_location  \n",
       "0          613  \n",
       "1          941  \n",
       "2          690  \n",
       "3          625  \n",
       "4          753  "
      ]
     },
     "execution_count": 19,
     "metadata": {},
     "output_type": "execute_result"
    }
   ],
   "source": [
    "df_307[\"start_location\"] = df_307[\"location\"].apply(lambda x: x.split()[0][1:])\n",
    "df_307[\"end_location\"] = df_307[\"location\"].apply(lambda x: x.split()[-1][:-1])\n",
    "df_307.head()"
   ]
  },
  {
   "cell_type": "code",
   "execution_count": 20,
   "id": "28806bb7",
   "metadata": {},
   "outputs": [
    {
     "data": {
      "text/plain": [
       "(70, 4)"
      ]
     },
     "execution_count": 20,
     "metadata": {},
     "output_type": "execute_result"
    }
   ],
   "source": [
    "df_310 = df[(df[\"feature_num\"] == 310)][['pn_num','annotation',\"location\",\"feature_num\"]].sample(n =70, random_state = 100)\n",
    "df_310.shape"
   ]
  },
  {
   "cell_type": "code",
   "execution_count": 21,
   "id": "ce1fa426",
   "metadata": {
    "scrolled": true
   },
   "outputs": [
    {
     "data": {
      "text/html": [
       "<div>\n",
       "<style scoped>\n",
       "    .dataframe tbody tr th:only-of-type {\n",
       "        vertical-align: middle;\n",
       "    }\n",
       "\n",
       "    .dataframe tbody tr th {\n",
       "        vertical-align: top;\n",
       "    }\n",
       "\n",
       "    .dataframe thead th {\n",
       "        text-align: right;\n",
       "    }\n",
       "</style>\n",
       "<table border=\"1\" class=\"dataframe\">\n",
       "  <thead>\n",
       "    <tr style=\"text-align: right;\">\n",
       "      <th></th>\n",
       "      <th>pn_num</th>\n",
       "      <th>annotation</th>\n",
       "      <th>location</th>\n",
       "      <th>feature_num</th>\n",
       "    </tr>\n",
       "  </thead>\n",
       "  <tbody>\n",
       "    <tr>\n",
       "      <th>0</th>\n",
       "      <td>30691</td>\n",
       "      <td>'pain wakes him up at night'</td>\n",
       "      <td>'323 349'</td>\n",
       "      <td>310</td>\n",
       "    </tr>\n",
       "    <tr>\n",
       "      <th>1</th>\n",
       "      <td>30691</td>\n",
       "      <td>'wakes him up at night'</td>\n",
       "      <td>'328 349'</td>\n",
       "      <td>310</td>\n",
       "    </tr>\n",
       "    <tr>\n",
       "      <th>2</th>\n",
       "      <td>35768</td>\n",
       "      <td>'pain wakes him up at night'</td>\n",
       "      <td>'295 321'</td>\n",
       "      <td>310</td>\n",
       "    </tr>\n",
       "    <tr>\n",
       "      <th>3</th>\n",
       "      <td>35768</td>\n",
       "      <td>'wakes him up at night'</td>\n",
       "      <td>'300 321'</td>\n",
       "      <td>310</td>\n",
       "    </tr>\n",
       "    <tr>\n",
       "      <th>4</th>\n",
       "      <td>34748</td>\n",
       "      <td>'woken him up from sleep'</td>\n",
       "      <td>'137 160'</td>\n",
       "      <td>310</td>\n",
       "    </tr>\n",
       "    <tr>\n",
       "      <th>...</th>\n",
       "      <td>...</td>\n",
       "      <td>...</td>\n",
       "      <td>...</td>\n",
       "      <td>...</td>\n",
       "    </tr>\n",
       "    <tr>\n",
       "      <th>83</th>\n",
       "      <td>37579</td>\n",
       "      <td>'pain wakes him up at night'</td>\n",
       "      <td>'255 281'</td>\n",
       "      <td>310</td>\n",
       "    </tr>\n",
       "    <tr>\n",
       "      <th>84</th>\n",
       "      <td>37579</td>\n",
       "      <td>'wakes him up at night'</td>\n",
       "      <td>'260 281'</td>\n",
       "      <td>310</td>\n",
       "    </tr>\n",
       "    <tr>\n",
       "      <th>85</th>\n",
       "      <td>39171</td>\n",
       "      <td>'wakes him up at night'</td>\n",
       "      <td>'454 475'</td>\n",
       "      <td>310</td>\n",
       "    </tr>\n",
       "    <tr>\n",
       "      <th>86</th>\n",
       "      <td>30105</td>\n",
       "      <td>'sometimes at night'</td>\n",
       "      <td>'144 162'</td>\n",
       "      <td>310</td>\n",
       "    </tr>\n",
       "    <tr>\n",
       "      <th>87</th>\n",
       "      <td>38526</td>\n",
       "      <td>'wakes him up at night'</td>\n",
       "      <td>'224 245'</td>\n",
       "      <td>310</td>\n",
       "    </tr>\n",
       "  </tbody>\n",
       "</table>\n",
       "<p>88 rows × 4 columns</p>\n",
       "</div>"
      ],
      "text/plain": [
       "    pn_num                    annotation    location  feature_num\n",
       "0    30691  'pain wakes him up at night'   '323 349'          310\n",
       "1    30691       'wakes him up at night'   '328 349'          310\n",
       "2    35768  'pain wakes him up at night'   '295 321'          310\n",
       "3    35768       'wakes him up at night'   '300 321'          310\n",
       "4    34748     'woken him up from sleep'   '137 160'          310\n",
       "..     ...                           ...         ...          ...\n",
       "83   37579  'pain wakes him up at night'   '255 281'          310\n",
       "84   37579       'wakes him up at night'   '260 281'          310\n",
       "85   39171       'wakes him up at night'   '454 475'          310\n",
       "86   30105          'sometimes at night'   '144 162'          310\n",
       "87   38526       'wakes him up at night'   '224 245'          310\n",
       "\n",
       "[88 rows x 4 columns]"
      ]
     },
     "execution_count": 21,
     "metadata": {},
     "output_type": "execute_result"
    }
   ],
   "source": [
    "df_310 = (df_310.set_index(['pn_num',\"feature_num\"]) \n",
    "   .apply(lambda col: col.str.split(',').explode())\n",
    "   .reset_index()\n",
    "   .reindex(df_310.columns, axis=1))\n",
    "df_310"
   ]
  },
  {
   "cell_type": "code",
   "execution_count": 22,
   "id": "2d426858",
   "metadata": {},
   "outputs": [
    {
     "data": {
      "text/html": [
       "<div>\n",
       "<style scoped>\n",
       "    .dataframe tbody tr th:only-of-type {\n",
       "        vertical-align: middle;\n",
       "    }\n",
       "\n",
       "    .dataframe tbody tr th {\n",
       "        vertical-align: top;\n",
       "    }\n",
       "\n",
       "    .dataframe thead th {\n",
       "        text-align: right;\n",
       "    }\n",
       "</style>\n",
       "<table border=\"1\" class=\"dataframe\">\n",
       "  <thead>\n",
       "    <tr style=\"text-align: right;\">\n",
       "      <th></th>\n",
       "      <th>pn_num</th>\n",
       "      <th>annotation</th>\n",
       "      <th>location</th>\n",
       "      <th>feature_num</th>\n",
       "      <th>start_location</th>\n",
       "      <th>end_location</th>\n",
       "    </tr>\n",
       "  </thead>\n",
       "  <tbody>\n",
       "    <tr>\n",
       "      <th>0</th>\n",
       "      <td>30691</td>\n",
       "      <td>'pain wakes him up at night'</td>\n",
       "      <td>'323 349'</td>\n",
       "      <td>310</td>\n",
       "      <td>323</td>\n",
       "      <td>349</td>\n",
       "    </tr>\n",
       "    <tr>\n",
       "      <th>1</th>\n",
       "      <td>30691</td>\n",
       "      <td>'wakes him up at night'</td>\n",
       "      <td>'328 349'</td>\n",
       "      <td>310</td>\n",
       "      <td>328</td>\n",
       "      <td>349</td>\n",
       "    </tr>\n",
       "    <tr>\n",
       "      <th>2</th>\n",
       "      <td>35768</td>\n",
       "      <td>'pain wakes him up at night'</td>\n",
       "      <td>'295 321'</td>\n",
       "      <td>310</td>\n",
       "      <td>295</td>\n",
       "      <td>321</td>\n",
       "    </tr>\n",
       "    <tr>\n",
       "      <th>3</th>\n",
       "      <td>35768</td>\n",
       "      <td>'wakes him up at night'</td>\n",
       "      <td>'300 321'</td>\n",
       "      <td>310</td>\n",
       "      <td>300</td>\n",
       "      <td>321</td>\n",
       "    </tr>\n",
       "    <tr>\n",
       "      <th>4</th>\n",
       "      <td>34748</td>\n",
       "      <td>'woken him up from sleep'</td>\n",
       "      <td>'137 160'</td>\n",
       "      <td>310</td>\n",
       "      <td>137</td>\n",
       "      <td>160</td>\n",
       "    </tr>\n",
       "  </tbody>\n",
       "</table>\n",
       "</div>"
      ],
      "text/plain": [
       "   pn_num                    annotation    location  feature_num  \\\n",
       "0   30691  'pain wakes him up at night'   '323 349'          310   \n",
       "1   30691       'wakes him up at night'   '328 349'          310   \n",
       "2   35768  'pain wakes him up at night'   '295 321'          310   \n",
       "3   35768       'wakes him up at night'   '300 321'          310   \n",
       "4   34748     'woken him up from sleep'   '137 160'          310   \n",
       "\n",
       "  start_location end_location  \n",
       "0            323          349  \n",
       "1            328          349  \n",
       "2            295          321  \n",
       "3            300          321  \n",
       "4            137          160  "
      ]
     },
     "execution_count": 22,
     "metadata": {},
     "output_type": "execute_result"
    }
   ],
   "source": [
    "df_310[\"start_location\"] = df_310[\"location\"].apply(lambda x: x.split()[0][1:])\n",
    "df_310[\"end_location\"] = df_310[\"location\"].apply(lambda x: x.split()[-1][:-1])\n",
    "df_310.head()"
   ]
  },
  {
   "cell_type": "code",
   "execution_count": 23,
   "id": "0e7c8380",
   "metadata": {},
   "outputs": [
    {
     "data": {
      "text/plain": [
       "(75, 4)"
      ]
     },
     "execution_count": 23,
     "metadata": {},
     "output_type": "execute_result"
    }
   ],
   "source": [
    "df_311 = df[(df[\"feature_num\"] == 311)][['pn_num','annotation',\"location\",\"feature_num\"]].sample(n =75, random_state = 100)\n",
    "df_311.shape"
   ]
  },
  {
   "cell_type": "code",
   "execution_count": 24,
   "id": "9c2fd68e",
   "metadata": {
    "scrolled": true
   },
   "outputs": [
    {
     "data": {
      "text/html": [
       "<div>\n",
       "<style scoped>\n",
       "    .dataframe tbody tr th:only-of-type {\n",
       "        vertical-align: middle;\n",
       "    }\n",
       "\n",
       "    .dataframe tbody tr th {\n",
       "        vertical-align: top;\n",
       "    }\n",
       "\n",
       "    .dataframe thead th {\n",
       "        text-align: right;\n",
       "    }\n",
       "</style>\n",
       "<table border=\"1\" class=\"dataframe\">\n",
       "  <thead>\n",
       "    <tr style=\"text-align: right;\">\n",
       "      <th></th>\n",
       "      <th>pn_num</th>\n",
       "      <th>annotation</th>\n",
       "      <th>location</th>\n",
       "      <th>feature_num</th>\n",
       "    </tr>\n",
       "  </thead>\n",
       "  <tbody>\n",
       "    <tr>\n",
       "      <th>0</th>\n",
       "      <td>30082</td>\n",
       "      <td>'no gross blood'</td>\n",
       "      <td>'508 522'</td>\n",
       "      <td>311</td>\n",
       "    </tr>\n",
       "    <tr>\n",
       "      <th>1</th>\n",
       "      <td>39172</td>\n",
       "      <td>'no bright red blood'</td>\n",
       "      <td>'578 597'</td>\n",
       "      <td>311</td>\n",
       "    </tr>\n",
       "    <tr>\n",
       "      <th>2</th>\n",
       "      <td>38403</td>\n",
       "      <td>'no frank blood'</td>\n",
       "      <td>'836 850'</td>\n",
       "      <td>311</td>\n",
       "    </tr>\n",
       "    <tr>\n",
       "      <th>3</th>\n",
       "      <td>34970</td>\n",
       "      <td>'no blood'</td>\n",
       "      <td>'537 545'</td>\n",
       "      <td>311</td>\n",
       "    </tr>\n",
       "    <tr>\n",
       "      <th>4</th>\n",
       "      <td>34405</td>\n",
       "      <td>'No blood in stool'</td>\n",
       "      <td>'255 272'</td>\n",
       "      <td>311</td>\n",
       "    </tr>\n",
       "    <tr>\n",
       "      <th>...</th>\n",
       "      <td>...</td>\n",
       "      <td>...</td>\n",
       "      <td>...</td>\n",
       "      <td>...</td>\n",
       "    </tr>\n",
       "    <tr>\n",
       "      <th>78</th>\n",
       "      <td>37580</td>\n",
       "      <td>'no blood'</td>\n",
       "      <td>'235 243'</td>\n",
       "      <td>311</td>\n",
       "    </tr>\n",
       "    <tr>\n",
       "      <th>79</th>\n",
       "      <td>37403</td>\n",
       "      <td>'no frank blood'</td>\n",
       "      <td>'205 219'</td>\n",
       "      <td>311</td>\n",
       "    </tr>\n",
       "    <tr>\n",
       "      <th>80</th>\n",
       "      <td>37403</td>\n",
       "      <td>'no blood'</td>\n",
       "      <td>'259 267'</td>\n",
       "      <td>311</td>\n",
       "    </tr>\n",
       "    <tr>\n",
       "      <th>81</th>\n",
       "      <td>37403</td>\n",
       "      <td>'no frank blood in stool'</td>\n",
       "      <td>'205 228'</td>\n",
       "      <td>311</td>\n",
       "    </tr>\n",
       "    <tr>\n",
       "      <th>82</th>\n",
       "      <td>36759</td>\n",
       "      <td>'No hematochezia'</td>\n",
       "      <td>'515 530'</td>\n",
       "      <td>311</td>\n",
       "    </tr>\n",
       "  </tbody>\n",
       "</table>\n",
       "<p>83 rows × 4 columns</p>\n",
       "</div>"
      ],
      "text/plain": [
       "    pn_num                  annotation    location  feature_num\n",
       "0    30082            'no gross blood'   '508 522'          311\n",
       "1    39172       'no bright red blood'   '578 597'          311\n",
       "2    38403            'no frank blood'   '836 850'          311\n",
       "3    34970                  'no blood'   '537 545'          311\n",
       "4    34405         'No blood in stool'   '255 272'          311\n",
       "..     ...                         ...         ...          ...\n",
       "78   37580                  'no blood'   '235 243'          311\n",
       "79   37403            'no frank blood'   '205 219'          311\n",
       "80   37403                  'no blood'   '259 267'          311\n",
       "81   37403   'no frank blood in stool'   '205 228'          311\n",
       "82   36759           'No hematochezia'   '515 530'          311\n",
       "\n",
       "[83 rows x 4 columns]"
      ]
     },
     "execution_count": 24,
     "metadata": {},
     "output_type": "execute_result"
    }
   ],
   "source": [
    "df_311 = (df_311.set_index(['pn_num',\"feature_num\"]) \n",
    "   .apply(lambda col: col.str.split(',').explode())\n",
    "   .reset_index()\n",
    "   .reindex(df_311.columns, axis=1))\n",
    "df_311"
   ]
  },
  {
   "cell_type": "code",
   "execution_count": 25,
   "id": "1cdc935f",
   "metadata": {},
   "outputs": [
    {
     "data": {
      "text/html": [
       "<div>\n",
       "<style scoped>\n",
       "    .dataframe tbody tr th:only-of-type {\n",
       "        vertical-align: middle;\n",
       "    }\n",
       "\n",
       "    .dataframe tbody tr th {\n",
       "        vertical-align: top;\n",
       "    }\n",
       "\n",
       "    .dataframe thead th {\n",
       "        text-align: right;\n",
       "    }\n",
       "</style>\n",
       "<table border=\"1\" class=\"dataframe\">\n",
       "  <thead>\n",
       "    <tr style=\"text-align: right;\">\n",
       "      <th></th>\n",
       "      <th>pn_num</th>\n",
       "      <th>annotation</th>\n",
       "      <th>location</th>\n",
       "      <th>feature_num</th>\n",
       "      <th>start_location</th>\n",
       "      <th>end_location</th>\n",
       "    </tr>\n",
       "  </thead>\n",
       "  <tbody>\n",
       "    <tr>\n",
       "      <th>0</th>\n",
       "      <td>30082</td>\n",
       "      <td>'no gross blood'</td>\n",
       "      <td>'508 522'</td>\n",
       "      <td>311</td>\n",
       "      <td>508</td>\n",
       "      <td>522</td>\n",
       "    </tr>\n",
       "    <tr>\n",
       "      <th>1</th>\n",
       "      <td>39172</td>\n",
       "      <td>'no bright red blood'</td>\n",
       "      <td>'578 597'</td>\n",
       "      <td>311</td>\n",
       "      <td>578</td>\n",
       "      <td>597</td>\n",
       "    </tr>\n",
       "    <tr>\n",
       "      <th>2</th>\n",
       "      <td>38403</td>\n",
       "      <td>'no frank blood'</td>\n",
       "      <td>'836 850'</td>\n",
       "      <td>311</td>\n",
       "      <td>836</td>\n",
       "      <td>850</td>\n",
       "    </tr>\n",
       "    <tr>\n",
       "      <th>3</th>\n",
       "      <td>34970</td>\n",
       "      <td>'no blood'</td>\n",
       "      <td>'537 545'</td>\n",
       "      <td>311</td>\n",
       "      <td>537</td>\n",
       "      <td>545</td>\n",
       "    </tr>\n",
       "    <tr>\n",
       "      <th>4</th>\n",
       "      <td>34405</td>\n",
       "      <td>'No blood in stool'</td>\n",
       "      <td>'255 272'</td>\n",
       "      <td>311</td>\n",
       "      <td>255</td>\n",
       "      <td>272</td>\n",
       "    </tr>\n",
       "  </tbody>\n",
       "</table>\n",
       "</div>"
      ],
      "text/plain": [
       "   pn_num             annotation   location  feature_num start_location  \\\n",
       "0   30082       'no gross blood'  '508 522'          311            508   \n",
       "1   39172  'no bright red blood'  '578 597'          311            578   \n",
       "2   38403       'no frank blood'  '836 850'          311            836   \n",
       "3   34970             'no blood'  '537 545'          311            537   \n",
       "4   34405    'No blood in stool'  '255 272'          311            255   \n",
       "\n",
       "  end_location  \n",
       "0          522  \n",
       "1          597  \n",
       "2          850  \n",
       "3          545  \n",
       "4          272  "
      ]
     },
     "execution_count": 25,
     "metadata": {},
     "output_type": "execute_result"
    }
   ],
   "source": [
    "df_311[\"start_location\"] = df_311[\"location\"].apply(lambda x: x.split()[0][1:])\n",
    "df_311[\"end_location\"] = df_311[\"location\"].apply(lambda x: x.split()[-1][:-1])\n",
    "df_311.head()"
   ]
  },
  {
   "cell_type": "code",
   "execution_count": 26,
   "id": "1c6258b5",
   "metadata": {},
   "outputs": [
    {
     "data": {
      "text/plain": [
       "(60, 4)"
      ]
     },
     "execution_count": 26,
     "metadata": {},
     "output_type": "execute_result"
    }
   ],
   "source": [
    "df_312 = df[(df[\"feature_num\"] == 312)][['pn_num','annotation',\"location\",\"feature_num\"]].sample(n =60, random_state = 100)\n",
    "df_312.shape"
   ]
  },
  {
   "cell_type": "code",
   "execution_count": 27,
   "id": "57922769",
   "metadata": {
    "scrolled": true
   },
   "outputs": [
    {
     "data": {
      "text/html": [
       "<div>\n",
       "<style scoped>\n",
       "    .dataframe tbody tr th:only-of-type {\n",
       "        vertical-align: middle;\n",
       "    }\n",
       "\n",
       "    .dataframe tbody tr th {\n",
       "        vertical-align: top;\n",
       "    }\n",
       "\n",
       "    .dataframe thead th {\n",
       "        text-align: right;\n",
       "    }\n",
       "</style>\n",
       "<table border=\"1\" class=\"dataframe\">\n",
       "  <thead>\n",
       "    <tr style=\"text-align: right;\">\n",
       "      <th></th>\n",
       "      <th>pn_num</th>\n",
       "      <th>annotation</th>\n",
       "      <th>location</th>\n",
       "      <th>feature_num</th>\n",
       "    </tr>\n",
       "  </thead>\n",
       "  <tbody>\n",
       "    <tr>\n",
       "      <th>0</th>\n",
       "      <td>34958</td>\n",
       "      <td>'intermittent'</td>\n",
       "      <td>'522 534'</td>\n",
       "      <td>312</td>\n",
       "    </tr>\n",
       "    <tr>\n",
       "      <th>1</th>\n",
       "      <td>30662</td>\n",
       "      <td>'comes and goes'</td>\n",
       "      <td>'258 272'</td>\n",
       "      <td>312</td>\n",
       "    </tr>\n",
       "    <tr>\n",
       "      <th>2</th>\n",
       "      <td>30662</td>\n",
       "      <td>'comes and go'</td>\n",
       "      <td>'258 270'</td>\n",
       "      <td>312</td>\n",
       "    </tr>\n",
       "    <tr>\n",
       "      <th>3</th>\n",
       "      <td>37368</td>\n",
       "      <td>'intermittent'</td>\n",
       "      <td>'87 99'</td>\n",
       "      <td>312</td>\n",
       "    </tr>\n",
       "    <tr>\n",
       "      <th>4</th>\n",
       "      <td>36711</td>\n",
       "      <td>'comes and goes'</td>\n",
       "      <td>'57 71'</td>\n",
       "      <td>312</td>\n",
       "    </tr>\n",
       "    <tr>\n",
       "      <th>...</th>\n",
       "      <td>...</td>\n",
       "      <td>...</td>\n",
       "      <td>...</td>\n",
       "      <td>...</td>\n",
       "    </tr>\n",
       "    <tr>\n",
       "      <th>84</th>\n",
       "      <td>38420</td>\n",
       "      <td>'comes and goes'</td>\n",
       "      <td>'270 284'</td>\n",
       "      <td>312</td>\n",
       "    </tr>\n",
       "    <tr>\n",
       "      <th>85</th>\n",
       "      <td>38420</td>\n",
       "      <td>'comes and go'</td>\n",
       "      <td>'270 282'</td>\n",
       "      <td>312</td>\n",
       "    </tr>\n",
       "    <tr>\n",
       "      <th>86</th>\n",
       "      <td>33500</td>\n",
       "      <td>'intermittent'</td>\n",
       "      <td>'28 40'</td>\n",
       "      <td>312</td>\n",
       "    </tr>\n",
       "    <tr>\n",
       "      <th>87</th>\n",
       "      <td>39220</td>\n",
       "      <td>'comes and goes'</td>\n",
       "      <td>'157 171'</td>\n",
       "      <td>312</td>\n",
       "    </tr>\n",
       "    <tr>\n",
       "      <th>88</th>\n",
       "      <td>39220</td>\n",
       "      <td>'comes and go'</td>\n",
       "      <td>'157 169'</td>\n",
       "      <td>312</td>\n",
       "    </tr>\n",
       "  </tbody>\n",
       "</table>\n",
       "<p>89 rows × 4 columns</p>\n",
       "</div>"
      ],
      "text/plain": [
       "    pn_num        annotation    location  feature_num\n",
       "0    34958    'intermittent'   '522 534'          312\n",
       "1    30662  'comes and goes'   '258 272'          312\n",
       "2    30662    'comes and go'   '258 270'          312\n",
       "3    37368    'intermittent'     '87 99'          312\n",
       "4    36711  'comes and goes'     '57 71'          312\n",
       "..     ...               ...         ...          ...\n",
       "84   38420  'comes and goes'   '270 284'          312\n",
       "85   38420    'comes and go'   '270 282'          312\n",
       "86   33500    'intermittent'     '28 40'          312\n",
       "87   39220  'comes and goes'   '157 171'          312\n",
       "88   39220    'comes and go'   '157 169'          312\n",
       "\n",
       "[89 rows x 4 columns]"
      ]
     },
     "execution_count": 27,
     "metadata": {},
     "output_type": "execute_result"
    }
   ],
   "source": [
    "df_312 = (df_312.set_index(['pn_num',\"feature_num\"]) \n",
    "   .apply(lambda col: col.str.split(',').explode())\n",
    "   .reset_index()\n",
    "   .reindex(df_312.columns, axis=1))\n",
    "df_312"
   ]
  },
  {
   "cell_type": "code",
   "execution_count": 28,
   "id": "48172055",
   "metadata": {},
   "outputs": [
    {
     "data": {
      "text/html": [
       "<div>\n",
       "<style scoped>\n",
       "    .dataframe tbody tr th:only-of-type {\n",
       "        vertical-align: middle;\n",
       "    }\n",
       "\n",
       "    .dataframe tbody tr th {\n",
       "        vertical-align: top;\n",
       "    }\n",
       "\n",
       "    .dataframe thead th {\n",
       "        text-align: right;\n",
       "    }\n",
       "</style>\n",
       "<table border=\"1\" class=\"dataframe\">\n",
       "  <thead>\n",
       "    <tr style=\"text-align: right;\">\n",
       "      <th></th>\n",
       "      <th>pn_num</th>\n",
       "      <th>annotation</th>\n",
       "      <th>location</th>\n",
       "      <th>feature_num</th>\n",
       "      <th>start_location</th>\n",
       "      <th>end_location</th>\n",
       "    </tr>\n",
       "  </thead>\n",
       "  <tbody>\n",
       "    <tr>\n",
       "      <th>0</th>\n",
       "      <td>34958</td>\n",
       "      <td>'intermittent'</td>\n",
       "      <td>'522 534'</td>\n",
       "      <td>312</td>\n",
       "      <td>522</td>\n",
       "      <td>534</td>\n",
       "    </tr>\n",
       "    <tr>\n",
       "      <th>1</th>\n",
       "      <td>30662</td>\n",
       "      <td>'comes and goes'</td>\n",
       "      <td>'258 272'</td>\n",
       "      <td>312</td>\n",
       "      <td>258</td>\n",
       "      <td>272</td>\n",
       "    </tr>\n",
       "    <tr>\n",
       "      <th>2</th>\n",
       "      <td>30662</td>\n",
       "      <td>'comes and go'</td>\n",
       "      <td>'258 270'</td>\n",
       "      <td>312</td>\n",
       "      <td>258</td>\n",
       "      <td>270</td>\n",
       "    </tr>\n",
       "    <tr>\n",
       "      <th>3</th>\n",
       "      <td>37368</td>\n",
       "      <td>'intermittent'</td>\n",
       "      <td>'87 99'</td>\n",
       "      <td>312</td>\n",
       "      <td>87</td>\n",
       "      <td>99</td>\n",
       "    </tr>\n",
       "    <tr>\n",
       "      <th>4</th>\n",
       "      <td>36711</td>\n",
       "      <td>'comes and goes'</td>\n",
       "      <td>'57 71'</td>\n",
       "      <td>312</td>\n",
       "      <td>57</td>\n",
       "      <td>71</td>\n",
       "    </tr>\n",
       "  </tbody>\n",
       "</table>\n",
       "</div>"
      ],
      "text/plain": [
       "   pn_num        annotation    location  feature_num start_location  \\\n",
       "0   34958    'intermittent'   '522 534'          312            522   \n",
       "1   30662  'comes and goes'   '258 272'          312            258   \n",
       "2   30662    'comes and go'   '258 270'          312            258   \n",
       "3   37368    'intermittent'     '87 99'          312             87   \n",
       "4   36711  'comes and goes'     '57 71'          312             57   \n",
       "\n",
       "  end_location  \n",
       "0          534  \n",
       "1          272  \n",
       "2          270  \n",
       "3           99  \n",
       "4           71  "
      ]
     },
     "execution_count": 28,
     "metadata": {},
     "output_type": "execute_result"
    }
   ],
   "source": [
    "df_312[\"start_location\"] = df_312[\"location\"].apply(lambda x: x.split()[0][1:])\n",
    "df_312[\"end_location\"] = df_312[\"location\"].apply(lambda x: x.split()[-1][:-1])\n",
    "df_312.head()"
   ]
  },
  {
   "cell_type": "code",
   "execution_count": 29,
   "id": "69498b0a",
   "metadata": {},
   "outputs": [
    {
     "data": {
      "text/plain": [
       "(40, 4)"
      ]
     },
     "execution_count": 29,
     "metadata": {},
     "output_type": "execute_result"
    }
   ],
   "source": [
    "df_313 = df[(df[\"feature_num\"] == 313)][['pn_num','annotation',\"location\",\"feature_num\"]].sample(n =40, random_state = 100)\n",
    "df_313.shape"
   ]
  },
  {
   "cell_type": "code",
   "execution_count": 30,
   "id": "6ab95480",
   "metadata": {},
   "outputs": [
    {
     "data": {
      "text/html": [
       "<div>\n",
       "<style scoped>\n",
       "    .dataframe tbody tr th:only-of-type {\n",
       "        vertical-align: middle;\n",
       "    }\n",
       "\n",
       "    .dataframe tbody tr th {\n",
       "        vertical-align: top;\n",
       "    }\n",
       "\n",
       "    .dataframe thead th {\n",
       "        text-align: right;\n",
       "    }\n",
       "</style>\n",
       "<table border=\"1\" class=\"dataframe\">\n",
       "  <thead>\n",
       "    <tr style=\"text-align: right;\">\n",
       "      <th></th>\n",
       "      <th>pn_num</th>\n",
       "      <th>annotation</th>\n",
       "      <th>location</th>\n",
       "      <th>feature_num</th>\n",
       "    </tr>\n",
       "  </thead>\n",
       "  <tbody>\n",
       "    <tr>\n",
       "      <th>0</th>\n",
       "      <td>31440</td>\n",
       "      <td>'Tums helped at first'</td>\n",
       "      <td>'367 387'</td>\n",
       "      <td>313</td>\n",
       "    </tr>\n",
       "    <tr>\n",
       "      <th>1</th>\n",
       "      <td>38515</td>\n",
       "      <td>'tums no longer help'</td>\n",
       "      <td>'290 309'</td>\n",
       "      <td>313</td>\n",
       "    </tr>\n",
       "    <tr>\n",
       "      <th>2</th>\n",
       "      <td>32621</td>\n",
       "      <td>'tums used to help'</td>\n",
       "      <td>'337 354'</td>\n",
       "      <td>313</td>\n",
       "    </tr>\n",
       "    <tr>\n",
       "      <th>3</th>\n",
       "      <td>36293</td>\n",
       "      <td>'tums used to help'</td>\n",
       "      <td>'136 153'</td>\n",
       "      <td>313</td>\n",
       "    </tr>\n",
       "    <tr>\n",
       "      <th>4</th>\n",
       "      <td>33287</td>\n",
       "      <td>'Tums initially helped'</td>\n",
       "      <td>'156 177'</td>\n",
       "      <td>313</td>\n",
       "    </tr>\n",
       "  </tbody>\n",
       "</table>\n",
       "</div>"
      ],
      "text/plain": [
       "   pn_num               annotation   location  feature_num\n",
       "0   31440   'Tums helped at first'  '367 387'          313\n",
       "1   38515    'tums no longer help'  '290 309'          313\n",
       "2   32621      'tums used to help'  '337 354'          313\n",
       "3   36293      'tums used to help'  '136 153'          313\n",
       "4   33287  'Tums initially helped'  '156 177'          313"
      ]
     },
     "execution_count": 30,
     "metadata": {},
     "output_type": "execute_result"
    }
   ],
   "source": [
    "df_313 = (df_313.set_index(['pn_num',\"feature_num\"]) \n",
    "   .apply(lambda col: col.str.split(',').explode())\n",
    "   .reset_index()\n",
    "   .reindex(df_313.columns, axis=1))\n",
    "df_313.head()"
   ]
  },
  {
   "cell_type": "code",
   "execution_count": 31,
   "id": "836a3355",
   "metadata": {},
   "outputs": [
    {
     "data": {
      "text/html": [
       "<div>\n",
       "<style scoped>\n",
       "    .dataframe tbody tr th:only-of-type {\n",
       "        vertical-align: middle;\n",
       "    }\n",
       "\n",
       "    .dataframe tbody tr th {\n",
       "        vertical-align: top;\n",
       "    }\n",
       "\n",
       "    .dataframe thead th {\n",
       "        text-align: right;\n",
       "    }\n",
       "</style>\n",
       "<table border=\"1\" class=\"dataframe\">\n",
       "  <thead>\n",
       "    <tr style=\"text-align: right;\">\n",
       "      <th></th>\n",
       "      <th>pn_num</th>\n",
       "      <th>annotation</th>\n",
       "      <th>location</th>\n",
       "      <th>feature_num</th>\n",
       "      <th>start_location</th>\n",
       "      <th>end_location</th>\n",
       "    </tr>\n",
       "  </thead>\n",
       "  <tbody>\n",
       "    <tr>\n",
       "      <th>0</th>\n",
       "      <td>31440</td>\n",
       "      <td>'Tums helped at first'</td>\n",
       "      <td>'367 387'</td>\n",
       "      <td>313</td>\n",
       "      <td>367</td>\n",
       "      <td>387</td>\n",
       "    </tr>\n",
       "    <tr>\n",
       "      <th>1</th>\n",
       "      <td>38515</td>\n",
       "      <td>'tums no longer help'</td>\n",
       "      <td>'290 309'</td>\n",
       "      <td>313</td>\n",
       "      <td>290</td>\n",
       "      <td>309</td>\n",
       "    </tr>\n",
       "    <tr>\n",
       "      <th>2</th>\n",
       "      <td>32621</td>\n",
       "      <td>'tums used to help'</td>\n",
       "      <td>'337 354'</td>\n",
       "      <td>313</td>\n",
       "      <td>337</td>\n",
       "      <td>354</td>\n",
       "    </tr>\n",
       "    <tr>\n",
       "      <th>3</th>\n",
       "      <td>36293</td>\n",
       "      <td>'tums used to help'</td>\n",
       "      <td>'136 153'</td>\n",
       "      <td>313</td>\n",
       "      <td>136</td>\n",
       "      <td>153</td>\n",
       "    </tr>\n",
       "    <tr>\n",
       "      <th>4</th>\n",
       "      <td>33287</td>\n",
       "      <td>'Tums initially helped'</td>\n",
       "      <td>'156 177'</td>\n",
       "      <td>313</td>\n",
       "      <td>156</td>\n",
       "      <td>177</td>\n",
       "    </tr>\n",
       "  </tbody>\n",
       "</table>\n",
       "</div>"
      ],
      "text/plain": [
       "   pn_num               annotation   location  feature_num start_location  \\\n",
       "0   31440   'Tums helped at first'  '367 387'          313            367   \n",
       "1   38515    'tums no longer help'  '290 309'          313            290   \n",
       "2   32621      'tums used to help'  '337 354'          313            337   \n",
       "3   36293      'tums used to help'  '136 153'          313            136   \n",
       "4   33287  'Tums initially helped'  '156 177'          313            156   \n",
       "\n",
       "  end_location  \n",
       "0          387  \n",
       "1          309  \n",
       "2          354  \n",
       "3          153  \n",
       "4          177  "
      ]
     },
     "execution_count": 31,
     "metadata": {},
     "output_type": "execute_result"
    }
   ],
   "source": [
    "df_313[\"start_location\"] = df_313[\"location\"].apply(lambda x: x.split()[0][1:])\n",
    "df_313[\"end_location\"] = df_313[\"location\"].apply(lambda x: x.split()[-1][:-1])\n",
    "df_313.head()"
   ]
  },
  {
   "cell_type": "code",
   "execution_count": null,
   "id": "f4bdaa13",
   "metadata": {},
   "outputs": [],
   "source": []
  },
  {
   "cell_type": "markdown",
   "id": "cce320b9",
   "metadata": {},
   "source": [
    "### CASE - 3 Train Data"
   ]
  },
  {
   "cell_type": "code",
   "execution_count": 32,
   "id": "3010630d",
   "metadata": {},
   "outputs": [],
   "source": [
    "case_3_train = case_3_train[['pn_num','annotation',\"location\",\"feature_num\"]]"
   ]
  },
  {
   "cell_type": "code",
   "execution_count": 33,
   "id": "91386c3c",
   "metadata": {},
   "outputs": [],
   "source": [
    "case_3_train.loc[4384 ,\"annotation\"] = \"['gnawing burning']\" \n",
    "case_3_train.loc[4752 ,\"annotation\"] = \"['gnawing burning']\" \n",
    "case_3_train.loc[4832  ,\"annotation\"] = \"['burning gnawing']\" \n",
    "case_3_train.loc[5040   ,\"annotation\"] = \"['nagging burning']\" \n",
    "case_3_train.loc[5168   ,\"annotation\"] = \"['burning knawing']\" \n",
    "case_3_train.loc[5200   ,\"annotation\"] = \"['buring gnawing']\" \n",
    "case_3_train.loc[5296   ,\"annotation\"] = \"['burning gnawing']\" \n",
    "case_3_train.loc[5472  ,\"annotation\"] = \"['burning nawing']\" \n",
    "case_3_train.loc[5808    ,\"annotation\"] = \"['burning gnawing']\" \n",
    "case_3_train.loc[5888    ,\"annotation\"] = \"['gnawing and burning']\"\n",
    "case_3_train.loc[4338,\"annotation\"] = 'initially had 1 episode of this pain per week but now it occurs twice per day'\n",
    "case_3_train.loc[4386,\"annotation\"] = \"['worsening', 'Had it once a week  but not 2-3 times a week']\"\n",
    "case_3_train.loc[5193 ,\"annotation\"] = 'TUMS  which initially helped'\n",
    "case_3_train.loc[4809 ,\"annotation\"] = 'used to be relieved w/ Tums  now it does not'\n",
    "case_3_train.loc[4473 ,\"annotation\"] = 'Toms helped relieve pain at beginning  but no longer helps'\n",
    "case_3_train.loc[4489  ,\"annotation\"] = 'alleviated with Tums at first  but nor anymore'\n",
    "case_3_train.loc[4777   ,\"annotation\"] = 'Tums used to alleviate the pain  but not anymore'\n",
    "case_3_train.loc[4793   ,\"annotation\"] = 'tums  now less effective'\n",
    "case_3_train.loc[5289   ,\"annotation\"] = 'tums used to alleivate the pain  no longer does'\n",
    "case_3_train.loc[5337   ,\"annotation\"] = 'tried tums which helps relieve the pain  but recently it has not worked'\n",
    "case_3_train.loc[5369    ,\"annotation\"] = 'TUMS  but no longer effective'\n",
    "case_3_train.loc[5401     ,\"annotation\"] = 'Tums used to make it better  but no longer works'\n",
    "case_3_train.loc[5481     ,\"annotation\"] = 'tums for relief  but now they dont help much'\n",
    "case_3_train.loc[5721     ,\"annotation\"] = 'PARTIALLY ALLEV BY ANTACIDS  NOT ANYLONGER'\n",
    "case_3_train.loc[5865     ,\"annotation\"] = 'TUMS help for a little while  but has stopped'\n",
    "case_3_train.loc[5881     ,\"annotation\"] = 'Previously had relief with TUMS  now pain does not go away'\n",
    "case_3_train.loc[5545  ,\"annotation\"] = \"['TUMS  which initially helped', 'TUMS not as useful']\""
   ]
  },
  {
   "cell_type": "code",
   "execution_count": 34,
   "id": "e0bb2e88",
   "metadata": {},
   "outputs": [
    {
     "data": {
      "text/html": [
       "<div>\n",
       "<style scoped>\n",
       "    .dataframe tbody tr th:only-of-type {\n",
       "        vertical-align: middle;\n",
       "    }\n",
       "\n",
       "    .dataframe tbody tr th {\n",
       "        vertical-align: top;\n",
       "    }\n",
       "\n",
       "    .dataframe thead th {\n",
       "        text-align: right;\n",
       "    }\n",
       "</style>\n",
       "<table border=\"1\" class=\"dataframe\">\n",
       "  <thead>\n",
       "    <tr style=\"text-align: right;\">\n",
       "      <th></th>\n",
       "      <th>pn_num</th>\n",
       "      <th>annotation</th>\n",
       "      <th>location</th>\n",
       "      <th>feature_num</th>\n",
       "    </tr>\n",
       "  </thead>\n",
       "  <tbody>\n",
       "    <tr>\n",
       "      <th>4300</th>\n",
       "      <td>30037</td>\n",
       "      <td>'Uncle with bleeding ulcer'</td>\n",
       "      <td>'844 869'</td>\n",
       "      <td>300</td>\n",
       "    </tr>\n",
       "    <tr>\n",
       "      <th>4301</th>\n",
       "      <td>30037</td>\n",
       "      <td>'pain is located in the epigastric region'</td>\n",
       "      <td>'124 164'</td>\n",
       "      <td>301</td>\n",
       "    </tr>\n",
       "    <tr>\n",
       "      <th>4302</th>\n",
       "      <td>30037</td>\n",
       "      <td>'stools have appeared darker'</td>\n",
       "      <td>'508 535'</td>\n",
       "      <td>302</td>\n",
       "    </tr>\n",
       "    <tr>\n",
       "      <th>4303</th>\n",
       "      <td>30037</td>\n",
       "      <td>'Motrin'</td>\n",
       "      <td>'771 777'</td>\n",
       "      <td>303</td>\n",
       "    </tr>\n",
       "    <tr>\n",
       "      <th>4304</th>\n",
       "      <td>30037</td>\n",
       "      <td>'burning/gnawing'</td>\n",
       "      <td>'206 221'</td>\n",
       "      <td>304</td>\n",
       "    </tr>\n",
       "    <tr>\n",
       "      <th>...</th>\n",
       "      <td>...</td>\n",
       "      <td>...</td>\n",
       "      <td>...</td>\n",
       "      <td>...</td>\n",
       "    </tr>\n",
       "    <tr>\n",
       "      <th>5893</th>\n",
       "      <td>39921</td>\n",
       "      <td>'began 2 months ago'</td>\n",
       "      <td>'94 112'</td>\n",
       "      <td>309</td>\n",
       "    </tr>\n",
       "    <tr>\n",
       "      <th>5894</th>\n",
       "      <td>39921</td>\n",
       "      <td>'pain waking him from sleep'</td>\n",
       "      <td>'260 286'</td>\n",
       "      <td>310</td>\n",
       "    </tr>\n",
       "    <tr>\n",
       "      <th>5897</th>\n",
       "      <td>39921</td>\n",
       "      <td>'Not alleviated by antacids anymore'</td>\n",
       "      <td>'383 417'</td>\n",
       "      <td>313</td>\n",
       "    </tr>\n",
       "    <tr>\n",
       "      <th>5898</th>\n",
       "      <td>39921</td>\n",
       "      <td>'nausea'</td>\n",
       "      <td>'251 257'</td>\n",
       "      <td>314</td>\n",
       "    </tr>\n",
       "    <tr>\n",
       "      <th>5899</th>\n",
       "      <td>39921</td>\n",
       "      <td>'35 y/o'</td>\n",
       "      <td>'4 10'</td>\n",
       "      <td>315</td>\n",
       "    </tr>\n",
       "  </tbody>\n",
       "</table>\n",
       "<p>1198 rows × 4 columns</p>\n",
       "</div>"
      ],
      "text/plain": [
       "      pn_num                                  annotation   location  \\\n",
       "4300   30037                 'Uncle with bleeding ulcer'  '844 869'   \n",
       "4301   30037  'pain is located in the epigastric region'  '124 164'   \n",
       "4302   30037               'stools have appeared darker'  '508 535'   \n",
       "4303   30037                                    'Motrin'  '771 777'   \n",
       "4304   30037                           'burning/gnawing'  '206 221'   \n",
       "...      ...                                         ...        ...   \n",
       "5893   39921                        'began 2 months ago'   '94 112'   \n",
       "5894   39921                'pain waking him from sleep'  '260 286'   \n",
       "5897   39921        'Not alleviated by antacids anymore'  '383 417'   \n",
       "5898   39921                                    'nausea'  '251 257'   \n",
       "5899   39921                                    '35 y/o'     '4 10'   \n",
       "\n",
       "      feature_num  \n",
       "4300          300  \n",
       "4301          301  \n",
       "4302          302  \n",
       "4303          303  \n",
       "4304          304  \n",
       "...           ...  \n",
       "5893          309  \n",
       "5894          310  \n",
       "5897          313  \n",
       "5898          314  \n",
       "5899          315  \n",
       "\n",
       "[1198 rows x 4 columns]"
      ]
     },
     "execution_count": 34,
     "metadata": {},
     "output_type": "execute_result"
    }
   ],
   "source": [
    "case_3_train[\"annotation\"] = case_3_train.annotation.str.replace('[','')\n",
    "case_3_train[\"annotation\"] = case_3_train.annotation.str.replace(']','')\n",
    "case_3_train[\"location\"] = case_3_train.location.str.replace('[','')\n",
    "case_3_train[\"location\"] = case_3_train.location.str.replace(']','')\n",
    "\n",
    "case_3_train"
   ]
  },
  {
   "cell_type": "code",
   "execution_count": 35,
   "id": "3229e9f8",
   "metadata": {},
   "outputs": [
    {
     "data": {
      "text/html": [
       "<div>\n",
       "<style scoped>\n",
       "    .dataframe tbody tr th:only-of-type {\n",
       "        vertical-align: middle;\n",
       "    }\n",
       "\n",
       "    .dataframe tbody tr th {\n",
       "        vertical-align: top;\n",
       "    }\n",
       "\n",
       "    .dataframe thead th {\n",
       "        text-align: right;\n",
       "    }\n",
       "</style>\n",
       "<table border=\"1\" class=\"dataframe\">\n",
       "  <thead>\n",
       "    <tr style=\"text-align: right;\">\n",
       "      <th></th>\n",
       "      <th>pn_num</th>\n",
       "      <th>annotation</th>\n",
       "      <th>location</th>\n",
       "      <th>feature_num</th>\n",
       "    </tr>\n",
       "  </thead>\n",
       "  <tbody>\n",
       "    <tr>\n",
       "      <th>0</th>\n",
       "      <td>30037</td>\n",
       "      <td>'Uncle with bleeding ulcer'</td>\n",
       "      <td>'844 869'</td>\n",
       "      <td>300</td>\n",
       "    </tr>\n",
       "    <tr>\n",
       "      <th>1</th>\n",
       "      <td>30037</td>\n",
       "      <td>'pain is located in the epigastric region'</td>\n",
       "      <td>'124 164'</td>\n",
       "      <td>301</td>\n",
       "    </tr>\n",
       "    <tr>\n",
       "      <th>2</th>\n",
       "      <td>30037</td>\n",
       "      <td>'stools have appeared darker'</td>\n",
       "      <td>'508 535'</td>\n",
       "      <td>302</td>\n",
       "    </tr>\n",
       "    <tr>\n",
       "      <th>3</th>\n",
       "      <td>30037</td>\n",
       "      <td>'Motrin'</td>\n",
       "      <td>'771 777'</td>\n",
       "      <td>303</td>\n",
       "    </tr>\n",
       "    <tr>\n",
       "      <th>4</th>\n",
       "      <td>30037</td>\n",
       "      <td>'burning/gnawing'</td>\n",
       "      <td>'206 221'</td>\n",
       "      <td>304</td>\n",
       "    </tr>\n",
       "    <tr>\n",
       "      <th>...</th>\n",
       "      <td>...</td>\n",
       "      <td>...</td>\n",
       "      <td>...</td>\n",
       "      <td>...</td>\n",
       "    </tr>\n",
       "    <tr>\n",
       "      <th>1318</th>\n",
       "      <td>39921</td>\n",
       "      <td>'began 2 months ago'</td>\n",
       "      <td>'94 112'</td>\n",
       "      <td>309</td>\n",
       "    </tr>\n",
       "    <tr>\n",
       "      <th>1319</th>\n",
       "      <td>39921</td>\n",
       "      <td>'pain waking him from sleep'</td>\n",
       "      <td>'260 286'</td>\n",
       "      <td>310</td>\n",
       "    </tr>\n",
       "    <tr>\n",
       "      <th>1320</th>\n",
       "      <td>39921</td>\n",
       "      <td>'Not alleviated by antacids anymore'</td>\n",
       "      <td>'383 417'</td>\n",
       "      <td>313</td>\n",
       "    </tr>\n",
       "    <tr>\n",
       "      <th>1321</th>\n",
       "      <td>39921</td>\n",
       "      <td>'nausea'</td>\n",
       "      <td>'251 257'</td>\n",
       "      <td>314</td>\n",
       "    </tr>\n",
       "    <tr>\n",
       "      <th>1322</th>\n",
       "      <td>39921</td>\n",
       "      <td>'35 y/o'</td>\n",
       "      <td>'4 10'</td>\n",
       "      <td>315</td>\n",
       "    </tr>\n",
       "  </tbody>\n",
       "</table>\n",
       "<p>1323 rows × 4 columns</p>\n",
       "</div>"
      ],
      "text/plain": [
       "      pn_num                                  annotation   location  \\\n",
       "0      30037                 'Uncle with bleeding ulcer'  '844 869'   \n",
       "1      30037  'pain is located in the epigastric region'  '124 164'   \n",
       "2      30037               'stools have appeared darker'  '508 535'   \n",
       "3      30037                                    'Motrin'  '771 777'   \n",
       "4      30037                           'burning/gnawing'  '206 221'   \n",
       "...      ...                                         ...        ...   \n",
       "1318   39921                        'began 2 months ago'   '94 112'   \n",
       "1319   39921                'pain waking him from sleep'  '260 286'   \n",
       "1320   39921        'Not alleviated by antacids anymore'  '383 417'   \n",
       "1321   39921                                    'nausea'  '251 257'   \n",
       "1322   39921                                    '35 y/o'     '4 10'   \n",
       "\n",
       "      feature_num  \n",
       "0             300  \n",
       "1             301  \n",
       "2             302  \n",
       "3             303  \n",
       "4             304  \n",
       "...           ...  \n",
       "1318          309  \n",
       "1319          310  \n",
       "1320          313  \n",
       "1321          314  \n",
       "1322          315  \n",
       "\n",
       "[1323 rows x 4 columns]"
      ]
     },
     "execution_count": 35,
     "metadata": {},
     "output_type": "execute_result"
    }
   ],
   "source": [
    "case_3_train = (case_3_train.set_index(['pn_num',\"feature_num\"]) \n",
    "   .apply(lambda col: col.str.split(',').explode())\n",
    "   .reset_index()\n",
    "   .reindex(case_3_train.columns, axis=1))\n",
    "case_3_train"
   ]
  },
  {
   "cell_type": "code",
   "execution_count": 36,
   "id": "fad35533",
   "metadata": {},
   "outputs": [
    {
     "data": {
      "text/html": [
       "<div>\n",
       "<style scoped>\n",
       "    .dataframe tbody tr th:only-of-type {\n",
       "        vertical-align: middle;\n",
       "    }\n",
       "\n",
       "    .dataframe tbody tr th {\n",
       "        vertical-align: top;\n",
       "    }\n",
       "\n",
       "    .dataframe thead th {\n",
       "        text-align: right;\n",
       "    }\n",
       "</style>\n",
       "<table border=\"1\" class=\"dataframe\">\n",
       "  <thead>\n",
       "    <tr style=\"text-align: right;\">\n",
       "      <th></th>\n",
       "      <th>pn_num</th>\n",
       "      <th>annotation</th>\n",
       "      <th>location</th>\n",
       "      <th>feature_num</th>\n",
       "      <th>start_location</th>\n",
       "      <th>end_location</th>\n",
       "    </tr>\n",
       "  </thead>\n",
       "  <tbody>\n",
       "    <tr>\n",
       "      <th>0</th>\n",
       "      <td>30037</td>\n",
       "      <td>'Uncle with bleeding ulcer'</td>\n",
       "      <td>'844 869'</td>\n",
       "      <td>300</td>\n",
       "      <td>844</td>\n",
       "      <td>869</td>\n",
       "    </tr>\n",
       "    <tr>\n",
       "      <th>1</th>\n",
       "      <td>30037</td>\n",
       "      <td>'pain is located in the epigastric region'</td>\n",
       "      <td>'124 164'</td>\n",
       "      <td>301</td>\n",
       "      <td>124</td>\n",
       "      <td>164</td>\n",
       "    </tr>\n",
       "    <tr>\n",
       "      <th>2</th>\n",
       "      <td>30037</td>\n",
       "      <td>'stools have appeared darker'</td>\n",
       "      <td>'508 535'</td>\n",
       "      <td>302</td>\n",
       "      <td>508</td>\n",
       "      <td>535</td>\n",
       "    </tr>\n",
       "    <tr>\n",
       "      <th>3</th>\n",
       "      <td>30037</td>\n",
       "      <td>'Motrin'</td>\n",
       "      <td>'771 777'</td>\n",
       "      <td>303</td>\n",
       "      <td>771</td>\n",
       "      <td>777</td>\n",
       "    </tr>\n",
       "    <tr>\n",
       "      <th>4</th>\n",
       "      <td>30037</td>\n",
       "      <td>'burning/gnawing'</td>\n",
       "      <td>'206 221'</td>\n",
       "      <td>304</td>\n",
       "      <td>206</td>\n",
       "      <td>221</td>\n",
       "    </tr>\n",
       "    <tr>\n",
       "      <th>...</th>\n",
       "      <td>...</td>\n",
       "      <td>...</td>\n",
       "      <td>...</td>\n",
       "      <td>...</td>\n",
       "      <td>...</td>\n",
       "      <td>...</td>\n",
       "    </tr>\n",
       "    <tr>\n",
       "      <th>1318</th>\n",
       "      <td>39921</td>\n",
       "      <td>'began 2 months ago'</td>\n",
       "      <td>'94 112'</td>\n",
       "      <td>309</td>\n",
       "      <td>94</td>\n",
       "      <td>112</td>\n",
       "    </tr>\n",
       "    <tr>\n",
       "      <th>1319</th>\n",
       "      <td>39921</td>\n",
       "      <td>'pain waking him from sleep'</td>\n",
       "      <td>'260 286'</td>\n",
       "      <td>310</td>\n",
       "      <td>260</td>\n",
       "      <td>286</td>\n",
       "    </tr>\n",
       "    <tr>\n",
       "      <th>1320</th>\n",
       "      <td>39921</td>\n",
       "      <td>'Not alleviated by antacids anymore'</td>\n",
       "      <td>'383 417'</td>\n",
       "      <td>313</td>\n",
       "      <td>383</td>\n",
       "      <td>417</td>\n",
       "    </tr>\n",
       "    <tr>\n",
       "      <th>1321</th>\n",
       "      <td>39921</td>\n",
       "      <td>'nausea'</td>\n",
       "      <td>'251 257'</td>\n",
       "      <td>314</td>\n",
       "      <td>251</td>\n",
       "      <td>257</td>\n",
       "    </tr>\n",
       "    <tr>\n",
       "      <th>1322</th>\n",
       "      <td>39921</td>\n",
       "      <td>'35 y/o'</td>\n",
       "      <td>'4 10'</td>\n",
       "      <td>315</td>\n",
       "      <td>4</td>\n",
       "      <td>10</td>\n",
       "    </tr>\n",
       "  </tbody>\n",
       "</table>\n",
       "<p>1323 rows × 6 columns</p>\n",
       "</div>"
      ],
      "text/plain": [
       "      pn_num                                  annotation   location  \\\n",
       "0      30037                 'Uncle with bleeding ulcer'  '844 869'   \n",
       "1      30037  'pain is located in the epigastric region'  '124 164'   \n",
       "2      30037               'stools have appeared darker'  '508 535'   \n",
       "3      30037                                    'Motrin'  '771 777'   \n",
       "4      30037                           'burning/gnawing'  '206 221'   \n",
       "...      ...                                         ...        ...   \n",
       "1318   39921                        'began 2 months ago'   '94 112'   \n",
       "1319   39921                'pain waking him from sleep'  '260 286'   \n",
       "1320   39921        'Not alleviated by antacids anymore'  '383 417'   \n",
       "1321   39921                                    'nausea'  '251 257'   \n",
       "1322   39921                                    '35 y/o'     '4 10'   \n",
       "\n",
       "      feature_num start_location end_location  \n",
       "0             300            844          869  \n",
       "1             301            124          164  \n",
       "2             302            508          535  \n",
       "3             303            771          777  \n",
       "4             304            206          221  \n",
       "...           ...            ...          ...  \n",
       "1318          309             94          112  \n",
       "1319          310            260          286  \n",
       "1320          313            383          417  \n",
       "1321          314            251          257  \n",
       "1322          315              4           10  \n",
       "\n",
       "[1323 rows x 6 columns]"
      ]
     },
     "execution_count": 36,
     "metadata": {},
     "output_type": "execute_result"
    }
   ],
   "source": [
    "case_3_train[\"start_location\"] = case_3_train[\"location\"].apply(lambda x: x.split()[0][1:])\n",
    "case_3_train[\"end_location\"] = case_3_train[\"location\"].apply(lambda x: x.split()[-1][:-1])\n",
    "case_3_train"
   ]
  },
  {
   "cell_type": "code",
   "execution_count": 37,
   "id": "00622b6f",
   "metadata": {},
   "outputs": [
    {
     "data": {
      "text/plain": [
       "(1729, 6)"
      ]
     },
     "execution_count": 37,
     "metadata": {},
     "output_type": "execute_result"
    }
   ],
   "source": [
    "case_3 = pd.concat([case_3_train, df_305, df_307, df_310,df_311, df_312, df_313])\n",
    "case_3.shape"
   ]
  },
  {
   "cell_type": "code",
   "execution_count": 38,
   "id": "5e79d81a",
   "metadata": {},
   "outputs": [
    {
     "data": {
      "text/html": [
       "<div>\n",
       "<style scoped>\n",
       "    .dataframe tbody tr th:only-of-type {\n",
       "        vertical-align: middle;\n",
       "    }\n",
       "\n",
       "    .dataframe tbody tr th {\n",
       "        vertical-align: top;\n",
       "    }\n",
       "\n",
       "    .dataframe thead th {\n",
       "        text-align: right;\n",
       "    }\n",
       "</style>\n",
       "<table border=\"1\" class=\"dataframe\">\n",
       "  <thead>\n",
       "    <tr style=\"text-align: right;\">\n",
       "      <th></th>\n",
       "      <th>pn_num</th>\n",
       "      <th>annotation</th>\n",
       "      <th>location</th>\n",
       "      <th>feature_num</th>\n",
       "      <th>start_location</th>\n",
       "      <th>end_location</th>\n",
       "      <th>case_num</th>\n",
       "      <th>pn_history</th>\n",
       "    </tr>\n",
       "  </thead>\n",
       "  <tbody>\n",
       "    <tr>\n",
       "      <th>0</th>\n",
       "      <td>30037</td>\n",
       "      <td>'Uncle with bleeding ulcer'</td>\n",
       "      <td>'844 869'</td>\n",
       "      <td>300</td>\n",
       "      <td>844</td>\n",
       "      <td>869</td>\n",
       "      <td>3</td>\n",
       "      <td>CC: Stomach pain \\r\\n\\r\\nHPI: Patient is a 35 ...</td>\n",
       "    </tr>\n",
       "    <tr>\n",
       "      <th>1</th>\n",
       "      <td>30037</td>\n",
       "      <td>'pain is located in the epigastric region'</td>\n",
       "      <td>'124 164'</td>\n",
       "      <td>301</td>\n",
       "      <td>124</td>\n",
       "      <td>164</td>\n",
       "      <td>3</td>\n",
       "      <td>CC: Stomach pain \\r\\n\\r\\nHPI: Patient is a 35 ...</td>\n",
       "    </tr>\n",
       "    <tr>\n",
       "      <th>2</th>\n",
       "      <td>30037</td>\n",
       "      <td>'stools have appeared darker'</td>\n",
       "      <td>'508 535'</td>\n",
       "      <td>302</td>\n",
       "      <td>508</td>\n",
       "      <td>535</td>\n",
       "      <td>3</td>\n",
       "      <td>CC: Stomach pain \\r\\n\\r\\nHPI: Patient is a 35 ...</td>\n",
       "    </tr>\n",
       "    <tr>\n",
       "      <th>3</th>\n",
       "      <td>30037</td>\n",
       "      <td>'Motrin'</td>\n",
       "      <td>'771 777'</td>\n",
       "      <td>303</td>\n",
       "      <td>771</td>\n",
       "      <td>777</td>\n",
       "      <td>3</td>\n",
       "      <td>CC: Stomach pain \\r\\n\\r\\nHPI: Patient is a 35 ...</td>\n",
       "    </tr>\n",
       "    <tr>\n",
       "      <th>4</th>\n",
       "      <td>30037</td>\n",
       "      <td>'burning/gnawing'</td>\n",
       "      <td>'206 221'</td>\n",
       "      <td>304</td>\n",
       "      <td>206</td>\n",
       "      <td>221</td>\n",
       "      <td>3</td>\n",
       "      <td>CC: Stomach pain \\r\\n\\r\\nHPI: Patient is a 35 ...</td>\n",
       "    </tr>\n",
       "    <tr>\n",
       "      <th>...</th>\n",
       "      <td>...</td>\n",
       "      <td>...</td>\n",
       "      <td>...</td>\n",
       "      <td>...</td>\n",
       "      <td>...</td>\n",
       "      <td>...</td>\n",
       "      <td>...</td>\n",
       "      <td>...</td>\n",
       "    </tr>\n",
       "    <tr>\n",
       "      <th>1724</th>\n",
       "      <td>37965</td>\n",
       "      <td>'tums used to help'</td>\n",
       "      <td>'332 349'</td>\n",
       "      <td>313</td>\n",
       "      <td>332</td>\n",
       "      <td>349</td>\n",
       "      <td>3</td>\n",
       "      <td>patient is a 35 yo M here for abdominal pain s...</td>\n",
       "    </tr>\n",
       "    <tr>\n",
       "      <th>1725</th>\n",
       "      <td>37260</td>\n",
       "      <td>'Tums helped at first'</td>\n",
       "      <td>'151 171'</td>\n",
       "      <td>313</td>\n",
       "      <td>151</td>\n",
       "      <td>171</td>\n",
       "      <td>3</td>\n",
       "      <td>35 yo male with stomahc problems. For 2 months...</td>\n",
       "    </tr>\n",
       "    <tr>\n",
       "      <th>1726</th>\n",
       "      <td>38883</td>\n",
       "      <td>'Tums helped at first'</td>\n",
       "      <td>'205 225'</td>\n",
       "      <td>313</td>\n",
       "      <td>205</td>\n",
       "      <td>225</td>\n",
       "      <td>3</td>\n",
       "      <td>35 yo M patient complains of stomach problems....</td>\n",
       "    </tr>\n",
       "    <tr>\n",
       "      <th>1727</th>\n",
       "      <td>35290</td>\n",
       "      <td>'Tums initially helped'</td>\n",
       "      <td>'275 296'</td>\n",
       "      <td>313</td>\n",
       "      <td>275</td>\n",
       "      <td>296</td>\n",
       "      <td>3</td>\n",
       "      <td>Chad Hamilton is a 35 year old man who present...</td>\n",
       "    </tr>\n",
       "    <tr>\n",
       "      <th>1728</th>\n",
       "      <td>33162</td>\n",
       "      <td>'Tums initially helped'</td>\n",
       "      <td>'257 278'</td>\n",
       "      <td>313</td>\n",
       "      <td>257</td>\n",
       "      <td>278</td>\n",
       "      <td>3</td>\n",
       "      <td>HPI: 35 yo M presents with stomach pain 2 mont...</td>\n",
       "    </tr>\n",
       "  </tbody>\n",
       "</table>\n",
       "<p>1729 rows × 8 columns</p>\n",
       "</div>"
      ],
      "text/plain": [
       "      pn_num                                  annotation   location  \\\n",
       "0      30037                 'Uncle with bleeding ulcer'  '844 869'   \n",
       "1      30037  'pain is located in the epigastric region'  '124 164'   \n",
       "2      30037               'stools have appeared darker'  '508 535'   \n",
       "3      30037                                    'Motrin'  '771 777'   \n",
       "4      30037                           'burning/gnawing'  '206 221'   \n",
       "...      ...                                         ...        ...   \n",
       "1724   37965                         'tums used to help'  '332 349'   \n",
       "1725   37260                      'Tums helped at first'  '151 171'   \n",
       "1726   38883                      'Tums helped at first'  '205 225'   \n",
       "1727   35290                     'Tums initially helped'  '275 296'   \n",
       "1728   33162                     'Tums initially helped'  '257 278'   \n",
       "\n",
       "      feature_num start_location end_location  case_num  \\\n",
       "0             300            844          869         3   \n",
       "1             301            124          164         3   \n",
       "2             302            508          535         3   \n",
       "3             303            771          777         3   \n",
       "4             304            206          221         3   \n",
       "...           ...            ...          ...       ...   \n",
       "1724          313            332          349         3   \n",
       "1725          313            151          171         3   \n",
       "1726          313            205          225         3   \n",
       "1727          313            275          296         3   \n",
       "1728          313            257          278         3   \n",
       "\n",
       "                                             pn_history  \n",
       "0     CC: Stomach pain \\r\\n\\r\\nHPI: Patient is a 35 ...  \n",
       "1     CC: Stomach pain \\r\\n\\r\\nHPI: Patient is a 35 ...  \n",
       "2     CC: Stomach pain \\r\\n\\r\\nHPI: Patient is a 35 ...  \n",
       "3     CC: Stomach pain \\r\\n\\r\\nHPI: Patient is a 35 ...  \n",
       "4     CC: Stomach pain \\r\\n\\r\\nHPI: Patient is a 35 ...  \n",
       "...                                                 ...  \n",
       "1724  patient is a 35 yo M here for abdominal pain s...  \n",
       "1725  35 yo male with stomahc problems. For 2 months...  \n",
       "1726  35 yo M patient complains of stomach problems....  \n",
       "1727  Chad Hamilton is a 35 year old man who present...  \n",
       "1728  HPI: 35 yo M presents with stomach pain 2 mont...  \n",
       "\n",
       "[1729 rows x 8 columns]"
      ]
     },
     "execution_count": 38,
     "metadata": {},
     "output_type": "execute_result"
    }
   ],
   "source": [
    "case_3 = case_3.merge(patient_notes, on='pn_num', how='left')\n",
    "case_3"
   ]
  },
  {
   "cell_type": "code",
   "execution_count": 39,
   "id": "c8b67a4a",
   "metadata": {},
   "outputs": [
    {
     "data": {
      "text/html": [
       "<div>\n",
       "<style scoped>\n",
       "    .dataframe tbody tr th:only-of-type {\n",
       "        vertical-align: middle;\n",
       "    }\n",
       "\n",
       "    .dataframe tbody tr th {\n",
       "        vertical-align: top;\n",
       "    }\n",
       "\n",
       "    .dataframe thead th {\n",
       "        text-align: right;\n",
       "    }\n",
       "</style>\n",
       "<table border=\"1\" class=\"dataframe\">\n",
       "  <thead>\n",
       "    <tr style=\"text-align: right;\">\n",
       "      <th></th>\n",
       "      <th>pn_num</th>\n",
       "      <th>annotation</th>\n",
       "      <th>location</th>\n",
       "      <th>feature_num</th>\n",
       "      <th>start_location</th>\n",
       "      <th>end_location</th>\n",
       "      <th>case_num</th>\n",
       "      <th>pn_history</th>\n",
       "      <th>New_annotation</th>\n",
       "    </tr>\n",
       "  </thead>\n",
       "  <tbody>\n",
       "    <tr>\n",
       "      <th>0</th>\n",
       "      <td>30037</td>\n",
       "      <td>'Uncle with bleeding ulcer'</td>\n",
       "      <td>'844 869'</td>\n",
       "      <td>300</td>\n",
       "      <td>844</td>\n",
       "      <td>869</td>\n",
       "      <td>3</td>\n",
       "      <td>CC: Stomach pain \\r\\n\\r\\nHPI: Patient is a 35 ...</td>\n",
       "      <td>Uncle with bleeding ulcer</td>\n",
       "    </tr>\n",
       "    <tr>\n",
       "      <th>1</th>\n",
       "      <td>30037</td>\n",
       "      <td>'pain is located in the epigastric region'</td>\n",
       "      <td>'124 164'</td>\n",
       "      <td>301</td>\n",
       "      <td>124</td>\n",
       "      <td>164</td>\n",
       "      <td>3</td>\n",
       "      <td>CC: Stomach pain \\r\\n\\r\\nHPI: Patient is a 35 ...</td>\n",
       "      <td>pain is located in the epigastric region</td>\n",
       "    </tr>\n",
       "    <tr>\n",
       "      <th>2</th>\n",
       "      <td>30037</td>\n",
       "      <td>'stools have appeared darker'</td>\n",
       "      <td>'508 535'</td>\n",
       "      <td>302</td>\n",
       "      <td>508</td>\n",
       "      <td>535</td>\n",
       "      <td>3</td>\n",
       "      <td>CC: Stomach pain \\r\\n\\r\\nHPI: Patient is a 35 ...</td>\n",
       "      <td>stools have appeared darker</td>\n",
       "    </tr>\n",
       "    <tr>\n",
       "      <th>3</th>\n",
       "      <td>30037</td>\n",
       "      <td>'Motrin'</td>\n",
       "      <td>'771 777'</td>\n",
       "      <td>303</td>\n",
       "      <td>771</td>\n",
       "      <td>777</td>\n",
       "      <td>3</td>\n",
       "      <td>CC: Stomach pain \\r\\n\\r\\nHPI: Patient is a 35 ...</td>\n",
       "      <td>Motrin</td>\n",
       "    </tr>\n",
       "    <tr>\n",
       "      <th>4</th>\n",
       "      <td>30037</td>\n",
       "      <td>'burning/gnawing'</td>\n",
       "      <td>'206 221'</td>\n",
       "      <td>304</td>\n",
       "      <td>206</td>\n",
       "      <td>221</td>\n",
       "      <td>3</td>\n",
       "      <td>CC: Stomach pain \\r\\n\\r\\nHPI: Patient is a 35 ...</td>\n",
       "      <td>burning/gnawing</td>\n",
       "    </tr>\n",
       "  </tbody>\n",
       "</table>\n",
       "</div>"
      ],
      "text/plain": [
       "   pn_num                                  annotation   location  feature_num  \\\n",
       "0   30037                 'Uncle with bleeding ulcer'  '844 869'          300   \n",
       "1   30037  'pain is located in the epigastric region'  '124 164'          301   \n",
       "2   30037               'stools have appeared darker'  '508 535'          302   \n",
       "3   30037                                    'Motrin'  '771 777'          303   \n",
       "4   30037                           'burning/gnawing'  '206 221'          304   \n",
       "\n",
       "  start_location end_location  case_num  \\\n",
       "0            844          869         3   \n",
       "1            124          164         3   \n",
       "2            508          535         3   \n",
       "3            771          777         3   \n",
       "4            206          221         3   \n",
       "\n",
       "                                          pn_history  \\\n",
       "0  CC: Stomach pain \\r\\n\\r\\nHPI: Patient is a 35 ...   \n",
       "1  CC: Stomach pain \\r\\n\\r\\nHPI: Patient is a 35 ...   \n",
       "2  CC: Stomach pain \\r\\n\\r\\nHPI: Patient is a 35 ...   \n",
       "3  CC: Stomach pain \\r\\n\\r\\nHPI: Patient is a 35 ...   \n",
       "4  CC: Stomach pain \\r\\n\\r\\nHPI: Patient is a 35 ...   \n",
       "\n",
       "                             New_annotation  \n",
       "0                 Uncle with bleeding ulcer  \n",
       "1  pain is located in the epigastric region  \n",
       "2               stools have appeared darker  \n",
       "3                                    Motrin  \n",
       "4                           burning/gnawing  "
      ]
     },
     "execution_count": 39,
     "metadata": {},
     "output_type": "execute_result"
    }
   ],
   "source": [
    "case_3[\"New_annotation\"] = case_3.apply(lambda x: x.pn_history[int(x.start_location):int(x.end_location)],axis=1)\n",
    "case_3.head()"
   ]
  },
  {
   "cell_type": "code",
   "execution_count": 40,
   "id": "cc05c777",
   "metadata": {},
   "outputs": [
    {
     "data": {
      "text/html": [
       "<div>\n",
       "<style scoped>\n",
       "    .dataframe tbody tr th:only-of-type {\n",
       "        vertical-align: middle;\n",
       "    }\n",
       "\n",
       "    .dataframe tbody tr th {\n",
       "        vertical-align: top;\n",
       "    }\n",
       "\n",
       "    .dataframe thead th {\n",
       "        text-align: right;\n",
       "    }\n",
       "</style>\n",
       "<table border=\"1\" class=\"dataframe\">\n",
       "  <thead>\n",
       "    <tr style=\"text-align: right;\">\n",
       "      <th></th>\n",
       "      <th>pn_num</th>\n",
       "      <th>annotation</th>\n",
       "      <th>location</th>\n",
       "      <th>feature_num</th>\n",
       "      <th>start_location</th>\n",
       "      <th>end_location</th>\n",
       "      <th>case_num</th>\n",
       "      <th>pn_history</th>\n",
       "      <th>New_annotation</th>\n",
       "    </tr>\n",
       "  </thead>\n",
       "  <tbody>\n",
       "    <tr>\n",
       "      <th>0</th>\n",
       "      <td>30037</td>\n",
       "      <td>'Uncle with bleeding ulcer'</td>\n",
       "      <td>'844 869'</td>\n",
       "      <td>300</td>\n",
       "      <td>844</td>\n",
       "      <td>869</td>\n",
       "      <td>3</td>\n",
       "      <td>CC: Stomach pain \\r\\n\\r\\nHPI: Patient is a 35 ...</td>\n",
       "      <td>Uncle with bleeding ulcer</td>\n",
       "    </tr>\n",
       "    <tr>\n",
       "      <th>1</th>\n",
       "      <td>30037</td>\n",
       "      <td>'pain is located in the epigastric region'</td>\n",
       "      <td>'124 164'</td>\n",
       "      <td>301</td>\n",
       "      <td>124</td>\n",
       "      <td>164</td>\n",
       "      <td>3</td>\n",
       "      <td>CC: Stomach pain \\r\\n\\r\\nHPI: Patient is a 35 ...</td>\n",
       "      <td>pain is located in the epigastric region</td>\n",
       "    </tr>\n",
       "    <tr>\n",
       "      <th>2</th>\n",
       "      <td>30037</td>\n",
       "      <td>'stools have appeared darker'</td>\n",
       "      <td>'508 535'</td>\n",
       "      <td>302</td>\n",
       "      <td>508</td>\n",
       "      <td>535</td>\n",
       "      <td>3</td>\n",
       "      <td>CC: Stomach pain \\r\\n\\r\\nHPI: Patient is a 35 ...</td>\n",
       "      <td>stools have appeared darker</td>\n",
       "    </tr>\n",
       "    <tr>\n",
       "      <th>3</th>\n",
       "      <td>30037</td>\n",
       "      <td>'Motrin'</td>\n",
       "      <td>'771 777'</td>\n",
       "      <td>303</td>\n",
       "      <td>771</td>\n",
       "      <td>777</td>\n",
       "      <td>3</td>\n",
       "      <td>CC: Stomach pain \\r\\n\\r\\nHPI: Patient is a 35 ...</td>\n",
       "      <td>Motrin</td>\n",
       "    </tr>\n",
       "    <tr>\n",
       "      <th>4</th>\n",
       "      <td>30037</td>\n",
       "      <td>'burning/gnawing'</td>\n",
       "      <td>'206 221'</td>\n",
       "      <td>304</td>\n",
       "      <td>206</td>\n",
       "      <td>221</td>\n",
       "      <td>3</td>\n",
       "      <td>CC: Stomach pain \\r\\n\\r\\nHPI: Patient is a 35 ...</td>\n",
       "      <td>burning gnawing</td>\n",
       "    </tr>\n",
       "    <tr>\n",
       "      <th>...</th>\n",
       "      <td>...</td>\n",
       "      <td>...</td>\n",
       "      <td>...</td>\n",
       "      <td>...</td>\n",
       "      <td>...</td>\n",
       "      <td>...</td>\n",
       "      <td>...</td>\n",
       "      <td>...</td>\n",
       "      <td>...</td>\n",
       "    </tr>\n",
       "    <tr>\n",
       "      <th>1724</th>\n",
       "      <td>37965</td>\n",
       "      <td>'tums used to help'</td>\n",
       "      <td>'332 349'</td>\n",
       "      <td>313</td>\n",
       "      <td>332</td>\n",
       "      <td>349</td>\n",
       "      <td>3</td>\n",
       "      <td>patient is a 35 yo M here for abdominal pain s...</td>\n",
       "      <td>tums used to help</td>\n",
       "    </tr>\n",
       "    <tr>\n",
       "      <th>1725</th>\n",
       "      <td>37260</td>\n",
       "      <td>'Tums helped at first'</td>\n",
       "      <td>'151 171'</td>\n",
       "      <td>313</td>\n",
       "      <td>151</td>\n",
       "      <td>171</td>\n",
       "      <td>3</td>\n",
       "      <td>35 yo male with stomahc problems. For 2 months...</td>\n",
       "      <td>Tums helped at first</td>\n",
       "    </tr>\n",
       "    <tr>\n",
       "      <th>1726</th>\n",
       "      <td>38883</td>\n",
       "      <td>'Tums helped at first'</td>\n",
       "      <td>'205 225'</td>\n",
       "      <td>313</td>\n",
       "      <td>205</td>\n",
       "      <td>225</td>\n",
       "      <td>3</td>\n",
       "      <td>35 yo M patient complains of stomach problems....</td>\n",
       "      <td>Tums helped at first</td>\n",
       "    </tr>\n",
       "    <tr>\n",
       "      <th>1727</th>\n",
       "      <td>35290</td>\n",
       "      <td>'Tums initially helped'</td>\n",
       "      <td>'275 296'</td>\n",
       "      <td>313</td>\n",
       "      <td>275</td>\n",
       "      <td>296</td>\n",
       "      <td>3</td>\n",
       "      <td>Chad Hamilton is a 35 year old man who present...</td>\n",
       "      <td>Tums initially helped</td>\n",
       "    </tr>\n",
       "    <tr>\n",
       "      <th>1728</th>\n",
       "      <td>33162</td>\n",
       "      <td>'Tums initially helped'</td>\n",
       "      <td>'257 278'</td>\n",
       "      <td>313</td>\n",
       "      <td>257</td>\n",
       "      <td>278</td>\n",
       "      <td>3</td>\n",
       "      <td>HPI: 35 yo M presents with stomach pain 2 mont...</td>\n",
       "      <td>Tums initially helped</td>\n",
       "    </tr>\n",
       "  </tbody>\n",
       "</table>\n",
       "<p>1729 rows × 9 columns</p>\n",
       "</div>"
      ],
      "text/plain": [
       "      pn_num                                  annotation   location  \\\n",
       "0      30037                 'Uncle with bleeding ulcer'  '844 869'   \n",
       "1      30037  'pain is located in the epigastric region'  '124 164'   \n",
       "2      30037               'stools have appeared darker'  '508 535'   \n",
       "3      30037                                    'Motrin'  '771 777'   \n",
       "4      30037                           'burning/gnawing'  '206 221'   \n",
       "...      ...                                         ...        ...   \n",
       "1724   37965                         'tums used to help'  '332 349'   \n",
       "1725   37260                      'Tums helped at first'  '151 171'   \n",
       "1726   38883                      'Tums helped at first'  '205 225'   \n",
       "1727   35290                     'Tums initially helped'  '275 296'   \n",
       "1728   33162                     'Tums initially helped'  '257 278'   \n",
       "\n",
       "      feature_num start_location end_location  case_num  \\\n",
       "0             300            844          869         3   \n",
       "1             301            124          164         3   \n",
       "2             302            508          535         3   \n",
       "3             303            771          777         3   \n",
       "4             304            206          221         3   \n",
       "...           ...            ...          ...       ...   \n",
       "1724          313            332          349         3   \n",
       "1725          313            151          171         3   \n",
       "1726          313            205          225         3   \n",
       "1727          313            275          296         3   \n",
       "1728          313            257          278         3   \n",
       "\n",
       "                                             pn_history  \\\n",
       "0     CC: Stomach pain \\r\\n\\r\\nHPI: Patient is a 35 ...   \n",
       "1     CC: Stomach pain \\r\\n\\r\\nHPI: Patient is a 35 ...   \n",
       "2     CC: Stomach pain \\r\\n\\r\\nHPI: Patient is a 35 ...   \n",
       "3     CC: Stomach pain \\r\\n\\r\\nHPI: Patient is a 35 ...   \n",
       "4     CC: Stomach pain \\r\\n\\r\\nHPI: Patient is a 35 ...   \n",
       "...                                                 ...   \n",
       "1724  patient is a 35 yo M here for abdominal pain s...   \n",
       "1725  35 yo male with stomahc problems. For 2 months...   \n",
       "1726  35 yo M patient complains of stomach problems....   \n",
       "1727  Chad Hamilton is a 35 year old man who present...   \n",
       "1728  HPI: 35 yo M presents with stomach pain 2 mont...   \n",
       "\n",
       "                                New_annotation  \n",
       "0                    Uncle with bleeding ulcer  \n",
       "1     pain is located in the epigastric region  \n",
       "2                  stools have appeared darker  \n",
       "3                                       Motrin  \n",
       "4                              burning gnawing  \n",
       "...                                        ...  \n",
       "1724                         tums used to help  \n",
       "1725                      Tums helped at first  \n",
       "1726                      Tums helped at first  \n",
       "1727                     Tums initially helped  \n",
       "1728                     Tums initially helped  \n",
       "\n",
       "[1729 rows x 9 columns]"
      ]
     },
     "execution_count": 40,
     "metadata": {},
     "output_type": "execute_result"
    }
   ],
   "source": [
    "case_3[\"New_annotation\"] = case_3[\"New_annotation\"].apply(lambda x: re.sub(r'''[/\"+,()\\r\\n]''',' ',x))\n",
    "case_3[\"New_annotation\"] = case_3[\"New_annotation\"].apply(lambda x: re.sub(r'''[']''','',x))\n",
    "case_3[\"New_annotation\"] = case_3[\"New_annotation\"].apply(lambda x: x.strip())\n",
    "case_3"
   ]
  },
  {
   "cell_type": "code",
   "execution_count": 41,
   "id": "68a6ca27",
   "metadata": {},
   "outputs": [
    {
     "data": {
      "text/html": [
       "<div>\n",
       "<style scoped>\n",
       "    .dataframe tbody tr th:only-of-type {\n",
       "        vertical-align: middle;\n",
       "    }\n",
       "\n",
       "    .dataframe tbody tr th {\n",
       "        vertical-align: top;\n",
       "    }\n",
       "\n",
       "    .dataframe thead th {\n",
       "        text-align: right;\n",
       "    }\n",
       "</style>\n",
       "<table border=\"1\" class=\"dataframe\">\n",
       "  <thead>\n",
       "    <tr style=\"text-align: right;\">\n",
       "      <th></th>\n",
       "      <th>pn_num</th>\n",
       "      <th>annotation</th>\n",
       "      <th>location</th>\n",
       "      <th>feature_num</th>\n",
       "      <th>start_location</th>\n",
       "      <th>end_location</th>\n",
       "      <th>case_num</th>\n",
       "      <th>pn_history</th>\n",
       "      <th>New_annotation</th>\n",
       "      <th>New_pn_history</th>\n",
       "    </tr>\n",
       "  </thead>\n",
       "  <tbody>\n",
       "    <tr>\n",
       "      <th>0</th>\n",
       "      <td>30037</td>\n",
       "      <td>'Uncle with bleeding ulcer'</td>\n",
       "      <td>'844 869'</td>\n",
       "      <td>300</td>\n",
       "      <td>844</td>\n",
       "      <td>869</td>\n",
       "      <td>3</td>\n",
       "      <td>CC: Stomach pain \\r\\n\\r\\nHPI: Patient is a 35 ...</td>\n",
       "      <td>Uncle with bleeding ulcer</td>\n",
       "      <td>CC: Stomach pain     HPI: Patient is a 35 year...</td>\n",
       "    </tr>\n",
       "    <tr>\n",
       "      <th>1</th>\n",
       "      <td>30037</td>\n",
       "      <td>'pain is located in the epigastric region'</td>\n",
       "      <td>'124 164'</td>\n",
       "      <td>301</td>\n",
       "      <td>124</td>\n",
       "      <td>164</td>\n",
       "      <td>3</td>\n",
       "      <td>CC: Stomach pain \\r\\n\\r\\nHPI: Patient is a 35 ...</td>\n",
       "      <td>pain is located in the epigastric region</td>\n",
       "      <td>CC: Stomach pain     HPI: Patient is a 35 year...</td>\n",
       "    </tr>\n",
       "    <tr>\n",
       "      <th>2</th>\n",
       "      <td>30037</td>\n",
       "      <td>'stools have appeared darker'</td>\n",
       "      <td>'508 535'</td>\n",
       "      <td>302</td>\n",
       "      <td>508</td>\n",
       "      <td>535</td>\n",
       "      <td>3</td>\n",
       "      <td>CC: Stomach pain \\r\\n\\r\\nHPI: Patient is a 35 ...</td>\n",
       "      <td>stools have appeared darker</td>\n",
       "      <td>CC: Stomach pain     HPI: Patient is a 35 year...</td>\n",
       "    </tr>\n",
       "    <tr>\n",
       "      <th>3</th>\n",
       "      <td>30037</td>\n",
       "      <td>'Motrin'</td>\n",
       "      <td>'771 777'</td>\n",
       "      <td>303</td>\n",
       "      <td>771</td>\n",
       "      <td>777</td>\n",
       "      <td>3</td>\n",
       "      <td>CC: Stomach pain \\r\\n\\r\\nHPI: Patient is a 35 ...</td>\n",
       "      <td>Motrin</td>\n",
       "      <td>CC: Stomach pain     HPI: Patient is a 35 year...</td>\n",
       "    </tr>\n",
       "    <tr>\n",
       "      <th>4</th>\n",
       "      <td>30037</td>\n",
       "      <td>'burning/gnawing'</td>\n",
       "      <td>'206 221'</td>\n",
       "      <td>304</td>\n",
       "      <td>206</td>\n",
       "      <td>221</td>\n",
       "      <td>3</td>\n",
       "      <td>CC: Stomach pain \\r\\n\\r\\nHPI: Patient is a 35 ...</td>\n",
       "      <td>burning gnawing</td>\n",
       "      <td>CC: Stomach pain     HPI: Patient is a 35 year...</td>\n",
       "    </tr>\n",
       "    <tr>\n",
       "      <th>...</th>\n",
       "      <td>...</td>\n",
       "      <td>...</td>\n",
       "      <td>...</td>\n",
       "      <td>...</td>\n",
       "      <td>...</td>\n",
       "      <td>...</td>\n",
       "      <td>...</td>\n",
       "      <td>...</td>\n",
       "      <td>...</td>\n",
       "      <td>...</td>\n",
       "    </tr>\n",
       "    <tr>\n",
       "      <th>1724</th>\n",
       "      <td>37965</td>\n",
       "      <td>'tums used to help'</td>\n",
       "      <td>'332 349'</td>\n",
       "      <td>313</td>\n",
       "      <td>332</td>\n",
       "      <td>349</td>\n",
       "      <td>3</td>\n",
       "      <td>patient is a 35 yo M here for abdominal pain s...</td>\n",
       "      <td>tums used to help</td>\n",
       "      <td>patient is a 35 yo M here for abdominal pain s...</td>\n",
       "    </tr>\n",
       "    <tr>\n",
       "      <th>1725</th>\n",
       "      <td>37260</td>\n",
       "      <td>'Tums helped at first'</td>\n",
       "      <td>'151 171'</td>\n",
       "      <td>313</td>\n",
       "      <td>151</td>\n",
       "      <td>171</td>\n",
       "      <td>3</td>\n",
       "      <td>35 yo male with stomahc problems. For 2 months...</td>\n",
       "      <td>Tums helped at first</td>\n",
       "      <td>35 yo male with stomahc problems. For 2 months...</td>\n",
       "    </tr>\n",
       "    <tr>\n",
       "      <th>1726</th>\n",
       "      <td>38883</td>\n",
       "      <td>'Tums helped at first'</td>\n",
       "      <td>'205 225'</td>\n",
       "      <td>313</td>\n",
       "      <td>205</td>\n",
       "      <td>225</td>\n",
       "      <td>3</td>\n",
       "      <td>35 yo M patient complains of stomach problems....</td>\n",
       "      <td>Tums helped at first</td>\n",
       "      <td>35 yo M patient complains of stomach problems....</td>\n",
       "    </tr>\n",
       "    <tr>\n",
       "      <th>1727</th>\n",
       "      <td>35290</td>\n",
       "      <td>'Tums initially helped'</td>\n",
       "      <td>'275 296'</td>\n",
       "      <td>313</td>\n",
       "      <td>275</td>\n",
       "      <td>296</td>\n",
       "      <td>3</td>\n",
       "      <td>Chad Hamilton is a 35 year old man who present...</td>\n",
       "      <td>Tums initially helped</td>\n",
       "      <td>Chad Hamilton is a 35 year old man who present...</td>\n",
       "    </tr>\n",
       "    <tr>\n",
       "      <th>1728</th>\n",
       "      <td>33162</td>\n",
       "      <td>'Tums initially helped'</td>\n",
       "      <td>'257 278'</td>\n",
       "      <td>313</td>\n",
       "      <td>257</td>\n",
       "      <td>278</td>\n",
       "      <td>3</td>\n",
       "      <td>HPI: 35 yo M presents with stomach pain 2 mont...</td>\n",
       "      <td>Tums initially helped</td>\n",
       "      <td>HPI: 35 yo M presents with stomach pain 2 mont...</td>\n",
       "    </tr>\n",
       "  </tbody>\n",
       "</table>\n",
       "<p>1729 rows × 10 columns</p>\n",
       "</div>"
      ],
      "text/plain": [
       "      pn_num                                  annotation   location  \\\n",
       "0      30037                 'Uncle with bleeding ulcer'  '844 869'   \n",
       "1      30037  'pain is located in the epigastric region'  '124 164'   \n",
       "2      30037               'stools have appeared darker'  '508 535'   \n",
       "3      30037                                    'Motrin'  '771 777'   \n",
       "4      30037                           'burning/gnawing'  '206 221'   \n",
       "...      ...                                         ...        ...   \n",
       "1724   37965                         'tums used to help'  '332 349'   \n",
       "1725   37260                      'Tums helped at first'  '151 171'   \n",
       "1726   38883                      'Tums helped at first'  '205 225'   \n",
       "1727   35290                     'Tums initially helped'  '275 296'   \n",
       "1728   33162                     'Tums initially helped'  '257 278'   \n",
       "\n",
       "      feature_num start_location end_location  case_num  \\\n",
       "0             300            844          869         3   \n",
       "1             301            124          164         3   \n",
       "2             302            508          535         3   \n",
       "3             303            771          777         3   \n",
       "4             304            206          221         3   \n",
       "...           ...            ...          ...       ...   \n",
       "1724          313            332          349         3   \n",
       "1725          313            151          171         3   \n",
       "1726          313            205          225         3   \n",
       "1727          313            275          296         3   \n",
       "1728          313            257          278         3   \n",
       "\n",
       "                                             pn_history  \\\n",
       "0     CC: Stomach pain \\r\\n\\r\\nHPI: Patient is a 35 ...   \n",
       "1     CC: Stomach pain \\r\\n\\r\\nHPI: Patient is a 35 ...   \n",
       "2     CC: Stomach pain \\r\\n\\r\\nHPI: Patient is a 35 ...   \n",
       "3     CC: Stomach pain \\r\\n\\r\\nHPI: Patient is a 35 ...   \n",
       "4     CC: Stomach pain \\r\\n\\r\\nHPI: Patient is a 35 ...   \n",
       "...                                                 ...   \n",
       "1724  patient is a 35 yo M here for abdominal pain s...   \n",
       "1725  35 yo male with stomahc problems. For 2 months...   \n",
       "1726  35 yo M patient complains of stomach problems....   \n",
       "1727  Chad Hamilton is a 35 year old man who present...   \n",
       "1728  HPI: 35 yo M presents with stomach pain 2 mont...   \n",
       "\n",
       "                                New_annotation  \\\n",
       "0                    Uncle with bleeding ulcer   \n",
       "1     pain is located in the epigastric region   \n",
       "2                  stools have appeared darker   \n",
       "3                                       Motrin   \n",
       "4                              burning gnawing   \n",
       "...                                        ...   \n",
       "1724                         tums used to help   \n",
       "1725                      Tums helped at first   \n",
       "1726                      Tums helped at first   \n",
       "1727                     Tums initially helped   \n",
       "1728                     Tums initially helped   \n",
       "\n",
       "                                         New_pn_history  \n",
       "0     CC: Stomach pain     HPI: Patient is a 35 year...  \n",
       "1     CC: Stomach pain     HPI: Patient is a 35 year...  \n",
       "2     CC: Stomach pain     HPI: Patient is a 35 year...  \n",
       "3     CC: Stomach pain     HPI: Patient is a 35 year...  \n",
       "4     CC: Stomach pain     HPI: Patient is a 35 year...  \n",
       "...                                                 ...  \n",
       "1724  patient is a 35 yo M here for abdominal pain s...  \n",
       "1725  35 yo male with stomahc problems. For 2 months...  \n",
       "1726  35 yo M patient complains of stomach problems....  \n",
       "1727  Chad Hamilton is a 35 year old man who present...  \n",
       "1728  HPI: 35 yo M presents with stomach pain 2 mont...  \n",
       "\n",
       "[1729 rows x 10 columns]"
      ]
     },
     "execution_count": 41,
     "metadata": {},
     "output_type": "execute_result"
    }
   ],
   "source": [
    "case_3[\"New_pn_history\"] = case_3[\"pn_history\"].apply(lambda x: re.sub(r'''[/\",+()\\r\\n]''',' ',x))\n",
    "case_3[\"New_pn_history\"] = case_3[\"New_pn_history\"].apply(lambda x: re.sub(r'''[']''','',x))\n",
    "case_3"
   ]
  },
  {
   "cell_type": "code",
   "execution_count": 42,
   "id": "1ec1d264",
   "metadata": {},
   "outputs": [],
   "source": [
    "def word_lemm(sentence):\n",
    "    word_list = nltk.word_tokenize(sentence)\n",
    "    \n",
    "    lemmaztier = WordNetLemmatizer()\n",
    "    lemmatized_output = ' '.join([lemmaztier.lemmatize(w) for w in word_list])\n",
    "    return(lemmatized_output)"
   ]
  },
  {
   "cell_type": "code",
   "execution_count": 43,
   "id": "5b3986d4",
   "metadata": {},
   "outputs": [
    {
     "data": {
      "text/html": [
       "<div>\n",
       "<style scoped>\n",
       "    .dataframe tbody tr th:only-of-type {\n",
       "        vertical-align: middle;\n",
       "    }\n",
       "\n",
       "    .dataframe tbody tr th {\n",
       "        vertical-align: top;\n",
       "    }\n",
       "\n",
       "    .dataframe thead th {\n",
       "        text-align: right;\n",
       "    }\n",
       "</style>\n",
       "<table border=\"1\" class=\"dataframe\">\n",
       "  <thead>\n",
       "    <tr style=\"text-align: right;\">\n",
       "      <th></th>\n",
       "      <th>pn_num</th>\n",
       "      <th>annotation</th>\n",
       "      <th>location</th>\n",
       "      <th>feature_num</th>\n",
       "      <th>start_location</th>\n",
       "      <th>end_location</th>\n",
       "      <th>case_num</th>\n",
       "      <th>pn_history</th>\n",
       "      <th>New_annotation</th>\n",
       "      <th>New_pn_history</th>\n",
       "    </tr>\n",
       "  </thead>\n",
       "  <tbody>\n",
       "    <tr>\n",
       "      <th>0</th>\n",
       "      <td>30037</td>\n",
       "      <td>'Uncle with bleeding ulcer'</td>\n",
       "      <td>'844 869'</td>\n",
       "      <td>300</td>\n",
       "      <td>844</td>\n",
       "      <td>869</td>\n",
       "      <td>3</td>\n",
       "      <td>CC: Stomach pain \\r\\n\\r\\nHPI: Patient is a 35 ...</td>\n",
       "      <td>Uncle with bleeding ulcer</td>\n",
       "      <td>CC : Stomach pain HPI : Patient is a 35 year o...</td>\n",
       "    </tr>\n",
       "    <tr>\n",
       "      <th>1</th>\n",
       "      <td>30037</td>\n",
       "      <td>'pain is located in the epigastric region'</td>\n",
       "      <td>'124 164'</td>\n",
       "      <td>301</td>\n",
       "      <td>124</td>\n",
       "      <td>164</td>\n",
       "      <td>3</td>\n",
       "      <td>CC: Stomach pain \\r\\n\\r\\nHPI: Patient is a 35 ...</td>\n",
       "      <td>pain is located in the epigastric region</td>\n",
       "      <td>CC : Stomach pain HPI : Patient is a 35 year o...</td>\n",
       "    </tr>\n",
       "    <tr>\n",
       "      <th>2</th>\n",
       "      <td>30037</td>\n",
       "      <td>'stools have appeared darker'</td>\n",
       "      <td>'508 535'</td>\n",
       "      <td>302</td>\n",
       "      <td>508</td>\n",
       "      <td>535</td>\n",
       "      <td>3</td>\n",
       "      <td>CC: Stomach pain \\r\\n\\r\\nHPI: Patient is a 35 ...</td>\n",
       "      <td>stool have appeared darker</td>\n",
       "      <td>CC : Stomach pain HPI : Patient is a 35 year o...</td>\n",
       "    </tr>\n",
       "    <tr>\n",
       "      <th>3</th>\n",
       "      <td>30037</td>\n",
       "      <td>'Motrin'</td>\n",
       "      <td>'771 777'</td>\n",
       "      <td>303</td>\n",
       "      <td>771</td>\n",
       "      <td>777</td>\n",
       "      <td>3</td>\n",
       "      <td>CC: Stomach pain \\r\\n\\r\\nHPI: Patient is a 35 ...</td>\n",
       "      <td>Motrin</td>\n",
       "      <td>CC : Stomach pain HPI : Patient is a 35 year o...</td>\n",
       "    </tr>\n",
       "    <tr>\n",
       "      <th>4</th>\n",
       "      <td>30037</td>\n",
       "      <td>'burning/gnawing'</td>\n",
       "      <td>'206 221'</td>\n",
       "      <td>304</td>\n",
       "      <td>206</td>\n",
       "      <td>221</td>\n",
       "      <td>3</td>\n",
       "      <td>CC: Stomach pain \\r\\n\\r\\nHPI: Patient is a 35 ...</td>\n",
       "      <td>burning gnawing</td>\n",
       "      <td>CC : Stomach pain HPI : Patient is a 35 year o...</td>\n",
       "    </tr>\n",
       "  </tbody>\n",
       "</table>\n",
       "</div>"
      ],
      "text/plain": [
       "   pn_num                                  annotation   location  feature_num  \\\n",
       "0   30037                 'Uncle with bleeding ulcer'  '844 869'          300   \n",
       "1   30037  'pain is located in the epigastric region'  '124 164'          301   \n",
       "2   30037               'stools have appeared darker'  '508 535'          302   \n",
       "3   30037                                    'Motrin'  '771 777'          303   \n",
       "4   30037                           'burning/gnawing'  '206 221'          304   \n",
       "\n",
       "  start_location end_location  case_num  \\\n",
       "0            844          869         3   \n",
       "1            124          164         3   \n",
       "2            508          535         3   \n",
       "3            771          777         3   \n",
       "4            206          221         3   \n",
       "\n",
       "                                          pn_history  \\\n",
       "0  CC: Stomach pain \\r\\n\\r\\nHPI: Patient is a 35 ...   \n",
       "1  CC: Stomach pain \\r\\n\\r\\nHPI: Patient is a 35 ...   \n",
       "2  CC: Stomach pain \\r\\n\\r\\nHPI: Patient is a 35 ...   \n",
       "3  CC: Stomach pain \\r\\n\\r\\nHPI: Patient is a 35 ...   \n",
       "4  CC: Stomach pain \\r\\n\\r\\nHPI: Patient is a 35 ...   \n",
       "\n",
       "                             New_annotation  \\\n",
       "0                 Uncle with bleeding ulcer   \n",
       "1  pain is located in the epigastric region   \n",
       "2                stool have appeared darker   \n",
       "3                                    Motrin   \n",
       "4                           burning gnawing   \n",
       "\n",
       "                                      New_pn_history  \n",
       "0  CC : Stomach pain HPI : Patient is a 35 year o...  \n",
       "1  CC : Stomach pain HPI : Patient is a 35 year o...  \n",
       "2  CC : Stomach pain HPI : Patient is a 35 year o...  \n",
       "3  CC : Stomach pain HPI : Patient is a 35 year o...  \n",
       "4  CC : Stomach pain HPI : Patient is a 35 year o...  "
      ]
     },
     "execution_count": 43,
     "metadata": {},
     "output_type": "execute_result"
    }
   ],
   "source": [
    "case_3[\"New_annotation\"] = case_3[\"New_annotation\"].apply(word_lemm)\n",
    "case_3[\"New_pn_history\"] = case_3[\"New_pn_history\"].apply(word_lemm)\n",
    "case_3.head()"
   ]
  },
  {
   "cell_type": "code",
   "execution_count": 44,
   "id": "a18fcac4",
   "metadata": {},
   "outputs": [
    {
     "data": {
      "text/html": [
       "<div>\n",
       "<style scoped>\n",
       "    .dataframe tbody tr th:only-of-type {\n",
       "        vertical-align: middle;\n",
       "    }\n",
       "\n",
       "    .dataframe tbody tr th {\n",
       "        vertical-align: top;\n",
       "    }\n",
       "\n",
       "    .dataframe thead th {\n",
       "        text-align: right;\n",
       "    }\n",
       "</style>\n",
       "<table border=\"1\" class=\"dataframe\">\n",
       "  <thead>\n",
       "    <tr style=\"text-align: right;\">\n",
       "      <th></th>\n",
       "      <th>pn_num</th>\n",
       "      <th>annotation</th>\n",
       "      <th>location</th>\n",
       "      <th>feature_num</th>\n",
       "      <th>start_location</th>\n",
       "      <th>end_location</th>\n",
       "      <th>case_num</th>\n",
       "      <th>pn_history</th>\n",
       "      <th>New_annotation</th>\n",
       "      <th>New_pn_history</th>\n",
       "      <th>new_location</th>\n",
       "    </tr>\n",
       "  </thead>\n",
       "  <tbody>\n",
       "    <tr>\n",
       "      <th>0</th>\n",
       "      <td>30037</td>\n",
       "      <td>'Uncle with bleeding ulcer'</td>\n",
       "      <td>'844 869'</td>\n",
       "      <td>300</td>\n",
       "      <td>844</td>\n",
       "      <td>869</td>\n",
       "      <td>3</td>\n",
       "      <td>CC: Stomach pain \\r\\n\\r\\nHPI: Patient is a 35 ...</td>\n",
       "      <td>Uncle with bleeding ulcer</td>\n",
       "      <td>CC : Stomach pain HPI : Patient is a 35 year o...</td>\n",
       "      <td>&lt;re.Match object; span=(834, 859), match='Uncl...</td>\n",
       "    </tr>\n",
       "    <tr>\n",
       "      <th>1</th>\n",
       "      <td>30037</td>\n",
       "      <td>'pain is located in the epigastric region'</td>\n",
       "      <td>'124 164'</td>\n",
       "      <td>301</td>\n",
       "      <td>124</td>\n",
       "      <td>164</td>\n",
       "      <td>3</td>\n",
       "      <td>CC: Stomach pain \\r\\n\\r\\nHPI: Patient is a 35 ...</td>\n",
       "      <td>pain is located in the epigastric region</td>\n",
       "      <td>CC : Stomach pain HPI : Patient is a 35 year o...</td>\n",
       "      <td>&lt;re.Match object; span=(123, 163), match='pain...</td>\n",
       "    </tr>\n",
       "    <tr>\n",
       "      <th>2</th>\n",
       "      <td>30037</td>\n",
       "      <td>'stools have appeared darker'</td>\n",
       "      <td>'508 535'</td>\n",
       "      <td>302</td>\n",
       "      <td>508</td>\n",
       "      <td>535</td>\n",
       "      <td>3</td>\n",
       "      <td>CC: Stomach pain \\r\\n\\r\\nHPI: Patient is a 35 ...</td>\n",
       "      <td>stool have appeared darker</td>\n",
       "      <td>CC : Stomach pain HPI : Patient is a 35 year o...</td>\n",
       "      <td>&lt;re.Match object; span=(502, 528), match='stoo...</td>\n",
       "    </tr>\n",
       "    <tr>\n",
       "      <th>3</th>\n",
       "      <td>30037</td>\n",
       "      <td>'Motrin'</td>\n",
       "      <td>'771 777'</td>\n",
       "      <td>303</td>\n",
       "      <td>771</td>\n",
       "      <td>777</td>\n",
       "      <td>3</td>\n",
       "      <td>CC: Stomach pain \\r\\n\\r\\nHPI: Patient is a 35 ...</td>\n",
       "      <td>Motrin</td>\n",
       "      <td>CC : Stomach pain HPI : Patient is a 35 year o...</td>\n",
       "      <td>&lt;re.Match object; span=(762, 768), match='Motr...</td>\n",
       "    </tr>\n",
       "    <tr>\n",
       "      <th>4</th>\n",
       "      <td>30037</td>\n",
       "      <td>'burning/gnawing'</td>\n",
       "      <td>'206 221'</td>\n",
       "      <td>304</td>\n",
       "      <td>206</td>\n",
       "      <td>221</td>\n",
       "      <td>3</td>\n",
       "      <td>CC: Stomach pain \\r\\n\\r\\nHPI: Patient is a 35 ...</td>\n",
       "      <td>burning gnawing</td>\n",
       "      <td>CC : Stomach pain HPI : Patient is a 35 year o...</td>\n",
       "      <td>&lt;re.Match object; span=(202, 217), match='burn...</td>\n",
       "    </tr>\n",
       "    <tr>\n",
       "      <th>...</th>\n",
       "      <td>...</td>\n",
       "      <td>...</td>\n",
       "      <td>...</td>\n",
       "      <td>...</td>\n",
       "      <td>...</td>\n",
       "      <td>...</td>\n",
       "      <td>...</td>\n",
       "      <td>...</td>\n",
       "      <td>...</td>\n",
       "      <td>...</td>\n",
       "      <td>...</td>\n",
       "    </tr>\n",
       "    <tr>\n",
       "      <th>1724</th>\n",
       "      <td>37965</td>\n",
       "      <td>'tums used to help'</td>\n",
       "      <td>'332 349'</td>\n",
       "      <td>313</td>\n",
       "      <td>332</td>\n",
       "      <td>349</td>\n",
       "      <td>3</td>\n",
       "      <td>patient is a 35 yo M here for abdominal pain s...</td>\n",
       "      <td>tum used to help</td>\n",
       "      <td>patient is a 35 yo M here for abdominal pain s...</td>\n",
       "      <td>&lt;re.Match object; span=(334, 350), match='tum ...</td>\n",
       "    </tr>\n",
       "    <tr>\n",
       "      <th>1725</th>\n",
       "      <td>37260</td>\n",
       "      <td>'Tums helped at first'</td>\n",
       "      <td>'151 171'</td>\n",
       "      <td>313</td>\n",
       "      <td>151</td>\n",
       "      <td>171</td>\n",
       "      <td>3</td>\n",
       "      <td>35 yo male with stomahc problems. For 2 months...</td>\n",
       "      <td>Tums helped at first</td>\n",
       "      <td>35 yo male with stomahc problem . For 2 month ...</td>\n",
       "      <td>&lt;re.Match object; span=(149, 169), match='Tums...</td>\n",
       "    </tr>\n",
       "    <tr>\n",
       "      <th>1726</th>\n",
       "      <td>38883</td>\n",
       "      <td>'Tums helped at first'</td>\n",
       "      <td>'205 225'</td>\n",
       "      <td>313</td>\n",
       "      <td>205</td>\n",
       "      <td>225</td>\n",
       "      <td>3</td>\n",
       "      <td>35 yo M patient complains of stomach problems....</td>\n",
       "      <td>Tums helped at first</td>\n",
       "      <td>35 yo M patient complains of stomach problem ....</td>\n",
       "      <td>&lt;re.Match object; span=(199, 219), match='Tums...</td>\n",
       "    </tr>\n",
       "    <tr>\n",
       "      <th>1727</th>\n",
       "      <td>35290</td>\n",
       "      <td>'Tums initially helped'</td>\n",
       "      <td>'275 296'</td>\n",
       "      <td>313</td>\n",
       "      <td>275</td>\n",
       "      <td>296</td>\n",
       "      <td>3</td>\n",
       "      <td>Chad Hamilton is a 35 year old man who present...</td>\n",
       "      <td>Tums initially helped</td>\n",
       "      <td>Chad Hamilton is a 35 year old man who present...</td>\n",
       "      <td>&lt;re.Match object; span=(263, 284), match='Tums...</td>\n",
       "    </tr>\n",
       "    <tr>\n",
       "      <th>1728</th>\n",
       "      <td>33162</td>\n",
       "      <td>'Tums initially helped'</td>\n",
       "      <td>'257 278'</td>\n",
       "      <td>313</td>\n",
       "      <td>257</td>\n",
       "      <td>278</td>\n",
       "      <td>3</td>\n",
       "      <td>HPI: 35 yo M presents with stomach pain 2 mont...</td>\n",
       "      <td>Tums initially helped</td>\n",
       "      <td>HPI : 35 yo M present with stomach pain 2 mont...</td>\n",
       "      <td>&lt;re.Match object; span=(252, 273), match='Tums...</td>\n",
       "    </tr>\n",
       "  </tbody>\n",
       "</table>\n",
       "<p>1729 rows × 11 columns</p>\n",
       "</div>"
      ],
      "text/plain": [
       "      pn_num                                  annotation   location  \\\n",
       "0      30037                 'Uncle with bleeding ulcer'  '844 869'   \n",
       "1      30037  'pain is located in the epigastric region'  '124 164'   \n",
       "2      30037               'stools have appeared darker'  '508 535'   \n",
       "3      30037                                    'Motrin'  '771 777'   \n",
       "4      30037                           'burning/gnawing'  '206 221'   \n",
       "...      ...                                         ...        ...   \n",
       "1724   37965                         'tums used to help'  '332 349'   \n",
       "1725   37260                      'Tums helped at first'  '151 171'   \n",
       "1726   38883                      'Tums helped at first'  '205 225'   \n",
       "1727   35290                     'Tums initially helped'  '275 296'   \n",
       "1728   33162                     'Tums initially helped'  '257 278'   \n",
       "\n",
       "      feature_num start_location end_location  case_num  \\\n",
       "0             300            844          869         3   \n",
       "1             301            124          164         3   \n",
       "2             302            508          535         3   \n",
       "3             303            771          777         3   \n",
       "4             304            206          221         3   \n",
       "...           ...            ...          ...       ...   \n",
       "1724          313            332          349         3   \n",
       "1725          313            151          171         3   \n",
       "1726          313            205          225         3   \n",
       "1727          313            275          296         3   \n",
       "1728          313            257          278         3   \n",
       "\n",
       "                                             pn_history  \\\n",
       "0     CC: Stomach pain \\r\\n\\r\\nHPI: Patient is a 35 ...   \n",
       "1     CC: Stomach pain \\r\\n\\r\\nHPI: Patient is a 35 ...   \n",
       "2     CC: Stomach pain \\r\\n\\r\\nHPI: Patient is a 35 ...   \n",
       "3     CC: Stomach pain \\r\\n\\r\\nHPI: Patient is a 35 ...   \n",
       "4     CC: Stomach pain \\r\\n\\r\\nHPI: Patient is a 35 ...   \n",
       "...                                                 ...   \n",
       "1724  patient is a 35 yo M here for abdominal pain s...   \n",
       "1725  35 yo male with stomahc problems. For 2 months...   \n",
       "1726  35 yo M patient complains of stomach problems....   \n",
       "1727  Chad Hamilton is a 35 year old man who present...   \n",
       "1728  HPI: 35 yo M presents with stomach pain 2 mont...   \n",
       "\n",
       "                                New_annotation  \\\n",
       "0                    Uncle with bleeding ulcer   \n",
       "1     pain is located in the epigastric region   \n",
       "2                   stool have appeared darker   \n",
       "3                                       Motrin   \n",
       "4                              burning gnawing   \n",
       "...                                        ...   \n",
       "1724                          tum used to help   \n",
       "1725                      Tums helped at first   \n",
       "1726                      Tums helped at first   \n",
       "1727                     Tums initially helped   \n",
       "1728                     Tums initially helped   \n",
       "\n",
       "                                         New_pn_history  \\\n",
       "0     CC : Stomach pain HPI : Patient is a 35 year o...   \n",
       "1     CC : Stomach pain HPI : Patient is a 35 year o...   \n",
       "2     CC : Stomach pain HPI : Patient is a 35 year o...   \n",
       "3     CC : Stomach pain HPI : Patient is a 35 year o...   \n",
       "4     CC : Stomach pain HPI : Patient is a 35 year o...   \n",
       "...                                                 ...   \n",
       "1724  patient is a 35 yo M here for abdominal pain s...   \n",
       "1725  35 yo male with stomahc problem . For 2 month ...   \n",
       "1726  35 yo M patient complains of stomach problem ....   \n",
       "1727  Chad Hamilton is a 35 year old man who present...   \n",
       "1728  HPI : 35 yo M present with stomach pain 2 mont...   \n",
       "\n",
       "                                           new_location  \n",
       "0     <re.Match object; span=(834, 859), match='Uncl...  \n",
       "1     <re.Match object; span=(123, 163), match='pain...  \n",
       "2     <re.Match object; span=(502, 528), match='stoo...  \n",
       "3     <re.Match object; span=(762, 768), match='Motr...  \n",
       "4     <re.Match object; span=(202, 217), match='burn...  \n",
       "...                                                 ...  \n",
       "1724  <re.Match object; span=(334, 350), match='tum ...  \n",
       "1725  <re.Match object; span=(149, 169), match='Tums...  \n",
       "1726  <re.Match object; span=(199, 219), match='Tums...  \n",
       "1727  <re.Match object; span=(263, 284), match='Tums...  \n",
       "1728  <re.Match object; span=(252, 273), match='Tums...  \n",
       "\n",
       "[1729 rows x 11 columns]"
      ]
     },
     "execution_count": 44,
     "metadata": {},
     "output_type": "execute_result"
    }
   ],
   "source": [
    "case_3[\"new_location\"] = case_3.apply(lambda x :re.search(r'\\b' + x.New_annotation + r'\\b', x.New_pn_history),axis =1)\n",
    "case_3"
   ]
  },
  {
   "cell_type": "code",
   "execution_count": 45,
   "id": "d81bced0",
   "metadata": {},
   "outputs": [
    {
     "name": "stdout",
     "output_type": "stream",
     "text": [
      "[94, 102, 112, 194, 223, 277, 283, 326, 394, 400, 404, 408, 413, 417, 455, 461, 481, 516, 526, 542, 548, 722, 738, 761, 765, 901, 903, 1025, 1278, 1535, 1627, 1629, 1647, 1672, 1690, 1698, 1723]\n"
     ]
    },
    {
     "data": {
      "text/plain": [
       "(None, 37)"
      ]
     },
     "execution_count": 45,
     "metadata": {},
     "output_type": "execute_result"
    }
   ],
   "source": [
    "drop_index = []\n",
    "for  index,row in case_3.iterrows():\n",
    "    if row[\"new_location\"] == None:\n",
    "        drop_index.append(index)\n",
    "        \n",
    "print(drop_index),len(drop_index)"
   ]
  },
  {
   "cell_type": "code",
   "execution_count": 46,
   "id": "133378f4",
   "metadata": {},
   "outputs": [
    {
     "data": {
      "text/html": [
       "<div>\n",
       "<style scoped>\n",
       "    .dataframe tbody tr th:only-of-type {\n",
       "        vertical-align: middle;\n",
       "    }\n",
       "\n",
       "    .dataframe tbody tr th {\n",
       "        vertical-align: top;\n",
       "    }\n",
       "\n",
       "    .dataframe thead th {\n",
       "        text-align: right;\n",
       "    }\n",
       "</style>\n",
       "<table border=\"1\" class=\"dataframe\">\n",
       "  <thead>\n",
       "    <tr style=\"text-align: right;\">\n",
       "      <th></th>\n",
       "      <th>pn_num</th>\n",
       "      <th>annotation</th>\n",
       "      <th>location</th>\n",
       "      <th>feature_num</th>\n",
       "      <th>start_location</th>\n",
       "      <th>end_location</th>\n",
       "      <th>case_num</th>\n",
       "      <th>pn_history</th>\n",
       "      <th>New_annotation</th>\n",
       "      <th>New_pn_history</th>\n",
       "      <th>new_location</th>\n",
       "    </tr>\n",
       "  </thead>\n",
       "  <tbody>\n",
       "    <tr>\n",
       "      <th>0</th>\n",
       "      <td>30037</td>\n",
       "      <td>'Uncle with bleeding ulcer'</td>\n",
       "      <td>'844 869'</td>\n",
       "      <td>300</td>\n",
       "      <td>844</td>\n",
       "      <td>869</td>\n",
       "      <td>3</td>\n",
       "      <td>CC: Stomach pain \\r\\n\\r\\nHPI: Patient is a 35 ...</td>\n",
       "      <td>Uncle with bleeding ulcer</td>\n",
       "      <td>CC : Stomach pain HPI : Patient is a 35 year o...</td>\n",
       "      <td>&lt;re.Match object; span=(834, 859), match='Uncl...</td>\n",
       "    </tr>\n",
       "    <tr>\n",
       "      <th>1</th>\n",
       "      <td>30037</td>\n",
       "      <td>'pain is located in the epigastric region'</td>\n",
       "      <td>'124 164'</td>\n",
       "      <td>301</td>\n",
       "      <td>124</td>\n",
       "      <td>164</td>\n",
       "      <td>3</td>\n",
       "      <td>CC: Stomach pain \\r\\n\\r\\nHPI: Patient is a 35 ...</td>\n",
       "      <td>pain is located in the epigastric region</td>\n",
       "      <td>CC : Stomach pain HPI : Patient is a 35 year o...</td>\n",
       "      <td>&lt;re.Match object; span=(123, 163), match='pain...</td>\n",
       "    </tr>\n",
       "    <tr>\n",
       "      <th>2</th>\n",
       "      <td>30037</td>\n",
       "      <td>'stools have appeared darker'</td>\n",
       "      <td>'508 535'</td>\n",
       "      <td>302</td>\n",
       "      <td>508</td>\n",
       "      <td>535</td>\n",
       "      <td>3</td>\n",
       "      <td>CC: Stomach pain \\r\\n\\r\\nHPI: Patient is a 35 ...</td>\n",
       "      <td>stool have appeared darker</td>\n",
       "      <td>CC : Stomach pain HPI : Patient is a 35 year o...</td>\n",
       "      <td>&lt;re.Match object; span=(502, 528), match='stoo...</td>\n",
       "    </tr>\n",
       "    <tr>\n",
       "      <th>3</th>\n",
       "      <td>30037</td>\n",
       "      <td>'Motrin'</td>\n",
       "      <td>'771 777'</td>\n",
       "      <td>303</td>\n",
       "      <td>771</td>\n",
       "      <td>777</td>\n",
       "      <td>3</td>\n",
       "      <td>CC: Stomach pain \\r\\n\\r\\nHPI: Patient is a 35 ...</td>\n",
       "      <td>Motrin</td>\n",
       "      <td>CC : Stomach pain HPI : Patient is a 35 year o...</td>\n",
       "      <td>&lt;re.Match object; span=(762, 768), match='Motr...</td>\n",
       "    </tr>\n",
       "    <tr>\n",
       "      <th>4</th>\n",
       "      <td>30037</td>\n",
       "      <td>'burning/gnawing'</td>\n",
       "      <td>'206 221'</td>\n",
       "      <td>304</td>\n",
       "      <td>206</td>\n",
       "      <td>221</td>\n",
       "      <td>3</td>\n",
       "      <td>CC: Stomach pain \\r\\n\\r\\nHPI: Patient is a 35 ...</td>\n",
       "      <td>burning gnawing</td>\n",
       "      <td>CC : Stomach pain HPI : Patient is a 35 year o...</td>\n",
       "      <td>&lt;re.Match object; span=(202, 217), match='burn...</td>\n",
       "    </tr>\n",
       "    <tr>\n",
       "      <th>...</th>\n",
       "      <td>...</td>\n",
       "      <td>...</td>\n",
       "      <td>...</td>\n",
       "      <td>...</td>\n",
       "      <td>...</td>\n",
       "      <td>...</td>\n",
       "      <td>...</td>\n",
       "      <td>...</td>\n",
       "      <td>...</td>\n",
       "      <td>...</td>\n",
       "      <td>...</td>\n",
       "    </tr>\n",
       "    <tr>\n",
       "      <th>1724</th>\n",
       "      <td>37965</td>\n",
       "      <td>'tums used to help'</td>\n",
       "      <td>'332 349'</td>\n",
       "      <td>313</td>\n",
       "      <td>332</td>\n",
       "      <td>349</td>\n",
       "      <td>3</td>\n",
       "      <td>patient is a 35 yo M here for abdominal pain s...</td>\n",
       "      <td>tum used to help</td>\n",
       "      <td>patient is a 35 yo M here for abdominal pain s...</td>\n",
       "      <td>&lt;re.Match object; span=(334, 350), match='tum ...</td>\n",
       "    </tr>\n",
       "    <tr>\n",
       "      <th>1725</th>\n",
       "      <td>37260</td>\n",
       "      <td>'Tums helped at first'</td>\n",
       "      <td>'151 171'</td>\n",
       "      <td>313</td>\n",
       "      <td>151</td>\n",
       "      <td>171</td>\n",
       "      <td>3</td>\n",
       "      <td>35 yo male with stomahc problems. For 2 months...</td>\n",
       "      <td>Tums helped at first</td>\n",
       "      <td>35 yo male with stomahc problem . For 2 month ...</td>\n",
       "      <td>&lt;re.Match object; span=(149, 169), match='Tums...</td>\n",
       "    </tr>\n",
       "    <tr>\n",
       "      <th>1726</th>\n",
       "      <td>38883</td>\n",
       "      <td>'Tums helped at first'</td>\n",
       "      <td>'205 225'</td>\n",
       "      <td>313</td>\n",
       "      <td>205</td>\n",
       "      <td>225</td>\n",
       "      <td>3</td>\n",
       "      <td>35 yo M patient complains of stomach problems....</td>\n",
       "      <td>Tums helped at first</td>\n",
       "      <td>35 yo M patient complains of stomach problem ....</td>\n",
       "      <td>&lt;re.Match object; span=(199, 219), match='Tums...</td>\n",
       "    </tr>\n",
       "    <tr>\n",
       "      <th>1727</th>\n",
       "      <td>35290</td>\n",
       "      <td>'Tums initially helped'</td>\n",
       "      <td>'275 296'</td>\n",
       "      <td>313</td>\n",
       "      <td>275</td>\n",
       "      <td>296</td>\n",
       "      <td>3</td>\n",
       "      <td>Chad Hamilton is a 35 year old man who present...</td>\n",
       "      <td>Tums initially helped</td>\n",
       "      <td>Chad Hamilton is a 35 year old man who present...</td>\n",
       "      <td>&lt;re.Match object; span=(263, 284), match='Tums...</td>\n",
       "    </tr>\n",
       "    <tr>\n",
       "      <th>1728</th>\n",
       "      <td>33162</td>\n",
       "      <td>'Tums initially helped'</td>\n",
       "      <td>'257 278'</td>\n",
       "      <td>313</td>\n",
       "      <td>257</td>\n",
       "      <td>278</td>\n",
       "      <td>3</td>\n",
       "      <td>HPI: 35 yo M presents with stomach pain 2 mont...</td>\n",
       "      <td>Tums initially helped</td>\n",
       "      <td>HPI : 35 yo M present with stomach pain 2 mont...</td>\n",
       "      <td>&lt;re.Match object; span=(252, 273), match='Tums...</td>\n",
       "    </tr>\n",
       "  </tbody>\n",
       "</table>\n",
       "<p>1692 rows × 11 columns</p>\n",
       "</div>"
      ],
      "text/plain": [
       "      pn_num                                  annotation   location  \\\n",
       "0      30037                 'Uncle with bleeding ulcer'  '844 869'   \n",
       "1      30037  'pain is located in the epigastric region'  '124 164'   \n",
       "2      30037               'stools have appeared darker'  '508 535'   \n",
       "3      30037                                    'Motrin'  '771 777'   \n",
       "4      30037                           'burning/gnawing'  '206 221'   \n",
       "...      ...                                         ...        ...   \n",
       "1724   37965                         'tums used to help'  '332 349'   \n",
       "1725   37260                      'Tums helped at first'  '151 171'   \n",
       "1726   38883                      'Tums helped at first'  '205 225'   \n",
       "1727   35290                     'Tums initially helped'  '275 296'   \n",
       "1728   33162                     'Tums initially helped'  '257 278'   \n",
       "\n",
       "      feature_num start_location end_location  case_num  \\\n",
       "0             300            844          869         3   \n",
       "1             301            124          164         3   \n",
       "2             302            508          535         3   \n",
       "3             303            771          777         3   \n",
       "4             304            206          221         3   \n",
       "...           ...            ...          ...       ...   \n",
       "1724          313            332          349         3   \n",
       "1725          313            151          171         3   \n",
       "1726          313            205          225         3   \n",
       "1727          313            275          296         3   \n",
       "1728          313            257          278         3   \n",
       "\n",
       "                                             pn_history  \\\n",
       "0     CC: Stomach pain \\r\\n\\r\\nHPI: Patient is a 35 ...   \n",
       "1     CC: Stomach pain \\r\\n\\r\\nHPI: Patient is a 35 ...   \n",
       "2     CC: Stomach pain \\r\\n\\r\\nHPI: Patient is a 35 ...   \n",
       "3     CC: Stomach pain \\r\\n\\r\\nHPI: Patient is a 35 ...   \n",
       "4     CC: Stomach pain \\r\\n\\r\\nHPI: Patient is a 35 ...   \n",
       "...                                                 ...   \n",
       "1724  patient is a 35 yo M here for abdominal pain s...   \n",
       "1725  35 yo male with stomahc problems. For 2 months...   \n",
       "1726  35 yo M patient complains of stomach problems....   \n",
       "1727  Chad Hamilton is a 35 year old man who present...   \n",
       "1728  HPI: 35 yo M presents with stomach pain 2 mont...   \n",
       "\n",
       "                                New_annotation  \\\n",
       "0                    Uncle with bleeding ulcer   \n",
       "1     pain is located in the epigastric region   \n",
       "2                   stool have appeared darker   \n",
       "3                                       Motrin   \n",
       "4                              burning gnawing   \n",
       "...                                        ...   \n",
       "1724                          tum used to help   \n",
       "1725                      Tums helped at first   \n",
       "1726                      Tums helped at first   \n",
       "1727                     Tums initially helped   \n",
       "1728                     Tums initially helped   \n",
       "\n",
       "                                         New_pn_history  \\\n",
       "0     CC : Stomach pain HPI : Patient is a 35 year o...   \n",
       "1     CC : Stomach pain HPI : Patient is a 35 year o...   \n",
       "2     CC : Stomach pain HPI : Patient is a 35 year o...   \n",
       "3     CC : Stomach pain HPI : Patient is a 35 year o...   \n",
       "4     CC : Stomach pain HPI : Patient is a 35 year o...   \n",
       "...                                                 ...   \n",
       "1724  patient is a 35 yo M here for abdominal pain s...   \n",
       "1725  35 yo male with stomahc problem . For 2 month ...   \n",
       "1726  35 yo M patient complains of stomach problem ....   \n",
       "1727  Chad Hamilton is a 35 year old man who present...   \n",
       "1728  HPI : 35 yo M present with stomach pain 2 mont...   \n",
       "\n",
       "                                           new_location  \n",
       "0     <re.Match object; span=(834, 859), match='Uncl...  \n",
       "1     <re.Match object; span=(123, 163), match='pain...  \n",
       "2     <re.Match object; span=(502, 528), match='stoo...  \n",
       "3     <re.Match object; span=(762, 768), match='Motr...  \n",
       "4     <re.Match object; span=(202, 217), match='burn...  \n",
       "...                                                 ...  \n",
       "1724  <re.Match object; span=(334, 350), match='tum ...  \n",
       "1725  <re.Match object; span=(149, 169), match='Tums...  \n",
       "1726  <re.Match object; span=(199, 219), match='Tums...  \n",
       "1727  <re.Match object; span=(263, 284), match='Tums...  \n",
       "1728  <re.Match object; span=(252, 273), match='Tums...  \n",
       "\n",
       "[1692 rows x 11 columns]"
      ]
     },
     "execution_count": 46,
     "metadata": {},
     "output_type": "execute_result"
    }
   ],
   "source": [
    "case_3 = case_3.drop(drop_index,axis = 0)\n",
    "case_3"
   ]
  },
  {
   "cell_type": "code",
   "execution_count": 47,
   "id": "fe70962e",
   "metadata": {},
   "outputs": [
    {
     "data": {
      "text/html": [
       "<div>\n",
       "<style scoped>\n",
       "    .dataframe tbody tr th:only-of-type {\n",
       "        vertical-align: middle;\n",
       "    }\n",
       "\n",
       "    .dataframe tbody tr th {\n",
       "        vertical-align: top;\n",
       "    }\n",
       "\n",
       "    .dataframe thead th {\n",
       "        text-align: right;\n",
       "    }\n",
       "</style>\n",
       "<table border=\"1\" class=\"dataframe\">\n",
       "  <thead>\n",
       "    <tr style=\"text-align: right;\">\n",
       "      <th></th>\n",
       "      <th>pn_num</th>\n",
       "      <th>annotation</th>\n",
       "      <th>location</th>\n",
       "      <th>feature_num</th>\n",
       "      <th>start_location</th>\n",
       "      <th>end_location</th>\n",
       "      <th>case_num</th>\n",
       "      <th>pn_history</th>\n",
       "      <th>New_annotation</th>\n",
       "      <th>New_pn_history</th>\n",
       "      <th>new_location</th>\n",
       "    </tr>\n",
       "  </thead>\n",
       "  <tbody>\n",
       "    <tr>\n",
       "      <th>0</th>\n",
       "      <td>30037</td>\n",
       "      <td>'Uncle with bleeding ulcer'</td>\n",
       "      <td>'844 869'</td>\n",
       "      <td>300</td>\n",
       "      <td>834</td>\n",
       "      <td>859</td>\n",
       "      <td>3</td>\n",
       "      <td>CC: Stomach pain \\r\\n\\r\\nHPI: Patient is a 35 ...</td>\n",
       "      <td>Uncle with bleeding ulcer</td>\n",
       "      <td>CC : Stomach pain HPI : Patient is a 35 year o...</td>\n",
       "      <td>&lt;re.Match object; span=(834, 859), match='Uncl...</td>\n",
       "    </tr>\n",
       "    <tr>\n",
       "      <th>1</th>\n",
       "      <td>30037</td>\n",
       "      <td>'pain is located in the epigastric region'</td>\n",
       "      <td>'124 164'</td>\n",
       "      <td>301</td>\n",
       "      <td>123</td>\n",
       "      <td>163</td>\n",
       "      <td>3</td>\n",
       "      <td>CC: Stomach pain \\r\\n\\r\\nHPI: Patient is a 35 ...</td>\n",
       "      <td>pain is located in the epigastric region</td>\n",
       "      <td>CC : Stomach pain HPI : Patient is a 35 year o...</td>\n",
       "      <td>&lt;re.Match object; span=(123, 163), match='pain...</td>\n",
       "    </tr>\n",
       "    <tr>\n",
       "      <th>2</th>\n",
       "      <td>30037</td>\n",
       "      <td>'stools have appeared darker'</td>\n",
       "      <td>'508 535'</td>\n",
       "      <td>302</td>\n",
       "      <td>502</td>\n",
       "      <td>528</td>\n",
       "      <td>3</td>\n",
       "      <td>CC: Stomach pain \\r\\n\\r\\nHPI: Patient is a 35 ...</td>\n",
       "      <td>stool have appeared darker</td>\n",
       "      <td>CC : Stomach pain HPI : Patient is a 35 year o...</td>\n",
       "      <td>&lt;re.Match object; span=(502, 528), match='stoo...</td>\n",
       "    </tr>\n",
       "    <tr>\n",
       "      <th>3</th>\n",
       "      <td>30037</td>\n",
       "      <td>'Motrin'</td>\n",
       "      <td>'771 777'</td>\n",
       "      <td>303</td>\n",
       "      <td>762</td>\n",
       "      <td>768</td>\n",
       "      <td>3</td>\n",
       "      <td>CC: Stomach pain \\r\\n\\r\\nHPI: Patient is a 35 ...</td>\n",
       "      <td>Motrin</td>\n",
       "      <td>CC : Stomach pain HPI : Patient is a 35 year o...</td>\n",
       "      <td>&lt;re.Match object; span=(762, 768), match='Motr...</td>\n",
       "    </tr>\n",
       "    <tr>\n",
       "      <th>4</th>\n",
       "      <td>30037</td>\n",
       "      <td>'burning/gnawing'</td>\n",
       "      <td>'206 221'</td>\n",
       "      <td>304</td>\n",
       "      <td>202</td>\n",
       "      <td>217</td>\n",
       "      <td>3</td>\n",
       "      <td>CC: Stomach pain \\r\\n\\r\\nHPI: Patient is a 35 ...</td>\n",
       "      <td>burning gnawing</td>\n",
       "      <td>CC : Stomach pain HPI : Patient is a 35 year o...</td>\n",
       "      <td>&lt;re.Match object; span=(202, 217), match='burn...</td>\n",
       "    </tr>\n",
       "    <tr>\n",
       "      <th>...</th>\n",
       "      <td>...</td>\n",
       "      <td>...</td>\n",
       "      <td>...</td>\n",
       "      <td>...</td>\n",
       "      <td>...</td>\n",
       "      <td>...</td>\n",
       "      <td>...</td>\n",
       "      <td>...</td>\n",
       "      <td>...</td>\n",
       "      <td>...</td>\n",
       "      <td>...</td>\n",
       "    </tr>\n",
       "    <tr>\n",
       "      <th>1724</th>\n",
       "      <td>37965</td>\n",
       "      <td>'tums used to help'</td>\n",
       "      <td>'332 349'</td>\n",
       "      <td>313</td>\n",
       "      <td>334</td>\n",
       "      <td>350</td>\n",
       "      <td>3</td>\n",
       "      <td>patient is a 35 yo M here for abdominal pain s...</td>\n",
       "      <td>tum used to help</td>\n",
       "      <td>patient is a 35 yo M here for abdominal pain s...</td>\n",
       "      <td>&lt;re.Match object; span=(334, 350), match='tum ...</td>\n",
       "    </tr>\n",
       "    <tr>\n",
       "      <th>1725</th>\n",
       "      <td>37260</td>\n",
       "      <td>'Tums helped at first'</td>\n",
       "      <td>'151 171'</td>\n",
       "      <td>313</td>\n",
       "      <td>149</td>\n",
       "      <td>169</td>\n",
       "      <td>3</td>\n",
       "      <td>35 yo male with stomahc problems. For 2 months...</td>\n",
       "      <td>Tums helped at first</td>\n",
       "      <td>35 yo male with stomahc problem . For 2 month ...</td>\n",
       "      <td>&lt;re.Match object; span=(149, 169), match='Tums...</td>\n",
       "    </tr>\n",
       "    <tr>\n",
       "      <th>1726</th>\n",
       "      <td>38883</td>\n",
       "      <td>'Tums helped at first'</td>\n",
       "      <td>'205 225'</td>\n",
       "      <td>313</td>\n",
       "      <td>199</td>\n",
       "      <td>219</td>\n",
       "      <td>3</td>\n",
       "      <td>35 yo M patient complains of stomach problems....</td>\n",
       "      <td>Tums helped at first</td>\n",
       "      <td>35 yo M patient complains of stomach problem ....</td>\n",
       "      <td>&lt;re.Match object; span=(199, 219), match='Tums...</td>\n",
       "    </tr>\n",
       "    <tr>\n",
       "      <th>1727</th>\n",
       "      <td>35290</td>\n",
       "      <td>'Tums initially helped'</td>\n",
       "      <td>'275 296'</td>\n",
       "      <td>313</td>\n",
       "      <td>263</td>\n",
       "      <td>284</td>\n",
       "      <td>3</td>\n",
       "      <td>Chad Hamilton is a 35 year old man who present...</td>\n",
       "      <td>Tums initially helped</td>\n",
       "      <td>Chad Hamilton is a 35 year old man who present...</td>\n",
       "      <td>&lt;re.Match object; span=(263, 284), match='Tums...</td>\n",
       "    </tr>\n",
       "    <tr>\n",
       "      <th>1728</th>\n",
       "      <td>33162</td>\n",
       "      <td>'Tums initially helped'</td>\n",
       "      <td>'257 278'</td>\n",
       "      <td>313</td>\n",
       "      <td>252</td>\n",
       "      <td>273</td>\n",
       "      <td>3</td>\n",
       "      <td>HPI: 35 yo M presents with stomach pain 2 mont...</td>\n",
       "      <td>Tums initially helped</td>\n",
       "      <td>HPI : 35 yo M present with stomach pain 2 mont...</td>\n",
       "      <td>&lt;re.Match object; span=(252, 273), match='Tums...</td>\n",
       "    </tr>\n",
       "  </tbody>\n",
       "</table>\n",
       "<p>1692 rows × 11 columns</p>\n",
       "</div>"
      ],
      "text/plain": [
       "      pn_num                                  annotation   location  \\\n",
       "0      30037                 'Uncle with bleeding ulcer'  '844 869'   \n",
       "1      30037  'pain is located in the epigastric region'  '124 164'   \n",
       "2      30037               'stools have appeared darker'  '508 535'   \n",
       "3      30037                                    'Motrin'  '771 777'   \n",
       "4      30037                           'burning/gnawing'  '206 221'   \n",
       "...      ...                                         ...        ...   \n",
       "1724   37965                         'tums used to help'  '332 349'   \n",
       "1725   37260                      'Tums helped at first'  '151 171'   \n",
       "1726   38883                      'Tums helped at first'  '205 225'   \n",
       "1727   35290                     'Tums initially helped'  '275 296'   \n",
       "1728   33162                     'Tums initially helped'  '257 278'   \n",
       "\n",
       "      feature_num  start_location  end_location  case_num  \\\n",
       "0             300             834           859         3   \n",
       "1             301             123           163         3   \n",
       "2             302             502           528         3   \n",
       "3             303             762           768         3   \n",
       "4             304             202           217         3   \n",
       "...           ...             ...           ...       ...   \n",
       "1724          313             334           350         3   \n",
       "1725          313             149           169         3   \n",
       "1726          313             199           219         3   \n",
       "1727          313             263           284         3   \n",
       "1728          313             252           273         3   \n",
       "\n",
       "                                             pn_history  \\\n",
       "0     CC: Stomach pain \\r\\n\\r\\nHPI: Patient is a 35 ...   \n",
       "1     CC: Stomach pain \\r\\n\\r\\nHPI: Patient is a 35 ...   \n",
       "2     CC: Stomach pain \\r\\n\\r\\nHPI: Patient is a 35 ...   \n",
       "3     CC: Stomach pain \\r\\n\\r\\nHPI: Patient is a 35 ...   \n",
       "4     CC: Stomach pain \\r\\n\\r\\nHPI: Patient is a 35 ...   \n",
       "...                                                 ...   \n",
       "1724  patient is a 35 yo M here for abdominal pain s...   \n",
       "1725  35 yo male with stomahc problems. For 2 months...   \n",
       "1726  35 yo M patient complains of stomach problems....   \n",
       "1727  Chad Hamilton is a 35 year old man who present...   \n",
       "1728  HPI: 35 yo M presents with stomach pain 2 mont...   \n",
       "\n",
       "                                New_annotation  \\\n",
       "0                    Uncle with bleeding ulcer   \n",
       "1     pain is located in the epigastric region   \n",
       "2                   stool have appeared darker   \n",
       "3                                       Motrin   \n",
       "4                              burning gnawing   \n",
       "...                                        ...   \n",
       "1724                          tum used to help   \n",
       "1725                      Tums helped at first   \n",
       "1726                      Tums helped at first   \n",
       "1727                     Tums initially helped   \n",
       "1728                     Tums initially helped   \n",
       "\n",
       "                                         New_pn_history  \\\n",
       "0     CC : Stomach pain HPI : Patient is a 35 year o...   \n",
       "1     CC : Stomach pain HPI : Patient is a 35 year o...   \n",
       "2     CC : Stomach pain HPI : Patient is a 35 year o...   \n",
       "3     CC : Stomach pain HPI : Patient is a 35 year o...   \n",
       "4     CC : Stomach pain HPI : Patient is a 35 year o...   \n",
       "...                                                 ...   \n",
       "1724  patient is a 35 yo M here for abdominal pain s...   \n",
       "1725  35 yo male with stomahc problem . For 2 month ...   \n",
       "1726  35 yo M patient complains of stomach problem ....   \n",
       "1727  Chad Hamilton is a 35 year old man who present...   \n",
       "1728  HPI : 35 yo M present with stomach pain 2 mont...   \n",
       "\n",
       "                                           new_location  \n",
       "0     <re.Match object; span=(834, 859), match='Uncl...  \n",
       "1     <re.Match object; span=(123, 163), match='pain...  \n",
       "2     <re.Match object; span=(502, 528), match='stoo...  \n",
       "3     <re.Match object; span=(762, 768), match='Motr...  \n",
       "4     <re.Match object; span=(202, 217), match='burn...  \n",
       "...                                                 ...  \n",
       "1724  <re.Match object; span=(334, 350), match='tum ...  \n",
       "1725  <re.Match object; span=(149, 169), match='Tums...  \n",
       "1726  <re.Match object; span=(199, 219), match='Tums...  \n",
       "1727  <re.Match object; span=(263, 284), match='Tums...  \n",
       "1728  <re.Match object; span=(252, 273), match='Tums...  \n",
       "\n",
       "[1692 rows x 11 columns]"
      ]
     },
     "execution_count": 47,
     "metadata": {},
     "output_type": "execute_result"
    }
   ],
   "source": [
    "case_3[\"start_location\"] = case_3.apply(lambda x :re.search(r'\\b' + x.New_annotation + r'\\b', x.New_pn_history).start(),axis =1)\n",
    "case_3[\"end_location\"] = case_3.apply(lambda x :re.search(r'\\b' + x.New_annotation + r'\\b', x.New_pn_history).end(),axis =1)\n",
    "case_3"
   ]
  },
  {
   "cell_type": "code",
   "execution_count": null,
   "id": "bde32408",
   "metadata": {},
   "outputs": [],
   "source": []
  },
  {
   "cell_type": "code",
   "execution_count": null,
   "id": "0ba06c67",
   "metadata": {},
   "outputs": [],
   "source": []
  },
  {
   "cell_type": "markdown",
   "id": "d73ef64e",
   "metadata": {},
   "source": [
    "### Feature 300"
   ]
  },
  {
   "cell_type": "code",
   "execution_count": 48,
   "id": "72d58552",
   "metadata": {},
   "outputs": [],
   "source": [
    "case_3 = case_3.drop(index = 1199, axis = 0)"
   ]
  },
  {
   "cell_type": "code",
   "execution_count": 49,
   "id": "cf3b8745",
   "metadata": {},
   "outputs": [
    {
     "data": {
      "text/plain": [
       "(85, 11)"
      ]
     },
     "execution_count": 49,
     "metadata": {},
     "output_type": "execute_result"
    }
   ],
   "source": [
    "case_3_300 = case_3[case_3[\"feature_num\"] == 300]\n",
    "case_3_300.shape"
   ]
  },
  {
   "cell_type": "code",
   "execution_count": 50,
   "id": "136f7165",
   "metadata": {},
   "outputs": [
    {
     "data": {
      "text/plain": [
       "(66, 17)"
      ]
     },
     "execution_count": 50,
     "metadata": {},
     "output_type": "execute_result"
    }
   ],
   "source": [
    "pn_Num_list = list(case_3_300.pn_num.unique())\n",
    "\n",
    "final_train = []   # appending all the individual rows\n",
    "for patient_number in pn_Num_list:  # for each unique patient number\n",
    "    entities = []  # saving individaual entities locations\n",
    "    for row_index,row in case_3_300[case_3_300.pn_num == patient_number].iterrows():  # for each unique patient number \n",
    "        \n",
    "        entities.append((int(row[\"start_location\"]),int(row[\"end_location\"]),\"Feature_\" + str(row[\"feature_num\"]))) # store the locations in numeric format\n",
    "        \n",
    "    text = case_3_300[case_3_300.pn_num == patient_number][\"New_pn_history\"].values[0] # save the text for the unique patient number\n",
    "    \n",
    "    final_train.append((text,{\"entities\":entities}))  # for each unique pn_number append to final list\n",
    "    \n",
    "# Serializing json \n",
    "json_object = json.dumps(final_train, indent = 4)\n",
    "  \n",
    "# Writing to sample.json\n",
    "with open(\"sample_300.json\", \"w\") as outfile:\n",
    "    outfile.write(json_object)\n",
    "    \n",
    "# Opening JSON file\n",
    "f = open(\"sample_300.json\")\n",
    " \n",
    "# returns JSON object as\n",
    "# a dictionary\n",
    "data = json.load(f)\n",
    "\n",
    "nlp = spacy.blank(\"en\")\n",
    "def create_training(TRAIN_DATA):\n",
    "    db = DocBin()\n",
    "    for text, annot in tqdm(TRAIN_DATA):\n",
    "        doc = nlp.make_doc(text)\n",
    "        ents = []\n",
    "        for start, end, label in annot[\"entities\"]:\n",
    "            span = doc.char_span(start, end, label=label, alignment_mode=\"contract\")\n",
    "            if span is None:\n",
    "                print (\"Skipping entity\")\n",
    "            else:\n",
    "                ents.append(span)\n",
    "        doc.ents = ents\n",
    "        db.add(doc)\n",
    "    return (db)\n",
    "\n",
    "train, validation = train_test_split(data, test_size = 0.2, random_state = 100)\n",
    "len(train),len(validation)"
   ]
  },
  {
   "cell_type": "code",
   "execution_count": 51,
   "id": "42d46794",
   "metadata": {},
   "outputs": [
    {
     "name": "stderr",
     "output_type": "stream",
     "text": [
      "100%|█████████████████████████████████████████████████████████████████████████████████| 66/66 [00:00<00:00, 264.07it/s]\n"
     ]
    }
   ],
   "source": [
    "#train data set\n",
    "camp_train = create_training(train)\n",
    "camp_train.to_disk(\"nbme_train_300.spacy\")"
   ]
  },
  {
   "cell_type": "code",
   "execution_count": 52,
   "id": "46fbb60b",
   "metadata": {},
   "outputs": [
    {
     "name": "stderr",
     "output_type": "stream",
     "text": [
      "100%|█████████████████████████████████████████████████████████████████████████████████| 17/17 [00:00<00:00, 363.01it/s]\n"
     ]
    }
   ],
   "source": [
    "#Validation data set\n",
    "camp_validation = create_training(validation)\n",
    "camp_validation.to_disk(\"nbme_validation_300.spacy\")"
   ]
  },
  {
   "cell_type": "code",
   "execution_count": 53,
   "id": "9a413c6d",
   "metadata": {},
   "outputs": [
    {
     "name": "stdout",
     "output_type": "stream",
     "text": [
      "[+] Auto-filled config with all values\n",
      "[+] Saved config\n",
      "config_300.cfg\n",
      "You can now add your data and train your pipeline:\n",
      "python -m spacy train config_300.cfg --paths.train ./train.spacy --paths.dev ./dev.spacy\n"
     ]
    },
    {
     "name": "stderr",
     "output_type": "stream",
     "text": [
      "2022-05-06 15:15:28.621620: W tensorflow/stream_executor/platform/default/dso_loader.cc:64] Could not load dynamic library 'cudart64_110.dll'; dlerror: cudart64_110.dll not found\n",
      "2022-05-06 15:15:28.621679: I tensorflow/stream_executor/cuda/cudart_stub.cc:29] Ignore above cudart dlerror if you do not have a GPU set up on your machine.\n"
     ]
    }
   ],
   "source": [
    "!python -m spacy init fill-config ./base_config_300.cfg ./config_300.cfg"
   ]
  },
  {
   "cell_type": "code",
   "execution_count": 54,
   "id": "116412d7",
   "metadata": {},
   "outputs": [
    {
     "name": "stdout",
     "output_type": "stream",
     "text": [
      "[i] Saving to output directory: output_300\n",
      "[i] Using CPU\n",
      "\u001b[1m\n",
      "=========================== Initializing pipeline ===========================\u001b[0m\n",
      "[+] Initialized pipeline\n",
      "\u001b[1m\n",
      "============================= Training pipeline =============================\u001b[0m\n",
      "[i] Pipeline: ['tok2vec', 'ner']\n",
      "[i] Initial learn rate: 0.001\n",
      "E    #       LOSS TOK2VEC  LOSS NER  ENTS_F  ENTS_P  ENTS_R  SCORE \n",
      "---  ------  ------------  --------  ------  ------  ------  ------\n",
      "  0       0          0.00     66.83    0.00    0.00    0.00    0.00\n",
      "  3     200        390.23   1607.34   91.43   88.89   94.12    0.91\n",
      "  6     400         26.28     30.44   82.35   82.35   82.35    0.82\n",
      "  9     600         12.16     12.36   91.43   88.89   94.12    0.91\n",
      " 12     800          4.97      6.05   91.43   88.89   94.12    0.91\n",
      " 15    1000          0.65      0.96   91.43   88.89   94.12    0.91\n",
      " 18    1200          3.56      3.02   88.89   84.21   94.12    0.89\n",
      " 21    1400          0.89      0.46   85.71   83.33   88.24    0.86\n",
      " 24    1600          0.00      0.00   80.00   77.78   82.35    0.80\n",
      " 28    1800          0.00      0.00   85.71   83.33   88.24    0.86\n",
      "[+] Saved pipeline to output directory\n",
      "output_300\\model-last\n"
     ]
    },
    {
     "name": "stderr",
     "output_type": "stream",
     "text": [
      "2022-05-06 15:15:41.345633: W tensorflow/stream_executor/platform/default/dso_loader.cc:64] Could not load dynamic library 'cudart64_110.dll'; dlerror: cudart64_110.dll not found\n",
      "2022-05-06 15:15:41.345710: I tensorflow/stream_executor/cuda/cudart_stub.cc:29] Ignore above cudart dlerror if you do not have a GPU set up on your machine.\n",
      "[2022-05-06 15:15:47,453] [INFO] Set up nlp object from config\n",
      "[2022-05-06 15:15:47,484] [INFO] Pipeline: ['tok2vec', 'ner']\n",
      "[2022-05-06 15:15:47,496] [INFO] Created vocabulary\n",
      "[2022-05-06 15:15:47,501] [INFO] Finished initializing nlp object\n",
      "[2022-05-06 15:15:48,878] [INFO] Initialized pipeline components: ['tok2vec', 'ner']\n"
     ]
    }
   ],
   "source": [
    "!python -m spacy train config_300.cfg --output ./output_300"
   ]
  },
  {
   "cell_type": "code",
   "execution_count": null,
   "id": "837fc79f",
   "metadata": {},
   "outputs": [],
   "source": []
  },
  {
   "cell_type": "markdown",
   "id": "a36a548b",
   "metadata": {},
   "source": [
    "### Feature 301"
   ]
  },
  {
   "cell_type": "code",
   "execution_count": 55,
   "id": "4b105f86",
   "metadata": {},
   "outputs": [],
   "source": [
    "case_3 = case_3.drop(index = 91, axis = 0)"
   ]
  },
  {
   "cell_type": "code",
   "execution_count": 56,
   "id": "8115651e",
   "metadata": {},
   "outputs": [
    {
     "data": {
      "text/plain": [
       "(96, 11)"
      ]
     },
     "execution_count": 56,
     "metadata": {},
     "output_type": "execute_result"
    }
   ],
   "source": [
    "case_3_301 = case_3[case_3[\"feature_num\"] == 301]\n",
    "case_3_301.shape"
   ]
  },
  {
   "cell_type": "code",
   "execution_count": 57,
   "id": "f3e8b7ef",
   "metadata": {},
   "outputs": [
    {
     "data": {
      "text/plain": [
       "(72, 19)"
      ]
     },
     "execution_count": 57,
     "metadata": {},
     "output_type": "execute_result"
    }
   ],
   "source": [
    "pn_Num_list = list(case_3_301.pn_num.unique())\n",
    "\n",
    "final_train = []   # appending all the individual rows\n",
    "for patient_number in pn_Num_list:  # for each unique patient number\n",
    "    entities = []  # saving individaual entities locations\n",
    "    for row_index,row in case_3_301[case_3_301.pn_num == patient_number].iterrows():  # for each unique patient number \n",
    "        \n",
    "        entities.append((int(row[\"start_location\"]),int(row[\"end_location\"]),\"Feature_\" + str(row[\"feature_num\"]))) # store the locations in numeric format\n",
    "        \n",
    "    text = case_3_301[case_3_301.pn_num == patient_number][\"New_pn_history\"].values[0] # save the text for the unique patient number\n",
    "    \n",
    "    final_train.append((text,{\"entities\":entities}))  # for each unique pn_number append to final list\n",
    "    \n",
    "# Serializing json \n",
    "json_object = json.dumps(final_train, indent = 4)\n",
    "  \n",
    "# Writing to sample.json\n",
    "with open(\"sample_301.json\", \"w\") as outfile:\n",
    "    outfile.write(json_object)\n",
    "    \n",
    "# Opening JSON file\n",
    "f = open(\"sample_301.json\")\n",
    " \n",
    "# returns JSON object as\n",
    "# a dictionary\n",
    "data = json.load(f)\n",
    "\n",
    "nlp = spacy.blank(\"en\")\n",
    "def create_training(TRAIN_DATA):\n",
    "    db = DocBin()\n",
    "    for text, annot in tqdm(TRAIN_DATA):\n",
    "        doc = nlp.make_doc(text)\n",
    "        ents = []\n",
    "        for start, end, label in annot[\"entities\"]:\n",
    "            span = doc.char_span(start, end, label=label, alignment_mode=\"contract\")\n",
    "            if span is None:\n",
    "                print (\"Skipping entity\")\n",
    "            else:\n",
    "                ents.append(span)\n",
    "        doc.ents = ents\n",
    "        db.add(doc)\n",
    "    return (db)\n",
    "\n",
    "train, validation = train_test_split(data, test_size = 0.2, random_state = 100)\n",
    "len(train),len(validation)"
   ]
  },
  {
   "cell_type": "code",
   "execution_count": 58,
   "id": "30cc3e23",
   "metadata": {},
   "outputs": [
    {
     "name": "stderr",
     "output_type": "stream",
     "text": [
      "100%|█████████████████████████████████████████████████████████████████████████████████| 72/72 [00:00<00:00, 459.55it/s]\n"
     ]
    }
   ],
   "source": [
    "#train data set\n",
    "camp_train = create_training(train)\n",
    "camp_train.to_disk(\"nbme_train_301.spacy\")"
   ]
  },
  {
   "cell_type": "code",
   "execution_count": 59,
   "id": "b4b5742e",
   "metadata": {},
   "outputs": [
    {
     "name": "stderr",
     "output_type": "stream",
     "text": [
      "100%|█████████████████████████████████████████████████████████████████████████████████| 19/19 [00:00<00:00, 754.16it/s]\n"
     ]
    }
   ],
   "source": [
    "#Validation data set\n",
    "camp_validation = create_training(validation)\n",
    "camp_validation.to_disk(\"nbme_validation_301.spacy\")"
   ]
  },
  {
   "cell_type": "code",
   "execution_count": 60,
   "id": "7c1c2a4a",
   "metadata": {},
   "outputs": [
    {
     "name": "stdout",
     "output_type": "stream",
     "text": [
      "[+] Auto-filled config with all values\n",
      "[+] Saved config\n",
      "config_301.cfg\n",
      "You can now add your data and train your pipeline:\n",
      "python -m spacy train config_301.cfg --paths.train ./train.spacy --paths.dev ./dev.spacy\n"
     ]
    },
    {
     "name": "stderr",
     "output_type": "stream",
     "text": [
      "2022-05-06 15:20:44.108893: W tensorflow/stream_executor/platform/default/dso_loader.cc:64] Could not load dynamic library 'cudart64_110.dll'; dlerror: cudart64_110.dll not found\n",
      "2022-05-06 15:20:44.108933: I tensorflow/stream_executor/cuda/cudart_stub.cc:29] Ignore above cudart dlerror if you do not have a GPU set up on your machine.\n"
     ]
    }
   ],
   "source": [
    "!python -m spacy init fill-config ./base_config_301.cfg ./config_301.cfg"
   ]
  },
  {
   "cell_type": "code",
   "execution_count": 61,
   "id": "c868901e",
   "metadata": {},
   "outputs": [
    {
     "name": "stdout",
     "output_type": "stream",
     "text": [
      "[i] Saving to output directory: output_301\n",
      "[i] Using CPU\n",
      "\u001b[1m\n",
      "=========================== Initializing pipeline ===========================\u001b[0m\n",
      "[+] Initialized pipeline\n",
      "\u001b[1m\n",
      "============================= Training pipeline =============================\u001b[0m\n",
      "[i] Pipeline: ['tok2vec', 'ner']\n",
      "[i] Initial learn rate: 0.001\n",
      "E    #       LOSS TOK2VEC  LOSS NER  ENTS_F  ENTS_P  ENTS_R  SCORE \n",
      "---  ------  ------------  --------  ------  ------  ------  ------\n",
      "  0       0          0.00     48.50    0.00    0.00    0.00    0.00\n",
      "  2     200       6776.88   1728.28   64.86   70.59   60.00    0.65\n",
      "  5     400       3660.81    268.28   57.89   61.11   55.00    0.58\n",
      "  8     600         70.37     95.60   46.15   47.37   45.00    0.46\n",
      " 11     800         73.42     52.95   70.27   76.47   65.00    0.70\n",
      " 13    1000         40.60     25.00   66.67   75.00   60.00    0.67\n",
      " 16    1200         16.13      8.73   61.11   68.75   55.00    0.61\n",
      " 19    1400         14.83      6.06   59.46   64.71   55.00    0.59\n",
      " 23    1600          7.16      2.24   61.11   68.75   55.00    0.61\n",
      " 28    1800         30.02      8.23   68.57   80.00   60.00    0.69\n",
      " 34    2000        121.88     38.64   66.67   75.00   60.00    0.67\n",
      " 43    2200        204.13     49.21   76.47   92.86   65.00    0.76\n",
      " 53    2400         75.06     28.72   62.86   73.33   55.00    0.63\n",
      " 66    2600         11.03      1.95   66.67   75.00   60.00    0.67\n",
      " 82    2800          6.04      1.39   66.67   84.62   55.00    0.67\n",
      " 98    3000          2.49      0.35   62.86   73.33   55.00    0.63\n",
      "115    3200          0.00      0.00   64.71   78.57   55.00    0.65\n",
      "132    3400          0.00      0.00   64.71   78.57   55.00    0.65\n",
      "148    3600        200.44     35.80   75.68   82.35   70.00    0.76\n",
      "165    3800       2593.67     74.85   60.00   60.00   60.00    0.60\n",
      "[+] Saved pipeline to output directory\n",
      "output_301\\model-last\n"
     ]
    },
    {
     "name": "stderr",
     "output_type": "stream",
     "text": [
      "2022-05-06 15:20:50.763458: W tensorflow/stream_executor/platform/default/dso_loader.cc:64] Could not load dynamic library 'cudart64_110.dll'; dlerror: cudart64_110.dll not found\n",
      "2022-05-06 15:20:50.763594: I tensorflow/stream_executor/cuda/cudart_stub.cc:29] Ignore above cudart dlerror if you do not have a GPU set up on your machine.\n",
      "[2022-05-06 15:20:53,797] [INFO] Set up nlp object from config\n",
      "[2022-05-06 15:20:53,805] [INFO] Pipeline: ['tok2vec', 'ner']\n",
      "[2022-05-06 15:20:53,809] [INFO] Created vocabulary\n",
      "[2022-05-06 15:20:53,810] [INFO] Finished initializing nlp object\n",
      "[2022-05-06 15:20:54,248] [INFO] Initialized pipeline components: ['tok2vec', 'ner']\n"
     ]
    }
   ],
   "source": [
    "!python -m spacy train config_301.cfg --output ./output_301"
   ]
  },
  {
   "cell_type": "code",
   "execution_count": null,
   "id": "161611a2",
   "metadata": {},
   "outputs": [],
   "source": []
  },
  {
   "cell_type": "markdown",
   "id": "31b90a91",
   "metadata": {},
   "source": [
    "### Feature 302"
   ]
  },
  {
   "cell_type": "code",
   "execution_count": 62,
   "id": "64ca334e",
   "metadata": {},
   "outputs": [],
   "source": [
    "case_3 = case_3.drop(index = 520, axis = 0)"
   ]
  },
  {
   "cell_type": "code",
   "execution_count": 63,
   "id": "78325214",
   "metadata": {},
   "outputs": [
    {
     "data": {
      "text/plain": [
       "(88, 11)"
      ]
     },
     "execution_count": 63,
     "metadata": {},
     "output_type": "execute_result"
    }
   ],
   "source": [
    "case_3_302 = case_3[case_3[\"feature_num\"] == 302]\n",
    "case_3_302.shape"
   ]
  },
  {
   "cell_type": "code",
   "execution_count": 64,
   "id": "a4644136",
   "metadata": {},
   "outputs": [
    {
     "data": {
      "text/plain": [
       "(68, 18)"
      ]
     },
     "execution_count": 64,
     "metadata": {},
     "output_type": "execute_result"
    }
   ],
   "source": [
    "pn_Num_list = list(case_3_302.pn_num.unique())\n",
    "\n",
    "final_train = []   # appending all the individual rows\n",
    "for patient_number in pn_Num_list:  # for each unique patient number\n",
    "    entities = []  # saving individaual entities locations\n",
    "    for row_index,row in case_3_302[case_3_302.pn_num == patient_number].iterrows():  # for each unique patient number \n",
    "        \n",
    "        entities.append((int(row[\"start_location\"]),int(row[\"end_location\"]),\"Feature_\" + str(row[\"feature_num\"]))) # store the locations in numeric format\n",
    "        \n",
    "    text = case_3_302[case_3_302.pn_num == patient_number][\"New_pn_history\"].values[0] # save the text for the unique patient number\n",
    "    \n",
    "    final_train.append((text,{\"entities\":entities}))  # for each unique pn_number append to final list\n",
    "    \n",
    "# Serializing json \n",
    "json_object = json.dumps(final_train, indent = 4)\n",
    "  \n",
    "# Writing to sample.json\n",
    "with open(\"sample_302.json\", \"w\") as outfile:\n",
    "    outfile.write(json_object)\n",
    "    \n",
    "# Opening JSON file\n",
    "f = open(\"sample_302.json\")\n",
    " \n",
    "# returns JSON object as\n",
    "# a dictionary\n",
    "data = json.load(f)\n",
    "\n",
    "nlp = spacy.blank(\"en\")\n",
    "def create_training(TRAIN_DATA):\n",
    "    db = DocBin()\n",
    "    for text, annot in tqdm(TRAIN_DATA):\n",
    "        doc = nlp.make_doc(text)\n",
    "        ents = []\n",
    "        for start, end, label in annot[\"entities\"]:\n",
    "            span = doc.char_span(start, end, label=label, alignment_mode=\"contract\")\n",
    "            if span is None:\n",
    "                print (\"Skipping entity\")\n",
    "            else:\n",
    "                ents.append(span)\n",
    "        doc.ents = ents\n",
    "        db.add(doc)\n",
    "    return (db)\n",
    "\n",
    "train, validation = train_test_split(data, test_size = 0.2, random_state = 100)\n",
    "len(train),len(validation)"
   ]
  },
  {
   "cell_type": "code",
   "execution_count": 65,
   "id": "5317013a",
   "metadata": {},
   "outputs": [
    {
     "name": "stderr",
     "output_type": "stream",
     "text": [
      "100%|█████████████████████████████████████████████████████████████████████████████████| 68/68 [00:00<00:00, 551.13it/s]\n"
     ]
    }
   ],
   "source": [
    "#train data set\n",
    "camp_train = create_training(train)\n",
    "camp_train.to_disk(\"nbme_train_302.spacy\")"
   ]
  },
  {
   "cell_type": "code",
   "execution_count": 66,
   "id": "3458300b",
   "metadata": {},
   "outputs": [
    {
     "name": "stderr",
     "output_type": "stream",
     "text": [
      "100%|█████████████████████████████████████████████████████████████████████████████████| 18/18 [00:00<00:00, 950.07it/s]\n"
     ]
    }
   ],
   "source": [
    "#Validation data set\n",
    "camp_validation = create_training(validation)\n",
    "camp_validation.to_disk(\"nbme_validation_302.spacy\")"
   ]
  },
  {
   "cell_type": "code",
   "execution_count": 67,
   "id": "fbf98bd5",
   "metadata": {},
   "outputs": [
    {
     "name": "stdout",
     "output_type": "stream",
     "text": [
      "[+] Auto-filled config with all values\n",
      "[+] Saved config\n",
      "config_302.cfg\n",
      "You can now add your data and train your pipeline:\n",
      "python -m spacy train config_302.cfg --paths.train ./train.spacy --paths.dev ./dev.spacy\n"
     ]
    },
    {
     "name": "stderr",
     "output_type": "stream",
     "text": [
      "2022-05-06 15:27:16.560096: W tensorflow/stream_executor/platform/default/dso_loader.cc:64] Could not load dynamic library 'cudart64_110.dll'; dlerror: cudart64_110.dll not found\n",
      "2022-05-06 15:27:16.560136: I tensorflow/stream_executor/cuda/cudart_stub.cc:29] Ignore above cudart dlerror if you do not have a GPU set up on your machine.\n"
     ]
    }
   ],
   "source": [
    "!python -m spacy init fill-config ./base_config_302.cfg ./config_302.cfg"
   ]
  },
  {
   "cell_type": "code",
   "execution_count": 68,
   "id": "d25e293b",
   "metadata": {},
   "outputs": [
    {
     "name": "stdout",
     "output_type": "stream",
     "text": [
      "[i] Saving to output directory: output_302\n",
      "[i] Using CPU\n",
      "\u001b[1m\n",
      "=========================== Initializing pipeline ===========================\u001b[0m\n",
      "[+] Initialized pipeline\n",
      "\u001b[1m\n",
      "============================= Training pipeline =============================\u001b[0m\n",
      "[i] Pipeline: ['tok2vec', 'ner']\n",
      "[i] Initial learn rate: 0.001\n",
      "E    #       LOSS TOK2VEC  LOSS NER  ENTS_F  ENTS_P  ENTS_R  SCORE \n",
      "---  ------  ------------  --------  ------  ------  ------  ------\n",
      "  0       0          0.00     53.50    0.00    0.00    0.00    0.00\n",
      "  2     200       5487.39   1987.59   65.00   61.90   68.42    0.65\n",
      "  5     400         21.54     50.98   66.67   65.00   68.42    0.67\n",
      "  8     600          2.48      3.56   75.68   77.78   73.68    0.76\n",
      " 11     800          0.00      0.00   71.79   70.00   73.68    0.72\n",
      " 14    1000          0.00      0.00   71.79   70.00   73.68    0.72\n",
      " 17    1200          0.00      0.00   71.79   70.00   73.68    0.72\n",
      " 21    1400          0.00      0.00   73.68   73.68   73.68    0.74\n",
      " 25    1600          2.32      2.59   65.00   61.90   68.42    0.65\n",
      " 31    1800        208.76     22.49   70.27   72.22   68.42    0.70\n",
      " 38    2000          0.42      0.24   56.41   55.00   57.89    0.56\n",
      " 48    2200     151035.86    342.69   61.54   60.00   63.16    0.62\n",
      "[+] Saved pipeline to output directory\n",
      "output_302\\model-last\n"
     ]
    },
    {
     "name": "stderr",
     "output_type": "stream",
     "text": [
      "2022-05-06 15:27:22.388454: W tensorflow/stream_executor/platform/default/dso_loader.cc:64] Could not load dynamic library 'cudart64_110.dll'; dlerror: cudart64_110.dll not found\n",
      "2022-05-06 15:27:22.388499: I tensorflow/stream_executor/cuda/cudart_stub.cc:29] Ignore above cudart dlerror if you do not have a GPU set up on your machine.\n",
      "[2022-05-06 15:27:26,256] [INFO] Set up nlp object from config\n",
      "[2022-05-06 15:27:26,266] [INFO] Pipeline: ['tok2vec', 'ner']\n",
      "[2022-05-06 15:27:26,270] [INFO] Created vocabulary\n",
      "[2022-05-06 15:27:26,271] [INFO] Finished initializing nlp object\n",
      "[2022-05-06 15:27:26,824] [INFO] Initialized pipeline components: ['tok2vec', 'ner']\n"
     ]
    }
   ],
   "source": [
    "!python -m spacy train config_302.cfg --output ./output_302"
   ]
  },
  {
   "cell_type": "code",
   "execution_count": null,
   "id": "a9486823",
   "metadata": {},
   "outputs": [],
   "source": []
  },
  {
   "cell_type": "markdown",
   "id": "64661bdd",
   "metadata": {},
   "source": [
    "### Feature 303"
   ]
  },
  {
   "cell_type": "code",
   "execution_count": 69,
   "id": "5f9de2d3",
   "metadata": {},
   "outputs": [],
   "source": [
    "case_3 = case_3.drop(index = 843, axis = 0)\n",
    "case_3 = case_3.drop(index = 935, axis = 0)\n",
    "case_3 = case_3.drop(index = 477, axis = 0)\n",
    "case_3 = case_3.drop(index = 960, axis = 0)\n",
    "case_3 = case_3.drop(index = 250, axis = 0)\n",
    "case_3 = case_3.drop(index = 949, axis = 0)\n",
    "case_3 = case_3.drop(index = 745, axis = 0)\n",
    "case_3 = case_3.drop(index = 1037, axis = 0)\n",
    "case_3 = case_3.drop(index = 784, axis = 0)\n",
    "case_3 = case_3.drop(index = 1174, axis = 0)\n",
    "case_3 = case_3.drop(index = 1009, axis = 0)\n",
    "case_3 = case_3.drop(index = 860, axis = 0)\n",
    "case_3 = case_3.drop(index = 620, axis = 0)\n",
    "case_3 = case_3.drop(index = 436, axis = 0)\n",
    "case_3 = case_3.drop(index = 490, axis = 0)"
   ]
  },
  {
   "cell_type": "code",
   "execution_count": 70,
   "id": "aaa0d8da",
   "metadata": {},
   "outputs": [
    {
     "data": {
      "text/plain": [
       "(98, 11)"
      ]
     },
     "execution_count": 70,
     "metadata": {},
     "output_type": "execute_result"
    }
   ],
   "source": [
    "case_3_303 = case_3[case_3[\"feature_num\"] == 303]\n",
    "case_3_303.shape"
   ]
  },
  {
   "cell_type": "code",
   "execution_count": 71,
   "id": "dc421844",
   "metadata": {},
   "outputs": [
    {
     "data": {
      "text/plain": [
       "(70, 18)"
      ]
     },
     "execution_count": 71,
     "metadata": {},
     "output_type": "execute_result"
    }
   ],
   "source": [
    "pn_Num_list = list(case_3_303.pn_num.unique())\n",
    "\n",
    "final_train = []   # appending all the individual rows\n",
    "for patient_number in pn_Num_list:  # for each unique patient number\n",
    "    entities = []  # saving individaual entities locations\n",
    "    for row_index,row in case_3_303[case_3_303.pn_num == patient_number].iterrows():  # for each unique patient number \n",
    "        \n",
    "        entities.append((int(row[\"start_location\"]),int(row[\"end_location\"]),\"Feature_\" + str(row[\"feature_num\"]))) # store the locations in numeric format\n",
    "        \n",
    "    text = case_3_303[case_3_303.pn_num == patient_number][\"New_pn_history\"].values[0] # save the text for the unique patient number\n",
    "    \n",
    "    final_train.append((text,{\"entities\":entities}))  # for each unique pn_number append to final list\n",
    "    \n",
    "# Serializing json \n",
    "json_object = json.dumps(final_train, indent = 4)\n",
    "  \n",
    "# Writing to sample.json\n",
    "with open(\"sample_303.json\", \"w\") as outfile:\n",
    "    outfile.write(json_object)\n",
    "    \n",
    "# Opening JSON file\n",
    "f = open(\"sample_303.json\")\n",
    " \n",
    "# returns JSON object as\n",
    "# a dictionary\n",
    "data = json.load(f)\n",
    "\n",
    "nlp = spacy.blank(\"en\")\n",
    "def create_training(TRAIN_DATA):\n",
    "    db = DocBin()\n",
    "    for text, annot in tqdm(TRAIN_DATA):\n",
    "        doc = nlp.make_doc(text)\n",
    "        ents = []\n",
    "        for start, end, label in annot[\"entities\"]:\n",
    "            span = doc.char_span(start, end, label=label, alignment_mode=\"contract\")\n",
    "            if span is None:\n",
    "                print (\"Skipping entity\")\n",
    "            else:\n",
    "                ents.append(span)\n",
    "        doc.ents = ents\n",
    "        db.add(doc)\n",
    "    return (db)\n",
    "\n",
    "train, validation = train_test_split(data, test_size = 0.2, random_state = 100)\n",
    "len(train),len(validation)"
   ]
  },
  {
   "cell_type": "code",
   "execution_count": 72,
   "id": "6d4b2eba",
   "metadata": {},
   "outputs": [
    {
     "name": "stderr",
     "output_type": "stream",
     "text": [
      "100%|█████████████████████████████████████████████████████████████████████████████████| 70/70 [00:00<00:00, 253.17it/s]\n"
     ]
    }
   ],
   "source": [
    "#train data set\n",
    "camp_train = create_training(train)\n",
    "camp_train.to_disk(\"nbme_train_303.spacy\")"
   ]
  },
  {
   "cell_type": "code",
   "execution_count": 73,
   "id": "8cb8dfb3",
   "metadata": {},
   "outputs": [
    {
     "name": "stderr",
     "output_type": "stream",
     "text": [
      "100%|█████████████████████████████████████████████████████████████████████████████████| 18/18 [00:00<00:00, 440.50it/s]\n"
     ]
    }
   ],
   "source": [
    "#Validation data set\n",
    "camp_validation = create_training(validation)\n",
    "camp_validation.to_disk(\"nbme_validation_303.spacy\")"
   ]
  },
  {
   "cell_type": "code",
   "execution_count": 74,
   "id": "e52d7586",
   "metadata": {},
   "outputs": [
    {
     "name": "stdout",
     "output_type": "stream",
     "text": [
      "[+] Auto-filled config with all values"
     ]
    },
    {
     "name": "stderr",
     "output_type": "stream",
     "text": [
      "2022-05-06 15:32:10.868202: W tensorflow/stream_executor/platform/default/dso_loader.cc:64] Could not load dynamic library 'cudart64_110.dll'; dlerror: cudart64_110.dll not found\n",
      "2022-05-06 15:32:10.868251: I tensorflow/stream_executor/cuda/cudart_stub.cc:29] Ignore above cudart dlerror if you do not have a GPU set up on your machine.\n"
     ]
    },
    {
     "name": "stdout",
     "output_type": "stream",
     "text": [
      "\n",
      "[+] Saved config\n",
      "config_303.cfg\n",
      "You can now add your data and train your pipeline:\n",
      "python -m spacy train config_303.cfg --paths.train ./train.spacy --paths.dev ./dev.spacy\n"
     ]
    }
   ],
   "source": [
    "!python -m spacy init fill-config ./base_config_303.cfg ./config_303.cfg"
   ]
  },
  {
   "cell_type": "code",
   "execution_count": 75,
   "id": "2db6cbf4",
   "metadata": {},
   "outputs": [
    {
     "name": "stdout",
     "output_type": "stream",
     "text": [
      "[i] Saving to output directory: output_303\n",
      "[i] Using CPU\n",
      "\u001b[1m\n",
      "=========================== Initializing pipeline ===========================\u001b[0m\n",
      "[+] Initialized pipeline\n",
      "\u001b[1m\n",
      "============================= Training pipeline =============================\u001b[0m\n",
      "[i] Pipeline: ['tok2vec', 'ner']\n",
      "[i] Initial learn rate: 0.001\n",
      "E    #       LOSS TOK2VEC  LOSS NER  ENTS_F  ENTS_P  ENTS_R  SCORE \n",
      "---  ------  ------------  --------  ------  ------  ------  ------\n",
      "  0       0          0.00     60.17    0.00    0.00    0.00    0.00\n",
      "  2     200         24.25   1109.39   70.00   66.67   73.68    0.70\n",
      "  5     400         41.00     72.55   48.48   57.14   42.11    0.48\n",
      "  8     600         31.15     44.22   66.67   60.87   73.68    0.67\n",
      " 11     800         32.09     23.82   57.89   57.89   57.89    0.58\n",
      " 14    1000         26.71     23.43   63.41   59.09   68.42    0.63\n",
      " 17    1200         21.25     19.42   61.11   64.71   57.89    0.61\n",
      " 20    1400         35.58     24.34   64.86   66.67   63.16    0.65\n",
      " 24    1600         28.85     19.07   65.00   61.90   68.42    0.65\n",
      " 29    1800         30.73     14.23   71.79   70.00   73.68    0.72\n",
      " 36    2000         29.10     11.13   57.14   62.50   52.63    0.57\n",
      " 45    2200          0.00      0.00   57.14   62.50   52.63    0.57\n",
      " 56    2400          0.00      0.00   55.56   58.82   52.63    0.56\n",
      " 69    2600          0.00      0.00   55.56   58.82   52.63    0.56\n",
      " 86    2800          0.00      0.00   55.56   58.82   52.63    0.56\n",
      "102    3000          0.00      0.00   54.05   55.56   52.63    0.54\n",
      "119    3200          0.00      0.00   61.54   60.00   63.16    0.62\n",
      "136    3400        229.46     70.82   65.00   61.90   68.42    0.65\n",
      "[+] Saved pipeline to output directory\n",
      "output_303\\model-last\n"
     ]
    },
    {
     "name": "stderr",
     "output_type": "stream",
     "text": [
      "2022-05-06 15:32:22.503870: W tensorflow/stream_executor/platform/default/dso_loader.cc:64] Could not load dynamic library 'cudart64_110.dll'; dlerror: cudart64_110.dll not found\n",
      "2022-05-06 15:32:22.504007: I tensorflow/stream_executor/cuda/cudart_stub.cc:29] Ignore above cudart dlerror if you do not have a GPU set up on your machine.\n",
      "[2022-05-06 15:32:30,324] [INFO] Set up nlp object from config\n",
      "[2022-05-06 15:32:30,334] [INFO] Pipeline: ['tok2vec', 'ner']\n",
      "[2022-05-06 15:32:30,337] [INFO] Created vocabulary\n",
      "[2022-05-06 15:32:30,338] [INFO] Finished initializing nlp object\n",
      "[2022-05-06 15:32:30,854] [INFO] Initialized pipeline components: ['tok2vec', 'ner']\n"
     ]
    }
   ],
   "source": [
    "!python -m spacy train config_303.cfg --output ./output_303"
   ]
  },
  {
   "cell_type": "code",
   "execution_count": null,
   "id": "a55ceb77",
   "metadata": {},
   "outputs": [],
   "source": []
  },
  {
   "cell_type": "markdown",
   "id": "4610dd9f",
   "metadata": {},
   "source": [
    "### Feature 304"
   ]
  },
  {
   "cell_type": "code",
   "execution_count": 76,
   "id": "ee35dcaf",
   "metadata": {},
   "outputs": [],
   "source": [
    "case_3 = case_3.drop(index = 874, axis = 0)"
   ]
  },
  {
   "cell_type": "code",
   "execution_count": 77,
   "id": "efb1fe6f",
   "metadata": {},
   "outputs": [
    {
     "data": {
      "text/plain": [
       "(79, 11)"
      ]
     },
     "execution_count": 77,
     "metadata": {},
     "output_type": "execute_result"
    }
   ],
   "source": [
    "case_3_304 = case_3[case_3[\"feature_num\"] == 304]\n",
    "case_3_304.shape"
   ]
  },
  {
   "cell_type": "code",
   "execution_count": 78,
   "id": "1b6ad4a9",
   "metadata": {},
   "outputs": [
    {
     "data": {
      "text/plain": [
       "(61, 16)"
      ]
     },
     "execution_count": 78,
     "metadata": {},
     "output_type": "execute_result"
    }
   ],
   "source": [
    "pn_Num_list = list(case_3_304.pn_num.unique())\n",
    "\n",
    "final_train = []   # appending all the individual rows\n",
    "for patient_number in pn_Num_list:  # for each unique patient number\n",
    "    entities = []  # saving individaual entities locations\n",
    "    for row_index,row in case_3_304[case_3_304.pn_num == patient_number].iterrows():  # for each unique patient number \n",
    "        \n",
    "        entities.append((int(row[\"start_location\"]),int(row[\"end_location\"]),\"Feature_\" + str(row[\"feature_num\"]))) # store the locations in numeric format\n",
    "        \n",
    "    text = case_3_304[case_3_304.pn_num == patient_number][\"New_pn_history\"].values[0] # save the text for the unique patient number\n",
    "    \n",
    "    final_train.append((text,{\"entities\":entities}))  # for each unique pn_number append to final list\n",
    "    \n",
    "# Serializing json \n",
    "json_object = json.dumps(final_train, indent = 4)\n",
    "  \n",
    "# Writing to sample.json\n",
    "with open(\"sample_304.json\", \"w\") as outfile:\n",
    "    outfile.write(json_object)\n",
    "    \n",
    "# Opening JSON file\n",
    "f = open(\"sample_304.json\")\n",
    " \n",
    "# returns JSON object as\n",
    "# a dictionary\n",
    "data = json.load(f)\n",
    "\n",
    "nlp = spacy.blank(\"en\")\n",
    "def create_training(TRAIN_DATA):\n",
    "    db = DocBin()\n",
    "    for text, annot in tqdm(TRAIN_DATA):\n",
    "        doc = nlp.make_doc(text)\n",
    "        ents = []\n",
    "        for start, end, label in annot[\"entities\"]:\n",
    "            span = doc.char_span(start, end, label=label, alignment_mode=\"contract\")\n",
    "            if span is None:\n",
    "                print (\"Skipping entity\")\n",
    "            else:\n",
    "                ents.append(span)\n",
    "        doc.ents = ents\n",
    "        db.add(doc)\n",
    "    return (db)\n",
    "\n",
    "train, validation = train_test_split(data, test_size = 0.2, random_state = 100)\n",
    "len(train),len(validation)"
   ]
  },
  {
   "cell_type": "code",
   "execution_count": 79,
   "id": "2b91574c",
   "metadata": {},
   "outputs": [
    {
     "name": "stderr",
     "output_type": "stream",
     "text": [
      "100%|█████████████████████████████████████████████████████████████████████████████████| 61/61 [00:00<00:00, 545.34it/s]"
     ]
    },
    {
     "name": "stdout",
     "output_type": "stream",
     "text": [
      "Skipping entity\n"
     ]
    },
    {
     "name": "stderr",
     "output_type": "stream",
     "text": [
      "\n"
     ]
    }
   ],
   "source": [
    "#train data set\n",
    "camp_train = create_training(train)\n",
    "camp_train.to_disk(\"nbme_train_304.spacy\")"
   ]
  },
  {
   "cell_type": "code",
   "execution_count": 80,
   "id": "88725c7f",
   "metadata": {},
   "outputs": [
    {
     "name": "stderr",
     "output_type": "stream",
     "text": [
      "100%|████████████████████████████████████████████████████████████████████████████████| 16/16 [00:00<00:00, 1004.49it/s]\n"
     ]
    }
   ],
   "source": [
    "#Validation data set\n",
    "camp_validation = create_training(validation)\n",
    "camp_validation.to_disk(\"nbme_validation_304.spacy\")"
   ]
  },
  {
   "cell_type": "code",
   "execution_count": 81,
   "id": "3488010e",
   "metadata": {},
   "outputs": [
    {
     "name": "stdout",
     "output_type": "stream",
     "text": [
      "[+] Auto-filled config with all values\n",
      "[+] Saved config\n",
      "config_304.cfg\n",
      "You can now add your data and train your pipeline:\n",
      "python -m spacy train config_304.cfg --paths.train ./train.spacy --paths.dev ./dev.spacy\n"
     ]
    },
    {
     "name": "stderr",
     "output_type": "stream",
     "text": [
      "2022-05-06 15:38:50.557024: W tensorflow/stream_executor/platform/default/dso_loader.cc:64] Could not load dynamic library 'cudart64_110.dll'; dlerror: cudart64_110.dll not found\n",
      "2022-05-06 15:38:50.557201: I tensorflow/stream_executor/cuda/cudart_stub.cc:29] Ignore above cudart dlerror if you do not have a GPU set up on your machine.\n"
     ]
    }
   ],
   "source": [
    "!python -m spacy init fill-config ./base_config_304.cfg ./config_304.cfg"
   ]
  },
  {
   "cell_type": "code",
   "execution_count": 82,
   "id": "656e4d9d",
   "metadata": {},
   "outputs": [
    {
     "name": "stdout",
     "output_type": "stream",
     "text": [
      "[i] Saving to output directory: output_304\n",
      "[i] Using CPU\n",
      "\u001b[1m\n",
      "=========================== Initializing pipeline ===========================\u001b[0m\n",
      "[+] Initialized pipeline\n",
      "\u001b[1m\n",
      "============================= Training pipeline =============================\u001b[0m\n",
      "[i] Pipeline: ['tok2vec', 'ner']\n",
      "[i] Initial learn rate: 0.001\n",
      "E    #       LOSS TOK2VEC  LOSS NER  ENTS_F  ENTS_P  ENTS_R  SCORE \n",
      "---  ------  ------------  --------  ------  ------  ------  ------\n",
      "  0       0          0.00     60.83    0.00    0.00    0.00    0.00\n",
      "  3     200       6217.52   1345.55   87.50   93.33   82.35    0.87\n",
      "  6     400      13268.75    411.37   84.85   87.50   82.35    0.85\n",
      "  9     600          3.95      5.30   87.50   93.33   82.35    0.87\n",
      " 13     800          0.00      0.00   87.50   93.33   82.35    0.87\n",
      " 16    1000          0.00      0.00   87.50   93.33   82.35    0.87\n",
      " 19    1200          0.00      0.00   87.50   93.33   82.35    0.87\n",
      " 23    1400          0.00      0.00   87.50   93.33   82.35    0.87\n",
      " 28    1600          0.00      0.00   87.50   93.33   82.35    0.87\n",
      " 34    1800          0.00      0.00   87.50   93.33   82.35    0.87\n",
      "[+] Saved pipeline to output directory\n",
      "output_304\\model-last\n"
     ]
    },
    {
     "name": "stderr",
     "output_type": "stream",
     "text": [
      "2022-05-06 15:38:56.969193: W tensorflow/stream_executor/platform/default/dso_loader.cc:64] Could not load dynamic library 'cudart64_110.dll'; dlerror: cudart64_110.dll not found\n",
      "2022-05-06 15:38:56.969254: I tensorflow/stream_executor/cuda/cudart_stub.cc:29] Ignore above cudart dlerror if you do not have a GPU set up on your machine.\n",
      "[2022-05-06 15:39:01,441] [INFO] Set up nlp object from config\n",
      "[2022-05-06 15:39:01,450] [INFO] Pipeline: ['tok2vec', 'ner']\n",
      "[2022-05-06 15:39:01,453] [INFO] Created vocabulary\n",
      "[2022-05-06 15:39:01,454] [INFO] Finished initializing nlp object\n",
      "[2022-05-06 15:39:01,895] [INFO] Initialized pipeline components: ['tok2vec', 'ner']\n"
     ]
    }
   ],
   "source": [
    "!python -m spacy train config_304.cfg --output ./output_304"
   ]
  },
  {
   "cell_type": "code",
   "execution_count": null,
   "id": "14051727",
   "metadata": {},
   "outputs": [],
   "source": []
  },
  {
   "cell_type": "markdown",
   "id": "dd3fb6dd",
   "metadata": {},
   "source": [
    "### Feature 305"
   ]
  },
  {
   "cell_type": "code",
   "execution_count": 83,
   "id": "d0ec0efd",
   "metadata": {},
   "outputs": [],
   "source": [
    "case_3 = case_3.drop(index = 82, axis = 0)\n",
    "\n",
    "case_3 = case_3.drop(index = 1219, axis = 0)\n",
    "\n",
    "case_3 = case_3.drop(index = 236, axis = 0)\n",
    "\n",
    "case_3 = case_3.drop(index = 1315, axis = 0)\n",
    "\n",
    "case_3 = case_3.drop(index = 109, axis = 0)"
   ]
  },
  {
   "cell_type": "code",
   "execution_count": 84,
   "id": "854026a7",
   "metadata": {},
   "outputs": [],
   "source": [
    "case_3 = case_3.drop(index = 1356, axis = 0)"
   ]
  },
  {
   "cell_type": "code",
   "execution_count": 85,
   "id": "4d2b8dad",
   "metadata": {},
   "outputs": [],
   "source": [
    "case_3 = case_3.drop(index = 1380, axis = 0)"
   ]
  },
  {
   "cell_type": "code",
   "execution_count": 86,
   "id": "ec858354",
   "metadata": {},
   "outputs": [],
   "source": [
    "case_3 = case_3.drop(index = 1373, axis = 0)"
   ]
  },
  {
   "cell_type": "code",
   "execution_count": 87,
   "id": "d621bb49",
   "metadata": {},
   "outputs": [],
   "source": [
    "case_3 = case_3.drop(index = 1344, axis = 0)"
   ]
  },
  {
   "cell_type": "code",
   "execution_count": 88,
   "id": "f3f34197",
   "metadata": {},
   "outputs": [],
   "source": [
    "case_3 = case_3.drop(index = 1378, axis = 0)"
   ]
  },
  {
   "cell_type": "code",
   "execution_count": 89,
   "id": "3f87aa78",
   "metadata": {},
   "outputs": [],
   "source": [
    "case_3 = case_3.drop(index = 1336, axis = 0)"
   ]
  },
  {
   "cell_type": "code",
   "execution_count": 90,
   "id": "68721203",
   "metadata": {},
   "outputs": [],
   "source": [
    "case_3 = case_3.drop(index = 1335, axis = 0)"
   ]
  },
  {
   "cell_type": "code",
   "execution_count": 91,
   "id": "0047ef53",
   "metadata": {},
   "outputs": [],
   "source": [
    "case_3 = case_3.drop(index = 1341, axis = 0)"
   ]
  },
  {
   "cell_type": "code",
   "execution_count": 92,
   "id": "9a66a869",
   "metadata": {},
   "outputs": [],
   "source": [
    "case_3 = case_3.drop(index = 1366, axis = 0)"
   ]
  },
  {
   "cell_type": "code",
   "execution_count": 93,
   "id": "2aff5a72",
   "metadata": {},
   "outputs": [],
   "source": [
    "case_3 = case_3.drop(index = 1331, axis = 0)"
   ]
  },
  {
   "cell_type": "code",
   "execution_count": null,
   "id": "a0da6afe",
   "metadata": {},
   "outputs": [],
   "source": []
  },
  {
   "cell_type": "code",
   "execution_count": null,
   "id": "4f26e60e",
   "metadata": {},
   "outputs": [],
   "source": []
  },
  {
   "cell_type": "code",
   "execution_count": 94,
   "id": "a8a11b16",
   "metadata": {},
   "outputs": [
    {
     "data": {
      "text/plain": [
       "(110, 11)"
      ]
     },
     "execution_count": 94,
     "metadata": {},
     "output_type": "execute_result"
    }
   ],
   "source": [
    "case_3_305 = case_3[case_3[\"feature_num\"] == 305]\n",
    "case_3_305.shape"
   ]
  },
  {
   "cell_type": "code",
   "execution_count": 95,
   "id": "2bcd536a",
   "metadata": {},
   "outputs": [
    {
     "data": {
      "text/plain": [
       "(83, 21)"
      ]
     },
     "execution_count": 95,
     "metadata": {},
     "output_type": "execute_result"
    }
   ],
   "source": [
    "pn_Num_list = list(case_3_305.pn_num.unique())\n",
    "\n",
    "final_train = []   # appending all the individual rows\n",
    "for patient_number in pn_Num_list:  # for each unique patient number\n",
    "    entities = []  # saving individaual entities locations\n",
    "    for row_index,row in case_3_305[case_3_305.pn_num == patient_number].iterrows():  # for each unique patient number \n",
    "        \n",
    "        entities.append((int(row[\"start_location\"]),int(row[\"end_location\"]),\"Feature_\" + str(row[\"feature_num\"]))) # store the locations in numeric format\n",
    "        \n",
    "    text = case_3_305[case_3_305.pn_num == patient_number][\"New_pn_history\"].values[0] # save the text for the unique patient number\n",
    "    \n",
    "    final_train.append((text,{\"entities\":entities}))  # for each unique pn_number append to final list\n",
    "    \n",
    "# Serializing json \n",
    "json_object = json.dumps(final_train, indent = 4)\n",
    "  \n",
    "# Writing to sample.json\n",
    "with open(\"sample_305.json\", \"w\") as outfile:\n",
    "    outfile.write(json_object)\n",
    "    \n",
    "# Opening JSON file\n",
    "f = open(\"sample_305.json\")\n",
    " \n",
    "# returns JSON object as\n",
    "# a dictionary\n",
    "data = json.load(f)\n",
    "\n",
    "nlp = spacy.blank(\"en\")\n",
    "def create_training(TRAIN_DATA):\n",
    "    db = DocBin()\n",
    "    for text, annot in tqdm(TRAIN_DATA):\n",
    "        doc = nlp.make_doc(text)\n",
    "        ents = []\n",
    "        for start, end, label in annot[\"entities\"]:\n",
    "            span = doc.char_span(start, end, label=label, alignment_mode=\"contract\")\n",
    "            if span is None:\n",
    "                print (\"Skipping entity\")\n",
    "            else:\n",
    "                ents.append(span)\n",
    "        doc.ents = ents\n",
    "        db.add(doc)\n",
    "    return (db)\n",
    "\n",
    "train, validation = train_test_split(data, test_size = 0.2, random_state = 100)\n",
    "len(train),len(validation)"
   ]
  },
  {
   "cell_type": "code",
   "execution_count": 96,
   "id": "3284a927",
   "metadata": {},
   "outputs": [
    {
     "name": "stderr",
     "output_type": "stream",
     "text": [
      "100%|█████████████████████████████████████████████████████████████████████████████████| 83/83 [00:00<00:00, 391.01it/s]\n"
     ]
    }
   ],
   "source": [
    "#train data set\n",
    "camp_train = create_training(train)\n",
    "camp_train.to_disk(\"nbme_train_305.spacy\")"
   ]
  },
  {
   "cell_type": "code",
   "execution_count": 97,
   "id": "a0d9cee4",
   "metadata": {},
   "outputs": [
    {
     "name": "stderr",
     "output_type": "stream",
     "text": [
      "100%|█████████████████████████████████████████████████████████████████████████████████| 21/21 [00:00<00:00, 554.51it/s]\n"
     ]
    }
   ],
   "source": [
    "#Validation data set\n",
    "camp_validation = create_training(validation)\n",
    "camp_validation.to_disk(\"nbme_validation_305.spacy\")"
   ]
  },
  {
   "cell_type": "code",
   "execution_count": 98,
   "id": "71e66cd4",
   "metadata": {},
   "outputs": [
    {
     "name": "stdout",
     "output_type": "stream",
     "text": [
      "[+] Auto-filled config with all values\n",
      "[+] Saved config\n",
      "config_305.cfg\n",
      "You can now add your data and train your pipeline:\n",
      "python -m spacy train config_305.cfg --paths.train ./train.spacy --paths.dev ./dev.spacy\n"
     ]
    },
    {
     "name": "stderr",
     "output_type": "stream",
     "text": [
      "2022-05-06 15:41:42.914590: W tensorflow/stream_executor/platform/default/dso_loader.cc:64] Could not load dynamic library 'cudart64_110.dll'; dlerror: cudart64_110.dll not found\n",
      "2022-05-06 15:41:42.914657: I tensorflow/stream_executor/cuda/cudart_stub.cc:29] Ignore above cudart dlerror if you do not have a GPU set up on your machine.\n"
     ]
    }
   ],
   "source": [
    "!python -m spacy init fill-config ./base_config_305.cfg ./config_305.cfg"
   ]
  },
  {
   "cell_type": "code",
   "execution_count": 99,
   "id": "7dfb0ffa",
   "metadata": {},
   "outputs": [
    {
     "name": "stdout",
     "output_type": "stream",
     "text": [
      "[i] Saving to output directory: output_305\n",
      "[i] Using CPU\n",
      "\u001b[1m\n",
      "=========================== Initializing pipeline ===========================\u001b[0m\n",
      "[+] Initialized pipeline\n",
      "\u001b[1m\n",
      "============================= Training pipeline =============================\u001b[0m\n",
      "[i] Pipeline: ['tok2vec', 'ner']\n",
      "[i] Initial learn rate: 0.001\n",
      "E    #       LOSS TOK2VEC  LOSS NER  ENTS_F  ENTS_P  ENTS_R  SCORE \n",
      "---  ------  ------------  --------  ------  ------  ------  ------\n",
      "  0       0          0.00     67.67    0.00    0.00    0.00    0.00\n",
      "  2     200         30.68   1242.25   42.11   50.00   36.36    0.42\n",
      "  4     400       1268.52    351.95   70.27   86.67   59.09    0.70\n",
      "  7     600         44.86     88.83   80.00   88.89   72.73    0.80\n",
      "  9     800       1417.43     99.72   75.68   93.33   63.64    0.76\n",
      " 12    1000         41.40     31.82   83.72   85.71   81.82    0.84\n",
      " 14    1200          4.42      2.21   75.00   83.33   68.18    0.75\n",
      " 16    1400         18.86      8.52   61.54   70.59   54.55    0.62\n",
      " 19    1600         14.01      6.50   80.00   88.89   72.73    0.80\n",
      " 23    1800          2.63      0.97   76.92   88.24   68.18    0.77\n",
      " 28    2000         18.88      9.03   71.43   75.00   68.18    0.71\n",
      " 34    2200         60.63     21.83   74.42   76.19   72.73    0.74\n",
      " 41    2400        594.47     80.24   80.95   85.00   77.27    0.81\n",
      " 51    2600        150.65     45.93   71.43   75.00   68.18    0.71\n",
      "[+] Saved pipeline to output directory\n",
      "output_305\\model-last\n"
     ]
    },
    {
     "name": "stderr",
     "output_type": "stream",
     "text": [
      "2022-05-06 15:41:51.358659: W tensorflow/stream_executor/platform/default/dso_loader.cc:64] Could not load dynamic library 'cudart64_110.dll'; dlerror: cudart64_110.dll not found\n",
      "2022-05-06 15:41:51.358697: I tensorflow/stream_executor/cuda/cudart_stub.cc:29] Ignore above cudart dlerror if you do not have a GPU set up on your machine.\n",
      "[2022-05-06 15:41:55,355] [INFO] Set up nlp object from config\n",
      "[2022-05-06 15:41:55,367] [INFO] Pipeline: ['tok2vec', 'ner']\n",
      "[2022-05-06 15:41:55,374] [INFO] Created vocabulary\n",
      "[2022-05-06 15:41:55,376] [INFO] Finished initializing nlp object\n",
      "[2022-05-06 15:41:55,903] [INFO] Initialized pipeline components: ['tok2vec', 'ner']\n"
     ]
    }
   ],
   "source": [
    "!python -m spacy train config_305.cfg --output ./output_305"
   ]
  },
  {
   "cell_type": "code",
   "execution_count": null,
   "id": "7caeb84a",
   "metadata": {},
   "outputs": [],
   "source": []
  },
  {
   "cell_type": "markdown",
   "id": "d9e98073",
   "metadata": {},
   "source": [
    "### Feature 306"
   ]
  },
  {
   "cell_type": "code",
   "execution_count": 100,
   "id": "d8e3433c",
   "metadata": {},
   "outputs": [],
   "source": [
    "case_3 = case_3.drop(index = 877, axis = 0)"
   ]
  },
  {
   "cell_type": "code",
   "execution_count": 101,
   "id": "fa14a907",
   "metadata": {},
   "outputs": [
    {
     "data": {
      "text/plain": [
       "(105, 11)"
      ]
     },
     "execution_count": 101,
     "metadata": {},
     "output_type": "execute_result"
    }
   ],
   "source": [
    "case_3_306 = case_3[case_3[\"feature_num\"] == 306]\n",
    "case_3_306.shape"
   ]
  },
  {
   "cell_type": "code",
   "execution_count": 102,
   "id": "21481656",
   "metadata": {},
   "outputs": [
    {
     "data": {
      "text/plain": [
       "(60, 15)"
      ]
     },
     "execution_count": 102,
     "metadata": {},
     "output_type": "execute_result"
    }
   ],
   "source": [
    "pn_Num_list = list(case_3_306.pn_num.unique())\n",
    "\n",
    "final_train = []   # appending all the individual rows\n",
    "for patient_number in pn_Num_list:  # for each unique patient number\n",
    "    entities = []  # saving individaual entities locations\n",
    "    for row_index,row in case_3_306[case_3_306.pn_num == patient_number].iterrows():  # for each unique patient number \n",
    "        \n",
    "        entities.append((int(row[\"start_location\"]),int(row[\"end_location\"]),\"Feature_\" + str(row[\"feature_num\"]))) # store the locations in numeric format\n",
    "        \n",
    "    text = case_3_306[case_3_306.pn_num == patient_number][\"New_pn_history\"].values[0] # save the text for the unique patient number\n",
    "    \n",
    "    final_train.append((text,{\"entities\":entities}))  # for each unique pn_number append to final list\n",
    "    \n",
    "# Serializing json \n",
    "json_object = json.dumps(final_train, indent = 4)\n",
    "  \n",
    "# Writing to sample.json\n",
    "with open(\"sample_306.json\", \"w\") as outfile:\n",
    "    outfile.write(json_object)\n",
    "    \n",
    "# Opening JSON file\n",
    "f = open(\"sample_306.json\")\n",
    " \n",
    "# returns JSON object as\n",
    "# a dictionary\n",
    "data = json.load(f)\n",
    "\n",
    "nlp = spacy.blank(\"en\")\n",
    "def create_training(TRAIN_DATA):\n",
    "    db = DocBin()\n",
    "    for text, annot in tqdm(TRAIN_DATA):\n",
    "        doc = nlp.make_doc(text)\n",
    "        ents = []\n",
    "        for start, end, label in annot[\"entities\"]:\n",
    "            span = doc.char_span(start, end, label=label, alignment_mode=\"contract\")\n",
    "            if span is None:\n",
    "                print (\"Skipping entity\")\n",
    "            else:\n",
    "                ents.append(span)\n",
    "        doc.ents = ents\n",
    "        db.add(doc)\n",
    "    return (db)\n",
    "\n",
    "train, validation = train_test_split(data, test_size = 0.2, random_state = 100)\n",
    "len(train),len(validation)"
   ]
  },
  {
   "cell_type": "code",
   "execution_count": 103,
   "id": "5013203e",
   "metadata": {},
   "outputs": [
    {
     "name": "stderr",
     "output_type": "stream",
     "text": [
      "100%|█████████████████████████████████████████████████████████████████████████████████| 60/60 [00:00<00:00, 590.20it/s]\n"
     ]
    }
   ],
   "source": [
    "#train data set\n",
    "camp_train = create_training(train)\n",
    "camp_train.to_disk(\"nbme_train_306.spacy\")"
   ]
  },
  {
   "cell_type": "code",
   "execution_count": 104,
   "id": "4170a7f0",
   "metadata": {},
   "outputs": [
    {
     "name": "stderr",
     "output_type": "stream",
     "text": [
      "100%|█████████████████████████████████████████████████████████████████████████████████| 15/15 [00:00<00:00, 519.03it/s]\n"
     ]
    }
   ],
   "source": [
    "#Validation data set\n",
    "camp_validation = create_training(validation)\n",
    "camp_validation.to_disk(\"nbme_validation_306.spacy\")"
   ]
  },
  {
   "cell_type": "code",
   "execution_count": 105,
   "id": "2ced9f98",
   "metadata": {},
   "outputs": [
    {
     "name": "stdout",
     "output_type": "stream",
     "text": [
      "[+] Auto-filled config with all values\n",
      "[+] Saved config\n",
      "config_306.cfg\n",
      "You can now add your data and train your pipeline:\n",
      "python -m spacy train config_306.cfg --paths.train ./train.spacy --paths.dev ./dev.spacy\n"
     ]
    },
    {
     "name": "stderr",
     "output_type": "stream",
     "text": [
      "2022-05-06 15:46:00.559061: W tensorflow/stream_executor/platform/default/dso_loader.cc:64] Could not load dynamic library 'cudart64_110.dll'; dlerror: cudart64_110.dll not found\n",
      "2022-05-06 15:46:00.559112: I tensorflow/stream_executor/cuda/cudart_stub.cc:29] Ignore above cudart dlerror if you do not have a GPU set up on your machine.\n"
     ]
    }
   ],
   "source": [
    "!python -m spacy init fill-config ./base_config_306.cfg ./config_306.cfg"
   ]
  },
  {
   "cell_type": "code",
   "execution_count": 106,
   "id": "1697e682",
   "metadata": {},
   "outputs": [
    {
     "name": "stdout",
     "output_type": "stream",
     "text": [
      "[i] Saving to output directory: output_306\n",
      "[i] Using CPU\n",
      "\u001b[1m\n",
      "=========================== Initializing pipeline ===========================\u001b[0m\n",
      "[+] Initialized pipeline\n",
      "\u001b[1m\n",
      "============================= Training pipeline =============================\u001b[0m\n",
      "[i] Pipeline: ['tok2vec', 'ner']\n",
      "[i] Initial learn rate: 0.001\n",
      "E    #       LOSS TOK2VEC  LOSS NER  ENTS_F  ENTS_P  ENTS_R  SCORE \n",
      "---  ------  ------------  --------  ------  ------  ------  ------\n",
      "  0       0          0.00     51.00    4.26    3.85    4.76    0.04\n",
      "  3     200         35.70   1356.44   43.75   63.64   33.33    0.44\n",
      "  6     400       2741.28    238.76   63.16   70.59   57.14    0.63\n",
      " 10     600         38.04     41.17   45.00   47.37   42.86    0.45\n",
      " 13     800         50.34     27.92   54.05   62.50   47.62    0.54\n",
      " 16    1000         17.58     13.50   70.00   73.68   66.67    0.70\n",
      " 20    1200          7.47      3.57   64.86   75.00   57.14    0.65\n",
      " 23    1400         41.54     13.71   50.00   52.63   47.62    0.50\n",
      " 28    1600         16.09      8.48   61.54   66.67   57.14    0.62\n",
      " 35    1800         40.96     15.36   46.15   50.00   42.86    0.46\n",
      " 43    2000        174.14     59.79   56.41   61.11   52.38    0.56\n",
      " 54    2200         67.63     17.86   40.00   42.11   38.10    0.40\n",
      " 67    2400          1.18      0.35   61.54   66.67   57.14    0.62\n",
      " 84    2600         47.38     10.61   59.46   68.75   52.38    0.59\n",
      "[+] Saved pipeline to output directory\n",
      "output_306\\model-last\n"
     ]
    },
    {
     "name": "stderr",
     "output_type": "stream",
     "text": [
      "2022-05-06 15:46:07.194653: W tensorflow/stream_executor/platform/default/dso_loader.cc:64] Could not load dynamic library 'cudart64_110.dll'; dlerror: cudart64_110.dll not found\n",
      "2022-05-06 15:46:07.194738: I tensorflow/stream_executor/cuda/cudart_stub.cc:29] Ignore above cudart dlerror if you do not have a GPU set up on your machine.\n",
      "[2022-05-06 15:46:10,899] [INFO] Set up nlp object from config\n",
      "[2022-05-06 15:46:10,909] [INFO] Pipeline: ['tok2vec', 'ner']\n",
      "[2022-05-06 15:46:10,912] [INFO] Created vocabulary\n",
      "[2022-05-06 15:46:10,913] [INFO] Finished initializing nlp object\n",
      "[2022-05-06 15:46:11,393] [INFO] Initialized pipeline components: ['tok2vec', 'ner']\n"
     ]
    }
   ],
   "source": [
    "!python -m spacy train config_306.cfg --output ./output_306"
   ]
  },
  {
   "cell_type": "code",
   "execution_count": null,
   "id": "efb02460",
   "metadata": {},
   "outputs": [],
   "source": []
  },
  {
   "cell_type": "markdown",
   "id": "acc8a56d",
   "metadata": {},
   "source": [
    "### Feature 307"
   ]
  },
  {
   "cell_type": "code",
   "execution_count": 107,
   "id": "0454955f",
   "metadata": {},
   "outputs": [],
   "source": [
    "case_3 = case_3.drop(index = 1422, axis = 0)"
   ]
  },
  {
   "cell_type": "code",
   "execution_count": 108,
   "id": "e99992a7",
   "metadata": {},
   "outputs": [],
   "source": [
    "case_3 = case_3.drop(index = 1396, axis = 0)"
   ]
  },
  {
   "cell_type": "code",
   "execution_count": 109,
   "id": "ec7249ab",
   "metadata": {},
   "outputs": [],
   "source": [
    "case_3 = case_3.drop(index = 1414, axis = 0)"
   ]
  },
  {
   "cell_type": "code",
   "execution_count": 110,
   "id": "e804f334",
   "metadata": {},
   "outputs": [],
   "source": [
    "case_3 = case_3.drop(index = 1407, axis = 0)"
   ]
  },
  {
   "cell_type": "code",
   "execution_count": null,
   "id": "b496c1ae",
   "metadata": {},
   "outputs": [],
   "source": []
  },
  {
   "cell_type": "code",
   "execution_count": 111,
   "id": "37832bb7",
   "metadata": {},
   "outputs": [
    {
     "data": {
      "text/plain": [
       "(116, 11)"
      ]
     },
     "execution_count": 111,
     "metadata": {},
     "output_type": "execute_result"
    }
   ],
   "source": [
    "case_3_307 = case_3[case_3[\"feature_num\"] == 307]\n",
    "case_3_307.shape"
   ]
  },
  {
   "cell_type": "code",
   "execution_count": 112,
   "id": "86a1fc25",
   "metadata": {},
   "outputs": [
    {
     "data": {
      "text/plain": [
       "(92, 24)"
      ]
     },
     "execution_count": 112,
     "metadata": {},
     "output_type": "execute_result"
    }
   ],
   "source": [
    "pn_Num_list = list(case_3_307.pn_num.unique())\n",
    "\n",
    "final_train = []   # appending all the individual rows\n",
    "for patient_number in pn_Num_list:  # for each unique patient number\n",
    "    entities = []  # saving individaual entities locations\n",
    "    for row_index,row in case_3_307[case_3_307.pn_num == patient_number].iterrows():  # for each unique patient number \n",
    "        \n",
    "        entities.append((int(row[\"start_location\"]),int(row[\"end_location\"]),\"Feature_\" + str(row[\"feature_num\"]))) # store the locations in numeric format\n",
    "        \n",
    "    text = case_3_307[case_3_307.pn_num == patient_number][\"New_pn_history\"].values[0] # save the text for the unique patient number\n",
    "    \n",
    "    final_train.append((text,{\"entities\":entities}))  # for each unique pn_number append to final list\n",
    "    \n",
    "# Serializing json \n",
    "json_object = json.dumps(final_train, indent = 4)\n",
    "  \n",
    "# Writing to sample.json\n",
    "with open(\"sample_307.json\", \"w\") as outfile:\n",
    "    outfile.write(json_object)\n",
    "    \n",
    "# Opening JSON file\n",
    "f = open(\"sample_307.json\")\n",
    " \n",
    "# returns JSON object as\n",
    "# a dictionary\n",
    "data = json.load(f)\n",
    "\n",
    "nlp = spacy.blank(\"en\")\n",
    "def create_training(TRAIN_DATA):\n",
    "    db = DocBin()\n",
    "    for text, annot in tqdm(TRAIN_DATA):\n",
    "        doc = nlp.make_doc(text)\n",
    "        ents = []\n",
    "        for start, end, label in annot[\"entities\"]:\n",
    "            span = doc.char_span(start, end, label=label, alignment_mode=\"contract\")\n",
    "            if span is None:\n",
    "                print (\"Skipping entity\")\n",
    "            else:\n",
    "                ents.append(span)\n",
    "        doc.ents = ents\n",
    "        db.add(doc)\n",
    "    return (db)\n",
    "\n",
    "train, validation = train_test_split(data, test_size = 0.2, random_state = 100)\n",
    "len(train),len(validation)"
   ]
  },
  {
   "cell_type": "code",
   "execution_count": 113,
   "id": "e38ac7a3",
   "metadata": {},
   "outputs": [
    {
     "name": "stderr",
     "output_type": "stream",
     "text": [
      "100%|█████████████████████████████████████████████████████████████████████████████████| 92/92 [00:00<00:00, 782.10it/s]\n"
     ]
    }
   ],
   "source": [
    "#train data set\n",
    "camp_train = create_training(train)\n",
    "camp_train.to_disk(\"nbme_train_307.spacy\")"
   ]
  },
  {
   "cell_type": "code",
   "execution_count": 114,
   "id": "ac5a7f6c",
   "metadata": {},
   "outputs": [
    {
     "name": "stderr",
     "output_type": "stream",
     "text": [
      "100%|████████████████████████████████████████████████████████████████████████████████| 24/24 [00:00<00:00, 1094.55it/s]\n"
     ]
    }
   ],
   "source": [
    "#Validation data set\n",
    "camp_validation = create_training(validation)\n",
    "camp_validation.to_disk(\"nbme_validation_307.spacy\")"
   ]
  },
  {
   "cell_type": "code",
   "execution_count": 115,
   "id": "a12297c5",
   "metadata": {},
   "outputs": [
    {
     "name": "stdout",
     "output_type": "stream",
     "text": [
      "[+] Auto-filled config with all values\n",
      "[+] Saved config\n",
      "config_307.cfg\n",
      "You can now add your data and train your pipeline:\n",
      "python -m spacy train config_307.cfg --paths.train ./train.spacy --paths.dev ./dev.spacy\n"
     ]
    },
    {
     "name": "stderr",
     "output_type": "stream",
     "text": [
      "2022-05-06 15:49:53.430171: W tensorflow/stream_executor/platform/default/dso_loader.cc:64] Could not load dynamic library 'cudart64_110.dll'; dlerror: cudart64_110.dll not found\n",
      "2022-05-06 15:49:53.430209: I tensorflow/stream_executor/cuda/cudart_stub.cc:29] Ignore above cudart dlerror if you do not have a GPU set up on your machine.\n"
     ]
    }
   ],
   "source": [
    "!python -m spacy init fill-config ./base_config_307.cfg ./config_307.cfg"
   ]
  },
  {
   "cell_type": "code",
   "execution_count": 116,
   "id": "3130d9d5",
   "metadata": {},
   "outputs": [
    {
     "name": "stdout",
     "output_type": "stream",
     "text": [
      "[i] Saving to output directory: output_307\n",
      "[i] Using CPU\n",
      "\u001b[1m\n",
      "=========================== Initializing pipeline ===========================\u001b[0m\n",
      "[+] Initialized pipeline\n",
      "\u001b[1m\n",
      "============================= Training pipeline =============================\u001b[0m\n",
      "[i] Pipeline: ['tok2vec', 'ner']\n",
      "[i] Initial learn rate: 0.001\n",
      "E    #       LOSS TOK2VEC  LOSS NER  ENTS_F  ENTS_P  ENTS_R  SCORE \n",
      "---  ------  ------------  --------  ------  ------  ------  ------\n",
      "  0       0          0.00     47.33    1.41    0.85    4.17    0.01\n",
      "  2     200        183.03   1466.90   50.91   45.16   58.33    0.51\n",
      "  4     400        105.00    161.96   56.00   53.85   58.33    0.56\n",
      "  6     600         80.59     94.22   48.15   43.33   54.17    0.48\n",
      "  8     800         89.55     73.79   60.47   68.42   54.17    0.60\n",
      " 10    1000         70.51     55.18   53.66   64.71   45.83    0.54\n",
      " 13    1200         29.81     22.83   51.06   52.17   50.00    0.51\n",
      " 15    1400         12.03      6.82   68.09   69.57   66.67    0.68\n",
      " 18    1600        119.93     59.06   54.55   60.00   50.00    0.55\n",
      " 22    1800         82.90     36.02   52.17   54.55   50.00    0.52\n",
      " 27    2000         17.64      7.22   48.89   52.38   45.83    0.49\n",
      " 34    2200         99.17     21.88   66.67   71.43   62.50    0.67\n",
      " 42    2400          0.03      0.01   66.67   71.43   62.50    0.67\n",
      " 53    2600         56.55     12.12   59.57   60.87   58.33    0.60\n",
      " 65    2800         84.70     20.73   68.18   75.00   62.50    0.68\n",
      " 78    3000        158.27     36.17   62.22   66.67   58.33    0.62\n",
      " 92    3200         19.59      3.80   60.87   63.64   58.33    0.61\n",
      "105    3400          0.20      0.04   60.87   63.64   58.33    0.61\n",
      "118    3600         46.22      7.65   69.57   72.73   66.67    0.70\n",
      "131    3800        115.29     21.65   59.09   65.00   54.17    0.59\n",
      "144    4000        236.01     50.41   66.67   77.78   58.33    0.67\n",
      "157    4200        102.61     23.66   57.14   66.67   50.00    0.57\n",
      "170    4400         26.15      4.28   63.64   70.00   58.33    0.64\n",
      "183    4600         81.36      8.24   59.57   60.87   58.33    0.60\n",
      "196    4800        143.87     17.22   75.56   80.95   70.83    0.76\n",
      "209    5000        159.02      2.24   77.27   85.00   70.83    0.77\n",
      "222    5200         84.23      6.12   63.64   70.00   58.33    0.64\n",
      "235    5400          0.00      0.00   63.64   70.00   58.33    0.64\n",
      "248    5600          0.00      0.00   63.64   70.00   58.33    0.64\n",
      "261    5800          0.02      0.00   66.67   71.43   62.50    0.67\n",
      "274    6000          0.00      0.00   68.09   69.57   66.67    0.68\n",
      "287    6200          0.00      0.00   68.09   69.57   66.67    0.68\n",
      "300    6400          0.00      0.00   68.09   69.57   66.67    0.68\n",
      "313    6600          0.00      0.00   68.09   69.57   66.67    0.68\n",
      "[+] Saved pipeline to output directory\n",
      "output_307\\model-last\n"
     ]
    },
    {
     "name": "stderr",
     "output_type": "stream",
     "text": [
      "2022-05-06 15:49:58.291651: W tensorflow/stream_executor/platform/default/dso_loader.cc:64] Could not load dynamic library 'cudart64_110.dll'; dlerror: cudart64_110.dll not found\n",
      "2022-05-06 15:49:58.291687: I tensorflow/stream_executor/cuda/cudart_stub.cc:29] Ignore above cudart dlerror if you do not have a GPU set up on your machine.\n",
      "[2022-05-06 15:50:01,267] [INFO] Set up nlp object from config\n",
      "[2022-05-06 15:50:01,276] [INFO] Pipeline: ['tok2vec', 'ner']\n",
      "[2022-05-06 15:50:01,280] [INFO] Created vocabulary\n",
      "[2022-05-06 15:50:01,281] [INFO] Finished initializing nlp object\n",
      "[2022-05-06 15:50:01,774] [INFO] Initialized pipeline components: ['tok2vec', 'ner']\n"
     ]
    }
   ],
   "source": [
    "!python -m spacy train config_307.cfg --output ./output_307"
   ]
  },
  {
   "cell_type": "code",
   "execution_count": null,
   "id": "09854169",
   "metadata": {},
   "outputs": [],
   "source": []
  },
  {
   "cell_type": "markdown",
   "id": "33194757",
   "metadata": {},
   "source": [
    "### Feature 308"
   ]
  },
  {
   "cell_type": "code",
   "execution_count": 117,
   "id": "e48ef9df",
   "metadata": {},
   "outputs": [
    {
     "data": {
      "text/plain": [
       "(100, 11)"
      ]
     },
     "execution_count": 117,
     "metadata": {},
     "output_type": "execute_result"
    }
   ],
   "source": [
    "case_3_308 = case_3[case_3[\"feature_num\"] == 308]\n",
    "case_3_308.shape"
   ]
  },
  {
   "cell_type": "code",
   "execution_count": 118,
   "id": "7598e2a4",
   "metadata": {},
   "outputs": [
    {
     "data": {
      "text/plain": [
       "(73, 19)"
      ]
     },
     "execution_count": 118,
     "metadata": {},
     "output_type": "execute_result"
    }
   ],
   "source": [
    "pn_Num_list = list(case_3_308.pn_num.unique())\n",
    "\n",
    "final_train = []   # appending all the individual rows\n",
    "for patient_number in pn_Num_list:  # for each unique patient number\n",
    "    entities = []  # saving individaual entities locations\n",
    "    for row_index,row in case_3_308[case_3_308.pn_num == patient_number].iterrows():  # for each unique patient number \n",
    "        \n",
    "        entities.append((int(row[\"start_location\"]),int(row[\"end_location\"]),\"Feature_\" + str(row[\"feature_num\"]))) # store the locations in numeric format\n",
    "        \n",
    "    text = case_3_308[case_3_308.pn_num == patient_number][\"New_pn_history\"].values[0] # save the text for the unique patient number\n",
    "    \n",
    "    final_train.append((text,{\"entities\":entities}))  # for each unique pn_number append to final list\n",
    "    \n",
    "# Serializing json \n",
    "json_object = json.dumps(final_train, indent = 4)\n",
    "  \n",
    "# Writing to sample.json\n",
    "with open(\"sample_308.json\", \"w\") as outfile:\n",
    "    outfile.write(json_object)\n",
    "    \n",
    "# Opening JSON file\n",
    "f = open(\"sample_308.json\")\n",
    " \n",
    "# returns JSON object as\n",
    "# a dictionary\n",
    "data = json.load(f)\n",
    "\n",
    "nlp = spacy.blank(\"en\")\n",
    "def create_training(TRAIN_DATA):\n",
    "    db = DocBin()\n",
    "    for text, annot in tqdm(TRAIN_DATA):\n",
    "        doc = nlp.make_doc(text)\n",
    "        ents = []\n",
    "        for start, end, label in annot[\"entities\"]:\n",
    "            span = doc.char_span(start, end, label=label, alignment_mode=\"contract\")\n",
    "            if span is None:\n",
    "                print (\"Skipping entity\")\n",
    "            else:\n",
    "                ents.append(span)\n",
    "        doc.ents = ents\n",
    "        db.add(doc)\n",
    "    return (db)\n",
    "\n",
    "train, validation = train_test_split(data, test_size = 0.2, random_state = 100)\n",
    "len(train),len(validation)"
   ]
  },
  {
   "cell_type": "code",
   "execution_count": 119,
   "id": "acc0ed65",
   "metadata": {},
   "outputs": [
    {
     "name": "stderr",
     "output_type": "stream",
     "text": [
      "100%|█████████████████████████████████████████████████████████████████████████████████| 73/73 [00:00<00:00, 903.65it/s]"
     ]
    },
    {
     "name": "stdout",
     "output_type": "stream",
     "text": [
      "Skipping entity\n",
      "Skipping entity\n"
     ]
    },
    {
     "name": "stderr",
     "output_type": "stream",
     "text": [
      "\n"
     ]
    }
   ],
   "source": [
    "#train data set\n",
    "camp_train = create_training(train)\n",
    "camp_train.to_disk(\"nbme_train_308.spacy\")"
   ]
  },
  {
   "cell_type": "code",
   "execution_count": 120,
   "id": "0c4dfe90",
   "metadata": {},
   "outputs": [
    {
     "name": "stderr",
     "output_type": "stream",
     "text": [
      "100%|████████████████████████████████████████████████████████████████████████████████| 19/19 [00:00<00:00, 1046.57it/s]"
     ]
    },
    {
     "name": "stdout",
     "output_type": "stream",
     "text": [
      "Skipping entity\n"
     ]
    },
    {
     "name": "stderr",
     "output_type": "stream",
     "text": [
      "\n"
     ]
    }
   ],
   "source": [
    "#Validation data set\n",
    "camp_validation = create_training(validation)\n",
    "camp_validation.to_disk(\"nbme_validation_308.spacy\")"
   ]
  },
  {
   "cell_type": "code",
   "execution_count": 121,
   "id": "e1622bd5",
   "metadata": {},
   "outputs": [
    {
     "name": "stdout",
     "output_type": "stream",
     "text": [
      "[+] Auto-filled config with all values\n",
      "[+] Saved config\n",
      "config_308.cfg\n",
      "You can now add your data and train your pipeline:\n",
      "python -m spacy train config_308.cfg --paths.train ./train.spacy --paths.dev ./dev.spacy\n"
     ]
    },
    {
     "name": "stderr",
     "output_type": "stream",
     "text": [
      "2022-05-06 16:02:32.393127: W tensorflow/stream_executor/platform/default/dso_loader.cc:64] Could not load dynamic library 'cudart64_110.dll'; dlerror: cudart64_110.dll not found\n",
      "2022-05-06 16:02:32.393163: I tensorflow/stream_executor/cuda/cudart_stub.cc:29] Ignore above cudart dlerror if you do not have a GPU set up on your machine.\n"
     ]
    }
   ],
   "source": [
    "!python -m spacy init fill-config ./base_config_308.cfg ./config_308.cfg"
   ]
  },
  {
   "cell_type": "code",
   "execution_count": 122,
   "id": "c0e4653e",
   "metadata": {},
   "outputs": [
    {
     "name": "stdout",
     "output_type": "stream",
     "text": [
      "[i] Saving to output directory: output_308\n",
      "[i] Using CPU\n",
      "\u001b[1m\n",
      "=========================== Initializing pipeline ===========================\u001b[0m\n",
      "[+] Initialized pipeline\n",
      "\u001b[1m\n",
      "============================= Training pipeline =============================\u001b[0m\n",
      "[i] Pipeline: ['tok2vec', 'ner']\n",
      "[i] Initial learn rate: 0.001\n",
      "E    #       LOSS TOK2VEC  LOSS NER  ENTS_F  ENTS_P  ENTS_R  SCORE \n",
      "---  ------  ------------  --------  ------  ------  ------  ------\n",
      "  0       0          0.00     52.50    0.00    0.00    0.00    0.00\n",
      "  2     200          6.22   1007.81   97.56   95.24  100.00    0.98\n",
      "  5     400          1.81      2.00   95.24   90.91  100.00    0.95\n",
      "  8     600          0.00      0.00   95.24   90.91  100.00    0.95\n",
      " 10     800          0.00      0.00   95.24   90.91  100.00    0.95\n",
      " 13    1000          0.00      0.00   95.24   90.91  100.00    0.95\n",
      " 16    1200          0.00      0.00   95.24   90.91  100.00    0.95\n",
      " 19    1400          0.00      0.00   95.24   90.91  100.00    0.95\n",
      " 23    1600          0.00      0.00   95.24   90.91  100.00    0.95\n",
      " 28    1800          0.00      0.00   95.24   90.91  100.00    0.95\n",
      "[+] Saved pipeline to output directory\n",
      "output_308\\model-last\n"
     ]
    },
    {
     "name": "stderr",
     "output_type": "stream",
     "text": [
      "2022-05-06 16:02:37.208226: W tensorflow/stream_executor/platform/default/dso_loader.cc:64] Could not load dynamic library 'cudart64_110.dll'; dlerror: cudart64_110.dll not found\n",
      "2022-05-06 16:02:37.208266: I tensorflow/stream_executor/cuda/cudart_stub.cc:29] Ignore above cudart dlerror if you do not have a GPU set up on your machine.\n",
      "[2022-05-06 16:02:40,100] [INFO] Set up nlp object from config\n",
      "[2022-05-06 16:02:40,107] [INFO] Pipeline: ['tok2vec', 'ner']\n",
      "[2022-05-06 16:02:40,110] [INFO] Created vocabulary\n",
      "[2022-05-06 16:02:40,110] [INFO] Finished initializing nlp object\n",
      "[2022-05-06 16:02:40,459] [INFO] Initialized pipeline components: ['tok2vec', 'ner']\n"
     ]
    }
   ],
   "source": [
    "!python -m spacy train config_308.cfg --output ./output_308"
   ]
  },
  {
   "cell_type": "code",
   "execution_count": null,
   "id": "18f4eb38",
   "metadata": {},
   "outputs": [],
   "source": []
  },
  {
   "cell_type": "markdown",
   "id": "4344c72b",
   "metadata": {},
   "source": [
    "### Feature 309"
   ]
  },
  {
   "cell_type": "code",
   "execution_count": 123,
   "id": "d1f41e46",
   "metadata": {},
   "outputs": [],
   "source": [
    "case_3 = case_3.drop(index = 60, axis = 0)\n",
    "case_3 = case_3.drop(index = 589, axis = 0)"
   ]
  },
  {
   "cell_type": "code",
   "execution_count": 124,
   "id": "2e33a814",
   "metadata": {},
   "outputs": [
    {
     "data": {
      "text/plain": [
       "(94, 11)"
      ]
     },
     "execution_count": 124,
     "metadata": {},
     "output_type": "execute_result"
    }
   ],
   "source": [
    "case_3_309 = case_3[case_3[\"feature_num\"] == 309]\n",
    "case_3_309.shape"
   ]
  },
  {
   "cell_type": "code",
   "execution_count": 125,
   "id": "e3488669",
   "metadata": {},
   "outputs": [
    {
     "data": {
      "text/plain": [
       "(72, 18)"
      ]
     },
     "execution_count": 125,
     "metadata": {},
     "output_type": "execute_result"
    }
   ],
   "source": [
    "pn_Num_list = list(case_3_309.pn_num.unique())\n",
    "\n",
    "final_train = []   # appending all the individual rows\n",
    "for patient_number in pn_Num_list:  # for each unique patient number\n",
    "    entities = []  # saving individaual entities locations\n",
    "    for row_index,row in case_3_309[case_3_309.pn_num == patient_number].iterrows():  # for each unique patient number \n",
    "        \n",
    "        entities.append((int(row[\"start_location\"]),int(row[\"end_location\"]),\"Feature_\" + str(row[\"feature_num\"]))) # store the locations in numeric format\n",
    "        \n",
    "    text = case_3_309[case_3_309.pn_num == patient_number][\"New_pn_history\"].values[0] # save the text for the unique patient number\n",
    "    \n",
    "    final_train.append((text,{\"entities\":entities}))  # for each unique pn_number append to final list\n",
    "    \n",
    "# Serializing json \n",
    "json_object = json.dumps(final_train, indent = 4)\n",
    "  \n",
    "# Writing to sample.json\n",
    "with open(\"sample_309.json\", \"w\") as outfile:\n",
    "    outfile.write(json_object)\n",
    "    \n",
    "# Opening JSON file\n",
    "f = open(\"sample_309.json\")\n",
    " \n",
    "# returns JSON object as\n",
    "# a dictionary\n",
    "data = json.load(f)\n",
    "\n",
    "nlp = spacy.blank(\"en\")\n",
    "def create_training(TRAIN_DATA):\n",
    "    db = DocBin()\n",
    "    for text, annot in tqdm(TRAIN_DATA):\n",
    "        doc = nlp.make_doc(text)\n",
    "        ents = []\n",
    "        for start, end, label in annot[\"entities\"]:\n",
    "            span = doc.char_span(start, end, label=label, alignment_mode=\"contract\")\n",
    "            if span is None:\n",
    "                print (\"Skipping entity\")\n",
    "            else:\n",
    "                ents.append(span)\n",
    "        doc.ents = ents\n",
    "        db.add(doc)\n",
    "    return (db)\n",
    "\n",
    "train, validation = train_test_split(data, test_size = 0.2, random_state = 100)\n",
    "len(train),len(validation)"
   ]
  },
  {
   "cell_type": "code",
   "execution_count": 126,
   "id": "2768b1c4",
   "metadata": {},
   "outputs": [
    {
     "name": "stderr",
     "output_type": "stream",
     "text": [
      "100%|█████████████████████████████████████████████████████████████████████████████████| 72/72 [00:00<00:00, 628.18it/s]\n"
     ]
    }
   ],
   "source": [
    "#train data set\n",
    "camp_train = create_training(train)\n",
    "camp_train.to_disk(\"nbme_train_309.spacy\")"
   ]
  },
  {
   "cell_type": "code",
   "execution_count": 127,
   "id": "70122db0",
   "metadata": {},
   "outputs": [
    {
     "name": "stderr",
     "output_type": "stream",
     "text": [
      "100%|█████████████████████████████████████████████████████████████████████████████████| 18/18 [00:00<00:00, 752.46it/s]\n"
     ]
    }
   ],
   "source": [
    "#Validation data set\n",
    "camp_validation = create_training(validation)\n",
    "camp_validation.to_disk(\"nbme_validation_309.spacy\")"
   ]
  },
  {
   "cell_type": "code",
   "execution_count": 128,
   "id": "6b16ca72",
   "metadata": {},
   "outputs": [
    {
     "name": "stdout",
     "output_type": "stream",
     "text": [
      "[+] Auto-filled config with all values\n",
      "[+] Saved config\n",
      "config_309.cfg\n",
      "You can now add your data and train your pipeline:\n",
      "python -m spacy train config_309.cfg --paths.train ./train.spacy --paths.dev ./dev.spacy\n"
     ]
    },
    {
     "name": "stderr",
     "output_type": "stream",
     "text": [
      "2022-05-06 16:04:36.207758: W tensorflow/stream_executor/platform/default/dso_loader.cc:64] Could not load dynamic library 'cudart64_110.dll'; dlerror: cudart64_110.dll not found\n",
      "2022-05-06 16:04:36.207809: I tensorflow/stream_executor/cuda/cudart_stub.cc:29] Ignore above cudart dlerror if you do not have a GPU set up on your machine.\n"
     ]
    }
   ],
   "source": [
    "!python -m spacy init fill-config ./base_config_309.cfg ./config_309.cfg"
   ]
  },
  {
   "cell_type": "code",
   "execution_count": 129,
   "id": "604b7a21",
   "metadata": {},
   "outputs": [
    {
     "name": "stdout",
     "output_type": "stream",
     "text": [
      "[i] Saving to output directory: output_309\n",
      "[i] Using CPU\n",
      "\u001b[1m\n",
      "=========================== Initializing pipeline ===========================\u001b[0m\n",
      "[+] Initialized pipeline\n",
      "\u001b[1m\n",
      "============================= Training pipeline =============================\u001b[0m\n",
      "[i] Pipeline: ['tok2vec', 'ner']\n",
      "[i] Initial learn rate: 0.001\n",
      "E    #       LOSS TOK2VEC  LOSS NER  ENTS_F  ENTS_P  ENTS_R  SCORE \n",
      "---  ------  ------------  --------  ------  ------  ------  ------\n",
      "  0       0          0.00     52.50    0.00    0.00    0.00    0.00\n",
      "  2     200       1751.03   2167.85   73.68   77.78   70.00    0.74\n",
      "  5     400         32.47     92.01   54.55   50.00   60.00    0.55\n",
      "  8     600         14.42     29.03   52.38   50.00   55.00    0.52\n",
      " 11     800         27.11     24.06   55.00   55.00   55.00    0.55\n",
      " 13    1000         37.29     16.40   60.47   56.52   65.00    0.60\n",
      " 16    1200         30.17     28.12   50.00   50.00   50.00    0.50\n",
      " 19    1400          8.73     10.37   61.90   59.09   65.00    0.62\n",
      " 24    1600          4.97      3.67   65.00   65.00   65.00    0.65\n",
      " 29    1800          0.00      0.00   65.00   65.00   65.00    0.65\n",
      "[+] Saved pipeline to output directory\n",
      "output_309\\model-last\n"
     ]
    },
    {
     "name": "stderr",
     "output_type": "stream",
     "text": [
      "2022-05-06 16:04:41.377175: W tensorflow/stream_executor/platform/default/dso_loader.cc:64] Could not load dynamic library 'cudart64_110.dll'; dlerror: cudart64_110.dll not found\n",
      "2022-05-06 16:04:41.377221: I tensorflow/stream_executor/cuda/cudart_stub.cc:29] Ignore above cudart dlerror if you do not have a GPU set up on your machine.\n",
      "[2022-05-06 16:04:44,210] [INFO] Set up nlp object from config\n",
      "[2022-05-06 16:04:44,217] [INFO] Pipeline: ['tok2vec', 'ner']\n",
      "[2022-05-06 16:04:44,220] [INFO] Created vocabulary\n",
      "[2022-05-06 16:04:44,221] [INFO] Finished initializing nlp object\n",
      "[2022-05-06 16:04:44,600] [INFO] Initialized pipeline components: ['tok2vec', 'ner']\n"
     ]
    }
   ],
   "source": [
    "!python -m spacy train config_309.cfg --output ./output_309"
   ]
  },
  {
   "cell_type": "code",
   "execution_count": null,
   "id": "3bd54c93",
   "metadata": {},
   "outputs": [],
   "source": []
  },
  {
   "cell_type": "markdown",
   "id": "9b8b95bc",
   "metadata": {},
   "source": [
    "### Feature 310"
   ]
  },
  {
   "cell_type": "code",
   "execution_count": 130,
   "id": "63d7ce5f",
   "metadata": {},
   "outputs": [],
   "source": [
    "case_3 = case_3.drop(index = 1512, axis = 0)"
   ]
  },
  {
   "cell_type": "code",
   "execution_count": 131,
   "id": "137bb76a",
   "metadata": {},
   "outputs": [],
   "source": [
    "case_3 = case_3.drop(index = 1487, axis = 0)"
   ]
  },
  {
   "cell_type": "code",
   "execution_count": 132,
   "id": "86383996",
   "metadata": {},
   "outputs": [],
   "source": [
    "case_3 = case_3.drop(index = 1450, axis = 0)"
   ]
  },
  {
   "cell_type": "code",
   "execution_count": 133,
   "id": "50edaa13",
   "metadata": {},
   "outputs": [],
   "source": [
    "case_3 = case_3.drop(index = 1429, axis = 0)"
   ]
  },
  {
   "cell_type": "code",
   "execution_count": 134,
   "id": "a1c0cdf1",
   "metadata": {},
   "outputs": [],
   "source": [
    "case_3 = case_3.drop(index = 1476, axis = 0)"
   ]
  },
  {
   "cell_type": "code",
   "execution_count": 135,
   "id": "9b11934f",
   "metadata": {},
   "outputs": [],
   "source": [
    "case_3 = case_3.drop(index = 1479, axis = 0)"
   ]
  },
  {
   "cell_type": "code",
   "execution_count": 136,
   "id": "016e02dd",
   "metadata": {},
   "outputs": [],
   "source": [
    "case_3 = case_3.drop(index = 1442, axis = 0)"
   ]
  },
  {
   "cell_type": "code",
   "execution_count": 137,
   "id": "97db627f",
   "metadata": {},
   "outputs": [],
   "source": [
    "case_3 = case_3.drop(index = 1491, axis = 0)"
   ]
  },
  {
   "cell_type": "code",
   "execution_count": 138,
   "id": "6676f855",
   "metadata": {},
   "outputs": [],
   "source": [
    "case_3 = case_3.drop(index = 1504, axis = 0)"
   ]
  },
  {
   "cell_type": "code",
   "execution_count": 139,
   "id": "eb8ed17c",
   "metadata": {},
   "outputs": [],
   "source": [
    "case_3 = case_3.drop(index = 1455, axis = 0)"
   ]
  },
  {
   "cell_type": "code",
   "execution_count": 140,
   "id": "cc4c1389",
   "metadata": {},
   "outputs": [],
   "source": [
    "case_3 = case_3.drop(index = 1462, axis = 0)"
   ]
  },
  {
   "cell_type": "code",
   "execution_count": 141,
   "id": "acce8474",
   "metadata": {},
   "outputs": [],
   "source": [
    "case_3 = case_3.drop(index = 1446, axis = 0)"
   ]
  },
  {
   "cell_type": "code",
   "execution_count": 142,
   "id": "2a1c1e4c",
   "metadata": {},
   "outputs": [],
   "source": [
    "case_3 = case_3.drop(index = 1459, axis = 0)"
   ]
  },
  {
   "cell_type": "code",
   "execution_count": 143,
   "id": "490ab5a3",
   "metadata": {},
   "outputs": [],
   "source": [
    "case_3 = case_3.drop(index = 1489, axis = 0)"
   ]
  },
  {
   "cell_type": "code",
   "execution_count": 144,
   "id": "107b77df",
   "metadata": {},
   "outputs": [],
   "source": [
    "case_3 = case_3.drop(index = 1469, axis = 0)"
   ]
  },
  {
   "cell_type": "code",
   "execution_count": 145,
   "id": "84a91474",
   "metadata": {},
   "outputs": [],
   "source": [
    "case_3 = case_3.drop(index = 1431, axis = 0)"
   ]
  },
  {
   "cell_type": "code",
   "execution_count": 146,
   "id": "89e3047b",
   "metadata": {},
   "outputs": [],
   "source": [
    "case_3 = case_3.drop(index = 1496, axis = 0)"
   ]
  },
  {
   "cell_type": "code",
   "execution_count": 147,
   "id": "1641bdea",
   "metadata": {},
   "outputs": [],
   "source": [
    "case_3 = case_3.drop(index = 1506, axis = 0)"
   ]
  },
  {
   "cell_type": "code",
   "execution_count": 148,
   "id": "6a61b257",
   "metadata": {},
   "outputs": [
    {
     "data": {
      "text/plain": [
       "(105, 11)"
      ]
     },
     "execution_count": 148,
     "metadata": {},
     "output_type": "execute_result"
    }
   ],
   "source": [
    "case_3_310 = case_3[case_3[\"feature_num\"] == 310]\n",
    "case_3_310.shape"
   ]
  },
  {
   "cell_type": "code",
   "execution_count": 149,
   "id": "58628381",
   "metadata": {},
   "outputs": [
    {
     "data": {
      "text/plain": [
       "(84, 21)"
      ]
     },
     "execution_count": 149,
     "metadata": {},
     "output_type": "execute_result"
    }
   ],
   "source": [
    "pn_Num_list = list(case_3_310.pn_num.unique())\n",
    "\n",
    "final_train = []   # appending all the individual rows\n",
    "for patient_number in pn_Num_list:  # for each unique patient number\n",
    "    entities = []  # saving individaual entities locations\n",
    "    for row_index,row in case_3_310[case_3_310.pn_num == patient_number].iterrows():  # for each unique patient number \n",
    "        \n",
    "        entities.append((int(row[\"start_location\"]),int(row[\"end_location\"]),\"Feature_\" + str(row[\"feature_num\"]))) # store the locations in numeric format\n",
    "        \n",
    "    text = case_3_310[case_3_310.pn_num == patient_number][\"New_pn_history\"].values[0] # save the text for the unique patient number\n",
    "    \n",
    "    final_train.append((text,{\"entities\":entities}))  # for each unique pn_number append to final list\n",
    "    \n",
    "# Serializing json \n",
    "json_object = json.dumps(final_train, indent = 4)\n",
    "  \n",
    "# Writing to sample.json\n",
    "with open(\"sample_310.json\", \"w\") as outfile:\n",
    "    outfile.write(json_object)\n",
    "    \n",
    "# Opening JSON file\n",
    "f = open(\"sample_310.json\")\n",
    " \n",
    "# returns JSON object as\n",
    "# a dictionary\n",
    "data = json.load(f)\n",
    "\n",
    "nlp = spacy.blank(\"en\")\n",
    "def create_training(TRAIN_DATA):\n",
    "    db = DocBin()\n",
    "    for text, annot in tqdm(TRAIN_DATA):\n",
    "        doc = nlp.make_doc(text)\n",
    "        ents = []\n",
    "        for start, end, label in annot[\"entities\"]:\n",
    "            span = doc.char_span(start, end, label=label, alignment_mode=\"contract\")\n",
    "            if span is None:\n",
    "                print (\"Skipping entity\")\n",
    "            else:\n",
    "                ents.append(span)\n",
    "        doc.ents = ents\n",
    "        db.add(doc)\n",
    "    return (db)\n",
    "\n",
    "train, validation = train_test_split(data, test_size = 0.2, random_state = 100)\n",
    "len(train),len(validation)"
   ]
  },
  {
   "cell_type": "code",
   "execution_count": 150,
   "id": "c2b9c142",
   "metadata": {},
   "outputs": [
    {
     "name": "stderr",
     "output_type": "stream",
     "text": [
      "100%|█████████████████████████████████████████████████████████████████████████████████| 84/84 [00:00<00:00, 759.84it/s]\n"
     ]
    }
   ],
   "source": [
    "#train data set\n",
    "camp_train = create_training(train)\n",
    "camp_train.to_disk(\"nbme_train_310.spacy\")"
   ]
  },
  {
   "cell_type": "code",
   "execution_count": 151,
   "id": "bd49abbf",
   "metadata": {},
   "outputs": [
    {
     "name": "stderr",
     "output_type": "stream",
     "text": [
      "100%|█████████████████████████████████████████████████████████████████████████████████| 21/21 [00:00<00:00, 879.26it/s]\n"
     ]
    }
   ],
   "source": [
    "#Validation data set\n",
    "camp_validation = create_training(validation)\n",
    "camp_validation.to_disk(\"nbme_validation_310.spacy\")"
   ]
  },
  {
   "cell_type": "code",
   "execution_count": 152,
   "id": "1f52c39e",
   "metadata": {},
   "outputs": [
    {
     "name": "stdout",
     "output_type": "stream",
     "text": [
      "[+] Auto-filled config with all values\n",
      "[+] Saved config\n",
      "config_310.cfg\n",
      "You can now add your data and train your pipeline:\n",
      "python -m spacy train config_310.cfg --paths.train ./train.spacy --paths.dev ./dev.spacy\n"
     ]
    },
    {
     "name": "stderr",
     "output_type": "stream",
     "text": [
      "2022-05-06 16:06:58.270625: W tensorflow/stream_executor/platform/default/dso_loader.cc:64] Could not load dynamic library 'cudart64_110.dll'; dlerror: cudart64_110.dll not found\n",
      "2022-05-06 16:06:58.270670: I tensorflow/stream_executor/cuda/cudart_stub.cc:29] Ignore above cudart dlerror if you do not have a GPU set up on your machine.\n"
     ]
    }
   ],
   "source": [
    "!python -m spacy init fill-config ./base_config_310.cfg ./config_310.cfg"
   ]
  },
  {
   "cell_type": "code",
   "execution_count": 153,
   "id": "9ae0cd2c",
   "metadata": {},
   "outputs": [
    {
     "name": "stdout",
     "output_type": "stream",
     "text": [
      "[i] Saving to output directory: output_310\n",
      "[i] Using CPU\n",
      "\u001b[1m\n",
      "=========================== Initializing pipeline ===========================\u001b[0m\n",
      "[+] Initialized pipeline\n",
      "\u001b[1m\n",
      "============================= Training pipeline =============================\u001b[0m\n",
      "[i] Pipeline: ['tok2vec', 'ner']\n",
      "[i] Initial learn rate: 0.001\n",
      "E    #       LOSS TOK2VEC  LOSS NER  ENTS_F  ENTS_P  ENTS_R  SCORE \n",
      "---  ------  ------------  --------  ------  ------  ------  ------\n",
      "  0       0          0.00     66.50    0.00    0.00    0.00    0.00\n",
      "  2     200        760.09   1783.33   50.00   60.00   42.86    0.50\n",
      "  4     400      11632.21    254.09   72.73   69.57   76.19    0.73\n",
      "  7     600         48.49     70.34   80.95   80.95   80.95    0.81\n",
      "  9     800        178.01     67.39   83.72   81.82   85.71    0.84\n",
      " 11    1000         21.10     27.63   80.00   84.21   76.19    0.80\n",
      " 14    1200         15.09     19.31   75.56   70.83   80.95    0.76\n",
      " 16    1400        290.46     30.07   73.17   75.00   71.43    0.73\n",
      " 19    1600         56.13     19.36   80.95   80.95   80.95    0.81\n",
      " 21    1800         30.02     20.02   78.05   80.00   76.19    0.78\n",
      " 24    2000        212.26     29.97   82.93   85.00   80.95    0.83\n",
      " 27    2200         32.87     19.13   76.92   83.33   71.43    0.77\n",
      " 32    2400         18.83     11.24   66.67   66.67   66.67    0.67\n",
      "[+] Saved pipeline to output directory\n",
      "output_310\\model-last\n"
     ]
    },
    {
     "name": "stderr",
     "output_type": "stream",
     "text": [
      "2022-05-06 16:07:03.238435: W tensorflow/stream_executor/platform/default/dso_loader.cc:64] Could not load dynamic library 'cudart64_110.dll'; dlerror: cudart64_110.dll not found\n",
      "2022-05-06 16:07:03.238483: I tensorflow/stream_executor/cuda/cudart_stub.cc:29] Ignore above cudart dlerror if you do not have a GPU set up on your machine.\n",
      "[2022-05-06 16:07:06,083] [INFO] Set up nlp object from config\n",
      "[2022-05-06 16:07:06,090] [INFO] Pipeline: ['tok2vec', 'ner']\n",
      "[2022-05-06 16:07:06,093] [INFO] Created vocabulary\n",
      "[2022-05-06 16:07:06,094] [INFO] Finished initializing nlp object\n",
      "[2022-05-06 16:07:06,501] [INFO] Initialized pipeline components: ['tok2vec', 'ner']\n"
     ]
    }
   ],
   "source": [
    "!python -m spacy train config_310.cfg --output ./output_310"
   ]
  },
  {
   "cell_type": "code",
   "execution_count": null,
   "id": "36d68cde",
   "metadata": {},
   "outputs": [],
   "source": []
  },
  {
   "cell_type": "markdown",
   "id": "270f867e",
   "metadata": {},
   "source": [
    "### Feature 311"
   ]
  },
  {
   "cell_type": "code",
   "execution_count": 154,
   "id": "727e69d3",
   "metadata": {},
   "outputs": [],
   "source": [
    "case_3 = case_3.drop(index = 1546, axis = 0)"
   ]
  },
  {
   "cell_type": "code",
   "execution_count": 155,
   "id": "e0968c25",
   "metadata": {},
   "outputs": [],
   "source": [
    "case_3 = case_3.drop(index = 1544, axis = 0)"
   ]
  },
  {
   "cell_type": "code",
   "execution_count": 156,
   "id": "14df62f3",
   "metadata": {},
   "outputs": [],
   "source": [
    "case_3 = case_3.drop(index = 1556, axis = 0)"
   ]
  },
  {
   "cell_type": "code",
   "execution_count": 157,
   "id": "3bd873c6",
   "metadata": {},
   "outputs": [],
   "source": [
    "case_3 = case_3.drop(index = 1598, axis = 0)"
   ]
  },
  {
   "cell_type": "code",
   "execution_count": 158,
   "id": "2afc58c7",
   "metadata": {},
   "outputs": [],
   "source": [
    "case_3 = case_3.drop(index = 1524, axis = 0)"
   ]
  },
  {
   "cell_type": "code",
   "execution_count": 159,
   "id": "be66664b",
   "metadata": {},
   "outputs": [],
   "source": [
    "case_3 = case_3.drop(index = 1569, axis = 0)"
   ]
  },
  {
   "cell_type": "code",
   "execution_count": 160,
   "id": "6828a5cd",
   "metadata": {},
   "outputs": [],
   "source": [
    "case_3 = case_3.drop(index = 1597, axis = 0)"
   ]
  },
  {
   "cell_type": "code",
   "execution_count": 161,
   "id": "f9d02f70",
   "metadata": {},
   "outputs": [
    {
     "data": {
      "text/plain": [
       "(106, 11)"
      ]
     },
     "execution_count": 161,
     "metadata": {},
     "output_type": "execute_result"
    }
   ],
   "source": [
    "case_3_311 = case_3[case_3[\"feature_num\"] == 311]\n",
    "case_3_311.shape"
   ]
  },
  {
   "cell_type": "code",
   "execution_count": 162,
   "id": "23b74582",
   "metadata": {},
   "outputs": [
    {
     "data": {
      "text/plain": [
       "(84, 21)"
      ]
     },
     "execution_count": 162,
     "metadata": {},
     "output_type": "execute_result"
    }
   ],
   "source": [
    "pn_Num_list = list(case_3_311.pn_num.unique())\n",
    "\n",
    "final_train = []   # appending all the individual rows\n",
    "for patient_number in pn_Num_list:  # for each unique patient number\n",
    "    entities = []  # saving individaual entities locations\n",
    "    for row_index,row in case_3_311[case_3_311.pn_num == patient_number].iterrows():  # for each unique patient number \n",
    "        \n",
    "        entities.append((int(row[\"start_location\"]),int(row[\"end_location\"]),\"Feature_\" + str(row[\"feature_num\"]))) # store the locations in numeric format\n",
    "        \n",
    "    text = case_3_311[case_3_311.pn_num == patient_number][\"New_pn_history\"].values[0] # save the text for the unique patient number\n",
    "    \n",
    "    final_train.append((text,{\"entities\":entities}))  # for each unique pn_number append to final list\n",
    "    \n",
    "# Serializing json \n",
    "json_object = json.dumps(final_train, indent = 4)\n",
    "  \n",
    "# Writing to sample.json\n",
    "with open(\"sample_311.json\", \"w\") as outfile:\n",
    "    outfile.write(json_object)\n",
    "    \n",
    "# Opening JSON file\n",
    "f = open(\"sample_311.json\")\n",
    " \n",
    "# returns JSON object as\n",
    "# a dictionary\n",
    "data = json.load(f)\n",
    "\n",
    "nlp = spacy.blank(\"en\")\n",
    "def create_training(TRAIN_DATA):\n",
    "    db = DocBin()\n",
    "    for text, annot in tqdm(TRAIN_DATA):\n",
    "        doc = nlp.make_doc(text)\n",
    "        ents = []\n",
    "        for start, end, label in annot[\"entities\"]:\n",
    "            span = doc.char_span(start, end, label=label, alignment_mode=\"contract\")\n",
    "            if span is None:\n",
    "                print (\"Skipping entity\")\n",
    "            else:\n",
    "                ents.append(span)\n",
    "        doc.ents = ents\n",
    "        db.add(doc)\n",
    "    return (db)\n",
    "\n",
    "train, validation = train_test_split(data, test_size = 0.2, random_state = 100)\n",
    "len(train),len(validation)"
   ]
  },
  {
   "cell_type": "code",
   "execution_count": 163,
   "id": "a3713e6c",
   "metadata": {},
   "outputs": [
    {
     "name": "stderr",
     "output_type": "stream",
     "text": [
      "100%|█████████████████████████████████████████████████████████████████████████████████| 84/84 [00:00<00:00, 941.04it/s]\n"
     ]
    }
   ],
   "source": [
    "#train data set\n",
    "camp_train = create_training(train)\n",
    "camp_train.to_disk(\"nbme_train_311.spacy\")"
   ]
  },
  {
   "cell_type": "code",
   "execution_count": 164,
   "id": "52a7e69b",
   "metadata": {},
   "outputs": [
    {
     "name": "stderr",
     "output_type": "stream",
     "text": [
      "100%|████████████████████████████████████████████████████████████████████████████████| 21/21 [00:00<00:00, 1170.61it/s]\n"
     ]
    }
   ],
   "source": [
    "#Validation data set\n",
    "camp_validation = create_training(validation)\n",
    "camp_validation.to_disk(\"nbme_validation_311.spacy\")"
   ]
  },
  {
   "cell_type": "code",
   "execution_count": 165,
   "id": "77fc53ca",
   "metadata": {},
   "outputs": [
    {
     "name": "stdout",
     "output_type": "stream",
     "text": [
      "[+] Auto-filled config with all values\n",
      "[+] Saved config\n",
      "config_311.cfg\n",
      "You can now add your data and train your pipeline:\n",
      "python -m spacy train config_311.cfg --paths.train ./train.spacy --paths.dev ./dev.spacy\n"
     ]
    },
    {
     "name": "stderr",
     "output_type": "stream",
     "text": [
      "2022-05-06 16:09:41.934767: W tensorflow/stream_executor/platform/default/dso_loader.cc:64] Could not load dynamic library 'cudart64_110.dll'; dlerror: cudart64_110.dll not found\n",
      "2022-05-06 16:09:41.934803: I tensorflow/stream_executor/cuda/cudart_stub.cc:29] Ignore above cudart dlerror if you do not have a GPU set up on your machine.\n"
     ]
    }
   ],
   "source": [
    "!python -m spacy init fill-config ./base_config_311.cfg ./config_311.cfg"
   ]
  },
  {
   "cell_type": "code",
   "execution_count": 166,
   "id": "f9829b9a",
   "metadata": {},
   "outputs": [
    {
     "name": "stdout",
     "output_type": "stream",
     "text": [
      "[i] Saving to output directory: output_311\n",
      "[i] Using CPU\n",
      "\u001b[1m\n",
      "=========================== Initializing pipeline ===========================\u001b[0m\n",
      "[+] Initialized pipeline\n",
      "\u001b[1m\n",
      "============================= Training pipeline =============================\u001b[0m\n",
      "[i] Pipeline: ['tok2vec', 'ner']\n",
      "[i] Initial learn rate: 0.001\n",
      "E    #       LOSS TOK2VEC  LOSS NER  ENTS_F  ENTS_P  ENTS_R  SCORE \n",
      "---  ------  ------------  --------  ------  ------  ------  ------\n",
      "  0       0          0.00     54.33    0.00    0.00    0.00    0.00\n",
      "  2     200         23.94   1214.56   66.67   59.26   76.19    0.67\n",
      "  4     400       4528.52    246.11   69.57   64.00   76.19    0.70\n",
      "  7     600         93.40    118.21   74.42   72.73   76.19    0.74\n",
      "  9     800         67.41     75.43   85.00   89.47   80.95    0.85\n",
      " 11    1000         58.94     48.58   57.78   54.17   61.90    0.58\n",
      " 14    1200         54.85     38.94   74.42   72.73   76.19    0.74\n",
      " 16    1400         53.83     25.51   82.05   88.89   76.19    0.82\n",
      " 19    1600         55.19     31.55   79.07   77.27   80.95    0.79\n",
      " 21    1800         52.58     37.34   58.54   60.00   57.14    0.59\n",
      " 24    2000      10213.00    150.00   68.29   70.00   66.67    0.68\n",
      " 28    2200         81.65     52.10   77.27   73.91   80.95    0.77\n",
      " 33    2400         32.96     19.78   68.29   70.00   66.67    0.68\n",
      "[+] Saved pipeline to output directory\n",
      "output_311\\model-last\n"
     ]
    },
    {
     "name": "stderr",
     "output_type": "stream",
     "text": [
      "2022-05-06 16:09:46.608680: W tensorflow/stream_executor/platform/default/dso_loader.cc:64] Could not load dynamic library 'cudart64_110.dll'; dlerror: cudart64_110.dll not found\n",
      "2022-05-06 16:09:46.608714: I tensorflow/stream_executor/cuda/cudart_stub.cc:29] Ignore above cudart dlerror if you do not have a GPU set up on your machine.\n",
      "[2022-05-06 16:09:49,395] [INFO] Set up nlp object from config\n",
      "[2022-05-06 16:09:49,403] [INFO] Pipeline: ['tok2vec', 'ner']\n",
      "[2022-05-06 16:09:49,408] [INFO] Created vocabulary\n",
      "[2022-05-06 16:09:49,409] [INFO] Finished initializing nlp object\n",
      "[2022-05-06 16:09:49,810] [INFO] Initialized pipeline components: ['tok2vec', 'ner']\n"
     ]
    }
   ],
   "source": [
    "!python -m spacy train config_311.cfg --output ./output_311"
   ]
  },
  {
   "cell_type": "code",
   "execution_count": null,
   "id": "7e6cbb49",
   "metadata": {},
   "outputs": [],
   "source": []
  },
  {
   "cell_type": "markdown",
   "id": "33ba4f70",
   "metadata": {},
   "source": [
    "### Feature 312"
   ]
  },
  {
   "cell_type": "code",
   "execution_count": 167,
   "id": "357b0d0d",
   "metadata": {},
   "outputs": [],
   "source": [
    "case_3 = case_3.drop(index = 1656, axis = 0)"
   ]
  },
  {
   "cell_type": "code",
   "execution_count": 168,
   "id": "1eab9ff4",
   "metadata": {},
   "outputs": [],
   "source": [
    "case_3 = case_3.drop(index = 1602, axis = 0)"
   ]
  },
  {
   "cell_type": "code",
   "execution_count": 169,
   "id": "f30e6392",
   "metadata": {},
   "outputs": [],
   "source": [
    "case_3 = case_3.drop(index = 1674, axis = 0)"
   ]
  },
  {
   "cell_type": "code",
   "execution_count": 170,
   "id": "7dd7e4ab",
   "metadata": {},
   "outputs": [],
   "source": [
    "case_3 = case_3.drop(index = [1668,1688], axis = 0)"
   ]
  },
  {
   "cell_type": "code",
   "execution_count": 171,
   "id": "df3e9104",
   "metadata": {},
   "outputs": [],
   "source": [
    "case_3 = case_3.drop(index = 1623, axis = 0)"
   ]
  },
  {
   "cell_type": "code",
   "execution_count": 172,
   "id": "03fd8f44",
   "metadata": {},
   "outputs": [],
   "source": [
    "case_3 = case_3.drop(index = 1664, axis = 0)"
   ]
  },
  {
   "cell_type": "code",
   "execution_count": 173,
   "id": "55ae217e",
   "metadata": {},
   "outputs": [],
   "source": [
    "case_3 = case_3.drop(index = 1670, axis = 0)"
   ]
  },
  {
   "cell_type": "code",
   "execution_count": 174,
   "id": "735ca28c",
   "metadata": {},
   "outputs": [],
   "source": [
    "case_3 = case_3.drop(index = 1678, axis = 0)"
   ]
  },
  {
   "cell_type": "code",
   "execution_count": 175,
   "id": "0505749c",
   "metadata": {},
   "outputs": [],
   "source": [
    "case_3 = case_3.drop(index = 1605, axis = 0)"
   ]
  },
  {
   "cell_type": "code",
   "execution_count": 176,
   "id": "c22cef9f",
   "metadata": {},
   "outputs": [],
   "source": [
    "case_3 = case_3.drop(index = 1682, axis = 0)"
   ]
  },
  {
   "cell_type": "code",
   "execution_count": 177,
   "id": "732112b0",
   "metadata": {},
   "outputs": [],
   "source": [
    "case_3 = case_3.drop(index = 1612, axis = 0)"
   ]
  },
  {
   "cell_type": "code",
   "execution_count": 178,
   "id": "1aa02976",
   "metadata": {},
   "outputs": [],
   "source": [
    "case_3 = case_3.drop(index = 1617, axis = 0)"
   ]
  },
  {
   "cell_type": "code",
   "execution_count": 179,
   "id": "acc5133c",
   "metadata": {},
   "outputs": [],
   "source": [
    "case_3 = case_3.drop(index = 1685, axis = 0)"
   ]
  },
  {
   "cell_type": "code",
   "execution_count": 180,
   "id": "6f677cf5",
   "metadata": {},
   "outputs": [],
   "source": [
    "case_3 = case_3.drop(index = 1653, axis = 0)"
   ]
  },
  {
   "cell_type": "code",
   "execution_count": 181,
   "id": "88ac198a",
   "metadata": {},
   "outputs": [],
   "source": [
    "case_3 = case_3.drop(index = 1650, axis = 0)"
   ]
  },
  {
   "cell_type": "code",
   "execution_count": 182,
   "id": "8c35fc7c",
   "metadata": {},
   "outputs": [],
   "source": [
    "case_3 = case_3.drop(index = 1676, axis = 0)"
   ]
  },
  {
   "cell_type": "code",
   "execution_count": 183,
   "id": "4b72021a",
   "metadata": {},
   "outputs": [],
   "source": [
    "case_3 = case_3.drop(index = [1621,1620], axis = 0)"
   ]
  },
  {
   "cell_type": "code",
   "execution_count": 184,
   "id": "e6a15efc",
   "metadata": {},
   "outputs": [],
   "source": [
    "case_3 = case_3.drop(index = 1659, axis = 0)"
   ]
  },
  {
   "cell_type": "code",
   "execution_count": 185,
   "id": "caa5ccf7",
   "metadata": {},
   "outputs": [],
   "source": [
    "case_3 = case_3.drop(index = [1626,1625], axis = 0)"
   ]
  },
  {
   "cell_type": "code",
   "execution_count": 186,
   "id": "56fb0ed8",
   "metadata": {},
   "outputs": [],
   "source": [
    "case_3 = case_3.drop(index = 1645, axis = 0)"
   ]
  },
  {
   "cell_type": "code",
   "execution_count": 187,
   "id": "77451b18",
   "metadata": {},
   "outputs": [],
   "source": [
    "case_3 = case_3.drop(index = 1680, axis = 0)"
   ]
  },
  {
   "cell_type": "code",
   "execution_count": null,
   "id": "d0e00667",
   "metadata": {},
   "outputs": [],
   "source": []
  },
  {
   "cell_type": "code",
   "execution_count": null,
   "id": "2fad4e69",
   "metadata": {},
   "outputs": [],
   "source": []
  },
  {
   "cell_type": "code",
   "execution_count": null,
   "id": "2eb3bd3c",
   "metadata": {},
   "outputs": [],
   "source": []
  },
  {
   "cell_type": "code",
   "execution_count": 188,
   "id": "d00c976f",
   "metadata": {},
   "outputs": [
    {
     "data": {
      "text/plain": [
       "(119, 11)"
      ]
     },
     "execution_count": 188,
     "metadata": {},
     "output_type": "execute_result"
    }
   ],
   "source": [
    "case_3_312 = case_3[case_3[\"feature_num\"] == 312]\n",
    "case_3_312.shape"
   ]
  },
  {
   "cell_type": "code",
   "execution_count": 189,
   "id": "2fe83387",
   "metadata": {},
   "outputs": [
    {
     "data": {
      "text/plain": [
       "(88, 23)"
      ]
     },
     "execution_count": 189,
     "metadata": {},
     "output_type": "execute_result"
    }
   ],
   "source": [
    "pn_Num_list = list(case_3_312.pn_num.unique())\n",
    "\n",
    "final_train = []   # appending all the individual rows\n",
    "for patient_number in pn_Num_list:  # for each unique patient number\n",
    "    entities = []  # saving individaual entities locations\n",
    "    for row_index,row in case_3_312[case_3_312.pn_num == patient_number].iterrows():  # for each unique patient number \n",
    "        \n",
    "        entities.append((int(row[\"start_location\"]),int(row[\"end_location\"]),\"Feature_\" + str(row[\"feature_num\"]))) # store the locations in numeric format\n",
    "        \n",
    "    text = case_3_312[case_3_312.pn_num == patient_number][\"New_pn_history\"].values[0] # save the text for the unique patient number\n",
    "    \n",
    "    final_train.append((text,{\"entities\":entities}))  # for each unique pn_number append to final list\n",
    "    \n",
    "# Serializing json \n",
    "json_object = json.dumps(final_train, indent = 4)\n",
    "  \n",
    "# Writing to sample.json\n",
    "with open(\"sample_312.json\", \"w\") as outfile:\n",
    "    outfile.write(json_object)\n",
    "    \n",
    "# Opening JSON file\n",
    "f = open(\"sample_312.json\")\n",
    " \n",
    "# returns JSON object as\n",
    "# a dictionary\n",
    "data = json.load(f)\n",
    "\n",
    "nlp = spacy.blank(\"en\")\n",
    "def create_training(TRAIN_DATA):\n",
    "    db = DocBin()\n",
    "    for text, annot in tqdm(TRAIN_DATA):\n",
    "        doc = nlp.make_doc(text)\n",
    "        ents = []\n",
    "        for start, end, label in annot[\"entities\"]:\n",
    "            span = doc.char_span(start, end, label=label, alignment_mode=\"contract\")\n",
    "            if span is None:\n",
    "                print (\"Skipping entity\")\n",
    "            else:\n",
    "                ents.append(span)\n",
    "        doc.ents = ents\n",
    "        db.add(doc)\n",
    "    return (db)\n",
    "\n",
    "train, validation = train_test_split(data, test_size = 0.2, random_state = 100)\n",
    "len(train),len(validation)"
   ]
  },
  {
   "cell_type": "code",
   "execution_count": 190,
   "id": "29553535",
   "metadata": {},
   "outputs": [
    {
     "name": "stderr",
     "output_type": "stream",
     "text": [
      "100%|█████████████████████████████████████████████████████████████████████████████████| 88/88 [00:00<00:00, 909.46it/s]\n"
     ]
    }
   ],
   "source": [
    "#train data set\n",
    "camp_train = create_training(train)\n",
    "camp_train.to_disk(\"nbme_train_312.spacy\")"
   ]
  },
  {
   "cell_type": "code",
   "execution_count": 191,
   "id": "52d08c08",
   "metadata": {},
   "outputs": [
    {
     "name": "stderr",
     "output_type": "stream",
     "text": [
      "100%|█████████████████████████████████████████████████████████████████████████████████| 23/23 [00:00<00:00, 576.96it/s]\n"
     ]
    }
   ],
   "source": [
    "#Validation data set\n",
    "camp_validation = create_training(validation)\n",
    "camp_validation.to_disk(\"nbme_validation_312.spacy\")"
   ]
  },
  {
   "cell_type": "code",
   "execution_count": 192,
   "id": "6a34ffb6",
   "metadata": {},
   "outputs": [
    {
     "name": "stdout",
     "output_type": "stream",
     "text": [
      "[+] Auto-filled config with all values\n",
      "[+] Saved config\n",
      "config_312.cfg\n",
      "You can now add your data and train your pipeline:\n",
      "python -m spacy train config_312.cfg --paths.train ./train.spacy --paths.dev ./dev.spacy\n"
     ]
    },
    {
     "name": "stderr",
     "output_type": "stream",
     "text": [
      "2022-05-06 16:12:26.353383: W tensorflow/stream_executor/platform/default/dso_loader.cc:64] Could not load dynamic library 'cudart64_110.dll'; dlerror: cudart64_110.dll not found\n",
      "2022-05-06 16:12:26.353417: I tensorflow/stream_executor/cuda/cudart_stub.cc:29] Ignore above cudart dlerror if you do not have a GPU set up on your machine.\n"
     ]
    }
   ],
   "source": [
    "!python -m spacy init fill-config ./base_config_312.cfg ./config_312.cfg"
   ]
  },
  {
   "cell_type": "code",
   "execution_count": 193,
   "id": "10c8da20",
   "metadata": {},
   "outputs": [
    {
     "name": "stdout",
     "output_type": "stream",
     "text": [
      "[i] Saving to output directory: output_312"
     ]
    },
    {
     "name": "stderr",
     "output_type": "stream",
     "text": [
      "2022-05-06 16:12:31.372666: W tensorflow/stream_executor/platform/default/dso_loader.cc:64] Could not load dynamic library 'cudart64_110.dll'; dlerror: cudart64_110.dll not found\n",
      "2022-05-06 16:12:31.372707: I tensorflow/stream_executor/cuda/cudart_stub.cc:29] Ignore above cudart dlerror if you do not have a GPU set up on your machine.\n",
      "[2022-05-06 16:12:34,192] [INFO] Set up nlp object from config\n",
      "[2022-05-06 16:12:34,199] [INFO] Pipeline: ['tok2vec', 'ner']\n",
      "[2022-05-06 16:12:34,201] [INFO] Created vocabulary\n",
      "[2022-05-06 16:12:34,202] [INFO] Finished initializing nlp object\n",
      "[2022-05-06 16:12:34,575] [INFO] Initialized pipeline components: ['tok2vec', 'ner']\n"
     ]
    },
    {
     "name": "stdout",
     "output_type": "stream",
     "text": [
      "\n",
      "[i] Using CPU\n",
      "\u001b[1m\n",
      "=========================== Initializing pipeline ===========================\u001b[0m\n",
      "[+] Initialized pipeline\n",
      "\u001b[1m\n",
      "============================= Training pipeline =============================\u001b[0m\n",
      "[i] Pipeline: ['tok2vec', 'ner']\n",
      "[i] Initial learn rate: 0.001\n",
      "E    #       LOSS TOK2VEC  LOSS NER  ENTS_F  ENTS_P  ENTS_R  SCORE \n",
      "---  ------  ------------  --------  ------  ------  ------  ------\n",
      "  0       0          0.00     60.67    0.00    0.00    0.00    0.00\n",
      "  2     200        262.78   1392.67   74.51   67.86   82.61    0.75\n",
      "  4     400         42.48     81.79   86.36   90.48   82.61    0.86\n",
      "  6     600         74.37     51.64   82.35   75.00   91.30    0.82\n",
      "  9     800         24.13     31.86   86.96   86.96   86.96    0.87\n",
      " 11    1000         20.91     17.42   91.30   91.30   91.30    0.91\n",
      " 13    1200         12.57      8.63   87.50   84.00   91.30    0.87\n",
      " 16    1400         53.30      8.28   78.43   71.43   86.96    0.78\n",
      " 19    1600         12.53      6.64   85.11   83.33   86.96    0.85\n",
      " 24    1800          5.91      2.36   85.11   83.33   86.96    0.85\n",
      " 29    2000         10.39      4.16   84.00   77.78   91.30    0.84\n",
      " 36    2200         36.43      6.11   87.50   84.00   91.30    0.87\n",
      " 45    2400          0.00      0.00   85.11   83.33   86.96    0.85\n",
      " 57    2600          0.50      0.13   83.33   80.00   86.96    0.83\n",
      "[+] Saved pipeline to output directory\n",
      "output_312\\model-last\n"
     ]
    }
   ],
   "source": [
    "!python -m spacy train config_312.cfg --output ./output_312"
   ]
  },
  {
   "cell_type": "code",
   "execution_count": null,
   "id": "5e9ab5ab",
   "metadata": {},
   "outputs": [],
   "source": []
  },
  {
   "cell_type": "markdown",
   "id": "ffc406ec",
   "metadata": {},
   "source": [
    "### Feature 313"
   ]
  },
  {
   "cell_type": "code",
   "execution_count": 194,
   "id": "10ce6687",
   "metadata": {},
   "outputs": [],
   "source": [
    "case_3 = case_3.drop(index = 331, axis = 0)\n",
    "case_3 = case_3.drop(index = 1032, axis = 0)\n",
    "case_3 = case_3.drop(index = 729, axis = 0)\n",
    "case_3 = case_3.drop(index = 532, axis = 0)"
   ]
  },
  {
   "cell_type": "code",
   "execution_count": 195,
   "id": "41970768",
   "metadata": {},
   "outputs": [
    {
     "data": {
      "text/plain": [
       "(114, 11)"
      ]
     },
     "execution_count": 195,
     "metadata": {},
     "output_type": "execute_result"
    }
   ],
   "source": [
    "case_3_313 = case_3[case_3[\"feature_num\"] == 313]\n",
    "case_3_313.shape"
   ]
  },
  {
   "cell_type": "code",
   "execution_count": 196,
   "id": "85d42181",
   "metadata": {},
   "outputs": [
    {
     "data": {
      "text/plain": [
       "(88, 23)"
      ]
     },
     "execution_count": 196,
     "metadata": {},
     "output_type": "execute_result"
    }
   ],
   "source": [
    "pn_Num_list = list(case_3_313.pn_num.unique())\n",
    "\n",
    "final_train = []   # appending all the individual rows\n",
    "for patient_number in pn_Num_list:  # for each unique patient number\n",
    "    entities = []  # saving individaual entities locations\n",
    "    for row_index,row in case_3_313[case_3_313.pn_num == patient_number].iterrows():  # for each unique patient number \n",
    "        \n",
    "        entities.append((int(row[\"start_location\"]),int(row[\"end_location\"]),\"Feature_\" + str(row[\"feature_num\"]))) # store the locations in numeric format\n",
    "        \n",
    "    text = case_3_313[case_3_313.pn_num == patient_number][\"New_pn_history\"].values[0] # save the text for the unique patient number\n",
    "    \n",
    "    final_train.append((text,{\"entities\":entities}))  # for each unique pn_number append to final list\n",
    "    \n",
    "# Serializing json \n",
    "json_object = json.dumps(final_train, indent = 4)\n",
    "  \n",
    "# Writing to sample.json\n",
    "with open(\"sample_313.json\", \"w\") as outfile:\n",
    "    outfile.write(json_object)\n",
    "    \n",
    "# Opening JSON file\n",
    "f = open(\"sample_313.json\")\n",
    " \n",
    "# returns JSON object as\n",
    "# a dictionary\n",
    "data = json.load(f)\n",
    "\n",
    "nlp = spacy.blank(\"en\")\n",
    "def create_training(TRAIN_DATA):\n",
    "    db = DocBin()\n",
    "    for text, annot in tqdm(TRAIN_DATA):\n",
    "        doc = nlp.make_doc(text)\n",
    "        ents = []\n",
    "        for start, end, label in annot[\"entities\"]:\n",
    "            span = doc.char_span(start, end, label=label, alignment_mode=\"contract\")\n",
    "            if span is None:\n",
    "                print (\"Skipping entity\")\n",
    "            else:\n",
    "                ents.append(span)\n",
    "        doc.ents = ents\n",
    "        db.add(doc)\n",
    "    return (db)\n",
    "\n",
    "train, validation = train_test_split(data, test_size = 0.2, random_state = 100)\n",
    "len(train),len(validation)"
   ]
  },
  {
   "cell_type": "code",
   "execution_count": 197,
   "id": "1a9e3982",
   "metadata": {},
   "outputs": [
    {
     "name": "stderr",
     "output_type": "stream",
     "text": [
      "100%|████████████████████████████████████████████████████████████████████████████████| 88/88 [00:00<00:00, 1037.89it/s]\n"
     ]
    }
   ],
   "source": [
    "#train data set\n",
    "camp_train = create_training(train)\n",
    "camp_train.to_disk(\"nbme_train_313.spacy\")"
   ]
  },
  {
   "cell_type": "code",
   "execution_count": 198,
   "id": "72274433",
   "metadata": {},
   "outputs": [
    {
     "name": "stderr",
     "output_type": "stream",
     "text": [
      "100%|████████████████████████████████████████████████████████████████████████████████| 23/23 [00:00<00:00, 1002.53it/s]\n"
     ]
    }
   ],
   "source": [
    "#Validation data set\n",
    "camp_validation = create_training(validation)\n",
    "camp_validation.to_disk(\"nbme_validation_313.spacy\")"
   ]
  },
  {
   "cell_type": "code",
   "execution_count": 199,
   "id": "eb90c88e",
   "metadata": {},
   "outputs": [
    {
     "name": "stdout",
     "output_type": "stream",
     "text": [
      "[+] Auto-filled config with all values\n",
      "[+] Saved config\n",
      "config_313.cfg\n",
      "You can now add your data and train your pipeline:\n",
      "python -m spacy train config_313.cfg --paths.train ./train.spacy --paths.dev ./dev.spacy\n"
     ]
    },
    {
     "name": "stderr",
     "output_type": "stream",
     "text": [
      "2022-05-06 16:15:45.355952: W tensorflow/stream_executor/platform/default/dso_loader.cc:64] Could not load dynamic library 'cudart64_110.dll'; dlerror: cudart64_110.dll not found\n",
      "2022-05-06 16:15:45.355988: I tensorflow/stream_executor/cuda/cudart_stub.cc:29] Ignore above cudart dlerror if you do not have a GPU set up on your machine.\n"
     ]
    }
   ],
   "source": [
    "!python -m spacy init fill-config ./base_config_313.cfg ./config_313.cfg"
   ]
  },
  {
   "cell_type": "code",
   "execution_count": 200,
   "id": "66d29282",
   "metadata": {},
   "outputs": [
    {
     "name": "stdout",
     "output_type": "stream",
     "text": [
      "[i] Saving to output directory: output_313\n",
      "[i] Using CPU\n",
      "\u001b[1m\n",
      "=========================== Initializing pipeline ===========================\u001b[0m\n",
      "[+] Initialized pipeline\n",
      "\u001b[1m\n",
      "============================= Training pipeline =============================\u001b[0m\n",
      "[i] Pipeline: ['tok2vec', 'ner']\n",
      "[i] Initial learn rate: 0.001\n",
      "E    #       LOSS TOK2VEC  LOSS NER  ENTS_F  ENTS_P  ENTS_R  SCORE \n",
      "---  ------  ------------  --------  ------  ------  ------  ------\n",
      "  0       0          0.00     47.33    0.00    0.00    0.00    0.00\n",
      "  2     200       8193.99   2722.52   39.13   39.13   39.13    0.39\n",
      "  4     400         93.62    223.09   45.00   52.94   39.13    0.45\n",
      "  6     600        126.39    109.03   46.51   50.00   43.48    0.47\n",
      "  9     800        221.71     95.04   54.55   57.14   52.17    0.55\n",
      " 11    1000         46.75     47.10   45.00   52.94   39.13    0.45\n",
      " 13    1200         80.45     57.13   50.00   52.38   47.83    0.50\n",
      " 15    1400         37.03     27.56   47.62   52.63   43.48    0.48\n",
      " 18    1600         70.93     29.72   50.00   52.38   47.83    0.50\n",
      " 20    1800         16.98      8.10   35.90   43.75   30.43    0.36\n",
      " 23    2000        144.88     17.39   41.03   50.00   34.78    0.41\n",
      " 27    2200         31.52      8.07   45.45   47.62   43.48    0.45\n",
      " 32    2400         91.92     22.25   37.21   40.00   34.78    0.37\n",
      "[+] Saved pipeline to output directory\n",
      "output_313\\model-last\n"
     ]
    },
    {
     "name": "stderr",
     "output_type": "stream",
     "text": [
      "2022-05-06 16:15:50.259271: W tensorflow/stream_executor/platform/default/dso_loader.cc:64] Could not load dynamic library 'cudart64_110.dll'; dlerror: cudart64_110.dll not found\n",
      "2022-05-06 16:15:50.259310: I tensorflow/stream_executor/cuda/cudart_stub.cc:29] Ignore above cudart dlerror if you do not have a GPU set up on your machine.\n",
      "[2022-05-06 16:15:53,099] [INFO] Set up nlp object from config\n",
      "[2022-05-06 16:15:53,105] [INFO] Pipeline: ['tok2vec', 'ner']\n",
      "[2022-05-06 16:15:53,110] [INFO] Created vocabulary\n",
      "[2022-05-06 16:15:53,111] [INFO] Finished initializing nlp object\n",
      "[2022-05-06 16:15:53,504] [INFO] Initialized pipeline components: ['tok2vec', 'ner']\n"
     ]
    }
   ],
   "source": [
    "!python -m spacy train config_313.cfg --output ./output_313"
   ]
  },
  {
   "cell_type": "code",
   "execution_count": null,
   "id": "318a048a",
   "metadata": {},
   "outputs": [],
   "source": []
  },
  {
   "cell_type": "markdown",
   "id": "fb2ee3a0",
   "metadata": {},
   "source": [
    "### Feature 314"
   ]
  },
  {
   "cell_type": "code",
   "execution_count": 201,
   "id": "13983bb5",
   "metadata": {},
   "outputs": [],
   "source": [
    "case_3 = case_3.drop(index = 741, axis = 0)\n",
    "case_3 = case_3.drop(index = [805,806,807], axis = 0)\n",
    "case_3 = case_3.drop(index = 347, axis = 0)\n",
    "case_3 = case_3.drop(index = 185, axis = 0)"
   ]
  },
  {
   "cell_type": "code",
   "execution_count": 202,
   "id": "3603217b",
   "metadata": {},
   "outputs": [
    {
     "data": {
      "text/plain": [
       "(85, 11)"
      ]
     },
     "execution_count": 202,
     "metadata": {},
     "output_type": "execute_result"
    }
   ],
   "source": [
    "case_3_314 = case_3[case_3[\"feature_num\"] == 314]\n",
    "case_3_314.shape"
   ]
  },
  {
   "cell_type": "code",
   "execution_count": 203,
   "id": "7dc278d8",
   "metadata": {},
   "outputs": [
    {
     "data": {
      "text/plain": [
       "(68, 17)"
      ]
     },
     "execution_count": 203,
     "metadata": {},
     "output_type": "execute_result"
    }
   ],
   "source": [
    "pn_Num_list = list(case_3_314.pn_num.unique())\n",
    "\n",
    "final_train = []   # appending all the individual rows\n",
    "for patient_number in pn_Num_list:  # for each unique patient number\n",
    "    entities = []  # saving individaual entities locations\n",
    "    for row_index,row in case_3_314[case_3_314.pn_num == patient_number].iterrows():  # for each unique patient number \n",
    "        \n",
    "        entities.append((int(row[\"start_location\"]),int(row[\"end_location\"]),\"Feature_\" + str(row[\"feature_num\"]))) # store the locations in numeric format\n",
    "        \n",
    "    text = case_3_314[case_3_314.pn_num == patient_number][\"New_pn_history\"].values[0] # save the text for the unique patient number\n",
    "    \n",
    "    final_train.append((text,{\"entities\":entities}))  # for each unique pn_number append to final list\n",
    "    \n",
    "# Serializing json \n",
    "json_object = json.dumps(final_train, indent = 4)\n",
    "  \n",
    "# Writing to sample.json\n",
    "with open(\"sample_314.json\", \"w\") as outfile:\n",
    "    outfile.write(json_object)\n",
    "    \n",
    "# Opening JSON file\n",
    "f = open(\"sample_314.json\")\n",
    " \n",
    "# returns JSON object as\n",
    "# a dictionary\n",
    "data = json.load(f)\n",
    "\n",
    "nlp = spacy.blank(\"en\")\n",
    "def create_training(TRAIN_DATA):\n",
    "    db = DocBin()\n",
    "    for text, annot in tqdm(TRAIN_DATA):\n",
    "        doc = nlp.make_doc(text)\n",
    "        ents = []\n",
    "        for start, end, label in annot[\"entities\"]:\n",
    "            span = doc.char_span(start, end, label=label, alignment_mode=\"contract\")\n",
    "            if span is None:\n",
    "                print (\"Skipping entity\")\n",
    "            else:\n",
    "                ents.append(span)\n",
    "        doc.ents = ents\n",
    "        db.add(doc)\n",
    "    return (db)\n",
    "\n",
    "train, validation = train_test_split(data, test_size = 0.2, random_state = 100)\n",
    "len(train),len(validation)"
   ]
  },
  {
   "cell_type": "code",
   "execution_count": 204,
   "id": "83ff0e3b",
   "metadata": {},
   "outputs": [
    {
     "name": "stderr",
     "output_type": "stream",
     "text": [
      "100%|█████████████████████████████████████████████████████████████████████████████████| 68/68 [00:00<00:00, 675.52it/s]\n"
     ]
    }
   ],
   "source": [
    "#train data set\n",
    "camp_train = create_training(train)\n",
    "camp_train.to_disk(\"nbme_train_314.spacy\")"
   ]
  },
  {
   "cell_type": "code",
   "execution_count": 205,
   "id": "b3cca0ce",
   "metadata": {},
   "outputs": [
    {
     "name": "stderr",
     "output_type": "stream",
     "text": [
      "100%|█████████████████████████████████████████████████████████████████████████████████| 17/17 [00:00<00:00, 742.03it/s]\n"
     ]
    }
   ],
   "source": [
    "#Validation data set\n",
    "camp_validation = create_training(validation)\n",
    "camp_validation.to_disk(\"nbme_validation_314.spacy\")"
   ]
  },
  {
   "cell_type": "code",
   "execution_count": 206,
   "id": "618f7143",
   "metadata": {},
   "outputs": [
    {
     "name": "stdout",
     "output_type": "stream",
     "text": [
      "[+] Auto-filled config with all values\n",
      "[+] Saved config\n",
      "config_314.cfg\n",
      "You can now add your data and train your pipeline:\n",
      "python -m spacy train config_314.cfg --paths.train ./train.spacy --paths.dev ./dev.spacy\n"
     ]
    },
    {
     "name": "stderr",
     "output_type": "stream",
     "text": [
      "2022-05-06 16:18:34.657135: W tensorflow/stream_executor/platform/default/dso_loader.cc:64] Could not load dynamic library 'cudart64_110.dll'; dlerror: cudart64_110.dll not found\n",
      "2022-05-06 16:18:34.657169: I tensorflow/stream_executor/cuda/cudart_stub.cc:29] Ignore above cudart dlerror if you do not have a GPU set up on your machine.\n"
     ]
    }
   ],
   "source": [
    "!python -m spacy init fill-config ./base_config_314.cfg ./config_314.cfg"
   ]
  },
  {
   "cell_type": "code",
   "execution_count": 207,
   "id": "f0a5343d",
   "metadata": {},
   "outputs": [
    {
     "name": "stdout",
     "output_type": "stream",
     "text": [
      "[i] Saving to output directory: output_314\n",
      "[i] Using CPU\n",
      "\u001b[1m\n",
      "=========================== Initializing pipeline ===========================\u001b[0m\n",
      "[+] Initialized pipeline\n",
      "\u001b[1m\n",
      "============================= Training pipeline =============================\u001b[0m\n",
      "[i] Pipeline: ['tok2vec', 'ner']\n",
      "[i] Initial learn rate: 0.001\n",
      "E    #       LOSS TOK2VEC  LOSS NER  ENTS_F  ENTS_P  ENTS_R  SCORE \n",
      "---  ------  ------------  --------  ------  ------  ------  ------\n",
      "  0       0          0.00     42.17    0.00    0.00    0.00    0.00\n",
      "  2     200         16.30   1087.61   81.25   86.67   76.47    0.81\n",
      "  5     400         14.60     16.36   81.25   86.67   76.47    0.81\n",
      "  8     600          7.65     10.10   81.25   86.67   76.47    0.81\n",
      " 11     800          1.76      1.99   81.25   86.67   76.47    0.81\n",
      " 14    1000          0.00      0.00   81.25   86.67   76.47    0.81\n",
      " 17    1200          0.00      0.00   81.25   86.67   76.47    0.81\n",
      " 21    1400          0.00      0.00   81.25   86.67   76.47    0.81\n",
      " 25    1600          0.00      0.00   81.25   86.67   76.47    0.81\n",
      " 31    1800          0.00      0.00   81.25   86.67   76.47    0.81\n",
      "[+] Saved pipeline to output directory\n",
      "output_314\\model-last\n"
     ]
    },
    {
     "name": "stderr",
     "output_type": "stream",
     "text": [
      "2022-05-06 16:18:39.327621: W tensorflow/stream_executor/platform/default/dso_loader.cc:64] Could not load dynamic library 'cudart64_110.dll'; dlerror: cudart64_110.dll not found\n",
      "2022-05-06 16:18:39.327682: I tensorflow/stream_executor/cuda/cudart_stub.cc:29] Ignore above cudart dlerror if you do not have a GPU set up on your machine.\n",
      "[2022-05-06 16:18:42,146] [INFO] Set up nlp object from config\n",
      "[2022-05-06 16:18:42,154] [INFO] Pipeline: ['tok2vec', 'ner']\n",
      "[2022-05-06 16:18:42,157] [INFO] Created vocabulary\n",
      "[2022-05-06 16:18:42,158] [INFO] Finished initializing nlp object\n",
      "[2022-05-06 16:18:42,498] [INFO] Initialized pipeline components: ['tok2vec', 'ner']\n"
     ]
    }
   ],
   "source": [
    "!python -m spacy train config_314.cfg --output ./output_314"
   ]
  },
  {
   "cell_type": "code",
   "execution_count": null,
   "id": "2b5cb136",
   "metadata": {},
   "outputs": [],
   "source": []
  },
  {
   "cell_type": "markdown",
   "id": "c18de5a1",
   "metadata": {},
   "source": [
    "### Feature 315"
   ]
  },
  {
   "cell_type": "code",
   "execution_count": 208,
   "id": "9ffd68a8",
   "metadata": {},
   "outputs": [
    {
     "data": {
      "text/plain": [
       "(92, 11)"
      ]
     },
     "execution_count": 208,
     "metadata": {},
     "output_type": "execute_result"
    }
   ],
   "source": [
    "case_3_315 = case_3[case_3[\"feature_num\"] == 315]\n",
    "case_3_315.shape"
   ]
  },
  {
   "cell_type": "code",
   "execution_count": 209,
   "id": "387a463a",
   "metadata": {},
   "outputs": [
    {
     "data": {
      "text/plain": [
       "(72, 19)"
      ]
     },
     "execution_count": 209,
     "metadata": {},
     "output_type": "execute_result"
    }
   ],
   "source": [
    "pn_Num_list = list(case_3_315.pn_num.unique())\n",
    "\n",
    "final_train = []   # appending all the individual rows\n",
    "for patient_number in pn_Num_list:  # for each unique patient number\n",
    "    entities = []  # saving individaual entities locations\n",
    "    for row_index,row in case_3_315[case_3_315.pn_num == patient_number].iterrows():  # for each unique patient number \n",
    "        \n",
    "        entities.append((int(row[\"start_location\"]),int(row[\"end_location\"]),\"Feature_\" + str(row[\"feature_num\"]))) # store the locations in numeric format\n",
    "        \n",
    "    text = case_3_315[case_3_315.pn_num == patient_number][\"New_pn_history\"].values[0] # save the text for the unique patient number\n",
    "    \n",
    "    final_train.append((text,{\"entities\":entities}))  # for each unique pn_number append to final list\n",
    "    \n",
    "# Serializing json \n",
    "json_object = json.dumps(final_train, indent = 4)\n",
    "  \n",
    "# Writing to sample.json\n",
    "with open(\"sample_315.json\", \"w\") as outfile:\n",
    "    outfile.write(json_object)\n",
    "    \n",
    "# Opening JSON file\n",
    "f = open(\"sample_315.json\")\n",
    " \n",
    "# returns JSON object as\n",
    "# a dictionary\n",
    "data = json.load(f)\n",
    "\n",
    "nlp = spacy.blank(\"en\")\n",
    "def create_training(TRAIN_DATA):\n",
    "    db = DocBin()\n",
    "    for text, annot in tqdm(TRAIN_DATA):\n",
    "        doc = nlp.make_doc(text)\n",
    "        ents = []\n",
    "        for start, end, label in annot[\"entities\"]:\n",
    "            span = doc.char_span(start, end, label=label, alignment_mode=\"contract\")\n",
    "            if span is None:\n",
    "                print (\"Skipping entity\")\n",
    "            else:\n",
    "                ents.append(span)\n",
    "        doc.ents = ents\n",
    "        db.add(doc)\n",
    "    return (db)\n",
    "\n",
    "train, validation = train_test_split(data, test_size = 0.2, random_state = 100)\n",
    "len(train),len(validation)"
   ]
  },
  {
   "cell_type": "code",
   "execution_count": 210,
   "id": "b89ae573",
   "metadata": {},
   "outputs": [
    {
     "name": "stderr",
     "output_type": "stream",
     "text": [
      "100%|█████████████████████████████████████████████████████████████████████████████████| 72/72 [00:00<00:00, 889.79it/s]\n"
     ]
    }
   ],
   "source": [
    "#train data set\n",
    "camp_train = create_training(train)\n",
    "camp_train.to_disk(\"nbme_train_315.spacy\")"
   ]
  },
  {
   "cell_type": "code",
   "execution_count": 211,
   "id": "7a3dda32",
   "metadata": {},
   "outputs": [
    {
     "name": "stderr",
     "output_type": "stream",
     "text": [
      "100%|████████████████████████████████████████████████████████████████████████████████| 19/19 [00:00<00:00, 1192.03it/s]\n"
     ]
    }
   ],
   "source": [
    "#Validation data set\n",
    "camp_validation = create_training(validation)\n",
    "camp_validation.to_disk(\"nbme_validation_315.spacy\")"
   ]
  },
  {
   "cell_type": "code",
   "execution_count": 212,
   "id": "1d4054d6",
   "metadata": {},
   "outputs": [
    {
     "name": "stdout",
     "output_type": "stream",
     "text": [
      "[+] Auto-filled config with all values\n",
      "[+] Saved config\n",
      "config_315.cfg\n",
      "You can now add your data and train your pipeline:\n",
      "python -m spacy train config_315.cfg --paths.train ./train.spacy --paths.dev ./dev.spacy\n"
     ]
    },
    {
     "name": "stderr",
     "output_type": "stream",
     "text": [
      "2022-05-06 16:20:43.088044: W tensorflow/stream_executor/platform/default/dso_loader.cc:64] Could not load dynamic library 'cudart64_110.dll'; dlerror: cudart64_110.dll not found\n",
      "2022-05-06 16:20:43.088090: I tensorflow/stream_executor/cuda/cudart_stub.cc:29] Ignore above cudart dlerror if you do not have a GPU set up on your machine.\n"
     ]
    }
   ],
   "source": [
    "!python -m spacy init fill-config ./base_config_315.cfg ./config_315.cfg"
   ]
  },
  {
   "cell_type": "code",
   "execution_count": 213,
   "id": "ae3ccb3d",
   "metadata": {},
   "outputs": [
    {
     "name": "stdout",
     "output_type": "stream",
     "text": [
      "[i] Saving to output directory: output_315\n",
      "[i] Using CPU\n",
      "\u001b[1m\n",
      "=========================== Initializing pipeline ===========================\u001b[0m\n",
      "[+] Initialized pipeline\n",
      "\u001b[1m\n",
      "============================= Training pipeline =============================\u001b[0m\n",
      "[i] Pipeline: ['tok2vec', 'ner']\n",
      "[i] Initial learn rate: 0.001\n",
      "E    #       LOSS TOK2VEC  LOSS NER  ENTS_F  ENTS_P  ENTS_R  SCORE \n",
      "---  ------  ------------  --------  ------  ------  ------  ------\n",
      "  0       0          0.00     43.67    0.23    0.12   10.00    0.00\n",
      "  2     200       7519.58   2222.32   95.00   95.00   95.00    0.95\n",
      "  5     400          0.60      1.90  100.00  100.00  100.00    1.00\n",
      "  8     600          3.36      5.98  100.00  100.00  100.00    1.00\n",
      " 11     800          3.69      4.48  100.00  100.00  100.00    1.00\n",
      " 13    1000       1766.91     50.02   95.24   90.91  100.00    0.95\n",
      " 16    1200          1.37      2.37  100.00  100.00  100.00    1.00\n",
      " 20    1400          0.00      0.00  100.00  100.00  100.00    1.00\n",
      " 25    1600          0.00      0.00  100.00  100.00  100.00    1.00\n",
      " 31    1800          0.00      0.00  100.00  100.00  100.00    1.00\n",
      " 39    2000          0.00      0.00  100.00  100.00  100.00    1.00\n",
      "[+] Saved pipeline to output directory\n",
      "output_315\\model-last\n"
     ]
    },
    {
     "name": "stderr",
     "output_type": "stream",
     "text": [
      "2022-05-06 16:20:47.787489: W tensorflow/stream_executor/platform/default/dso_loader.cc:64] Could not load dynamic library 'cudart64_110.dll'; dlerror: cudart64_110.dll not found\n",
      "2022-05-06 16:20:47.787525: I tensorflow/stream_executor/cuda/cudart_stub.cc:29] Ignore above cudart dlerror if you do not have a GPU set up on your machine.\n",
      "[2022-05-06 16:20:50,613] [INFO] Set up nlp object from config\n",
      "[2022-05-06 16:20:50,619] [INFO] Pipeline: ['tok2vec', 'ner']\n",
      "[2022-05-06 16:20:50,621] [INFO] Created vocabulary\n",
      "[2022-05-06 16:20:50,622] [INFO] Finished initializing nlp object\n",
      "[2022-05-06 16:20:50,953] [INFO] Initialized pipeline components: ['tok2vec', 'ner']\n"
     ]
    }
   ],
   "source": [
    "!python -m spacy train config_315.cfg --output ./output_315"
   ]
  },
  {
   "cell_type": "code",
   "execution_count": null,
   "id": "674767ac",
   "metadata": {},
   "outputs": [],
   "source": []
  }
 ],
 "metadata": {
  "kernelspec": {
   "display_name": "Python 3",
   "language": "python",
   "name": "python3"
  },
  "language_info": {
   "codemirror_mode": {
    "name": "ipython",
    "version": 3
   },
   "file_extension": ".py",
   "mimetype": "text/x-python",
   "name": "python",
   "nbconvert_exporter": "python",
   "pygments_lexer": "ipython3",
   "version": "3.8.8"
  }
 },
 "nbformat": 4,
 "nbformat_minor": 5
}
