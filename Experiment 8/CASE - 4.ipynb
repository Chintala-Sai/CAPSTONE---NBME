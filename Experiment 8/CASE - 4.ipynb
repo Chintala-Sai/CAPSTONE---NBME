{
 "cells": [
  {
   "cell_type": "code",
   "execution_count": 1,
   "id": "2ada2c86",
   "metadata": {},
   "outputs": [],
   "source": [
    "import pandas as pd\n",
    "import numpy as np\n",
    "import json\n",
    "import warnings\n",
    "import spacy\n",
    "warnings.filterwarnings(\"ignore\")\n",
    "import random\n",
    "\n",
    "import nltk\n",
    "from nltk.stem import WordNetLemmatizer\n",
    "\n",
    "import re\n",
    "\n",
    "from spacy.tokens import DocBin\n",
    "\n",
    "from tqdm import tqdm"
   ]
  },
  {
   "cell_type": "code",
   "execution_count": 80,
   "id": "842c82e0",
   "metadata": {},
   "outputs": [],
   "source": [
    "train_data = pd.read_csv(\"C:\\\\Users\\\\preet\\\\Desktop\\\\CAPstone\\\\train.csv\")\n",
    "features = pd.read_csv(\"C:\\\\Users\\\\preet\\\\Desktop\\\\CAPstone\\\\features.csv\")\n",
    "patient_notes = pd.read_csv(\"C:\\\\Users\\\\preet\\\\Desktop\\\\CAPstone\\\\patient_notes.csv\")"
   ]
  },
  {
   "cell_type": "markdown",
   "id": "96dc6691",
   "metadata": {},
   "source": [
    "### CASE - 4"
   ]
  },
  {
   "cell_type": "code",
   "execution_count": 81,
   "id": "e6b320a6",
   "metadata": {},
   "outputs": [
    {
     "data": {
      "text/html": [
       "<div>\n",
       "<style scoped>\n",
       "    .dataframe tbody tr th:only-of-type {\n",
       "        vertical-align: middle;\n",
       "    }\n",
       "\n",
       "    .dataframe tbody tr th {\n",
       "        vertical-align: top;\n",
       "    }\n",
       "\n",
       "    .dataframe thead th {\n",
       "        text-align: right;\n",
       "    }\n",
       "</style>\n",
       "<table border=\"1\" class=\"dataframe\">\n",
       "  <thead>\n",
       "    <tr style=\"text-align: right;\">\n",
       "      <th></th>\n",
       "      <th>feature_num</th>\n",
       "      <th>case_num</th>\n",
       "      <th>feature_text</th>\n",
       "    </tr>\n",
       "  </thead>\n",
       "  <tbody>\n",
       "    <tr>\n",
       "      <th>59</th>\n",
       "      <td>400</td>\n",
       "      <td>4</td>\n",
       "      <td>Lack-of-other-thyroid-symptoms</td>\n",
       "    </tr>\n",
       "    <tr>\n",
       "      <th>60</th>\n",
       "      <td>401</td>\n",
       "      <td>4</td>\n",
       "      <td>anxious-OR-nervous</td>\n",
       "    </tr>\n",
       "    <tr>\n",
       "      <th>61</th>\n",
       "      <td>402</td>\n",
       "      <td>4</td>\n",
       "      <td>Stress-due-to-caring-for-elderly-parents</td>\n",
       "    </tr>\n",
       "    <tr>\n",
       "      <th>62</th>\n",
       "      <td>403</td>\n",
       "      <td>4</td>\n",
       "      <td>Heavy-caffeine-use</td>\n",
       "    </tr>\n",
       "    <tr>\n",
       "      <th>63</th>\n",
       "      <td>404</td>\n",
       "      <td>4</td>\n",
       "      <td>No-depressed-mood</td>\n",
       "    </tr>\n",
       "    <tr>\n",
       "      <th>64</th>\n",
       "      <td>405</td>\n",
       "      <td>4</td>\n",
       "      <td>Weight-stable</td>\n",
       "    </tr>\n",
       "    <tr>\n",
       "      <th>65</th>\n",
       "      <td>406</td>\n",
       "      <td>4</td>\n",
       "      <td>Insomnia</td>\n",
       "    </tr>\n",
       "    <tr>\n",
       "      <th>66</th>\n",
       "      <td>407</td>\n",
       "      <td>4</td>\n",
       "      <td>Female</td>\n",
       "    </tr>\n",
       "    <tr>\n",
       "      <th>67</th>\n",
       "      <td>408</td>\n",
       "      <td>4</td>\n",
       "      <td>Decreased-appetite</td>\n",
       "    </tr>\n",
       "    <tr>\n",
       "      <th>68</th>\n",
       "      <td>409</td>\n",
       "      <td>4</td>\n",
       "      <td>45-year</td>\n",
       "    </tr>\n",
       "  </tbody>\n",
       "</table>\n",
       "</div>"
      ],
      "text/plain": [
       "    feature_num  case_num                              feature_text\n",
       "59          400         4            Lack-of-other-thyroid-symptoms\n",
       "60          401         4                        anxious-OR-nervous\n",
       "61          402         4  Stress-due-to-caring-for-elderly-parents\n",
       "62          403         4                        Heavy-caffeine-use\n",
       "63          404         4                         No-depressed-mood\n",
       "64          405         4                             Weight-stable\n",
       "65          406         4                                  Insomnia\n",
       "66          407         4                                    Female\n",
       "67          408         4                        Decreased-appetite\n",
       "68          409         4                                   45-year"
      ]
     },
     "execution_count": 81,
     "metadata": {},
     "output_type": "execute_result"
    }
   ],
   "source": [
    "case_4_features = features[features[\"case_num\"] == 4]\n",
    "case_4_features"
   ]
  },
  {
   "cell_type": "code",
   "execution_count": 82,
   "id": "54587f51",
   "metadata": {
    "scrolled": true
   },
   "outputs": [
    {
     "data": {
      "text/html": [
       "<div>\n",
       "<style scoped>\n",
       "    .dataframe tbody tr th:only-of-type {\n",
       "        vertical-align: middle;\n",
       "    }\n",
       "\n",
       "    .dataframe tbody tr th {\n",
       "        vertical-align: top;\n",
       "    }\n",
       "\n",
       "    .dataframe thead th {\n",
       "        text-align: right;\n",
       "    }\n",
       "</style>\n",
       "<table border=\"1\" class=\"dataframe\">\n",
       "  <thead>\n",
       "    <tr style=\"text-align: right;\">\n",
       "      <th></th>\n",
       "      <th>pn_num</th>\n",
       "      <th>case_num</th>\n",
       "      <th>pn_history</th>\n",
       "    </tr>\n",
       "  </thead>\n",
       "  <tbody>\n",
       "    <tr>\n",
       "      <th>14787</th>\n",
       "      <td>40000</td>\n",
       "      <td>4</td>\n",
       "      <td>45 year old woman who presents with nervousnes...</td>\n",
       "    </tr>\n",
       "    <tr>\n",
       "      <th>14788</th>\n",
       "      <td>40001</td>\n",
       "      <td>4</td>\n",
       "      <td>45-yo F c/o nervousness for a fw weeks now, it...</td>\n",
       "    </tr>\n",
       "    <tr>\n",
       "      <th>14789</th>\n",
       "      <td>40002</td>\n",
       "      <td>4</td>\n",
       "      <td>45F presenting with 3 weeks nervouness not bro...</td>\n",
       "    </tr>\n",
       "    <tr>\n",
       "      <th>14790</th>\n",
       "      <td>40003</td>\n",
       "      <td>4</td>\n",
       "      <td>CC: 45 y/o f c/o nervnousness.\\r\\nHPI: It star...</td>\n",
       "    </tr>\n",
       "    <tr>\n",
       "      <th>14791</th>\n",
       "      <td>40004</td>\n",
       "      <td>4</td>\n",
       "      <td>45 YO F C/O NERVOUSNESS X FEW WEEKS. IT STARTE...</td>\n",
       "    </tr>\n",
       "    <tr>\n",
       "      <th>...</th>\n",
       "      <td>...</td>\n",
       "      <td>...</td>\n",
       "      <td>...</td>\n",
       "    </tr>\n",
       "    <tr>\n",
       "      <th>20187</th>\n",
       "      <td>45584</td>\n",
       "      <td>4</td>\n",
       "      <td>45 year old female with 2-3 weeks of constant ...</td>\n",
       "    </tr>\n",
       "    <tr>\n",
       "      <th>20188</th>\n",
       "      <td>45585</td>\n",
       "      <td>4</td>\n",
       "      <td>45 yo F, no PMHx presents with 4 weeks of nerv...</td>\n",
       "    </tr>\n",
       "    <tr>\n",
       "      <th>20189</th>\n",
       "      <td>45586</td>\n",
       "      <td>4</td>\n",
       "      <td>45 YEARS OLD FEMALE WITH NERVOUSNESS FOR FEW W...</td>\n",
       "    </tr>\n",
       "    <tr>\n",
       "      <th>20190</th>\n",
       "      <td>45587</td>\n",
       "      <td>4</td>\n",
       "      <td>45 YO F C/O NERVOUSNESS AND ANXIETY SINCE 2-3 ...</td>\n",
       "    </tr>\n",
       "    <tr>\n",
       "      <th>20191</th>\n",
       "      <td>45588</td>\n",
       "      <td>4</td>\n",
       "      <td>Karin Moore is a 45yo female with no PMH who p...</td>\n",
       "    </tr>\n",
       "  </tbody>\n",
       "</table>\n",
       "<p>5405 rows × 3 columns</p>\n",
       "</div>"
      ],
      "text/plain": [
       "       pn_num  case_num                                         pn_history\n",
       "14787   40000         4  45 year old woman who presents with nervousnes...\n",
       "14788   40001         4  45-yo F c/o nervousness for a fw weeks now, it...\n",
       "14789   40002         4  45F presenting with 3 weeks nervouness not bro...\n",
       "14790   40003         4  CC: 45 y/o f c/o nervnousness.\\r\\nHPI: It star...\n",
       "14791   40004         4  45 YO F C/O NERVOUSNESS X FEW WEEKS. IT STARTE...\n",
       "...       ...       ...                                                ...\n",
       "20187   45584         4  45 year old female with 2-3 weeks of constant ...\n",
       "20188   45585         4  45 yo F, no PMHx presents with 4 weeks of nerv...\n",
       "20189   45586         4  45 YEARS OLD FEMALE WITH NERVOUSNESS FOR FEW W...\n",
       "20190   45587         4  45 YO F C/O NERVOUSNESS AND ANXIETY SINCE 2-3 ...\n",
       "20191   45588         4  Karin Moore is a 45yo female with no PMH who p...\n",
       "\n",
       "[5405 rows x 3 columns]"
      ]
     },
     "execution_count": 82,
     "metadata": {},
     "output_type": "execute_result"
    }
   ],
   "source": [
    "case_4_pn = patient_notes[patient_notes[\"case_num\"] ==  4]\n",
    "case_4_pn"
   ]
  },
  {
   "cell_type": "code",
   "execution_count": 83,
   "id": "55f45bbe",
   "metadata": {
    "scrolled": true
   },
   "outputs": [
    {
     "data": {
      "text/html": [
       "<div>\n",
       "<style scoped>\n",
       "    .dataframe tbody tr th:only-of-type {\n",
       "        vertical-align: middle;\n",
       "    }\n",
       "\n",
       "    .dataframe tbody tr th {\n",
       "        vertical-align: top;\n",
       "    }\n",
       "\n",
       "    .dataframe thead th {\n",
       "        text-align: right;\n",
       "    }\n",
       "</style>\n",
       "<table border=\"1\" class=\"dataframe\">\n",
       "  <thead>\n",
       "    <tr style=\"text-align: right;\">\n",
       "      <th></th>\n",
       "      <th>id</th>\n",
       "      <th>case_num</th>\n",
       "      <th>pn_num</th>\n",
       "      <th>feature_num</th>\n",
       "      <th>annotation</th>\n",
       "      <th>location</th>\n",
       "    </tr>\n",
       "  </thead>\n",
       "  <tbody>\n",
       "    <tr>\n",
       "      <th>5900</th>\n",
       "      <td>40045_400</td>\n",
       "      <td>4</td>\n",
       "      <td>40045</td>\n",
       "      <td>400</td>\n",
       "      <td>['denies palpitations', 'denies tremors', 'den...</td>\n",
       "      <td>['468 474;491 503', '468 474;546 553', '468 47...</td>\n",
       "    </tr>\n",
       "    <tr>\n",
       "      <th>5901</th>\n",
       "      <td>40045_401</td>\n",
       "      <td>4</td>\n",
       "      <td>40045</td>\n",
       "      <td>401</td>\n",
       "      <td>['nervousness', 'nervousness', 'nervousness']</td>\n",
       "      <td>['52 63', '82 93', '206 217']</td>\n",
       "    </tr>\n",
       "    <tr>\n",
       "      <th>5904</th>\n",
       "      <td>40045_404</td>\n",
       "      <td>4</td>\n",
       "      <td>40045</td>\n",
       "      <td>404</td>\n",
       "      <td>['denies any depression']</td>\n",
       "      <td>['468 489']</td>\n",
       "    </tr>\n",
       "    <tr>\n",
       "      <th>5905</th>\n",
       "      <td>40045_405</td>\n",
       "      <td>4</td>\n",
       "      <td>40045</td>\n",
       "      <td>405</td>\n",
       "      <td>['denies weight loss']</td>\n",
       "      <td>['468 474;531 542']</td>\n",
       "    </tr>\n",
       "    <tr>\n",
       "      <th>5906</th>\n",
       "      <td>40045_406</td>\n",
       "      <td>4</td>\n",
       "      <td>40045</td>\n",
       "      <td>406</td>\n",
       "      <td>['trouble going to sleep']</td>\n",
       "      <td>['354 376']</td>\n",
       "    </tr>\n",
       "  </tbody>\n",
       "</table>\n",
       "</div>"
      ],
      "text/plain": [
       "             id  case_num  pn_num  feature_num  \\\n",
       "5900  40045_400         4   40045          400   \n",
       "5901  40045_401         4   40045          401   \n",
       "5904  40045_404         4   40045          404   \n",
       "5905  40045_405         4   40045          405   \n",
       "5906  40045_406         4   40045          406   \n",
       "\n",
       "                                             annotation  \\\n",
       "5900  ['denies palpitations', 'denies tremors', 'den...   \n",
       "5901      ['nervousness', 'nervousness', 'nervousness']   \n",
       "5904                          ['denies any depression']   \n",
       "5905                             ['denies weight loss']   \n",
       "5906                         ['trouble going to sleep']   \n",
       "\n",
       "                                               location  \n",
       "5900  ['468 474;491 503', '468 474;546 553', '468 47...  \n",
       "5901                      ['52 63', '82 93', '206 217']  \n",
       "5904                                        ['468 489']  \n",
       "5905                                ['468 474;531 542']  \n",
       "5906                                        ['354 376']  "
      ]
     },
     "execution_count": 83,
     "metadata": {},
     "output_type": "execute_result"
    }
   ],
   "source": [
    "case_4_train = train_data[train_data[\"case_num\"] == 4]\n",
    "case_4_train = case_4_train[case_4_train.annotation != '[]']\n",
    "case_4_train.head()"
   ]
  },
  {
   "cell_type": "code",
   "execution_count": 84,
   "id": "5883d797",
   "metadata": {
    "scrolled": false
   },
   "outputs": [
    {
     "data": {
      "image/png": "[encoded data removed]",
      "text/plain": [
       "<Figure size 576x432 with 1 Axes>"
      ]
     },
     "metadata": {
      "needs_background": "light"
     },
     "output_type": "display_data"
    }
   ],
   "source": [
    "import matplotlib.pyplot as plt\n",
    "plt.figure(figsize=[8,6])\n",
    "case_4_train.groupby(\"feature_num\").size().plot.bar()\n",
    "plt.title(\"CASE - 4\")\n",
    "plt.ylabel(\"Number of observations\")\n",
    "plt.show()"
   ]
  },
  {
   "cell_type": "code",
   "execution_count": null,
   "id": "f83f0a76",
   "metadata": {},
   "outputs": [],
   "source": []
  },
  {
   "cell_type": "markdown",
   "id": "fd585b56",
   "metadata": {},
   "source": [
    "### Over Sampling for CASE - 4"
   ]
  },
  {
   "cell_type": "code",
   "execution_count": 85,
   "id": "e8695dbd",
   "metadata": {},
   "outputs": [],
   "source": [
    "pn_dict = {}\n",
    "for idx, row in case_4_pn.iterrows():\n",
    "    pn_dict[row['pn_num']] = row['pn_history']"
   ]
  },
  {
   "cell_type": "code",
   "execution_count": 86,
   "id": "e5800f1f",
   "metadata": {},
   "outputs": [],
   "source": [
    "new_annotation = []\n",
    "for case_id in case_4_features['case_num'].unique():\n",
    "    \n",
    "    all_pn_id = set(case_4_pn[case_4_pn['case_num']==case_id]['pn_num'].tolist())\n",
    "    \n",
    "    for feature_id in case_4_features[case_4_features['case_num']==case_id]['feature_num'].unique():\n",
    "        # get all the pn_num that have already been annotated\n",
    "        annotated_pn = set(case_4_train[case_4_train['feature_num']==feature_id]['pn_num'].tolist())\n",
    "        # get all the pn_num that have NOT been annotated\n",
    "        pn_to_annotate = all_pn_id-annotated_pn\n",
    "        \n",
    "        # get all current annotations\n",
    "        # we will use them to find more annotations\n",
    "        annotations = case_4_train[case_4_train['feature_num']==feature_id]['annotation'].tolist()\n",
    "        annotation_texts = set()\n",
    "        for a in annotations:\n",
    "            anns = eval(a)\n",
    "            for at in anns:\n",
    "                annotation_texts.add(at)\n",
    "                \n",
    "        # annotate       \n",
    "        for pn_id in pn_to_annotate:\n",
    "            new_annotation_pn, new_location_pn = [], []\n",
    "            pn_text = pn_dict[pn_id]\n",
    "            for at in annotation_texts:\n",
    "                start = pn_text.find(at)\n",
    "                if start>=0:\n",
    "                    new_annotation_pn.append(at)\n",
    "                    new_location_pn.append(f'{start} {start+len(at)}')\n",
    "            if len(new_annotation_pn)>0:\n",
    "                new_annotation.append((\n",
    "                    f'{pn_id:04d}_{feature_id:03d}',\n",
    "                    case_id,\n",
    "                    pn_id,\n",
    "                    feature_id,\n",
    "                    new_annotation_pn,\n",
    "                    new_location_pn\n",
    "                ))\n",
    "     #   break\n",
    "    break\n",
    "    # break to get sample results quickly"
   ]
  },
  {
   "cell_type": "code",
   "execution_count": 87,
   "id": "f40da6d6",
   "metadata": {},
   "outputs": [
    {
     "data": {
      "text/plain": [
       "26071"
      ]
     },
     "execution_count": 87,
     "metadata": {},
     "output_type": "execute_result"
    }
   ],
   "source": [
    "len(new_annotation)"
   ]
  },
  {
   "cell_type": "code",
   "execution_count": 88,
   "id": "141ca4de",
   "metadata": {},
   "outputs": [
    {
     "data": {
      "text/html": [
       "<div>\n",
       "<style scoped>\n",
       "    .dataframe tbody tr th:only-of-type {\n",
       "        vertical-align: middle;\n",
       "    }\n",
       "\n",
       "    .dataframe tbody tr th {\n",
       "        vertical-align: top;\n",
       "    }\n",
       "\n",
       "    .dataframe thead th {\n",
       "        text-align: right;\n",
       "    }\n",
       "</style>\n",
       "<table border=\"1\" class=\"dataframe\">\n",
       "  <thead>\n",
       "    <tr style=\"text-align: right;\">\n",
       "      <th></th>\n",
       "      <th>0</th>\n",
       "      <th>1</th>\n",
       "      <th>2</th>\n",
       "      <th>3</th>\n",
       "      <th>4</th>\n",
       "      <th>5</th>\n",
       "    </tr>\n",
       "  </thead>\n",
       "  <tbody>\n",
       "    <tr>\n",
       "      <th>0</th>\n",
       "      <td>40000_400</td>\n",
       "      <td>4</td>\n",
       "      <td>40000</td>\n",
       "      <td>400</td>\n",
       "      <td>[no palpitations]</td>\n",
       "      <td>[322 337]</td>\n",
       "    </tr>\n",
       "    <tr>\n",
       "      <th>1</th>\n",
       "      <td>40001_400</td>\n",
       "      <td>4</td>\n",
       "      <td>40001</td>\n",
       "      <td>400</td>\n",
       "      <td>[no palpitations]</td>\n",
       "      <td>[516 531]</td>\n",
       "    </tr>\n",
       "    <tr>\n",
       "      <th>2</th>\n",
       "      <td>40003_400</td>\n",
       "      <td>4</td>\n",
       "      <td>40003</td>\n",
       "      <td>400</td>\n",
       "      <td>[no c]</td>\n",
       "      <td>[551 555]</td>\n",
       "    </tr>\n",
       "    <tr>\n",
       "      <th>3</th>\n",
       "      <td>40006_400</td>\n",
       "      <td>4</td>\n",
       "      <td>40006</td>\n",
       "      <td>400</td>\n",
       "      <td>[no weight changes]</td>\n",
       "      <td>[287 304]</td>\n",
       "    </tr>\n",
       "    <tr>\n",
       "      <th>4</th>\n",
       "      <td>40016_400</td>\n",
       "      <td>4</td>\n",
       "      <td>40016</td>\n",
       "      <td>400</td>\n",
       "      <td>[no palpitations]</td>\n",
       "      <td>[634 649]</td>\n",
       "    </tr>\n",
       "  </tbody>\n",
       "</table>\n",
       "</div>"
      ],
      "text/plain": [
       "           0  1      2    3                    4          5\n",
       "0  40000_400  4  40000  400    [no palpitations]  [322 337]\n",
       "1  40001_400  4  40001  400    [no palpitations]  [516 531]\n",
       "2  40003_400  4  40003  400               [no c]  [551 555]\n",
       "3  40006_400  4  40006  400  [no weight changes]  [287 304]\n",
       "4  40016_400  4  40016  400    [no palpitations]  [634 649]"
      ]
     },
     "execution_count": 88,
     "metadata": {},
     "output_type": "execute_result"
    }
   ],
   "source": [
    "df=pd.DataFrame(new_annotation)\n",
    "df.head()"
   ]
  },
  {
   "cell_type": "code",
   "execution_count": 89,
   "id": "3bd82059",
   "metadata": {},
   "outputs": [
    {
     "data": {
      "text/html": [
       "<div>\n",
       "<style scoped>\n",
       "    .dataframe tbody tr th:only-of-type {\n",
       "        vertical-align: middle;\n",
       "    }\n",
       "\n",
       "    .dataframe tbody tr th {\n",
       "        vertical-align: top;\n",
       "    }\n",
       "\n",
       "    .dataframe thead th {\n",
       "        text-align: right;\n",
       "    }\n",
       "</style>\n",
       "<table border=\"1\" class=\"dataframe\">\n",
       "  <thead>\n",
       "    <tr style=\"text-align: right;\">\n",
       "      <th></th>\n",
       "      <th>id</th>\n",
       "      <th>case_num</th>\n",
       "      <th>pn_num</th>\n",
       "      <th>feature_num</th>\n",
       "      <th>annotation</th>\n",
       "      <th>location</th>\n",
       "    </tr>\n",
       "  </thead>\n",
       "  <tbody>\n",
       "    <tr>\n",
       "      <th>0</th>\n",
       "      <td>40000_400</td>\n",
       "      <td>4</td>\n",
       "      <td>40000</td>\n",
       "      <td>400</td>\n",
       "      <td>[no palpitations]</td>\n",
       "      <td>[322 337]</td>\n",
       "    </tr>\n",
       "    <tr>\n",
       "      <th>1</th>\n",
       "      <td>40001_400</td>\n",
       "      <td>4</td>\n",
       "      <td>40001</td>\n",
       "      <td>400</td>\n",
       "      <td>[no palpitations]</td>\n",
       "      <td>[516 531]</td>\n",
       "    </tr>\n",
       "    <tr>\n",
       "      <th>2</th>\n",
       "      <td>40003_400</td>\n",
       "      <td>4</td>\n",
       "      <td>40003</td>\n",
       "      <td>400</td>\n",
       "      <td>[no c]</td>\n",
       "      <td>[551 555]</td>\n",
       "    </tr>\n",
       "    <tr>\n",
       "      <th>3</th>\n",
       "      <td>40006_400</td>\n",
       "      <td>4</td>\n",
       "      <td>40006</td>\n",
       "      <td>400</td>\n",
       "      <td>[no weight changes]</td>\n",
       "      <td>[287 304]</td>\n",
       "    </tr>\n",
       "    <tr>\n",
       "      <th>4</th>\n",
       "      <td>40016_400</td>\n",
       "      <td>4</td>\n",
       "      <td>40016</td>\n",
       "      <td>400</td>\n",
       "      <td>[no palpitations]</td>\n",
       "      <td>[634 649]</td>\n",
       "    </tr>\n",
       "  </tbody>\n",
       "</table>\n",
       "</div>"
      ],
      "text/plain": [
       "          id  case_num  pn_num  feature_num           annotation   location\n",
       "0  40000_400         4   40000          400    [no palpitations]  [322 337]\n",
       "1  40001_400         4   40001          400    [no palpitations]  [516 531]\n",
       "2  40003_400         4   40003          400               [no c]  [551 555]\n",
       "3  40006_400         4   40006          400  [no weight changes]  [287 304]\n",
       "4  40016_400         4   40016          400    [no palpitations]  [634 649]"
      ]
     },
     "execution_count": 89,
     "metadata": {},
     "output_type": "execute_result"
    }
   ],
   "source": [
    "df.columns=['id','case_num','pn_num','feature_num','annotation','location']\n",
    "df.head()"
   ]
  },
  {
   "cell_type": "code",
   "execution_count": 90,
   "id": "1ce041fc",
   "metadata": {},
   "outputs": [
    {
     "data": {
      "text/html": [
       "<div>\n",
       "<style scoped>\n",
       "    .dataframe tbody tr th:only-of-type {\n",
       "        vertical-align: middle;\n",
       "    }\n",
       "\n",
       "    .dataframe tbody tr th {\n",
       "        vertical-align: top;\n",
       "    }\n",
       "\n",
       "    .dataframe thead th {\n",
       "        text-align: right;\n",
       "    }\n",
       "</style>\n",
       "<table border=\"1\" class=\"dataframe\">\n",
       "  <thead>\n",
       "    <tr style=\"text-align: right;\">\n",
       "      <th></th>\n",
       "      <th>id</th>\n",
       "      <th>case_num</th>\n",
       "      <th>pn_num</th>\n",
       "      <th>feature_num</th>\n",
       "      <th>annotation</th>\n",
       "      <th>location</th>\n",
       "    </tr>\n",
       "  </thead>\n",
       "  <tbody>\n",
       "    <tr>\n",
       "      <th>0</th>\n",
       "      <td>40000_400</td>\n",
       "      <td>4</td>\n",
       "      <td>40000</td>\n",
       "      <td>400</td>\n",
       "      <td>[no palpitations]</td>\n",
       "      <td>[322 337]</td>\n",
       "    </tr>\n",
       "    <tr>\n",
       "      <th>1</th>\n",
       "      <td>40001_400</td>\n",
       "      <td>4</td>\n",
       "      <td>40001</td>\n",
       "      <td>400</td>\n",
       "      <td>[no palpitations]</td>\n",
       "      <td>[516 531]</td>\n",
       "    </tr>\n",
       "    <tr>\n",
       "      <th>2</th>\n",
       "      <td>40003_400</td>\n",
       "      <td>4</td>\n",
       "      <td>40003</td>\n",
       "      <td>400</td>\n",
       "      <td>[no c]</td>\n",
       "      <td>[551 555]</td>\n",
       "    </tr>\n",
       "    <tr>\n",
       "      <th>3</th>\n",
       "      <td>40006_400</td>\n",
       "      <td>4</td>\n",
       "      <td>40006</td>\n",
       "      <td>400</td>\n",
       "      <td>[no weight changes]</td>\n",
       "      <td>[287 304]</td>\n",
       "    </tr>\n",
       "    <tr>\n",
       "      <th>4</th>\n",
       "      <td>40016_400</td>\n",
       "      <td>4</td>\n",
       "      <td>40016</td>\n",
       "      <td>400</td>\n",
       "      <td>[no palpitations]</td>\n",
       "      <td>[634 649]</td>\n",
       "    </tr>\n",
       "    <tr>\n",
       "      <th>...</th>\n",
       "      <td>...</td>\n",
       "      <td>...</td>\n",
       "      <td>...</td>\n",
       "      <td>...</td>\n",
       "      <td>...</td>\n",
       "      <td>...</td>\n",
       "    </tr>\n",
       "    <tr>\n",
       "      <th>2370</th>\n",
       "      <td>45577_400</td>\n",
       "      <td>4</td>\n",
       "      <td>45577</td>\n",
       "      <td>400</td>\n",
       "      <td>[no fatigue]</td>\n",
       "      <td>[358 368]</td>\n",
       "    </tr>\n",
       "    <tr>\n",
       "      <th>2371</th>\n",
       "      <td>45578_400</td>\n",
       "      <td>4</td>\n",
       "      <td>45578</td>\n",
       "      <td>400</td>\n",
       "      <td>[DENIES TREMOR, DENIES TREMORS]</td>\n",
       "      <td>[269 282, 269 283]</td>\n",
       "    </tr>\n",
       "    <tr>\n",
       "      <th>2372</th>\n",
       "      <td>45584_400</td>\n",
       "      <td>4</td>\n",
       "      <td>45584</td>\n",
       "      <td>400</td>\n",
       "      <td>[Denies palpitation, Denies palpitations]</td>\n",
       "      <td>[472 490, 472 491]</td>\n",
       "    </tr>\n",
       "    <tr>\n",
       "      <th>2373</th>\n",
       "      <td>45585_400</td>\n",
       "      <td>4</td>\n",
       "      <td>45585</td>\n",
       "      <td>400</td>\n",
       "      <td>[no c, no d, no palpitations]</td>\n",
       "      <td>[512 516, 876 880, 690 705]</td>\n",
       "    </tr>\n",
       "    <tr>\n",
       "      <th>2374</th>\n",
       "      <td>45588_400</td>\n",
       "      <td>4</td>\n",
       "      <td>45588</td>\n",
       "      <td>400</td>\n",
       "      <td>[no d]</td>\n",
       "      <td>[773 777]</td>\n",
       "    </tr>\n",
       "  </tbody>\n",
       "</table>\n",
       "<p>2375 rows × 6 columns</p>\n",
       "</div>"
      ],
      "text/plain": [
       "             id  case_num  pn_num  feature_num  \\\n",
       "0     40000_400         4   40000          400   \n",
       "1     40001_400         4   40001          400   \n",
       "2     40003_400         4   40003          400   \n",
       "3     40006_400         4   40006          400   \n",
       "4     40016_400         4   40016          400   \n",
       "...         ...       ...     ...          ...   \n",
       "2370  45577_400         4   45577          400   \n",
       "2371  45578_400         4   45578          400   \n",
       "2372  45584_400         4   45584          400   \n",
       "2373  45585_400         4   45585          400   \n",
       "2374  45588_400         4   45588          400   \n",
       "\n",
       "                                     annotation                     location  \n",
       "0                             [no palpitations]                    [322 337]  \n",
       "1                             [no palpitations]                    [516 531]  \n",
       "2                                        [no c]                    [551 555]  \n",
       "3                           [no weight changes]                    [287 304]  \n",
       "4                             [no palpitations]                    [634 649]  \n",
       "...                                         ...                          ...  \n",
       "2370                               [no fatigue]                    [358 368]  \n",
       "2371            [DENIES TREMOR, DENIES TREMORS]           [269 282, 269 283]  \n",
       "2372  [Denies palpitation, Denies palpitations]           [472 490, 472 491]  \n",
       "2373              [no c, no d, no palpitations]  [512 516, 876 880, 690 705]  \n",
       "2374                                     [no d]                    [773 777]  \n",
       "\n",
       "[2375 rows x 6 columns]"
      ]
     },
     "execution_count": 90,
     "metadata": {},
     "output_type": "execute_result"
    }
   ],
   "source": [
    "df[df.feature_num == 400]"
   ]
  },
  {
   "cell_type": "code",
   "execution_count": 91,
   "id": "49870475",
   "metadata": {
    "scrolled": true
   },
   "outputs": [
    {
     "data": {
      "text/html": [
       "<div>\n",
       "<style scoped>\n",
       "    .dataframe tbody tr th:only-of-type {\n",
       "        vertical-align: middle;\n",
       "    }\n",
       "\n",
       "    .dataframe tbody tr th {\n",
       "        vertical-align: top;\n",
       "    }\n",
       "\n",
       "    .dataframe thead th {\n",
       "        text-align: right;\n",
       "    }\n",
       "</style>\n",
       "<table border=\"1\" class=\"dataframe\">\n",
       "  <thead>\n",
       "    <tr style=\"text-align: right;\">\n",
       "      <th></th>\n",
       "      <th>id</th>\n",
       "      <th>case_num</th>\n",
       "      <th>pn_num</th>\n",
       "      <th>feature_num</th>\n",
       "      <th>annotation</th>\n",
       "      <th>location</th>\n",
       "    </tr>\n",
       "  </thead>\n",
       "  <tbody>\n",
       "    <tr>\n",
       "      <th>0</th>\n",
       "      <td>40000_400</td>\n",
       "      <td>4</td>\n",
       "      <td>40000</td>\n",
       "      <td>400</td>\n",
       "      <td>'no palpitations'</td>\n",
       "      <td>'322 337'</td>\n",
       "    </tr>\n",
       "    <tr>\n",
       "      <th>1</th>\n",
       "      <td>40001_400</td>\n",
       "      <td>4</td>\n",
       "      <td>40001</td>\n",
       "      <td>400</td>\n",
       "      <td>'no palpitations'</td>\n",
       "      <td>'516 531'</td>\n",
       "    </tr>\n",
       "    <tr>\n",
       "      <th>2</th>\n",
       "      <td>40003_400</td>\n",
       "      <td>4</td>\n",
       "      <td>40003</td>\n",
       "      <td>400</td>\n",
       "      <td>'no c'</td>\n",
       "      <td>'551 555'</td>\n",
       "    </tr>\n",
       "    <tr>\n",
       "      <th>3</th>\n",
       "      <td>40006_400</td>\n",
       "      <td>4</td>\n",
       "      <td>40006</td>\n",
       "      <td>400</td>\n",
       "      <td>'no weight changes'</td>\n",
       "      <td>'287 304'</td>\n",
       "    </tr>\n",
       "    <tr>\n",
       "      <th>4</th>\n",
       "      <td>40016_400</td>\n",
       "      <td>4</td>\n",
       "      <td>40016</td>\n",
       "      <td>400</td>\n",
       "      <td>'no palpitations'</td>\n",
       "      <td>'634 649'</td>\n",
       "    </tr>\n",
       "  </tbody>\n",
       "</table>\n",
       "</div>"
      ],
      "text/plain": [
       "          id  case_num  pn_num  feature_num           annotation   location\n",
       "0  40000_400         4   40000          400    'no palpitations'  '322 337'\n",
       "1  40001_400         4   40001          400    'no palpitations'  '516 531'\n",
       "2  40003_400         4   40003          400               'no c'  '551 555'\n",
       "3  40006_400         4   40006          400  'no weight changes'  '287 304'\n",
       "4  40016_400         4   40016          400    'no palpitations'  '634 649'"
      ]
     },
     "execution_count": 91,
     "metadata": {},
     "output_type": "execute_result"
    }
   ],
   "source": [
    "df[\"location\"] = df[\"location\"].apply(str)\n",
    "df[\"annotation\"] = df[\"annotation\"].apply(str)\n",
    "\n",
    "df[\"annotation\"] = df.annotation.str.replace('[','')\n",
    "df[\"annotation\"] = df.annotation.str.replace(']','')\n",
    "df[\"location\"] = df.location.str.replace('[','')\n",
    "df[\"location\"] = df.location.str.replace(']','')\n",
    "\n",
    "df.head()"
   ]
  },
  {
   "cell_type": "code",
   "execution_count": 92,
   "id": "8e6758e1",
   "metadata": {},
   "outputs": [],
   "source": [
    "df = df.drop([\"id\",\"case_num\"],axis = 1)"
   ]
  },
  {
   "cell_type": "code",
   "execution_count": 48,
   "id": "3fa78940",
   "metadata": {},
   "outputs": [],
   "source": [
    "#denies nausea, vomiting' 152\n"
   ]
  },
  {
   "cell_type": "code",
   "execution_count": 27,
   "id": "bc6eb171",
   "metadata": {},
   "outputs": [
    {
     "data": {
      "text/html": [
       "<div>\n",
       "<style scoped>\n",
       "    .dataframe tbody tr th:only-of-type {\n",
       "        vertical-align: middle;\n",
       "    }\n",
       "\n",
       "    .dataframe tbody tr th {\n",
       "        vertical-align: top;\n",
       "    }\n",
       "\n",
       "    .dataframe thead th {\n",
       "        text-align: right;\n",
       "    }\n",
       "</style>\n",
       "<table border=\"1\" class=\"dataframe\">\n",
       "  <thead>\n",
       "    <tr style=\"text-align: right;\">\n",
       "      <th></th>\n",
       "      <th>id</th>\n",
       "      <th>case_num</th>\n",
       "      <th>pn_num</th>\n",
       "      <th>feature_num</th>\n",
       "      <th>annotation</th>\n",
       "      <th>location</th>\n",
       "    </tr>\n",
       "  </thead>\n",
       "  <tbody>\n",
       "    <tr>\n",
       "      <th>2181</th>\n",
       "      <td>45161_400</td>\n",
       "      <td>4</td>\n",
       "      <td>45161</td>\n",
       "      <td>400</td>\n",
       "      <td>'denies palpitation'</td>\n",
       "      <td>'80 98'</td>\n",
       "    </tr>\n",
       "    <tr>\n",
       "      <th>2272</th>\n",
       "      <td>45359_400</td>\n",
       "      <td>4</td>\n",
       "      <td>45359</td>\n",
       "      <td>400</td>\n",
       "      <td>'no heart palpitations', 'no skin changes', 'n...</td>\n",
       "      <td>'344 365', '396 411', '413 428'</td>\n",
       "    </tr>\n",
       "    <tr>\n",
       "      <th>607</th>\n",
       "      <td>41427_400</td>\n",
       "      <td>4</td>\n",
       "      <td>41427</td>\n",
       "      <td>400</td>\n",
       "      <td>'no c', 'no d', 'no palpitations'</td>\n",
       "      <td>'435 439', '885 889', '375 390'</td>\n",
       "    </tr>\n",
       "    <tr>\n",
       "      <th>931</th>\n",
       "      <td>42172_400</td>\n",
       "      <td>4</td>\n",
       "      <td>42172</td>\n",
       "      <td>400</td>\n",
       "      <td>'no c', 'no d'</td>\n",
       "      <td>'486 490', '726 730'</td>\n",
       "    </tr>\n",
       "    <tr>\n",
       "      <th>950</th>\n",
       "      <td>42205_400</td>\n",
       "      <td>4</td>\n",
       "      <td>42205</td>\n",
       "      <td>400</td>\n",
       "      <td>'no fatigue', 'no skin changes'</td>\n",
       "      <td>'318 328', '302 317'</td>\n",
       "    </tr>\n",
       "  </tbody>\n",
       "</table>\n",
       "</div>"
      ],
      "text/plain": [
       "             id  case_num  pn_num  feature_num  \\\n",
       "2181  45161_400         4   45161          400   \n",
       "2272  45359_400         4   45359          400   \n",
       "607   41427_400         4   41427          400   \n",
       "931   42172_400         4   42172          400   \n",
       "950   42205_400         4   42205          400   \n",
       "\n",
       "                                             annotation  \\\n",
       "2181                               'denies palpitation'   \n",
       "2272  'no heart palpitations', 'no skin changes', 'n...   \n",
       "607                   'no c', 'no d', 'no palpitations'   \n",
       "931                                      'no c', 'no d'   \n",
       "950                     'no fatigue', 'no skin changes'   \n",
       "\n",
       "                             location  \n",
       "2181                          '80 98'  \n",
       "2272  '344 365', '396 411', '413 428'  \n",
       "607   '435 439', '885 889', '375 390'  \n",
       "931              '486 490', '726 730'  \n",
       "950              '318 328', '302 317'  "
      ]
     },
     "execution_count": 27,
     "metadata": {},
     "output_type": "execute_result"
    }
   ],
   "source": [
    "df_400.head()"
   ]
  },
  {
   "cell_type": "code",
   "execution_count": 49,
   "id": "97fe319b",
   "metadata": {
    "scrolled": true
   },
   "outputs": [],
   "source": [
    "df_400 = (df_400.set_index([\"pn_num\",\"feature_num\"]) \n",
    "   .apply(lambda col: col.str.split(',').explode())\n",
    "   .reset_index()\n",
    "   .reindex(df_400.columns, axis=1))\n"
   ]
  },
  {
   "cell_type": "code",
   "execution_count": 93,
   "id": "775f1716",
   "metadata": {
    "scrolled": true
   },
   "outputs": [
    {
     "data": {
      "text/html": [
       "<div>\n",
       "<style scoped>\n",
       "    .dataframe tbody tr th:only-of-type {\n",
       "        vertical-align: middle;\n",
       "    }\n",
       "\n",
       "    .dataframe tbody tr th {\n",
       "        vertical-align: top;\n",
       "    }\n",
       "\n",
       "    .dataframe thead th {\n",
       "        text-align: right;\n",
       "    }\n",
       "</style>\n",
       "<table border=\"1\" class=\"dataframe\">\n",
       "  <thead>\n",
       "    <tr style=\"text-align: right;\">\n",
       "      <th></th>\n",
       "      <th>pn_num</th>\n",
       "      <th>feature_num</th>\n",
       "      <th>annotation</th>\n",
       "      <th>location</th>\n",
       "      <th>start_location</th>\n",
       "      <th>end_location</th>\n",
       "    </tr>\n",
       "  </thead>\n",
       "  <tbody>\n",
       "    <tr>\n",
       "      <th>0</th>\n",
       "      <td>40000</td>\n",
       "      <td>400</td>\n",
       "      <td>'no palpitations'</td>\n",
       "      <td>'322 337'</td>\n",
       "      <td>322</td>\n",
       "      <td>337</td>\n",
       "    </tr>\n",
       "    <tr>\n",
       "      <th>1</th>\n",
       "      <td>40001</td>\n",
       "      <td>400</td>\n",
       "      <td>'no palpitations'</td>\n",
       "      <td>'516 531'</td>\n",
       "      <td>516</td>\n",
       "      <td>531</td>\n",
       "    </tr>\n",
       "    <tr>\n",
       "      <th>2</th>\n",
       "      <td>40003</td>\n",
       "      <td>400</td>\n",
       "      <td>'no c'</td>\n",
       "      <td>'551 555'</td>\n",
       "      <td>551</td>\n",
       "      <td>555</td>\n",
       "    </tr>\n",
       "    <tr>\n",
       "      <th>3</th>\n",
       "      <td>40006</td>\n",
       "      <td>400</td>\n",
       "      <td>'no weight changes'</td>\n",
       "      <td>'287 304'</td>\n",
       "      <td>287</td>\n",
       "      <td>304</td>\n",
       "    </tr>\n",
       "    <tr>\n",
       "      <th>4</th>\n",
       "      <td>40016</td>\n",
       "      <td>400</td>\n",
       "      <td>'no palpitations'</td>\n",
       "      <td>'634 649'</td>\n",
       "      <td>634</td>\n",
       "      <td>649</td>\n",
       "    </tr>\n",
       "    <tr>\n",
       "      <th>...</th>\n",
       "      <td>...</td>\n",
       "      <td>...</td>\n",
       "      <td>...</td>\n",
       "      <td>...</td>\n",
       "      <td>...</td>\n",
       "      <td>...</td>\n",
       "    </tr>\n",
       "    <tr>\n",
       "      <th>26066</th>\n",
       "      <td>45584</td>\n",
       "      <td>409</td>\n",
       "      <td>'45', '45 year', '45 year old'</td>\n",
       "      <td>'0 2', '0 7', '0 11'</td>\n",
       "      <td>0</td>\n",
       "      <td>11</td>\n",
       "    </tr>\n",
       "    <tr>\n",
       "      <th>26067</th>\n",
       "      <td>45585</td>\n",
       "      <td>409</td>\n",
       "      <td>'45', '45 yo'</td>\n",
       "      <td>'0 2', '0 5'</td>\n",
       "      <td>0</td>\n",
       "      <td>5</td>\n",
       "    </tr>\n",
       "    <tr>\n",
       "      <th>26068</th>\n",
       "      <td>45586</td>\n",
       "      <td>409</td>\n",
       "      <td>'45'</td>\n",
       "      <td>'0 2'</td>\n",
       "      <td>0</td>\n",
       "      <td>2</td>\n",
       "    </tr>\n",
       "    <tr>\n",
       "      <th>26069</th>\n",
       "      <td>45587</td>\n",
       "      <td>409</td>\n",
       "      <td>'45', '45 YO'</td>\n",
       "      <td>'0 2', '0 5'</td>\n",
       "      <td>0</td>\n",
       "      <td>5</td>\n",
       "    </tr>\n",
       "    <tr>\n",
       "      <th>26070</th>\n",
       "      <td>45588</td>\n",
       "      <td>409</td>\n",
       "      <td>'45', '45yo'</td>\n",
       "      <td>'17 19', '17 21'</td>\n",
       "      <td>17</td>\n",
       "      <td>21</td>\n",
       "    </tr>\n",
       "  </tbody>\n",
       "</table>\n",
       "<p>26071 rows × 6 columns</p>\n",
       "</div>"
      ],
      "text/plain": [
       "       pn_num  feature_num                      annotation  \\\n",
       "0       40000          400               'no palpitations'   \n",
       "1       40001          400               'no palpitations'   \n",
       "2       40003          400                          'no c'   \n",
       "3       40006          400             'no weight changes'   \n",
       "4       40016          400               'no palpitations'   \n",
       "...       ...          ...                             ...   \n",
       "26066   45584          409  '45', '45 year', '45 year old'   \n",
       "26067   45585          409                   '45', '45 yo'   \n",
       "26068   45586          409                            '45'   \n",
       "26069   45587          409                   '45', '45 YO'   \n",
       "26070   45588          409                    '45', '45yo'   \n",
       "\n",
       "                   location start_location end_location  \n",
       "0                 '322 337'            322          337  \n",
       "1                 '516 531'            516          531  \n",
       "2                 '551 555'            551          555  \n",
       "3                 '287 304'            287          304  \n",
       "4                 '634 649'            634          649  \n",
       "...                     ...            ...          ...  \n",
       "26066  '0 2', '0 7', '0 11'              0           11  \n",
       "26067          '0 2', '0 5'              0            5  \n",
       "26068                 '0 2'              0            2  \n",
       "26069          '0 2', '0 5'              0            5  \n",
       "26070      '17 19', '17 21'             17           21  \n",
       "\n",
       "[26071 rows x 6 columns]"
      ]
     },
     "execution_count": 93,
     "metadata": {},
     "output_type": "execute_result"
    }
   ],
   "source": [
    "df[\"start_location\"] = df[\"location\"].apply(lambda x: x.split()[0][1:])\n",
    "df[\"end_location\"] = df[\"location\"].apply(lambda x: x.split()[-1][:-1])\n",
    "df"
   ]
  },
  {
   "cell_type": "code",
   "execution_count": null,
   "id": "2a1db480",
   "metadata": {
    "scrolled": true
   },
   "outputs": [],
   "source": []
  },
  {
   "cell_type": "code",
   "execution_count": 94,
   "id": "a16e8d3f",
   "metadata": {},
   "outputs": [
    {
     "data": {
      "text/plain": [
       "(90, 6)"
      ]
     },
     "execution_count": 94,
     "metadata": {},
     "output_type": "execute_result"
    }
   ],
   "source": [
    "df_400 = df[df[\"feature_num\"] == 400].sample(n = 90, random_state = 150)\n",
    "df_400.shape"
   ]
  },
  {
   "cell_type": "code",
   "execution_count": 95,
   "id": "b86f83dd",
   "metadata": {},
   "outputs": [
    {
     "data": {
      "text/plain": [
       "(130, 6)"
      ]
     },
     "execution_count": 95,
     "metadata": {},
     "output_type": "execute_result"
    }
   ],
   "source": [
    "df_402 = df[df[\"feature_num\"] == 402].sample(n = 130, random_state = 0)\n",
    "df_402.shape"
   ]
  },
  {
   "cell_type": "code",
   "execution_count": 96,
   "id": "09f26292",
   "metadata": {},
   "outputs": [
    {
     "data": {
      "text/plain": [
       "(150, 6)"
      ]
     },
     "execution_count": 96,
     "metadata": {},
     "output_type": "execute_result"
    }
   ],
   "source": [
    "df_403 = df[df[\"feature_num\"] == 403].sample(n = 150, random_state = 0)\n",
    "df_403.shape"
   ]
  },
  {
   "cell_type": "code",
   "execution_count": 97,
   "id": "bc6436f6",
   "metadata": {},
   "outputs": [
    {
     "data": {
      "text/plain": [
       "(130, 6)"
      ]
     },
     "execution_count": 97,
     "metadata": {},
     "output_type": "execute_result"
    }
   ],
   "source": [
    "df_404 = df[df[\"feature_num\"] == 404].sample(n = 130, random_state = 0)\n",
    "df_404.shape"
   ]
  },
  {
   "cell_type": "code",
   "execution_count": 98,
   "id": "e0b05b3e",
   "metadata": {},
   "outputs": [
    {
     "data": {
      "text/plain": [
       "(130, 6)"
      ]
     },
     "execution_count": 98,
     "metadata": {},
     "output_type": "execute_result"
    }
   ],
   "source": [
    "df_405 = df[df[\"feature_num\"] == 405].sample(n = 130, random_state = 0)\n",
    "df_405.shape"
   ]
  },
  {
   "cell_type": "code",
   "execution_count": 99,
   "id": "0fa6287e",
   "metadata": {},
   "outputs": [
    {
     "data": {
      "text/html": [
       "<div>\n",
       "<style scoped>\n",
       "    .dataframe tbody tr th:only-of-type {\n",
       "        vertical-align: middle;\n",
       "    }\n",
       "\n",
       "    .dataframe tbody tr th {\n",
       "        vertical-align: top;\n",
       "    }\n",
       "\n",
       "    .dataframe thead th {\n",
       "        text-align: right;\n",
       "    }\n",
       "</style>\n",
       "<table border=\"1\" class=\"dataframe\">\n",
       "  <thead>\n",
       "    <tr style=\"text-align: right;\">\n",
       "      <th></th>\n",
       "      <th>pn_num</th>\n",
       "      <th>feature_num</th>\n",
       "      <th>annotation</th>\n",
       "      <th>location</th>\n",
       "      <th>start_location</th>\n",
       "      <th>end_location</th>\n",
       "    </tr>\n",
       "  </thead>\n",
       "  <tbody>\n",
       "    <tr>\n",
       "      <th>7920</th>\n",
       "      <td>41072</td>\n",
       "      <td>403</td>\n",
       "      <td>'5-6 cups of coffee a day', '5-6 cups of coffee'</td>\n",
       "      <td>'741 765', '741 759'</td>\n",
       "      <td>741</td>\n",
       "      <td>759</td>\n",
       "    </tr>\n",
       "    <tr>\n",
       "      <th>7892</th>\n",
       "      <td>40858</td>\n",
       "      <td>403</td>\n",
       "      <td>'5-6 cups of coffee'</td>\n",
       "      <td>'245 263'</td>\n",
       "      <td>245</td>\n",
       "      <td>263</td>\n",
       "    </tr>\n",
       "    <tr>\n",
       "      <th>8316</th>\n",
       "      <td>43846</td>\n",
       "      <td>403</td>\n",
       "      <td>'5-6 cups of coffee'</td>\n",
       "      <td>'415 433'</td>\n",
       "      <td>415</td>\n",
       "      <td>433</td>\n",
       "    </tr>\n",
       "    <tr>\n",
       "      <th>7784</th>\n",
       "      <td>40098</td>\n",
       "      <td>403</td>\n",
       "      <td>'5-6 cups of coffee'</td>\n",
       "      <td>'432 450'</td>\n",
       "      <td>432</td>\n",
       "      <td>450</td>\n",
       "    </tr>\n",
       "    <tr>\n",
       "      <th>8312</th>\n",
       "      <td>43806</td>\n",
       "      <td>403</td>\n",
       "      <td>'5-6 cups of coffee'</td>\n",
       "      <td>'269 287'</td>\n",
       "      <td>269</td>\n",
       "      <td>287</td>\n",
       "    </tr>\n",
       "    <tr>\n",
       "      <th>...</th>\n",
       "      <td>...</td>\n",
       "      <td>...</td>\n",
       "      <td>...</td>\n",
       "      <td>...</td>\n",
       "      <td>...</td>\n",
       "      <td>...</td>\n",
       "    </tr>\n",
       "    <tr>\n",
       "      <th>7926</th>\n",
       "      <td>41097</td>\n",
       "      <td>403</td>\n",
       "      <td>'5-6 cups of coffee'</td>\n",
       "      <td>'403 421'</td>\n",
       "      <td>403</td>\n",
       "      <td>421</td>\n",
       "    </tr>\n",
       "    <tr>\n",
       "      <th>7846</th>\n",
       "      <td>40508</td>\n",
       "      <td>403</td>\n",
       "      <td>'drinks 5-6 coffee'</td>\n",
       "      <td>'212 229'</td>\n",
       "      <td>212</td>\n",
       "      <td>229</td>\n",
       "    </tr>\n",
       "    <tr>\n",
       "      <th>7834</th>\n",
       "      <td>40445</td>\n",
       "      <td>403</td>\n",
       "      <td>'5-6 cups of coffee'</td>\n",
       "      <td>'524 542'</td>\n",
       "      <td>524</td>\n",
       "      <td>542</td>\n",
       "    </tr>\n",
       "    <tr>\n",
       "      <th>8488</th>\n",
       "      <td>45184</td>\n",
       "      <td>403</td>\n",
       "      <td>'5-6 cups of coffee per day', '5-6 cups of cof...</td>\n",
       "      <td>'266 292', '266 284'</td>\n",
       "      <td>266</td>\n",
       "      <td>284</td>\n",
       "    </tr>\n",
       "    <tr>\n",
       "      <th>7822</th>\n",
       "      <td>40354</td>\n",
       "      <td>403</td>\n",
       "      <td>'5-6 cups of coffee a day', '5-6 cups of coffee'</td>\n",
       "      <td>'572 596', '572 590'</td>\n",
       "      <td>572</td>\n",
       "      <td>590</td>\n",
       "    </tr>\n",
       "  </tbody>\n",
       "</table>\n",
       "<p>150 rows × 6 columns</p>\n",
       "</div>"
      ],
      "text/plain": [
       "      pn_num  feature_num                                         annotation  \\\n",
       "7920   41072          403   '5-6 cups of coffee a day', '5-6 cups of coffee'   \n",
       "7892   40858          403                               '5-6 cups of coffee'   \n",
       "8316   43846          403                               '5-6 cups of coffee'   \n",
       "7784   40098          403                               '5-6 cups of coffee'   \n",
       "8312   43806          403                               '5-6 cups of coffee'   \n",
       "...      ...          ...                                                ...   \n",
       "7926   41097          403                               '5-6 cups of coffee'   \n",
       "7846   40508          403                                'drinks 5-6 coffee'   \n",
       "7834   40445          403                               '5-6 cups of coffee'   \n",
       "8488   45184          403  '5-6 cups of coffee per day', '5-6 cups of cof...   \n",
       "7822   40354          403   '5-6 cups of coffee a day', '5-6 cups of coffee'   \n",
       "\n",
       "                  location start_location end_location  \n",
       "7920  '741 765', '741 759'            741          759  \n",
       "7892             '245 263'            245          263  \n",
       "8316             '415 433'            415          433  \n",
       "7784             '432 450'            432          450  \n",
       "8312             '269 287'            269          287  \n",
       "...                    ...            ...          ...  \n",
       "7926             '403 421'            403          421  \n",
       "7846             '212 229'            212          229  \n",
       "7834             '524 542'            524          542  \n",
       "8488  '266 292', '266 284'            266          284  \n",
       "7822  '572 596', '572 590'            572          590  \n",
       "\n",
       "[150 rows x 6 columns]"
      ]
     },
     "execution_count": 99,
     "metadata": {},
     "output_type": "execute_result"
    }
   ],
   "source": [
    "df_403"
   ]
  },
  {
   "cell_type": "markdown",
   "id": "8c051f2f",
   "metadata": {},
   "source": [
    "### Case - 47 Train data"
   ]
  },
  {
   "cell_type": "code",
   "execution_count": 100,
   "id": "2f323e22",
   "metadata": {},
   "outputs": [],
   "source": [
    "case_4_train = case_4_train[['pn_num','annotation',\"location\",\"feature_num\"]]"
   ]
  },
  {
   "cell_type": "code",
   "execution_count": 101,
   "id": "00cbffe8",
   "metadata": {},
   "outputs": [
    {
     "data": {
      "text/html": [
       "<div>\n",
       "<style scoped>\n",
       "    .dataframe tbody tr th:only-of-type {\n",
       "        vertical-align: middle;\n",
       "    }\n",
       "\n",
       "    .dataframe tbody tr th {\n",
       "        vertical-align: top;\n",
       "    }\n",
       "\n",
       "    .dataframe thead th {\n",
       "        text-align: right;\n",
       "    }\n",
       "</style>\n",
       "<table border=\"1\" class=\"dataframe\">\n",
       "  <thead>\n",
       "    <tr style=\"text-align: right;\">\n",
       "      <th></th>\n",
       "      <th>pn_num</th>\n",
       "      <th>annotation</th>\n",
       "      <th>location</th>\n",
       "      <th>feature_num</th>\n",
       "    </tr>\n",
       "  </thead>\n",
       "  <tbody>\n",
       "    <tr>\n",
       "      <th>5900</th>\n",
       "      <td>40045</td>\n",
       "      <td>'denies palpitations', 'denies tremors', 'deni...</td>\n",
       "      <td>'468 474;491 503', '468 474;546 553', '468 474...</td>\n",
       "      <td>400</td>\n",
       "    </tr>\n",
       "    <tr>\n",
       "      <th>5901</th>\n",
       "      <td>40045</td>\n",
       "      <td>'nervousness', 'nervousness', 'nervousness'</td>\n",
       "      <td>'52 63', '82 93', '206 217'</td>\n",
       "      <td>401</td>\n",
       "    </tr>\n",
       "    <tr>\n",
       "      <th>5904</th>\n",
       "      <td>40045</td>\n",
       "      <td>'denies any depression'</td>\n",
       "      <td>'468 489'</td>\n",
       "      <td>404</td>\n",
       "    </tr>\n",
       "    <tr>\n",
       "      <th>5905</th>\n",
       "      <td>40045</td>\n",
       "      <td>'denies weight loss'</td>\n",
       "      <td>'468 474;531 542'</td>\n",
       "      <td>405</td>\n",
       "    </tr>\n",
       "    <tr>\n",
       "      <th>5906</th>\n",
       "      <td>40045</td>\n",
       "      <td>'trouble going to sleep'</td>\n",
       "      <td>'354 376'</td>\n",
       "      <td>406</td>\n",
       "    </tr>\n",
       "    <tr>\n",
       "      <th>...</th>\n",
       "      <td>...</td>\n",
       "      <td>...</td>\n",
       "      <td>...</td>\n",
       "      <td>...</td>\n",
       "    </tr>\n",
       "    <tr>\n",
       "      <th>6895</th>\n",
       "      <td>45497</td>\n",
       "      <td>'denies weight loss'</td>\n",
       "      <td>'494 500;550 561'</td>\n",
       "      <td>405</td>\n",
       "    </tr>\n",
       "    <tr>\n",
       "      <th>6896</th>\n",
       "      <td>45497</td>\n",
       "      <td>'restless sleep'</td>\n",
       "      <td>'170 184'</td>\n",
       "      <td>406</td>\n",
       "    </tr>\n",
       "    <tr>\n",
       "      <th>6897</th>\n",
       "      <td>45497</td>\n",
       "      <td>'woman'</td>\n",
       "      <td>'47 52'</td>\n",
       "      <td>407</td>\n",
       "    </tr>\n",
       "    <tr>\n",
       "      <th>6898</th>\n",
       "      <td>45497</td>\n",
       "      <td>'loss of appetite'</td>\n",
       "      <td>'186 202'</td>\n",
       "      <td>408</td>\n",
       "    </tr>\n",
       "    <tr>\n",
       "      <th>6899</th>\n",
       "      <td>45497</td>\n",
       "      <td>'45 year', '45 year old'</td>\n",
       "      <td>'15 22', '15 26'</td>\n",
       "      <td>409</td>\n",
       "    </tr>\n",
       "  </tbody>\n",
       "</table>\n",
       "<p>746 rows × 4 columns</p>\n",
       "</div>"
      ],
      "text/plain": [
       "      pn_num                                         annotation  \\\n",
       "5900   40045  'denies palpitations', 'denies tremors', 'deni...   \n",
       "5901   40045        'nervousness', 'nervousness', 'nervousness'   \n",
       "5904   40045                            'denies any depression'   \n",
       "5905   40045                               'denies weight loss'   \n",
       "5906   40045                           'trouble going to sleep'   \n",
       "...      ...                                                ...   \n",
       "6895   45497                               'denies weight loss'   \n",
       "6896   45497                                   'restless sleep'   \n",
       "6897   45497                                            'woman'   \n",
       "6898   45497                                 'loss of appetite'   \n",
       "6899   45497                           '45 year', '45 year old'   \n",
       "\n",
       "                                               location  feature_num  \n",
       "5900  '468 474;491 503', '468 474;546 553', '468 474...          400  \n",
       "5901                        '52 63', '82 93', '206 217'          401  \n",
       "5904                                          '468 489'          404  \n",
       "5905                                  '468 474;531 542'          405  \n",
       "5906                                          '354 376'          406  \n",
       "...                                                 ...          ...  \n",
       "6895                                  '494 500;550 561'          405  \n",
       "6896                                          '170 184'          406  \n",
       "6897                                            '47 52'          407  \n",
       "6898                                          '186 202'          408  \n",
       "6899                                   '15 22', '15 26'          409  \n",
       "\n",
       "[746 rows x 4 columns]"
      ]
     },
     "execution_count": 101,
     "metadata": {},
     "output_type": "execute_result"
    }
   ],
   "source": [
    "case_4_train[\"annotation\"] = case_4_train.annotation.str.replace('[','')\n",
    "case_4_train[\"annotation\"] = case_4_train.annotation.str.replace(']','')\n",
    "case_4_train[\"location\"] = case_4_train.location.str.replace('[','')\n",
    "case_4_train[\"location\"] = case_4_train.location.str.replace(']','')\n",
    "\n",
    "case_4_train"
   ]
  },
  {
   "cell_type": "code",
   "execution_count": 103,
   "id": "21540ed5",
   "metadata": {},
   "outputs": [],
   "source": [
    "case_4_train.loc[case_4_train[\"annotation\"] == \"'responsibilities at home, caring for elderly mother', 'responsibilities at home, caring for in-laws'\",\"annotation\"] = \"'responsibilities at home  caring for elderly mother', 'responsibilities at home  caring for in-laws'\"\n",
    "case_4_train.loc[case_4_train[\"annotation\"] == \"'stress in her life, ie caring for mother'\",\"annotation\"] = \"'stress in her life  ie caring for mother'\"\n",
    "case_4_train.loc[case_4_train[\"annotation\"] == \"'denies palipations', 'denies tremors', 'denies nausea, vomiting', 'denies diarrhea'\",\"annotation\"] = \"'denies palipations', 'denies tremors', 'denies nausea  vomiting', 'denies diarrhea'\"\n",
    "case_4_train.loc[case_4_train[\"annotation\"] == \"'overwhelmed taking care mother who lives at home with her, and her two in-law parents', 'does activities of daily for all three of her elderly parents', 'feels overwhelmed taking care of her mother two in-law parents'\",\"annotation\"] = \"'overwhelmed taking care mother who lives at home with her  and her two in-law parents', 'does activities of daily for all three of her elderly parents', 'feels overwhelmed taking care of her mother two in-law parents'\"\n",
    "case_4_train.loc[case_4_train[\"annotation\"] == \"'denies hair loss', 'denies hot or cold intolerance', 'denies sweating', 'denies palpitations', 'denies diarrhea', 'denies nausea,vomiting'\",\"annotation\"] = \"'denies hair loss', 'denies hot or cold intolerance', 'denies sweating', 'denies palpitations', 'denies diarrhea', 'denies nausea vomiting'\"\n",
    "case_4_train.loc[case_4_train[\"annotation\"] == \"'Denies sweating', 'Denies consptiation, diarrhea', 'Denies N/V', 'Denies diarrhea', 'no weight changes', 'Denies consptiation'\",\"annotation\"] = \"'Denies sweating', 'Denies consptiation  diarrhea', 'Denies N/V', 'Denies diarrhea', 'no weight changes', 'Denies consptiation'\"\n",
    "case_4_train.loc[case_4_train[\"annotation\"] == \"'a lot of work load caregiver to her in-laws, mother'\",\"annotation\"] = \"'a lot of work load caregiver to her in-laws  mother'\"\n"
   ]
  },
  {
   "cell_type": "code",
   "execution_count": 24,
   "id": "7da8a32b",
   "metadata": {},
   "outputs": [
    {
     "data": {
      "text/html": [
       "<div>\n",
       "<style scoped>\n",
       "    .dataframe tbody tr th:only-of-type {\n",
       "        vertical-align: middle;\n",
       "    }\n",
       "\n",
       "    .dataframe tbody tr th {\n",
       "        vertical-align: top;\n",
       "    }\n",
       "\n",
       "    .dataframe thead th {\n",
       "        text-align: right;\n",
       "    }\n",
       "</style>\n",
       "<table border=\"1\" class=\"dataframe\">\n",
       "  <thead>\n",
       "    <tr style=\"text-align: right;\">\n",
       "      <th></th>\n",
       "      <th>pn_num</th>\n",
       "      <th>annotation</th>\n",
       "      <th>location</th>\n",
       "      <th>feature_num</th>\n",
       "    </tr>\n",
       "  </thead>\n",
       "  <tbody>\n",
       "  </tbody>\n",
       "</table>\n",
       "</div>"
      ],
      "text/plain": [
       "Empty DataFrame\n",
       "Columns: [pn_num, annotation, location, feature_num]\n",
       "Index: []"
      ]
     },
     "execution_count": 24,
     "metadata": {},
     "output_type": "execute_result"
    }
   ],
   "source": [
    "case_4_train.loc[case_4_train[\"annotation\"] == \"'a lot of work load caregiver to her in-laws, mother'\"]"
   ]
  },
  {
   "cell_type": "code",
   "execution_count": null,
   "id": "e17553cd",
   "metadata": {},
   "outputs": [],
   "source": []
  },
  {
   "cell_type": "code",
   "execution_count": 104,
   "id": "8d100636",
   "metadata": {
    "scrolled": true
   },
   "outputs": [
    {
     "data": {
      "text/html": [
       "<div>\n",
       "<style scoped>\n",
       "    .dataframe tbody tr th:only-of-type {\n",
       "        vertical-align: middle;\n",
       "    }\n",
       "\n",
       "    .dataframe tbody tr th {\n",
       "        vertical-align: top;\n",
       "    }\n",
       "\n",
       "    .dataframe thead th {\n",
       "        text-align: right;\n",
       "    }\n",
       "</style>\n",
       "<table border=\"1\" class=\"dataframe\">\n",
       "  <thead>\n",
       "    <tr style=\"text-align: right;\">\n",
       "      <th></th>\n",
       "      <th>pn_num</th>\n",
       "      <th>annotation</th>\n",
       "      <th>location</th>\n",
       "      <th>feature_num</th>\n",
       "    </tr>\n",
       "  </thead>\n",
       "  <tbody>\n",
       "    <tr>\n",
       "      <th>0</th>\n",
       "      <td>40045</td>\n",
       "      <td>'denies palpitations'</td>\n",
       "      <td>'468 474;491 503'</td>\n",
       "      <td>400</td>\n",
       "    </tr>\n",
       "    <tr>\n",
       "      <th>1</th>\n",
       "      <td>40045</td>\n",
       "      <td>'denies tremors'</td>\n",
       "      <td>'468 474;546 553'</td>\n",
       "      <td>400</td>\n",
       "    </tr>\n",
       "    <tr>\n",
       "      <th>2</th>\n",
       "      <td>40045</td>\n",
       "      <td>'denies sweatness'</td>\n",
       "      <td>'468 474;505 514'</td>\n",
       "      <td>400</td>\n",
       "    </tr>\n",
       "    <tr>\n",
       "      <th>3</th>\n",
       "      <td>40045</td>\n",
       "      <td>'nervousness'</td>\n",
       "      <td>'52 63'</td>\n",
       "      <td>401</td>\n",
       "    </tr>\n",
       "    <tr>\n",
       "      <th>4</th>\n",
       "      <td>40045</td>\n",
       "      <td>'nervousness'</td>\n",
       "      <td>'82 93'</td>\n",
       "      <td>401</td>\n",
       "    </tr>\n",
       "    <tr>\n",
       "      <th>...</th>\n",
       "      <td>...</td>\n",
       "      <td>...</td>\n",
       "      <td>...</td>\n",
       "      <td>...</td>\n",
       "    </tr>\n",
       "    <tr>\n",
       "      <th>1134</th>\n",
       "      <td>45497</td>\n",
       "      <td>'restless sleep'</td>\n",
       "      <td>'170 184'</td>\n",
       "      <td>406</td>\n",
       "    </tr>\n",
       "    <tr>\n",
       "      <th>1135</th>\n",
       "      <td>45497</td>\n",
       "      <td>'woman'</td>\n",
       "      <td>'47 52'</td>\n",
       "      <td>407</td>\n",
       "    </tr>\n",
       "    <tr>\n",
       "      <th>1136</th>\n",
       "      <td>45497</td>\n",
       "      <td>'loss of appetite'</td>\n",
       "      <td>'186 202'</td>\n",
       "      <td>408</td>\n",
       "    </tr>\n",
       "    <tr>\n",
       "      <th>1137</th>\n",
       "      <td>45497</td>\n",
       "      <td>'45 year'</td>\n",
       "      <td>'15 22'</td>\n",
       "      <td>409</td>\n",
       "    </tr>\n",
       "    <tr>\n",
       "      <th>1138</th>\n",
       "      <td>45497</td>\n",
       "      <td>'45 year old'</td>\n",
       "      <td>'15 26'</td>\n",
       "      <td>409</td>\n",
       "    </tr>\n",
       "  </tbody>\n",
       "</table>\n",
       "<p>1139 rows × 4 columns</p>\n",
       "</div>"
      ],
      "text/plain": [
       "      pn_num             annotation            location  feature_num\n",
       "0      40045  'denies palpitations'   '468 474;491 503'          400\n",
       "1      40045       'denies tremors'   '468 474;546 553'          400\n",
       "2      40045     'denies sweatness'   '468 474;505 514'          400\n",
       "3      40045          'nervousness'             '52 63'          401\n",
       "4      40045          'nervousness'             '82 93'          401\n",
       "...      ...                    ...                 ...          ...\n",
       "1134   45497       'restless sleep'           '170 184'          406\n",
       "1135   45497                'woman'             '47 52'          407\n",
       "1136   45497     'loss of appetite'           '186 202'          408\n",
       "1137   45497              '45 year'             '15 22'          409\n",
       "1138   45497          '45 year old'             '15 26'          409\n",
       "\n",
       "[1139 rows x 4 columns]"
      ]
     },
     "execution_count": 104,
     "metadata": {},
     "output_type": "execute_result"
    }
   ],
   "source": [
    "case_4_train = (case_4_train.set_index(['pn_num',\"feature_num\"]) \n",
    "   .apply(lambda col: col.str.split(\",\").explode())\n",
    "   .reset_index()\n",
    "   .reindex(case_4_train.columns, axis=1))\n",
    "case_4_train"
   ]
  },
  {
   "cell_type": "code",
   "execution_count": 105,
   "id": "c5f9822c",
   "metadata": {},
   "outputs": [
    {
     "data": {
      "text/html": [
       "<div>\n",
       "<style scoped>\n",
       "    .dataframe tbody tr th:only-of-type {\n",
       "        vertical-align: middle;\n",
       "    }\n",
       "\n",
       "    .dataframe tbody tr th {\n",
       "        vertical-align: top;\n",
       "    }\n",
       "\n",
       "    .dataframe thead th {\n",
       "        text-align: right;\n",
       "    }\n",
       "</style>\n",
       "<table border=\"1\" class=\"dataframe\">\n",
       "  <thead>\n",
       "    <tr style=\"text-align: right;\">\n",
       "      <th></th>\n",
       "      <th>pn_num</th>\n",
       "      <th>annotation</th>\n",
       "      <th>location</th>\n",
       "      <th>feature_num</th>\n",
       "      <th>start_location</th>\n",
       "      <th>end_location</th>\n",
       "    </tr>\n",
       "  </thead>\n",
       "  <tbody>\n",
       "    <tr>\n",
       "      <th>0</th>\n",
       "      <td>40045</td>\n",
       "      <td>'denies palpitations'</td>\n",
       "      <td>'468 474;491 503'</td>\n",
       "      <td>400</td>\n",
       "      <td>468</td>\n",
       "      <td>503</td>\n",
       "    </tr>\n",
       "    <tr>\n",
       "      <th>1</th>\n",
       "      <td>40045</td>\n",
       "      <td>'denies tremors'</td>\n",
       "      <td>'468 474;546 553'</td>\n",
       "      <td>400</td>\n",
       "      <td>468</td>\n",
       "      <td>553</td>\n",
       "    </tr>\n",
       "    <tr>\n",
       "      <th>2</th>\n",
       "      <td>40045</td>\n",
       "      <td>'denies sweatness'</td>\n",
       "      <td>'468 474;505 514'</td>\n",
       "      <td>400</td>\n",
       "      <td>468</td>\n",
       "      <td>514</td>\n",
       "    </tr>\n",
       "    <tr>\n",
       "      <th>3</th>\n",
       "      <td>40045</td>\n",
       "      <td>'nervousness'</td>\n",
       "      <td>'52 63'</td>\n",
       "      <td>401</td>\n",
       "      <td>52</td>\n",
       "      <td>63</td>\n",
       "    </tr>\n",
       "    <tr>\n",
       "      <th>4</th>\n",
       "      <td>40045</td>\n",
       "      <td>'nervousness'</td>\n",
       "      <td>'82 93'</td>\n",
       "      <td>401</td>\n",
       "      <td>82</td>\n",
       "      <td>93</td>\n",
       "    </tr>\n",
       "    <tr>\n",
       "      <th>...</th>\n",
       "      <td>...</td>\n",
       "      <td>...</td>\n",
       "      <td>...</td>\n",
       "      <td>...</td>\n",
       "      <td>...</td>\n",
       "      <td>...</td>\n",
       "    </tr>\n",
       "    <tr>\n",
       "      <th>1134</th>\n",
       "      <td>45497</td>\n",
       "      <td>'restless sleep'</td>\n",
       "      <td>'170 184'</td>\n",
       "      <td>406</td>\n",
       "      <td>170</td>\n",
       "      <td>184</td>\n",
       "    </tr>\n",
       "    <tr>\n",
       "      <th>1135</th>\n",
       "      <td>45497</td>\n",
       "      <td>'woman'</td>\n",
       "      <td>'47 52'</td>\n",
       "      <td>407</td>\n",
       "      <td>47</td>\n",
       "      <td>52</td>\n",
       "    </tr>\n",
       "    <tr>\n",
       "      <th>1136</th>\n",
       "      <td>45497</td>\n",
       "      <td>'loss of appetite'</td>\n",
       "      <td>'186 202'</td>\n",
       "      <td>408</td>\n",
       "      <td>186</td>\n",
       "      <td>202</td>\n",
       "    </tr>\n",
       "    <tr>\n",
       "      <th>1137</th>\n",
       "      <td>45497</td>\n",
       "      <td>'45 year'</td>\n",
       "      <td>'15 22'</td>\n",
       "      <td>409</td>\n",
       "      <td>15</td>\n",
       "      <td>22</td>\n",
       "    </tr>\n",
       "    <tr>\n",
       "      <th>1138</th>\n",
       "      <td>45497</td>\n",
       "      <td>'45 year old'</td>\n",
       "      <td>'15 26'</td>\n",
       "      <td>409</td>\n",
       "      <td>15</td>\n",
       "      <td>26</td>\n",
       "    </tr>\n",
       "  </tbody>\n",
       "</table>\n",
       "<p>1139 rows × 6 columns</p>\n",
       "</div>"
      ],
      "text/plain": [
       "      pn_num             annotation            location  feature_num  \\\n",
       "0      40045  'denies palpitations'   '468 474;491 503'          400   \n",
       "1      40045       'denies tremors'   '468 474;546 553'          400   \n",
       "2      40045     'denies sweatness'   '468 474;505 514'          400   \n",
       "3      40045          'nervousness'             '52 63'          401   \n",
       "4      40045          'nervousness'             '82 93'          401   \n",
       "...      ...                    ...                 ...          ...   \n",
       "1134   45497       'restless sleep'           '170 184'          406   \n",
       "1135   45497                'woman'             '47 52'          407   \n",
       "1136   45497     'loss of appetite'           '186 202'          408   \n",
       "1137   45497              '45 year'             '15 22'          409   \n",
       "1138   45497          '45 year old'             '15 26'          409   \n",
       "\n",
       "     start_location end_location  \n",
       "0               468          503  \n",
       "1               468          553  \n",
       "2               468          514  \n",
       "3                52           63  \n",
       "4                82           93  \n",
       "...             ...          ...  \n",
       "1134            170          184  \n",
       "1135             47           52  \n",
       "1136            186          202  \n",
       "1137             15           22  \n",
       "1138             15           26  \n",
       "\n",
       "[1139 rows x 6 columns]"
      ]
     },
     "execution_count": 105,
     "metadata": {},
     "output_type": "execute_result"
    }
   ],
   "source": [
    "case_4_train[\"start_location\"] = case_4_train[\"location\"].apply(lambda x: x.split()[0][1:])\n",
    "case_4_train[\"end_location\"] = case_4_train[\"location\"].apply(lambda x: x.split()[-1][:-1])\n",
    "case_4_train"
   ]
  },
  {
   "cell_type": "code",
   "execution_count": 106,
   "id": "c63cd74b",
   "metadata": {},
   "outputs": [
    {
     "data": {
      "text/html": [
       "<div>\n",
       "<style scoped>\n",
       "    .dataframe tbody tr th:only-of-type {\n",
       "        vertical-align: middle;\n",
       "    }\n",
       "\n",
       "    .dataframe tbody tr th {\n",
       "        vertical-align: top;\n",
       "    }\n",
       "\n",
       "    .dataframe thead th {\n",
       "        text-align: right;\n",
       "    }\n",
       "</style>\n",
       "<table border=\"1\" class=\"dataframe\">\n",
       "  <thead>\n",
       "    <tr style=\"text-align: right;\">\n",
       "      <th></th>\n",
       "      <th>pn_num</th>\n",
       "      <th>feature_num</th>\n",
       "      <th>annotation</th>\n",
       "      <th>location</th>\n",
       "      <th>start_location</th>\n",
       "      <th>end_location</th>\n",
       "    </tr>\n",
       "  </thead>\n",
       "  <tbody>\n",
       "    <tr>\n",
       "      <th>9564</th>\n",
       "      <td>42736</td>\n",
       "      <td>405</td>\n",
       "      <td>'No changes in weight'</td>\n",
       "      <td>'441 461'</td>\n",
       "      <td>441</td>\n",
       "      <td>461</td>\n",
       "    </tr>\n",
       "    <tr>\n",
       "      <th>9698</th>\n",
       "      <td>43646</td>\n",
       "      <td>405</td>\n",
       "      <td>'Denies weight loss'</td>\n",
       "      <td>'358 376'</td>\n",
       "      <td>358</td>\n",
       "      <td>376</td>\n",
       "    </tr>\n",
       "    <tr>\n",
       "      <th>9510</th>\n",
       "      <td>42437</td>\n",
       "      <td>405</td>\n",
       "      <td>'not lost weight'</td>\n",
       "      <td>'243 258'</td>\n",
       "      <td>243</td>\n",
       "      <td>258</td>\n",
       "    </tr>\n",
       "    <tr>\n",
       "      <th>9205</th>\n",
       "      <td>40282</td>\n",
       "      <td>405</td>\n",
       "      <td>'no weight changes'</td>\n",
       "      <td>'353 370'</td>\n",
       "      <td>353</td>\n",
       "      <td>370</td>\n",
       "    </tr>\n",
       "    <tr>\n",
       "      <th>9806</th>\n",
       "      <td>44452</td>\n",
       "      <td>405</td>\n",
       "      <td>'no weight loss'</td>\n",
       "      <td>'287 301'</td>\n",
       "      <td>287</td>\n",
       "      <td>301</td>\n",
       "    </tr>\n",
       "    <tr>\n",
       "      <th>...</th>\n",
       "      <td>...</td>\n",
       "      <td>...</td>\n",
       "      <td>...</td>\n",
       "      <td>...</td>\n",
       "      <td>...</td>\n",
       "      <td>...</td>\n",
       "    </tr>\n",
       "    <tr>\n",
       "      <th>9639</th>\n",
       "      <td>43277</td>\n",
       "      <td>405</td>\n",
       "      <td>'no weight changes'</td>\n",
       "      <td>'618 635'</td>\n",
       "      <td>618</td>\n",
       "      <td>635</td>\n",
       "    </tr>\n",
       "    <tr>\n",
       "      <th>9406</th>\n",
       "      <td>41657</td>\n",
       "      <td>405</td>\n",
       "      <td>'no changes in weight'</td>\n",
       "      <td>'472 492'</td>\n",
       "      <td>472</td>\n",
       "      <td>492</td>\n",
       "    </tr>\n",
       "    <tr>\n",
       "      <th>9889</th>\n",
       "      <td>45084</td>\n",
       "      <td>405</td>\n",
       "      <td>'Denies changes in weight'</td>\n",
       "      <td>'731 755'</td>\n",
       "      <td>731</td>\n",
       "      <td>755</td>\n",
       "    </tr>\n",
       "    <tr>\n",
       "      <th>9612</th>\n",
       "      <td>43093</td>\n",
       "      <td>405</td>\n",
       "      <td>'Denies weight loss'</td>\n",
       "      <td>'329 347'</td>\n",
       "      <td>329</td>\n",
       "      <td>347</td>\n",
       "    </tr>\n",
       "    <tr>\n",
       "      <th>9369</th>\n",
       "      <td>41425</td>\n",
       "      <td>405</td>\n",
       "      <td>'No changes in weight'</td>\n",
       "      <td>'469 489'</td>\n",
       "      <td>469</td>\n",
       "      <td>489</td>\n",
       "    </tr>\n",
       "  </tbody>\n",
       "</table>\n",
       "<p>130 rows × 6 columns</p>\n",
       "</div>"
      ],
      "text/plain": [
       "      pn_num  feature_num                  annotation   location  \\\n",
       "9564   42736          405      'No changes in weight'  '441 461'   \n",
       "9698   43646          405        'Denies weight loss'  '358 376'   \n",
       "9510   42437          405           'not lost weight'  '243 258'   \n",
       "9205   40282          405         'no weight changes'  '353 370'   \n",
       "9806   44452          405            'no weight loss'  '287 301'   \n",
       "...      ...          ...                         ...        ...   \n",
       "9639   43277          405         'no weight changes'  '618 635'   \n",
       "9406   41657          405      'no changes in weight'  '472 492'   \n",
       "9889   45084          405  'Denies changes in weight'  '731 755'   \n",
       "9612   43093          405        'Denies weight loss'  '329 347'   \n",
       "9369   41425          405      'No changes in weight'  '469 489'   \n",
       "\n",
       "     start_location end_location  \n",
       "9564            441          461  \n",
       "9698            358          376  \n",
       "9510            243          258  \n",
       "9205            353          370  \n",
       "9806            287          301  \n",
       "...             ...          ...  \n",
       "9639            618          635  \n",
       "9406            472          492  \n",
       "9889            731          755  \n",
       "9612            329          347  \n",
       "9369            469          489  \n",
       "\n",
       "[130 rows x 6 columns]"
      ]
     },
     "execution_count": 106,
     "metadata": {},
     "output_type": "execute_result"
    }
   ],
   "source": [
    "df_405"
   ]
  },
  {
   "cell_type": "code",
   "execution_count": 107,
   "id": "350fe480",
   "metadata": {},
   "outputs": [
    {
     "data": {
      "text/plain": [
       "(1769, 6)"
      ]
     },
     "execution_count": 107,
     "metadata": {},
     "output_type": "execute_result"
    }
   ],
   "source": [
    "case_4 = pd.concat([case_4_train,df_400,df_402,df_403,df_404,df_405])\n",
    "case_4.shape"
   ]
  },
  {
   "cell_type": "code",
   "execution_count": 108,
   "id": "99e16139",
   "metadata": {},
   "outputs": [
    {
     "data": {
      "text/html": [
       "<div>\n",
       "<style scoped>\n",
       "    .dataframe tbody tr th:only-of-type {\n",
       "        vertical-align: middle;\n",
       "    }\n",
       "\n",
       "    .dataframe tbody tr th {\n",
       "        vertical-align: top;\n",
       "    }\n",
       "\n",
       "    .dataframe thead th {\n",
       "        text-align: right;\n",
       "    }\n",
       "</style>\n",
       "<table border=\"1\" class=\"dataframe\">\n",
       "  <thead>\n",
       "    <tr style=\"text-align: right;\">\n",
       "      <th></th>\n",
       "      <th>pn_num</th>\n",
       "      <th>annotation</th>\n",
       "      <th>location</th>\n",
       "      <th>feature_num</th>\n",
       "      <th>start_location</th>\n",
       "      <th>end_location</th>\n",
       "      <th>case_num</th>\n",
       "      <th>pn_history</th>\n",
       "    </tr>\n",
       "  </thead>\n",
       "  <tbody>\n",
       "    <tr>\n",
       "      <th>0</th>\n",
       "      <td>40045</td>\n",
       "      <td>'denies palpitations'</td>\n",
       "      <td>'468 474;491 503'</td>\n",
       "      <td>400</td>\n",
       "      <td>468</td>\n",
       "      <td>503</td>\n",
       "      <td>4</td>\n",
       "      <td>Mrs. Moore is a 45 year old female presenting ...</td>\n",
       "    </tr>\n",
       "    <tr>\n",
       "      <th>1</th>\n",
       "      <td>40045</td>\n",
       "      <td>'denies tremors'</td>\n",
       "      <td>'468 474;546 553'</td>\n",
       "      <td>400</td>\n",
       "      <td>468</td>\n",
       "      <td>553</td>\n",
       "      <td>4</td>\n",
       "      <td>Mrs. Moore is a 45 year old female presenting ...</td>\n",
       "    </tr>\n",
       "    <tr>\n",
       "      <th>2</th>\n",
       "      <td>40045</td>\n",
       "      <td>'denies sweatness'</td>\n",
       "      <td>'468 474;505 514'</td>\n",
       "      <td>400</td>\n",
       "      <td>468</td>\n",
       "      <td>514</td>\n",
       "      <td>4</td>\n",
       "      <td>Mrs. Moore is a 45 year old female presenting ...</td>\n",
       "    </tr>\n",
       "    <tr>\n",
       "      <th>3</th>\n",
       "      <td>40045</td>\n",
       "      <td>'nervousness'</td>\n",
       "      <td>'52 63'</td>\n",
       "      <td>401</td>\n",
       "      <td>52</td>\n",
       "      <td>63</td>\n",
       "      <td>4</td>\n",
       "      <td>Mrs. Moore is a 45 year old female presenting ...</td>\n",
       "    </tr>\n",
       "    <tr>\n",
       "      <th>4</th>\n",
       "      <td>40045</td>\n",
       "      <td>'nervousness'</td>\n",
       "      <td>'82 93'</td>\n",
       "      <td>401</td>\n",
       "      <td>82</td>\n",
       "      <td>93</td>\n",
       "      <td>4</td>\n",
       "      <td>Mrs. Moore is a 45 year old female presenting ...</td>\n",
       "    </tr>\n",
       "    <tr>\n",
       "      <th>...</th>\n",
       "      <td>...</td>\n",
       "      <td>...</td>\n",
       "      <td>...</td>\n",
       "      <td>...</td>\n",
       "      <td>...</td>\n",
       "      <td>...</td>\n",
       "      <td>...</td>\n",
       "      <td>...</td>\n",
       "    </tr>\n",
       "    <tr>\n",
       "      <th>1764</th>\n",
       "      <td>43277</td>\n",
       "      <td>'no weight changes'</td>\n",
       "      <td>'618 635'</td>\n",
       "      <td>405</td>\n",
       "      <td>618</td>\n",
       "      <td>635</td>\n",
       "      <td>4</td>\n",
       "      <td>45 y o f c/o of episodes of irriitabilty for f...</td>\n",
       "    </tr>\n",
       "    <tr>\n",
       "      <th>1765</th>\n",
       "      <td>41657</td>\n",
       "      <td>'no changes in weight'</td>\n",
       "      <td>'472 492'</td>\n",
       "      <td>405</td>\n",
       "      <td>472</td>\n",
       "      <td>492</td>\n",
       "      <td>4</td>\n",
       "      <td>HPI 45 yo female presented complainnig of nerv...</td>\n",
       "    </tr>\n",
       "    <tr>\n",
       "      <th>1766</th>\n",
       "      <td>45084</td>\n",
       "      <td>'Denies changes in weight'</td>\n",
       "      <td>'731 755'</td>\n",
       "      <td>405</td>\n",
       "      <td>731</td>\n",
       "      <td>755</td>\n",
       "      <td>4</td>\n",
       "      <td>Karin Moore is a 45 yo white F with complaint ...</td>\n",
       "    </tr>\n",
       "    <tr>\n",
       "      <th>1767</th>\n",
       "      <td>43093</td>\n",
       "      <td>'Denies weight loss'</td>\n",
       "      <td>'329 347'</td>\n",
       "      <td>405</td>\n",
       "      <td>329</td>\n",
       "      <td>347</td>\n",
       "      <td>4</td>\n",
       "      <td>Pt 45 yo F c/o nervousness for the last 3 week...</td>\n",
       "    </tr>\n",
       "    <tr>\n",
       "      <th>1768</th>\n",
       "      <td>41425</td>\n",
       "      <td>'No changes in weight'</td>\n",
       "      <td>'469 489'</td>\n",
       "      <td>405</td>\n",
       "      <td>469</td>\n",
       "      <td>489</td>\n",
       "      <td>4</td>\n",
       "      <td>45 Y/O woman complains of nervousness for the ...</td>\n",
       "    </tr>\n",
       "  </tbody>\n",
       "</table>\n",
       "<p>1769 rows × 8 columns</p>\n",
       "</div>"
      ],
      "text/plain": [
       "      pn_num                  annotation            location  feature_num  \\\n",
       "0      40045       'denies palpitations'   '468 474;491 503'          400   \n",
       "1      40045            'denies tremors'   '468 474;546 553'          400   \n",
       "2      40045          'denies sweatness'   '468 474;505 514'          400   \n",
       "3      40045               'nervousness'             '52 63'          401   \n",
       "4      40045               'nervousness'             '82 93'          401   \n",
       "...      ...                         ...                 ...          ...   \n",
       "1764   43277         'no weight changes'           '618 635'          405   \n",
       "1765   41657      'no changes in weight'           '472 492'          405   \n",
       "1766   45084  'Denies changes in weight'           '731 755'          405   \n",
       "1767   43093        'Denies weight loss'           '329 347'          405   \n",
       "1768   41425      'No changes in weight'           '469 489'          405   \n",
       "\n",
       "     start_location end_location  case_num  \\\n",
       "0               468          503         4   \n",
       "1               468          553         4   \n",
       "2               468          514         4   \n",
       "3                52           63         4   \n",
       "4                82           93         4   \n",
       "...             ...          ...       ...   \n",
       "1764            618          635         4   \n",
       "1765            472          492         4   \n",
       "1766            731          755         4   \n",
       "1767            329          347         4   \n",
       "1768            469          489         4   \n",
       "\n",
       "                                             pn_history  \n",
       "0     Mrs. Moore is a 45 year old female presenting ...  \n",
       "1     Mrs. Moore is a 45 year old female presenting ...  \n",
       "2     Mrs. Moore is a 45 year old female presenting ...  \n",
       "3     Mrs. Moore is a 45 year old female presenting ...  \n",
       "4     Mrs. Moore is a 45 year old female presenting ...  \n",
       "...                                                 ...  \n",
       "1764  45 y o f c/o of episodes of irriitabilty for f...  \n",
       "1765  HPI 45 yo female presented complainnig of nerv...  \n",
       "1766  Karin Moore is a 45 yo white F with complaint ...  \n",
       "1767  Pt 45 yo F c/o nervousness for the last 3 week...  \n",
       "1768  45 Y/O woman complains of nervousness for the ...  \n",
       "\n",
       "[1769 rows x 8 columns]"
      ]
     },
     "execution_count": 108,
     "metadata": {},
     "output_type": "execute_result"
    }
   ],
   "source": [
    "case_4 = case_4.merge(patient_notes, on='pn_num', how='left')\n",
    "case_4"
   ]
  },
  {
   "cell_type": "code",
   "execution_count": null,
   "id": "0bbfd144",
   "metadata": {},
   "outputs": [],
   "source": []
  },
  {
   "cell_type": "code",
   "execution_count": 110,
   "id": "3b217e86",
   "metadata": {},
   "outputs": [
    {
     "data": {
      "text/html": [
       "<div>\n",
       "<style scoped>\n",
       "    .dataframe tbody tr th:only-of-type {\n",
       "        vertical-align: middle;\n",
       "    }\n",
       "\n",
       "    .dataframe tbody tr th {\n",
       "        vertical-align: top;\n",
       "    }\n",
       "\n",
       "    .dataframe thead th {\n",
       "        text-align: right;\n",
       "    }\n",
       "</style>\n",
       "<table border=\"1\" class=\"dataframe\">\n",
       "  <thead>\n",
       "    <tr style=\"text-align: right;\">\n",
       "      <th></th>\n",
       "      <th>pn_num</th>\n",
       "      <th>annotation</th>\n",
       "      <th>location</th>\n",
       "      <th>feature_num</th>\n",
       "      <th>start_location</th>\n",
       "      <th>end_location</th>\n",
       "      <th>case_num</th>\n",
       "      <th>pn_history</th>\n",
       "      <th>New_annotation</th>\n",
       "    </tr>\n",
       "  </thead>\n",
       "  <tbody>\n",
       "    <tr>\n",
       "      <th>0</th>\n",
       "      <td>40045</td>\n",
       "      <td>'denies palpitations'</td>\n",
       "      <td>'468 474;491 503'</td>\n",
       "      <td>400</td>\n",
       "      <td>468</td>\n",
       "      <td>503</td>\n",
       "      <td>4</td>\n",
       "      <td>Mrs. Moore is a 45 year old female presenting ...</td>\n",
       "      <td>denies any depression, palpitations</td>\n",
       "    </tr>\n",
       "    <tr>\n",
       "      <th>1</th>\n",
       "      <td>40045</td>\n",
       "      <td>'denies tremors'</td>\n",
       "      <td>'468 474;546 553'</td>\n",
       "      <td>400</td>\n",
       "      <td>468</td>\n",
       "      <td>553</td>\n",
       "      <td>4</td>\n",
       "      <td>Mrs. Moore is a 45 year old female presenting ...</td>\n",
       "      <td>denies any depression, palpitations, sweatness...</td>\n",
       "    </tr>\n",
       "    <tr>\n",
       "      <th>2</th>\n",
       "      <td>40045</td>\n",
       "      <td>'denies sweatness'</td>\n",
       "      <td>'468 474;505 514'</td>\n",
       "      <td>400</td>\n",
       "      <td>468</td>\n",
       "      <td>514</td>\n",
       "      <td>4</td>\n",
       "      <td>Mrs. Moore is a 45 year old female presenting ...</td>\n",
       "      <td>denies any depression, palpitations, sweatness</td>\n",
       "    </tr>\n",
       "    <tr>\n",
       "      <th>3</th>\n",
       "      <td>40045</td>\n",
       "      <td>'nervousness'</td>\n",
       "      <td>'52 63'</td>\n",
       "      <td>401</td>\n",
       "      <td>52</td>\n",
       "      <td>63</td>\n",
       "      <td>4</td>\n",
       "      <td>Mrs. Moore is a 45 year old female presenting ...</td>\n",
       "      <td>nervousness</td>\n",
       "    </tr>\n",
       "    <tr>\n",
       "      <th>4</th>\n",
       "      <td>40045</td>\n",
       "      <td>'nervousness'</td>\n",
       "      <td>'82 93'</td>\n",
       "      <td>401</td>\n",
       "      <td>82</td>\n",
       "      <td>93</td>\n",
       "      <td>4</td>\n",
       "      <td>Mrs. Moore is a 45 year old female presenting ...</td>\n",
       "      <td>nervousness</td>\n",
       "    </tr>\n",
       "  </tbody>\n",
       "</table>\n",
       "</div>"
      ],
      "text/plain": [
       "   pn_num             annotation            location  feature_num  \\\n",
       "0   40045  'denies palpitations'   '468 474;491 503'          400   \n",
       "1   40045       'denies tremors'   '468 474;546 553'          400   \n",
       "2   40045     'denies sweatness'   '468 474;505 514'          400   \n",
       "3   40045          'nervousness'             '52 63'          401   \n",
       "4   40045          'nervousness'             '82 93'          401   \n",
       "\n",
       "  start_location end_location  case_num  \\\n",
       "0            468          503         4   \n",
       "1            468          553         4   \n",
       "2            468          514         4   \n",
       "3             52           63         4   \n",
       "4             82           93         4   \n",
       "\n",
       "                                          pn_history  \\\n",
       "0  Mrs. Moore is a 45 year old female presenting ...   \n",
       "1  Mrs. Moore is a 45 year old female presenting ...   \n",
       "2  Mrs. Moore is a 45 year old female presenting ...   \n",
       "3  Mrs. Moore is a 45 year old female presenting ...   \n",
       "4  Mrs. Moore is a 45 year old female presenting ...   \n",
       "\n",
       "                                      New_annotation  \n",
       "0                denies any depression, palpitations  \n",
       "1  denies any depression, palpitations, sweatness...  \n",
       "2     denies any depression, palpitations, sweatness  \n",
       "3                                        nervousness  \n",
       "4                                        nervousness  "
      ]
     },
     "execution_count": 110,
     "metadata": {},
     "output_type": "execute_result"
    }
   ],
   "source": [
    "case_4[\"New_annotation\"] = case_4.apply(lambda x: x.pn_history[int(x.start_location):int(x.end_location)],axis=1)\n",
    "case_4.head()"
   ]
  },
  {
   "cell_type": "code",
   "execution_count": 111,
   "id": "85009a26",
   "metadata": {},
   "outputs": [
    {
     "data": {
      "text/html": [
       "<div>\n",
       "<style scoped>\n",
       "    .dataframe tbody tr th:only-of-type {\n",
       "        vertical-align: middle;\n",
       "    }\n",
       "\n",
       "    .dataframe tbody tr th {\n",
       "        vertical-align: top;\n",
       "    }\n",
       "\n",
       "    .dataframe thead th {\n",
       "        text-align: right;\n",
       "    }\n",
       "</style>\n",
       "<table border=\"1\" class=\"dataframe\">\n",
       "  <thead>\n",
       "    <tr style=\"text-align: right;\">\n",
       "      <th></th>\n",
       "      <th>pn_num</th>\n",
       "      <th>annotation</th>\n",
       "      <th>location</th>\n",
       "      <th>feature_num</th>\n",
       "      <th>start_location</th>\n",
       "      <th>end_location</th>\n",
       "      <th>case_num</th>\n",
       "      <th>pn_history</th>\n",
       "      <th>New_annotation</th>\n",
       "    </tr>\n",
       "  </thead>\n",
       "  <tbody>\n",
       "    <tr>\n",
       "      <th>0</th>\n",
       "      <td>40045</td>\n",
       "      <td>'denies palpitations'</td>\n",
       "      <td>'468 474;491 503'</td>\n",
       "      <td>400</td>\n",
       "      <td>468</td>\n",
       "      <td>503</td>\n",
       "      <td>4</td>\n",
       "      <td>Mrs. Moore is a 45 year old female presenting ...</td>\n",
       "      <td>denies any depression  palpitations</td>\n",
       "    </tr>\n",
       "    <tr>\n",
       "      <th>1</th>\n",
       "      <td>40045</td>\n",
       "      <td>'denies tremors'</td>\n",
       "      <td>'468 474;546 553'</td>\n",
       "      <td>400</td>\n",
       "      <td>468</td>\n",
       "      <td>553</td>\n",
       "      <td>4</td>\n",
       "      <td>Mrs. Moore is a 45 year old female presenting ...</td>\n",
       "      <td>denies any depression  palpitations  sweatness...</td>\n",
       "    </tr>\n",
       "    <tr>\n",
       "      <th>2</th>\n",
       "      <td>40045</td>\n",
       "      <td>'denies sweatness'</td>\n",
       "      <td>'468 474;505 514'</td>\n",
       "      <td>400</td>\n",
       "      <td>468</td>\n",
       "      <td>514</td>\n",
       "      <td>4</td>\n",
       "      <td>Mrs. Moore is a 45 year old female presenting ...</td>\n",
       "      <td>denies any depression  palpitations  sweatness</td>\n",
       "    </tr>\n",
       "    <tr>\n",
       "      <th>3</th>\n",
       "      <td>40045</td>\n",
       "      <td>'nervousness'</td>\n",
       "      <td>'52 63'</td>\n",
       "      <td>401</td>\n",
       "      <td>52</td>\n",
       "      <td>63</td>\n",
       "      <td>4</td>\n",
       "      <td>Mrs. Moore is a 45 year old female presenting ...</td>\n",
       "      <td>nervousness</td>\n",
       "    </tr>\n",
       "    <tr>\n",
       "      <th>4</th>\n",
       "      <td>40045</td>\n",
       "      <td>'nervousness'</td>\n",
       "      <td>'82 93'</td>\n",
       "      <td>401</td>\n",
       "      <td>82</td>\n",
       "      <td>93</td>\n",
       "      <td>4</td>\n",
       "      <td>Mrs. Moore is a 45 year old female presenting ...</td>\n",
       "      <td>nervousness</td>\n",
       "    </tr>\n",
       "    <tr>\n",
       "      <th>...</th>\n",
       "      <td>...</td>\n",
       "      <td>...</td>\n",
       "      <td>...</td>\n",
       "      <td>...</td>\n",
       "      <td>...</td>\n",
       "      <td>...</td>\n",
       "      <td>...</td>\n",
       "      <td>...</td>\n",
       "      <td>...</td>\n",
       "    </tr>\n",
       "    <tr>\n",
       "      <th>1764</th>\n",
       "      <td>43277</td>\n",
       "      <td>'no weight changes'</td>\n",
       "      <td>'618 635'</td>\n",
       "      <td>405</td>\n",
       "      <td>618</td>\n",
       "      <td>635</td>\n",
       "      <td>4</td>\n",
       "      <td>45 y o f c/o of episodes of irriitabilty for f...</td>\n",
       "      <td>no weight changes</td>\n",
       "    </tr>\n",
       "    <tr>\n",
       "      <th>1765</th>\n",
       "      <td>41657</td>\n",
       "      <td>'no changes in weight'</td>\n",
       "      <td>'472 492'</td>\n",
       "      <td>405</td>\n",
       "      <td>472</td>\n",
       "      <td>492</td>\n",
       "      <td>4</td>\n",
       "      <td>HPI 45 yo female presented complainnig of nerv...</td>\n",
       "      <td>no changes in weight</td>\n",
       "    </tr>\n",
       "    <tr>\n",
       "      <th>1766</th>\n",
       "      <td>45084</td>\n",
       "      <td>'Denies changes in weight'</td>\n",
       "      <td>'731 755'</td>\n",
       "      <td>405</td>\n",
       "      <td>731</td>\n",
       "      <td>755</td>\n",
       "      <td>4</td>\n",
       "      <td>Karin Moore is a 45 yo white F with complaint ...</td>\n",
       "      <td>Denies changes in weight</td>\n",
       "    </tr>\n",
       "    <tr>\n",
       "      <th>1767</th>\n",
       "      <td>43093</td>\n",
       "      <td>'Denies weight loss'</td>\n",
       "      <td>'329 347'</td>\n",
       "      <td>405</td>\n",
       "      <td>329</td>\n",
       "      <td>347</td>\n",
       "      <td>4</td>\n",
       "      <td>Pt 45 yo F c/o nervousness for the last 3 week...</td>\n",
       "      <td>Denies weight loss</td>\n",
       "    </tr>\n",
       "    <tr>\n",
       "      <th>1768</th>\n",
       "      <td>41425</td>\n",
       "      <td>'No changes in weight'</td>\n",
       "      <td>'469 489'</td>\n",
       "      <td>405</td>\n",
       "      <td>469</td>\n",
       "      <td>489</td>\n",
       "      <td>4</td>\n",
       "      <td>45 Y/O woman complains of nervousness for the ...</td>\n",
       "      <td>No changes in weight</td>\n",
       "    </tr>\n",
       "  </tbody>\n",
       "</table>\n",
       "<p>1769 rows × 9 columns</p>\n",
       "</div>"
      ],
      "text/plain": [
       "      pn_num                  annotation            location  feature_num  \\\n",
       "0      40045       'denies palpitations'   '468 474;491 503'          400   \n",
       "1      40045            'denies tremors'   '468 474;546 553'          400   \n",
       "2      40045          'denies sweatness'   '468 474;505 514'          400   \n",
       "3      40045               'nervousness'             '52 63'          401   \n",
       "4      40045               'nervousness'             '82 93'          401   \n",
       "...      ...                         ...                 ...          ...   \n",
       "1764   43277         'no weight changes'           '618 635'          405   \n",
       "1765   41657      'no changes in weight'           '472 492'          405   \n",
       "1766   45084  'Denies changes in weight'           '731 755'          405   \n",
       "1767   43093        'Denies weight loss'           '329 347'          405   \n",
       "1768   41425      'No changes in weight'           '469 489'          405   \n",
       "\n",
       "     start_location end_location  case_num  \\\n",
       "0               468          503         4   \n",
       "1               468          553         4   \n",
       "2               468          514         4   \n",
       "3                52           63         4   \n",
       "4                82           93         4   \n",
       "...             ...          ...       ...   \n",
       "1764            618          635         4   \n",
       "1765            472          492         4   \n",
       "1766            731          755         4   \n",
       "1767            329          347         4   \n",
       "1768            469          489         4   \n",
       "\n",
       "                                             pn_history  \\\n",
       "0     Mrs. Moore is a 45 year old female presenting ...   \n",
       "1     Mrs. Moore is a 45 year old female presenting ...   \n",
       "2     Mrs. Moore is a 45 year old female presenting ...   \n",
       "3     Mrs. Moore is a 45 year old female presenting ...   \n",
       "4     Mrs. Moore is a 45 year old female presenting ...   \n",
       "...                                                 ...   \n",
       "1764  45 y o f c/o of episodes of irriitabilty for f...   \n",
       "1765  HPI 45 yo female presented complainnig of nerv...   \n",
       "1766  Karin Moore is a 45 yo white F with complaint ...   \n",
       "1767  Pt 45 yo F c/o nervousness for the last 3 week...   \n",
       "1768  45 Y/O woman complains of nervousness for the ...   \n",
       "\n",
       "                                         New_annotation  \n",
       "0                   denies any depression  palpitations  \n",
       "1     denies any depression  palpitations  sweatness...  \n",
       "2        denies any depression  palpitations  sweatness  \n",
       "3                                           nervousness  \n",
       "4                                           nervousness  \n",
       "...                                                 ...  \n",
       "1764                                  no weight changes  \n",
       "1765                               no changes in weight  \n",
       "1766                           Denies changes in weight  \n",
       "1767                                 Denies weight loss  \n",
       "1768                               No changes in weight  \n",
       "\n",
       "[1769 rows x 9 columns]"
      ]
     },
     "execution_count": 111,
     "metadata": {},
     "output_type": "execute_result"
    }
   ],
   "source": [
    "case_4[\"New_annotation\"] = case_4[\"New_annotation\"].apply(lambda x: re.sub(r'''[/\"+,()\\r\\n]''',' ',x))\n",
    "case_4[\"New_annotation\"] = case_4[\"New_annotation\"].apply(lambda x: re.sub(r'''[']''','',x))\n",
    "case_4[\"New_annotation\"] = case_4[\"New_annotation\"].apply(lambda x: x.strip())\n",
    "case_4"
   ]
  },
  {
   "cell_type": "code",
   "execution_count": 112,
   "id": "2efb93fc",
   "metadata": {},
   "outputs": [
    {
     "data": {
      "text/html": [
       "<div>\n",
       "<style scoped>\n",
       "    .dataframe tbody tr th:only-of-type {\n",
       "        vertical-align: middle;\n",
       "    }\n",
       "\n",
       "    .dataframe tbody tr th {\n",
       "        vertical-align: top;\n",
       "    }\n",
       "\n",
       "    .dataframe thead th {\n",
       "        text-align: right;\n",
       "    }\n",
       "</style>\n",
       "<table border=\"1\" class=\"dataframe\">\n",
       "  <thead>\n",
       "    <tr style=\"text-align: right;\">\n",
       "      <th></th>\n",
       "      <th>pn_num</th>\n",
       "      <th>annotation</th>\n",
       "      <th>location</th>\n",
       "      <th>feature_num</th>\n",
       "      <th>start_location</th>\n",
       "      <th>end_location</th>\n",
       "      <th>case_num</th>\n",
       "      <th>pn_history</th>\n",
       "      <th>New_annotation</th>\n",
       "      <th>New_pn_history</th>\n",
       "    </tr>\n",
       "  </thead>\n",
       "  <tbody>\n",
       "    <tr>\n",
       "      <th>0</th>\n",
       "      <td>40045</td>\n",
       "      <td>'denies palpitations'</td>\n",
       "      <td>'468 474;491 503'</td>\n",
       "      <td>400</td>\n",
       "      <td>468</td>\n",
       "      <td>503</td>\n",
       "      <td>4</td>\n",
       "      <td>Mrs. Moore is a 45 year old female presenting ...</td>\n",
       "      <td>denies any depression  palpitations</td>\n",
       "      <td>Mrs. Moore is a 45 year old female presenting ...</td>\n",
       "    </tr>\n",
       "    <tr>\n",
       "      <th>1</th>\n",
       "      <td>40045</td>\n",
       "      <td>'denies tremors'</td>\n",
       "      <td>'468 474;546 553'</td>\n",
       "      <td>400</td>\n",
       "      <td>468</td>\n",
       "      <td>553</td>\n",
       "      <td>4</td>\n",
       "      <td>Mrs. Moore is a 45 year old female presenting ...</td>\n",
       "      <td>denies any depression  palpitations  sweatness...</td>\n",
       "      <td>Mrs. Moore is a 45 year old female presenting ...</td>\n",
       "    </tr>\n",
       "    <tr>\n",
       "      <th>2</th>\n",
       "      <td>40045</td>\n",
       "      <td>'denies sweatness'</td>\n",
       "      <td>'468 474;505 514'</td>\n",
       "      <td>400</td>\n",
       "      <td>468</td>\n",
       "      <td>514</td>\n",
       "      <td>4</td>\n",
       "      <td>Mrs. Moore is a 45 year old female presenting ...</td>\n",
       "      <td>denies any depression  palpitations  sweatness</td>\n",
       "      <td>Mrs. Moore is a 45 year old female presenting ...</td>\n",
       "    </tr>\n",
       "    <tr>\n",
       "      <th>3</th>\n",
       "      <td>40045</td>\n",
       "      <td>'nervousness'</td>\n",
       "      <td>'52 63'</td>\n",
       "      <td>401</td>\n",
       "      <td>52</td>\n",
       "      <td>63</td>\n",
       "      <td>4</td>\n",
       "      <td>Mrs. Moore is a 45 year old female presenting ...</td>\n",
       "      <td>nervousness</td>\n",
       "      <td>Mrs. Moore is a 45 year old female presenting ...</td>\n",
       "    </tr>\n",
       "    <tr>\n",
       "      <th>4</th>\n",
       "      <td>40045</td>\n",
       "      <td>'nervousness'</td>\n",
       "      <td>'82 93'</td>\n",
       "      <td>401</td>\n",
       "      <td>82</td>\n",
       "      <td>93</td>\n",
       "      <td>4</td>\n",
       "      <td>Mrs. Moore is a 45 year old female presenting ...</td>\n",
       "      <td>nervousness</td>\n",
       "      <td>Mrs. Moore is a 45 year old female presenting ...</td>\n",
       "    </tr>\n",
       "    <tr>\n",
       "      <th>...</th>\n",
       "      <td>...</td>\n",
       "      <td>...</td>\n",
       "      <td>...</td>\n",
       "      <td>...</td>\n",
       "      <td>...</td>\n",
       "      <td>...</td>\n",
       "      <td>...</td>\n",
       "      <td>...</td>\n",
       "      <td>...</td>\n",
       "      <td>...</td>\n",
       "    </tr>\n",
       "    <tr>\n",
       "      <th>1764</th>\n",
       "      <td>43277</td>\n",
       "      <td>'no weight changes'</td>\n",
       "      <td>'618 635'</td>\n",
       "      <td>405</td>\n",
       "      <td>618</td>\n",
       "      <td>635</td>\n",
       "      <td>4</td>\n",
       "      <td>45 y o f c/o of episodes of irriitabilty for f...</td>\n",
       "      <td>no weight changes</td>\n",
       "      <td>45 y o f c o of episodes of irriitabilty for f...</td>\n",
       "    </tr>\n",
       "    <tr>\n",
       "      <th>1765</th>\n",
       "      <td>41657</td>\n",
       "      <td>'no changes in weight'</td>\n",
       "      <td>'472 492'</td>\n",
       "      <td>405</td>\n",
       "      <td>472</td>\n",
       "      <td>492</td>\n",
       "      <td>4</td>\n",
       "      <td>HPI 45 yo female presented complainnig of nerv...</td>\n",
       "      <td>no changes in weight</td>\n",
       "      <td>HPI 45 yo female presented complainnig of nerv...</td>\n",
       "    </tr>\n",
       "    <tr>\n",
       "      <th>1766</th>\n",
       "      <td>45084</td>\n",
       "      <td>'Denies changes in weight'</td>\n",
       "      <td>'731 755'</td>\n",
       "      <td>405</td>\n",
       "      <td>731</td>\n",
       "      <td>755</td>\n",
       "      <td>4</td>\n",
       "      <td>Karin Moore is a 45 yo white F with complaint ...</td>\n",
       "      <td>Denies changes in weight</td>\n",
       "      <td>Karin Moore is a 45 yo white F with complaint ...</td>\n",
       "    </tr>\n",
       "    <tr>\n",
       "      <th>1767</th>\n",
       "      <td>43093</td>\n",
       "      <td>'Denies weight loss'</td>\n",
       "      <td>'329 347'</td>\n",
       "      <td>405</td>\n",
       "      <td>329</td>\n",
       "      <td>347</td>\n",
       "      <td>4</td>\n",
       "      <td>Pt 45 yo F c/o nervousness for the last 3 week...</td>\n",
       "      <td>Denies weight loss</td>\n",
       "      <td>Pt 45 yo F c o nervousness for the last 3 week...</td>\n",
       "    </tr>\n",
       "    <tr>\n",
       "      <th>1768</th>\n",
       "      <td>41425</td>\n",
       "      <td>'No changes in weight'</td>\n",
       "      <td>'469 489'</td>\n",
       "      <td>405</td>\n",
       "      <td>469</td>\n",
       "      <td>489</td>\n",
       "      <td>4</td>\n",
       "      <td>45 Y/O woman complains of nervousness for the ...</td>\n",
       "      <td>No changes in weight</td>\n",
       "      <td>45 Y O woman complains of nervousness for the ...</td>\n",
       "    </tr>\n",
       "  </tbody>\n",
       "</table>\n",
       "<p>1769 rows × 10 columns</p>\n",
       "</div>"
      ],
      "text/plain": [
       "      pn_num                  annotation            location  feature_num  \\\n",
       "0      40045       'denies palpitations'   '468 474;491 503'          400   \n",
       "1      40045            'denies tremors'   '468 474;546 553'          400   \n",
       "2      40045          'denies sweatness'   '468 474;505 514'          400   \n",
       "3      40045               'nervousness'             '52 63'          401   \n",
       "4      40045               'nervousness'             '82 93'          401   \n",
       "...      ...                         ...                 ...          ...   \n",
       "1764   43277         'no weight changes'           '618 635'          405   \n",
       "1765   41657      'no changes in weight'           '472 492'          405   \n",
       "1766   45084  'Denies changes in weight'           '731 755'          405   \n",
       "1767   43093        'Denies weight loss'           '329 347'          405   \n",
       "1768   41425      'No changes in weight'           '469 489'          405   \n",
       "\n",
       "     start_location end_location  case_num  \\\n",
       "0               468          503         4   \n",
       "1               468          553         4   \n",
       "2               468          514         4   \n",
       "3                52           63         4   \n",
       "4                82           93         4   \n",
       "...             ...          ...       ...   \n",
       "1764            618          635         4   \n",
       "1765            472          492         4   \n",
       "1766            731          755         4   \n",
       "1767            329          347         4   \n",
       "1768            469          489         4   \n",
       "\n",
       "                                             pn_history  \\\n",
       "0     Mrs. Moore is a 45 year old female presenting ...   \n",
       "1     Mrs. Moore is a 45 year old female presenting ...   \n",
       "2     Mrs. Moore is a 45 year old female presenting ...   \n",
       "3     Mrs. Moore is a 45 year old female presenting ...   \n",
       "4     Mrs. Moore is a 45 year old female presenting ...   \n",
       "...                                                 ...   \n",
       "1764  45 y o f c/o of episodes of irriitabilty for f...   \n",
       "1765  HPI 45 yo female presented complainnig of nerv...   \n",
       "1766  Karin Moore is a 45 yo white F with complaint ...   \n",
       "1767  Pt 45 yo F c/o nervousness for the last 3 week...   \n",
       "1768  45 Y/O woman complains of nervousness for the ...   \n",
       "\n",
       "                                         New_annotation  \\\n",
       "0                   denies any depression  palpitations   \n",
       "1     denies any depression  palpitations  sweatness...   \n",
       "2        denies any depression  palpitations  sweatness   \n",
       "3                                           nervousness   \n",
       "4                                           nervousness   \n",
       "...                                                 ...   \n",
       "1764                                  no weight changes   \n",
       "1765                               no changes in weight   \n",
       "1766                           Denies changes in weight   \n",
       "1767                                 Denies weight loss   \n",
       "1768                               No changes in weight   \n",
       "\n",
       "                                         New_pn_history  \n",
       "0     Mrs. Moore is a 45 year old female presenting ...  \n",
       "1     Mrs. Moore is a 45 year old female presenting ...  \n",
       "2     Mrs. Moore is a 45 year old female presenting ...  \n",
       "3     Mrs. Moore is a 45 year old female presenting ...  \n",
       "4     Mrs. Moore is a 45 year old female presenting ...  \n",
       "...                                                 ...  \n",
       "1764  45 y o f c o of episodes of irriitabilty for f...  \n",
       "1765  HPI 45 yo female presented complainnig of nerv...  \n",
       "1766  Karin Moore is a 45 yo white F with complaint ...  \n",
       "1767  Pt 45 yo F c o nervousness for the last 3 week...  \n",
       "1768  45 Y O woman complains of nervousness for the ...  \n",
       "\n",
       "[1769 rows x 10 columns]"
      ]
     },
     "execution_count": 112,
     "metadata": {},
     "output_type": "execute_result"
    }
   ],
   "source": [
    "case_4[\"New_pn_history\"] = case_4[\"pn_history\"].apply(lambda x: re.sub(r'''[/\",+()\\r\\n]''',' ',x))\n",
    "case_4[\"New_pn_history\"] = case_4[\"New_pn_history\"].apply(lambda x: re.sub(r'''[']''','',x))\n",
    "case_4"
   ]
  },
  {
   "cell_type": "code",
   "execution_count": 113,
   "id": "39ab85ba",
   "metadata": {},
   "outputs": [],
   "source": [
    "def word_lemm(sentence):\n",
    "    word_list = nltk.word_tokenize(sentence)\n",
    "    \n",
    "    lemmaztier = WordNetLemmatizer()\n",
    "    lemmatized_output = ' '.join([lemmaztier.lemmatize(w) for w in word_list])\n",
    "    return(lemmatized_output)"
   ]
  },
  {
   "cell_type": "code",
   "execution_count": 114,
   "id": "7a507465",
   "metadata": {},
   "outputs": [
    {
     "data": {
      "text/html": [
       "<div>\n",
       "<style scoped>\n",
       "    .dataframe tbody tr th:only-of-type {\n",
       "        vertical-align: middle;\n",
       "    }\n",
       "\n",
       "    .dataframe tbody tr th {\n",
       "        vertical-align: top;\n",
       "    }\n",
       "\n",
       "    .dataframe thead th {\n",
       "        text-align: right;\n",
       "    }\n",
       "</style>\n",
       "<table border=\"1\" class=\"dataframe\">\n",
       "  <thead>\n",
       "    <tr style=\"text-align: right;\">\n",
       "      <th></th>\n",
       "      <th>pn_num</th>\n",
       "      <th>annotation</th>\n",
       "      <th>location</th>\n",
       "      <th>feature_num</th>\n",
       "      <th>start_location</th>\n",
       "      <th>end_location</th>\n",
       "      <th>case_num</th>\n",
       "      <th>pn_history</th>\n",
       "      <th>New_annotation</th>\n",
       "      <th>New_pn_history</th>\n",
       "    </tr>\n",
       "  </thead>\n",
       "  <tbody>\n",
       "    <tr>\n",
       "      <th>0</th>\n",
       "      <td>40045</td>\n",
       "      <td>'denies palpitations'</td>\n",
       "      <td>'468 474;491 503'</td>\n",
       "      <td>400</td>\n",
       "      <td>468</td>\n",
       "      <td>503</td>\n",
       "      <td>4</td>\n",
       "      <td>Mrs. Moore is a 45 year old female presenting ...</td>\n",
       "      <td>denies any depression palpitation</td>\n",
       "      <td>Mrs. Moore is a 45 year old female presenting ...</td>\n",
       "    </tr>\n",
       "    <tr>\n",
       "      <th>1</th>\n",
       "      <td>40045</td>\n",
       "      <td>'denies tremors'</td>\n",
       "      <td>'468 474;546 553'</td>\n",
       "      <td>400</td>\n",
       "      <td>468</td>\n",
       "      <td>553</td>\n",
       "      <td>4</td>\n",
       "      <td>Mrs. Moore is a 45 year old female presenting ...</td>\n",
       "      <td>denies any depression palpitation sweatness pa...</td>\n",
       "      <td>Mrs. Moore is a 45 year old female presenting ...</td>\n",
       "    </tr>\n",
       "    <tr>\n",
       "      <th>2</th>\n",
       "      <td>40045</td>\n",
       "      <td>'denies sweatness'</td>\n",
       "      <td>'468 474;505 514'</td>\n",
       "      <td>400</td>\n",
       "      <td>468</td>\n",
       "      <td>514</td>\n",
       "      <td>4</td>\n",
       "      <td>Mrs. Moore is a 45 year old female presenting ...</td>\n",
       "      <td>denies any depression palpitation sweatness</td>\n",
       "      <td>Mrs. Moore is a 45 year old female presenting ...</td>\n",
       "    </tr>\n",
       "    <tr>\n",
       "      <th>3</th>\n",
       "      <td>40045</td>\n",
       "      <td>'nervousness'</td>\n",
       "      <td>'52 63'</td>\n",
       "      <td>401</td>\n",
       "      <td>52</td>\n",
       "      <td>63</td>\n",
       "      <td>4</td>\n",
       "      <td>Mrs. Moore is a 45 year old female presenting ...</td>\n",
       "      <td>nervousness</td>\n",
       "      <td>Mrs. Moore is a 45 year old female presenting ...</td>\n",
       "    </tr>\n",
       "    <tr>\n",
       "      <th>4</th>\n",
       "      <td>40045</td>\n",
       "      <td>'nervousness'</td>\n",
       "      <td>'82 93'</td>\n",
       "      <td>401</td>\n",
       "      <td>82</td>\n",
       "      <td>93</td>\n",
       "      <td>4</td>\n",
       "      <td>Mrs. Moore is a 45 year old female presenting ...</td>\n",
       "      <td>nervousness</td>\n",
       "      <td>Mrs. Moore is a 45 year old female presenting ...</td>\n",
       "    </tr>\n",
       "  </tbody>\n",
       "</table>\n",
       "</div>"
      ],
      "text/plain": [
       "   pn_num             annotation            location  feature_num  \\\n",
       "0   40045  'denies palpitations'   '468 474;491 503'          400   \n",
       "1   40045       'denies tremors'   '468 474;546 553'          400   \n",
       "2   40045     'denies sweatness'   '468 474;505 514'          400   \n",
       "3   40045          'nervousness'             '52 63'          401   \n",
       "4   40045          'nervousness'             '82 93'          401   \n",
       "\n",
       "  start_location end_location  case_num  \\\n",
       "0            468          503         4   \n",
       "1            468          553         4   \n",
       "2            468          514         4   \n",
       "3             52           63         4   \n",
       "4             82           93         4   \n",
       "\n",
       "                                          pn_history  \\\n",
       "0  Mrs. Moore is a 45 year old female presenting ...   \n",
       "1  Mrs. Moore is a 45 year old female presenting ...   \n",
       "2  Mrs. Moore is a 45 year old female presenting ...   \n",
       "3  Mrs. Moore is a 45 year old female presenting ...   \n",
       "4  Mrs. Moore is a 45 year old female presenting ...   \n",
       "\n",
       "                                      New_annotation  \\\n",
       "0                  denies any depression palpitation   \n",
       "1  denies any depression palpitation sweatness pa...   \n",
       "2        denies any depression palpitation sweatness   \n",
       "3                                        nervousness   \n",
       "4                                        nervousness   \n",
       "\n",
       "                                      New_pn_history  \n",
       "0  Mrs. Moore is a 45 year old female presenting ...  \n",
       "1  Mrs. Moore is a 45 year old female presenting ...  \n",
       "2  Mrs. Moore is a 45 year old female presenting ...  \n",
       "3  Mrs. Moore is a 45 year old female presenting ...  \n",
       "4  Mrs. Moore is a 45 year old female presenting ...  "
      ]
     },
     "execution_count": 114,
     "metadata": {},
     "output_type": "execute_result"
    }
   ],
   "source": [
    "case_4[\"New_annotation\"] = case_4[\"New_annotation\"].apply(word_lemm)\n",
    "case_4[\"New_pn_history\"] = case_4[\"New_pn_history\"].apply(word_lemm)\n",
    "case_4.head()"
   ]
  },
  {
   "cell_type": "code",
   "execution_count": 115,
   "id": "cca69789",
   "metadata": {
    "scrolled": false
   },
   "outputs": [
    {
     "data": {
      "text/html": [
       "<div>\n",
       "<style scoped>\n",
       "    .dataframe tbody tr th:only-of-type {\n",
       "        vertical-align: middle;\n",
       "    }\n",
       "\n",
       "    .dataframe tbody tr th {\n",
       "        vertical-align: top;\n",
       "    }\n",
       "\n",
       "    .dataframe thead th {\n",
       "        text-align: right;\n",
       "    }\n",
       "</style>\n",
       "<table border=\"1\" class=\"dataframe\">\n",
       "  <thead>\n",
       "    <tr style=\"text-align: right;\">\n",
       "      <th></th>\n",
       "      <th>pn_num</th>\n",
       "      <th>annotation</th>\n",
       "      <th>location</th>\n",
       "      <th>feature_num</th>\n",
       "      <th>start_location</th>\n",
       "      <th>end_location</th>\n",
       "      <th>case_num</th>\n",
       "      <th>pn_history</th>\n",
       "      <th>New_annotation</th>\n",
       "      <th>New_pn_history</th>\n",
       "      <th>new_location</th>\n",
       "    </tr>\n",
       "  </thead>\n",
       "  <tbody>\n",
       "    <tr>\n",
       "      <th>0</th>\n",
       "      <td>40045</td>\n",
       "      <td>'denies palpitations'</td>\n",
       "      <td>'468 474;491 503'</td>\n",
       "      <td>400</td>\n",
       "      <td>468</td>\n",
       "      <td>503</td>\n",
       "      <td>4</td>\n",
       "      <td>Mrs. Moore is a 45 year old female presenting ...</td>\n",
       "      <td>denies any depression palpitation</td>\n",
       "      <td>Mrs. Moore is a 45 year old female presenting ...</td>\n",
       "      <td>&lt;re.Match object; span=(461, 494), match='deni...</td>\n",
       "    </tr>\n",
       "    <tr>\n",
       "      <th>1</th>\n",
       "      <td>40045</td>\n",
       "      <td>'denies tremors'</td>\n",
       "      <td>'468 474;546 553'</td>\n",
       "      <td>400</td>\n",
       "      <td>468</td>\n",
       "      <td>553</td>\n",
       "      <td>4</td>\n",
       "      <td>Mrs. Moore is a 45 year old female presenting ...</td>\n",
       "      <td>denies any depression palpitation sweatness pa...</td>\n",
       "      <td>Mrs. Moore is a 45 year old female presenting ...</td>\n",
       "      <td>&lt;re.Match object; span=(461, 539), match='deni...</td>\n",
       "    </tr>\n",
       "    <tr>\n",
       "      <th>2</th>\n",
       "      <td>40045</td>\n",
       "      <td>'denies sweatness'</td>\n",
       "      <td>'468 474;505 514'</td>\n",
       "      <td>400</td>\n",
       "      <td>468</td>\n",
       "      <td>514</td>\n",
       "      <td>4</td>\n",
       "      <td>Mrs. Moore is a 45 year old female presenting ...</td>\n",
       "      <td>denies any depression palpitation sweatness</td>\n",
       "      <td>Mrs. Moore is a 45 year old female presenting ...</td>\n",
       "      <td>&lt;re.Match object; span=(461, 504), match='deni...</td>\n",
       "    </tr>\n",
       "    <tr>\n",
       "      <th>3</th>\n",
       "      <td>40045</td>\n",
       "      <td>'nervousness'</td>\n",
       "      <td>'52 63'</td>\n",
       "      <td>401</td>\n",
       "      <td>52</td>\n",
       "      <td>63</td>\n",
       "      <td>4</td>\n",
       "      <td>Mrs. Moore is a 45 year old female presenting ...</td>\n",
       "      <td>nervousness</td>\n",
       "      <td>Mrs. Moore is a 45 year old female presenting ...</td>\n",
       "      <td>&lt;re.Match object; span=(51, 62), match='nervou...</td>\n",
       "    </tr>\n",
       "    <tr>\n",
       "      <th>4</th>\n",
       "      <td>40045</td>\n",
       "      <td>'nervousness'</td>\n",
       "      <td>'82 93'</td>\n",
       "      <td>401</td>\n",
       "      <td>82</td>\n",
       "      <td>93</td>\n",
       "      <td>4</td>\n",
       "      <td>Mrs. Moore is a 45 year old female presenting ...</td>\n",
       "      <td>nervousness</td>\n",
       "      <td>Mrs. Moore is a 45 year old female presenting ...</td>\n",
       "      <td>&lt;re.Match object; span=(51, 62), match='nervou...</td>\n",
       "    </tr>\n",
       "    <tr>\n",
       "      <th>...</th>\n",
       "      <td>...</td>\n",
       "      <td>...</td>\n",
       "      <td>...</td>\n",
       "      <td>...</td>\n",
       "      <td>...</td>\n",
       "      <td>...</td>\n",
       "      <td>...</td>\n",
       "      <td>...</td>\n",
       "      <td>...</td>\n",
       "      <td>...</td>\n",
       "      <td>...</td>\n",
       "    </tr>\n",
       "    <tr>\n",
       "      <th>1764</th>\n",
       "      <td>43277</td>\n",
       "      <td>'no weight changes'</td>\n",
       "      <td>'618 635'</td>\n",
       "      <td>405</td>\n",
       "      <td>618</td>\n",
       "      <td>635</td>\n",
       "      <td>4</td>\n",
       "      <td>45 y o f c/o of episodes of irriitabilty for f...</td>\n",
       "      <td>no weight change</td>\n",
       "      <td>45 y o f c o of episode of irriitabilty for fe...</td>\n",
       "      <td>&lt;re.Match object; span=(596, 612), match='no w...</td>\n",
       "    </tr>\n",
       "    <tr>\n",
       "      <th>1765</th>\n",
       "      <td>41657</td>\n",
       "      <td>'no changes in weight'</td>\n",
       "      <td>'472 492'</td>\n",
       "      <td>405</td>\n",
       "      <td>472</td>\n",
       "      <td>492</td>\n",
       "      <td>4</td>\n",
       "      <td>HPI 45 yo female presented complainnig of nerv...</td>\n",
       "      <td>no change in weight</td>\n",
       "      <td>HPI 45 yo female presented complainnig of nerv...</td>\n",
       "      <td>&lt;re.Match object; span=(464, 483), match='no c...</td>\n",
       "    </tr>\n",
       "    <tr>\n",
       "      <th>1766</th>\n",
       "      <td>45084</td>\n",
       "      <td>'Denies changes in weight'</td>\n",
       "      <td>'731 755'</td>\n",
       "      <td>405</td>\n",
       "      <td>731</td>\n",
       "      <td>755</td>\n",
       "      <td>4</td>\n",
       "      <td>Karin Moore is a 45 yo white F with complaint ...</td>\n",
       "      <td>Denies change in weight</td>\n",
       "      <td>Karin Moore is a 45 yo white F with complaint ...</td>\n",
       "      <td>&lt;re.Match object; span=(726, 749), match='Deni...</td>\n",
       "    </tr>\n",
       "    <tr>\n",
       "      <th>1767</th>\n",
       "      <td>43093</td>\n",
       "      <td>'Denies weight loss'</td>\n",
       "      <td>'329 347'</td>\n",
       "      <td>405</td>\n",
       "      <td>329</td>\n",
       "      <td>347</td>\n",
       "      <td>4</td>\n",
       "      <td>Pt 45 yo F c/o nervousness for the last 3 week...</td>\n",
       "      <td>Denies weight loss</td>\n",
       "      <td>Pt 45 yo F c o nervousness for the last 3 week...</td>\n",
       "      <td>&lt;re.Match object; span=(324, 342), match='Deni...</td>\n",
       "    </tr>\n",
       "    <tr>\n",
       "      <th>1768</th>\n",
       "      <td>41425</td>\n",
       "      <td>'No changes in weight'</td>\n",
       "      <td>'469 489'</td>\n",
       "      <td>405</td>\n",
       "      <td>469</td>\n",
       "      <td>489</td>\n",
       "      <td>4</td>\n",
       "      <td>45 Y/O woman complains of nervousness for the ...</td>\n",
       "      <td>No change in weight</td>\n",
       "      <td>45 Y O woman complains of nervousness for the ...</td>\n",
       "      <td>&lt;re.Match object; span=(458, 477), match='No c...</td>\n",
       "    </tr>\n",
       "  </tbody>\n",
       "</table>\n",
       "<p>1769 rows × 11 columns</p>\n",
       "</div>"
      ],
      "text/plain": [
       "      pn_num                  annotation            location  feature_num  \\\n",
       "0      40045       'denies palpitations'   '468 474;491 503'          400   \n",
       "1      40045            'denies tremors'   '468 474;546 553'          400   \n",
       "2      40045          'denies sweatness'   '468 474;505 514'          400   \n",
       "3      40045               'nervousness'             '52 63'          401   \n",
       "4      40045               'nervousness'             '82 93'          401   \n",
       "...      ...                         ...                 ...          ...   \n",
       "1764   43277         'no weight changes'           '618 635'          405   \n",
       "1765   41657      'no changes in weight'           '472 492'          405   \n",
       "1766   45084  'Denies changes in weight'           '731 755'          405   \n",
       "1767   43093        'Denies weight loss'           '329 347'          405   \n",
       "1768   41425      'No changes in weight'           '469 489'          405   \n",
       "\n",
       "     start_location end_location  case_num  \\\n",
       "0               468          503         4   \n",
       "1               468          553         4   \n",
       "2               468          514         4   \n",
       "3                52           63         4   \n",
       "4                82           93         4   \n",
       "...             ...          ...       ...   \n",
       "1764            618          635         4   \n",
       "1765            472          492         4   \n",
       "1766            731          755         4   \n",
       "1767            329          347         4   \n",
       "1768            469          489         4   \n",
       "\n",
       "                                             pn_history  \\\n",
       "0     Mrs. Moore is a 45 year old female presenting ...   \n",
       "1     Mrs. Moore is a 45 year old female presenting ...   \n",
       "2     Mrs. Moore is a 45 year old female presenting ...   \n",
       "3     Mrs. Moore is a 45 year old female presenting ...   \n",
       "4     Mrs. Moore is a 45 year old female presenting ...   \n",
       "...                                                 ...   \n",
       "1764  45 y o f c/o of episodes of irriitabilty for f...   \n",
       "1765  HPI 45 yo female presented complainnig of nerv...   \n",
       "1766  Karin Moore is a 45 yo white F with complaint ...   \n",
       "1767  Pt 45 yo F c/o nervousness for the last 3 week...   \n",
       "1768  45 Y/O woman complains of nervousness for the ...   \n",
       "\n",
       "                                         New_annotation  \\\n",
       "0                     denies any depression palpitation   \n",
       "1     denies any depression palpitation sweatness pa...   \n",
       "2           denies any depression palpitation sweatness   \n",
       "3                                           nervousness   \n",
       "4                                           nervousness   \n",
       "...                                                 ...   \n",
       "1764                                   no weight change   \n",
       "1765                                no change in weight   \n",
       "1766                            Denies change in weight   \n",
       "1767                                 Denies weight loss   \n",
       "1768                                No change in weight   \n",
       "\n",
       "                                         New_pn_history  \\\n",
       "0     Mrs. Moore is a 45 year old female presenting ...   \n",
       "1     Mrs. Moore is a 45 year old female presenting ...   \n",
       "2     Mrs. Moore is a 45 year old female presenting ...   \n",
       "3     Mrs. Moore is a 45 year old female presenting ...   \n",
       "4     Mrs. Moore is a 45 year old female presenting ...   \n",
       "...                                                 ...   \n",
       "1764  45 y o f c o of episode of irriitabilty for fe...   \n",
       "1765  HPI 45 yo female presented complainnig of nerv...   \n",
       "1766  Karin Moore is a 45 yo white F with complaint ...   \n",
       "1767  Pt 45 yo F c o nervousness for the last 3 week...   \n",
       "1768  45 Y O woman complains of nervousness for the ...   \n",
       "\n",
       "                                           new_location  \n",
       "0     <re.Match object; span=(461, 494), match='deni...  \n",
       "1     <re.Match object; span=(461, 539), match='deni...  \n",
       "2     <re.Match object; span=(461, 504), match='deni...  \n",
       "3     <re.Match object; span=(51, 62), match='nervou...  \n",
       "4     <re.Match object; span=(51, 62), match='nervou...  \n",
       "...                                                 ...  \n",
       "1764  <re.Match object; span=(596, 612), match='no w...  \n",
       "1765  <re.Match object; span=(464, 483), match='no c...  \n",
       "1766  <re.Match object; span=(726, 749), match='Deni...  \n",
       "1767  <re.Match object; span=(324, 342), match='Deni...  \n",
       "1768  <re.Match object; span=(458, 477), match='No c...  \n",
       "\n",
       "[1769 rows x 11 columns]"
      ]
     },
     "execution_count": 115,
     "metadata": {},
     "output_type": "execute_result"
    }
   ],
   "source": [
    "case_4[\"new_location\"] = case_4.apply(lambda x :re.search(r'\\b' + x.New_annotation + r'\\b', x.New_pn_history),axis =1)\n",
    "case_4"
   ]
  },
  {
   "cell_type": "code",
   "execution_count": 116,
   "id": "55ca6fc3",
   "metadata": {},
   "outputs": [
    {
     "name": "stdout",
     "output_type": "stream",
     "text": [
      "[82, 84, 129, 309, 310, 311, 312, 313, 318, 330, 632, 693, 694, 695, 700, 701, 760, 848, 850, 913, 915, 920, 955, 957, 1015, 1025, 1045, 1046, 1052, 1140, 1142, 1148, 1150, 1151, 1155, 1157, 1158, 1159, 1165, 1167, 1168, 1169, 1171, 1172, 1175, 1176, 1180, 1181, 1182, 1185, 1188, 1189, 1192, 1193, 1194, 1195, 1196, 1198, 1199, 1200, 1208, 1210, 1214, 1216, 1218, 1221, 1222, 1228, 1538]\n"
     ]
    },
    {
     "data": {
      "text/plain": [
       "(None, 69)"
      ]
     },
     "execution_count": 116,
     "metadata": {},
     "output_type": "execute_result"
    }
   ],
   "source": [
    "drop_index = []\n",
    "for index,row in case_4.iterrows():\n",
    "    if row[\"new_location\"] == None:\n",
    "        drop_index.append(index)\n",
    "        \n",
    "print(drop_index),len(drop_index)"
   ]
  },
  {
   "cell_type": "code",
   "execution_count": 117,
   "id": "7479f213",
   "metadata": {},
   "outputs": [
    {
     "data": {
      "text/html": [
       "<div>\n",
       "<style scoped>\n",
       "    .dataframe tbody tr th:only-of-type {\n",
       "        vertical-align: middle;\n",
       "    }\n",
       "\n",
       "    .dataframe tbody tr th {\n",
       "        vertical-align: top;\n",
       "    }\n",
       "\n",
       "    .dataframe thead th {\n",
       "        text-align: right;\n",
       "    }\n",
       "</style>\n",
       "<table border=\"1\" class=\"dataframe\">\n",
       "  <thead>\n",
       "    <tr style=\"text-align: right;\">\n",
       "      <th></th>\n",
       "      <th>pn_num</th>\n",
       "      <th>annotation</th>\n",
       "      <th>location</th>\n",
       "      <th>feature_num</th>\n",
       "      <th>start_location</th>\n",
       "      <th>end_location</th>\n",
       "      <th>case_num</th>\n",
       "      <th>pn_history</th>\n",
       "      <th>New_annotation</th>\n",
       "      <th>New_pn_history</th>\n",
       "      <th>new_location</th>\n",
       "    </tr>\n",
       "  </thead>\n",
       "  <tbody>\n",
       "    <tr>\n",
       "      <th>0</th>\n",
       "      <td>40045</td>\n",
       "      <td>'denies palpitations'</td>\n",
       "      <td>'468 474;491 503'</td>\n",
       "      <td>400</td>\n",
       "      <td>468</td>\n",
       "      <td>503</td>\n",
       "      <td>4</td>\n",
       "      <td>Mrs. Moore is a 45 year old female presenting ...</td>\n",
       "      <td>denies any depression palpitation</td>\n",
       "      <td>Mrs. Moore is a 45 year old female presenting ...</td>\n",
       "      <td>&lt;re.Match object; span=(461, 494), match='deni...</td>\n",
       "    </tr>\n",
       "    <tr>\n",
       "      <th>1</th>\n",
       "      <td>40045</td>\n",
       "      <td>'denies tremors'</td>\n",
       "      <td>'468 474;546 553'</td>\n",
       "      <td>400</td>\n",
       "      <td>468</td>\n",
       "      <td>553</td>\n",
       "      <td>4</td>\n",
       "      <td>Mrs. Moore is a 45 year old female presenting ...</td>\n",
       "      <td>denies any depression palpitation sweatness pa...</td>\n",
       "      <td>Mrs. Moore is a 45 year old female presenting ...</td>\n",
       "      <td>&lt;re.Match object; span=(461, 539), match='deni...</td>\n",
       "    </tr>\n",
       "    <tr>\n",
       "      <th>2</th>\n",
       "      <td>40045</td>\n",
       "      <td>'denies sweatness'</td>\n",
       "      <td>'468 474;505 514'</td>\n",
       "      <td>400</td>\n",
       "      <td>468</td>\n",
       "      <td>514</td>\n",
       "      <td>4</td>\n",
       "      <td>Mrs. Moore is a 45 year old female presenting ...</td>\n",
       "      <td>denies any depression palpitation sweatness</td>\n",
       "      <td>Mrs. Moore is a 45 year old female presenting ...</td>\n",
       "      <td>&lt;re.Match object; span=(461, 504), match='deni...</td>\n",
       "    </tr>\n",
       "    <tr>\n",
       "      <th>3</th>\n",
       "      <td>40045</td>\n",
       "      <td>'nervousness'</td>\n",
       "      <td>'52 63'</td>\n",
       "      <td>401</td>\n",
       "      <td>52</td>\n",
       "      <td>63</td>\n",
       "      <td>4</td>\n",
       "      <td>Mrs. Moore is a 45 year old female presenting ...</td>\n",
       "      <td>nervousness</td>\n",
       "      <td>Mrs. Moore is a 45 year old female presenting ...</td>\n",
       "      <td>&lt;re.Match object; span=(51, 62), match='nervou...</td>\n",
       "    </tr>\n",
       "    <tr>\n",
       "      <th>4</th>\n",
       "      <td>40045</td>\n",
       "      <td>'nervousness'</td>\n",
       "      <td>'82 93'</td>\n",
       "      <td>401</td>\n",
       "      <td>82</td>\n",
       "      <td>93</td>\n",
       "      <td>4</td>\n",
       "      <td>Mrs. Moore is a 45 year old female presenting ...</td>\n",
       "      <td>nervousness</td>\n",
       "      <td>Mrs. Moore is a 45 year old female presenting ...</td>\n",
       "      <td>&lt;re.Match object; span=(51, 62), match='nervou...</td>\n",
       "    </tr>\n",
       "    <tr>\n",
       "      <th>...</th>\n",
       "      <td>...</td>\n",
       "      <td>...</td>\n",
       "      <td>...</td>\n",
       "      <td>...</td>\n",
       "      <td>...</td>\n",
       "      <td>...</td>\n",
       "      <td>...</td>\n",
       "      <td>...</td>\n",
       "      <td>...</td>\n",
       "      <td>...</td>\n",
       "      <td>...</td>\n",
       "    </tr>\n",
       "    <tr>\n",
       "      <th>1764</th>\n",
       "      <td>43277</td>\n",
       "      <td>'no weight changes'</td>\n",
       "      <td>'618 635'</td>\n",
       "      <td>405</td>\n",
       "      <td>618</td>\n",
       "      <td>635</td>\n",
       "      <td>4</td>\n",
       "      <td>45 y o f c/o of episodes of irriitabilty for f...</td>\n",
       "      <td>no weight change</td>\n",
       "      <td>45 y o f c o of episode of irriitabilty for fe...</td>\n",
       "      <td>&lt;re.Match object; span=(596, 612), match='no w...</td>\n",
       "    </tr>\n",
       "    <tr>\n",
       "      <th>1765</th>\n",
       "      <td>41657</td>\n",
       "      <td>'no changes in weight'</td>\n",
       "      <td>'472 492'</td>\n",
       "      <td>405</td>\n",
       "      <td>472</td>\n",
       "      <td>492</td>\n",
       "      <td>4</td>\n",
       "      <td>HPI 45 yo female presented complainnig of nerv...</td>\n",
       "      <td>no change in weight</td>\n",
       "      <td>HPI 45 yo female presented complainnig of nerv...</td>\n",
       "      <td>&lt;re.Match object; span=(464, 483), match='no c...</td>\n",
       "    </tr>\n",
       "    <tr>\n",
       "      <th>1766</th>\n",
       "      <td>45084</td>\n",
       "      <td>'Denies changes in weight'</td>\n",
       "      <td>'731 755'</td>\n",
       "      <td>405</td>\n",
       "      <td>731</td>\n",
       "      <td>755</td>\n",
       "      <td>4</td>\n",
       "      <td>Karin Moore is a 45 yo white F with complaint ...</td>\n",
       "      <td>Denies change in weight</td>\n",
       "      <td>Karin Moore is a 45 yo white F with complaint ...</td>\n",
       "      <td>&lt;re.Match object; span=(726, 749), match='Deni...</td>\n",
       "    </tr>\n",
       "    <tr>\n",
       "      <th>1767</th>\n",
       "      <td>43093</td>\n",
       "      <td>'Denies weight loss'</td>\n",
       "      <td>'329 347'</td>\n",
       "      <td>405</td>\n",
       "      <td>329</td>\n",
       "      <td>347</td>\n",
       "      <td>4</td>\n",
       "      <td>Pt 45 yo F c/o nervousness for the last 3 week...</td>\n",
       "      <td>Denies weight loss</td>\n",
       "      <td>Pt 45 yo F c o nervousness for the last 3 week...</td>\n",
       "      <td>&lt;re.Match object; span=(324, 342), match='Deni...</td>\n",
       "    </tr>\n",
       "    <tr>\n",
       "      <th>1768</th>\n",
       "      <td>41425</td>\n",
       "      <td>'No changes in weight'</td>\n",
       "      <td>'469 489'</td>\n",
       "      <td>405</td>\n",
       "      <td>469</td>\n",
       "      <td>489</td>\n",
       "      <td>4</td>\n",
       "      <td>45 Y/O woman complains of nervousness for the ...</td>\n",
       "      <td>No change in weight</td>\n",
       "      <td>45 Y O woman complains of nervousness for the ...</td>\n",
       "      <td>&lt;re.Match object; span=(458, 477), match='No c...</td>\n",
       "    </tr>\n",
       "  </tbody>\n",
       "</table>\n",
       "<p>1700 rows × 11 columns</p>\n",
       "</div>"
      ],
      "text/plain": [
       "      pn_num                  annotation            location  feature_num  \\\n",
       "0      40045       'denies palpitations'   '468 474;491 503'          400   \n",
       "1      40045            'denies tremors'   '468 474;546 553'          400   \n",
       "2      40045          'denies sweatness'   '468 474;505 514'          400   \n",
       "3      40045               'nervousness'             '52 63'          401   \n",
       "4      40045               'nervousness'             '82 93'          401   \n",
       "...      ...                         ...                 ...          ...   \n",
       "1764   43277         'no weight changes'           '618 635'          405   \n",
       "1765   41657      'no changes in weight'           '472 492'          405   \n",
       "1766   45084  'Denies changes in weight'           '731 755'          405   \n",
       "1767   43093        'Denies weight loss'           '329 347'          405   \n",
       "1768   41425      'No changes in weight'           '469 489'          405   \n",
       "\n",
       "     start_location end_location  case_num  \\\n",
       "0               468          503         4   \n",
       "1               468          553         4   \n",
       "2               468          514         4   \n",
       "3                52           63         4   \n",
       "4                82           93         4   \n",
       "...             ...          ...       ...   \n",
       "1764            618          635         4   \n",
       "1765            472          492         4   \n",
       "1766            731          755         4   \n",
       "1767            329          347         4   \n",
       "1768            469          489         4   \n",
       "\n",
       "                                             pn_history  \\\n",
       "0     Mrs. Moore is a 45 year old female presenting ...   \n",
       "1     Mrs. Moore is a 45 year old female presenting ...   \n",
       "2     Mrs. Moore is a 45 year old female presenting ...   \n",
       "3     Mrs. Moore is a 45 year old female presenting ...   \n",
       "4     Mrs. Moore is a 45 year old female presenting ...   \n",
       "...                                                 ...   \n",
       "1764  45 y o f c/o of episodes of irriitabilty for f...   \n",
       "1765  HPI 45 yo female presented complainnig of nerv...   \n",
       "1766  Karin Moore is a 45 yo white F with complaint ...   \n",
       "1767  Pt 45 yo F c/o nervousness for the last 3 week...   \n",
       "1768  45 Y/O woman complains of nervousness for the ...   \n",
       "\n",
       "                                         New_annotation  \\\n",
       "0                     denies any depression palpitation   \n",
       "1     denies any depression palpitation sweatness pa...   \n",
       "2           denies any depression palpitation sweatness   \n",
       "3                                           nervousness   \n",
       "4                                           nervousness   \n",
       "...                                                 ...   \n",
       "1764                                   no weight change   \n",
       "1765                                no change in weight   \n",
       "1766                            Denies change in weight   \n",
       "1767                                 Denies weight loss   \n",
       "1768                                No change in weight   \n",
       "\n",
       "                                         New_pn_history  \\\n",
       "0     Mrs. Moore is a 45 year old female presenting ...   \n",
       "1     Mrs. Moore is a 45 year old female presenting ...   \n",
       "2     Mrs. Moore is a 45 year old female presenting ...   \n",
       "3     Mrs. Moore is a 45 year old female presenting ...   \n",
       "4     Mrs. Moore is a 45 year old female presenting ...   \n",
       "...                                                 ...   \n",
       "1764  45 y o f c o of episode of irriitabilty for fe...   \n",
       "1765  HPI 45 yo female presented complainnig of nerv...   \n",
       "1766  Karin Moore is a 45 yo white F with complaint ...   \n",
       "1767  Pt 45 yo F c o nervousness for the last 3 week...   \n",
       "1768  45 Y O woman complains of nervousness for the ...   \n",
       "\n",
       "                                           new_location  \n",
       "0     <re.Match object; span=(461, 494), match='deni...  \n",
       "1     <re.Match object; span=(461, 539), match='deni...  \n",
       "2     <re.Match object; span=(461, 504), match='deni...  \n",
       "3     <re.Match object; span=(51, 62), match='nervou...  \n",
       "4     <re.Match object; span=(51, 62), match='nervou...  \n",
       "...                                                 ...  \n",
       "1764  <re.Match object; span=(596, 612), match='no w...  \n",
       "1765  <re.Match object; span=(464, 483), match='no c...  \n",
       "1766  <re.Match object; span=(726, 749), match='Deni...  \n",
       "1767  <re.Match object; span=(324, 342), match='Deni...  \n",
       "1768  <re.Match object; span=(458, 477), match='No c...  \n",
       "\n",
       "[1700 rows x 11 columns]"
      ]
     },
     "execution_count": 117,
     "metadata": {},
     "output_type": "execute_result"
    }
   ],
   "source": [
    "case_4 = case_4.drop(drop_index,axis = 0)\n",
    "case_4"
   ]
  },
  {
   "cell_type": "code",
   "execution_count": 118,
   "id": "670eb868",
   "metadata": {},
   "outputs": [
    {
     "data": {
      "text/html": [
       "<div>\n",
       "<style scoped>\n",
       "    .dataframe tbody tr th:only-of-type {\n",
       "        vertical-align: middle;\n",
       "    }\n",
       "\n",
       "    .dataframe tbody tr th {\n",
       "        vertical-align: top;\n",
       "    }\n",
       "\n",
       "    .dataframe thead th {\n",
       "        text-align: right;\n",
       "    }\n",
       "</style>\n",
       "<table border=\"1\" class=\"dataframe\">\n",
       "  <thead>\n",
       "    <tr style=\"text-align: right;\">\n",
       "      <th></th>\n",
       "      <th>pn_num</th>\n",
       "      <th>annotation</th>\n",
       "      <th>location</th>\n",
       "      <th>feature_num</th>\n",
       "      <th>start_location</th>\n",
       "      <th>end_location</th>\n",
       "      <th>case_num</th>\n",
       "      <th>pn_history</th>\n",
       "      <th>New_annotation</th>\n",
       "      <th>New_pn_history</th>\n",
       "      <th>new_location</th>\n",
       "    </tr>\n",
       "  </thead>\n",
       "  <tbody>\n",
       "    <tr>\n",
       "      <th>0</th>\n",
       "      <td>40045</td>\n",
       "      <td>'denies palpitations'</td>\n",
       "      <td>'468 474;491 503'</td>\n",
       "      <td>400</td>\n",
       "      <td>461</td>\n",
       "      <td>494</td>\n",
       "      <td>4</td>\n",
       "      <td>Mrs. Moore is a 45 year old female presenting ...</td>\n",
       "      <td>denies any depression palpitation</td>\n",
       "      <td>Mrs. Moore is a 45 year old female presenting ...</td>\n",
       "      <td>&lt;re.Match object; span=(461, 494), match='deni...</td>\n",
       "    </tr>\n",
       "    <tr>\n",
       "      <th>1</th>\n",
       "      <td>40045</td>\n",
       "      <td>'denies tremors'</td>\n",
       "      <td>'468 474;546 553'</td>\n",
       "      <td>400</td>\n",
       "      <td>461</td>\n",
       "      <td>539</td>\n",
       "      <td>4</td>\n",
       "      <td>Mrs. Moore is a 45 year old female presenting ...</td>\n",
       "      <td>denies any depression palpitation sweatness pa...</td>\n",
       "      <td>Mrs. Moore is a 45 year old female presenting ...</td>\n",
       "      <td>&lt;re.Match object; span=(461, 539), match='deni...</td>\n",
       "    </tr>\n",
       "    <tr>\n",
       "      <th>2</th>\n",
       "      <td>40045</td>\n",
       "      <td>'denies sweatness'</td>\n",
       "      <td>'468 474;505 514'</td>\n",
       "      <td>400</td>\n",
       "      <td>461</td>\n",
       "      <td>504</td>\n",
       "      <td>4</td>\n",
       "      <td>Mrs. Moore is a 45 year old female presenting ...</td>\n",
       "      <td>denies any depression palpitation sweatness</td>\n",
       "      <td>Mrs. Moore is a 45 year old female presenting ...</td>\n",
       "      <td>&lt;re.Match object; span=(461, 504), match='deni...</td>\n",
       "    </tr>\n",
       "    <tr>\n",
       "      <th>3</th>\n",
       "      <td>40045</td>\n",
       "      <td>'nervousness'</td>\n",
       "      <td>'52 63'</td>\n",
       "      <td>401</td>\n",
       "      <td>51</td>\n",
       "      <td>62</td>\n",
       "      <td>4</td>\n",
       "      <td>Mrs. Moore is a 45 year old female presenting ...</td>\n",
       "      <td>nervousness</td>\n",
       "      <td>Mrs. Moore is a 45 year old female presenting ...</td>\n",
       "      <td>&lt;re.Match object; span=(51, 62), match='nervou...</td>\n",
       "    </tr>\n",
       "    <tr>\n",
       "      <th>4</th>\n",
       "      <td>40045</td>\n",
       "      <td>'nervousness'</td>\n",
       "      <td>'82 93'</td>\n",
       "      <td>401</td>\n",
       "      <td>51</td>\n",
       "      <td>62</td>\n",
       "      <td>4</td>\n",
       "      <td>Mrs. Moore is a 45 year old female presenting ...</td>\n",
       "      <td>nervousness</td>\n",
       "      <td>Mrs. Moore is a 45 year old female presenting ...</td>\n",
       "      <td>&lt;re.Match object; span=(51, 62), match='nervou...</td>\n",
       "    </tr>\n",
       "    <tr>\n",
       "      <th>...</th>\n",
       "      <td>...</td>\n",
       "      <td>...</td>\n",
       "      <td>...</td>\n",
       "      <td>...</td>\n",
       "      <td>...</td>\n",
       "      <td>...</td>\n",
       "      <td>...</td>\n",
       "      <td>...</td>\n",
       "      <td>...</td>\n",
       "      <td>...</td>\n",
       "      <td>...</td>\n",
       "    </tr>\n",
       "    <tr>\n",
       "      <th>1764</th>\n",
       "      <td>43277</td>\n",
       "      <td>'no weight changes'</td>\n",
       "      <td>'618 635'</td>\n",
       "      <td>405</td>\n",
       "      <td>596</td>\n",
       "      <td>612</td>\n",
       "      <td>4</td>\n",
       "      <td>45 y o f c/o of episodes of irriitabilty for f...</td>\n",
       "      <td>no weight change</td>\n",
       "      <td>45 y o f c o of episode of irriitabilty for fe...</td>\n",
       "      <td>&lt;re.Match object; span=(596, 612), match='no w...</td>\n",
       "    </tr>\n",
       "    <tr>\n",
       "      <th>1765</th>\n",
       "      <td>41657</td>\n",
       "      <td>'no changes in weight'</td>\n",
       "      <td>'472 492'</td>\n",
       "      <td>405</td>\n",
       "      <td>464</td>\n",
       "      <td>483</td>\n",
       "      <td>4</td>\n",
       "      <td>HPI 45 yo female presented complainnig of nerv...</td>\n",
       "      <td>no change in weight</td>\n",
       "      <td>HPI 45 yo female presented complainnig of nerv...</td>\n",
       "      <td>&lt;re.Match object; span=(464, 483), match='no c...</td>\n",
       "    </tr>\n",
       "    <tr>\n",
       "      <th>1766</th>\n",
       "      <td>45084</td>\n",
       "      <td>'Denies changes in weight'</td>\n",
       "      <td>'731 755'</td>\n",
       "      <td>405</td>\n",
       "      <td>726</td>\n",
       "      <td>749</td>\n",
       "      <td>4</td>\n",
       "      <td>Karin Moore is a 45 yo white F with complaint ...</td>\n",
       "      <td>Denies change in weight</td>\n",
       "      <td>Karin Moore is a 45 yo white F with complaint ...</td>\n",
       "      <td>&lt;re.Match object; span=(726, 749), match='Deni...</td>\n",
       "    </tr>\n",
       "    <tr>\n",
       "      <th>1767</th>\n",
       "      <td>43093</td>\n",
       "      <td>'Denies weight loss'</td>\n",
       "      <td>'329 347'</td>\n",
       "      <td>405</td>\n",
       "      <td>324</td>\n",
       "      <td>342</td>\n",
       "      <td>4</td>\n",
       "      <td>Pt 45 yo F c/o nervousness for the last 3 week...</td>\n",
       "      <td>Denies weight loss</td>\n",
       "      <td>Pt 45 yo F c o nervousness for the last 3 week...</td>\n",
       "      <td>&lt;re.Match object; span=(324, 342), match='Deni...</td>\n",
       "    </tr>\n",
       "    <tr>\n",
       "      <th>1768</th>\n",
       "      <td>41425</td>\n",
       "      <td>'No changes in weight'</td>\n",
       "      <td>'469 489'</td>\n",
       "      <td>405</td>\n",
       "      <td>458</td>\n",
       "      <td>477</td>\n",
       "      <td>4</td>\n",
       "      <td>45 Y/O woman complains of nervousness for the ...</td>\n",
       "      <td>No change in weight</td>\n",
       "      <td>45 Y O woman complains of nervousness for the ...</td>\n",
       "      <td>&lt;re.Match object; span=(458, 477), match='No c...</td>\n",
       "    </tr>\n",
       "  </tbody>\n",
       "</table>\n",
       "<p>1700 rows × 11 columns</p>\n",
       "</div>"
      ],
      "text/plain": [
       "      pn_num                  annotation            location  feature_num  \\\n",
       "0      40045       'denies palpitations'   '468 474;491 503'          400   \n",
       "1      40045            'denies tremors'   '468 474;546 553'          400   \n",
       "2      40045          'denies sweatness'   '468 474;505 514'          400   \n",
       "3      40045               'nervousness'             '52 63'          401   \n",
       "4      40045               'nervousness'             '82 93'          401   \n",
       "...      ...                         ...                 ...          ...   \n",
       "1764   43277         'no weight changes'           '618 635'          405   \n",
       "1765   41657      'no changes in weight'           '472 492'          405   \n",
       "1766   45084  'Denies changes in weight'           '731 755'          405   \n",
       "1767   43093        'Denies weight loss'           '329 347'          405   \n",
       "1768   41425      'No changes in weight'           '469 489'          405   \n",
       "\n",
       "      start_location  end_location  case_num  \\\n",
       "0                461           494         4   \n",
       "1                461           539         4   \n",
       "2                461           504         4   \n",
       "3                 51            62         4   \n",
       "4                 51            62         4   \n",
       "...              ...           ...       ...   \n",
       "1764             596           612         4   \n",
       "1765             464           483         4   \n",
       "1766             726           749         4   \n",
       "1767             324           342         4   \n",
       "1768             458           477         4   \n",
       "\n",
       "                                             pn_history  \\\n",
       "0     Mrs. Moore is a 45 year old female presenting ...   \n",
       "1     Mrs. Moore is a 45 year old female presenting ...   \n",
       "2     Mrs. Moore is a 45 year old female presenting ...   \n",
       "3     Mrs. Moore is a 45 year old female presenting ...   \n",
       "4     Mrs. Moore is a 45 year old female presenting ...   \n",
       "...                                                 ...   \n",
       "1764  45 y o f c/o of episodes of irriitabilty for f...   \n",
       "1765  HPI 45 yo female presented complainnig of nerv...   \n",
       "1766  Karin Moore is a 45 yo white F with complaint ...   \n",
       "1767  Pt 45 yo F c/o nervousness for the last 3 week...   \n",
       "1768  45 Y/O woman complains of nervousness for the ...   \n",
       "\n",
       "                                         New_annotation  \\\n",
       "0                     denies any depression palpitation   \n",
       "1     denies any depression palpitation sweatness pa...   \n",
       "2           denies any depression palpitation sweatness   \n",
       "3                                           nervousness   \n",
       "4                                           nervousness   \n",
       "...                                                 ...   \n",
       "1764                                   no weight change   \n",
       "1765                                no change in weight   \n",
       "1766                            Denies change in weight   \n",
       "1767                                 Denies weight loss   \n",
       "1768                                No change in weight   \n",
       "\n",
       "                                         New_pn_history  \\\n",
       "0     Mrs. Moore is a 45 year old female presenting ...   \n",
       "1     Mrs. Moore is a 45 year old female presenting ...   \n",
       "2     Mrs. Moore is a 45 year old female presenting ...   \n",
       "3     Mrs. Moore is a 45 year old female presenting ...   \n",
       "4     Mrs. Moore is a 45 year old female presenting ...   \n",
       "...                                                 ...   \n",
       "1764  45 y o f c o of episode of irriitabilty for fe...   \n",
       "1765  HPI 45 yo female presented complainnig of nerv...   \n",
       "1766  Karin Moore is a 45 yo white F with complaint ...   \n",
       "1767  Pt 45 yo F c o nervousness for the last 3 week...   \n",
       "1768  45 Y O woman complains of nervousness for the ...   \n",
       "\n",
       "                                           new_location  \n",
       "0     <re.Match object; span=(461, 494), match='deni...  \n",
       "1     <re.Match object; span=(461, 539), match='deni...  \n",
       "2     <re.Match object; span=(461, 504), match='deni...  \n",
       "3     <re.Match object; span=(51, 62), match='nervou...  \n",
       "4     <re.Match object; span=(51, 62), match='nervou...  \n",
       "...                                                 ...  \n",
       "1764  <re.Match object; span=(596, 612), match='no w...  \n",
       "1765  <re.Match object; span=(464, 483), match='no c...  \n",
       "1766  <re.Match object; span=(726, 749), match='Deni...  \n",
       "1767  <re.Match object; span=(324, 342), match='Deni...  \n",
       "1768  <re.Match object; span=(458, 477), match='No c...  \n",
       "\n",
       "[1700 rows x 11 columns]"
      ]
     },
     "execution_count": 118,
     "metadata": {},
     "output_type": "execute_result"
    }
   ],
   "source": [
    "case_4[\"start_location\"] = case_4.apply(lambda x :re.search(r'\\b' + x.New_annotation + r'\\b', x.New_pn_history).start(),axis =1)\n",
    "case_4[\"end_location\"] = case_4.apply(lambda x :re.search(r'\\b' + x.New_annotation + r'\\b', x.New_pn_history).end(),axis =1)\n",
    "case_4"
   ]
  },
  {
   "cell_type": "markdown",
   "id": "1471a23d",
   "metadata": {},
   "source": [
    "### Feature 400"
   ]
  },
  {
   "cell_type": "code",
   "execution_count": 119,
   "id": "a34b196f",
   "metadata": {},
   "outputs": [
    {
     "data": {
      "text/plain": [
       "(292, 11)"
      ]
     },
     "execution_count": 119,
     "metadata": {},
     "output_type": "execute_result"
    }
   ],
   "source": [
    "case_4_400 = case_4[case_4[\"feature_num\"] == 400]\n",
    "case_4_400.shape"
   ]
  },
  {
   "cell_type": "code",
   "execution_count": 120,
   "id": "19a36ea0",
   "metadata": {},
   "outputs": [],
   "source": [
    "drop_400 = [0,2,12,13,14,15,25,44,45,46,85,98,99,625,108,109,110,120,121,122,145,154,155,156,173,187,188,189,190,220,221,\n",
    "           235,414,415,259,260,261,262,288,301,302,324,350,351,365,391,392,393,394,427,428,445,446,456,457,471,472,473,474,\n",
    "            475,476,489,490,491,501,502,514,591,521,522,523,540,541,542,543,859,554,555,556,557,569,582,583,599,611,647,\n",
    "           662,663,664,707,708,717,718,729,746,753,755,756,776,777,787,788,789,805,824,825,826,827,852,880,930,943,944,945,\n",
    "            946,947,978,987,993,994,1018,1019,1028,1029,1031,1032,1033,1044,1064,1065,1066,1067,1084,1104,1115,1117,1126]"
   ]
  },
  {
   "cell_type": "code",
   "execution_count": 121,
   "id": "659259f7",
   "metadata": {},
   "outputs": [],
   "source": [
    "case_4_400 = case_4_400.drop(drop_400)"
   ]
  },
  {
   "cell_type": "code",
   "execution_count": 122,
   "id": "f5e8f698",
   "metadata": {},
   "outputs": [
    {
     "data": {
      "text/plain": [
       "(108, 28)"
      ]
     },
     "execution_count": 122,
     "metadata": {},
     "output_type": "execute_result"
    }
   ],
   "source": [
    "pn_Num_list = list(case_4_400.pn_num.unique())\n",
    "\n",
    "final_train = []   # appending all the individual rows\n",
    "for patient_number in pn_Num_list:  # for each unique patient number\n",
    "    entities = []  # saving individaual entities locations\n",
    "    for row_index,row in case_4_400[case_4_400.pn_num == patient_number].iterrows():  # for each unique patient number \n",
    "        \n",
    "        entities.append((int(row[\"start_location\"]),int(row[\"end_location\"]),\"Feature_\" + str(row[\"feature_num\"]))) # store the locations in numeric format\n",
    "        \n",
    "    text = case_4_400[case_4_400.pn_num == patient_number][\"New_pn_history\"].values[0] # save the text for the unique patient number\n",
    "    \n",
    "    final_train.append((text,{\"entities\":entities}))  # for each unique pn_number append to final list\n",
    "    \n",
    "# Serializing json \n",
    "json_object = json.dumps(final_train, indent = 4)\n",
    "  \n",
    "# Writing to sample.json\n",
    "with open(\"sample_400.json\", \"w\") as outfile:\n",
    "    outfile.write(json_object)\n",
    "    \n",
    "# Opening JSON file\n",
    "f = open(\"sample_400.json\")\n",
    " \n",
    "# returns JSON object as\n",
    "# a dictionary\n",
    "data = json.load(f)\n",
    "\n",
    "nlp = spacy.blank(\"en\")\n",
    "def create_training(TRAIN_DATA):\n",
    "    db = DocBin()\n",
    "    for text, annot in tqdm(TRAIN_DATA):\n",
    "        doc = nlp.make_doc(text)\n",
    "        ents = []\n",
    "        for start, end, label in annot[\"entities\"]:\n",
    "            span = doc.char_span(start, end, label=label, alignment_mode=\"contract\")\n",
    "            if span is None:\n",
    "                print (\"Skipping entity\")\n",
    "            else:\n",
    "                ents.append(span)\n",
    "        doc.ents = ents\n",
    "        db.add(doc)\n",
    "    return (db)\n",
    "\n",
    "n = int(len(data)*0.8)\n",
    "\n",
    "train = data[:n]\n",
    "validation = data[n:]\n",
    "len(train),len(validation)"
   ]
  },
  {
   "cell_type": "code",
   "execution_count": 123,
   "id": "5dcff6ff",
   "metadata": {
    "scrolled": true
   },
   "outputs": [
    {
     "name": "stderr",
     "output_type": "stream",
     "text": [
      "100%|███████████████████████████████████████████████████████████████████████████████| 108/108 [00:00<00:00, 209.00it/s]"
     ]
    },
    {
     "name": "stdout",
     "output_type": "stream",
     "text": [
      "Skipping entity\n",
      "Skipping entity\n",
      "Skipping entity\n",
      "Skipping entity\n",
      "Skipping entity\n",
      "Skipping entity\n",
      "Skipping entity\n",
      "Skipping entity\n"
     ]
    },
    {
     "name": "stderr",
     "output_type": "stream",
     "text": [
      "\n"
     ]
    }
   ],
   "source": [
    "#train data set\n",
    "camp_train = create_training(train)\n",
    "camp_train.to_disk(\"nbme_train_400.spacy\")"
   ]
  },
  {
   "cell_type": "code",
   "execution_count": 124,
   "id": "d5ae89a8",
   "metadata": {},
   "outputs": [
    {
     "data": {
      "text/html": [
       "<div>\n",
       "<style scoped>\n",
       "    .dataframe tbody tr th:only-of-type {\n",
       "        vertical-align: middle;\n",
       "    }\n",
       "\n",
       "    .dataframe tbody tr th {\n",
       "        vertical-align: top;\n",
       "    }\n",
       "\n",
       "    .dataframe thead th {\n",
       "        text-align: right;\n",
       "    }\n",
       "</style>\n",
       "<table border=\"1\" class=\"dataframe\">\n",
       "  <thead>\n",
       "    <tr style=\"text-align: right;\">\n",
       "      <th></th>\n",
       "      <th>pn_num</th>\n",
       "      <th>annotation</th>\n",
       "      <th>location</th>\n",
       "      <th>feature_num</th>\n",
       "      <th>start_location</th>\n",
       "      <th>end_location</th>\n",
       "      <th>case_num</th>\n",
       "      <th>pn_history</th>\n",
       "      <th>New_annotation</th>\n",
       "      <th>New_pn_history</th>\n",
       "      <th>new_location</th>\n",
       "    </tr>\n",
       "  </thead>\n",
       "  <tbody>\n",
       "    <tr>\n",
       "      <th>1127</th>\n",
       "      <td>45497</td>\n",
       "      <td>'denies changes in gastrointestinal patterns'</td>\n",
       "      <td>'494 500;512 548'</td>\n",
       "      <td>400</td>\n",
       "      <td>485</td>\n",
       "      <td>535</td>\n",
       "      <td>4</td>\n",
       "      <td>Ms. Moore is a 45 year old, previously healthy...</td>\n",
       "      <td>denies headache change in gastrointestinal pat...</td>\n",
       "      <td>Ms. Moore is a 45 year old previously healthy ...</td>\n",
       "      <td>&lt;re.Match object; span=(485, 535), match='deni...</td>\n",
       "    </tr>\n",
       "  </tbody>\n",
       "</table>\n",
       "</div>"
      ],
      "text/plain": [
       "      pn_num                                      annotation  \\\n",
       "1127   45497   'denies changes in gastrointestinal patterns'   \n",
       "\n",
       "                location  feature_num  start_location  end_location  case_num  \\\n",
       "1127   '494 500;512 548'          400             485           535         4   \n",
       "\n",
       "                                             pn_history  \\\n",
       "1127  Ms. Moore is a 45 year old, previously healthy...   \n",
       "\n",
       "                                         New_annotation  \\\n",
       "1127  denies headache change in gastrointestinal pat...   \n",
       "\n",
       "                                         New_pn_history  \\\n",
       "1127  Ms. Moore is a 45 year old previously healthy ...   \n",
       "\n",
       "                                           new_location  \n",
       "1127  <re.Match object; span=(485, 535), match='deni...  "
      ]
     },
     "execution_count": 124,
     "metadata": {},
     "output_type": "execute_result"
    }
   ],
   "source": [
    "case_4_400[case_4_400.start_location == 485]"
   ]
  },
  {
   "cell_type": "code",
   "execution_count": 125,
   "id": "5d0128e3",
   "metadata": {},
   "outputs": [
    {
     "name": "stderr",
     "output_type": "stream",
     "text": [
      "100%|█████████████████████████████████████████████████████████████████████████████████| 28/28 [00:00<00:00, 384.43it/s]"
     ]
    },
    {
     "name": "stdout",
     "output_type": "stream",
     "text": [
      "Skipping entity\n",
      "Skipping entity\n",
      "Skipping entity\n",
      "Skipping entity\n",
      "Skipping entity\n",
      "Skipping entity\n",
      "Skipping entity\n",
      "Skipping entity\n",
      "Skipping entity\n"
     ]
    },
    {
     "name": "stderr",
     "output_type": "stream",
     "text": [
      "\n"
     ]
    }
   ],
   "source": [
    "#Validation data set\n",
    "camp_validation = create_training(validation)\n",
    "camp_validation.to_disk(\"nbme_validation_400.spacy\")"
   ]
  },
  {
   "cell_type": "code",
   "execution_count": 126,
   "id": "b5fa7257",
   "metadata": {},
   "outputs": [
    {
     "name": "stdout",
     "output_type": "stream",
     "text": [
      "[+] Auto-filled config with all values\n",
      "[+] Saved config\n",
      "config_400.cfg\n",
      "You can now add your data and train your pipeline:\n",
      "python -m spacy train config_400.cfg --paths.train ./train.spacy --paths.dev ./dev.spacy\n"
     ]
    },
    {
     "name": "stderr",
     "output_type": "stream",
     "text": [
      "2022-05-09 15:20:57.806905: W tensorflow/stream_executor/platform/default/dso_loader.cc:64] Could not load dynamic library 'cudart64_110.dll'; dlerror: cudart64_110.dll not found\n",
      "2022-05-09 15:20:57.807120: I tensorflow/stream_executor/cuda/cudart_stub.cc:29] Ignore above cudart dlerror if you do not have a GPU set up on your machine.\n"
     ]
    }
   ],
   "source": [
    "!python -m spacy init fill-config ./base_config_400.cfg ./config_400.cfg"
   ]
  },
  {
   "cell_type": "code",
   "execution_count": 127,
   "id": "b3c4dc41",
   "metadata": {},
   "outputs": [
    {
     "name": "stdout",
     "output_type": "stream",
     "text": [
      "[i] Saving to output directory: output_400\n",
      "[i] Using CPU\n",
      "\u001b[1m\n",
      "=========================== Initializing pipeline ===========================\u001b[0m\n",
      "[+] Initialized pipeline\n",
      "\u001b[1m\n",
      "============================= Training pipeline =============================\u001b[0m\n",
      "[i] Pipeline: ['tok2vec', 'ner']\n",
      "[i] Initial learn rate: 0.001\n",
      "E    #       LOSS TOK2VEC  LOSS NER  ENTS_F  ENTS_P  ENTS_R  SCORE \n",
      "---  ------  ------------  --------  ------  ------  ------  ------\n",
      "  0       0          0.00     59.17    0.00    0.00    0.00    0.00\n",
      "  1     200       4145.81   2108.45   18.87   14.71   26.32    0.19\n",
      "  3     400         41.24    340.20   22.86   15.69   42.11    0.23\n",
      "  5     600         99.49    249.04   24.32   16.36   47.37    0.24\n",
      "  7     800        104.04    142.94   31.37   25.00   42.11    0.31\n",
      "  9    1000         92.49     93.00   30.77   24.24   42.11    0.31\n",
      " 11    1200        114.75     78.94   26.23   19.05   42.11    0.26\n",
      " 12    1400        105.40     57.45   35.62   24.07   68.42    0.36\n",
      " 14    1600         84.79     33.78   35.29   28.12   47.37    0.35\n",
      " 16    1800        106.80     36.47   33.33   24.39   52.63    0.33\n",
      " 19    2000        139.57     49.01   38.46   30.30   52.63    0.38\n",
      " 23    2200        218.13     50.71   26.47   18.37   47.37    0.26\n",
      " 28    2400       1383.64     49.61   30.77   24.24   42.11    0.31\n",
      " 34    2600        281.04     42.32   29.03   20.93   47.37    0.29\n",
      " 42    2800        231.87     39.10   29.51   21.43   47.37    0.30\n",
      " 51    3000        342.98     49.49   23.19   16.00   42.11    0.23\n",
      " 62    3200        476.71     29.65   31.03   23.08   47.37    0.31\n",
      " 73    3400        254.94     44.19   41.67   34.48   52.63    0.42\n",
      " 84    3600        275.07     33.98   34.48   25.64   52.63    0.34\n",
      " 95    3800         62.98      8.73   32.14   24.32   47.37    0.32\n",
      "107    4000         47.56      5.12   40.00   30.56   57.89    0.40\n",
      "118    4200          9.63      1.51   35.29   28.12   47.37    0.35\n",
      "129    4400        250.27     18.54   33.33   25.71   47.37    0.33\n",
      "140    4600        258.56     21.56   23.88   16.67   42.11    0.24\n",
      "151    4800        137.10     11.91   26.09   18.00   47.37    0.26\n",
      "162    5000        313.26     11.90   29.51   21.43   47.37    0.30\n",
      "[+] Saved pipeline to output directory\n",
      "output_400\\model-last\n"
     ]
    },
    {
     "name": "stderr",
     "output_type": "stream",
     "text": [
      "2022-05-09 15:21:45.268181: W tensorflow/stream_executor/platform/default/dso_loader.cc:64] Could not load dynamic library 'cudart64_110.dll'; dlerror: cudart64_110.dll not found\n",
      "2022-05-09 15:21:45.268233: I tensorflow/stream_executor/cuda/cudart_stub.cc:29] Ignore above cudart dlerror if you do not have a GPU set up on your machine.\n",
      "[2022-05-09 15:21:51,383] [INFO] Set up nlp object from config\n",
      "[2022-05-09 15:21:51,398] [INFO] Pipeline: ['tok2vec', 'ner']\n",
      "[2022-05-09 15:21:51,403] [INFO] Created vocabulary\n",
      "[2022-05-09 15:21:51,479] [INFO] Finished initializing nlp object\n",
      "[2022-05-09 15:21:52,771] [INFO] Initialized pipeline components: ['tok2vec', 'ner']\n"
     ]
    }
   ],
   "source": [
    "!python -m spacy train config_400.cfg --output ./output_400"
   ]
  },
  {
   "cell_type": "code",
   "execution_count": null,
   "id": "13af63d8",
   "metadata": {},
   "outputs": [],
   "source": []
  },
  {
   "cell_type": "markdown",
   "id": "cab50c96",
   "metadata": {},
   "source": [
    "### Feature 401"
   ]
  },
  {
   "cell_type": "code",
   "execution_count": 236,
   "id": "b27ff1e7",
   "metadata": {},
   "outputs": [
    {
     "data": {
      "text/plain": [
       "(227, 11)"
      ]
     },
     "execution_count": 236,
     "metadata": {},
     "output_type": "execute_result"
    }
   ],
   "source": [
    "case_4_401 = case_4[case_4[\"feature_num\"] == 401]\n",
    "case_4_401.shape"
   ]
  },
  {
   "cell_type": "code",
   "execution_count": 237,
   "id": "f82f3816",
   "metadata": {},
   "outputs": [],
   "source": [
    "drop_401 = [4,5,135,1035,35,210,721,48,76,147,207,317,971,289,459,329,417,431,449,949,328,792,336,614,615,367,733,735,\n",
    "           559,560,573,593,601,652,653,697,699,748,768,830,831,832,869,870,893,894,895,896,970,1011,1013,1057,1058,\n",
    "           1109,1108,1107,1106,1130,950,1086,1087]"
   ]
  },
  {
   "cell_type": "code",
   "execution_count": 238,
   "id": "b2ddc059",
   "metadata": {},
   "outputs": [],
   "source": [
    "case_4_401 = case_4_401.drop(drop_401)"
   ]
  },
  {
   "cell_type": "code",
   "execution_count": 239,
   "id": "cd5b35ed",
   "metadata": {},
   "outputs": [
    {
     "data": {
      "text/plain": [
       "(80, 20)"
      ]
     },
     "execution_count": 239,
     "metadata": {},
     "output_type": "execute_result"
    }
   ],
   "source": [
    "pn_Num_list = list(case_4_401.pn_num.unique())\n",
    "\n",
    "final_train = []   # appending all the individual rows\n",
    "for patient_number in pn_Num_list:  # for each unique patient number\n",
    "    entities = []  # saving individaual entities locations\n",
    "    for row_index,row in case_4_401[case_4_401.pn_num == patient_number].iterrows():  # for each unique patient number \n",
    "        \n",
    "        entities.append((int(row[\"start_location\"]),int(row[\"end_location\"]),\"Feature_\" + str(row[\"feature_num\"]))) # store the locations in numeric format\n",
    "        \n",
    "    text = case_4_401[case_4_401.pn_num == patient_number][\"New_pn_history\"].values[0] # save the text for the unique patient number\n",
    "    \n",
    "    final_train.append((text,{\"entities\":entities}))  # for each unique pn_number append to final list\n",
    "\n",
    "# Serializing json \n",
    "json_object = json.dumps(final_train, indent = 4)\n",
    "  \n",
    "# Writing to sample.json\n",
    "with open(\"sample_401.json\", \"w\") as outfile:\n",
    "    outfile.write(json_object)\n",
    "    \n",
    "# Opening JSON file\n",
    "f = open(\"sample_401.json\")\n",
    " \n",
    "# returns JSON object as\n",
    "# a dictionary\n",
    "data = json.load(f)\n",
    "\n",
    "nlp = spacy.blank(\"en\")\n",
    "def create_training(TRAIN_DATA):\n",
    "    db = DocBin()\n",
    "    for text, annot in tqdm(TRAIN_DATA):\n",
    "        doc = nlp.make_doc(text)\n",
    "        ents = []\n",
    "        for start, end, label in annot[\"entities\"]:\n",
    "            span = doc.char_span(start, end, label=label, alignment_mode=\"contract\")\n",
    "            if span is None:\n",
    "                print (\"Skipping entity\")\n",
    "            else:\n",
    "                ents.append(span)\n",
    "        doc.ents = ents\n",
    "        db.add(doc)\n",
    "    return (db)\n",
    "\n",
    "n = int(len(data)*0.8)\n",
    "\n",
    "train = data[:n]\n",
    "validation = data[n:]\n",
    "len(train),len(validation)"
   ]
  },
  {
   "cell_type": "code",
   "execution_count": 240,
   "id": "461ed404",
   "metadata": {},
   "outputs": [
    {
     "name": "stderr",
     "output_type": "stream",
     "text": [
      "100%|█████████████████████████████████████████████████████████████████████████████████| 80/80 [00:00<00:00, 317.05it/s]\n"
     ]
    }
   ],
   "source": [
    "#train data set\n",
    "camp_train = create_training(train)\n",
    "camp_train.to_disk(\"nbme_train_401.spacy\")"
   ]
  },
  {
   "cell_type": "code",
   "execution_count": null,
   "id": "38db847c",
   "metadata": {},
   "outputs": [],
   "source": []
  },
  {
   "cell_type": "code",
   "execution_count": 241,
   "id": "df653c58",
   "metadata": {},
   "outputs": [
    {
     "name": "stderr",
     "output_type": "stream",
     "text": [
      "100%|█████████████████████████████████████████████████████████████████████████████████| 20/20 [00:00<00:00, 455.74it/s]\n"
     ]
    }
   ],
   "source": [
    "#Validation data set\n",
    "camp_validation = create_training(validation)\n",
    "camp_validation.to_disk(\"nbme_validation_401.spacy\")"
   ]
  },
  {
   "cell_type": "code",
   "execution_count": 242,
   "id": "96cf78aa",
   "metadata": {},
   "outputs": [
    {
     "name": "stdout",
     "output_type": "stream",
     "text": [
      "[+] Auto-filled config with all values\n",
      "[+] Saved config\n",
      "config_401.cfg\n",
      "You can now add your data and train your pipeline:\n",
      "python -m spacy train config_401.cfg --paths.train ./train.spacy --paths.dev ./dev.spacy\n"
     ]
    },
    {
     "name": "stderr",
     "output_type": "stream",
     "text": [
      "2022-05-06 00:23:12.361710: W tensorflow/stream_executor/platform/default/dso_loader.cc:64] Could not load dynamic library 'cudart64_110.dll'; dlerror: cudart64_110.dll not found\n",
      "2022-05-06 00:23:12.361866: I tensorflow/stream_executor/cuda/cudart_stub.cc:29] Ignore above cudart dlerror if you do not have a GPU set up on your machine.\n"
     ]
    }
   ],
   "source": [
    "!python -m spacy init fill-config ./base_config_401.cfg ./config_401.cfg"
   ]
  },
  {
   "cell_type": "code",
   "execution_count": 243,
   "id": "03c50e19",
   "metadata": {},
   "outputs": [
    {
     "name": "stdout",
     "output_type": "stream",
     "text": [
      "[+] Created output directory: output_401\n",
      "[i] Saving to output directory: output_401\n",
      "[i] Using CPU\n",
      "\u001b[1m\n",
      "=========================== Initializing pipeline ===========================\u001b[0m\n",
      "[+] Initialized pipeline\n",
      "\u001b[1m\n",
      "============================= Training pipeline =============================\u001b[0m\n",
      "[i] Pipeline: ['tok2vec', 'ner']\n",
      "[i] Initial learn rate: 0.001\n",
      "E    #       LOSS TOK2VEC  LOSS NER  ENTS_F  ENTS_P  ENTS_R  SCORE \n",
      "---  ------  ------------  --------  ------  ------  ------  ------\n",
      "  0       0          0.00     64.33    0.34    0.18    2.70    0.00\n",
      "  2     200         38.12   1196.49   66.67   75.86   59.46    0.67\n",
      "  5     400         74.21    143.52   68.66   76.67   62.16    0.69"
     ]
    },
    {
     "name": "stderr",
     "output_type": "stream",
     "text": [
      "2022-05-06 00:24:06.563317: W tensorflow/stream_executor/platform/default/dso_loader.cc:64] Could not load dynamic library 'cudart64_110.dll'; dlerror: cudart64_110.dll not found\n",
      "2022-05-06 00:24:06.563369: I tensorflow/stream_executor/cuda/cudart_stub.cc:29] Ignore above cudart dlerror if you do not have a GPU set up on your machine.\n",
      "[2022-05-06 00:24:12,660] [INFO] Set up nlp object from config\n",
      "[2022-05-06 00:24:12,674] [INFO] Pipeline: ['tok2vec', 'ner']\n",
      "[2022-05-06 00:24:12,680] [INFO] Created vocabulary\n",
      "[2022-05-06 00:24:12,712] [INFO] Finished initializing nlp object\n",
      "[2022-05-06 00:24:13,918] [INFO] Initialized pipeline components: ['tok2vec', 'ner']\n"
     ]
    },
    {
     "name": "stdout",
     "output_type": "stream",
     "text": [
      "\n",
      "  7     600         50.43     63.77   66.67   75.86   59.46    0.67\n",
      " 10     800         60.17     58.54   70.27   70.27   70.27    0.70\n",
      " 12    1000         62.12     52.59   65.67   73.33   59.46    0.66\n",
      " 15    1200         59.26     44.24   59.26   94.12   43.24    0.59\n",
      " 17    1400         54.29     44.79   64.62   75.00   56.76    0.65\n",
      " 20    1600         30.91     34.27   71.43   75.76   67.57    0.71\n",
      " 22    1800        275.18     51.54   63.77   68.75   59.46    0.64\n",
      " 26    2000        143.32     59.26   67.50   62.79   72.97    0.68\n",
      " 31    2200         80.92     59.77   64.52   80.00   54.05    0.65\n",
      " 38    2400         65.24     45.22   63.89   65.71   62.16    0.64\n",
      " 46    2600        111.74     53.13   45.28   75.00   32.43    0.45\n",
      " 57    2800         64.18     54.25   60.71   89.47   45.95    0.61\n",
      " 69    3000         86.88     61.86   67.69   78.57   59.46    0.68\n",
      " 84    3200         38.74     60.33   69.84   84.62   59.46    0.70\n",
      "[+] Saved pipeline to output directory\n",
      "output_401\\model-last\n"
     ]
    }
   ],
   "source": [
    "!python -m spacy train config_401.cfg --output ./output_401"
   ]
  },
  {
   "cell_type": "code",
   "execution_count": null,
   "id": "f14a4061",
   "metadata": {},
   "outputs": [],
   "source": []
  },
  {
   "cell_type": "markdown",
   "id": "14cc0c32",
   "metadata": {},
   "source": [
    "### Feature 402"
   ]
  },
  {
   "cell_type": "code",
   "execution_count": 444,
   "id": "f0b6db62",
   "metadata": {
    "scrolled": true
   },
   "outputs": [
    {
     "data": {
      "text/plain": [
       "(203, 11)"
      ]
     },
     "execution_count": 444,
     "metadata": {},
     "output_type": "execute_result"
    }
   ],
   "source": [
    "case_4_402 = case_4[case_4[\"feature_num\"] == 402]\n",
    "case_4_402.shape"
   ]
  },
  {
   "cell_type": "code",
   "execution_count": 445,
   "id": "83db60b6",
   "metadata": {},
   "outputs": [],
   "source": [
    "drop_402 = [79,113,177,369,432,685,780,809,842,933,962,1255]"
   ]
  },
  {
   "cell_type": "code",
   "execution_count": 446,
   "id": "29c14d5d",
   "metadata": {},
   "outputs": [],
   "source": [
    "case_4_402 = case_4_402.drop(drop_402)"
   ]
  },
  {
   "cell_type": "code",
   "execution_count": 447,
   "id": "d32ee7ee",
   "metadata": {},
   "outputs": [
    {
     "data": {
      "text/plain": [
       "(148, 37)"
      ]
     },
     "execution_count": 447,
     "metadata": {},
     "output_type": "execute_result"
    }
   ],
   "source": [
    "pn_Num_list = list(case_4_402.pn_num.unique())\n",
    "\n",
    "final_train = []   # appending all the individual rows\n",
    "for patient_number in pn_Num_list:  # for each unique patient number\n",
    "    entities = []  # saving individaual entities locations\n",
    "    for row_index,row in case_4_402[case_4_402.pn_num == patient_number].iterrows():  # for each unique patient number \n",
    "        \n",
    "        entities.append((int(row[\"start_location\"]),int(row[\"end_location\"]),\"Feature_\" + str(row[\"feature_num\"]))) # store the locations in numeric format\n",
    "        \n",
    "    text = case_4_402[case_4_402.pn_num == patient_number][\"New_pn_history\"].values[0] # save the text for the unique patient number\n",
    "    \n",
    "    final_train.append((text,{\"entities\":entities}))  # for each unique pn_number append to final list\n",
    "\n",
    "# Serializing json \n",
    "json_object = json.dumps(final_train, indent = 4)\n",
    "  \n",
    "# Writing to sample.json\n",
    "with open(\"sample_402.json\", \"w\") as outfile:\n",
    "    outfile.write(json_object)\n",
    "    \n",
    "# Opening JSON file\n",
    "f = open(\"sample_402.json\")\n",
    " \n",
    "# returns JSON object as\n",
    "# a dictionary\n",
    "data = json.load(f)\n",
    "\n",
    "nlp = spacy.blank(\"en\")\n",
    "def create_training(TRAIN_DATA):\n",
    "    db = DocBin()\n",
    "    for text, annot in tqdm(TRAIN_DATA):\n",
    "        doc = nlp.make_doc(text)\n",
    "        ents = []\n",
    "        for start, end, label in annot[\"entities\"]:\n",
    "            span = doc.char_span(start, end, label=label, alignment_mode=\"contract\")\n",
    "            if span is None:\n",
    "                print (\"Skipping entity\")\n",
    "            else:\n",
    "                ents.append(span)\n",
    "        doc.ents = ents\n",
    "        db.add(doc)\n",
    "    return (db)\n",
    "\n",
    "n = int(len(data)*0.8)\n",
    "\n",
    "train = data[:n]\n",
    "validation = data[n:]\n",
    "len(train),len(validation)"
   ]
  },
  {
   "cell_type": "code",
   "execution_count": 448,
   "id": "c3153b82",
   "metadata": {},
   "outputs": [
    {
     "name": "stderr",
     "output_type": "stream",
     "text": [
      " 29%|███████████████████████▏                                                        | 43/148 [00:00<00:00, 214.38it/s]"
     ]
    },
    {
     "name": "stdout",
     "output_type": "stream",
     "text": [
      "Skipping entity\n"
     ]
    },
    {
     "name": "stderr",
     "output_type": "stream",
     "text": [
      "100%|███████████████████████████████████████████████████████████████████████████████| 148/148 [00:00<00:00, 341.01it/s]\n"
     ]
    }
   ],
   "source": [
    "#train data set\n",
    "camp_train = create_training(train)\n",
    "camp_train.to_disk(\"nbme_train_402.spacy\")"
   ]
  },
  {
   "cell_type": "code",
   "execution_count": 449,
   "id": "bc80356b",
   "metadata": {
    "scrolled": true
   },
   "outputs": [
    {
     "name": "stderr",
     "output_type": "stream",
     "text": [
      "100%|█████████████████████████████████████████████████████████████████████████████████| 37/37 [00:00<00:00, 394.65it/s]\n"
     ]
    }
   ],
   "source": [
    "#Validation data set\n",
    "camp_validation = create_training(validation)\n",
    "camp_validation.to_disk(\"nbme_validation_402.spacy\")"
   ]
  },
  {
   "cell_type": "code",
   "execution_count": 450,
   "id": "9b0c2e0f",
   "metadata": {},
   "outputs": [
    {
     "name": "stdout",
     "output_type": "stream",
     "text": [
      "[+] Auto-filled config with all values\n",
      "[+] Saved config\n",
      "config_402.cfg\n",
      "You can now add your data and train your pipeline:\n",
      "python -m spacy train config_402.cfg --paths.train ./train.spacy --paths.dev ./dev.spacy\n"
     ]
    },
    {
     "name": "stderr",
     "output_type": "stream",
     "text": [
      "2022-05-06 17:58:46.667088: W tensorflow/stream_executor/platform/default/dso_loader.cc:64] Could not load dynamic library 'cudart64_110.dll'; dlerror: cudart64_110.dll not found\n",
      "2022-05-06 17:58:46.667139: I tensorflow/stream_executor/cuda/cudart_stub.cc:29] Ignore above cudart dlerror if you do not have a GPU set up on your machine.\n"
     ]
    }
   ],
   "source": [
    "!python -m spacy init fill-config ./base_config_402.cfg ./config_402.cfg"
   ]
  },
  {
   "cell_type": "code",
   "execution_count": 451,
   "id": "70f88aa3",
   "metadata": {},
   "outputs": [
    {
     "name": "stdout",
     "output_type": "stream",
     "text": [
      "[+] Created output directory: output_402"
     ]
    },
    {
     "name": "stderr",
     "output_type": "stream",
     "text": [
      "2022-05-06 17:58:59.371140: W tensorflow/stream_executor/platform/default/dso_loader.cc:64] Could not load dynamic library 'cudart64_110.dll'; dlerror: cudart64_110.dll not found\n",
      "2022-05-06 17:58:59.371191: I tensorflow/stream_executor/cuda/cudart_stub.cc:29] Ignore above cudart dlerror if you do not have a GPU set up on your machine.\n",
      "[2022-05-06 17:59:05,777] [INFO] Set up nlp object from config\n",
      "[2022-05-06 17:59:05,799] [INFO] Pipeline: ['tok2vec', 'ner']\n",
      "[2022-05-06 17:59:05,808] [INFO] Created vocabulary\n",
      "[2022-05-06 17:59:05,843] [INFO] Finished initializing nlp object\n",
      "[2022-05-06 17:59:07,299] [INFO] Initialized pipeline components: ['tok2vec', 'ner']\n"
     ]
    },
    {
     "name": "stdout",
     "output_type": "stream",
     "text": [
      "\n",
      "[i] Saving to output directory: output_402\n",
      "[i] Using CPU\n",
      "\u001b[1m\n",
      "=========================== Initializing pipeline ===========================\u001b[0m\n",
      "[+] Initialized pipeline\n",
      "\u001b[1m\n",
      "============================= Training pipeline =============================\u001b[0m\n",
      "[i] Pipeline: ['tok2vec', 'ner']\n",
      "[i] Initial learn rate: 0.001\n",
      "E    #       LOSS TOK2VEC  LOSS NER  ENTS_F  ENTS_P  ENTS_R  SCORE \n",
      "---  ------  ------------  --------  ------  ------  ------  ------\n",
      "  0       0          0.00     47.00    0.00    0.00    0.00    0.00\n",
      "  1     200       2014.25   2112.41    0.00    0.00    0.00    0.00\n",
      "  2     400        161.47    347.19   58.54   53.33   64.86    0.59\n",
      "  4     600      11897.55    431.20   67.65   74.19   62.16    0.68\n",
      "  5     800        942.59    261.40   69.44   71.43   67.57    0.69\n",
      "  6    1000        406.30    184.93   72.00   71.05   72.97    0.72\n",
      "  8    1200        137.48    158.58   77.92   75.00   81.08    0.78\n",
      "  9    1400        125.95    114.32   71.05   69.23   72.97    0.71\n",
      " 10    1600        192.05    117.71   78.48   73.81   83.78    0.78\n",
      " 12    1800       1048.54    102.01   82.05   78.05   86.49    0.82\n",
      " 13    2000        147.71     99.35   73.17   66.67   81.08    0.73\n",
      " 14    2200        206.60     86.32   83.54   78.57   89.19    0.84\n",
      " 16    2400        225.89     73.33   75.32   72.50   78.38    0.75\n",
      " 18    2600       2454.56    107.63   75.95   71.43   81.08    0.76\n",
      " 21    2800        237.01     67.80   71.60   65.91   78.38    0.72\n",
      " 25    3000        218.26     58.55   88.31   85.00   91.89    0.88\n",
      " 29    3200         92.85     20.23   75.32   72.50   78.38    0.75\n",
      " 35    3400        282.26     38.98   71.79   68.29   75.68    0.72\n",
      " 42    3600        250.90     40.00   76.92   73.17   81.08    0.77\n",
      " 50    3800        138.88     20.90   74.36   70.73   78.38    0.74\n",
      " 58    4000      22042.52     51.86   70.73   64.44   78.38    0.71\n",
      " 66    4200        190.41     23.58   78.48   73.81   83.78    0.78\n",
      " 73    4400        185.02     21.68   79.49   75.61   83.78    0.79\n",
      " 81    4600        251.93     30.66   81.01   76.19   86.49    0.81\n",
      "[+] Saved pipeline to output directory\n",
      "output_402\\model-last\n"
     ]
    }
   ],
   "source": [
    "!python -m spacy train config_402.cfg --output ./output_402"
   ]
  },
  {
   "cell_type": "code",
   "execution_count": null,
   "id": "69b9da50",
   "metadata": {},
   "outputs": [],
   "source": []
  },
  {
   "cell_type": "markdown",
   "id": "722009c5",
   "metadata": {},
   "source": [
    "### Feature 403"
   ]
  },
  {
   "cell_type": "code",
   "execution_count": 452,
   "id": "3f366e23",
   "metadata": {},
   "outputs": [
    {
     "data": {
      "text/plain": [
       "(181, 11)"
      ]
     },
     "execution_count": 452,
     "metadata": {},
     "output_type": "execute_result"
    }
   ],
   "source": [
    "case_4_403 = case_4[case_4[\"feature_num\"] == 403]\n",
    "case_4_403.shape"
   ]
  },
  {
   "cell_type": "code",
   "execution_count": 453,
   "id": "538ba86e",
   "metadata": {},
   "outputs": [],
   "source": [
    "drop_403 = [341,561,1283,1305,1292,1294,1295,1401,1331,1332,1349]"
   ]
  },
  {
   "cell_type": "code",
   "execution_count": 454,
   "id": "7493a03b",
   "metadata": {},
   "outputs": [],
   "source": [
    "case_4_403 = case_4_403.drop(drop_403)"
   ]
  },
  {
   "cell_type": "code",
   "execution_count": 455,
   "id": "1d17e532",
   "metadata": {},
   "outputs": [
    {
     "data": {
      "text/plain": [
       "(135, 34)"
      ]
     },
     "execution_count": 455,
     "metadata": {},
     "output_type": "execute_result"
    }
   ],
   "source": [
    "pn_Num_list = list(case_4_403.pn_num.unique())\n",
    "\n",
    "final_train = []   # appending all the individual rows\n",
    "for patient_number in pn_Num_list:  # for each unique patient number\n",
    "    entities = []  # saving individaual entities locations\n",
    "    for row_index,row in case_4_403[case_4_403.pn_num == patient_number].iterrows():  # for each unique patient number \n",
    "        \n",
    "        entities.append((int(row[\"start_location\"]),int(row[\"end_location\"]),\"Feature_\" + str(row[\"feature_num\"]))) # store the locations in numeric format\n",
    "        \n",
    "    text = case_4_403[case_4_403.pn_num == patient_number][\"New_pn_history\"].values[0] # save the text for the unique patient number\n",
    "    \n",
    "    final_train.append((text,{\"entities\":entities}))  # for each unique pn_number append to final list\n",
    "\n",
    "# Serializing json \n",
    "json_object = json.dumps(final_train, indent = 4)\n",
    "  \n",
    "# Writing to sample.json\n",
    "with open(\"sample_403.json\", \"w\") as outfile:\n",
    "    outfile.write(json_object)\n",
    "    \n",
    "# Opening JSON file\n",
    "f = open(\"sample_403.json\")\n",
    " \n",
    "# returns JSON object as\n",
    "# a dictionary\n",
    "data = json.load(f)\n",
    "\n",
    "nlp = spacy.blank(\"en\")\n",
    "def create_training(TRAIN_DATA):\n",
    "    db = DocBin()\n",
    "    for text, annot in tqdm(TRAIN_DATA):\n",
    "        doc = nlp.make_doc(text)\n",
    "        ents = []\n",
    "        for start, end, label in annot[\"entities\"]:\n",
    "            span = doc.char_span(start, end, label=label, alignment_mode=\"contract\")\n",
    "            if span is None:\n",
    "                print (\"Skipping entity\")\n",
    "            else:\n",
    "                ents.append(span)\n",
    "        doc.ents = ents\n",
    "        db.add(doc)\n",
    "    return (db)\n",
    "\n",
    "n = int(len(data)*0.8)\n",
    "\n",
    "train = data[:n]\n",
    "validation = data[n:]\n",
    "len(train),len(validation)"
   ]
  },
  {
   "cell_type": "code",
   "execution_count": 456,
   "id": "28b6d7be",
   "metadata": {
    "scrolled": true
   },
   "outputs": [
    {
     "name": "stderr",
     "output_type": "stream",
     "text": [
      "100%|███████████████████████████████████████████████████████████████████████████████| 135/135 [00:00<00:00, 434.73it/s]\n"
     ]
    }
   ],
   "source": [
    "#train data set\n",
    "camp_train = create_training(train)\n",
    "camp_train.to_disk(\"nbme_train_403.spacy\")"
   ]
  },
  {
   "cell_type": "code",
   "execution_count": 191,
   "id": "9b6eee34",
   "metadata": {
    "scrolled": true
   },
   "outputs": [],
   "source": [
    "#train[102]"
   ]
  },
  {
   "cell_type": "code",
   "execution_count": 192,
   "id": "b10c1b3d",
   "metadata": {},
   "outputs": [],
   "source": [
    "#case_4_403[case_4_403.start_location == 196]"
   ]
  },
  {
   "cell_type": "code",
   "execution_count": null,
   "id": "0474a35b",
   "metadata": {},
   "outputs": [],
   "source": []
  },
  {
   "cell_type": "code",
   "execution_count": 457,
   "id": "bd93dabf",
   "metadata": {},
   "outputs": [
    {
     "name": "stderr",
     "output_type": "stream",
     "text": [
      "100%|█████████████████████████████████████████████████████████████████████████████████| 34/34 [00:00<00:00, 473.48it/s]\n"
     ]
    }
   ],
   "source": [
    "#Validation data set\n",
    "camp_validation = create_training(validation)\n",
    "camp_validation.to_disk(\"nbme_validation_403.spacy\")"
   ]
  },
  {
   "cell_type": "code",
   "execution_count": 458,
   "id": "89f7c486",
   "metadata": {},
   "outputs": [
    {
     "name": "stdout",
     "output_type": "stream",
     "text": [
      "[+] Auto-filled config with all values\n",
      "[+] Saved config\n",
      "config_403.cfg\n",
      "You can now add your data and train your pipeline:\n",
      "python -m spacy train config_403.cfg --paths.train ./train.spacy --paths.dev ./dev.spacy\n"
     ]
    },
    {
     "name": "stderr",
     "output_type": "stream",
     "text": [
      "2022-05-06 18:10:55.733922: W tensorflow/stream_executor/platform/default/dso_loader.cc:64] Could not load dynamic library 'cudart64_110.dll'; dlerror: cudart64_110.dll not found\n",
      "2022-05-06 18:10:55.733972: I tensorflow/stream_executor/cuda/cudart_stub.cc:29] Ignore above cudart dlerror if you do not have a GPU set up on your machine.\n"
     ]
    }
   ],
   "source": [
    "!python -m spacy init fill-config ./base_config_403.cfg ./config_403.cfg"
   ]
  },
  {
   "cell_type": "code",
   "execution_count": 459,
   "id": "2acbc9fd",
   "metadata": {},
   "outputs": [
    {
     "name": "stdout",
     "output_type": "stream",
     "text": [
      "[+] Created output directory: output_403"
     ]
    },
    {
     "name": "stderr",
     "output_type": "stream",
     "text": [
      "2022-05-06 18:11:04.054056: W tensorflow/stream_executor/platform/default/dso_loader.cc:64] Could not load dynamic library 'cudart64_110.dll'; dlerror: cudart64_110.dll not found\n",
      "2022-05-06 18:11:04.054109: I tensorflow/stream_executor/cuda/cudart_stub.cc:29] Ignore above cudart dlerror if you do not have a GPU set up on your machine.\n",
      "[2022-05-06 18:11:10,028] [INFO] Set up nlp object from config\n",
      "[2022-05-06 18:11:10,041] [INFO] Pipeline: ['tok2vec', 'ner']\n"
     ]
    },
    {
     "name": "stdout",
     "output_type": "stream",
     "text": [
      "\n",
      "[i] Saving to output directory: output_403\n",
      "[i] Using CPU\n",
      "\u001b[1m\n",
      "=========================== Initializing pipeline ===========================\u001b[0m\n",
      "[+] Initialized pipeline\n",
      "\u001b[1m\n",
      "============================= Training pipeline =============================\u001b[0m\n",
      "[i] Pipeline: ['tok2vec', 'ner']\n",
      "[i] Initial learn rate: 0.001\n",
      "E    #       LOSS TOK2VEC  LOSS NER  ENTS_F  ENTS_P  ENTS_R  SCORE \n",
      "---  ------  ------------  --------  ------  ------  ------  ------\n",
      "  0       0          0.00     63.33    0.00    0.00    0.00    0.00\n",
      "  1     200        124.94   1363.16   53.52   51.35   55.88    0.54\n",
      "  2     400        108.95    226.94   53.52   51.35   55.88    0.54\n",
      "  4     600         56.20    171.99   75.00   71.05   79.41    0.75\n",
      "  5     800         77.52    164.09   64.79   62.16   67.65    0.65\n",
      "  7    1000         65.73    144.42   58.82   58.82   58.82    0.59\n",
      "  8    1200         96.36    128.59   66.67   63.16   70.59    0.67\n",
      " 10    1400        134.86    124.99   67.61   64.86   70.59    0.68\n",
      " 11    1600        128.90    129.51   64.79   62.16   67.65    0.65\n",
      " 13    1800        120.49     97.56   65.71   63.89   67.65    0.66\n",
      " 14    2000        137.02     97.17   71.64   72.73   70.59    0.72\n",
      " 16    2200        161.00     70.92   63.89   60.53   67.65    0.64\n",
      "[+] Saved pipeline to output directory\n",
      "output_403\\model-last\n"
     ]
    },
    {
     "name": "stderr",
     "output_type": "stream",
     "text": [
      "[2022-05-06 18:11:10,047] [INFO] Created vocabulary\n",
      "[2022-05-06 18:11:10,048] [INFO] Finished initializing nlp object\n",
      "[2022-05-06 18:11:11,014] [INFO] Initialized pipeline components: ['tok2vec', 'ner']\n"
     ]
    }
   ],
   "source": [
    "!python -m spacy train config_403.cfg --output ./output_403"
   ]
  },
  {
   "cell_type": "code",
   "execution_count": null,
   "id": "cb6d1ac8",
   "metadata": {},
   "outputs": [],
   "source": []
  },
  {
   "cell_type": "markdown",
   "id": "cbfdb27a",
   "metadata": {},
   "source": [
    "### Feature 404"
   ]
  },
  {
   "cell_type": "code",
   "execution_count": 128,
   "id": "1704487d",
   "metadata": {},
   "outputs": [
    {
     "data": {
      "text/plain": [
       "(239, 11)"
      ]
     },
     "execution_count": 128,
     "metadata": {},
     "output_type": "execute_result"
    }
   ],
   "source": [
    "case_4_404 = case_4[case_4[\"feature_num\"] == 404]\n",
    "case_4_404.shape"
   ]
  },
  {
   "cell_type": "code",
   "execution_count": 129,
   "id": "0b8f754b",
   "metadata": {},
   "outputs": [],
   "source": [
    "drop_404 = [30,1076,61,62,89,91,126,127,139,164,180,181,195,224,226,227,265,276,278,293,294,1073,343,344,\n",
    "            436,437,438,462,463,508,509,575,618,687,738,761,763,797,799,885,886,887,908,909,1038,\n",
    "           1050,1051,1121]"
   ]
  },
  {
   "cell_type": "code",
   "execution_count": 130,
   "id": "077b124d",
   "metadata": {},
   "outputs": [],
   "source": [
    "case_4_404 = case_4_404.drop(drop_404)"
   ]
  },
  {
   "cell_type": "code",
   "execution_count": 131,
   "id": "06b4ae8a",
   "metadata": {},
   "outputs": [
    {
     "data": {
      "text/plain": [
       "(143, 36)"
      ]
     },
     "execution_count": 131,
     "metadata": {},
     "output_type": "execute_result"
    }
   ],
   "source": [
    "pn_Num_list = list(case_4_404.pn_num.unique())\n",
    "\n",
    "final_train = []   # appending all the individual rows\n",
    "for patient_number in pn_Num_list:  # for each unique patient number\n",
    "    entities = []  # saving individaual entities locations\n",
    "    for row_index,row in case_4_404[case_4_404.pn_num == patient_number].iterrows():  # for each unique patient number \n",
    "        \n",
    "        entities.append((int(row[\"start_location\"]),int(row[\"end_location\"]),\"Feature_\" + str(row[\"feature_num\"]))) # store the locations in numeric format\n",
    "        \n",
    "    text = case_4_404[case_4_404.pn_num == patient_number][\"New_pn_history\"].values[0] # save the text for the unique patient number\n",
    "    \n",
    "    final_train.append((text,{\"entities\":entities}))  # for each unique pn_number append to final list\n",
    "\n",
    "# Serializing json \n",
    "json_object = json.dumps(final_train, indent = 4)\n",
    "  \n",
    "# Writing to sample.json\n",
    "with open(\"sample_404.json\", \"w\") as outfile:\n",
    "    outfile.write(json_object)\n",
    "    \n",
    "# Opening JSON file\n",
    "f = open(\"sample_404.json\")\n",
    " \n",
    "# returns JSON object as\n",
    "# a dictionary\n",
    "data = json.load(f)\n",
    "\n",
    "nlp = spacy.blank(\"en\")\n",
    "def create_training(TRAIN_DATA):\n",
    "    db = DocBin()\n",
    "    for text, annot in tqdm(TRAIN_DATA):\n",
    "        doc = nlp.make_doc(text)\n",
    "        ents = []\n",
    "        for start, end, label in annot[\"entities\"]:\n",
    "            span = doc.char_span(start, end, label=label, alignment_mode=\"contract\")\n",
    "            if span is None:\n",
    "                print (\"Skipping entity\")\n",
    "            else:\n",
    "                ents.append(span)\n",
    "        doc.ents = ents\n",
    "        db.add(doc)\n",
    "    return (db)\n",
    "\n",
    "n = int(len(data)*0.8)\n",
    "\n",
    "train = data[:n]\n",
    "validation = data[n:]\n",
    "len(train),len(validation)"
   ]
  },
  {
   "cell_type": "code",
   "execution_count": 132,
   "id": "9c366069",
   "metadata": {},
   "outputs": [
    {
     "name": "stderr",
     "output_type": "stream",
     "text": [
      "100%|███████████████████████████████████████████████████████████████████████████████| 143/143 [00:00<00:00, 433.20it/s]"
     ]
    },
    {
     "name": "stdout",
     "output_type": "stream",
     "text": [
      "Skipping entity\n",
      "Skipping entity\n"
     ]
    },
    {
     "name": "stderr",
     "output_type": "stream",
     "text": [
      "\n"
     ]
    }
   ],
   "source": [
    "#train data set\n",
    "camp_train = create_training(train)\n",
    "camp_train.to_disk(\"nbme_train_404.spacy\")"
   ]
  },
  {
   "cell_type": "code",
   "execution_count": 465,
   "id": "e791c689",
   "metadata": {},
   "outputs": [],
   "source": [
    "#validation[9]"
   ]
  },
  {
   "cell_type": "code",
   "execution_count": 466,
   "id": "79497736",
   "metadata": {},
   "outputs": [],
   "source": [
    "#case_4_404[case_4_404.start_location == 329]"
   ]
  },
  {
   "cell_type": "code",
   "execution_count": 133,
   "id": "452b5795",
   "metadata": {},
   "outputs": [
    {
     "name": "stderr",
     "output_type": "stream",
     "text": [
      "100%|█████████████████████████████████████████████████████████████████████████████████| 36/36 [00:00<00:00, 487.77it/s]\n"
     ]
    }
   ],
   "source": [
    "#Validation data set\n",
    "camp_validation = create_training(validation)\n",
    "camp_validation.to_disk(\"nbme_validation_404.spacy\")"
   ]
  },
  {
   "cell_type": "code",
   "execution_count": 134,
   "id": "9d2239b8",
   "metadata": {},
   "outputs": [
    {
     "name": "stdout",
     "output_type": "stream",
     "text": [
      "[+] Auto-filled config with all values"
     ]
    },
    {
     "name": "stderr",
     "output_type": "stream",
     "text": [
      "2022-05-09 15:39:32.337892: W tensorflow/stream_executor/platform/default/dso_loader.cc:64] Could not load dynamic library 'cudart64_110.dll'; dlerror: cudart64_110.dll not found\n",
      "2022-05-09 15:39:32.337944: I tensorflow/stream_executor/cuda/cudart_stub.cc:29] Ignore above cudart dlerror if you do not have a GPU set up on your machine.\n"
     ]
    },
    {
     "name": "stdout",
     "output_type": "stream",
     "text": [
      "\n",
      "[+] Saved config\n",
      "config_404.cfg\n",
      "You can now add your data and train your pipeline:\n",
      "python -m spacy train config_404.cfg --paths.train ./train.spacy --paths.dev ./dev.spacy\n"
     ]
    }
   ],
   "source": [
    "!python -m spacy init fill-config ./base_config_404.cfg ./config_404.cfg"
   ]
  },
  {
   "cell_type": "code",
   "execution_count": 135,
   "id": "96253014",
   "metadata": {},
   "outputs": [
    {
     "name": "stdout",
     "output_type": "stream",
     "text": [
      "[i] Saving to output directory: output_404\n",
      "[i] Using CPU\n",
      "\u001b[1m\n",
      "=========================== Initializing pipeline ===========================\u001b[0m\n",
      "[+] Initialized pipeline\n",
      "\u001b[1m\n",
      "============================= Training pipeline =============================\u001b[0m\n",
      "[i] Pipeline: ['tok2vec', 'ner']\n",
      "[i] Initial learn rate: 0.001\n",
      "E    #       LOSS TOK2VEC  LOSS NER  ENTS_F  ENTS_P  ENTS_R  SCORE \n",
      "---  ------  ------------  --------  ------  ------  ------  ------\n",
      "  0       0          0.00     54.50    0.00    0.00    0.00    0.00\n"
     ]
    },
    {
     "name": "stderr",
     "output_type": "stream",
     "text": [
      "2022-05-09 15:39:41.257186: W tensorflow/stream_executor/platform/default/dso_loader.cc:64] Could not load dynamic library 'cudart64_110.dll'; dlerror: cudart64_110.dll not found\n",
      "2022-05-09 15:39:41.257237: I tensorflow/stream_executor/cuda/cudart_stub.cc:29] Ignore above cudart dlerror if you do not have a GPU set up on your machine.\n",
      "[2022-05-09 15:39:48,186] [INFO] Set up nlp object from config\n",
      "[2022-05-09 15:39:48,200] [INFO] Pipeline: ['tok2vec', 'ner']\n",
      "[2022-05-09 15:39:48,206] [INFO] Created vocabulary\n",
      "[2022-05-09 15:39:48,207] [INFO] Finished initializing nlp object\n",
      "[2022-05-09 15:39:49,131] [INFO] Initialized pipeline components: ['tok2vec', 'ner']\n"
     ]
    },
    {
     "name": "stdout",
     "output_type": "stream",
     "text": [
      "  1     200       1050.63   2081.88   34.04   27.59   44.44    0.34\n",
      "  2     400         47.60    279.27   79.49   73.81   86.11    0.79\n",
      "  4     600        393.30    220.19   75.68   73.68   77.78    0.76\n",
      "  5     800        104.09    144.04   78.95   75.00   83.33    0.79\n",
      "  6    1000        114.10    140.94   57.14   45.16   77.78    0.57\n",
      "  8    1200        119.81     98.65   69.23   64.29   75.00    0.69\n",
      "  9    1400         74.43     64.60   80.00   76.92   83.33    0.80\n",
      " 11    1600      16430.22    114.24   73.97   72.97   75.00    0.74\n",
      " 12    1800       5081.07    100.47   85.33   82.05   88.89    0.85\n",
      " 14    2000        355.63     76.02   78.48   72.09   86.11    0.78\n",
      " 17    2200        260.01     69.38   64.44   53.70   80.56    0.64\n",
      " 21    2400        196.59     61.04   70.00   63.64   77.78    0.70\n",
      " 25    2600         77.76     19.87   72.50   65.91   80.56    0.73\n",
      " 31    2800        259.95      9.32   73.42   67.44   80.56    0.73\n",
      " 38    3000        290.64     23.22   74.07   66.67   83.33    0.74\n",
      " 47    3200        240.78     31.55   73.17   65.22   83.33    0.73\n",
      " 55    3400        226.07     28.66   81.08   78.95   83.33    0.81\n",
      "[+] Saved pipeline to output directory\n",
      "output_404\\model-last\n"
     ]
    }
   ],
   "source": [
    "!python -m spacy train config_404.cfg --output ./output_404"
   ]
  },
  {
   "cell_type": "code",
   "execution_count": null,
   "id": "9bca2f8e",
   "metadata": {},
   "outputs": [],
   "source": []
  },
  {
   "cell_type": "markdown",
   "id": "cf51e469",
   "metadata": {},
   "source": [
    "### Feature 405"
   ]
  },
  {
   "cell_type": "code",
   "execution_count": 136,
   "id": "e224fc37",
   "metadata": {},
   "outputs": [
    {
     "data": {
      "text/plain": [
       "(185, 11)"
      ]
     },
     "execution_count": 136,
     "metadata": {},
     "output_type": "execute_result"
    }
   ],
   "source": [
    "case_4_405 = case_4[case_4[\"feature_num\"] == 405]\n",
    "case_4_405.shape"
   ]
  },
  {
   "cell_type": "code",
   "execution_count": 137,
   "id": "65a06df2",
   "metadata": {},
   "outputs": [],
   "source": [
    "drop_405 = [19,481,953]"
   ]
  },
  {
   "cell_type": "code",
   "execution_count": 138,
   "id": "5d5a2e78",
   "metadata": {},
   "outputs": [],
   "source": [
    "case_4_405 = case_4_405.drop(drop_405)"
   ]
  },
  {
   "cell_type": "code",
   "execution_count": 139,
   "id": "0d4ce36e",
   "metadata": {},
   "outputs": [
    {
     "data": {
      "text/plain": [
       "(145, 37)"
      ]
     },
     "execution_count": 139,
     "metadata": {},
     "output_type": "execute_result"
    }
   ],
   "source": [
    "pn_Num_list = list(case_4_405.pn_num.unique())\n",
    "\n",
    "final_train = []   # appending all the individual rows\n",
    "for patient_number in pn_Num_list:  # for each unique patient number\n",
    "    entities = []  # saving individaual entities locations\n",
    "    for row_index,row in case_4_405[case_4_405.pn_num == patient_number].iterrows():  # for each unique patient number \n",
    "        \n",
    "        entities.append((int(row[\"start_location\"]),int(row[\"end_location\"]),\"Feature_\" + str(row[\"feature_num\"]))) # store the locations in numeric format\n",
    "        \n",
    "    text = case_4_405[case_4_405.pn_num == patient_number][\"New_pn_history\"].values[0] # save the text for the unique patient number\n",
    "    \n",
    "    final_train.append((text,{\"entities\":entities}))  # for each unique pn_number append to final list\n",
    "\n",
    "# Serializing json \n",
    "json_object = json.dumps(final_train, indent = 4)\n",
    "  \n",
    "# Writing to sample.json\n",
    "with open(\"sample_405.json\", \"w\") as outfile:\n",
    "    outfile.write(json_object)\n",
    "    \n",
    "# Opening JSON file\n",
    "f = open(\"sample_405.json\")\n",
    " \n",
    "# returns JSON object as\n",
    "# a dictionary\n",
    "data = json.load(f)\n",
    "\n",
    "nlp = spacy.blank(\"en\")\n",
    "def create_training(TRAIN_DATA):\n",
    "    db = DocBin()\n",
    "    for text, annot in tqdm(TRAIN_DATA):\n",
    "        doc = nlp.make_doc(text)\n",
    "        ents = []\n",
    "        for start, end, label in annot[\"entities\"]:\n",
    "            span = doc.char_span(start, end, label=label, alignment_mode=\"contract\")\n",
    "            if span is None:\n",
    "                print (\"Skipping entity\")\n",
    "            else:\n",
    "                ents.append(span)\n",
    "        doc.ents = ents\n",
    "        db.add(doc)\n",
    "    return (db)\n",
    "\n",
    "n = int(len(data)*0.8)\n",
    "\n",
    "train = data[:n]\n",
    "validation = data[n:]\n",
    "len(train),len(validation)"
   ]
  },
  {
   "cell_type": "code",
   "execution_count": 140,
   "id": "97cb8373",
   "metadata": {},
   "outputs": [
    {
     "name": "stderr",
     "output_type": "stream",
     "text": [
      "100%|███████████████████████████████████████████████████████████████████████████████| 145/145 [00:00<00:00, 445.84it/s]\n"
     ]
    }
   ],
   "source": [
    "#train data set\n",
    "camp_train = create_training(train)\n",
    "camp_train.to_disk(\"nbme_train_405.spacy\")"
   ]
  },
  {
   "cell_type": "code",
   "execution_count": 141,
   "id": "2646ea09",
   "metadata": {},
   "outputs": [],
   "source": [
    "#validation[4]"
   ]
  },
  {
   "cell_type": "code",
   "execution_count": 142,
   "id": "016441b9",
   "metadata": {},
   "outputs": [],
   "source": [
    "#case_4_405[case_4_405.start_location == 537]"
   ]
  },
  {
   "cell_type": "code",
   "execution_count": 143,
   "id": "51c99a34",
   "metadata": {},
   "outputs": [
    {
     "name": "stderr",
     "output_type": "stream",
     "text": [
      "100%|█████████████████████████████████████████████████████████████████████████████████| 37/37 [00:00<00:00, 475.45it/s]\n"
     ]
    }
   ],
   "source": [
    "#Validation data set\n",
    "camp_validation = create_training(validation)\n",
    "camp_validation.to_disk(\"nbme_validation_405.spacy\")"
   ]
  },
  {
   "cell_type": "code",
   "execution_count": 144,
   "id": "1dd0a19e",
   "metadata": {},
   "outputs": [
    {
     "name": "stdout",
     "output_type": "stream",
     "text": [
      "[+] Auto-filled config with all values"
     ]
    },
    {
     "name": "stderr",
     "output_type": "stream",
     "text": [
      "2022-05-09 15:47:36.782002: W tensorflow/stream_executor/platform/default/dso_loader.cc:64] Could not load dynamic library 'cudart64_110.dll'; dlerror: cudart64_110.dll not found\n",
      "2022-05-09 15:47:36.782055: I tensorflow/stream_executor/cuda/cudart_stub.cc:29] Ignore above cudart dlerror if you do not have a GPU set up on your machine.\n"
     ]
    },
    {
     "name": "stdout",
     "output_type": "stream",
     "text": [
      "\n",
      "[+] Saved config\n",
      "config_405.cfg\n",
      "You can now add your data and train your pipeline:\n",
      "python -m spacy train config_405.cfg --paths.train ./train.spacy --paths.dev ./dev.spacy\n"
     ]
    }
   ],
   "source": [
    "!python -m spacy init fill-config ./base_config_405.cfg ./config_405.cfg"
   ]
  },
  {
   "cell_type": "code",
   "execution_count": 145,
   "id": "df790c09",
   "metadata": {},
   "outputs": [
    {
     "name": "stdout",
     "output_type": "stream",
     "text": [
      "[i] Saving to output directory: output_405\n",
      "[i] Using CPU\n",
      "\u001b[1m\n",
      "=========================== Initializing pipeline ===========================\u001b[0m\n",
      "[+] Initialized pipeline\n"
     ]
    },
    {
     "name": "stderr",
     "output_type": "stream",
     "text": [
      "2022-05-09 15:47:44.979245: W tensorflow/stream_executor/platform/default/dso_loader.cc:64] Could not load dynamic library 'cudart64_110.dll'; dlerror: cudart64_110.dll not found\n",
      "2022-05-09 15:47:44.979311: I tensorflow/stream_executor/cuda/cudart_stub.cc:29] Ignore above cudart dlerror if you do not have a GPU set up on your machine.\n",
      "[2022-05-09 15:47:50,837] [INFO] Set up nlp object from config\n",
      "[2022-05-09 15:47:50,853] [INFO] Pipeline: ['tok2vec', 'ner']\n",
      "[2022-05-09 15:47:50,858] [INFO] Created vocabulary\n",
      "[2022-05-09 15:47:50,860] [INFO] Finished initializing nlp object\n",
      "[2022-05-09 15:47:51,767] [INFO] Initialized pipeline components: ['tok2vec', 'ner']\n"
     ]
    },
    {
     "name": "stdout",
     "output_type": "stream",
     "text": [
      "\u001b[1m\n",
      "============================= Training pipeline =============================\u001b[0m\n",
      "[i] Pipeline: ['tok2vec', 'ner']\n",
      "[i] Initial learn rate: 0.001\n",
      "E    #       LOSS TOK2VEC  LOSS NER  ENTS_F  ENTS_P  ENTS_R  SCORE \n",
      "---  ------  ------------  --------  ------  ------  ------  ------\n",
      "  0       0          0.00     43.67    0.00    0.00    0.00    0.00\n",
      "  1     200        909.35   1670.87   75.00   77.14   72.97    0.75\n",
      "  2     400        885.22    178.60   77.33   76.32   78.38    0.77\n",
      "  4     600        174.63    133.87   86.84   84.62   89.19    0.87\n",
      "  5     800       7551.45    162.95   86.49   86.49   86.49    0.86\n",
      "  6    1000         90.30     77.97   89.19   89.19   89.19    0.89\n",
      "  8    1200         62.43     55.22   82.93   75.56   91.89    0.83\n",
      "  9    1400         46.11     35.57   77.11   69.57   86.49    0.77\n",
      " 11    1600         41.21     25.67   90.91   87.50   94.59    0.91\n",
      " 12    1800         31.75      6.88   88.61   83.33   94.59    0.89\n",
      " 14    2000         41.35     14.17   80.52   77.50   83.78    0.81\n",
      " 17    2200        121.48     32.76   81.48   75.00   89.19    0.81\n",
      " 20    2400        141.98     36.23   81.58   79.49   83.78    0.82\n",
      " 24    2600         50.87     12.29   86.84   84.62   89.19    0.87\n",
      " 30    2800         63.82     13.29   84.62   80.49   89.19    0.85\n",
      " 37    3000         86.95     21.87   88.31   85.00   91.89    0.88\n",
      " 45    3200         41.56     12.78   89.47   87.18   91.89    0.89\n",
      "[+] Saved pipeline to output directory\n",
      "output_405\\model-last\n"
     ]
    }
   ],
   "source": [
    "!python -m spacy train config_405.cfg --output ./output_405"
   ]
  },
  {
   "cell_type": "code",
   "execution_count": null,
   "id": "4b79fa6f",
   "metadata": {},
   "outputs": [],
   "source": []
  },
  {
   "cell_type": "markdown",
   "id": "5dc95b35",
   "metadata": {},
   "source": [
    "### Feature 406"
   ]
  },
  {
   "cell_type": "code",
   "execution_count": 490,
   "id": "35adef68",
   "metadata": {},
   "outputs": [
    {
     "data": {
      "text/plain": [
       "(96, 11)"
      ]
     },
     "execution_count": 490,
     "metadata": {},
     "output_type": "execute_result"
    }
   ],
   "source": [
    "case_4_406 = case_4[case_4[\"feature_num\"] == 406]\n",
    "case_4_406.shape"
   ]
  },
  {
   "cell_type": "code",
   "execution_count": 491,
   "id": "47b151dc",
   "metadata": {},
   "outputs": [
    {
     "data": {
      "text/plain": [
       "(70, 18)"
      ]
     },
     "execution_count": 491,
     "metadata": {},
     "output_type": "execute_result"
    }
   ],
   "source": [
    "pn_Num_list = list(case_4_406.pn_num.unique())\n",
    "\n",
    "final_train = []   # appending all the individual rows\n",
    "for patient_number in pn_Num_list:  # for each unique patient number\n",
    "    entities = []  # saving individaual entities locations\n",
    "    for row_index,row in case_4_406[case_4_406.pn_num == patient_number].iterrows():  # for each unique patient number \n",
    "        \n",
    "        entities.append((int(row[\"start_location\"]),int(row[\"end_location\"]),\"Feature_\" + str(row[\"feature_num\"]))) # store the locations in numeric format\n",
    "        \n",
    "    text = case_4_406[case_4_406.pn_num == patient_number][\"New_pn_history\"].values[0] # save the text for the unique patient number\n",
    "    \n",
    "    final_train.append((text,{\"entities\":entities}))  # for each unique pn_number append to final list\n",
    "\n",
    "# Serializing json \n",
    "json_object = json.dumps(final_train, indent = 4)\n",
    "  \n",
    "# Writing to sample.json\n",
    "with open(\"sample_406.json\", \"w\") as outfile:\n",
    "    outfile.write(json_object)\n",
    "    \n",
    "# Opening JSON file\n",
    "f = open(\"sample_406.json\")\n",
    " \n",
    "# returns JSON object as\n",
    "# a dictionary\n",
    "data = json.load(f)\n",
    "\n",
    "nlp = spacy.blank(\"en\")\n",
    "def create_training(TRAIN_DATA):\n",
    "    db = DocBin()\n",
    "    for text, annot in tqdm(TRAIN_DATA):\n",
    "        doc = nlp.make_doc(text)\n",
    "        ents = []\n",
    "        for start, end, label in annot[\"entities\"]:\n",
    "            span = doc.char_span(start, end, label=label, alignment_mode=\"contract\")\n",
    "            if span is None:\n",
    "                print (\"Skipping entity\")\n",
    "            else:\n",
    "                ents.append(span)\n",
    "        doc.ents = ents\n",
    "        db.add(doc)\n",
    "    return (db)\n",
    "\n",
    "n = int(len(data)*0.8)\n",
    "\n",
    "train = data[:n]\n",
    "validation = data[n:]\n",
    "len(train),len(validation)"
   ]
  },
  {
   "cell_type": "code",
   "execution_count": 492,
   "id": "bf8d0708",
   "metadata": {
    "scrolled": true
   },
   "outputs": [
    {
     "name": "stderr",
     "output_type": "stream",
     "text": [
      "100%|█████████████████████████████████████████████████████████████████████████████████| 70/70 [00:00<00:00, 199.96it/s]\n"
     ]
    }
   ],
   "source": [
    "#train data set\n",
    "camp_train = create_training(train)\n",
    "camp_train.to_disk(\"nbme_train_406.spacy\")"
   ]
  },
  {
   "cell_type": "code",
   "execution_count": 493,
   "id": "34ba58bb",
   "metadata": {},
   "outputs": [
    {
     "name": "stderr",
     "output_type": "stream",
     "text": [
      "100%|█████████████████████████████████████████████████████████████████████████████████| 18/18 [00:00<00:00, 300.82it/s]\n"
     ]
    }
   ],
   "source": [
    "#Validation data set\n",
    "camp_validation = create_training(validation)\n",
    "camp_validation.to_disk(\"nbme_validation_406.spacy\")"
   ]
  },
  {
   "cell_type": "code",
   "execution_count": 494,
   "id": "5b903051",
   "metadata": {},
   "outputs": [
    {
     "name": "stdout",
     "output_type": "stream",
     "text": [
      "[+] Auto-filled config with all values"
     ]
    },
    {
     "name": "stderr",
     "output_type": "stream",
     "text": [
      "2022-05-06 18:38:12.625693: W tensorflow/stream_executor/platform/default/dso_loader.cc:64] Could not load dynamic library 'cudart64_110.dll'; dlerror: cudart64_110.dll not found\n",
      "2022-05-06 18:38:12.625744: I tensorflow/stream_executor/cuda/cudart_stub.cc:29] Ignore above cudart dlerror if you do not have a GPU set up on your machine.\n"
     ]
    },
    {
     "name": "stdout",
     "output_type": "stream",
     "text": [
      "\n",
      "[+] Saved config\n",
      "config_406.cfg\n",
      "You can now add your data and train your pipeline:\n",
      "python -m spacy train config_406.cfg --paths.train ./train.spacy --paths.dev ./dev.spacy\n"
     ]
    }
   ],
   "source": [
    "!python -m spacy init fill-config ./base_config_406.cfg ./config_406.cfg"
   ]
  },
  {
   "cell_type": "code",
   "execution_count": 495,
   "id": "b5fe4da1",
   "metadata": {},
   "outputs": [
    {
     "name": "stdout",
     "output_type": "stream",
     "text": [
      "[+] Created output directory: output_406"
     ]
    },
    {
     "name": "stderr",
     "output_type": "stream",
     "text": [
      "2022-05-06 18:38:21.015373: W tensorflow/stream_executor/platform/default/dso_loader.cc:64] Could not load dynamic library 'cudart64_110.dll'; dlerror: cudart64_110.dll not found\n",
      "2022-05-06 18:38:21.015428: I tensorflow/stream_executor/cuda/cudart_stub.cc:29] Ignore above cudart dlerror if you do not have a GPU set up on your machine.\n",
      "[2022-05-06 18:38:26,973] [INFO] Set up nlp object from config\n",
      "[2022-05-06 18:38:26,994] [INFO] Pipeline: ['tok2vec', 'ner']\n",
      "[2022-05-06 18:38:27,001] [INFO] Created vocabulary\n",
      "[2022-05-06 18:38:27,002] [INFO] Finished initializing nlp object\n",
      "[2022-05-06 18:38:27,735] [INFO] Initialized pipeline components: ['tok2vec', 'ner']\n"
     ]
    },
    {
     "name": "stdout",
     "output_type": "stream",
     "text": [
      "\n",
      "[i] Saving to output directory: output_406\n",
      "[i] Using CPU\n",
      "\u001b[1m\n",
      "=========================== Initializing pipeline ===========================\u001b[0m\n",
      "[+] Initialized pipeline\n",
      "\u001b[1m\n",
      "============================= Training pipeline =============================\u001b[0m\n",
      "[i] Pipeline: ['tok2vec', 'ner']\n",
      "[i] Initial learn rate: 0.001\n",
      "E    #       LOSS TOK2VEC  LOSS NER  ENTS_F  ENTS_P  ENTS_R  SCORE \n",
      "---  ------  ------------  --------  ------  ------  ------  ------\n",
      "  0       0          0.00     61.17    0.00    0.00    0.00    0.00\n",
      "  2     200        496.46   1484.48   78.79  100.00   65.00    0.79\n",
      "  5     400         64.17     58.35   84.21   88.89   80.00    0.84\n",
      "  8     600         92.36     27.64   83.33   93.75   75.00    0.83\n",
      " 11     800       5239.09     70.01   80.00   93.33   70.00    0.80\n",
      " 14    1000         59.56     10.99   80.00   93.33   70.00    0.80\n",
      " 17    1200         13.53     11.84   86.49   94.12   80.00    0.86\n",
      " 20    1400       1607.33     19.18   86.49   94.12   80.00    0.86\n",
      " 22    1600          7.79      5.86   81.08   88.24   75.00    0.81\n",
      " 25    1800         17.95     15.18   82.35  100.00   70.00    0.82\n",
      " 29    2000         71.62     30.00   84.21   88.89   80.00    0.84\n",
      " 35    2200         37.97      6.79   77.78   87.50   70.00    0.78\n",
      " 42    2400          0.00      0.00   83.33   93.75   75.00    0.83\n",
      " 50    2600          0.00      0.00   83.33   93.75   75.00    0.83\n",
      " 61    2800          0.00      0.00   83.33   93.75   75.00    0.83\n",
      "[+] Saved pipeline to output directory\n",
      "output_406\\model-last\n"
     ]
    }
   ],
   "source": [
    "!python -m spacy train config_406.cfg --output ./output_406"
   ]
  },
  {
   "cell_type": "code",
   "execution_count": null,
   "id": "c4477328",
   "metadata": {},
   "outputs": [],
   "source": []
  },
  {
   "cell_type": "markdown",
   "id": "043e05a6",
   "metadata": {},
   "source": [
    "### Feature 407"
   ]
  },
  {
   "cell_type": "code",
   "execution_count": 496,
   "id": "0983457c",
   "metadata": {},
   "outputs": [
    {
     "data": {
      "text/plain": [
       "(91, 11)"
      ]
     },
     "execution_count": 496,
     "metadata": {},
     "output_type": "execute_result"
    }
   ],
   "source": [
    "case_4_407 = case_4[case_4[\"feature_num\"] == 407]\n",
    "case_4_407.shape"
   ]
  },
  {
   "cell_type": "code",
   "execution_count": 497,
   "id": "a6ff62ed",
   "metadata": {},
   "outputs": [],
   "source": [
    "drop_407 = [423]"
   ]
  },
  {
   "cell_type": "code",
   "execution_count": 498,
   "id": "1c432abb",
   "metadata": {},
   "outputs": [],
   "source": [
    "case_4_407 = case_4_407.drop(drop_407)"
   ]
  },
  {
   "cell_type": "code",
   "execution_count": 499,
   "id": "3963d0fa",
   "metadata": {},
   "outputs": [
    {
     "data": {
      "text/plain": [
       "(72, 18)"
      ]
     },
     "execution_count": 499,
     "metadata": {},
     "output_type": "execute_result"
    }
   ],
   "source": [
    "pn_Num_list = list(case_4_407.pn_num.unique())\n",
    "\n",
    "final_train = []   # appending all the individual rows\n",
    "for patient_number in pn_Num_list:  # for each unique patient number\n",
    "    entities = []  # saving individaual entities locations\n",
    "    for row_index,row in case_4_407[case_4_407.pn_num == patient_number].iterrows():  # for each unique patient number \n",
    "        \n",
    "        entities.append((int(row[\"start_location\"]),int(row[\"end_location\"]),\"Feature_\" + str(row[\"feature_num\"]))) # store the locations in numeric format\n",
    "        \n",
    "    text = case_4_407[case_4_407.pn_num == patient_number][\"New_pn_history\"].values[0] # save the text for the unique patient number\n",
    "    \n",
    "    final_train.append((text,{\"entities\":entities}))  # for each unique pn_number append to final list\n",
    "\n",
    "# Serializing json \n",
    "json_object = json.dumps(final_train, indent = 4)\n",
    "  \n",
    "# Writing to sample.json\n",
    "with open(\"sample_407.json\", \"w\") as outfile:\n",
    "    outfile.write(json_object)\n",
    "    \n",
    "# Opening JSON file\n",
    "f = open(\"sample_407.json\")\n",
    " \n",
    "# returns JSON object as\n",
    "# a dictionary\n",
    "data = json.load(f)\n",
    "\n",
    "nlp = spacy.blank(\"en\")\n",
    "def create_training(TRAIN_DATA):\n",
    "    db = DocBin()\n",
    "    for text, annot in tqdm(TRAIN_DATA):\n",
    "        doc = nlp.make_doc(text)\n",
    "        ents = []\n",
    "        for start, end, label in annot[\"entities\"]:\n",
    "            span = doc.char_span(start, end, label=label, alignment_mode=\"contract\")\n",
    "            if span is None:\n",
    "                print (\"Skipping entity\")\n",
    "            else:\n",
    "                ents.append(span)\n",
    "        doc.ents = ents\n",
    "        db.add(doc)\n",
    "    return (db)\n",
    "\n",
    "n = int(len(data)*0.8)\n",
    "\n",
    "train = data[:n]\n",
    "validation = data[n:]\n",
    "len(train),len(validation)"
   ]
  },
  {
   "cell_type": "code",
   "execution_count": 500,
   "id": "225475eb",
   "metadata": {},
   "outputs": [
    {
     "name": "stderr",
     "output_type": "stream",
     "text": [
      " 78%|███████████████████████████████████████████████████████████████                  | 56/72 [00:00<00:00, 244.44it/s]"
     ]
    },
    {
     "name": "stdout",
     "output_type": "stream",
     "text": [
      "Skipping entity\n",
      "Skipping entity\n"
     ]
    },
    {
     "name": "stderr",
     "output_type": "stream",
     "text": [
      "100%|█████████████████████████████████████████████████████████████████████████████████| 72/72 [00:00<00:00, 289.09it/s]\n"
     ]
    }
   ],
   "source": [
    "#train data set\n",
    "camp_train = create_training(train)\n",
    "camp_train.to_disk(\"nbme_train_407.spacy\")"
   ]
  },
  {
   "cell_type": "code",
   "execution_count": 501,
   "id": "1c6e1daf",
   "metadata": {},
   "outputs": [],
   "source": [
    "#train[36]"
   ]
  },
  {
   "cell_type": "code",
   "execution_count": 502,
   "id": "4f04a643",
   "metadata": {},
   "outputs": [],
   "source": [
    "#case_4_407[case_4_407.start_location == 17]"
   ]
  },
  {
   "cell_type": "code",
   "execution_count": 503,
   "id": "e441cc61",
   "metadata": {},
   "outputs": [
    {
     "name": "stderr",
     "output_type": "stream",
     "text": [
      "100%|█████████████████████████████████████████████████████████████████████████████████| 18/18 [00:00<00:00, 200.54it/s]\n"
     ]
    }
   ],
   "source": [
    "#Validation data set\n",
    "camp_validation = create_training(validation)\n",
    "camp_validation.to_disk(\"nbme_validation_407.spacy\")"
   ]
  },
  {
   "cell_type": "code",
   "execution_count": 504,
   "id": "62c6d5ba",
   "metadata": {},
   "outputs": [
    {
     "name": "stdout",
     "output_type": "stream",
     "text": [
      "[+] Auto-filled config with all values\n",
      "[+] Saved config\n",
      "config_407.cfg\n",
      "You can now add your data and train your pipeline:\n",
      "python -m spacy train config_407.cfg --paths.train ./train.spacy --paths.dev ./dev.spacy\n"
     ]
    },
    {
     "name": "stderr",
     "output_type": "stream",
     "text": [
      "2022-05-06 18:46:16.848718: W tensorflow/stream_executor/platform/default/dso_loader.cc:64] Could not load dynamic library 'cudart64_110.dll'; dlerror: cudart64_110.dll not found\n",
      "2022-05-06 18:46:16.848770: I tensorflow/stream_executor/cuda/cudart_stub.cc:29] Ignore above cudart dlerror if you do not have a GPU set up on your machine.\n"
     ]
    }
   ],
   "source": [
    "!python -m spacy init fill-config ./base_config_407.cfg ./config_407.cfg"
   ]
  },
  {
   "cell_type": "code",
   "execution_count": 505,
   "id": "2fecba6a",
   "metadata": {},
   "outputs": [
    {
     "name": "stdout",
     "output_type": "stream",
     "text": [
      "[+] Created output directory: output_407\n",
      "[i] Saving to output directory: output_407\n",
      "[i] Using CPU\n",
      "\u001b[1m\n",
      "=========================== Initializing pipeline ===========================\u001b[0m\n",
      "[+] Initialized pipeline\n",
      "\u001b[1m\n",
      "============================= Training pipeline =============================\u001b[0m\n",
      "[i] Pipeline: ['tok2vec', 'ner']\n",
      "[i] Initial learn rate: 0.001\n",
      "E    #       LOSS TOK2VEC  LOSS NER  ENTS_F  ENTS_P  ENTS_R  SCORE \n",
      "---  ------  ------------  --------  ------  ------  ------  ------\n",
      "  0       0          0.00     53.83    0.00    0.00    0.00    0.00\n",
      "  2     200          4.24   1003.42   94.44   94.44   94.44    0.94\n",
      "  5     400          2.84      8.22  100.00  100.00  100.00    1.00\n",
      "  8     600          2.34      5.64  100.00  100.00  100.00    1.00\n",
      " 11     800          4.65      6.09  100.00  100.00  100.00    1.00\n",
      " 13    1000          2.23      4.00  100.00  100.00  100.00    1.00\n",
      " 16    1200          1.78      5.44  100.00  100.00  100.00    1.00\n",
      " 19    1400          2.84      7.15  100.00  100.00  100.00    1.00\n",
      " 22    1600         30.89     17.90  100.00  100.00  100.00    1.00\n",
      " 25    1800          1.23      2.69  100.00  100.00  100.00    1.00\n",
      " 30    2000          4.28      9.04  100.00  100.00  100.00    1.00\n",
      "[+] Saved pipeline to output directory\n",
      "output_407\\model-last\n"
     ]
    },
    {
     "name": "stderr",
     "output_type": "stream",
     "text": [
      "2022-05-06 18:46:26.140902: W tensorflow/stream_executor/platform/default/dso_loader.cc:64] Could not load dynamic library 'cudart64_110.dll'; dlerror: cudart64_110.dll not found\n",
      "2022-05-06 18:46:26.140952: I tensorflow/stream_executor/cuda/cudart_stub.cc:29] Ignore above cudart dlerror if you do not have a GPU set up on your machine.\n",
      "[2022-05-06 18:46:32,522] [INFO] Set up nlp object from config\n",
      "[2022-05-06 18:46:32,542] [INFO] Pipeline: ['tok2vec', 'ner']\n",
      "[2022-05-06 18:46:32,550] [INFO] Created vocabulary\n",
      "[2022-05-06 18:46:32,552] [INFO] Finished initializing nlp object\n",
      "[2022-05-06 18:46:33,514] [INFO] Initialized pipeline components: ['tok2vec', 'ner']\n"
     ]
    }
   ],
   "source": [
    "!python -m spacy train config_407.cfg --output ./output_407"
   ]
  },
  {
   "cell_type": "code",
   "execution_count": null,
   "id": "ba1e507a",
   "metadata": {},
   "outputs": [],
   "source": []
  },
  {
   "cell_type": "markdown",
   "id": "54b9dfab",
   "metadata": {},
   "source": [
    "### Feature 408"
   ]
  },
  {
   "cell_type": "code",
   "execution_count": 506,
   "id": "a1ffc1be",
   "metadata": {},
   "outputs": [
    {
     "data": {
      "text/plain": [
       "(85, 11)"
      ]
     },
     "execution_count": 506,
     "metadata": {},
     "output_type": "execute_result"
    }
   ],
   "source": [
    "case_4_408 = case_4[case_4[\"feature_num\"] == 408]\n",
    "case_4_408.shape"
   ]
  },
  {
   "cell_type": "code",
   "execution_count": 507,
   "id": "c44a0fd0",
   "metadata": {},
   "outputs": [],
   "source": [
    "drop_408 = [380,486,645,938]"
   ]
  },
  {
   "cell_type": "code",
   "execution_count": 508,
   "id": "d80371cc",
   "metadata": {},
   "outputs": [],
   "source": [
    "case_4_408 = case_4_408.drop(drop_408)"
   ]
  },
  {
   "cell_type": "code",
   "execution_count": 509,
   "id": "0e15ab60",
   "metadata": {},
   "outputs": [
    {
     "data": {
      "text/plain": [
       "(64, 17)"
      ]
     },
     "execution_count": 509,
     "metadata": {},
     "output_type": "execute_result"
    }
   ],
   "source": [
    "pn_Num_list = list(case_4_408.pn_num.unique())\n",
    "\n",
    "final_train = []   # appending all the individual rows\n",
    "for patient_number in pn_Num_list:  # for each unique patient number\n",
    "    entities = []  # saving individaual entities locations\n",
    "    for row_index,row in case_4_408[case_4_408.pn_num == patient_number].iterrows():  # for each unique patient number \n",
    "        \n",
    "        entities.append((int(row[\"start_location\"]),int(row[\"end_location\"]),\"Feature_\" + str(row[\"feature_num\"]))) # store the locations in numeric format\n",
    "        \n",
    "    text = case_4_408[case_4_408.pn_num == patient_number][\"New_pn_history\"].values[0] # save the text for the unique patient number\n",
    "    \n",
    "    final_train.append((text,{\"entities\":entities}))  # for each unique pn_number append to final list\n",
    "\n",
    "# Serializing json \n",
    "json_object = json.dumps(final_train, indent = 4)\n",
    "  \n",
    "# Writing to sample.json\n",
    "with open(\"sample_408.json\", \"w\") as outfile:\n",
    "    outfile.write(json_object)\n",
    "    \n",
    "# Opening JSON file\n",
    "f = open(\"sample_408.json\")\n",
    " \n",
    "# returns JSON object as\n",
    "# a dictionary\n",
    "data = json.load(f)\n",
    "\n",
    "nlp = spacy.blank(\"en\")\n",
    "def create_training(TRAIN_DATA):\n",
    "    db = DocBin()\n",
    "    for text, annot in tqdm(TRAIN_DATA):\n",
    "        doc = nlp.make_doc(text)\n",
    "        ents = []\n",
    "        for start, end, label in annot[\"entities\"]:\n",
    "            span = doc.char_span(start, end, label=label, alignment_mode=\"contract\")\n",
    "            if span is None:\n",
    "                print (\"Skipping entity\")\n",
    "            else:\n",
    "                ents.append(span)\n",
    "        doc.ents = ents\n",
    "        db.add(doc)\n",
    "    return (db)\n",
    "\n",
    "n = int(len(data)*0.8)\n",
    "\n",
    "train = data[:n]\n",
    "validation = data[n:]\n",
    "len(train),len(validation)"
   ]
  },
  {
   "cell_type": "code",
   "execution_count": 510,
   "id": "494eb959",
   "metadata": {},
   "outputs": [
    {
     "name": "stderr",
     "output_type": "stream",
     "text": [
      "100%|█████████████████████████████████████████████████████████████████████████████████| 64/64 [00:00<00:00, 297.56it/s]\n"
     ]
    }
   ],
   "source": [
    "#train data set\n",
    "camp_train = create_training(train)\n",
    "camp_train.to_disk(\"nbme_train_408.spacy\")"
   ]
  },
  {
   "cell_type": "code",
   "execution_count": null,
   "id": "b7ff2e5e",
   "metadata": {},
   "outputs": [],
   "source": []
  },
  {
   "cell_type": "code",
   "execution_count": 511,
   "id": "20cfa093",
   "metadata": {},
   "outputs": [],
   "source": [
    "#case_4_408 = case_4_408.drop([938])"
   ]
  },
  {
   "cell_type": "code",
   "execution_count": 512,
   "id": "7d20f95b",
   "metadata": {},
   "outputs": [],
   "source": [
    "#validation[3]"
   ]
  },
  {
   "cell_type": "code",
   "execution_count": 513,
   "id": "47a38092",
   "metadata": {},
   "outputs": [],
   "source": [
    "#case_4_408[case_4_408.end_location == 546]"
   ]
  },
  {
   "cell_type": "code",
   "execution_count": 514,
   "id": "d1dd3400",
   "metadata": {},
   "outputs": [
    {
     "name": "stderr",
     "output_type": "stream",
     "text": [
      "100%|█████████████████████████████████████████████████████████████████████████████████| 17/17 [00:00<00:00, 139.96it/s]\n"
     ]
    }
   ],
   "source": [
    "#Validation data set\n",
    "camp_validation = create_training(validation)\n",
    "camp_validation.to_disk(\"nbme_validation_408.spacy\")"
   ]
  },
  {
   "cell_type": "code",
   "execution_count": 515,
   "id": "4dd53b36",
   "metadata": {},
   "outputs": [
    {
     "name": "stdout",
     "output_type": "stream",
     "text": [
      "[+] Auto-filled config with all values\n",
      "[+] Saved config\n",
      "config_408.cfg\n",
      "You can now add your data and train your pipeline:\n",
      "python -m spacy train config_408.cfg --paths.train ./train.spacy --paths.dev ./dev.spacy\n"
     ]
    },
    {
     "name": "stderr",
     "output_type": "stream",
     "text": [
      "2022-05-06 18:52:24.002273: W tensorflow/stream_executor/platform/default/dso_loader.cc:64] Could not load dynamic library 'cudart64_110.dll'; dlerror: cudart64_110.dll not found\n",
      "2022-05-06 18:52:24.002323: I tensorflow/stream_executor/cuda/cudart_stub.cc:29] Ignore above cudart dlerror if you do not have a GPU set up on your machine.\n"
     ]
    }
   ],
   "source": [
    "!python -m spacy init fill-config ./base_config_408.cfg ./config_408.cfg"
   ]
  },
  {
   "cell_type": "code",
   "execution_count": 516,
   "id": "a11d57ab",
   "metadata": {},
   "outputs": [
    {
     "name": "stdout",
     "output_type": "stream",
     "text": [
      "[+] Created output directory: output_408"
     ]
    },
    {
     "name": "stderr",
     "output_type": "stream",
     "text": [
      "2022-05-06 18:52:33.472734: W tensorflow/stream_executor/platform/default/dso_loader.cc:64] Could not load dynamic library 'cudart64_110.dll'; dlerror: cudart64_110.dll not found\n",
      "2022-05-06 18:52:33.472786: I tensorflow/stream_executor/cuda/cudart_stub.cc:29] Ignore above cudart dlerror if you do not have a GPU set up on your machine.\n",
      "[2022-05-06 18:52:40,022] [INFO] Set up nlp object from config\n",
      "[2022-05-06 18:52:40,040] [INFO] Pipeline: ['tok2vec', 'ner']\n",
      "[2022-05-06 18:52:40,046] [INFO] Created vocabulary\n",
      "[2022-05-06 18:52:40,048] [INFO] Finished initializing nlp object\n",
      "[2022-05-06 18:52:41,101] [INFO] Initialized pipeline components: ['tok2vec', 'ner']\n"
     ]
    },
    {
     "name": "stdout",
     "output_type": "stream",
     "text": [
      "\n",
      "[i] Saving to output directory: output_408\n",
      "[i] Using CPU\n",
      "\u001b[1m\n",
      "=========================== Initializing pipeline ===========================\u001b[0m\n",
      "[+] Initialized pipeline\n",
      "\u001b[1m\n",
      "============================= Training pipeline =============================\u001b[0m\n",
      "[i] Pipeline: ['tok2vec', 'ner']\n",
      "[i] Initial learn rate: 0.001\n",
      "E    #       LOSS TOK2VEC  LOSS NER  ENTS_F  ENTS_P  ENTS_R  SCORE \n",
      "---  ------  ------------  --------  ------  ------  ------  ------\n",
      "  0       0          0.00     61.50    0.00    0.00    0.00    0.00\n",
      "  3     200       2461.93   1239.80   73.33   84.62   64.71    0.73\n",
      "  6     400       1410.75    165.95   70.97   78.57   64.71    0.71\n",
      "  9     600        346.08     40.29   75.86   91.67   64.71    0.76\n",
      " 12     800        453.12     47.32   82.76  100.00   70.59    0.83\n",
      " 15    1000         19.88     13.36   70.97   78.57   64.71    0.71\n",
      " 18    1200         30.62     20.85   75.00   80.00   70.59    0.75\n",
      " 21    1400         30.25     12.87   77.42   85.71   70.59    0.77\n",
      " 25    1600          6.62      5.78   73.33   84.62   64.71    0.73\n",
      " 28    1800          5.54      3.14   73.33   84.62   64.71    0.73\n",
      " 31    2000          2.02      0.66   73.33   84.62   64.71    0.73\n",
      " 35    2200          0.03      0.01   70.97   78.57   64.71    0.71\n",
      " 41    2400          0.01      0.00   75.00   80.00   70.59    0.75\n",
      "[+] Saved pipeline to output directory\n",
      "output_408\\model-last\n"
     ]
    }
   ],
   "source": [
    "!python -m spacy train config_408.cfg --output ./output_408"
   ]
  },
  {
   "cell_type": "markdown",
   "id": "493220d2",
   "metadata": {},
   "source": [
    "# Feature 409"
   ]
  },
  {
   "cell_type": "code",
   "execution_count": 517,
   "id": "0c2f01ef",
   "metadata": {},
   "outputs": [
    {
     "data": {
      "text/plain": [
       "(100, 11)"
      ]
     },
     "execution_count": 517,
     "metadata": {},
     "output_type": "execute_result"
    }
   ],
   "source": [
    "case_4_409 = case_4[case_4[\"feature_num\"] == 409]\n",
    "case_4_409.shape"
   ]
  },
  {
   "cell_type": "code",
   "execution_count": 518,
   "id": "51ca7ccf",
   "metadata": {},
   "outputs": [],
   "source": [
    "drop_409 = [425,941,1082,1138]"
   ]
  },
  {
   "cell_type": "code",
   "execution_count": 519,
   "id": "1f5fc0ba",
   "metadata": {},
   "outputs": [],
   "source": [
    "case_4_409 = case_4_409.drop(drop_409)"
   ]
  },
  {
   "cell_type": "code",
   "execution_count": 520,
   "id": "132cfdb5",
   "metadata": {},
   "outputs": [
    {
     "data": {
      "text/plain": [
       "(76, 20)"
      ]
     },
     "execution_count": 520,
     "metadata": {},
     "output_type": "execute_result"
    }
   ],
   "source": [
    "pn_Num_list = list(case_4_409.pn_num.unique())\n",
    "\n",
    "final_train = []   # appending all the individual rows\n",
    "for patient_number in pn_Num_list:  # for each unique patient number\n",
    "    entities = []  # saving individaual entities locations\n",
    "    for row_index,row in case_4_409[case_4_409.pn_num == patient_number].iterrows():  # for each unique patient number \n",
    "        \n",
    "        entities.append((int(row[\"start_location\"]),int(row[\"end_location\"]),\"Feature_\" + str(row[\"feature_num\"]))) # store the locations in numeric format\n",
    "        \n",
    "    text = case_4_409[case_4_409.pn_num == patient_number][\"New_pn_history\"].values[0] # save the text for the unique patient number\n",
    "    \n",
    "    final_train.append((text,{\"entities\":entities}))  # for each unique pn_number append to final list\n",
    "\n",
    "# Serializing json \n",
    "json_object = json.dumps(final_train, indent = 4)\n",
    "  \n",
    "# Writing to sample.json\n",
    "with open(\"sample_409.json\", \"w\") as outfile:\n",
    "    outfile.write(json_object)\n",
    "    \n",
    "# Opening JSON file\n",
    "f = open(\"sample_409.json\")\n",
    " \n",
    "# returns JSON object as\n",
    "# a dictionary\n",
    "data = json.load(f)\n",
    "\n",
    "nlp = spacy.blank(\"en\")\n",
    "def create_training(TRAIN_DATA):\n",
    "    db = DocBin()\n",
    "    for text, annot in tqdm(TRAIN_DATA):\n",
    "        doc = nlp.make_doc(text)\n",
    "        ents = []\n",
    "        for start, end, label in annot[\"entities\"]:\n",
    "            span = doc.char_span(start, end, label=label, alignment_mode=\"contract\")\n",
    "            if span is None:\n",
    "                print (\"Skipping entity\")\n",
    "            else:\n",
    "                ents.append(span)\n",
    "        doc.ents = ents\n",
    "        db.add(doc)\n",
    "    return (db)\n",
    "\n",
    "n = int(len(data)*0.8)\n",
    "\n",
    "train = data[:n]\n",
    "validation = data[n:]\n",
    "len(train),len(validation)"
   ]
  },
  {
   "cell_type": "code",
   "execution_count": 521,
   "id": "fe775f6e",
   "metadata": {},
   "outputs": [
    {
     "name": "stderr",
     "output_type": "stream",
     "text": [
      "100%|█████████████████████████████████████████████████████████████████████████████████| 76/76 [00:00<00:00, 218.64it/s]\n"
     ]
    }
   ],
   "source": [
    "#train data set\n",
    "camp_train = create_training(train)\n",
    "camp_train.to_disk(\"nbme_train_409.spacy\")"
   ]
  },
  {
   "cell_type": "code",
   "execution_count": null,
   "id": "635a0169",
   "metadata": {},
   "outputs": [],
   "source": []
  },
  {
   "cell_type": "code",
   "execution_count": null,
   "id": "e468f075",
   "metadata": {},
   "outputs": [],
   "source": []
  },
  {
   "cell_type": "code",
   "execution_count": null,
   "id": "56606c33",
   "metadata": {},
   "outputs": [],
   "source": []
  },
  {
   "cell_type": "code",
   "execution_count": 522,
   "id": "7526a205",
   "metadata": {},
   "outputs": [
    {
     "name": "stderr",
     "output_type": "stream",
     "text": [
      "100%|█████████████████████████████████████████████████████████████████████████████████| 20/20 [00:00<00:00, 364.60it/s]\n"
     ]
    }
   ],
   "source": [
    "#Validation data set\n",
    "camp_validation = create_training(validation)\n",
    "camp_validation.to_disk(\"nbme_validation_409.spacy\")"
   ]
  },
  {
   "cell_type": "code",
   "execution_count": 523,
   "id": "20eba93a",
   "metadata": {},
   "outputs": [
    {
     "name": "stdout",
     "output_type": "stream",
     "text": [
      "[+] Auto-filled config with all values\n",
      "[+] Saved config\n",
      "config_409.cfg\n",
      "You can now add your data and train your pipeline:\n",
      "python -m spacy train config_409.cfg --paths.train ./train.spacy --paths.dev ./dev.spacy\n"
     ]
    },
    {
     "name": "stderr",
     "output_type": "stream",
     "text": [
      "2022-05-06 18:59:51.512045: W tensorflow/stream_executor/platform/default/dso_loader.cc:64] Could not load dynamic library 'cudart64_110.dll'; dlerror: cudart64_110.dll not found\n",
      "2022-05-06 18:59:51.512097: I tensorflow/stream_executor/cuda/cudart_stub.cc:29] Ignore above cudart dlerror if you do not have a GPU set up on your machine.\n"
     ]
    }
   ],
   "source": [
    "!python -m spacy init fill-config ./base_config_409.cfg ./config_409.cfg"
   ]
  },
  {
   "cell_type": "code",
   "execution_count": 524,
   "id": "37792811",
   "metadata": {},
   "outputs": [
    {
     "name": "stdout",
     "output_type": "stream",
     "text": [
      "[+] Created output directory: output_409\n",
      "[i] Saving to output directory: output_409\n",
      "[i] Using CPU\n",
      "\u001b[1m\n",
      "=========================== Initializing pipeline ===========================\u001b[0m\n",
      "[+] Initialized pipeline\n",
      "\u001b[1m\n",
      "============================= Training pipeline =============================\u001b[0m\n",
      "[i] Pipeline: ['tok2vec', 'ner']\n",
      "[i] Initial learn rate: 0.001\n",
      "E    #       LOSS TOK2VEC  LOSS NER  ENTS_F  ENTS_P  ENTS_R  SCORE \n",
      "---  ------  ------------  --------  ------  ------  ------  ------\n",
      "  0       0          0.00     64.83    0.10    0.05    5.00    0.00\n",
      "  2     200      25919.99   3133.32   85.71   81.82   90.00    0.86\n",
      "  5     400         21.00     66.83   73.17   71.43   75.00    0.73\n",
      "  7     600         19.26     61.77   80.00   80.00   80.00    0.80\n",
      " 10     800         13.25     38.02   82.93   80.95   85.00    0.83\n",
      " 13    1000         13.24     44.29   87.80   85.71   90.00    0.88\n",
      " 15    1200          9.18     37.92   87.80   85.71   90.00    0.88\n",
      " 18    1400         18.12     40.40   90.00   90.00   90.00    0.90\n",
      " 21    1600         12.50     28.73   90.00   90.00   90.00    0.90\n",
      " 24    1800         34.55     45.15   85.71   81.82   90.00    0.86\n",
      " 28    2000         30.00     50.44   90.00   90.00   90.00    0.90\n",
      " 33    2200         49.21     65.63   90.00   90.00   90.00    0.90\n",
      " 41    2400         72.91     59.06   90.00   90.00   90.00    0.90\n",
      " 50    2600         47.22     57.60   90.00   90.00   90.00    0.90\n",
      " 61    2800         50.33     83.08   90.00   90.00   90.00    0.90\n",
      " 75    3000         49.59     79.39   85.00   85.00   85.00    0.85\n",
      "[+] Saved pipeline to output directory\n",
      "output_409\\model-last\n"
     ]
    },
    {
     "name": "stderr",
     "output_type": "stream",
     "text": [
      "2022-05-06 19:00:02.012390: W tensorflow/stream_executor/platform/default/dso_loader.cc:64] Could not load dynamic library 'cudart64_110.dll'; dlerror: cudart64_110.dll not found\n",
      "2022-05-06 19:00:02.012441: I tensorflow/stream_executor/cuda/cudart_stub.cc:29] Ignore above cudart dlerror if you do not have a GPU set up on your machine.\n",
      "[2022-05-06 19:00:08,916] [INFO] Set up nlp object from config\n",
      "[2022-05-06 19:00:08,939] [INFO] Pipeline: ['tok2vec', 'ner']\n",
      "[2022-05-06 19:00:08,946] [INFO] Created vocabulary\n",
      "[2022-05-06 19:00:08,949] [INFO] Finished initializing nlp object\n",
      "[2022-05-06 19:00:09,995] [INFO] Initialized pipeline components: ['tok2vec', 'ner']\n"
     ]
    }
   ],
   "source": [
    "!python -m spacy train config_409.cfg --output ./output_409"
   ]
  },
  {
   "cell_type": "code",
   "execution_count": null,
   "id": "b0200b9d",
   "metadata": {},
   "outputs": [],
   "source": []
  }
 ],
 "metadata": {
  "kernelspec": {
   "display_name": "Python 3",
   "language": "python",
   "name": "python3"
  },
  "language_info": {
   "codemirror_mode": {
    "name": "ipython",
    "version": 3
   },
   "file_extension": ".py",
   "mimetype": "text/x-python",
   "name": "python",
   "nbconvert_exporter": "python",
   "pygments_lexer": "ipython3",
   "version": "3.8.8"
  }
 },
 "nbformat": 4,
 "nbformat_minor": 5
}
