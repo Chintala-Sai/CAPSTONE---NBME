{
 "cells": [
  {
   "cell_type": "code",
   "execution_count": 1,
   "metadata": {},
   "outputs": [],
   "source": [
    "import pandas as pd\n",
    "import numpy as np\n",
    "import json\n",
    "import warnings\n",
    "import spacy\n",
    "warnings.filterwarnings(\"ignore\")\n",
    "import random\n",
    "\n",
    "import nltk\n",
    "from nltk.stem import WordNetLemmatizer\n",
    "\n",
    "import re\n",
    "\n",
    "import multiprocessing as mp\n",
    "import concurrent.futures\n",
    "import time\n"
   ]
  },
  {
   "cell_type": "code",
   "execution_count": 2,
   "metadata": {},
   "outputs": [],
   "source": [
    "train_data = pd.read_csv(\"C:\\\\Users\\\\llohi\\\\OneDrive\\\\Desktop\\\\CAP_Stone\\\\train.csv\")\n",
    "features = pd.read_csv(\"C:\\\\Users\\\\llohi\\\\OneDrive\\\\Desktop\\\\CAP_Stone\\\\features.csv\")\n",
    "patient_notes = pd.read_csv(\"C:\\\\Users\\\\llohi\\\\OneDrive\\\\Desktop\\\\CAP_Stone\\\\patient_notes.csv\")"
   ]
  },
  {
   "cell_type": "code",
   "execution_count": 3,
   "metadata": {},
   "outputs": [
    {
     "data": {
      "text/plain": [
       "'pt 17y/m c/o palpitation since 2-3 months, episodes come and go, last for 3-4 minutes, no precipitating or releiving factors. last episode happened while playing basketball, pt felt chest pressure, and felt like almost passed out. pt has no chest pain, nause or vomitting, no tremors, no heat or cold intolerance, no changes in bladder or bowel habits. no changes in diet or polydypsia pt had changed college 7-8 months back, and has trouble adjusting to it, no rashes. pt has been taking 3-4 cups of coffee every day and red bull 4-5  in a week.\\r\\nno mood changes, no anxiety or panic attack\\r\\nROS - nothing significant except as above\\r\\nallergy - none\\r\\nmedication - pt takes aderral multiple times, last 2 days ago.\\r\\nPMH - none\\r\\nPSH - none\\r\\nSH - no smoking, occasional marijuana 5month ago, sexually active with girlfriend, uses condom, no STI\\r\\nFH - father had problems with heart and mother has hyperthyroid \\r\\n'"
      ]
     },
     "execution_count": 3,
     "metadata": {},
     "output_type": "execute_result"
    }
   ],
   "source": [
    "test = np.array(patient_notes.loc[patient_notes.pn_num ==1146,\"pn_history\"])[0]\n",
    "test"
   ]
  },
  {
   "cell_type": "code",
   "execution_count": 4,
   "metadata": {},
   "outputs": [
    {
     "name": "stdout",
     "output_type": "stream",
     "text": [
      "[('attack\\r\\nROS - nothing significant except as above', 'Feature_0', 585, 634), ('father had problems with heart and mother has hyperthyroid', 'Feature_0', 849, 907)]\n",
      "[('mother has hyperthyroid', 'Feature_1', 884, 907)]\n",
      "[('chest pressure', 'Feature_2', 182, 196)]\n",
      "[('episodes come and go', 'Feature_3', 43, 63)]\n",
      "[('felt like almost passed out', 'Feature_4', 202, 229)]\n",
      "[]\n",
      "[]\n",
      "[]\n",
      "[('coffee', 'Feature_8', 501, 507), ('red bull', 'Feature_8', 522, 530)]\n",
      "[('heart and mother has hyperthyroid \\r\\n', 'Feature_9', 874, 910)]\n",
      "[('since 2-3 months', 'Feature_10', 25, 41)]\n",
      "[]\n",
      "[('m', 'Feature_12', 7, 8)]\n",
      "Finished in 5.07 second(s)\n"
     ]
    }
   ],
   "source": [
    "start = time.perf_counter()\n",
    "\n",
    "\n",
    "def read_doc(file_name):\n",
    "    ent_list = []\n",
    "    nlp = spacy.load(\"C:\\\\Users\\\\llohi\\\\OneDrive\\\\Desktop\\\\CAP_Stone\\\\Week_4\\\\output_\"+str(file_name)+\"\\\\model-best\")\n",
    "    doc = nlp(test)\n",
    "    for ent in doc.ents:\n",
    "        ent_list.append((ent.text, ent.label_,ent.start_char, ent.end_char))\n",
    "    return(ent_list)\n",
    "\n",
    "\n",
    "with concurrent.futures.ThreadPoolExecutor(max_workers=8) as executor:\n",
    "    secs = [0,1,2,3,4,5,6,7,8,9,10,11,12]\n",
    "    results = executor.map(read_doc, secs)\n",
    "    for result in results:\n",
    "        print(result)\n",
    "\n",
    "finish = time.perf_counter()\n",
    "\n",
    "print(f'Finished in {round(finish-start, 2)} second(s)')"
   ]
  },
  {
   "cell_type": "code",
   "execution_count": 5,
   "metadata": {},
   "outputs": [
    {
     "name": "stdout",
     "output_type": "stream",
     "text": [
      "[('attack\\r\\nROS - nothing significant except as above', 'Feature_0', 585, 634), ('father had problems with heart and mother has hyperthyroid', 'Feature_0', 849, 907)]\n",
      "[('mother has hyperthyroid', 'Feature_1', 884, 907)]\n",
      "[('chest pressure', 'Feature_2', 182, 196)]\n",
      "[('episodes come and go', 'Feature_3', 43, 63)]\n",
      "[('felt like almost passed out', 'Feature_4', 202, 229)]\n",
      "[]\n",
      "[]\n",
      "[]\n",
      "[('coffee', 'Feature_8', 501, 507), ('red bull', 'Feature_8', 522, 530)]\n",
      "[('heart and mother has hyperthyroid \\r\\n', 'Feature_9', 874, 910)]\n",
      "[('since 2-3 months', 'Feature_10', 25, 41)]\n",
      "[]\n",
      "[('m', 'Feature_12', 7, 8)]\n",
      "Finished in 5.2 second(s)\n"
     ]
    }
   ],
   "source": [
    "start = time.perf_counter()\n",
    "secs_test = [0,1,2,3,4,5,6,7,8,9,10,11,12]\n",
    "for i in secs_test:\n",
    "    ent_list = []\n",
    "    nlp = spacy.load(\"C:\\\\Users\\\\llohi\\\\OneDrive\\\\Desktop\\\\CAP_Stone\\\\Week_4\\\\output_\"+str(i)+\"\\\\model-best\")\n",
    "    doc = nlp(test)\n",
    "    for ent in doc.ents:\n",
    "        ent_list.append((ent.text, ent.label_,ent.start_char, ent.end_char))\n",
    "    print(ent_list)\n",
    "finish = time.perf_counter()\n",
    "\n",
    "print(f'Finished in {round(finish-start, 2)} second(s)')"
   ]
  },
  {
   "cell_type": "code",
   "execution_count": null,
   "metadata": {},
   "outputs": [],
   "source": []
  },
  {
   "cell_type": "code",
   "execution_count": null,
   "metadata": {},
   "outputs": [],
   "source": []
  },
  {
   "cell_type": "code",
   "execution_count": null,
   "metadata": {},
   "outputs": [],
   "source": []
  },
  {
   "cell_type": "code",
   "execution_count": null,
   "metadata": {},
   "outputs": [],
   "source": []
  },
  {
   "cell_type": "code",
   "execution_count": null,
   "metadata": {},
   "outputs": [],
   "source": []
  },
  {
   "cell_type": "code",
   "execution_count": null,
   "metadata": {},
   "outputs": [],
   "source": []
  }
 ],
 "metadata": {
  "kernelspec": {
   "display_name": "Python 3",
   "language": "python",
   "name": "python3"
  },
  "language_info": {
   "codemirror_mode": {
    "name": "ipython",
    "version": 3
   },
   "file_extension": ".py",
   "mimetype": "text/x-python",
   "name": "python",
   "nbconvert_exporter": "python",
   "pygments_lexer": "ipython3",
   "version": "3.8.5"
  }
 },
 "nbformat": 4,
 "nbformat_minor": 4
}
