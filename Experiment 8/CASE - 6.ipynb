{
 "cells": [
  {
   "cell_type": "code",
   "execution_count": 1,
   "id": "6c58cfb3",
   "metadata": {},
   "outputs": [],
   "source": [
    "import pandas as pd\n",
    "import numpy as np\n",
    "import json\n",
    "import warnings\n",
    "import spacy\n",
    "warnings.filterwarnings(\"ignore\")\n",
    "import random\n",
    "\n",
    "import nltk\n",
    "from nltk.stem import WordNetLemmatizer\n",
    "\n",
    "import re\n",
    "\n",
    "from spacy.tokens import DocBin\n",
    "\n",
    "from tqdm import tqdm"
   ]
  },
  {
   "cell_type": "code",
   "execution_count": 20,
   "id": "5bd90b2e",
   "metadata": {},
   "outputs": [],
   "source": [
    "train_data = pd.read_csv(\"C:\\\\Users\\\\preet\\\\Desktop\\\\CAPstone\\\\train.csv\")\n",
    "features = pd.read_csv(\"C:\\\\Users\\\\preet\\\\Desktop\\\\CAPstone\\\\features.csv\")\n",
    "patient_notes = pd.read_csv(\"C:\\\\Users\\\\preet\\\\Desktop\\\\CAPstone\\\\patient_notes.csv\")"
   ]
  },
  {
   "cell_type": "markdown",
   "id": "5b579e63",
   "metadata": {},
   "source": [
    "### CASE - 6"
   ]
  },
  {
   "cell_type": "code",
   "execution_count": 21,
   "id": "937edd2c",
   "metadata": {},
   "outputs": [
    {
     "data": {
      "text/html": [
       "<div>\n",
       "<style scoped>\n",
       "    .dataframe tbody tr th:only-of-type {\n",
       "        vertical-align: middle;\n",
       "    }\n",
       "\n",
       "    .dataframe tbody tr th {\n",
       "        vertical-align: top;\n",
       "    }\n",
       "\n",
       "    .dataframe thead th {\n",
       "        text-align: right;\n",
       "    }\n",
       "</style>\n",
       "<table border=\"1\" class=\"dataframe\">\n",
       "  <thead>\n",
       "    <tr style=\"text-align: right;\">\n",
       "      <th></th>\n",
       "      <th>feature_num</th>\n",
       "      <th>case_num</th>\n",
       "      <th>feature_text</th>\n",
       "    </tr>\n",
       "  </thead>\n",
       "  <tbody>\n",
       "    <tr>\n",
       "      <th>87</th>\n",
       "      <td>600</td>\n",
       "      <td>6</td>\n",
       "      <td>Subjective-fevers</td>\n",
       "    </tr>\n",
       "    <tr>\n",
       "      <th>88</th>\n",
       "      <td>601</td>\n",
       "      <td>6</td>\n",
       "      <td>Male</td>\n",
       "    </tr>\n",
       "    <tr>\n",
       "      <th>89</th>\n",
       "      <td>602</td>\n",
       "      <td>6</td>\n",
       "      <td>17-year</td>\n",
       "    </tr>\n",
       "    <tr>\n",
       "      <th>90</th>\n",
       "      <td>603</td>\n",
       "      <td>6</td>\n",
       "      <td>Recent-upper-respiratory-symptoms</td>\n",
       "    </tr>\n",
       "    <tr>\n",
       "      <th>91</th>\n",
       "      <td>604</td>\n",
       "      <td>6</td>\n",
       "      <td>Worse-with-deep-breath-OR-pleuritic</td>\n",
       "    </tr>\n",
       "    <tr>\n",
       "      <th>92</th>\n",
       "      <td>605</td>\n",
       "      <td>6</td>\n",
       "      <td>Exercise-induced-asthma</td>\n",
       "    </tr>\n",
       "    <tr>\n",
       "      <th>93</th>\n",
       "      <td>606</td>\n",
       "      <td>6</td>\n",
       "      <td>Chest-pain</td>\n",
       "    </tr>\n",
       "    <tr>\n",
       "      <th>94</th>\n",
       "      <td>607</td>\n",
       "      <td>6</td>\n",
       "      <td>Duration-x-1-day</td>\n",
       "    </tr>\n",
       "    <tr>\n",
       "      <th>95</th>\n",
       "      <td>608</td>\n",
       "      <td>6</td>\n",
       "      <td>No-shortness-of-breath</td>\n",
       "    </tr>\n",
       "    <tr>\n",
       "      <th>96</th>\n",
       "      <td>609</td>\n",
       "      <td>6</td>\n",
       "      <td>Recent-heavy-lifting-at-work-OR-recent-rock-cl...</td>\n",
       "    </tr>\n",
       "    <tr>\n",
       "      <th>97</th>\n",
       "      <td>610</td>\n",
       "      <td>6</td>\n",
       "      <td>No-relief-with-asthma-inhaler</td>\n",
       "    </tr>\n",
       "    <tr>\n",
       "      <th>98</th>\n",
       "      <td>611</td>\n",
       "      <td>6</td>\n",
       "      <td>Sharp-OR-stabbing-OR-7-to-8-out-of-10-on-pain-...</td>\n",
       "    </tr>\n",
       "  </tbody>\n",
       "</table>\n",
       "</div>"
      ],
      "text/plain": [
       "    feature_num  case_num                                       feature_text\n",
       "87          600         6                                  Subjective-fevers\n",
       "88          601         6                                               Male\n",
       "89          602         6                                            17-year\n",
       "90          603         6                  Recent-upper-respiratory-symptoms\n",
       "91          604         6                Worse-with-deep-breath-OR-pleuritic\n",
       "92          605         6                            Exercise-induced-asthma\n",
       "93          606         6                                         Chest-pain\n",
       "94          607         6                                   Duration-x-1-day\n",
       "95          608         6                             No-shortness-of-breath\n",
       "96          609         6  Recent-heavy-lifting-at-work-OR-recent-rock-cl...\n",
       "97          610         6                      No-relief-with-asthma-inhaler\n",
       "98          611         6  Sharp-OR-stabbing-OR-7-to-8-out-of-10-on-pain-..."
      ]
     },
     "execution_count": 21,
     "metadata": {},
     "output_type": "execute_result"
    }
   ],
   "source": [
    "case_6_features = features[features[\"case_num\"] == 6]\n",
    "case_6_features"
   ]
  },
  {
   "cell_type": "code",
   "execution_count": 22,
   "id": "a1505c45",
   "metadata": {
    "scrolled": true
   },
   "outputs": [
    {
     "data": {
      "text/html": [
       "<div>\n",
       "<style scoped>\n",
       "    .dataframe tbody tr th:only-of-type {\n",
       "        vertical-align: middle;\n",
       "    }\n",
       "\n",
       "    .dataframe tbody tr th {\n",
       "        vertical-align: top;\n",
       "    }\n",
       "\n",
       "    .dataframe thead th {\n",
       "        text-align: right;\n",
       "    }\n",
       "</style>\n",
       "<table border=\"1\" class=\"dataframe\">\n",
       "  <thead>\n",
       "    <tr style=\"text-align: right;\">\n",
       "      <th></th>\n",
       "      <th>pn_num</th>\n",
       "      <th>case_num</th>\n",
       "      <th>pn_history</th>\n",
       "    </tr>\n",
       "  </thead>\n",
       "  <tbody>\n",
       "    <tr>\n",
       "      <th>27101</th>\n",
       "      <td>60000</td>\n",
       "      <td>6</td>\n",
       "      <td>HPI:17 Y.O. M. CO. chest pain.\\r\\n-started  1 ...</td>\n",
       "    </tr>\n",
       "    <tr>\n",
       "      <th>27102</th>\n",
       "      <td>60001</td>\n",
       "      <td>6</td>\n",
       "      <td>Mr. Smith is a 17 yo M who comes in complainin...</td>\n",
       "    </tr>\n",
       "    <tr>\n",
       "      <th>27103</th>\n",
       "      <td>60002</td>\n",
       "      <td>6</td>\n",
       "      <td>Kane Smith 17 yo M presenting with chest pain ...</td>\n",
       "    </tr>\n",
       "    <tr>\n",
       "      <th>27104</th>\n",
       "      <td>60003</td>\n",
       "      <td>6</td>\n",
       "      <td>17 y old m complains of chest pain since yeste...</td>\n",
       "    </tr>\n",
       "    <tr>\n",
       "      <th>27105</th>\n",
       "      <td>60004</td>\n",
       "      <td>6</td>\n",
       "      <td>17 y/o male with ches pain. Pt woke up yesterd...</td>\n",
       "    </tr>\n",
       "    <tr>\n",
       "      <th>...</th>\n",
       "      <td>...</td>\n",
       "      <td>...</td>\n",
       "      <td>...</td>\n",
       "    </tr>\n",
       "    <tr>\n",
       "      <th>28693</th>\n",
       "      <td>61776</td>\n",
       "      <td>6</td>\n",
       "      <td>17 YO M PRESENTED TO ED WITH C/O SEVEVER LEFT ...</td>\n",
       "    </tr>\n",
       "    <tr>\n",
       "      <th>28694</th>\n",
       "      <td>61777</td>\n",
       "      <td>6</td>\n",
       "      <td>Patient is a 17 yo male who presents with 1 da...</td>\n",
       "    </tr>\n",
       "    <tr>\n",
       "      <th>28695</th>\n",
       "      <td>61778</td>\n",
       "      <td>6</td>\n",
       "      <td>17 yo male presenting with left-sided chest pa...</td>\n",
       "    </tr>\n",
       "    <tr>\n",
       "      <th>28696</th>\n",
       "      <td>61779</td>\n",
       "      <td>6</td>\n",
       "      <td>17 y / m present swith left sided dchest pain ...</td>\n",
       "    </tr>\n",
       "    <tr>\n",
       "      <th>28697</th>\n",
       "      <td>61780</td>\n",
       "      <td>6</td>\n",
       "      <td>HPI: Mr. Smith is a 17 yo man p/w c/o CP x1day...</td>\n",
       "    </tr>\n",
       "  </tbody>\n",
       "</table>\n",
       "<p>1597 rows × 3 columns</p>\n",
       "</div>"
      ],
      "text/plain": [
       "       pn_num  case_num                                         pn_history\n",
       "27101   60000         6  HPI:17 Y.O. M. CO. chest pain.\\r\\n-started  1 ...\n",
       "27102   60001         6  Mr. Smith is a 17 yo M who comes in complainin...\n",
       "27103   60002         6  Kane Smith 17 yo M presenting with chest pain ...\n",
       "27104   60003         6  17 y old m complains of chest pain since yeste...\n",
       "27105   60004         6  17 y/o male with ches pain. Pt woke up yesterd...\n",
       "...       ...       ...                                                ...\n",
       "28693   61776         6  17 YO M PRESENTED TO ED WITH C/O SEVEVER LEFT ...\n",
       "28694   61777         6  Patient is a 17 yo male who presents with 1 da...\n",
       "28695   61778         6  17 yo male presenting with left-sided chest pa...\n",
       "28696   61779         6  17 y / m present swith left sided dchest pain ...\n",
       "28697   61780         6  HPI: Mr. Smith is a 17 yo man p/w c/o CP x1day...\n",
       "\n",
       "[1597 rows x 3 columns]"
      ]
     },
     "execution_count": 22,
     "metadata": {},
     "output_type": "execute_result"
    }
   ],
   "source": [
    "case_6_pn = patient_notes[patient_notes[\"case_num\"] ==  6]\n",
    "case_6_pn"
   ]
  },
  {
   "cell_type": "code",
   "execution_count": 23,
   "id": "fb42e8d1",
   "metadata": {
    "scrolled": true
   },
   "outputs": [
    {
     "data": {
      "text/html": [
       "<div>\n",
       "<style scoped>\n",
       "    .dataframe tbody tr th:only-of-type {\n",
       "        vertical-align: middle;\n",
       "    }\n",
       "\n",
       "    .dataframe tbody tr th {\n",
       "        vertical-align: top;\n",
       "    }\n",
       "\n",
       "    .dataframe thead th {\n",
       "        text-align: right;\n",
       "    }\n",
       "</style>\n",
       "<table border=\"1\" class=\"dataframe\">\n",
       "  <thead>\n",
       "    <tr style=\"text-align: right;\">\n",
       "      <th></th>\n",
       "      <th>id</th>\n",
       "      <th>case_num</th>\n",
       "      <th>pn_num</th>\n",
       "      <th>feature_num</th>\n",
       "      <th>annotation</th>\n",
       "      <th>location</th>\n",
       "    </tr>\n",
       "  </thead>\n",
       "  <tbody>\n",
       "    <tr>\n",
       "      <th>8700</th>\n",
       "      <td>60004_600</td>\n",
       "      <td>6</td>\n",
       "      <td>60004</td>\n",
       "      <td>600</td>\n",
       "      <td>['feeling febrile']</td>\n",
       "      <td>['293 308']</td>\n",
       "    </tr>\n",
       "    <tr>\n",
       "      <th>8701</th>\n",
       "      <td>60004_601</td>\n",
       "      <td>6</td>\n",
       "      <td>60004</td>\n",
       "      <td>601</td>\n",
       "      <td>['male']</td>\n",
       "      <td>['7 11']</td>\n",
       "    </tr>\n",
       "    <tr>\n",
       "      <th>8702</th>\n",
       "      <td>60004_602</td>\n",
       "      <td>6</td>\n",
       "      <td>60004</td>\n",
       "      <td>602</td>\n",
       "      <td>['17 y/o']</td>\n",
       "      <td>['0 6']</td>\n",
       "    </tr>\n",
       "    <tr>\n",
       "      <th>8703</th>\n",
       "      <td>60004_603</td>\n",
       "      <td>6</td>\n",
       "      <td>60004</td>\n",
       "      <td>603</td>\n",
       "      <td>['recently had running nose']</td>\n",
       "      <td>['266 291']</td>\n",
       "    </tr>\n",
       "    <tr>\n",
       "      <th>8704</th>\n",
       "      <td>60004_604</td>\n",
       "      <td>6</td>\n",
       "      <td>60004</td>\n",
       "      <td>604</td>\n",
       "      <td>['8/10 with deep inspiration']</td>\n",
       "      <td>['153 179']</td>\n",
       "    </tr>\n",
       "    <tr>\n",
       "      <th>...</th>\n",
       "      <td>...</td>\n",
       "      <td>...</td>\n",
       "      <td>...</td>\n",
       "      <td>...</td>\n",
       "      <td>...</td>\n",
       "      <td>...</td>\n",
       "    </tr>\n",
       "    <tr>\n",
       "      <th>9894</th>\n",
       "      <td>61768_606</td>\n",
       "      <td>6</td>\n",
       "      <td>61768</td>\n",
       "      <td>606</td>\n",
       "      <td>['chest pain']</td>\n",
       "      <td>['56 66']</td>\n",
       "    </tr>\n",
       "    <tr>\n",
       "      <th>9895</th>\n",
       "      <td>61768_607</td>\n",
       "      <td>6</td>\n",
       "      <td>61768</td>\n",
       "      <td>607</td>\n",
       "      <td>['for one day']</td>\n",
       "      <td>['67 78']</td>\n",
       "    </tr>\n",
       "    <tr>\n",
       "      <th>9896</th>\n",
       "      <td>61768_608</td>\n",
       "      <td>6</td>\n",
       "      <td>61768</td>\n",
       "      <td>608</td>\n",
       "      <td>['negative shortness of breath']</td>\n",
       "      <td>['413 421;460 479']</td>\n",
       "    </tr>\n",
       "    <tr>\n",
       "      <th>9898</th>\n",
       "      <td>61768_610</td>\n",
       "      <td>6</td>\n",
       "      <td>61768</td>\n",
       "      <td>610</td>\n",
       "      <td>['albuteral inhaler without relief']</td>\n",
       "      <td>['374 406']</td>\n",
       "    </tr>\n",
       "    <tr>\n",
       "      <th>9899</th>\n",
       "      <td>61768_611</td>\n",
       "      <td>6</td>\n",
       "      <td>61768</td>\n",
       "      <td>611</td>\n",
       "      <td>['sharp', '8/10']</td>\n",
       "      <td>['139 144', '167 171']</td>\n",
       "    </tr>\n",
       "  </tbody>\n",
       "</table>\n",
       "<p>971 rows × 6 columns</p>\n",
       "</div>"
      ],
      "text/plain": [
       "             id  case_num  pn_num  feature_num  \\\n",
       "8700  60004_600         6   60004          600   \n",
       "8701  60004_601         6   60004          601   \n",
       "8702  60004_602         6   60004          602   \n",
       "8703  60004_603         6   60004          603   \n",
       "8704  60004_604         6   60004          604   \n",
       "...         ...       ...     ...          ...   \n",
       "9894  61768_606         6   61768          606   \n",
       "9895  61768_607         6   61768          607   \n",
       "9896  61768_608         6   61768          608   \n",
       "9898  61768_610         6   61768          610   \n",
       "9899  61768_611         6   61768          611   \n",
       "\n",
       "                                annotation                location  \n",
       "8700                   ['feeling febrile']             ['293 308']  \n",
       "8701                              ['male']                ['7 11']  \n",
       "8702                            ['17 y/o']                 ['0 6']  \n",
       "8703         ['recently had running nose']             ['266 291']  \n",
       "8704        ['8/10 with deep inspiration']             ['153 179']  \n",
       "...                                    ...                     ...  \n",
       "9894                        ['chest pain']               ['56 66']  \n",
       "9895                       ['for one day']               ['67 78']  \n",
       "9896      ['negative shortness of breath']     ['413 421;460 479']  \n",
       "9898  ['albuteral inhaler without relief']             ['374 406']  \n",
       "9899                     ['sharp', '8/10']  ['139 144', '167 171']  \n",
       "\n",
       "[971 rows x 6 columns]"
      ]
     },
     "execution_count": 23,
     "metadata": {},
     "output_type": "execute_result"
    }
   ],
   "source": [
    "case_6_train = train_data[train_data[\"case_num\"] == 6]\n",
    "case_6_train = case_6_train[case_6_train.annotation != '[]']\n",
    "case_6_train"
   ]
  },
  {
   "cell_type": "code",
   "execution_count": 24,
   "id": "fe614e23",
   "metadata": {
    "scrolled": false
   },
   "outputs": [
    {
     "data": {
      "image/png": "[encoded data removed]",
      "text/plain": [
       "<Figure size 576x432 with 1 Axes>"
      ]
     },
     "metadata": {
      "needs_background": "light"
     },
     "output_type": "display_data"
    }
   ],
   "source": [
    "import matplotlib.pyplot as plt\n",
    "plt.figure(figsize=[8,6])\n",
    "case_6_train.groupby(\"feature_num\").size().plot.bar()\n",
    "plt.title(\"CASE - 6\")\n",
    "plt.ylabel(\"Number of observations\")\n",
    "plt.show()"
   ]
  },
  {
   "cell_type": "code",
   "execution_count": null,
   "id": "1ac5fd0d",
   "metadata": {},
   "outputs": [],
   "source": []
  },
  {
   "cell_type": "markdown",
   "id": "e17c9c7a",
   "metadata": {},
   "source": [
    "### Over Sampling for CASE - 6"
   ]
  },
  {
   "cell_type": "code",
   "execution_count": 25,
   "id": "746e8d93",
   "metadata": {},
   "outputs": [],
   "source": [
    "pn_dict = {}\n",
    "for idx, row in case_6_pn.iterrows():\n",
    "    pn_dict[row['pn_num']] = row['pn_history']"
   ]
  },
  {
   "cell_type": "code",
   "execution_count": 26,
   "id": "f78ca7cb",
   "metadata": {},
   "outputs": [],
   "source": [
    "new_annotation = []\n",
    "for case_id in case_6_features['case_num'].unique():\n",
    "    \n",
    "    all_pn_id = set(case_6_pn[case_6_pn['case_num']==case_id]['pn_num'].tolist())\n",
    "    \n",
    "    for feature_id in case_6_features[case_6_features['case_num']==case_id]['feature_num'].unique():\n",
    "        # get all the pn_num that have already been annotated\n",
    "        annotated_pn = set(case_6_train[case_6_train['feature_num']==feature_id]['pn_num'].tolist())\n",
    "        # get all the pn_num that have NOT been annotated\n",
    "        pn_to_annotate = all_pn_id-annotated_pn\n",
    "        \n",
    "        # get all current annotations\n",
    "        # we will use them to find more annotations\n",
    "        annotations = case_6_train[case_6_train['feature_num']==feature_id]['annotation'].tolist()\n",
    "        annotation_texts = set()\n",
    "        for a in annotations:\n",
    "            anns = eval(a)\n",
    "            for at in anns:\n",
    "                annotation_texts.add(at)\n",
    "                \n",
    "        # annotate       \n",
    "        for pn_id in pn_to_annotate:\n",
    "            new_annotation_pn, new_location_pn = [], []\n",
    "            pn_text = pn_dict[pn_id]\n",
    "            for at in annotation_texts:\n",
    "                start = pn_text.find(at)\n",
    "                if start>=0:\n",
    "                    new_annotation_pn.append(at)\n",
    "                    new_location_pn.append(f'{start} {start+len(at)}')\n",
    "            if len(new_annotation_pn)>0:\n",
    "                new_annotation.append((\n",
    "                    f'{pn_id:04d}_{feature_id:03d}',\n",
    "                    case_id,\n",
    "                    pn_id,\n",
    "                    feature_id,\n",
    "                    new_annotation_pn,\n",
    "                    new_location_pn\n",
    "                ))\n",
    "     #   break\n",
    "    break\n",
    "    # break to get sample results quickly"
   ]
  },
  {
   "cell_type": "code",
   "execution_count": 27,
   "id": "408f9b80",
   "metadata": {},
   "outputs": [
    {
     "data": {
      "text/plain": [
       "11987"
      ]
     },
     "execution_count": 27,
     "metadata": {},
     "output_type": "execute_result"
    }
   ],
   "source": [
    "len(new_annotation)"
   ]
  },
  {
   "cell_type": "code",
   "execution_count": 28,
   "id": "6029f3f9",
   "metadata": {},
   "outputs": [
    {
     "data": {
      "text/html": [
       "<div>\n",
       "<style scoped>\n",
       "    .dataframe tbody tr th:only-of-type {\n",
       "        vertical-align: middle;\n",
       "    }\n",
       "\n",
       "    .dataframe tbody tr th {\n",
       "        vertical-align: top;\n",
       "    }\n",
       "\n",
       "    .dataframe thead th {\n",
       "        text-align: right;\n",
       "    }\n",
       "</style>\n",
       "<table border=\"1\" class=\"dataframe\">\n",
       "  <thead>\n",
       "    <tr style=\"text-align: right;\">\n",
       "      <th></th>\n",
       "      <th>0</th>\n",
       "      <th>1</th>\n",
       "      <th>2</th>\n",
       "      <th>3</th>\n",
       "      <th>4</th>\n",
       "      <th>5</th>\n",
       "    </tr>\n",
       "  </thead>\n",
       "  <tbody>\n",
       "    <tr>\n",
       "      <th>0</th>\n",
       "      <td>61440_600</td>\n",
       "      <td>6</td>\n",
       "      <td>61440</td>\n",
       "      <td>600</td>\n",
       "      <td>[subjective fever, fever]</td>\n",
       "      <td>[321 337, 332 337]</td>\n",
       "    </tr>\n",
       "    <tr>\n",
       "      <th>1</th>\n",
       "      <td>61441_600</td>\n",
       "      <td>6</td>\n",
       "      <td>61441</td>\n",
       "      <td>600</td>\n",
       "      <td>[warmth]</td>\n",
       "      <td>[359 365]</td>\n",
       "    </tr>\n",
       "    <tr>\n",
       "      <th>2</th>\n",
       "      <td>61442_600</td>\n",
       "      <td>6</td>\n",
       "      <td>61442</td>\n",
       "      <td>600</td>\n",
       "      <td>[felt warm]</td>\n",
       "      <td>[308 317]</td>\n",
       "    </tr>\n",
       "    <tr>\n",
       "      <th>3</th>\n",
       "      <td>61443_600</td>\n",
       "      <td>6</td>\n",
       "      <td>61443</td>\n",
       "      <td>600</td>\n",
       "      <td>[fever]</td>\n",
       "      <td>[177 182]</td>\n",
       "    </tr>\n",
       "    <tr>\n",
       "      <th>4</th>\n",
       "      <td>61449_600</td>\n",
       "      <td>6</td>\n",
       "      <td>61449</td>\n",
       "      <td>600</td>\n",
       "      <td>[fever]</td>\n",
       "      <td>[331 336]</td>\n",
       "    </tr>\n",
       "  </tbody>\n",
       "</table>\n",
       "</div>"
      ],
      "text/plain": [
       "           0  1      2    3                          4                   5\n",
       "0  61440_600  6  61440  600  [subjective fever, fever]  [321 337, 332 337]\n",
       "1  61441_600  6  61441  600                   [warmth]           [359 365]\n",
       "2  61442_600  6  61442  600                [felt warm]           [308 317]\n",
       "3  61443_600  6  61443  600                    [fever]           [177 182]\n",
       "4  61449_600  6  61449  600                    [fever]           [331 336]"
      ]
     },
     "execution_count": 28,
     "metadata": {},
     "output_type": "execute_result"
    }
   ],
   "source": [
    "df=pd.DataFrame(new_annotation)\n",
    "df.head()"
   ]
  },
  {
   "cell_type": "code",
   "execution_count": 29,
   "id": "b0b462ac",
   "metadata": {},
   "outputs": [
    {
     "data": {
      "text/html": [
       "<div>\n",
       "<style scoped>\n",
       "    .dataframe tbody tr th:only-of-type {\n",
       "        vertical-align: middle;\n",
       "    }\n",
       "\n",
       "    .dataframe tbody tr th {\n",
       "        vertical-align: top;\n",
       "    }\n",
       "\n",
       "    .dataframe thead th {\n",
       "        text-align: right;\n",
       "    }\n",
       "</style>\n",
       "<table border=\"1\" class=\"dataframe\">\n",
       "  <thead>\n",
       "    <tr style=\"text-align: right;\">\n",
       "      <th></th>\n",
       "      <th>id</th>\n",
       "      <th>case_num</th>\n",
       "      <th>pn_num</th>\n",
       "      <th>feature_num</th>\n",
       "      <th>annotation</th>\n",
       "      <th>location</th>\n",
       "    </tr>\n",
       "  </thead>\n",
       "  <tbody>\n",
       "    <tr>\n",
       "      <th>0</th>\n",
       "      <td>61440_600</td>\n",
       "      <td>6</td>\n",
       "      <td>61440</td>\n",
       "      <td>600</td>\n",
       "      <td>[subjective fever, fever]</td>\n",
       "      <td>[321 337, 332 337]</td>\n",
       "    </tr>\n",
       "    <tr>\n",
       "      <th>1</th>\n",
       "      <td>61441_600</td>\n",
       "      <td>6</td>\n",
       "      <td>61441</td>\n",
       "      <td>600</td>\n",
       "      <td>[warmth]</td>\n",
       "      <td>[359 365]</td>\n",
       "    </tr>\n",
       "    <tr>\n",
       "      <th>2</th>\n",
       "      <td>61442_600</td>\n",
       "      <td>6</td>\n",
       "      <td>61442</td>\n",
       "      <td>600</td>\n",
       "      <td>[felt warm]</td>\n",
       "      <td>[308 317]</td>\n",
       "    </tr>\n",
       "    <tr>\n",
       "      <th>3</th>\n",
       "      <td>61443_600</td>\n",
       "      <td>6</td>\n",
       "      <td>61443</td>\n",
       "      <td>600</td>\n",
       "      <td>[fever]</td>\n",
       "      <td>[177 182]</td>\n",
       "    </tr>\n",
       "    <tr>\n",
       "      <th>4</th>\n",
       "      <td>61449_600</td>\n",
       "      <td>6</td>\n",
       "      <td>61449</td>\n",
       "      <td>600</td>\n",
       "      <td>[fever]</td>\n",
       "      <td>[331 336]</td>\n",
       "    </tr>\n",
       "  </tbody>\n",
       "</table>\n",
       "</div>"
      ],
      "text/plain": [
       "          id  case_num  pn_num  feature_num                 annotation  \\\n",
       "0  61440_600         6   61440          600  [subjective fever, fever]   \n",
       "1  61441_600         6   61441          600                   [warmth]   \n",
       "2  61442_600         6   61442          600                [felt warm]   \n",
       "3  61443_600         6   61443          600                    [fever]   \n",
       "4  61449_600         6   61449          600                    [fever]   \n",
       "\n",
       "             location  \n",
       "0  [321 337, 332 337]  \n",
       "1           [359 365]  \n",
       "2           [308 317]  \n",
       "3           [177 182]  \n",
       "4           [331 336]  "
      ]
     },
     "execution_count": 29,
     "metadata": {},
     "output_type": "execute_result"
    }
   ],
   "source": [
    "df.columns=['id','case_num','pn_num','feature_num','annotation','location']\n",
    "df.head()"
   ]
  },
  {
   "cell_type": "code",
   "execution_count": 30,
   "id": "123e1648",
   "metadata": {},
   "outputs": [
    {
     "data": {
      "text/html": [
       "<div>\n",
       "<style scoped>\n",
       "    .dataframe tbody tr th:only-of-type {\n",
       "        vertical-align: middle;\n",
       "    }\n",
       "\n",
       "    .dataframe tbody tr th {\n",
       "        vertical-align: top;\n",
       "    }\n",
       "\n",
       "    .dataframe thead th {\n",
       "        text-align: right;\n",
       "    }\n",
       "</style>\n",
       "<table border=\"1\" class=\"dataframe\">\n",
       "  <thead>\n",
       "    <tr style=\"text-align: right;\">\n",
       "      <th></th>\n",
       "      <th>id</th>\n",
       "      <th>case_num</th>\n",
       "      <th>pn_num</th>\n",
       "      <th>feature_num</th>\n",
       "      <th>annotation</th>\n",
       "      <th>location</th>\n",
       "    </tr>\n",
       "  </thead>\n",
       "  <tbody>\n",
       "    <tr>\n",
       "      <th>0</th>\n",
       "      <td>61440_600</td>\n",
       "      <td>6</td>\n",
       "      <td>61440</td>\n",
       "      <td>600</td>\n",
       "      <td>'subjective fever', 'fever'</td>\n",
       "      <td>'321 337', '332 337'</td>\n",
       "    </tr>\n",
       "    <tr>\n",
       "      <th>1</th>\n",
       "      <td>61441_600</td>\n",
       "      <td>6</td>\n",
       "      <td>61441</td>\n",
       "      <td>600</td>\n",
       "      <td>'warmth'</td>\n",
       "      <td>'359 365'</td>\n",
       "    </tr>\n",
       "    <tr>\n",
       "      <th>2</th>\n",
       "      <td>61442_600</td>\n",
       "      <td>6</td>\n",
       "      <td>61442</td>\n",
       "      <td>600</td>\n",
       "      <td>'felt warm'</td>\n",
       "      <td>'308 317'</td>\n",
       "    </tr>\n",
       "    <tr>\n",
       "      <th>3</th>\n",
       "      <td>61443_600</td>\n",
       "      <td>6</td>\n",
       "      <td>61443</td>\n",
       "      <td>600</td>\n",
       "      <td>'fever'</td>\n",
       "      <td>'177 182'</td>\n",
       "    </tr>\n",
       "    <tr>\n",
       "      <th>4</th>\n",
       "      <td>61449_600</td>\n",
       "      <td>6</td>\n",
       "      <td>61449</td>\n",
       "      <td>600</td>\n",
       "      <td>'fever'</td>\n",
       "      <td>'331 336'</td>\n",
       "    </tr>\n",
       "  </tbody>\n",
       "</table>\n",
       "</div>"
      ],
      "text/plain": [
       "          id  case_num  pn_num  feature_num                   annotation  \\\n",
       "0  61440_600         6   61440          600  'subjective fever', 'fever'   \n",
       "1  61441_600         6   61441          600                     'warmth'   \n",
       "2  61442_600         6   61442          600                  'felt warm'   \n",
       "3  61443_600         6   61443          600                      'fever'   \n",
       "4  61449_600         6   61449          600                      'fever'   \n",
       "\n",
       "               location  \n",
       "0  '321 337', '332 337'  \n",
       "1             '359 365'  \n",
       "2             '308 317'  \n",
       "3             '177 182'  \n",
       "4             '331 336'  "
      ]
     },
     "execution_count": 30,
     "metadata": {},
     "output_type": "execute_result"
    }
   ],
   "source": [
    "df[\"location\"] = df[\"location\"].apply(str)\n",
    "df[\"annotation\"] = df[\"annotation\"].apply(str)\n",
    "\n",
    "df[\"annotation\"] = df.annotation.str.replace('[','')\n",
    "df[\"annotation\"] = df.annotation.str.replace(']','')\n",
    "df[\"location\"] = df.location.str.replace('[','')\n",
    "df[\"location\"] = df.location.str.replace(']','')\n",
    "\n",
    "df.head()"
   ]
  },
  {
   "cell_type": "code",
   "execution_count": 31,
   "id": "4fcd86b2",
   "metadata": {},
   "outputs": [
    {
     "data": {
      "text/plain": [
       "(1648, 4)"
      ]
     },
     "execution_count": 31,
     "metadata": {},
     "output_type": "execute_result"
    }
   ],
   "source": [
    "df = df[(df[\"feature_num\"] == 603)|(df[\"feature_num\"] == 609)|(df[\"feature_num\"] == 610)][['pn_num','annotation',\"location\",\"feature_num\"]]\n",
    "df.shape"
   ]
  },
  {
   "cell_type": "code",
   "execution_count": 47,
   "id": "1f36a901",
   "metadata": {},
   "outputs": [],
   "source": [
    "df.loc[df[\"annotation\"] == \"'rhinorrhea', 'congestion', 'congestion, rhinorrhea'\",\"annotation\"] = \"'rhinorrhea', 'congestion', 'congestion  rhinorrhea'\"\n",
    "df.loc[df[\"annotation\"] == \"'rhinorrhea', 'nasal congestion', 'congestion', 'congestion, rhinorrhea'\",\"annotation\"] = \"'rhinorrhea', 'nasal congestion', 'congestion', 'congestion  rhinorrhea'\""
   ]
  },
  {
   "cell_type": "code",
   "execution_count": 38,
   "id": "d675b599",
   "metadata": {},
   "outputs": [],
   "source": [
    "df.loc[df[\"annotation\"] == \"'stuffy, runny nose', 'runny nose'\",\"annotation\"] = \"'stuffy  runny nose', 'runny nose'\""
   ]
  },
  {
   "cell_type": "code",
   "execution_count": 34,
   "id": "3fb053c6",
   "metadata": {},
   "outputs": [],
   "source": [
    "df.loc[df[\"annotation\"] == \"'congestion', 'congestion, rhinorrhea', 'rhinorrhea'\",\"annotation\"] = \"'congestion', 'congestion  rhinorrhea', 'rhinorrhea'\"\n",
    "df.loc[df[\"annotation\"] == \"'congestion', 'nasal congestion', 'congestion, rhinorrhea', 'rhinorrhea'\",\"annotation\"] = \"'congestion', 'nasal congestion', 'congestion  rhinorrhea', 'rhinorrhea'\"\n",
    "df.loc[df[\"annotation\"] == \"'runny nose', 'stuffy, runny nose'\",\"annotation\"] = \"'runny nose', 'stuffy  runny nose'\"\n",
    "df.loc[df[\"annotation\"] == \"'congestion, rhinorrhea', 'nasal congestion', 'rhinorrhea', 'congestion'\",\"annotation\"] = \"'congestion  rhinorrhea', 'nasal congestion', 'rhinorrhea', 'congestion'\"\n",
    "df.loc[df[\"annotation\"] == \"'congestion, rhinorrhea', 'rhinorrhea', 'congestion'\",\"annotation\"] = \"'congestion  rhinorrhea', 'rhinorrhea', 'congestion'\""
   ]
  },
  {
   "cell_type": "code",
   "execution_count": 48,
   "id": "5cce6db9",
   "metadata": {},
   "outputs": [],
   "source": [
    "df = (df.set_index([\"pn_num\",\"feature_num\"]) \n",
    "   .apply(lambda col: col.str.split(\",\").explode())\n",
    "   .reset_index()\n",
    "   .reindex(df.columns, axis=1))\n"
   ]
  },
  {
   "cell_type": "code",
   "execution_count": 49,
   "id": "d45b1258",
   "metadata": {
    "scrolled": true
   },
   "outputs": [
    {
     "data": {
      "text/html": [
       "<div>\n",
       "<style scoped>\n",
       "    .dataframe tbody tr th:only-of-type {\n",
       "        vertical-align: middle;\n",
       "    }\n",
       "\n",
       "    .dataframe tbody tr th {\n",
       "        vertical-align: top;\n",
       "    }\n",
       "\n",
       "    .dataframe thead th {\n",
       "        text-align: right;\n",
       "    }\n",
       "</style>\n",
       "<table border=\"1\" class=\"dataframe\">\n",
       "  <thead>\n",
       "    <tr style=\"text-align: right;\">\n",
       "      <th></th>\n",
       "      <th>pn_num</th>\n",
       "      <th>annotation</th>\n",
       "      <th>location</th>\n",
       "      <th>feature_num</th>\n",
       "      <th>start_location</th>\n",
       "      <th>end_location</th>\n",
       "    </tr>\n",
       "  </thead>\n",
       "  <tbody>\n",
       "    <tr>\n",
       "      <th>0</th>\n",
       "      <td>61440</td>\n",
       "      <td>'stuffy nose'</td>\n",
       "      <td>'341 352'</td>\n",
       "      <td>603</td>\n",
       "      <td>341</td>\n",
       "      <td>352</td>\n",
       "    </tr>\n",
       "    <tr>\n",
       "      <th>1</th>\n",
       "      <td>61442</td>\n",
       "      <td>'stuffy nose'</td>\n",
       "      <td>'343 354'</td>\n",
       "      <td>603</td>\n",
       "      <td>343</td>\n",
       "      <td>354</td>\n",
       "    </tr>\n",
       "    <tr>\n",
       "      <th>2</th>\n",
       "      <td>61443</td>\n",
       "      <td>'runny nose'</td>\n",
       "      <td>'165 175'</td>\n",
       "      <td>603</td>\n",
       "      <td>165</td>\n",
       "      <td>175</td>\n",
       "    </tr>\n",
       "    <tr>\n",
       "      <th>3</th>\n",
       "      <td>61444</td>\n",
       "      <td>'stuffy nose'</td>\n",
       "      <td>'189 200'</td>\n",
       "      <td>603</td>\n",
       "      <td>189</td>\n",
       "      <td>200</td>\n",
       "    </tr>\n",
       "    <tr>\n",
       "      <th>4</th>\n",
       "      <td>61449</td>\n",
       "      <td>'runny nose'</td>\n",
       "      <td>'319 329'</td>\n",
       "      <td>603</td>\n",
       "      <td>319</td>\n",
       "      <td>329</td>\n",
       "    </tr>\n",
       "    <tr>\n",
       "      <th>...</th>\n",
       "      <td>...</td>\n",
       "      <td>...</td>\n",
       "      <td>...</td>\n",
       "      <td>...</td>\n",
       "      <td>...</td>\n",
       "      <td>...</td>\n",
       "    </tr>\n",
       "    <tr>\n",
       "      <th>2375</th>\n",
       "      <td>61380</td>\n",
       "      <td>'albuterol inhaler without relief'</td>\n",
       "      <td>'414 446'</td>\n",
       "      <td>610</td>\n",
       "      <td>414</td>\n",
       "      <td>446</td>\n",
       "    </tr>\n",
       "    <tr>\n",
       "      <th>2376</th>\n",
       "      <td>61381</td>\n",
       "      <td>'not relieved by albuterol'</td>\n",
       "      <td>'288 313'</td>\n",
       "      <td>610</td>\n",
       "      <td>288</td>\n",
       "      <td>313</td>\n",
       "    </tr>\n",
       "    <tr>\n",
       "      <th>2377</th>\n",
       "      <td>61382</td>\n",
       "      <td>'albuterol inhaler did not help'</td>\n",
       "      <td>'186 216'</td>\n",
       "      <td>610</td>\n",
       "      <td>186</td>\n",
       "      <td>216</td>\n",
       "    </tr>\n",
       "    <tr>\n",
       "      <th>2378</th>\n",
       "      <td>61411</td>\n",
       "      <td>'albuterol did not help'</td>\n",
       "      <td>'396 418'</td>\n",
       "      <td>610</td>\n",
       "      <td>396</td>\n",
       "      <td>418</td>\n",
       "    </tr>\n",
       "    <tr>\n",
       "      <th>2379</th>\n",
       "      <td>61439</td>\n",
       "      <td>'albuterol inhaler without relief'</td>\n",
       "      <td>'478 510'</td>\n",
       "      <td>610</td>\n",
       "      <td>478</td>\n",
       "      <td>510</td>\n",
       "    </tr>\n",
       "  </tbody>\n",
       "</table>\n",
       "<p>2380 rows × 6 columns</p>\n",
       "</div>"
      ],
      "text/plain": [
       "      pn_num                          annotation   location  feature_num  \\\n",
       "0      61440                       'stuffy nose'  '341 352'          603   \n",
       "1      61442                       'stuffy nose'  '343 354'          603   \n",
       "2      61443                        'runny nose'  '165 175'          603   \n",
       "3      61444                       'stuffy nose'  '189 200'          603   \n",
       "4      61449                        'runny nose'  '319 329'          603   \n",
       "...      ...                                 ...        ...          ...   \n",
       "2375   61380  'albuterol inhaler without relief'  '414 446'          610   \n",
       "2376   61381         'not relieved by albuterol'  '288 313'          610   \n",
       "2377   61382    'albuterol inhaler did not help'  '186 216'          610   \n",
       "2378   61411            'albuterol did not help'  '396 418'          610   \n",
       "2379   61439  'albuterol inhaler without relief'  '478 510'          610   \n",
       "\n",
       "     start_location end_location  \n",
       "0               341          352  \n",
       "1               343          354  \n",
       "2               165          175  \n",
       "3               189          200  \n",
       "4               319          329  \n",
       "...             ...          ...  \n",
       "2375            414          446  \n",
       "2376            288          313  \n",
       "2377            186          216  \n",
       "2378            396          418  \n",
       "2379            478          510  \n",
       "\n",
       "[2380 rows x 6 columns]"
      ]
     },
     "execution_count": 49,
     "metadata": {},
     "output_type": "execute_result"
    }
   ],
   "source": [
    "df[\"start_location\"] = df[\"location\"].apply(lambda x: x.split()[0][1:])\n",
    "df[\"end_location\"] = df[\"location\"].apply(lambda x: x.split()[-1][:-1])\n",
    "df"
   ]
  },
  {
   "cell_type": "code",
   "execution_count": 50,
   "id": "5b1d439c",
   "metadata": {},
   "outputs": [
    {
     "data": {
      "text/plain": [
       "(100, 6)"
      ]
     },
     "execution_count": 50,
     "metadata": {},
     "output_type": "execute_result"
    }
   ],
   "source": [
    "df_603 = df[df[\"feature_num\"] == 603].sample(n = 100, random_state = 0)\n",
    "df_603.shape"
   ]
  },
  {
   "cell_type": "code",
   "execution_count": 51,
   "id": "f7334e25",
   "metadata": {},
   "outputs": [
    {
     "data": {
      "text/plain": [
       "(140, 6)"
      ]
     },
     "execution_count": 51,
     "metadata": {},
     "output_type": "execute_result"
    }
   ],
   "source": [
    "df_609 = df[df[\"feature_num\"] == 609].sample(n = 140, random_state = 0)\n",
    "df_609.shape"
   ]
  },
  {
   "cell_type": "code",
   "execution_count": 52,
   "id": "bc6a0df1",
   "metadata": {},
   "outputs": [
    {
     "data": {
      "text/plain": [
       "(100, 6)"
      ]
     },
     "execution_count": 52,
     "metadata": {},
     "output_type": "execute_result"
    }
   ],
   "source": [
    "df_610 = df[df[\"feature_num\"] == 610].sample(n = 100, random_state = 0)\n",
    "df_610.shape"
   ]
  },
  {
   "cell_type": "code",
   "execution_count": 53,
   "id": "b24ea75b",
   "metadata": {},
   "outputs": [
    {
     "data": {
      "text/html": [
       "<div>\n",
       "<style scoped>\n",
       "    .dataframe tbody tr th:only-of-type {\n",
       "        vertical-align: middle;\n",
       "    }\n",
       "\n",
       "    .dataframe tbody tr th {\n",
       "        vertical-align: top;\n",
       "    }\n",
       "\n",
       "    .dataframe thead th {\n",
       "        text-align: right;\n",
       "    }\n",
       "</style>\n",
       "<table border=\"1\" class=\"dataframe\">\n",
       "  <thead>\n",
       "    <tr style=\"text-align: right;\">\n",
       "      <th></th>\n",
       "      <th>pn_num</th>\n",
       "      <th>annotation</th>\n",
       "      <th>location</th>\n",
       "      <th>feature_num</th>\n",
       "      <th>start_location</th>\n",
       "      <th>end_location</th>\n",
       "    </tr>\n",
       "  </thead>\n",
       "  <tbody>\n",
       "    <tr>\n",
       "      <th>1718</th>\n",
       "      <td>60066</td>\n",
       "      <td>'rock climb'</td>\n",
       "      <td>'923 933'</td>\n",
       "      <td>609</td>\n",
       "      <td>923</td>\n",
       "      <td>933</td>\n",
       "    </tr>\n",
       "    <tr>\n",
       "      <th>1709</th>\n",
       "      <td>60044</td>\n",
       "      <td>'rock climbing'</td>\n",
       "      <td>'648 661'</td>\n",
       "      <td>609</td>\n",
       "      <td>648</td>\n",
       "      <td>661</td>\n",
       "    </tr>\n",
       "    <tr>\n",
       "      <th>1536</th>\n",
       "      <td>61477</td>\n",
       "      <td>'rock climb'</td>\n",
       "      <td>'773 783'</td>\n",
       "      <td>609</td>\n",
       "      <td>773</td>\n",
       "      <td>783</td>\n",
       "    </tr>\n",
       "    <tr>\n",
       "      <th>1553</th>\n",
       "      <td>61517</td>\n",
       "      <td>'rock climbing'</td>\n",
       "      <td>'216 229'</td>\n",
       "      <td>609</td>\n",
       "      <td>216</td>\n",
       "      <td>229</td>\n",
       "    </tr>\n",
       "    <tr>\n",
       "      <th>2027</th>\n",
       "      <td>60845</td>\n",
       "      <td>'rockclimbing'</td>\n",
       "      <td>'895 907'</td>\n",
       "      <td>609</td>\n",
       "      <td>895</td>\n",
       "      <td>907</td>\n",
       "    </tr>\n",
       "    <tr>\n",
       "      <th>...</th>\n",
       "      <td>...</td>\n",
       "      <td>...</td>\n",
       "      <td>...</td>\n",
       "      <td>...</td>\n",
       "      <td>...</td>\n",
       "      <td>...</td>\n",
       "    </tr>\n",
       "    <tr>\n",
       "      <th>2123</th>\n",
       "      <td>61049</td>\n",
       "      <td>'rock climb'</td>\n",
       "      <td>'718 728'</td>\n",
       "      <td>609</td>\n",
       "      <td>718</td>\n",
       "      <td>728</td>\n",
       "    </tr>\n",
       "    <tr>\n",
       "      <th>1732</th>\n",
       "      <td>60089</td>\n",
       "      <td>'rock climbing'</td>\n",
       "      <td>'398 411'</td>\n",
       "      <td>609</td>\n",
       "      <td>398</td>\n",
       "      <td>411</td>\n",
       "    </tr>\n",
       "    <tr>\n",
       "      <th>1980</th>\n",
       "      <td>60698</td>\n",
       "      <td>'rock climbing'</td>\n",
       "      <td>'778 791'</td>\n",
       "      <td>609</td>\n",
       "      <td>778</td>\n",
       "      <td>791</td>\n",
       "    </tr>\n",
       "    <tr>\n",
       "      <th>2124</th>\n",
       "      <td>61053</td>\n",
       "      <td>'rock climb'</td>\n",
       "      <td>'526 536'</td>\n",
       "      <td>609</td>\n",
       "      <td>526</td>\n",
       "      <td>536</td>\n",
       "    </tr>\n",
       "    <tr>\n",
       "      <th>2024</th>\n",
       "      <td>60834</td>\n",
       "      <td>'rock climbs'</td>\n",
       "      <td>'418 429'</td>\n",
       "      <td>609</td>\n",
       "      <td>418</td>\n",
       "      <td>429</td>\n",
       "    </tr>\n",
       "  </tbody>\n",
       "</table>\n",
       "<p>140 rows × 6 columns</p>\n",
       "</div>"
      ],
      "text/plain": [
       "      pn_num       annotation    location  feature_num start_location  \\\n",
       "1718   60066     'rock climb'   '923 933'          609            923   \n",
       "1709   60044  'rock climbing'   '648 661'          609            648   \n",
       "1536   61477     'rock climb'   '773 783'          609            773   \n",
       "1553   61517  'rock climbing'   '216 229'          609            216   \n",
       "2027   60845   'rockclimbing'   '895 907'          609            895   \n",
       "...      ...              ...         ...          ...            ...   \n",
       "2123   61049     'rock climb'   '718 728'          609            718   \n",
       "1732   60089  'rock climbing'   '398 411'          609            398   \n",
       "1980   60698  'rock climbing'   '778 791'          609            778   \n",
       "2124   61053     'rock climb'   '526 536'          609            526   \n",
       "2024   60834    'rock climbs'   '418 429'          609            418   \n",
       "\n",
       "     end_location  \n",
       "1718          933  \n",
       "1709          661  \n",
       "1536          783  \n",
       "1553          229  \n",
       "2027          907  \n",
       "...           ...  \n",
       "2123          728  \n",
       "1732          411  \n",
       "1980          791  \n",
       "2124          536  \n",
       "2024          429  \n",
       "\n",
       "[140 rows x 6 columns]"
      ]
     },
     "execution_count": 53,
     "metadata": {},
     "output_type": "execute_result"
    }
   ],
   "source": [
    "df_609"
   ]
  },
  {
   "cell_type": "markdown",
   "id": "0d97238b",
   "metadata": {},
   "source": [
    "### Case - 6 Train data"
   ]
  },
  {
   "cell_type": "code",
   "execution_count": 54,
   "id": "b57e3d95",
   "metadata": {},
   "outputs": [],
   "source": [
    "case_6_train = case_6_train[['pn_num','annotation',\"location\",\"feature_num\"]]"
   ]
  },
  {
   "cell_type": "code",
   "execution_count": 55,
   "id": "ea5c5e02",
   "metadata": {},
   "outputs": [
    {
     "data": {
      "text/html": [
       "<div>\n",
       "<style scoped>\n",
       "    .dataframe tbody tr th:only-of-type {\n",
       "        vertical-align: middle;\n",
       "    }\n",
       "\n",
       "    .dataframe tbody tr th {\n",
       "        vertical-align: top;\n",
       "    }\n",
       "\n",
       "    .dataframe thead th {\n",
       "        text-align: right;\n",
       "    }\n",
       "</style>\n",
       "<table border=\"1\" class=\"dataframe\">\n",
       "  <thead>\n",
       "    <tr style=\"text-align: right;\">\n",
       "      <th></th>\n",
       "      <th>pn_num</th>\n",
       "      <th>annotation</th>\n",
       "      <th>location</th>\n",
       "      <th>feature_num</th>\n",
       "    </tr>\n",
       "  </thead>\n",
       "  <tbody>\n",
       "    <tr>\n",
       "      <th>8700</th>\n",
       "      <td>60004</td>\n",
       "      <td>'feeling febrile'</td>\n",
       "      <td>'293 308'</td>\n",
       "      <td>600</td>\n",
       "    </tr>\n",
       "    <tr>\n",
       "      <th>8701</th>\n",
       "      <td>60004</td>\n",
       "      <td>'male'</td>\n",
       "      <td>'7 11'</td>\n",
       "      <td>601</td>\n",
       "    </tr>\n",
       "    <tr>\n",
       "      <th>8702</th>\n",
       "      <td>60004</td>\n",
       "      <td>'17 y/o'</td>\n",
       "      <td>'0 6'</td>\n",
       "      <td>602</td>\n",
       "    </tr>\n",
       "    <tr>\n",
       "      <th>8703</th>\n",
       "      <td>60004</td>\n",
       "      <td>'recently had running nose'</td>\n",
       "      <td>'266 291'</td>\n",
       "      <td>603</td>\n",
       "    </tr>\n",
       "    <tr>\n",
       "      <th>8704</th>\n",
       "      <td>60004</td>\n",
       "      <td>'8/10 with deep inspiration'</td>\n",
       "      <td>'153 179'</td>\n",
       "      <td>604</td>\n",
       "    </tr>\n",
       "    <tr>\n",
       "      <th>...</th>\n",
       "      <td>...</td>\n",
       "      <td>...</td>\n",
       "      <td>...</td>\n",
       "      <td>...</td>\n",
       "    </tr>\n",
       "    <tr>\n",
       "      <th>9894</th>\n",
       "      <td>61768</td>\n",
       "      <td>'chest pain'</td>\n",
       "      <td>'56 66'</td>\n",
       "      <td>606</td>\n",
       "    </tr>\n",
       "    <tr>\n",
       "      <th>9895</th>\n",
       "      <td>61768</td>\n",
       "      <td>'for one day'</td>\n",
       "      <td>'67 78'</td>\n",
       "      <td>607</td>\n",
       "    </tr>\n",
       "    <tr>\n",
       "      <th>9896</th>\n",
       "      <td>61768</td>\n",
       "      <td>'negative shortness of breath'</td>\n",
       "      <td>'413 421;460 479'</td>\n",
       "      <td>608</td>\n",
       "    </tr>\n",
       "    <tr>\n",
       "      <th>9898</th>\n",
       "      <td>61768</td>\n",
       "      <td>'albuteral inhaler without relief'</td>\n",
       "      <td>'374 406'</td>\n",
       "      <td>610</td>\n",
       "    </tr>\n",
       "    <tr>\n",
       "      <th>9899</th>\n",
       "      <td>61768</td>\n",
       "      <td>'sharp', '8/10'</td>\n",
       "      <td>'139 144', '167 171'</td>\n",
       "      <td>611</td>\n",
       "    </tr>\n",
       "  </tbody>\n",
       "</table>\n",
       "<p>971 rows × 4 columns</p>\n",
       "</div>"
      ],
      "text/plain": [
       "      pn_num                          annotation              location  \\\n",
       "8700   60004                   'feeling febrile'             '293 308'   \n",
       "8701   60004                              'male'                '7 11'   \n",
       "8702   60004                            '17 y/o'                 '0 6'   \n",
       "8703   60004         'recently had running nose'             '266 291'   \n",
       "8704   60004        '8/10 with deep inspiration'             '153 179'   \n",
       "...      ...                                 ...                   ...   \n",
       "9894   61768                        'chest pain'               '56 66'   \n",
       "9895   61768                       'for one day'               '67 78'   \n",
       "9896   61768      'negative shortness of breath'     '413 421;460 479'   \n",
       "9898   61768  'albuteral inhaler without relief'             '374 406'   \n",
       "9899   61768                     'sharp', '8/10'  '139 144', '167 171'   \n",
       "\n",
       "      feature_num  \n",
       "8700          600  \n",
       "8701          601  \n",
       "8702          602  \n",
       "8703          603  \n",
       "8704          604  \n",
       "...           ...  \n",
       "9894          606  \n",
       "9895          607  \n",
       "9896          608  \n",
       "9898          610  \n",
       "9899          611  \n",
       "\n",
       "[971 rows x 4 columns]"
      ]
     },
     "execution_count": 55,
     "metadata": {},
     "output_type": "execute_result"
    }
   ],
   "source": [
    "case_6_train[\"annotation\"] = case_6_train.annotation.str.replace('[','')\n",
    "case_6_train[\"annotation\"] = case_6_train.annotation.str.replace(']','')\n",
    "case_6_train[\"location\"] = case_6_train.location.str.replace('[','')\n",
    "case_6_train[\"location\"] = case_6_train.location.str.replace(']','')\n",
    "\n",
    "case_6_train"
   ]
  },
  {
   "cell_type": "code",
   "execution_count": 57,
   "id": "2d1f9a6b",
   "metadata": {},
   "outputs": [],
   "source": [
    "case_6_train.loc[case_6_train[\"annotation\"] == \"'albuterol, but didnt help'\",\"annotation\"] = \"'albuterol  but didnt help'\"\n",
    "case_6_train.loc[case_6_train[\"annotation\"] == \"'runny nose, with whitish yellowish secretions'\",\"annotation\"] = \"'runny nose  with whitish yellowish secretions'\"\n",
    "case_6_train.loc[case_6_train[\"annotation\"] == \"'recent URI', 'nasal stuffines, rhinorrhea, for 3-4 day'\",\"annotation\"] = \"'recent URI', 'nasal stuffines  rhinorrhea  for 3-4 day'\"\n",
    "case_6_train.loc[case_6_train[\"annotation\"] == \"'congestion, rhinorrhea'\",\"annotation\"] = \"'congestion  rhinorrhea'\"\n",
    "case_6_train.loc[case_6_train[\"annotation\"] == \"'stuffy, runny nose'\",\"annotation\"] = \"'stuffy  runny nose'\"\n",
    "case_6_train.loc[case_6_train[\"annotation\"] == \"'pain, worse w/ inhalation', 'worse w/ inhalation'\",\"annotation\"] = \"'pain  worse w/ inhalation', 'worse w/ inhalation'\"\n",
    "case_6_train.loc[case_6_train[\"annotation\"] == \"'No shortness of breath,'\",\"annotation\"] = \"'No shortness of breath '\""
   ]
  },
  {
   "cell_type": "code",
   "execution_count": 58,
   "id": "0d42ae34",
   "metadata": {
    "scrolled": true
   },
   "outputs": [
    {
     "data": {
      "text/html": [
       "<div>\n",
       "<style scoped>\n",
       "    .dataframe tbody tr th:only-of-type {\n",
       "        vertical-align: middle;\n",
       "    }\n",
       "\n",
       "    .dataframe tbody tr th {\n",
       "        vertical-align: top;\n",
       "    }\n",
       "\n",
       "    .dataframe thead th {\n",
       "        text-align: right;\n",
       "    }\n",
       "</style>\n",
       "<table border=\"1\" class=\"dataframe\">\n",
       "  <thead>\n",
       "    <tr style=\"text-align: right;\">\n",
       "      <th></th>\n",
       "      <th>pn_num</th>\n",
       "      <th>annotation</th>\n",
       "      <th>location</th>\n",
       "      <th>feature_num</th>\n",
       "    </tr>\n",
       "  </thead>\n",
       "  <tbody>\n",
       "    <tr>\n",
       "      <th>0</th>\n",
       "      <td>60004</td>\n",
       "      <td>'feeling febrile'</td>\n",
       "      <td>'293 308'</td>\n",
       "      <td>600</td>\n",
       "    </tr>\n",
       "    <tr>\n",
       "      <th>1</th>\n",
       "      <td>60004</td>\n",
       "      <td>'male'</td>\n",
       "      <td>'7 11'</td>\n",
       "      <td>601</td>\n",
       "    </tr>\n",
       "    <tr>\n",
       "      <th>2</th>\n",
       "      <td>60004</td>\n",
       "      <td>'17 y/o'</td>\n",
       "      <td>'0 6'</td>\n",
       "      <td>602</td>\n",
       "    </tr>\n",
       "    <tr>\n",
       "      <th>3</th>\n",
       "      <td>60004</td>\n",
       "      <td>'recently had running nose'</td>\n",
       "      <td>'266 291'</td>\n",
       "      <td>603</td>\n",
       "    </tr>\n",
       "    <tr>\n",
       "      <th>4</th>\n",
       "      <td>60004</td>\n",
       "      <td>'8/10 with deep inspiration'</td>\n",
       "      <td>'153 179'</td>\n",
       "      <td>604</td>\n",
       "    </tr>\n",
       "    <tr>\n",
       "      <th>...</th>\n",
       "      <td>...</td>\n",
       "      <td>...</td>\n",
       "      <td>...</td>\n",
       "      <td>...</td>\n",
       "    </tr>\n",
       "    <tr>\n",
       "      <th>1100</th>\n",
       "      <td>61768</td>\n",
       "      <td>'for one day'</td>\n",
       "      <td>'67 78'</td>\n",
       "      <td>607</td>\n",
       "    </tr>\n",
       "    <tr>\n",
       "      <th>1101</th>\n",
       "      <td>61768</td>\n",
       "      <td>'negative shortness of breath'</td>\n",
       "      <td>'413 421;460 479'</td>\n",
       "      <td>608</td>\n",
       "    </tr>\n",
       "    <tr>\n",
       "      <th>1102</th>\n",
       "      <td>61768</td>\n",
       "      <td>'albuteral inhaler without relief'</td>\n",
       "      <td>'374 406'</td>\n",
       "      <td>610</td>\n",
       "    </tr>\n",
       "    <tr>\n",
       "      <th>1103</th>\n",
       "      <td>61768</td>\n",
       "      <td>'sharp'</td>\n",
       "      <td>'139 144'</td>\n",
       "      <td>611</td>\n",
       "    </tr>\n",
       "    <tr>\n",
       "      <th>1104</th>\n",
       "      <td>61768</td>\n",
       "      <td>'8/10'</td>\n",
       "      <td>'167 171'</td>\n",
       "      <td>611</td>\n",
       "    </tr>\n",
       "  </tbody>\n",
       "</table>\n",
       "<p>1105 rows × 4 columns</p>\n",
       "</div>"
      ],
      "text/plain": [
       "      pn_num                          annotation           location  \\\n",
       "0      60004                   'feeling febrile'          '293 308'   \n",
       "1      60004                              'male'             '7 11'   \n",
       "2      60004                            '17 y/o'              '0 6'   \n",
       "3      60004         'recently had running nose'          '266 291'   \n",
       "4      60004        '8/10 with deep inspiration'          '153 179'   \n",
       "...      ...                                 ...                ...   \n",
       "1100   61768                       'for one day'            '67 78'   \n",
       "1101   61768      'negative shortness of breath'  '413 421;460 479'   \n",
       "1102   61768  'albuteral inhaler without relief'          '374 406'   \n",
       "1103   61768                             'sharp'          '139 144'   \n",
       "1104   61768                              '8/10'          '167 171'   \n",
       "\n",
       "      feature_num  \n",
       "0             600  \n",
       "1             601  \n",
       "2             602  \n",
       "3             603  \n",
       "4             604  \n",
       "...           ...  \n",
       "1100          607  \n",
       "1101          608  \n",
       "1102          610  \n",
       "1103          611  \n",
       "1104          611  \n",
       "\n",
       "[1105 rows x 4 columns]"
      ]
     },
     "execution_count": 58,
     "metadata": {},
     "output_type": "execute_result"
    }
   ],
   "source": [
    "case_6_train = (case_6_train.set_index(['pn_num',\"feature_num\"]) \n",
    "   .apply(lambda col: col.str.split(',').explode())\n",
    "   .reset_index()\n",
    "   .reindex(case_6_train.columns, axis=1))\n",
    "case_6_train"
   ]
  },
  {
   "cell_type": "code",
   "execution_count": 59,
   "id": "778cbed6",
   "metadata": {},
   "outputs": [
    {
     "data": {
      "text/html": [
       "<div>\n",
       "<style scoped>\n",
       "    .dataframe tbody tr th:only-of-type {\n",
       "        vertical-align: middle;\n",
       "    }\n",
       "\n",
       "    .dataframe tbody tr th {\n",
       "        vertical-align: top;\n",
       "    }\n",
       "\n",
       "    .dataframe thead th {\n",
       "        text-align: right;\n",
       "    }\n",
       "</style>\n",
       "<table border=\"1\" class=\"dataframe\">\n",
       "  <thead>\n",
       "    <tr style=\"text-align: right;\">\n",
       "      <th></th>\n",
       "      <th>pn_num</th>\n",
       "      <th>annotation</th>\n",
       "      <th>location</th>\n",
       "      <th>feature_num</th>\n",
       "      <th>start_location</th>\n",
       "      <th>end_location</th>\n",
       "    </tr>\n",
       "  </thead>\n",
       "  <tbody>\n",
       "    <tr>\n",
       "      <th>0</th>\n",
       "      <td>60004</td>\n",
       "      <td>'feeling febrile'</td>\n",
       "      <td>'293 308'</td>\n",
       "      <td>600</td>\n",
       "      <td>293</td>\n",
       "      <td>308</td>\n",
       "    </tr>\n",
       "    <tr>\n",
       "      <th>1</th>\n",
       "      <td>60004</td>\n",
       "      <td>'male'</td>\n",
       "      <td>'7 11'</td>\n",
       "      <td>601</td>\n",
       "      <td>7</td>\n",
       "      <td>11</td>\n",
       "    </tr>\n",
       "    <tr>\n",
       "      <th>2</th>\n",
       "      <td>60004</td>\n",
       "      <td>'17 y/o'</td>\n",
       "      <td>'0 6'</td>\n",
       "      <td>602</td>\n",
       "      <td>0</td>\n",
       "      <td>6</td>\n",
       "    </tr>\n",
       "    <tr>\n",
       "      <th>3</th>\n",
       "      <td>60004</td>\n",
       "      <td>'recently had running nose'</td>\n",
       "      <td>'266 291'</td>\n",
       "      <td>603</td>\n",
       "      <td>266</td>\n",
       "      <td>291</td>\n",
       "    </tr>\n",
       "    <tr>\n",
       "      <th>4</th>\n",
       "      <td>60004</td>\n",
       "      <td>'8/10 with deep inspiration'</td>\n",
       "      <td>'153 179'</td>\n",
       "      <td>604</td>\n",
       "      <td>153</td>\n",
       "      <td>179</td>\n",
       "    </tr>\n",
       "    <tr>\n",
       "      <th>...</th>\n",
       "      <td>...</td>\n",
       "      <td>...</td>\n",
       "      <td>...</td>\n",
       "      <td>...</td>\n",
       "      <td>...</td>\n",
       "      <td>...</td>\n",
       "    </tr>\n",
       "    <tr>\n",
       "      <th>1100</th>\n",
       "      <td>61768</td>\n",
       "      <td>'for one day'</td>\n",
       "      <td>'67 78'</td>\n",
       "      <td>607</td>\n",
       "      <td>67</td>\n",
       "      <td>78</td>\n",
       "    </tr>\n",
       "    <tr>\n",
       "      <th>1101</th>\n",
       "      <td>61768</td>\n",
       "      <td>'negative shortness of breath'</td>\n",
       "      <td>'413 421;460 479'</td>\n",
       "      <td>608</td>\n",
       "      <td>413</td>\n",
       "      <td>479</td>\n",
       "    </tr>\n",
       "    <tr>\n",
       "      <th>1102</th>\n",
       "      <td>61768</td>\n",
       "      <td>'albuteral inhaler without relief'</td>\n",
       "      <td>'374 406'</td>\n",
       "      <td>610</td>\n",
       "      <td>374</td>\n",
       "      <td>406</td>\n",
       "    </tr>\n",
       "    <tr>\n",
       "      <th>1103</th>\n",
       "      <td>61768</td>\n",
       "      <td>'sharp'</td>\n",
       "      <td>'139 144'</td>\n",
       "      <td>611</td>\n",
       "      <td>139</td>\n",
       "      <td>144</td>\n",
       "    </tr>\n",
       "    <tr>\n",
       "      <th>1104</th>\n",
       "      <td>61768</td>\n",
       "      <td>'8/10'</td>\n",
       "      <td>'167 171'</td>\n",
       "      <td>611</td>\n",
       "      <td>167</td>\n",
       "      <td>171</td>\n",
       "    </tr>\n",
       "  </tbody>\n",
       "</table>\n",
       "<p>1105 rows × 6 columns</p>\n",
       "</div>"
      ],
      "text/plain": [
       "      pn_num                          annotation           location  \\\n",
       "0      60004                   'feeling febrile'          '293 308'   \n",
       "1      60004                              'male'             '7 11'   \n",
       "2      60004                            '17 y/o'              '0 6'   \n",
       "3      60004         'recently had running nose'          '266 291'   \n",
       "4      60004        '8/10 with deep inspiration'          '153 179'   \n",
       "...      ...                                 ...                ...   \n",
       "1100   61768                       'for one day'            '67 78'   \n",
       "1101   61768      'negative shortness of breath'  '413 421;460 479'   \n",
       "1102   61768  'albuteral inhaler without relief'          '374 406'   \n",
       "1103   61768                             'sharp'          '139 144'   \n",
       "1104   61768                              '8/10'          '167 171'   \n",
       "\n",
       "      feature_num start_location end_location  \n",
       "0             600            293          308  \n",
       "1             601              7           11  \n",
       "2             602              0            6  \n",
       "3             603            266          291  \n",
       "4             604            153          179  \n",
       "...           ...            ...          ...  \n",
       "1100          607             67           78  \n",
       "1101          608            413          479  \n",
       "1102          610            374          406  \n",
       "1103          611            139          144  \n",
       "1104          611            167          171  \n",
       "\n",
       "[1105 rows x 6 columns]"
      ]
     },
     "execution_count": 59,
     "metadata": {},
     "output_type": "execute_result"
    }
   ],
   "source": [
    "case_6_train[\"start_location\"] = case_6_train[\"location\"].apply(lambda x: x.split()[0][1:])\n",
    "case_6_train[\"end_location\"] = case_6_train[\"location\"].apply(lambda x: x.split()[-1][:-1])\n",
    "case_6_train"
   ]
  },
  {
   "cell_type": "code",
   "execution_count": 60,
   "id": "844d419f",
   "metadata": {},
   "outputs": [
    {
     "data": {
      "text/plain": [
       "(1445, 6)"
      ]
     },
     "execution_count": 60,
     "metadata": {},
     "output_type": "execute_result"
    }
   ],
   "source": [
    "case_6 = pd.concat([case_6_train,df_603, df_609, df_610])\n",
    "case_6.shape"
   ]
  },
  {
   "cell_type": "code",
   "execution_count": 61,
   "id": "09f291d0",
   "metadata": {},
   "outputs": [
    {
     "data": {
      "text/html": [
       "<div>\n",
       "<style scoped>\n",
       "    .dataframe tbody tr th:only-of-type {\n",
       "        vertical-align: middle;\n",
       "    }\n",
       "\n",
       "    .dataframe tbody tr th {\n",
       "        vertical-align: top;\n",
       "    }\n",
       "\n",
       "    .dataframe thead th {\n",
       "        text-align: right;\n",
       "    }\n",
       "</style>\n",
       "<table border=\"1\" class=\"dataframe\">\n",
       "  <thead>\n",
       "    <tr style=\"text-align: right;\">\n",
       "      <th></th>\n",
       "      <th>pn_num</th>\n",
       "      <th>annotation</th>\n",
       "      <th>location</th>\n",
       "      <th>feature_num</th>\n",
       "      <th>start_location</th>\n",
       "      <th>end_location</th>\n",
       "      <th>case_num</th>\n",
       "      <th>pn_history</th>\n",
       "    </tr>\n",
       "  </thead>\n",
       "  <tbody>\n",
       "    <tr>\n",
       "      <th>0</th>\n",
       "      <td>60004</td>\n",
       "      <td>'feeling febrile'</td>\n",
       "      <td>'293 308'</td>\n",
       "      <td>600</td>\n",
       "      <td>293</td>\n",
       "      <td>308</td>\n",
       "      <td>6</td>\n",
       "      <td>17 y/o male with ches pain. Pt woke up yesterd...</td>\n",
       "    </tr>\n",
       "    <tr>\n",
       "      <th>1</th>\n",
       "      <td>60004</td>\n",
       "      <td>'male'</td>\n",
       "      <td>'7 11'</td>\n",
       "      <td>601</td>\n",
       "      <td>7</td>\n",
       "      <td>11</td>\n",
       "      <td>6</td>\n",
       "      <td>17 y/o male with ches pain. Pt woke up yesterd...</td>\n",
       "    </tr>\n",
       "    <tr>\n",
       "      <th>2</th>\n",
       "      <td>60004</td>\n",
       "      <td>'17 y/o'</td>\n",
       "      <td>'0 6'</td>\n",
       "      <td>602</td>\n",
       "      <td>0</td>\n",
       "      <td>6</td>\n",
       "      <td>6</td>\n",
       "      <td>17 y/o male with ches pain. Pt woke up yesterd...</td>\n",
       "    </tr>\n",
       "    <tr>\n",
       "      <th>3</th>\n",
       "      <td>60004</td>\n",
       "      <td>'recently had running nose'</td>\n",
       "      <td>'266 291'</td>\n",
       "      <td>603</td>\n",
       "      <td>266</td>\n",
       "      <td>291</td>\n",
       "      <td>6</td>\n",
       "      <td>17 y/o male with ches pain. Pt woke up yesterd...</td>\n",
       "    </tr>\n",
       "    <tr>\n",
       "      <th>4</th>\n",
       "      <td>60004</td>\n",
       "      <td>'8/10 with deep inspiration'</td>\n",
       "      <td>'153 179'</td>\n",
       "      <td>604</td>\n",
       "      <td>153</td>\n",
       "      <td>179</td>\n",
       "      <td>6</td>\n",
       "      <td>17 y/o male with ches pain. Pt woke up yesterd...</td>\n",
       "    </tr>\n",
       "    <tr>\n",
       "      <th>...</th>\n",
       "      <td>...</td>\n",
       "      <td>...</td>\n",
       "      <td>...</td>\n",
       "      <td>...</td>\n",
       "      <td>...</td>\n",
       "      <td>...</td>\n",
       "      <td>...</td>\n",
       "      <td>...</td>\n",
       "    </tr>\n",
       "    <tr>\n",
       "      <th>1440</th>\n",
       "      <td>60290</td>\n",
       "      <td>'albuterol inhaler with no relief'</td>\n",
       "      <td>'397 429'</td>\n",
       "      <td>610</td>\n",
       "      <td>397</td>\n",
       "      <td>429</td>\n",
       "      <td>6</td>\n",
       "      <td>17yo M who presents with sharp, severe left-si...</td>\n",
       "    </tr>\n",
       "    <tr>\n",
       "      <th>1441</th>\n",
       "      <td>61235</td>\n",
       "      <td>'albuterol inhaler without relief'</td>\n",
       "      <td>'396 428'</td>\n",
       "      <td>610</td>\n",
       "      <td>396</td>\n",
       "      <td>428</td>\n",
       "      <td>6</td>\n",
       "      <td>17 yo m presents to the office with 1 day hx o...</td>\n",
       "    </tr>\n",
       "    <tr>\n",
       "      <th>1442</th>\n",
       "      <td>60227</td>\n",
       "      <td>'albuterol inhaler have not helped'</td>\n",
       "      <td>'265 298'</td>\n",
       "      <td>610</td>\n",
       "      <td>265</td>\n",
       "      <td>298</td>\n",
       "      <td>6</td>\n",
       "      <td>Kane Smith is a 17 yo M who presents with shar...</td>\n",
       "    </tr>\n",
       "    <tr>\n",
       "      <th>1443</th>\n",
       "      <td>60584</td>\n",
       "      <td>'Albuterol inhaler with no relief'</td>\n",
       "      <td>'255 287'</td>\n",
       "      <td>610</td>\n",
       "      <td>255</td>\n",
       "      <td>287</td>\n",
       "      <td>6</td>\n",
       "      <td>Kane Smith is a 17yo M presenting with chest p...</td>\n",
       "    </tr>\n",
       "    <tr>\n",
       "      <th>1444</th>\n",
       "      <td>60515</td>\n",
       "      <td>'albuterol have not helped'</td>\n",
       "      <td>'195 220'</td>\n",
       "      <td>610</td>\n",
       "      <td>195</td>\n",
       "      <td>220</td>\n",
       "      <td>6</td>\n",
       "      <td>Pt is a 17 yo male presenting for sharp chest ...</td>\n",
       "    </tr>\n",
       "  </tbody>\n",
       "</table>\n",
       "<p>1445 rows × 8 columns</p>\n",
       "</div>"
      ],
      "text/plain": [
       "      pn_num                            annotation    location  feature_num  \\\n",
       "0      60004                     'feeling febrile'   '293 308'          600   \n",
       "1      60004                                'male'      '7 11'          601   \n",
       "2      60004                              '17 y/o'       '0 6'          602   \n",
       "3      60004           'recently had running nose'   '266 291'          603   \n",
       "4      60004          '8/10 with deep inspiration'   '153 179'          604   \n",
       "...      ...                                   ...         ...          ...   \n",
       "1440   60290    'albuterol inhaler with no relief'   '397 429'          610   \n",
       "1441   61235    'albuterol inhaler without relief'   '396 428'          610   \n",
       "1442   60227   'albuterol inhaler have not helped'   '265 298'          610   \n",
       "1443   60584    'Albuterol inhaler with no relief'   '255 287'          610   \n",
       "1444   60515           'albuterol have not helped'   '195 220'          610   \n",
       "\n",
       "     start_location end_location  case_num  \\\n",
       "0               293          308         6   \n",
       "1                 7           11         6   \n",
       "2                 0            6         6   \n",
       "3               266          291         6   \n",
       "4               153          179         6   \n",
       "...             ...          ...       ...   \n",
       "1440            397          429         6   \n",
       "1441            396          428         6   \n",
       "1442            265          298         6   \n",
       "1443            255          287         6   \n",
       "1444            195          220         6   \n",
       "\n",
       "                                             pn_history  \n",
       "0     17 y/o male with ches pain. Pt woke up yesterd...  \n",
       "1     17 y/o male with ches pain. Pt woke up yesterd...  \n",
       "2     17 y/o male with ches pain. Pt woke up yesterd...  \n",
       "3     17 y/o male with ches pain. Pt woke up yesterd...  \n",
       "4     17 y/o male with ches pain. Pt woke up yesterd...  \n",
       "...                                                 ...  \n",
       "1440  17yo M who presents with sharp, severe left-si...  \n",
       "1441  17 yo m presents to the office with 1 day hx o...  \n",
       "1442  Kane Smith is a 17 yo M who presents with shar...  \n",
       "1443  Kane Smith is a 17yo M presenting with chest p...  \n",
       "1444  Pt is a 17 yo male presenting for sharp chest ...  \n",
       "\n",
       "[1445 rows x 8 columns]"
      ]
     },
     "execution_count": 61,
     "metadata": {},
     "output_type": "execute_result"
    }
   ],
   "source": [
    "case_6 = case_6.merge(patient_notes, on='pn_num', how='left')\n",
    "case_6"
   ]
  },
  {
   "cell_type": "code",
   "execution_count": null,
   "id": "3e13a8b8",
   "metadata": {},
   "outputs": [],
   "source": []
  },
  {
   "cell_type": "code",
   "execution_count": 62,
   "id": "e64035a3",
   "metadata": {
    "scrolled": true
   },
   "outputs": [
    {
     "data": {
      "text/html": [
       "<div>\n",
       "<style scoped>\n",
       "    .dataframe tbody tr th:only-of-type {\n",
       "        vertical-align: middle;\n",
       "    }\n",
       "\n",
       "    .dataframe tbody tr th {\n",
       "        vertical-align: top;\n",
       "    }\n",
       "\n",
       "    .dataframe thead th {\n",
       "        text-align: right;\n",
       "    }\n",
       "</style>\n",
       "<table border=\"1\" class=\"dataframe\">\n",
       "  <thead>\n",
       "    <tr style=\"text-align: right;\">\n",
       "      <th></th>\n",
       "      <th>pn_num</th>\n",
       "      <th>annotation</th>\n",
       "      <th>location</th>\n",
       "      <th>feature_num</th>\n",
       "      <th>start_location</th>\n",
       "      <th>end_location</th>\n",
       "      <th>case_num</th>\n",
       "      <th>pn_history</th>\n",
       "      <th>New_annotation</th>\n",
       "    </tr>\n",
       "  </thead>\n",
       "  <tbody>\n",
       "    <tr>\n",
       "      <th>0</th>\n",
       "      <td>60004</td>\n",
       "      <td>'feeling febrile'</td>\n",
       "      <td>'293 308'</td>\n",
       "      <td>600</td>\n",
       "      <td>293</td>\n",
       "      <td>308</td>\n",
       "      <td>6</td>\n",
       "      <td>17 y/o male with ches pain. Pt woke up yesterd...</td>\n",
       "      <td>feeling febrile</td>\n",
       "    </tr>\n",
       "    <tr>\n",
       "      <th>1</th>\n",
       "      <td>60004</td>\n",
       "      <td>'male'</td>\n",
       "      <td>'7 11'</td>\n",
       "      <td>601</td>\n",
       "      <td>7</td>\n",
       "      <td>11</td>\n",
       "      <td>6</td>\n",
       "      <td>17 y/o male with ches pain. Pt woke up yesterd...</td>\n",
       "      <td>male</td>\n",
       "    </tr>\n",
       "    <tr>\n",
       "      <th>2</th>\n",
       "      <td>60004</td>\n",
       "      <td>'17 y/o'</td>\n",
       "      <td>'0 6'</td>\n",
       "      <td>602</td>\n",
       "      <td>0</td>\n",
       "      <td>6</td>\n",
       "      <td>6</td>\n",
       "      <td>17 y/o male with ches pain. Pt woke up yesterd...</td>\n",
       "      <td>17 y/o</td>\n",
       "    </tr>\n",
       "    <tr>\n",
       "      <th>3</th>\n",
       "      <td>60004</td>\n",
       "      <td>'recently had running nose'</td>\n",
       "      <td>'266 291'</td>\n",
       "      <td>603</td>\n",
       "      <td>266</td>\n",
       "      <td>291</td>\n",
       "      <td>6</td>\n",
       "      <td>17 y/o male with ches pain. Pt woke up yesterd...</td>\n",
       "      <td>recently had running nose</td>\n",
       "    </tr>\n",
       "    <tr>\n",
       "      <th>4</th>\n",
       "      <td>60004</td>\n",
       "      <td>'8/10 with deep inspiration'</td>\n",
       "      <td>'153 179'</td>\n",
       "      <td>604</td>\n",
       "      <td>153</td>\n",
       "      <td>179</td>\n",
       "      <td>6</td>\n",
       "      <td>17 y/o male with ches pain. Pt woke up yesterd...</td>\n",
       "      <td>8/10 with deep inspiration</td>\n",
       "    </tr>\n",
       "  </tbody>\n",
       "</table>\n",
       "</div>"
      ],
      "text/plain": [
       "   pn_num                    annotation   location  feature_num  \\\n",
       "0   60004             'feeling febrile'  '293 308'          600   \n",
       "1   60004                        'male'     '7 11'          601   \n",
       "2   60004                      '17 y/o'      '0 6'          602   \n",
       "3   60004   'recently had running nose'  '266 291'          603   \n",
       "4   60004  '8/10 with deep inspiration'  '153 179'          604   \n",
       "\n",
       "  start_location end_location  case_num  \\\n",
       "0            293          308         6   \n",
       "1              7           11         6   \n",
       "2              0            6         6   \n",
       "3            266          291         6   \n",
       "4            153          179         6   \n",
       "\n",
       "                                          pn_history  \\\n",
       "0  17 y/o male with ches pain. Pt woke up yesterd...   \n",
       "1  17 y/o male with ches pain. Pt woke up yesterd...   \n",
       "2  17 y/o male with ches pain. Pt woke up yesterd...   \n",
       "3  17 y/o male with ches pain. Pt woke up yesterd...   \n",
       "4  17 y/o male with ches pain. Pt woke up yesterd...   \n",
       "\n",
       "               New_annotation  \n",
       "0             feeling febrile  \n",
       "1                        male  \n",
       "2                      17 y/o  \n",
       "3   recently had running nose  \n",
       "4  8/10 with deep inspiration  "
      ]
     },
     "execution_count": 62,
     "metadata": {},
     "output_type": "execute_result"
    }
   ],
   "source": [
    "case_6[\"New_annotation\"] = case_6.apply(lambda x: x.pn_history[int(x.start_location):int(x.end_location)],axis=1)\n",
    "case_6.head()"
   ]
  },
  {
   "cell_type": "code",
   "execution_count": 63,
   "id": "18e06c48",
   "metadata": {},
   "outputs": [
    {
     "data": {
      "text/html": [
       "<div>\n",
       "<style scoped>\n",
       "    .dataframe tbody tr th:only-of-type {\n",
       "        vertical-align: middle;\n",
       "    }\n",
       "\n",
       "    .dataframe tbody tr th {\n",
       "        vertical-align: top;\n",
       "    }\n",
       "\n",
       "    .dataframe thead th {\n",
       "        text-align: right;\n",
       "    }\n",
       "</style>\n",
       "<table border=\"1\" class=\"dataframe\">\n",
       "  <thead>\n",
       "    <tr style=\"text-align: right;\">\n",
       "      <th></th>\n",
       "      <th>pn_num</th>\n",
       "      <th>annotation</th>\n",
       "      <th>location</th>\n",
       "      <th>feature_num</th>\n",
       "      <th>start_location</th>\n",
       "      <th>end_location</th>\n",
       "      <th>case_num</th>\n",
       "      <th>pn_history</th>\n",
       "      <th>New_annotation</th>\n",
       "    </tr>\n",
       "  </thead>\n",
       "  <tbody>\n",
       "    <tr>\n",
       "      <th>0</th>\n",
       "      <td>60004</td>\n",
       "      <td>'feeling febrile'</td>\n",
       "      <td>'293 308'</td>\n",
       "      <td>600</td>\n",
       "      <td>293</td>\n",
       "      <td>308</td>\n",
       "      <td>6</td>\n",
       "      <td>17 y/o male with ches pain. Pt woke up yesterd...</td>\n",
       "      <td>feeling febrile</td>\n",
       "    </tr>\n",
       "    <tr>\n",
       "      <th>1</th>\n",
       "      <td>60004</td>\n",
       "      <td>'male'</td>\n",
       "      <td>'7 11'</td>\n",
       "      <td>601</td>\n",
       "      <td>7</td>\n",
       "      <td>11</td>\n",
       "      <td>6</td>\n",
       "      <td>17 y/o male with ches pain. Pt woke up yesterd...</td>\n",
       "      <td>male</td>\n",
       "    </tr>\n",
       "    <tr>\n",
       "      <th>2</th>\n",
       "      <td>60004</td>\n",
       "      <td>'17 y/o'</td>\n",
       "      <td>'0 6'</td>\n",
       "      <td>602</td>\n",
       "      <td>0</td>\n",
       "      <td>6</td>\n",
       "      <td>6</td>\n",
       "      <td>17 y/o male with ches pain. Pt woke up yesterd...</td>\n",
       "      <td>17 y/o</td>\n",
       "    </tr>\n",
       "    <tr>\n",
       "      <th>3</th>\n",
       "      <td>60004</td>\n",
       "      <td>'recently had running nose'</td>\n",
       "      <td>'266 291'</td>\n",
       "      <td>603</td>\n",
       "      <td>266</td>\n",
       "      <td>291</td>\n",
       "      <td>6</td>\n",
       "      <td>17 y/o male with ches pain. Pt woke up yesterd...</td>\n",
       "      <td>recently had running nose</td>\n",
       "    </tr>\n",
       "    <tr>\n",
       "      <th>4</th>\n",
       "      <td>60004</td>\n",
       "      <td>'8/10 with deep inspiration'</td>\n",
       "      <td>'153 179'</td>\n",
       "      <td>604</td>\n",
       "      <td>153</td>\n",
       "      <td>179</td>\n",
       "      <td>6</td>\n",
       "      <td>17 y/o male with ches pain. Pt woke up yesterd...</td>\n",
       "      <td>8/10 with deep inspiration</td>\n",
       "    </tr>\n",
       "    <tr>\n",
       "      <th>...</th>\n",
       "      <td>...</td>\n",
       "      <td>...</td>\n",
       "      <td>...</td>\n",
       "      <td>...</td>\n",
       "      <td>...</td>\n",
       "      <td>...</td>\n",
       "      <td>...</td>\n",
       "      <td>...</td>\n",
       "      <td>...</td>\n",
       "    </tr>\n",
       "    <tr>\n",
       "      <th>1440</th>\n",
       "      <td>60290</td>\n",
       "      <td>'albuterol inhaler with no relief'</td>\n",
       "      <td>'397 429'</td>\n",
       "      <td>610</td>\n",
       "      <td>397</td>\n",
       "      <td>429</td>\n",
       "      <td>6</td>\n",
       "      <td>17yo M who presents with sharp, severe left-si...</td>\n",
       "      <td>albuterol inhaler with no relief</td>\n",
       "    </tr>\n",
       "    <tr>\n",
       "      <th>1441</th>\n",
       "      <td>61235</td>\n",
       "      <td>'albuterol inhaler without relief'</td>\n",
       "      <td>'396 428'</td>\n",
       "      <td>610</td>\n",
       "      <td>396</td>\n",
       "      <td>428</td>\n",
       "      <td>6</td>\n",
       "      <td>17 yo m presents to the office with 1 day hx o...</td>\n",
       "      <td>albuterol inhaler without relief</td>\n",
       "    </tr>\n",
       "    <tr>\n",
       "      <th>1442</th>\n",
       "      <td>60227</td>\n",
       "      <td>'albuterol inhaler have not helped'</td>\n",
       "      <td>'265 298'</td>\n",
       "      <td>610</td>\n",
       "      <td>265</td>\n",
       "      <td>298</td>\n",
       "      <td>6</td>\n",
       "      <td>Kane Smith is a 17 yo M who presents with shar...</td>\n",
       "      <td>albuterol inhaler have not helped</td>\n",
       "    </tr>\n",
       "    <tr>\n",
       "      <th>1443</th>\n",
       "      <td>60584</td>\n",
       "      <td>'Albuterol inhaler with no relief'</td>\n",
       "      <td>'255 287'</td>\n",
       "      <td>610</td>\n",
       "      <td>255</td>\n",
       "      <td>287</td>\n",
       "      <td>6</td>\n",
       "      <td>Kane Smith is a 17yo M presenting with chest p...</td>\n",
       "      <td>Albuterol inhaler with no relief</td>\n",
       "    </tr>\n",
       "    <tr>\n",
       "      <th>1444</th>\n",
       "      <td>60515</td>\n",
       "      <td>'albuterol have not helped'</td>\n",
       "      <td>'195 220'</td>\n",
       "      <td>610</td>\n",
       "      <td>195</td>\n",
       "      <td>220</td>\n",
       "      <td>6</td>\n",
       "      <td>Pt is a 17 yo male presenting for sharp chest ...</td>\n",
       "      <td>albuterol have not helped</td>\n",
       "    </tr>\n",
       "  </tbody>\n",
       "</table>\n",
       "<p>1445 rows × 9 columns</p>\n",
       "</div>"
      ],
      "text/plain": [
       "      pn_num                            annotation    location  feature_num  \\\n",
       "0      60004                     'feeling febrile'   '293 308'          600   \n",
       "1      60004                                'male'      '7 11'          601   \n",
       "2      60004                              '17 y/o'       '0 6'          602   \n",
       "3      60004           'recently had running nose'   '266 291'          603   \n",
       "4      60004          '8/10 with deep inspiration'   '153 179'          604   \n",
       "...      ...                                   ...         ...          ...   \n",
       "1440   60290    'albuterol inhaler with no relief'   '397 429'          610   \n",
       "1441   61235    'albuterol inhaler without relief'   '396 428'          610   \n",
       "1442   60227   'albuterol inhaler have not helped'   '265 298'          610   \n",
       "1443   60584    'Albuterol inhaler with no relief'   '255 287'          610   \n",
       "1444   60515           'albuterol have not helped'   '195 220'          610   \n",
       "\n",
       "     start_location end_location  case_num  \\\n",
       "0               293          308         6   \n",
       "1                 7           11         6   \n",
       "2                 0            6         6   \n",
       "3               266          291         6   \n",
       "4               153          179         6   \n",
       "...             ...          ...       ...   \n",
       "1440            397          429         6   \n",
       "1441            396          428         6   \n",
       "1442            265          298         6   \n",
       "1443            255          287         6   \n",
       "1444            195          220         6   \n",
       "\n",
       "                                             pn_history  \\\n",
       "0     17 y/o male with ches pain. Pt woke up yesterd...   \n",
       "1     17 y/o male with ches pain. Pt woke up yesterd...   \n",
       "2     17 y/o male with ches pain. Pt woke up yesterd...   \n",
       "3     17 y/o male with ches pain. Pt woke up yesterd...   \n",
       "4     17 y/o male with ches pain. Pt woke up yesterd...   \n",
       "...                                                 ...   \n",
       "1440  17yo M who presents with sharp, severe left-si...   \n",
       "1441  17 yo m presents to the office with 1 day hx o...   \n",
       "1442  Kane Smith is a 17 yo M who presents with shar...   \n",
       "1443  Kane Smith is a 17yo M presenting with chest p...   \n",
       "1444  Pt is a 17 yo male presenting for sharp chest ...   \n",
       "\n",
       "                         New_annotation  \n",
       "0                       feeling febrile  \n",
       "1                                  male  \n",
       "2                                17 y/o  \n",
       "3             recently had running nose  \n",
       "4            8/10 with deep inspiration  \n",
       "...                                 ...  \n",
       "1440   albuterol inhaler with no relief  \n",
       "1441   albuterol inhaler without relief  \n",
       "1442  albuterol inhaler have not helped  \n",
       "1443   Albuterol inhaler with no relief  \n",
       "1444          albuterol have not helped  \n",
       "\n",
       "[1445 rows x 9 columns]"
      ]
     },
     "execution_count": 63,
     "metadata": {},
     "output_type": "execute_result"
    }
   ],
   "source": [
    "case_6[\"New_annotation\"] = case_6.apply(lambda x : x.New_annotation.replace(\"SOB\", \"short of breath\"), axis = 1)\n",
    "case_6"
   ]
  },
  {
   "cell_type": "code",
   "execution_count": 64,
   "id": "824c6b01",
   "metadata": {},
   "outputs": [
    {
     "data": {
      "text/html": [
       "<div>\n",
       "<style scoped>\n",
       "    .dataframe tbody tr th:only-of-type {\n",
       "        vertical-align: middle;\n",
       "    }\n",
       "\n",
       "    .dataframe tbody tr th {\n",
       "        vertical-align: top;\n",
       "    }\n",
       "\n",
       "    .dataframe thead th {\n",
       "        text-align: right;\n",
       "    }\n",
       "</style>\n",
       "<table border=\"1\" class=\"dataframe\">\n",
       "  <thead>\n",
       "    <tr style=\"text-align: right;\">\n",
       "      <th></th>\n",
       "      <th>pn_num</th>\n",
       "      <th>annotation</th>\n",
       "      <th>location</th>\n",
       "      <th>feature_num</th>\n",
       "      <th>start_location</th>\n",
       "      <th>end_location</th>\n",
       "      <th>case_num</th>\n",
       "      <th>pn_history</th>\n",
       "      <th>New_annotation</th>\n",
       "    </tr>\n",
       "  </thead>\n",
       "  <tbody>\n",
       "    <tr>\n",
       "      <th>0</th>\n",
       "      <td>60004</td>\n",
       "      <td>'feeling febrile'</td>\n",
       "      <td>'293 308'</td>\n",
       "      <td>600</td>\n",
       "      <td>293</td>\n",
       "      <td>308</td>\n",
       "      <td>6</td>\n",
       "      <td>17 y/o male with ches pain. Pt woke up yesterd...</td>\n",
       "      <td>feeling febrile</td>\n",
       "    </tr>\n",
       "    <tr>\n",
       "      <th>1</th>\n",
       "      <td>60004</td>\n",
       "      <td>'male'</td>\n",
       "      <td>'7 11'</td>\n",
       "      <td>601</td>\n",
       "      <td>7</td>\n",
       "      <td>11</td>\n",
       "      <td>6</td>\n",
       "      <td>17 y/o male with ches pain. Pt woke up yesterd...</td>\n",
       "      <td>male</td>\n",
       "    </tr>\n",
       "    <tr>\n",
       "      <th>2</th>\n",
       "      <td>60004</td>\n",
       "      <td>'17 y/o'</td>\n",
       "      <td>'0 6'</td>\n",
       "      <td>602</td>\n",
       "      <td>0</td>\n",
       "      <td>6</td>\n",
       "      <td>6</td>\n",
       "      <td>17 y/o male with ches pain. Pt woke up yesterd...</td>\n",
       "      <td>17 y o</td>\n",
       "    </tr>\n",
       "    <tr>\n",
       "      <th>3</th>\n",
       "      <td>60004</td>\n",
       "      <td>'recently had running nose'</td>\n",
       "      <td>'266 291'</td>\n",
       "      <td>603</td>\n",
       "      <td>266</td>\n",
       "      <td>291</td>\n",
       "      <td>6</td>\n",
       "      <td>17 y/o male with ches pain. Pt woke up yesterd...</td>\n",
       "      <td>recently had running nose</td>\n",
       "    </tr>\n",
       "    <tr>\n",
       "      <th>4</th>\n",
       "      <td>60004</td>\n",
       "      <td>'8/10 with deep inspiration'</td>\n",
       "      <td>'153 179'</td>\n",
       "      <td>604</td>\n",
       "      <td>153</td>\n",
       "      <td>179</td>\n",
       "      <td>6</td>\n",
       "      <td>17 y/o male with ches pain. Pt woke up yesterd...</td>\n",
       "      <td>8 10 with deep inspiration</td>\n",
       "    </tr>\n",
       "    <tr>\n",
       "      <th>...</th>\n",
       "      <td>...</td>\n",
       "      <td>...</td>\n",
       "      <td>...</td>\n",
       "      <td>...</td>\n",
       "      <td>...</td>\n",
       "      <td>...</td>\n",
       "      <td>...</td>\n",
       "      <td>...</td>\n",
       "      <td>...</td>\n",
       "    </tr>\n",
       "    <tr>\n",
       "      <th>1440</th>\n",
       "      <td>60290</td>\n",
       "      <td>'albuterol inhaler with no relief'</td>\n",
       "      <td>'397 429'</td>\n",
       "      <td>610</td>\n",
       "      <td>397</td>\n",
       "      <td>429</td>\n",
       "      <td>6</td>\n",
       "      <td>17yo M who presents with sharp, severe left-si...</td>\n",
       "      <td>albuterol inhaler with no relief</td>\n",
       "    </tr>\n",
       "    <tr>\n",
       "      <th>1441</th>\n",
       "      <td>61235</td>\n",
       "      <td>'albuterol inhaler without relief'</td>\n",
       "      <td>'396 428'</td>\n",
       "      <td>610</td>\n",
       "      <td>396</td>\n",
       "      <td>428</td>\n",
       "      <td>6</td>\n",
       "      <td>17 yo m presents to the office with 1 day hx o...</td>\n",
       "      <td>albuterol inhaler without relief</td>\n",
       "    </tr>\n",
       "    <tr>\n",
       "      <th>1442</th>\n",
       "      <td>60227</td>\n",
       "      <td>'albuterol inhaler have not helped'</td>\n",
       "      <td>'265 298'</td>\n",
       "      <td>610</td>\n",
       "      <td>265</td>\n",
       "      <td>298</td>\n",
       "      <td>6</td>\n",
       "      <td>Kane Smith is a 17 yo M who presents with shar...</td>\n",
       "      <td>albuterol inhaler have not helped</td>\n",
       "    </tr>\n",
       "    <tr>\n",
       "      <th>1443</th>\n",
       "      <td>60584</td>\n",
       "      <td>'Albuterol inhaler with no relief'</td>\n",
       "      <td>'255 287'</td>\n",
       "      <td>610</td>\n",
       "      <td>255</td>\n",
       "      <td>287</td>\n",
       "      <td>6</td>\n",
       "      <td>Kane Smith is a 17yo M presenting with chest p...</td>\n",
       "      <td>Albuterol inhaler with no relief</td>\n",
       "    </tr>\n",
       "    <tr>\n",
       "      <th>1444</th>\n",
       "      <td>60515</td>\n",
       "      <td>'albuterol have not helped'</td>\n",
       "      <td>'195 220'</td>\n",
       "      <td>610</td>\n",
       "      <td>195</td>\n",
       "      <td>220</td>\n",
       "      <td>6</td>\n",
       "      <td>Pt is a 17 yo male presenting for sharp chest ...</td>\n",
       "      <td>albuterol have not helped</td>\n",
       "    </tr>\n",
       "  </tbody>\n",
       "</table>\n",
       "<p>1445 rows × 9 columns</p>\n",
       "</div>"
      ],
      "text/plain": [
       "      pn_num                            annotation    location  feature_num  \\\n",
       "0      60004                     'feeling febrile'   '293 308'          600   \n",
       "1      60004                                'male'      '7 11'          601   \n",
       "2      60004                              '17 y/o'       '0 6'          602   \n",
       "3      60004           'recently had running nose'   '266 291'          603   \n",
       "4      60004          '8/10 with deep inspiration'   '153 179'          604   \n",
       "...      ...                                   ...         ...          ...   \n",
       "1440   60290    'albuterol inhaler with no relief'   '397 429'          610   \n",
       "1441   61235    'albuterol inhaler without relief'   '396 428'          610   \n",
       "1442   60227   'albuterol inhaler have not helped'   '265 298'          610   \n",
       "1443   60584    'Albuterol inhaler with no relief'   '255 287'          610   \n",
       "1444   60515           'albuterol have not helped'   '195 220'          610   \n",
       "\n",
       "     start_location end_location  case_num  \\\n",
       "0               293          308         6   \n",
       "1                 7           11         6   \n",
       "2                 0            6         6   \n",
       "3               266          291         6   \n",
       "4               153          179         6   \n",
       "...             ...          ...       ...   \n",
       "1440            397          429         6   \n",
       "1441            396          428         6   \n",
       "1442            265          298         6   \n",
       "1443            255          287         6   \n",
       "1444            195          220         6   \n",
       "\n",
       "                                             pn_history  \\\n",
       "0     17 y/o male with ches pain. Pt woke up yesterd...   \n",
       "1     17 y/o male with ches pain. Pt woke up yesterd...   \n",
       "2     17 y/o male with ches pain. Pt woke up yesterd...   \n",
       "3     17 y/o male with ches pain. Pt woke up yesterd...   \n",
       "4     17 y/o male with ches pain. Pt woke up yesterd...   \n",
       "...                                                 ...   \n",
       "1440  17yo M who presents with sharp, severe left-si...   \n",
       "1441  17 yo m presents to the office with 1 day hx o...   \n",
       "1442  Kane Smith is a 17 yo M who presents with shar...   \n",
       "1443  Kane Smith is a 17yo M presenting with chest p...   \n",
       "1444  Pt is a 17 yo male presenting for sharp chest ...   \n",
       "\n",
       "                         New_annotation  \n",
       "0                       feeling febrile  \n",
       "1                                  male  \n",
       "2                                17 y o  \n",
       "3             recently had running nose  \n",
       "4            8 10 with deep inspiration  \n",
       "...                                 ...  \n",
       "1440   albuterol inhaler with no relief  \n",
       "1441   albuterol inhaler without relief  \n",
       "1442  albuterol inhaler have not helped  \n",
       "1443   Albuterol inhaler with no relief  \n",
       "1444          albuterol have not helped  \n",
       "\n",
       "[1445 rows x 9 columns]"
      ]
     },
     "execution_count": 64,
     "metadata": {},
     "output_type": "execute_result"
    }
   ],
   "source": [
    "case_6[\"New_annotation\"] = case_6[\"New_annotation\"].apply(lambda x: re.sub(r'''[/\"+,()\\r\\n]''',' ',x))\n",
    "case_6[\"New_annotation\"] = case_6[\"New_annotation\"].apply(lambda x: re.sub(r'''[']''','',x))\n",
    "case_6[\"New_annotation\"] = case_6[\"New_annotation\"].apply(lambda x: x.strip())\n",
    "case_6"
   ]
  },
  {
   "cell_type": "code",
   "execution_count": 65,
   "id": "e5e02769",
   "metadata": {},
   "outputs": [
    {
     "data": {
      "text/html": [
       "<div>\n",
       "<style scoped>\n",
       "    .dataframe tbody tr th:only-of-type {\n",
       "        vertical-align: middle;\n",
       "    }\n",
       "\n",
       "    .dataframe tbody tr th {\n",
       "        vertical-align: top;\n",
       "    }\n",
       "\n",
       "    .dataframe thead th {\n",
       "        text-align: right;\n",
       "    }\n",
       "</style>\n",
       "<table border=\"1\" class=\"dataframe\">\n",
       "  <thead>\n",
       "    <tr style=\"text-align: right;\">\n",
       "      <th></th>\n",
       "      <th>pn_num</th>\n",
       "      <th>annotation</th>\n",
       "      <th>location</th>\n",
       "      <th>feature_num</th>\n",
       "      <th>start_location</th>\n",
       "      <th>end_location</th>\n",
       "      <th>case_num</th>\n",
       "      <th>pn_history</th>\n",
       "      <th>New_annotation</th>\n",
       "    </tr>\n",
       "  </thead>\n",
       "  <tbody>\n",
       "    <tr>\n",
       "      <th>0</th>\n",
       "      <td>60004</td>\n",
       "      <td>'feeling febrile'</td>\n",
       "      <td>'293 308'</td>\n",
       "      <td>600</td>\n",
       "      <td>293</td>\n",
       "      <td>308</td>\n",
       "      <td>6</td>\n",
       "      <td>17 y/o male with ches pain. Pt woke up yesterd...</td>\n",
       "      <td>feeling febrile</td>\n",
       "    </tr>\n",
       "    <tr>\n",
       "      <th>1</th>\n",
       "      <td>60004</td>\n",
       "      <td>'male'</td>\n",
       "      <td>'7 11'</td>\n",
       "      <td>601</td>\n",
       "      <td>7</td>\n",
       "      <td>11</td>\n",
       "      <td>6</td>\n",
       "      <td>17 y/o male with ches pain. Pt woke up yesterd...</td>\n",
       "      <td>male</td>\n",
       "    </tr>\n",
       "    <tr>\n",
       "      <th>2</th>\n",
       "      <td>60004</td>\n",
       "      <td>'17 y/o'</td>\n",
       "      <td>'0 6'</td>\n",
       "      <td>602</td>\n",
       "      <td>0</td>\n",
       "      <td>6</td>\n",
       "      <td>6</td>\n",
       "      <td>17 y/o male with ches pain. Pt woke up yesterd...</td>\n",
       "      <td>17 y o</td>\n",
       "    </tr>\n",
       "    <tr>\n",
       "      <th>3</th>\n",
       "      <td>60004</td>\n",
       "      <td>'recently had running nose'</td>\n",
       "      <td>'266 291'</td>\n",
       "      <td>603</td>\n",
       "      <td>266</td>\n",
       "      <td>291</td>\n",
       "      <td>6</td>\n",
       "      <td>17 y/o male with ches pain. Pt woke up yesterd...</td>\n",
       "      <td>recently had running nose</td>\n",
       "    </tr>\n",
       "    <tr>\n",
       "      <th>4</th>\n",
       "      <td>60004</td>\n",
       "      <td>'8/10 with deep inspiration'</td>\n",
       "      <td>'153 179'</td>\n",
       "      <td>604</td>\n",
       "      <td>153</td>\n",
       "      <td>179</td>\n",
       "      <td>6</td>\n",
       "      <td>17 y/o male with ches pain. Pt woke up yesterd...</td>\n",
       "      <td>8 10 with deep inspiration</td>\n",
       "    </tr>\n",
       "    <tr>\n",
       "      <th>...</th>\n",
       "      <td>...</td>\n",
       "      <td>...</td>\n",
       "      <td>...</td>\n",
       "      <td>...</td>\n",
       "      <td>...</td>\n",
       "      <td>...</td>\n",
       "      <td>...</td>\n",
       "      <td>...</td>\n",
       "      <td>...</td>\n",
       "    </tr>\n",
       "    <tr>\n",
       "      <th>1440</th>\n",
       "      <td>60290</td>\n",
       "      <td>'albuterol inhaler with no relief'</td>\n",
       "      <td>'397 429'</td>\n",
       "      <td>610</td>\n",
       "      <td>397</td>\n",
       "      <td>429</td>\n",
       "      <td>6</td>\n",
       "      <td>17yo M who presents with sharp, severe left-si...</td>\n",
       "      <td>albuterol inhaler with no relief</td>\n",
       "    </tr>\n",
       "    <tr>\n",
       "      <th>1441</th>\n",
       "      <td>61235</td>\n",
       "      <td>'albuterol inhaler without relief'</td>\n",
       "      <td>'396 428'</td>\n",
       "      <td>610</td>\n",
       "      <td>396</td>\n",
       "      <td>428</td>\n",
       "      <td>6</td>\n",
       "      <td>17 yo m presents to the office with 1 day hx o...</td>\n",
       "      <td>albuterol inhaler without relief</td>\n",
       "    </tr>\n",
       "    <tr>\n",
       "      <th>1442</th>\n",
       "      <td>60227</td>\n",
       "      <td>'albuterol inhaler have not helped'</td>\n",
       "      <td>'265 298'</td>\n",
       "      <td>610</td>\n",
       "      <td>265</td>\n",
       "      <td>298</td>\n",
       "      <td>6</td>\n",
       "      <td>Kane Smith is a 17 yo M who presents with shar...</td>\n",
       "      <td>albuterol inhaler have not helped</td>\n",
       "    </tr>\n",
       "    <tr>\n",
       "      <th>1443</th>\n",
       "      <td>60584</td>\n",
       "      <td>'Albuterol inhaler with no relief'</td>\n",
       "      <td>'255 287'</td>\n",
       "      <td>610</td>\n",
       "      <td>255</td>\n",
       "      <td>287</td>\n",
       "      <td>6</td>\n",
       "      <td>Kane Smith is a 17yo M presenting with chest p...</td>\n",
       "      <td>Albuterol inhaler with no relief</td>\n",
       "    </tr>\n",
       "    <tr>\n",
       "      <th>1444</th>\n",
       "      <td>60515</td>\n",
       "      <td>'albuterol have not helped'</td>\n",
       "      <td>'195 220'</td>\n",
       "      <td>610</td>\n",
       "      <td>195</td>\n",
       "      <td>220</td>\n",
       "      <td>6</td>\n",
       "      <td>Pt is a 17 yo male presenting for sharp chest ...</td>\n",
       "      <td>albuterol have not helped</td>\n",
       "    </tr>\n",
       "  </tbody>\n",
       "</table>\n",
       "<p>1445 rows × 9 columns</p>\n",
       "</div>"
      ],
      "text/plain": [
       "      pn_num                            annotation    location  feature_num  \\\n",
       "0      60004                     'feeling febrile'   '293 308'          600   \n",
       "1      60004                                'male'      '7 11'          601   \n",
       "2      60004                              '17 y/o'       '0 6'          602   \n",
       "3      60004           'recently had running nose'   '266 291'          603   \n",
       "4      60004          '8/10 with deep inspiration'   '153 179'          604   \n",
       "...      ...                                   ...         ...          ...   \n",
       "1440   60290    'albuterol inhaler with no relief'   '397 429'          610   \n",
       "1441   61235    'albuterol inhaler without relief'   '396 428'          610   \n",
       "1442   60227   'albuterol inhaler have not helped'   '265 298'          610   \n",
       "1443   60584    'Albuterol inhaler with no relief'   '255 287'          610   \n",
       "1444   60515           'albuterol have not helped'   '195 220'          610   \n",
       "\n",
       "     start_location end_location  case_num  \\\n",
       "0               293          308         6   \n",
       "1                 7           11         6   \n",
       "2                 0            6         6   \n",
       "3               266          291         6   \n",
       "4               153          179         6   \n",
       "...             ...          ...       ...   \n",
       "1440            397          429         6   \n",
       "1441            396          428         6   \n",
       "1442            265          298         6   \n",
       "1443            255          287         6   \n",
       "1444            195          220         6   \n",
       "\n",
       "                                             pn_history  \\\n",
       "0     17 y/o male with ches pain. Pt woke up yesterd...   \n",
       "1     17 y/o male with ches pain. Pt woke up yesterd...   \n",
       "2     17 y/o male with ches pain. Pt woke up yesterd...   \n",
       "3     17 y/o male with ches pain. Pt woke up yesterd...   \n",
       "4     17 y/o male with ches pain. Pt woke up yesterd...   \n",
       "...                                                 ...   \n",
       "1440  17yo M who presents with sharp, severe left-si...   \n",
       "1441  17 yo m presents to the office with 1 day hx o...   \n",
       "1442  Kane Smith is a 17 yo M who presents with shar...   \n",
       "1443  Kane Smith is a 17yo M presenting with chest p...   \n",
       "1444  Pt is a 17 yo male presenting for sharp chest ...   \n",
       "\n",
       "                         New_annotation  \n",
       "0                       feeling febrile  \n",
       "1                                  male  \n",
       "2                                17 y o  \n",
       "3             recently had running nose  \n",
       "4            8 10 with deep inspiration  \n",
       "...                                 ...  \n",
       "1440   albuterol inhaler with no relief  \n",
       "1441   albuterol inhaler without relief  \n",
       "1442  albuterol inhaler have not helped  \n",
       "1443   Albuterol inhaler with no relief  \n",
       "1444          albuterol have not helped  \n",
       "\n",
       "[1445 rows x 9 columns]"
      ]
     },
     "execution_count": 65,
     "metadata": {},
     "output_type": "execute_result"
    }
   ],
   "source": [
    "case_6[\"pn_history\"] = case_6.apply(lambda x : x.pn_history.replace(\"SOB\", \"short of breath\"), axis = 1)\n",
    "case_6"
   ]
  },
  {
   "cell_type": "code",
   "execution_count": 66,
   "id": "a6766007",
   "metadata": {
    "scrolled": false
   },
   "outputs": [
    {
     "data": {
      "text/html": [
       "<div>\n",
       "<style scoped>\n",
       "    .dataframe tbody tr th:only-of-type {\n",
       "        vertical-align: middle;\n",
       "    }\n",
       "\n",
       "    .dataframe tbody tr th {\n",
       "        vertical-align: top;\n",
       "    }\n",
       "\n",
       "    .dataframe thead th {\n",
       "        text-align: right;\n",
       "    }\n",
       "</style>\n",
       "<table border=\"1\" class=\"dataframe\">\n",
       "  <thead>\n",
       "    <tr style=\"text-align: right;\">\n",
       "      <th></th>\n",
       "      <th>pn_num</th>\n",
       "      <th>annotation</th>\n",
       "      <th>location</th>\n",
       "      <th>feature_num</th>\n",
       "      <th>start_location</th>\n",
       "      <th>end_location</th>\n",
       "      <th>case_num</th>\n",
       "      <th>pn_history</th>\n",
       "      <th>New_annotation</th>\n",
       "      <th>New_pn_history</th>\n",
       "    </tr>\n",
       "  </thead>\n",
       "  <tbody>\n",
       "    <tr>\n",
       "      <th>0</th>\n",
       "      <td>60004</td>\n",
       "      <td>'feeling febrile'</td>\n",
       "      <td>'293 308'</td>\n",
       "      <td>600</td>\n",
       "      <td>293</td>\n",
       "      <td>308</td>\n",
       "      <td>6</td>\n",
       "      <td>17 y/o male with ches pain. Pt woke up yesterd...</td>\n",
       "      <td>feeling febrile</td>\n",
       "      <td>17 y o male with ches pain. Pt woke up yesterd...</td>\n",
       "    </tr>\n",
       "    <tr>\n",
       "      <th>1</th>\n",
       "      <td>60004</td>\n",
       "      <td>'male'</td>\n",
       "      <td>'7 11'</td>\n",
       "      <td>601</td>\n",
       "      <td>7</td>\n",
       "      <td>11</td>\n",
       "      <td>6</td>\n",
       "      <td>17 y/o male with ches pain. Pt woke up yesterd...</td>\n",
       "      <td>male</td>\n",
       "      <td>17 y o male with ches pain. Pt woke up yesterd...</td>\n",
       "    </tr>\n",
       "    <tr>\n",
       "      <th>2</th>\n",
       "      <td>60004</td>\n",
       "      <td>'17 y/o'</td>\n",
       "      <td>'0 6'</td>\n",
       "      <td>602</td>\n",
       "      <td>0</td>\n",
       "      <td>6</td>\n",
       "      <td>6</td>\n",
       "      <td>17 y/o male with ches pain. Pt woke up yesterd...</td>\n",
       "      <td>17 y o</td>\n",
       "      <td>17 y o male with ches pain. Pt woke up yesterd...</td>\n",
       "    </tr>\n",
       "    <tr>\n",
       "      <th>3</th>\n",
       "      <td>60004</td>\n",
       "      <td>'recently had running nose'</td>\n",
       "      <td>'266 291'</td>\n",
       "      <td>603</td>\n",
       "      <td>266</td>\n",
       "      <td>291</td>\n",
       "      <td>6</td>\n",
       "      <td>17 y/o male with ches pain. Pt woke up yesterd...</td>\n",
       "      <td>recently had running nose</td>\n",
       "      <td>17 y o male with ches pain. Pt woke up yesterd...</td>\n",
       "    </tr>\n",
       "    <tr>\n",
       "      <th>4</th>\n",
       "      <td>60004</td>\n",
       "      <td>'8/10 with deep inspiration'</td>\n",
       "      <td>'153 179'</td>\n",
       "      <td>604</td>\n",
       "      <td>153</td>\n",
       "      <td>179</td>\n",
       "      <td>6</td>\n",
       "      <td>17 y/o male with ches pain. Pt woke up yesterd...</td>\n",
       "      <td>8 10 with deep inspiration</td>\n",
       "      <td>17 y o male with ches pain. Pt woke up yesterd...</td>\n",
       "    </tr>\n",
       "    <tr>\n",
       "      <th>...</th>\n",
       "      <td>...</td>\n",
       "      <td>...</td>\n",
       "      <td>...</td>\n",
       "      <td>...</td>\n",
       "      <td>...</td>\n",
       "      <td>...</td>\n",
       "      <td>...</td>\n",
       "      <td>...</td>\n",
       "      <td>...</td>\n",
       "      <td>...</td>\n",
       "    </tr>\n",
       "    <tr>\n",
       "      <th>1440</th>\n",
       "      <td>60290</td>\n",
       "      <td>'albuterol inhaler with no relief'</td>\n",
       "      <td>'397 429'</td>\n",
       "      <td>610</td>\n",
       "      <td>397</td>\n",
       "      <td>429</td>\n",
       "      <td>6</td>\n",
       "      <td>17yo M who presents with sharp, severe left-si...</td>\n",
       "      <td>albuterol inhaler with no relief</td>\n",
       "      <td>17yo M who presents with sharp  severe left-si...</td>\n",
       "    </tr>\n",
       "    <tr>\n",
       "      <th>1441</th>\n",
       "      <td>61235</td>\n",
       "      <td>'albuterol inhaler without relief'</td>\n",
       "      <td>'396 428'</td>\n",
       "      <td>610</td>\n",
       "      <td>396</td>\n",
       "      <td>428</td>\n",
       "      <td>6</td>\n",
       "      <td>17 yo m presents to the office with 1 day hx o...</td>\n",
       "      <td>albuterol inhaler without relief</td>\n",
       "      <td>17 yo m presents to the office with 1 day hx o...</td>\n",
       "    </tr>\n",
       "    <tr>\n",
       "      <th>1442</th>\n",
       "      <td>60227</td>\n",
       "      <td>'albuterol inhaler have not helped'</td>\n",
       "      <td>'265 298'</td>\n",
       "      <td>610</td>\n",
       "      <td>265</td>\n",
       "      <td>298</td>\n",
       "      <td>6</td>\n",
       "      <td>Kane Smith is a 17 yo M who presents with shar...</td>\n",
       "      <td>albuterol inhaler have not helped</td>\n",
       "      <td>Kane Smith is a 17 yo M who presents with shar...</td>\n",
       "    </tr>\n",
       "    <tr>\n",
       "      <th>1443</th>\n",
       "      <td>60584</td>\n",
       "      <td>'Albuterol inhaler with no relief'</td>\n",
       "      <td>'255 287'</td>\n",
       "      <td>610</td>\n",
       "      <td>255</td>\n",
       "      <td>287</td>\n",
       "      <td>6</td>\n",
       "      <td>Kane Smith is a 17yo M presenting with chest p...</td>\n",
       "      <td>Albuterol inhaler with no relief</td>\n",
       "      <td>Kane Smith is a 17yo M presenting with chest p...</td>\n",
       "    </tr>\n",
       "    <tr>\n",
       "      <th>1444</th>\n",
       "      <td>60515</td>\n",
       "      <td>'albuterol have not helped'</td>\n",
       "      <td>'195 220'</td>\n",
       "      <td>610</td>\n",
       "      <td>195</td>\n",
       "      <td>220</td>\n",
       "      <td>6</td>\n",
       "      <td>Pt is a 17 yo male presenting for sharp chest ...</td>\n",
       "      <td>albuterol have not helped</td>\n",
       "      <td>Pt is a 17 yo male presenting for sharp chest ...</td>\n",
       "    </tr>\n",
       "  </tbody>\n",
       "</table>\n",
       "<p>1445 rows × 10 columns</p>\n",
       "</div>"
      ],
      "text/plain": [
       "      pn_num                            annotation    location  feature_num  \\\n",
       "0      60004                     'feeling febrile'   '293 308'          600   \n",
       "1      60004                                'male'      '7 11'          601   \n",
       "2      60004                              '17 y/o'       '0 6'          602   \n",
       "3      60004           'recently had running nose'   '266 291'          603   \n",
       "4      60004          '8/10 with deep inspiration'   '153 179'          604   \n",
       "...      ...                                   ...         ...          ...   \n",
       "1440   60290    'albuterol inhaler with no relief'   '397 429'          610   \n",
       "1441   61235    'albuterol inhaler without relief'   '396 428'          610   \n",
       "1442   60227   'albuterol inhaler have not helped'   '265 298'          610   \n",
       "1443   60584    'Albuterol inhaler with no relief'   '255 287'          610   \n",
       "1444   60515           'albuterol have not helped'   '195 220'          610   \n",
       "\n",
       "     start_location end_location  case_num  \\\n",
       "0               293          308         6   \n",
       "1                 7           11         6   \n",
       "2                 0            6         6   \n",
       "3               266          291         6   \n",
       "4               153          179         6   \n",
       "...             ...          ...       ...   \n",
       "1440            397          429         6   \n",
       "1441            396          428         6   \n",
       "1442            265          298         6   \n",
       "1443            255          287         6   \n",
       "1444            195          220         6   \n",
       "\n",
       "                                             pn_history  \\\n",
       "0     17 y/o male with ches pain. Pt woke up yesterd...   \n",
       "1     17 y/o male with ches pain. Pt woke up yesterd...   \n",
       "2     17 y/o male with ches pain. Pt woke up yesterd...   \n",
       "3     17 y/o male with ches pain. Pt woke up yesterd...   \n",
       "4     17 y/o male with ches pain. Pt woke up yesterd...   \n",
       "...                                                 ...   \n",
       "1440  17yo M who presents with sharp, severe left-si...   \n",
       "1441  17 yo m presents to the office with 1 day hx o...   \n",
       "1442  Kane Smith is a 17 yo M who presents with shar...   \n",
       "1443  Kane Smith is a 17yo M presenting with chest p...   \n",
       "1444  Pt is a 17 yo male presenting for sharp chest ...   \n",
       "\n",
       "                         New_annotation  \\\n",
       "0                       feeling febrile   \n",
       "1                                  male   \n",
       "2                                17 y o   \n",
       "3             recently had running nose   \n",
       "4            8 10 with deep inspiration   \n",
       "...                                 ...   \n",
       "1440   albuterol inhaler with no relief   \n",
       "1441   albuterol inhaler without relief   \n",
       "1442  albuterol inhaler have not helped   \n",
       "1443   Albuterol inhaler with no relief   \n",
       "1444          albuterol have not helped   \n",
       "\n",
       "                                         New_pn_history  \n",
       "0     17 y o male with ches pain. Pt woke up yesterd...  \n",
       "1     17 y o male with ches pain. Pt woke up yesterd...  \n",
       "2     17 y o male with ches pain. Pt woke up yesterd...  \n",
       "3     17 y o male with ches pain. Pt woke up yesterd...  \n",
       "4     17 y o male with ches pain. Pt woke up yesterd...  \n",
       "...                                                 ...  \n",
       "1440  17yo M who presents with sharp  severe left-si...  \n",
       "1441  17 yo m presents to the office with 1 day hx o...  \n",
       "1442  Kane Smith is a 17 yo M who presents with shar...  \n",
       "1443  Kane Smith is a 17yo M presenting with chest p...  \n",
       "1444  Pt is a 17 yo male presenting for sharp chest ...  \n",
       "\n",
       "[1445 rows x 10 columns]"
      ]
     },
     "execution_count": 66,
     "metadata": {},
     "output_type": "execute_result"
    }
   ],
   "source": [
    "case_6[\"New_pn_history\"] = case_6[\"pn_history\"].apply(lambda x: re.sub(r'''[/\",+()\\r\\n]''',' ',x))\n",
    "case_6[\"New_pn_history\"] = case_6[\"New_pn_history\"].apply(lambda x: re.sub(r'''[']''','',x))\n",
    "case_6"
   ]
  },
  {
   "cell_type": "code",
   "execution_count": null,
   "id": "5a78e2a7",
   "metadata": {},
   "outputs": [],
   "source": []
  },
  {
   "cell_type": "code",
   "execution_count": null,
   "id": "23b7b494",
   "metadata": {},
   "outputs": [],
   "source": []
  },
  {
   "cell_type": "code",
   "execution_count": 67,
   "id": "f2f54e7d",
   "metadata": {},
   "outputs": [],
   "source": [
    "def word_lemm(sentence):\n",
    "    word_list = nltk.word_tokenize(sentence)\n",
    "    \n",
    "    lemmaztier = WordNetLemmatizer()\n",
    "    lemmatized_output = ' '.join([lemmaztier.lemmatize(w) for w in word_list])\n",
    "    return(lemmatized_output)"
   ]
  },
  {
   "cell_type": "code",
   "execution_count": 68,
   "id": "783a35b6",
   "metadata": {},
   "outputs": [
    {
     "data": {
      "text/html": [
       "<div>\n",
       "<style scoped>\n",
       "    .dataframe tbody tr th:only-of-type {\n",
       "        vertical-align: middle;\n",
       "    }\n",
       "\n",
       "    .dataframe tbody tr th {\n",
       "        vertical-align: top;\n",
       "    }\n",
       "\n",
       "    .dataframe thead th {\n",
       "        text-align: right;\n",
       "    }\n",
       "</style>\n",
       "<table border=\"1\" class=\"dataframe\">\n",
       "  <thead>\n",
       "    <tr style=\"text-align: right;\">\n",
       "      <th></th>\n",
       "      <th>pn_num</th>\n",
       "      <th>annotation</th>\n",
       "      <th>location</th>\n",
       "      <th>feature_num</th>\n",
       "      <th>start_location</th>\n",
       "      <th>end_location</th>\n",
       "      <th>case_num</th>\n",
       "      <th>pn_history</th>\n",
       "      <th>New_annotation</th>\n",
       "      <th>New_pn_history</th>\n",
       "    </tr>\n",
       "  </thead>\n",
       "  <tbody>\n",
       "    <tr>\n",
       "      <th>0</th>\n",
       "      <td>60004</td>\n",
       "      <td>'feeling febrile'</td>\n",
       "      <td>'293 308'</td>\n",
       "      <td>600</td>\n",
       "      <td>293</td>\n",
       "      <td>308</td>\n",
       "      <td>6</td>\n",
       "      <td>17 y/o male with ches pain. Pt woke up yesterd...</td>\n",
       "      <td>feeling febrile</td>\n",
       "      <td>17 y o male with ches pain . Pt woke up yester...</td>\n",
       "    </tr>\n",
       "    <tr>\n",
       "      <th>1</th>\n",
       "      <td>60004</td>\n",
       "      <td>'male'</td>\n",
       "      <td>'7 11'</td>\n",
       "      <td>601</td>\n",
       "      <td>7</td>\n",
       "      <td>11</td>\n",
       "      <td>6</td>\n",
       "      <td>17 y/o male with ches pain. Pt woke up yesterd...</td>\n",
       "      <td>male</td>\n",
       "      <td>17 y o male with ches pain . Pt woke up yester...</td>\n",
       "    </tr>\n",
       "    <tr>\n",
       "      <th>2</th>\n",
       "      <td>60004</td>\n",
       "      <td>'17 y/o'</td>\n",
       "      <td>'0 6'</td>\n",
       "      <td>602</td>\n",
       "      <td>0</td>\n",
       "      <td>6</td>\n",
       "      <td>6</td>\n",
       "      <td>17 y/o male with ches pain. Pt woke up yesterd...</td>\n",
       "      <td>17 y o</td>\n",
       "      <td>17 y o male with ches pain . Pt woke up yester...</td>\n",
       "    </tr>\n",
       "    <tr>\n",
       "      <th>3</th>\n",
       "      <td>60004</td>\n",
       "      <td>'recently had running nose'</td>\n",
       "      <td>'266 291'</td>\n",
       "      <td>603</td>\n",
       "      <td>266</td>\n",
       "      <td>291</td>\n",
       "      <td>6</td>\n",
       "      <td>17 y/o male with ches pain. Pt woke up yesterd...</td>\n",
       "      <td>recently had running nose</td>\n",
       "      <td>17 y o male with ches pain . Pt woke up yester...</td>\n",
       "    </tr>\n",
       "    <tr>\n",
       "      <th>4</th>\n",
       "      <td>60004</td>\n",
       "      <td>'8/10 with deep inspiration'</td>\n",
       "      <td>'153 179'</td>\n",
       "      <td>604</td>\n",
       "      <td>153</td>\n",
       "      <td>179</td>\n",
       "      <td>6</td>\n",
       "      <td>17 y/o male with ches pain. Pt woke up yesterd...</td>\n",
       "      <td>8 10 with deep inspiration</td>\n",
       "      <td>17 y o male with ches pain . Pt woke up yester...</td>\n",
       "    </tr>\n",
       "  </tbody>\n",
       "</table>\n",
       "</div>"
      ],
      "text/plain": [
       "   pn_num                    annotation   location  feature_num  \\\n",
       "0   60004             'feeling febrile'  '293 308'          600   \n",
       "1   60004                        'male'     '7 11'          601   \n",
       "2   60004                      '17 y/o'      '0 6'          602   \n",
       "3   60004   'recently had running nose'  '266 291'          603   \n",
       "4   60004  '8/10 with deep inspiration'  '153 179'          604   \n",
       "\n",
       "  start_location end_location  case_num  \\\n",
       "0            293          308         6   \n",
       "1              7           11         6   \n",
       "2              0            6         6   \n",
       "3            266          291         6   \n",
       "4            153          179         6   \n",
       "\n",
       "                                          pn_history  \\\n",
       "0  17 y/o male with ches pain. Pt woke up yesterd...   \n",
       "1  17 y/o male with ches pain. Pt woke up yesterd...   \n",
       "2  17 y/o male with ches pain. Pt woke up yesterd...   \n",
       "3  17 y/o male with ches pain. Pt woke up yesterd...   \n",
       "4  17 y/o male with ches pain. Pt woke up yesterd...   \n",
       "\n",
       "               New_annotation  \\\n",
       "0             feeling febrile   \n",
       "1                        male   \n",
       "2                      17 y o   \n",
       "3   recently had running nose   \n",
       "4  8 10 with deep inspiration   \n",
       "\n",
       "                                      New_pn_history  \n",
       "0  17 y o male with ches pain . Pt woke up yester...  \n",
       "1  17 y o male with ches pain . Pt woke up yester...  \n",
       "2  17 y o male with ches pain . Pt woke up yester...  \n",
       "3  17 y o male with ches pain . Pt woke up yester...  \n",
       "4  17 y o male with ches pain . Pt woke up yester...  "
      ]
     },
     "execution_count": 68,
     "metadata": {},
     "output_type": "execute_result"
    }
   ],
   "source": [
    "case_6[\"New_annotation\"] = case_6[\"New_annotation\"].apply(word_lemm)\n",
    "case_6[\"New_pn_history\"] = case_6[\"New_pn_history\"].apply(word_lemm)\n",
    "case_6.head()"
   ]
  },
  {
   "cell_type": "code",
   "execution_count": 69,
   "id": "774008eb",
   "metadata": {
    "scrolled": false
   },
   "outputs": [
    {
     "data": {
      "text/html": [
       "<div>\n",
       "<style scoped>\n",
       "    .dataframe tbody tr th:only-of-type {\n",
       "        vertical-align: middle;\n",
       "    }\n",
       "\n",
       "    .dataframe tbody tr th {\n",
       "        vertical-align: top;\n",
       "    }\n",
       "\n",
       "    .dataframe thead th {\n",
       "        text-align: right;\n",
       "    }\n",
       "</style>\n",
       "<table border=\"1\" class=\"dataframe\">\n",
       "  <thead>\n",
       "    <tr style=\"text-align: right;\">\n",
       "      <th></th>\n",
       "      <th>pn_num</th>\n",
       "      <th>annotation</th>\n",
       "      <th>location</th>\n",
       "      <th>feature_num</th>\n",
       "      <th>start_location</th>\n",
       "      <th>end_location</th>\n",
       "      <th>case_num</th>\n",
       "      <th>pn_history</th>\n",
       "      <th>New_annotation</th>\n",
       "      <th>New_pn_history</th>\n",
       "      <th>new_location</th>\n",
       "    </tr>\n",
       "  </thead>\n",
       "  <tbody>\n",
       "    <tr>\n",
       "      <th>0</th>\n",
       "      <td>60004</td>\n",
       "      <td>'feeling febrile'</td>\n",
       "      <td>'293 308'</td>\n",
       "      <td>600</td>\n",
       "      <td>293</td>\n",
       "      <td>308</td>\n",
       "      <td>6</td>\n",
       "      <td>17 y/o male with ches pain. Pt woke up yesterd...</td>\n",
       "      <td>feeling febrile</td>\n",
       "      <td>17 y o male with ches pain . Pt woke up yester...</td>\n",
       "      <td>&lt;re.Match object; span=(289, 304), match='feel...</td>\n",
       "    </tr>\n",
       "    <tr>\n",
       "      <th>1</th>\n",
       "      <td>60004</td>\n",
       "      <td>'male'</td>\n",
       "      <td>'7 11'</td>\n",
       "      <td>601</td>\n",
       "      <td>7</td>\n",
       "      <td>11</td>\n",
       "      <td>6</td>\n",
       "      <td>17 y/o male with ches pain. Pt woke up yesterd...</td>\n",
       "      <td>male</td>\n",
       "      <td>17 y o male with ches pain . Pt woke up yester...</td>\n",
       "      <td>&lt;re.Match object; span=(7, 11), match='male'&gt;</td>\n",
       "    </tr>\n",
       "    <tr>\n",
       "      <th>2</th>\n",
       "      <td>60004</td>\n",
       "      <td>'17 y/o'</td>\n",
       "      <td>'0 6'</td>\n",
       "      <td>602</td>\n",
       "      <td>0</td>\n",
       "      <td>6</td>\n",
       "      <td>6</td>\n",
       "      <td>17 y/o male with ches pain. Pt woke up yesterd...</td>\n",
       "      <td>17 y o</td>\n",
       "      <td>17 y o male with ches pain . Pt woke up yester...</td>\n",
       "      <td>&lt;re.Match object; span=(0, 6), match='17 y o'&gt;</td>\n",
       "    </tr>\n",
       "    <tr>\n",
       "      <th>3</th>\n",
       "      <td>60004</td>\n",
       "      <td>'recently had running nose'</td>\n",
       "      <td>'266 291'</td>\n",
       "      <td>603</td>\n",
       "      <td>266</td>\n",
       "      <td>291</td>\n",
       "      <td>6</td>\n",
       "      <td>17 y/o male with ches pain. Pt woke up yesterd...</td>\n",
       "      <td>recently had running nose</td>\n",
       "      <td>17 y o male with ches pain . Pt woke up yester...</td>\n",
       "      <td>&lt;re.Match object; span=(263, 288), match='rece...</td>\n",
       "    </tr>\n",
       "    <tr>\n",
       "      <th>4</th>\n",
       "      <td>60004</td>\n",
       "      <td>'8/10 with deep inspiration'</td>\n",
       "      <td>'153 179'</td>\n",
       "      <td>604</td>\n",
       "      <td>153</td>\n",
       "      <td>179</td>\n",
       "      <td>6</td>\n",
       "      <td>17 y/o male with ches pain. Pt woke up yesterd...</td>\n",
       "      <td>8 10 with deep inspiration</td>\n",
       "      <td>17 y o male with ches pain . Pt woke up yester...</td>\n",
       "      <td>&lt;re.Match object; span=(151, 177), match='8 10...</td>\n",
       "    </tr>\n",
       "    <tr>\n",
       "      <th>...</th>\n",
       "      <td>...</td>\n",
       "      <td>...</td>\n",
       "      <td>...</td>\n",
       "      <td>...</td>\n",
       "      <td>...</td>\n",
       "      <td>...</td>\n",
       "      <td>...</td>\n",
       "      <td>...</td>\n",
       "      <td>...</td>\n",
       "      <td>...</td>\n",
       "      <td>...</td>\n",
       "    </tr>\n",
       "    <tr>\n",
       "      <th>1440</th>\n",
       "      <td>60290</td>\n",
       "      <td>'albuterol inhaler with no relief'</td>\n",
       "      <td>'397 429'</td>\n",
       "      <td>610</td>\n",
       "      <td>397</td>\n",
       "      <td>429</td>\n",
       "      <td>6</td>\n",
       "      <td>17yo M who presents with sharp, severe left-si...</td>\n",
       "      <td>albuterol inhaler with no relief</td>\n",
       "      <td>17yo M who present with sharp severe left-side...</td>\n",
       "      <td>&lt;re.Match object; span=(384, 416), match='albu...</td>\n",
       "    </tr>\n",
       "    <tr>\n",
       "      <th>1441</th>\n",
       "      <td>61235</td>\n",
       "      <td>'albuterol inhaler without relief'</td>\n",
       "      <td>'396 428'</td>\n",
       "      <td>610</td>\n",
       "      <td>396</td>\n",
       "      <td>428</td>\n",
       "      <td>6</td>\n",
       "      <td>17 yo m presents to the office with 1 day hx o...</td>\n",
       "      <td>albuterol inhaler without relief</td>\n",
       "      <td>17 yo m present to the office with 1 day hx of...</td>\n",
       "      <td>&lt;re.Match object; span=(393, 425), match='albu...</td>\n",
       "    </tr>\n",
       "    <tr>\n",
       "      <th>1442</th>\n",
       "      <td>60227</td>\n",
       "      <td>'albuterol inhaler have not helped'</td>\n",
       "      <td>'265 298'</td>\n",
       "      <td>610</td>\n",
       "      <td>265</td>\n",
       "      <td>298</td>\n",
       "      <td>6</td>\n",
       "      <td>Kane Smith is a 17 yo M who presents with shar...</td>\n",
       "      <td>albuterol inhaler have not helped</td>\n",
       "      <td>Kane Smith is a 17 yo M who present with sharp...</td>\n",
       "      <td>&lt;re.Match object; span=(265, 298), match='albu...</td>\n",
       "    </tr>\n",
       "    <tr>\n",
       "      <th>1443</th>\n",
       "      <td>60584</td>\n",
       "      <td>'Albuterol inhaler with no relief'</td>\n",
       "      <td>'255 287'</td>\n",
       "      <td>610</td>\n",
       "      <td>255</td>\n",
       "      <td>287</td>\n",
       "      <td>6</td>\n",
       "      <td>Kane Smith is a 17yo M presenting with chest p...</td>\n",
       "      <td>Albuterol inhaler with no relief</td>\n",
       "      <td>Kane Smith is a 17yo M presenting with chest p...</td>\n",
       "      <td>&lt;re.Match object; span=(251, 283), match='Albu...</td>\n",
       "    </tr>\n",
       "    <tr>\n",
       "      <th>1444</th>\n",
       "      <td>60515</td>\n",
       "      <td>'albuterol have not helped'</td>\n",
       "      <td>'195 220'</td>\n",
       "      <td>610</td>\n",
       "      <td>195</td>\n",
       "      <td>220</td>\n",
       "      <td>6</td>\n",
       "      <td>Pt is a 17 yo male presenting for sharp chest ...</td>\n",
       "      <td>albuterol have not helped</td>\n",
       "      <td>Pt is a 17 yo male presenting for sharp chest ...</td>\n",
       "      <td>&lt;re.Match object; span=(197, 222), match='albu...</td>\n",
       "    </tr>\n",
       "  </tbody>\n",
       "</table>\n",
       "<p>1445 rows × 11 columns</p>\n",
       "</div>"
      ],
      "text/plain": [
       "      pn_num                            annotation    location  feature_num  \\\n",
       "0      60004                     'feeling febrile'   '293 308'          600   \n",
       "1      60004                                'male'      '7 11'          601   \n",
       "2      60004                              '17 y/o'       '0 6'          602   \n",
       "3      60004           'recently had running nose'   '266 291'          603   \n",
       "4      60004          '8/10 with deep inspiration'   '153 179'          604   \n",
       "...      ...                                   ...         ...          ...   \n",
       "1440   60290    'albuterol inhaler with no relief'   '397 429'          610   \n",
       "1441   61235    'albuterol inhaler without relief'   '396 428'          610   \n",
       "1442   60227   'albuterol inhaler have not helped'   '265 298'          610   \n",
       "1443   60584    'Albuterol inhaler with no relief'   '255 287'          610   \n",
       "1444   60515           'albuterol have not helped'   '195 220'          610   \n",
       "\n",
       "     start_location end_location  case_num  \\\n",
       "0               293          308         6   \n",
       "1                 7           11         6   \n",
       "2                 0            6         6   \n",
       "3               266          291         6   \n",
       "4               153          179         6   \n",
       "...             ...          ...       ...   \n",
       "1440            397          429         6   \n",
       "1441            396          428         6   \n",
       "1442            265          298         6   \n",
       "1443            255          287         6   \n",
       "1444            195          220         6   \n",
       "\n",
       "                                             pn_history  \\\n",
       "0     17 y/o male with ches pain. Pt woke up yesterd...   \n",
       "1     17 y/o male with ches pain. Pt woke up yesterd...   \n",
       "2     17 y/o male with ches pain. Pt woke up yesterd...   \n",
       "3     17 y/o male with ches pain. Pt woke up yesterd...   \n",
       "4     17 y/o male with ches pain. Pt woke up yesterd...   \n",
       "...                                                 ...   \n",
       "1440  17yo M who presents with sharp, severe left-si...   \n",
       "1441  17 yo m presents to the office with 1 day hx o...   \n",
       "1442  Kane Smith is a 17 yo M who presents with shar...   \n",
       "1443  Kane Smith is a 17yo M presenting with chest p...   \n",
       "1444  Pt is a 17 yo male presenting for sharp chest ...   \n",
       "\n",
       "                         New_annotation  \\\n",
       "0                       feeling febrile   \n",
       "1                                  male   \n",
       "2                                17 y o   \n",
       "3             recently had running nose   \n",
       "4            8 10 with deep inspiration   \n",
       "...                                 ...   \n",
       "1440   albuterol inhaler with no relief   \n",
       "1441   albuterol inhaler without relief   \n",
       "1442  albuterol inhaler have not helped   \n",
       "1443   Albuterol inhaler with no relief   \n",
       "1444          albuterol have not helped   \n",
       "\n",
       "                                         New_pn_history  \\\n",
       "0     17 y o male with ches pain . Pt woke up yester...   \n",
       "1     17 y o male with ches pain . Pt woke up yester...   \n",
       "2     17 y o male with ches pain . Pt woke up yester...   \n",
       "3     17 y o male with ches pain . Pt woke up yester...   \n",
       "4     17 y o male with ches pain . Pt woke up yester...   \n",
       "...                                                 ...   \n",
       "1440  17yo M who present with sharp severe left-side...   \n",
       "1441  17 yo m present to the office with 1 day hx of...   \n",
       "1442  Kane Smith is a 17 yo M who present with sharp...   \n",
       "1443  Kane Smith is a 17yo M presenting with chest p...   \n",
       "1444  Pt is a 17 yo male presenting for sharp chest ...   \n",
       "\n",
       "                                           new_location  \n",
       "0     <re.Match object; span=(289, 304), match='feel...  \n",
       "1         <re.Match object; span=(7, 11), match='male'>  \n",
       "2        <re.Match object; span=(0, 6), match='17 y o'>  \n",
       "3     <re.Match object; span=(263, 288), match='rece...  \n",
       "4     <re.Match object; span=(151, 177), match='8 10...  \n",
       "...                                                 ...  \n",
       "1440  <re.Match object; span=(384, 416), match='albu...  \n",
       "1441  <re.Match object; span=(393, 425), match='albu...  \n",
       "1442  <re.Match object; span=(265, 298), match='albu...  \n",
       "1443  <re.Match object; span=(251, 283), match='Albu...  \n",
       "1444  <re.Match object; span=(197, 222), match='albu...  \n",
       "\n",
       "[1445 rows x 11 columns]"
      ]
     },
     "execution_count": 69,
     "metadata": {},
     "output_type": "execute_result"
    }
   ],
   "source": [
    "case_6[\"new_location\"] = case_6.apply(lambda x :re.search(r'\\b' + x.New_annotation + r'\\b', x.New_pn_history),axis =1)\n",
    "case_6"
   ]
  },
  {
   "cell_type": "code",
   "execution_count": 70,
   "id": "900275f8",
   "metadata": {},
   "outputs": [
    {
     "name": "stdout",
     "output_type": "stream",
     "text": [
      "[49, 50, 51, 240, 459, 529, 537, 546, 547, 606, 696, 697, 950, 1046, 1140, 1156, 1165, 1190, 1210, 1217, 1219, 1221, 1223, 1224, 1225, 1228, 1236, 1237, 1239, 1242, 1244, 1252, 1256, 1260, 1261, 1268, 1274, 1279, 1282, 1283, 1285, 1286, 1288, 1291, 1293, 1300, 1302, 1303, 1304, 1307, 1310, 1315, 1325, 1328, 1329, 1330, 1331, 1333, 1339]\n"
     ]
    },
    {
     "data": {
      "text/plain": [
       "(None, 59)"
      ]
     },
     "execution_count": 70,
     "metadata": {},
     "output_type": "execute_result"
    }
   ],
   "source": [
    "drop_index = []\n",
    "for index,row in case_6.iterrows():\n",
    "    if row[\"new_location\"] == None:\n",
    "        drop_index.append(index)\n",
    "        \n",
    "print(drop_index),len(drop_index)"
   ]
  },
  {
   "cell_type": "code",
   "execution_count": 71,
   "id": "a4fa85e4",
   "metadata": {},
   "outputs": [
    {
     "data": {
      "text/html": [
       "<div>\n",
       "<style scoped>\n",
       "    .dataframe tbody tr th:only-of-type {\n",
       "        vertical-align: middle;\n",
       "    }\n",
       "\n",
       "    .dataframe tbody tr th {\n",
       "        vertical-align: top;\n",
       "    }\n",
       "\n",
       "    .dataframe thead th {\n",
       "        text-align: right;\n",
       "    }\n",
       "</style>\n",
       "<table border=\"1\" class=\"dataframe\">\n",
       "  <thead>\n",
       "    <tr style=\"text-align: right;\">\n",
       "      <th></th>\n",
       "      <th>pn_num</th>\n",
       "      <th>annotation</th>\n",
       "      <th>location</th>\n",
       "      <th>feature_num</th>\n",
       "      <th>start_location</th>\n",
       "      <th>end_location</th>\n",
       "      <th>case_num</th>\n",
       "      <th>pn_history</th>\n",
       "      <th>New_annotation</th>\n",
       "      <th>New_pn_history</th>\n",
       "      <th>new_location</th>\n",
       "    </tr>\n",
       "  </thead>\n",
       "  <tbody>\n",
       "    <tr>\n",
       "      <th>0</th>\n",
       "      <td>60004</td>\n",
       "      <td>'feeling febrile'</td>\n",
       "      <td>'293 308'</td>\n",
       "      <td>600</td>\n",
       "      <td>293</td>\n",
       "      <td>308</td>\n",
       "      <td>6</td>\n",
       "      <td>17 y/o male with ches pain. Pt woke up yesterd...</td>\n",
       "      <td>feeling febrile</td>\n",
       "      <td>17 y o male with ches pain . Pt woke up yester...</td>\n",
       "      <td>&lt;re.Match object; span=(289, 304), match='feel...</td>\n",
       "    </tr>\n",
       "    <tr>\n",
       "      <th>1</th>\n",
       "      <td>60004</td>\n",
       "      <td>'male'</td>\n",
       "      <td>'7 11'</td>\n",
       "      <td>601</td>\n",
       "      <td>7</td>\n",
       "      <td>11</td>\n",
       "      <td>6</td>\n",
       "      <td>17 y/o male with ches pain. Pt woke up yesterd...</td>\n",
       "      <td>male</td>\n",
       "      <td>17 y o male with ches pain . Pt woke up yester...</td>\n",
       "      <td>&lt;re.Match object; span=(7, 11), match='male'&gt;</td>\n",
       "    </tr>\n",
       "    <tr>\n",
       "      <th>2</th>\n",
       "      <td>60004</td>\n",
       "      <td>'17 y/o'</td>\n",
       "      <td>'0 6'</td>\n",
       "      <td>602</td>\n",
       "      <td>0</td>\n",
       "      <td>6</td>\n",
       "      <td>6</td>\n",
       "      <td>17 y/o male with ches pain. Pt woke up yesterd...</td>\n",
       "      <td>17 y o</td>\n",
       "      <td>17 y o male with ches pain . Pt woke up yester...</td>\n",
       "      <td>&lt;re.Match object; span=(0, 6), match='17 y o'&gt;</td>\n",
       "    </tr>\n",
       "    <tr>\n",
       "      <th>3</th>\n",
       "      <td>60004</td>\n",
       "      <td>'recently had running nose'</td>\n",
       "      <td>'266 291'</td>\n",
       "      <td>603</td>\n",
       "      <td>266</td>\n",
       "      <td>291</td>\n",
       "      <td>6</td>\n",
       "      <td>17 y/o male with ches pain. Pt woke up yesterd...</td>\n",
       "      <td>recently had running nose</td>\n",
       "      <td>17 y o male with ches pain . Pt woke up yester...</td>\n",
       "      <td>&lt;re.Match object; span=(263, 288), match='rece...</td>\n",
       "    </tr>\n",
       "    <tr>\n",
       "      <th>4</th>\n",
       "      <td>60004</td>\n",
       "      <td>'8/10 with deep inspiration'</td>\n",
       "      <td>'153 179'</td>\n",
       "      <td>604</td>\n",
       "      <td>153</td>\n",
       "      <td>179</td>\n",
       "      <td>6</td>\n",
       "      <td>17 y/o male with ches pain. Pt woke up yesterd...</td>\n",
       "      <td>8 10 with deep inspiration</td>\n",
       "      <td>17 y o male with ches pain . Pt woke up yester...</td>\n",
       "      <td>&lt;re.Match object; span=(151, 177), match='8 10...</td>\n",
       "    </tr>\n",
       "    <tr>\n",
       "      <th>...</th>\n",
       "      <td>...</td>\n",
       "      <td>...</td>\n",
       "      <td>...</td>\n",
       "      <td>...</td>\n",
       "      <td>...</td>\n",
       "      <td>...</td>\n",
       "      <td>...</td>\n",
       "      <td>...</td>\n",
       "      <td>...</td>\n",
       "      <td>...</td>\n",
       "      <td>...</td>\n",
       "    </tr>\n",
       "    <tr>\n",
       "      <th>1440</th>\n",
       "      <td>60290</td>\n",
       "      <td>'albuterol inhaler with no relief'</td>\n",
       "      <td>'397 429'</td>\n",
       "      <td>610</td>\n",
       "      <td>397</td>\n",
       "      <td>429</td>\n",
       "      <td>6</td>\n",
       "      <td>17yo M who presents with sharp, severe left-si...</td>\n",
       "      <td>albuterol inhaler with no relief</td>\n",
       "      <td>17yo M who present with sharp severe left-side...</td>\n",
       "      <td>&lt;re.Match object; span=(384, 416), match='albu...</td>\n",
       "    </tr>\n",
       "    <tr>\n",
       "      <th>1441</th>\n",
       "      <td>61235</td>\n",
       "      <td>'albuterol inhaler without relief'</td>\n",
       "      <td>'396 428'</td>\n",
       "      <td>610</td>\n",
       "      <td>396</td>\n",
       "      <td>428</td>\n",
       "      <td>6</td>\n",
       "      <td>17 yo m presents to the office with 1 day hx o...</td>\n",
       "      <td>albuterol inhaler without relief</td>\n",
       "      <td>17 yo m present to the office with 1 day hx of...</td>\n",
       "      <td>&lt;re.Match object; span=(393, 425), match='albu...</td>\n",
       "    </tr>\n",
       "    <tr>\n",
       "      <th>1442</th>\n",
       "      <td>60227</td>\n",
       "      <td>'albuterol inhaler have not helped'</td>\n",
       "      <td>'265 298'</td>\n",
       "      <td>610</td>\n",
       "      <td>265</td>\n",
       "      <td>298</td>\n",
       "      <td>6</td>\n",
       "      <td>Kane Smith is a 17 yo M who presents with shar...</td>\n",
       "      <td>albuterol inhaler have not helped</td>\n",
       "      <td>Kane Smith is a 17 yo M who present with sharp...</td>\n",
       "      <td>&lt;re.Match object; span=(265, 298), match='albu...</td>\n",
       "    </tr>\n",
       "    <tr>\n",
       "      <th>1443</th>\n",
       "      <td>60584</td>\n",
       "      <td>'Albuterol inhaler with no relief'</td>\n",
       "      <td>'255 287'</td>\n",
       "      <td>610</td>\n",
       "      <td>255</td>\n",
       "      <td>287</td>\n",
       "      <td>6</td>\n",
       "      <td>Kane Smith is a 17yo M presenting with chest p...</td>\n",
       "      <td>Albuterol inhaler with no relief</td>\n",
       "      <td>Kane Smith is a 17yo M presenting with chest p...</td>\n",
       "      <td>&lt;re.Match object; span=(251, 283), match='Albu...</td>\n",
       "    </tr>\n",
       "    <tr>\n",
       "      <th>1444</th>\n",
       "      <td>60515</td>\n",
       "      <td>'albuterol have not helped'</td>\n",
       "      <td>'195 220'</td>\n",
       "      <td>610</td>\n",
       "      <td>195</td>\n",
       "      <td>220</td>\n",
       "      <td>6</td>\n",
       "      <td>Pt is a 17 yo male presenting for sharp chest ...</td>\n",
       "      <td>albuterol have not helped</td>\n",
       "      <td>Pt is a 17 yo male presenting for sharp chest ...</td>\n",
       "      <td>&lt;re.Match object; span=(197, 222), match='albu...</td>\n",
       "    </tr>\n",
       "  </tbody>\n",
       "</table>\n",
       "<p>1386 rows × 11 columns</p>\n",
       "</div>"
      ],
      "text/plain": [
       "      pn_num                            annotation    location  feature_num  \\\n",
       "0      60004                     'feeling febrile'   '293 308'          600   \n",
       "1      60004                                'male'      '7 11'          601   \n",
       "2      60004                              '17 y/o'       '0 6'          602   \n",
       "3      60004           'recently had running nose'   '266 291'          603   \n",
       "4      60004          '8/10 with deep inspiration'   '153 179'          604   \n",
       "...      ...                                   ...         ...          ...   \n",
       "1440   60290    'albuterol inhaler with no relief'   '397 429'          610   \n",
       "1441   61235    'albuterol inhaler without relief'   '396 428'          610   \n",
       "1442   60227   'albuterol inhaler have not helped'   '265 298'          610   \n",
       "1443   60584    'Albuterol inhaler with no relief'   '255 287'          610   \n",
       "1444   60515           'albuterol have not helped'   '195 220'          610   \n",
       "\n",
       "     start_location end_location  case_num  \\\n",
       "0               293          308         6   \n",
       "1                 7           11         6   \n",
       "2                 0            6         6   \n",
       "3               266          291         6   \n",
       "4               153          179         6   \n",
       "...             ...          ...       ...   \n",
       "1440            397          429         6   \n",
       "1441            396          428         6   \n",
       "1442            265          298         6   \n",
       "1443            255          287         6   \n",
       "1444            195          220         6   \n",
       "\n",
       "                                             pn_history  \\\n",
       "0     17 y/o male with ches pain. Pt woke up yesterd...   \n",
       "1     17 y/o male with ches pain. Pt woke up yesterd...   \n",
       "2     17 y/o male with ches pain. Pt woke up yesterd...   \n",
       "3     17 y/o male with ches pain. Pt woke up yesterd...   \n",
       "4     17 y/o male with ches pain. Pt woke up yesterd...   \n",
       "...                                                 ...   \n",
       "1440  17yo M who presents with sharp, severe left-si...   \n",
       "1441  17 yo m presents to the office with 1 day hx o...   \n",
       "1442  Kane Smith is a 17 yo M who presents with shar...   \n",
       "1443  Kane Smith is a 17yo M presenting with chest p...   \n",
       "1444  Pt is a 17 yo male presenting for sharp chest ...   \n",
       "\n",
       "                         New_annotation  \\\n",
       "0                       feeling febrile   \n",
       "1                                  male   \n",
       "2                                17 y o   \n",
       "3             recently had running nose   \n",
       "4            8 10 with deep inspiration   \n",
       "...                                 ...   \n",
       "1440   albuterol inhaler with no relief   \n",
       "1441   albuterol inhaler without relief   \n",
       "1442  albuterol inhaler have not helped   \n",
       "1443   Albuterol inhaler with no relief   \n",
       "1444          albuterol have not helped   \n",
       "\n",
       "                                         New_pn_history  \\\n",
       "0     17 y o male with ches pain . Pt woke up yester...   \n",
       "1     17 y o male with ches pain . Pt woke up yester...   \n",
       "2     17 y o male with ches pain . Pt woke up yester...   \n",
       "3     17 y o male with ches pain . Pt woke up yester...   \n",
       "4     17 y o male with ches pain . Pt woke up yester...   \n",
       "...                                                 ...   \n",
       "1440  17yo M who present with sharp severe left-side...   \n",
       "1441  17 yo m present to the office with 1 day hx of...   \n",
       "1442  Kane Smith is a 17 yo M who present with sharp...   \n",
       "1443  Kane Smith is a 17yo M presenting with chest p...   \n",
       "1444  Pt is a 17 yo male presenting for sharp chest ...   \n",
       "\n",
       "                                           new_location  \n",
       "0     <re.Match object; span=(289, 304), match='feel...  \n",
       "1         <re.Match object; span=(7, 11), match='male'>  \n",
       "2        <re.Match object; span=(0, 6), match='17 y o'>  \n",
       "3     <re.Match object; span=(263, 288), match='rece...  \n",
       "4     <re.Match object; span=(151, 177), match='8 10...  \n",
       "...                                                 ...  \n",
       "1440  <re.Match object; span=(384, 416), match='albu...  \n",
       "1441  <re.Match object; span=(393, 425), match='albu...  \n",
       "1442  <re.Match object; span=(265, 298), match='albu...  \n",
       "1443  <re.Match object; span=(251, 283), match='Albu...  \n",
       "1444  <re.Match object; span=(197, 222), match='albu...  \n",
       "\n",
       "[1386 rows x 11 columns]"
      ]
     },
     "execution_count": 71,
     "metadata": {},
     "output_type": "execute_result"
    }
   ],
   "source": [
    "case_6 = case_6.drop(drop_index,axis = 0)\n",
    "case_6"
   ]
  },
  {
   "cell_type": "code",
   "execution_count": 72,
   "id": "e242356f",
   "metadata": {
    "scrolled": false
   },
   "outputs": [
    {
     "data": {
      "text/html": [
       "<div>\n",
       "<style scoped>\n",
       "    .dataframe tbody tr th:only-of-type {\n",
       "        vertical-align: middle;\n",
       "    }\n",
       "\n",
       "    .dataframe tbody tr th {\n",
       "        vertical-align: top;\n",
       "    }\n",
       "\n",
       "    .dataframe thead th {\n",
       "        text-align: right;\n",
       "    }\n",
       "</style>\n",
       "<table border=\"1\" class=\"dataframe\">\n",
       "  <thead>\n",
       "    <tr style=\"text-align: right;\">\n",
       "      <th></th>\n",
       "      <th>pn_num</th>\n",
       "      <th>annotation</th>\n",
       "      <th>location</th>\n",
       "      <th>feature_num</th>\n",
       "      <th>start_location</th>\n",
       "      <th>end_location</th>\n",
       "      <th>case_num</th>\n",
       "      <th>pn_history</th>\n",
       "      <th>New_annotation</th>\n",
       "      <th>New_pn_history</th>\n",
       "      <th>new_location</th>\n",
       "    </tr>\n",
       "  </thead>\n",
       "  <tbody>\n",
       "    <tr>\n",
       "      <th>0</th>\n",
       "      <td>60004</td>\n",
       "      <td>'feeling febrile'</td>\n",
       "      <td>'293 308'</td>\n",
       "      <td>600</td>\n",
       "      <td>289</td>\n",
       "      <td>304</td>\n",
       "      <td>6</td>\n",
       "      <td>17 y/o male with ches pain. Pt woke up yesterd...</td>\n",
       "      <td>feeling febrile</td>\n",
       "      <td>17 y o male with ches pain . Pt woke up yester...</td>\n",
       "      <td>&lt;re.Match object; span=(289, 304), match='feel...</td>\n",
       "    </tr>\n",
       "    <tr>\n",
       "      <th>1</th>\n",
       "      <td>60004</td>\n",
       "      <td>'male'</td>\n",
       "      <td>'7 11'</td>\n",
       "      <td>601</td>\n",
       "      <td>7</td>\n",
       "      <td>11</td>\n",
       "      <td>6</td>\n",
       "      <td>17 y/o male with ches pain. Pt woke up yesterd...</td>\n",
       "      <td>male</td>\n",
       "      <td>17 y o male with ches pain . Pt woke up yester...</td>\n",
       "      <td>&lt;re.Match object; span=(7, 11), match='male'&gt;</td>\n",
       "    </tr>\n",
       "    <tr>\n",
       "      <th>2</th>\n",
       "      <td>60004</td>\n",
       "      <td>'17 y/o'</td>\n",
       "      <td>'0 6'</td>\n",
       "      <td>602</td>\n",
       "      <td>0</td>\n",
       "      <td>6</td>\n",
       "      <td>6</td>\n",
       "      <td>17 y/o male with ches pain. Pt woke up yesterd...</td>\n",
       "      <td>17 y o</td>\n",
       "      <td>17 y o male with ches pain . Pt woke up yester...</td>\n",
       "      <td>&lt;re.Match object; span=(0, 6), match='17 y o'&gt;</td>\n",
       "    </tr>\n",
       "    <tr>\n",
       "      <th>3</th>\n",
       "      <td>60004</td>\n",
       "      <td>'recently had running nose'</td>\n",
       "      <td>'266 291'</td>\n",
       "      <td>603</td>\n",
       "      <td>263</td>\n",
       "      <td>288</td>\n",
       "      <td>6</td>\n",
       "      <td>17 y/o male with ches pain. Pt woke up yesterd...</td>\n",
       "      <td>recently had running nose</td>\n",
       "      <td>17 y o male with ches pain . Pt woke up yester...</td>\n",
       "      <td>&lt;re.Match object; span=(263, 288), match='rece...</td>\n",
       "    </tr>\n",
       "    <tr>\n",
       "      <th>4</th>\n",
       "      <td>60004</td>\n",
       "      <td>'8/10 with deep inspiration'</td>\n",
       "      <td>'153 179'</td>\n",
       "      <td>604</td>\n",
       "      <td>151</td>\n",
       "      <td>177</td>\n",
       "      <td>6</td>\n",
       "      <td>17 y/o male with ches pain. Pt woke up yesterd...</td>\n",
       "      <td>8 10 with deep inspiration</td>\n",
       "      <td>17 y o male with ches pain . Pt woke up yester...</td>\n",
       "      <td>&lt;re.Match object; span=(151, 177), match='8 10...</td>\n",
       "    </tr>\n",
       "    <tr>\n",
       "      <th>...</th>\n",
       "      <td>...</td>\n",
       "      <td>...</td>\n",
       "      <td>...</td>\n",
       "      <td>...</td>\n",
       "      <td>...</td>\n",
       "      <td>...</td>\n",
       "      <td>...</td>\n",
       "      <td>...</td>\n",
       "      <td>...</td>\n",
       "      <td>...</td>\n",
       "      <td>...</td>\n",
       "    </tr>\n",
       "    <tr>\n",
       "      <th>1440</th>\n",
       "      <td>60290</td>\n",
       "      <td>'albuterol inhaler with no relief'</td>\n",
       "      <td>'397 429'</td>\n",
       "      <td>610</td>\n",
       "      <td>384</td>\n",
       "      <td>416</td>\n",
       "      <td>6</td>\n",
       "      <td>17yo M who presents with sharp, severe left-si...</td>\n",
       "      <td>albuterol inhaler with no relief</td>\n",
       "      <td>17yo M who present with sharp severe left-side...</td>\n",
       "      <td>&lt;re.Match object; span=(384, 416), match='albu...</td>\n",
       "    </tr>\n",
       "    <tr>\n",
       "      <th>1441</th>\n",
       "      <td>61235</td>\n",
       "      <td>'albuterol inhaler without relief'</td>\n",
       "      <td>'396 428'</td>\n",
       "      <td>610</td>\n",
       "      <td>393</td>\n",
       "      <td>425</td>\n",
       "      <td>6</td>\n",
       "      <td>17 yo m presents to the office with 1 day hx o...</td>\n",
       "      <td>albuterol inhaler without relief</td>\n",
       "      <td>17 yo m present to the office with 1 day hx of...</td>\n",
       "      <td>&lt;re.Match object; span=(393, 425), match='albu...</td>\n",
       "    </tr>\n",
       "    <tr>\n",
       "      <th>1442</th>\n",
       "      <td>60227</td>\n",
       "      <td>'albuterol inhaler have not helped'</td>\n",
       "      <td>'265 298'</td>\n",
       "      <td>610</td>\n",
       "      <td>265</td>\n",
       "      <td>298</td>\n",
       "      <td>6</td>\n",
       "      <td>Kane Smith is a 17 yo M who presents with shar...</td>\n",
       "      <td>albuterol inhaler have not helped</td>\n",
       "      <td>Kane Smith is a 17 yo M who present with sharp...</td>\n",
       "      <td>&lt;re.Match object; span=(265, 298), match='albu...</td>\n",
       "    </tr>\n",
       "    <tr>\n",
       "      <th>1443</th>\n",
       "      <td>60584</td>\n",
       "      <td>'Albuterol inhaler with no relief'</td>\n",
       "      <td>'255 287'</td>\n",
       "      <td>610</td>\n",
       "      <td>251</td>\n",
       "      <td>283</td>\n",
       "      <td>6</td>\n",
       "      <td>Kane Smith is a 17yo M presenting with chest p...</td>\n",
       "      <td>Albuterol inhaler with no relief</td>\n",
       "      <td>Kane Smith is a 17yo M presenting with chest p...</td>\n",
       "      <td>&lt;re.Match object; span=(251, 283), match='Albu...</td>\n",
       "    </tr>\n",
       "    <tr>\n",
       "      <th>1444</th>\n",
       "      <td>60515</td>\n",
       "      <td>'albuterol have not helped'</td>\n",
       "      <td>'195 220'</td>\n",
       "      <td>610</td>\n",
       "      <td>197</td>\n",
       "      <td>222</td>\n",
       "      <td>6</td>\n",
       "      <td>Pt is a 17 yo male presenting for sharp chest ...</td>\n",
       "      <td>albuterol have not helped</td>\n",
       "      <td>Pt is a 17 yo male presenting for sharp chest ...</td>\n",
       "      <td>&lt;re.Match object; span=(197, 222), match='albu...</td>\n",
       "    </tr>\n",
       "  </tbody>\n",
       "</table>\n",
       "<p>1386 rows × 11 columns</p>\n",
       "</div>"
      ],
      "text/plain": [
       "      pn_num                            annotation    location  feature_num  \\\n",
       "0      60004                     'feeling febrile'   '293 308'          600   \n",
       "1      60004                                'male'      '7 11'          601   \n",
       "2      60004                              '17 y/o'       '0 6'          602   \n",
       "3      60004           'recently had running nose'   '266 291'          603   \n",
       "4      60004          '8/10 with deep inspiration'   '153 179'          604   \n",
       "...      ...                                   ...         ...          ...   \n",
       "1440   60290    'albuterol inhaler with no relief'   '397 429'          610   \n",
       "1441   61235    'albuterol inhaler without relief'   '396 428'          610   \n",
       "1442   60227   'albuterol inhaler have not helped'   '265 298'          610   \n",
       "1443   60584    'Albuterol inhaler with no relief'   '255 287'          610   \n",
       "1444   60515           'albuterol have not helped'   '195 220'          610   \n",
       "\n",
       "      start_location  end_location  case_num  \\\n",
       "0                289           304         6   \n",
       "1                  7            11         6   \n",
       "2                  0             6         6   \n",
       "3                263           288         6   \n",
       "4                151           177         6   \n",
       "...              ...           ...       ...   \n",
       "1440             384           416         6   \n",
       "1441             393           425         6   \n",
       "1442             265           298         6   \n",
       "1443             251           283         6   \n",
       "1444             197           222         6   \n",
       "\n",
       "                                             pn_history  \\\n",
       "0     17 y/o male with ches pain. Pt woke up yesterd...   \n",
       "1     17 y/o male with ches pain. Pt woke up yesterd...   \n",
       "2     17 y/o male with ches pain. Pt woke up yesterd...   \n",
       "3     17 y/o male with ches pain. Pt woke up yesterd...   \n",
       "4     17 y/o male with ches pain. Pt woke up yesterd...   \n",
       "...                                                 ...   \n",
       "1440  17yo M who presents with sharp, severe left-si...   \n",
       "1441  17 yo m presents to the office with 1 day hx o...   \n",
       "1442  Kane Smith is a 17 yo M who presents with shar...   \n",
       "1443  Kane Smith is a 17yo M presenting with chest p...   \n",
       "1444  Pt is a 17 yo male presenting for sharp chest ...   \n",
       "\n",
       "                         New_annotation  \\\n",
       "0                       feeling febrile   \n",
       "1                                  male   \n",
       "2                                17 y o   \n",
       "3             recently had running nose   \n",
       "4            8 10 with deep inspiration   \n",
       "...                                 ...   \n",
       "1440   albuterol inhaler with no relief   \n",
       "1441   albuterol inhaler without relief   \n",
       "1442  albuterol inhaler have not helped   \n",
       "1443   Albuterol inhaler with no relief   \n",
       "1444          albuterol have not helped   \n",
       "\n",
       "                                         New_pn_history  \\\n",
       "0     17 y o male with ches pain . Pt woke up yester...   \n",
       "1     17 y o male with ches pain . Pt woke up yester...   \n",
       "2     17 y o male with ches pain . Pt woke up yester...   \n",
       "3     17 y o male with ches pain . Pt woke up yester...   \n",
       "4     17 y o male with ches pain . Pt woke up yester...   \n",
       "...                                                 ...   \n",
       "1440  17yo M who present with sharp severe left-side...   \n",
       "1441  17 yo m present to the office with 1 day hx of...   \n",
       "1442  Kane Smith is a 17 yo M who present with sharp...   \n",
       "1443  Kane Smith is a 17yo M presenting with chest p...   \n",
       "1444  Pt is a 17 yo male presenting for sharp chest ...   \n",
       "\n",
       "                                           new_location  \n",
       "0     <re.Match object; span=(289, 304), match='feel...  \n",
       "1         <re.Match object; span=(7, 11), match='male'>  \n",
       "2        <re.Match object; span=(0, 6), match='17 y o'>  \n",
       "3     <re.Match object; span=(263, 288), match='rece...  \n",
       "4     <re.Match object; span=(151, 177), match='8 10...  \n",
       "...                                                 ...  \n",
       "1440  <re.Match object; span=(384, 416), match='albu...  \n",
       "1441  <re.Match object; span=(393, 425), match='albu...  \n",
       "1442  <re.Match object; span=(265, 298), match='albu...  \n",
       "1443  <re.Match object; span=(251, 283), match='Albu...  \n",
       "1444  <re.Match object; span=(197, 222), match='albu...  \n",
       "\n",
       "[1386 rows x 11 columns]"
      ]
     },
     "execution_count": 72,
     "metadata": {},
     "output_type": "execute_result"
    }
   ],
   "source": [
    "case_6[\"start_location\"] = case_6.apply(lambda x :re.search(r'\\b' + x.New_annotation + r'\\b', x.New_pn_history).start(),axis =1)\n",
    "case_6[\"end_location\"] = case_6.apply(lambda x :re.search(r'\\b' + x.New_annotation + r'\\b', x.New_pn_history).end(),axis =1)\n",
    "case_6"
   ]
  },
  {
   "cell_type": "markdown",
   "id": "7a75b5db",
   "metadata": {},
   "source": [
    "### Feature 600"
   ]
  },
  {
   "cell_type": "code",
   "execution_count": 73,
   "id": "9d400013",
   "metadata": {},
   "outputs": [
    {
     "data": {
      "text/plain": [
       "(78, 11)"
      ]
     },
     "execution_count": 73,
     "metadata": {},
     "output_type": "execute_result"
    }
   ],
   "source": [
    "case_6_600 = case_6[case_6[\"feature_num\"] == 600]\n",
    "case_6_600.shape"
   ]
  },
  {
   "cell_type": "code",
   "execution_count": 74,
   "id": "f6361be1",
   "metadata": {},
   "outputs": [],
   "source": [
    "drop_600 = [733]"
   ]
  },
  {
   "cell_type": "code",
   "execution_count": 75,
   "id": "b88b61ac",
   "metadata": {},
   "outputs": [],
   "source": [
    "case_6_600 = case_6_600.drop(drop_600)"
   ]
  },
  {
   "cell_type": "code",
   "execution_count": 76,
   "id": "b9a58ba5",
   "metadata": {},
   "outputs": [
    {
     "data": {
      "text/plain": [
       "(60, 16)"
      ]
     },
     "execution_count": 76,
     "metadata": {},
     "output_type": "execute_result"
    }
   ],
   "source": [
    "pn_Num_list = list(case_6_600.pn_num.unique())\n",
    "\n",
    "final_train = []   # appending all the individual rows\n",
    "for patient_number in pn_Num_list:  # for each unique patient number\n",
    "    entities = []  # saving individaual entities locations\n",
    "    for row_index,row in case_6_600[case_6_600.pn_num == patient_number].iterrows():  # for each unique patient number \n",
    "        \n",
    "        entities.append((int(row[\"start_location\"]),int(row[\"end_location\"]),\"Feature_\" + str(row[\"feature_num\"]))) # store the locations in numeric format\n",
    "        \n",
    "    text = case_6_600[case_6_600.pn_num == patient_number][\"New_pn_history\"].values[0] # save the text for the unique patient number\n",
    "    \n",
    "    final_train.append((text,{\"entities\":entities}))  # for each unique pn_number append to final list\n",
    "    \n",
    "# Serializing json \n",
    "json_object = json.dumps(final_train, indent = 4)\n",
    "  \n",
    "# Writing to sample.json\n",
    "with open(\"sample_600.json\", \"w\") as outfile:\n",
    "    outfile.write(json_object)\n",
    "    \n",
    "# Opening JSON file\n",
    "f = open(\"sample_600.json\")\n",
    " \n",
    "# returns JSON object as\n",
    "# a dictionary\n",
    "data = json.load(f)\n",
    "\n",
    "nlp = spacy.blank(\"en\")\n",
    "def create_training(TRAIN_DATA):\n",
    "    db = DocBin()\n",
    "    for text, annot in tqdm(TRAIN_DATA):\n",
    "        doc = nlp.make_doc(text)\n",
    "        ents = []\n",
    "        for start, end, label in annot[\"entities\"]:\n",
    "            span = doc.char_span(start, end, label=label, alignment_mode=\"contract\")\n",
    "            if span is None:\n",
    "                print (\"Skipping entity\")\n",
    "            else:\n",
    "                ents.append(span)\n",
    "        doc.ents = ents\n",
    "        db.add(doc)\n",
    "    return (db)\n",
    "\n",
    "n = int(len(data)*0.8)\n",
    "\n",
    "train = data[:n]\n",
    "validation = data[n:]\n",
    "len(train),len(validation)"
   ]
  },
  {
   "cell_type": "code",
   "execution_count": 77,
   "id": "d665dd9e",
   "metadata": {},
   "outputs": [
    {
     "name": "stderr",
     "output_type": "stream",
     "text": [
      "100%|██████████████████████████████████████████████████████████████████████████████████| 60/60 [00:00<00:00, 63.17it/s]\n"
     ]
    }
   ],
   "source": [
    "#train data set\n",
    "camp_train = create_training(train)\n",
    "camp_train.to_disk(\"nbme_train_600.spacy\")"
   ]
  },
  {
   "cell_type": "code",
   "execution_count": null,
   "id": "155caa94",
   "metadata": {},
   "outputs": [],
   "source": [
    "train[51]"
   ]
  },
  {
   "cell_type": "code",
   "execution_count": null,
   "id": "9c37886f",
   "metadata": {},
   "outputs": [],
   "source": [
    "case_6_600[case_6_600.end_location == 49]"
   ]
  },
  {
   "cell_type": "code",
   "execution_count": 78,
   "id": "e10dbda1",
   "metadata": {},
   "outputs": [
    {
     "name": "stderr",
     "output_type": "stream",
     "text": [
      "100%|█████████████████████████████████████████████████████████████████████████████████| 16/16 [00:00<00:00, 364.61it/s]\n"
     ]
    }
   ],
   "source": [
    "#Validation data set\n",
    "camp_validation = create_training(validation)\n",
    "camp_validation.to_disk(\"nbme_validation_600.spacy\")"
   ]
  },
  {
   "cell_type": "code",
   "execution_count": 79,
   "id": "3dcd9c44",
   "metadata": {},
   "outputs": [
    {
     "name": "stdout",
     "output_type": "stream",
     "text": [
      "[+] Auto-filled config with all values\n",
      "[+] Saved config\n",
      "config_600.cfg\n",
      "You can now add your data and train your pipeline:\n",
      "python -m spacy train config_600.cfg --paths.train ./train.spacy --paths.dev ./dev.spacy\n"
     ]
    },
    {
     "name": "stderr",
     "output_type": "stream",
     "text": [
      "2022-05-13 11:39:07.332957: W tensorflow/stream_executor/platform/default/dso_loader.cc:64] Could not load dynamic library 'cudart64_110.dll'; dlerror: cudart64_110.dll not found\n",
      "2022-05-13 11:39:07.333034: I tensorflow/stream_executor/cuda/cudart_stub.cc:29] Ignore above cudart dlerror if you do not have a GPU set up on your machine.\n"
     ]
    }
   ],
   "source": [
    "!python -m spacy init fill-config ./base_config_600.cfg ./config_600.cfg"
   ]
  },
  {
   "cell_type": "code",
   "execution_count": 80,
   "id": "14202896",
   "metadata": {},
   "outputs": [
    {
     "name": "stdout",
     "output_type": "stream",
     "text": [
      "[i] Saving to output directory: output_600\n",
      "[i] Using CPU\n",
      "\u001b[1m\n",
      "=========================== Initializing pipeline ===========================\u001b[0m\n",
      "[+] Initialized pipeline\n",
      "\u001b[1m\n",
      "============================= Training pipeline =============================\u001b[0m\n",
      "[i] Pipeline: ['tok2vec', 'ner']\n",
      "[i] Initial learn rate: 0.001\n",
      "E    #       LOSS TOK2VEC  LOSS NER  ENTS_F  ENTS_P  ENTS_R  SCORE \n",
      "---  ------  ------------  --------  ------  ------  ------  ------\n",
      "  0       0          0.00     43.33    2.90    1.64   12.50    0.03\n",
      "  3     200         20.73   1108.98   90.32   93.33   87.50    0.90\n",
      "  6     400         14.36     40.68   90.32   93.33   87.50    0.90\n",
      " 10     600         17.24     20.41   86.67   92.86   81.25    0.87\n",
      " 13     800          1.62      1.68   93.33  100.00   87.50    0.93\n",
      " 16    1000          3.68      2.42   89.66  100.00   81.25    0.90\n",
      " 20    1200          7.28      4.75   93.33  100.00   87.50    0.93\n",
      " 23    1400          0.02      0.01   84.85   82.35   87.50    0.85\n",
      " 26    1600         20.03     15.73   81.25   81.25   81.25    0.81\n",
      " 30    1800        114.87     23.45   89.66  100.00   81.25    0.90\n",
      " 33    2000          8.34      4.68   87.50   87.50   87.50    0.88\n",
      " 38    2200          7.46      3.64   86.67   92.86   81.25    0.87\n",
      " 45    2400          7.29      4.22   83.87   86.67   81.25    0.84\n",
      "[+] Saved pipeline to output directory\n",
      "output_600\\model-last\n"
     ]
    },
    {
     "name": "stderr",
     "output_type": "stream",
     "text": [
      "2022-05-13 11:40:13.354311: W tensorflow/stream_executor/platform/default/dso_loader.cc:64] Could not load dynamic library 'cudart64_110.dll'; dlerror: cudart64_110.dll not found\n",
      "2022-05-13 11:40:13.354378: I tensorflow/stream_executor/cuda/cudart_stub.cc:29] Ignore above cudart dlerror if you do not have a GPU set up on your machine.\n",
      "[2022-05-13 11:40:21,618] [INFO] Set up nlp object from config\n",
      "[2022-05-13 11:40:21,642] [INFO] Pipeline: ['tok2vec', 'ner']\n",
      "[2022-05-13 11:40:21,650] [INFO] Created vocabulary\n",
      "[2022-05-13 11:40:21,686] [INFO] Finished initializing nlp object\n",
      "[2022-05-13 11:40:23,523] [INFO] Initialized pipeline components: ['tok2vec', 'ner']\n"
     ]
    }
   ],
   "source": [
    "!python -m spacy train config_600.cfg --output ./output_600"
   ]
  },
  {
   "cell_type": "code",
   "execution_count": null,
   "id": "42927257",
   "metadata": {},
   "outputs": [],
   "source": []
  },
  {
   "cell_type": "markdown",
   "id": "01139745",
   "metadata": {},
   "source": [
    "### Feature 601"
   ]
  },
  {
   "cell_type": "code",
   "execution_count": 81,
   "id": "d477391c",
   "metadata": {},
   "outputs": [
    {
     "data": {
      "text/plain": [
       "(92, 11)"
      ]
     },
     "execution_count": 81,
     "metadata": {},
     "output_type": "execute_result"
    }
   ],
   "source": [
    "case_6_601 = case_6[case_6[\"feature_num\"] == 601]\n",
    "case_6_601.shape"
   ]
  },
  {
   "cell_type": "code",
   "execution_count": 82,
   "id": "ca16f5a6",
   "metadata": {},
   "outputs": [
    {
     "data": {
      "text/plain": [
       "(72, 19)"
      ]
     },
     "execution_count": 82,
     "metadata": {},
     "output_type": "execute_result"
    }
   ],
   "source": [
    "pn_Num_list = list(case_6_601.pn_num.unique())\n",
    "\n",
    "final_train = []   # appending all the individual rows\n",
    "for patient_number in pn_Num_list:  # for each unique patient number\n",
    "    entities = []  # saving individaual entities locations\n",
    "    for row_index,row in case_6_601[case_6_601.pn_num == patient_number].iterrows():  # for each unique patient number \n",
    "        \n",
    "        entities.append((int(row[\"start_location\"]),int(row[\"end_location\"]),\"Feature_\" + str(row[\"feature_num\"]))) # store the locations in numeric format\n",
    "        \n",
    "    text = case_6_601[case_6_601.pn_num == patient_number][\"New_pn_history\"].values[0] # save the text for the unique patient number\n",
    "    \n",
    "    final_train.append((text,{\"entities\":entities}))  # for each unique pn_number append to final list\n",
    "\n",
    "# Serializing json \n",
    "json_object = json.dumps(final_train, indent = 4)\n",
    "  \n",
    "# Writing to sample.json\n",
    "with open(\"sample_601.json\", \"w\") as outfile:\n",
    "    outfile.write(json_object)\n",
    "    \n",
    "# Opening JSON file\n",
    "f = open(\"sample_601.json\")\n",
    " \n",
    "# returns JSON object as\n",
    "# a dictionary\n",
    "data = json.load(f)\n",
    "\n",
    "nlp = spacy.blank(\"en\")\n",
    "def create_training(TRAIN_DATA):\n",
    "    db = DocBin()\n",
    "    for text, annot in tqdm(TRAIN_DATA):\n",
    "        doc = nlp.make_doc(text)\n",
    "        ents = []\n",
    "        for start, end, label in annot[\"entities\"]:\n",
    "            span = doc.char_span(start, end, label=label, alignment_mode=\"contract\")\n",
    "            if span is None:\n",
    "                print (\"Skipping entity\")\n",
    "            else:\n",
    "                ents.append(span)\n",
    "        doc.ents = ents\n",
    "        db.add(doc)\n",
    "    return (db)\n",
    "\n",
    "n = int(len(data)*0.8)\n",
    "\n",
    "train = data[:n]\n",
    "validation = data[n:]\n",
    "len(train),len(validation)"
   ]
  },
  {
   "cell_type": "code",
   "execution_count": 83,
   "id": "af3348fd",
   "metadata": {},
   "outputs": [
    {
     "name": "stderr",
     "output_type": "stream",
     "text": [
      "100%|█████████████████████████████████████████████████████████████████████████████████| 72/72 [00:00<00:00, 320.86it/s]\n"
     ]
    }
   ],
   "source": [
    "#train data set\n",
    "camp_train = create_training(train)\n",
    "camp_train.to_disk(\"nbme_train_601.spacy\")"
   ]
  },
  {
   "cell_type": "code",
   "execution_count": 84,
   "id": "d9975d84",
   "metadata": {},
   "outputs": [
    {
     "name": "stderr",
     "output_type": "stream",
     "text": [
      "100%|█████████████████████████████████████████████████████████████████████████████████| 19/19 [00:00<00:00, 577.32it/s]\n"
     ]
    }
   ],
   "source": [
    "#Validation data set\n",
    "camp_validation = create_training(validation)\n",
    "camp_validation.to_disk(\"nbme_validation_601.spacy\")"
   ]
  },
  {
   "cell_type": "code",
   "execution_count": 85,
   "id": "87bcbb91",
   "metadata": {},
   "outputs": [
    {
     "name": "stdout",
     "output_type": "stream",
     "text": [
      "[+] Auto-filled config with all values\n",
      "[+] Saved config\n",
      "config_601.cfg\n",
      "You can now add your data and train your pipeline:\n",
      "python -m spacy train config_601.cfg --paths.train ./train.spacy --paths.dev ./dev.spacy\n"
     ]
    },
    {
     "name": "stderr",
     "output_type": "stream",
     "text": [
      "2022-05-13 11:45:49.065659: W tensorflow/stream_executor/platform/default/dso_loader.cc:64] Could not load dynamic library 'cudart64_110.dll'; dlerror: cudart64_110.dll not found\n",
      "2022-05-13 11:45:49.065729: I tensorflow/stream_executor/cuda/cudart_stub.cc:29] Ignore above cudart dlerror if you do not have a GPU set up on your machine.\n"
     ]
    }
   ],
   "source": [
    "!python -m spacy init fill-config ./base_config_601.cfg ./config_601.cfg"
   ]
  },
  {
   "cell_type": "code",
   "execution_count": 86,
   "id": "84086987",
   "metadata": {},
   "outputs": [
    {
     "name": "stdout",
     "output_type": "stream",
     "text": [
      "[i] Saving to output directory: output_601\n",
      "[i] Using CPU\n",
      "\u001b[1m\n",
      "=========================== Initializing pipeline ===========================\u001b[0m\n",
      "[+] Initialized pipeline\n",
      "\u001b[1m\n",
      "============================= Training pipeline =============================\u001b[0m\n",
      "[i] Pipeline: ['tok2vec', 'ner']\n",
      "[i] Initial learn rate: 0.001\n",
      "E    #       LOSS TOK2VEC  LOSS NER  ENTS_F  ENTS_P  ENTS_R  SCORE \n",
      "---  ------  ------------  --------  ------  ------  ------  ------\n",
      "  0       0          0.00     51.17    0.00    0.00    0.00    0.00\n",
      "  2     200          8.71    924.05   97.44   95.00  100.00    0.97\n",
      "  5     400          3.42      5.86   97.30  100.00   94.74    0.97\n",
      "  8     600          1.10      2.00   97.30  100.00   94.74    0.97\n",
      " 11     800          0.00      0.00   97.44   95.00  100.00    0.97\n",
      " 13    1000          0.00      0.00   97.44   95.00  100.00    0.97\n",
      " 16    1200          0.00      0.00   97.30  100.00   94.74    0.97\n",
      " 19    1400          0.00      0.00   97.30  100.00   94.74    0.97\n",
      " 22    1600          0.00      0.00   97.30  100.00   94.74    0.97\n",
      " 27    1800          0.00      0.00   97.30  100.00   94.74    0.97\n",
      "[+] Saved pipeline to output directory\n",
      "output_601\\model-last\n"
     ]
    },
    {
     "name": "stderr",
     "output_type": "stream",
     "text": [
      "2022-05-13 11:46:37.808592: W tensorflow/stream_executor/platform/default/dso_loader.cc:64] Could not load dynamic library 'cudart64_110.dll'; dlerror: cudart64_110.dll not found\n",
      "2022-05-13 11:46:37.808644: I tensorflow/stream_executor/cuda/cudart_stub.cc:29] Ignore above cudart dlerror if you do not have a GPU set up on your machine.\n",
      "[2022-05-13 11:46:43,892] [INFO] Set up nlp object from config\n",
      "[2022-05-13 11:46:43,906] [INFO] Pipeline: ['tok2vec', 'ner']\n",
      "[2022-05-13 11:46:43,911] [INFO] Created vocabulary\n",
      "[2022-05-13 11:46:43,912] [INFO] Finished initializing nlp object\n",
      "[2022-05-13 11:46:44,772] [INFO] Initialized pipeline components: ['tok2vec', 'ner']\n"
     ]
    }
   ],
   "source": [
    "!python -m spacy train config_601.cfg --output ./output_601"
   ]
  },
  {
   "cell_type": "code",
   "execution_count": null,
   "id": "cc770da4",
   "metadata": {},
   "outputs": [],
   "source": []
  },
  {
   "cell_type": "markdown",
   "id": "442f9397",
   "metadata": {},
   "source": [
    "### Feature 602"
   ]
  },
  {
   "cell_type": "code",
   "execution_count": 87,
   "id": "090c91c5",
   "metadata": {
    "scrolled": true
   },
   "outputs": [
    {
     "data": {
      "text/plain": [
       "(95, 11)"
      ]
     },
     "execution_count": 87,
     "metadata": {},
     "output_type": "execute_result"
    }
   ],
   "source": [
    "case_6_602 = case_6[case_6[\"feature_num\"] == 602]\n",
    "case_6_602.shape"
   ]
  },
  {
   "cell_type": "code",
   "execution_count": 88,
   "id": "00ae3f21",
   "metadata": {},
   "outputs": [
    {
     "data": {
      "text/plain": [
       "(76, 19)"
      ]
     },
     "execution_count": 88,
     "metadata": {},
     "output_type": "execute_result"
    }
   ],
   "source": [
    "pn_Num_list = list(case_6_602.pn_num.unique())\n",
    "\n",
    "final_train = []   # appending all the individual rows\n",
    "for patient_number in pn_Num_list:  # for each unique patient number\n",
    "    entities = []  # saving individaual entities locations\n",
    "    for row_index,row in case_6_602[case_6_602.pn_num == patient_number].iterrows():  # for each unique patient number \n",
    "        \n",
    "        entities.append((int(row[\"start_location\"]),int(row[\"end_location\"]),\"Feature_\" + str(row[\"feature_num\"]))) # store the locations in numeric format\n",
    "        \n",
    "    text = case_6_602[case_6_602.pn_num == patient_number][\"New_pn_history\"].values[0] # save the text for the unique patient number\n",
    "    \n",
    "    final_train.append((text,{\"entities\":entities}))  # for each unique pn_number append to final list\n",
    "\n",
    "# Serializing json \n",
    "json_object = json.dumps(final_train, indent = 4)\n",
    "  \n",
    "# Writing to sample.json\n",
    "with open(\"sample_602.json\", \"w\") as outfile:\n",
    "    outfile.write(json_object)\n",
    "    \n",
    "# Opening JSON file\n",
    "f = open(\"sample_602.json\")\n",
    " \n",
    "# returns JSON object as\n",
    "# a dictionary\n",
    "data = json.load(f)\n",
    "\n",
    "nlp = spacy.blank(\"en\")\n",
    "def create_training(TRAIN_DATA):\n",
    "    db = DocBin()\n",
    "    for text, annot in tqdm(TRAIN_DATA):\n",
    "        doc = nlp.make_doc(text)\n",
    "        ents = []\n",
    "        for start, end, label in annot[\"entities\"]:\n",
    "            span = doc.char_span(start, end, label=label, alignment_mode=\"contract\")\n",
    "            if span is None:\n",
    "                print (\"Skipping entity\")\n",
    "            else:\n",
    "                ents.append(span)\n",
    "        doc.ents = ents\n",
    "        db.add(doc)\n",
    "    return (db)\n",
    "\n",
    "n = int(len(data)*0.8)\n",
    "\n",
    "train = data[:n]\n",
    "validation = data[n:]\n",
    "len(train),len(validation)"
   ]
  },
  {
   "cell_type": "code",
   "execution_count": 89,
   "id": "6536cbe0",
   "metadata": {},
   "outputs": [
    {
     "name": "stderr",
     "output_type": "stream",
     "text": [
      "100%|█████████████████████████████████████████████████████████████████████████████████| 76/76 [00:00<00:00, 268.32it/s]\n"
     ]
    }
   ],
   "source": [
    "#train data set\n",
    "camp_train = create_training(train)\n",
    "camp_train.to_disk(\"nbme_train_602.spacy\")"
   ]
  },
  {
   "cell_type": "code",
   "execution_count": 90,
   "id": "264acf97",
   "metadata": {},
   "outputs": [
    {
     "name": "stderr",
     "output_type": "stream",
     "text": [
      "100%|█████████████████████████████████████████████████████████████████████████████████| 19/19 [00:00<00:00, 250.67it/s]"
     ]
    },
    {
     "name": "stdout",
     "output_type": "stream",
     "text": [
      "Skipping entity\n"
     ]
    },
    {
     "name": "stderr",
     "output_type": "stream",
     "text": [
      "\n"
     ]
    }
   ],
   "source": [
    "#Validation data set\n",
    "camp_validation = create_training(validation)\n",
    "camp_validation.to_disk(\"nbme_validation_602.spacy\")"
   ]
  },
  {
   "cell_type": "code",
   "execution_count": 91,
   "id": "545fca21",
   "metadata": {},
   "outputs": [
    {
     "name": "stdout",
     "output_type": "stream",
     "text": [
      "[+] Auto-filled config with all values\n",
      "[+] Saved config\n",
      "config_602.cfg\n",
      "You can now add your data and train your pipeline:\n",
      "python -m spacy train config_602.cfg --paths.train ./train.spacy --paths.dev ./dev.spacy\n"
     ]
    },
    {
     "name": "stderr",
     "output_type": "stream",
     "text": [
      "2022-05-13 11:50:09.196684: W tensorflow/stream_executor/platform/default/dso_loader.cc:64] Could not load dynamic library 'cudart64_110.dll'; dlerror: cudart64_110.dll not found\n",
      "2022-05-13 11:50:09.196737: I tensorflow/stream_executor/cuda/cudart_stub.cc:29] Ignore above cudart dlerror if you do not have a GPU set up on your machine.\n"
     ]
    }
   ],
   "source": [
    "!python -m spacy init fill-config ./base_config_602.cfg ./config_602.cfg"
   ]
  },
  {
   "cell_type": "code",
   "execution_count": 92,
   "id": "19f2bd81",
   "metadata": {},
   "outputs": [
    {
     "name": "stdout",
     "output_type": "stream",
     "text": [
      "[i] Saving to output directory: output_602\n",
      "[i] Using CPU\n",
      "\u001b[1m\n",
      "=========================== Initializing pipeline ===========================\u001b[0m\n",
      "[+] Initialized pipeline\n",
      "\u001b[1m\n",
      "============================= Training pipeline =============================\u001b[0m\n",
      "[i] Pipeline: ['tok2vec', 'ner']\n",
      "[i] Initial learn rate: 0.001\n",
      "E    #       LOSS TOK2VEC  LOSS NER  ENTS_F  ENTS_P  ENTS_R  SCORE \n",
      "---  ------  ------------  --------  ------  ------  ------  ------\n",
      "  0       0          0.00     51.83    1.30    0.67   22.22    0.01\n",
      "  2     200       9061.19   2250.07   94.44   94.44   94.44    0.94\n",
      "  5     400          3.08      8.53   91.89   89.47   94.44    0.92\n",
      "  7     600          0.14      0.16   94.44   94.44   94.44    0.94\n",
      " 10     800          0.00      0.00   94.44   94.44   94.44    0.94\n",
      " 13    1000          0.00      0.00   94.44   94.44   94.44    0.94\n",
      " 15    1200          0.00      0.00   94.44   94.44   94.44    0.94\n",
      " 18    1400          0.00      0.00   94.44   94.44   94.44    0.94\n",
      " 21    1600          0.00      0.00   94.44   94.44   94.44    0.94\n",
      " 25    1800          0.00      0.00   94.44   94.44   94.44    0.94\n",
      "[+] Saved pipeline to output directory\n",
      "output_602\\model-last\n"
     ]
    },
    {
     "name": "stderr",
     "output_type": "stream",
     "text": [
      "2022-05-13 11:50:17.624269: W tensorflow/stream_executor/platform/default/dso_loader.cc:64] Could not load dynamic library 'cudart64_110.dll'; dlerror: cudart64_110.dll not found\n",
      "2022-05-13 11:50:17.624321: I tensorflow/stream_executor/cuda/cudart_stub.cc:29] Ignore above cudart dlerror if you do not have a GPU set up on your machine.\n",
      "[2022-05-13 11:50:23,879] [INFO] Set up nlp object from config\n",
      "[2022-05-13 11:50:23,894] [INFO] Pipeline: ['tok2vec', 'ner']\n",
      "[2022-05-13 11:50:23,899] [INFO] Created vocabulary\n",
      "[2022-05-13 11:50:23,900] [INFO] Finished initializing nlp object\n",
      "[2022-05-13 11:50:24,707] [INFO] Initialized pipeline components: ['tok2vec', 'ner']\n"
     ]
    }
   ],
   "source": [
    "!python -m spacy train config_602.cfg --output ./output_602"
   ]
  },
  {
   "cell_type": "code",
   "execution_count": null,
   "id": "1c3b290f",
   "metadata": {},
   "outputs": [],
   "source": []
  },
  {
   "cell_type": "markdown",
   "id": "36aa95d8",
   "metadata": {},
   "source": [
    "### Feature 603"
   ]
  },
  {
   "cell_type": "code",
   "execution_count": 112,
   "id": "7195591e",
   "metadata": {},
   "outputs": [
    {
     "data": {
      "text/plain": [
       "(192, 11)"
      ]
     },
     "execution_count": 112,
     "metadata": {},
     "output_type": "execute_result"
    }
   ],
   "source": [
    "case_6_603 = case_6[case_6[\"feature_num\"] == 603]\n",
    "case_6_603.shape"
   ]
  },
  {
   "cell_type": "code",
   "execution_count": 113,
   "id": "8fbb1e08",
   "metadata": {},
   "outputs": [],
   "source": [
    "drop_603 = [812,813,815,1095,1111,1192]"
   ]
  },
  {
   "cell_type": "code",
   "execution_count": 114,
   "id": "dace6329",
   "metadata": {},
   "outputs": [],
   "source": [
    "case_6_603 = case_6_603.drop(drop_603)"
   ]
  },
  {
   "cell_type": "code",
   "execution_count": 115,
   "id": "68d0248b",
   "metadata": {},
   "outputs": [
    {
     "data": {
      "text/plain": [
       "(143, 36)"
      ]
     },
     "execution_count": 115,
     "metadata": {},
     "output_type": "execute_result"
    }
   ],
   "source": [
    "pn_Num_list = list(case_6_603.pn_num.unique())\n",
    "\n",
    "final_train = []   # appending all the individual rows\n",
    "for patient_number in pn_Num_list:  # for each unique patient number\n",
    "    entities = []  # saving individaual entities locations\n",
    "    for row_index,row in case_6_603[case_6_603.pn_num == patient_number].iterrows():  # for each unique patient number \n",
    "        \n",
    "        entities.append((int(row[\"start_location\"]),int(row[\"end_location\"]),\"Feature_\" + str(row[\"feature_num\"]))) # store the locations in numeric format\n",
    "        \n",
    "    text = case_6_603[case_6_603.pn_num == patient_number][\"New_pn_history\"].values[0] # save the text for the unique patient number\n",
    "    \n",
    "    final_train.append((text,{\"entities\":entities}))  # for each unique pn_number append to final list\n",
    "\n",
    "# Serializing json \n",
    "json_object = json.dumps(final_train, indent = 4)\n",
    "  \n",
    "# Writing to sample.json\n",
    "with open(\"sample_603.json\", \"w\") as outfile:\n",
    "    outfile.write(json_object)\n",
    "    \n",
    "# Opening JSON file\n",
    "f = open(\"sample_603.json\")\n",
    " \n",
    "# returns JSON object as\n",
    "# a dictionary\n",
    "data = json.load(f)\n",
    "\n",
    "nlp = spacy.blank(\"en\")\n",
    "def create_training(TRAIN_DATA):\n",
    "    db = DocBin()\n",
    "    for text, annot in tqdm(TRAIN_DATA):\n",
    "        doc = nlp.make_doc(text)\n",
    "        ents = []\n",
    "        for start, end, label in annot[\"entities\"]:\n",
    "            span = doc.char_span(start, end, label=label, alignment_mode=\"contract\")\n",
    "            if span is None:\n",
    "                print (\"Skipping entity\")\n",
    "            else:\n",
    "                ents.append(span)\n",
    "        doc.ents = ents\n",
    "        db.add(doc)\n",
    "    return (db)\n",
    "\n",
    "n = int(len(data)*0.8)\n",
    "\n",
    "train = data[:n]\n",
    "validation = data[n:]\n",
    "len(train),len(validation)"
   ]
  },
  {
   "cell_type": "code",
   "execution_count": 116,
   "id": "8be9d7a3",
   "metadata": {},
   "outputs": [
    {
     "name": "stderr",
     "output_type": "stream",
     "text": [
      "100%|███████████████████████████████████████████████████████████████████████████████| 143/143 [00:00<00:00, 377.08it/s]\n"
     ]
    }
   ],
   "source": [
    "#train data set\n",
    "camp_train = create_training(train)\n",
    "camp_train.to_disk(\"nbme_train_603.spacy\")"
   ]
  },
  {
   "cell_type": "code",
   "execution_count": 117,
   "id": "0f382cbb",
   "metadata": {},
   "outputs": [
    {
     "name": "stderr",
     "output_type": "stream",
     "text": [
      "100%|█████████████████████████████████████████████████████████████████████████████████| 36/36 [00:00<00:00, 211.09it/s]\n"
     ]
    }
   ],
   "source": [
    "#Validation data set\n",
    "camp_validation = create_training(validation)\n",
    "camp_validation.to_disk(\"nbme_validation_603.spacy\")"
   ]
  },
  {
   "cell_type": "code",
   "execution_count": 118,
   "id": "06f43537",
   "metadata": {},
   "outputs": [
    {
     "name": "stdout",
     "output_type": "stream",
     "text": [
      "[+] Auto-filled config with all values\n",
      "[+] Saved config\n",
      "config_603.cfg\n",
      "You can now add your data and train your pipeline:\n",
      "python -m spacy train config_603.cfg --paths.train ./train.spacy --paths.dev ./dev.spacy\n"
     ]
    },
    {
     "name": "stderr",
     "output_type": "stream",
     "text": [
      "2022-05-13 12:21:35.884171: W tensorflow/stream_executor/platform/default/dso_loader.cc:64] Could not load dynamic library 'cudart64_110.dll'; dlerror: cudart64_110.dll not found\n",
      "2022-05-13 12:21:35.884241: I tensorflow/stream_executor/cuda/cudart_stub.cc:29] Ignore above cudart dlerror if you do not have a GPU set up on your machine.\n"
     ]
    }
   ],
   "source": [
    "!python -m spacy init fill-config ./base_config_603.cfg ./config_603.cfg"
   ]
  },
  {
   "cell_type": "code",
   "execution_count": 119,
   "id": "b5cd1e56",
   "metadata": {},
   "outputs": [
    {
     "name": "stdout",
     "output_type": "stream",
     "text": [
      "[i] Saving to output directory: output_603\n",
      "[i] Using CPU\n",
      "\u001b[1m\n",
      "=========================== Initializing pipeline ===========================\u001b[0m\n",
      "[+] Initialized pipeline\n",
      "\u001b[1m\n",
      "============================= Training pipeline =============================\u001b[0m\n",
      "[i] Pipeline: ['tok2vec', 'ner']\n",
      "[i] Initial learn rate: 0.001\n",
      "E    #       LOSS TOK2VEC  LOSS NER  ENTS_F  ENTS_P  ENTS_R  SCORE \n",
      "---  ------  ------------  --------  ------  ------  ------  ------\n",
      "  0       0          0.00     48.17    2.46    1.29   27.78    0.02\n",
      "  1     200        934.45   2166.61   77.78   77.78   77.78    0.78\n",
      "  2     400        230.48    294.52   77.33   74.36   80.56    0.77\n",
      "  4     600        224.77    226.25   43.37   38.30   50.00    0.43\n",
      "  5     800        113.43    210.06   81.69   82.86   80.56    0.82\n",
      "  6    1000        136.56    179.49   63.33   79.17   52.78    0.63\n",
      "  8    1200        147.37    151.39   73.68   70.00   77.78    0.74\n",
      "  9    1400        182.89    158.05   68.49   67.57   69.44    0.68\n",
      " 11    1600        343.63    140.77   67.61   68.57   66.67    0.68\n",
      " 13    1800        181.89    143.91   59.15   60.00   58.33    0.59\n",
      " 15    2000        212.54    106.96   72.46   75.76   69.44    0.72\n",
      " 18    2200        232.73     86.50   52.78   52.78   52.78    0.53\n",
      " 22    2400        289.49    107.47   57.89   55.00   61.11    0.58\n",
      "[+] Saved pipeline to output directory\n",
      "output_603\\model-last\n"
     ]
    },
    {
     "name": "stderr",
     "output_type": "stream",
     "text": [
      "2022-05-13 12:22:38.485657: W tensorflow/stream_executor/platform/default/dso_loader.cc:64] Could not load dynamic library 'cudart64_110.dll'; dlerror: cudart64_110.dll not found\n",
      "2022-05-13 12:22:38.485710: I tensorflow/stream_executor/cuda/cudart_stub.cc:29] Ignore above cudart dlerror if you do not have a GPU set up on your machine.\n",
      "[2022-05-13 12:22:46,334] [INFO] Set up nlp object from config\n",
      "[2022-05-13 12:22:46,354] [INFO] Pipeline: ['tok2vec', 'ner']\n",
      "[2022-05-13 12:22:46,362] [INFO] Created vocabulary\n",
      "[2022-05-13 12:22:46,427] [INFO] Finished initializing nlp object\n",
      "[2022-05-13 12:22:47,951] [INFO] Initialized pipeline components: ['tok2vec', 'ner']\n"
     ]
    }
   ],
   "source": [
    "!python -m spacy train config_603.cfg --output ./output_603"
   ]
  },
  {
   "cell_type": "code",
   "execution_count": null,
   "id": "72390ddb",
   "metadata": {},
   "outputs": [],
   "source": []
  },
  {
   "cell_type": "markdown",
   "id": "d232b240",
   "metadata": {},
   "source": [
    "### Feature 604"
   ]
  },
  {
   "cell_type": "code",
   "execution_count": 120,
   "id": "903b347a",
   "metadata": {},
   "outputs": [
    {
     "data": {
      "text/plain": [
       "(107, 11)"
      ]
     },
     "execution_count": 120,
     "metadata": {},
     "output_type": "execute_result"
    }
   ],
   "source": [
    "case_6_604 = case_6[case_6[\"feature_num\"] == 604]\n",
    "case_6_604.shape"
   ]
  },
  {
   "cell_type": "code",
   "execution_count": 121,
   "id": "2e326a62",
   "metadata": {},
   "outputs": [],
   "source": [
    "case_6_604 = case_6_604.drop(index=816, axis = 0)"
   ]
  },
  {
   "cell_type": "code",
   "execution_count": 122,
   "id": "4ab6be9b",
   "metadata": {},
   "outputs": [
    {
     "data": {
      "text/plain": [
       "(71, 18)"
      ]
     },
     "execution_count": 122,
     "metadata": {},
     "output_type": "execute_result"
    }
   ],
   "source": [
    "pn_Num_list = list(case_6_604.pn_num.unique())\n",
    "\n",
    "final_train = []   # appending all the individual rows\n",
    "for patient_number in pn_Num_list:  # for each unique patient number\n",
    "    entities = []  # saving individaual entities locations\n",
    "    for row_index,row in case_6_604[case_6_604.pn_num == patient_number].iterrows():  # for each unique patient number \n",
    "        \n",
    "        entities.append((int(row[\"start_location\"]),int(row[\"end_location\"]),\"Feature_\" + str(row[\"feature_num\"]))) # store the locations in numeric format\n",
    "        \n",
    "    text = case_6_604[case_6_604.pn_num == patient_number][\"New_pn_history\"].values[0] # save the text for the unique patient number\n",
    "    \n",
    "    final_train.append((text,{\"entities\":entities}))  # for each unique pn_number append to final list\n",
    "\n",
    "# Serializing json \n",
    "json_object = json.dumps(final_train, indent = 4)\n",
    "  \n",
    "# Writing to sample.json\n",
    "with open(\"sample_604.json\", \"w\") as outfile:\n",
    "    outfile.write(json_object)\n",
    "    \n",
    "# Opening JSON file\n",
    "f = open(\"sample_604.json\")\n",
    " \n",
    "# returns JSON object as\n",
    "# a dictionary\n",
    "data = json.load(f)\n",
    "\n",
    "nlp = spacy.blank(\"en\")\n",
    "def create_training(TRAIN_DATA):\n",
    "    db = DocBin()\n",
    "    for text, annot in tqdm(TRAIN_DATA):\n",
    "        doc = nlp.make_doc(text)\n",
    "        ents = []\n",
    "        for start, end, label in annot[\"entities\"]:\n",
    "            span = doc.char_span(start, end, label=label, alignment_mode=\"contract\")\n",
    "            if span is None:\n",
    "                print (\"Skipping entity\")\n",
    "            else:\n",
    "                ents.append(span)\n",
    "        doc.ents = ents\n",
    "        db.add(doc)\n",
    "    return (db)\n",
    "\n",
    "n = int(len(data)*0.8)\n",
    "\n",
    "train = data[:n]\n",
    "validation = data[n:]\n",
    "len(train),len(validation)"
   ]
  },
  {
   "cell_type": "code",
   "execution_count": 123,
   "id": "e40b7da9",
   "metadata": {},
   "outputs": [
    {
     "name": "stderr",
     "output_type": "stream",
     "text": [
      "100%|█████████████████████████████████████████████████████████████████████████████████| 71/71 [00:00<00:00, 263.67it/s]\n"
     ]
    }
   ],
   "source": [
    "#train data set\n",
    "camp_train = create_training(train)\n",
    "camp_train.to_disk(\"nbme_train_604.spacy\")"
   ]
  },
  {
   "cell_type": "code",
   "execution_count": 124,
   "id": "1111cff2",
   "metadata": {},
   "outputs": [
    {
     "name": "stderr",
     "output_type": "stream",
     "text": [
      "100%|█████████████████████████████████████████████████████████████████████████████████| 18/18 [00:00<00:00, 272.07it/s]\n"
     ]
    }
   ],
   "source": [
    "#Validation data set\n",
    "camp_validation = create_training(validation)\n",
    "camp_validation.to_disk(\"nbme_validation_604.spacy\")"
   ]
  },
  {
   "cell_type": "code",
   "execution_count": 125,
   "id": "1afae37c",
   "metadata": {},
   "outputs": [
    {
     "name": "stdout",
     "output_type": "stream",
     "text": [
      "[+] Auto-filled config with all values\n",
      "[+] Saved config\n",
      "config_604.cfg\n",
      "You can now add your data and train your pipeline:\n",
      "python -m spacy train config_604.cfg --paths.train ./train.spacy --paths.dev ./dev.spacy\n"
     ]
    },
    {
     "name": "stderr",
     "output_type": "stream",
     "text": [
      "2022-05-13 12:31:36.457241: W tensorflow/stream_executor/platform/default/dso_loader.cc:64] Could not load dynamic library 'cudart64_110.dll'; dlerror: cudart64_110.dll not found\n",
      "2022-05-13 12:31:36.457317: I tensorflow/stream_executor/cuda/cudart_stub.cc:29] Ignore above cudart dlerror if you do not have a GPU set up on your machine.\n"
     ]
    }
   ],
   "source": [
    "!python -m spacy init fill-config ./base_config_604.cfg ./config_604.cfg"
   ]
  },
  {
   "cell_type": "code",
   "execution_count": 126,
   "id": "88deac1c",
   "metadata": {},
   "outputs": [
    {
     "name": "stdout",
     "output_type": "stream",
     "text": [
      "[i] Saving to output directory: output_604\n",
      "[i] Using CPU\n",
      "\u001b[1m\n",
      "=========================== Initializing pipeline ===========================\u001b[0m\n",
      "[+] Initialized pipeline\n",
      "\u001b[1m\n",
      "============================= Training pipeline =============================\u001b[0m\n",
      "[i] Pipeline: ['tok2vec', 'ner']\n",
      "[i] Initial learn rate: 0.001\n",
      "E    #       LOSS TOK2VEC  LOSS NER  ENTS_F  ENTS_P  ENTS_R  SCORE \n",
      "---  ------  ------------  --------  ------  ------  ------  ------\n",
      "  0       0          0.00     60.83    0.00    0.00    0.00    0.00\n",
      "  2     200       3495.00   3414.85   57.14   70.59   48.00    0.57\n",
      "  5     400         53.94    179.57   62.22   70.00   56.00    0.62\n",
      "  8     600         58.44     91.73   59.26   55.17   64.00    0.59\n",
      " 11     800        151.60     61.00   70.83   73.91   68.00    0.71\n",
      " 14    1000        109.80     47.82   70.83   73.91   68.00    0.71\n",
      " 16    1200         41.20     26.87   62.75   61.54   64.00    0.63\n",
      " 19    1400         36.15     22.89   69.39   70.83   68.00    0.69\n",
      " 22    1600         27.65     13.12   65.12   77.78   56.00    0.65\n",
      " 26    1800          1.03      0.49   69.57   76.19   64.00    0.70\n",
      " 31    2000         54.29     15.96   68.09   72.73   64.00    0.68\n",
      " 38    2200          9.34      2.07   66.67   69.57   64.00    0.67\n",
      " 46    2400       4986.14     58.01   68.00   68.00   68.00    0.68\n"
     ]
    },
    {
     "name": "stderr",
     "output_type": "stream",
     "text": [
      "2022-05-13 12:32:32.960557: W tensorflow/stream_executor/platform/default/dso_loader.cc:64] Could not load dynamic library 'cudart64_110.dll'; dlerror: cudart64_110.dll not found\n",
      "2022-05-13 12:32:32.960612: I tensorflow/stream_executor/cuda/cudart_stub.cc:29] Ignore above cudart dlerror if you do not have a GPU set up on your machine.\n",
      "[2022-05-13 12:32:42,217] [INFO] Set up nlp object from config\n",
      "[2022-05-13 12:32:42,235] [INFO] Pipeline: ['tok2vec', 'ner']\n",
      "[2022-05-13 12:32:42,241] [INFO] Created vocabulary\n",
      "[2022-05-13 12:32:42,243] [INFO] Finished initializing nlp object\n",
      "[2022-05-13 12:32:43,191] [INFO] Initialized pipeline components: ['tok2vec', 'ner']\n"
     ]
    },
    {
     "name": "stdout",
     "output_type": "stream",
     "text": [
      "[+] Saved pipeline to output directory\n",
      "output_604\\model-last\n"
     ]
    }
   ],
   "source": [
    "!python -m spacy train config_604.cfg --output ./output_604"
   ]
  },
  {
   "cell_type": "code",
   "execution_count": null,
   "id": "c6e5fa96",
   "metadata": {},
   "outputs": [],
   "source": []
  },
  {
   "cell_type": "markdown",
   "id": "30736d6c",
   "metadata": {},
   "source": [
    "### Feature 605"
   ]
  },
  {
   "cell_type": "code",
   "execution_count": 127,
   "id": "3cab7a65",
   "metadata": {},
   "outputs": [
    {
     "data": {
      "text/plain": [
       "(105, 11)"
      ]
     },
     "execution_count": 127,
     "metadata": {},
     "output_type": "execute_result"
    }
   ],
   "source": [
    "case_6_605 = case_6[case_6[\"feature_num\"] == 605]\n",
    "case_6_605.shape"
   ]
  },
  {
   "cell_type": "code",
   "execution_count": 128,
   "id": "7f54745e",
   "metadata": {},
   "outputs": [],
   "source": [
    "case_6_605 = case_6_605.drop(index=104, axis = 0)\n",
    "case_6_605 = case_6_605.drop(index=158, axis = 0)\n",
    "case_6_605 = case_6_605.drop(index=563, axis = 0)"
   ]
  },
  {
   "cell_type": "code",
   "execution_count": 129,
   "id": "1e0a21b4",
   "metadata": {},
   "outputs": [
    {
     "data": {
      "text/plain": [
       "(76, 19)"
      ]
     },
     "execution_count": 129,
     "metadata": {},
     "output_type": "execute_result"
    }
   ],
   "source": [
    "pn_Num_list = list(case_6_605.pn_num.unique())\n",
    "\n",
    "final_train = []   # appending all the individual rows\n",
    "for patient_number in pn_Num_list:  # for each unique patient number\n",
    "    entities = []  # saving individaual entities locations\n",
    "    for row_index,row in case_6_605[case_6_605.pn_num == patient_number].iterrows():  # for each unique patient number \n",
    "        \n",
    "        entities.append((int(row[\"start_location\"]),int(row[\"end_location\"]),\"Feature_\" + str(row[\"feature_num\"]))) # store the locations in numeric format\n",
    "        \n",
    "    text = case_6_605[case_6_605.pn_num == patient_number][\"New_pn_history\"].values[0] # save the text for the unique patient number\n",
    "    \n",
    "    final_train.append((text,{\"entities\":entities}))  # for each unique pn_number append to final list\n",
    "\n",
    "# Serializing json \n",
    "json_object = json.dumps(final_train, indent = 4)\n",
    "  \n",
    "# Writing to sample.json\n",
    "with open(\"sample_605.json\", \"w\") as outfile:\n",
    "    outfile.write(json_object)\n",
    "    \n",
    "# Opening JSON file\n",
    "f = open(\"sample_605.json\")\n",
    " \n",
    "# returns JSON object as\n",
    "# a dictionary\n",
    "data = json.load(f)\n",
    "\n",
    "nlp = spacy.blank(\"en\")\n",
    "def create_training(TRAIN_DATA):\n",
    "    db = DocBin()\n",
    "    for text, annot in tqdm(TRAIN_DATA):\n",
    "        doc = nlp.make_doc(text)\n",
    "        ents = []\n",
    "        for start, end, label in annot[\"entities\"]:\n",
    "            span = doc.char_span(start, end, label=label, alignment_mode=\"contract\")\n",
    "            if span is None:\n",
    "                print (\"Skipping entity\")\n",
    "            else:\n",
    "                ents.append(span)\n",
    "        doc.ents = ents\n",
    "        db.add(doc)\n",
    "    return (db)\n",
    "\n",
    "n = int(len(data)*0.8)\n",
    "\n",
    "train = data[:n]\n",
    "validation = data[n:]\n",
    "len(train),len(validation)"
   ]
  },
  {
   "cell_type": "code",
   "execution_count": 130,
   "id": "c8b6d352",
   "metadata": {},
   "outputs": [
    {
     "name": "stderr",
     "output_type": "stream",
     "text": [
      "100%|█████████████████████████████████████████████████████████████████████████████████| 76/76 [00:00<00:00, 332.76it/s]\n"
     ]
    }
   ],
   "source": [
    "#train data set\n",
    "camp_train = create_training(train)\n",
    "camp_train.to_disk(\"nbme_train_605.spacy\")"
   ]
  },
  {
   "cell_type": "code",
   "execution_count": 131,
   "id": "a90f6636",
   "metadata": {},
   "outputs": [
    {
     "name": "stderr",
     "output_type": "stream",
     "text": [
      "100%|█████████████████████████████████████████████████████████████████████████████████| 19/19 [00:00<00:00, 443.02it/s]\n"
     ]
    }
   ],
   "source": [
    "#Validation data set\n",
    "camp_validation = create_training(validation)\n",
    "camp_validation.to_disk(\"nbme_validation_605.spacy\")"
   ]
  },
  {
   "cell_type": "code",
   "execution_count": 132,
   "id": "38f8318a",
   "metadata": {},
   "outputs": [
    {
     "name": "stdout",
     "output_type": "stream",
     "text": [
      "[+] Auto-filled config with all values\n",
      "[+] Saved config\n",
      "config_605.cfg\n",
      "You can now add your data and train your pipeline:\n",
      "python -m spacy train config_605.cfg --paths.train ./train.spacy --paths.dev ./dev.spacy\n"
     ]
    },
    {
     "name": "stderr",
     "output_type": "stream",
     "text": [
      "2022-05-13 12:40:55.801649: W tensorflow/stream_executor/platform/default/dso_loader.cc:64] Could not load dynamic library 'cudart64_110.dll'; dlerror: cudart64_110.dll not found\n",
      "2022-05-13 12:40:55.801715: I tensorflow/stream_executor/cuda/cudart_stub.cc:29] Ignore above cudart dlerror if you do not have a GPU set up on your machine.\n"
     ]
    }
   ],
   "source": [
    "!python -m spacy init fill-config ./base_config_605.cfg ./config_605.cfg"
   ]
  },
  {
   "cell_type": "code",
   "execution_count": 133,
   "id": "a1bd0cfe",
   "metadata": {},
   "outputs": [
    {
     "name": "stdout",
     "output_type": "stream",
     "text": [
      "[i] Saving to output directory: output_605\n",
      "[i] Using CPU\n",
      "\u001b[1m\n",
      "=========================== Initializing pipeline ===========================\u001b[0m\n",
      "[+] Initialized pipeline\n",
      "\u001b[1m\n",
      "============================= Training pipeline =============================\u001b[0m\n",
      "[i] Pipeline: ['tok2vec', 'ner']\n",
      "[i] Initial learn rate: 0.001\n",
      "E    #       LOSS TOK2VEC  LOSS NER  ENTS_F  ENTS_P  ENTS_R  SCORE \n",
      "---  ------  ------------  --------  ------  ------  ------  ------\n"
     ]
    },
    {
     "name": "stderr",
     "output_type": "stream",
     "text": [
      "2022-05-13 12:41:44.589516: W tensorflow/stream_executor/platform/default/dso_loader.cc:64] Could not load dynamic library 'cudart64_110.dll'; dlerror: cudart64_110.dll not found"
     ]
    },
    {
     "name": "stdout",
     "output_type": "stream",
     "text": [
      "  0       0          0.00     64.00    0.00    0.00    0.00    0.00\n",
      "  2     200        837.70   1896.39   97.30  100.00   94.74    0.97\n",
      "  5     400         20.47     66.53   97.30  100.00   94.74    0.97\n",
      "  7     600         20.61     36.57   94.44  100.00   89.47    0.94\n",
      " 10     800         20.66     28.44   94.44  100.00   89.47    0.94\n",
      " 13    1000         15.92     21.35   97.30  100.00   94.74    0.97\n",
      " 15    1200          9.99     12.67   91.89   94.44   89.47    0.92\n",
      " 18    1400         24.84     17.44   97.30  100.00   94.74    0.97\n",
      " 21    1600          4.88      4.99   89.47   89.47   89.47    0.89\n",
      " 24    1800          6.02      7.75   94.74   94.74   94.74    0.95\n",
      "[+] Saved pipeline to output directory\n",
      "output_605\\model-last\n"
     ]
    },
    {
     "name": "stderr",
     "output_type": "stream",
     "text": [
      "\n",
      "2022-05-13 12:41:44.589642: I tensorflow/stream_executor/cuda/cudart_stub.cc:29] Ignore above cudart dlerror if you do not have a GPU set up on your machine.\n",
      "[2022-05-13 12:41:53,333] [INFO] Set up nlp object from config\n",
      "[2022-05-13 12:41:53,388] [INFO] Pipeline: ['tok2vec', 'ner']\n",
      "[2022-05-13 12:41:53,406] [INFO] Created vocabulary\n",
      "[2022-05-13 12:41:53,409] [INFO] Finished initializing nlp object\n",
      "[2022-05-13 12:41:54,394] [INFO] Initialized pipeline components: ['tok2vec', 'ner']\n"
     ]
    }
   ],
   "source": [
    "!python -m spacy train config_605.cfg --output ./output_605"
   ]
  },
  {
   "cell_type": "code",
   "execution_count": null,
   "id": "7a3d10ac",
   "metadata": {},
   "outputs": [],
   "source": []
  },
  {
   "cell_type": "markdown",
   "id": "ab8d7967",
   "metadata": {},
   "source": [
    "### Feature 606"
   ]
  },
  {
   "cell_type": "code",
   "execution_count": 134,
   "id": "95307c0e",
   "metadata": {},
   "outputs": [
    {
     "data": {
      "text/plain": [
       "(132, 11)"
      ]
     },
     "execution_count": 134,
     "metadata": {},
     "output_type": "execute_result"
    }
   ],
   "source": [
    "case_6_606 = case_6[case_6[\"feature_num\"] == 606]\n",
    "case_6_606.shape"
   ]
  },
  {
   "cell_type": "code",
   "execution_count": 135,
   "id": "bb627bce",
   "metadata": {},
   "outputs": [],
   "source": [
    "drop_606 = [127,128,138,147,193,281,407,436,461,541,661,713,739,740,837,838,976]"
   ]
  },
  {
   "cell_type": "code",
   "execution_count": 136,
   "id": "e02f598b",
   "metadata": {},
   "outputs": [],
   "source": [
    "case_6_606 = case_6_606.drop(drop_606)"
   ]
  },
  {
   "cell_type": "code",
   "execution_count": 137,
   "id": "6b7467a8",
   "metadata": {},
   "outputs": [
    {
     "data": {
      "text/plain": [
       "(78, 20)"
      ]
     },
     "execution_count": 137,
     "metadata": {},
     "output_type": "execute_result"
    }
   ],
   "source": [
    "pn_Num_list = list(case_6_606.pn_num.unique())\n",
    "\n",
    "final_train = []   # appending all the individual rows\n",
    "for patient_number in pn_Num_list:  # for each unique patient number\n",
    "    entities = []  # saving individaual entities locations\n",
    "    for row_index,row in case_6_606[case_6_606.pn_num == patient_number].iterrows():  # for each unique patient number \n",
    "        \n",
    "        entities.append((int(row[\"start_location\"]),int(row[\"end_location\"]),\"Feature_\" + str(row[\"feature_num\"]))) # store the locations in numeric format\n",
    "        \n",
    "    text = case_6_606[case_6_606.pn_num == patient_number][\"New_pn_history\"].values[0] # save the text for the unique patient number\n",
    "    \n",
    "    final_train.append((text,{\"entities\":entities}))  # for each unique pn_number append to final list\n",
    "\n",
    "# Serializing json \n",
    "json_object = json.dumps(final_train, indent = 4)\n",
    "  \n",
    "# Writing to sample.json\n",
    "with open(\"sample_606.json\", \"w\") as outfile:\n",
    "    outfile.write(json_object)\n",
    "    \n",
    "# Opening JSON file\n",
    "f = open(\"sample_606.json\")\n",
    " \n",
    "# returns JSON object as\n",
    "# a dictionary\n",
    "data = json.load(f)\n",
    "\n",
    "nlp = spacy.blank(\"en\")\n",
    "def create_training(TRAIN_DATA):\n",
    "    db = DocBin()\n",
    "    for text, annot in tqdm(TRAIN_DATA):\n",
    "        doc = nlp.make_doc(text)\n",
    "        ents = []\n",
    "        for start, end, label in annot[\"entities\"]:\n",
    "            span = doc.char_span(start, end, label=label, alignment_mode=\"contract\")\n",
    "            if span is None:\n",
    "                print (\"Skipping entity\")\n",
    "            else:\n",
    "                ents.append(span)\n",
    "        doc.ents = ents\n",
    "        db.add(doc)\n",
    "    return (db)\n",
    "\n",
    "n = int(len(data)*0.8)\n",
    "\n",
    "train = data[:n]\n",
    "validation = data[n:]\n",
    "len(train),len(validation)"
   ]
  },
  {
   "cell_type": "code",
   "execution_count": 138,
   "id": "3c124fb5",
   "metadata": {},
   "outputs": [
    {
     "name": "stderr",
     "output_type": "stream",
     "text": [
      "100%|█████████████████████████████████████████████████████████████████████████████████| 78/78 [00:00<00:00, 225.45it/s]\n"
     ]
    }
   ],
   "source": [
    "#train data set\n",
    "camp_train = create_training(train)\n",
    "camp_train.to_disk(\"nbme_train_606.spacy\")"
   ]
  },
  {
   "cell_type": "code",
   "execution_count": 139,
   "id": "521398a5",
   "metadata": {},
   "outputs": [
    {
     "name": "stderr",
     "output_type": "stream",
     "text": [
      "100%|█████████████████████████████████████████████████████████████████████████████████| 20/20 [00:00<00:00, 409.27it/s]\n"
     ]
    }
   ],
   "source": [
    "#Validation data set\n",
    "camp_validation = create_training(validation)\n",
    "camp_validation.to_disk(\"nbme_validation_606.spacy\")"
   ]
  },
  {
   "cell_type": "code",
   "execution_count": 140,
   "id": "54be706b",
   "metadata": {},
   "outputs": [
    {
     "name": "stdout",
     "output_type": "stream",
     "text": [
      "[+] Auto-filled config with all values\n",
      "[+] Saved config\n",
      "config_606.cfg\n",
      "You can now add your data and train your pipeline:\n",
      "python -m spacy train config_606.cfg --paths.train ./train.spacy --paths.dev ./dev.spacy\n"
     ]
    },
    {
     "name": "stderr",
     "output_type": "stream",
     "text": [
      "2022-05-13 12:47:49.184992: W tensorflow/stream_executor/platform/default/dso_loader.cc:64] Could not load dynamic library 'cudart64_110.dll'; dlerror: cudart64_110.dll not found\n",
      "2022-05-13 12:47:49.185062: I tensorflow/stream_executor/cuda/cudart_stub.cc:29] Ignore above cudart dlerror if you do not have a GPU set up on your machine.\n"
     ]
    }
   ],
   "source": [
    "!python -m spacy init fill-config ./base_config_606.cfg ./config_606.cfg"
   ]
  },
  {
   "cell_type": "code",
   "execution_count": 141,
   "id": "8b841b85",
   "metadata": {},
   "outputs": [
    {
     "name": "stdout",
     "output_type": "stream",
     "text": [
      "[i] Saving to output directory: output_606\n",
      "[i] Using CPU\n",
      "\u001b[1m\n",
      "=========================== Initializing pipeline ===========================\u001b[0m\n",
      "[+] Initialized pipeline\n",
      "\u001b[1m\n",
      "============================= Training pipeline =============================\u001b[0m\n",
      "[i] Pipeline: ['tok2vec', 'ner']\n",
      "[i] Initial learn rate: 0.001\n",
      "E    #       LOSS TOK2VEC  LOSS NER  ENTS_F  ENTS_P  ENTS_R  SCORE \n",
      "---  ------  ------------  --------  ------  ------  ------  ------\n",
      "  0       0          0.00     64.33    0.00    0.00    0.00    0.00\n",
      "  2     200         24.28   1158.06   82.35   87.50   77.78    0.82\n",
      "  5     400         45.56     98.00   79.17   90.48   70.37    0.79\n",
      "  7     600      21750.27    407.62   70.83   80.95   62.96    0.71\n",
      " 10     800         36.34     47.48   80.77   84.00   77.78    0.81\n",
      " 12    1000         44.31     42.72   76.60   90.00   66.67    0.77\n",
      " 15    1200        125.80     27.33   86.27   91.67   81.48    0.86\n",
      " 18    1400         91.74     31.51   77.78   77.78   77.78    0.78\n",
      " 21    1600         25.11     18.45   81.63   90.91   74.07    0.82\n",
      " 25    1800          7.28      5.21   86.27   91.67   81.48    0.86\n",
      " 31    2000          0.12      0.06   86.27   91.67   81.48    0.86"
     ]
    },
    {
     "name": "stderr",
     "output_type": "stream",
     "text": [
      "2022-05-13 12:47:59.529331: W tensorflow/stream_executor/platform/default/dso_loader.cc:64] Could not load dynamic library 'cudart64_110.dll'; dlerror: cudart64_110.dll not found\n",
      "2022-05-13 12:47:59.529382: I tensorflow/stream_executor/cuda/cudart_stub.cc:29] Ignore above cudart dlerror if you do not have a GPU set up on your machine.\n",
      "[2022-05-13 12:48:07,159] [INFO] Set up nlp object from config\n",
      "[2022-05-13 12:48:07,177] [INFO] Pipeline: ['tok2vec', 'ner']\n",
      "[2022-05-13 12:48:07,188] [INFO] Created vocabulary\n",
      "[2022-05-13 12:48:07,189] [INFO] Finished initializing nlp object\n",
      "[2022-05-13 12:48:08,049] [INFO] Initialized pipeline components: ['tok2vec', 'ner']\n"
     ]
    },
    {
     "name": "stdout",
     "output_type": "stream",
     "text": [
      "\n",
      " 38    2200          0.00      0.00   86.27   91.67   81.48    0.86\n",
      " 47    2400          0.00      0.00   82.35   87.50   77.78    0.82\n",
      " 58    2600          0.18      0.01   84.00   91.30   77.78    0.84\n",
      " 72    2800          0.00      0.00   84.00   91.30   77.78    0.84\n",
      "[+] Saved pipeline to output directory\n",
      "output_606\\model-last\n"
     ]
    }
   ],
   "source": [
    "!python -m spacy train config_606.cfg --output ./output_606"
   ]
  },
  {
   "cell_type": "code",
   "execution_count": null,
   "id": "80ea08c0",
   "metadata": {},
   "outputs": [],
   "source": []
  },
  {
   "cell_type": "markdown",
   "id": "6953d2ff",
   "metadata": {},
   "source": [
    "### Feature 607"
   ]
  },
  {
   "cell_type": "code",
   "execution_count": 142,
   "id": "102907dc",
   "metadata": {},
   "outputs": [
    {
     "data": {
      "text/plain": [
       "(102, 11)"
      ]
     },
     "execution_count": 142,
     "metadata": {},
     "output_type": "execute_result"
    }
   ],
   "source": [
    "case_6_607 = case_6[case_6[\"feature_num\"] == 607]\n",
    "case_6_607.shape"
   ]
  },
  {
   "cell_type": "code",
   "execution_count": 144,
   "id": "3afbee23",
   "metadata": {},
   "outputs": [],
   "source": [
    "drop_607 = [236,840]"
   ]
  },
  {
   "cell_type": "code",
   "execution_count": 145,
   "id": "b333cd38",
   "metadata": {},
   "outputs": [],
   "source": [
    "case_6_607 = case_6_607.drop(drop_607)"
   ]
  },
  {
   "cell_type": "code",
   "execution_count": 146,
   "id": "23e21bd3",
   "metadata": {},
   "outputs": [
    {
     "data": {
      "text/plain": [
       "(73, 19)"
      ]
     },
     "execution_count": 146,
     "metadata": {},
     "output_type": "execute_result"
    }
   ],
   "source": [
    "pn_Num_list = list(case_6_607.pn_num.unique())\n",
    "\n",
    "final_train = []   # appending all the individual rows\n",
    "for patient_number in pn_Num_list:  # for each unique patient number\n",
    "    entities = []  # saving individaual entities locations\n",
    "    for row_index,row in case_6_607[case_6_607.pn_num == patient_number].iterrows():  # for each unique patient number \n",
    "        \n",
    "        entities.append((int(row[\"start_location\"]),int(row[\"end_location\"]),\"Feature_\" + str(row[\"feature_num\"]))) # store the locations in numeric format\n",
    "        \n",
    "    text = case_6_607[case_6_607.pn_num == patient_number][\"New_pn_history\"].values[0] # save the text for the unique patient number\n",
    "    \n",
    "    final_train.append((text,{\"entities\":entities}))  # for each unique pn_number append to final list\n",
    "\n",
    "# Serializing json \n",
    "json_object = json.dumps(final_train, indent = 4)\n",
    "  \n",
    "# Writing to sample.json\n",
    "with open(\"sample_607.json\", \"w\") as outfile:\n",
    "    outfile.write(json_object)\n",
    "    \n",
    "# Opening JSON file\n",
    "f = open(\"sample_607.json\")\n",
    " \n",
    "# returns JSON object as\n",
    "# a dictionary\n",
    "data = json.load(f)\n",
    "\n",
    "nlp = spacy.blank(\"en\")\n",
    "def create_training(TRAIN_DATA):\n",
    "    db = DocBin()\n",
    "    for text, annot in tqdm(TRAIN_DATA):\n",
    "        doc = nlp.make_doc(text)\n",
    "        ents = []\n",
    "        for start, end, label in annot[\"entities\"]:\n",
    "            span = doc.char_span(start, end, label=label, alignment_mode=\"contract\")\n",
    "            if span is None:\n",
    "                print (\"Skipping entity\")\n",
    "            else:\n",
    "                ents.append(span)\n",
    "        doc.ents = ents\n",
    "        db.add(doc)\n",
    "    return (db)\n",
    "\n",
    "n = int(len(data)*0.8)\n",
    "\n",
    "train = data[:n]\n",
    "validation = data[n:]\n",
    "len(train),len(validation)"
   ]
  },
  {
   "cell_type": "code",
   "execution_count": 147,
   "id": "56f37021",
   "metadata": {},
   "outputs": [
    {
     "name": "stderr",
     "output_type": "stream",
     "text": [
      "100%|█████████████████████████████████████████████████████████████████████████████████| 73/73 [00:00<00:00, 293.36it/s]\n"
     ]
    }
   ],
   "source": [
    "#train data set\n",
    "camp_train = create_training(train)\n",
    "camp_train.to_disk(\"nbme_train_607.spacy\")"
   ]
  },
  {
   "cell_type": "code",
   "execution_count": 148,
   "id": "92988d2a",
   "metadata": {},
   "outputs": [
    {
     "name": "stderr",
     "output_type": "stream",
     "text": [
      "100%|█████████████████████████████████████████████████████████████████████████████████| 19/19 [00:00<00:00, 306.19it/s]\n"
     ]
    }
   ],
   "source": [
    "#Validation data set\n",
    "camp_validation = create_training(validation)\n",
    "camp_validation.to_disk(\"nbme_validation_607.spacy\")"
   ]
  },
  {
   "cell_type": "code",
   "execution_count": 149,
   "id": "888a2357",
   "metadata": {},
   "outputs": [
    {
     "name": "stdout",
     "output_type": "stream",
     "text": [
      "[+] Auto-filled config with all values\n",
      "[+] Saved config\n",
      "config_607.cfg\n",
      "You can now add your data and train your pipeline:\n",
      "python -m spacy train config_607.cfg --paths.train ./train.spacy --paths.dev ./dev.spacy\n"
     ]
    },
    {
     "name": "stderr",
     "output_type": "stream",
     "text": [
      "2022-05-13 12:57:20.939457: W tensorflow/stream_executor/platform/default/dso_loader.cc:64] Could not load dynamic library 'cudart64_110.dll'; dlerror: cudart64_110.dll not found\n",
      "2022-05-13 12:57:20.939548: I tensorflow/stream_executor/cuda/cudart_stub.cc:29] Ignore above cudart dlerror if you do not have a GPU set up on your machine.\n"
     ]
    }
   ],
   "source": [
    "!python -m spacy init fill-config ./base_config_607.cfg ./config_607.cfg"
   ]
  },
  {
   "cell_type": "code",
   "execution_count": 150,
   "id": "20d6b48e",
   "metadata": {},
   "outputs": [
    {
     "name": "stdout",
     "output_type": "stream",
     "text": [
      "[i] Saving to output directory: output_607\n",
      "[i] Using CPU\n",
      "\u001b[1m\n",
      "=========================== Initializing pipeline ===========================\u001b[0m\n",
      "[+] Initialized pipeline\n",
      "\u001b[1m\n",
      "============================= Training pipeline =============================\u001b[0m\n",
      "[i] Pipeline: ['tok2vec', 'ner']\n",
      "[i] Initial learn rate: 0.001\n",
      "E    #       LOSS TOK2VEC  LOSS NER  ENTS_F  ENTS_P  ENTS_R  SCORE \n",
      "---  ------  ------------  --------  ------  ------  ------  ------\n",
      "  0       0          0.00     54.83    0.00    0.00    0.00    0.00\n",
      "  2     200       5252.41   1931.97   48.78   50.00   47.62    0.49\n",
      "  5     400         42.19    120.36   61.11   73.33   52.38    0.61\n",
      "  8     600         49.09     77.55   56.41   61.11   52.38    0.56\n",
      " 10     800         32.92     48.71   59.46   68.75   52.38    0.59\n",
      " 13    1000         81.58     36.12   47.62   47.62   47.62    0.48\n",
      " 16    1200         38.90     34.68   60.00   63.16   57.14    0.60\n",
      " 19    1400         34.25     26.11   51.28   55.56   47.62    0.51\n",
      " 22    1600         28.93     22.39   52.94   69.23   42.86    0.53\n",
      " 26    1800        129.80     55.16   56.41   61.11   52.38    0.56\n",
      " 31    2000        102.43     50.15   54.05   62.50   47.62    0.54\n",
      "[+] Saved pipeline to output directory\n",
      "output_607\\model-last\n"
     ]
    },
    {
     "name": "stderr",
     "output_type": "stream",
     "text": [
      "2022-05-13 12:57:34.735205: W tensorflow/stream_executor/platform/default/dso_loader.cc:64] Could not load dynamic library 'cudart64_110.dll'; dlerror: cudart64_110.dll not found\n",
      "2022-05-13 12:57:34.735284: I tensorflow/stream_executor/cuda/cudart_stub.cc:29] Ignore above cudart dlerror if you do not have a GPU set up on your machine.\n",
      "[2022-05-13 12:57:44,833] [INFO] Set up nlp object from config\n",
      "[2022-05-13 12:57:44,853] [INFO] Pipeline: ['tok2vec', 'ner']\n",
      "[2022-05-13 12:57:44,859] [INFO] Created vocabulary\n",
      "[2022-05-13 12:57:44,865] [INFO] Finished initializing nlp object\n",
      "[2022-05-13 12:57:46,006] [INFO] Initialized pipeline components: ['tok2vec', 'ner']\n"
     ]
    }
   ],
   "source": [
    "!python -m spacy train config_607.cfg --output ./output_607"
   ]
  },
  {
   "cell_type": "code",
   "execution_count": null,
   "id": "21699ec1",
   "metadata": {},
   "outputs": [],
   "source": []
  },
  {
   "cell_type": "markdown",
   "id": "f4bc05bb",
   "metadata": {},
   "source": [
    "### Feature 608"
   ]
  },
  {
   "cell_type": "code",
   "execution_count": 151,
   "id": "e9bd785c",
   "metadata": {},
   "outputs": [
    {
     "data": {
      "text/plain": [
       "(56, 11)"
      ]
     },
     "execution_count": 151,
     "metadata": {},
     "output_type": "execute_result"
    }
   ],
   "source": [
    "case_6_608 = case_6[case_6[\"feature_num\"] == 608]\n",
    "case_6_608.shape"
   ]
  },
  {
   "cell_type": "code",
   "execution_count": null,
   "id": "32087186",
   "metadata": {},
   "outputs": [],
   "source": []
  },
  {
   "cell_type": "code",
   "execution_count": 152,
   "id": "c1d69742",
   "metadata": {},
   "outputs": [
    {
     "data": {
      "text/plain": [
       "(44, 12)"
      ]
     },
     "execution_count": 152,
     "metadata": {},
     "output_type": "execute_result"
    }
   ],
   "source": [
    "pn_Num_list = list(case_6_608.pn_num.unique())\n",
    "\n",
    "final_train = []   # appending all the individual rows\n",
    "for patient_number in pn_Num_list:  # for each unique patient number\n",
    "    entities = []  # saving individaual entities locations\n",
    "    for row_index,row in case_6_608[case_6_608.pn_num == patient_number].iterrows():  # for each unique patient number \n",
    "        \n",
    "        entities.append((int(row[\"start_location\"]),int(row[\"end_location\"]),\"Feature_\" + str(row[\"feature_num\"]))) # store the locations in numeric format\n",
    "        \n",
    "    text = case_6_608[case_6_608.pn_num == patient_number][\"New_pn_history\"].values[0] # save the text for the unique patient number\n",
    "    \n",
    "    final_train.append((text,{\"entities\":entities}))  # for each unique pn_number append to final list\n",
    "\n",
    "# Serializing json \n",
    "json_object = json.dumps(final_train, indent = 4)\n",
    "  \n",
    "# Writing to sample.json\n",
    "with open(\"sample_608.json\", \"w\") as outfile:\n",
    "    outfile.write(json_object)\n",
    "    \n",
    "# Opening JSON file\n",
    "f = open(\"sample_608.json\")\n",
    " \n",
    "# returns JSON object as\n",
    "# a dictionary\n",
    "data = json.load(f)\n",
    "\n",
    "nlp = spacy.blank(\"en\")\n",
    "def create_training(TRAIN_DATA):\n",
    "    db = DocBin()\n",
    "    for text, annot in tqdm(TRAIN_DATA):\n",
    "        doc = nlp.make_doc(text)\n",
    "        ents = []\n",
    "        for start, end, label in annot[\"entities\"]:\n",
    "            span = doc.char_span(start, end, label=label, alignment_mode=\"contract\")\n",
    "            if span is None:\n",
    "                print (\"Skipping entity\")\n",
    "            else:\n",
    "                ents.append(span)\n",
    "        doc.ents = ents\n",
    "        db.add(doc)\n",
    "    return (db)\n",
    "\n",
    "n = int(len(data)*0.8)\n",
    "\n",
    "train = data[:n]\n",
    "validation = data[n:]\n",
    "len(train),len(validation)"
   ]
  },
  {
   "cell_type": "code",
   "execution_count": 153,
   "id": "e4ebed94",
   "metadata": {},
   "outputs": [
    {
     "name": "stderr",
     "output_type": "stream",
     "text": [
      "100%|█████████████████████████████████████████████████████████████████████████████████| 44/44 [00:00<00:00, 202.38it/s]\n"
     ]
    }
   ],
   "source": [
    "#train data set\n",
    "camp_train = create_training(train)\n",
    "camp_train.to_disk(\"nbme_train_608.spacy\")"
   ]
  },
  {
   "cell_type": "code",
   "execution_count": 154,
   "id": "967fb229",
   "metadata": {},
   "outputs": [
    {
     "name": "stderr",
     "output_type": "stream",
     "text": [
      "100%|█████████████████████████████████████████████████████████████████████████████████| 12/12 [00:00<00:00, 250.67it/s]\n"
     ]
    }
   ],
   "source": [
    "#Validation data set\n",
    "camp_validation = create_training(validation)\n",
    "camp_validation.to_disk(\"nbme_validation_608.spacy\")"
   ]
  },
  {
   "cell_type": "code",
   "execution_count": 155,
   "id": "b35fa6e4",
   "metadata": {},
   "outputs": [
    {
     "name": "stdout",
     "output_type": "stream",
     "text": [
      "[+] Auto-filled config with all values"
     ]
    },
    {
     "name": "stderr",
     "output_type": "stream",
     "text": [
      "2022-05-13 13:02:52.595771: W tensorflow/stream_executor/platform/default/dso_loader.cc:64] Could not load dynamic library 'cudart64_110.dll'; dlerror: cudart64_110.dll not found\n",
      "2022-05-13 13:02:52.595842: I tensorflow/stream_executor/cuda/cudart_stub.cc:29] Ignore above cudart dlerror if you do not have a GPU set up on your machine.\n"
     ]
    },
    {
     "name": "stdout",
     "output_type": "stream",
     "text": [
      "\n",
      "[+] Saved config\n",
      "config_608.cfg\n",
      "You can now add your data and train your pipeline:\n",
      "python -m spacy train config_608.cfg --paths.train ./train.spacy --paths.dev ./dev.spacy\n"
     ]
    }
   ],
   "source": [
    "!python -m spacy init fill-config ./base_config_608.cfg ./config_608.cfg"
   ]
  },
  {
   "cell_type": "code",
   "execution_count": 156,
   "id": "e5e85248",
   "metadata": {},
   "outputs": [
    {
     "name": "stdout",
     "output_type": "stream",
     "text": [
      "[i] Saving to output directory: output_608\n",
      "[i] Using CPU\n",
      "\u001b[1m\n",
      "=========================== Initializing pipeline ===========================\u001b[0m\n",
      "[+] Initialized pipeline\n",
      "\u001b[1m\n",
      "============================= Training pipeline =============================\u001b[0m\n",
      "[i] Pipeline: ['tok2vec', 'ner']\n",
      "[i] Initial learn rate: 0.001\n",
      "E    #       LOSS TOK2VEC  LOSS NER  ENTS_F  ENTS_P  ENTS_R  SCORE \n",
      "---  ------  ------------  --------  ------  ------  ------  ------\n",
      "  0       0          0.00     62.50    0.00    0.00    0.00    0.00\n",
      "  4     200        536.63   1867.95   53.33   44.44   66.67    0.53\n",
      "  9     400         21.17     57.28   46.67   38.89   58.33    0.47\n",
      " 13     600         15.17     16.26   66.67   77.78   58.33    0.67\n",
      " 18     800          5.17      3.84   66.67   66.67   66.67    0.67\n",
      " 22    1000          2.53      2.01   76.19   88.89   66.67    0.76\n",
      " 27    1200         30.58      9.88   43.75   35.00   58.33    0.44\n",
      " 32    1400         28.52     18.73   80.00  100.00   66.67    0.80\n",
      " 38    1600        824.43     22.38   53.85   50.00   58.33    0.54\n",
      " 46    1800        245.25     39.34   76.19   88.89   66.67    0.76\n",
      " 57    2000          0.11      0.04   80.00  100.00   66.67    0.80\n",
      " 71    2200          0.00      0.00   80.00  100.00   66.67    0.80\n",
      " 87    2400          0.00      0.00   80.00  100.00   66.67    0.80\n",
      "109    2600          0.00      0.00   80.00  100.00   66.67    0.80\n",
      "135    2800          0.00      0.00   80.00  100.00   66.67    0.80\n",
      "162    3000          0.00      0.00   80.00  100.00   66.67    0.80\n",
      "[+] Saved pipeline to output directory\n",
      "output_608\\model-last\n"
     ]
    },
    {
     "name": "stderr",
     "output_type": "stream",
     "text": [
      "2022-05-13 13:03:07.524969: W tensorflow/stream_executor/platform/default/dso_loader.cc:64] Could not load dynamic library 'cudart64_110.dll'; dlerror: cudart64_110.dll not found\n",
      "2022-05-13 13:03:07.525037: I tensorflow/stream_executor/cuda/cudart_stub.cc:29] Ignore above cudart dlerror if you do not have a GPU set up on your machine.\n",
      "[2022-05-13 13:03:18,280] [INFO] Set up nlp object from config\n",
      "[2022-05-13 13:03:18,305] [INFO] Pipeline: ['tok2vec', 'ner']\n",
      "[2022-05-13 13:03:18,316] [INFO] Created vocabulary\n",
      "[2022-05-13 13:03:18,318] [INFO] Finished initializing nlp object\n",
      "[2022-05-13 13:03:19,365] [INFO] Initialized pipeline components: ['tok2vec', 'ner']\n"
     ]
    }
   ],
   "source": [
    "!python -m spacy train config_608.cfg --output ./output_608"
   ]
  },
  {
   "cell_type": "markdown",
   "id": "00559ebe",
   "metadata": {},
   "source": [
    "----"
   ]
  },
  {
   "cell_type": "markdown",
   "id": "4f9da514",
   "metadata": {},
   "source": [
    "# Feature 609"
   ]
  },
  {
   "cell_type": "code",
   "execution_count": 157,
   "id": "f18eb8c3",
   "metadata": {},
   "outputs": [
    {
     "data": {
      "text/plain": [
       "(139, 11)"
      ]
     },
     "execution_count": 157,
     "metadata": {},
     "output_type": "execute_result"
    }
   ],
   "source": [
    "case_6_609 = case_6[case_6[\"feature_num\"] == 609]\n",
    "case_6_609.shape"
   ]
  },
  {
   "cell_type": "code",
   "execution_count": 158,
   "id": "3f4566fc",
   "metadata": {},
   "outputs": [],
   "source": [
    "drop_609 = [46,1116,1149,1153]"
   ]
  },
  {
   "cell_type": "code",
   "execution_count": 1,
   "id": "9e0a501b",
   "metadata": {},
   "outputs": [],
   "source": [
    "case_6_609 = case_6_609.drop(drop_609)"
   ]
  },
  {
   "cell_type": "code",
   "execution_count": null,
   "id": "943eb68d",
   "metadata": {},
   "outputs": [],
   "source": [
    "pn_Num_list = list(case_6_609.pn_num.unique())\n",
    "\n",
    "final_train = []   # appending all the individual rows\n",
    "for patient_number in pn_Num_list:  # for each unique patient number\n",
    "    entities = []  # saving individaual entities locations\n",
    "    for row_index,row in case_6_609[case_6_609.pn_num == patient_number].iterrows():  # for each unique patient number \n",
    "        \n",
    "        entities.append((int(row[\"start_location\"]),int(row[\"end_location\"]),\"Feature_\" + str(row[\"feature_num\"]))) # store the locations in numeric format\n",
    "        \n",
    "    text = case_6_609[case_6_609.pn_num == patient_number][\"New_pn_history\"].values[0] # save the text for the unique patient number\n",
    "    \n",
    "    final_train.append((text,{\"entities\":entities}))  # for each unique pn_number append to final list\n",
    "\n",
    "# Serializing json \n",
    "json_object = json.dumps(final_train, indent = 4)\n",
    "  \n",
    "# Writing to sample.json\n",
    "with open(\"sample_609.json\", \"w\") as outfile:\n",
    "    outfile.write(json_object)\n",
    "    \n",
    "# Opening JSON file\n",
    "f = open(\"sample_609.json\")\n",
    " \n",
    "# returns JSON object as\n",
    "# a dictionary\n",
    "data = json.load(f)\n",
    "\n",
    "nlp = spacy.blank(\"en\")\n",
    "def create_training(TRAIN_DATA):\n",
    "    db = DocBin()\n",
    "    for text, annot in tqdm(TRAIN_DATA):\n",
    "        doc = nlp.make_doc(text)\n",
    "        ents = []\n",
    "        for start, end, label in annot[\"entities\"]:\n",
    "            span = doc.char_span(start, end, label=label, alignment_mode=\"contract\")\n",
    "            if span is None:\n",
    "                print (\"Skipping entity\")\n",
    "            else:\n",
    "                ents.append(span)\n",
    "        doc.ents = ents\n",
    "        db.add(doc)\n",
    "    return (db)\n",
    "\n",
    "n = int(len(data)*0.8)\n",
    "\n",
    "train = data[:n]\n",
    "validation = data[n:]\n",
    "len(train),len(validation)"
   ]
  },
  {
   "cell_type": "code",
   "execution_count": null,
   "id": "6eb1f14e",
   "metadata": {},
   "outputs": [],
   "source": [
    "#train data set\n",
    "camp_train = create_training(train)\n",
    "camp_train.to_disk(\"nbme_train_609.spacy\")"
   ]
  },
  {
   "cell_type": "code",
   "execution_count": null,
   "id": "75682dfd",
   "metadata": {},
   "outputs": [],
   "source": [
    "#train[68]"
   ]
  },
  {
   "cell_type": "code",
   "execution_count": null,
   "id": "8c072533",
   "metadata": {},
   "outputs": [],
   "source": [
    "#case_6_609[case_6_609.end_location == 761]"
   ]
  },
  {
   "cell_type": "code",
   "execution_count": null,
   "id": "a00c0917",
   "metadata": {},
   "outputs": [],
   "source": [
    "#Validation data set\n",
    "camp_validation = create_training(validation)\n",
    "camp_validation.to_disk(\"nbme_validation_609.spacy\")"
   ]
  },
  {
   "cell_type": "code",
   "execution_count": 160,
   "id": "7f70783e",
   "metadata": {},
   "outputs": [
    {
     "name": "stdout",
     "output_type": "stream",
     "text": [
      "[+] Auto-filled config with all values\n",
      "[+] Saved config\n",
      "config_609.cfg\n",
      "You can now add your data and train your pipeline:\n",
      "python -m spacy train config_609.cfg --paths.train ./train.spacy --paths.dev ./dev.spacy\n"
     ]
    },
    {
     "name": "stderr",
     "output_type": "stream",
     "text": [
      "2022-05-13 13:21:03.897256: W tensorflow/stream_executor/platform/default/dso_loader.cc:64] Could not load dynamic library 'cudart64_110.dll'; dlerror: cudart64_110.dll not found\n",
      "2022-05-13 13:21:03.897341: I tensorflow/stream_executor/cuda/cudart_stub.cc:29] Ignore above cudart dlerror if you do not have a GPU set up on your machine.\n"
     ]
    }
   ],
   "source": [
    "!python -m spacy init fill-config ./base_config_609.cfg ./config_609.cfg"
   ]
  },
  {
   "cell_type": "code",
   "execution_count": 161,
   "id": "cb2ebd7e",
   "metadata": {},
   "outputs": [
    {
     "name": "stdout",
     "output_type": "stream",
     "text": [
      "[i] Saving to output directory: output_609\n"
     ]
    },
    {
     "name": "stderr",
     "output_type": "stream",
     "text": [
      "2022-05-13 13:21:14.696511: W tensorflow/stream_executor/platform/default/dso_loader.cc:64] Could not load dynamic library 'cudart64_110.dll'; dlerror: cudart64_110.dll not found\n",
      "2022-05-13 13:21:14.696564: I tensorflow/stream_executor/cuda/cudart_stub.cc:29] Ignore above cudart dlerror if you do not have a GPU set up on your machine.\n",
      "[2022-05-13 13:21:25,338] [INFO] Set up nlp object from config\n",
      "[2022-05-13 13:21:25,373] [INFO] Pipeline: ['tok2vec', 'ner']\n",
      "[2022-05-13 13:21:25,385] [INFO] Created vocabulary\n",
      "[2022-05-13 13:21:25,386] [INFO] Finished initializing nlp object\n",
      "[2022-05-13 13:21:27,012] [INFO] Initialized pipeline components: ['tok2vec', 'ner']\n"
     ]
    },
    {
     "name": "stdout",
     "output_type": "stream",
     "text": [
      "[i] Using CPU\n",
      "\u001b[1m\n",
      "=========================== Initializing pipeline ===========================\u001b[0m\n",
      "[+] Initialized pipeline\n",
      "\u001b[1m\n",
      "============================= Training pipeline =============================\u001b[0m\n",
      "[i] Pipeline: ['tok2vec', 'ner']\n",
      "[i] Initial learn rate: 0.001\n",
      "E    #       LOSS TOK2VEC  LOSS NER  ENTS_F  ENTS_P  ENTS_R  SCORE \n",
      "---  ------  ------------  --------  ------  ------  ------  ------\n",
      "  0       0          0.00     57.17    0.00    0.00    0.00    0.00\n",
      "  1     200        125.01   1290.73   86.79   85.19   88.46    0.87\n",
      "  3     400         45.88    111.94   83.64   79.31   88.46    0.84\n",
      "  5     600        869.64    161.60   70.59   72.00   69.23    0.71\n",
      "  7     800        210.08     78.23   87.27   82.76   92.31    0.87\n",
      "  9    1000         45.52     43.34   87.27   82.76   92.31    0.87\n",
      " 11    1200         42.73     28.57   70.37   67.86   73.08    0.70\n",
      " 13    1400         26.41     18.30   87.27   82.76   92.31    0.87\n",
      " 15    1600         57.07     30.26   90.91   86.21   96.15    0.91\n",
      " 17    1800         38.60     21.14   83.64   79.31   88.46    0.84\n",
      " 19    2000         18.66      9.42   90.91   86.21   96.15    0.91\n",
      " 21    2200         20.48     10.55   83.64   79.31   88.46    0.84\n",
      " 25    2400         85.71     19.72   85.19   82.14   88.46    0.85\n",
      " 29    2600         32.98      8.33   65.22   75.00   57.69    0.65\n",
      " 34    2800         87.51     29.14   80.70   74.19   88.46    0.81\n",
      " 41    3000         70.38     21.19   77.78   75.00   80.77    0.78\n",
      " 49    3200         23.88      3.91   80.00   75.86   84.62    0.80\n",
      "[+] Saved pipeline to output directory\n",
      "output_609\\model-last\n"
     ]
    }
   ],
   "source": [
    "!python -m spacy train config_609.cfg --output ./output_609"
   ]
  },
  {
   "cell_type": "markdown",
   "id": "82d1bbb6",
   "metadata": {},
   "source": [
    "----"
   ]
  },
  {
   "cell_type": "markdown",
   "id": "9c4ee742",
   "metadata": {},
   "source": [
    "# Feature 610"
   ]
  },
  {
   "cell_type": "code",
   "execution_count": 205,
   "id": "b2f23ce7",
   "metadata": {},
   "outputs": [
    {
     "data": {
      "text/plain": [
       "(163, 11)"
      ]
     },
     "execution_count": 205,
     "metadata": {},
     "output_type": "execute_result"
    }
   ],
   "source": [
    "case_6_610 = case_6[case_6[\"feature_num\"] == 610]\n",
    "case_6_610.shape"
   ]
  },
  {
   "cell_type": "code",
   "execution_count": 206,
   "id": "00a0a1de",
   "metadata": {},
   "outputs": [],
   "source": [
    "drop_610 = [1404,1386,1390,1380,1421]"
   ]
  },
  {
   "cell_type": "code",
   "execution_count": 200,
   "id": "c7e16922",
   "metadata": {},
   "outputs": [],
   "source": [
    "drop_610 = [1421]"
   ]
  },
  {
   "cell_type": "code",
   "execution_count": 207,
   "id": "b1758a32",
   "metadata": {},
   "outputs": [],
   "source": [
    "case_6_610 = case_6_610.drop(drop_610)"
   ]
  },
  {
   "cell_type": "code",
   "execution_count": 208,
   "id": "d92c877a",
   "metadata": {},
   "outputs": [
    {
     "data": {
      "text/plain": [
       "(126, 32)"
      ]
     },
     "execution_count": 208,
     "metadata": {},
     "output_type": "execute_result"
    }
   ],
   "source": [
    "pn_Num_list = list(case_6_610.pn_num.unique())\n",
    "\n",
    "final_train = []   # appending all the individual rows\n",
    "for patient_number in pn_Num_list:  # for each unique patient number\n",
    "    entities = []  # saving individaual entities locations\n",
    "    for row_index,row in case_6_610[case_6_610.pn_num == patient_number].iterrows():  # for each unique patient number \n",
    "        \n",
    "        entities.append((int(row[\"start_location\"]),int(row[\"end_location\"]),\"Feature_\" + str(row[\"feature_num\"]))) # store the locations in numeric format\n",
    "        \n",
    "    text = case_6_610[case_6_610.pn_num == patient_number][\"New_pn_history\"].values[0] # save the text for the unique patient number\n",
    "    \n",
    "    final_train.append((text,{\"entities\":entities}))  # for each unique pn_number append to final list\n",
    "\n",
    "# Serializing json \n",
    "json_object = json.dumps(final_train, indent = 4)\n",
    "  \n",
    "# Writing to sample.json\n",
    "with open(\"sample_610.json\", \"w\") as outfile:\n",
    "    outfile.write(json_object)\n",
    "    \n",
    "# Opening JSON file\n",
    "f = open(\"sample_610.json\")\n",
    " \n",
    "# returns JSON object as\n",
    "# a dictionary\n",
    "data = json.load(f)\n",
    "\n",
    "nlp = spacy.blank(\"en\")\n",
    "def create_training(TRAIN_DATA):\n",
    "    db = DocBin()\n",
    "    for text, annot in tqdm(TRAIN_DATA):\n",
    "        doc = nlp.make_doc(text)\n",
    "        ents = []\n",
    "        for start, end, label in annot[\"entities\"]:\n",
    "            span = doc.char_span(start, end, label=label, alignment_mode=\"contract\")\n",
    "            if span is None:\n",
    "                print (\"Skipping entity\")\n",
    "            else:\n",
    "                ents.append(span)\n",
    "        doc.ents = ents\n",
    "        db.add(doc)\n",
    "    return (db)\n",
    "\n",
    "n = int(len(data)*0.8)\n",
    "\n",
    "train = data[:n]\n",
    "validation = data[n:]\n",
    "len(train),len(validation)"
   ]
  },
  {
   "cell_type": "code",
   "execution_count": 209,
   "id": "fefc11c7",
   "metadata": {},
   "outputs": [
    {
     "name": "stderr",
     "output_type": "stream",
     "text": [
      "100%|███████████████████████████████████████████████████████████████████████████████| 126/126 [00:00<00:00, 314.41it/s]\n"
     ]
    }
   ],
   "source": [
    "#train data set\n",
    "camp_train = create_training(train)\n",
    "camp_train.to_disk(\"nbme_train_610.spacy\")"
   ]
  },
  {
   "cell_type": "code",
   "execution_count": 210,
   "id": "e15f5d72",
   "metadata": {},
   "outputs": [
    {
     "name": "stderr",
     "output_type": "stream",
     "text": [
      "100%|█████████████████████████████████████████████████████████████████████████████████| 32/32 [00:00<00:00, 422.18it/s]\n"
     ]
    }
   ],
   "source": [
    "#Validation data set\n",
    "camp_validation = create_training(validation)\n",
    "camp_validation.to_disk(\"nbme_validation_610.spacy\")"
   ]
  },
  {
   "cell_type": "code",
   "execution_count": 211,
   "id": "eb5d9aa3",
   "metadata": {},
   "outputs": [
    {
     "name": "stdout",
     "output_type": "stream",
     "text": [
      "[+] Auto-filled config with all values\n",
      "[+] Saved config\n",
      "config_610.cfg\n",
      "You can now add your data and train your pipeline:\n",
      "python -m spacy train config_610.cfg --paths.train ./train.spacy --paths.dev ./dev.spacy\n"
     ]
    },
    {
     "name": "stderr",
     "output_type": "stream",
     "text": [
      "2022-05-13 15:29:57.138900: W tensorflow/stream_executor/platform/default/dso_loader.cc:64] Could not load dynamic library 'cudart64_110.dll'; dlerror: cudart64_110.dll not found\n",
      "2022-05-13 15:29:57.138978: I tensorflow/stream_executor/cuda/cudart_stub.cc:29] Ignore above cudart dlerror if you do not have a GPU set up on your machine.\n"
     ]
    }
   ],
   "source": [
    "!python -m spacy init fill-config ./base_config_610.cfg ./config_610.cfg"
   ]
  },
  {
   "cell_type": "code",
   "execution_count": 212,
   "id": "0ccce734",
   "metadata": {},
   "outputs": [
    {
     "name": "stdout",
     "output_type": "stream",
     "text": [
      "[i] Saving to output directory: output_610"
     ]
    },
    {
     "name": "stderr",
     "output_type": "stream",
     "text": [
      "2022-05-13 15:30:10.159961: W tensorflow/stream_executor/platform/default/dso_loader.cc:64] Could not load dynamic library 'cudart64_110.dll'; dlerror: cudart64_110.dll not found\n",
      "2022-05-13 15:30:10.160016: I tensorflow/stream_executor/cuda/cudart_stub.cc:29] Ignore above cudart dlerror if you do not have a GPU set up on your machine.\n",
      "[2022-05-13 15:30:21,016] [INFO] Set up nlp object from config\n",
      "[2022-05-13 15:30:21,046] [INFO] Pipeline: ['tok2vec', 'ner']\n",
      "[2022-05-13 15:30:21,058] [INFO] Created vocabulary\n",
      "[2022-05-13 15:30:21,133] [INFO] Finished initializing nlp object\n",
      "[2022-05-13 15:30:23,260] [INFO] Initialized pipeline components: ['tok2vec', 'ner']\n"
     ]
    },
    {
     "name": "stdout",
     "output_type": "stream",
     "text": [
      "\n",
      "[i] Using CPU\n",
      "\u001b[1m\n",
      "=========================== Initializing pipeline ===========================\u001b[0m\n",
      "[+] Initialized pipeline\n",
      "\u001b[1m\n",
      "============================= Training pipeline =============================\u001b[0m\n",
      "[i] Pipeline: ['tok2vec', 'ner']\n",
      "[i] Initial learn rate: 0.001\n",
      "E    #       LOSS TOK2VEC  LOSS NER  ENTS_F  ENTS_P  ENTS_R  SCORE \n",
      "---  ------  ------------  --------  ------  ------  ------  ------\n",
      "  0       0          0.00     52.00    0.16    0.08    3.12    0.00\n",
      "  1     200        676.69   1577.58   82.86   76.32   90.62    0.83\n",
      "  3     400         67.54    154.35   87.50   87.50   87.50    0.88\n",
      "  4     600         56.38     90.67   91.18   86.11   96.88    0.91\n",
      "  6     800         50.88     70.79  100.00  100.00  100.00    1.00\n",
      "  7    1000         63.11     58.66   98.46   96.97  100.00    0.98\n",
      "  9    1200        387.80     59.46   93.75   93.75   93.75    0.94\n",
      " 11    1400         54.68     45.94   92.75   86.49  100.00    0.93\n",
      " 12    1600         67.23     46.08   82.86   76.32   90.62    0.83\n",
      " 14    1800         37.21     16.33   98.41  100.00   96.88    0.98\n",
      " 15    2000         13.52      6.04   98.41  100.00   96.88    0.98\n",
      " 17    2200          5.56      2.06   92.31   90.91   93.75    0.92\n",
      " 19    2400       2554.06     55.59   95.24   96.77   93.75    0.95\n",
      "[+] Saved pipeline to output directory\n",
      "output_610\\model-last\n"
     ]
    }
   ],
   "source": [
    "!python -m spacy train config_610.cfg --output ./output_610"
   ]
  },
  {
   "cell_type": "markdown",
   "id": "e68ebfd7",
   "metadata": {},
   "source": [
    "----"
   ]
  },
  {
   "cell_type": "markdown",
   "id": "3a6c84b8",
   "metadata": {},
   "source": [
    "# Feature 611"
   ]
  },
  {
   "cell_type": "code",
   "execution_count": 213,
   "id": "800590ff",
   "metadata": {},
   "outputs": [
    {
     "data": {
      "text/plain": [
       "(125, 11)"
      ]
     },
     "execution_count": 213,
     "metadata": {},
     "output_type": "execute_result"
    }
   ],
   "source": [
    "case_6_611 = case_6[case_6[\"feature_num\"] == 611]\n",
    "case_6_611.shape"
   ]
  },
  {
   "cell_type": "code",
   "execution_count": 214,
   "id": "cacd123b",
   "metadata": {},
   "outputs": [],
   "source": [
    "drop_611 = [379,719,822,908]"
   ]
  },
  {
   "cell_type": "code",
   "execution_count": 215,
   "id": "abfb694a",
   "metadata": {},
   "outputs": [],
   "source": [
    "case_6_611 = case_6_611.drop(drop_611)"
   ]
  },
  {
   "cell_type": "code",
   "execution_count": 216,
   "id": "6b4c3dc0",
   "metadata": {},
   "outputs": [
    {
     "data": {
      "text/plain": [
       "(65, 17)"
      ]
     },
     "execution_count": 216,
     "metadata": {},
     "output_type": "execute_result"
    }
   ],
   "source": [
    "pn_Num_list = list(case_6_611.pn_num.unique())\n",
    "\n",
    "final_train = []   # appending all the individual rows\n",
    "for patient_number in pn_Num_list:  # for each unique patient number\n",
    "    entities = []  # saving individaual entities locations\n",
    "    for row_index,row in case_6_611[case_6_611.pn_num == patient_number].iterrows():  # for each unique patient number \n",
    "        \n",
    "        entities.append((int(row[\"start_location\"]),int(row[\"end_location\"]),\"Feature_\" + str(row[\"feature_num\"]))) # store the locations in numeric format\n",
    "        \n",
    "    text = case_6_611[case_6_611.pn_num == patient_number][\"New_pn_history\"].values[0] # save the text for the unique patient number\n",
    "    \n",
    "    final_train.append((text,{\"entities\":entities}))  # for each unique pn_number append to final list\n",
    "\n",
    "# Serializing json \n",
    "json_object = json.dumps(final_train, indent = 4)\n",
    "  \n",
    "# Writing to sample.json\n",
    "with open(\"sample_611.json\", \"w\") as outfile:\n",
    "    outfile.write(json_object)\n",
    "    \n",
    "# Opening JSON file\n",
    "f = open(\"sample_611.json\")\n",
    " \n",
    "# returns JSON object as\n",
    "# a dictionary\n",
    "data = json.load(f)\n",
    "\n",
    "nlp = spacy.blank(\"en\")\n",
    "def create_training(TRAIN_DATA):\n",
    "    db = DocBin()\n",
    "    for text, annot in tqdm(TRAIN_DATA):\n",
    "        doc = nlp.make_doc(text)\n",
    "        ents = []\n",
    "        for start, end, label in annot[\"entities\"]:\n",
    "            span = doc.char_span(start, end, label=label, alignment_mode=\"contract\")\n",
    "            if span is None:\n",
    "                print (\"Skipping entity\")\n",
    "            else:\n",
    "                ents.append(span)\n",
    "        doc.ents = ents\n",
    "        db.add(doc)\n",
    "    return (db)\n",
    "\n",
    "n = int(len(data)*0.8)\n",
    "\n",
    "train = data[:n]\n",
    "validation = data[n:]\n",
    "len(train),len(validation)"
   ]
  },
  {
   "cell_type": "code",
   "execution_count": 217,
   "id": "8a3912aa",
   "metadata": {},
   "outputs": [
    {
     "name": "stderr",
     "output_type": "stream",
     "text": [
      "100%|█████████████████████████████████████████████████████████████████████████████████| 65/65 [00:00<00:00, 186.68it/s]\n"
     ]
    }
   ],
   "source": [
    "#train data set\n",
    "camp_train = create_training(train)\n",
    "camp_train.to_disk(\"nbme_train_611.spacy\")"
   ]
  },
  {
   "cell_type": "code",
   "execution_count": 218,
   "id": "6b24334e",
   "metadata": {},
   "outputs": [
    {
     "name": "stderr",
     "output_type": "stream",
     "text": [
      "100%|█████████████████████████████████████████████████████████████████████████████████| 17/17 [00:00<00:00, 211.71it/s]\n"
     ]
    }
   ],
   "source": [
    "#Validation data set\n",
    "camp_validation = create_training(validation)\n",
    "camp_validation.to_disk(\"nbme_validation_611.spacy\")"
   ]
  },
  {
   "cell_type": "code",
   "execution_count": 219,
   "id": "2f103060",
   "metadata": {},
   "outputs": [
    {
     "name": "stdout",
     "output_type": "stream",
     "text": [
      "[+] Auto-filled config with all values\n",
      "[+] Saved config\n",
      "config_611.cfg\n",
      "You can now add your data and train your pipeline:\n",
      "python -m spacy train config_611.cfg --paths.train ./train.spacy --paths.dev ./dev.spacy\n"
     ]
    },
    {
     "name": "stderr",
     "output_type": "stream",
     "text": [
      "2022-05-13 15:38:16.037425: W tensorflow/stream_executor/platform/default/dso_loader.cc:64] Could not load dynamic library 'cudart64_110.dll'; dlerror: cudart64_110.dll not found\n",
      "2022-05-13 15:38:16.037481: I tensorflow/stream_executor/cuda/cudart_stub.cc:29] Ignore above cudart dlerror if you do not have a GPU set up on your machine.\n"
     ]
    }
   ],
   "source": [
    "!python -m spacy init fill-config ./base_config_611.cfg ./config_611.cfg"
   ]
  },
  {
   "cell_type": "code",
   "execution_count": 220,
   "id": "4194544c",
   "metadata": {},
   "outputs": [
    {
     "name": "stdout",
     "output_type": "stream",
     "text": [
      "[i] Saving to output directory: output_611\n",
      "[i] Using CPU\n",
      "\u001b[1m\n",
      "=========================== Initializing pipeline ===========================\u001b[0m\n",
      "[+] Initialized pipeline\n",
      "\u001b[1m\n",
      "============================= Training pipeline =============================\u001b[0m\n",
      "[i] Pipeline: ['tok2vec', 'ner']\n",
      "[i] Initial learn rate: 0.001\n",
      "E    #       LOSS TOK2VEC  LOSS NER  ENTS_F  ENTS_P  ENTS_R  SCORE \n",
      "---  ------  ------------  --------  ------  ------  ------  ------\n",
      "  0       0          0.00     48.50    0.00    0.00    0.00    0.00\n",
      "  3     200       5655.69   1787.84   89.36   87.50   91.30    0.89\n",
      "  6     400      13992.34    257.94   87.50   84.00   91.30    0.87\n",
      "  9     600         19.88     35.30   83.33   80.00   86.96    0.83\n",
      " 12     800        308.19     42.63   91.30   91.30   91.30    0.91\n",
      " 15    1000       4413.31     52.70   91.67   88.00   95.65    0.92\n",
      " 18    1200         19.76     13.27   91.67   88.00   95.65    0.92\n",
      " 21    1400       1051.50     41.80   89.80   84.62   95.65    0.90\n",
      " 26    1600          7.02      5.62   89.80   84.62   95.65    0.90\n",
      " 32    1800         28.53      9.31   89.80   84.62   95.65    0.90\n",
      " 39    2000          0.00      0.00   89.80   84.62   95.65    0.90\n",
      " 48    2200          0.00      0.00   89.80   84.62   95.65    0.90\n",
      " 60    2400          0.00      0.00   89.80   84.62   95.65    0.90\n",
      " 75    2600          0.00      0.00   85.71   80.77   91.30    0.86\n",
      "[+] Saved pipeline to output directory\n",
      "output_611\\model-last\n"
     ]
    },
    {
     "name": "stderr",
     "output_type": "stream",
     "text": [
      "2022-05-13 15:38:29.385811: W tensorflow/stream_executor/platform/default/dso_loader.cc:64] Could not load dynamic library 'cudart64_110.dll'; dlerror: cudart64_110.dll not found\n",
      "2022-05-13 15:38:29.385879: I tensorflow/stream_executor/cuda/cudart_stub.cc:29] Ignore above cudart dlerror if you do not have a GPU set up on your machine.\n",
      "[2022-05-13 15:38:40,178] [INFO] Set up nlp object from config\n",
      "[2022-05-13 15:38:40,199] [INFO] Pipeline: ['tok2vec', 'ner']\n",
      "[2022-05-13 15:38:40,204] [INFO] Created vocabulary\n",
      "[2022-05-13 15:38:40,211] [INFO] Finished initializing nlp object\n",
      "[2022-05-13 15:38:41,170] [INFO] Initialized pipeline components: ['tok2vec', 'ner']\n"
     ]
    }
   ],
   "source": [
    "!python -m spacy train config_611.cfg --output ./output_611"
   ]
  },
  {
   "cell_type": "code",
   "execution_count": null,
   "id": "61701d81",
   "metadata": {},
   "outputs": [],
   "source": []
  }
 ],
 "metadata": {
  "kernelspec": {
   "display_name": "Python 3",
   "language": "python",
   "name": "python3"
  },
  "language_info": {
   "codemirror_mode": {
    "name": "ipython",
    "version": 3
   },
   "file_extension": ".py",
   "mimetype": "text/x-python",
   "name": "python",
   "nbconvert_exporter": "python",
   "pygments_lexer": "ipython3",
   "version": "3.8.8"
  }
 },
 "nbformat": 4,
 "nbformat_minor": 5
}
