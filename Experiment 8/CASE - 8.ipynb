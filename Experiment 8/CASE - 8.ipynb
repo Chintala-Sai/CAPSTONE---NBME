{
 "cells": [
  {
   "cell_type": "code",
   "execution_count": 1,
   "id": "c2c425ff",
   "metadata": {},
   "outputs": [],
   "source": [
    "import pandas as pd\n",
    "import numpy as np\n",
    "import json\n",
    "import warnings\n",
    "import spacy\n",
    "warnings.filterwarnings(\"ignore\")\n",
    "import random\n",
    "\n",
    "import nltk\n",
    "from nltk.stem import WordNetLemmatizer\n",
    "\n",
    "import re\n",
    "\n",
    "from spacy.tokens import DocBin\n",
    "\n",
    "from tqdm import tqdm"
   ]
  },
  {
   "cell_type": "code",
   "execution_count": 2,
   "id": "857b16e1",
   "metadata": {},
   "outputs": [],
   "source": [
    "train_data = pd.read_csv(r\"train.csv\")\n",
    "features = pd.read_csv(r\"features.csv\")\n",
    "patient_notes = pd.read_csv(r\"C:patient_notes.csv\")"
   ]
  },
  {
   "cell_type": "code",
   "execution_count": 3,
   "id": "57b49c46",
   "metadata": {},
   "outputs": [
    {
     "data": {
      "text/html": [
       "<div>\n",
       "<style scoped>\n",
       "    .dataframe tbody tr th:only-of-type {\n",
       "        vertical-align: middle;\n",
       "    }\n",
       "\n",
       "    .dataframe tbody tr th {\n",
       "        vertical-align: top;\n",
       "    }\n",
       "\n",
       "    .dataframe thead th {\n",
       "        text-align: right;\n",
       "    }\n",
       "</style>\n",
       "<table border=\"1\" class=\"dataframe\">\n",
       "  <thead>\n",
       "    <tr style=\"text-align: right;\">\n",
       "      <th></th>\n",
       "      <th>id</th>\n",
       "      <th>case_num</th>\n",
       "      <th>pn_num</th>\n",
       "      <th>feature_num</th>\n",
       "      <th>annotation</th>\n",
       "      <th>location</th>\n",
       "    </tr>\n",
       "  </thead>\n",
       "  <tbody>\n",
       "    <tr>\n",
       "      <th>10800</th>\n",
       "      <td>80039_800</td>\n",
       "      <td>8</td>\n",
       "      <td>80039</td>\n",
       "      <td>800</td>\n",
       "      <td>['appetite has increased', 'eating more']</td>\n",
       "      <td>['468 490', '502 513']</td>\n",
       "    </tr>\n",
       "    <tr>\n",
       "      <th>10801</th>\n",
       "      <td>80039_801</td>\n",
       "      <td>8</td>\n",
       "      <td>80039</td>\n",
       "      <td>801</td>\n",
       "      <td>['son past away at the end of June']</td>\n",
       "      <td>['171 203']</td>\n",
       "    </tr>\n",
       "    <tr>\n",
       "      <th>10802</th>\n",
       "      <td>80039_802</td>\n",
       "      <td>8</td>\n",
       "      <td>80039</td>\n",
       "      <td>802</td>\n",
       "      <td>['woman']</td>\n",
       "      <td>['27 32']</td>\n",
       "    </tr>\n",
       "    <tr>\n",
       "      <th>10804</th>\n",
       "      <td>80039_804</td>\n",
       "      <td>8</td>\n",
       "      <td>80039</td>\n",
       "      <td>804</td>\n",
       "      <td>['tossing and turning']</td>\n",
       "      <td>['124 143']</td>\n",
       "    </tr>\n",
       "    <tr>\n",
       "      <th>10805</th>\n",
       "      <td>80039_805</td>\n",
       "      <td>8</td>\n",
       "      <td>80039</td>\n",
       "      <td>805</td>\n",
       "      <td>['67 y.o']</td>\n",
       "      <td>['19 25']</td>\n",
       "    </tr>\n",
       "    <tr>\n",
       "      <th>...</th>\n",
       "      <td>...</td>\n",
       "      <td>...</td>\n",
       "      <td>...</td>\n",
       "      <td>...</td>\n",
       "      <td>...</td>\n",
       "      <td>...</td>\n",
       "    </tr>\n",
       "    <tr>\n",
       "      <th>12594</th>\n",
       "      <td>84366_812</td>\n",
       "      <td>8</td>\n",
       "      <td>84366</td>\n",
       "      <td>812</td>\n",
       "      <td>['anhedonia']</td>\n",
       "      <td>['674 683']</td>\n",
       "    </tr>\n",
       "    <tr>\n",
       "      <th>12596</th>\n",
       "      <td>84366_814</td>\n",
       "      <td>8</td>\n",
       "      <td>84366</td>\n",
       "      <td>814</td>\n",
       "      <td>['mother w/ depression']</td>\n",
       "      <td>['787 807']</td>\n",
       "    </tr>\n",
       "    <tr>\n",
       "      <th>12597</th>\n",
       "      <td>84366_815</td>\n",
       "      <td>8</td>\n",
       "      <td>84366</td>\n",
       "      <td>815</td>\n",
       "      <td>['waking early']</td>\n",
       "      <td>['241 253']</td>\n",
       "    </tr>\n",
       "    <tr>\n",
       "      <th>12598</th>\n",
       "      <td>84366_816</td>\n",
       "      <td>8</td>\n",
       "      <td>84366</td>\n",
       "      <td>816</td>\n",
       "      <td>['no suicidal']</td>\n",
       "      <td>['624 635']</td>\n",
       "    </tr>\n",
       "    <tr>\n",
       "      <th>12599</th>\n",
       "      <td>84366_817</td>\n",
       "      <td>8</td>\n",
       "      <td>84366</td>\n",
       "      <td>817</td>\n",
       "      <td>['sleep isues', 'sleep issues', 'now 4 hours o...</td>\n",
       "      <td>['90 101', '413 425', '477 503']</td>\n",
       "    </tr>\n",
       "  </tbody>\n",
       "</table>\n",
       "<p>1190 rows × 6 columns</p>\n",
       "</div>"
      ],
      "text/plain": [
       "              id  case_num  pn_num  feature_num  \\\n",
       "10800  80039_800         8   80039          800   \n",
       "10801  80039_801         8   80039          801   \n",
       "10802  80039_802         8   80039          802   \n",
       "10804  80039_804         8   80039          804   \n",
       "10805  80039_805         8   80039          805   \n",
       "...          ...       ...     ...          ...   \n",
       "12594  84366_812         8   84366          812   \n",
       "12596  84366_814         8   84366          814   \n",
       "12597  84366_815         8   84366          815   \n",
       "12598  84366_816         8   84366          816   \n",
       "12599  84366_817         8   84366          817   \n",
       "\n",
       "                                              annotation  \\\n",
       "10800          ['appetite has increased', 'eating more']   \n",
       "10801               ['son past away at the end of June']   \n",
       "10802                                          ['woman']   \n",
       "10804                            ['tossing and turning']   \n",
       "10805                                         ['67 y.o']   \n",
       "...                                                  ...   \n",
       "12594                                      ['anhedonia']   \n",
       "12596                           ['mother w/ depression']   \n",
       "12597                                   ['waking early']   \n",
       "12598                                    ['no suicidal']   \n",
       "12599  ['sleep isues', 'sleep issues', 'now 4 hours o...   \n",
       "\n",
       "                               location  \n",
       "10800            ['468 490', '502 513']  \n",
       "10801                       ['171 203']  \n",
       "10802                         ['27 32']  \n",
       "10804                       ['124 143']  \n",
       "10805                         ['19 25']  \n",
       "...                                 ...  \n",
       "12594                       ['674 683']  \n",
       "12596                       ['787 807']  \n",
       "12597                       ['241 253']  \n",
       "12598                       ['624 635']  \n",
       "12599  ['90 101', '413 425', '477 503']  \n",
       "\n",
       "[1190 rows x 6 columns]"
      ]
     },
     "execution_count": 3,
     "metadata": {},
     "output_type": "execute_result"
    }
   ],
   "source": [
    "case_8_train = train_data[train_data[\"case_num\"] == 8]\n",
    "case_8_train = case_8_train[case_8_train.annotation != '[]']\n",
    "case_8_train"
   ]
  },
  {
   "cell_type": "code",
   "execution_count": 4,
   "id": "8816b4f4",
   "metadata": {},
   "outputs": [
    {
     "data": {
      "text/html": [
       "<div>\n",
       "<style scoped>\n",
       "    .dataframe tbody tr th:only-of-type {\n",
       "        vertical-align: middle;\n",
       "    }\n",
       "\n",
       "    .dataframe tbody tr th {\n",
       "        vertical-align: top;\n",
       "    }\n",
       "\n",
       "    .dataframe thead th {\n",
       "        text-align: right;\n",
       "    }\n",
       "</style>\n",
       "<table border=\"1\" class=\"dataframe\">\n",
       "  <thead>\n",
       "    <tr style=\"text-align: right;\">\n",
       "      <th></th>\n",
       "      <th>feature_num</th>\n",
       "      <th>case_num</th>\n",
       "      <th>feature_text</th>\n",
       "    </tr>\n",
       "  </thead>\n",
       "  <tbody>\n",
       "    <tr>\n",
       "      <th>108</th>\n",
       "      <td>800</td>\n",
       "      <td>8</td>\n",
       "      <td>Increased-appetite</td>\n",
       "    </tr>\n",
       "    <tr>\n",
       "      <th>109</th>\n",
       "      <td>801</td>\n",
       "      <td>8</td>\n",
       "      <td>Son-died-3-weeks-ago</td>\n",
       "    </tr>\n",
       "    <tr>\n",
       "      <th>110</th>\n",
       "      <td>802</td>\n",
       "      <td>8</td>\n",
       "      <td>Female</td>\n",
       "    </tr>\n",
       "    <tr>\n",
       "      <th>111</th>\n",
       "      <td>803</td>\n",
       "      <td>8</td>\n",
       "      <td>Auditory-hallucination-once</td>\n",
       "    </tr>\n",
       "    <tr>\n",
       "      <th>112</th>\n",
       "      <td>804</td>\n",
       "      <td>8</td>\n",
       "      <td>tossing-and-turning</td>\n",
       "    </tr>\n",
       "    <tr>\n",
       "      <th>113</th>\n",
       "      <td>805</td>\n",
       "      <td>8</td>\n",
       "      <td>67-year</td>\n",
       "    </tr>\n",
       "    <tr>\n",
       "      <th>114</th>\n",
       "      <td>806</td>\n",
       "      <td>8</td>\n",
       "      <td>Difficulty-falling-asleep</td>\n",
       "    </tr>\n",
       "    <tr>\n",
       "      <th>115</th>\n",
       "      <td>807</td>\n",
       "      <td>8</td>\n",
       "      <td>Hallucinations-after-taking-Ambien</td>\n",
       "    </tr>\n",
       "    <tr>\n",
       "      <th>116</th>\n",
       "      <td>808</td>\n",
       "      <td>8</td>\n",
       "      <td>duration-3-weeks</td>\n",
       "    </tr>\n",
       "    <tr>\n",
       "      <th>117</th>\n",
       "      <td>809</td>\n",
       "      <td>8</td>\n",
       "      <td>Unsuccessful-napping</td>\n",
       "    </tr>\n",
       "    <tr>\n",
       "      <th>118</th>\n",
       "      <td>810</td>\n",
       "      <td>8</td>\n",
       "      <td>Sleeping-medication-ineffective</td>\n",
       "    </tr>\n",
       "    <tr>\n",
       "      <th>119</th>\n",
       "      <td>811</td>\n",
       "      <td>8</td>\n",
       "      <td>Diminished-energy-OR-feeling-drained</td>\n",
       "    </tr>\n",
       "    <tr>\n",
       "      <th>120</th>\n",
       "      <td>812</td>\n",
       "      <td>8</td>\n",
       "      <td>loss-of-interest</td>\n",
       "    </tr>\n",
       "    <tr>\n",
       "      <th>121</th>\n",
       "      <td>813</td>\n",
       "      <td>8</td>\n",
       "      <td>Visual-hallucination-once</td>\n",
       "    </tr>\n",
       "    <tr>\n",
       "      <th>122</th>\n",
       "      <td>814</td>\n",
       "      <td>8</td>\n",
       "      <td>FHx-of-depression-OR-Family-history-of-depression</td>\n",
       "    </tr>\n",
       "    <tr>\n",
       "      <th>123</th>\n",
       "      <td>815</td>\n",
       "      <td>8</td>\n",
       "      <td>Early-wakening</td>\n",
       "    </tr>\n",
       "    <tr>\n",
       "      <th>124</th>\n",
       "      <td>816</td>\n",
       "      <td>8</td>\n",
       "      <td>No-suicidal-ideations</td>\n",
       "    </tr>\n",
       "    <tr>\n",
       "      <th>125</th>\n",
       "      <td>817</td>\n",
       "      <td>8</td>\n",
       "      <td>Difficulty-with-sleep</td>\n",
       "    </tr>\n",
       "  </tbody>\n",
       "</table>\n",
       "</div>"
      ],
      "text/plain": [
       "     feature_num  case_num                                       feature_text\n",
       "108          800         8                                 Increased-appetite\n",
       "109          801         8                               Son-died-3-weeks-ago\n",
       "110          802         8                                             Female\n",
       "111          803         8                        Auditory-hallucination-once\n",
       "112          804         8                                tossing-and-turning\n",
       "113          805         8                                            67-year\n",
       "114          806         8                          Difficulty-falling-asleep\n",
       "115          807         8                 Hallucinations-after-taking-Ambien\n",
       "116          808         8                                   duration-3-weeks\n",
       "117          809         8                               Unsuccessful-napping\n",
       "118          810         8                    Sleeping-medication-ineffective\n",
       "119          811         8               Diminished-energy-OR-feeling-drained\n",
       "120          812         8                                   loss-of-interest\n",
       "121          813         8                          Visual-hallucination-once\n",
       "122          814         8  FHx-of-depression-OR-Family-history-of-depression\n",
       "123          815         8                                     Early-wakening\n",
       "124          816         8                              No-suicidal-ideations\n",
       "125          817         8                              Difficulty-with-sleep"
      ]
     },
     "execution_count": 4,
     "metadata": {},
     "output_type": "execute_result"
    }
   ],
   "source": [
    "case_8_features = features[features[\"case_num\"] == 8]\n",
    "case_8_features"
   ]
  },
  {
   "cell_type": "code",
   "execution_count": 5,
   "id": "aca26ec5",
   "metadata": {},
   "outputs": [
    {
     "data": {
      "text/html": [
       "<div>\n",
       "<style scoped>\n",
       "    .dataframe tbody tr th:only-of-type {\n",
       "        vertical-align: middle;\n",
       "    }\n",
       "\n",
       "    .dataframe tbody tr th {\n",
       "        vertical-align: top;\n",
       "    }\n",
       "\n",
       "    .dataframe thead th {\n",
       "        text-align: right;\n",
       "    }\n",
       "</style>\n",
       "<table border=\"1\" class=\"dataframe\">\n",
       "  <thead>\n",
       "    <tr style=\"text-align: right;\">\n",
       "      <th></th>\n",
       "      <th>pn_num</th>\n",
       "      <th>case_num</th>\n",
       "      <th>pn_history</th>\n",
       "    </tr>\n",
       "  </thead>\n",
       "  <tbody>\n",
       "    <tr>\n",
       "      <th>32799</th>\n",
       "      <td>80000</td>\n",
       "      <td>8</td>\n",
       "      <td>67 yo F with trouble sleeping since her son pa...</td>\n",
       "    </tr>\n",
       "    <tr>\n",
       "      <th>32800</th>\n",
       "      <td>80001</td>\n",
       "      <td>8</td>\n",
       "      <td>Mrs. Loraine Wicks is a 67 year old Female wit...</td>\n",
       "    </tr>\n",
       "    <tr>\n",
       "      <th>32801</th>\n",
       "      <td>80002</td>\n",
       "      <td>8</td>\n",
       "      <td>67 yo F with trouble sleeping\\r\\n- started abr...</td>\n",
       "    </tr>\n",
       "    <tr>\n",
       "      <th>32802</th>\n",
       "      <td>80003</td>\n",
       "      <td>8</td>\n",
       "      <td>67 year old woman with h/o HTN presenting with...</td>\n",
       "    </tr>\n",
       "    <tr>\n",
       "      <th>32803</th>\n",
       "      <td>80004</td>\n",
       "      <td>8</td>\n",
       "      <td>67-year-old female presenting with trouble sle...</td>\n",
       "    </tr>\n",
       "    <tr>\n",
       "      <th>...</th>\n",
       "      <td>...</td>\n",
       "      <td>...</td>\n",
       "      <td>...</td>\n",
       "    </tr>\n",
       "    <tr>\n",
       "      <th>36990</th>\n",
       "      <td>84375</td>\n",
       "      <td>8</td>\n",
       "      <td>Patient is a 67 year old female presenting wit...</td>\n",
       "    </tr>\n",
       "    <tr>\n",
       "      <th>36991</th>\n",
       "      <td>84376</td>\n",
       "      <td>8</td>\n",
       "      <td>Ms. Wicks is a 67 y/o f presenting with troubl...</td>\n",
       "    </tr>\n",
       "    <tr>\n",
       "      <th>36992</th>\n",
       "      <td>84377</td>\n",
       "      <td>8</td>\n",
       "      <td>cc: trouble sleeping \\r\\nPt is 67 yo woman wit...</td>\n",
       "    </tr>\n",
       "    <tr>\n",
       "      <th>36993</th>\n",
       "      <td>84378</td>\n",
       "      <td>8</td>\n",
       "      <td>HPI:67 YO F C/O SLEEPING PROBLEMS X 3 WEEKS AF...</td>\n",
       "    </tr>\n",
       "    <tr>\n",
       "      <th>36994</th>\n",
       "      <td>84379</td>\n",
       "      <td>8</td>\n",
       "      <td>67 yo f c/o sleeping problem since 3 weeks ago...</td>\n",
       "    </tr>\n",
       "  </tbody>\n",
       "</table>\n",
       "<p>4196 rows × 3 columns</p>\n",
       "</div>"
      ],
      "text/plain": [
       "       pn_num  case_num                                         pn_history\n",
       "32799   80000         8  67 yo F with trouble sleeping since her son pa...\n",
       "32800   80001         8  Mrs. Loraine Wicks is a 67 year old Female wit...\n",
       "32801   80002         8  67 yo F with trouble sleeping\\r\\n- started abr...\n",
       "32802   80003         8  67 year old woman with h/o HTN presenting with...\n",
       "32803   80004         8  67-year-old female presenting with trouble sle...\n",
       "...       ...       ...                                                ...\n",
       "36990   84375         8  Patient is a 67 year old female presenting wit...\n",
       "36991   84376         8  Ms. Wicks is a 67 y/o f presenting with troubl...\n",
       "36992   84377         8  cc: trouble sleeping \\r\\nPt is 67 yo woman wit...\n",
       "36993   84378         8  HPI:67 YO F C/O SLEEPING PROBLEMS X 3 WEEKS AF...\n",
       "36994   84379         8  67 yo f c/o sleeping problem since 3 weeks ago...\n",
       "\n",
       "[4196 rows x 3 columns]"
      ]
     },
     "execution_count": 5,
     "metadata": {},
     "output_type": "execute_result"
    }
   ],
   "source": [
    "case_8_pn = patient_notes[patient_notes[\"case_num\"] ==  8]\n",
    "case_8_pn"
   ]
  },
  {
   "cell_type": "code",
   "execution_count": 6,
   "id": "31ae0ff3",
   "metadata": {},
   "outputs": [],
   "source": [
    "pn_dict = {}\n",
    "for idx, row in case_8_pn.iterrows():\n",
    "    pn_dict[row['pn_num']] = row['pn_history']"
   ]
  },
  {
   "cell_type": "code",
   "execution_count": 7,
   "id": "f4d82c1c",
   "metadata": {},
   "outputs": [],
   "source": [
    "new_annotation = []\n",
    "for case_id in case_8_features['case_num'].unique():\n",
    "    \n",
    "    all_pn_id = set(case_8_pn[case_8_pn['case_num']==case_id]['pn_num'].tolist())\n",
    "    \n",
    "    for feature_id in case_8_features[case_8_features['case_num']==case_id]['feature_num'].unique():\n",
    "        # get all the pn_num that have already been annotated\n",
    "        annotated_pn = set(case_8_train[case_8_train['feature_num']==feature_id]['pn_num'].tolist())\n",
    "        # get all the pn_num that have NOT been annotated\n",
    "        pn_to_annotate = all_pn_id-annotated_pn\n",
    "        \n",
    "        # get all current annotations\n",
    "        # we will use them to find more annotations\n",
    "        annotations = case_8_train[case_8_train['feature_num']==feature_id]['annotation'].tolist()\n",
    "        annotation_texts = set()\n",
    "        for a in annotations:\n",
    "            anns = eval(a)\n",
    "            for at in anns:\n",
    "                annotation_texts.add(at)\n",
    "                \n",
    "        # annotate       \n",
    "        for pn_id in pn_to_annotate:\n",
    "            new_annotation_pn, new_location_pn = [], []\n",
    "            pn_text = pn_dict[pn_id]\n",
    "            for at in annotation_texts:\n",
    "                start = pn_text.find(at)\n",
    "                if start>=0:\n",
    "                    new_annotation_pn.append(at)\n",
    "                    new_location_pn.append(f'{start} {start+len(at)}')\n",
    "            if len(new_annotation_pn)>0:\n",
    "                new_annotation.append((\n",
    "                    f'{pn_id:04d}_{feature_id:03d}',\n",
    "                    case_id,\n",
    "                    pn_id,\n",
    "                    feature_id,\n",
    "                    new_annotation_pn,\n",
    "                    new_location_pn\n",
    "                ))\n",
    "     #   break\n",
    "    break\n",
    "    # break to get sample results quickly"
   ]
  },
  {
   "cell_type": "code",
   "execution_count": 8,
   "id": "6d6a202a",
   "metadata": {},
   "outputs": [
    {
     "data": {
      "text/plain": [
       "31940"
      ]
     },
     "execution_count": 8,
     "metadata": {},
     "output_type": "execute_result"
    }
   ],
   "source": [
    "len(new_annotation)"
   ]
  },
  {
   "cell_type": "code",
   "execution_count": 9,
   "id": "6c08fec8",
   "metadata": {},
   "outputs": [],
   "source": [
    "df=pd.DataFrame(new_annotation)"
   ]
  },
  {
   "cell_type": "code",
   "execution_count": 10,
   "id": "160d020b",
   "metadata": {},
   "outputs": [
    {
     "data": {
      "text/html": [
       "<div>\n",
       "<style scoped>\n",
       "    .dataframe tbody tr th:only-of-type {\n",
       "        vertical-align: middle;\n",
       "    }\n",
       "\n",
       "    .dataframe tbody tr th {\n",
       "        vertical-align: top;\n",
       "    }\n",
       "\n",
       "    .dataframe thead th {\n",
       "        text-align: right;\n",
       "    }\n",
       "</style>\n",
       "<table border=\"1\" class=\"dataframe\">\n",
       "  <thead>\n",
       "    <tr style=\"text-align: right;\">\n",
       "      <th></th>\n",
       "      <th>0</th>\n",
       "      <th>1</th>\n",
       "      <th>2</th>\n",
       "      <th>3</th>\n",
       "      <th>4</th>\n",
       "      <th>5</th>\n",
       "    </tr>\n",
       "  </thead>\n",
       "  <tbody>\n",
       "    <tr>\n",
       "      <th>0</th>\n",
       "      <td>81920_800</td>\n",
       "      <td>8</td>\n",
       "      <td>81920</td>\n",
       "      <td>800</td>\n",
       "      <td>[eating more]</td>\n",
       "      <td>[269 280]</td>\n",
       "    </tr>\n",
       "    <tr>\n",
       "      <th>1</th>\n",
       "      <td>81922_800</td>\n",
       "      <td>8</td>\n",
       "      <td>81922</td>\n",
       "      <td>800</td>\n",
       "      <td>[increased appeitite]</td>\n",
       "      <td>[357 376]</td>\n",
       "    </tr>\n",
       "    <tr>\n",
       "      <th>2</th>\n",
       "      <td>81923_800</td>\n",
       "      <td>8</td>\n",
       "      <td>81923</td>\n",
       "      <td>800</td>\n",
       "      <td>[eating more than usual, eating more]</td>\n",
       "      <td>[386 408, 386 397]</td>\n",
       "    </tr>\n",
       "    <tr>\n",
       "      <th>3</th>\n",
       "      <td>81926_800</td>\n",
       "      <td>8</td>\n",
       "      <td>81926</td>\n",
       "      <td>800</td>\n",
       "      <td>[increased appetite]</td>\n",
       "      <td>[533 551]</td>\n",
       "    </tr>\n",
       "    <tr>\n",
       "      <th>4</th>\n",
       "      <td>81931_800</td>\n",
       "      <td>8</td>\n",
       "      <td>81931</td>\n",
       "      <td>800</td>\n",
       "      <td>[increased appetite]</td>\n",
       "      <td>[615 633]</td>\n",
       "    </tr>\n",
       "  </tbody>\n",
       "</table>\n",
       "</div>"
      ],
      "text/plain": [
       "           0  1      2    3                                      4  \\\n",
       "0  81920_800  8  81920  800                          [eating more]   \n",
       "1  81922_800  8  81922  800                  [increased appeitite]   \n",
       "2  81923_800  8  81923  800  [eating more than usual, eating more]   \n",
       "3  81926_800  8  81926  800                   [increased appetite]   \n",
       "4  81931_800  8  81931  800                   [increased appetite]   \n",
       "\n",
       "                    5  \n",
       "0           [269 280]  \n",
       "1           [357 376]  \n",
       "2  [386 408, 386 397]  \n",
       "3           [533 551]  \n",
       "4           [615 633]  "
      ]
     },
     "execution_count": 10,
     "metadata": {},
     "output_type": "execute_result"
    }
   ],
   "source": [
    "df.head()"
   ]
  },
  {
   "cell_type": "code",
   "execution_count": 11,
   "id": "9369841d",
   "metadata": {},
   "outputs": [],
   "source": [
    "df.columns=['id','case_num','pn_num','feature_num','annotation','location']"
   ]
  },
  {
   "cell_type": "code",
   "execution_count": 12,
   "id": "732d8bdd",
   "metadata": {},
   "outputs": [
    {
     "data": {
      "text/html": [
       "<div>\n",
       "<style scoped>\n",
       "    .dataframe tbody tr th:only-of-type {\n",
       "        vertical-align: middle;\n",
       "    }\n",
       "\n",
       "    .dataframe tbody tr th {\n",
       "        vertical-align: top;\n",
       "    }\n",
       "\n",
       "    .dataframe thead th {\n",
       "        text-align: right;\n",
       "    }\n",
       "</style>\n",
       "<table border=\"1\" class=\"dataframe\">\n",
       "  <thead>\n",
       "    <tr style=\"text-align: right;\">\n",
       "      <th></th>\n",
       "      <th>id</th>\n",
       "      <th>case_num</th>\n",
       "      <th>pn_num</th>\n",
       "      <th>feature_num</th>\n",
       "      <th>annotation</th>\n",
       "      <th>location</th>\n",
       "    </tr>\n",
       "  </thead>\n",
       "  <tbody>\n",
       "    <tr>\n",
       "      <th>0</th>\n",
       "      <td>81920_800</td>\n",
       "      <td>8</td>\n",
       "      <td>81920</td>\n",
       "      <td>800</td>\n",
       "      <td>[eating more]</td>\n",
       "      <td>[269 280]</td>\n",
       "    </tr>\n",
       "    <tr>\n",
       "      <th>1</th>\n",
       "      <td>81922_800</td>\n",
       "      <td>8</td>\n",
       "      <td>81922</td>\n",
       "      <td>800</td>\n",
       "      <td>[increased appeitite]</td>\n",
       "      <td>[357 376]</td>\n",
       "    </tr>\n",
       "    <tr>\n",
       "      <th>2</th>\n",
       "      <td>81923_800</td>\n",
       "      <td>8</td>\n",
       "      <td>81923</td>\n",
       "      <td>800</td>\n",
       "      <td>[eating more than usual, eating more]</td>\n",
       "      <td>[386 408, 386 397]</td>\n",
       "    </tr>\n",
       "    <tr>\n",
       "      <th>3</th>\n",
       "      <td>81926_800</td>\n",
       "      <td>8</td>\n",
       "      <td>81926</td>\n",
       "      <td>800</td>\n",
       "      <td>[increased appetite]</td>\n",
       "      <td>[533 551]</td>\n",
       "    </tr>\n",
       "    <tr>\n",
       "      <th>4</th>\n",
       "      <td>81931_800</td>\n",
       "      <td>8</td>\n",
       "      <td>81931</td>\n",
       "      <td>800</td>\n",
       "      <td>[increased appetite]</td>\n",
       "      <td>[615 633]</td>\n",
       "    </tr>\n",
       "    <tr>\n",
       "      <th>...</th>\n",
       "      <td>...</td>\n",
       "      <td>...</td>\n",
       "      <td>...</td>\n",
       "      <td>...</td>\n",
       "      <td>...</td>\n",
       "      <td>...</td>\n",
       "    </tr>\n",
       "    <tr>\n",
       "      <th>31935</th>\n",
       "      <td>81915_817</td>\n",
       "      <td>8</td>\n",
       "      <td>81915</td>\n",
       "      <td>817</td>\n",
       "      <td>[4-5 hours of sleep, trouble sleeping]</td>\n",
       "      <td>[268 286, 83 99]</td>\n",
       "    </tr>\n",
       "    <tr>\n",
       "      <th>31936</th>\n",
       "      <td>81916_817</td>\n",
       "      <td>8</td>\n",
       "      <td>81916</td>\n",
       "      <td>817</td>\n",
       "      <td>[imsomnia, Sleeping problems]</td>\n",
       "      <td>[65 73, 4 21]</td>\n",
       "    </tr>\n",
       "    <tr>\n",
       "      <th>31937</th>\n",
       "      <td>81917_817</td>\n",
       "      <td>8</td>\n",
       "      <td>81917</td>\n",
       "      <td>817</td>\n",
       "      <td>[difficulty sleeping]</td>\n",
       "      <td>[27 46]</td>\n",
       "    </tr>\n",
       "    <tr>\n",
       "      <th>31938</th>\n",
       "      <td>81918_817</td>\n",
       "      <td>8</td>\n",
       "      <td>81918</td>\n",
       "      <td>817</td>\n",
       "      <td>[difficulty sleeping, 4-5 hours of sleep]</td>\n",
       "      <td>[12 31, 178 196]</td>\n",
       "    </tr>\n",
       "    <tr>\n",
       "      <th>31939</th>\n",
       "      <td>81919_817</td>\n",
       "      <td>8</td>\n",
       "      <td>81919</td>\n",
       "      <td>817</td>\n",
       "      <td>[sleeping difficulties]</td>\n",
       "      <td>[33 54]</td>\n",
       "    </tr>\n",
       "  </tbody>\n",
       "</table>\n",
       "<p>31940 rows × 6 columns</p>\n",
       "</div>"
      ],
      "text/plain": [
       "              id  case_num  pn_num  feature_num  \\\n",
       "0      81920_800         8   81920          800   \n",
       "1      81922_800         8   81922          800   \n",
       "2      81923_800         8   81923          800   \n",
       "3      81926_800         8   81926          800   \n",
       "4      81931_800         8   81931          800   \n",
       "...          ...       ...     ...          ...   \n",
       "31935  81915_817         8   81915          817   \n",
       "31936  81916_817         8   81916          817   \n",
       "31937  81917_817         8   81917          817   \n",
       "31938  81918_817         8   81918          817   \n",
       "31939  81919_817         8   81919          817   \n",
       "\n",
       "                                      annotation            location  \n",
       "0                                  [eating more]           [269 280]  \n",
       "1                          [increased appeitite]           [357 376]  \n",
       "2          [eating more than usual, eating more]  [386 408, 386 397]  \n",
       "3                           [increased appetite]           [533 551]  \n",
       "4                           [increased appetite]           [615 633]  \n",
       "...                                          ...                 ...  \n",
       "31935     [4-5 hours of sleep, trouble sleeping]    [268 286, 83 99]  \n",
       "31936              [imsomnia, Sleeping problems]       [65 73, 4 21]  \n",
       "31937                      [difficulty sleeping]             [27 46]  \n",
       "31938  [difficulty sleeping, 4-5 hours of sleep]    [12 31, 178 196]  \n",
       "31939                    [sleeping difficulties]             [33 54]  \n",
       "\n",
       "[31940 rows x 6 columns]"
      ]
     },
     "execution_count": 12,
     "metadata": {},
     "output_type": "execute_result"
    }
   ],
   "source": [
    "df"
   ]
  },
  {
   "cell_type": "code",
   "execution_count": 13,
   "id": "a1d23445",
   "metadata": {},
   "outputs": [],
   "source": [
    "df[\"location\"] = df[\"location\"].apply(str)\n",
    "df[\"annotation\"] = df[\"annotation\"].apply(str)"
   ]
  },
  {
   "cell_type": "code",
   "execution_count": 14,
   "id": "4e26091f",
   "metadata": {},
   "outputs": [
    {
     "data": {
      "text/html": [
       "<div>\n",
       "<style scoped>\n",
       "    .dataframe tbody tr th:only-of-type {\n",
       "        vertical-align: middle;\n",
       "    }\n",
       "\n",
       "    .dataframe tbody tr th {\n",
       "        vertical-align: top;\n",
       "    }\n",
       "\n",
       "    .dataframe thead th {\n",
       "        text-align: right;\n",
       "    }\n",
       "</style>\n",
       "<table border=\"1\" class=\"dataframe\">\n",
       "  <thead>\n",
       "    <tr style=\"text-align: right;\">\n",
       "      <th></th>\n",
       "      <th>id</th>\n",
       "      <th>case_num</th>\n",
       "      <th>pn_num</th>\n",
       "      <th>feature_num</th>\n",
       "      <th>annotation</th>\n",
       "      <th>location</th>\n",
       "    </tr>\n",
       "  </thead>\n",
       "  <tbody>\n",
       "    <tr>\n",
       "      <th>0</th>\n",
       "      <td>81920_800</td>\n",
       "      <td>8</td>\n",
       "      <td>81920</td>\n",
       "      <td>800</td>\n",
       "      <td>'eating more'</td>\n",
       "      <td>'269 280'</td>\n",
       "    </tr>\n",
       "    <tr>\n",
       "      <th>1</th>\n",
       "      <td>81922_800</td>\n",
       "      <td>8</td>\n",
       "      <td>81922</td>\n",
       "      <td>800</td>\n",
       "      <td>'increased appeitite'</td>\n",
       "      <td>'357 376'</td>\n",
       "    </tr>\n",
       "    <tr>\n",
       "      <th>2</th>\n",
       "      <td>81923_800</td>\n",
       "      <td>8</td>\n",
       "      <td>81923</td>\n",
       "      <td>800</td>\n",
       "      <td>'eating more than usual', 'eating more'</td>\n",
       "      <td>'386 408', '386 397'</td>\n",
       "    </tr>\n",
       "    <tr>\n",
       "      <th>3</th>\n",
       "      <td>81926_800</td>\n",
       "      <td>8</td>\n",
       "      <td>81926</td>\n",
       "      <td>800</td>\n",
       "      <td>'increased appetite'</td>\n",
       "      <td>'533 551'</td>\n",
       "    </tr>\n",
       "    <tr>\n",
       "      <th>4</th>\n",
       "      <td>81931_800</td>\n",
       "      <td>8</td>\n",
       "      <td>81931</td>\n",
       "      <td>800</td>\n",
       "      <td>'increased appetite'</td>\n",
       "      <td>'615 633'</td>\n",
       "    </tr>\n",
       "    <tr>\n",
       "      <th>...</th>\n",
       "      <td>...</td>\n",
       "      <td>...</td>\n",
       "      <td>...</td>\n",
       "      <td>...</td>\n",
       "      <td>...</td>\n",
       "      <td>...</td>\n",
       "    </tr>\n",
       "    <tr>\n",
       "      <th>31935</th>\n",
       "      <td>81915_817</td>\n",
       "      <td>8</td>\n",
       "      <td>81915</td>\n",
       "      <td>817</td>\n",
       "      <td>'4-5 hours of sleep', 'trouble sleeping'</td>\n",
       "      <td>'268 286', '83 99'</td>\n",
       "    </tr>\n",
       "    <tr>\n",
       "      <th>31936</th>\n",
       "      <td>81916_817</td>\n",
       "      <td>8</td>\n",
       "      <td>81916</td>\n",
       "      <td>817</td>\n",
       "      <td>'imsomnia', 'Sleeping problems'</td>\n",
       "      <td>'65 73', '4 21'</td>\n",
       "    </tr>\n",
       "    <tr>\n",
       "      <th>31937</th>\n",
       "      <td>81917_817</td>\n",
       "      <td>8</td>\n",
       "      <td>81917</td>\n",
       "      <td>817</td>\n",
       "      <td>'difficulty sleeping'</td>\n",
       "      <td>'27 46'</td>\n",
       "    </tr>\n",
       "    <tr>\n",
       "      <th>31938</th>\n",
       "      <td>81918_817</td>\n",
       "      <td>8</td>\n",
       "      <td>81918</td>\n",
       "      <td>817</td>\n",
       "      <td>'difficulty sleeping', '4-5 hours of sleep'</td>\n",
       "      <td>'12 31', '178 196'</td>\n",
       "    </tr>\n",
       "    <tr>\n",
       "      <th>31939</th>\n",
       "      <td>81919_817</td>\n",
       "      <td>8</td>\n",
       "      <td>81919</td>\n",
       "      <td>817</td>\n",
       "      <td>'sleeping difficulties'</td>\n",
       "      <td>'33 54'</td>\n",
       "    </tr>\n",
       "  </tbody>\n",
       "</table>\n",
       "<p>31940 rows × 6 columns</p>\n",
       "</div>"
      ],
      "text/plain": [
       "              id  case_num  pn_num  feature_num  \\\n",
       "0      81920_800         8   81920          800   \n",
       "1      81922_800         8   81922          800   \n",
       "2      81923_800         8   81923          800   \n",
       "3      81926_800         8   81926          800   \n",
       "4      81931_800         8   81931          800   \n",
       "...          ...       ...     ...          ...   \n",
       "31935  81915_817         8   81915          817   \n",
       "31936  81916_817         8   81916          817   \n",
       "31937  81917_817         8   81917          817   \n",
       "31938  81918_817         8   81918          817   \n",
       "31939  81919_817         8   81919          817   \n",
       "\n",
       "                                        annotation              location  \n",
       "0                                    'eating more'             '269 280'  \n",
       "1                            'increased appeitite'             '357 376'  \n",
       "2          'eating more than usual', 'eating more'  '386 408', '386 397'  \n",
       "3                             'increased appetite'             '533 551'  \n",
       "4                             'increased appetite'             '615 633'  \n",
       "...                                            ...                   ...  \n",
       "31935     '4-5 hours of sleep', 'trouble sleeping'    '268 286', '83 99'  \n",
       "31936              'imsomnia', 'Sleeping problems'       '65 73', '4 21'  \n",
       "31937                        'difficulty sleeping'               '27 46'  \n",
       "31938  'difficulty sleeping', '4-5 hours of sleep'    '12 31', '178 196'  \n",
       "31939                      'sleeping difficulties'               '33 54'  \n",
       "\n",
       "[31940 rows x 6 columns]"
      ]
     },
     "execution_count": 14,
     "metadata": {},
     "output_type": "execute_result"
    }
   ],
   "source": [
    "df[\"annotation\"] = df.annotation.str.replace('[','')\n",
    "df[\"annotation\"] = df.annotation.str.replace(']','')\n",
    "df[\"location\"] = df.location.str.replace('[','')\n",
    "df[\"location\"] = df.location.str.replace(']','')\n",
    "\n",
    "df"
   ]
  },
  {
   "cell_type": "code",
   "execution_count": 15,
   "id": "09c499a6",
   "metadata": {},
   "outputs": [
    {
     "data": {
      "text/html": [
       "<div>\n",
       "<style scoped>\n",
       "    .dataframe tbody tr th:only-of-type {\n",
       "        vertical-align: middle;\n",
       "    }\n",
       "\n",
       "    .dataframe tbody tr th {\n",
       "        vertical-align: top;\n",
       "    }\n",
       "\n",
       "    .dataframe thead th {\n",
       "        text-align: right;\n",
       "    }\n",
       "</style>\n",
       "<table border=\"1\" class=\"dataframe\">\n",
       "  <thead>\n",
       "    <tr style=\"text-align: right;\">\n",
       "      <th></th>\n",
       "      <th>pn_num</th>\n",
       "      <th>annotation</th>\n",
       "      <th>location</th>\n",
       "      <th>feature_num</th>\n",
       "    </tr>\n",
       "  </thead>\n",
       "  <tbody>\n",
       "    <tr>\n",
       "      <th>0</th>\n",
       "      <td>81920</td>\n",
       "      <td>'eating more'</td>\n",
       "      <td>'269 280'</td>\n",
       "      <td>800</td>\n",
       "    </tr>\n",
       "    <tr>\n",
       "      <th>1</th>\n",
       "      <td>81922</td>\n",
       "      <td>'increased appeitite'</td>\n",
       "      <td>'357 376'</td>\n",
       "      <td>800</td>\n",
       "    </tr>\n",
       "    <tr>\n",
       "      <th>2</th>\n",
       "      <td>81923</td>\n",
       "      <td>'eating more than usual', 'eating more'</td>\n",
       "      <td>'386 408', '386 397'</td>\n",
       "      <td>800</td>\n",
       "    </tr>\n",
       "    <tr>\n",
       "      <th>3</th>\n",
       "      <td>81926</td>\n",
       "      <td>'increased appetite'</td>\n",
       "      <td>'533 551'</td>\n",
       "      <td>800</td>\n",
       "    </tr>\n",
       "    <tr>\n",
       "      <th>4</th>\n",
       "      <td>81931</td>\n",
       "      <td>'increased appetite'</td>\n",
       "      <td>'615 633'</td>\n",
       "      <td>800</td>\n",
       "    </tr>\n",
       "    <tr>\n",
       "      <th>...</th>\n",
       "      <td>...</td>\n",
       "      <td>...</td>\n",
       "      <td>...</td>\n",
       "      <td>...</td>\n",
       "    </tr>\n",
       "    <tr>\n",
       "      <th>31935</th>\n",
       "      <td>81915</td>\n",
       "      <td>'4-5 hours of sleep', 'trouble sleeping'</td>\n",
       "      <td>'268 286', '83 99'</td>\n",
       "      <td>817</td>\n",
       "    </tr>\n",
       "    <tr>\n",
       "      <th>31936</th>\n",
       "      <td>81916</td>\n",
       "      <td>'imsomnia', 'Sleeping problems'</td>\n",
       "      <td>'65 73', '4 21'</td>\n",
       "      <td>817</td>\n",
       "    </tr>\n",
       "    <tr>\n",
       "      <th>31937</th>\n",
       "      <td>81917</td>\n",
       "      <td>'difficulty sleeping'</td>\n",
       "      <td>'27 46'</td>\n",
       "      <td>817</td>\n",
       "    </tr>\n",
       "    <tr>\n",
       "      <th>31938</th>\n",
       "      <td>81918</td>\n",
       "      <td>'difficulty sleeping', '4-5 hours of sleep'</td>\n",
       "      <td>'12 31', '178 196'</td>\n",
       "      <td>817</td>\n",
       "    </tr>\n",
       "    <tr>\n",
       "      <th>31939</th>\n",
       "      <td>81919</td>\n",
       "      <td>'sleeping difficulties'</td>\n",
       "      <td>'33 54'</td>\n",
       "      <td>817</td>\n",
       "    </tr>\n",
       "  </tbody>\n",
       "</table>\n",
       "<p>31940 rows × 4 columns</p>\n",
       "</div>"
      ],
      "text/plain": [
       "       pn_num                                   annotation  \\\n",
       "0       81920                                'eating more'   \n",
       "1       81922                        'increased appeitite'   \n",
       "2       81923      'eating more than usual', 'eating more'   \n",
       "3       81926                         'increased appetite'   \n",
       "4       81931                         'increased appetite'   \n",
       "...       ...                                          ...   \n",
       "31935   81915     '4-5 hours of sleep', 'trouble sleeping'   \n",
       "31936   81916              'imsomnia', 'Sleeping problems'   \n",
       "31937   81917                        'difficulty sleeping'   \n",
       "31938   81918  'difficulty sleeping', '4-5 hours of sleep'   \n",
       "31939   81919                      'sleeping difficulties'   \n",
       "\n",
       "                   location  feature_num  \n",
       "0                 '269 280'          800  \n",
       "1                 '357 376'          800  \n",
       "2      '386 408', '386 397'          800  \n",
       "3                 '533 551'          800  \n",
       "4                 '615 633'          800  \n",
       "...                     ...          ...  \n",
       "31935    '268 286', '83 99'          817  \n",
       "31936       '65 73', '4 21'          817  \n",
       "31937               '27 46'          817  \n",
       "31938    '12 31', '178 196'          817  \n",
       "31939               '33 54'          817  \n",
       "\n",
       "[31940 rows x 4 columns]"
      ]
     },
     "execution_count": 15,
     "metadata": {},
     "output_type": "execute_result"
    }
   ],
   "source": [
    "df = df[['pn_num','annotation',\"location\",\"feature_num\"]]\n",
    "df"
   ]
  },
  {
   "cell_type": "code",
   "execution_count": 16,
   "id": "c82fac1f",
   "metadata": {},
   "outputs": [
    {
     "data": {
      "image/png": "[encoded data removed]",
      "text/plain": [
       "<Figure size 576x432 with 1 Axes>"
      ]
     },
     "metadata": {
      "needs_background": "light"
     },
     "output_type": "display_data"
    }
   ],
   "source": [
    "import matplotlib.pyplot as plt\n",
    "plt.figure(figsize=[8,6])\n",
    "df.groupby(\"feature_num\").size().plot.bar()\n",
    "plt.title(\"CASE - 8\")\n",
    "plt.ylabel(\"Number of over sampling obeservations\")\n",
    "plt.show()"
   ]
  },
  {
   "cell_type": "code",
   "execution_count": 17,
   "id": "12b487b9",
   "metadata": {},
   "outputs": [
    {
     "data": {
      "image/png": "[encoded data removed]",
      "text/plain": [
       "<Figure size 576x432 with 1 Axes>"
      ]
     },
     "metadata": {
      "needs_background": "light"
     },
     "output_type": "display_data"
    }
   ],
   "source": [
    "import matplotlib.pyplot as plt\n",
    "plt.figure(figsize=[8,6])\n",
    "case_8_train.groupby(\"feature_num\").size().plot.bar()\n",
    "plt.title(\"CASE - 8\")\n",
    "plt.ylabel(\"Number of observations\")\n",
    "plt.show()"
   ]
  },
  {
   "cell_type": "markdown",
   "id": "58c163c4",
   "metadata": {},
   "source": [
    "#### PN History"
   ]
  },
  {
   "cell_type": "code",
   "execution_count": 18,
   "id": "1d931316",
   "metadata": {},
   "outputs": [],
   "source": [
    "case_8 = patient_notes[patient_notes.case_num== 8]"
   ]
  },
  {
   "cell_type": "code",
   "execution_count": 19,
   "id": "85d6f93a",
   "metadata": {},
   "outputs": [],
   "source": [
    "case_8[\"pn_history\"] = case_8[\"pn_history\"].apply(lambda x: re.sub(r'''[/\",()\\r\\n]''',' ',x))"
   ]
  },
  {
   "cell_type": "code",
   "execution_count": 20,
   "id": "61fe301a",
   "metadata": {},
   "outputs": [],
   "source": [
    "seperate_data = train_data.copy()"
   ]
  },
  {
   "cell_type": "code",
   "execution_count": 21,
   "id": "5a945cef",
   "metadata": {},
   "outputs": [
    {
     "data": {
      "text/html": [
       "<div>\n",
       "<style scoped>\n",
       "    .dataframe tbody tr th:only-of-type {\n",
       "        vertical-align: middle;\n",
       "    }\n",
       "\n",
       "    .dataframe tbody tr th {\n",
       "        vertical-align: top;\n",
       "    }\n",
       "\n",
       "    .dataframe thead th {\n",
       "        text-align: right;\n",
       "    }\n",
       "</style>\n",
       "<table border=\"1\" class=\"dataframe\">\n",
       "  <thead>\n",
       "    <tr style=\"text-align: right;\">\n",
       "      <th></th>\n",
       "      <th>id</th>\n",
       "      <th>case_num</th>\n",
       "      <th>pn_num</th>\n",
       "      <th>feature_num</th>\n",
       "      <th>annotation</th>\n",
       "      <th>location</th>\n",
       "    </tr>\n",
       "  </thead>\n",
       "  <tbody>\n",
       "    <tr>\n",
       "      <th>0</th>\n",
       "      <td>00016_000</td>\n",
       "      <td>0</td>\n",
       "      <td>16</td>\n",
       "      <td>0</td>\n",
       "      <td>['dad with recent heart attcak']</td>\n",
       "      <td>['696 724']</td>\n",
       "    </tr>\n",
       "    <tr>\n",
       "      <th>1</th>\n",
       "      <td>00016_001</td>\n",
       "      <td>0</td>\n",
       "      <td>16</td>\n",
       "      <td>1</td>\n",
       "      <td>['mom with \"thyroid disease']</td>\n",
       "      <td>['668 693']</td>\n",
       "    </tr>\n",
       "    <tr>\n",
       "      <th>2</th>\n",
       "      <td>00016_002</td>\n",
       "      <td>0</td>\n",
       "      <td>16</td>\n",
       "      <td>2</td>\n",
       "      <td>['chest pressure']</td>\n",
       "      <td>['203 217']</td>\n",
       "    </tr>\n",
       "  </tbody>\n",
       "</table>\n",
       "</div>"
      ],
      "text/plain": [
       "          id  case_num  pn_num  feature_num                        annotation  \\\n",
       "0  00016_000         0      16            0  ['dad with recent heart attcak']   \n",
       "1  00016_001         0      16            1     ['mom with \"thyroid disease']   \n",
       "2  00016_002         0      16            2                ['chest pressure']   \n",
       "\n",
       "      location  \n",
       "0  ['696 724']  \n",
       "1  ['668 693']  \n",
       "2  ['203 217']  "
      ]
     },
     "execution_count": 21,
     "metadata": {},
     "output_type": "execute_result"
    }
   ],
   "source": [
    "seperate_data = seperate_data[seperate_data.annotation != '[]']\n",
    "seperate_data.head(3)"
   ]
  },
  {
   "cell_type": "code",
   "execution_count": 22,
   "id": "63e659cd",
   "metadata": {},
   "outputs": [
    {
     "data": {
      "text/html": [
       "<div>\n",
       "<style scoped>\n",
       "    .dataframe tbody tr th:only-of-type {\n",
       "        vertical-align: middle;\n",
       "    }\n",
       "\n",
       "    .dataframe tbody tr th {\n",
       "        vertical-align: top;\n",
       "    }\n",
       "\n",
       "    .dataframe thead th {\n",
       "        text-align: right;\n",
       "    }\n",
       "</style>\n",
       "<table border=\"1\" class=\"dataframe\">\n",
       "  <thead>\n",
       "    <tr style=\"text-align: right;\">\n",
       "      <th></th>\n",
       "      <th>id</th>\n",
       "      <th>case_num</th>\n",
       "      <th>pn_num</th>\n",
       "      <th>feature_num</th>\n",
       "      <th>annotation</th>\n",
       "      <th>location</th>\n",
       "    </tr>\n",
       "  </thead>\n",
       "  <tbody>\n",
       "    <tr>\n",
       "      <th>0</th>\n",
       "      <td>00016_000</td>\n",
       "      <td>0</td>\n",
       "      <td>16</td>\n",
       "      <td>0</td>\n",
       "      <td>'dad with recent heart attcak'</td>\n",
       "      <td>'696 724'</td>\n",
       "    </tr>\n",
       "    <tr>\n",
       "      <th>1</th>\n",
       "      <td>00016_001</td>\n",
       "      <td>0</td>\n",
       "      <td>16</td>\n",
       "      <td>1</td>\n",
       "      <td>'mom with \"thyroid disease'</td>\n",
       "      <td>'668 693'</td>\n",
       "    </tr>\n",
       "    <tr>\n",
       "      <th>2</th>\n",
       "      <td>00016_002</td>\n",
       "      <td>0</td>\n",
       "      <td>16</td>\n",
       "      <td>2</td>\n",
       "      <td>'chest pressure'</td>\n",
       "      <td>'203 217'</td>\n",
       "    </tr>\n",
       "    <tr>\n",
       "      <th>3</th>\n",
       "      <td>00016_003</td>\n",
       "      <td>0</td>\n",
       "      <td>16</td>\n",
       "      <td>3</td>\n",
       "      <td>'intermittent episodes', 'episode'</td>\n",
       "      <td>'70 91', '176 183'</td>\n",
       "    </tr>\n",
       "    <tr>\n",
       "      <th>4</th>\n",
       "      <td>00016_004</td>\n",
       "      <td>0</td>\n",
       "      <td>16</td>\n",
       "      <td>4</td>\n",
       "      <td>'felt as if he were going to pass out'</td>\n",
       "      <td>'222 258'</td>\n",
       "    </tr>\n",
       "    <tr>\n",
       "      <th>...</th>\n",
       "      <td>...</td>\n",
       "      <td>...</td>\n",
       "      <td>...</td>\n",
       "      <td>...</td>\n",
       "      <td>...</td>\n",
       "      <td>...</td>\n",
       "    </tr>\n",
       "    <tr>\n",
       "      <th>14291</th>\n",
       "      <td>95333_908</td>\n",
       "      <td>9</td>\n",
       "      <td>95333</td>\n",
       "      <td>908</td>\n",
       "      <td>'Nausea'</td>\n",
       "      <td>'354 360'</td>\n",
       "    </tr>\n",
       "    <tr>\n",
       "      <th>14293</th>\n",
       "      <td>95333_910</td>\n",
       "      <td>9</td>\n",
       "      <td>95333</td>\n",
       "      <td>910</td>\n",
       "      <td>'lives with roomate'</td>\n",
       "      <td>'576 594'</td>\n",
       "    </tr>\n",
       "    <tr>\n",
       "      <th>14297</th>\n",
       "      <td>95333_914</td>\n",
       "      <td>9</td>\n",
       "      <td>95333</td>\n",
       "      <td>914</td>\n",
       "      <td>'photobia'</td>\n",
       "      <td>'274 282'</td>\n",
       "    </tr>\n",
       "    <tr>\n",
       "      <th>14298</th>\n",
       "      <td>95333_915</td>\n",
       "      <td>9</td>\n",
       "      <td>95333</td>\n",
       "      <td>915</td>\n",
       "      <td>'no sick contacts'</td>\n",
       "      <td>'421 437'</td>\n",
       "    </tr>\n",
       "    <tr>\n",
       "      <th>14299</th>\n",
       "      <td>95333_916</td>\n",
       "      <td>9</td>\n",
       "      <td>95333</td>\n",
       "      <td>916</td>\n",
       "      <td>'Subjective fever'</td>\n",
       "      <td>'314 330'</td>\n",
       "    </tr>\n",
       "  </tbody>\n",
       "</table>\n",
       "<p>9901 rows × 6 columns</p>\n",
       "</div>"
      ],
      "text/plain": [
       "              id  case_num  pn_num  feature_num  \\\n",
       "0      00016_000         0      16            0   \n",
       "1      00016_001         0      16            1   \n",
       "2      00016_002         0      16            2   \n",
       "3      00016_003         0      16            3   \n",
       "4      00016_004         0      16            4   \n",
       "...          ...       ...     ...          ...   \n",
       "14291  95333_908         9   95333          908   \n",
       "14293  95333_910         9   95333          910   \n",
       "14297  95333_914         9   95333          914   \n",
       "14298  95333_915         9   95333          915   \n",
       "14299  95333_916         9   95333          916   \n",
       "\n",
       "                                   annotation            location  \n",
       "0              'dad with recent heart attcak'           '696 724'  \n",
       "1                 'mom with \"thyroid disease'           '668 693'  \n",
       "2                            'chest pressure'           '203 217'  \n",
       "3          'intermittent episodes', 'episode'  '70 91', '176 183'  \n",
       "4      'felt as if he were going to pass out'           '222 258'  \n",
       "...                                       ...                 ...  \n",
       "14291                                'Nausea'           '354 360'  \n",
       "14293                    'lives with roomate'           '576 594'  \n",
       "14297                              'photobia'           '274 282'  \n",
       "14298                      'no sick contacts'           '421 437'  \n",
       "14299                      'Subjective fever'           '314 330'  \n",
       "\n",
       "[9901 rows x 6 columns]"
      ]
     },
     "execution_count": 22,
     "metadata": {},
     "output_type": "execute_result"
    }
   ],
   "source": [
    "seperate_data[\"annotation\"] = seperate_data.annotation.str.replace('[','')\n",
    "seperate_data[\"annotation\"] = seperate_data.annotation.str.replace(']','')\n",
    "seperate_data[\"location\"] = seperate_data.location.str.replace('[','')\n",
    "seperate_data[\"location\"] = seperate_data.location.str.replace(']','')\n",
    "\n",
    "seperate_data"
   ]
  },
  {
   "cell_type": "markdown",
   "id": "6652df9d",
   "metadata": {},
   "source": [
    "#### case 0 data"
   ]
  },
  {
   "cell_type": "code",
   "execution_count": 23,
   "id": "55a292c9",
   "metadata": {},
   "outputs": [],
   "source": [
    "sep_case8 = seperate_data[seperate_data.case_num == 8]"
   ]
  },
  {
   "cell_type": "code",
   "execution_count": 24,
   "id": "bc7e805a",
   "metadata": {},
   "outputs": [
    {
     "data": {
      "text/html": [
       "<div>\n",
       "<style scoped>\n",
       "    .dataframe tbody tr th:only-of-type {\n",
       "        vertical-align: middle;\n",
       "    }\n",
       "\n",
       "    .dataframe tbody tr th {\n",
       "        vertical-align: top;\n",
       "    }\n",
       "\n",
       "    .dataframe thead th {\n",
       "        text-align: right;\n",
       "    }\n",
       "</style>\n",
       "<table border=\"1\" class=\"dataframe\">\n",
       "  <thead>\n",
       "    <tr style=\"text-align: right;\">\n",
       "      <th></th>\n",
       "      <th>id</th>\n",
       "      <th>case_num</th>\n",
       "      <th>pn_num</th>\n",
       "      <th>feature_num</th>\n",
       "      <th>annotation</th>\n",
       "      <th>location</th>\n",
       "    </tr>\n",
       "  </thead>\n",
       "  <tbody>\n",
       "    <tr>\n",
       "      <th>10800</th>\n",
       "      <td>80039_800</td>\n",
       "      <td>8</td>\n",
       "      <td>80039</td>\n",
       "      <td>800</td>\n",
       "      <td>'appetite has increased', 'eating more'</td>\n",
       "      <td>'468 490', '502 513'</td>\n",
       "    </tr>\n",
       "    <tr>\n",
       "      <th>10801</th>\n",
       "      <td>80039_801</td>\n",
       "      <td>8</td>\n",
       "      <td>80039</td>\n",
       "      <td>801</td>\n",
       "      <td>'son past away at the end of June'</td>\n",
       "      <td>'171 203'</td>\n",
       "    </tr>\n",
       "    <tr>\n",
       "      <th>10802</th>\n",
       "      <td>80039_802</td>\n",
       "      <td>8</td>\n",
       "      <td>80039</td>\n",
       "      <td>802</td>\n",
       "      <td>'woman'</td>\n",
       "      <td>'27 32'</td>\n",
       "    </tr>\n",
       "    <tr>\n",
       "      <th>10804</th>\n",
       "      <td>80039_804</td>\n",
       "      <td>8</td>\n",
       "      <td>80039</td>\n",
       "      <td>804</td>\n",
       "      <td>'tossing and turning'</td>\n",
       "      <td>'124 143'</td>\n",
       "    </tr>\n",
       "    <tr>\n",
       "      <th>10805</th>\n",
       "      <td>80039_805</td>\n",
       "      <td>8</td>\n",
       "      <td>80039</td>\n",
       "      <td>805</td>\n",
       "      <td>'67 y.o'</td>\n",
       "      <td>'19 25'</td>\n",
       "    </tr>\n",
       "    <tr>\n",
       "      <th>...</th>\n",
       "      <td>...</td>\n",
       "      <td>...</td>\n",
       "      <td>...</td>\n",
       "      <td>...</td>\n",
       "      <td>...</td>\n",
       "      <td>...</td>\n",
       "    </tr>\n",
       "    <tr>\n",
       "      <th>12594</th>\n",
       "      <td>84366_812</td>\n",
       "      <td>8</td>\n",
       "      <td>84366</td>\n",
       "      <td>812</td>\n",
       "      <td>'anhedonia'</td>\n",
       "      <td>'674 683'</td>\n",
       "    </tr>\n",
       "    <tr>\n",
       "      <th>12596</th>\n",
       "      <td>84366_814</td>\n",
       "      <td>8</td>\n",
       "      <td>84366</td>\n",
       "      <td>814</td>\n",
       "      <td>'mother w/ depression'</td>\n",
       "      <td>'787 807'</td>\n",
       "    </tr>\n",
       "    <tr>\n",
       "      <th>12597</th>\n",
       "      <td>84366_815</td>\n",
       "      <td>8</td>\n",
       "      <td>84366</td>\n",
       "      <td>815</td>\n",
       "      <td>'waking early'</td>\n",
       "      <td>'241 253'</td>\n",
       "    </tr>\n",
       "    <tr>\n",
       "      <th>12598</th>\n",
       "      <td>84366_816</td>\n",
       "      <td>8</td>\n",
       "      <td>84366</td>\n",
       "      <td>816</td>\n",
       "      <td>'no suicidal'</td>\n",
       "      <td>'624 635'</td>\n",
       "    </tr>\n",
       "    <tr>\n",
       "      <th>12599</th>\n",
       "      <td>84366_817</td>\n",
       "      <td>8</td>\n",
       "      <td>84366</td>\n",
       "      <td>817</td>\n",
       "      <td>'sleep isues', 'sleep issues', 'now 4 hours of...</td>\n",
       "      <td>'90 101', '413 425', '477 503'</td>\n",
       "    </tr>\n",
       "  </tbody>\n",
       "</table>\n",
       "<p>1190 rows × 6 columns</p>\n",
       "</div>"
      ],
      "text/plain": [
       "              id  case_num  pn_num  feature_num  \\\n",
       "10800  80039_800         8   80039          800   \n",
       "10801  80039_801         8   80039          801   \n",
       "10802  80039_802         8   80039          802   \n",
       "10804  80039_804         8   80039          804   \n",
       "10805  80039_805         8   80039          805   \n",
       "...          ...       ...     ...          ...   \n",
       "12594  84366_812         8   84366          812   \n",
       "12596  84366_814         8   84366          814   \n",
       "12597  84366_815         8   84366          815   \n",
       "12598  84366_816         8   84366          816   \n",
       "12599  84366_817         8   84366          817   \n",
       "\n",
       "                                              annotation  \\\n",
       "10800            'appetite has increased', 'eating more'   \n",
       "10801                 'son past away at the end of June'   \n",
       "10802                                            'woman'   \n",
       "10804                              'tossing and turning'   \n",
       "10805                                           '67 y.o'   \n",
       "...                                                  ...   \n",
       "12594                                        'anhedonia'   \n",
       "12596                             'mother w/ depression'   \n",
       "12597                                     'waking early'   \n",
       "12598                                      'no suicidal'   \n",
       "12599  'sleep isues', 'sleep issues', 'now 4 hours of...   \n",
       "\n",
       "                             location  \n",
       "10800            '468 490', '502 513'  \n",
       "10801                       '171 203'  \n",
       "10802                         '27 32'  \n",
       "10804                       '124 143'  \n",
       "10805                         '19 25'  \n",
       "...                               ...  \n",
       "12594                       '674 683'  \n",
       "12596                       '787 807'  \n",
       "12597                       '241 253'  \n",
       "12598                       '624 635'  \n",
       "12599  '90 101', '413 425', '477 503'  \n",
       "\n",
       "[1190 rows x 6 columns]"
      ]
     },
     "execution_count": 24,
     "metadata": {},
     "output_type": "execute_result"
    }
   ],
   "source": [
    "sep_case8"
   ]
  },
  {
   "cell_type": "code",
   "execution_count": 25,
   "id": "82a39009",
   "metadata": {},
   "outputs": [
    {
     "data": {
      "text/html": [
       "<div>\n",
       "<style scoped>\n",
       "    .dataframe tbody tr th:only-of-type {\n",
       "        vertical-align: middle;\n",
       "    }\n",
       "\n",
       "    .dataframe tbody tr th {\n",
       "        vertical-align: top;\n",
       "    }\n",
       "\n",
       "    .dataframe thead th {\n",
       "        text-align: right;\n",
       "    }\n",
       "</style>\n",
       "<table border=\"1\" class=\"dataframe\">\n",
       "  <thead>\n",
       "    <tr style=\"text-align: right;\">\n",
       "      <th></th>\n",
       "      <th>id</th>\n",
       "      <th>case_num</th>\n",
       "      <th>pn_num</th>\n",
       "      <th>feature_num</th>\n",
       "      <th>annotation</th>\n",
       "      <th>location</th>\n",
       "    </tr>\n",
       "  </thead>\n",
       "  <tbody>\n",
       "    <tr>\n",
       "      <th>10800</th>\n",
       "      <td>80039_800</td>\n",
       "      <td>8</td>\n",
       "      <td>80039</td>\n",
       "      <td>800</td>\n",
       "      <td>'appetite has increased', 'eating more'</td>\n",
       "      <td>'468 490', '502 513'</td>\n",
       "    </tr>\n",
       "    <tr>\n",
       "      <th>10817</th>\n",
       "      <td>80039_817</td>\n",
       "      <td>8</td>\n",
       "      <td>80039</td>\n",
       "      <td>817</td>\n",
       "      <td>'difficulty sleeping', 'trouble sleeping'</td>\n",
       "      <td>'42 61', '209 225'</td>\n",
       "    </tr>\n",
       "    <tr>\n",
       "      <th>10819</th>\n",
       "      <td>80042_801</td>\n",
       "      <td>8</td>\n",
       "      <td>80042</td>\n",
       "      <td>801</td>\n",
       "      <td>'At that time, her son passed away'</td>\n",
       "      <td>'168 201'</td>\n",
       "    </tr>\n",
       "    <tr>\n",
       "      <th>10826</th>\n",
       "      <td>80042_808</td>\n",
       "      <td>8</td>\n",
       "      <td>80042</td>\n",
       "      <td>808</td>\n",
       "      <td>'began 3 weeks ago', '3 weeks ago'</td>\n",
       "      <td>'149 166', '321 332'</td>\n",
       "    </tr>\n",
       "    <tr>\n",
       "      <th>10835</th>\n",
       "      <td>80042_817</td>\n",
       "      <td>8</td>\n",
       "      <td>80042</td>\n",
       "      <td>817</td>\n",
       "      <td>'trouble sleeping', 'trouble staying asleep', ...</td>\n",
       "      <td>'21 37', '75 97', '132 148'</td>\n",
       "    </tr>\n",
       "    <tr>\n",
       "      <th>...</th>\n",
       "      <td>...</td>\n",
       "      <td>...</td>\n",
       "      <td>...</td>\n",
       "      <td>...</td>\n",
       "      <td>...</td>\n",
       "      <td>...</td>\n",
       "    </tr>\n",
       "    <tr>\n",
       "      <th>12563</th>\n",
       "      <td>84255_817</td>\n",
       "      <td>8</td>\n",
       "      <td>84255</td>\n",
       "      <td>817</td>\n",
       "      <td>'trouble sleeping', 'trouble staying asleep', ...</td>\n",
       "      <td>'24 40', '103 110;127 141', '183 213'</td>\n",
       "    </tr>\n",
       "    <tr>\n",
       "      <th>12583</th>\n",
       "      <td>84366_801</td>\n",
       "      <td>8</td>\n",
       "      <td>84366</td>\n",
       "      <td>801</td>\n",
       "      <td>'son passed away October 20th', 'loss of her s...</td>\n",
       "      <td>'145 173', '124 139;175 186'</td>\n",
       "    </tr>\n",
       "    <tr>\n",
       "      <th>12584</th>\n",
       "      <td>84366_802</td>\n",
       "      <td>8</td>\n",
       "      <td>84366</td>\n",
       "      <td>802</td>\n",
       "      <td>'Ms.', 'F'</td>\n",
       "      <td>'0 3', '27 28'</td>\n",
       "    </tr>\n",
       "    <tr>\n",
       "      <th>12593</th>\n",
       "      <td>84366_811</td>\n",
       "      <td>8</td>\n",
       "      <td>84366</td>\n",
       "      <td>811</td>\n",
       "      <td>'fatigued', 'dec energy'</td>\n",
       "      <td>'512 520', '612 622'</td>\n",
       "    </tr>\n",
       "    <tr>\n",
       "      <th>12599</th>\n",
       "      <td>84366_817</td>\n",
       "      <td>8</td>\n",
       "      <td>84366</td>\n",
       "      <td>817</td>\n",
       "      <td>'sleep isues', 'sleep issues', 'now 4 hours of...</td>\n",
       "      <td>'90 101', '413 425', '477 503'</td>\n",
       "    </tr>\n",
       "  </tbody>\n",
       "</table>\n",
       "<p>162 rows × 6 columns</p>\n",
       "</div>"
      ],
      "text/plain": [
       "              id  case_num  pn_num  feature_num  \\\n",
       "10800  80039_800         8   80039          800   \n",
       "10817  80039_817         8   80039          817   \n",
       "10819  80042_801         8   80042          801   \n",
       "10826  80042_808         8   80042          808   \n",
       "10835  80042_817         8   80042          817   \n",
       "...          ...       ...     ...          ...   \n",
       "12563  84255_817         8   84255          817   \n",
       "12583  84366_801         8   84366          801   \n",
       "12584  84366_802         8   84366          802   \n",
       "12593  84366_811         8   84366          811   \n",
       "12599  84366_817         8   84366          817   \n",
       "\n",
       "                                              annotation  \\\n",
       "10800            'appetite has increased', 'eating more'   \n",
       "10817          'difficulty sleeping', 'trouble sleeping'   \n",
       "10819                'At that time, her son passed away'   \n",
       "10826                 'began 3 weeks ago', '3 weeks ago'   \n",
       "10835  'trouble sleeping', 'trouble staying asleep', ...   \n",
       "...                                                  ...   \n",
       "12563  'trouble sleeping', 'trouble staying asleep', ...   \n",
       "12583  'son passed away October 20th', 'loss of her s...   \n",
       "12584                                         'Ms.', 'F'   \n",
       "12593                           'fatigued', 'dec energy'   \n",
       "12599  'sleep isues', 'sleep issues', 'now 4 hours of...   \n",
       "\n",
       "                                    location  \n",
       "10800                   '468 490', '502 513'  \n",
       "10817                     '42 61', '209 225'  \n",
       "10819                              '168 201'  \n",
       "10826                   '149 166', '321 332'  \n",
       "10835            '21 37', '75 97', '132 148'  \n",
       "...                                      ...  \n",
       "12563  '24 40', '103 110;127 141', '183 213'  \n",
       "12583           '145 173', '124 139;175 186'  \n",
       "12584                         '0 3', '27 28'  \n",
       "12593                   '512 520', '612 622'  \n",
       "12599         '90 101', '413 425', '477 503'  \n",
       "\n",
       "[162 rows x 6 columns]"
      ]
     },
     "execution_count": 25,
     "metadata": {},
     "output_type": "execute_result"
    }
   ],
   "source": [
    "df1 = sep_case8[sep_case8['annotation'].str.contains(\",\")]\n",
    "df1"
   ]
  },
  {
   "cell_type": "code",
   "execution_count": 26,
   "id": "a1ef8cb3",
   "metadata": {},
   "outputs": [
    {
     "data": {
      "text/html": [
       "<div>\n",
       "<style scoped>\n",
       "    .dataframe tbody tr th:only-of-type {\n",
       "        vertical-align: middle;\n",
       "    }\n",
       "\n",
       "    .dataframe tbody tr th {\n",
       "        vertical-align: top;\n",
       "    }\n",
       "\n",
       "    .dataframe thead th {\n",
       "        text-align: right;\n",
       "    }\n",
       "</style>\n",
       "<table border=\"1\" class=\"dataframe\">\n",
       "  <thead>\n",
       "    <tr style=\"text-align: right;\">\n",
       "      <th></th>\n",
       "      <th>id</th>\n",
       "      <th>case_num</th>\n",
       "      <th>pn_num</th>\n",
       "      <th>feature_num</th>\n",
       "      <th>annotation</th>\n",
       "      <th>location</th>\n",
       "    </tr>\n",
       "  </thead>\n",
       "  <tbody>\n",
       "    <tr>\n",
       "      <th>10800</th>\n",
       "      <td>80039_800</td>\n",
       "      <td>8</td>\n",
       "      <td>80039</td>\n",
       "      <td>800</td>\n",
       "      <td>'appetite has increased', 'eating more'</td>\n",
       "      <td>'468 490', '502 513'</td>\n",
       "    </tr>\n",
       "    <tr>\n",
       "      <th>10817</th>\n",
       "      <td>80039_817</td>\n",
       "      <td>8</td>\n",
       "      <td>80039</td>\n",
       "      <td>817</td>\n",
       "      <td>'difficulty sleeping', 'trouble sleeping'</td>\n",
       "      <td>'42 61', '209 225'</td>\n",
       "    </tr>\n",
       "    <tr>\n",
       "      <th>10826</th>\n",
       "      <td>80042_808</td>\n",
       "      <td>8</td>\n",
       "      <td>80042</td>\n",
       "      <td>808</td>\n",
       "      <td>'began 3 weeks ago', '3 weeks ago'</td>\n",
       "      <td>'149 166', '321 332'</td>\n",
       "    </tr>\n",
       "    <tr>\n",
       "      <th>10835</th>\n",
       "      <td>80042_817</td>\n",
       "      <td>8</td>\n",
       "      <td>80042</td>\n",
       "      <td>817</td>\n",
       "      <td>'trouble sleeping', 'trouble staying asleep', ...</td>\n",
       "      <td>'21 37', '75 97', '132 148'</td>\n",
       "    </tr>\n",
       "    <tr>\n",
       "      <th>10847</th>\n",
       "      <td>80066_811</td>\n",
       "      <td>8</td>\n",
       "      <td>80066</td>\n",
       "      <td>811</td>\n",
       "      <td>'feeling drained', 'tired', 'low neergy'</td>\n",
       "      <td>'315 330', '335 340', '558 568'</td>\n",
       "    </tr>\n",
       "    <tr>\n",
       "      <th>...</th>\n",
       "      <td>...</td>\n",
       "      <td>...</td>\n",
       "      <td>...</td>\n",
       "      <td>...</td>\n",
       "      <td>...</td>\n",
       "      <td>...</td>\n",
       "    </tr>\n",
       "    <tr>\n",
       "      <th>12563</th>\n",
       "      <td>84255_817</td>\n",
       "      <td>8</td>\n",
       "      <td>84255</td>\n",
       "      <td>817</td>\n",
       "      <td>'trouble sleeping', 'trouble staying asleep', ...</td>\n",
       "      <td>'24 40', '103 110;127 141', '183 213'</td>\n",
       "    </tr>\n",
       "    <tr>\n",
       "      <th>12583</th>\n",
       "      <td>84366_801</td>\n",
       "      <td>8</td>\n",
       "      <td>84366</td>\n",
       "      <td>801</td>\n",
       "      <td>'son passed away October 20th', 'loss of her s...</td>\n",
       "      <td>'145 173', '124 139;175 186'</td>\n",
       "    </tr>\n",
       "    <tr>\n",
       "      <th>12584</th>\n",
       "      <td>84366_802</td>\n",
       "      <td>8</td>\n",
       "      <td>84366</td>\n",
       "      <td>802</td>\n",
       "      <td>'Ms.', 'F'</td>\n",
       "      <td>'0 3', '27 28'</td>\n",
       "    </tr>\n",
       "    <tr>\n",
       "      <th>12593</th>\n",
       "      <td>84366_811</td>\n",
       "      <td>8</td>\n",
       "      <td>84366</td>\n",
       "      <td>811</td>\n",
       "      <td>'fatigued', 'dec energy'</td>\n",
       "      <td>'512 520', '612 622'</td>\n",
       "    </tr>\n",
       "    <tr>\n",
       "      <th>12599</th>\n",
       "      <td>84366_817</td>\n",
       "      <td>8</td>\n",
       "      <td>84366</td>\n",
       "      <td>817</td>\n",
       "      <td>'sleep isues', 'sleep issues', 'now 4 hours of...</td>\n",
       "      <td>'90 101', '413 425', '477 503'</td>\n",
       "    </tr>\n",
       "  </tbody>\n",
       "</table>\n",
       "<p>147 rows × 6 columns</p>\n",
       "</div>"
      ],
      "text/plain": [
       "              id  case_num  pn_num  feature_num  \\\n",
       "10800  80039_800         8   80039          800   \n",
       "10817  80039_817         8   80039          817   \n",
       "10826  80042_808         8   80042          808   \n",
       "10835  80042_817         8   80042          817   \n",
       "10847  80066_811         8   80066          811   \n",
       "...          ...       ...     ...          ...   \n",
       "12563  84255_817         8   84255          817   \n",
       "12583  84366_801         8   84366          801   \n",
       "12584  84366_802         8   84366          802   \n",
       "12593  84366_811         8   84366          811   \n",
       "12599  84366_817         8   84366          817   \n",
       "\n",
       "                                              annotation  \\\n",
       "10800            'appetite has increased', 'eating more'   \n",
       "10817          'difficulty sleeping', 'trouble sleeping'   \n",
       "10826                 'began 3 weeks ago', '3 weeks ago'   \n",
       "10835  'trouble sleeping', 'trouble staying asleep', ...   \n",
       "10847           'feeling drained', 'tired', 'low neergy'   \n",
       "...                                                  ...   \n",
       "12563  'trouble sleeping', 'trouble staying asleep', ...   \n",
       "12583  'son passed away October 20th', 'loss of her s...   \n",
       "12584                                         'Ms.', 'F'   \n",
       "12593                           'fatigued', 'dec energy'   \n",
       "12599  'sleep isues', 'sleep issues', 'now 4 hours of...   \n",
       "\n",
       "                                    location  \n",
       "10800                   '468 490', '502 513'  \n",
       "10817                     '42 61', '209 225'  \n",
       "10826                   '149 166', '321 332'  \n",
       "10835            '21 37', '75 97', '132 148'  \n",
       "10847        '315 330', '335 340', '558 568'  \n",
       "...                                      ...  \n",
       "12563  '24 40', '103 110;127 141', '183 213'  \n",
       "12583           '145 173', '124 139;175 186'  \n",
       "12584                         '0 3', '27 28'  \n",
       "12593                   '512 520', '612 622'  \n",
       "12599         '90 101', '413 425', '477 503'  \n",
       "\n",
       "[147 rows x 6 columns]"
      ]
     },
     "execution_count": 26,
     "metadata": {},
     "output_type": "execute_result"
    }
   ],
   "source": [
    "df2 = sep_case8[sep_case8['annotation'].str.contains(\"',\")]\n",
    "df2"
   ]
  },
  {
   "cell_type": "code",
   "execution_count": 27,
   "id": "36a4997b",
   "metadata": {},
   "outputs": [],
   "source": [
    "set1=set(sep_case8[sep_case8['annotation'].str.contains(\",\")].id.unique())"
   ]
  },
  {
   "cell_type": "code",
   "execution_count": 28,
   "id": "cdaac1ae",
   "metadata": {},
   "outputs": [
    {
     "data": {
      "text/plain": [
       "162"
      ]
     },
     "execution_count": 28,
     "metadata": {},
     "output_type": "execute_result"
    }
   ],
   "source": [
    "len(set1)"
   ]
  },
  {
   "cell_type": "code",
   "execution_count": 29,
   "id": "c22d40a7",
   "metadata": {},
   "outputs": [],
   "source": [
    "set2=set(sep_case8[sep_case8['annotation'].str.contains(\"',\")].id.unique())"
   ]
  },
  {
   "cell_type": "code",
   "execution_count": 30,
   "id": "f4c139ca",
   "metadata": {},
   "outputs": [
    {
     "data": {
      "text/plain": [
       "147"
      ]
     },
     "execution_count": 30,
     "metadata": {},
     "output_type": "execute_result"
    }
   ],
   "source": [
    "len(set2)"
   ]
  },
  {
   "cell_type": "code",
   "execution_count": 31,
   "id": "4b47141e",
   "metadata": {},
   "outputs": [
    {
     "data": {
      "text/plain": [
       "{'80042_801',\n",
       " '80357_803',\n",
       " '80950_810',\n",
       " '81445_810',\n",
       " '81672_813',\n",
       " '81811_803',\n",
       " '81856_803',\n",
       " '81900_801',\n",
       " '81979_809',\n",
       " '81984_803',\n",
       " '81984_813',\n",
       " '81985_806',\n",
       " '82022_801',\n",
       " '82187_808',\n",
       " '83376_810'}"
      ]
     },
     "execution_count": 31,
     "metadata": {},
     "output_type": "execute_result"
    }
   ],
   "source": [
    "set1-set2"
   ]
  },
  {
   "cell_type": "code",
   "execution_count": 32,
   "id": "93ae13d3",
   "metadata": {},
   "outputs": [
    {
     "data": {
      "text/html": [
       "<div>\n",
       "<style scoped>\n",
       "    .dataframe tbody tr th:only-of-type {\n",
       "        vertical-align: middle;\n",
       "    }\n",
       "\n",
       "    .dataframe tbody tr th {\n",
       "        vertical-align: top;\n",
       "    }\n",
       "\n",
       "    .dataframe thead th {\n",
       "        text-align: right;\n",
       "    }\n",
       "</style>\n",
       "<table border=\"1\" class=\"dataframe\">\n",
       "  <thead>\n",
       "    <tr style=\"text-align: right;\">\n",
       "      <th></th>\n",
       "      <th>id</th>\n",
       "      <th>case_num</th>\n",
       "      <th>pn_num</th>\n",
       "      <th>feature_num</th>\n",
       "      <th>annotation</th>\n",
       "      <th>location</th>\n",
       "    </tr>\n",
       "  </thead>\n",
       "  <tbody>\n",
       "    <tr>\n",
       "      <th>10819</th>\n",
       "      <td>80042_801</td>\n",
       "      <td>8</td>\n",
       "      <td>80042</td>\n",
       "      <td>801</td>\n",
       "      <td>'At that time, her son passed away'</td>\n",
       "      <td>'168 201'</td>\n",
       "    </tr>\n",
       "  </tbody>\n",
       "</table>\n",
       "</div>"
      ],
      "text/plain": [
       "              id  case_num  pn_num  feature_num  \\\n",
       "10819  80042_801         8   80042          801   \n",
       "\n",
       "                                annotation   location  \n",
       "10819  'At that time, her son passed away'  '168 201'  "
      ]
     },
     "execution_count": 32,
     "metadata": {},
     "output_type": "execute_result"
    }
   ],
   "source": [
    "sep_case8[sep_case8.id=='80042_801']"
   ]
  },
  {
   "cell_type": "code",
   "execution_count": 33,
   "id": "f3fad512",
   "metadata": {},
   "outputs": [],
   "source": [
    "sep_case8.loc[sep_case8[\"annotation\"] == \"'At that time, her son passed away'\",\"annotation\"] = \"'At that time  her son passed away'\""
   ]
  },
  {
   "cell_type": "code",
   "execution_count": 34,
   "id": "19bc1f70",
   "metadata": {},
   "outputs": [
    {
     "data": {
      "text/plain": [
       "\"'hearing distant music and talking at neighbors house, but no one was there'\""
      ]
     },
     "execution_count": 34,
     "metadata": {},
     "output_type": "execute_result"
    }
   ],
   "source": [
    "sep_case8[sep_case8.id=='80357_803'].annotation.values[0]"
   ]
  },
  {
   "cell_type": "code",
   "execution_count": 35,
   "id": "920184de",
   "metadata": {},
   "outputs": [],
   "source": [
    "sep_case8.loc[sep_case8[\"annotation\"] == \"'hearing distant music and talking at neighbors house, but no one was there'\",\"annotation\"] = \"'hearing distant music and talking at neighbors house  but no one was there'\""
   ]
  },
  {
   "cell_type": "code",
   "execution_count": 36,
   "id": "4617d7e3",
   "metadata": {},
   "outputs": [
    {
     "data": {
      "text/html": [
       "<div>\n",
       "<style scoped>\n",
       "    .dataframe tbody tr th:only-of-type {\n",
       "        vertical-align: middle;\n",
       "    }\n",
       "\n",
       "    .dataframe tbody tr th {\n",
       "        vertical-align: top;\n",
       "    }\n",
       "\n",
       "    .dataframe thead th {\n",
       "        text-align: right;\n",
       "    }\n",
       "</style>\n",
       "<table border=\"1\" class=\"dataframe\">\n",
       "  <thead>\n",
       "    <tr style=\"text-align: right;\">\n",
       "      <th></th>\n",
       "      <th>id</th>\n",
       "      <th>case_num</th>\n",
       "      <th>pn_num</th>\n",
       "      <th>feature_num</th>\n",
       "      <th>annotation</th>\n",
       "      <th>location</th>\n",
       "    </tr>\n",
       "  </thead>\n",
       "  <tbody>\n",
       "    <tr>\n",
       "      <th>11224</th>\n",
       "      <td>80950_810</td>\n",
       "      <td>8</td>\n",
       "      <td>80950</td>\n",
       "      <td>810</td>\n",
       "      <td>'AMBIEN- STARTED 5 DAYS AGO, NOT HELPED SLEEP'</td>\n",
       "      <td>'597 641'</td>\n",
       "    </tr>\n",
       "  </tbody>\n",
       "</table>\n",
       "</div>"
      ],
      "text/plain": [
       "              id  case_num  pn_num  feature_num  \\\n",
       "11224  80950_810         8   80950          810   \n",
       "\n",
       "                                           annotation   location  \n",
       "11224  'AMBIEN- STARTED 5 DAYS AGO, NOT HELPED SLEEP'  '597 641'  "
      ]
     },
     "execution_count": 36,
     "metadata": {},
     "output_type": "execute_result"
    }
   ],
   "source": [
    "sep_case8[sep_case8.id=='80950_810']"
   ]
  },
  {
   "cell_type": "code",
   "execution_count": 37,
   "id": "03cdceba",
   "metadata": {},
   "outputs": [],
   "source": [
    "sep_case8.loc[sep_case8[\"annotation\"] == \"'AMBIEN- STARTED 5 DAYS AGO, NOT HELPED SLEEP'\",\"annotation\"] = \"'AMBIEN- STARTED 5 DAYS AGO  NOT HELPED SLEEP'\""
   ]
  },
  {
   "cell_type": "code",
   "execution_count": 38,
   "id": "c0330f57",
   "metadata": {},
   "outputs": [
    {
     "data": {
      "text/html": [
       "<div>\n",
       "<style scoped>\n",
       "    .dataframe tbody tr th:only-of-type {\n",
       "        vertical-align: middle;\n",
       "    }\n",
       "\n",
       "    .dataframe tbody tr th {\n",
       "        vertical-align: top;\n",
       "    }\n",
       "\n",
       "    .dataframe thead th {\n",
       "        text-align: right;\n",
       "    }\n",
       "</style>\n",
       "<table border=\"1\" class=\"dataframe\">\n",
       "  <thead>\n",
       "    <tr style=\"text-align: right;\">\n",
       "      <th></th>\n",
       "      <th>id</th>\n",
       "      <th>case_num</th>\n",
       "      <th>pn_num</th>\n",
       "      <th>feature_num</th>\n",
       "      <th>annotation</th>\n",
       "      <th>location</th>\n",
       "    </tr>\n",
       "  </thead>\n",
       "  <tbody>\n",
       "    <tr>\n",
       "      <th>11386</th>\n",
       "      <td>81445_810</td>\n",
       "      <td>8</td>\n",
       "      <td>81445</td>\n",
       "      <td>810</td>\n",
       "      <td>'ambien, did not help'</td>\n",
       "      <td>'372 392'</td>\n",
       "    </tr>\n",
       "  </tbody>\n",
       "</table>\n",
       "</div>"
      ],
      "text/plain": [
       "              id  case_num  pn_num  feature_num              annotation  \\\n",
       "11386  81445_810         8   81445          810  'ambien, did not help'   \n",
       "\n",
       "        location  \n",
       "11386  '372 392'  "
      ]
     },
     "execution_count": 38,
     "metadata": {},
     "output_type": "execute_result"
    }
   ],
   "source": [
    "sep_case8[sep_case8.id=='81445_810']"
   ]
  },
  {
   "cell_type": "code",
   "execution_count": 39,
   "id": "2a34ca92",
   "metadata": {},
   "outputs": [],
   "source": [
    "sep_case8.loc[sep_case8[\"annotation\"] == \"'ambien, did not help'\",\"annotation\"] = \"'ambien  did not help'\""
   ]
  },
  {
   "cell_type": "code",
   "execution_count": 40,
   "id": "54b387db",
   "metadata": {},
   "outputs": [
    {
     "data": {
      "text/plain": [
       "'\\'\"saw her son\" in the living room, although she knew he was not there\\''"
      ]
     },
     "execution_count": 40,
     "metadata": {},
     "output_type": "execute_result"
    }
   ],
   "source": [
    "sep_case8[sep_case8.id=='81672_813'].annotation.values[0]"
   ]
  },
  {
   "cell_type": "code",
   "execution_count": 41,
   "id": "5de15373",
   "metadata": {},
   "outputs": [],
   "source": [
    "sep_case8.loc[sep_case8[\"annotation\"] == \"\"'\\'\"saw her son\" in the living room, although she knew he was not there\\''\"\",\"annotation\"] = \"\"'\\'\"saw her son\" in the living room  although she knew he was not there\\''\"\""
   ]
  },
  {
   "cell_type": "code",
   "execution_count": 42,
   "id": "e9d7b9e3",
   "metadata": {},
   "outputs": [
    {
     "data": {
      "text/plain": [
       "\"'heard sounds of party from neighbor previous night, though neightbor states there was no party'\""
      ]
     },
     "execution_count": 42,
     "metadata": {},
     "output_type": "execute_result"
    }
   ],
   "source": [
    "sep_case8[sep_case8.id=='81811_803'].annotation.values[0]"
   ]
  },
  {
   "cell_type": "code",
   "execution_count": 43,
   "id": "dc2a5be2",
   "metadata": {},
   "outputs": [],
   "source": [
    "sep_case8.loc[sep_case8[\"annotation\"] == \"'heard sounds of party from neighbor previous night, though neightbor states there was no party'\",\"annotation\"] = \"'heard sounds of party from neighbor previous night  though neightbor states there was no party'\""
   ]
  },
  {
   "cell_type": "code",
   "execution_count": 44,
   "id": "6f37fdc9",
   "metadata": {},
   "outputs": [
    {
     "data": {
      "text/plain": [
       "\"'hearing late-night parties, which she knows are not real'\""
      ]
     },
     "execution_count": 44,
     "metadata": {},
     "output_type": "execute_result"
    }
   ],
   "source": [
    "sep_case8[sep_case8.id=='81856_803'].annotation.values[0]"
   ]
  },
  {
   "cell_type": "code",
   "execution_count": 45,
   "id": "9da41b96",
   "metadata": {},
   "outputs": [],
   "source": [
    "sep_case8.loc[sep_case8[\"annotation\"] == \"'hearing late-night parties, which she knows are not real'\",\"annotation\"] = \"'hearing late-night parties  which she knows are not real'\""
   ]
  },
  {
   "cell_type": "code",
   "execution_count": 46,
   "id": "de2354d4",
   "metadata": {},
   "outputs": [
    {
     "data": {
      "text/html": [
       "<div>\n",
       "<style scoped>\n",
       "    .dataframe tbody tr th:only-of-type {\n",
       "        vertical-align: middle;\n",
       "    }\n",
       "\n",
       "    .dataframe tbody tr th {\n",
       "        vertical-align: top;\n",
       "    }\n",
       "\n",
       "    .dataframe thead th {\n",
       "        text-align: right;\n",
       "    }\n",
       "</style>\n",
       "<table border=\"1\" class=\"dataframe\">\n",
       "  <thead>\n",
       "    <tr style=\"text-align: right;\">\n",
       "      <th></th>\n",
       "      <th>id</th>\n",
       "      <th>case_num</th>\n",
       "      <th>pn_num</th>\n",
       "      <th>feature_num</th>\n",
       "      <th>annotation</th>\n",
       "      <th>location</th>\n",
       "    </tr>\n",
       "  </thead>\n",
       "  <tbody>\n",
       "    <tr>\n",
       "      <th>11611</th>\n",
       "      <td>81900_801</td>\n",
       "      <td>8</td>\n",
       "      <td>81900</td>\n",
       "      <td>801</td>\n",
       "      <td>'3WKS, STARTED AFTER SHE LOST HER SON'</td>\n",
       "      <td>'41 77'</td>\n",
       "    </tr>\n",
       "  </tbody>\n",
       "</table>\n",
       "</div>"
      ],
      "text/plain": [
       "              id  case_num  pn_num  feature_num  \\\n",
       "11611  81900_801         8   81900          801   \n",
       "\n",
       "                                   annotation location  \n",
       "11611  '3WKS, STARTED AFTER SHE LOST HER SON'  '41 77'  "
      ]
     },
     "execution_count": 46,
     "metadata": {},
     "output_type": "execute_result"
    }
   ],
   "source": [
    "sep_case8[sep_case8.id=='81900_801']"
   ]
  },
  {
   "cell_type": "code",
   "execution_count": 47,
   "id": "72c3f073",
   "metadata": {},
   "outputs": [],
   "source": [
    "sep_case8.loc[sep_case8[\"annotation\"] == \"'3WKS, STARTED AFTER SHE LOST HER SON'\",\"annotation\"] = \"'3WKS  STARTED AFTER SHE LOST HER SON'\""
   ]
  },
  {
   "cell_type": "code",
   "execution_count": 48,
   "id": "a33b966e",
   "metadata": {},
   "outputs": [
    {
     "data": {
      "text/plain": [
       "\"'tried to take naps during the day, but has been unable to fall asleep'\""
      ]
     },
     "execution_count": 48,
     "metadata": {},
     "output_type": "execute_result"
    }
   ],
   "source": [
    "sep_case8[sep_case8.id=='81979_809'].annotation.values[0]"
   ]
  },
  {
   "cell_type": "code",
   "execution_count": 49,
   "id": "9d8a1838",
   "metadata": {},
   "outputs": [],
   "source": [
    "sep_case8.loc[sep_case8[\"annotation\"] == \"'tried to take naps during the day, but has been unable to fall asleep'\",\"annotation\"] = \"'tried to take naps during the day  but has been unable to fall asleep'\""
   ]
  },
  {
   "cell_type": "code",
   "execution_count": 50,
   "id": "3e580467",
   "metadata": {},
   "outputs": [
    {
     "data": {
      "text/plain": [
       "'\\'heard loud \"party like noises\" from neighbor\\\\\\'s house 2 nights ago, but neighbor did not have a party\\''"
      ]
     },
     "execution_count": 50,
     "metadata": {},
     "output_type": "execute_result"
    }
   ],
   "source": [
    "sep_case8[sep_case8.id=='81984_803'].annotation.values[0]"
   ]
  },
  {
   "cell_type": "code",
   "execution_count": 51,
   "id": "a33d387d",
   "metadata": {},
   "outputs": [],
   "source": [
    "sep_case8.loc[sep_case8[\"annotation\"] == \"\"'\\'heard loud \"party like noises\" from neighbor\\\\\\'s house 2 nights ago, but neighbor did not have a party\\''\"\",\"annotation\"] = \"\"'\\'heard loud \"party like noises\" from neighbor\\\\\\'s house 2 nights ago  but neighbor did not have a party\\''\"\""
   ]
  },
  {
   "cell_type": "code",
   "execution_count": 52,
   "id": "18e5bd22",
   "metadata": {},
   "outputs": [
    {
     "data": {
      "text/plain": [
       "'\"saw her son at the kitchen table 4 days ago, but knows he wasn\\'t there\"'"
      ]
     },
     "execution_count": 52,
     "metadata": {},
     "output_type": "execute_result"
    }
   ],
   "source": [
    "sep_case8[sep_case8.id=='81984_813'].annotation.values[0]"
   ]
  },
  {
   "cell_type": "code",
   "execution_count": 53,
   "id": "b9ce459d",
   "metadata": {},
   "outputs": [],
   "source": [
    "sep_case8.loc[sep_case8[\"annotation\"] == \"\"'\"saw her son at the kitchen table 4 days ago, but knows he wasn\\'t there\"'\"\",\"annotation\"] = \"\"'\"saw her son at the kitchen table 4 days ago  but knows he wasn\\'t there\"'\"\""
   ]
  },
  {
   "cell_type": "code",
   "execution_count": 54,
   "id": "dad7c8f2",
   "metadata": {},
   "outputs": [
    {
     "data": {
      "text/html": [
       "<div>\n",
       "<style scoped>\n",
       "    .dataframe tbody tr th:only-of-type {\n",
       "        vertical-align: middle;\n",
       "    }\n",
       "\n",
       "    .dataframe tbody tr th {\n",
       "        vertical-align: top;\n",
       "    }\n",
       "\n",
       "    .dataframe thead th {\n",
       "        text-align: right;\n",
       "    }\n",
       "</style>\n",
       "<table border=\"1\" class=\"dataframe\">\n",
       "  <thead>\n",
       "    <tr style=\"text-align: right;\">\n",
       "      <th></th>\n",
       "      <th>id</th>\n",
       "      <th>case_num</th>\n",
       "      <th>pn_num</th>\n",
       "      <th>feature_num</th>\n",
       "      <th>annotation</th>\n",
       "      <th>location</th>\n",
       "    </tr>\n",
       "  </thead>\n",
       "  <tbody>\n",
       "    <tr>\n",
       "      <th>11670</th>\n",
       "      <td>81985_806</td>\n",
       "      <td>8</td>\n",
       "      <td>81985</td>\n",
       "      <td>806</td>\n",
       "      <td>'goes to bed at 11 PM, falls asleep at midnight'</td>\n",
       "      <td>'358 404'</td>\n",
       "    </tr>\n",
       "  </tbody>\n",
       "</table>\n",
       "</div>"
      ],
      "text/plain": [
       "              id  case_num  pn_num  feature_num  \\\n",
       "11670  81985_806         8   81985          806   \n",
       "\n",
       "                                             annotation   location  \n",
       "11670  'goes to bed at 11 PM, falls asleep at midnight'  '358 404'  "
      ]
     },
     "execution_count": 54,
     "metadata": {},
     "output_type": "execute_result"
    }
   ],
   "source": [
    "sep_case8[sep_case8.id=='81985_806']"
   ]
  },
  {
   "cell_type": "code",
   "execution_count": 55,
   "id": "8e9093b3",
   "metadata": {},
   "outputs": [],
   "source": [
    "sep_case8.loc[sep_case8[\"annotation\"] == \"'goes to bed at 11 PM, falls asleep at midnight'\",\"annotation\"] = \"'goes to bed at 11 PM  falls asleep at midnight'\""
   ]
  },
  {
   "cell_type": "code",
   "execution_count": 56,
   "id": "7daa7ac0",
   "metadata": {},
   "outputs": [
    {
     "data": {
      "text/html": [
       "<div>\n",
       "<style scoped>\n",
       "    .dataframe tbody tr th:only-of-type {\n",
       "        vertical-align: middle;\n",
       "    }\n",
       "\n",
       "    .dataframe tbody tr th {\n",
       "        vertical-align: top;\n",
       "    }\n",
       "\n",
       "    .dataframe thead th {\n",
       "        text-align: right;\n",
       "    }\n",
       "</style>\n",
       "<table border=\"1\" class=\"dataframe\">\n",
       "  <thead>\n",
       "    <tr style=\"text-align: right;\">\n",
       "      <th></th>\n",
       "      <th>id</th>\n",
       "      <th>case_num</th>\n",
       "      <th>pn_num</th>\n",
       "      <th>feature_num</th>\n",
       "      <th>annotation</th>\n",
       "      <th>location</th>\n",
       "    </tr>\n",
       "  </thead>\n",
       "  <tbody>\n",
       "    <tr>\n",
       "      <th>11701</th>\n",
       "      <td>82022_801</td>\n",
       "      <td>8</td>\n",
       "      <td>82022</td>\n",
       "      <td>801</td>\n",
       "      <td>'October 13, her only son passed away'</td>\n",
       "      <td>'169 193;202 213'</td>\n",
       "    </tr>\n",
       "  </tbody>\n",
       "</table>\n",
       "</div>"
      ],
      "text/plain": [
       "              id  case_num  pn_num  feature_num  \\\n",
       "11701  82022_801         8   82022          801   \n",
       "\n",
       "                                   annotation           location  \n",
       "11701  'October 13, her only son passed away'  '169 193;202 213'  "
      ]
     },
     "execution_count": 56,
     "metadata": {},
     "output_type": "execute_result"
    }
   ],
   "source": [
    "sep_case8[sep_case8.id=='82022_801']"
   ]
  },
  {
   "cell_type": "code",
   "execution_count": 57,
   "id": "290f599b",
   "metadata": {},
   "outputs": [],
   "source": [
    "sep_case8.loc[sep_case8[\"annotation\"] == \"'October 13, her only son passed away'\",\"annotation\"] = \"'October 13  her only son passed away'\""
   ]
  },
  {
   "cell_type": "code",
   "execution_count": 58,
   "id": "9844b79b",
   "metadata": {},
   "outputs": [
    {
     "data": {
      "text/html": [
       "<div>\n",
       "<style scoped>\n",
       "    .dataframe tbody tr th:only-of-type {\n",
       "        vertical-align: middle;\n",
       "    }\n",
       "\n",
       "    .dataframe tbody tr th {\n",
       "        vertical-align: top;\n",
       "    }\n",
       "\n",
       "    .dataframe thead th {\n",
       "        text-align: right;\n",
       "    }\n",
       "</style>\n",
       "<table border=\"1\" class=\"dataframe\">\n",
       "  <thead>\n",
       "    <tr style=\"text-align: right;\">\n",
       "      <th></th>\n",
       "      <th>id</th>\n",
       "      <th>case_num</th>\n",
       "      <th>pn_num</th>\n",
       "      <th>feature_num</th>\n",
       "      <th>annotation</th>\n",
       "      <th>location</th>\n",
       "    </tr>\n",
       "  </thead>\n",
       "  <tbody>\n",
       "    <tr>\n",
       "      <th>11780</th>\n",
       "      <td>82187_808</td>\n",
       "      <td>8</td>\n",
       "      <td>82187</td>\n",
       "      <td>808</td>\n",
       "      <td>'3 weeks ago, and since that time'</td>\n",
       "      <td>'81 113'</td>\n",
       "    </tr>\n",
       "  </tbody>\n",
       "</table>\n",
       "</div>"
      ],
      "text/plain": [
       "              id  case_num  pn_num  feature_num  \\\n",
       "11780  82187_808         8   82187          808   \n",
       "\n",
       "                               annotation  location  \n",
       "11780  '3 weeks ago, and since that time'  '81 113'  "
      ]
     },
     "execution_count": 58,
     "metadata": {},
     "output_type": "execute_result"
    }
   ],
   "source": [
    "sep_case8[sep_case8.id=='82187_808']"
   ]
  },
  {
   "cell_type": "code",
   "execution_count": 59,
   "id": "43a2517a",
   "metadata": {},
   "outputs": [],
   "source": [
    "sep_case8.loc[sep_case8[\"annotation\"] == \"'3 weeks ago, and since that time'\",\"annotation\"] = \"'3 weeks ago  and since that time'\""
   ]
  },
  {
   "cell_type": "code",
   "execution_count": 60,
   "id": "a2b01319",
   "metadata": {},
   "outputs": [
    {
     "data": {
      "text/plain": [
       "\"'tried some medications for her sleep, but nothing helped'\""
      ]
     },
     "execution_count": 60,
     "metadata": {},
     "output_type": "execute_result"
    }
   ],
   "source": [
    "sep_case8[sep_case8.id=='83376_810'].annotation.values[0]"
   ]
  },
  {
   "cell_type": "code",
   "execution_count": 61,
   "id": "77725d74",
   "metadata": {},
   "outputs": [],
   "source": [
    "sep_case8.loc[sep_case8[\"annotation\"] == \"'tried some medications for her sleep, but nothing helped'\",\"annotation\"] = \"'tried some medications for her sleep  but nothing helped'\""
   ]
  },
  {
   "cell_type": "code",
   "execution_count": 63,
   "id": "9e72f6cb",
   "metadata": {},
   "outputs": [],
   "source": [
    "sep_case8.loc[sep_case8[\"annotation\"] == \"'USED TO TAKE 15 MINUTES, NOW TAKES AN HOUR', 'DIFFICULTY FALLING ASLEEP'\",\"annotation\"] = \"'USED TO TAKE 15 MINUTES  NOW TAKES AN HOUR', 'DIFFICULTY FALLING ASLEEP'\""
   ]
  },
  {
   "cell_type": "code",
   "execution_count": 64,
   "id": "86887b30",
   "metadata": {},
   "outputs": [],
   "source": [
    "# 11220 'USED TO TAKE 15 MINUTES, NOW TAKES AN HOUR', 'DIFFICULTY FALLING ASLEEP' '97 139', '70 95'"
   ]
  },
  {
   "cell_type": "code",
   "execution_count": 65,
   "id": "4941fdc9",
   "metadata": {},
   "outputs": [],
   "source": [
    "# 12347 'difficulty sleeping', 'Baseline sleep 8hrs, but now only gets 4-5hrs sleep' '77 96', '142 193' "
   ]
  },
  {
   "cell_type": "code",
   "execution_count": 66,
   "id": "51f71560",
   "metadata": {},
   "outputs": [],
   "source": [
    "# 12473 'difficulty sleeping', 'gets 4-5 hours per night of restless, intermittent sleep' '60 79', '101 157'"
   ]
  },
  {
   "cell_type": "code",
   "execution_count": 67,
   "id": "85357643",
   "metadata": {},
   "outputs": [],
   "source": [
    "sep_case8.loc[sep_case8[\"annotation\"] == \"'difficulty sleeping', 'gets 4-5 hours per night of restless, intermittent sleep'\",\"annotation\"] = \"'difficulty sleeping', 'gets 4-5 hours per night of restless  intermittent sleep'\""
   ]
  },
  {
   "cell_type": "code",
   "execution_count": 68,
   "id": "545a43e3",
   "metadata": {},
   "outputs": [],
   "source": [
    "sep_case8.loc[sep_case8[\"annotation\"] == \"'difficulty sleeping', 'Baseline sleep 8hrs, but now only gets 4-5hrs sleep'\",\"annotation\"] = \"'difficulty sleeping', 'Baseline sleep 8hrs  but now only gets 4-5hrs sleep'\""
   ]
  },
  {
   "cell_type": "code",
   "execution_count": 69,
   "id": "038ad790",
   "metadata": {},
   "outputs": [],
   "source": [
    "sep_case8 = sep_case8.drop([\"id\"],axis= 1)"
   ]
  },
  {
   "cell_type": "code",
   "execution_count": 70,
   "id": "f255c42f",
   "metadata": {},
   "outputs": [],
   "source": [
    "sep_case8 = sep_case8.drop([\"case_num\"],axis= 1)"
   ]
  },
  {
   "cell_type": "code",
   "execution_count": 71,
   "id": "7b3d6394",
   "metadata": {},
   "outputs": [],
   "source": [
    "sep_case8 = (sep_case8.set_index(['pn_num',\"feature_num\"]) \n",
    "   .apply(lambda col: col.str.split(\",\").explode())\n",
    "   .reset_index()\n",
    "   .reindex(sep_case8.columns, axis=1))"
   ]
  },
  {
   "cell_type": "code",
   "execution_count": 72,
   "id": "33ef9cda",
   "metadata": {},
   "outputs": [
    {
     "data": {
      "text/html": [
       "<div>\n",
       "<style scoped>\n",
       "    .dataframe tbody tr th:only-of-type {\n",
       "        vertical-align: middle;\n",
       "    }\n",
       "\n",
       "    .dataframe tbody tr th {\n",
       "        vertical-align: top;\n",
       "    }\n",
       "\n",
       "    .dataframe thead th {\n",
       "        text-align: right;\n",
       "    }\n",
       "</style>\n",
       "<table border=\"1\" class=\"dataframe\">\n",
       "  <thead>\n",
       "    <tr style=\"text-align: right;\">\n",
       "      <th></th>\n",
       "      <th>pn_num</th>\n",
       "      <th>feature_num</th>\n",
       "      <th>annotation</th>\n",
       "      <th>location</th>\n",
       "    </tr>\n",
       "  </thead>\n",
       "  <tbody>\n",
       "    <tr>\n",
       "      <th>0</th>\n",
       "      <td>80039</td>\n",
       "      <td>800</td>\n",
       "      <td>'appetite has increased'</td>\n",
       "      <td>'468 490'</td>\n",
       "    </tr>\n",
       "    <tr>\n",
       "      <th>1</th>\n",
       "      <td>80039</td>\n",
       "      <td>800</td>\n",
       "      <td>'eating more'</td>\n",
       "      <td>'502 513'</td>\n",
       "    </tr>\n",
       "    <tr>\n",
       "      <th>2</th>\n",
       "      <td>80039</td>\n",
       "      <td>801</td>\n",
       "      <td>'son past away at the end of June'</td>\n",
       "      <td>'171 203'</td>\n",
       "    </tr>\n",
       "    <tr>\n",
       "      <th>3</th>\n",
       "      <td>80039</td>\n",
       "      <td>802</td>\n",
       "      <td>'woman'</td>\n",
       "      <td>'27 32'</td>\n",
       "    </tr>\n",
       "    <tr>\n",
       "      <th>4</th>\n",
       "      <td>80039</td>\n",
       "      <td>804</td>\n",
       "      <td>'tossing and turning'</td>\n",
       "      <td>'124 143'</td>\n",
       "    </tr>\n",
       "  </tbody>\n",
       "</table>\n",
       "</div>"
      ],
      "text/plain": [
       "   pn_num  feature_num                          annotation    location\n",
       "0   80039          800            'appetite has increased'   '468 490'\n",
       "1   80039          800                       'eating more'   '502 513'\n",
       "2   80039          801  'son past away at the end of June'   '171 203'\n",
       "3   80039          802                             'woman'     '27 32'\n",
       "4   80039          804               'tossing and turning'   '124 143'"
      ]
     },
     "execution_count": 72,
     "metadata": {},
     "output_type": "execute_result"
    }
   ],
   "source": [
    "sep_case8.head()"
   ]
  },
  {
   "cell_type": "code",
   "execution_count": 73,
   "id": "bf026b0f",
   "metadata": {},
   "outputs": [
    {
     "data": {
      "text/plain": [
       "(60, 4)"
      ]
     },
     "execution_count": 73,
     "metadata": {},
     "output_type": "execute_result"
    }
   ],
   "source": [
    "df_803 = df[df[\"feature_num\"] == 803].sample(n = 60, random_state = 100)\n",
    "df_803.shape"
   ]
  },
  {
   "cell_type": "code",
   "execution_count": 74,
   "id": "25c402c3",
   "metadata": {},
   "outputs": [
    {
     "data": {
      "text/plain": [
       "(60, 4)"
      ]
     },
     "execution_count": 74,
     "metadata": {},
     "output_type": "execute_result"
    }
   ],
   "source": [
    "df_810 = df[df[\"feature_num\"] == 810].sample(n = 60, random_state = 100)\n",
    "df_810.shape"
   ]
  },
  {
   "cell_type": "code",
   "execution_count": 75,
   "id": "e25c429c",
   "metadata": {},
   "outputs": [
    {
     "data": {
      "text/plain": [
       "(60, 4)"
      ]
     },
     "execution_count": 75,
     "metadata": {},
     "output_type": "execute_result"
    }
   ],
   "source": [
    "df_813 = df[df[\"feature_num\"] == 813].sample(n = 60, random_state = 100)\n",
    "df_813.shape"
   ]
  },
  {
   "cell_type": "code",
   "execution_count": 76,
   "id": "45dc220a",
   "metadata": {},
   "outputs": [
    {
     "data": {
      "text/plain": [
       "(1559, 4)"
      ]
     },
     "execution_count": 76,
     "metadata": {},
     "output_type": "execute_result"
    }
   ],
   "source": [
    "case_8_803_over = pd.concat([sep_case8, df_803, df_810, df_813])\n",
    "case_8_803_over.shape"
   ]
  },
  {
   "cell_type": "code",
   "execution_count": 77,
   "id": "419ef2bb",
   "metadata": {},
   "outputs": [
    {
     "data": {
      "text/html": [
       "<div>\n",
       "<style scoped>\n",
       "    .dataframe tbody tr th:only-of-type {\n",
       "        vertical-align: middle;\n",
       "    }\n",
       "\n",
       "    .dataframe tbody tr th {\n",
       "        vertical-align: top;\n",
       "    }\n",
       "\n",
       "    .dataframe thead th {\n",
       "        text-align: right;\n",
       "    }\n",
       "</style>\n",
       "<table border=\"1\" class=\"dataframe\">\n",
       "  <thead>\n",
       "    <tr style=\"text-align: right;\">\n",
       "      <th></th>\n",
       "      <th>pn_num</th>\n",
       "      <th>annotation</th>\n",
       "      <th>location</th>\n",
       "      <th>feature_num</th>\n",
       "    </tr>\n",
       "  </thead>\n",
       "  <tbody>\n",
       "    <tr>\n",
       "      <th>7553</th>\n",
       "      <td>82525</td>\n",
       "      <td>'auditory hallucinations'</td>\n",
       "      <td>'285 308'</td>\n",
       "      <td>803</td>\n",
       "    </tr>\n",
       "    <tr>\n",
       "      <th>7829</th>\n",
       "      <td>80339</td>\n",
       "      <td>'auditory hallucinations'</td>\n",
       "      <td>'531 554'</td>\n",
       "      <td>803</td>\n",
       "    </tr>\n",
       "    <tr>\n",
       "      <th>7646</th>\n",
       "      <td>83203</td>\n",
       "      <td>'hearing voices'</td>\n",
       "      <td>'424 438'</td>\n",
       "      <td>803</td>\n",
       "    </tr>\n",
       "    <tr>\n",
       "      <th>7531</th>\n",
       "      <td>82342</td>\n",
       "      <td>'hearing voices'</td>\n",
       "      <td>'226 240'</td>\n",
       "      <td>803</td>\n",
       "    </tr>\n",
       "    <tr>\n",
       "      <th>8004</th>\n",
       "      <td>81869</td>\n",
       "      <td>'hearing voices'</td>\n",
       "      <td>'206 220'</td>\n",
       "      <td>803</td>\n",
       "    </tr>\n",
       "  </tbody>\n",
       "</table>\n",
       "</div>"
      ],
      "text/plain": [
       "      pn_num                 annotation   location  feature_num\n",
       "7553   82525  'auditory hallucinations'  '285 308'          803\n",
       "7829   80339  'auditory hallucinations'  '531 554'          803\n",
       "7646   83203           'hearing voices'  '424 438'          803\n",
       "7531   82342           'hearing voices'  '226 240'          803\n",
       "8004   81869           'hearing voices'  '206 220'          803"
      ]
     },
     "execution_count": 77,
     "metadata": {},
     "output_type": "execute_result"
    }
   ],
   "source": [
    "df_803.head()"
   ]
  },
  {
   "cell_type": "code",
   "execution_count": 78,
   "id": "5b4e65d1",
   "metadata": {},
   "outputs": [
    {
     "data": {
      "text/html": [
       "<div>\n",
       "<style scoped>\n",
       "    .dataframe tbody tr th:only-of-type {\n",
       "        vertical-align: middle;\n",
       "    }\n",
       "\n",
       "    .dataframe tbody tr th {\n",
       "        vertical-align: top;\n",
       "    }\n",
       "\n",
       "    .dataframe thead th {\n",
       "        text-align: right;\n",
       "    }\n",
       "</style>\n",
       "<table border=\"1\" class=\"dataframe\">\n",
       "  <thead>\n",
       "    <tr style=\"text-align: right;\">\n",
       "      <th></th>\n",
       "      <th>pn_num</th>\n",
       "      <th>feature_num</th>\n",
       "      <th>annotation</th>\n",
       "      <th>location</th>\n",
       "    </tr>\n",
       "  </thead>\n",
       "  <tbody>\n",
       "    <tr>\n",
       "      <th>0</th>\n",
       "      <td>80039</td>\n",
       "      <td>800</td>\n",
       "      <td>'appetite has increased'</td>\n",
       "      <td>'468 490'</td>\n",
       "    </tr>\n",
       "    <tr>\n",
       "      <th>1</th>\n",
       "      <td>80039</td>\n",
       "      <td>800</td>\n",
       "      <td>'eating more'</td>\n",
       "      <td>'502 513'</td>\n",
       "    </tr>\n",
       "    <tr>\n",
       "      <th>2</th>\n",
       "      <td>80039</td>\n",
       "      <td>801</td>\n",
       "      <td>'son past away at the end of June'</td>\n",
       "      <td>'171 203'</td>\n",
       "    </tr>\n",
       "    <tr>\n",
       "      <th>3</th>\n",
       "      <td>80039</td>\n",
       "      <td>802</td>\n",
       "      <td>'woman'</td>\n",
       "      <td>'27 32'</td>\n",
       "    </tr>\n",
       "    <tr>\n",
       "      <th>4</th>\n",
       "      <td>80039</td>\n",
       "      <td>804</td>\n",
       "      <td>'tossing and turning'</td>\n",
       "      <td>'124 143'</td>\n",
       "    </tr>\n",
       "  </tbody>\n",
       "</table>\n",
       "</div>"
      ],
      "text/plain": [
       "   pn_num  feature_num                          annotation    location\n",
       "0   80039          800            'appetite has increased'   '468 490'\n",
       "1   80039          800                       'eating more'   '502 513'\n",
       "2   80039          801  'son past away at the end of June'   '171 203'\n",
       "3   80039          802                             'woman'     '27 32'\n",
       "4   80039          804               'tossing and turning'   '124 143'"
      ]
     },
     "execution_count": 78,
     "metadata": {},
     "output_type": "execute_result"
    }
   ],
   "source": [
    "case_8_803_over.head()"
   ]
  },
  {
   "cell_type": "markdown",
   "id": "02416431",
   "metadata": {},
   "source": [
    "#### Seperating start location and end location"
   ]
  },
  {
   "cell_type": "code",
   "execution_count": 79,
   "id": "b2afc255",
   "metadata": {},
   "outputs": [],
   "source": [
    "case_8_803_over[\"start_location\"] = case_8_803_over[\"location\"].apply(lambda x: x.split()[0][1:])"
   ]
  },
  {
   "cell_type": "code",
   "execution_count": 80,
   "id": "44294aeb",
   "metadata": {},
   "outputs": [],
   "source": [
    "case_8_803_over[\"end_location\"] = case_8_803_over[\"location\"].apply(lambda x: x.split()[-1][:-1])"
   ]
  },
  {
   "cell_type": "markdown",
   "id": "f6c98d9b",
   "metadata": {},
   "source": [
    "#### Combinig Datasets"
   ]
  },
  {
   "cell_type": "code",
   "execution_count": 81,
   "id": "744f9fe1",
   "metadata": {},
   "outputs": [
    {
     "data": {
      "text/html": [
       "<div>\n",
       "<style scoped>\n",
       "    .dataframe tbody tr th:only-of-type {\n",
       "        vertical-align: middle;\n",
       "    }\n",
       "\n",
       "    .dataframe tbody tr th {\n",
       "        vertical-align: top;\n",
       "    }\n",
       "\n",
       "    .dataframe thead th {\n",
       "        text-align: right;\n",
       "    }\n",
       "</style>\n",
       "<table border=\"1\" class=\"dataframe\">\n",
       "  <thead>\n",
       "    <tr style=\"text-align: right;\">\n",
       "      <th></th>\n",
       "      <th>pn_num</th>\n",
       "      <th>feature_num</th>\n",
       "      <th>annotation</th>\n",
       "      <th>location</th>\n",
       "      <th>start_location</th>\n",
       "      <th>end_location</th>\n",
       "      <th>case_num</th>\n",
       "      <th>pn_history</th>\n",
       "    </tr>\n",
       "  </thead>\n",
       "  <tbody>\n",
       "    <tr>\n",
       "      <th>0</th>\n",
       "      <td>80039</td>\n",
       "      <td>800</td>\n",
       "      <td>'appetite has increased'</td>\n",
       "      <td>'468 490'</td>\n",
       "      <td>468</td>\n",
       "      <td>490</td>\n",
       "      <td>8</td>\n",
       "      <td>Loraine Wicks is a 67 y.o. woman here for diff...</td>\n",
       "    </tr>\n",
       "    <tr>\n",
       "      <th>1</th>\n",
       "      <td>80039</td>\n",
       "      <td>800</td>\n",
       "      <td>'eating more'</td>\n",
       "      <td>'502 513'</td>\n",
       "      <td>502</td>\n",
       "      <td>513</td>\n",
       "      <td>8</td>\n",
       "      <td>Loraine Wicks is a 67 y.o. woman here for diff...</td>\n",
       "    </tr>\n",
       "    <tr>\n",
       "      <th>2</th>\n",
       "      <td>80039</td>\n",
       "      <td>801</td>\n",
       "      <td>'son past away at the end of June'</td>\n",
       "      <td>'171 203'</td>\n",
       "      <td>171</td>\n",
       "      <td>203</td>\n",
       "      <td>8</td>\n",
       "      <td>Loraine Wicks is a 67 y.o. woman here for diff...</td>\n",
       "    </tr>\n",
       "    <tr>\n",
       "      <th>3</th>\n",
       "      <td>80039</td>\n",
       "      <td>802</td>\n",
       "      <td>'woman'</td>\n",
       "      <td>'27 32'</td>\n",
       "      <td>27</td>\n",
       "      <td>32</td>\n",
       "      <td>8</td>\n",
       "      <td>Loraine Wicks is a 67 y.o. woman here for diff...</td>\n",
       "    </tr>\n",
       "    <tr>\n",
       "      <th>4</th>\n",
       "      <td>80039</td>\n",
       "      <td>804</td>\n",
       "      <td>'tossing and turning'</td>\n",
       "      <td>'124 143'</td>\n",
       "      <td>124</td>\n",
       "      <td>143</td>\n",
       "      <td>8</td>\n",
       "      <td>Loraine Wicks is a 67 y.o. woman here for diff...</td>\n",
       "    </tr>\n",
       "    <tr>\n",
       "      <th>...</th>\n",
       "      <td>...</td>\n",
       "      <td>...</td>\n",
       "      <td>...</td>\n",
       "      <td>...</td>\n",
       "      <td>...</td>\n",
       "      <td>...</td>\n",
       "      <td>...</td>\n",
       "      <td>...</td>\n",
       "    </tr>\n",
       "    <tr>\n",
       "      <th>1554</th>\n",
       "      <td>83573</td>\n",
       "      <td>813</td>\n",
       "      <td>'visual hallucination'</td>\n",
       "      <td>'167 187'</td>\n",
       "      <td>167</td>\n",
       "      <td>187</td>\n",
       "      <td>8</td>\n",
       "      <td>CC- trouble sleeping\\r\\nHPI-67yo F with troubl...</td>\n",
       "    </tr>\n",
       "    <tr>\n",
       "      <th>1555</th>\n",
       "      <td>82365</td>\n",
       "      <td>813</td>\n",
       "      <td>'seeing her son'</td>\n",
       "      <td>'576 590'</td>\n",
       "      <td>576</td>\n",
       "      <td>590</td>\n",
       "      <td>8</td>\n",
       "      <td>67F, hx of HTN and breast cancer s/p resection...</td>\n",
       "    </tr>\n",
       "    <tr>\n",
       "      <th>1556</th>\n",
       "      <td>81101</td>\n",
       "      <td>813</td>\n",
       "      <td>'visual hallucination'</td>\n",
       "      <td>'397 417'</td>\n",
       "      <td>397</td>\n",
       "      <td>417</td>\n",
       "      <td>8</td>\n",
       "      <td>67 yrs compalinig of sleeping problems started...</td>\n",
       "    </tr>\n",
       "    <tr>\n",
       "      <th>1557</th>\n",
       "      <td>83687</td>\n",
       "      <td>813</td>\n",
       "      <td>'visual hallucinations', 'visual hallucination'</td>\n",
       "      <td>'464 485', '464 484'</td>\n",
       "      <td>464</td>\n",
       "      <td>484</td>\n",
       "      <td>8</td>\n",
       "      <td>HPI: 67 y-o F came with difficulty sleeping si...</td>\n",
       "    </tr>\n",
       "    <tr>\n",
       "      <th>1558</th>\n",
       "      <td>80458</td>\n",
       "      <td>813</td>\n",
       "      <td>'seeing her son'</td>\n",
       "      <td>'858 872'</td>\n",
       "      <td>858</td>\n",
       "      <td>872</td>\n",
       "      <td>8</td>\n",
       "      <td>67yo woman with difficulty sleeping since the ...</td>\n",
       "    </tr>\n",
       "  </tbody>\n",
       "</table>\n",
       "<p>1559 rows × 8 columns</p>\n",
       "</div>"
      ],
      "text/plain": [
       "      pn_num  feature_num                                       annotation  \\\n",
       "0      80039          800                         'appetite has increased'   \n",
       "1      80039          800                                    'eating more'   \n",
       "2      80039          801               'son past away at the end of June'   \n",
       "3      80039          802                                          'woman'   \n",
       "4      80039          804                            'tossing and turning'   \n",
       "...      ...          ...                                              ...   \n",
       "1554   83573          813                           'visual hallucination'   \n",
       "1555   82365          813                                 'seeing her son'   \n",
       "1556   81101          813                           'visual hallucination'   \n",
       "1557   83687          813  'visual hallucinations', 'visual hallucination'   \n",
       "1558   80458          813                                 'seeing her son'   \n",
       "\n",
       "                  location start_location end_location  case_num  \\\n",
       "0                '468 490'            468          490         8   \n",
       "1                '502 513'            502          513         8   \n",
       "2                '171 203'            171          203         8   \n",
       "3                  '27 32'             27           32         8   \n",
       "4                '124 143'            124          143         8   \n",
       "...                    ...            ...          ...       ...   \n",
       "1554             '167 187'            167          187         8   \n",
       "1555             '576 590'            576          590         8   \n",
       "1556             '397 417'            397          417         8   \n",
       "1557  '464 485', '464 484'            464          484         8   \n",
       "1558             '858 872'            858          872         8   \n",
       "\n",
       "                                             pn_history  \n",
       "0     Loraine Wicks is a 67 y.o. woman here for diff...  \n",
       "1     Loraine Wicks is a 67 y.o. woman here for diff...  \n",
       "2     Loraine Wicks is a 67 y.o. woman here for diff...  \n",
       "3     Loraine Wicks is a 67 y.o. woman here for diff...  \n",
       "4     Loraine Wicks is a 67 y.o. woman here for diff...  \n",
       "...                                                 ...  \n",
       "1554  CC- trouble sleeping\\r\\nHPI-67yo F with troubl...  \n",
       "1555  67F, hx of HTN and breast cancer s/p resection...  \n",
       "1556  67 yrs compalinig of sleeping problems started...  \n",
       "1557  HPI: 67 y-o F came with difficulty sleeping si...  \n",
       "1558  67yo woman with difficulty sleeping since the ...  \n",
       "\n",
       "[1559 rows x 8 columns]"
      ]
     },
     "execution_count": 81,
     "metadata": {},
     "output_type": "execute_result"
    }
   ],
   "source": [
    "case_8_803_over = case_8_803_over.merge(patient_notes, on='pn_num', how='left')\n",
    "case_8_803_over"
   ]
  },
  {
   "cell_type": "code",
   "execution_count": 82,
   "id": "bbbf4998",
   "metadata": {},
   "outputs": [
    {
     "data": {
      "text/html": [
       "<div>\n",
       "<style scoped>\n",
       "    .dataframe tbody tr th:only-of-type {\n",
       "        vertical-align: middle;\n",
       "    }\n",
       "\n",
       "    .dataframe tbody tr th {\n",
       "        vertical-align: top;\n",
       "    }\n",
       "\n",
       "    .dataframe thead th {\n",
       "        text-align: right;\n",
       "    }\n",
       "</style>\n",
       "<table border=\"1\" class=\"dataframe\">\n",
       "  <thead>\n",
       "    <tr style=\"text-align: right;\">\n",
       "      <th></th>\n",
       "      <th>pn_num</th>\n",
       "      <th>feature_num</th>\n",
       "      <th>annotation</th>\n",
       "      <th>location</th>\n",
       "      <th>start_location</th>\n",
       "      <th>end_location</th>\n",
       "      <th>case_num</th>\n",
       "      <th>pn_history</th>\n",
       "      <th>New_annotation</th>\n",
       "    </tr>\n",
       "  </thead>\n",
       "  <tbody>\n",
       "    <tr>\n",
       "      <th>0</th>\n",
       "      <td>80039</td>\n",
       "      <td>800</td>\n",
       "      <td>'appetite has increased'</td>\n",
       "      <td>'468 490'</td>\n",
       "      <td>468</td>\n",
       "      <td>490</td>\n",
       "      <td>8</td>\n",
       "      <td>Loraine Wicks is a 67 y.o. woman here for diff...</td>\n",
       "      <td>appetite has increased</td>\n",
       "    </tr>\n",
       "    <tr>\n",
       "      <th>1</th>\n",
       "      <td>80039</td>\n",
       "      <td>800</td>\n",
       "      <td>'eating more'</td>\n",
       "      <td>'502 513'</td>\n",
       "      <td>502</td>\n",
       "      <td>513</td>\n",
       "      <td>8</td>\n",
       "      <td>Loraine Wicks is a 67 y.o. woman here for diff...</td>\n",
       "      <td>eating more</td>\n",
       "    </tr>\n",
       "    <tr>\n",
       "      <th>2</th>\n",
       "      <td>80039</td>\n",
       "      <td>801</td>\n",
       "      <td>'son past away at the end of June'</td>\n",
       "      <td>'171 203'</td>\n",
       "      <td>171</td>\n",
       "      <td>203</td>\n",
       "      <td>8</td>\n",
       "      <td>Loraine Wicks is a 67 y.o. woman here for diff...</td>\n",
       "      <td>son past away at the end of June</td>\n",
       "    </tr>\n",
       "    <tr>\n",
       "      <th>3</th>\n",
       "      <td>80039</td>\n",
       "      <td>802</td>\n",
       "      <td>'woman'</td>\n",
       "      <td>'27 32'</td>\n",
       "      <td>27</td>\n",
       "      <td>32</td>\n",
       "      <td>8</td>\n",
       "      <td>Loraine Wicks is a 67 y.o. woman here for diff...</td>\n",
       "      <td>woman</td>\n",
       "    </tr>\n",
       "    <tr>\n",
       "      <th>4</th>\n",
       "      <td>80039</td>\n",
       "      <td>804</td>\n",
       "      <td>'tossing and turning'</td>\n",
       "      <td>'124 143'</td>\n",
       "      <td>124</td>\n",
       "      <td>143</td>\n",
       "      <td>8</td>\n",
       "      <td>Loraine Wicks is a 67 y.o. woman here for diff...</td>\n",
       "      <td>tossing and turning</td>\n",
       "    </tr>\n",
       "    <tr>\n",
       "      <th>...</th>\n",
       "      <td>...</td>\n",
       "      <td>...</td>\n",
       "      <td>...</td>\n",
       "      <td>...</td>\n",
       "      <td>...</td>\n",
       "      <td>...</td>\n",
       "      <td>...</td>\n",
       "      <td>...</td>\n",
       "      <td>...</td>\n",
       "    </tr>\n",
       "    <tr>\n",
       "      <th>1554</th>\n",
       "      <td>83573</td>\n",
       "      <td>813</td>\n",
       "      <td>'visual hallucination'</td>\n",
       "      <td>'167 187'</td>\n",
       "      <td>167</td>\n",
       "      <td>187</td>\n",
       "      <td>8</td>\n",
       "      <td>CC- trouble sleeping\\r\\nHPI-67yo F with troubl...</td>\n",
       "      <td>visual hallucination</td>\n",
       "    </tr>\n",
       "    <tr>\n",
       "      <th>1555</th>\n",
       "      <td>82365</td>\n",
       "      <td>813</td>\n",
       "      <td>'seeing her son'</td>\n",
       "      <td>'576 590'</td>\n",
       "      <td>576</td>\n",
       "      <td>590</td>\n",
       "      <td>8</td>\n",
       "      <td>67F, hx of HTN and breast cancer s/p resection...</td>\n",
       "      <td>seeing her son</td>\n",
       "    </tr>\n",
       "    <tr>\n",
       "      <th>1556</th>\n",
       "      <td>81101</td>\n",
       "      <td>813</td>\n",
       "      <td>'visual hallucination'</td>\n",
       "      <td>'397 417'</td>\n",
       "      <td>397</td>\n",
       "      <td>417</td>\n",
       "      <td>8</td>\n",
       "      <td>67 yrs compalinig of sleeping problems started...</td>\n",
       "      <td>visual hallucination</td>\n",
       "    </tr>\n",
       "    <tr>\n",
       "      <th>1557</th>\n",
       "      <td>83687</td>\n",
       "      <td>813</td>\n",
       "      <td>'visual hallucinations', 'visual hallucination'</td>\n",
       "      <td>'464 485', '464 484'</td>\n",
       "      <td>464</td>\n",
       "      <td>484</td>\n",
       "      <td>8</td>\n",
       "      <td>HPI: 67 y-o F came with difficulty sleeping si...</td>\n",
       "      <td>visual hallucination</td>\n",
       "    </tr>\n",
       "    <tr>\n",
       "      <th>1558</th>\n",
       "      <td>80458</td>\n",
       "      <td>813</td>\n",
       "      <td>'seeing her son'</td>\n",
       "      <td>'858 872'</td>\n",
       "      <td>858</td>\n",
       "      <td>872</td>\n",
       "      <td>8</td>\n",
       "      <td>67yo woman with difficulty sleeping since the ...</td>\n",
       "      <td>seeing her son</td>\n",
       "    </tr>\n",
       "  </tbody>\n",
       "</table>\n",
       "<p>1559 rows × 9 columns</p>\n",
       "</div>"
      ],
      "text/plain": [
       "      pn_num  feature_num                                       annotation  \\\n",
       "0      80039          800                         'appetite has increased'   \n",
       "1      80039          800                                    'eating more'   \n",
       "2      80039          801               'son past away at the end of June'   \n",
       "3      80039          802                                          'woman'   \n",
       "4      80039          804                            'tossing and turning'   \n",
       "...      ...          ...                                              ...   \n",
       "1554   83573          813                           'visual hallucination'   \n",
       "1555   82365          813                                 'seeing her son'   \n",
       "1556   81101          813                           'visual hallucination'   \n",
       "1557   83687          813  'visual hallucinations', 'visual hallucination'   \n",
       "1558   80458          813                                 'seeing her son'   \n",
       "\n",
       "                  location start_location end_location  case_num  \\\n",
       "0                '468 490'            468          490         8   \n",
       "1                '502 513'            502          513         8   \n",
       "2                '171 203'            171          203         8   \n",
       "3                  '27 32'             27           32         8   \n",
       "4                '124 143'            124          143         8   \n",
       "...                    ...            ...          ...       ...   \n",
       "1554             '167 187'            167          187         8   \n",
       "1555             '576 590'            576          590         8   \n",
       "1556             '397 417'            397          417         8   \n",
       "1557  '464 485', '464 484'            464          484         8   \n",
       "1558             '858 872'            858          872         8   \n",
       "\n",
       "                                             pn_history  \\\n",
       "0     Loraine Wicks is a 67 y.o. woman here for diff...   \n",
       "1     Loraine Wicks is a 67 y.o. woman here for diff...   \n",
       "2     Loraine Wicks is a 67 y.o. woman here for diff...   \n",
       "3     Loraine Wicks is a 67 y.o. woman here for diff...   \n",
       "4     Loraine Wicks is a 67 y.o. woman here for diff...   \n",
       "...                                                 ...   \n",
       "1554  CC- trouble sleeping\\r\\nHPI-67yo F with troubl...   \n",
       "1555  67F, hx of HTN and breast cancer s/p resection...   \n",
       "1556  67 yrs compalinig of sleeping problems started...   \n",
       "1557  HPI: 67 y-o F came with difficulty sleeping si...   \n",
       "1558  67yo woman with difficulty sleeping since the ...   \n",
       "\n",
       "                        New_annotation  \n",
       "0               appetite has increased  \n",
       "1                          eating more  \n",
       "2     son past away at the end of June  \n",
       "3                                woman  \n",
       "4                  tossing and turning  \n",
       "...                                ...  \n",
       "1554              visual hallucination  \n",
       "1555                    seeing her son  \n",
       "1556              visual hallucination  \n",
       "1557              visual hallucination  \n",
       "1558                    seeing her son  \n",
       "\n",
       "[1559 rows x 9 columns]"
      ]
     },
     "execution_count": 82,
     "metadata": {},
     "output_type": "execute_result"
    }
   ],
   "source": [
    "case_8_803_over[\"New_annotation\"] = case_8_803_over.apply(lambda x: x.pn_history[int(x.start_location):int(x.end_location)],axis=1)\n",
    "case_8_803_over"
   ]
  },
  {
   "cell_type": "code",
   "execution_count": 83,
   "id": "823fbd4f",
   "metadata": {},
   "outputs": [
    {
     "data": {
      "text/html": [
       "<div>\n",
       "<style scoped>\n",
       "    .dataframe tbody tr th:only-of-type {\n",
       "        vertical-align: middle;\n",
       "    }\n",
       "\n",
       "    .dataframe tbody tr th {\n",
       "        vertical-align: top;\n",
       "    }\n",
       "\n",
       "    .dataframe thead th {\n",
       "        text-align: right;\n",
       "    }\n",
       "</style>\n",
       "<table border=\"1\" class=\"dataframe\">\n",
       "  <thead>\n",
       "    <tr style=\"text-align: right;\">\n",
       "      <th></th>\n",
       "      <th>pn_num</th>\n",
       "      <th>feature_num</th>\n",
       "      <th>annotation</th>\n",
       "      <th>location</th>\n",
       "      <th>start_location</th>\n",
       "      <th>end_location</th>\n",
       "      <th>case_num</th>\n",
       "      <th>pn_history</th>\n",
       "      <th>New_annotation</th>\n",
       "    </tr>\n",
       "  </thead>\n",
       "  <tbody>\n",
       "    <tr>\n",
       "      <th>0</th>\n",
       "      <td>80039</td>\n",
       "      <td>800</td>\n",
       "      <td>'appetite has increased'</td>\n",
       "      <td>'468 490'</td>\n",
       "      <td>468</td>\n",
       "      <td>490</td>\n",
       "      <td>8</td>\n",
       "      <td>Loraine Wicks is a 67 y.o. woman here for diff...</td>\n",
       "      <td>appetite has increased</td>\n",
       "    </tr>\n",
       "    <tr>\n",
       "      <th>1</th>\n",
       "      <td>80039</td>\n",
       "      <td>800</td>\n",
       "      <td>'eating more'</td>\n",
       "      <td>'502 513'</td>\n",
       "      <td>502</td>\n",
       "      <td>513</td>\n",
       "      <td>8</td>\n",
       "      <td>Loraine Wicks is a 67 y.o. woman here for diff...</td>\n",
       "      <td>eating more</td>\n",
       "    </tr>\n",
       "    <tr>\n",
       "      <th>2</th>\n",
       "      <td>80039</td>\n",
       "      <td>801</td>\n",
       "      <td>'son past away at the end of June'</td>\n",
       "      <td>'171 203'</td>\n",
       "      <td>171</td>\n",
       "      <td>203</td>\n",
       "      <td>8</td>\n",
       "      <td>Loraine Wicks is a 67 y.o. woman here for diff...</td>\n",
       "      <td>son past away at the end of June</td>\n",
       "    </tr>\n",
       "    <tr>\n",
       "      <th>3</th>\n",
       "      <td>80039</td>\n",
       "      <td>802</td>\n",
       "      <td>'woman'</td>\n",
       "      <td>'27 32'</td>\n",
       "      <td>27</td>\n",
       "      <td>32</td>\n",
       "      <td>8</td>\n",
       "      <td>Loraine Wicks is a 67 y.o. woman here for diff...</td>\n",
       "      <td>woman</td>\n",
       "    </tr>\n",
       "    <tr>\n",
       "      <th>4</th>\n",
       "      <td>80039</td>\n",
       "      <td>804</td>\n",
       "      <td>'tossing and turning'</td>\n",
       "      <td>'124 143'</td>\n",
       "      <td>124</td>\n",
       "      <td>143</td>\n",
       "      <td>8</td>\n",
       "      <td>Loraine Wicks is a 67 y.o. woman here for diff...</td>\n",
       "      <td>tossing and turning</td>\n",
       "    </tr>\n",
       "    <tr>\n",
       "      <th>...</th>\n",
       "      <td>...</td>\n",
       "      <td>...</td>\n",
       "      <td>...</td>\n",
       "      <td>...</td>\n",
       "      <td>...</td>\n",
       "      <td>...</td>\n",
       "      <td>...</td>\n",
       "      <td>...</td>\n",
       "      <td>...</td>\n",
       "    </tr>\n",
       "    <tr>\n",
       "      <th>1554</th>\n",
       "      <td>83573</td>\n",
       "      <td>813</td>\n",
       "      <td>'visual hallucination'</td>\n",
       "      <td>'167 187'</td>\n",
       "      <td>167</td>\n",
       "      <td>187</td>\n",
       "      <td>8</td>\n",
       "      <td>CC- trouble sleeping\\r\\nHPI-67yo F with troubl...</td>\n",
       "      <td>visual hallucination</td>\n",
       "    </tr>\n",
       "    <tr>\n",
       "      <th>1555</th>\n",
       "      <td>82365</td>\n",
       "      <td>813</td>\n",
       "      <td>'seeing her son'</td>\n",
       "      <td>'576 590'</td>\n",
       "      <td>576</td>\n",
       "      <td>590</td>\n",
       "      <td>8</td>\n",
       "      <td>67F, hx of HTN and breast cancer s/p resection...</td>\n",
       "      <td>seeing her son</td>\n",
       "    </tr>\n",
       "    <tr>\n",
       "      <th>1556</th>\n",
       "      <td>81101</td>\n",
       "      <td>813</td>\n",
       "      <td>'visual hallucination'</td>\n",
       "      <td>'397 417'</td>\n",
       "      <td>397</td>\n",
       "      <td>417</td>\n",
       "      <td>8</td>\n",
       "      <td>67 yrs compalinig of sleeping problems started...</td>\n",
       "      <td>visual hallucination</td>\n",
       "    </tr>\n",
       "    <tr>\n",
       "      <th>1557</th>\n",
       "      <td>83687</td>\n",
       "      <td>813</td>\n",
       "      <td>'visual hallucinations', 'visual hallucination'</td>\n",
       "      <td>'464 485', '464 484'</td>\n",
       "      <td>464</td>\n",
       "      <td>484</td>\n",
       "      <td>8</td>\n",
       "      <td>HPI: 67 y-o F came with difficulty sleeping si...</td>\n",
       "      <td>visual hallucination</td>\n",
       "    </tr>\n",
       "    <tr>\n",
       "      <th>1558</th>\n",
       "      <td>80458</td>\n",
       "      <td>813</td>\n",
       "      <td>'seeing her son'</td>\n",
       "      <td>'858 872'</td>\n",
       "      <td>858</td>\n",
       "      <td>872</td>\n",
       "      <td>8</td>\n",
       "      <td>67yo woman with difficulty sleeping since the ...</td>\n",
       "      <td>seeing her son</td>\n",
       "    </tr>\n",
       "  </tbody>\n",
       "</table>\n",
       "<p>1559 rows × 9 columns</p>\n",
       "</div>"
      ],
      "text/plain": [
       "      pn_num  feature_num                                       annotation  \\\n",
       "0      80039          800                         'appetite has increased'   \n",
       "1      80039          800                                    'eating more'   \n",
       "2      80039          801               'son past away at the end of June'   \n",
       "3      80039          802                                          'woman'   \n",
       "4      80039          804                            'tossing and turning'   \n",
       "...      ...          ...                                              ...   \n",
       "1554   83573          813                           'visual hallucination'   \n",
       "1555   82365          813                                 'seeing her son'   \n",
       "1556   81101          813                           'visual hallucination'   \n",
       "1557   83687          813  'visual hallucinations', 'visual hallucination'   \n",
       "1558   80458          813                                 'seeing her son'   \n",
       "\n",
       "                  location start_location end_location  case_num  \\\n",
       "0                '468 490'            468          490         8   \n",
       "1                '502 513'            502          513         8   \n",
       "2                '171 203'            171          203         8   \n",
       "3                  '27 32'             27           32         8   \n",
       "4                '124 143'            124          143         8   \n",
       "...                    ...            ...          ...       ...   \n",
       "1554             '167 187'            167          187         8   \n",
       "1555             '576 590'            576          590         8   \n",
       "1556             '397 417'            397          417         8   \n",
       "1557  '464 485', '464 484'            464          484         8   \n",
       "1558             '858 872'            858          872         8   \n",
       "\n",
       "                                             pn_history  \\\n",
       "0     Loraine Wicks is a 67 y.o. woman here for diff...   \n",
       "1     Loraine Wicks is a 67 y.o. woman here for diff...   \n",
       "2     Loraine Wicks is a 67 y.o. woman here for diff...   \n",
       "3     Loraine Wicks is a 67 y.o. woman here for diff...   \n",
       "4     Loraine Wicks is a 67 y.o. woman here for diff...   \n",
       "...                                                 ...   \n",
       "1554  CC- trouble sleeping\\r\\nHPI-67yo F with troubl...   \n",
       "1555  67F, hx of HTN and breast cancer s/p resection...   \n",
       "1556  67 yrs compalinig of sleeping problems started...   \n",
       "1557  HPI: 67 y-o F came with difficulty sleeping si...   \n",
       "1558  67yo woman with difficulty sleeping since the ...   \n",
       "\n",
       "                        New_annotation  \n",
       "0               appetite has increased  \n",
       "1                          eating more  \n",
       "2     son past away at the end of June  \n",
       "3                                woman  \n",
       "4                  tossing and turning  \n",
       "...                                ...  \n",
       "1554              visual hallucination  \n",
       "1555                    seeing her son  \n",
       "1556              visual hallucination  \n",
       "1557              visual hallucination  \n",
       "1558                    seeing her son  \n",
       "\n",
       "[1559 rows x 9 columns]"
      ]
     },
     "execution_count": 83,
     "metadata": {},
     "output_type": "execute_result"
    }
   ],
   "source": [
    "case_8_803_over[\"New_annotation\"] = case_8_803_over[\"New_annotation\"].apply(lambda x: re.sub(r'''[/\"+,()\\r\\n]''',' ',x))\n",
    "case_8_803_over[\"New_annotation\"] = case_8_803_over[\"New_annotation\"].apply(lambda x: re.sub(r'''[']''','',x))\n",
    "case_8_803_over[\"New_annotation\"] = case_8_803_over[\"New_annotation\"].apply(lambda x: x.strip())\n",
    "case_8_803_over"
   ]
  },
  {
   "cell_type": "markdown",
   "id": "9f22fd23",
   "metadata": {},
   "source": [
    "#### Dropping these rows as there are spelling mistakes due to which unable to find the locations"
   ]
  },
  {
   "cell_type": "code",
   "execution_count": 84,
   "id": "b1ac42e8",
   "metadata": {},
   "outputs": [
    {
     "data": {
      "text/html": [
       "<div>\n",
       "<style scoped>\n",
       "    .dataframe tbody tr th:only-of-type {\n",
       "        vertical-align: middle;\n",
       "    }\n",
       "\n",
       "    .dataframe tbody tr th {\n",
       "        vertical-align: top;\n",
       "    }\n",
       "\n",
       "    .dataframe thead th {\n",
       "        text-align: right;\n",
       "    }\n",
       "</style>\n",
       "<table border=\"1\" class=\"dataframe\">\n",
       "  <thead>\n",
       "    <tr style=\"text-align: right;\">\n",
       "      <th></th>\n",
       "      <th>pn_num</th>\n",
       "      <th>feature_num</th>\n",
       "      <th>annotation</th>\n",
       "      <th>location</th>\n",
       "      <th>start_location</th>\n",
       "      <th>end_location</th>\n",
       "      <th>case_num</th>\n",
       "      <th>pn_history</th>\n",
       "      <th>New_annotation</th>\n",
       "      <th>New_pn_history</th>\n",
       "    </tr>\n",
       "  </thead>\n",
       "  <tbody>\n",
       "    <tr>\n",
       "      <th>0</th>\n",
       "      <td>80039</td>\n",
       "      <td>800</td>\n",
       "      <td>'appetite has increased'</td>\n",
       "      <td>'468 490'</td>\n",
       "      <td>468</td>\n",
       "      <td>490</td>\n",
       "      <td>8</td>\n",
       "      <td>Loraine Wicks is a 67 y.o. woman here for diff...</td>\n",
       "      <td>appetite has increased</td>\n",
       "      <td>Loraine Wicks is a 67 y.o. woman here for diff...</td>\n",
       "    </tr>\n",
       "    <tr>\n",
       "      <th>1</th>\n",
       "      <td>80039</td>\n",
       "      <td>800</td>\n",
       "      <td>'eating more'</td>\n",
       "      <td>'502 513'</td>\n",
       "      <td>502</td>\n",
       "      <td>513</td>\n",
       "      <td>8</td>\n",
       "      <td>Loraine Wicks is a 67 y.o. woman here for diff...</td>\n",
       "      <td>eating more</td>\n",
       "      <td>Loraine Wicks is a 67 y.o. woman here for diff...</td>\n",
       "    </tr>\n",
       "    <tr>\n",
       "      <th>2</th>\n",
       "      <td>80039</td>\n",
       "      <td>801</td>\n",
       "      <td>'son past away at the end of June'</td>\n",
       "      <td>'171 203'</td>\n",
       "      <td>171</td>\n",
       "      <td>203</td>\n",
       "      <td>8</td>\n",
       "      <td>Loraine Wicks is a 67 y.o. woman here for diff...</td>\n",
       "      <td>son past away at the end of June</td>\n",
       "      <td>Loraine Wicks is a 67 y.o. woman here for diff...</td>\n",
       "    </tr>\n",
       "    <tr>\n",
       "      <th>3</th>\n",
       "      <td>80039</td>\n",
       "      <td>802</td>\n",
       "      <td>'woman'</td>\n",
       "      <td>'27 32'</td>\n",
       "      <td>27</td>\n",
       "      <td>32</td>\n",
       "      <td>8</td>\n",
       "      <td>Loraine Wicks is a 67 y.o. woman here for diff...</td>\n",
       "      <td>woman</td>\n",
       "      <td>Loraine Wicks is a 67 y.o. woman here for diff...</td>\n",
       "    </tr>\n",
       "    <tr>\n",
       "      <th>4</th>\n",
       "      <td>80039</td>\n",
       "      <td>804</td>\n",
       "      <td>'tossing and turning'</td>\n",
       "      <td>'124 143'</td>\n",
       "      <td>124</td>\n",
       "      <td>143</td>\n",
       "      <td>8</td>\n",
       "      <td>Loraine Wicks is a 67 y.o. woman here for diff...</td>\n",
       "      <td>tossing and turning</td>\n",
       "      <td>Loraine Wicks is a 67 y.o. woman here for diff...</td>\n",
       "    </tr>\n",
       "    <tr>\n",
       "      <th>...</th>\n",
       "      <td>...</td>\n",
       "      <td>...</td>\n",
       "      <td>...</td>\n",
       "      <td>...</td>\n",
       "      <td>...</td>\n",
       "      <td>...</td>\n",
       "      <td>...</td>\n",
       "      <td>...</td>\n",
       "      <td>...</td>\n",
       "      <td>...</td>\n",
       "    </tr>\n",
       "    <tr>\n",
       "      <th>1554</th>\n",
       "      <td>83573</td>\n",
       "      <td>813</td>\n",
       "      <td>'visual hallucination'</td>\n",
       "      <td>'167 187'</td>\n",
       "      <td>167</td>\n",
       "      <td>187</td>\n",
       "      <td>8</td>\n",
       "      <td>CC- trouble sleeping\\r\\nHPI-67yo F with troubl...</td>\n",
       "      <td>visual hallucination</td>\n",
       "      <td>CC- trouble sleeping  HPI-67yo F with trouble ...</td>\n",
       "    </tr>\n",
       "    <tr>\n",
       "      <th>1555</th>\n",
       "      <td>82365</td>\n",
       "      <td>813</td>\n",
       "      <td>'seeing her son'</td>\n",
       "      <td>'576 590'</td>\n",
       "      <td>576</td>\n",
       "      <td>590</td>\n",
       "      <td>8</td>\n",
       "      <td>67F, hx of HTN and breast cancer s/p resection...</td>\n",
       "      <td>seeing her son</td>\n",
       "      <td>67F  hx of HTN and breast cancer s p resection...</td>\n",
       "    </tr>\n",
       "    <tr>\n",
       "      <th>1556</th>\n",
       "      <td>81101</td>\n",
       "      <td>813</td>\n",
       "      <td>'visual hallucination'</td>\n",
       "      <td>'397 417'</td>\n",
       "      <td>397</td>\n",
       "      <td>417</td>\n",
       "      <td>8</td>\n",
       "      <td>67 yrs compalinig of sleeping problems started...</td>\n",
       "      <td>visual hallucination</td>\n",
       "      <td>67 yrs compalinig of sleeping problems started...</td>\n",
       "    </tr>\n",
       "    <tr>\n",
       "      <th>1557</th>\n",
       "      <td>83687</td>\n",
       "      <td>813</td>\n",
       "      <td>'visual hallucinations', 'visual hallucination'</td>\n",
       "      <td>'464 485', '464 484'</td>\n",
       "      <td>464</td>\n",
       "      <td>484</td>\n",
       "      <td>8</td>\n",
       "      <td>HPI: 67 y-o F came with difficulty sleeping si...</td>\n",
       "      <td>visual hallucination</td>\n",
       "      <td>HPI: 67 y-o F came with difficulty sleeping si...</td>\n",
       "    </tr>\n",
       "    <tr>\n",
       "      <th>1558</th>\n",
       "      <td>80458</td>\n",
       "      <td>813</td>\n",
       "      <td>'seeing her son'</td>\n",
       "      <td>'858 872'</td>\n",
       "      <td>858</td>\n",
       "      <td>872</td>\n",
       "      <td>8</td>\n",
       "      <td>67yo woman with difficulty sleeping since the ...</td>\n",
       "      <td>seeing her son</td>\n",
       "      <td>67yo woman with difficulty sleeping since the ...</td>\n",
       "    </tr>\n",
       "  </tbody>\n",
       "</table>\n",
       "<p>1559 rows × 10 columns</p>\n",
       "</div>"
      ],
      "text/plain": [
       "      pn_num  feature_num                                       annotation  \\\n",
       "0      80039          800                         'appetite has increased'   \n",
       "1      80039          800                                    'eating more'   \n",
       "2      80039          801               'son past away at the end of June'   \n",
       "3      80039          802                                          'woman'   \n",
       "4      80039          804                            'tossing and turning'   \n",
       "...      ...          ...                                              ...   \n",
       "1554   83573          813                           'visual hallucination'   \n",
       "1555   82365          813                                 'seeing her son'   \n",
       "1556   81101          813                           'visual hallucination'   \n",
       "1557   83687          813  'visual hallucinations', 'visual hallucination'   \n",
       "1558   80458          813                                 'seeing her son'   \n",
       "\n",
       "                  location start_location end_location  case_num  \\\n",
       "0                '468 490'            468          490         8   \n",
       "1                '502 513'            502          513         8   \n",
       "2                '171 203'            171          203         8   \n",
       "3                  '27 32'             27           32         8   \n",
       "4                '124 143'            124          143         8   \n",
       "...                    ...            ...          ...       ...   \n",
       "1554             '167 187'            167          187         8   \n",
       "1555             '576 590'            576          590         8   \n",
       "1556             '397 417'            397          417         8   \n",
       "1557  '464 485', '464 484'            464          484         8   \n",
       "1558             '858 872'            858          872         8   \n",
       "\n",
       "                                             pn_history  \\\n",
       "0     Loraine Wicks is a 67 y.o. woman here for diff...   \n",
       "1     Loraine Wicks is a 67 y.o. woman here for diff...   \n",
       "2     Loraine Wicks is a 67 y.o. woman here for diff...   \n",
       "3     Loraine Wicks is a 67 y.o. woman here for diff...   \n",
       "4     Loraine Wicks is a 67 y.o. woman here for diff...   \n",
       "...                                                 ...   \n",
       "1554  CC- trouble sleeping\\r\\nHPI-67yo F with troubl...   \n",
       "1555  67F, hx of HTN and breast cancer s/p resection...   \n",
       "1556  67 yrs compalinig of sleeping problems started...   \n",
       "1557  HPI: 67 y-o F came with difficulty sleeping si...   \n",
       "1558  67yo woman with difficulty sleeping since the ...   \n",
       "\n",
       "                        New_annotation  \\\n",
       "0               appetite has increased   \n",
       "1                          eating more   \n",
       "2     son past away at the end of June   \n",
       "3                                woman   \n",
       "4                  tossing and turning   \n",
       "...                                ...   \n",
       "1554              visual hallucination   \n",
       "1555                    seeing her son   \n",
       "1556              visual hallucination   \n",
       "1557              visual hallucination   \n",
       "1558                    seeing her son   \n",
       "\n",
       "                                         New_pn_history  \n",
       "0     Loraine Wicks is a 67 y.o. woman here for diff...  \n",
       "1     Loraine Wicks is a 67 y.o. woman here for diff...  \n",
       "2     Loraine Wicks is a 67 y.o. woman here for diff...  \n",
       "3     Loraine Wicks is a 67 y.o. woman here for diff...  \n",
       "4     Loraine Wicks is a 67 y.o. woman here for diff...  \n",
       "...                                                 ...  \n",
       "1554  CC- trouble sleeping  HPI-67yo F with trouble ...  \n",
       "1555  67F  hx of HTN and breast cancer s p resection...  \n",
       "1556  67 yrs compalinig of sleeping problems started...  \n",
       "1557  HPI: 67 y-o F came with difficulty sleeping si...  \n",
       "1558  67yo woman with difficulty sleeping since the ...  \n",
       "\n",
       "[1559 rows x 10 columns]"
      ]
     },
     "execution_count": 84,
     "metadata": {},
     "output_type": "execute_result"
    }
   ],
   "source": [
    "case_8_803_over[\"New_pn_history\"] = case_8_803_over[\"pn_history\"].apply(lambda x: re.sub(r'''[/\",+()\\r\\n]''',' ',x))\n",
    "case_8_803_over[\"New_pn_history\"] = case_8_803_over[\"New_pn_history\"].apply(lambda x: re.sub(r'''[']''','',x))\n",
    "case_8_803_over"
   ]
  },
  {
   "cell_type": "code",
   "execution_count": null,
   "id": "b1056c6b",
   "metadata": {},
   "outputs": [],
   "source": []
  },
  {
   "cell_type": "code",
   "execution_count": 85,
   "id": "18670152",
   "metadata": {},
   "outputs": [],
   "source": [
    "def word_lemm(sentence):\n",
    "    word_list = nltk.word_tokenize(sentence)\n",
    "    \n",
    "    lemmaztier = WordNetLemmatizer()\n",
    "    lemmatized_output = ' '.join([lemmaztier.lemmatize(w) for w in word_list])\n",
    "    return(lemmatized_output)"
   ]
  },
  {
   "cell_type": "code",
   "execution_count": 86,
   "id": "99017483",
   "metadata": {},
   "outputs": [
    {
     "data": {
      "text/html": [
       "<div>\n",
       "<style scoped>\n",
       "    .dataframe tbody tr th:only-of-type {\n",
       "        vertical-align: middle;\n",
       "    }\n",
       "\n",
       "    .dataframe tbody tr th {\n",
       "        vertical-align: top;\n",
       "    }\n",
       "\n",
       "    .dataframe thead th {\n",
       "        text-align: right;\n",
       "    }\n",
       "</style>\n",
       "<table border=\"1\" class=\"dataframe\">\n",
       "  <thead>\n",
       "    <tr style=\"text-align: right;\">\n",
       "      <th></th>\n",
       "      <th>pn_num</th>\n",
       "      <th>feature_num</th>\n",
       "      <th>annotation</th>\n",
       "      <th>location</th>\n",
       "      <th>start_location</th>\n",
       "      <th>end_location</th>\n",
       "      <th>case_num</th>\n",
       "      <th>pn_history</th>\n",
       "      <th>New_annotation</th>\n",
       "      <th>New_pn_history</th>\n",
       "    </tr>\n",
       "  </thead>\n",
       "  <tbody>\n",
       "    <tr>\n",
       "      <th>0</th>\n",
       "      <td>80039</td>\n",
       "      <td>800</td>\n",
       "      <td>'appetite has increased'</td>\n",
       "      <td>'468 490'</td>\n",
       "      <td>468</td>\n",
       "      <td>490</td>\n",
       "      <td>8</td>\n",
       "      <td>Loraine Wicks is a 67 y.o. woman here for diff...</td>\n",
       "      <td>appetite ha increased</td>\n",
       "      <td>Loraine Wicks is a 67 y.o . woman here for dif...</td>\n",
       "    </tr>\n",
       "    <tr>\n",
       "      <th>1</th>\n",
       "      <td>80039</td>\n",
       "      <td>800</td>\n",
       "      <td>'eating more'</td>\n",
       "      <td>'502 513'</td>\n",
       "      <td>502</td>\n",
       "      <td>513</td>\n",
       "      <td>8</td>\n",
       "      <td>Loraine Wicks is a 67 y.o. woman here for diff...</td>\n",
       "      <td>eating more</td>\n",
       "      <td>Loraine Wicks is a 67 y.o . woman here for dif...</td>\n",
       "    </tr>\n",
       "    <tr>\n",
       "      <th>2</th>\n",
       "      <td>80039</td>\n",
       "      <td>801</td>\n",
       "      <td>'son past away at the end of June'</td>\n",
       "      <td>'171 203'</td>\n",
       "      <td>171</td>\n",
       "      <td>203</td>\n",
       "      <td>8</td>\n",
       "      <td>Loraine Wicks is a 67 y.o. woman here for diff...</td>\n",
       "      <td>son past away at the end of June</td>\n",
       "      <td>Loraine Wicks is a 67 y.o . woman here for dif...</td>\n",
       "    </tr>\n",
       "    <tr>\n",
       "      <th>3</th>\n",
       "      <td>80039</td>\n",
       "      <td>802</td>\n",
       "      <td>'woman'</td>\n",
       "      <td>'27 32'</td>\n",
       "      <td>27</td>\n",
       "      <td>32</td>\n",
       "      <td>8</td>\n",
       "      <td>Loraine Wicks is a 67 y.o. woman here for diff...</td>\n",
       "      <td>woman</td>\n",
       "      <td>Loraine Wicks is a 67 y.o . woman here for dif...</td>\n",
       "    </tr>\n",
       "    <tr>\n",
       "      <th>4</th>\n",
       "      <td>80039</td>\n",
       "      <td>804</td>\n",
       "      <td>'tossing and turning'</td>\n",
       "      <td>'124 143'</td>\n",
       "      <td>124</td>\n",
       "      <td>143</td>\n",
       "      <td>8</td>\n",
       "      <td>Loraine Wicks is a 67 y.o. woman here for diff...</td>\n",
       "      <td>tossing and turning</td>\n",
       "      <td>Loraine Wicks is a 67 y.o . woman here for dif...</td>\n",
       "    </tr>\n",
       "  </tbody>\n",
       "</table>\n",
       "</div>"
      ],
      "text/plain": [
       "   pn_num  feature_num                          annotation    location  \\\n",
       "0   80039          800            'appetite has increased'   '468 490'   \n",
       "1   80039          800                       'eating more'   '502 513'   \n",
       "2   80039          801  'son past away at the end of June'   '171 203'   \n",
       "3   80039          802                             'woman'     '27 32'   \n",
       "4   80039          804               'tossing and turning'   '124 143'   \n",
       "\n",
       "  start_location end_location  case_num  \\\n",
       "0            468          490         8   \n",
       "1            502          513         8   \n",
       "2            171          203         8   \n",
       "3             27           32         8   \n",
       "4            124          143         8   \n",
       "\n",
       "                                          pn_history  \\\n",
       "0  Loraine Wicks is a 67 y.o. woman here for diff...   \n",
       "1  Loraine Wicks is a 67 y.o. woman here for diff...   \n",
       "2  Loraine Wicks is a 67 y.o. woman here for diff...   \n",
       "3  Loraine Wicks is a 67 y.o. woman here for diff...   \n",
       "4  Loraine Wicks is a 67 y.o. woman here for diff...   \n",
       "\n",
       "                     New_annotation  \\\n",
       "0             appetite ha increased   \n",
       "1                       eating more   \n",
       "2  son past away at the end of June   \n",
       "3                             woman   \n",
       "4               tossing and turning   \n",
       "\n",
       "                                      New_pn_history  \n",
       "0  Loraine Wicks is a 67 y.o . woman here for dif...  \n",
       "1  Loraine Wicks is a 67 y.o . woman here for dif...  \n",
       "2  Loraine Wicks is a 67 y.o . woman here for dif...  \n",
       "3  Loraine Wicks is a 67 y.o . woman here for dif...  \n",
       "4  Loraine Wicks is a 67 y.o . woman here for dif...  "
      ]
     },
     "execution_count": 86,
     "metadata": {},
     "output_type": "execute_result"
    }
   ],
   "source": [
    "case_8_803_over[\"New_annotation\"] = case_8_803_over[\"New_annotation\"].apply(word_lemm)\n",
    "case_8_803_over[\"New_pn_history\"] = case_8_803_over[\"New_pn_history\"].apply(word_lemm)\n",
    "case_8_803_over.head()"
   ]
  },
  {
   "cell_type": "code",
   "execution_count": 87,
   "id": "0ac6a5df",
   "metadata": {},
   "outputs": [
    {
     "data": {
      "text/html": [
       "<div>\n",
       "<style scoped>\n",
       "    .dataframe tbody tr th:only-of-type {\n",
       "        vertical-align: middle;\n",
       "    }\n",
       "\n",
       "    .dataframe tbody tr th {\n",
       "        vertical-align: top;\n",
       "    }\n",
       "\n",
       "    .dataframe thead th {\n",
       "        text-align: right;\n",
       "    }\n",
       "</style>\n",
       "<table border=\"1\" class=\"dataframe\">\n",
       "  <thead>\n",
       "    <tr style=\"text-align: right;\">\n",
       "      <th></th>\n",
       "      <th>pn_num</th>\n",
       "      <th>feature_num</th>\n",
       "      <th>annotation</th>\n",
       "      <th>location</th>\n",
       "      <th>start_location</th>\n",
       "      <th>end_location</th>\n",
       "      <th>case_num</th>\n",
       "      <th>pn_history</th>\n",
       "      <th>New_annotation</th>\n",
       "      <th>New_pn_history</th>\n",
       "      <th>new_location</th>\n",
       "    </tr>\n",
       "  </thead>\n",
       "  <tbody>\n",
       "    <tr>\n",
       "      <th>0</th>\n",
       "      <td>80039</td>\n",
       "      <td>800</td>\n",
       "      <td>'appetite has increased'</td>\n",
       "      <td>'468 490'</td>\n",
       "      <td>468</td>\n",
       "      <td>490</td>\n",
       "      <td>8</td>\n",
       "      <td>Loraine Wicks is a 67 y.o. woman here for diff...</td>\n",
       "      <td>appetite ha increased</td>\n",
       "      <td>Loraine Wicks is a 67 y.o . woman here for dif...</td>\n",
       "      <td>&lt;re.Match object; span=(460, 481), match='appe...</td>\n",
       "    </tr>\n",
       "    <tr>\n",
       "      <th>1</th>\n",
       "      <td>80039</td>\n",
       "      <td>800</td>\n",
       "      <td>'eating more'</td>\n",
       "      <td>'502 513'</td>\n",
       "      <td>502</td>\n",
       "      <td>513</td>\n",
       "      <td>8</td>\n",
       "      <td>Loraine Wicks is a 67 y.o. woman here for diff...</td>\n",
       "      <td>eating more</td>\n",
       "      <td>Loraine Wicks is a 67 y.o . woman here for dif...</td>\n",
       "      <td>&lt;re.Match object; span=(493, 504), match='eati...</td>\n",
       "    </tr>\n",
       "    <tr>\n",
       "      <th>2</th>\n",
       "      <td>80039</td>\n",
       "      <td>801</td>\n",
       "      <td>'son past away at the end of June'</td>\n",
       "      <td>'171 203'</td>\n",
       "      <td>171</td>\n",
       "      <td>203</td>\n",
       "      <td>8</td>\n",
       "      <td>Loraine Wicks is a 67 y.o. woman here for diff...</td>\n",
       "      <td>son past away at the end of June</td>\n",
       "      <td>Loraine Wicks is a 67 y.o . woman here for dif...</td>\n",
       "      <td>&lt;re.Match object; span=(170, 202), match='son ...</td>\n",
       "    </tr>\n",
       "    <tr>\n",
       "      <th>3</th>\n",
       "      <td>80039</td>\n",
       "      <td>802</td>\n",
       "      <td>'woman'</td>\n",
       "      <td>'27 32'</td>\n",
       "      <td>27</td>\n",
       "      <td>32</td>\n",
       "      <td>8</td>\n",
       "      <td>Loraine Wicks is a 67 y.o. woman here for diff...</td>\n",
       "      <td>woman</td>\n",
       "      <td>Loraine Wicks is a 67 y.o . woman here for dif...</td>\n",
       "      <td>&lt;re.Match object; span=(28, 33), match='woman'&gt;</td>\n",
       "    </tr>\n",
       "    <tr>\n",
       "      <th>4</th>\n",
       "      <td>80039</td>\n",
       "      <td>804</td>\n",
       "      <td>'tossing and turning'</td>\n",
       "      <td>'124 143'</td>\n",
       "      <td>124</td>\n",
       "      <td>143</td>\n",
       "      <td>8</td>\n",
       "      <td>Loraine Wicks is a 67 y.o. woman here for diff...</td>\n",
       "      <td>tossing and turning</td>\n",
       "      <td>Loraine Wicks is a 67 y.o . woman here for dif...</td>\n",
       "      <td>&lt;re.Match object; span=(123, 142), match='toss...</td>\n",
       "    </tr>\n",
       "    <tr>\n",
       "      <th>...</th>\n",
       "      <td>...</td>\n",
       "      <td>...</td>\n",
       "      <td>...</td>\n",
       "      <td>...</td>\n",
       "      <td>...</td>\n",
       "      <td>...</td>\n",
       "      <td>...</td>\n",
       "      <td>...</td>\n",
       "      <td>...</td>\n",
       "      <td>...</td>\n",
       "      <td>...</td>\n",
       "    </tr>\n",
       "    <tr>\n",
       "      <th>1554</th>\n",
       "      <td>83573</td>\n",
       "      <td>813</td>\n",
       "      <td>'visual hallucination'</td>\n",
       "      <td>'167 187'</td>\n",
       "      <td>167</td>\n",
       "      <td>187</td>\n",
       "      <td>8</td>\n",
       "      <td>CC- trouble sleeping\\r\\nHPI-67yo F with troubl...</td>\n",
       "      <td>visual hallucination</td>\n",
       "      <td>CC- trouble sleeping HPI-67yo F with trouble s...</td>\n",
       "      <td>&lt;re.Match object; span=(167, 187), match='visu...</td>\n",
       "    </tr>\n",
       "    <tr>\n",
       "      <th>1555</th>\n",
       "      <td>82365</td>\n",
       "      <td>813</td>\n",
       "      <td>'seeing her son'</td>\n",
       "      <td>'576 590'</td>\n",
       "      <td>576</td>\n",
       "      <td>590</td>\n",
       "      <td>8</td>\n",
       "      <td>67F, hx of HTN and breast cancer s/p resection...</td>\n",
       "      <td>seeing her son</td>\n",
       "      <td>67F hx of HTN and breast cancer s p resection ...</td>\n",
       "      <td>&lt;re.Match object; span=(552, 566), match='seei...</td>\n",
       "    </tr>\n",
       "    <tr>\n",
       "      <th>1556</th>\n",
       "      <td>81101</td>\n",
       "      <td>813</td>\n",
       "      <td>'visual hallucination'</td>\n",
       "      <td>'397 417'</td>\n",
       "      <td>397</td>\n",
       "      <td>417</td>\n",
       "      <td>8</td>\n",
       "      <td>67 yrs compalinig of sleeping problems started...</td>\n",
       "      <td>visual hallucination</td>\n",
       "      <td>67 yr compalinig of sleeping problem started 3...</td>\n",
       "      <td>&lt;re.Match object; span=(395, 415), match='visu...</td>\n",
       "    </tr>\n",
       "    <tr>\n",
       "      <th>1557</th>\n",
       "      <td>83687</td>\n",
       "      <td>813</td>\n",
       "      <td>'visual hallucinations', 'visual hallucination'</td>\n",
       "      <td>'464 485', '464 484'</td>\n",
       "      <td>464</td>\n",
       "      <td>484</td>\n",
       "      <td>8</td>\n",
       "      <td>HPI: 67 y-o F came with difficulty sleeping si...</td>\n",
       "      <td>visual hallucination</td>\n",
       "      <td>HPI : 67 y-o F came with difficulty sleeping s...</td>\n",
       "      <td>&lt;re.Match object; span=(455, 475), match='visu...</td>\n",
       "    </tr>\n",
       "    <tr>\n",
       "      <th>1558</th>\n",
       "      <td>80458</td>\n",
       "      <td>813</td>\n",
       "      <td>'seeing her son'</td>\n",
       "      <td>'858 872'</td>\n",
       "      <td>858</td>\n",
       "      <td>872</td>\n",
       "      <td>8</td>\n",
       "      <td>67yo woman with difficulty sleeping since the ...</td>\n",
       "      <td>seeing her son</td>\n",
       "      <td>67yo woman with difficulty sleeping since the ...</td>\n",
       "      <td>&lt;re.Match object; span=(847, 861), match='seei...</td>\n",
       "    </tr>\n",
       "  </tbody>\n",
       "</table>\n",
       "<p>1559 rows × 11 columns</p>\n",
       "</div>"
      ],
      "text/plain": [
       "      pn_num  feature_num                                       annotation  \\\n",
       "0      80039          800                         'appetite has increased'   \n",
       "1      80039          800                                    'eating more'   \n",
       "2      80039          801               'son past away at the end of June'   \n",
       "3      80039          802                                          'woman'   \n",
       "4      80039          804                            'tossing and turning'   \n",
       "...      ...          ...                                              ...   \n",
       "1554   83573          813                           'visual hallucination'   \n",
       "1555   82365          813                                 'seeing her son'   \n",
       "1556   81101          813                           'visual hallucination'   \n",
       "1557   83687          813  'visual hallucinations', 'visual hallucination'   \n",
       "1558   80458          813                                 'seeing her son'   \n",
       "\n",
       "                  location start_location end_location  case_num  \\\n",
       "0                '468 490'            468          490         8   \n",
       "1                '502 513'            502          513         8   \n",
       "2                '171 203'            171          203         8   \n",
       "3                  '27 32'             27           32         8   \n",
       "4                '124 143'            124          143         8   \n",
       "...                    ...            ...          ...       ...   \n",
       "1554             '167 187'            167          187         8   \n",
       "1555             '576 590'            576          590         8   \n",
       "1556             '397 417'            397          417         8   \n",
       "1557  '464 485', '464 484'            464          484         8   \n",
       "1558             '858 872'            858          872         8   \n",
       "\n",
       "                                             pn_history  \\\n",
       "0     Loraine Wicks is a 67 y.o. woman here for diff...   \n",
       "1     Loraine Wicks is a 67 y.o. woman here for diff...   \n",
       "2     Loraine Wicks is a 67 y.o. woman here for diff...   \n",
       "3     Loraine Wicks is a 67 y.o. woman here for diff...   \n",
       "4     Loraine Wicks is a 67 y.o. woman here for diff...   \n",
       "...                                                 ...   \n",
       "1554  CC- trouble sleeping\\r\\nHPI-67yo F with troubl...   \n",
       "1555  67F, hx of HTN and breast cancer s/p resection...   \n",
       "1556  67 yrs compalinig of sleeping problems started...   \n",
       "1557  HPI: 67 y-o F came with difficulty sleeping si...   \n",
       "1558  67yo woman with difficulty sleeping since the ...   \n",
       "\n",
       "                        New_annotation  \\\n",
       "0                appetite ha increased   \n",
       "1                          eating more   \n",
       "2     son past away at the end of June   \n",
       "3                                woman   \n",
       "4                  tossing and turning   \n",
       "...                                ...   \n",
       "1554              visual hallucination   \n",
       "1555                    seeing her son   \n",
       "1556              visual hallucination   \n",
       "1557              visual hallucination   \n",
       "1558                    seeing her son   \n",
       "\n",
       "                                         New_pn_history  \\\n",
       "0     Loraine Wicks is a 67 y.o . woman here for dif...   \n",
       "1     Loraine Wicks is a 67 y.o . woman here for dif...   \n",
       "2     Loraine Wicks is a 67 y.o . woman here for dif...   \n",
       "3     Loraine Wicks is a 67 y.o . woman here for dif...   \n",
       "4     Loraine Wicks is a 67 y.o . woman here for dif...   \n",
       "...                                                 ...   \n",
       "1554  CC- trouble sleeping HPI-67yo F with trouble s...   \n",
       "1555  67F hx of HTN and breast cancer s p resection ...   \n",
       "1556  67 yr compalinig of sleeping problem started 3...   \n",
       "1557  HPI : 67 y-o F came with difficulty sleeping s...   \n",
       "1558  67yo woman with difficulty sleeping since the ...   \n",
       "\n",
       "                                           new_location  \n",
       "0     <re.Match object; span=(460, 481), match='appe...  \n",
       "1     <re.Match object; span=(493, 504), match='eati...  \n",
       "2     <re.Match object; span=(170, 202), match='son ...  \n",
       "3       <re.Match object; span=(28, 33), match='woman'>  \n",
       "4     <re.Match object; span=(123, 142), match='toss...  \n",
       "...                                                 ...  \n",
       "1554  <re.Match object; span=(167, 187), match='visu...  \n",
       "1555  <re.Match object; span=(552, 566), match='seei...  \n",
       "1556  <re.Match object; span=(395, 415), match='visu...  \n",
       "1557  <re.Match object; span=(455, 475), match='visu...  \n",
       "1558  <re.Match object; span=(847, 861), match='seei...  \n",
       "\n",
       "[1559 rows x 11 columns]"
      ]
     },
     "execution_count": 87,
     "metadata": {},
     "output_type": "execute_result"
    }
   ],
   "source": [
    "case_8_803_over[\"new_location\"] = case_8_803_over.apply(lambda x :re.search(r'\\b' + x.New_annotation + r'\\b', x.New_pn_history),axis =1)\n",
    "case_8_803_over"
   ]
  },
  {
   "cell_type": "code",
   "execution_count": 88,
   "id": "2be1c676",
   "metadata": {},
   "outputs": [
    {
     "name": "stdout",
     "output_type": "stream",
     "text": [
      "31\n"
     ]
    }
   ],
   "source": [
    "i = 0\n",
    "for location in case_8_803_over[\"new_location\"]:\n",
    "    if location == None:\n",
    "        i+= 1\n",
    "        \n",
    "print(i)"
   ]
  },
  {
   "cell_type": "code",
   "execution_count": 89,
   "id": "2daf84db",
   "metadata": {},
   "outputs": [
    {
     "name": "stdout",
     "output_type": "stream",
     "text": [
      "[77, 353, 372, 373, 488, 495, 509, 520, 521, 522, 576, 578, 590, 621, 684, 692, 818, 885, 887, 890, 994, 1037, 1122, 1137, 1149, 1155, 1274, 1349, 1350, 1362, 1477]\n"
     ]
    },
    {
     "data": {
      "text/plain": [
       "(None, 31)"
      ]
     },
     "execution_count": 89,
     "metadata": {},
     "output_type": "execute_result"
    }
   ],
   "source": [
    "drop_index = []\n",
    "for  index,row in case_8_803_over.iterrows():\n",
    "    if row[\"new_location\"] == None:\n",
    "        drop_index.append(index)\n",
    "        \n",
    "print(drop_index),len(drop_index)"
   ]
  },
  {
   "cell_type": "code",
   "execution_count": 90,
   "id": "df91fc56",
   "metadata": {},
   "outputs": [],
   "source": [
    "case_8_803_over = case_8_803_over.drop(drop_index,axis = 0)"
   ]
  },
  {
   "cell_type": "code",
   "execution_count": 91,
   "id": "fc14d0e6",
   "metadata": {},
   "outputs": [
    {
     "data": {
      "text/html": [
       "<div>\n",
       "<style scoped>\n",
       "    .dataframe tbody tr th:only-of-type {\n",
       "        vertical-align: middle;\n",
       "    }\n",
       "\n",
       "    .dataframe tbody tr th {\n",
       "        vertical-align: top;\n",
       "    }\n",
       "\n",
       "    .dataframe thead th {\n",
       "        text-align: right;\n",
       "    }\n",
       "</style>\n",
       "<table border=\"1\" class=\"dataframe\">\n",
       "  <thead>\n",
       "    <tr style=\"text-align: right;\">\n",
       "      <th></th>\n",
       "      <th>pn_num</th>\n",
       "      <th>feature_num</th>\n",
       "      <th>annotation</th>\n",
       "      <th>location</th>\n",
       "      <th>start_location</th>\n",
       "      <th>end_location</th>\n",
       "      <th>case_num</th>\n",
       "      <th>pn_history</th>\n",
       "      <th>New_annotation</th>\n",
       "      <th>New_pn_history</th>\n",
       "      <th>new_location</th>\n",
       "    </tr>\n",
       "  </thead>\n",
       "  <tbody>\n",
       "    <tr>\n",
       "      <th>0</th>\n",
       "      <td>80039</td>\n",
       "      <td>800</td>\n",
       "      <td>'appetite has increased'</td>\n",
       "      <td>'468 490'</td>\n",
       "      <td>460</td>\n",
       "      <td>481</td>\n",
       "      <td>8</td>\n",
       "      <td>Loraine Wicks is a 67 y.o. woman here for diff...</td>\n",
       "      <td>appetite ha increased</td>\n",
       "      <td>Loraine Wicks is a 67 y.o . woman here for dif...</td>\n",
       "      <td>&lt;re.Match object; span=(460, 481), match='appe...</td>\n",
       "    </tr>\n",
       "    <tr>\n",
       "      <th>1</th>\n",
       "      <td>80039</td>\n",
       "      <td>800</td>\n",
       "      <td>'eating more'</td>\n",
       "      <td>'502 513'</td>\n",
       "      <td>493</td>\n",
       "      <td>504</td>\n",
       "      <td>8</td>\n",
       "      <td>Loraine Wicks is a 67 y.o. woman here for diff...</td>\n",
       "      <td>eating more</td>\n",
       "      <td>Loraine Wicks is a 67 y.o . woman here for dif...</td>\n",
       "      <td>&lt;re.Match object; span=(493, 504), match='eati...</td>\n",
       "    </tr>\n",
       "    <tr>\n",
       "      <th>2</th>\n",
       "      <td>80039</td>\n",
       "      <td>801</td>\n",
       "      <td>'son past away at the end of June'</td>\n",
       "      <td>'171 203'</td>\n",
       "      <td>170</td>\n",
       "      <td>202</td>\n",
       "      <td>8</td>\n",
       "      <td>Loraine Wicks is a 67 y.o. woman here for diff...</td>\n",
       "      <td>son past away at the end of June</td>\n",
       "      <td>Loraine Wicks is a 67 y.o . woman here for dif...</td>\n",
       "      <td>&lt;re.Match object; span=(170, 202), match='son ...</td>\n",
       "    </tr>\n",
       "    <tr>\n",
       "      <th>3</th>\n",
       "      <td>80039</td>\n",
       "      <td>802</td>\n",
       "      <td>'woman'</td>\n",
       "      <td>'27 32'</td>\n",
       "      <td>28</td>\n",
       "      <td>33</td>\n",
       "      <td>8</td>\n",
       "      <td>Loraine Wicks is a 67 y.o. woman here for diff...</td>\n",
       "      <td>woman</td>\n",
       "      <td>Loraine Wicks is a 67 y.o . woman here for dif...</td>\n",
       "      <td>&lt;re.Match object; span=(28, 33), match='woman'&gt;</td>\n",
       "    </tr>\n",
       "    <tr>\n",
       "      <th>4</th>\n",
       "      <td>80039</td>\n",
       "      <td>804</td>\n",
       "      <td>'tossing and turning'</td>\n",
       "      <td>'124 143'</td>\n",
       "      <td>123</td>\n",
       "      <td>142</td>\n",
       "      <td>8</td>\n",
       "      <td>Loraine Wicks is a 67 y.o. woman here for diff...</td>\n",
       "      <td>tossing and turning</td>\n",
       "      <td>Loraine Wicks is a 67 y.o . woman here for dif...</td>\n",
       "      <td>&lt;re.Match object; span=(123, 142), match='toss...</td>\n",
       "    </tr>\n",
       "    <tr>\n",
       "      <th>...</th>\n",
       "      <td>...</td>\n",
       "      <td>...</td>\n",
       "      <td>...</td>\n",
       "      <td>...</td>\n",
       "      <td>...</td>\n",
       "      <td>...</td>\n",
       "      <td>...</td>\n",
       "      <td>...</td>\n",
       "      <td>...</td>\n",
       "      <td>...</td>\n",
       "      <td>...</td>\n",
       "    </tr>\n",
       "    <tr>\n",
       "      <th>1554</th>\n",
       "      <td>83573</td>\n",
       "      <td>813</td>\n",
       "      <td>'visual hallucination'</td>\n",
       "      <td>'167 187'</td>\n",
       "      <td>167</td>\n",
       "      <td>187</td>\n",
       "      <td>8</td>\n",
       "      <td>CC- trouble sleeping\\r\\nHPI-67yo F with troubl...</td>\n",
       "      <td>visual hallucination</td>\n",
       "      <td>CC- trouble sleeping HPI-67yo F with trouble s...</td>\n",
       "      <td>&lt;re.Match object; span=(167, 187), match='visu...</td>\n",
       "    </tr>\n",
       "    <tr>\n",
       "      <th>1555</th>\n",
       "      <td>82365</td>\n",
       "      <td>813</td>\n",
       "      <td>'seeing her son'</td>\n",
       "      <td>'576 590'</td>\n",
       "      <td>552</td>\n",
       "      <td>566</td>\n",
       "      <td>8</td>\n",
       "      <td>67F, hx of HTN and breast cancer s/p resection...</td>\n",
       "      <td>seeing her son</td>\n",
       "      <td>67F hx of HTN and breast cancer s p resection ...</td>\n",
       "      <td>&lt;re.Match object; span=(552, 566), match='seei...</td>\n",
       "    </tr>\n",
       "    <tr>\n",
       "      <th>1556</th>\n",
       "      <td>81101</td>\n",
       "      <td>813</td>\n",
       "      <td>'visual hallucination'</td>\n",
       "      <td>'397 417'</td>\n",
       "      <td>395</td>\n",
       "      <td>415</td>\n",
       "      <td>8</td>\n",
       "      <td>67 yrs compalinig of sleeping problems started...</td>\n",
       "      <td>visual hallucination</td>\n",
       "      <td>67 yr compalinig of sleeping problem started 3...</td>\n",
       "      <td>&lt;re.Match object; span=(395, 415), match='visu...</td>\n",
       "    </tr>\n",
       "    <tr>\n",
       "      <th>1557</th>\n",
       "      <td>83687</td>\n",
       "      <td>813</td>\n",
       "      <td>'visual hallucinations', 'visual hallucination'</td>\n",
       "      <td>'464 485', '464 484'</td>\n",
       "      <td>455</td>\n",
       "      <td>475</td>\n",
       "      <td>8</td>\n",
       "      <td>HPI: 67 y-o F came with difficulty sleeping si...</td>\n",
       "      <td>visual hallucination</td>\n",
       "      <td>HPI : 67 y-o F came with difficulty sleeping s...</td>\n",
       "      <td>&lt;re.Match object; span=(455, 475), match='visu...</td>\n",
       "    </tr>\n",
       "    <tr>\n",
       "      <th>1558</th>\n",
       "      <td>80458</td>\n",
       "      <td>813</td>\n",
       "      <td>'seeing her son'</td>\n",
       "      <td>'858 872'</td>\n",
       "      <td>847</td>\n",
       "      <td>861</td>\n",
       "      <td>8</td>\n",
       "      <td>67yo woman with difficulty sleeping since the ...</td>\n",
       "      <td>seeing her son</td>\n",
       "      <td>67yo woman with difficulty sleeping since the ...</td>\n",
       "      <td>&lt;re.Match object; span=(847, 861), match='seei...</td>\n",
       "    </tr>\n",
       "  </tbody>\n",
       "</table>\n",
       "<p>1528 rows × 11 columns</p>\n",
       "</div>"
      ],
      "text/plain": [
       "      pn_num  feature_num                                       annotation  \\\n",
       "0      80039          800                         'appetite has increased'   \n",
       "1      80039          800                                    'eating more'   \n",
       "2      80039          801               'son past away at the end of June'   \n",
       "3      80039          802                                          'woman'   \n",
       "4      80039          804                            'tossing and turning'   \n",
       "...      ...          ...                                              ...   \n",
       "1554   83573          813                           'visual hallucination'   \n",
       "1555   82365          813                                 'seeing her son'   \n",
       "1556   81101          813                           'visual hallucination'   \n",
       "1557   83687          813  'visual hallucinations', 'visual hallucination'   \n",
       "1558   80458          813                                 'seeing her son'   \n",
       "\n",
       "                  location  start_location  end_location  case_num  \\\n",
       "0                '468 490'             460           481         8   \n",
       "1                '502 513'             493           504         8   \n",
       "2                '171 203'             170           202         8   \n",
       "3                  '27 32'              28            33         8   \n",
       "4                '124 143'             123           142         8   \n",
       "...                    ...             ...           ...       ...   \n",
       "1554             '167 187'             167           187         8   \n",
       "1555             '576 590'             552           566         8   \n",
       "1556             '397 417'             395           415         8   \n",
       "1557  '464 485', '464 484'             455           475         8   \n",
       "1558             '858 872'             847           861         8   \n",
       "\n",
       "                                             pn_history  \\\n",
       "0     Loraine Wicks is a 67 y.o. woman here for diff...   \n",
       "1     Loraine Wicks is a 67 y.o. woman here for diff...   \n",
       "2     Loraine Wicks is a 67 y.o. woman here for diff...   \n",
       "3     Loraine Wicks is a 67 y.o. woman here for diff...   \n",
       "4     Loraine Wicks is a 67 y.o. woman here for diff...   \n",
       "...                                                 ...   \n",
       "1554  CC- trouble sleeping\\r\\nHPI-67yo F with troubl...   \n",
       "1555  67F, hx of HTN and breast cancer s/p resection...   \n",
       "1556  67 yrs compalinig of sleeping problems started...   \n",
       "1557  HPI: 67 y-o F came with difficulty sleeping si...   \n",
       "1558  67yo woman with difficulty sleeping since the ...   \n",
       "\n",
       "                        New_annotation  \\\n",
       "0                appetite ha increased   \n",
       "1                          eating more   \n",
       "2     son past away at the end of June   \n",
       "3                                woman   \n",
       "4                  tossing and turning   \n",
       "...                                ...   \n",
       "1554              visual hallucination   \n",
       "1555                    seeing her son   \n",
       "1556              visual hallucination   \n",
       "1557              visual hallucination   \n",
       "1558                    seeing her son   \n",
       "\n",
       "                                         New_pn_history  \\\n",
       "0     Loraine Wicks is a 67 y.o . woman here for dif...   \n",
       "1     Loraine Wicks is a 67 y.o . woman here for dif...   \n",
       "2     Loraine Wicks is a 67 y.o . woman here for dif...   \n",
       "3     Loraine Wicks is a 67 y.o . woman here for dif...   \n",
       "4     Loraine Wicks is a 67 y.o . woman here for dif...   \n",
       "...                                                 ...   \n",
       "1554  CC- trouble sleeping HPI-67yo F with trouble s...   \n",
       "1555  67F hx of HTN and breast cancer s p resection ...   \n",
       "1556  67 yr compalinig of sleeping problem started 3...   \n",
       "1557  HPI : 67 y-o F came with difficulty sleeping s...   \n",
       "1558  67yo woman with difficulty sleeping since the ...   \n",
       "\n",
       "                                           new_location  \n",
       "0     <re.Match object; span=(460, 481), match='appe...  \n",
       "1     <re.Match object; span=(493, 504), match='eati...  \n",
       "2     <re.Match object; span=(170, 202), match='son ...  \n",
       "3       <re.Match object; span=(28, 33), match='woman'>  \n",
       "4     <re.Match object; span=(123, 142), match='toss...  \n",
       "...                                                 ...  \n",
       "1554  <re.Match object; span=(167, 187), match='visu...  \n",
       "1555  <re.Match object; span=(552, 566), match='seei...  \n",
       "1556  <re.Match object; span=(395, 415), match='visu...  \n",
       "1557  <re.Match object; span=(455, 475), match='visu...  \n",
       "1558  <re.Match object; span=(847, 861), match='seei...  \n",
       "\n",
       "[1528 rows x 11 columns]"
      ]
     },
     "execution_count": 91,
     "metadata": {},
     "output_type": "execute_result"
    }
   ],
   "source": [
    "case_8_803_over[\"start_location\"] = case_8_803_over.apply(lambda x :re.search(r'\\b' + x.New_annotation + r'\\b', x.New_pn_history).start(),axis =1)\n",
    "case_8_803_over[\"end_location\"] = case_8_803_over.apply(lambda x :re.search(r'\\b' + x.New_annotation + r'\\b', x.New_pn_history).end(),axis =1)\n",
    "case_8_803_over"
   ]
  },
  {
   "cell_type": "code",
   "execution_count": 92,
   "id": "2204be15",
   "metadata": {
    "scrolled": false
   },
   "outputs": [
    {
     "data": {
      "text/html": [
       "<div>\n",
       "<style scoped>\n",
       "    .dataframe tbody tr th:only-of-type {\n",
       "        vertical-align: middle;\n",
       "    }\n",
       "\n",
       "    .dataframe tbody tr th {\n",
       "        vertical-align: top;\n",
       "    }\n",
       "\n",
       "    .dataframe thead th {\n",
       "        text-align: right;\n",
       "    }\n",
       "</style>\n",
       "<table border=\"1\" class=\"dataframe\">\n",
       "  <thead>\n",
       "    <tr style=\"text-align: right;\">\n",
       "      <th></th>\n",
       "      <th>pn_num</th>\n",
       "      <th>feature_num</th>\n",
       "      <th>annotation</th>\n",
       "      <th>location</th>\n",
       "      <th>start_location</th>\n",
       "      <th>end_location</th>\n",
       "      <th>case_num</th>\n",
       "      <th>pn_history</th>\n",
       "      <th>New_annotation</th>\n",
       "      <th>New_pn_history</th>\n",
       "      <th>new_location</th>\n",
       "    </tr>\n",
       "  </thead>\n",
       "  <tbody>\n",
       "    <tr>\n",
       "      <th>0</th>\n",
       "      <td>80039</td>\n",
       "      <td>800</td>\n",
       "      <td>'appetite has increased'</td>\n",
       "      <td>'468 490'</td>\n",
       "      <td>460</td>\n",
       "      <td>481</td>\n",
       "      <td>8</td>\n",
       "      <td>Loraine Wicks is a 67 y.o. woman here for diff...</td>\n",
       "      <td>appetite ha increased</td>\n",
       "      <td>Loraine Wicks is a 67 y.o . woman here for dif...</td>\n",
       "      <td>&lt;re.Match object; span=(460, 481), match='appe...</td>\n",
       "    </tr>\n",
       "    <tr>\n",
       "      <th>1</th>\n",
       "      <td>80039</td>\n",
       "      <td>800</td>\n",
       "      <td>'eating more'</td>\n",
       "      <td>'502 513'</td>\n",
       "      <td>493</td>\n",
       "      <td>504</td>\n",
       "      <td>8</td>\n",
       "      <td>Loraine Wicks is a 67 y.o. woman here for diff...</td>\n",
       "      <td>eating more</td>\n",
       "      <td>Loraine Wicks is a 67 y.o . woman here for dif...</td>\n",
       "      <td>&lt;re.Match object; span=(493, 504), match='eati...</td>\n",
       "    </tr>\n",
       "    <tr>\n",
       "      <th>2</th>\n",
       "      <td>80039</td>\n",
       "      <td>801</td>\n",
       "      <td>'son past away at the end of June'</td>\n",
       "      <td>'171 203'</td>\n",
       "      <td>170</td>\n",
       "      <td>202</td>\n",
       "      <td>8</td>\n",
       "      <td>Loraine Wicks is a 67 y.o. woman here for diff...</td>\n",
       "      <td>son past away at the end of June</td>\n",
       "      <td>Loraine Wicks is a 67 y.o . woman here for dif...</td>\n",
       "      <td>&lt;re.Match object; span=(170, 202), match='son ...</td>\n",
       "    </tr>\n",
       "    <tr>\n",
       "      <th>3</th>\n",
       "      <td>80039</td>\n",
       "      <td>802</td>\n",
       "      <td>'woman'</td>\n",
       "      <td>'27 32'</td>\n",
       "      <td>28</td>\n",
       "      <td>33</td>\n",
       "      <td>8</td>\n",
       "      <td>Loraine Wicks is a 67 y.o. woman here for diff...</td>\n",
       "      <td>woman</td>\n",
       "      <td>Loraine Wicks is a 67 y.o . woman here for dif...</td>\n",
       "      <td>&lt;re.Match object; span=(28, 33), match='woman'&gt;</td>\n",
       "    </tr>\n",
       "    <tr>\n",
       "      <th>4</th>\n",
       "      <td>80039</td>\n",
       "      <td>804</td>\n",
       "      <td>'tossing and turning'</td>\n",
       "      <td>'124 143'</td>\n",
       "      <td>123</td>\n",
       "      <td>142</td>\n",
       "      <td>8</td>\n",
       "      <td>Loraine Wicks is a 67 y.o. woman here for diff...</td>\n",
       "      <td>tossing and turning</td>\n",
       "      <td>Loraine Wicks is a 67 y.o . woman here for dif...</td>\n",
       "      <td>&lt;re.Match object; span=(123, 142), match='toss...</td>\n",
       "    </tr>\n",
       "    <tr>\n",
       "      <th>...</th>\n",
       "      <td>...</td>\n",
       "      <td>...</td>\n",
       "      <td>...</td>\n",
       "      <td>...</td>\n",
       "      <td>...</td>\n",
       "      <td>...</td>\n",
       "      <td>...</td>\n",
       "      <td>...</td>\n",
       "      <td>...</td>\n",
       "      <td>...</td>\n",
       "      <td>...</td>\n",
       "    </tr>\n",
       "    <tr>\n",
       "      <th>1554</th>\n",
       "      <td>83573</td>\n",
       "      <td>813</td>\n",
       "      <td>'visual hallucination'</td>\n",
       "      <td>'167 187'</td>\n",
       "      <td>167</td>\n",
       "      <td>187</td>\n",
       "      <td>8</td>\n",
       "      <td>CC- trouble sleeping\\r\\nHPI-67yo F with troubl...</td>\n",
       "      <td>visual hallucination</td>\n",
       "      <td>CC- trouble sleeping HPI-67yo F with trouble s...</td>\n",
       "      <td>&lt;re.Match object; span=(167, 187), match='visu...</td>\n",
       "    </tr>\n",
       "    <tr>\n",
       "      <th>1555</th>\n",
       "      <td>82365</td>\n",
       "      <td>813</td>\n",
       "      <td>'seeing her son'</td>\n",
       "      <td>'576 590'</td>\n",
       "      <td>552</td>\n",
       "      <td>566</td>\n",
       "      <td>8</td>\n",
       "      <td>67F, hx of HTN and breast cancer s/p resection...</td>\n",
       "      <td>seeing her son</td>\n",
       "      <td>67F hx of HTN and breast cancer s p resection ...</td>\n",
       "      <td>&lt;re.Match object; span=(552, 566), match='seei...</td>\n",
       "    </tr>\n",
       "    <tr>\n",
       "      <th>1556</th>\n",
       "      <td>81101</td>\n",
       "      <td>813</td>\n",
       "      <td>'visual hallucination'</td>\n",
       "      <td>'397 417'</td>\n",
       "      <td>395</td>\n",
       "      <td>415</td>\n",
       "      <td>8</td>\n",
       "      <td>67 yrs compalinig of sleeping problems started...</td>\n",
       "      <td>visual hallucination</td>\n",
       "      <td>67 yr compalinig of sleeping problem started 3...</td>\n",
       "      <td>&lt;re.Match object; span=(395, 415), match='visu...</td>\n",
       "    </tr>\n",
       "    <tr>\n",
       "      <th>1557</th>\n",
       "      <td>83687</td>\n",
       "      <td>813</td>\n",
       "      <td>'visual hallucinations', 'visual hallucination'</td>\n",
       "      <td>'464 485', '464 484'</td>\n",
       "      <td>455</td>\n",
       "      <td>475</td>\n",
       "      <td>8</td>\n",
       "      <td>HPI: 67 y-o F came with difficulty sleeping si...</td>\n",
       "      <td>visual hallucination</td>\n",
       "      <td>HPI : 67 y-o F came with difficulty sleeping s...</td>\n",
       "      <td>&lt;re.Match object; span=(455, 475), match='visu...</td>\n",
       "    </tr>\n",
       "    <tr>\n",
       "      <th>1558</th>\n",
       "      <td>80458</td>\n",
       "      <td>813</td>\n",
       "      <td>'seeing her son'</td>\n",
       "      <td>'858 872'</td>\n",
       "      <td>847</td>\n",
       "      <td>861</td>\n",
       "      <td>8</td>\n",
       "      <td>67yo woman with difficulty sleeping since the ...</td>\n",
       "      <td>seeing her son</td>\n",
       "      <td>67yo woman with difficulty sleeping since the ...</td>\n",
       "      <td>&lt;re.Match object; span=(847, 861), match='seei...</td>\n",
       "    </tr>\n",
       "  </tbody>\n",
       "</table>\n",
       "<p>1528 rows × 11 columns</p>\n",
       "</div>"
      ],
      "text/plain": [
       "      pn_num  feature_num                                       annotation  \\\n",
       "0      80039          800                         'appetite has increased'   \n",
       "1      80039          800                                    'eating more'   \n",
       "2      80039          801               'son past away at the end of June'   \n",
       "3      80039          802                                          'woman'   \n",
       "4      80039          804                            'tossing and turning'   \n",
       "...      ...          ...                                              ...   \n",
       "1554   83573          813                           'visual hallucination'   \n",
       "1555   82365          813                                 'seeing her son'   \n",
       "1556   81101          813                           'visual hallucination'   \n",
       "1557   83687          813  'visual hallucinations', 'visual hallucination'   \n",
       "1558   80458          813                                 'seeing her son'   \n",
       "\n",
       "                  location  start_location  end_location  case_num  \\\n",
       "0                '468 490'             460           481         8   \n",
       "1                '502 513'             493           504         8   \n",
       "2                '171 203'             170           202         8   \n",
       "3                  '27 32'              28            33         8   \n",
       "4                '124 143'             123           142         8   \n",
       "...                    ...             ...           ...       ...   \n",
       "1554             '167 187'             167           187         8   \n",
       "1555             '576 590'             552           566         8   \n",
       "1556             '397 417'             395           415         8   \n",
       "1557  '464 485', '464 484'             455           475         8   \n",
       "1558             '858 872'             847           861         8   \n",
       "\n",
       "                                             pn_history  \\\n",
       "0     Loraine Wicks is a 67 y.o. woman here for diff...   \n",
       "1     Loraine Wicks is a 67 y.o. woman here for diff...   \n",
       "2     Loraine Wicks is a 67 y.o. woman here for diff...   \n",
       "3     Loraine Wicks is a 67 y.o. woman here for diff...   \n",
       "4     Loraine Wicks is a 67 y.o. woman here for diff...   \n",
       "...                                                 ...   \n",
       "1554  CC- trouble sleeping\\r\\nHPI-67yo F with troubl...   \n",
       "1555  67F, hx of HTN and breast cancer s/p resection...   \n",
       "1556  67 yrs compalinig of sleeping problems started...   \n",
       "1557  HPI: 67 y-o F came with difficulty sleeping si...   \n",
       "1558  67yo woman with difficulty sleeping since the ...   \n",
       "\n",
       "                        New_annotation  \\\n",
       "0                appetite ha increased   \n",
       "1                          eating more   \n",
       "2     son past away at the end of June   \n",
       "3                                woman   \n",
       "4                  tossing and turning   \n",
       "...                                ...   \n",
       "1554              visual hallucination   \n",
       "1555                    seeing her son   \n",
       "1556              visual hallucination   \n",
       "1557              visual hallucination   \n",
       "1558                    seeing her son   \n",
       "\n",
       "                                         New_pn_history  \\\n",
       "0     Loraine Wicks is a 67 y.o . woman here for dif...   \n",
       "1     Loraine Wicks is a 67 y.o . woman here for dif...   \n",
       "2     Loraine Wicks is a 67 y.o . woman here for dif...   \n",
       "3     Loraine Wicks is a 67 y.o . woman here for dif...   \n",
       "4     Loraine Wicks is a 67 y.o . woman here for dif...   \n",
       "...                                                 ...   \n",
       "1554  CC- trouble sleeping HPI-67yo F with trouble s...   \n",
       "1555  67F hx of HTN and breast cancer s p resection ...   \n",
       "1556  67 yr compalinig of sleeping problem started 3...   \n",
       "1557  HPI : 67 y-o F came with difficulty sleeping s...   \n",
       "1558  67yo woman with difficulty sleeping since the ...   \n",
       "\n",
       "                                           new_location  \n",
       "0     <re.Match object; span=(460, 481), match='appe...  \n",
       "1     <re.Match object; span=(493, 504), match='eati...  \n",
       "2     <re.Match object; span=(170, 202), match='son ...  \n",
       "3       <re.Match object; span=(28, 33), match='woman'>  \n",
       "4     <re.Match object; span=(123, 142), match='toss...  \n",
       "...                                                 ...  \n",
       "1554  <re.Match object; span=(167, 187), match='visu...  \n",
       "1555  <re.Match object; span=(552, 566), match='seei...  \n",
       "1556  <re.Match object; span=(395, 415), match='visu...  \n",
       "1557  <re.Match object; span=(455, 475), match='visu...  \n",
       "1558  <re.Match object; span=(847, 861), match='seei...  \n",
       "\n",
       "[1528 rows x 11 columns]"
      ]
     },
     "execution_count": 92,
     "metadata": {},
     "output_type": "execute_result"
    }
   ],
   "source": [
    "case_8_803_over"
   ]
  },
  {
   "cell_type": "code",
   "execution_count": 93,
   "id": "f15f75fc",
   "metadata": {},
   "outputs": [],
   "source": [
    "sep_combined_case8=case_8_803_over.copy()"
   ]
  },
  {
   "cell_type": "code",
   "execution_count": 94,
   "id": "f13f3488",
   "metadata": {},
   "outputs": [],
   "source": [
    "# sep_combined_case8  = sep_combined_case8.drop(['annotation', 'start_location','end_location'],axis = 1)"
   ]
  },
  {
   "cell_type": "code",
   "execution_count": 95,
   "id": "f4e785c5",
   "metadata": {},
   "outputs": [],
   "source": [
    "# sep_combined_case8[sep_combined_case8.feature_num == 800].shape"
   ]
  },
  {
   "cell_type": "markdown",
   "id": "24799cbd",
   "metadata": {},
   "source": [
    "#### Feature 800"
   ]
  },
  {
   "cell_type": "code",
   "execution_count": 96,
   "id": "95473de3",
   "metadata": {},
   "outputs": [],
   "source": [
    "sep_combined_case8_800 = sep_combined_case8[sep_combined_case8.feature_num == 800]"
   ]
  },
  {
   "cell_type": "code",
   "execution_count": 97,
   "id": "580bd1a0",
   "metadata": {},
   "outputs": [],
   "source": [
    "sep_combined_case8_800 = sep_combined_case8_800.drop(index=1257)"
   ]
  },
  {
   "cell_type": "code",
   "execution_count": 98,
   "id": "c0d83de8",
   "metadata": {},
   "outputs": [],
   "source": [
    "pn_Num_list = list(sep_combined_case8_800.pn_num.unique())\n",
    "final_train = []   # appending all the individual rows\n",
    "for patient_number in pn_Num_list:  # for each unique patient number\n",
    "    entities = []  # saving individaual entities locations\n",
    "    for row_index,row in sep_combined_case8_800[sep_combined_case8_800.pn_num == patient_number].iterrows():  # for each unique patient number \n",
    "        \n",
    "        entities.append((int(row[\"start_location\"]),int(row[\"end_location\"]),\"Feature_\" + str(row[\"feature_num\"]))) # store the locations in numeric format\n",
    "        \n",
    "    text = sep_combined_case8_800[sep_combined_case8_800.pn_num == patient_number][\"New_pn_history\"].values[0] # save the text for the unique patient number\n",
    "    \n",
    "    final_train.append((text,{\"entities\":entities}))  # for each unique pn_number append to final list\n",
    "            "
   ]
  },
  {
   "cell_type": "code",
   "execution_count": null,
   "id": "f81382b8",
   "metadata": {},
   "outputs": [],
   "source": []
  },
  {
   "cell_type": "code",
   "execution_count": 100,
   "id": "5b6c7403",
   "metadata": {},
   "outputs": [
    {
     "name": "stdout",
     "output_type": "stream",
     "text": [
      "60 15\n"
     ]
    }
   ],
   "source": [
    "import json\n",
    "# Serializing json \n",
    "json_object = json.dumps(final_train, indent = 4)\n",
    "  \n",
    "# Writing to sample.json\n",
    "with open(\"sample_800.json\", \"w\") as outfile:\n",
    "    outfile.write(json_object)\n",
    "# Opening JSON file\n",
    "f = open(\"sample_800.json\")\n",
    " \n",
    "# returns JSON object as\n",
    "# a dictionary\n",
    "data = json.load(f)\n",
    "nlp = spacy.blank(\"en\")\n",
    "def create_training(TRAIN_DATA):\n",
    "    db = DocBin()\n",
    "    for text, annot in tqdm(TRAIN_DATA):\n",
    "        doc = nlp.make_doc(text)\n",
    "        ents = []\n",
    "        for start, end, label in annot[\"entities\"]:\n",
    "            span = doc.char_span(start, end, label=label, alignment_mode=\"contract\")\n",
    "            if span is None:\n",
    "                print (\"Skipping entity\")\n",
    "            else:\n",
    "                ents.append(span)\n",
    "        doc.ents = ents\n",
    "        db.add(doc)\n",
    "    return (db)\n",
    "n = int(len(data)*0.8)\n",
    "train = data[:n]\n",
    "validation = data[n:]\n",
    "print(len(train), len(validation))"
   ]
  },
  {
   "cell_type": "code",
   "execution_count": 103,
   "id": "5c64709a",
   "metadata": {},
   "outputs": [],
   "source": [
    "from spacy.tokens import DocBin\n",
    "import spacy\n",
    "from tqdm import tqdm\n",
    "import random\n"
   ]
  },
  {
   "cell_type": "code",
   "execution_count": 104,
   "id": "a93d185c",
   "metadata": {
    "scrolled": true
   },
   "outputs": [
    {
     "name": "stderr",
     "output_type": "stream",
     "text": [
      "100%|█████████████████████████████████████████████████████████████████████████████████| 60/60 [00:00<00:00, 493.36it/s]\n"
     ]
    }
   ],
   "source": [
    "#train data set\n",
    "\n",
    "camp_train = create_training(train)\n",
    "camp_train.to_disk(\"nbme_train_800.spacy\")"
   ]
  },
  {
   "cell_type": "code",
   "execution_count": 105,
   "id": "2caf5f9e",
   "metadata": {},
   "outputs": [
    {
     "name": "stderr",
     "output_type": "stream",
     "text": [
      "100%|█████████████████████████████████████████████████████████████████████████████████| 15/15 [00:00<00:00, 646.31it/s]\n"
     ]
    }
   ],
   "source": [
    "#test data set\n",
    "\n",
    "camp_train = create_training(validation)\n",
    "camp_train.to_disk(\"nbme_validation_800.spacy\")"
   ]
  },
  {
   "cell_type": "code",
   "execution_count": 106,
   "id": "bfe8a16c",
   "metadata": {
    "scrolled": true
   },
   "outputs": [
    {
     "name": "stdout",
     "output_type": "stream",
     "text": [
      "[+] Auto-filled config with all values\n",
      "[+] Saved config\n",
      "config_800.cfg\n",
      "You can now add your data and train your pipeline:\n",
      "python -m spacy train config_800.cfg --paths.train ./train.spacy --paths.dev ./dev.spacy\n"
     ]
    },
    {
     "name": "stderr",
     "output_type": "stream",
     "text": [
      "2022-05-12 18:06:41.425428: W tensorflow/stream_executor/platform/default/dso_loader.cc:64] Could not load dynamic library 'cudart64_110.dll'; dlerror: cudart64_110.dll not found\n",
      "2022-05-12 18:06:41.425504: I tensorflow/stream_executor/cuda/cudart_stub.cc:29] Ignore above cudart dlerror if you do not have a GPU set up on your machine.\n"
     ]
    }
   ],
   "source": [
    "!python -m spacy init fill-config ./base_config_800.cfg ./config_800.cfg"
   ]
  },
  {
   "cell_type": "code",
   "execution_count": 107,
   "id": "f57d331d",
   "metadata": {},
   "outputs": [
    {
     "name": "stdout",
     "output_type": "stream",
     "text": [
      "[i] Saving to output directory: output_800\n",
      "[i] Using CPU\n",
      "\u001b[1m\n",
      "=========================== Initializing pipeline ===========================\u001b[0m\n",
      "[+] Initialized pipeline\n",
      "\u001b[1m\n",
      "============================= Training pipeline =============================\u001b[0m\n",
      "[i] Pipeline: ['tok2vec', 'ner']\n",
      "[i] Initial learn rate: 0.001\n",
      "E    #       LOSS TOK2VEC  LOSS NER  ENTS_F  ENTS_P  ENTS_R  SCORE \n",
      "---  ------  ------------  --------  ------  ------  ------  ------\n",
      "  0       0          0.00     56.67    0.00    0.00    0.00    0.00\n",
      "  3     200         26.64   1122.14   56.25   52.94   60.00    0.56\n",
      "  6     400         24.32     47.95   75.00   70.59   80.00    0.75\n",
      " 10     600         32.54     24.19   81.25   76.47   86.67    0.81\n",
      " 13     800          6.43      9.13   81.25   76.47   86.67    0.81\n",
      " 16    1000          0.00      0.01   78.79   72.22   86.67    0.79\n",
      " 20    1200          0.00      0.00   72.73   66.67   80.00    0.73\n",
      " 23    1400          0.00      0.00   72.73   66.67   80.00    0.73\n",
      " 26    1600          0.00      0.00   72.73   66.67   80.00    0.73\n",
      " 30    1800          0.00      0.00   72.73   66.67   80.00    0.73\n",
      " 33    2000          0.00      0.00   72.73   66.67   80.00    0.73\n",
      " 36    2200          0.00      0.00   72.73   66.67   80.00    0.73\n",
      "[+] Saved pipeline to output directory\n",
      "output_800\\model-last\n"
     ]
    },
    {
     "name": "stderr",
     "output_type": "stream",
     "text": [
      "2022-05-12 18:06:48.569094: W tensorflow/stream_executor/platform/default/dso_loader.cc:64] Could not load dynamic library 'cudart64_110.dll'; dlerror: cudart64_110.dll not found\n",
      "2022-05-12 18:06:48.569168: I tensorflow/stream_executor/cuda/cudart_stub.cc:29] Ignore above cudart dlerror if you do not have a GPU set up on your machine.\n",
      "[2022-05-12 18:06:53,440] [INFO] Set up nlp object from config\n",
      "[2022-05-12 18:06:53,448] [INFO] Pipeline: ['tok2vec', 'ner']\n",
      "[2022-05-12 18:06:53,452] [INFO] Created vocabulary\n",
      "[2022-05-12 18:06:53,455] [INFO] Finished initializing nlp object\n",
      "[2022-05-12 18:06:54,091] [INFO] Initialized pipeline components: ['tok2vec', 'ner']\n"
     ]
    }
   ],
   "source": [
    "!python -m spacy train config_800.cfg --output ./output_800"
   ]
  },
  {
   "cell_type": "code",
   "execution_count": null,
   "id": "67edf336",
   "metadata": {},
   "outputs": [],
   "source": []
  },
  {
   "cell_type": "code",
   "execution_count": null,
   "id": "f15237fd",
   "metadata": {},
   "outputs": [],
   "source": []
  },
  {
   "cell_type": "markdown",
   "id": "52bcd08e",
   "metadata": {},
   "source": [
    "#### Feature 801"
   ]
  },
  {
   "cell_type": "code",
   "execution_count": 108,
   "id": "f2c3fc14",
   "metadata": {},
   "outputs": [],
   "source": [
    "sep_combined_case8_801 = sep_combined_case8[sep_combined_case8.feature_num == 801]"
   ]
  },
  {
   "cell_type": "code",
   "execution_count": 109,
   "id": "d35ff5a1",
   "metadata": {},
   "outputs": [],
   "source": [
    "sep_combined_case8_801 = sep_combined_case8_801.drop(index=386)"
   ]
  },
  {
   "cell_type": "code",
   "execution_count": 110,
   "id": "5fb92114",
   "metadata": {},
   "outputs": [],
   "source": [
    "sep_combined_case8_801 = sep_combined_case8_801.drop(index=1360)"
   ]
  },
  {
   "cell_type": "code",
   "execution_count": 111,
   "id": "c4614e16",
   "metadata": {},
   "outputs": [
    {
     "data": {
      "text/html": [
       "<div>\n",
       "<style scoped>\n",
       "    .dataframe tbody tr th:only-of-type {\n",
       "        vertical-align: middle;\n",
       "    }\n",
       "\n",
       "    .dataframe tbody tr th {\n",
       "        vertical-align: top;\n",
       "    }\n",
       "\n",
       "    .dataframe thead th {\n",
       "        text-align: right;\n",
       "    }\n",
       "</style>\n",
       "<table border=\"1\" class=\"dataframe\">\n",
       "  <thead>\n",
       "    <tr style=\"text-align: right;\">\n",
       "      <th></th>\n",
       "      <th>pn_num</th>\n",
       "      <th>feature_num</th>\n",
       "      <th>annotation</th>\n",
       "      <th>location</th>\n",
       "      <th>start_location</th>\n",
       "      <th>end_location</th>\n",
       "      <th>case_num</th>\n",
       "      <th>pn_history</th>\n",
       "      <th>New_annotation</th>\n",
       "      <th>New_pn_history</th>\n",
       "      <th>new_location</th>\n",
       "    </tr>\n",
       "  </thead>\n",
       "  <tbody>\n",
       "    <tr>\n",
       "      <th>2</th>\n",
       "      <td>80039</td>\n",
       "      <td>801</td>\n",
       "      <td>'son past away at the end of June'</td>\n",
       "      <td>'171 203'</td>\n",
       "      <td>170</td>\n",
       "      <td>202</td>\n",
       "      <td>8</td>\n",
       "      <td>Loraine Wicks is a 67 y.o. woman here for diff...</td>\n",
       "      <td>son past away at the end of June</td>\n",
       "      <td>Loraine Wicks is a 67 y.o . woman here for dif...</td>\n",
       "      <td>&lt;re.Match object; span=(170, 202), match='son ...</td>\n",
       "    </tr>\n",
       "    <tr>\n",
       "      <th>16</th>\n",
       "      <td>80042</td>\n",
       "      <td>801</td>\n",
       "      <td>'At that time  her son passed away'</td>\n",
       "      <td>'168 201'</td>\n",
       "      <td>166</td>\n",
       "      <td>198</td>\n",
       "      <td>8</td>\n",
       "      <td>67yo F presents with trouble sleeping. She rep...</td>\n",
       "      <td>At that time her son passed away</td>\n",
       "      <td>67yo F present with trouble sleeping . She rep...</td>\n",
       "      <td>&lt;re.Match object; span=(166, 198), match='At t...</td>\n",
       "    </tr>\n",
       "    <tr>\n",
       "      <th>30</th>\n",
       "      <td>80066</td>\n",
       "      <td>801</td>\n",
       "      <td>'x 3 weeks since the death of her son'</td>\n",
       "      <td>'41 77'</td>\n",
       "      <td>41</td>\n",
       "      <td>76</td>\n",
       "      <td>8</td>\n",
       "      <td>Pt is a 67 yo F presenting with insomnia x 3 w...</td>\n",
       "      <td>x 3 week since the death of her son</td>\n",
       "      <td>Pt is a 67 yo F presenting with insomnia x 3 w...</td>\n",
       "      <td>&lt;re.Match object; span=(41, 76), match='x 3 we...</td>\n",
       "    </tr>\n",
       "    <tr>\n",
       "      <th>49</th>\n",
       "      <td>80098</td>\n",
       "      <td>801</td>\n",
       "      <td>'3 Wks ago death of her son'</td>\n",
       "      <td>'96 105;120 136'</td>\n",
       "      <td>97</td>\n",
       "      <td>137</td>\n",
       "      <td>8</td>\n",
       "      <td>Mrs Loraine Wicks a 67 Y old F pt presenting t...</td>\n",
       "      <td>3 Wks ago following the death of her son</td>\n",
       "      <td>Mrs Loraine Wicks a 67 Y old F pt presenting t...</td>\n",
       "      <td>&lt;re.Match object; span=(97, 137), match='3 Wks...</td>\n",
       "    </tr>\n",
       "    <tr>\n",
       "      <th>61</th>\n",
       "      <td>80245</td>\n",
       "      <td>801</td>\n",
       "      <td>'3 weeks ago son passed away'</td>\n",
       "      <td>'131 142;153 168'</td>\n",
       "      <td>131</td>\n",
       "      <td>167</td>\n",
       "      <td>8</td>\n",
       "      <td>Pt is a 67 year old female with PMH of high bl...</td>\n",
       "      <td>3 week ago after her son passed away</td>\n",
       "      <td>Pt is a 67 year old female with PMH of high bl...</td>\n",
       "      <td>&lt;re.Match object; span=(131, 167), match='3 we...</td>\n",
       "    </tr>\n",
       "    <tr>\n",
       "      <th>...</th>\n",
       "      <td>...</td>\n",
       "      <td>...</td>\n",
       "      <td>...</td>\n",
       "      <td>...</td>\n",
       "      <td>...</td>\n",
       "      <td>...</td>\n",
       "      <td>...</td>\n",
       "      <td>...</td>\n",
       "      <td>...</td>\n",
       "      <td>...</td>\n",
       "      <td>...</td>\n",
       "    </tr>\n",
       "    <tr>\n",
       "      <th>1307</th>\n",
       "      <td>84191</td>\n",
       "      <td>801</td>\n",
       "      <td>'son unfortunately passed away 3 weeks ago'</td>\n",
       "      <td>'364 405'</td>\n",
       "      <td>358</td>\n",
       "      <td>398</td>\n",
       "      <td>8</td>\n",
       "      <td>Identity: Loraine Wicks, a 67-year-old female\\...</td>\n",
       "      <td>son unfortunately passed away 3 week ago</td>\n",
       "      <td>Identity : Loraine Wicks a 67-year-old female ...</td>\n",
       "      <td>&lt;re.Match object; span=(358, 398), match='son ...</td>\n",
       "    </tr>\n",
       "    <tr>\n",
       "      <th>1320</th>\n",
       "      <td>84231</td>\n",
       "      <td>801</td>\n",
       "      <td>'son dying 3 weeks ago'</td>\n",
       "      <td>'153 174'</td>\n",
       "      <td>151</td>\n",
       "      <td>171</td>\n",
       "      <td>8</td>\n",
       "      <td>Loraine Wicks is a 67 yo F with a history of H...</td>\n",
       "      <td>son dying 3 week ago</td>\n",
       "      <td>Loraine Wicks is a 67 yo F with a history of H...</td>\n",
       "      <td>&lt;re.Match object; span=(151, 171), match='son ...</td>\n",
       "    </tr>\n",
       "    <tr>\n",
       "      <th>1330</th>\n",
       "      <td>84255</td>\n",
       "      <td>801</td>\n",
       "      <td>'son died 3 weeks'</td>\n",
       "      <td>'220 236'</td>\n",
       "      <td>213</td>\n",
       "      <td>228</td>\n",
       "      <td>8</td>\n",
       "      <td>HPI: 67 yo F, G1P1, c/o trouble sleeping for t...</td>\n",
       "      <td>son died 3 week</td>\n",
       "      <td>HPI : 67 yo F G1P1 c o trouble sleeping for th...</td>\n",
       "      <td>&lt;re.Match object; span=(213, 228), match='son ...</td>\n",
       "    </tr>\n",
       "    <tr>\n",
       "      <th>1348</th>\n",
       "      <td>84273</td>\n",
       "      <td>801</td>\n",
       "      <td>'son passing away 3 weeks ago'</td>\n",
       "      <td>'344 372'</td>\n",
       "      <td>331</td>\n",
       "      <td>358</td>\n",
       "      <td>8</td>\n",
       "      <td>67F w/ PMH of breast CA in remission, presenti...</td>\n",
       "      <td>son passing away 3 week ago</td>\n",
       "      <td>67F w PMH of breast CA in remission presenting...</td>\n",
       "      <td>&lt;re.Match object; span=(331, 358), match='son ...</td>\n",
       "    </tr>\n",
       "    <tr>\n",
       "      <th>1361</th>\n",
       "      <td>84366</td>\n",
       "      <td>801</td>\n",
       "      <td>'loss of her son 3 weeks ago'</td>\n",
       "      <td>'124 139;175 186'</td>\n",
       "      <td>119</td>\n",
       "      <td>180</td>\n",
       "      <td>8</td>\n",
       "      <td>Ms. Wicks is a 67 year old F PMH HTN, Breast C...</td>\n",
       "      <td>loss of her son . Her son passed away October ...</td>\n",
       "      <td>Ms. Wicks is a 67 year old F PMH HTN Breast CA...</td>\n",
       "      <td>&lt;re.Match object; span=(119, 180), match='loss...</td>\n",
       "    </tr>\n",
       "  </tbody>\n",
       "</table>\n",
       "<p>99 rows × 11 columns</p>\n",
       "</div>"
      ],
      "text/plain": [
       "      pn_num  feature_num                                   annotation  \\\n",
       "2      80039          801           'son past away at the end of June'   \n",
       "16     80042          801          'At that time  her son passed away'   \n",
       "30     80066          801       'x 3 weeks since the death of her son'   \n",
       "49     80098          801                 '3 Wks ago death of her son'   \n",
       "61     80245          801                '3 weeks ago son passed away'   \n",
       "...      ...          ...                                          ...   \n",
       "1307   84191          801  'son unfortunately passed away 3 weeks ago'   \n",
       "1320   84231          801                      'son dying 3 weeks ago'   \n",
       "1330   84255          801                           'son died 3 weeks'   \n",
       "1348   84273          801               'son passing away 3 weeks ago'   \n",
       "1361   84366          801                'loss of her son 3 weeks ago'   \n",
       "\n",
       "                location  start_location  end_location  case_num  \\\n",
       "2              '171 203'             170           202         8   \n",
       "16             '168 201'             166           198         8   \n",
       "30               '41 77'              41            76         8   \n",
       "49      '96 105;120 136'              97           137         8   \n",
       "61     '131 142;153 168'             131           167         8   \n",
       "...                  ...             ...           ...       ...   \n",
       "1307           '364 405'             358           398         8   \n",
       "1320           '153 174'             151           171         8   \n",
       "1330           '220 236'             213           228         8   \n",
       "1348           '344 372'             331           358         8   \n",
       "1361   '124 139;175 186'             119           180         8   \n",
       "\n",
       "                                             pn_history  \\\n",
       "2     Loraine Wicks is a 67 y.o. woman here for diff...   \n",
       "16    67yo F presents with trouble sleeping. She rep...   \n",
       "30    Pt is a 67 yo F presenting with insomnia x 3 w...   \n",
       "49    Mrs Loraine Wicks a 67 Y old F pt presenting t...   \n",
       "61    Pt is a 67 year old female with PMH of high bl...   \n",
       "...                                                 ...   \n",
       "1307  Identity: Loraine Wicks, a 67-year-old female\\...   \n",
       "1320  Loraine Wicks is a 67 yo F with a history of H...   \n",
       "1330  HPI: 67 yo F, G1P1, c/o trouble sleeping for t...   \n",
       "1348  67F w/ PMH of breast CA in remission, presenti...   \n",
       "1361  Ms. Wicks is a 67 year old F PMH HTN, Breast C...   \n",
       "\n",
       "                                         New_annotation  \\\n",
       "2                      son past away at the end of June   \n",
       "16                     At that time her son passed away   \n",
       "30                  x 3 week since the death of her son   \n",
       "49             3 Wks ago following the death of her son   \n",
       "61                 3 week ago after her son passed away   \n",
       "...                                                 ...   \n",
       "1307           son unfortunately passed away 3 week ago   \n",
       "1320                               son dying 3 week ago   \n",
       "1330                                    son died 3 week   \n",
       "1348                        son passing away 3 week ago   \n",
       "1361  loss of her son . Her son passed away October ...   \n",
       "\n",
       "                                         New_pn_history  \\\n",
       "2     Loraine Wicks is a 67 y.o . woman here for dif...   \n",
       "16    67yo F present with trouble sleeping . She rep...   \n",
       "30    Pt is a 67 yo F presenting with insomnia x 3 w...   \n",
       "49    Mrs Loraine Wicks a 67 Y old F pt presenting t...   \n",
       "61    Pt is a 67 year old female with PMH of high bl...   \n",
       "...                                                 ...   \n",
       "1307  Identity : Loraine Wicks a 67-year-old female ...   \n",
       "1320  Loraine Wicks is a 67 yo F with a history of H...   \n",
       "1330  HPI : 67 yo F G1P1 c o trouble sleeping for th...   \n",
       "1348  67F w PMH of breast CA in remission presenting...   \n",
       "1361  Ms. Wicks is a 67 year old F PMH HTN Breast CA...   \n",
       "\n",
       "                                           new_location  \n",
       "2     <re.Match object; span=(170, 202), match='son ...  \n",
       "16    <re.Match object; span=(166, 198), match='At t...  \n",
       "30    <re.Match object; span=(41, 76), match='x 3 we...  \n",
       "49    <re.Match object; span=(97, 137), match='3 Wks...  \n",
       "61    <re.Match object; span=(131, 167), match='3 we...  \n",
       "...                                                 ...  \n",
       "1307  <re.Match object; span=(358, 398), match='son ...  \n",
       "1320  <re.Match object; span=(151, 171), match='son ...  \n",
       "1330  <re.Match object; span=(213, 228), match='son ...  \n",
       "1348  <re.Match object; span=(331, 358), match='son ...  \n",
       "1361  <re.Match object; span=(119, 180), match='loss...  \n",
       "\n",
       "[99 rows x 11 columns]"
      ]
     },
     "execution_count": 111,
     "metadata": {},
     "output_type": "execute_result"
    }
   ],
   "source": [
    "sep_combined_case8_801"
   ]
  },
  {
   "cell_type": "code",
   "execution_count": 112,
   "id": "4c6ca205",
   "metadata": {},
   "outputs": [
    {
     "data": {
      "text/html": [
       "<div>\n",
       "<style scoped>\n",
       "    .dataframe tbody tr th:only-of-type {\n",
       "        vertical-align: middle;\n",
       "    }\n",
       "\n",
       "    .dataframe tbody tr th {\n",
       "        vertical-align: top;\n",
       "    }\n",
       "\n",
       "    .dataframe thead th {\n",
       "        text-align: right;\n",
       "    }\n",
       "</style>\n",
       "<table border=\"1\" class=\"dataframe\">\n",
       "  <thead>\n",
       "    <tr style=\"text-align: right;\">\n",
       "      <th></th>\n",
       "      <th>pn_num</th>\n",
       "      <th>feature_num</th>\n",
       "      <th>annotation</th>\n",
       "      <th>location</th>\n",
       "      <th>start_location</th>\n",
       "      <th>end_location</th>\n",
       "      <th>case_num</th>\n",
       "      <th>pn_history</th>\n",
       "      <th>New_annotation</th>\n",
       "      <th>New_pn_history</th>\n",
       "      <th>new_location</th>\n",
       "    </tr>\n",
       "  </thead>\n",
       "  <tbody>\n",
       "    <tr>\n",
       "      <th>2</th>\n",
       "      <td>80039</td>\n",
       "      <td>801</td>\n",
       "      <td>'son past away at the end of June'</td>\n",
       "      <td>'171 203'</td>\n",
       "      <td>170</td>\n",
       "      <td>202</td>\n",
       "      <td>8</td>\n",
       "      <td>Loraine Wicks is a 67 y.o. woman here for diff...</td>\n",
       "      <td>son past away at the end of June</td>\n",
       "      <td>Loraine Wicks is a 67 y.o . woman here for dif...</td>\n",
       "      <td>&lt;re.Match object; span=(170, 202), match='son ...</td>\n",
       "    </tr>\n",
       "    <tr>\n",
       "      <th>16</th>\n",
       "      <td>80042</td>\n",
       "      <td>801</td>\n",
       "      <td>'At that time  her son passed away'</td>\n",
       "      <td>'168 201'</td>\n",
       "      <td>166</td>\n",
       "      <td>198</td>\n",
       "      <td>8</td>\n",
       "      <td>67yo F presents with trouble sleeping. She rep...</td>\n",
       "      <td>At that time her son passed away</td>\n",
       "      <td>67yo F present with trouble sleeping . She rep...</td>\n",
       "      <td>&lt;re.Match object; span=(166, 198), match='At t...</td>\n",
       "    </tr>\n",
       "    <tr>\n",
       "      <th>30</th>\n",
       "      <td>80066</td>\n",
       "      <td>801</td>\n",
       "      <td>'x 3 weeks since the death of her son'</td>\n",
       "      <td>'41 77'</td>\n",
       "      <td>41</td>\n",
       "      <td>76</td>\n",
       "      <td>8</td>\n",
       "      <td>Pt is a 67 yo F presenting with insomnia x 3 w...</td>\n",
       "      <td>x 3 week since the death of her son</td>\n",
       "      <td>Pt is a 67 yo F presenting with insomnia x 3 w...</td>\n",
       "      <td>&lt;re.Match object; span=(41, 76), match='x 3 we...</td>\n",
       "    </tr>\n",
       "    <tr>\n",
       "      <th>49</th>\n",
       "      <td>80098</td>\n",
       "      <td>801</td>\n",
       "      <td>'3 Wks ago death of her son'</td>\n",
       "      <td>'96 105;120 136'</td>\n",
       "      <td>97</td>\n",
       "      <td>137</td>\n",
       "      <td>8</td>\n",
       "      <td>Mrs Loraine Wicks a 67 Y old F pt presenting t...</td>\n",
       "      <td>3 Wks ago following the death of her son</td>\n",
       "      <td>Mrs Loraine Wicks a 67 Y old F pt presenting t...</td>\n",
       "      <td>&lt;re.Match object; span=(97, 137), match='3 Wks...</td>\n",
       "    </tr>\n",
       "    <tr>\n",
       "      <th>61</th>\n",
       "      <td>80245</td>\n",
       "      <td>801</td>\n",
       "      <td>'3 weeks ago son passed away'</td>\n",
       "      <td>'131 142;153 168'</td>\n",
       "      <td>131</td>\n",
       "      <td>167</td>\n",
       "      <td>8</td>\n",
       "      <td>Pt is a 67 year old female with PMH of high bl...</td>\n",
       "      <td>3 week ago after her son passed away</td>\n",
       "      <td>Pt is a 67 year old female with PMH of high bl...</td>\n",
       "      <td>&lt;re.Match object; span=(131, 167), match='3 we...</td>\n",
       "    </tr>\n",
       "  </tbody>\n",
       "</table>\n",
       "</div>"
      ],
      "text/plain": [
       "    pn_num  feature_num                              annotation  \\\n",
       "2    80039          801      'son past away at the end of June'   \n",
       "16   80042          801     'At that time  her son passed away'   \n",
       "30   80066          801  'x 3 weeks since the death of her son'   \n",
       "49   80098          801            '3 Wks ago death of her son'   \n",
       "61   80245          801           '3 weeks ago son passed away'   \n",
       "\n",
       "             location  start_location  end_location  case_num  \\\n",
       "2           '171 203'             170           202         8   \n",
       "16          '168 201'             166           198         8   \n",
       "30            '41 77'              41            76         8   \n",
       "49   '96 105;120 136'              97           137         8   \n",
       "61  '131 142;153 168'             131           167         8   \n",
       "\n",
       "                                           pn_history  \\\n",
       "2   Loraine Wicks is a 67 y.o. woman here for diff...   \n",
       "16  67yo F presents with trouble sleeping. She rep...   \n",
       "30  Pt is a 67 yo F presenting with insomnia x 3 w...   \n",
       "49  Mrs Loraine Wicks a 67 Y old F pt presenting t...   \n",
       "61  Pt is a 67 year old female with PMH of high bl...   \n",
       "\n",
       "                              New_annotation  \\\n",
       "2           son past away at the end of June   \n",
       "16          At that time her son passed away   \n",
       "30       x 3 week since the death of her son   \n",
       "49  3 Wks ago following the death of her son   \n",
       "61      3 week ago after her son passed away   \n",
       "\n",
       "                                       New_pn_history  \\\n",
       "2   Loraine Wicks is a 67 y.o . woman here for dif...   \n",
       "16  67yo F present with trouble sleeping . She rep...   \n",
       "30  Pt is a 67 yo F presenting with insomnia x 3 w...   \n",
       "49  Mrs Loraine Wicks a 67 Y old F pt presenting t...   \n",
       "61  Pt is a 67 year old female with PMH of high bl...   \n",
       "\n",
       "                                         new_location  \n",
       "2   <re.Match object; span=(170, 202), match='son ...  \n",
       "16  <re.Match object; span=(166, 198), match='At t...  \n",
       "30  <re.Match object; span=(41, 76), match='x 3 we...  \n",
       "49  <re.Match object; span=(97, 137), match='3 Wks...  \n",
       "61  <re.Match object; span=(131, 167), match='3 we...  "
      ]
     },
     "execution_count": 112,
     "metadata": {},
     "output_type": "execute_result"
    }
   ],
   "source": [
    "sep_combined_case8_801.head()"
   ]
  },
  {
   "cell_type": "code",
   "execution_count": 113,
   "id": "b32ecbaf",
   "metadata": {},
   "outputs": [],
   "source": [
    "pn_Num_list = list(sep_combined_case8_801.pn_num.unique())\n",
    "final_train = []   # appending all the individual rows\n",
    "for patient_number in pn_Num_list:  # for each unique patient number\n",
    "    entities = []  # saving individaual entities locations\n",
    "    for row_index,row in sep_combined_case8_801[sep_combined_case8_801.pn_num == patient_number].iterrows():  # for each unique patient number \n",
    "        \n",
    "        entities.append((int(row[\"start_location\"]),int(row[\"end_location\"]),\"Feature_\" + str(row[\"feature_num\"]))) # store the locations in numeric format\n",
    "        \n",
    "    text = sep_combined_case8_801[sep_combined_case8_801.pn_num == patient_number][\"New_pn_history\"].values[0] # save the text for the unique patient number\n",
    "    \n",
    "    final_train.append((text,{\"entities\":entities}))  # for each unique pn_number append to final list\n",
    "            "
   ]
  },
  {
   "cell_type": "code",
   "execution_count": 114,
   "id": "20e76fa7",
   "metadata": {},
   "outputs": [],
   "source": [
    "import json\n",
    "# Serializing json \n",
    "json_object = json.dumps(final_train, indent = 4)\n",
    "  \n",
    "# Writing to sample.json\n",
    "with open(\"sample_801.json\", \"w\") as outfile:\n",
    "    outfile.write(json_object)\n",
    "# Opening JSON file\n",
    "f = open(\"sample_801.json\")\n",
    " \n",
    "# returns JSON object as\n",
    "# a dictionary\n",
    "data = json.load(f)\n",
    "nlp = spacy.blank(\"en\")\n",
    "def create_training(TRAIN_DATA):\n",
    "    db = DocBin()\n",
    "    for text, annot in tqdm(TRAIN_DATA):\n",
    "        doc = nlp.make_doc(text)\n",
    "        ents = []\n",
    "        for start, end, label in annot[\"entities\"]:\n",
    "            span = doc.char_span(start, end, label=label, alignment_mode=\"contract\")\n",
    "            if span is None:\n",
    "                print (\"Skipping entity\")\n",
    "            else:\n",
    "                ents.append(span)\n",
    "        doc.ents = ents\n",
    "        db.add(doc)\n",
    "    return (db)\n",
    "n = int(len(data)*0.8)\n",
    "train = data[:n]\n",
    "validation = data[n:]"
   ]
  },
  {
   "cell_type": "code",
   "execution_count": 115,
   "id": "90788359",
   "metadata": {},
   "outputs": [
    {
     "name": "stderr",
     "output_type": "stream",
     "text": [
      "100%|█████████████████████████████████████████████████████████████████████████████████| 77/77 [00:00<00:00, 585.62it/s]\n"
     ]
    }
   ],
   "source": [
    "#train data set\n",
    "camp_train = create_training(train)\n",
    "camp_train.to_disk(\"nbme_train_801.spacy\")"
   ]
  },
  {
   "cell_type": "code",
   "execution_count": 116,
   "id": "1dbb9cc9",
   "metadata": {},
   "outputs": [
    {
     "name": "stderr",
     "output_type": "stream",
     "text": [
      "100%|█████████████████████████████████████████████████████████████████████████████████| 20/20 [00:00<00:00, 665.64it/s]\n"
     ]
    }
   ],
   "source": [
    "#test data set\n",
    "\n",
    "camp_train = create_training(validation)\n",
    "camp_train.to_disk(\"nbme_validation_801.spacy\")"
   ]
  },
  {
   "cell_type": "code",
   "execution_count": null,
   "id": "24df0706",
   "metadata": {},
   "outputs": [],
   "source": []
  },
  {
   "cell_type": "code",
   "execution_count": 117,
   "id": "2efb106a",
   "metadata": {},
   "outputs": [
    {
     "name": "stderr",
     "output_type": "stream",
     "text": [
      "2022-05-12 18:10:52.916316: W tensorflow/stream_executor/platform/default/dso_loader.cc:64] Could not load dynamic library 'cudart64_110.dll'; dlerror: cudart64_110.dll not found\n",
      "2022-05-12 18:10:52.916356: I tensorflow/stream_executor/cuda/cudart_stub.cc:29] Ignore above cudart dlerror if you do not have a GPU set up on your machine.\n"
     ]
    },
    {
     "name": "stdout",
     "output_type": "stream",
     "text": [
      "[+] Auto-filled config with all values\n",
      "[+] Saved config\n",
      "config_801.cfg\n",
      "You can now add your data and train your pipeline:\n",
      "python -m spacy train config_801.cfg --paths.train ./train.spacy --paths.dev ./dev.spacy\n"
     ]
    }
   ],
   "source": [
    "!python -m spacy init fill-config ./base_config_801.cfg ./config_801.cfg"
   ]
  },
  {
   "cell_type": "code",
   "execution_count": 118,
   "id": "f5814ca4",
   "metadata": {
    "scrolled": false
   },
   "outputs": [
    {
     "name": "stdout",
     "output_type": "stream",
     "text": [
      "[i] Saving to output directory: output_801\n",
      "[i] Using CPU\n",
      "\u001b[1m\n",
      "=========================== Initializing pipeline ===========================\u001b[0m\n",
      "[+] Initialized pipeline\n",
      "\u001b[1m\n",
      "============================= Training pipeline =============================\u001b[0m\n",
      "[i] Pipeline: ['tok2vec', 'ner']\n",
      "[i] Initial learn rate: 0.001\n",
      "E    #       LOSS TOK2VEC  LOSS NER  ENTS_F  ENTS_P  ENTS_R  SCORE \n",
      "---  ------  ------------  --------  ------  ------  ------  ------\n",
      "  0       0          0.00     56.67    0.00    0.00    0.00    0.00\n",
      "  2     200       2615.85   2494.60   16.00   40.00   10.00    0.16\n",
      "  5     400         83.10    295.17   34.15   33.33   35.00    0.34\n",
      "  7     600        368.87    189.84   24.49   20.69   30.00    0.24\n",
      " 10     800        140.18    124.25   27.78   31.25   25.00    0.28\n",
      " 12    1000        117.63    104.68   31.11   28.00   35.00    0.31\n",
      " 15    1200        515.06     83.47   26.67   24.00   30.00    0.27\n",
      " 18    1400         47.37     35.64   29.27   28.57   30.00    0.29\n",
      " 20    1600        353.29     51.48   36.36   46.15   30.00    0.36\n",
      " 23    1800         84.88     40.95   25.53   22.22   30.00    0.26\n",
      " 25    2000         47.94     24.20   34.15   33.33   35.00    0.34\n",
      " 28    2200        413.00     59.02   41.03   42.11   40.00    0.41\n",
      " 31    2400         47.98     25.44   27.45   22.58   35.00    0.27\n",
      " 33    2600        115.09     47.09   34.78   30.77   40.00    0.35\n",
      " 36    2800         30.38     18.26   27.91   26.09   30.00    0.28\n",
      " 40    3000         70.57     30.71   40.00   46.67   35.00    0.40\n",
      " 45    3200        103.73     42.25   38.89   43.75   35.00    0.39\n",
      " 51    3400         90.12     36.21   24.39   23.81   25.00    0.24\n",
      " 60    3600         57.49     24.53   35.00   35.00   35.00    0.35\n",
      " 70    3800       6942.15     46.16   35.90   36.84   35.00    0.36\n",
      "[+] Saved pipeline to output directory\n",
      "output_801\\model-last\n"
     ]
    },
    {
     "name": "stderr",
     "output_type": "stream",
     "text": [
      "2022-05-12 18:10:58.972003: W tensorflow/stream_executor/platform/default/dso_loader.cc:64] Could not load dynamic library 'cudart64_110.dll'; dlerror: cudart64_110.dll not found\n",
      "2022-05-12 18:10:58.972086: I tensorflow/stream_executor/cuda/cudart_stub.cc:29] Ignore above cudart dlerror if you do not have a GPU set up on your machine.\n",
      "[2022-05-12 18:11:02,990] [INFO] Set up nlp object from config\n",
      "[2022-05-12 18:11:02,998] [INFO] Pipeline: ['tok2vec', 'ner']\n",
      "[2022-05-12 18:11:03,002] [INFO] Created vocabulary\n",
      "[2022-05-12 18:11:03,004] [INFO] Finished initializing nlp object\n",
      "[2022-05-12 18:11:03,461] [INFO] Initialized pipeline components: ['tok2vec', 'ner']\n"
     ]
    }
   ],
   "source": [
    "!python -m spacy train config_801.cfg --output ./output_801"
   ]
  },
  {
   "cell_type": "code",
   "execution_count": null,
   "id": "8b80298f",
   "metadata": {},
   "outputs": [],
   "source": []
  },
  {
   "cell_type": "code",
   "execution_count": null,
   "id": "129e3a65",
   "metadata": {},
   "outputs": [],
   "source": []
  },
  {
   "cell_type": "markdown",
   "id": "bb84ab9c",
   "metadata": {},
   "source": [
    "#### Feature 802"
   ]
  },
  {
   "cell_type": "code",
   "execution_count": 119,
   "id": "e5ba639d",
   "metadata": {},
   "outputs": [],
   "source": [
    "sep_combined_case8_802 = sep_combined_case8[sep_combined_case8.feature_num == 802]"
   ]
  },
  {
   "cell_type": "code",
   "execution_count": null,
   "id": "8b47a360",
   "metadata": {},
   "outputs": [],
   "source": []
  },
  {
   "cell_type": "code",
   "execution_count": null,
   "id": "42acf377",
   "metadata": {},
   "outputs": [],
   "source": []
  },
  {
   "cell_type": "code",
   "execution_count": 120,
   "id": "da711aa2",
   "metadata": {},
   "outputs": [],
   "source": [
    "pn_Num_list = list(sep_combined_case8_802.pn_num.unique())\n",
    "final_train = []   # appending all the individual rows\n",
    "for patient_number in pn_Num_list:  # for each unique patient number\n",
    "    entities = []  # saving individaual entities locations\n",
    "    for row_index,row in sep_combined_case8_802[sep_combined_case8_802.pn_num == patient_number].iterrows():  # for each unique patient number \n",
    "        \n",
    "        entities.append((int(row[\"start_location\"]),int(row[\"end_location\"]),\"Feature_\" + str(row[\"feature_num\"]))) # store the locations in numeric format\n",
    "        \n",
    "    text = sep_combined_case8_802[sep_combined_case8_802.pn_num == patient_number][\"New_pn_history\"].values[0] # save the text for the unique patient number\n",
    "    \n",
    "    final_train.append((text,{\"entities\":entities}))  # for each unique pn_number append to final list\n",
    "            "
   ]
  },
  {
   "cell_type": "code",
   "execution_count": 121,
   "id": "f4a89506",
   "metadata": {},
   "outputs": [],
   "source": [
    "import json\n",
    "# Serializing json \n",
    "json_object = json.dumps(final_train, indent = 4)\n",
    "  \n",
    "# Writing to sample.json\n",
    "with open(\"sample_802.json\", \"w\") as outfile:\n",
    "    outfile.write(json_object)\n",
    "# Opening JSON file\n",
    "f = open(\"sample_802.json\")\n",
    " \n",
    "# returns JSON object as\n",
    "# a dictionary\n",
    "data = json.load(f)\n",
    "nlp = spacy.blank(\"en\")\n",
    "def create_training(TRAIN_DATA):\n",
    "    db = DocBin()\n",
    "    for text, annot in tqdm(TRAIN_DATA):\n",
    "        doc = nlp.make_doc(text)\n",
    "        ents = []\n",
    "        for start, end, label in annot[\"entities\"]:\n",
    "            span = doc.char_span(start, end, label=label, alignment_mode=\"contract\")\n",
    "            if span is None:\n",
    "                print (\"Skipping entity\")\n",
    "            else:\n",
    "                ents.append(span)\n",
    "        doc.ents = ents\n",
    "        db.add(doc)\n",
    "    return (db)\n",
    "n = int(len(data)*0.8)\n",
    "train = data[:n]\n",
    "validation = data[n:]"
   ]
  },
  {
   "cell_type": "code",
   "execution_count": null,
   "id": "68063840",
   "metadata": {},
   "outputs": [],
   "source": []
  },
  {
   "cell_type": "code",
   "execution_count": null,
   "id": "5a9c61e8",
   "metadata": {},
   "outputs": [],
   "source": []
  },
  {
   "cell_type": "code",
   "execution_count": 122,
   "id": "e541a65c",
   "metadata": {},
   "outputs": [
    {
     "name": "stderr",
     "output_type": "stream",
     "text": [
      "100%|█████████████████████████████████████████████████████████████████████████████████| 76/76 [00:00<00:00, 513.57it/s]"
     ]
    },
    {
     "name": "stdout",
     "output_type": "stream",
     "text": [
      "Skipping entity\n",
      "Skipping entity\n",
      "Skipping entity\n",
      "Skipping entity\n",
      "Skipping entity\n",
      "Skipping entity\n",
      "Skipping entity\n"
     ]
    },
    {
     "name": "stderr",
     "output_type": "stream",
     "text": [
      "\n"
     ]
    }
   ],
   "source": [
    "#train data set\n",
    "\n",
    "camp_train = create_training(train)\n",
    "camp_train.to_disk(\"nbme_train_802.spacy\")"
   ]
  },
  {
   "cell_type": "code",
   "execution_count": 123,
   "id": "d0def10b",
   "metadata": {},
   "outputs": [
    {
     "name": "stderr",
     "output_type": "stream",
     "text": [
      "100%|█████████████████████████████████████████████████████████████████████████████████| 19/19 [00:00<00:00, 742.06it/s]"
     ]
    },
    {
     "name": "stdout",
     "output_type": "stream",
     "text": [
      "Skipping entity\n"
     ]
    },
    {
     "name": "stderr",
     "output_type": "stream",
     "text": [
      "\n"
     ]
    }
   ],
   "source": [
    "#test data set\n",
    "\n",
    "camp_train = create_training(validation)\n",
    "camp_train.to_disk(\"nbme_validation_802.spacy\")"
   ]
  },
  {
   "cell_type": "code",
   "execution_count": 124,
   "id": "f74dc0e0",
   "metadata": {},
   "outputs": [
    {
     "name": "stdout",
     "output_type": "stream",
     "text": [
      "[+] Auto-filled config with all values\n",
      "[+] Saved config\n",
      "config_802.cfg\n",
      "You can now add your data and train your pipeline:\n",
      "python -m spacy train config_802.cfg --paths.train ./train.spacy --paths.dev ./dev.spacy\n"
     ]
    },
    {
     "name": "stderr",
     "output_type": "stream",
     "text": [
      "2022-05-12 18:19:17.606215: W tensorflow/stream_executor/platform/default/dso_loader.cc:64] Could not load dynamic library 'cudart64_110.dll'; dlerror: cudart64_110.dll not found\n",
      "2022-05-12 18:19:17.606260: I tensorflow/stream_executor/cuda/cudart_stub.cc:29] Ignore above cudart dlerror if you do not have a GPU set up on your machine.\n"
     ]
    }
   ],
   "source": [
    "!python -m spacy init fill-config ./base_config_802.cfg ./config_802.cfg"
   ]
  },
  {
   "cell_type": "code",
   "execution_count": 205,
   "id": "cc1c963a",
   "metadata": {},
   "outputs": [
    {
     "name": "stdout",
     "output_type": "stream",
     "text": [
      "[i] Saving to output directory: output_802\n",
      "[i] Using CPU\n",
      "\u001b[1m\n",
      "=========================== Initializing pipeline ===========================\u001b[0m\n",
      "[+] Initialized pipeline\n",
      "\u001b[1m\n",
      "============================= Training pipeline =============================\u001b[0m\n",
      "[i] Pipeline: ['tok2vec', 'ner']\n",
      "[i] Initial learn rate: 0.001\n",
      "E    #       LOSS TOK2VEC  LOSS NER  ENTS_F  ENTS_P  ENTS_R  SCORE \n",
      "---  ------  ------------  --------  ------  ------  ------  ------\n",
      "  0       0          0.00     51.33    0.00    0.00    0.00    0.00\n",
      "  2     200          6.64   1027.48   95.00   90.48  100.00    0.95\n",
      "  5     400          1.64      1.78  100.00  100.00  100.00    1.00\n",
      "  7     600          0.00      0.00  100.00  100.00  100.00    1.00\n",
      " 10     800          0.00      0.00  100.00  100.00  100.00    1.00\n",
      " 13    1000          0.00      0.00  100.00  100.00  100.00    1.00\n",
      " 15    1200          0.00      0.00  100.00  100.00  100.00    1.00\n",
      " 18    1400          0.00      0.00  100.00  100.00  100.00    1.00\n",
      " 21    1600          0.00      0.00  100.00  100.00  100.00    1.00\n",
      " 23    1800          0.00      0.00  100.00  100.00  100.00    1.00\n",
      " 26    2000          0.00      0.00  100.00  100.00  100.00    1.00\n",
      "[+] Saved pipeline to output directory\n",
      "output_802\\model-last\n"
     ]
    },
    {
     "name": "stderr",
     "output_type": "stream",
     "text": [
      "2022-05-12 19:08:53.250367: W tensorflow/stream_executor/platform/default/dso_loader.cc:64] Could not load dynamic library 'cudart64_110.dll'; dlerror: cudart64_110.dll not found\n",
      "2022-05-12 19:08:53.250423: I tensorflow/stream_executor/cuda/cudart_stub.cc:29] Ignore above cudart dlerror if you do not have a GPU set up on your machine.\n",
      "[2022-05-12 19:08:57,765] [INFO] Set up nlp object from config\n",
      "[2022-05-12 19:08:57,772] [INFO] Pipeline: ['tok2vec', 'ner']\n",
      "[2022-05-12 19:08:57,776] [INFO] Created vocabulary\n",
      "[2022-05-12 19:08:57,776] [INFO] Finished initializing nlp object\n",
      "[2022-05-12 19:08:58,207] [INFO] Initialized pipeline components: ['tok2vec', 'ner']\n"
     ]
    }
   ],
   "source": [
    "!python -m spacy train config_802.cfg --output ./output_802"
   ]
  },
  {
   "cell_type": "code",
   "execution_count": null,
   "id": "c4aa0f1a",
   "metadata": {},
   "outputs": [],
   "source": []
  },
  {
   "cell_type": "code",
   "execution_count": null,
   "id": "e9836c06",
   "metadata": {},
   "outputs": [],
   "source": []
  },
  {
   "cell_type": "markdown",
   "id": "220a47fb",
   "metadata": {},
   "source": [
    "#### Feature 803"
   ]
  },
  {
   "cell_type": "code",
   "execution_count": 207,
   "id": "f37c95a2",
   "metadata": {},
   "outputs": [],
   "source": [
    "sep_combined_case8_803 = sep_combined_case8[sep_combined_case8.feature_num == 803]"
   ]
  },
  {
   "cell_type": "code",
   "execution_count": null,
   "id": "4a53de8e",
   "metadata": {},
   "outputs": [],
   "source": []
  },
  {
   "cell_type": "code",
   "execution_count": null,
   "id": "23e5bce6",
   "metadata": {},
   "outputs": [],
   "source": []
  },
  {
   "cell_type": "code",
   "execution_count": 209,
   "id": "cf304458",
   "metadata": {},
   "outputs": [],
   "source": [
    "pn_Num_list = list(sep_combined_case8_803.pn_num.unique())\n",
    "final_train = []   # appending all the individual rows\n",
    "for patient_number in pn_Num_list:  # for each unique patient number\n",
    "    entities = []  # saving individaual entities locations\n",
    "    for row_index,row in sep_combined_case8_803[sep_combined_case8_803.pn_num == patient_number].iterrows():  # for each unique patient number \n",
    "        \n",
    "        entities.append((int(row[\"start_location\"]),int(row[\"end_location\"]),\"Feature_\" + str(row[\"feature_num\"]))) # store the locations in numeric format\n",
    "        \n",
    "    text = sep_combined_case8_803[sep_combined_case8_803.pn_num == patient_number][\"New_pn_history\"].values[0] # save the text for the unique patient number\n",
    "    \n",
    "    final_train.append((text,{\"entities\":entities}))  # for each unique pn_number append to final list\n",
    "            "
   ]
  },
  {
   "cell_type": "code",
   "execution_count": 211,
   "id": "21cea57c",
   "metadata": {},
   "outputs": [],
   "source": [
    "import json\n",
    "# Serializing json \n",
    "json_object = json.dumps(final_train, indent = 4)\n",
    "  \n",
    "# Writing to sample.json\n",
    "with open(\"sample_803.json\", \"w\") as outfile:\n",
    "    outfile.write(json_object)\n",
    "# Opening JSON file\n",
    "f = open(\"sample_803.json\")\n",
    " \n",
    "# returns JSON object as\n",
    "# a dictionary\n",
    "data = json.load(f)\n",
    "nlp = spacy.blank(\"en\")\n",
    "def create_training(TRAIN_DATA):\n",
    "    db = DocBin()\n",
    "    for text, annot in tqdm(TRAIN_DATA):\n",
    "        doc = nlp.make_doc(text)\n",
    "        ents = []\n",
    "        for start, end, label in annot[\"entities\"]:\n",
    "            span = doc.char_span(start, end, label=label, alignment_mode=\"contract\")\n",
    "            if span is None:\n",
    "                print (\"Skipping entity\")\n",
    "            else:\n",
    "                ents.append(span)\n",
    "        doc.ents = ents\n",
    "        db.add(doc)\n",
    "    return (db)\n",
    "n = int(len(data)*0.8)\n",
    "train = data[:n]\n",
    "validation = data[n:]"
   ]
  },
  {
   "cell_type": "code",
   "execution_count": null,
   "id": "93801833",
   "metadata": {},
   "outputs": [],
   "source": []
  },
  {
   "cell_type": "code",
   "execution_count": null,
   "id": "15359814",
   "metadata": {},
   "outputs": [],
   "source": []
  },
  {
   "cell_type": "code",
   "execution_count": 213,
   "id": "d485d8dd",
   "metadata": {},
   "outputs": [
    {
     "name": "stderr",
     "output_type": "stream",
     "text": [
      "100%|█████████████████████████████████████████████████████████████████████████████████| 91/91 [00:00<00:00, 422.45it/s]\n"
     ]
    }
   ],
   "source": [
    "#train data set\n",
    "\n",
    "camp_train = create_training(train)\n",
    "camp_train.to_disk(\"nbme_train_803.spacy\")"
   ]
  },
  {
   "cell_type": "code",
   "execution_count": 215,
   "id": "10ab16eb",
   "metadata": {
    "scrolled": true
   },
   "outputs": [
    {
     "name": "stderr",
     "output_type": "stream",
     "text": [
      "100%|█████████████████████████████████████████████████████████████████████████████████| 23/23 [00:00<00:00, 540.13it/s]\n"
     ]
    }
   ],
   "source": [
    "#test data set\n",
    "\n",
    "camp_train = create_training(validation)\n",
    "camp_train.to_disk(\"nbme_validation_803.spacy\")"
   ]
  },
  {
   "cell_type": "code",
   "execution_count": 217,
   "id": "82ad2b05",
   "metadata": {},
   "outputs": [
    {
     "name": "stdout",
     "output_type": "stream",
     "text": [
      "[+] Auto-filled config with all values\n",
      "[+] Saved config\n",
      "config_803.cfg\n",
      "You can now add your data and train your pipeline:\n",
      "python -m spacy train config_803.cfg --paths.train ./train.spacy --paths.dev ./dev.spacy\n"
     ]
    },
    {
     "name": "stderr",
     "output_type": "stream",
     "text": [
      "2022-05-12 19:20:10.254452: W tensorflow/stream_executor/platform/default/dso_loader.cc:64] Could not load dynamic library 'cudart64_110.dll'; dlerror: cudart64_110.dll not found\n",
      "2022-05-12 19:20:10.254497: I tensorflow/stream_executor/cuda/cudart_stub.cc:29] Ignore above cudart dlerror if you do not have a GPU set up on your machine.\n"
     ]
    }
   ],
   "source": [
    "!python -m spacy init fill-config ./base_config_803.cfg ./config_803.cfg"
   ]
  },
  {
   "cell_type": "code",
   "execution_count": 219,
   "id": "efbee674",
   "metadata": {
    "scrolled": false
   },
   "outputs": [
    {
     "name": "stdout",
     "output_type": "stream",
     "text": [
      "[i] Saving to output directory: output_803\n",
      "[i] Using CPU\n",
      "\u001b[1m\n",
      "=========================== Initializing pipeline ===========================\u001b[0m\n",
      "[+] Initialized pipeline\n",
      "\u001b[1m\n",
      "============================= Training pipeline =============================\u001b[0m\n",
      "[i] Pipeline: ['tok2vec', 'ner']\n",
      "[i] Initial learn rate: 0.001\n",
      "E    #       LOSS TOK2VEC  LOSS NER  ENTS_F  ENTS_P  ENTS_R  SCORE \n",
      "---  ------  ------------  --------  ------  ------  ------  ------\n",
      "  0       0          0.00     63.33    1.78    0.92   30.43    0.02\n",
      "  2     200       1670.96   1627.22   80.85   79.17   82.61    0.81\n",
      "  4     400        361.90    232.66   42.55   41.67   43.48    0.43\n",
      "  6     600        163.08    163.71   89.36   87.50   91.30    0.89\n",
      "  8     800         83.96    105.85   88.00   81.48   95.65    0.88\n",
      " 10    1000         58.85     52.54   95.83   92.00  100.00    0.96\n",
      " 13    1200        165.41     53.19   87.50   84.00   91.30    0.87\n",
      " 15    1400         61.34     34.18   84.00   77.78   91.30    0.84\n",
      " 17    1600         72.09     38.66   76.92   68.97   86.96    0.77\n",
      " 19    1800        108.41     41.71   70.59   64.29   78.26    0.71\n",
      " 21    2000        312.25     24.44   83.02   73.33   95.65    0.83\n",
      " 24    2200         61.96     15.66   78.43   71.43   86.96    0.78\n",
      " 26    2400         52.57     15.15   93.88   88.46  100.00    0.94\n",
      " 28    2600         93.14     23.49   79.25   70.00   91.30    0.79\n",
      "[+] Saved pipeline to output directory\n",
      "output_803\\model-last\n"
     ]
    },
    {
     "name": "stderr",
     "output_type": "stream",
     "text": [
      "2022-05-12 19:20:16.374924: W tensorflow/stream_executor/platform/default/dso_loader.cc:64] Could not load dynamic library 'cudart64_110.dll'; dlerror: cudart64_110.dll not found\n",
      "2022-05-12 19:20:16.374963: I tensorflow/stream_executor/cuda/cudart_stub.cc:29] Ignore above cudart dlerror if you do not have a GPU set up on your machine.\n",
      "[2022-05-12 19:20:19,966] [INFO] Set up nlp object from config\n",
      "[2022-05-12 19:20:19,973] [INFO] Pipeline: ['tok2vec', 'ner']\n",
      "[2022-05-12 19:20:19,976] [INFO] Created vocabulary\n",
      "[2022-05-12 19:20:19,977] [INFO] Finished initializing nlp object\n",
      "[2022-05-12 19:20:20,410] [INFO] Initialized pipeline components: ['tok2vec', 'ner']\n"
     ]
    }
   ],
   "source": [
    "!python -m spacy train config_803.cfg --output ./output_803"
   ]
  },
  {
   "cell_type": "code",
   "execution_count": null,
   "id": "1d82cfc5",
   "metadata": {},
   "outputs": [],
   "source": []
  },
  {
   "cell_type": "code",
   "execution_count": null,
   "id": "2a9918b4",
   "metadata": {},
   "outputs": [],
   "source": []
  },
  {
   "cell_type": "markdown",
   "id": "3d8065f5",
   "metadata": {},
   "source": [
    "#### Feature 804"
   ]
  },
  {
   "cell_type": "code",
   "execution_count": 221,
   "id": "1846f521",
   "metadata": {},
   "outputs": [],
   "source": [
    "sep_combined_case8_804 = sep_combined_case8[sep_combined_case8.feature_num == 804]"
   ]
  },
  {
   "cell_type": "code",
   "execution_count": null,
   "id": "aeb601a3",
   "metadata": {},
   "outputs": [],
   "source": []
  },
  {
   "cell_type": "code",
   "execution_count": null,
   "id": "62683da9",
   "metadata": {},
   "outputs": [],
   "source": []
  },
  {
   "cell_type": "code",
   "execution_count": 223,
   "id": "d704f0d4",
   "metadata": {},
   "outputs": [],
   "source": [
    "pn_Num_list = list(sep_combined_case8_804.pn_num.unique())\n",
    "final_train = []   # appending all the individual rows\n",
    "for patient_number in pn_Num_list:  # for each unique patient number\n",
    "    entities = []  # saving individaual entities locations\n",
    "    for row_index,row in sep_combined_case8_804[sep_combined_case8_804.pn_num == patient_number].iterrows():  # for each unique patient number \n",
    "        \n",
    "        entities.append((int(row[\"start_location\"]),int(row[\"end_location\"]),\"Feature_\" + str(row[\"feature_num\"]))) # store the locations in numeric format\n",
    "        \n",
    "    text = sep_combined_case8_804[sep_combined_case8_804.pn_num == patient_number][\"New_pn_history\"].values[0] # save the text for the unique patient number\n",
    "    \n",
    "    final_train.append((text,{\"entities\":entities}))  # for each unique pn_number append to final list\n",
    "            "
   ]
  },
  {
   "cell_type": "code",
   "execution_count": 225,
   "id": "f8ab7519",
   "metadata": {},
   "outputs": [],
   "source": [
    "import json\n",
    "# Serializing json \n",
    "json_object = json.dumps(final_train, indent = 4)\n",
    "  \n",
    "# Writing to sample.json\n",
    "with open(\"sample_804.json\", \"w\") as outfile:\n",
    "    outfile.write(json_object)\n",
    "# Opening JSON file\n",
    "f = open(\"sample_804.json\")\n",
    " \n",
    "# returns JSON object as\n",
    "# a dictionary\n",
    "data = json.load(f)\n",
    "nlp = spacy.blank(\"en\")\n",
    "def create_training(TRAIN_DATA):\n",
    "    db = DocBin()\n",
    "    for text, annot in tqdm(TRAIN_DATA):\n",
    "        doc = nlp.make_doc(text)\n",
    "        ents = []\n",
    "        for start, end, label in annot[\"entities\"]:\n",
    "            span = doc.char_span(start, end, label=label, alignment_mode=\"contract\")\n",
    "            if span is None:\n",
    "                print (\"Skipping entity\")\n",
    "            else:\n",
    "                ents.append(span)\n",
    "        doc.ents = ents\n",
    "        db.add(doc)\n",
    "    return (db)\n",
    "n = int(len(data)*0.8)\n",
    "train = data[:n]\n",
    "validation = data[n:]"
   ]
  },
  {
   "cell_type": "code",
   "execution_count": 227,
   "id": "4feb9263",
   "metadata": {},
   "outputs": [
    {
     "name": "stderr",
     "output_type": "stream",
     "text": [
      "100%|█████████████████████████████████████████████████████████████████████████████████| 18/18 [00:00<00:00, 569.47it/s]\n"
     ]
    }
   ],
   "source": [
    "#train data set\n",
    "\n",
    "camp_train = create_training(train)\n",
    "camp_train.to_disk(\"nbme_train_804.spacy\")"
   ]
  },
  {
   "cell_type": "code",
   "execution_count": 229,
   "id": "16ffc178",
   "metadata": {},
   "outputs": [
    {
     "name": "stderr",
     "output_type": "stream",
     "text": [
      "100%|███████████████████████████████████████████████████████████████████████████████████| 5/5 [00:00<00:00, 606.53it/s]\n"
     ]
    }
   ],
   "source": [
    "#test data set\n",
    "\n",
    "camp_train = create_training(validation)\n",
    "camp_train.to_disk(\"nbme_validation_804.spacy\")"
   ]
  },
  {
   "cell_type": "code",
   "execution_count": 231,
   "id": "34e28250",
   "metadata": {},
   "outputs": [
    {
     "name": "stdout",
     "output_type": "stream",
     "text": [
      "[+] Auto-filled config with all values\n",
      "[+] Saved config\n",
      "config_804.cfg\n",
      "You can now add your data and train your pipeline:\n",
      "python -m spacy train config_804.cfg --paths.train ./train.spacy --paths.dev ./dev.spacy\n"
     ]
    },
    {
     "name": "stderr",
     "output_type": "stream",
     "text": [
      "2022-05-12 19:33:02.599197: W tensorflow/stream_executor/platform/default/dso_loader.cc:64] Could not load dynamic library 'cudart64_110.dll'; dlerror: cudart64_110.dll not found\n",
      "2022-05-12 19:33:02.599237: I tensorflow/stream_executor/cuda/cudart_stub.cc:29] Ignore above cudart dlerror if you do not have a GPU set up on your machine.\n"
     ]
    }
   ],
   "source": [
    "!python -m spacy init fill-config ./base_config_804.cfg ./config_804.cfg"
   ]
  },
  {
   "cell_type": "code",
   "execution_count": 233,
   "id": "8872b239",
   "metadata": {},
   "outputs": [
    {
     "name": "stdout",
     "output_type": "stream",
     "text": [
      "[i] Saving to output directory: output_804\n",
      "[i] Using CPU\n",
      "\u001b[1m\n",
      "=========================== Initializing pipeline ===========================\u001b[0m\n",
      "[+] Initialized pipeline\n",
      "\u001b[1m\n",
      "============================= Training pipeline =============================\u001b[0m\n",
      "[i] Pipeline: ['tok2vec', 'ner']\n",
      "[i] Initial learn rate: 0.001\n",
      "E    #       LOSS TOK2VEC  LOSS NER  ENTS_F  ENTS_P  ENTS_R  SCORE \n",
      "---  ------  ------------  --------  ------  ------  ------  ------\n",
      "  0       0          0.00     63.50    0.00    0.00    0.00    0.00\n",
      " 11     200       3215.92   2489.07  100.00  100.00  100.00    1.00\n",
      " 22     400          0.00      0.00  100.00  100.00  100.00    1.00\n",
      " 33     600          0.00      0.00  100.00  100.00  100.00    1.00\n",
      " 44     800          0.00      0.00  100.00  100.00  100.00    1.00\n",
      " 55    1000          0.00      0.00  100.00  100.00  100.00    1.00\n",
      " 66    1200          0.00      0.00  100.00  100.00  100.00    1.00\n",
      " 77    1400          0.00      0.00  100.00  100.00  100.00    1.00\n",
      " 88    1600          0.00      0.00  100.00  100.00  100.00    1.00\n",
      "100    1800          0.00      0.00  100.00  100.00  100.00    1.00\n",
      "[+] Saved pipeline to output directory\n",
      "output_804\\model-last\n"
     ]
    },
    {
     "name": "stderr",
     "output_type": "stream",
     "text": [
      "2022-05-12 19:33:07.712498: W tensorflow/stream_executor/platform/default/dso_loader.cc:64] Could not load dynamic library 'cudart64_110.dll'; dlerror: cudart64_110.dll not found\n",
      "2022-05-12 19:33:07.712535: I tensorflow/stream_executor/cuda/cudart_stub.cc:29] Ignore above cudart dlerror if you do not have a GPU set up on your machine.\n",
      "[2022-05-12 19:33:11,319] [INFO] Set up nlp object from config\n",
      "[2022-05-12 19:33:11,327] [INFO] Pipeline: ['tok2vec', 'ner']\n",
      "[2022-05-12 19:33:11,331] [INFO] Created vocabulary\n",
      "[2022-05-12 19:33:11,331] [INFO] Finished initializing nlp object\n",
      "[2022-05-12 19:33:11,635] [INFO] Initialized pipeline components: ['tok2vec', 'ner']\n"
     ]
    }
   ],
   "source": [
    "!python -m spacy train config_804.cfg --output ./output_804"
   ]
  },
  {
   "cell_type": "code",
   "execution_count": null,
   "id": "332585c7",
   "metadata": {},
   "outputs": [],
   "source": []
  },
  {
   "cell_type": "code",
   "execution_count": null,
   "id": "38fe79bd",
   "metadata": {},
   "outputs": [],
   "source": []
  },
  {
   "cell_type": "markdown",
   "id": "08877bbf",
   "metadata": {},
   "source": [
    "#### Feature 805"
   ]
  },
  {
   "cell_type": "code",
   "execution_count": 235,
   "id": "72bdcf5b",
   "metadata": {},
   "outputs": [],
   "source": [
    "sep_combined_case8_805 = sep_combined_case8[sep_combined_case8.feature_num == 805]"
   ]
  },
  {
   "cell_type": "code",
   "execution_count": null,
   "id": "2bf3127f",
   "metadata": {},
   "outputs": [],
   "source": []
  },
  {
   "cell_type": "code",
   "execution_count": null,
   "id": "89655dc7",
   "metadata": {},
   "outputs": [],
   "source": []
  },
  {
   "cell_type": "code",
   "execution_count": 237,
   "id": "2b845f43",
   "metadata": {},
   "outputs": [],
   "source": [
    "pn_Num_list = list(sep_combined_case8_805.pn_num.unique())\n",
    "final_train = []   # appending all the individual rows\n",
    "for patient_number in pn_Num_list:  # for each unique patient number\n",
    "    entities = []  # saving individaual entities locations\n",
    "    for row_index,row in sep_combined_case8_805[sep_combined_case8_805.pn_num == patient_number].iterrows():  # for each unique patient number \n",
    "        \n",
    "        entities.append((int(row[\"start_location\"]),int(row[\"end_location\"]),\"Feature_\" + str(row[\"feature_num\"]))) # store the locations in numeric format\n",
    "        \n",
    "    text = sep_combined_case8_805[sep_combined_case8_805.pn_num == patient_number][\"New_pn_history\"].values[0] # save the text for the unique patient number\n",
    "    \n",
    "    final_train.append((text,{\"entities\":entities}))  # for each unique pn_number append to final list\n",
    "            "
   ]
  },
  {
   "cell_type": "code",
   "execution_count": 239,
   "id": "0fb2a056",
   "metadata": {},
   "outputs": [],
   "source": [
    "import json\n",
    "# Serializing json \n",
    "json_object = json.dumps(final_train, indent = 4)\n",
    "  \n",
    "# Writing to sample.json\n",
    "with open(\"sample_805.json\", \"w\") as outfile:\n",
    "    outfile.write(json_object)\n",
    "# Opening JSON file\n",
    "f = open(\"sample_805.json\")\n",
    " \n",
    "# returns JSON object as\n",
    "# a dictionary\n",
    "data = json.load(f)\n",
    "nlp = spacy.blank(\"en\")\n",
    "def create_training(TRAIN_DATA):\n",
    "    db = DocBin()\n",
    "    for text, annot in tqdm(TRAIN_DATA):\n",
    "        doc = nlp.make_doc(text)\n",
    "        ents = []\n",
    "        for start, end, label in annot[\"entities\"]:\n",
    "            span = doc.char_span(start, end, label=label, alignment_mode=\"contract\")\n",
    "            if span is None:\n",
    "                print (\"Skipping entity\")\n",
    "            else:\n",
    "                ents.append(span)\n",
    "        doc.ents = ents\n",
    "        db.add(doc)\n",
    "    return (db)\n",
    "n = int(len(data)*0.8)\n",
    "train = data[:n]\n",
    "validation = data[n:]"
   ]
  },
  {
   "cell_type": "code",
   "execution_count": 241,
   "id": "494ef9c2",
   "metadata": {},
   "outputs": [
    {
     "name": "stderr",
     "output_type": "stream",
     "text": [
      "100%|█████████████████████████████████████████████████████████████████████████████████| 74/74 [00:00<00:00, 609.27it/s]\n"
     ]
    }
   ],
   "source": [
    "#train data set\n",
    "\n",
    "camp_train = create_training(train)\n",
    "camp_train.to_disk(\"nbme_train_805.spacy\")"
   ]
  },
  {
   "cell_type": "code",
   "execution_count": 243,
   "id": "a3cb1914",
   "metadata": {},
   "outputs": [
    {
     "name": "stderr",
     "output_type": "stream",
     "text": [
      "100%|█████████████████████████████████████████████████████████████████████████████████| 19/19 [00:00<00:00, 871.33it/s]\n"
     ]
    }
   ],
   "source": [
    "#test data set\n",
    "\n",
    "camp_train = create_training(validation)\n",
    "camp_train.to_disk(\"nbme_validation_805.spacy\")"
   ]
  },
  {
   "cell_type": "code",
   "execution_count": 245,
   "id": "c1396262",
   "metadata": {},
   "outputs": [
    {
     "name": "stdout",
     "output_type": "stream",
     "text": [
      "[+] Auto-filled config with all values\n",
      "[+] Saved config\n",
      "config_805.cfg\n",
      "You can now add your data and train your pipeline:\n",
      "python -m spacy train config_805.cfg --paths.train ./train.spacy --paths.dev ./dev.spacy\n"
     ]
    },
    {
     "name": "stderr",
     "output_type": "stream",
     "text": [
      "2022-05-12 19:41:02.952754: W tensorflow/stream_executor/platform/default/dso_loader.cc:64] Could not load dynamic library 'cudart64_110.dll'; dlerror: cudart64_110.dll not found\n",
      "2022-05-12 19:41:02.952793: I tensorflow/stream_executor/cuda/cudart_stub.cc:29] Ignore above cudart dlerror if you do not have a GPU set up on your machine.\n"
     ]
    }
   ],
   "source": [
    "!python -m spacy init fill-config ./base_config_805.cfg ./config_805.cfg"
   ]
  },
  {
   "cell_type": "code",
   "execution_count": 247,
   "id": "b818cb8c",
   "metadata": {},
   "outputs": [
    {
     "name": "stdout",
     "output_type": "stream",
     "text": [
      "[i] Saving to output directory: output_805\n",
      "[i] Using CPU\n",
      "\u001b[1m\n",
      "=========================== Initializing pipeline ===========================\u001b[0m\n",
      "[+] Initialized pipeline\n",
      "\u001b[1m\n",
      "============================= Training pipeline =============================\u001b[0m\n",
      "[i] Pipeline: ['tok2vec', 'ner']\n",
      "[i] Initial learn rate: 0.001\n",
      "E    #       LOSS TOK2VEC  LOSS NER  ENTS_F  ENTS_P  ENTS_R  SCORE \n",
      "---  ------  ------------  --------  ------  ------  ------  ------\n",
      "  0       0          0.00     58.00    2.25    1.18   26.32    0.02\n",
      "  2     200       1682.17   2177.70  100.00  100.00  100.00    1.00\n",
      "  5     400          1.18      2.53   97.30  100.00   94.74    0.97\n",
      "  8     600          0.00      0.00   97.30  100.00   94.74    0.97\n",
      " 10     800          0.00      0.00   97.30  100.00   94.74    0.97\n",
      " 13    1000          0.00      0.00   97.30  100.00   94.74    0.97\n",
      " 16    1200          0.00      0.00   97.30  100.00   94.74    0.97\n",
      " 18    1400          0.00      0.00   97.30  100.00   94.74    0.97\n",
      " 21    1600          0.00      0.00   97.30  100.00   94.74    0.97\n",
      " 24    1800          0.00      0.00   97.30  100.00   94.74    0.97\n",
      "[+] Saved pipeline to output directory\n",
      "output_805\\model-last\n"
     ]
    },
    {
     "name": "stderr",
     "output_type": "stream",
     "text": [
      "2022-05-12 19:41:08.232127: W tensorflow/stream_executor/platform/default/dso_loader.cc:64] Could not load dynamic library 'cudart64_110.dll'; dlerror: cudart64_110.dll not found\n",
      "2022-05-12 19:41:08.232167: I tensorflow/stream_executor/cuda/cudart_stub.cc:29] Ignore above cudart dlerror if you do not have a GPU set up on your machine.\n",
      "[2022-05-12 19:41:12,453] [INFO] Set up nlp object from config\n",
      "[2022-05-12 19:41:12,461] [INFO] Pipeline: ['tok2vec', 'ner']\n",
      "[2022-05-12 19:41:12,465] [INFO] Created vocabulary\n",
      "[2022-05-12 19:41:12,466] [INFO] Finished initializing nlp object\n",
      "[2022-05-12 19:41:12,904] [INFO] Initialized pipeline components: ['tok2vec', 'ner']\n"
     ]
    }
   ],
   "source": [
    "!python -m spacy train config_805.cfg --output ./output_805"
   ]
  },
  {
   "cell_type": "code",
   "execution_count": null,
   "id": "91a5a90b",
   "metadata": {},
   "outputs": [],
   "source": []
  },
  {
   "cell_type": "code",
   "execution_count": null,
   "id": "5037983a",
   "metadata": {},
   "outputs": [],
   "source": []
  },
  {
   "cell_type": "markdown",
   "id": "1330f2b9",
   "metadata": {},
   "source": [
    "#### Feature 806"
   ]
  },
  {
   "cell_type": "code",
   "execution_count": 249,
   "id": "45e573b4",
   "metadata": {},
   "outputs": [],
   "source": [
    "sep_combined_case8_806 = sep_combined_case8[sep_combined_case8.feature_num == 806]"
   ]
  },
  {
   "cell_type": "code",
   "execution_count": null,
   "id": "8a4256af",
   "metadata": {},
   "outputs": [],
   "source": []
  },
  {
   "cell_type": "code",
   "execution_count": null,
   "id": "7a4732ad",
   "metadata": {},
   "outputs": [],
   "source": []
  },
  {
   "cell_type": "code",
   "execution_count": 251,
   "id": "d2e6fde8",
   "metadata": {},
   "outputs": [],
   "source": [
    "pn_Num_list = list(sep_combined_case8_806.pn_num.unique())\n",
    "final_train = []   # appending all the individual rows\n",
    "for patient_number in pn_Num_list:  # for each unique patient number\n",
    "    entities = []  # saving individaual entities locations\n",
    "    for row_index,row in sep_combined_case8_806[sep_combined_case8_806.pn_num == patient_number].iterrows():  # for each unique patient number \n",
    "        \n",
    "        entities.append((int(row[\"start_location\"]),int(row[\"end_location\"]),\"Feature_\" + str(row[\"feature_num\"]))) # store the locations in numeric format\n",
    "        \n",
    "    text = sep_combined_case8_806[sep_combined_case8_806.pn_num == patient_number][\"New_pn_history\"].values[0] # save the text for the unique patient number\n",
    "    \n",
    "    final_train.append((text,{\"entities\":entities}))  # for each unique pn_number append to final list\n",
    "            "
   ]
  },
  {
   "cell_type": "code",
   "execution_count": 253,
   "id": "bbe06f7b",
   "metadata": {},
   "outputs": [],
   "source": [
    "import json\n",
    "# Serializing json \n",
    "json_object = json.dumps(final_train, indent = 4)\n",
    "  \n",
    "# Writing to sample.json\n",
    "with open(\"sample_806.json\", \"w\") as outfile:\n",
    "    outfile.write(json_object)\n",
    "# Opening JSON file\n",
    "f = open(\"sample_806.json\")\n",
    " \n",
    "# returns JSON object as\n",
    "# a dictionary\n",
    "data = json.load(f)\n",
    "nlp = spacy.blank(\"en\")\n",
    "def create_training(TRAIN_DATA):\n",
    "    db = DocBin()\n",
    "    for text, annot in tqdm(TRAIN_DATA):\n",
    "        doc = nlp.make_doc(text)\n",
    "        ents = []\n",
    "        for start, end, label in annot[\"entities\"]:\n",
    "            span = doc.char_span(start, end, label=label, alignment_mode=\"contract\")\n",
    "            if span is None:\n",
    "                print (\"Skipping entity\")\n",
    "            else:\n",
    "                ents.append(span)\n",
    "        doc.ents = ents\n",
    "        db.add(doc)\n",
    "    return (db)\n",
    "n = int(len(data)*0.8)\n",
    "train = data[:n]\n",
    "validation = data[n:]"
   ]
  },
  {
   "cell_type": "code",
   "execution_count": 255,
   "id": "bb75a7d6",
   "metadata": {},
   "outputs": [
    {
     "name": "stderr",
     "output_type": "stream",
     "text": [
      "100%|████████████████████████████████████████████████████████████████████████████████| 62/62 [00:00<00:00, 1301.31it/s]\n"
     ]
    }
   ],
   "source": [
    "#train data set\n",
    "\n",
    "camp_train = create_training(train)\n",
    "camp_train.to_disk(\"nbme_train_806.spacy\")"
   ]
  },
  {
   "cell_type": "code",
   "execution_count": 257,
   "id": "d8dfe948",
   "metadata": {},
   "outputs": [
    {
     "name": "stderr",
     "output_type": "stream",
     "text": [
      "100%|████████████████████████████████████████████████████████████████████████████████| 16/16 [00:00<00:00, 1126.10it/s]\n"
     ]
    }
   ],
   "source": [
    "#test data set\n",
    "\n",
    "camp_train = create_training(validation)\n",
    "camp_train.to_disk(\"nbme_validation_806.spacy\")"
   ]
  },
  {
   "cell_type": "code",
   "execution_count": 259,
   "id": "d6945958",
   "metadata": {},
   "outputs": [
    {
     "name": "stdout",
     "output_type": "stream",
     "text": [
      "[+] Auto-filled config with all values\n",
      "[+] Saved config\n",
      "config_806.cfg\n",
      "You can now add your data and train your pipeline:\n",
      "python -m spacy train config_806.cfg --paths.train ./train.spacy --paths.dev ./dev.spacy\n"
     ]
    },
    {
     "name": "stderr",
     "output_type": "stream",
     "text": [
      "2022-05-12 19:44:12.967198: W tensorflow/stream_executor/platform/default/dso_loader.cc:64] Could not load dynamic library 'cudart64_110.dll'; dlerror: cudart64_110.dll not found\n",
      "2022-05-12 19:44:12.967236: I tensorflow/stream_executor/cuda/cudart_stub.cc:29] Ignore above cudart dlerror if you do not have a GPU set up on your machine.\n"
     ]
    }
   ],
   "source": [
    "!python -m spacy init fill-config ./base_config_806.cfg ./config_806.cfg"
   ]
  },
  {
   "cell_type": "code",
   "execution_count": 261,
   "id": "69cd423f",
   "metadata": {},
   "outputs": [
    {
     "name": "stdout",
     "output_type": "stream",
     "text": [
      "[i] Saving to output directory: output_806\n",
      "[i] Using CPU\n",
      "\u001b[1m\n",
      "=========================== Initializing pipeline ===========================\u001b[0m\n",
      "[+] Initialized pipeline\n",
      "\u001b[1m\n",
      "============================= Training pipeline =============================\u001b[0m\n",
      "[i] Pipeline: ['tok2vec', 'ner']\n",
      "[i] Initial learn rate: 0.001\n",
      "E    #       LOSS TOK2VEC  LOSS NER  ENTS_F  ENTS_P  ENTS_R  SCORE \n",
      "---  ------  ------------  --------  ------  ------  ------  ------\n",
      "  0       0          0.00     68.50    0.00    0.00    0.00    0.00\n",
      "  3     200       2623.80   2249.13   93.33  100.00   87.50    0.93\n",
      "  6     400         40.88     77.47   90.32   93.33   87.50    0.90\n",
      "  9     600      15032.34    179.44   86.67   92.86   81.25    0.87\n",
      " 12     800         17.71     25.14   85.71  100.00   75.00    0.86\n",
      " 16    1000          6.88      6.36   90.32   93.33   87.50    0.90\n",
      " 19    1200         16.39     14.71   90.32   93.33   87.50    0.90\n",
      " 22    1400        184.81     22.96   86.67   92.86   81.25    0.87\n",
      " 25    1600        469.88     35.93   81.25   81.25   81.25    0.81\n",
      " 29    1800         14.04     11.32   85.71  100.00   75.00    0.86\n",
      "[+] Saved pipeline to output directory\n",
      "output_806\\model-last\n"
     ]
    },
    {
     "name": "stderr",
     "output_type": "stream",
     "text": [
      "2022-05-12 19:47:23.067663: W tensorflow/stream_executor/platform/default/dso_loader.cc:64] Could not load dynamic library 'cudart64_110.dll'; dlerror: cudart64_110.dll not found\n",
      "2022-05-12 19:47:23.067701: I tensorflow/stream_executor/cuda/cudart_stub.cc:29] Ignore above cudart dlerror if you do not have a GPU set up on your machine.\n",
      "[2022-05-12 19:47:26,690] [INFO] Set up nlp object from config\n",
      "[2022-05-12 19:47:26,698] [INFO] Pipeline: ['tok2vec', 'ner']\n",
      "[2022-05-12 19:47:26,702] [INFO] Created vocabulary\n",
      "[2022-05-12 19:47:26,703] [INFO] Finished initializing nlp object\n",
      "[2022-05-12 19:47:27,092] [INFO] Initialized pipeline components: ['tok2vec', 'ner']\n"
     ]
    }
   ],
   "source": [
    "!python -m spacy train config_806.cfg --output ./output_806"
   ]
  },
  {
   "cell_type": "code",
   "execution_count": null,
   "id": "61299c73",
   "metadata": {},
   "outputs": [],
   "source": []
  },
  {
   "cell_type": "code",
   "execution_count": null,
   "id": "8ffa2902",
   "metadata": {},
   "outputs": [],
   "source": []
  },
  {
   "cell_type": "markdown",
   "id": "90fb1c18",
   "metadata": {},
   "source": [
    "#### Feature 807"
   ]
  },
  {
   "cell_type": "code",
   "execution_count": 263,
   "id": "33d85b9b",
   "metadata": {},
   "outputs": [
    {
     "data": {
      "text/plain": [
       "(1, 11)"
      ]
     },
     "execution_count": 263,
     "metadata": {},
     "output_type": "execute_result"
    }
   ],
   "source": [
    "sep_combined_case8_807 = sep_combined_case8[sep_combined_case8.feature_num == 807]\n",
    "sep_combined_case8_807.shape"
   ]
  },
  {
   "cell_type": "code",
   "execution_count": 265,
   "id": "c52f6ebd",
   "metadata": {},
   "outputs": [
    {
     "data": {
      "text/html": [
       "<div>\n",
       "<style scoped>\n",
       "    .dataframe tbody tr th:only-of-type {\n",
       "        vertical-align: middle;\n",
       "    }\n",
       "\n",
       "    .dataframe tbody tr th {\n",
       "        vertical-align: top;\n",
       "    }\n",
       "\n",
       "    .dataframe thead th {\n",
       "        text-align: right;\n",
       "    }\n",
       "</style>\n",
       "<table border=\"1\" class=\"dataframe\">\n",
       "  <thead>\n",
       "    <tr style=\"text-align: right;\">\n",
       "      <th></th>\n",
       "      <th>pn_num</th>\n",
       "      <th>feature_num</th>\n",
       "      <th>annotation</th>\n",
       "      <th>location</th>\n",
       "      <th>start_location</th>\n",
       "      <th>end_location</th>\n",
       "      <th>case_num</th>\n",
       "      <th>pn_history</th>\n",
       "      <th>New_annotation</th>\n",
       "      <th>New_pn_history</th>\n",
       "      <th>new_location</th>\n",
       "    </tr>\n",
       "  </thead>\n",
       "  <tbody>\n",
       "    <tr>\n",
       "      <th>874</th>\n",
       "      <td>82622</td>\n",
       "      <td>807</td>\n",
       "      <td>'started taking Ambien from a friend recently ...</td>\n",
       "      <td>'446 526'</td>\n",
       "      <td>434</td>\n",
       "      <td>513</td>\n",
       "      <td>8</td>\n",
       "      <td>HOI: 67 y/o F c/o difficulty falling asleep an...</td>\n",
       "      <td>started taking Ambien from a friend recently a...</td>\n",
       "      <td>HOI : 67 y o F c o difficulty falling asleep a...</td>\n",
       "      <td>&lt;re.Match object; span=(434, 513), match='star...</td>\n",
       "    </tr>\n",
       "  </tbody>\n",
       "</table>\n",
       "</div>"
      ],
      "text/plain": [
       "     pn_num  feature_num                                         annotation  \\\n",
       "874   82622          807  'started taking Ambien from a friend recently ...   \n",
       "\n",
       "      location  start_location  end_location  case_num  \\\n",
       "874  '446 526'             434           513         8   \n",
       "\n",
       "                                            pn_history  \\\n",
       "874  HOI: 67 y/o F c/o difficulty falling asleep an...   \n",
       "\n",
       "                                        New_annotation  \\\n",
       "874  started taking Ambien from a friend recently a...   \n",
       "\n",
       "                                        New_pn_history  \\\n",
       "874  HOI : 67 y o F c o difficulty falling asleep a...   \n",
       "\n",
       "                                          new_location  \n",
       "874  <re.Match object; span=(434, 513), match='star...  "
      ]
     },
     "execution_count": 265,
     "metadata": {},
     "output_type": "execute_result"
    }
   ],
   "source": [
    "sep_combined_case8_807"
   ]
  },
  {
   "cell_type": "code",
   "execution_count": 267,
   "id": "fcc14e61",
   "metadata": {},
   "outputs": [],
   "source": [
    "## Only 1 one observation"
   ]
  },
  {
   "cell_type": "code",
   "execution_count": 269,
   "id": "ec562c24",
   "metadata": {},
   "outputs": [],
   "source": [
    "pn_Num_list = list(sep_combined_case8_807.pn_num.unique())\n",
    "final_train = []   # appending all the individual rows\n",
    "for patient_number in pn_Num_list:  # for each unique patient number\n",
    "    entities = []  # saving individaual entities locations\n",
    "    for row_index,row in sep_combined_case8_807[sep_combined_case8_807.pn_num == patient_number].iterrows():  # for each unique patient number \n",
    "        \n",
    "        entities.append((int(row[\"start_location\"]),int(row[\"end_location\"]),\"Feature_\" + str(row[\"feature_num\"]))) # store the locations in numeric format\n",
    "        \n",
    "    text = sep_combined_case8_807[sep_combined_case8_807.pn_num == patient_number][\"New_pn_history\"].values[0] # save the text for the unique patient number\n",
    "    \n",
    "    final_train.append((text,{\"entities\":entities}))  # for each unique pn_number append to final list\n",
    "            "
   ]
  },
  {
   "cell_type": "code",
   "execution_count": 271,
   "id": "adfc6905",
   "metadata": {},
   "outputs": [],
   "source": [
    "import json\n",
    "# Serializing json \n",
    "json_object = json.dumps(final_train, indent = 4)\n",
    "  \n",
    "# Writing to sample.json\n",
    "with open(\"sample_807.json\", \"w\") as outfile:\n",
    "    outfile.write(json_object)\n",
    "# Opening JSON file\n",
    "f = open(\"sample_807.json\")\n",
    " \n",
    "# returns JSON object as\n",
    "# a dictionary\n",
    "data = json.load(f)\n",
    "nlp = spacy.blank(\"en\")\n",
    "def create_training(TRAIN_DATA):\n",
    "    db = DocBin()\n",
    "    for text, annot in tqdm(TRAIN_DATA):\n",
    "        doc = nlp.make_doc(text)\n",
    "        ents = []\n",
    "        for start, end, label in annot[\"entities\"]:\n",
    "            span = doc.char_span(start, end, label=label, alignment_mode=\"contract\")\n",
    "            if span is None:\n",
    "                print (\"Skipping entity\")\n",
    "            else:\n",
    "                ents.append(span)\n",
    "        doc.ents = ents\n",
    "        db.add(doc)\n",
    "    return (db)\n",
    "n = int(len(data)*0.8)\n",
    "train = data[:n]\n",
    "validation = data[n:]"
   ]
  },
  {
   "cell_type": "code",
   "execution_count": 273,
   "id": "663e3a92",
   "metadata": {},
   "outputs": [
    {
     "name": "stderr",
     "output_type": "stream",
     "text": [
      "0it [00:00, ?it/s]\n"
     ]
    }
   ],
   "source": [
    "#train data set\n",
    "\n",
    "camp_train = create_training(train)\n",
    "camp_train.to_disk(\"nbme_train_807.spacy\")"
   ]
  },
  {
   "cell_type": "code",
   "execution_count": 275,
   "id": "5edc64ce",
   "metadata": {},
   "outputs": [
    {
     "name": "stderr",
     "output_type": "stream",
     "text": [
      "100%|███████████████████████████████████████████████████████████████████████████████████| 1/1 [00:00<00:00, 230.86it/s]\n"
     ]
    }
   ],
   "source": [
    "#test data set\n",
    "\n",
    "camp_train = create_training(validation)\n",
    "camp_train.to_disk(\"nbme_validation_807.spacy\")"
   ]
  },
  {
   "cell_type": "code",
   "execution_count": 277,
   "id": "1a601c11",
   "metadata": {},
   "outputs": [
    {
     "name": "stdout",
     "output_type": "stream",
     "text": [
      "[+] Auto-filled config with all values\n",
      "[+] Saved config\n",
      "config_807.cfg\n",
      "You can now add your data and train your pipeline:\n",
      "python -m spacy train config_807.cfg --paths.train ./train.spacy --paths.dev ./dev.spacy\n"
     ]
    },
    {
     "name": "stderr",
     "output_type": "stream",
     "text": [
      "2022-05-12 19:50:08.219273: W tensorflow/stream_executor/platform/default/dso_loader.cc:64] Could not load dynamic library 'cudart64_110.dll'; dlerror: cudart64_110.dll not found\n",
      "2022-05-12 19:50:08.219311: I tensorflow/stream_executor/cuda/cudart_stub.cc:29] Ignore above cudart dlerror if you do not have a GPU set up on your machine.\n"
     ]
    }
   ],
   "source": [
    "!python -m spacy init fill-config ./base_config_807.cfg ./config_807.cfg"
   ]
  },
  {
   "cell_type": "code",
   "execution_count": 279,
   "id": "ab96f1fc",
   "metadata": {},
   "outputs": [
    {
     "name": "stdout",
     "output_type": "stream",
     "text": [
      "[i] Saving to output directory: output_807\n",
      "[i] Using CPU\n",
      "\u001b[1m\n",
      "=========================== Initializing pipeline ===========================\u001b[0m\n"
     ]
    },
    {
     "name": "stderr",
     "output_type": "stream",
     "text": [
      "2022-05-12 19:50:13.232744: W tensorflow/stream_executor/platform/default/dso_loader.cc:64] Could not load dynamic library 'cudart64_110.dll'; dlerror: cudart64_110.dll not found\n",
      "2022-05-12 19:50:13.232782: I tensorflow/stream_executor/cuda/cudart_stub.cc:29] Ignore above cudart dlerror if you do not have a GPU set up on your machine.\n",
      "[2022-05-12 19:50:16,650] [INFO] Set up nlp object from config\n",
      "[2022-05-12 19:50:16,658] [INFO] Pipeline: ['tok2vec', 'ner']\n",
      "[2022-05-12 19:50:16,661] [INFO] Created vocabulary\n",
      "[2022-05-12 19:50:16,662] [INFO] Finished initializing nlp object\n",
      "Traceback (most recent call last):\n",
      "  File \"C:\\Users\\hp\\anaconda3\\lib\\runpy.py\", line 194, in _run_module_as_main\n",
      "    return _run_code(code, main_globals, None,\n",
      "  File \"C:\\Users\\hp\\anaconda3\\lib\\runpy.py\", line 87, in _run_code\n",
      "    exec(code, run_globals)\n",
      "  File \"C:\\Users\\hp\\anaconda3\\lib\\site-packages\\spacy\\__main__.py\", line 4, in <module>\n",
      "    setup_cli()\n",
      "  File \"C:\\Users\\hp\\anaconda3\\lib\\site-packages\\spacy\\cli\\_util.py\", line 71, in setup_cli\n",
      "    command(prog_name=COMMAND)\n",
      "  File \"C:\\Users\\hp\\anaconda3\\lib\\site-packages\\click\\core.py\", line 829, in __call__\n",
      "    return self.main(*args, **kwargs)\n",
      "  File \"C:\\Users\\hp\\anaconda3\\lib\\site-packages\\click\\core.py\", line 782, in main\n",
      "    rv = self.invoke(ctx)\n",
      "  File \"C:\\Users\\hp\\anaconda3\\lib\\site-packages\\click\\core.py\", line 1259, in invoke\n",
      "    return _process_result(sub_ctx.command.invoke(sub_ctx))\n",
      "  File \"C:\\Users\\hp\\anaconda3\\lib\\site-packages\\click\\core.py\", line 1066, in invoke\n",
      "    return ctx.invoke(self.callback, **ctx.params)\n",
      "  File \"C:\\Users\\hp\\anaconda3\\lib\\site-packages\\click\\core.py\", line 610, in invoke\n",
      "    return callback(*args, **kwargs)\n",
      "  File \"C:\\Users\\hp\\anaconda3\\lib\\site-packages\\typer\\main.py\", line 500, in wrapper\n",
      "    return callback(**use_params)  # type: ignore\n",
      "  File \"C:\\Users\\hp\\anaconda3\\lib\\site-packages\\spacy\\cli\\train.py\", line 45, in train_cli\n",
      "    train(config_path, output_path, use_gpu=use_gpu, overrides=overrides)\n",
      "  File \"C:\\Users\\hp\\anaconda3\\lib\\site-packages\\spacy\\cli\\train.py\", line 72, in train\n",
      "    nlp = init_nlp(config, use_gpu=use_gpu)\n",
      "  File \"C:\\Users\\hp\\anaconda3\\lib\\site-packages\\spacy\\training\\initialize.py\", line 84, in init_nlp\n",
      "    nlp.initialize(lambda: train_corpus(nlp), sgd=optimizer)\n",
      "  File \"C:\\Users\\hp\\anaconda3\\lib\\site-packages\\spacy\\language.py\", line 1308, in initialize\n",
      "    proc.initialize(get_examples, nlp=self, **p_settings)\n",
      "  File \"C:\\Users\\hp\\anaconda3\\lib\\site-packages\\spacy\\pipeline\\tok2vec.py\", line 219, in initialize\n",
      "    assert doc_sample, Errors.E923.format(name=self.name)\n",
      "AssertionError: [E923] It looks like there is no proper sample data to initialize the Model of component 'tok2vec'. To check your input data paths and annotation, run: python -m spacy debug data config.cfg and include the same config override values you would specify for the 'spacy train' command.\n"
     ]
    }
   ],
   "source": [
    "!python -m spacy train config_807.cfg --output ./output_807"
   ]
  },
  {
   "cell_type": "code",
   "execution_count": null,
   "id": "b7d24c09",
   "metadata": {},
   "outputs": [],
   "source": []
  },
  {
   "cell_type": "code",
   "execution_count": null,
   "id": "72897721",
   "metadata": {},
   "outputs": [],
   "source": []
  },
  {
   "cell_type": "markdown",
   "id": "3bb3e9f6",
   "metadata": {},
   "source": [
    "#### Feature 808"
   ]
  },
  {
   "cell_type": "code",
   "execution_count": 281,
   "id": "871f7e7b",
   "metadata": {},
   "outputs": [],
   "source": [
    "sep_combined_case8_808 = sep_combined_case8[sep_combined_case8.feature_num == 808]"
   ]
  },
  {
   "cell_type": "code",
   "execution_count": 283,
   "id": "216e1c3e",
   "metadata": {},
   "outputs": [],
   "source": [
    "sep_combined_case8_808 = sep_combined_case8_808.drop(index=21)"
   ]
  },
  {
   "cell_type": "code",
   "execution_count": null,
   "id": "842a0c58",
   "metadata": {},
   "outputs": [],
   "source": []
  },
  {
   "cell_type": "code",
   "execution_count": 285,
   "id": "be82d14a",
   "metadata": {},
   "outputs": [],
   "source": [
    "pn_Num_list = list(sep_combined_case8_808.pn_num.unique())\n",
    "final_train = []   # appending all the individual rows\n",
    "for patient_number in pn_Num_list:  # for each unique patient number\n",
    "    entities = []  # saving individaual entities locations\n",
    "    for row_index,row in sep_combined_case8_808[sep_combined_case8_808.pn_num == patient_number].iterrows():  # for each unique patient number \n",
    "        \n",
    "        entities.append((int(row[\"start_location\"]),int(row[\"end_location\"]),\"Feature_\" + str(row[\"feature_num\"]))) # store the locations in numeric format\n",
    "        \n",
    "    text = sep_combined_case8_808[sep_combined_case8_808.pn_num == patient_number][\"New_pn_history\"].values[0] # save the text for the unique patient number\n",
    "    \n",
    "    final_train.append((text,{\"entities\":entities}))  # for each unique pn_number append to final list\n",
    "            "
   ]
  },
  {
   "cell_type": "code",
   "execution_count": 287,
   "id": "dd5558a2",
   "metadata": {},
   "outputs": [],
   "source": [
    "import json\n",
    "# Serializing json \n",
    "json_object = json.dumps(final_train, indent = 4)\n",
    "  \n",
    "# Writing to sample.json\n",
    "with open(\"sample_808.json\", \"w\") as outfile:\n",
    "    outfile.write(json_object)\n",
    "# Opening JSON file\n",
    "f = open(\"sample_808.json\")\n",
    " \n",
    "# returns JSON object as\n",
    "# a dictionary\n",
    "data = json.load(f)\n",
    "nlp = spacy.blank(\"en\")\n",
    "def create_training(TRAIN_DATA):\n",
    "    db = DocBin()\n",
    "    for text, annot in tqdm(TRAIN_DATA):\n",
    "        doc = nlp.make_doc(text)\n",
    "        ents = []\n",
    "        for start, end, label in annot[\"entities\"]:\n",
    "            span = doc.char_span(start, end, label=label, alignment_mode=\"contract\")\n",
    "            if span is None:\n",
    "                print (\"Skipping entity\")\n",
    "            else:\n",
    "                ents.append(span)\n",
    "        doc.ents = ents\n",
    "        db.add(doc)\n",
    "    return (db)\n",
    "n = int(len(data)*0.8)\n",
    "train = data[:n]\n",
    "validation = data[n:]"
   ]
  },
  {
   "cell_type": "code",
   "execution_count": 289,
   "id": "27019b4e",
   "metadata": {},
   "outputs": [
    {
     "name": "stderr",
     "output_type": "stream",
     "text": [
      "100%|█████████████████████████████████████████████████████████████████████████████████| 71/71 [00:00<00:00, 822.74it/s]\n"
     ]
    }
   ],
   "source": [
    "#train data set\n",
    "\n",
    "camp_train = create_training(train)\n",
    "camp_train.to_disk(\"nbme_train_808.spacy\")"
   ]
  },
  {
   "cell_type": "code",
   "execution_count": 291,
   "id": "f483054d",
   "metadata": {},
   "outputs": [
    {
     "name": "stderr",
     "output_type": "stream",
     "text": [
      "100%|████████████████████████████████████████████████████████████████████████████████| 18/18 [00:00<00:00, 1032.25it/s]\n"
     ]
    }
   ],
   "source": [
    "#test data set\n",
    "\n",
    "camp_train = create_training(validation)\n",
    "camp_train.to_disk(\"nbme_validation_808.spacy\")"
   ]
  },
  {
   "cell_type": "code",
   "execution_count": 293,
   "id": "af2a306d",
   "metadata": {},
   "outputs": [
    {
     "name": "stdout",
     "output_type": "stream",
     "text": [
      "[+] Auto-filled config with all values\n",
      "[+] Saved config\n",
      "config_808.cfg\n",
      "You can now add your data and train your pipeline:\n",
      "python -m spacy train config_808.cfg --paths.train ./train.spacy --paths.dev ./dev.spacy\n"
     ]
    },
    {
     "name": "stderr",
     "output_type": "stream",
     "text": [
      "2022-05-12 19:50:18.700325: W tensorflow/stream_executor/platform/default/dso_loader.cc:64] Could not load dynamic library 'cudart64_110.dll'; dlerror: cudart64_110.dll not found\n",
      "2022-05-12 19:50:18.700360: I tensorflow/stream_executor/cuda/cudart_stub.cc:29] Ignore above cudart dlerror if you do not have a GPU set up on your machine.\n"
     ]
    }
   ],
   "source": [
    "!python -m spacy init fill-config ./base_config_808.cfg ./config_808.cfg"
   ]
  },
  {
   "cell_type": "code",
   "execution_count": 295,
   "id": "31522842",
   "metadata": {},
   "outputs": [
    {
     "name": "stdout",
     "output_type": "stream",
     "text": [
      "[i] Saving to output directory: output_808\n",
      "[i] Using CPU\n",
      "\u001b[1m\n",
      "=========================== Initializing pipeline ===========================\u001b[0m\n",
      "[+] Initialized pipeline\n",
      "\u001b[1m\n",
      "============================= Training pipeline =============================\u001b[0m\n",
      "[i] Pipeline: ['tok2vec', 'ner']\n",
      "[i] Initial learn rate: 0.001\n",
      "E    #       LOSS TOK2VEC  LOSS NER  ENTS_F  ENTS_P  ENTS_R  SCORE \n",
      "---  ------  ------------  --------  ------  ------  ------  ------\n",
      "  0       0          0.00     59.50    0.35    0.18    5.56    0.00\n",
      "  2     200       1531.33   2301.28   63.41   56.52   72.22    0.63\n",
      "  5     400         54.75    213.19   64.71   68.75   61.11    0.65\n",
      "  8     600         69.12    129.75   73.68   70.00   77.78    0.74\n",
      " 11     800        350.80     93.53   64.71   68.75   61.11    0.65\n",
      " 14    1000         70.81     55.60   65.00   59.09   72.22    0.65\n",
      " 16    1200        101.56     62.48   58.54   52.17   66.67    0.59\n",
      " 19    1400        214.38     54.57   64.71   68.75   61.11    0.65\n",
      " 22    1600         46.76     48.78   51.43   52.94   50.00    0.51\n",
      " 25    1800         45.42     41.35   70.59   75.00   66.67    0.71\n",
      " 28    2000         39.74     26.85   55.56   55.56   55.56    0.56\n",
      " 30    2200         18.51     24.19   61.54   57.14   66.67    0.62\n",
      "[+] Saved pipeline to output directory\n",
      "output_808\\model-last\n"
     ]
    },
    {
     "name": "stderr",
     "output_type": "stream",
     "text": [
      "2022-05-12 19:50:23.724743: W tensorflow/stream_executor/platform/default/dso_loader.cc:64] Could not load dynamic library 'cudart64_110.dll'; dlerror: cudart64_110.dll not found\n",
      "2022-05-12 19:50:23.724781: I tensorflow/stream_executor/cuda/cudart_stub.cc:29] Ignore above cudart dlerror if you do not have a GPU set up on your machine.\n",
      "[2022-05-12 19:50:27,193] [INFO] Set up nlp object from config\n",
      "[2022-05-12 19:50:27,201] [INFO] Pipeline: ['tok2vec', 'ner']\n",
      "[2022-05-12 19:50:27,204] [INFO] Created vocabulary\n",
      "[2022-05-12 19:50:27,205] [INFO] Finished initializing nlp object\n",
      "[2022-05-12 19:50:27,580] [INFO] Initialized pipeline components: ['tok2vec', 'ner']\n"
     ]
    }
   ],
   "source": [
    "!python -m spacy train config_808.cfg --output ./output_808"
   ]
  },
  {
   "cell_type": "code",
   "execution_count": null,
   "id": "95ab06a7",
   "metadata": {},
   "outputs": [],
   "source": []
  },
  {
   "cell_type": "markdown",
   "id": "6a007253",
   "metadata": {},
   "source": [
    "#### Feature 809"
   ]
  },
  {
   "cell_type": "code",
   "execution_count": 297,
   "id": "1e26a515",
   "metadata": {},
   "outputs": [],
   "source": [
    "sep_combined_case8_809 = sep_combined_case8[sep_combined_case8.feature_num == 809]"
   ]
  },
  {
   "cell_type": "code",
   "execution_count": null,
   "id": "16fadd77",
   "metadata": {},
   "outputs": [],
   "source": []
  },
  {
   "cell_type": "code",
   "execution_count": null,
   "id": "7873496d",
   "metadata": {},
   "outputs": [],
   "source": []
  },
  {
   "cell_type": "code",
   "execution_count": 299,
   "id": "cfdc2e73",
   "metadata": {},
   "outputs": [],
   "source": [
    "pn_Num_list = list(sep_combined_case8_809.pn_num.unique())\n",
    "final_train = []   # appending all the individual rows\n",
    "for patient_number in pn_Num_list:  # for each unique patient number\n",
    "    entities = []  # saving individaual entities locations\n",
    "    for row_index,row in sep_combined_case8_809[sep_combined_case8_809.pn_num == patient_number].iterrows():  # for each unique patient number \n",
    "        \n",
    "        entities.append((int(row[\"start_location\"]),int(row[\"end_location\"]),\"Feature_\" + str(row[\"feature_num\"]))) # store the locations in numeric format\n",
    "        \n",
    "    text = sep_combined_case8_809[sep_combined_case8_809.pn_num == patient_number][\"New_pn_history\"].values[0] # save the text for the unique patient number\n",
    "    \n",
    "    final_train.append((text,{\"entities\":entities}))  # for each unique pn_number append to final list\n",
    "            "
   ]
  },
  {
   "cell_type": "code",
   "execution_count": 301,
   "id": "307b4c36",
   "metadata": {},
   "outputs": [],
   "source": [
    "import json\n",
    "# Serializing json \n",
    "json_object = json.dumps(final_train, indent = 4)\n",
    "  \n",
    "# Writing to sample.json\n",
    "with open(\"sample_809.json\", \"w\") as outfile:\n",
    "    outfile.write(json_object)\n",
    "# Opening JSON file\n",
    "f = open(\"sample_809.json\")\n",
    " \n",
    "# returns JSON object as\n",
    "# a dictionary\n",
    "data = json.load(f)\n",
    "nlp = spacy.blank(\"en\")\n",
    "def create_training(TRAIN_DATA):\n",
    "    db = DocBin()\n",
    "    for text, annot in tqdm(TRAIN_DATA):\n",
    "        doc = nlp.make_doc(text)\n",
    "        ents = []\n",
    "        for start, end, label in annot[\"entities\"]:\n",
    "            span = doc.char_span(start, end, label=label, alignment_mode=\"contract\")\n",
    "            if span is None:\n",
    "                print (\"Skipping entity\")\n",
    "            else:\n",
    "                ents.append(span)\n",
    "        doc.ents = ents\n",
    "        db.add(doc)\n",
    "    return (db)\n",
    "n = int(len(data)*0.8)\n",
    "train = data[:n]\n",
    "validation = data[n:]"
   ]
  },
  {
   "cell_type": "code",
   "execution_count": 302,
   "id": "1e3fe961",
   "metadata": {},
   "outputs": [
    {
     "name": "stderr",
     "output_type": "stream",
     "text": [
      "100%|███████████████████████████████████████████████████████████████████████████████████| 5/5 [00:00<00:00, 209.99it/s]\n"
     ]
    }
   ],
   "source": [
    "#train data set\n",
    "\n",
    "camp_train = create_training(train)\n",
    "camp_train.to_disk(\"nbme_train_809.spacy\")"
   ]
  },
  {
   "cell_type": "code",
   "execution_count": 303,
   "id": "c70fa8b8",
   "metadata": {},
   "outputs": [
    {
     "name": "stderr",
     "output_type": "stream",
     "text": [
      "100%|███████████████████████████████████████████████████████████████████████████████████| 2/2 [00:00<00:00, 290.50it/s]\n"
     ]
    }
   ],
   "source": [
    "#test data set\n",
    "\n",
    "camp_train = create_training(validation)\n",
    "camp_train.to_disk(\"nbme_validation_809.spacy\")"
   ]
  },
  {
   "cell_type": "code",
   "execution_count": 304,
   "id": "2af5959d",
   "metadata": {},
   "outputs": [
    {
     "name": "stdout",
     "output_type": "stream",
     "text": [
      "[+] Auto-filled config with all values\n",
      "[+] Saved config\n",
      "config_809.cfg\n",
      "You can now add your data and train your pipeline:\n",
      "python -m spacy train config_809.cfg --paths.train ./train.spacy --paths.dev ./dev.spacy\n"
     ]
    },
    {
     "name": "stderr",
     "output_type": "stream",
     "text": [
      "2022-05-12 19:59:00.200048: W tensorflow/stream_executor/platform/default/dso_loader.cc:64] Could not load dynamic library 'cudart64_110.dll'; dlerror: cudart64_110.dll not found\n",
      "2022-05-12 19:59:00.200098: I tensorflow/stream_executor/cuda/cudart_stub.cc:29] Ignore above cudart dlerror if you do not have a GPU set up on your machine.\n"
     ]
    }
   ],
   "source": [
    "!python -m spacy init fill-config ./base_config_809.cfg ./config_809.cfg"
   ]
  },
  {
   "cell_type": "code",
   "execution_count": 305,
   "id": "aae7efe9",
   "metadata": {},
   "outputs": [
    {
     "name": "stdout",
     "output_type": "stream",
     "text": [
      "[i] Saving to output directory: output_809\n",
      "[i] Using CPU\n",
      "\u001b[1m\n",
      "=========================== Initializing pipeline ===========================\u001b[0m\n",
      "[+] Initialized pipeline\n",
      "\u001b[1m\n",
      "============================= Training pipeline =============================\u001b[0m\n",
      "[i] Pipeline: ['tok2vec', 'ner']\n",
      "[i] Initial learn rate: 0.001\n",
      "E    #       LOSS TOK2VEC  LOSS NER  ENTS_F  ENTS_P  ENTS_R  SCORE \n",
      "---  ------  ------------  --------  ------  ------  ------  ------\n",
      "  0       0          0.00     58.17    0.00    0.00    0.00    0.00\n",
      " 40     200       1307.95   2021.19   66.67  100.00   50.00    0.67\n",
      " 80     400          0.00      0.00   66.67  100.00   50.00    0.67\n",
      "120     600          0.00      0.00   66.67  100.00   50.00    0.67\n",
      "160     800          0.00      0.00   66.67  100.00   50.00    0.67\n",
      "200    1000          0.00      0.00   66.67  100.00   50.00    0.67\n",
      "240    1200          0.00      0.00   66.67  100.00   50.00    0.67\n",
      "280    1400          0.00      0.00   66.67  100.00   50.00    0.67\n",
      "320    1600          0.00      0.00   66.67  100.00   50.00    0.67\n",
      "360    1800          0.00      0.00   66.67  100.00   50.00    0.67\n",
      "[+] Saved pipeline to output directory\n",
      "output_809\\model-last\n"
     ]
    },
    {
     "name": "stderr",
     "output_type": "stream",
     "text": [
      "2022-05-12 19:59:05.360661: W tensorflow/stream_executor/platform/default/dso_loader.cc:64] Could not load dynamic library 'cudart64_110.dll'; dlerror: cudart64_110.dll not found\n",
      "2022-05-12 19:59:05.360699: I tensorflow/stream_executor/cuda/cudart_stub.cc:29] Ignore above cudart dlerror if you do not have a GPU set up on your machine.\n",
      "[2022-05-12 19:59:09,061] [INFO] Set up nlp object from config\n",
      "[2022-05-12 19:59:09,068] [INFO] Pipeline: ['tok2vec', 'ner']\n",
      "[2022-05-12 19:59:09,071] [INFO] Created vocabulary\n",
      "[2022-05-12 19:59:09,072] [INFO] Finished initializing nlp object\n",
      "[2022-05-12 19:59:09,251] [INFO] Initialized pipeline components: ['tok2vec', 'ner']\n"
     ]
    }
   ],
   "source": [
    "!python -m spacy train config_809.cfg --output ./output_809"
   ]
  },
  {
   "cell_type": "code",
   "execution_count": null,
   "id": "f29af0cb",
   "metadata": {},
   "outputs": [],
   "source": []
  },
  {
   "cell_type": "markdown",
   "id": "279b5bf0",
   "metadata": {},
   "source": [
    "#### Feature 810"
   ]
  },
  {
   "cell_type": "code",
   "execution_count": 306,
   "id": "3e65c739",
   "metadata": {},
   "outputs": [],
   "source": [
    "sep_combined_case8_810 = sep_combined_case8[sep_combined_case8.feature_num == 810]"
   ]
  },
  {
   "cell_type": "code",
   "execution_count": null,
   "id": "955b48a4",
   "metadata": {},
   "outputs": [],
   "source": []
  },
  {
   "cell_type": "code",
   "execution_count": null,
   "id": "d470f5b6",
   "metadata": {},
   "outputs": [],
   "source": []
  },
  {
   "cell_type": "code",
   "execution_count": 307,
   "id": "54f31fef",
   "metadata": {},
   "outputs": [],
   "source": [
    "pn_Num_list = list(sep_combined_case8_810.pn_num.unique())\n",
    "final_train = []   # appending all the individual rows\n",
    "for patient_number in pn_Num_list:  # for each unique patient number\n",
    "    entities = []  # saving individaual entities locations\n",
    "    for row_index,row in sep_combined_case8_810[sep_combined_case8_810.pn_num == patient_number].iterrows():  # for each unique patient number \n",
    "        \n",
    "        entities.append((int(row[\"start_location\"]),int(row[\"end_location\"]),\"Feature_\" + str(row[\"feature_num\"]))) # store the locations in numeric format\n",
    "        \n",
    "    text = sep_combined_case8_810[sep_combined_case8_810.pn_num == patient_number][\"New_pn_history\"].values[0] # save the text for the unique patient number\n",
    "    \n",
    "    final_train.append((text,{\"entities\":entities}))  # for each unique pn_number append to final list\n",
    "            "
   ]
  },
  {
   "cell_type": "code",
   "execution_count": 308,
   "id": "ab13bc44",
   "metadata": {},
   "outputs": [],
   "source": [
    "import json\n",
    "# Serializing json \n",
    "json_object = json.dumps(final_train, indent = 4)\n",
    "  \n",
    "# Writing to sample.json\n",
    "with open(\"sample_810.json\", \"w\") as outfile:\n",
    "    outfile.write(json_object)\n",
    "# Opening JSON file\n",
    "f = open(\"sample_810.json\")\n",
    " \n",
    "# returns JSON object as\n",
    "# a dictionary\n",
    "data = json.load(f)\n",
    "nlp = spacy.blank(\"en\")\n",
    "def create_training(TRAIN_DATA):\n",
    "    db = DocBin()\n",
    "    for text, annot in tqdm(TRAIN_DATA):\n",
    "        doc = nlp.make_doc(text)\n",
    "        ents = []\n",
    "        for start, end, label in annot[\"entities\"]:\n",
    "            span = doc.char_span(start, end, label=label, alignment_mode=\"contract\")\n",
    "            if span is None:\n",
    "                print (\"Skipping entity\")\n",
    "            else:\n",
    "                ents.append(span)\n",
    "        doc.ents = ents\n",
    "        db.add(doc)\n",
    "    return (db)\n",
    "n = int(len(data)*0.8)\n",
    "train = data[:n]\n",
    "validation = data[n:]"
   ]
  },
  {
   "cell_type": "code",
   "execution_count": 309,
   "id": "b9e40487",
   "metadata": {},
   "outputs": [
    {
     "name": "stderr",
     "output_type": "stream",
     "text": [
      "100%|█████████████████████████████████████████████████████████████████████████████████| 90/90 [00:00<00:00, 625.84it/s]\n"
     ]
    }
   ],
   "source": [
    "#train data set\n",
    "\n",
    "camp_train = create_training(train)\n",
    "camp_train.to_disk(\"nbme_train_810.spacy\")"
   ]
  },
  {
   "cell_type": "code",
   "execution_count": 310,
   "id": "dc4ecff2",
   "metadata": {},
   "outputs": [
    {
     "name": "stderr",
     "output_type": "stream",
     "text": [
      "100%|█████████████████████████████████████████████████████████████████████████████████| 23/23 [00:00<00:00, 854.59it/s]\n"
     ]
    }
   ],
   "source": [
    "#test data set\n",
    "\n",
    "camp_train = create_training(validation)\n",
    "camp_train.to_disk(\"nbme_validation_810.spacy\")"
   ]
  },
  {
   "cell_type": "code",
   "execution_count": 311,
   "id": "aef91540",
   "metadata": {},
   "outputs": [
    {
     "name": "stdout",
     "output_type": "stream",
     "text": [
      "[+] Auto-filled config with all values\n",
      "[+] Saved config\n",
      "config_810.cfg\n",
      "You can now add your data and train your pipeline:\n",
      "python -m spacy train config_810.cfg --paths.train ./train.spacy --paths.dev ./dev.spacy\n"
     ]
    },
    {
     "name": "stderr",
     "output_type": "stream",
     "text": [
      "2022-05-12 20:01:55.081531: W tensorflow/stream_executor/platform/default/dso_loader.cc:64] Could not load dynamic library 'cudart64_110.dll'; dlerror: cudart64_110.dll not found\n",
      "2022-05-12 20:01:55.081571: I tensorflow/stream_executor/cuda/cudart_stub.cc:29] Ignore above cudart dlerror if you do not have a GPU set up on your machine.\n"
     ]
    }
   ],
   "source": [
    "!python -m spacy init fill-config ./base_config_810.cfg ./config_810.cfg"
   ]
  },
  {
   "cell_type": "code",
   "execution_count": 312,
   "id": "5f577578",
   "metadata": {},
   "outputs": [
    {
     "name": "stdout",
     "output_type": "stream",
     "text": [
      "[i] Saving to output directory: output_810\n",
      "[i] Using CPU\n",
      "\u001b[1m\n",
      "=========================== Initializing pipeline ===========================\u001b[0m\n",
      "[+] Initialized pipeline\n",
      "\u001b[1m\n",
      "============================= Training pipeline =============================\u001b[0m\n",
      "[i] Pipeline: ['tok2vec', 'ner']\n",
      "[i] Initial learn rate: 0.001\n",
      "E    #       LOSS TOK2VEC  LOSS NER  ENTS_F  ENTS_P  ENTS_R  SCORE \n",
      "---  ------  ------------  --------  ------  ------  ------  ------\n",
      "  0       0          0.00     66.00    0.21    0.11    4.35    0.00\n",
      "  2     200        558.56   1786.62   91.30   91.30   91.30    0.91\n",
      "  4     400         50.47    144.10   91.30   91.30   91.30    0.91\n"
     ]
    },
    {
     "name": "stderr",
     "output_type": "stream",
     "text": [
      "2022-05-12 20:02:00.907913: W tensorflow/stream_executor/platform/default/dso_loader.cc:64] Could not load dynamic library 'cudart64_110.dll'; dlerror: cudart64_110.dll not found\n",
      "2022-05-12 20:02:00.907958: I tensorflow/stream_executor/cuda/cudart_stub.cc:29] Ignore above cudart dlerror if you do not have a GPU set up on your machine.\n",
      "[2022-05-12 20:02:04,579] [INFO] Set up nlp object from config\n",
      "[2022-05-12 20:02:04,588] [INFO] Pipeline: ['tok2vec', 'ner']\n",
      "[2022-05-12 20:02:04,591] [INFO] Created vocabulary\n",
      "[2022-05-12 20:02:04,592] [INFO] Finished initializing nlp object\n",
      "[2022-05-12 20:02:05,056] [INFO] Initialized pipeline components: ['tok2vec', 'ner']\n"
     ]
    },
    {
     "name": "stdout",
     "output_type": "stream",
     "text": [
      "  6     600        159.02    130.43   91.30   91.30   91.30    0.91\n",
      "  8     800         96.10     79.46   80.85   79.17   82.61    0.81\n",
      " 11    1000         49.88     55.14   91.67   88.00   95.65    0.92\n",
      " 13    1200         69.29     55.98   93.62   91.67   95.65    0.94\n",
      " 15    1400         43.53     33.35   84.62   75.86   95.65    0.85\n",
      " 17    1600         53.22     37.69   82.93   94.44   73.91    0.83\n",
      " 20    1800         44.70     33.01   91.67   88.00   95.65    0.92\n",
      " 22    2000         63.54     34.74   86.36   90.48   82.61    0.86\n",
      " 24    2200         70.34     27.67   79.07   85.00   73.91    0.79\n",
      " 26    2400         51.81     22.12   87.50   84.00   91.30    0.87\n",
      " 28    2600         17.58      7.19   84.00   77.78   91.30    0.84\n",
      " 31    2800        577.53     27.70   93.33   95.45   91.30    0.93\n",
      "[+] Saved pipeline to output directory\n",
      "output_810\\model-last\n"
     ]
    }
   ],
   "source": [
    "!python -m spacy train config_810.cfg --output ./output_810"
   ]
  },
  {
   "cell_type": "code",
   "execution_count": null,
   "id": "680a1d3b",
   "metadata": {},
   "outputs": [],
   "source": []
  },
  {
   "cell_type": "markdown",
   "id": "593708f3",
   "metadata": {},
   "source": [
    "#### Feature 811"
   ]
  },
  {
   "cell_type": "code",
   "execution_count": 313,
   "id": "01e05411",
   "metadata": {},
   "outputs": [],
   "source": [
    "sep_combined_case8_811 = sep_combined_case8[sep_combined_case8.feature_num == 811]"
   ]
  },
  {
   "cell_type": "code",
   "execution_count": 314,
   "id": "f9698047",
   "metadata": {},
   "outputs": [],
   "source": [
    "sep_combined_case8_811 = sep_combined_case8_811.drop(index=161)"
   ]
  },
  {
   "cell_type": "code",
   "execution_count": 315,
   "id": "0c6789be",
   "metadata": {},
   "outputs": [],
   "source": [
    "sep_combined_case8_811 = sep_combined_case8_811.drop(index=1265)"
   ]
  },
  {
   "cell_type": "code",
   "execution_count": 316,
   "id": "66250438",
   "metadata": {},
   "outputs": [],
   "source": [
    "pn_Num_list = list(sep_combined_case8_811.pn_num.unique())\n",
    "final_train = []   # appending all the individual rows\n",
    "for patient_number in pn_Num_list:  # for each unique patient number\n",
    "    entities = []  # saving individaual entities locations\n",
    "    for row_index,row in sep_combined_case8_811[sep_combined_case8_811.pn_num == patient_number].iterrows():  # for each unique patient number \n",
    "        \n",
    "        entities.append((int(row[\"start_location\"]),int(row[\"end_location\"]),\"Feature_\" + str(row[\"feature_num\"]))) # store the locations in numeric format\n",
    "        \n",
    "    text = sep_combined_case8_811[sep_combined_case8_811.pn_num == patient_number][\"New_pn_history\"].values[0] # save the text for the unique patient number\n",
    "    \n",
    "    final_train.append((text,{\"entities\":entities}))  # for each unique pn_number append to final list\n",
    "            "
   ]
  },
  {
   "cell_type": "code",
   "execution_count": 317,
   "id": "b8bc6fc3",
   "metadata": {},
   "outputs": [],
   "source": [
    "import json\n",
    "# Serializing json \n",
    "json_object = json.dumps(final_train, indent = 4)\n",
    "  \n",
    "# Writing to sample.json\n",
    "with open(\"sample_811.json\", \"w\") as outfile:\n",
    "    outfile.write(json_object)\n",
    "# Opening JSON file\n",
    "f = open(\"sample_811.json\")\n",
    " \n",
    "# returns JSON object as\n",
    "# a dictionary\n",
    "data = json.load(f)\n",
    "nlp = spacy.blank(\"en\")\n",
    "def create_training(TRAIN_DATA):\n",
    "    db = DocBin()\n",
    "    for text, annot in tqdm(TRAIN_DATA):\n",
    "        doc = nlp.make_doc(text)\n",
    "        ents = []\n",
    "        for start, end, label in annot[\"entities\"]:\n",
    "            span = doc.char_span(start, end, label=label, alignment_mode=\"contract\")\n",
    "            if span is None:\n",
    "                print (\"Skipping entity\")\n",
    "            else:\n",
    "                ents.append(span)\n",
    "        doc.ents = ents\n",
    "        db.add(doc)\n",
    "    return (db)\n",
    "n = int(len(data)*0.8)\n",
    "train = data[:n]\n",
    "validation = data[n:]"
   ]
  },
  {
   "cell_type": "code",
   "execution_count": 318,
   "id": "ee23bdb3",
   "metadata": {},
   "outputs": [
    {
     "name": "stderr",
     "output_type": "stream",
     "text": [
      "100%|█████████████████████████████████████████████████████████████████████████████████| 64/64 [00:00<00:00, 712.28it/s]\n"
     ]
    }
   ],
   "source": [
    "#train data set\n",
    "\n",
    "camp_train = create_training(train)\n",
    "camp_train.to_disk(\"nbme_train_811.spacy\")"
   ]
  },
  {
   "cell_type": "code",
   "execution_count": 319,
   "id": "f4717a8f",
   "metadata": {},
   "outputs": [
    {
     "name": "stderr",
     "output_type": "stream",
     "text": [
      "100%|█████████████████████████████████████████████████████████████████████████████████| 16/16 [00:00<00:00, 941.23it/s]\n"
     ]
    }
   ],
   "source": [
    "#test data set\n",
    "\n",
    "camp_train = create_training(validation)\n",
    "camp_train.to_disk(\"nbme_validation_811.spacy\")"
   ]
  },
  {
   "cell_type": "code",
   "execution_count": 320,
   "id": "4f2f6760",
   "metadata": {},
   "outputs": [
    {
     "name": "stdout",
     "output_type": "stream",
     "text": [
      "[+] Auto-filled config with all values\n",
      "[+] Saved config\n",
      "config_811.cfg\n",
      "You can now add your data and train your pipeline:\n",
      "python -m spacy train config_811.cfg --paths.train ./train.spacy --paths.dev ./dev.spacy\n"
     ]
    },
    {
     "name": "stderr",
     "output_type": "stream",
     "text": [
      "2022-05-12 20:06:32.235930: W tensorflow/stream_executor/platform/default/dso_loader.cc:64] Could not load dynamic library 'cudart64_110.dll'; dlerror: cudart64_110.dll not found\n",
      "2022-05-12 20:06:32.235970: I tensorflow/stream_executor/cuda/cudart_stub.cc:29] Ignore above cudart dlerror if you do not have a GPU set up on your machine.\n"
     ]
    }
   ],
   "source": [
    "!python -m spacy init fill-config ./base_config_811.cfg ./config_811.cfg"
   ]
  },
  {
   "cell_type": "code",
   "execution_count": 321,
   "id": "06cc60e6",
   "metadata": {},
   "outputs": [
    {
     "name": "stdout",
     "output_type": "stream",
     "text": [
      "[i] Saving to output directory: output_811\n",
      "[i] Using CPU\n",
      "\u001b[1m\n",
      "=========================== Initializing pipeline ===========================\u001b[0m\n",
      "[+] Initialized pipeline\n",
      "\u001b[1m\n",
      "============================= Training pipeline =============================\u001b[0m\n",
      "[i] Pipeline: ['tok2vec', 'ner']\n",
      "[i] Initial learn rate: 0.001\n",
      "E    #       LOSS TOK2VEC  LOSS NER  ENTS_F  ENTS_P  ENTS_R  SCORE \n",
      "---  ------  ------------  --------  ------  ------  ------  ------\n",
      "  0       0          0.00     56.17    0.00    0.00    0.00    0.00\n",
      "  3     200         31.12   1322.70   73.68   70.00   77.78    0.74\n",
      "  6     400       8202.59    506.15   71.79   66.67   77.78    0.72\n",
      "  9     600        107.66     80.15   75.00   68.18   83.33    0.75\n",
      " 12     800       1100.62     62.87   58.54   52.17   66.67    0.59\n",
      " 15    1000         34.25     24.05   59.46   57.89   61.11    0.59\n",
      " 18    1200         29.10     18.05   68.42   65.00   72.22    0.68\n",
      " 21    1400         41.17     23.10   71.79   66.67   77.78    0.72\n",
      " 25    1600         30.93     15.05   66.67   61.90   72.22    0.67\n",
      " 28    1800         11.36      9.83   70.27   68.42   72.22    0.70\n",
      " 31    2000         17.77      9.27   64.86   63.16   66.67    0.65\n",
      " 34    2200         33.64      8.48   63.41   56.52   72.22    0.63\n",
      "[+] Saved pipeline to output directory\n",
      "output_811\\model-last\n"
     ]
    },
    {
     "name": "stderr",
     "output_type": "stream",
     "text": [
      "2022-05-12 20:06:37.518950: W tensorflow/stream_executor/platform/default/dso_loader.cc:64] Could not load dynamic library 'cudart64_110.dll'; dlerror: cudart64_110.dll not found\n",
      "2022-05-12 20:06:37.519015: I tensorflow/stream_executor/cuda/cudart_stub.cc:29] Ignore above cudart dlerror if you do not have a GPU set up on your machine.\n",
      "[2022-05-12 20:06:41,057] [INFO] Set up nlp object from config\n",
      "[2022-05-12 20:06:41,066] [INFO] Pipeline: ['tok2vec', 'ner']\n",
      "[2022-05-12 20:06:41,070] [INFO] Created vocabulary\n",
      "[2022-05-12 20:06:41,070] [INFO] Finished initializing nlp object\n",
      "[2022-05-12 20:06:41,473] [INFO] Initialized pipeline components: ['tok2vec', 'ner']\n"
     ]
    }
   ],
   "source": [
    "!python -m spacy train config_811.cfg --output ./output_811"
   ]
  },
  {
   "cell_type": "code",
   "execution_count": null,
   "id": "6df6e602",
   "metadata": {},
   "outputs": [],
   "source": []
  },
  {
   "cell_type": "markdown",
   "id": "f47ec0f2",
   "metadata": {},
   "source": [
    "#### Feature 812"
   ]
  },
  {
   "cell_type": "code",
   "execution_count": 322,
   "id": "3d07026e",
   "metadata": {},
   "outputs": [],
   "source": [
    "sep_combined_case8_812 = sep_combined_case8[sep_combined_case8.feature_num == 812]"
   ]
  },
  {
   "cell_type": "code",
   "execution_count": 323,
   "id": "e63c3546",
   "metadata": {},
   "outputs": [],
   "source": [
    "sep_combined_case8_812 = sep_combined_case8_812.drop(index=1266)"
   ]
  },
  {
   "cell_type": "code",
   "execution_count": null,
   "id": "0553893f",
   "metadata": {},
   "outputs": [],
   "source": []
  },
  {
   "cell_type": "code",
   "execution_count": 324,
   "id": "ed96e574",
   "metadata": {},
   "outputs": [],
   "source": [
    "pn_Num_list = list(sep_combined_case8_812.pn_num.unique())\n",
    "final_train = []   # appending all the individual rows\n",
    "for patient_number in pn_Num_list:  # for each unique patient number\n",
    "    entities = []  # saving individaual entities locations\n",
    "    for row_index,row in sep_combined_case8_812[sep_combined_case8_812.pn_num == patient_number].iterrows():  # for each unique patient number \n",
    "        \n",
    "        entities.append((int(row[\"start_location\"]),int(row[\"end_location\"]),\"Feature_\" + str(row[\"feature_num\"]))) # store the locations in numeric format\n",
    "        \n",
    "    text = sep_combined_case8_812[sep_combined_case8_812.pn_num == patient_number][\"New_pn_history\"].values[0] # save the text for the unique patient number\n",
    "    \n",
    "    final_train.append((text,{\"entities\":entities}))  # for each unique pn_number append to final list\n",
    "            "
   ]
  },
  {
   "cell_type": "code",
   "execution_count": 325,
   "id": "074ffdce",
   "metadata": {},
   "outputs": [],
   "source": [
    "import json\n",
    "# Serializing json \n",
    "json_object = json.dumps(final_train, indent = 4)\n",
    "  \n",
    "# Writing to sample.json\n",
    "with open(\"sample_812.json\", \"w\") as outfile:\n",
    "    outfile.write(json_object)\n",
    "# Opening JSON file\n",
    "f = open(\"sample_812.json\")\n",
    " \n",
    "# returns JSON object as\n",
    "# a dictionary\n",
    "data = json.load(f)\n",
    "nlp = spacy.blank(\"en\")\n",
    "def create_training(TRAIN_DATA):\n",
    "    db = DocBin()\n",
    "    for text, annot in tqdm(TRAIN_DATA):\n",
    "        doc = nlp.make_doc(text)\n",
    "        ents = []\n",
    "        for start, end, label in annot[\"entities\"]:\n",
    "            span = doc.char_span(start, end, label=label, alignment_mode=\"contract\")\n",
    "            if span is None:\n",
    "                print (\"Skipping entity\")\n",
    "            else:\n",
    "                ents.append(span)\n",
    "        doc.ents = ents\n",
    "        db.add(doc)\n",
    "    return (db)\n",
    "n = int(len(data)*0.8)\n",
    "train = data[:n]\n",
    "validation = data[n:]"
   ]
  },
  {
   "cell_type": "code",
   "execution_count": 326,
   "id": "ec2e159a",
   "metadata": {},
   "outputs": [
    {
     "name": "stderr",
     "output_type": "stream",
     "text": [
      "100%|█████████████████████████████████████████████████████████████████████████████████| 60/60 [00:00<00:00, 607.82it/s]\n"
     ]
    }
   ],
   "source": [
    "#train data set\n",
    "\n",
    "camp_train = create_training(train)\n",
    "camp_train.to_disk(\"nbme_train_812.spacy\")"
   ]
  },
  {
   "cell_type": "code",
   "execution_count": 327,
   "id": "e6f77499",
   "metadata": {},
   "outputs": [
    {
     "name": "stderr",
     "output_type": "stream",
     "text": [
      "100%|█████████████████████████████████████████████████████████████████████████████████| 15/15 [00:00<00:00, 695.17it/s]\n"
     ]
    }
   ],
   "source": [
    "#test data set\n",
    "\n",
    "camp_train = create_training(validation)\n",
    "camp_train.to_disk(\"nbme_validation_812.spacy\")"
   ]
  },
  {
   "cell_type": "code",
   "execution_count": 328,
   "id": "9a57cfa2",
   "metadata": {},
   "outputs": [
    {
     "name": "stdout",
     "output_type": "stream",
     "text": [
      "[+] Auto-filled config with all values\n",
      "[+] Saved config\n",
      "config_812.cfg\n",
      "You can now add your data and train your pipeline:\n",
      "python -m spacy train config_812.cfg --paths.train ./train.spacy --paths.dev ./dev.spacy\n"
     ]
    },
    {
     "name": "stderr",
     "output_type": "stream",
     "text": [
      "2022-05-12 20:10:06.436949: W tensorflow/stream_executor/platform/default/dso_loader.cc:64] Could not load dynamic library 'cudart64_110.dll'; dlerror: cudart64_110.dll not found\n",
      "2022-05-12 20:10:06.436995: I tensorflow/stream_executor/cuda/cudart_stub.cc:29] Ignore above cudart dlerror if you do not have a GPU set up on your machine.\n"
     ]
    }
   ],
   "source": [
    "!python -m spacy init fill-config ./base_config_812.cfg ./config_812.cfg"
   ]
  },
  {
   "cell_type": "code",
   "execution_count": 329,
   "id": "a2be3524",
   "metadata": {},
   "outputs": [
    {
     "name": "stdout",
     "output_type": "stream",
     "text": [
      "[i] Saving to output directory: output_812\n",
      "[i] Using CPU\n",
      "\u001b[1m\n",
      "=========================== Initializing pipeline ===========================\u001b[0m\n",
      "[+] Initialized pipeline\n",
      "\u001b[1m\n",
      "============================= Training pipeline =============================\u001b[0m\n"
     ]
    },
    {
     "name": "stderr",
     "output_type": "stream",
     "text": [
      "2022-05-12 20:10:11.689629: W tensorflow/stream_executor/platform/default/dso_loader.cc:64] Could not load dynamic library 'cudart64_110.dll'; dlerror: cudart64_110.dll not found\n",
      "2022-05-12 20:10:11.689671: I tensorflow/stream_executor/cuda/cudart_stub.cc:29] Ignore above cudart dlerror if you do not have a GPU set up on your machine.\n",
      "[2022-05-12 20:10:15,352] [INFO] Set up nlp object from config\n",
      "[2022-05-12 20:10:15,360] [INFO] Pipeline: ['tok2vec', 'ner']\n",
      "[2022-05-12 20:10:15,363] [INFO] Created vocabulary\n",
      "[2022-05-12 20:10:15,364] [INFO] Finished initializing nlp object\n",
      "[2022-05-12 20:10:15,751] [INFO] Initialized pipeline components: ['tok2vec', 'ner']\n"
     ]
    },
    {
     "name": "stdout",
     "output_type": "stream",
     "text": [
      "[i] Pipeline: ['tok2vec', 'ner']\n",
      "[i] Initial learn rate: 0.001\n",
      "E    #       LOSS TOK2VEC  LOSS NER  ENTS_F  ENTS_P  ENTS_R  SCORE \n",
      "---  ------  ------------  --------  ------  ------  ------  ------\n",
      "  0       0          0.00     64.17    0.59    0.31    6.67    0.01\n",
      "  3     200        307.58   2128.69   66.67   66.67   66.67    0.67\n",
      "  6     400         23.07     65.19   77.42   75.00   80.00    0.77\n",
      " 10     600          8.91     18.98   66.67   75.00   60.00    0.67\n",
      " 13     800          8.17      9.11   64.52   62.50   66.67    0.65\n",
      " 16    1000          3.59      2.83   69.23   81.82   60.00    0.69\n",
      " 20    1200          0.04      0.02   68.97   71.43   66.67    0.69\n",
      " 23    1400          1.54      3.44   69.23   81.82   60.00    0.69\n",
      " 26    1600          0.00      0.00   69.23   81.82   60.00    0.69\n",
      " 30    1800          0.00      0.00   69.23   81.82   60.00    0.69\n",
      " 33    2000          0.00      0.00   66.67   75.00   60.00    0.67\n",
      "[+] Saved pipeline to output directory\n",
      "output_812\\model-last\n"
     ]
    }
   ],
   "source": [
    "!python -m spacy train config_812.cfg --output ./output_812"
   ]
  },
  {
   "cell_type": "code",
   "execution_count": null,
   "id": "fac33495",
   "metadata": {},
   "outputs": [],
   "source": []
  },
  {
   "cell_type": "markdown",
   "id": "8a598018",
   "metadata": {},
   "source": [
    "#### Feature 813"
   ]
  },
  {
   "cell_type": "code",
   "execution_count": 330,
   "id": "5e56af64",
   "metadata": {},
   "outputs": [],
   "source": [
    "sep_combined_case8_813 = sep_combined_case8[sep_combined_case8.feature_num == 813]"
   ]
  },
  {
   "cell_type": "code",
   "execution_count": null,
   "id": "2adb0bd0",
   "metadata": {},
   "outputs": [],
   "source": []
  },
  {
   "cell_type": "code",
   "execution_count": null,
   "id": "e4b24e0a",
   "metadata": {},
   "outputs": [],
   "source": []
  },
  {
   "cell_type": "code",
   "execution_count": 331,
   "id": "55c37e24",
   "metadata": {},
   "outputs": [],
   "source": [
    "pn_Num_list = list(sep_combined_case8_813.pn_num.unique())\n",
    "final_train = []   # appending all the individual rows\n",
    "for patient_number in pn_Num_list:  # for each unique patient number\n",
    "    entities = []  # saving individaual entities locations\n",
    "    for row_index,row in sep_combined_case8_813[sep_combined_case8_813.pn_num == patient_number].iterrows():  # for each unique patient number \n",
    "        \n",
    "        entities.append((int(row[\"start_location\"]),int(row[\"end_location\"]),\"Feature_\" + str(row[\"feature_num\"]))) # store the locations in numeric format\n",
    "        \n",
    "    text = sep_combined_case8_813[sep_combined_case8_813.pn_num == patient_number][\"New_pn_history\"].values[0] # save the text for the unique patient number\n",
    "    \n",
    "    final_train.append((text,{\"entities\":entities}))  # for each unique pn_number append to final list\n",
    "            "
   ]
  },
  {
   "cell_type": "code",
   "execution_count": 332,
   "id": "a065cc76",
   "metadata": {},
   "outputs": [],
   "source": [
    "import json\n",
    "# Serializing json \n",
    "json_object = json.dumps(final_train, indent = 4)\n",
    "  \n",
    "# Writing to sample.json\n",
    "with open(\"sample_813.json\", \"w\") as outfile:\n",
    "    outfile.write(json_object)\n",
    "# Opening JSON file\n",
    "f = open(\"sample_813.json\")\n",
    " \n",
    "# returns JSON object as\n",
    "# a dictionary\n",
    "data = json.load(f)\n",
    "nlp = spacy.blank(\"en\")\n",
    "def create_training(TRAIN_DATA):\n",
    "    db = DocBin()\n",
    "    for text, annot in tqdm(TRAIN_DATA):\n",
    "        doc = nlp.make_doc(text)\n",
    "        ents = []\n",
    "        for start, end, label in annot[\"entities\"]:\n",
    "            span = doc.char_span(start, end, label=label, alignment_mode=\"contract\")\n",
    "            if span is None:\n",
    "                print (\"Skipping entity\")\n",
    "            else:\n",
    "                ents.append(span)\n",
    "        doc.ents = ents\n",
    "        db.add(doc)\n",
    "    return (db)\n",
    "n = int(len(data)*0.8)\n",
    "train = data[:n]\n",
    "validation = data[n:]"
   ]
  },
  {
   "cell_type": "code",
   "execution_count": 333,
   "id": "8a582503",
   "metadata": {},
   "outputs": [
    {
     "name": "stderr",
     "output_type": "stream",
     "text": [
      "100%|█████████████████████████████████████████████████████████████████████████████████| 95/95 [00:00<00:00, 775.47it/s]"
     ]
    },
    {
     "name": "stdout",
     "output_type": "stream",
     "text": [
      "Skipping entity\n",
      "Skipping entity\n",
      "Skipping entity\n",
      "Skipping entity\n"
     ]
    },
    {
     "name": "stderr",
     "output_type": "stream",
     "text": [
      "\n"
     ]
    }
   ],
   "source": [
    "#train data set\n",
    "\n",
    "camp_train = create_training(train)\n",
    "camp_train.to_disk(\"nbme_train_813.spacy\")"
   ]
  },
  {
   "cell_type": "code",
   "execution_count": 334,
   "id": "e5b5a649",
   "metadata": {},
   "outputs": [
    {
     "name": "stderr",
     "output_type": "stream",
     "text": [
      "100%|█████████████████████████████████████████████████████████████████████████████████| 24/24 [00:00<00:00, 966.76it/s]\n"
     ]
    }
   ],
   "source": [
    "#test data set\n",
    "\n",
    "camp_train = create_training(validation)\n",
    "camp_train.to_disk(\"nbme_validation_813.spacy\")"
   ]
  },
  {
   "cell_type": "code",
   "execution_count": 335,
   "id": "b4d63440",
   "metadata": {},
   "outputs": [
    {
     "name": "stdout",
     "output_type": "stream",
     "text": [
      "[+] Auto-filled config with all values\n",
      "[+] Saved config\n",
      "config_813.cfg\n",
      "You can now add your data and train your pipeline:\n",
      "python -m spacy train config_813.cfg --paths.train ./train.spacy --paths.dev ./dev.spacy\n"
     ]
    },
    {
     "name": "stderr",
     "output_type": "stream",
     "text": [
      "2022-05-12 20:13:22.235516: W tensorflow/stream_executor/platform/default/dso_loader.cc:64] Could not load dynamic library 'cudart64_110.dll'; dlerror: cudart64_110.dll not found\n",
      "2022-05-12 20:13:22.235573: I tensorflow/stream_executor/cuda/cudart_stub.cc:29] Ignore above cudart dlerror if you do not have a GPU set up on your machine.\n"
     ]
    }
   ],
   "source": [
    "!python -m spacy init fill-config ./base_config_813.cfg ./config_813.cfg"
   ]
  },
  {
   "cell_type": "code",
   "execution_count": 336,
   "id": "6ab45a2e",
   "metadata": {},
   "outputs": [
    {
     "name": "stdout",
     "output_type": "stream",
     "text": [
      "[i] Saving to output directory: output_813\n",
      "[i] Using CPU\n",
      "\u001b[1m\n",
      "=========================== Initializing pipeline ===========================\u001b[0m\n",
      "[+] Initialized pipeline\n",
      "\u001b[1m\n",
      "============================= Training pipeline =============================\u001b[0m\n",
      "[i] Pipeline: ['tok2vec', 'ner']\n",
      "[i] Initial learn rate: 0.001\n",
      "E    #       LOSS TOK2VEC  LOSS NER  ENTS_F  ENTS_P  ENTS_R  SCORE \n",
      "---  ------  ------------  --------  ------  ------  ------  ------\n",
      "  0       0          0.00     62.00    0.55    0.29    8.33    0.01\n",
      "  2     200       5356.98   2023.33   56.00   53.85   58.33    0.56\n",
      "  4     400         52.50    243.16   50.98   48.15   54.17    0.51\n",
      "  6     600         88.13    167.12   53.06   52.00   54.17    0.53\n",
      "  8     800         91.90    126.95   48.00   46.15   50.00    0.48\n",
      " 10    1000        187.00     97.03   56.00   53.85   58.33    0.56\n",
      " 12    1200         81.90     64.67   52.00   50.00   54.17    0.52\n",
      " 14    1400         87.09     59.14   37.50   37.50   37.50    0.38\n",
      " 16    1600         82.76     49.20   62.50   62.50   62.50    0.62\n",
      " 18    1800        234.40     62.59   60.00   57.69   62.50    0.60\n",
      " 21    2000        114.97     46.19   39.22   37.04   41.67    0.39\n",
      " 23    2200         55.88     30.76   50.98   48.15   54.17    0.51\n",
      " 25    2400         67.82     26.60   40.00   38.46   41.67    0.40\n",
      " 27    2600         61.68     28.46   57.69   53.57   62.50    0.58\n",
      " 29    2800         70.01     27.06   57.14   56.00   58.33    0.57\n",
      " 33    3000        164.56     50.61   45.45   50.00   41.67    0.45\n",
      " 38    3200        259.66     51.13   39.22   37.04   41.67    0.39\n",
      "[+] Saved pipeline to output directory\n",
      "output_813\\model-last\n"
     ]
    },
    {
     "name": "stderr",
     "output_type": "stream",
     "text": [
      "2022-05-12 20:13:27.643523: W tensorflow/stream_executor/platform/default/dso_loader.cc:64] Could not load dynamic library 'cudart64_110.dll'; dlerror: cudart64_110.dll not found\n",
      "2022-05-12 20:13:27.643568: I tensorflow/stream_executor/cuda/cudart_stub.cc:29] Ignore above cudart dlerror if you do not have a GPU set up on your machine.\n",
      "[2022-05-12 20:13:31,334] [INFO] Set up nlp object from config\n",
      "[2022-05-12 20:13:31,343] [INFO] Pipeline: ['tok2vec', 'ner']\n",
      "[2022-05-12 20:13:31,346] [INFO] Created vocabulary\n",
      "[2022-05-12 20:13:31,347] [INFO] Finished initializing nlp object\n",
      "[2022-05-12 20:13:31,787] [INFO] Initialized pipeline components: ['tok2vec', 'ner']\n"
     ]
    }
   ],
   "source": [
    "!python -m spacy train config_813.cfg --output ./output_813"
   ]
  },
  {
   "cell_type": "code",
   "execution_count": null,
   "id": "b871f1a8",
   "metadata": {},
   "outputs": [],
   "source": []
  },
  {
   "cell_type": "markdown",
   "id": "5d5b468a",
   "metadata": {},
   "source": [
    "#### Feature 814"
   ]
  },
  {
   "cell_type": "code",
   "execution_count": 337,
   "id": "1ff7d0a6",
   "metadata": {},
   "outputs": [],
   "source": [
    "sep_combined_case8_814 = sep_combined_case8[sep_combined_case8.feature_num == 814]"
   ]
  },
  {
   "cell_type": "code",
   "execution_count": null,
   "id": "318a5cc1",
   "metadata": {},
   "outputs": [],
   "source": []
  },
  {
   "cell_type": "code",
   "execution_count": null,
   "id": "5bbfa488",
   "metadata": {},
   "outputs": [],
   "source": []
  },
  {
   "cell_type": "code",
   "execution_count": 338,
   "id": "b852a3ea",
   "metadata": {},
   "outputs": [],
   "source": [
    "pn_Num_list = list(sep_combined_case8_814.pn_num.unique())\n",
    "final_train = []   # appending all the individual rows\n",
    "for patient_number in pn_Num_list:  # for each unique patient number\n",
    "    entities = []  # saving individaual entities locations\n",
    "    for row_index,row in sep_combined_case8_814[sep_combined_case8_814.pn_num == patient_number].iterrows():  # for each unique patient number \n",
    "        \n",
    "        entities.append((int(row[\"start_location\"]),int(row[\"end_location\"]),\"Feature_\" + str(row[\"feature_num\"]))) # store the locations in numeric format\n",
    "        \n",
    "    text = sep_combined_case8_814[sep_combined_case8_814.pn_num == patient_number][\"New_pn_history\"].values[0] # save the text for the unique patient number\n",
    "    \n",
    "    final_train.append((text,{\"entities\":entities}))  # for each unique pn_number append to final list\n",
    "            "
   ]
  },
  {
   "cell_type": "code",
   "execution_count": 339,
   "id": "bc7de96e",
   "metadata": {},
   "outputs": [],
   "source": [
    "import json\n",
    "# Serializing json \n",
    "json_object = json.dumps(final_train, indent = 4)\n",
    "  \n",
    "# Writing to sample.json\n",
    "with open(\"sample_814.json\", \"w\") as outfile:\n",
    "    outfile.write(json_object)\n",
    "# Opening JSON file\n",
    "f = open(\"sample_814.json\")\n",
    " \n",
    "# returns JSON object as\n",
    "# a dictionary\n",
    "data = json.load(f)\n",
    "nlp = spacy.blank(\"en\")\n",
    "def create_training(TRAIN_DATA):\n",
    "    db = DocBin()\n",
    "    for text, annot in tqdm(TRAIN_DATA):\n",
    "        doc = nlp.make_doc(text)\n",
    "        ents = []\n",
    "        for start, end, label in annot[\"entities\"]:\n",
    "            span = doc.char_span(start, end, label=label, alignment_mode=\"contract\")\n",
    "            if span is None:\n",
    "                print (\"Skipping entity\")\n",
    "            else:\n",
    "                ents.append(span)\n",
    "        doc.ents = ents\n",
    "        db.add(doc)\n",
    "    return (db)\n",
    "n = int(len(data)*0.8)\n",
    "train = data[:n]\n",
    "validation = data[n:]"
   ]
  },
  {
   "cell_type": "code",
   "execution_count": 340,
   "id": "01c31f77",
   "metadata": {},
   "outputs": [
    {
     "name": "stderr",
     "output_type": "stream",
     "text": [
      "100%|█████████████████████████████████████████████████████████████████████████████████| 49/49 [00:00<00:00, 553.94it/s]"
     ]
    },
    {
     "name": "stdout",
     "output_type": "stream",
     "text": [
      "Skipping entity\n",
      "Skipping entity\n"
     ]
    },
    {
     "name": "stderr",
     "output_type": "stream",
     "text": [
      "\n"
     ]
    }
   ],
   "source": [
    "#train data set\n",
    "\n",
    "camp_train = create_training(train)\n",
    "camp_train.to_disk(\"nbme_train_814.spacy\")"
   ]
  },
  {
   "cell_type": "code",
   "execution_count": 341,
   "id": "b8645379",
   "metadata": {},
   "outputs": [
    {
     "name": "stderr",
     "output_type": "stream",
     "text": [
      "100%|█████████████████████████████████████████████████████████████████████████████████| 13/13 [00:00<00:00, 630.65it/s]\n"
     ]
    }
   ],
   "source": [
    "#test data set\n",
    "\n",
    "camp_train = create_training(validation)\n",
    "camp_train.to_disk(\"nbme_validation_814.spacy\")"
   ]
  },
  {
   "cell_type": "code",
   "execution_count": 342,
   "id": "89cf230f",
   "metadata": {},
   "outputs": [
    {
     "name": "stdout",
     "output_type": "stream",
     "text": [
      "[+] Auto-filled config with all values\n",
      "[+] Saved config\n",
      "config_814.cfg\n",
      "You can now add your data and train your pipeline:\n",
      "python -m spacy train config_814.cfg --paths.train ./train.spacy --paths.dev ./dev.spacy\n"
     ]
    },
    {
     "name": "stderr",
     "output_type": "stream",
     "text": [
      "2022-05-12 20:18:12.842803: W tensorflow/stream_executor/platform/default/dso_loader.cc:64] Could not load dynamic library 'cudart64_110.dll'; dlerror: cudart64_110.dll not found\n",
      "2022-05-12 20:18:12.842876: I tensorflow/stream_executor/cuda/cudart_stub.cc:29] Ignore above cudart dlerror if you do not have a GPU set up on your machine.\n"
     ]
    }
   ],
   "source": [
    "!python -m spacy init fill-config ./base_config_814.cfg ./config_814.cfg"
   ]
  },
  {
   "cell_type": "code",
   "execution_count": 343,
   "id": "939ecd5c",
   "metadata": {},
   "outputs": [
    {
     "name": "stdout",
     "output_type": "stream",
     "text": [
      "[i] Saving to output directory: output_814\n",
      "[i] Using CPU\n",
      "\u001b[1m\n",
      "=========================== Initializing pipeline ===========================\u001b[0m\n",
      "[+] Initialized pipeline\n",
      "\u001b[1m\n",
      "============================= Training pipeline =============================\u001b[0m\n",
      "[i] Pipeline: ['tok2vec', 'ner']\n",
      "[i] Initial learn rate: 0.001\n",
      "E    #       LOSS TOK2VEC  LOSS NER  ENTS_F  ENTS_P  ENTS_R  SCORE \n",
      "---  ------  ------------  --------  ------  ------  ------  ------\n",
      "  0       0          0.00     55.00    0.39    0.20    7.69    0.00\n",
      "  4     200        112.30   1427.45   50.00   46.67   53.85    0.50\n",
      "  8     400         13.76     27.60   69.23   69.23   69.23    0.69\n",
      " 12     600          6.13      4.87   75.00   81.82   69.23    0.75\n",
      " 16     800          9.03      7.30   76.92   76.92   76.92    0.77\n",
      " 20    1000          4.04      2.02   83.33   90.91   76.92    0.83\n",
      " 24    1200         15.52      9.07   75.00   81.82   69.23    0.75\n",
      " 28    1400        104.84     39.61   84.62   84.62   84.62    0.85\n",
      " 32    1600          2.23      2.39   78.26   90.00   69.23    0.78\n",
      " 36    1800          0.00      0.00   78.26   90.00   69.23    0.78\n",
      " 40    2000          0.00      0.00   78.26   90.00   69.23    0.78\n",
      " 44    2200          9.77      3.87   88.00   91.67   84.62    0.88\n",
      " 48    2400         22.68     10.06   78.26   90.00   69.23    0.78\n",
      " 53    2600      11690.23    113.30   83.33   90.91   76.92    0.83\n",
      " 57    2800          1.17      1.18   88.00   91.67   84.62    0.88\n",
      " 62    3000          0.00      0.00   88.00   91.67   84.62    0.88\n",
      " 70    3200          0.00      0.00   84.62   84.62   84.62    0.85\n",
      " 79    3400          0.00      0.00   84.62   84.62   84.62    0.85\n",
      " 91    3600          0.00      0.00   88.00   91.67   84.62    0.88\n",
      "106    3800          0.00      0.00   88.00   91.67   84.62    0.88\n",
      "[+] Saved pipeline to output directory\n",
      "output_814\\model-last\n"
     ]
    },
    {
     "name": "stderr",
     "output_type": "stream",
     "text": [
      "2022-05-12 20:18:18.580463: W tensorflow/stream_executor/platform/default/dso_loader.cc:64] Could not load dynamic library 'cudart64_110.dll'; dlerror: cudart64_110.dll not found\n",
      "2022-05-12 20:18:18.580501: I tensorflow/stream_executor/cuda/cudart_stub.cc:29] Ignore above cudart dlerror if you do not have a GPU set up on your machine.\n",
      "[2022-05-12 20:18:21,715] [INFO] Set up nlp object from config\n",
      "[2022-05-12 20:18:21,722] [INFO] Pipeline: ['tok2vec', 'ner']\n",
      "[2022-05-12 20:18:21,724] [INFO] Created vocabulary\n",
      "[2022-05-12 20:18:21,725] [INFO] Finished initializing nlp object\n",
      "[2022-05-12 20:18:22,031] [INFO] Initialized pipeline components: ['tok2vec', 'ner']\n"
     ]
    }
   ],
   "source": [
    "!python -m spacy train config_814.cfg --output ./output_814"
   ]
  },
  {
   "cell_type": "code",
   "execution_count": null,
   "id": "155e20c6",
   "metadata": {},
   "outputs": [],
   "source": []
  },
  {
   "cell_type": "markdown",
   "id": "5a244dc3",
   "metadata": {},
   "source": [
    "#### Feature 815"
   ]
  },
  {
   "cell_type": "code",
   "execution_count": 344,
   "id": "8df4bea0",
   "metadata": {},
   "outputs": [],
   "source": [
    "sep_combined_case8_815 = sep_combined_case8[sep_combined_case8.feature_num == 815]"
   ]
  },
  {
   "cell_type": "code",
   "execution_count": null,
   "id": "7f34f315",
   "metadata": {},
   "outputs": [],
   "source": []
  },
  {
   "cell_type": "code",
   "execution_count": null,
   "id": "c0c73517",
   "metadata": {},
   "outputs": [],
   "source": []
  },
  {
   "cell_type": "code",
   "execution_count": 345,
   "id": "8d0d3b85",
   "metadata": {},
   "outputs": [],
   "source": [
    "pn_Num_list = list(sep_combined_case8_815.pn_num.unique())\n",
    "final_train = []   # appending all the individual rows\n",
    "for patient_number in pn_Num_list:  # for each unique patient number\n",
    "    entities = []  # saving individaual entities locations\n",
    "    for row_index,row in sep_combined_case8_815[sep_combined_case8_815.pn_num == patient_number].iterrows():  # for each unique patient number \n",
    "        \n",
    "        entities.append((int(row[\"start_location\"]),int(row[\"end_location\"]),\"Feature_\" + str(row[\"feature_num\"]))) # store the locations in numeric format\n",
    "        \n",
    "    text = sep_combined_case8_815[sep_combined_case8_815.pn_num == patient_number][\"New_pn_history\"].values[0] # save the text for the unique patient number\n",
    "    \n",
    "    final_train.append((text,{\"entities\":entities}))  # for each unique pn_number append to final list\n",
    "            "
   ]
  },
  {
   "cell_type": "code",
   "execution_count": 346,
   "id": "7847f2db",
   "metadata": {},
   "outputs": [],
   "source": [
    "import json\n",
    "# Serializing json \n",
    "json_object = json.dumps(final_train, indent = 4)\n",
    "  \n",
    "# Writing to sample.json\n",
    "with open(\"sample_815.json\", \"w\") as outfile:\n",
    "    outfile.write(json_object)\n",
    "# Opening JSON file\n",
    "f = open(\"sample_815.json\")\n",
    " \n",
    "# returns JSON object as\n",
    "# a dictionary\n",
    "data = json.load(f)\n",
    "nlp = spacy.blank(\"en\")\n",
    "def create_training(TRAIN_DATA):\n",
    "    db = DocBin()\n",
    "    for text, annot in tqdm(TRAIN_DATA):\n",
    "        doc = nlp.make_doc(text)\n",
    "        ents = []\n",
    "        for start, end, label in annot[\"entities\"]:\n",
    "            span = doc.char_span(start, end, label=label, alignment_mode=\"contract\")\n",
    "            if span is None:\n",
    "                print (\"Skipping entity\")\n",
    "            else:\n",
    "                ents.append(span)\n",
    "        doc.ents = ents\n",
    "        db.add(doc)\n",
    "    return (db)\n",
    "n = int(len(data)*0.8)\n",
    "train = data[:n]\n",
    "validation = data[n:]"
   ]
  },
  {
   "cell_type": "code",
   "execution_count": 347,
   "id": "242fcd3f",
   "metadata": {},
   "outputs": [
    {
     "name": "stderr",
     "output_type": "stream",
     "text": [
      "100%|█████████████████████████████████████████████████████████████████████████████████| 48/48 [00:00<00:00, 589.86it/s]\n"
     ]
    }
   ],
   "source": [
    "#train data set\n",
    "\n",
    "camp_train = create_training(train)\n",
    "camp_train.to_disk(\"nbme_train_815.spacy\")"
   ]
  },
  {
   "cell_type": "code",
   "execution_count": 348,
   "id": "a9a56984",
   "metadata": {},
   "outputs": [
    {
     "name": "stderr",
     "output_type": "stream",
     "text": [
      "100%|█████████████████████████████████████████████████████████████████████████████████| 12/12 [00:00<00:00, 676.56it/s]\n"
     ]
    }
   ],
   "source": [
    "#test data set\n",
    "\n",
    "camp_train = create_training(validation)\n",
    "camp_train.to_disk(\"nbme_validation_815.spacy\")"
   ]
  },
  {
   "cell_type": "code",
   "execution_count": 349,
   "id": "20cbbd2f",
   "metadata": {},
   "outputs": [
    {
     "name": "stdout",
     "output_type": "stream",
     "text": [
      "[+] Auto-filled config with all values\n",
      "[+] Saved config\n",
      "config_815.cfg\n",
      "You can now add your data and train your pipeline:\n",
      "python -m spacy train config_815.cfg --paths.train ./train.spacy --paths.dev ./dev.spacy\n"
     ]
    },
    {
     "name": "stderr",
     "output_type": "stream",
     "text": [
      "2022-05-12 20:23:16.265027: W tensorflow/stream_executor/platform/default/dso_loader.cc:64] Could not load dynamic library 'cudart64_110.dll'; dlerror: cudart64_110.dll not found\n",
      "2022-05-12 20:23:16.265066: I tensorflow/stream_executor/cuda/cudart_stub.cc:29] Ignore above cudart dlerror if you do not have a GPU set up on your machine.\n"
     ]
    }
   ],
   "source": [
    "!python -m spacy init fill-config ./base_config_815.cfg ./config_815.cfg"
   ]
  },
  {
   "cell_type": "code",
   "execution_count": 350,
   "id": "f39b87f6",
   "metadata": {},
   "outputs": [
    {
     "name": "stdout",
     "output_type": "stream",
     "text": [
      "[i] Saving to output directory: output_815\n",
      "[i] Using CPU\n",
      "\u001b[1m\n",
      "=========================== Initializing pipeline ===========================\u001b[0m\n",
      "[+] Initialized pipeline\n",
      "\u001b[1m\n",
      "============================= Training pipeline =============================\u001b[0m\n",
      "[i] Pipeline: ['tok2vec', 'ner']\n",
      "[i] Initial learn rate: 0.001\n",
      "E    #       LOSS TOK2VEC  LOSS NER  ENTS_F  ENTS_P  ENTS_R  SCORE \n",
      "---  ------  ------------  --------  ------  ------  ------  ------\n",
      "  0       0          0.00     63.50    0.00    0.00    0.00    0.00\n",
      "  4     200       3576.86   1956.07   76.92   71.43   83.33    0.77\n",
      "  8     400         37.24     48.63   86.96   90.91   83.33    0.87\n",
      " 12     600          2.61      4.07   86.96   90.91   83.33    0.87\n",
      " 16     800          0.00      0.00   88.00   84.62   91.67    0.88\n",
      " 20    1000          0.00      0.00   91.67   91.67   91.67    0.92\n",
      " 25    1200         11.15      7.03   88.00   84.62   91.67    0.88\n",
      " 29    1400          0.09      0.05   83.33   83.33   83.33    0.83\n",
      " 33    1600          6.53      3.94   83.33   83.33   83.33    0.83\n",
      " 37    1800         11.03      6.21   66.67   66.67   66.67    0.67\n",
      " 41    2000         28.13     17.29   86.96   90.91   83.33    0.87\n",
      " 45    2200         47.95     11.79   74.07   66.67   83.33    0.74\n",
      " 50    2400       7139.96     78.20   78.26   81.82   75.00    0.78\n",
      " 54    2600        346.97     40.71   78.26   81.82   75.00    0.78\n",
      "[+] Saved pipeline to output directory\n",
      "output_815\\model-last\n"
     ]
    },
    {
     "name": "stderr",
     "output_type": "stream",
     "text": [
      "2022-05-12 20:23:20.728800: W tensorflow/stream_executor/platform/default/dso_loader.cc:64] Could not load dynamic library 'cudart64_110.dll'; dlerror: cudart64_110.dll not found\n",
      "2022-05-12 20:23:20.728834: I tensorflow/stream_executor/cuda/cudart_stub.cc:29] Ignore above cudart dlerror if you do not have a GPU set up on your machine.\n",
      "[2022-05-12 20:23:23,898] [INFO] Set up nlp object from config\n",
      "[2022-05-12 20:23:23,904] [INFO] Pipeline: ['tok2vec', 'ner']\n",
      "[2022-05-12 20:23:23,907] [INFO] Created vocabulary\n",
      "[2022-05-12 20:23:23,908] [INFO] Finished initializing nlp object\n",
      "[2022-05-12 20:23:24,220] [INFO] Initialized pipeline components: ['tok2vec', 'ner']\n"
     ]
    }
   ],
   "source": [
    "!python -m spacy train config_815.cfg --output ./output_815"
   ]
  },
  {
   "cell_type": "code",
   "execution_count": null,
   "id": "2fe51154",
   "metadata": {},
   "outputs": [],
   "source": []
  },
  {
   "cell_type": "markdown",
   "id": "a0f9ad32",
   "metadata": {},
   "source": [
    "#### Feature 816"
   ]
  },
  {
   "cell_type": "code",
   "execution_count": 351,
   "id": "8c9279a6",
   "metadata": {},
   "outputs": [],
   "source": [
    "sep_combined_case8_816 = sep_combined_case8[sep_combined_case8.feature_num == 816]"
   ]
  },
  {
   "cell_type": "code",
   "execution_count": 352,
   "id": "0696dc6e",
   "metadata": {},
   "outputs": [],
   "source": [
    "sep_combined_case8_816 = sep_combined_case8_816.drop(index=166)"
   ]
  },
  {
   "cell_type": "code",
   "execution_count": 353,
   "id": "b4350ee0",
   "metadata": {},
   "outputs": [],
   "source": [
    "sep_combined_case8_816 = sep_combined_case8_816.drop(index=210)"
   ]
  },
  {
   "cell_type": "code",
   "execution_count": 354,
   "id": "4414f234",
   "metadata": {},
   "outputs": [],
   "source": [
    "sep_combined_case8_816 = sep_combined_case8_816.drop(index=515)"
   ]
  },
  {
   "cell_type": "code",
   "execution_count": null,
   "id": "1000ef0c",
   "metadata": {},
   "outputs": [],
   "source": []
  },
  {
   "cell_type": "code",
   "execution_count": 355,
   "id": "94cf4980",
   "metadata": {},
   "outputs": [],
   "source": [
    "pn_Num_list = list(sep_combined_case8_816.pn_num.unique())\n",
    "final_train = []   # appending all the individual rows\n",
    "for patient_number in pn_Num_list:  # for each unique patient number\n",
    "    entities = []  # saving individaual entities locations\n",
    "    for row_index,row in sep_combined_case8_816[sep_combined_case8_816.pn_num == patient_number].iterrows():  # for each unique patient number \n",
    "        \n",
    "        entities.append((int(row[\"start_location\"]),int(row[\"end_location\"]),\"Feature_\" + str(row[\"feature_num\"]))) # store the locations in numeric format\n",
    "        \n",
    "    text = sep_combined_case8_816[sep_combined_case8_816.pn_num == patient_number][\"New_pn_history\"].values[0] # save the text for the unique patient number\n",
    "    \n",
    "    final_train.append((text,{\"entities\":entities}))  # for each unique pn_number append to final list\n",
    "            "
   ]
  },
  {
   "cell_type": "code",
   "execution_count": 356,
   "id": "ed105440",
   "metadata": {},
   "outputs": [],
   "source": [
    "import json\n",
    "# Serializing json \n",
    "json_object = json.dumps(final_train, indent = 4)\n",
    "  \n",
    "# Writing to sample.json\n",
    "with open(\"sample_816.json\", \"w\") as outfile:\n",
    "    outfile.write(json_object)\n",
    "# Opening JSON file\n",
    "f = open(\"sample_816.json\")\n",
    " \n",
    "# returns JSON object as\n",
    "# a dictionary\n",
    "data = json.load(f)\n",
    "nlp = spacy.blank(\"en\")\n",
    "def create_training(TRAIN_DATA):\n",
    "    db = DocBin()\n",
    "    for text, annot in tqdm(TRAIN_DATA):\n",
    "        doc = nlp.make_doc(text)\n",
    "        ents = []\n",
    "        for start, end, label in annot[\"entities\"]:\n",
    "            span = doc.char_span(start, end, label=label, alignment_mode=\"contract\")\n",
    "            if span is None:\n",
    "                print (\"Skipping entity\")\n",
    "            else:\n",
    "                ents.append(span)\n",
    "        doc.ents = ents\n",
    "        db.add(doc)\n",
    "    return (db)\n",
    "n = int(len(data)*0.8)\n",
    "train = data[:n]\n",
    "validation = data[n:]"
   ]
  },
  {
   "cell_type": "code",
   "execution_count": 357,
   "id": "6437a326",
   "metadata": {},
   "outputs": [
    {
     "name": "stderr",
     "output_type": "stream",
     "text": [
      "100%|█████████████████████████████████████████████████████████████████████████████████| 56/56 [00:00<00:00, 631.77it/s]\n"
     ]
    }
   ],
   "source": [
    "#train data set\n",
    "\n",
    "camp_train = create_training(train)\n",
    "camp_train.to_disk(\"nbme_train_816.spacy\")"
   ]
  },
  {
   "cell_type": "code",
   "execution_count": 358,
   "id": "d859f6e3",
   "metadata": {},
   "outputs": [
    {
     "name": "stderr",
     "output_type": "stream",
     "text": [
      "100%|█████████████████████████████████████████████████████████████████████████████████| 14/14 [00:00<00:00, 764.01it/s]\n"
     ]
    }
   ],
   "source": [
    "#test data set\n",
    "\n",
    "camp_train = create_training(validation)\n",
    "camp_train.to_disk(\"nbme_validation_816.spacy\")"
   ]
  },
  {
   "cell_type": "code",
   "execution_count": 359,
   "id": "9866751e",
   "metadata": {},
   "outputs": [
    {
     "name": "stdout",
     "output_type": "stream",
     "text": [
      "[+] Auto-filled config with all values\n",
      "[+] Saved config\n",
      "config_816.cfg\n",
      "You can now add your data and train your pipeline:\n",
      "python -m spacy train config_816.cfg --paths.train ./train.spacy --paths.dev ./dev.spacy\n"
     ]
    },
    {
     "name": "stderr",
     "output_type": "stream",
     "text": [
      "2022-05-12 20:26:33.370473: W tensorflow/stream_executor/platform/default/dso_loader.cc:64] Could not load dynamic library 'cudart64_110.dll'; dlerror: cudart64_110.dll not found\n",
      "2022-05-12 20:26:33.370510: I tensorflow/stream_executor/cuda/cudart_stub.cc:29] Ignore above cudart dlerror if you do not have a GPU set up on your machine.\n"
     ]
    }
   ],
   "source": [
    "!python -m spacy init fill-config ./base_config_816.cfg ./config_816.cfg"
   ]
  },
  {
   "cell_type": "code",
   "execution_count": 360,
   "id": "be8ed2d8",
   "metadata": {},
   "outputs": [
    {
     "name": "stdout",
     "output_type": "stream",
     "text": [
      "[i] Saving to output directory: output_816\n",
      "[i] Using CPU\n",
      "\u001b[1m\n",
      "=========================== Initializing pipeline ===========================\u001b[0m\n",
      "[+] Initialized pipeline\n",
      "\u001b[1m\n",
      "============================= Training pipeline =============================\u001b[0m\n",
      "[i] Pipeline: ['tok2vec', 'ner']\n",
      "[i] Initial learn rate: 0.001\n",
      "E    #       LOSS TOK2VEC  LOSS NER  ENTS_F  ENTS_P  ENTS_R  SCORE \n",
      "---  ------  ------------  --------  ------  ------  ------  ------\n",
      "  0       0          0.00     53.33    0.56    0.28   14.29    0.01\n",
      "  3     200       1758.05   1680.51   30.77   33.33   28.57    0.31\n",
      "  7     400        448.55    142.02   73.33   68.75   78.57    0.73\n",
      " 10     600         66.37     28.43   66.67   62.50   71.43    0.67\n",
      " 14     800         22.66     12.17   59.26   61.54   57.14    0.59\n",
      " 17    1000          6.67      4.09   53.33   50.00   57.14    0.53\n",
      " 21    1200          7.16      3.36   37.50   33.33   42.86    0.38\n",
      " 25    1400          7.46      6.33   53.33   50.00   57.14    0.53\n",
      " 28    1600        381.30     30.27   51.43   42.86   64.29    0.51\n",
      " 32    1800         43.50     12.89   46.67   43.75   50.00    0.47\n",
      " 35    2000         91.83     17.24   58.06   52.94   64.29    0.58\n",
      "[+] Saved pipeline to output directory\n",
      "output_816\\model-last\n"
     ]
    },
    {
     "name": "stderr",
     "output_type": "stream",
     "text": [
      "2022-05-12 20:26:37.894832: W tensorflow/stream_executor/platform/default/dso_loader.cc:64] Could not load dynamic library 'cudart64_110.dll'; dlerror: cudart64_110.dll not found\n",
      "2022-05-12 20:26:37.894866: I tensorflow/stream_executor/cuda/cudart_stub.cc:29] Ignore above cudart dlerror if you do not have a GPU set up on your machine.\n",
      "[2022-05-12 20:26:40,904] [INFO] Set up nlp object from config\n",
      "[2022-05-12 20:26:40,911] [INFO] Pipeline: ['tok2vec', 'ner']\n",
      "[2022-05-12 20:26:40,914] [INFO] Created vocabulary\n",
      "[2022-05-12 20:26:40,914] [INFO] Finished initializing nlp object\n",
      "[2022-05-12 20:26:41,237] [INFO] Initialized pipeline components: ['tok2vec', 'ner']\n"
     ]
    }
   ],
   "source": [
    "!python -m spacy train config_816.cfg --output ./output_816"
   ]
  },
  {
   "cell_type": "code",
   "execution_count": null,
   "id": "eb1ccc34",
   "metadata": {},
   "outputs": [],
   "source": []
  },
  {
   "cell_type": "markdown",
   "id": "beab042c",
   "metadata": {},
   "source": [
    "#### Feature 817"
   ]
  },
  {
   "cell_type": "code",
   "execution_count": 361,
   "id": "1fb2a647",
   "metadata": {},
   "outputs": [],
   "source": [
    "sep_combined_case8_817 = sep_combined_case8[sep_combined_case8.feature_num == 817]"
   ]
  },
  {
   "cell_type": "code",
   "execution_count": 362,
   "id": "22251411",
   "metadata": {},
   "outputs": [],
   "source": [
    "sep_combined_case8_817 = sep_combined_case8_817.drop(index=28)"
   ]
  },
  {
   "cell_type": "code",
   "execution_count": 363,
   "id": "67a9a280",
   "metadata": {},
   "outputs": [],
   "source": [
    "sep_combined_case8_817 = sep_combined_case8_817.drop(index=1097)"
   ]
  },
  {
   "cell_type": "code",
   "execution_count": 364,
   "id": "ea04d12a",
   "metadata": {},
   "outputs": [],
   "source": [
    "sep_combined_case8_817 = sep_combined_case8_817.drop(index=72)"
   ]
  },
  {
   "cell_type": "code",
   "execution_count": 365,
   "id": "63c18dfd",
   "metadata": {},
   "outputs": [],
   "source": [
    "sep_combined_case8_817 = sep_combined_case8_817.drop(index=91)"
   ]
  },
  {
   "cell_type": "code",
   "execution_count": 366,
   "id": "244b7070",
   "metadata": {},
   "outputs": [],
   "source": [
    "sep_combined_case8_817 = sep_combined_case8_817.drop(index=90)"
   ]
  },
  {
   "cell_type": "code",
   "execution_count": 367,
   "id": "b1d80312",
   "metadata": {},
   "outputs": [],
   "source": [
    "sep_combined_case8_817 = sep_combined_case8_817.drop(index=299)"
   ]
  },
  {
   "cell_type": "code",
   "execution_count": 368,
   "id": "748656ee",
   "metadata": {},
   "outputs": [],
   "source": [
    "sep_combined_case8_817 = sep_combined_case8_817.drop(index=382)"
   ]
  },
  {
   "cell_type": "code",
   "execution_count": 369,
   "id": "1a131c9f",
   "metadata": {},
   "outputs": [],
   "source": [
    "sep_combined_case8_817 = sep_combined_case8_817.drop(index=572)"
   ]
  },
  {
   "cell_type": "code",
   "execution_count": 370,
   "id": "860adc2b",
   "metadata": {},
   "outputs": [],
   "source": [
    "sep_combined_case8_817 = sep_combined_case8_817.drop(index=586)"
   ]
  },
  {
   "cell_type": "code",
   "execution_count": 371,
   "id": "dd9c82f0",
   "metadata": {},
   "outputs": [],
   "source": [
    "sep_combined_case8_817 = sep_combined_case8_817.drop(index=617)"
   ]
  },
  {
   "cell_type": "code",
   "execution_count": 372,
   "id": "651e6dfe",
   "metadata": {},
   "outputs": [],
   "source": [
    "sep_combined_case8_817 = sep_combined_case8_817.drop(index=633)"
   ]
  },
  {
   "cell_type": "code",
   "execution_count": 373,
   "id": "e6542e72",
   "metadata": {},
   "outputs": [],
   "source": [
    "sep_combined_case8_817 = sep_combined_case8_817.drop(index=727)"
   ]
  },
  {
   "cell_type": "code",
   "execution_count": 374,
   "id": "42416e94",
   "metadata": {},
   "outputs": [],
   "source": [
    "sep_combined_case8_817 = sep_combined_case8_817.drop(index=833)"
   ]
  },
  {
   "cell_type": "code",
   "execution_count": null,
   "id": "def7a25a",
   "metadata": {},
   "outputs": [],
   "source": []
  },
  {
   "cell_type": "code",
   "execution_count": 375,
   "id": "3d5af91d",
   "metadata": {},
   "outputs": [],
   "source": [
    "pn_Num_list = list(sep_combined_case8_817.pn_num.unique())\n",
    "final_train = []   # appending all the individual rows\n",
    "for patient_number in pn_Num_list:  # for each unique patient number\n",
    "    entities = []  # saving individaual entities locations\n",
    "    for row_index,row in sep_combined_case8_817[sep_combined_case8_817.pn_num == patient_number].iterrows():  # for each unique patient number \n",
    "        \n",
    "        entities.append((int(row[\"start_location\"]),int(row[\"end_location\"]),\"Feature_\" + str(row[\"feature_num\"]))) # store the locations in numeric format\n",
    "        \n",
    "    text = sep_combined_case8_817[sep_combined_case8_817.pn_num == patient_number][\"New_pn_history\"].values[0] # save the text for the unique patient number\n",
    "    \n",
    "    final_train.append((text,{\"entities\":entities}))  # for each unique pn_number append to final list\n",
    "            "
   ]
  },
  {
   "cell_type": "code",
   "execution_count": 376,
   "id": "7837d9b1",
   "metadata": {},
   "outputs": [],
   "source": [
    "import json\n",
    "# Serializing json \n",
    "json_object = json.dumps(final_train, indent = 4)\n",
    "  \n",
    "# Writing to sample.json\n",
    "with open(\"sample_817.json\", \"w\") as outfile:\n",
    "    outfile.write(json_object)\n",
    "# Opening JSON file\n",
    "f = open(\"sample_817.json\")\n",
    " \n",
    "# returns JSON object as\n",
    "# a dictionary\n",
    "data = json.load(f)\n",
    "nlp = spacy.blank(\"en\")\n",
    "def create_training(TRAIN_DATA):\n",
    "    db = DocBin()\n",
    "    for text, annot in tqdm(TRAIN_DATA):\n",
    "        doc = nlp.make_doc(text)\n",
    "        ents = []\n",
    "        for start, end, label in annot[\"entities\"]:\n",
    "            span = doc.char_span(start, end, label=label, alignment_mode=\"contract\")\n",
    "            if span is None:\n",
    "                print (\"Skipping entity\")\n",
    "            else:\n",
    "                ents.append(span)\n",
    "        doc.ents = ents\n",
    "        db.add(doc)\n",
    "    return (db)\n",
    "n = int(len(data)*0.8)\n",
    "train = data[:n]\n",
    "validation = data[n:]"
   ]
  },
  {
   "cell_type": "code",
   "execution_count": 377,
   "id": "346ca06c",
   "metadata": {},
   "outputs": [
    {
     "name": "stderr",
     "output_type": "stream",
     "text": [
      "100%|█████████████████████████████████████████████████████████████████████████████████| 78/78 [00:00<00:00, 871.93it/s]\n"
     ]
    }
   ],
   "source": [
    "#train data set\n",
    "\n",
    "camp_train = create_training(train)\n",
    "camp_train.to_disk(\"nbme_train_817.spacy\")"
   ]
  },
  {
   "cell_type": "code",
   "execution_count": 378,
   "id": "d7a3d423",
   "metadata": {},
   "outputs": [
    {
     "name": "stderr",
     "output_type": "stream",
     "text": [
      "100%|█████████████████████████████████████████████████████████████████████████████████| 20/20 [00:00<00:00, 938.45it/s]\n"
     ]
    }
   ],
   "source": [
    "#test data set\n",
    "\n",
    "camp_train = create_training(validation)\n",
    "camp_train.to_disk(\"nbme_validation_817.spacy\")"
   ]
  },
  {
   "cell_type": "code",
   "execution_count": 379,
   "id": "211fde51",
   "metadata": {},
   "outputs": [
    {
     "name": "stdout",
     "output_type": "stream",
     "text": [
      "[+] Auto-filled config with all values\n",
      "[+] Saved config\n",
      "config_817.cfg\n",
      "You can now add your data and train your pipeline:\n",
      "python -m spacy train config_817.cfg --paths.train ./train.spacy --paths.dev ./dev.spacy\n"
     ]
    },
    {
     "name": "stderr",
     "output_type": "stream",
     "text": [
      "2022-05-12 20:29:08.926155: W tensorflow/stream_executor/platform/default/dso_loader.cc:64] Could not load dynamic library 'cudart64_110.dll'; dlerror: cudart64_110.dll not found\n",
      "2022-05-12 20:29:08.926190: I tensorflow/stream_executor/cuda/cudart_stub.cc:29] Ignore above cudart dlerror if you do not have a GPU set up on your machine.\n"
     ]
    }
   ],
   "source": [
    "!python -m spacy init fill-config ./base_config_817.cfg ./config_817.cfg"
   ]
  },
  {
   "cell_type": "code",
   "execution_count": 380,
   "id": "0a1a9b1f",
   "metadata": {},
   "outputs": [
    {
     "name": "stdout",
     "output_type": "stream",
     "text": [
      "[i] Saving to output directory: output_817\n",
      "[i] Using CPU\n",
      "\u001b[1m\n",
      "=========================== Initializing pipeline ===========================\u001b[0m\n",
      "[+] Initialized pipeline\n",
      "\u001b[1m\n",
      "============================= Training pipeline =============================\u001b[0m\n",
      "[i] Pipeline: ['tok2vec', 'ner']\n",
      "[i] Initial learn rate: 0.001\n",
      "E    #       LOSS TOK2VEC  LOSS NER  ENTS_F  ENTS_P  ENTS_R  SCORE \n",
      "---  ------  ------------  --------  ------  ------  ------  ------\n",
      "  0       0          0.00     68.17    1.12    0.63    5.41    0.01\n",
      "  2     200       1866.40   2481.05   61.02   81.82   48.65    0.61\n",
      "  5     400         35.51    366.19   59.02   75.00   48.65    0.59\n",
      "  7     600         74.75    181.74   47.50   44.19   51.35    0.48\n",
      " 10     800        199.73    150.86   60.00   63.64   56.76    0.60\n",
      " 12    1000         77.49    100.59   68.66   76.67   62.16    0.69\n",
      " 15    1200         76.82     66.25   64.86   64.86   64.86    0.65\n",
      " 17    1400        127.69     73.42   56.67   73.91   45.95    0.57\n",
      " 20    1600         77.94     52.34   65.67   73.33   59.46    0.66\n",
      " 23    1800         71.24     34.81   66.67   75.86   59.46    0.67\n",
      " 25    2000         57.46     31.92   70.27   70.27   70.27    0.70\n",
      " 28    2200         75.28     28.77   65.62   77.78   56.76    0.66\n",
      " 30    2400         84.87     36.90   65.62   77.78   56.76    0.66\n",
      " 33    2600         23.54      7.44   64.62   75.00   56.76    0.65\n",
      " 36    2800        229.05     16.15   66.67   75.86   59.46    0.67\n",
      " 39    3000          5.79      1.20   63.49   76.92   54.05    0.63\n",
      " 44    3200        230.53     45.42   65.62   77.78   56.76    0.66\n",
      " 51    3400        200.95     30.98   67.61   70.59   64.86    0.68\n",
      " 59    3600        138.40     27.75   70.00   91.30   56.76    0.70\n",
      "[+] Saved pipeline to output directory\n",
      "output_817\\model-last\n"
     ]
    },
    {
     "name": "stderr",
     "output_type": "stream",
     "text": [
      "2022-05-12 20:29:13.374536: W tensorflow/stream_executor/platform/default/dso_loader.cc:64] Could not load dynamic library 'cudart64_110.dll'; dlerror: cudart64_110.dll not found\n",
      "2022-05-12 20:29:13.374572: I tensorflow/stream_executor/cuda/cudart_stub.cc:29] Ignore above cudart dlerror if you do not have a GPU set up on your machine.\n",
      "[2022-05-12 20:29:16,443] [INFO] Set up nlp object from config\n",
      "[2022-05-12 20:29:16,450] [INFO] Pipeline: ['tok2vec', 'ner']\n",
      "[2022-05-12 20:29:16,453] [INFO] Created vocabulary\n",
      "[2022-05-12 20:29:16,453] [INFO] Finished initializing nlp object\n",
      "[2022-05-12 20:29:16,817] [INFO] Initialized pipeline components: ['tok2vec', 'ner']\n"
     ]
    }
   ],
   "source": [
    "!python -m spacy train config_817.cfg --output ./output_817"
   ]
  },
  {
   "cell_type": "code",
   "execution_count": null,
   "id": "b85bb5ab",
   "metadata": {},
   "outputs": [],
   "source": []
  }
 ],
 "metadata": {
  "kernelspec": {
   "display_name": "Python 3",
   "language": "python",
   "name": "python3"
  },
  "language_info": {
   "codemirror_mode": {
    "name": "ipython",
    "version": 3
   },
   "file_extension": ".py",
   "mimetype": "text/x-python",
   "name": "python",
   "nbconvert_exporter": "python",
   "pygments_lexer": "ipython3",
   "version": "3.8.8"
  }
 },
 "nbformat": 4,
 "nbformat_minor": 5
}
