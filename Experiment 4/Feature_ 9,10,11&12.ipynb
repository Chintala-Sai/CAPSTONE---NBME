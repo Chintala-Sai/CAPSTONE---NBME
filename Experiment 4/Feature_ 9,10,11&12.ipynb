{
 "cells": [
  {
   "cell_type": "code",
   "execution_count": 1,
   "metadata": {},
   "outputs": [],
   "source": [
    "import pandas as pd\n",
    "import numpy as np\n",
    "import json\n",
    "import warnings\n",
    "import spacy\n",
    "warnings.filterwarnings(\"ignore\")\n",
    "import random"
   ]
  },
  {
   "cell_type": "code",
   "execution_count": 3,
   "metadata": {},
   "outputs": [],
   "source": [
    "import os\n",
    "os.getcwd()\n",
    "os.chdir('C:\\\\Users\\\\preet\\\\Desktop\\\\CAPstone\\\\week 3 - copy2')"
   ]
  },
  {
   "cell_type": "code",
   "execution_count": 4,
   "metadata": {},
   "outputs": [],
   "source": [
    "train_data = pd.read_csv(\"C:\\\\Users\\\\preet\\\\Desktop\\\\CAPstone\\\\train.csv\")\n",
    "features = pd.read_csv(\"C:\\\\Users\\\\preet\\\\Desktop\\\\CAPstone\\\\features.csv\")\n",
    "patient_notes = pd.read_csv(\"C:\\\\Users\\\\preet\\\\Desktop\\\\CAPstone\\\\patient_notes.csv\")"
   ]
  },
  {
   "cell_type": "code",
   "execution_count": 5,
   "metadata": {},
   "outputs": [
    {
     "data": {
      "text/html": [
       "<div>\n",
       "<style scoped>\n",
       "    .dataframe tbody tr th:only-of-type {\n",
       "        vertical-align: middle;\n",
       "    }\n",
       "\n",
       "    .dataframe tbody tr th {\n",
       "        vertical-align: top;\n",
       "    }\n",
       "\n",
       "    .dataframe thead th {\n",
       "        text-align: right;\n",
       "    }\n",
       "</style>\n",
       "<table border=\"1\" class=\"dataframe\">\n",
       "  <thead>\n",
       "    <tr style=\"text-align: right;\">\n",
       "      <th></th>\n",
       "      <th>id</th>\n",
       "      <th>case_num</th>\n",
       "      <th>pn_num</th>\n",
       "      <th>feature_num</th>\n",
       "      <th>annotation</th>\n",
       "      <th>location</th>\n",
       "    </tr>\n",
       "  </thead>\n",
       "  <tbody>\n",
       "    <tr>\n",
       "      <th>0</th>\n",
       "      <td>00016_000</td>\n",
       "      <td>0</td>\n",
       "      <td>16</td>\n",
       "      <td>0</td>\n",
       "      <td>['dad with recent heart attcak']</td>\n",
       "      <td>['696 724']</td>\n",
       "    </tr>\n",
       "    <tr>\n",
       "      <th>1</th>\n",
       "      <td>00016_001</td>\n",
       "      <td>0</td>\n",
       "      <td>16</td>\n",
       "      <td>1</td>\n",
       "      <td>['mom with \"thyroid disease']</td>\n",
       "      <td>['668 693']</td>\n",
       "    </tr>\n",
       "    <tr>\n",
       "      <th>2</th>\n",
       "      <td>00016_002</td>\n",
       "      <td>0</td>\n",
       "      <td>16</td>\n",
       "      <td>2</td>\n",
       "      <td>['chest pressure']</td>\n",
       "      <td>['203 217']</td>\n",
       "    </tr>\n",
       "    <tr>\n",
       "      <th>3</th>\n",
       "      <td>00016_003</td>\n",
       "      <td>0</td>\n",
       "      <td>16</td>\n",
       "      <td>3</td>\n",
       "      <td>['intermittent episodes', 'episode']</td>\n",
       "      <td>['70 91', '176 183']</td>\n",
       "    </tr>\n",
       "    <tr>\n",
       "      <th>4</th>\n",
       "      <td>00016_004</td>\n",
       "      <td>0</td>\n",
       "      <td>16</td>\n",
       "      <td>4</td>\n",
       "      <td>['felt as if he were going to pass out']</td>\n",
       "      <td>['222 258']</td>\n",
       "    </tr>\n",
       "  </tbody>\n",
       "</table>\n",
       "</div>"
      ],
      "text/plain": [
       "          id  case_num  pn_num  feature_num  \\\n",
       "0  00016_000         0      16            0   \n",
       "1  00016_001         0      16            1   \n",
       "2  00016_002         0      16            2   \n",
       "3  00016_003         0      16            3   \n",
       "4  00016_004         0      16            4   \n",
       "\n",
       "                                 annotation              location  \n",
       "0          ['dad with recent heart attcak']           ['696 724']  \n",
       "1             ['mom with \"thyroid disease']           ['668 693']  \n",
       "2                        ['chest pressure']           ['203 217']  \n",
       "3      ['intermittent episodes', 'episode']  ['70 91', '176 183']  \n",
       "4  ['felt as if he were going to pass out']           ['222 258']  "
      ]
     },
     "execution_count": 5,
     "metadata": {},
     "output_type": "execute_result"
    }
   ],
   "source": [
    "train_data.head()"
   ]
  },
  {
   "cell_type": "code",
   "execution_count": 6,
   "metadata": {},
   "outputs": [
    {
     "data": {
      "text/html": [
       "<div>\n",
       "<style scoped>\n",
       "    .dataframe tbody tr th:only-of-type {\n",
       "        vertical-align: middle;\n",
       "    }\n",
       "\n",
       "    .dataframe tbody tr th {\n",
       "        vertical-align: top;\n",
       "    }\n",
       "\n",
       "    .dataframe thead th {\n",
       "        text-align: right;\n",
       "    }\n",
       "</style>\n",
       "<table border=\"1\" class=\"dataframe\">\n",
       "  <thead>\n",
       "    <tr style=\"text-align: right;\">\n",
       "      <th></th>\n",
       "      <th>feature_num</th>\n",
       "      <th>case_num</th>\n",
       "      <th>feature_text</th>\n",
       "    </tr>\n",
       "  </thead>\n",
       "  <tbody>\n",
       "    <tr>\n",
       "      <th>0</th>\n",
       "      <td>0</td>\n",
       "      <td>0</td>\n",
       "      <td>Family-history-of-MI-OR-Family-history-of-myoc...</td>\n",
       "    </tr>\n",
       "    <tr>\n",
       "      <th>1</th>\n",
       "      <td>1</td>\n",
       "      <td>0</td>\n",
       "      <td>Family-history-of-thyroid-disorder</td>\n",
       "    </tr>\n",
       "    <tr>\n",
       "      <th>2</th>\n",
       "      <td>2</td>\n",
       "      <td>0</td>\n",
       "      <td>Chest-pressure</td>\n",
       "    </tr>\n",
       "    <tr>\n",
       "      <th>3</th>\n",
       "      <td>3</td>\n",
       "      <td>0</td>\n",
       "      <td>Intermittent-symptoms</td>\n",
       "    </tr>\n",
       "    <tr>\n",
       "      <th>4</th>\n",
       "      <td>4</td>\n",
       "      <td>0</td>\n",
       "      <td>Lightheaded</td>\n",
       "    </tr>\n",
       "  </tbody>\n",
       "</table>\n",
       "</div>"
      ],
      "text/plain": [
       "   feature_num  case_num                                       feature_text\n",
       "0            0         0  Family-history-of-MI-OR-Family-history-of-myoc...\n",
       "1            1         0                 Family-history-of-thyroid-disorder\n",
       "2            2         0                                     Chest-pressure\n",
       "3            3         0                              Intermittent-symptoms\n",
       "4            4         0                                        Lightheaded"
      ]
     },
     "execution_count": 6,
     "metadata": {},
     "output_type": "execute_result"
    }
   ],
   "source": [
    "features.head()"
   ]
  },
  {
   "cell_type": "code",
   "execution_count": 7,
   "metadata": {},
   "outputs": [
    {
     "data": {
      "text/html": [
       "<div>\n",
       "<style scoped>\n",
       "    .dataframe tbody tr th:only-of-type {\n",
       "        vertical-align: middle;\n",
       "    }\n",
       "\n",
       "    .dataframe tbody tr th {\n",
       "        vertical-align: top;\n",
       "    }\n",
       "\n",
       "    .dataframe thead th {\n",
       "        text-align: right;\n",
       "    }\n",
       "</style>\n",
       "<table border=\"1\" class=\"dataframe\">\n",
       "  <thead>\n",
       "    <tr style=\"text-align: right;\">\n",
       "      <th></th>\n",
       "      <th>pn_num</th>\n",
       "      <th>case_num</th>\n",
       "      <th>pn_history</th>\n",
       "    </tr>\n",
       "  </thead>\n",
       "  <tbody>\n",
       "    <tr>\n",
       "      <th>0</th>\n",
       "      <td>0</td>\n",
       "      <td>0</td>\n",
       "      <td>17-year-old male, has come to the student heal...</td>\n",
       "    </tr>\n",
       "    <tr>\n",
       "      <th>1</th>\n",
       "      <td>1</td>\n",
       "      <td>0</td>\n",
       "      <td>17 yo male with recurrent palpitations for the...</td>\n",
       "    </tr>\n",
       "    <tr>\n",
       "      <th>2</th>\n",
       "      <td>2</td>\n",
       "      <td>0</td>\n",
       "      <td>Dillon Cleveland is a 17 y.o. male patient wit...</td>\n",
       "    </tr>\n",
       "    <tr>\n",
       "      <th>3</th>\n",
       "      <td>3</td>\n",
       "      <td>0</td>\n",
       "      <td>a 17 yo m c/o palpitation started 3 mos ago; \\...</td>\n",
       "    </tr>\n",
       "    <tr>\n",
       "      <th>4</th>\n",
       "      <td>4</td>\n",
       "      <td>0</td>\n",
       "      <td>17yo male with no pmh here for evaluation of p...</td>\n",
       "    </tr>\n",
       "  </tbody>\n",
       "</table>\n",
       "</div>"
      ],
      "text/plain": [
       "   pn_num  case_num                                         pn_history\n",
       "0       0         0  17-year-old male, has come to the student heal...\n",
       "1       1         0  17 yo male with recurrent palpitations for the...\n",
       "2       2         0  Dillon Cleveland is a 17 y.o. male patient wit...\n",
       "3       3         0  a 17 yo m c/o palpitation started 3 mos ago; \\...\n",
       "4       4         0  17yo male with no pmh here for evaluation of p..."
      ]
     },
     "execution_count": 7,
     "metadata": {},
     "output_type": "execute_result"
    }
   ],
   "source": [
    "patient_notes.head()"
   ]
  },
  {
   "cell_type": "code",
   "execution_count": 8,
   "metadata": {},
   "outputs": [
    {
     "data": {
      "text/html": [
       "<div>\n",
       "<style scoped>\n",
       "    .dataframe tbody tr th:only-of-type {\n",
       "        vertical-align: middle;\n",
       "    }\n",
       "\n",
       "    .dataframe tbody tr th {\n",
       "        vertical-align: top;\n",
       "    }\n",
       "\n",
       "    .dataframe thead th {\n",
       "        text-align: right;\n",
       "    }\n",
       "</style>\n",
       "<table border=\"1\" class=\"dataframe\">\n",
       "  <thead>\n",
       "    <tr style=\"text-align: right;\">\n",
       "      <th></th>\n",
       "      <th>id</th>\n",
       "      <th>case_num</th>\n",
       "      <th>pn_num</th>\n",
       "      <th>feature_num</th>\n",
       "      <th>annotation</th>\n",
       "      <th>location</th>\n",
       "    </tr>\n",
       "  </thead>\n",
       "  <tbody>\n",
       "    <tr>\n",
       "      <th>0</th>\n",
       "      <td>00016_000</td>\n",
       "      <td>0</td>\n",
       "      <td>16</td>\n",
       "      <td>0</td>\n",
       "      <td>['dad with recent heart attcak']</td>\n",
       "      <td>['696 724']</td>\n",
       "    </tr>\n",
       "    <tr>\n",
       "      <th>1</th>\n",
       "      <td>00016_001</td>\n",
       "      <td>0</td>\n",
       "      <td>16</td>\n",
       "      <td>1</td>\n",
       "      <td>['mom with \"thyroid disease']</td>\n",
       "      <td>['668 693']</td>\n",
       "    </tr>\n",
       "    <tr>\n",
       "      <th>2</th>\n",
       "      <td>00016_002</td>\n",
       "      <td>0</td>\n",
       "      <td>16</td>\n",
       "      <td>2</td>\n",
       "      <td>['chest pressure']</td>\n",
       "      <td>['203 217']</td>\n",
       "    </tr>\n",
       "    <tr>\n",
       "      <th>3</th>\n",
       "      <td>00016_003</td>\n",
       "      <td>0</td>\n",
       "      <td>16</td>\n",
       "      <td>3</td>\n",
       "      <td>['intermittent episodes', 'episode']</td>\n",
       "      <td>['70 91', '176 183']</td>\n",
       "    </tr>\n",
       "    <tr>\n",
       "      <th>4</th>\n",
       "      <td>00016_004</td>\n",
       "      <td>0</td>\n",
       "      <td>16</td>\n",
       "      <td>4</td>\n",
       "      <td>['felt as if he were going to pass out']</td>\n",
       "      <td>['222 258']</td>\n",
       "    </tr>\n",
       "  </tbody>\n",
       "</table>\n",
       "</div>"
      ],
      "text/plain": [
       "          id  case_num  pn_num  feature_num  \\\n",
       "0  00016_000         0      16            0   \n",
       "1  00016_001         0      16            1   \n",
       "2  00016_002         0      16            2   \n",
       "3  00016_003         0      16            3   \n",
       "4  00016_004         0      16            4   \n",
       "\n",
       "                                 annotation              location  \n",
       "0          ['dad with recent heart attcak']           ['696 724']  \n",
       "1             ['mom with \"thyroid disease']           ['668 693']  \n",
       "2                        ['chest pressure']           ['203 217']  \n",
       "3      ['intermittent episodes', 'episode']  ['70 91', '176 183']  \n",
       "4  ['felt as if he were going to pass out']           ['222 258']  "
      ]
     },
     "execution_count": 8,
     "metadata": {},
     "output_type": "execute_result"
    }
   ],
   "source": [
    "train_data.head()"
   ]
  },
  {
   "cell_type": "code",
   "execution_count": 9,
   "metadata": {},
   "outputs": [
    {
     "data": {
      "text/plain": [
       "array([  16,   41,   46,   82,  100,  161,  188,  211,  224,  225,  234,\n",
       "        331,  344,  352,  372,  390,  426,  464,  489,  495,  510,  575,\n",
       "        583,  585,  625,  653,  669,  673,  699,  701,  719,  768,  769,\n",
       "        777,  796,  804,  810,  816,  817,  821,  831,  861,  883,  970,\n",
       "        977,  987, 1010, 1110, 1115, 1133, 1146, 1149, 1151, 1165, 1173,\n",
       "       1186, 1200, 1209, 1235, 1250, 1264, 1270, 1281, 1318, 1376, 1512,\n",
       "       1547, 1581, 1587, 1613, 1622, 1652, 1692, 1694, 1699, 1723, 1742,\n",
       "       1809, 1835, 1847, 1855, 1881, 1939, 1948, 2078, 2151, 2163, 2184,\n",
       "       2198, 2201, 2223, 2271, 2285, 2290, 2308, 2315, 2425, 2428, 2430,\n",
       "       2436], dtype=int64)"
      ]
     },
     "execution_count": 9,
     "metadata": {},
     "output_type": "execute_result"
    }
   ],
   "source": [
    "train_data[(train_data.case_num == 0)].pn_num.unique()"
   ]
  },
  {
   "cell_type": "code",
   "execution_count": 10,
   "metadata": {},
   "outputs": [
    {
     "data": {
      "text/html": [
       "<div>\n",
       "<style scoped>\n",
       "    .dataframe tbody tr th:only-of-type {\n",
       "        vertical-align: middle;\n",
       "    }\n",
       "\n",
       "    .dataframe tbody tr th {\n",
       "        vertical-align: top;\n",
       "    }\n",
       "\n",
       "    .dataframe thead th {\n",
       "        text-align: right;\n",
       "    }\n",
       "</style>\n",
       "<table border=\"1\" class=\"dataframe\">\n",
       "  <thead>\n",
       "    <tr style=\"text-align: right;\">\n",
       "      <th></th>\n",
       "      <th>id</th>\n",
       "      <th>case_num</th>\n",
       "      <th>pn_num</th>\n",
       "      <th>feature_num</th>\n",
       "      <th>annotation</th>\n",
       "      <th>location</th>\n",
       "    </tr>\n",
       "  </thead>\n",
       "  <tbody>\n",
       "    <tr>\n",
       "      <th>1248</th>\n",
       "      <td>02425_000</td>\n",
       "      <td>0</td>\n",
       "      <td>2425</td>\n",
       "      <td>0</td>\n",
       "      <td>[]</td>\n",
       "      <td>[]</td>\n",
       "    </tr>\n",
       "    <tr>\n",
       "      <th>1249</th>\n",
       "      <td>02425_001</td>\n",
       "      <td>0</td>\n",
       "      <td>2425</td>\n",
       "      <td>1</td>\n",
       "      <td>['Mother hx of thyroid disease']</td>\n",
       "      <td>['594 622']</td>\n",
       "    </tr>\n",
       "    <tr>\n",
       "      <th>1250</th>\n",
       "      <td>02425_002</td>\n",
       "      <td>0</td>\n",
       "      <td>2425</td>\n",
       "      <td>2</td>\n",
       "      <td>[]</td>\n",
       "      <td>[]</td>\n",
       "    </tr>\n",
       "    <tr>\n",
       "      <th>1251</th>\n",
       "      <td>02425_003</td>\n",
       "      <td>0</td>\n",
       "      <td>2425</td>\n",
       "      <td>3</td>\n",
       "      <td>['5-7 episodes']</td>\n",
       "      <td>['64 76']</td>\n",
       "    </tr>\n",
       "    <tr>\n",
       "      <th>1252</th>\n",
       "      <td>02425_004</td>\n",
       "      <td>0</td>\n",
       "      <td>2425</td>\n",
       "      <td>4</td>\n",
       "      <td>[]</td>\n",
       "      <td>[]</td>\n",
       "    </tr>\n",
       "    <tr>\n",
       "      <th>1253</th>\n",
       "      <td>02425_005</td>\n",
       "      <td>0</td>\n",
       "      <td>2425</td>\n",
       "      <td>5</td>\n",
       "      <td>['no heat intolerance']</td>\n",
       "      <td>['380 399']</td>\n",
       "    </tr>\n",
       "    <tr>\n",
       "      <th>1254</th>\n",
       "      <td>02425_006</td>\n",
       "      <td>0</td>\n",
       "      <td>2425</td>\n",
       "      <td>6</td>\n",
       "      <td>[]</td>\n",
       "      <td>[]</td>\n",
       "    </tr>\n",
       "    <tr>\n",
       "      <th>1255</th>\n",
       "      <td>02425_007</td>\n",
       "      <td>0</td>\n",
       "      <td>2425</td>\n",
       "      <td>7</td>\n",
       "      <td>['SOB']</td>\n",
       "      <td>['330 333']</td>\n",
       "    </tr>\n",
       "    <tr>\n",
       "      <th>1256</th>\n",
       "      <td>02425_008</td>\n",
       "      <td>0</td>\n",
       "      <td>2425</td>\n",
       "      <td>8</td>\n",
       "      <td>[]</td>\n",
       "      <td>[]</td>\n",
       "    </tr>\n",
       "    <tr>\n",
       "      <th>1257</th>\n",
       "      <td>02425_009</td>\n",
       "      <td>0</td>\n",
       "      <td>2425</td>\n",
       "      <td>9</td>\n",
       "      <td>['palpitation']</td>\n",
       "      <td>['9 20']</td>\n",
       "    </tr>\n",
       "    <tr>\n",
       "      <th>1258</th>\n",
       "      <td>02425_010</td>\n",
       "      <td>0</td>\n",
       "      <td>2425</td>\n",
       "      <td>10</td>\n",
       "      <td>['Started 3 months ago']</td>\n",
       "      <td>['24 44']</td>\n",
       "    </tr>\n",
       "    <tr>\n",
       "      <th>1259</th>\n",
       "      <td>02425_011</td>\n",
       "      <td>0</td>\n",
       "      <td>2425</td>\n",
       "      <td>11</td>\n",
       "      <td>['17 yo']</td>\n",
       "      <td>['0 5']</td>\n",
       "    </tr>\n",
       "    <tr>\n",
       "      <th>1260</th>\n",
       "      <td>02425_012</td>\n",
       "      <td>0</td>\n",
       "      <td>2425</td>\n",
       "      <td>12</td>\n",
       "      <td>[]</td>\n",
       "      <td>[]</td>\n",
       "    </tr>\n",
       "  </tbody>\n",
       "</table>\n",
       "</div>"
      ],
      "text/plain": [
       "             id  case_num  pn_num  feature_num  \\\n",
       "1248  02425_000         0    2425            0   \n",
       "1249  02425_001         0    2425            1   \n",
       "1250  02425_002         0    2425            2   \n",
       "1251  02425_003         0    2425            3   \n",
       "1252  02425_004         0    2425            4   \n",
       "1253  02425_005         0    2425            5   \n",
       "1254  02425_006         0    2425            6   \n",
       "1255  02425_007         0    2425            7   \n",
       "1256  02425_008         0    2425            8   \n",
       "1257  02425_009         0    2425            9   \n",
       "1258  02425_010         0    2425           10   \n",
       "1259  02425_011         0    2425           11   \n",
       "1260  02425_012         0    2425           12   \n",
       "\n",
       "                            annotation     location  \n",
       "1248                                []           []  \n",
       "1249  ['Mother hx of thyroid disease']  ['594 622']  \n",
       "1250                                []           []  \n",
       "1251                  ['5-7 episodes']    ['64 76']  \n",
       "1252                                []           []  \n",
       "1253           ['no heat intolerance']  ['380 399']  \n",
       "1254                                []           []  \n",
       "1255                           ['SOB']  ['330 333']  \n",
       "1256                                []           []  \n",
       "1257                   ['palpitation']     ['9 20']  \n",
       "1258          ['Started 3 months ago']    ['24 44']  \n",
       "1259                         ['17 yo']      ['0 5']  \n",
       "1260                                []           []  "
      ]
     },
     "execution_count": 10,
     "metadata": {},
     "output_type": "execute_result"
    }
   ],
   "source": [
    "train_data[(train_data.case_num == 0)&(train_data.pn_num == 2425)]"
   ]
  },
  {
   "cell_type": "markdown",
   "metadata": {},
   "source": [
    "**test : 1146,188,831,2425,2430**"
   ]
  },
  {
   "cell_type": "code",
   "execution_count": 11,
   "metadata": {},
   "outputs": [],
   "source": [
    "new_train = train_data[(train_data.case_num == 0)&(train_data.pn_num != 1146)&(train_data.pn_num != 188)&(train_data.pn_num != 831)&(train_data.pn_num != 2425)&(train_data.pn_num != 2430)][['pn_num','annotation',\"location\",\"feature_num\"]]"
   ]
  },
  {
   "cell_type": "code",
   "execution_count": 12,
   "metadata": {},
   "outputs": [],
   "source": [
    "rand_train = new_train[(new_train.feature_num == 9)|(new_train.feature_num == 10)|(new_train.feature_num == 11)|(new_train.feature_num == 12)]"
   ]
  },
  {
   "cell_type": "code",
   "execution_count": 13,
   "metadata": {},
   "outputs": [
    {
     "data": {
      "text/html": [
       "<div>\n",
       "<style scoped>\n",
       "    .dataframe tbody tr th:only-of-type {\n",
       "        vertical-align: middle;\n",
       "    }\n",
       "\n",
       "    .dataframe tbody tr th {\n",
       "        vertical-align: top;\n",
       "    }\n",
       "\n",
       "    .dataframe thead th {\n",
       "        text-align: right;\n",
       "    }\n",
       "</style>\n",
       "<table border=\"1\" class=\"dataframe\">\n",
       "  <thead>\n",
       "    <tr style=\"text-align: right;\">\n",
       "      <th></th>\n",
       "      <th>pn_num</th>\n",
       "      <th>annotation</th>\n",
       "      <th>location</th>\n",
       "      <th>feature_num</th>\n",
       "    </tr>\n",
       "  </thead>\n",
       "  <tbody>\n",
       "    <tr>\n",
       "      <th>9</th>\n",
       "      <td>16</td>\n",
       "      <td>['palpitations', 'heart beating/pounding']</td>\n",
       "      <td>['26 38', '96 118']</td>\n",
       "      <td>9</td>\n",
       "    </tr>\n",
       "    <tr>\n",
       "      <th>10</th>\n",
       "      <td>16</td>\n",
       "      <td>['3-4 months of']</td>\n",
       "      <td>['56 69']</td>\n",
       "      <td>10</td>\n",
       "    </tr>\n",
       "    <tr>\n",
       "      <th>11</th>\n",
       "      <td>16</td>\n",
       "      <td>['17yo']</td>\n",
       "      <td>['5 9']</td>\n",
       "      <td>11</td>\n",
       "    </tr>\n",
       "    <tr>\n",
       "      <th>12</th>\n",
       "      <td>16</td>\n",
       "      <td>['M']</td>\n",
       "      <td>['10 11']</td>\n",
       "      <td>12</td>\n",
       "    </tr>\n",
       "    <tr>\n",
       "      <th>22</th>\n",
       "      <td>41</td>\n",
       "      <td>['HEART POUNDING']</td>\n",
       "      <td>['32 46']</td>\n",
       "      <td>9</td>\n",
       "    </tr>\n",
       "    <tr>\n",
       "      <th>23</th>\n",
       "      <td>41</td>\n",
       "      <td>['STARTED 2-3 MO AGO']</td>\n",
       "      <td>['48 66']</td>\n",
       "      <td>10</td>\n",
       "    </tr>\n",
       "    <tr>\n",
       "      <th>24</th>\n",
       "      <td>41</td>\n",
       "      <td>['17 Y/O']</td>\n",
       "      <td>['0 6']</td>\n",
       "      <td>11</td>\n",
       "    </tr>\n",
       "    <tr>\n",
       "      <th>25</th>\n",
       "      <td>41</td>\n",
       "      <td>['M']</td>\n",
       "      <td>['7 8']</td>\n",
       "      <td>12</td>\n",
       "    </tr>\n",
       "    <tr>\n",
       "      <th>35</th>\n",
       "      <td>46</td>\n",
       "      <td>['palpitations', 'palpitations', 'palpitations']</td>\n",
       "      <td>['146 158', '436 448', '478 490']</td>\n",
       "      <td>9</td>\n",
       "    </tr>\n",
       "    <tr>\n",
       "      <th>36</th>\n",
       "      <td>46</td>\n",
       "      <td>['for 2-3 months']</td>\n",
       "      <td>['197 211']</td>\n",
       "      <td>10</td>\n",
       "    </tr>\n",
       "  </tbody>\n",
       "</table>\n",
       "</div>"
      ],
      "text/plain": [
       "    pn_num                                        annotation  \\\n",
       "9       16        ['palpitations', 'heart beating/pounding']   \n",
       "10      16                                 ['3-4 months of']   \n",
       "11      16                                          ['17yo']   \n",
       "12      16                                             ['M']   \n",
       "22      41                                ['HEART POUNDING']   \n",
       "23      41                            ['STARTED 2-3 MO AGO']   \n",
       "24      41                                        ['17 Y/O']   \n",
       "25      41                                             ['M']   \n",
       "35      46  ['palpitations', 'palpitations', 'palpitations']   \n",
       "36      46                                ['for 2-3 months']   \n",
       "\n",
       "                             location  feature_num  \n",
       "9                 ['26 38', '96 118']            9  \n",
       "10                          ['56 69']           10  \n",
       "11                            ['5 9']           11  \n",
       "12                          ['10 11']           12  \n",
       "22                          ['32 46']            9  \n",
       "23                          ['48 66']           10  \n",
       "24                            ['0 6']           11  \n",
       "25                            ['7 8']           12  \n",
       "35  ['146 158', '436 448', '478 490']            9  \n",
       "36                        ['197 211']           10  "
      ]
     },
     "execution_count": 13,
     "metadata": {},
     "output_type": "execute_result"
    }
   ],
   "source": [
    "rand_train.head(10)"
   ]
  },
  {
   "cell_type": "code",
   "execution_count": 14,
   "metadata": {},
   "outputs": [
    {
     "data": {
      "text/plain": [
       "array([  16,   41,   46,   82,  100,  161,  211,  224,  225,  234,  331,\n",
       "        344,  352,  372,  390,  426,  464,  489,  495,  510,  575,  583,\n",
       "        585,  625,  653,  669,  673,  699,  701,  719,  768,  769,  777,\n",
       "        796,  804,  810,  816,  817,  821,  861,  883,  970,  977,  987,\n",
       "       1010, 1110, 1115, 1133, 1149, 1151, 1165, 1173, 1186, 1200, 1209,\n",
       "       1235, 1250, 1264, 1270, 1281, 1318, 1376, 1512, 1547, 1581, 1587,\n",
       "       1613, 1622, 1652, 1692, 1694, 1699, 1723, 1742, 1809, 1835, 1847,\n",
       "       1855, 1881, 1939, 1948, 2078, 2151, 2163, 2184, 2198, 2201, 2223,\n",
       "       2271, 2285, 2290, 2308, 2315, 2428, 2436], dtype=int64)"
      ]
     },
     "execution_count": 14,
     "metadata": {},
     "output_type": "execute_result"
    }
   ],
   "source": [
    "rand_train.pn_num.unique()"
   ]
  },
  {
   "cell_type": "code",
   "execution_count": 15,
   "metadata": {},
   "outputs": [
    {
     "data": {
      "text/plain": [
       "(380, 4)"
      ]
     },
     "execution_count": 15,
     "metadata": {},
     "output_type": "execute_result"
    }
   ],
   "source": [
    "rand_train.shape"
   ]
  },
  {
   "cell_type": "markdown",
   "metadata": {},
   "source": [
    "#### Removing all [ ] or null columns "
   ]
  },
  {
   "cell_type": "code",
   "execution_count": 16,
   "metadata": {},
   "outputs": [],
   "source": [
    "rand_train = rand_train[rand_train.annotation != '[]']"
   ]
  },
  {
   "cell_type": "code",
   "execution_count": 17,
   "metadata": {},
   "outputs": [
    {
     "data": {
      "text/plain": [
       "(364, 4)"
      ]
     },
     "execution_count": 17,
     "metadata": {},
     "output_type": "execute_result"
    }
   ],
   "source": [
    "rand_train.shape"
   ]
  },
  {
   "cell_type": "markdown",
   "metadata": {},
   "source": [
    "**Removing all [ & ] in strings**"
   ]
  },
  {
   "cell_type": "code",
   "execution_count": 18,
   "metadata": {},
   "outputs": [],
   "source": [
    "rand_train[\"annotation\"] = rand_train.annotation.str.replace('[','')\n",
    "rand_train[\"annotation\"] = rand_train.annotation.str.replace(']','')\n",
    "rand_train[\"location\"] = rand_train.location.str.replace('[','')\n",
    "rand_train[\"location\"] = rand_train.location.str.replace(']','')"
   ]
  },
  {
   "cell_type": "code",
   "execution_count": 19,
   "metadata": {},
   "outputs": [
    {
     "data": {
      "text/html": [
       "<div>\n",
       "<style scoped>\n",
       "    .dataframe tbody tr th:only-of-type {\n",
       "        vertical-align: middle;\n",
       "    }\n",
       "\n",
       "    .dataframe tbody tr th {\n",
       "        vertical-align: top;\n",
       "    }\n",
       "\n",
       "    .dataframe thead th {\n",
       "        text-align: right;\n",
       "    }\n",
       "</style>\n",
       "<table border=\"1\" class=\"dataframe\">\n",
       "  <thead>\n",
       "    <tr style=\"text-align: right;\">\n",
       "      <th></th>\n",
       "      <th>pn_num</th>\n",
       "      <th>annotation</th>\n",
       "      <th>location</th>\n",
       "      <th>feature_num</th>\n",
       "    </tr>\n",
       "  </thead>\n",
       "  <tbody>\n",
       "    <tr>\n",
       "      <th>9</th>\n",
       "      <td>16</td>\n",
       "      <td>'palpitations', 'heart beating/pounding'</td>\n",
       "      <td>'26 38', '96 118'</td>\n",
       "      <td>9</td>\n",
       "    </tr>\n",
       "    <tr>\n",
       "      <th>10</th>\n",
       "      <td>16</td>\n",
       "      <td>'3-4 months of'</td>\n",
       "      <td>'56 69'</td>\n",
       "      <td>10</td>\n",
       "    </tr>\n",
       "    <tr>\n",
       "      <th>11</th>\n",
       "      <td>16</td>\n",
       "      <td>'17yo'</td>\n",
       "      <td>'5 9'</td>\n",
       "      <td>11</td>\n",
       "    </tr>\n",
       "    <tr>\n",
       "      <th>12</th>\n",
       "      <td>16</td>\n",
       "      <td>'M'</td>\n",
       "      <td>'10 11'</td>\n",
       "      <td>12</td>\n",
       "    </tr>\n",
       "    <tr>\n",
       "      <th>22</th>\n",
       "      <td>41</td>\n",
       "      <td>'HEART POUNDING'</td>\n",
       "      <td>'32 46'</td>\n",
       "      <td>9</td>\n",
       "    </tr>\n",
       "  </tbody>\n",
       "</table>\n",
       "</div>"
      ],
      "text/plain": [
       "    pn_num                                annotation           location  \\\n",
       "9       16  'palpitations', 'heart beating/pounding'  '26 38', '96 118'   \n",
       "10      16                           '3-4 months of'            '56 69'   \n",
       "11      16                                    '17yo'              '5 9'   \n",
       "12      16                                       'M'            '10 11'   \n",
       "22      41                          'HEART POUNDING'            '32 46'   \n",
       "\n",
       "    feature_num  \n",
       "9             9  \n",
       "10           10  \n",
       "11           11  \n",
       "12           12  \n",
       "22            9  "
      ]
     },
     "execution_count": 19,
     "metadata": {},
     "output_type": "execute_result"
    }
   ],
   "source": [
    "rand_train.head()"
   ]
  },
  {
   "cell_type": "markdown",
   "metadata": {},
   "source": [
    "#### special row in which data was stored incorrectly need to correct it"
   ]
  },
  {
   "cell_type": "code",
   "execution_count": 21,
   "metadata": {},
   "outputs": [],
   "source": [
    "rand_train.loc[rand_train.location == \"'883 900'\",'annotation'] = \"'dad  heart attack'\""
   ]
  },
  {
   "cell_type": "code",
   "execution_count": 22,
   "metadata": {},
   "outputs": [
    {
     "data": {
      "text/plain": [
       "880    'heart pounding', 'heart is bearting really fa...\n",
       "Name: annotation, dtype: object"
      ]
     },
     "execution_count": 22,
     "metadata": {},
     "output_type": "execute_result"
    }
   ],
   "source": [
    "rand_train[rand_train.pn_num == 1581][0:1].annotation"
   ]
  },
  {
   "cell_type": "markdown",
   "metadata": {},
   "source": [
    "**splitting locations and annotations**"
   ]
  },
  {
   "cell_type": "code",
   "execution_count": 23,
   "metadata": {},
   "outputs": [],
   "source": [
    "rand_train = (rand_train.set_index(['pn_num',\"feature_num\"]) \n",
    "   .apply(lambda col: col.str.split(',').explode())\n",
    "   .reset_index()\n",
    "   .reindex(rand_train.columns, axis=1))"
   ]
  },
  {
   "cell_type": "code",
   "execution_count": 24,
   "metadata": {},
   "outputs": [
    {
     "data": {
      "text/html": [
       "<div>\n",
       "<style scoped>\n",
       "    .dataframe tbody tr th:only-of-type {\n",
       "        vertical-align: middle;\n",
       "    }\n",
       "\n",
       "    .dataframe tbody tr th {\n",
       "        vertical-align: top;\n",
       "    }\n",
       "\n",
       "    .dataframe thead th {\n",
       "        text-align: right;\n",
       "    }\n",
       "</style>\n",
       "<table border=\"1\" class=\"dataframe\">\n",
       "  <thead>\n",
       "    <tr style=\"text-align: right;\">\n",
       "      <th></th>\n",
       "      <th>pn_num</th>\n",
       "      <th>annotation</th>\n",
       "      <th>location</th>\n",
       "      <th>feature_num</th>\n",
       "    </tr>\n",
       "  </thead>\n",
       "  <tbody>\n",
       "    <tr>\n",
       "      <th>426</th>\n",
       "      <td>2436</td>\n",
       "      <td>'chest palpitations'</td>\n",
       "      <td>'71 89'</td>\n",
       "      <td>9</td>\n",
       "    </tr>\n",
       "    <tr>\n",
       "      <th>427</th>\n",
       "      <td>2436</td>\n",
       "      <td>'chest palpitations'</td>\n",
       "      <td>'109 127'</td>\n",
       "      <td>9</td>\n",
       "    </tr>\n",
       "    <tr>\n",
       "      <th>428</th>\n",
       "      <td>2436</td>\n",
       "      <td>'2-3 month'</td>\n",
       "      <td>'50 59'</td>\n",
       "      <td>10</td>\n",
       "    </tr>\n",
       "    <tr>\n",
       "      <th>429</th>\n",
       "      <td>2436</td>\n",
       "      <td>'17 year old'</td>\n",
       "      <td>'26 37'</td>\n",
       "      <td>11</td>\n",
       "    </tr>\n",
       "    <tr>\n",
       "      <th>430</th>\n",
       "      <td>2436</td>\n",
       "      <td>'male'</td>\n",
       "      <td>'38 42'</td>\n",
       "      <td>12</td>\n",
       "    </tr>\n",
       "  </tbody>\n",
       "</table>\n",
       "</div>"
      ],
      "text/plain": [
       "     pn_num             annotation    location  feature_num\n",
       "426    2436   'chest palpitations'     '71 89'            9\n",
       "427    2436   'chest palpitations'   '109 127'            9\n",
       "428    2436            '2-3 month'     '50 59'           10\n",
       "429    2436          '17 year old'     '26 37'           11\n",
       "430    2436                 'male'     '38 42'           12"
      ]
     },
     "execution_count": 24,
     "metadata": {},
     "output_type": "execute_result"
    }
   ],
   "source": [
    "rand_train.loc[rand_train.pn_num == 2436]"
   ]
  },
  {
   "cell_type": "markdown",
   "metadata": {},
   "source": [
    "**Creating two new columns \"start location\" and \"end location\"**"
   ]
  },
  {
   "cell_type": "code",
   "execution_count": 25,
   "metadata": {},
   "outputs": [],
   "source": [
    "rand_train[\"start_location\"] = rand_train[\"location\"].apply(lambda x: x.split()[0][1:])\n",
    "rand_train[\"end_location\"] = rand_train[\"location\"].apply(lambda x: x.split()[-1][:-1])"
   ]
  },
  {
   "cell_type": "code",
   "execution_count": 26,
   "metadata": {},
   "outputs": [
    {
     "data": {
      "text/html": [
       "<div>\n",
       "<style scoped>\n",
       "    .dataframe tbody tr th:only-of-type {\n",
       "        vertical-align: middle;\n",
       "    }\n",
       "\n",
       "    .dataframe tbody tr th {\n",
       "        vertical-align: top;\n",
       "    }\n",
       "\n",
       "    .dataframe thead th {\n",
       "        text-align: right;\n",
       "    }\n",
       "</style>\n",
       "<table border=\"1\" class=\"dataframe\">\n",
       "  <thead>\n",
       "    <tr style=\"text-align: right;\">\n",
       "      <th></th>\n",
       "      <th>pn_num</th>\n",
       "      <th>annotation</th>\n",
       "      <th>location</th>\n",
       "      <th>feature_num</th>\n",
       "      <th>start_location</th>\n",
       "      <th>end_location</th>\n",
       "    </tr>\n",
       "  </thead>\n",
       "  <tbody>\n",
       "    <tr>\n",
       "      <th>0</th>\n",
       "      <td>16</td>\n",
       "      <td>'palpitations'</td>\n",
       "      <td>'26 38'</td>\n",
       "      <td>9</td>\n",
       "      <td>26</td>\n",
       "      <td>38</td>\n",
       "    </tr>\n",
       "    <tr>\n",
       "      <th>1</th>\n",
       "      <td>16</td>\n",
       "      <td>'heart beating/pounding'</td>\n",
       "      <td>'96 118'</td>\n",
       "      <td>9</td>\n",
       "      <td>96</td>\n",
       "      <td>118</td>\n",
       "    </tr>\n",
       "    <tr>\n",
       "      <th>2</th>\n",
       "      <td>16</td>\n",
       "      <td>'3-4 months of'</td>\n",
       "      <td>'56 69'</td>\n",
       "      <td>10</td>\n",
       "      <td>56</td>\n",
       "      <td>69</td>\n",
       "    </tr>\n",
       "    <tr>\n",
       "      <th>3</th>\n",
       "      <td>16</td>\n",
       "      <td>'17yo'</td>\n",
       "      <td>'5 9'</td>\n",
       "      <td>11</td>\n",
       "      <td>5</td>\n",
       "      <td>9</td>\n",
       "    </tr>\n",
       "    <tr>\n",
       "      <th>4</th>\n",
       "      <td>16</td>\n",
       "      <td>'M'</td>\n",
       "      <td>'10 11'</td>\n",
       "      <td>12</td>\n",
       "      <td>10</td>\n",
       "      <td>11</td>\n",
       "    </tr>\n",
       "  </tbody>\n",
       "</table>\n",
       "</div>"
      ],
      "text/plain": [
       "   pn_num                 annotation   location  feature_num start_location  \\\n",
       "0      16             'palpitations'    '26 38'            9             26   \n",
       "1      16   'heart beating/pounding'   '96 118'            9             96   \n",
       "2      16            '3-4 months of'    '56 69'           10             56   \n",
       "3      16                     '17yo'      '5 9'           11              5   \n",
       "4      16                        'M'    '10 11'           12             10   \n",
       "\n",
       "  end_location  \n",
       "0           38  \n",
       "1          118  \n",
       "2           69  \n",
       "3            9  \n",
       "4           11  "
      ]
     },
     "execution_count": 26,
     "metadata": {},
     "output_type": "execute_result"
    }
   ],
   "source": [
    "rand_train.head()"
   ]
  },
  {
   "cell_type": "code",
   "execution_count": null,
   "metadata": {},
   "outputs": [],
   "source": []
  },
  {
   "cell_type": "code",
   "execution_count": 27,
   "metadata": {},
   "outputs": [],
   "source": [
    "row_index = []\n",
    "start_location = []\n",
    "end_location = []\n",
    "pn_notes = set()\n",
    "for index,row in rand_train.iterrows():   # Iterating every row in trainn data\n",
    "    if row[\"pn_num\"] not in pn_notes:    # Verifying whether there is a change in pn_num to reinitialize start and end location lists\n",
    "        start_location = []\n",
    "        end_location = []\n",
    "        pn_notes.add(row[\"pn_num\"])      # Appending pn_num\n",
    "        if (row[\"start_location\"] in start_location) | (row[\"end_location\"] in end_location):\n",
    "            row_index.append(index)\n",
    "        start_location.append(row[\"start_location\"])\n",
    "        end_location.append(row[\"end_location\"])\n",
    "    else: \n",
    "        if (row[\"start_location\"] in start_location) | (row[\"end_location\"] in end_location):\n",
    "            row_index.append(index)\n",
    "        start_location.append(row[\"start_location\"])\n",
    "        end_location.append(row[\"end_location\"])"
   ]
  },
  {
   "cell_type": "code",
   "execution_count": 28,
   "metadata": {},
   "outputs": [
    {
     "name": "stdout",
     "output_type": "stream",
     "text": [
      "[17, 36, 120, 128, 187, 258, 307, 325, 327, 341, 406]\n"
     ]
    }
   ],
   "source": [
    "print(row_index)"
   ]
  },
  {
   "cell_type": "markdown",
   "metadata": {},
   "source": [
    "#### The features in these row indexes have repeated start or end locations, so one of the repeated rows should be eliminated to fix this problem as this will be a issue while training spacy NER model\n"
   ]
  },
  {
   "cell_type": "code",
   "execution_count": 88,
   "metadata": {},
   "outputs": [
    {
     "data": {
      "text/html": [
       "<div>\n",
       "<style scoped>\n",
       "    .dataframe tbody tr th:only-of-type {\n",
       "        vertical-align: middle;\n",
       "    }\n",
       "\n",
       "    .dataframe tbody tr th {\n",
       "        vertical-align: top;\n",
       "    }\n",
       "\n",
       "    .dataframe thead th {\n",
       "        text-align: right;\n",
       "    }\n",
       "</style>\n",
       "<table border=\"1\" class=\"dataframe\">\n",
       "  <thead>\n",
       "    <tr style=\"text-align: right;\">\n",
       "      <th></th>\n",
       "      <th>pn_num</th>\n",
       "      <th>annotation</th>\n",
       "      <th>location</th>\n",
       "      <th>feature_num</th>\n",
       "      <th>start_location</th>\n",
       "      <th>end_location</th>\n",
       "    </tr>\n",
       "  </thead>\n",
       "  <tbody>\n",
       "    <tr>\n",
       "      <th>84</th>\n",
       "      <td>575</td>\n",
       "      <td>'father with MI'</td>\n",
       "      <td>'659 673'</td>\n",
       "      <td>0</td>\n",
       "      <td>659</td>\n",
       "      <td>673</td>\n",
       "    </tr>\n",
       "    <tr>\n",
       "      <th>85</th>\n",
       "      <td>575</td>\n",
       "      <td>'chest pressure'</td>\n",
       "      <td>'192 206'</td>\n",
       "      <td>2</td>\n",
       "      <td>192</td>\n",
       "      <td>206</td>\n",
       "    </tr>\n",
       "  </tbody>\n",
       "</table>\n",
       "</div>"
      ],
      "text/plain": [
       "    pn_num        annotation   location  feature_num start_location  \\\n",
       "84     575  'father with MI'  '659 673'            0            659   \n",
       "85     575  'chest pressure'  '192 206'            2            192   \n",
       "\n",
       "   end_location  \n",
       "84          673  \n",
       "85          206  "
      ]
     },
     "execution_count": 88,
     "metadata": {},
     "output_type": "execute_result"
    }
   ],
   "source": [
    "rand_train.iloc[81:83,]   # 45"
   ]
  },
  {
   "cell_type": "code",
   "execution_count": 28,
   "metadata": {},
   "outputs": [
    {
     "data": {
      "text/plain": [
       "'heart racing and pounding'"
      ]
     },
     "execution_count": 28,
     "metadata": {},
     "output_type": "execute_result"
    }
   ],
   "source": [
    "np.array(patient_notes.pn_history[patient_notes.pn_num == 82])[0][126:151]"
   ]
  },
  {
   "cell_type": "code",
   "execution_count": 29,
   "metadata": {},
   "outputs": [
    {
     "data": {
      "text/html": [
       "<div>\n",
       "<style scoped>\n",
       "    .dataframe tbody tr th:only-of-type {\n",
       "        vertical-align: middle;\n",
       "    }\n",
       "\n",
       "    .dataframe tbody tr th {\n",
       "        vertical-align: top;\n",
       "    }\n",
       "\n",
       "    .dataframe thead th {\n",
       "        text-align: right;\n",
       "    }\n",
       "</style>\n",
       "<table border=\"1\" class=\"dataframe\">\n",
       "  <thead>\n",
       "    <tr style=\"text-align: right;\">\n",
       "      <th></th>\n",
       "      <th>pn_num</th>\n",
       "      <th>annotation</th>\n",
       "      <th>location</th>\n",
       "      <th>feature_num</th>\n",
       "      <th>start_location</th>\n",
       "      <th>end_location</th>\n",
       "    </tr>\n",
       "  </thead>\n",
       "  <tbody>\n",
       "    <tr>\n",
       "      <th>73</th>\n",
       "      <td>489</td>\n",
       "      <td>'intermittent'</td>\n",
       "      <td>'120 132'</td>\n",
       "      <td>3</td>\n",
       "      <td>120</td>\n",
       "      <td>132</td>\n",
       "    </tr>\n",
       "    <tr>\n",
       "      <th>74</th>\n",
       "      <td>495</td>\n",
       "      <td>'Mom has thyroid disease'</td>\n",
       "      <td>'795 818'</td>\n",
       "      <td>1</td>\n",
       "      <td>795</td>\n",
       "      <td>818</td>\n",
       "    </tr>\n",
       "  </tbody>\n",
       "</table>\n",
       "</div>"
      ],
      "text/plain": [
       "    pn_num                 annotation   location  feature_num start_location  \\\n",
       "73     489             'intermittent'  '120 132'            3            120   \n",
       "74     495  'Mom has thyroid disease'  '795 818'            1            795   \n",
       "\n",
       "   end_location  \n",
       "73          132  \n",
       "74          818  "
      ]
     },
     "execution_count": 29,
     "metadata": {},
     "output_type": "execute_result"
    }
   ],
   "source": [
    "rand_train.iloc[73:75,]   #73"
   ]
  },
  {
   "cell_type": "code",
   "execution_count": 30,
   "metadata": {},
   "outputs": [
    {
     "data": {
      "text/html": [
       "<div>\n",
       "<style scoped>\n",
       "    .dataframe tbody tr th:only-of-type {\n",
       "        vertical-align: middle;\n",
       "    }\n",
       "\n",
       "    .dataframe tbody tr th {\n",
       "        vertical-align: top;\n",
       "    }\n",
       "\n",
       "    .dataframe thead th {\n",
       "        text-align: right;\n",
       "    }\n",
       "</style>\n",
       "<table border=\"1\" class=\"dataframe\">\n",
       "  <thead>\n",
       "    <tr style=\"text-align: right;\">\n",
       "      <th></th>\n",
       "      <th>pn_num</th>\n",
       "      <th>annotation</th>\n",
       "      <th>location</th>\n",
       "      <th>feature_num</th>\n",
       "      <th>start_location</th>\n",
       "      <th>end_location</th>\n",
       "    </tr>\n",
       "  </thead>\n",
       "  <tbody>\n",
       "    <tr>\n",
       "      <th>84</th>\n",
       "      <td>575</td>\n",
       "      <td>'father with MI'</td>\n",
       "      <td>'659 673'</td>\n",
       "      <td>0</td>\n",
       "      <td>659</td>\n",
       "      <td>673</td>\n",
       "    </tr>\n",
       "    <tr>\n",
       "      <th>85</th>\n",
       "      <td>575</td>\n",
       "      <td>'chest pressure'</td>\n",
       "      <td>'192 206'</td>\n",
       "      <td>2</td>\n",
       "      <td>192</td>\n",
       "      <td>206</td>\n",
       "    </tr>\n",
       "  </tbody>\n",
       "</table>\n",
       "</div>"
      ],
      "text/plain": [
       "    pn_num        annotation   location  feature_num start_location  \\\n",
       "84     575  'father with MI'  '659 673'            0            659   \n",
       "85     575  'chest pressure'  '192 206'            2            192   \n",
       "\n",
       "   end_location  \n",
       "84          673  \n",
       "85          206  "
      ]
     },
     "execution_count": 30,
     "metadata": {},
     "output_type": "execute_result"
    }
   ],
   "source": [
    "rand_train.iloc[84:86,] # 84"
   ]
  },
  {
   "cell_type": "code",
   "execution_count": 31,
   "metadata": {},
   "outputs": [
    {
     "data": {
      "text/plain": [
       "'heart is pounding fast'"
      ]
     },
     "execution_count": 31,
     "metadata": {},
     "output_type": "execute_result"
    }
   ],
   "source": [
    "np.array(patient_notes.pn_history[patient_notes.pn_num == 211])[0][161:183]"
   ]
  },
  {
   "cell_type": "code",
   "execution_count": 32,
   "metadata": {},
   "outputs": [
    {
     "data": {
      "text/html": [
       "<div>\n",
       "<style scoped>\n",
       "    .dataframe tbody tr th:only-of-type {\n",
       "        vertical-align: middle;\n",
       "    }\n",
       "\n",
       "    .dataframe tbody tr th {\n",
       "        vertical-align: top;\n",
       "    }\n",
       "\n",
       "    .dataframe thead th {\n",
       "        text-align: right;\n",
       "    }\n",
       "</style>\n",
       "<table border=\"1\" class=\"dataframe\">\n",
       "  <thead>\n",
       "    <tr style=\"text-align: right;\">\n",
       "      <th></th>\n",
       "      <th>pn_num</th>\n",
       "      <th>annotation</th>\n",
       "      <th>location</th>\n",
       "      <th>feature_num</th>\n",
       "      <th>start_location</th>\n",
       "      <th>end_location</th>\n",
       "    </tr>\n",
       "  </thead>\n",
       "  <tbody>\n",
       "    <tr>\n",
       "      <th>104</th>\n",
       "      <td>669</td>\n",
       "      <td>'mother thyroid problem'</td>\n",
       "      <td>'788 810'</td>\n",
       "      <td>1</td>\n",
       "      <td>788</td>\n",
       "      <td>810</td>\n",
       "    </tr>\n",
       "    <tr>\n",
       "      <th>105</th>\n",
       "      <td>669</td>\n",
       "      <td>'occured 5-6 times'</td>\n",
       "      <td>'108 125'</td>\n",
       "      <td>3</td>\n",
       "      <td>108</td>\n",
       "      <td>125</td>\n",
       "    </tr>\n",
       "  </tbody>\n",
       "</table>\n",
       "</div>"
      ],
      "text/plain": [
       "     pn_num                annotation   location  feature_num start_location  \\\n",
       "104     669  'mother thyroid problem'  '788 810'            1            788   \n",
       "105     669       'occured 5-6 times'  '108 125'            3            108   \n",
       "\n",
       "    end_location  \n",
       "104          810  \n",
       "105          125  "
      ]
     },
     "execution_count": 32,
     "metadata": {},
     "output_type": "execute_result"
    }
   ],
   "source": [
    "rand_train.iloc[104:106,] # 104"
   ]
  },
  {
   "cell_type": "code",
   "execution_count": 33,
   "metadata": {},
   "outputs": [
    {
     "data": {
      "text/plain": [
       "'drinks about 3-4 cups coffee/day and several energy drinks'"
      ]
     },
     "execution_count": 33,
     "metadata": {},
     "output_type": "execute_result"
    }
   ],
   "source": [
    "np.array(patient_notes.pn_history[patient_notes.pn_num == 225])[0][461:519]"
   ]
  },
  {
   "cell_type": "code",
   "execution_count": 34,
   "metadata": {},
   "outputs": [
    {
     "data": {
      "text/html": [
       "<div>\n",
       "<style scoped>\n",
       "    .dataframe tbody tr th:only-of-type {\n",
       "        vertical-align: middle;\n",
       "    }\n",
       "\n",
       "    .dataframe tbody tr th {\n",
       "        vertical-align: top;\n",
       "    }\n",
       "\n",
       "    .dataframe thead th {\n",
       "        text-align: right;\n",
       "    }\n",
       "</style>\n",
       "<table border=\"1\" class=\"dataframe\">\n",
       "  <thead>\n",
       "    <tr style=\"text-align: right;\">\n",
       "      <th></th>\n",
       "      <th>pn_num</th>\n",
       "      <th>annotation</th>\n",
       "      <th>location</th>\n",
       "      <th>feature_num</th>\n",
       "      <th>start_location</th>\n",
       "      <th>end_location</th>\n",
       "    </tr>\n",
       "  </thead>\n",
       "  <tbody>\n",
       "    <tr>\n",
       "      <th>293</th>\n",
       "      <td>1809</td>\n",
       "      <td>'father with herat attack'</td>\n",
       "      <td>'664 688'</td>\n",
       "      <td>0</td>\n",
       "      <td>664</td>\n",
       "      <td>688</td>\n",
       "    </tr>\n",
       "    <tr>\n",
       "      <th>294</th>\n",
       "      <td>1809</td>\n",
       "      <td>'mom with thyroid problem'</td>\n",
       "      <td>'638 662'</td>\n",
       "      <td>1</td>\n",
       "      <td>638</td>\n",
       "      <td>662</td>\n",
       "    </tr>\n",
       "  </tbody>\n",
       "</table>\n",
       "</div>"
      ],
      "text/plain": [
       "     pn_num                  annotation   location  feature_num  \\\n",
       "293    1809  'father with herat attack'  '664 688'            0   \n",
       "294    1809  'mom with thyroid problem'  '638 662'            1   \n",
       "\n",
       "    start_location end_location  \n",
       "293            664          688  \n",
       "294            638          662  "
      ]
     },
     "execution_count": 34,
     "metadata": {},
     "output_type": "execute_result"
    }
   ],
   "source": [
    "rand_train.iloc[293:295,] # 104"
   ]
  },
  {
   "cell_type": "markdown",
   "metadata": {},
   "source": [
    "#### Code to identify the drop indexes by comparing the start and end locations of the similar locations"
   ]
  },
  {
   "cell_type": "code",
   "execution_count": 29,
   "metadata": {},
   "outputs": [],
   "source": [
    "row_index = []\n",
    "start_location = []\n",
    "end_location = []\n",
    "pn_notes = set()\n",
    "drop_index = []\n",
    "for index,row in rand_train.iterrows():   # Iterating every row in trainn data\n",
    "    if row[\"pn_num\"] not in pn_notes:    # Verifying whether there is a change in pn_num to reinitialize start and end location lists\n",
    "        start_location = []\n",
    "        end_location = []\n",
    "        pn_notes.add(row[\"pn_num\"])      # Appending pn_num\n",
    "        if (row[\"start_location\"] in start_location) | (row[\"end_location\"] in end_location):\n",
    "            row_index.append(index)\n",
    "        start_location.append(row[\"start_location\"])\n",
    "        end_location.append(row[\"end_location\"])\n",
    "    else: \n",
    "        if (row[\"start_location\"] in start_location) | (row[\"end_location\"] in end_location):\n",
    "            row_index.append(index)\n",
    "            if row[\"start_location\"] in start_location:\n",
    "                if row[\"end_location\"] >= rand_train.iloc[index -1,5]:\n",
    "                    drop_index.append(index -1)\n",
    "                else:\n",
    "                    drop_index.append(index)\n",
    "            elif row[\"end_location\"] in end_location:\n",
    "                if row[\"start_location\"] <= rand_train.iloc[index -1,4]:\n",
    "                    drop_index.append(index - 1)\n",
    "                else:\n",
    "                    drop_index.append(index)\n",
    "        start_location.append(row[\"start_location\"])\n",
    "        end_location.append(row[\"end_location\"])"
   ]
  },
  {
   "cell_type": "code",
   "execution_count": 30,
   "metadata": {},
   "outputs": [
    {
     "data": {
      "text/plain": [
       "11"
      ]
     },
     "execution_count": 30,
     "metadata": {},
     "output_type": "execute_result"
    }
   ],
   "source": [
    "len(drop_index)"
   ]
  },
  {
   "cell_type": "code",
   "execution_count": 31,
   "metadata": {},
   "outputs": [
    {
     "name": "stdout",
     "output_type": "stream",
     "text": [
      "[16, 35, 119, 127, 186, 257, 306, 324, 327, 340, 405]\n"
     ]
    }
   ],
   "source": [
    "print(drop_index)"
   ]
  },
  {
   "cell_type": "markdown",
   "metadata": {},
   "source": [
    "#### Dropping the unwanted indexes"
   ]
  },
  {
   "cell_type": "code",
   "execution_count": 32,
   "metadata": {},
   "outputs": [],
   "source": [
    "rand_train = rand_train.drop(drop_index,axis=0)"
   ]
  },
  {
   "cell_type": "code",
   "execution_count": 90,
   "metadata": {},
   "outputs": [
    {
     "data": {
      "text/html": [
       "<div>\n",
       "<style scoped>\n",
       "    .dataframe tbody tr th:only-of-type {\n",
       "        vertical-align: middle;\n",
       "    }\n",
       "\n",
       "    .dataframe tbody tr th {\n",
       "        vertical-align: top;\n",
       "    }\n",
       "\n",
       "    .dataframe thead th {\n",
       "        text-align: right;\n",
       "    }\n",
       "</style>\n",
       "<table border=\"1\" class=\"dataframe\">\n",
       "  <thead>\n",
       "    <tr style=\"text-align: right;\">\n",
       "      <th></th>\n",
       "      <th>pn_num</th>\n",
       "      <th>annotation</th>\n",
       "      <th>location</th>\n",
       "      <th>feature_num</th>\n",
       "      <th>start_location</th>\n",
       "      <th>end_location</th>\n",
       "    </tr>\n",
       "  </thead>\n",
       "  <tbody>\n",
       "    <tr>\n",
       "      <th>309</th>\n",
       "      <td>1855</td>\n",
       "      <td>'episode'</td>\n",
       "      <td>'134 141'</td>\n",
       "      <td>3</td>\n",
       "      <td>134</td>\n",
       "      <td>141</td>\n",
       "    </tr>\n",
       "  </tbody>\n",
       "</table>\n",
       "</div>"
      ],
      "text/plain": [
       "     pn_num  annotation    location  feature_num start_location end_location\n",
       "309    1855   'episode'   '134 141'            3            134          141"
      ]
     },
     "execution_count": 90,
     "metadata": {},
     "output_type": "execute_result"
    }
   ],
   "source": [
    "rand_train.loc[(rand_train.end_location == '141')]"
   ]
  },
  {
   "cell_type": "code",
   "execution_count": 40,
   "metadata": {},
   "outputs": [],
   "source": [
    "rand_train = rand_train.drop(353,axis = 0)"
   ]
  },
  {
   "cell_type": "code",
   "execution_count": 41,
   "metadata": {},
   "outputs": [
    {
     "data": {
      "text/html": [
       "<div>\n",
       "<style scoped>\n",
       "    .dataframe tbody tr th:only-of-type {\n",
       "        vertical-align: middle;\n",
       "    }\n",
       "\n",
       "    .dataframe tbody tr th {\n",
       "        vertical-align: top;\n",
       "    }\n",
       "\n",
       "    .dataframe thead th {\n",
       "        text-align: right;\n",
       "    }\n",
       "</style>\n",
       "<table border=\"1\" class=\"dataframe\">\n",
       "  <thead>\n",
       "    <tr style=\"text-align: right;\">\n",
       "      <th></th>\n",
       "      <th>pn_num</th>\n",
       "      <th>annotation</th>\n",
       "      <th>location</th>\n",
       "      <th>feature_num</th>\n",
       "      <th>start_location</th>\n",
       "      <th>end_location</th>\n",
       "    </tr>\n",
       "  </thead>\n",
       "  <tbody>\n",
       "    <tr>\n",
       "      <th>309</th>\n",
       "      <td>1855</td>\n",
       "      <td>'episode'</td>\n",
       "      <td>'134 141'</td>\n",
       "      <td>3</td>\n",
       "      <td>134</td>\n",
       "      <td>141</td>\n",
       "    </tr>\n",
       "  </tbody>\n",
       "</table>\n",
       "</div>"
      ],
      "text/plain": [
       "     pn_num  annotation    location  feature_num start_location end_location\n",
       "309    1855   'episode'   '134 141'            3            134          141"
      ]
     },
     "execution_count": 41,
     "metadata": {},
     "output_type": "execute_result"
    }
   ],
   "source": [
    "rand_train.loc[(rand_train.end_location == '141')]"
   ]
  },
  {
   "cell_type": "code",
   "execution_count": 42,
   "metadata": {},
   "outputs": [
    {
     "data": {
      "text/html": [
       "<div>\n",
       "<style scoped>\n",
       "    .dataframe tbody tr th:only-of-type {\n",
       "        vertical-align: middle;\n",
       "    }\n",
       "\n",
       "    .dataframe tbody tr th {\n",
       "        vertical-align: top;\n",
       "    }\n",
       "\n",
       "    .dataframe thead th {\n",
       "        text-align: right;\n",
       "    }\n",
       "</style>\n",
       "<table border=\"1\" class=\"dataframe\">\n",
       "  <thead>\n",
       "    <tr style=\"text-align: right;\">\n",
       "      <th></th>\n",
       "      <th>pn_num</th>\n",
       "      <th>annotation</th>\n",
       "      <th>location</th>\n",
       "      <th>feature_num</th>\n",
       "      <th>start_location</th>\n",
       "      <th>end_location</th>\n",
       "    </tr>\n",
       "  </thead>\n",
       "  <tbody>\n",
       "    <tr>\n",
       "      <th>368</th>\n",
       "      <td>2428</td>\n",
       "      <td>'father heart attack'</td>\n",
       "      <td>'589 595;606 618'</td>\n",
       "      <td>0</td>\n",
       "      <td>589</td>\n",
       "      <td>618</td>\n",
       "    </tr>\n",
       "    <tr>\n",
       "      <th>369</th>\n",
       "      <td>2428</td>\n",
       "      <td>'mother hyroid problem'</td>\n",
       "      <td>'551 557;566 580'</td>\n",
       "      <td>1</td>\n",
       "      <td>551</td>\n",
       "      <td>580</td>\n",
       "    </tr>\n",
       "    <tr>\n",
       "      <th>370</th>\n",
       "      <td>2428</td>\n",
       "      <td>'chest pressure'</td>\n",
       "      <td>'161 175'</td>\n",
       "      <td>2</td>\n",
       "      <td>161</td>\n",
       "      <td>175</td>\n",
       "    </tr>\n",
       "  </tbody>\n",
       "</table>\n",
       "</div>"
      ],
      "text/plain": [
       "     pn_num               annotation           location  feature_num  \\\n",
       "368    2428    'father heart attack'  '589 595;606 618'            0   \n",
       "369    2428  'mother hyroid problem'  '551 557;566 580'            1   \n",
       "370    2428         'chest pressure'          '161 175'            2   \n",
       "\n",
       "    start_location end_location  \n",
       "368            589          618  \n",
       "369            551          580  \n",
       "370            161          175  "
      ]
     },
     "execution_count": 42,
     "metadata": {},
     "output_type": "execute_result"
    }
   ],
   "source": [
    "rand_train.loc[(rand_train.pn_num == 2428)]"
   ]
  },
  {
   "cell_type": "code",
   "execution_count": 43,
   "metadata": {},
   "outputs": [],
   "source": [
    "# rand_train = rand_train.drop(1123,axis = 0)"
   ]
  },
  {
   "cell_type": "code",
   "execution_count": null,
   "metadata": {},
   "outputs": [],
   "source": []
  },
  {
   "cell_type": "markdown",
   "metadata": {},
   "source": [
    "**Finding unique patient numbers in the train dataset**"
   ]
  },
  {
   "cell_type": "code",
   "execution_count": 33,
   "metadata": {},
   "outputs": [],
   "source": [
    "pn_Num_list = list(rand_train.pn_num.unique())"
   ]
  },
  {
   "cell_type": "code",
   "execution_count": 34,
   "metadata": {},
   "outputs": [
    {
     "name": "stdout",
     "output_type": "stream",
     "text": [
      "[16, 41, 46, 82, 100, 161, 211, 224, 225, 234, 331, 344, 352, 372, 390, 426, 464, 489, 495, 510, 575, 583, 585, 625, 653, 669, 673, 699, 701, 719, 768, 769, 777, 796, 804, 810, 816, 817, 821, 861, 883, 970, 977, 987, 1010, 1110, 1115, 1133, 1149, 1151, 1165, 1173, 1186, 1200, 1209, 1235, 1250, 1264, 1270, 1281, 1318, 1376, 1512, 1547, 1581, 1587, 1613, 1622, 1652, 1692, 1694, 1699, 1723, 1742, 1809, 1835, 1847, 1855, 1881, 1939, 1948, 2078, 2151, 2163, 2184, 2198, 2201, 2223, 2271, 2285, 2290, 2308, 2315, 2428, 2436]\n"
     ]
    }
   ],
   "source": [
    "print(pn_Num_list)"
   ]
  },
  {
   "cell_type": "code",
   "execution_count": null,
   "metadata": {},
   "outputs": [],
   "source": []
  },
  {
   "cell_type": "code",
   "execution_count": 35,
   "metadata": {},
   "outputs": [],
   "source": [
    "final_train = []   # appending all the individual rows\n",
    "for patient_number in pn_Num_list:  # for each unique patient number\n",
    "    entities = []  # saving individaual entities locations\n",
    "    for row_index,row in rand_train[rand_train.pn_num == patient_number].iterrows():  # for each unique patient number \n",
    "        \n",
    "        entities.append((int(row[\"start_location\"]),int(row[\"end_location\"]),\"Feature_\"+ str(row[\"feature_num\"]))) # store the locations in numeric format\n",
    "        \n",
    "    text = patient_notes[patient_notes.pn_num == patient_number][\"pn_history\"].values[0] # save the text for the unique patient number\n",
    "    \n",
    "    final_train.append((text,{\"entities\":entities}))  # for each unique pn_number append to final list"
   ]
  },
  {
   "cell_type": "code",
   "execution_count": null,
   "metadata": {},
   "outputs": [],
   "source": []
  },
  {
   "cell_type": "code",
   "execution_count": 37,
   "metadata": {},
   "outputs": [],
   "source": [
    "# Serializing json \n",
    "json_object = json.dumps(final_train, indent = 4)\n",
    "  \n",
    "# Writing to sample.json\n",
    "with open(\"sample_Week2.json\", \"w\") as outfile:\n",
    "    outfile.write(json_object)"
   ]
  },
  {
   "cell_type": "code",
   "execution_count": null,
   "metadata": {},
   "outputs": [],
   "source": []
  },
  {
   "cell_type": "code",
   "execution_count": 38,
   "metadata": {},
   "outputs": [],
   "source": [
    "import json\n",
    " \n",
    "# Opening JSON file\n",
    "f = open(\"sample_Week2.json\")\n",
    " \n",
    "# returns JSON object as\n",
    "# a dictionary\n",
    "data = json.load(f)"
   ]
  },
  {
   "cell_type": "code",
   "execution_count": null,
   "metadata": {},
   "outputs": [],
   "source": []
  },
  {
   "cell_type": "markdown",
   "metadata": {},
   "source": [
    "#### Deviding the data into train and validation"
   ]
  },
  {
   "cell_type": "code",
   "execution_count": 40,
   "metadata": {},
   "outputs": [
    {
     "data": {
      "text/plain": [
       "95"
      ]
     },
     "execution_count": 40,
     "metadata": {},
     "output_type": "execute_result"
    }
   ],
   "source": [
    "len(data)"
   ]
  },
  {
   "cell_type": "code",
   "execution_count": 41,
   "metadata": {},
   "outputs": [],
   "source": [
    "train = data[:75]\n",
    "validation = data[75:]"
   ]
  },
  {
   "cell_type": "code",
   "execution_count": 42,
   "metadata": {},
   "outputs": [
    {
     "data": {
      "text/plain": [
       "(75, 20)"
      ]
     },
     "execution_count": 42,
     "metadata": {},
     "output_type": "execute_result"
    }
   ],
   "source": [
    "len(train),len(validation)"
   ]
  },
  {
   "cell_type": "code",
   "execution_count": 43,
   "metadata": {},
   "outputs": [],
   "source": [
    "from spacy.tokens import DocBin\n",
    "import spacy\n",
    "import json\n",
    "from tqdm import tqdm\n",
    "import spacy\n",
    "from spacy.tokens import DocBin\n",
    "import random"
   ]
  },
  {
   "cell_type": "code",
   "execution_count": 44,
   "metadata": {},
   "outputs": [],
   "source": [
    "# converting the json file to spacy file in order to use it in training model\n",
    "\n",
    "nlp = spacy.blank(\"en\")\n",
    "def create_training(TRAIN_DATA):\n",
    "    db = DocBin()\n",
    "    for text, annot in tqdm(TRAIN_DATA):\n",
    "        doc = nlp.make_doc(text)\n",
    "        ents = []\n",
    "        for start, end, label in annot[\"entities\"]:\n",
    "            span = doc.char_span(start, end, label=label, alignment_mode=\"contract\")\n",
    "            if span is None:\n",
    "                print (\"Skipping entity\")\n",
    "            else:\n",
    "                ents.append(span)\n",
    "        doc.ents = ents\n",
    "        db.add(doc)\n",
    "    return (db)"
   ]
  },
  {
   "cell_type": "code",
   "execution_count": 45,
   "metadata": {},
   "outputs": [
    {
     "name": "stderr",
     "output_type": "stream",
     "text": [
      "100%|█████████████████████████████████████████████████████████████████████████████████| 75/75 [00:00<00:00, 237.23it/s]"
     ]
    },
    {
     "name": "stdout",
     "output_type": "stream",
     "text": [
      "Skipping entity\n",
      "Skipping entity\n",
      "Skipping entity\n",
      "Skipping entity\n",
      "Skipping entity\n"
     ]
    },
    {
     "name": "stderr",
     "output_type": "stream",
     "text": [
      "\n"
     ]
    },
    {
     "data": {
      "text/plain": [
       "<spacy.tokens._serialize.DocBin at 0x1fd6d862580>"
      ]
     },
     "execution_count": 45,
     "metadata": {},
     "output_type": "execute_result"
    }
   ],
   "source": [
    "create_training(train)"
   ]
  },
  {
   "cell_type": "code",
   "execution_count": 46,
   "metadata": {},
   "outputs": [
    {
     "name": "stderr",
     "output_type": "stream",
     "text": [
      "100%|█████████████████████████████████████████████████████████████████████████████████| 75/75 [00:00<00:00, 360.23it/s]"
     ]
    },
    {
     "name": "stdout",
     "output_type": "stream",
     "text": [
      "Skipping entity\n",
      "Skipping entity\n",
      "Skipping entity\n",
      "Skipping entity\n",
      "Skipping entity\n"
     ]
    },
    {
     "name": "stderr",
     "output_type": "stream",
     "text": [
      "\n"
     ]
    }
   ],
   "source": [
    "#train data set\n",
    "\n",
    "camp_train = create_training(train)\n",
    "camp_train.to_disk(\"nbme_train_Week4_1.spacy\")"
   ]
  },
  {
   "cell_type": "code",
   "execution_count": 47,
   "metadata": {},
   "outputs": [
    {
     "name": "stderr",
     "output_type": "stream",
     "text": [
      "100%|█████████████████████████████████████████████████████████████████████████████████| 20/20 [00:00<00:00, 313.33it/s]\n"
     ]
    }
   ],
   "source": [
    "#test data set\n",
    "\n",
    "camp_train = create_training(validation)\n",
    "camp_train.to_disk(\"nbme_validation_Week4_1.spacy\")"
   ]
  },
  {
   "cell_type": "code",
   "execution_count": 48,
   "metadata": {},
   "outputs": [
    {
     "name": "stdout",
     "output_type": "stream",
     "text": [
      "[+] Auto-filled config with all values\n",
      "[+] Saved config\n",
      "config.cfg\n",
      "You can now add your data and train your pipeline:\n",
      "python -m spacy train config.cfg --paths.train ./train.spacy --paths.dev ./dev.spacy\n"
     ]
    }
   ],
   "source": [
    "!python -m spacy init fill-config ./base_config.cfg ./config.cfg"
   ]
  },
  {
   "cell_type": "code",
   "execution_count": 49,
   "metadata": {},
   "outputs": [
    {
     "name": "stdout",
     "output_type": "stream",
     "text": [
      "[+] Created output directory: output\n",
      "[i] Saving to output directory: output\n",
      "[i] Using CPU\n",
      "\u001b[1m\n",
      "=========================== Initializing pipeline ===========================\u001b[0m\n",
      "[+] Initialized pipeline\n",
      "\u001b[1m\n",
      "============================= Training pipeline =============================\u001b[0m\n",
      "[i] Pipeline: ['tok2vec', 'ner']\n",
      "[i] Initial learn rate: 0.001\n",
      "E    #       LOSS TOK2VEC  LOSS NER  ENTS_F  ENTS_P  ENTS_R  SCORE \n",
      "---  ------  ------------  --------  ------  ------  ------  ------\n",
      "  0       0          0.00     93.83    0.00    0.00    0.00    0.00\n",
      "  2     200      25500.42   4810.18   58.60   63.89   54.12    0.59\n",
      "  5     400       3224.96    625.74   72.50   77.33   68.24    0.72\n",
      "  8     600      24666.46    484.36   74.68   80.82   69.41    0.75\n",
      " 10     800        146.18    184.93   73.29   77.63   69.41    0.73\n",
      " 13    1000        124.75    139.23   70.06   76.39   64.71    0.70\n",
      " 16    1200        186.47    139.23   70.00   74.67   65.88    0.70\n",
      " 18    1400        102.02     84.52   71.34   77.78   65.88    0.71\n",
      " 21    1600        148.22     90.85   71.08   72.84   69.41    0.71\n",
      " 24    1800         79.23     49.81   72.50   77.33   68.24    0.72\n",
      " 26    2000        135.39     65.95   72.05   76.32   68.24    0.72\n",
      " 29    2200        145.47     65.40   72.96   78.38   68.24    0.73\n",
      "[+] Saved pipeline to output directory\n",
      "output\\model-last\n"
     ]
    },
    {
     "name": "stderr",
     "output_type": "stream",
     "text": [
      "[2022-03-24 12:36:40,906] [INFO] Set up nlp object from config\n",
      "[2022-03-24 12:36:40,923] [INFO] Pipeline: ['tok2vec', 'ner']\n",
      "[2022-03-24 12:36:40,929] [INFO] Created vocabulary\n",
      "[2022-03-24 12:36:40,930] [INFO] Finished initializing nlp object\n",
      "[2022-03-24 12:36:41,975] [INFO] Initialized pipeline components: ['tok2vec', 'ner']\n"
     ]
    }
   ],
   "source": [
    "!python -m spacy train config.cfg --output ./output"
   ]
  },
  {
   "cell_type": "code",
   "execution_count": null,
   "metadata": {},
   "outputs": [],
   "source": []
  },
  {
   "cell_type": "markdown",
   "metadata": {},
   "source": [
    "#### test : 1146,188,831,2425,2430"
   ]
  },
  {
   "cell_type": "code",
   "execution_count": 57,
   "metadata": {},
   "outputs": [
    {
     "data": {
      "text/plain": [
       "'HPI- 17 YO M WITH C/O HEART PALPITATIONS FOR 3 MONTHS WHICH WAS SUDDEN IN ONSET, INTERMITTENT AND PROGRESSIVE. HE HAD A SEVERE EPISODE 2 DAYS AGO WHERE HE HAD CHEST TIGHTNESS AND SOB. HE IS STRESSED OUT ABOUT COLLEGE AND IS  TAKING ADY WHICH HIS FRIEND PROVOIDED TO HIM.  HE ALSO CONSUMES 3 TO 4 CUPS OF COFFEE EACH DAY. DENIES FEVER, CHEST PAIN, SLEEP CHANGES COUGH,  SKIN CHANGES, CHANGES IN WEIGHT OR APPETITE, TREMORS, SOB ON EXERTION, CHANGES IN URINARY OR BOWEL HABITS.\\r\\nPMH/PSH- NONE\\r\\nALLERGIES- NKA\\r\\nMEDS- NONE\\r\\nFH- MOTHER HAS THYROID PROBLEMS AND FATHER HAD MI\\r\\nSH- DRINKS 3 TO 4 BEERS/WEEKEND, DENIES TOBACCO, SMOKED POT ONCE, PLAYS BASKETBALL AND DOES EXERCISE. \\r\\nSEXUAL- MONOGAMOUS AND USES CONDOMS.'"
      ]
     },
     "execution_count": 57,
     "metadata": {},
     "output_type": "execute_result"
    }
   ],
   "source": [
    "test = np.array(patient_notes.loc[patient_notes.pn_num ==831,\"pn_history\"])[0]\n",
    "test"
   ]
  },
  {
   "cell_type": "code",
   "execution_count": 58,
   "metadata": {},
   "outputs": [
    {
     "name": "stdout",
     "output_type": "stream",
     "text": [
      "17 YO Feature_11 5 10\n",
      "M Feature_12 11 12\n",
      "HEART PALPITATIONS Feature_9 22 40\n",
      "FOR 3 MONTHS Feature_10 41 53\n"
     ]
    }
   ],
   "source": [
    "nlp = spacy.load(\"output/model-best\")\n",
    "doc = nlp(test)\n",
    "for ent in doc.ents:\n",
    "    print(ent.text, ent.label_,ent.start_char, ent.end_char)"
   ]
  },
  {
   "cell_type": "code",
   "execution_count": 59,
   "metadata": {},
   "outputs": [
    {
     "data": {
      "text/html": [
       "<div>\n",
       "<style scoped>\n",
       "    .dataframe tbody tr th:only-of-type {\n",
       "        vertical-align: middle;\n",
       "    }\n",
       "\n",
       "    .dataframe tbody tr th {\n",
       "        vertical-align: top;\n",
       "    }\n",
       "\n",
       "    .dataframe thead th {\n",
       "        text-align: right;\n",
       "    }\n",
       "</style>\n",
       "<table border=\"1\" class=\"dataframe\">\n",
       "  <thead>\n",
       "    <tr style=\"text-align: right;\">\n",
       "      <th></th>\n",
       "      <th>id</th>\n",
       "      <th>case_num</th>\n",
       "      <th>pn_num</th>\n",
       "      <th>feature_num</th>\n",
       "      <th>annotation</th>\n",
       "      <th>location</th>\n",
       "    </tr>\n",
       "  </thead>\n",
       "  <tbody>\n",
       "    <tr>\n",
       "      <th>520</th>\n",
       "      <td>00831_000</td>\n",
       "      <td>0</td>\n",
       "      <td>831</td>\n",
       "      <td>0</td>\n",
       "      <td>['FATHER MI']</td>\n",
       "      <td>['556 562;567 569']</td>\n",
       "    </tr>\n",
       "    <tr>\n",
       "      <th>521</th>\n",
       "      <td>00831_001</td>\n",
       "      <td>0</td>\n",
       "      <td>831</td>\n",
       "      <td>1</td>\n",
       "      <td>['MOTHER THYROID PROBLEMS']</td>\n",
       "      <td>['524 530;535 551']</td>\n",
       "    </tr>\n",
       "    <tr>\n",
       "      <th>522</th>\n",
       "      <td>00831_002</td>\n",
       "      <td>0</td>\n",
       "      <td>831</td>\n",
       "      <td>2</td>\n",
       "      <td>['CHEST TIGHTNESS']</td>\n",
       "      <td>['159 174']</td>\n",
       "    </tr>\n",
       "    <tr>\n",
       "      <th>523</th>\n",
       "      <td>00831_003</td>\n",
       "      <td>0</td>\n",
       "      <td>831</td>\n",
       "      <td>3</td>\n",
       "      <td>['INTERMITTENT', 'EPISODE']</td>\n",
       "      <td>['81 93', '127 134']</td>\n",
       "    </tr>\n",
       "    <tr>\n",
       "      <th>524</th>\n",
       "      <td>00831_004</td>\n",
       "      <td>0</td>\n",
       "      <td>831</td>\n",
       "      <td>4</td>\n",
       "      <td>[]</td>\n",
       "      <td>[]</td>\n",
       "    </tr>\n",
       "    <tr>\n",
       "      <th>525</th>\n",
       "      <td>00831_005</td>\n",
       "      <td>0</td>\n",
       "      <td>831</td>\n",
       "      <td>5</td>\n",
       "      <td>[]</td>\n",
       "      <td>[]</td>\n",
       "    </tr>\n",
       "    <tr>\n",
       "      <th>526</th>\n",
       "      <td>00831_006</td>\n",
       "      <td>0</td>\n",
       "      <td>831</td>\n",
       "      <td>6</td>\n",
       "      <td>[]</td>\n",
       "      <td>[]</td>\n",
       "    </tr>\n",
       "    <tr>\n",
       "      <th>527</th>\n",
       "      <td>00831_007</td>\n",
       "      <td>0</td>\n",
       "      <td>831</td>\n",
       "      <td>7</td>\n",
       "      <td>['SOB']</td>\n",
       "      <td>['179 182']</td>\n",
       "    </tr>\n",
       "    <tr>\n",
       "      <th>528</th>\n",
       "      <td>00831_008</td>\n",
       "      <td>0</td>\n",
       "      <td>831</td>\n",
       "      <td>8</td>\n",
       "      <td>['CONSUMES COFFEE', 'COFFEE']</td>\n",
       "      <td>['280 288;304 310', '304 310']</td>\n",
       "    </tr>\n",
       "    <tr>\n",
       "      <th>529</th>\n",
       "      <td>00831_009</td>\n",
       "      <td>0</td>\n",
       "      <td>831</td>\n",
       "      <td>9</td>\n",
       "      <td>['HEART PALPITATIONS']</td>\n",
       "      <td>['22 40']</td>\n",
       "    </tr>\n",
       "    <tr>\n",
       "      <th>530</th>\n",
       "      <td>00831_010</td>\n",
       "      <td>0</td>\n",
       "      <td>831</td>\n",
       "      <td>10</td>\n",
       "      <td>['FOR 3 MONTHS']</td>\n",
       "      <td>['41 53']</td>\n",
       "    </tr>\n",
       "    <tr>\n",
       "      <th>531</th>\n",
       "      <td>00831_011</td>\n",
       "      <td>0</td>\n",
       "      <td>831</td>\n",
       "      <td>11</td>\n",
       "      <td>['17 YO']</td>\n",
       "      <td>['5 10']</td>\n",
       "    </tr>\n",
       "    <tr>\n",
       "      <th>532</th>\n",
       "      <td>00831_012</td>\n",
       "      <td>0</td>\n",
       "      <td>831</td>\n",
       "      <td>12</td>\n",
       "      <td>['M']</td>\n",
       "      <td>['11 12']</td>\n",
       "    </tr>\n",
       "  </tbody>\n",
       "</table>\n",
       "</div>"
      ],
      "text/plain": [
       "            id  case_num  pn_num  feature_num                     annotation  \\\n",
       "520  00831_000         0     831            0                  ['FATHER MI']   \n",
       "521  00831_001         0     831            1    ['MOTHER THYROID PROBLEMS']   \n",
       "522  00831_002         0     831            2            ['CHEST TIGHTNESS']   \n",
       "523  00831_003         0     831            3    ['INTERMITTENT', 'EPISODE']   \n",
       "524  00831_004         0     831            4                             []   \n",
       "525  00831_005         0     831            5                             []   \n",
       "526  00831_006         0     831            6                             []   \n",
       "527  00831_007         0     831            7                        ['SOB']   \n",
       "528  00831_008         0     831            8  ['CONSUMES COFFEE', 'COFFEE']   \n",
       "529  00831_009         0     831            9         ['HEART PALPITATIONS']   \n",
       "530  00831_010         0     831           10               ['FOR 3 MONTHS']   \n",
       "531  00831_011         0     831           11                      ['17 YO']   \n",
       "532  00831_012         0     831           12                          ['M']   \n",
       "\n",
       "                           location  \n",
       "520             ['556 562;567 569']  \n",
       "521             ['524 530;535 551']  \n",
       "522                     ['159 174']  \n",
       "523            ['81 93', '127 134']  \n",
       "524                              []  \n",
       "525                              []  \n",
       "526                              []  \n",
       "527                     ['179 182']  \n",
       "528  ['280 288;304 310', '304 310']  \n",
       "529                       ['22 40']  \n",
       "530                       ['41 53']  \n",
       "531                        ['5 10']  \n",
       "532                       ['11 12']  "
      ]
     },
     "execution_count": 59,
     "metadata": {},
     "output_type": "execute_result"
    }
   ],
   "source": [
    "train_data = pd.read_csv(\"C:\\\\Users\\\\preet\\\\Desktop\\\\CAPstone\\\\train.csv\")\n",
    "train_data[train_data.pn_num == 831]"
   ]
  },
  {
   "cell_type": "code",
   "execution_count": null,
   "metadata": {},
   "outputs": [],
   "source": []
  }
 ],
 "metadata": {
  "kernelspec": {
   "display_name": "Python 3",
   "language": "python",
   "name": "python3"
  },
  "language_info": {
   "codemirror_mode": {
    "name": "ipython",
    "version": 3
   },
   "file_extension": ".py",
   "mimetype": "text/x-python",
   "name": "python",
   "nbconvert_exporter": "python",
   "pygments_lexer": "ipython3",
   "version": "3.8.8"
  }
 },
 "nbformat": 4,
 "nbformat_minor": 4
}
