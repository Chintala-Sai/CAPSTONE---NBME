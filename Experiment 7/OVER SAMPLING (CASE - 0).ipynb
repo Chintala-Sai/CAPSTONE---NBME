{
 "cells": [
  {
   "cell_type": "code",
   "execution_count": 1,
   "id": "b7f663ac",
   "metadata": {},
   "outputs": [],
   "source": [
    "import pandas as pd\n",
    "import numpy as np\n",
    "import json\n",
    "import warnings\n",
    "import spacy\n",
    "warnings.filterwarnings(\"ignore\")\n",
    "import random\n",
    "\n",
    "import nltk\n",
    "from nltk.stem import WordNetLemmatizer\n",
    "\n",
    "import re\n",
    "\n",
    "from spacy.tokens import DocBin\n",
    "\n",
    "from tqdm import tqdm\n",
    "\n",
    "from sklearn.model_selection import train_test_split"
   ]
  },
  {
   "cell_type": "code",
   "execution_count": 2,
   "id": "c51c5344",
   "metadata": {},
   "outputs": [],
   "source": [
    "train_data = pd.read_csv(r\"C:\\Users\\sai\\Desktop\\PRAXIS\\Term - 3\\CAPP\\Datasets\\train.csv\")\n",
    "features = pd.read_csv(r\"C:\\Users\\sai\\Desktop\\PRAXIS\\Term - 3\\CAPP\\Datasets\\features.csv\")\n",
    "patient_notes = pd.read_csv(r\"C:\\Users\\sai\\Desktop\\PRAXIS\\Term - 3\\CAPP\\Datasets\\patient_notes.csv\")"
   ]
  },
  {
   "cell_type": "markdown",
   "id": "953bcbee",
   "metadata": {},
   "source": [
    "### CASE - 0"
   ]
  },
  {
   "cell_type": "code",
   "execution_count": 3,
   "id": "8f4d3be9",
   "metadata": {},
   "outputs": [
    {
     "data": {
      "text/html": [
       "<div>\n",
       "<style scoped>\n",
       "    .dataframe tbody tr th:only-of-type {\n",
       "        vertical-align: middle;\n",
       "    }\n",
       "\n",
       "    .dataframe tbody tr th {\n",
       "        vertical-align: top;\n",
       "    }\n",
       "\n",
       "    .dataframe thead th {\n",
       "        text-align: right;\n",
       "    }\n",
       "</style>\n",
       "<table border=\"1\" class=\"dataframe\">\n",
       "  <thead>\n",
       "    <tr style=\"text-align: right;\">\n",
       "      <th></th>\n",
       "      <th>feature_num</th>\n",
       "      <th>case_num</th>\n",
       "      <th>feature_text</th>\n",
       "    </tr>\n",
       "  </thead>\n",
       "  <tbody>\n",
       "    <tr>\n",
       "      <th>0</th>\n",
       "      <td>0</td>\n",
       "      <td>0</td>\n",
       "      <td>Family-history-of-MI-OR-Family-history-of-myoc...</td>\n",
       "    </tr>\n",
       "    <tr>\n",
       "      <th>1</th>\n",
       "      <td>1</td>\n",
       "      <td>0</td>\n",
       "      <td>Family-history-of-thyroid-disorder</td>\n",
       "    </tr>\n",
       "    <tr>\n",
       "      <th>2</th>\n",
       "      <td>2</td>\n",
       "      <td>0</td>\n",
       "      <td>Chest-pressure</td>\n",
       "    </tr>\n",
       "    <tr>\n",
       "      <th>3</th>\n",
       "      <td>3</td>\n",
       "      <td>0</td>\n",
       "      <td>Intermittent-symptoms</td>\n",
       "    </tr>\n",
       "    <tr>\n",
       "      <th>4</th>\n",
       "      <td>4</td>\n",
       "      <td>0</td>\n",
       "      <td>Lightheaded</td>\n",
       "    </tr>\n",
       "    <tr>\n",
       "      <th>5</th>\n",
       "      <td>5</td>\n",
       "      <td>0</td>\n",
       "      <td>No-hair-changes-OR-no-nail-changes-OR-no-tempe...</td>\n",
       "    </tr>\n",
       "    <tr>\n",
       "      <th>6</th>\n",
       "      <td>6</td>\n",
       "      <td>0</td>\n",
       "      <td>Adderall-use</td>\n",
       "    </tr>\n",
       "    <tr>\n",
       "      <th>7</th>\n",
       "      <td>7</td>\n",
       "      <td>0</td>\n",
       "      <td>Shortness-of-breath</td>\n",
       "    </tr>\n",
       "    <tr>\n",
       "      <th>8</th>\n",
       "      <td>8</td>\n",
       "      <td>0</td>\n",
       "      <td>Caffeine-use</td>\n",
       "    </tr>\n",
       "    <tr>\n",
       "      <th>9</th>\n",
       "      <td>9</td>\n",
       "      <td>0</td>\n",
       "      <td>heart-pounding-OR-heart-racing</td>\n",
       "    </tr>\n",
       "    <tr>\n",
       "      <th>10</th>\n",
       "      <td>10</td>\n",
       "      <td>0</td>\n",
       "      <td>Few-months-duration</td>\n",
       "    </tr>\n",
       "    <tr>\n",
       "      <th>11</th>\n",
       "      <td>11</td>\n",
       "      <td>0</td>\n",
       "      <td>17-year</td>\n",
       "    </tr>\n",
       "    <tr>\n",
       "      <th>12</th>\n",
       "      <td>12</td>\n",
       "      <td>0</td>\n",
       "      <td>Male</td>\n",
       "    </tr>\n",
       "  </tbody>\n",
       "</table>\n",
       "</div>"
      ],
      "text/plain": [
       "    feature_num  case_num                                       feature_text\n",
       "0             0         0  Family-history-of-MI-OR-Family-history-of-myoc...\n",
       "1             1         0                 Family-history-of-thyroid-disorder\n",
       "2             2         0                                     Chest-pressure\n",
       "3             3         0                              Intermittent-symptoms\n",
       "4             4         0                                        Lightheaded\n",
       "5             5         0  No-hair-changes-OR-no-nail-changes-OR-no-tempe...\n",
       "6             6         0                                       Adderall-use\n",
       "7             7         0                                Shortness-of-breath\n",
       "8             8         0                                       Caffeine-use\n",
       "9             9         0                     heart-pounding-OR-heart-racing\n",
       "10           10         0                                Few-months-duration\n",
       "11           11         0                                            17-year\n",
       "12           12         0                                               Male"
      ]
     },
     "execution_count": 3,
     "metadata": {},
     "output_type": "execute_result"
    }
   ],
   "source": [
    "case_0_features = features[features[\"case_num\"] == 0]\n",
    "case_0_features"
   ]
  },
  {
   "cell_type": "code",
   "execution_count": 4,
   "id": "40545eda",
   "metadata": {},
   "outputs": [
    {
     "data": {
      "text/html": [
       "<div>\n",
       "<style scoped>\n",
       "    .dataframe tbody tr th:only-of-type {\n",
       "        vertical-align: middle;\n",
       "    }\n",
       "\n",
       "    .dataframe tbody tr th {\n",
       "        vertical-align: top;\n",
       "    }\n",
       "\n",
       "    .dataframe thead th {\n",
       "        text-align: right;\n",
       "    }\n",
       "</style>\n",
       "<table border=\"1\" class=\"dataframe\">\n",
       "  <thead>\n",
       "    <tr style=\"text-align: right;\">\n",
       "      <th></th>\n",
       "      <th>pn_num</th>\n",
       "      <th>case_num</th>\n",
       "      <th>pn_history</th>\n",
       "    </tr>\n",
       "  </thead>\n",
       "  <tbody>\n",
       "    <tr>\n",
       "      <th>0</th>\n",
       "      <td>0</td>\n",
       "      <td>0</td>\n",
       "      <td>17-year-old male, has come to the student heal...</td>\n",
       "    </tr>\n",
       "    <tr>\n",
       "      <th>1</th>\n",
       "      <td>1</td>\n",
       "      <td>0</td>\n",
       "      <td>17 yo male with recurrent palpitations for the...</td>\n",
       "    </tr>\n",
       "    <tr>\n",
       "      <th>2</th>\n",
       "      <td>2</td>\n",
       "      <td>0</td>\n",
       "      <td>Dillon Cleveland is a 17 y.o. male patient wit...</td>\n",
       "    </tr>\n",
       "    <tr>\n",
       "      <th>3</th>\n",
       "      <td>3</td>\n",
       "      <td>0</td>\n",
       "      <td>a 17 yo m c/o palpitation started 3 mos ago; \\...</td>\n",
       "    </tr>\n",
       "    <tr>\n",
       "      <th>4</th>\n",
       "      <td>4</td>\n",
       "      <td>0</td>\n",
       "      <td>17yo male with no pmh here for evaluation of p...</td>\n",
       "    </tr>\n",
       "    <tr>\n",
       "      <th>...</th>\n",
       "      <td>...</td>\n",
       "      <td>...</td>\n",
       "      <td>...</td>\n",
       "    </tr>\n",
       "    <tr>\n",
       "      <th>2263</th>\n",
       "      <td>2447</td>\n",
       "      <td>0</td>\n",
       "      <td>17 yo M comes to clinic c/o of 1st time episod...</td>\n",
       "    </tr>\n",
       "    <tr>\n",
       "      <th>2264</th>\n",
       "      <td>2448</td>\n",
       "      <td>0</td>\n",
       "      <td>17 yo m c/o heart pounding for the past 2-3 mo...</td>\n",
       "    </tr>\n",
       "    <tr>\n",
       "      <th>2265</th>\n",
       "      <td>2449</td>\n",
       "      <td>0</td>\n",
       "      <td>Pt is a 17yM with c/o Heart pounding\\r\\n- Onse...</td>\n",
       "    </tr>\n",
       "    <tr>\n",
       "      <th>2266</th>\n",
       "      <td>2450</td>\n",
       "      <td>0</td>\n",
       "      <td>17 year old male presents with heart pounding ...</td>\n",
       "    </tr>\n",
       "    <tr>\n",
       "      <th>2267</th>\n",
       "      <td>2451</td>\n",
       "      <td>0</td>\n",
       "      <td>CC: heart pounding\\r\\nHPI\\r\\nMr. Dillon Clevel...</td>\n",
       "    </tr>\n",
       "  </tbody>\n",
       "</table>\n",
       "<p>2268 rows × 3 columns</p>\n",
       "</div>"
      ],
      "text/plain": [
       "      pn_num  case_num                                         pn_history\n",
       "0          0         0  17-year-old male, has come to the student heal...\n",
       "1          1         0  17 yo male with recurrent palpitations for the...\n",
       "2          2         0  Dillon Cleveland is a 17 y.o. male patient wit...\n",
       "3          3         0  a 17 yo m c/o palpitation started 3 mos ago; \\...\n",
       "4          4         0  17yo male with no pmh here for evaluation of p...\n",
       "...      ...       ...                                                ...\n",
       "2263    2447         0  17 yo M comes to clinic c/o of 1st time episod...\n",
       "2264    2448         0  17 yo m c/o heart pounding for the past 2-3 mo...\n",
       "2265    2449         0  Pt is a 17yM with c/o Heart pounding\\r\\n- Onse...\n",
       "2266    2450         0  17 year old male presents with heart pounding ...\n",
       "2267    2451         0  CC: heart pounding\\r\\nHPI\\r\\nMr. Dillon Clevel...\n",
       "\n",
       "[2268 rows x 3 columns]"
      ]
     },
     "execution_count": 4,
     "metadata": {},
     "output_type": "execute_result"
    }
   ],
   "source": [
    "case_0_pn = patient_notes[patient_notes[\"case_num\"] ==  0]\n",
    "case_0_pn"
   ]
  },
  {
   "cell_type": "code",
   "execution_count": 5,
   "id": "56deff73",
   "metadata": {},
   "outputs": [
    {
     "data": {
      "text/html": [
       "<div>\n",
       "<style scoped>\n",
       "    .dataframe tbody tr th:only-of-type {\n",
       "        vertical-align: middle;\n",
       "    }\n",
       "\n",
       "    .dataframe tbody tr th {\n",
       "        vertical-align: top;\n",
       "    }\n",
       "\n",
       "    .dataframe thead th {\n",
       "        text-align: right;\n",
       "    }\n",
       "</style>\n",
       "<table border=\"1\" class=\"dataframe\">\n",
       "  <thead>\n",
       "    <tr style=\"text-align: right;\">\n",
       "      <th></th>\n",
       "      <th>id</th>\n",
       "      <th>case_num</th>\n",
       "      <th>pn_num</th>\n",
       "      <th>feature_num</th>\n",
       "      <th>annotation</th>\n",
       "      <th>location</th>\n",
       "    </tr>\n",
       "  </thead>\n",
       "  <tbody>\n",
       "    <tr>\n",
       "      <th>0</th>\n",
       "      <td>00016_000</td>\n",
       "      <td>0</td>\n",
       "      <td>16</td>\n",
       "      <td>0</td>\n",
       "      <td>['dad with recent heart attcak']</td>\n",
       "      <td>['696 724']</td>\n",
       "    </tr>\n",
       "    <tr>\n",
       "      <th>1</th>\n",
       "      <td>00016_001</td>\n",
       "      <td>0</td>\n",
       "      <td>16</td>\n",
       "      <td>1</td>\n",
       "      <td>['mom with \"thyroid disease']</td>\n",
       "      <td>['668 693']</td>\n",
       "    </tr>\n",
       "    <tr>\n",
       "      <th>2</th>\n",
       "      <td>00016_002</td>\n",
       "      <td>0</td>\n",
       "      <td>16</td>\n",
       "      <td>2</td>\n",
       "      <td>['chest pressure']</td>\n",
       "      <td>['203 217']</td>\n",
       "    </tr>\n",
       "    <tr>\n",
       "      <th>3</th>\n",
       "      <td>00016_003</td>\n",
       "      <td>0</td>\n",
       "      <td>16</td>\n",
       "      <td>3</td>\n",
       "      <td>['intermittent episodes', 'episode']</td>\n",
       "      <td>['70 91', '176 183']</td>\n",
       "    </tr>\n",
       "    <tr>\n",
       "      <th>4</th>\n",
       "      <td>00016_004</td>\n",
       "      <td>0</td>\n",
       "      <td>16</td>\n",
       "      <td>4</td>\n",
       "      <td>['felt as if he were going to pass out']</td>\n",
       "      <td>['222 258']</td>\n",
       "    </tr>\n",
       "  </tbody>\n",
       "</table>\n",
       "</div>"
      ],
      "text/plain": [
       "          id  case_num  pn_num  feature_num  \\\n",
       "0  00016_000         0      16            0   \n",
       "1  00016_001         0      16            1   \n",
       "2  00016_002         0      16            2   \n",
       "3  00016_003         0      16            3   \n",
       "4  00016_004         0      16            4   \n",
       "\n",
       "                                 annotation              location  \n",
       "0          ['dad with recent heart attcak']           ['696 724']  \n",
       "1             ['mom with \"thyroid disease']           ['668 693']  \n",
       "2                        ['chest pressure']           ['203 217']  \n",
       "3      ['intermittent episodes', 'episode']  ['70 91', '176 183']  \n",
       "4  ['felt as if he were going to pass out']           ['222 258']  "
      ]
     },
     "execution_count": 5,
     "metadata": {},
     "output_type": "execute_result"
    }
   ],
   "source": [
    "case_0_train = train_data[train_data[\"case_num\"] == 0]\n",
    "case_0_train = case_0_train[case_0_train.annotation != '[]']\n",
    "case_0_train.head()"
   ]
  },
  {
   "cell_type": "code",
   "execution_count": null,
   "id": "71cc6a67",
   "metadata": {},
   "outputs": [],
   "source": []
  },
  {
   "cell_type": "markdown",
   "id": "28405cc3",
   "metadata": {},
   "source": [
    "### Over Sampling for CASE - 0"
   ]
  },
  {
   "cell_type": "code",
   "execution_count": 6,
   "id": "f4595b0f",
   "metadata": {},
   "outputs": [],
   "source": [
    "pn_dict = {}\n",
    "for idx, row in case_0_pn.iterrows():\n",
    "    pn_dict[row['pn_num']] = row['pn_history']"
   ]
  },
  {
   "cell_type": "code",
   "execution_count": 7,
   "id": "33ac781d",
   "metadata": {},
   "outputs": [],
   "source": [
    "new_annotation = []\n",
    "for case_id in case_0_features['case_num'].unique():\n",
    "    \n",
    "    all_pn_id = set(case_0_pn[case_0_pn['case_num']==case_id]['pn_num'].tolist())\n",
    "    \n",
    "    for feature_id in case_0_features[case_0_features['case_num']==case_id]['feature_num'].unique():\n",
    "        # get all the pn_num that have already been annotated\n",
    "        annotated_pn = set(case_0_train[case_0_train['feature_num']==feature_id]['pn_num'].tolist())\n",
    "        # get all the pn_num that have NOT been annotated\n",
    "        pn_to_annotate = all_pn_id-annotated_pn\n",
    "        \n",
    "        # get all current annotations\n",
    "        # we will use them to find more annotations\n",
    "        annotations = case_0_train[case_0_train['feature_num']==feature_id]['annotation'].tolist()\n",
    "        annotation_texts = set()\n",
    "        for a in annotations:\n",
    "            anns = eval(a)\n",
    "            for at in anns:\n",
    "                annotation_texts.add(at)\n",
    "                \n",
    "        # annotate       \n",
    "        for pn_id in pn_to_annotate:\n",
    "            new_annotation_pn, new_location_pn = [], []\n",
    "            pn_text = pn_dict[pn_id]\n",
    "            for at in annotation_texts:\n",
    "                start = pn_text.find(at)\n",
    "                if start>=0:\n",
    "                    new_annotation_pn.append(at)\n",
    "                    new_location_pn.append(f'{start} {start+len(at)}')\n",
    "            if len(new_annotation_pn)>0:\n",
    "                new_annotation.append((\n",
    "                    f'{pn_id:04d}_{feature_id:03d}',\n",
    "                    case_id,\n",
    "                    pn_id,\n",
    "                    feature_id,\n",
    "                    new_annotation_pn,\n",
    "                    new_location_pn\n",
    "                ))\n",
    "     #   break\n",
    "    break\n",
    "    # break to get sample results quickly"
   ]
  },
  {
   "cell_type": "code",
   "execution_count": 8,
   "id": "34806752",
   "metadata": {},
   "outputs": [
    {
     "data": {
      "text/plain": [
       "18810"
      ]
     },
     "execution_count": 8,
     "metadata": {},
     "output_type": "execute_result"
    }
   ],
   "source": [
    "len(new_annotation)"
   ]
  },
  {
   "cell_type": "code",
   "execution_count": 9,
   "id": "83b6ded7",
   "metadata": {},
   "outputs": [
    {
     "data": {
      "text/html": [
       "<div>\n",
       "<style scoped>\n",
       "    .dataframe tbody tr th:only-of-type {\n",
       "        vertical-align: middle;\n",
       "    }\n",
       "\n",
       "    .dataframe tbody tr th {\n",
       "        vertical-align: top;\n",
       "    }\n",
       "\n",
       "    .dataframe thead th {\n",
       "        text-align: right;\n",
       "    }\n",
       "</style>\n",
       "<table border=\"1\" class=\"dataframe\">\n",
       "  <thead>\n",
       "    <tr style=\"text-align: right;\">\n",
       "      <th></th>\n",
       "      <th>0</th>\n",
       "      <th>1</th>\n",
       "      <th>2</th>\n",
       "      <th>3</th>\n",
       "      <th>4</th>\n",
       "      <th>5</th>\n",
       "    </tr>\n",
       "  </thead>\n",
       "  <tbody>\n",
       "    <tr>\n",
       "      <th>0</th>\n",
       "      <td>0000_000</td>\n",
       "      <td>0</td>\n",
       "      <td>0</td>\n",
       "      <td>0</td>\n",
       "      <td>[father had MI]</td>\n",
       "      <td>[553 566]</td>\n",
       "    </tr>\n",
       "    <tr>\n",
       "      <th>1</th>\n",
       "      <td>0005_000</td>\n",
       "      <td>0</td>\n",
       "      <td>5</td>\n",
       "      <td>0</td>\n",
       "      <td>[father - MI]</td>\n",
       "      <td>[825 836]</td>\n",
       "    </tr>\n",
       "    <tr>\n",
       "      <th>2</th>\n",
       "      <td>0007_000</td>\n",
       "      <td>0</td>\n",
       "      <td>7</td>\n",
       "      <td>0</td>\n",
       "      <td>[Father MI]</td>\n",
       "      <td>[490 499]</td>\n",
       "    </tr>\n",
       "    <tr>\n",
       "      <th>3</th>\n",
       "      <td>0009_000</td>\n",
       "      <td>0</td>\n",
       "      <td>9</td>\n",
       "      <td>0</td>\n",
       "      <td>[father had MI]</td>\n",
       "      <td>[709 722]</td>\n",
       "    </tr>\n",
       "    <tr>\n",
       "      <th>4</th>\n",
       "      <td>0011_000</td>\n",
       "      <td>0</td>\n",
       "      <td>11</td>\n",
       "      <td>0</td>\n",
       "      <td>[Father had MI]</td>\n",
       "      <td>[684 697]</td>\n",
       "    </tr>\n",
       "  </tbody>\n",
       "</table>\n",
       "</div>"
      ],
      "text/plain": [
       "          0  1   2  3                4          5\n",
       "0  0000_000  0   0  0  [father had MI]  [553 566]\n",
       "1  0005_000  0   5  0    [father - MI]  [825 836]\n",
       "2  0007_000  0   7  0      [Father MI]  [490 499]\n",
       "3  0009_000  0   9  0  [father had MI]  [709 722]\n",
       "4  0011_000  0  11  0  [Father had MI]  [684 697]"
      ]
     },
     "execution_count": 9,
     "metadata": {},
     "output_type": "execute_result"
    }
   ],
   "source": [
    "df=pd.DataFrame(new_annotation)\n",
    "df.head()"
   ]
  },
  {
   "cell_type": "code",
   "execution_count": 10,
   "id": "b42c27ea",
   "metadata": {},
   "outputs": [
    {
     "data": {
      "text/html": [
       "<div>\n",
       "<style scoped>\n",
       "    .dataframe tbody tr th:only-of-type {\n",
       "        vertical-align: middle;\n",
       "    }\n",
       "\n",
       "    .dataframe tbody tr th {\n",
       "        vertical-align: top;\n",
       "    }\n",
       "\n",
       "    .dataframe thead th {\n",
       "        text-align: right;\n",
       "    }\n",
       "</style>\n",
       "<table border=\"1\" class=\"dataframe\">\n",
       "  <thead>\n",
       "    <tr style=\"text-align: right;\">\n",
       "      <th></th>\n",
       "      <th>id</th>\n",
       "      <th>case_num</th>\n",
       "      <th>pn_num</th>\n",
       "      <th>feature_num</th>\n",
       "      <th>annotation</th>\n",
       "      <th>location</th>\n",
       "    </tr>\n",
       "  </thead>\n",
       "  <tbody>\n",
       "    <tr>\n",
       "      <th>0</th>\n",
       "      <td>0000_000</td>\n",
       "      <td>0</td>\n",
       "      <td>0</td>\n",
       "      <td>0</td>\n",
       "      <td>[father had MI]</td>\n",
       "      <td>[553 566]</td>\n",
       "    </tr>\n",
       "    <tr>\n",
       "      <th>1</th>\n",
       "      <td>0005_000</td>\n",
       "      <td>0</td>\n",
       "      <td>5</td>\n",
       "      <td>0</td>\n",
       "      <td>[father - MI]</td>\n",
       "      <td>[825 836]</td>\n",
       "    </tr>\n",
       "    <tr>\n",
       "      <th>2</th>\n",
       "      <td>0007_000</td>\n",
       "      <td>0</td>\n",
       "      <td>7</td>\n",
       "      <td>0</td>\n",
       "      <td>[Father MI]</td>\n",
       "      <td>[490 499]</td>\n",
       "    </tr>\n",
       "    <tr>\n",
       "      <th>3</th>\n",
       "      <td>0009_000</td>\n",
       "      <td>0</td>\n",
       "      <td>9</td>\n",
       "      <td>0</td>\n",
       "      <td>[father had MI]</td>\n",
       "      <td>[709 722]</td>\n",
       "    </tr>\n",
       "    <tr>\n",
       "      <th>4</th>\n",
       "      <td>0011_000</td>\n",
       "      <td>0</td>\n",
       "      <td>11</td>\n",
       "      <td>0</td>\n",
       "      <td>[Father had MI]</td>\n",
       "      <td>[684 697]</td>\n",
       "    </tr>\n",
       "  </tbody>\n",
       "</table>\n",
       "</div>"
      ],
      "text/plain": [
       "         id  case_num  pn_num  feature_num       annotation   location\n",
       "0  0000_000         0       0            0  [father had MI]  [553 566]\n",
       "1  0005_000         0       5            0    [father - MI]  [825 836]\n",
       "2  0007_000         0       7            0      [Father MI]  [490 499]\n",
       "3  0009_000         0       9            0  [father had MI]  [709 722]\n",
       "4  0011_000         0      11            0  [Father had MI]  [684 697]"
      ]
     },
     "execution_count": 10,
     "metadata": {},
     "output_type": "execute_result"
    }
   ],
   "source": [
    "df.columns=['id','case_num','pn_num','feature_num','annotation','location']\n",
    "df.head()"
   ]
  },
  {
   "cell_type": "code",
   "execution_count": 11,
   "id": "10db2056",
   "metadata": {},
   "outputs": [
    {
     "data": {
      "text/html": [
       "<div>\n",
       "<style scoped>\n",
       "    .dataframe tbody tr th:only-of-type {\n",
       "        vertical-align: middle;\n",
       "    }\n",
       "\n",
       "    .dataframe tbody tr th {\n",
       "        vertical-align: top;\n",
       "    }\n",
       "\n",
       "    .dataframe thead th {\n",
       "        text-align: right;\n",
       "    }\n",
       "</style>\n",
       "<table border=\"1\" class=\"dataframe\">\n",
       "  <thead>\n",
       "    <tr style=\"text-align: right;\">\n",
       "      <th></th>\n",
       "      <th>id</th>\n",
       "      <th>case_num</th>\n",
       "      <th>pn_num</th>\n",
       "      <th>feature_num</th>\n",
       "      <th>annotation</th>\n",
       "      <th>location</th>\n",
       "    </tr>\n",
       "  </thead>\n",
       "  <tbody>\n",
       "    <tr>\n",
       "      <th>0</th>\n",
       "      <td>0000_000</td>\n",
       "      <td>0</td>\n",
       "      <td>0</td>\n",
       "      <td>0</td>\n",
       "      <td>'father had MI'</td>\n",
       "      <td>'553 566'</td>\n",
       "    </tr>\n",
       "    <tr>\n",
       "      <th>1</th>\n",
       "      <td>0005_000</td>\n",
       "      <td>0</td>\n",
       "      <td>5</td>\n",
       "      <td>0</td>\n",
       "      <td>'father - MI'</td>\n",
       "      <td>'825 836'</td>\n",
       "    </tr>\n",
       "    <tr>\n",
       "      <th>2</th>\n",
       "      <td>0007_000</td>\n",
       "      <td>0</td>\n",
       "      <td>7</td>\n",
       "      <td>0</td>\n",
       "      <td>'Father MI'</td>\n",
       "      <td>'490 499'</td>\n",
       "    </tr>\n",
       "    <tr>\n",
       "      <th>3</th>\n",
       "      <td>0009_000</td>\n",
       "      <td>0</td>\n",
       "      <td>9</td>\n",
       "      <td>0</td>\n",
       "      <td>'father had MI'</td>\n",
       "      <td>'709 722'</td>\n",
       "    </tr>\n",
       "    <tr>\n",
       "      <th>4</th>\n",
       "      <td>0011_000</td>\n",
       "      <td>0</td>\n",
       "      <td>11</td>\n",
       "      <td>0</td>\n",
       "      <td>'Father had MI'</td>\n",
       "      <td>'684 697'</td>\n",
       "    </tr>\n",
       "  </tbody>\n",
       "</table>\n",
       "</div>"
      ],
      "text/plain": [
       "         id  case_num  pn_num  feature_num       annotation   location\n",
       "0  0000_000         0       0            0  'father had MI'  '553 566'\n",
       "1  0005_000         0       5            0    'father - MI'  '825 836'\n",
       "2  0007_000         0       7            0      'Father MI'  '490 499'\n",
       "3  0009_000         0       9            0  'father had MI'  '709 722'\n",
       "4  0011_000         0      11            0  'Father had MI'  '684 697'"
      ]
     },
     "execution_count": 11,
     "metadata": {},
     "output_type": "execute_result"
    }
   ],
   "source": [
    "df[\"location\"] = df[\"location\"].apply(str)\n",
    "df[\"annotation\"] = df[\"annotation\"].apply(str)\n",
    "\n",
    "df[\"annotation\"] = df.annotation.str.replace('[','')\n",
    "df[\"annotation\"] = df.annotation.str.replace(']','')\n",
    "df[\"location\"] = df.location.str.replace('[','')\n",
    "df[\"location\"] = df.location.str.replace(']','')\n",
    "\n",
    "df.head()"
   ]
  },
  {
   "cell_type": "code",
   "execution_count": 12,
   "id": "100a7b9e",
   "metadata": {},
   "outputs": [],
   "source": [
    "df = df[(df[\"feature_num\"] == 4)|(df[\"feature_num\"] == 5)|(df[\"feature_num\"] == 8)|(df[\"feature_num\"] == 9)][['pn_num','annotation',\"location\",\"feature_num\"]]"
   ]
  },
  {
   "cell_type": "code",
   "execution_count": 13,
   "id": "76e50d75",
   "metadata": {},
   "outputs": [
    {
     "data": {
      "text/html": [
       "<div>\n",
       "<style scoped>\n",
       "    .dataframe tbody tr th:only-of-type {\n",
       "        vertical-align: middle;\n",
       "    }\n",
       "\n",
       "    .dataframe tbody tr th {\n",
       "        vertical-align: top;\n",
       "    }\n",
       "\n",
       "    .dataframe thead th {\n",
       "        text-align: right;\n",
       "    }\n",
       "</style>\n",
       "<table border=\"1\" class=\"dataframe\">\n",
       "  <thead>\n",
       "    <tr style=\"text-align: right;\">\n",
       "      <th></th>\n",
       "      <th>pn_num</th>\n",
       "      <th>annotation</th>\n",
       "      <th>location</th>\n",
       "      <th>feature_num</th>\n",
       "    </tr>\n",
       "  </thead>\n",
       "  <tbody>\n",
       "    <tr>\n",
       "      <th>0</th>\n",
       "      <td>1</td>\n",
       "      <td>'light headed'</td>\n",
       "      <td>'179 191'</td>\n",
       "      <td>4</td>\n",
       "    </tr>\n",
       "    <tr>\n",
       "      <th>1</th>\n",
       "      <td>1</td>\n",
       "      <td>'light headedness'</td>\n",
       "      <td>'179 195'</td>\n",
       "      <td>4</td>\n",
       "    </tr>\n",
       "    <tr>\n",
       "      <th>2</th>\n",
       "      <td>2</td>\n",
       "      <td>'lightheadedness'</td>\n",
       "      <td>'430 445'</td>\n",
       "      <td>4</td>\n",
       "    </tr>\n",
       "    <tr>\n",
       "      <th>3</th>\n",
       "      <td>2</td>\n",
       "      <td>'lightheaded'</td>\n",
       "      <td>'430 441'</td>\n",
       "      <td>4</td>\n",
       "    </tr>\n",
       "    <tr>\n",
       "      <th>4</th>\n",
       "      <td>5</td>\n",
       "      <td>'lightheadedness'</td>\n",
       "      <td>'204 219'</td>\n",
       "      <td>4</td>\n",
       "    </tr>\n",
       "    <tr>\n",
       "      <th>...</th>\n",
       "      <td>...</td>\n",
       "      <td>...</td>\n",
       "      <td>...</td>\n",
       "      <td>...</td>\n",
       "    </tr>\n",
       "    <tr>\n",
       "      <th>7158</th>\n",
       "      <td>2451</td>\n",
       "      <td>'palpitations'</td>\n",
       "      <td>'118 130'</td>\n",
       "      <td>9</td>\n",
       "    </tr>\n",
       "    <tr>\n",
       "      <th>7159</th>\n",
       "      <td>2451</td>\n",
       "      <td>'palpitation'</td>\n",
       "      <td>'118 129'</td>\n",
       "      <td>9</td>\n",
       "    </tr>\n",
       "    <tr>\n",
       "      <th>7160</th>\n",
       "      <td>2451</td>\n",
       "      <td>'heart palpitation'</td>\n",
       "      <td>'112 129'</td>\n",
       "      <td>9</td>\n",
       "    </tr>\n",
       "    <tr>\n",
       "      <th>7161</th>\n",
       "      <td>2451</td>\n",
       "      <td>'heart pounding'</td>\n",
       "      <td>'4 18'</td>\n",
       "      <td>9</td>\n",
       "    </tr>\n",
       "    <tr>\n",
       "      <th>7162</th>\n",
       "      <td>2451</td>\n",
       "      <td>'heart palpitations'</td>\n",
       "      <td>'112 130'</td>\n",
       "      <td>9</td>\n",
       "    </tr>\n",
       "  </tbody>\n",
       "</table>\n",
       "<p>7163 rows × 4 columns</p>\n",
       "</div>"
      ],
      "text/plain": [
       "      pn_num             annotation    location  feature_num\n",
       "0          1         'light headed'   '179 191'            4\n",
       "1          1     'light headedness'   '179 195'            4\n",
       "2          2      'lightheadedness'   '430 445'            4\n",
       "3          2          'lightheaded'   '430 441'            4\n",
       "4          5      'lightheadedness'   '204 219'            4\n",
       "...      ...                    ...         ...          ...\n",
       "7158    2451         'palpitations'   '118 130'            9\n",
       "7159    2451          'palpitation'   '118 129'            9\n",
       "7160    2451    'heart palpitation'   '112 129'            9\n",
       "7161    2451       'heart pounding'      '4 18'            9\n",
       "7162    2451   'heart palpitations'   '112 130'            9\n",
       "\n",
       "[7163 rows x 4 columns]"
      ]
     },
     "execution_count": 13,
     "metadata": {},
     "output_type": "execute_result"
    }
   ],
   "source": [
    "df = (df.set_index(['pn_num',\"feature_num\"]) \n",
    "   .apply(lambda col: col.str.split(',').explode())\n",
    "   .reset_index()\n",
    "   .reindex(df.columns, axis=1))\n",
    "df"
   ]
  },
  {
   "cell_type": "code",
   "execution_count": 14,
   "id": "c49cc6e2",
   "metadata": {},
   "outputs": [
    {
     "data": {
      "text/html": [
       "<div>\n",
       "<style scoped>\n",
       "    .dataframe tbody tr th:only-of-type {\n",
       "        vertical-align: middle;\n",
       "    }\n",
       "\n",
       "    .dataframe tbody tr th {\n",
       "        vertical-align: top;\n",
       "    }\n",
       "\n",
       "    .dataframe thead th {\n",
       "        text-align: right;\n",
       "    }\n",
       "</style>\n",
       "<table border=\"1\" class=\"dataframe\">\n",
       "  <thead>\n",
       "    <tr style=\"text-align: right;\">\n",
       "      <th></th>\n",
       "      <th>pn_num</th>\n",
       "      <th>annotation</th>\n",
       "      <th>location</th>\n",
       "      <th>feature_num</th>\n",
       "      <th>start_location</th>\n",
       "      <th>end_location</th>\n",
       "    </tr>\n",
       "  </thead>\n",
       "  <tbody>\n",
       "    <tr>\n",
       "      <th>0</th>\n",
       "      <td>1</td>\n",
       "      <td>'light headed'</td>\n",
       "      <td>'179 191'</td>\n",
       "      <td>4</td>\n",
       "      <td>179</td>\n",
       "      <td>191</td>\n",
       "    </tr>\n",
       "    <tr>\n",
       "      <th>1</th>\n",
       "      <td>1</td>\n",
       "      <td>'light headedness'</td>\n",
       "      <td>'179 195'</td>\n",
       "      <td>4</td>\n",
       "      <td>179</td>\n",
       "      <td>195</td>\n",
       "    </tr>\n",
       "    <tr>\n",
       "      <th>2</th>\n",
       "      <td>2</td>\n",
       "      <td>'lightheadedness'</td>\n",
       "      <td>'430 445'</td>\n",
       "      <td>4</td>\n",
       "      <td>430</td>\n",
       "      <td>445</td>\n",
       "    </tr>\n",
       "    <tr>\n",
       "      <th>3</th>\n",
       "      <td>2</td>\n",
       "      <td>'lightheaded'</td>\n",
       "      <td>'430 441'</td>\n",
       "      <td>4</td>\n",
       "      <td>430</td>\n",
       "      <td>441</td>\n",
       "    </tr>\n",
       "    <tr>\n",
       "      <th>4</th>\n",
       "      <td>5</td>\n",
       "      <td>'lightheadedness'</td>\n",
       "      <td>'204 219'</td>\n",
       "      <td>4</td>\n",
       "      <td>204</td>\n",
       "      <td>219</td>\n",
       "    </tr>\n",
       "    <tr>\n",
       "      <th>...</th>\n",
       "      <td>...</td>\n",
       "      <td>...</td>\n",
       "      <td>...</td>\n",
       "      <td>...</td>\n",
       "      <td>...</td>\n",
       "      <td>...</td>\n",
       "    </tr>\n",
       "    <tr>\n",
       "      <th>7158</th>\n",
       "      <td>2451</td>\n",
       "      <td>'palpitations'</td>\n",
       "      <td>'118 130'</td>\n",
       "      <td>9</td>\n",
       "      <td>118</td>\n",
       "      <td>130</td>\n",
       "    </tr>\n",
       "    <tr>\n",
       "      <th>7159</th>\n",
       "      <td>2451</td>\n",
       "      <td>'palpitation'</td>\n",
       "      <td>'118 129'</td>\n",
       "      <td>9</td>\n",
       "      <td>118</td>\n",
       "      <td>129</td>\n",
       "    </tr>\n",
       "    <tr>\n",
       "      <th>7160</th>\n",
       "      <td>2451</td>\n",
       "      <td>'heart palpitation'</td>\n",
       "      <td>'112 129'</td>\n",
       "      <td>9</td>\n",
       "      <td>112</td>\n",
       "      <td>129</td>\n",
       "    </tr>\n",
       "    <tr>\n",
       "      <th>7161</th>\n",
       "      <td>2451</td>\n",
       "      <td>'heart pounding'</td>\n",
       "      <td>'4 18'</td>\n",
       "      <td>9</td>\n",
       "      <td>4</td>\n",
       "      <td>18</td>\n",
       "    </tr>\n",
       "    <tr>\n",
       "      <th>7162</th>\n",
       "      <td>2451</td>\n",
       "      <td>'heart palpitations'</td>\n",
       "      <td>'112 130'</td>\n",
       "      <td>9</td>\n",
       "      <td>112</td>\n",
       "      <td>130</td>\n",
       "    </tr>\n",
       "  </tbody>\n",
       "</table>\n",
       "<p>7163 rows × 6 columns</p>\n",
       "</div>"
      ],
      "text/plain": [
       "      pn_num             annotation    location  feature_num start_location  \\\n",
       "0          1         'light headed'   '179 191'            4            179   \n",
       "1          1     'light headedness'   '179 195'            4            179   \n",
       "2          2      'lightheadedness'   '430 445'            4            430   \n",
       "3          2          'lightheaded'   '430 441'            4            430   \n",
       "4          5      'lightheadedness'   '204 219'            4            204   \n",
       "...      ...                    ...         ...          ...            ...   \n",
       "7158    2451         'palpitations'   '118 130'            9            118   \n",
       "7159    2451          'palpitation'   '118 129'            9            118   \n",
       "7160    2451    'heart palpitation'   '112 129'            9            112   \n",
       "7161    2451       'heart pounding'      '4 18'            9              4   \n",
       "7162    2451   'heart palpitations'   '112 130'            9            112   \n",
       "\n",
       "     end_location  \n",
       "0             191  \n",
       "1             195  \n",
       "2             445  \n",
       "3             441  \n",
       "4             219  \n",
       "...           ...  \n",
       "7158          130  \n",
       "7159          129  \n",
       "7160          129  \n",
       "7161           18  \n",
       "7162          130  \n",
       "\n",
       "[7163 rows x 6 columns]"
      ]
     },
     "execution_count": 14,
     "metadata": {},
     "output_type": "execute_result"
    }
   ],
   "source": [
    "df[\"start_location\"] = df[\"location\"].apply(lambda x: x.split()[0][1:])\n",
    "df[\"end_location\"] = df[\"location\"].apply(lambda x: x.split()[-1][:-1])\n",
    "df"
   ]
  },
  {
   "cell_type": "code",
   "execution_count": 15,
   "id": "8ce1b301",
   "metadata": {},
   "outputs": [
    {
     "data": {
      "text/plain": [
       "(60, 6)"
      ]
     },
     "execution_count": 15,
     "metadata": {},
     "output_type": "execute_result"
    }
   ],
   "source": [
    "df_4 = df[df[\"feature_num\"] == 4].sample(n = 60, random_state = 100)\n",
    "df_4.shape"
   ]
  },
  {
   "cell_type": "code",
   "execution_count": 16,
   "id": "32c3dd92",
   "metadata": {},
   "outputs": [
    {
     "data": {
      "text/plain": [
       "(70, 6)"
      ]
     },
     "execution_count": 16,
     "metadata": {},
     "output_type": "execute_result"
    }
   ],
   "source": [
    "df_5 = df[df[\"feature_num\"] == 5].sample(n = 70, random_state = 100)\n",
    "df_5.shape"
   ]
  },
  {
   "cell_type": "code",
   "execution_count": 17,
   "id": "2f6ab896",
   "metadata": {},
   "outputs": [
    {
     "data": {
      "text/plain": [
       "(80, 6)"
      ]
     },
     "execution_count": 17,
     "metadata": {},
     "output_type": "execute_result"
    }
   ],
   "source": [
    "df_8 = df[df[\"feature_num\"] == 8].sample(n = 80, random_state = 100)\n",
    "df_8.shape"
   ]
  },
  {
   "cell_type": "code",
   "execution_count": 18,
   "id": "20f9feb2",
   "metadata": {},
   "outputs": [
    {
     "data": {
      "text/plain": [
       "(30, 6)"
      ]
     },
     "execution_count": 18,
     "metadata": {},
     "output_type": "execute_result"
    }
   ],
   "source": [
    "df_9 = df[df[\"feature_num\"] == 9].sample(n = 30, random_state = 100)\n",
    "df_9.shape"
   ]
  },
  {
   "cell_type": "code",
   "execution_count": null,
   "id": "787320b1",
   "metadata": {},
   "outputs": [],
   "source": []
  },
  {
   "cell_type": "markdown",
   "id": "6ff3feeb",
   "metadata": {},
   "source": [
    "### Case - 0 Train data"
   ]
  },
  {
   "cell_type": "code",
   "execution_count": 19,
   "id": "73630479",
   "metadata": {},
   "outputs": [],
   "source": [
    "case_0_train = case_0_train[['pn_num','annotation',\"location\",\"feature_num\"]]"
   ]
  },
  {
   "cell_type": "code",
   "execution_count": 20,
   "id": "2e626c9d",
   "metadata": {},
   "outputs": [
    {
     "data": {
      "text/html": [
       "<div>\n",
       "<style scoped>\n",
       "    .dataframe tbody tr th:only-of-type {\n",
       "        vertical-align: middle;\n",
       "    }\n",
       "\n",
       "    .dataframe tbody tr th {\n",
       "        vertical-align: top;\n",
       "    }\n",
       "\n",
       "    .dataframe thead th {\n",
       "        text-align: right;\n",
       "    }\n",
       "</style>\n",
       "<table border=\"1\" class=\"dataframe\">\n",
       "  <thead>\n",
       "    <tr style=\"text-align: right;\">\n",
       "      <th></th>\n",
       "      <th>pn_num</th>\n",
       "      <th>annotation</th>\n",
       "      <th>location</th>\n",
       "      <th>feature_num</th>\n",
       "    </tr>\n",
       "  </thead>\n",
       "  <tbody>\n",
       "    <tr>\n",
       "      <th>0</th>\n",
       "      <td>16</td>\n",
       "      <td>'dad with recent heart attcak'</td>\n",
       "      <td>'696 724'</td>\n",
       "      <td>0</td>\n",
       "    </tr>\n",
       "    <tr>\n",
       "      <th>1</th>\n",
       "      <td>16</td>\n",
       "      <td>'mom with \"thyroid disease'</td>\n",
       "      <td>'668 693'</td>\n",
       "      <td>1</td>\n",
       "    </tr>\n",
       "    <tr>\n",
       "      <th>2</th>\n",
       "      <td>16</td>\n",
       "      <td>'chest pressure'</td>\n",
       "      <td>'203 217'</td>\n",
       "      <td>2</td>\n",
       "    </tr>\n",
       "    <tr>\n",
       "      <th>3</th>\n",
       "      <td>16</td>\n",
       "      <td>'intermittent episodes', 'episode'</td>\n",
       "      <td>'70 91', '176 183'</td>\n",
       "      <td>3</td>\n",
       "    </tr>\n",
       "    <tr>\n",
       "      <th>4</th>\n",
       "      <td>16</td>\n",
       "      <td>'felt as if he were going to pass out'</td>\n",
       "      <td>'222 258'</td>\n",
       "      <td>4</td>\n",
       "    </tr>\n",
       "    <tr>\n",
       "      <th>...</th>\n",
       "      <td>...</td>\n",
       "      <td>...</td>\n",
       "      <td>...</td>\n",
       "      <td>...</td>\n",
       "    </tr>\n",
       "    <tr>\n",
       "      <th>1294</th>\n",
       "      <td>2436</td>\n",
       "      <td>'shortness of breath'</td>\n",
       "      <td>'371 390'</td>\n",
       "      <td>7</td>\n",
       "    </tr>\n",
       "    <tr>\n",
       "      <th>1296</th>\n",
       "      <td>2436</td>\n",
       "      <td>'chest palpitations', 'chest palpitations'</td>\n",
       "      <td>'71 89', '109 127'</td>\n",
       "      <td>9</td>\n",
       "    </tr>\n",
       "    <tr>\n",
       "      <th>1297</th>\n",
       "      <td>2436</td>\n",
       "      <td>'2-3 month'</td>\n",
       "      <td>'50 59'</td>\n",
       "      <td>10</td>\n",
       "    </tr>\n",
       "    <tr>\n",
       "      <th>1298</th>\n",
       "      <td>2436</td>\n",
       "      <td>'17 year old'</td>\n",
       "      <td>'26 37'</td>\n",
       "      <td>11</td>\n",
       "    </tr>\n",
       "    <tr>\n",
       "      <th>1299</th>\n",
       "      <td>2436</td>\n",
       "      <td>'male'</td>\n",
       "      <td>'38 42'</td>\n",
       "      <td>12</td>\n",
       "    </tr>\n",
       "  </tbody>\n",
       "</table>\n",
       "<p>998 rows × 4 columns</p>\n",
       "</div>"
      ],
      "text/plain": [
       "      pn_num                                  annotation            location  \\\n",
       "0         16              'dad with recent heart attcak'           '696 724'   \n",
       "1         16                 'mom with \"thyroid disease'           '668 693'   \n",
       "2         16                            'chest pressure'           '203 217'   \n",
       "3         16          'intermittent episodes', 'episode'  '70 91', '176 183'   \n",
       "4         16      'felt as if he were going to pass out'           '222 258'   \n",
       "...      ...                                         ...                 ...   \n",
       "1294    2436                       'shortness of breath'           '371 390'   \n",
       "1296    2436  'chest palpitations', 'chest palpitations'  '71 89', '109 127'   \n",
       "1297    2436                                 '2-3 month'             '50 59'   \n",
       "1298    2436                               '17 year old'             '26 37'   \n",
       "1299    2436                                      'male'             '38 42'   \n",
       "\n",
       "      feature_num  \n",
       "0               0  \n",
       "1               1  \n",
       "2               2  \n",
       "3               3  \n",
       "4               4  \n",
       "...           ...  \n",
       "1294            7  \n",
       "1296            9  \n",
       "1297           10  \n",
       "1298           11  \n",
       "1299           12  \n",
       "\n",
       "[998 rows x 4 columns]"
      ]
     },
     "execution_count": 20,
     "metadata": {},
     "output_type": "execute_result"
    }
   ],
   "source": [
    "case_0_train[\"annotation\"] = case_0_train.annotation.str.replace('[','')\n",
    "case_0_train[\"annotation\"] = case_0_train.annotation.str.replace(']','')\n",
    "case_0_train[\"location\"] = case_0_train.location.str.replace('[','')\n",
    "case_0_train[\"location\"] = case_0_train.location.str.replace(']','')\n",
    "\n",
    "case_0_train"
   ]
  },
  {
   "cell_type": "code",
   "execution_count": 21,
   "id": "678db66a",
   "metadata": {},
   "outputs": [
    {
     "data": {
      "text/html": [
       "<div>\n",
       "<style scoped>\n",
       "    .dataframe tbody tr th:only-of-type {\n",
       "        vertical-align: middle;\n",
       "    }\n",
       "\n",
       "    .dataframe tbody tr th {\n",
       "        vertical-align: top;\n",
       "    }\n",
       "\n",
       "    .dataframe thead th {\n",
       "        text-align: right;\n",
       "    }\n",
       "</style>\n",
       "<table border=\"1\" class=\"dataframe\">\n",
       "  <thead>\n",
       "    <tr style=\"text-align: right;\">\n",
       "      <th></th>\n",
       "      <th>pn_num</th>\n",
       "      <th>annotation</th>\n",
       "      <th>location</th>\n",
       "      <th>feature_num</th>\n",
       "    </tr>\n",
       "  </thead>\n",
       "  <tbody>\n",
       "    <tr>\n",
       "      <th>0</th>\n",
       "      <td>16</td>\n",
       "      <td>'dad with recent heart attcak'</td>\n",
       "      <td>'696 724'</td>\n",
       "      <td>0</td>\n",
       "    </tr>\n",
       "    <tr>\n",
       "      <th>1</th>\n",
       "      <td>16</td>\n",
       "      <td>'mom with \"thyroid disease'</td>\n",
       "      <td>'668 693'</td>\n",
       "      <td>1</td>\n",
       "    </tr>\n",
       "    <tr>\n",
       "      <th>2</th>\n",
       "      <td>16</td>\n",
       "      <td>'chest pressure'</td>\n",
       "      <td>'203 217'</td>\n",
       "      <td>2</td>\n",
       "    </tr>\n",
       "    <tr>\n",
       "      <th>3</th>\n",
       "      <td>16</td>\n",
       "      <td>'intermittent episodes', 'episode'</td>\n",
       "      <td>'70 91', '176 183'</td>\n",
       "      <td>3</td>\n",
       "    </tr>\n",
       "    <tr>\n",
       "      <th>4</th>\n",
       "      <td>16</td>\n",
       "      <td>'felt as if he were going to pass out'</td>\n",
       "      <td>'222 258'</td>\n",
       "      <td>4</td>\n",
       "    </tr>\n",
       "    <tr>\n",
       "      <th>...</th>\n",
       "      <td>...</td>\n",
       "      <td>...</td>\n",
       "      <td>...</td>\n",
       "      <td>...</td>\n",
       "    </tr>\n",
       "    <tr>\n",
       "      <th>1294</th>\n",
       "      <td>2436</td>\n",
       "      <td>'shortness of breath'</td>\n",
       "      <td>'371 390'</td>\n",
       "      <td>7</td>\n",
       "    </tr>\n",
       "    <tr>\n",
       "      <th>1296</th>\n",
       "      <td>2436</td>\n",
       "      <td>'chest palpitations', 'chest palpitations'</td>\n",
       "      <td>'71 89', '109 127'</td>\n",
       "      <td>9</td>\n",
       "    </tr>\n",
       "    <tr>\n",
       "      <th>1297</th>\n",
       "      <td>2436</td>\n",
       "      <td>'2-3 month'</td>\n",
       "      <td>'50 59'</td>\n",
       "      <td>10</td>\n",
       "    </tr>\n",
       "    <tr>\n",
       "      <th>1298</th>\n",
       "      <td>2436</td>\n",
       "      <td>'17 year old'</td>\n",
       "      <td>'26 37'</td>\n",
       "      <td>11</td>\n",
       "    </tr>\n",
       "    <tr>\n",
       "      <th>1299</th>\n",
       "      <td>2436</td>\n",
       "      <td>'male'</td>\n",
       "      <td>'38 42'</td>\n",
       "      <td>12</td>\n",
       "    </tr>\n",
       "  </tbody>\n",
       "</table>\n",
       "<p>998 rows × 4 columns</p>\n",
       "</div>"
      ],
      "text/plain": [
       "      pn_num                                  annotation            location  \\\n",
       "0         16              'dad with recent heart attcak'           '696 724'   \n",
       "1         16                 'mom with \"thyroid disease'           '668 693'   \n",
       "2         16                            'chest pressure'           '203 217'   \n",
       "3         16          'intermittent episodes', 'episode'  '70 91', '176 183'   \n",
       "4         16      'felt as if he were going to pass out'           '222 258'   \n",
       "...      ...                                         ...                 ...   \n",
       "1294    2436                       'shortness of breath'           '371 390'   \n",
       "1296    2436  'chest palpitations', 'chest palpitations'  '71 89', '109 127'   \n",
       "1297    2436                                 '2-3 month'             '50 59'   \n",
       "1298    2436                               '17 year old'             '26 37'   \n",
       "1299    2436                                      'male'             '38 42'   \n",
       "\n",
       "      feature_num  \n",
       "0               0  \n",
       "1               1  \n",
       "2               2  \n",
       "3               3  \n",
       "4               4  \n",
       "...           ...  \n",
       "1294            7  \n",
       "1296            9  \n",
       "1297           10  \n",
       "1298           11  \n",
       "1299           12  \n",
       "\n",
       "[998 rows x 4 columns]"
      ]
     },
     "execution_count": 21,
     "metadata": {},
     "output_type": "execute_result"
    }
   ],
   "source": [
    "case_0_train.loc[case_0_train[\"annotation\"] == \"'dad, heart attack'\",\"annotation\"] = \"'dad  heart attack'\"\n",
    "case_0_train"
   ]
  },
  {
   "cell_type": "code",
   "execution_count": 22,
   "id": "90288823",
   "metadata": {},
   "outputs": [
    {
     "data": {
      "text/html": [
       "<div>\n",
       "<style scoped>\n",
       "    .dataframe tbody tr th:only-of-type {\n",
       "        vertical-align: middle;\n",
       "    }\n",
       "\n",
       "    .dataframe tbody tr th {\n",
       "        vertical-align: top;\n",
       "    }\n",
       "\n",
       "    .dataframe thead th {\n",
       "        text-align: right;\n",
       "    }\n",
       "</style>\n",
       "<table border=\"1\" class=\"dataframe\">\n",
       "  <thead>\n",
       "    <tr style=\"text-align: right;\">\n",
       "      <th></th>\n",
       "      <th>pn_num</th>\n",
       "      <th>annotation</th>\n",
       "      <th>location</th>\n",
       "      <th>feature_num</th>\n",
       "    </tr>\n",
       "  </thead>\n",
       "  <tbody>\n",
       "    <tr>\n",
       "      <th>0</th>\n",
       "      <td>16</td>\n",
       "      <td>'dad with recent heart attcak'</td>\n",
       "      <td>'696 724'</td>\n",
       "      <td>0</td>\n",
       "    </tr>\n",
       "    <tr>\n",
       "      <th>1</th>\n",
       "      <td>16</td>\n",
       "      <td>'mom with \"thyroid disease'</td>\n",
       "      <td>'668 693'</td>\n",
       "      <td>1</td>\n",
       "    </tr>\n",
       "    <tr>\n",
       "      <th>2</th>\n",
       "      <td>16</td>\n",
       "      <td>'chest pressure'</td>\n",
       "      <td>'203 217'</td>\n",
       "      <td>2</td>\n",
       "    </tr>\n",
       "    <tr>\n",
       "      <th>3</th>\n",
       "      <td>16</td>\n",
       "      <td>'intermittent episodes'</td>\n",
       "      <td>'70 91'</td>\n",
       "      <td>3</td>\n",
       "    </tr>\n",
       "    <tr>\n",
       "      <th>4</th>\n",
       "      <td>16</td>\n",
       "      <td>'episode'</td>\n",
       "      <td>'176 183'</td>\n",
       "      <td>3</td>\n",
       "    </tr>\n",
       "    <tr>\n",
       "      <th>...</th>\n",
       "      <td>...</td>\n",
       "      <td>...</td>\n",
       "      <td>...</td>\n",
       "      <td>...</td>\n",
       "    </tr>\n",
       "    <tr>\n",
       "      <th>1198</th>\n",
       "      <td>2436</td>\n",
       "      <td>'chest palpitations'</td>\n",
       "      <td>'71 89'</td>\n",
       "      <td>9</td>\n",
       "    </tr>\n",
       "    <tr>\n",
       "      <th>1199</th>\n",
       "      <td>2436</td>\n",
       "      <td>'chest palpitations'</td>\n",
       "      <td>'109 127'</td>\n",
       "      <td>9</td>\n",
       "    </tr>\n",
       "    <tr>\n",
       "      <th>1200</th>\n",
       "      <td>2436</td>\n",
       "      <td>'2-3 month'</td>\n",
       "      <td>'50 59'</td>\n",
       "      <td>10</td>\n",
       "    </tr>\n",
       "    <tr>\n",
       "      <th>1201</th>\n",
       "      <td>2436</td>\n",
       "      <td>'17 year old'</td>\n",
       "      <td>'26 37'</td>\n",
       "      <td>11</td>\n",
       "    </tr>\n",
       "    <tr>\n",
       "      <th>1202</th>\n",
       "      <td>2436</td>\n",
       "      <td>'male'</td>\n",
       "      <td>'38 42'</td>\n",
       "      <td>12</td>\n",
       "    </tr>\n",
       "  </tbody>\n",
       "</table>\n",
       "<p>1203 rows × 4 columns</p>\n",
       "</div>"
      ],
      "text/plain": [
       "      pn_num                      annotation    location  feature_num\n",
       "0         16  'dad with recent heart attcak'   '696 724'            0\n",
       "1         16     'mom with \"thyroid disease'   '668 693'            1\n",
       "2         16                'chest pressure'   '203 217'            2\n",
       "3         16         'intermittent episodes'     '70 91'            3\n",
       "4         16                       'episode'   '176 183'            3\n",
       "...      ...                             ...         ...          ...\n",
       "1198    2436            'chest palpitations'     '71 89'            9\n",
       "1199    2436            'chest palpitations'   '109 127'            9\n",
       "1200    2436                     '2-3 month'     '50 59'           10\n",
       "1201    2436                   '17 year old'     '26 37'           11\n",
       "1202    2436                          'male'     '38 42'           12\n",
       "\n",
       "[1203 rows x 4 columns]"
      ]
     },
     "execution_count": 22,
     "metadata": {},
     "output_type": "execute_result"
    }
   ],
   "source": [
    "case_0_train = (case_0_train.set_index(['pn_num',\"feature_num\"]) \n",
    "   .apply(lambda col: col.str.split(',').explode())\n",
    "   .reset_index()\n",
    "   .reindex(case_0_train.columns, axis=1))\n",
    "case_0_train"
   ]
  },
  {
   "cell_type": "code",
   "execution_count": 23,
   "id": "c70890fb",
   "metadata": {},
   "outputs": [
    {
     "data": {
      "text/html": [
       "<div>\n",
       "<style scoped>\n",
       "    .dataframe tbody tr th:only-of-type {\n",
       "        vertical-align: middle;\n",
       "    }\n",
       "\n",
       "    .dataframe tbody tr th {\n",
       "        vertical-align: top;\n",
       "    }\n",
       "\n",
       "    .dataframe thead th {\n",
       "        text-align: right;\n",
       "    }\n",
       "</style>\n",
       "<table border=\"1\" class=\"dataframe\">\n",
       "  <thead>\n",
       "    <tr style=\"text-align: right;\">\n",
       "      <th></th>\n",
       "      <th>pn_num</th>\n",
       "      <th>annotation</th>\n",
       "      <th>location</th>\n",
       "      <th>feature_num</th>\n",
       "      <th>start_location</th>\n",
       "      <th>end_location</th>\n",
       "    </tr>\n",
       "  </thead>\n",
       "  <tbody>\n",
       "    <tr>\n",
       "      <th>0</th>\n",
       "      <td>16</td>\n",
       "      <td>'dad with recent heart attcak'</td>\n",
       "      <td>'696 724'</td>\n",
       "      <td>0</td>\n",
       "      <td>696</td>\n",
       "      <td>724</td>\n",
       "    </tr>\n",
       "    <tr>\n",
       "      <th>1</th>\n",
       "      <td>16</td>\n",
       "      <td>'mom with \"thyroid disease'</td>\n",
       "      <td>'668 693'</td>\n",
       "      <td>1</td>\n",
       "      <td>668</td>\n",
       "      <td>693</td>\n",
       "    </tr>\n",
       "    <tr>\n",
       "      <th>2</th>\n",
       "      <td>16</td>\n",
       "      <td>'chest pressure'</td>\n",
       "      <td>'203 217'</td>\n",
       "      <td>2</td>\n",
       "      <td>203</td>\n",
       "      <td>217</td>\n",
       "    </tr>\n",
       "    <tr>\n",
       "      <th>3</th>\n",
       "      <td>16</td>\n",
       "      <td>'intermittent episodes'</td>\n",
       "      <td>'70 91'</td>\n",
       "      <td>3</td>\n",
       "      <td>70</td>\n",
       "      <td>91</td>\n",
       "    </tr>\n",
       "    <tr>\n",
       "      <th>4</th>\n",
       "      <td>16</td>\n",
       "      <td>'episode'</td>\n",
       "      <td>'176 183'</td>\n",
       "      <td>3</td>\n",
       "      <td>176</td>\n",
       "      <td>183</td>\n",
       "    </tr>\n",
       "    <tr>\n",
       "      <th>...</th>\n",
       "      <td>...</td>\n",
       "      <td>...</td>\n",
       "      <td>...</td>\n",
       "      <td>...</td>\n",
       "      <td>...</td>\n",
       "      <td>...</td>\n",
       "    </tr>\n",
       "    <tr>\n",
       "      <th>1198</th>\n",
       "      <td>2436</td>\n",
       "      <td>'chest palpitations'</td>\n",
       "      <td>'71 89'</td>\n",
       "      <td>9</td>\n",
       "      <td>71</td>\n",
       "      <td>89</td>\n",
       "    </tr>\n",
       "    <tr>\n",
       "      <th>1199</th>\n",
       "      <td>2436</td>\n",
       "      <td>'chest palpitations'</td>\n",
       "      <td>'109 127'</td>\n",
       "      <td>9</td>\n",
       "      <td>109</td>\n",
       "      <td>127</td>\n",
       "    </tr>\n",
       "    <tr>\n",
       "      <th>1200</th>\n",
       "      <td>2436</td>\n",
       "      <td>'2-3 month'</td>\n",
       "      <td>'50 59'</td>\n",
       "      <td>10</td>\n",
       "      <td>50</td>\n",
       "      <td>59</td>\n",
       "    </tr>\n",
       "    <tr>\n",
       "      <th>1201</th>\n",
       "      <td>2436</td>\n",
       "      <td>'17 year old'</td>\n",
       "      <td>'26 37'</td>\n",
       "      <td>11</td>\n",
       "      <td>26</td>\n",
       "      <td>37</td>\n",
       "    </tr>\n",
       "    <tr>\n",
       "      <th>1202</th>\n",
       "      <td>2436</td>\n",
       "      <td>'male'</td>\n",
       "      <td>'38 42'</td>\n",
       "      <td>12</td>\n",
       "      <td>38</td>\n",
       "      <td>42</td>\n",
       "    </tr>\n",
       "  </tbody>\n",
       "</table>\n",
       "<p>1203 rows × 6 columns</p>\n",
       "</div>"
      ],
      "text/plain": [
       "      pn_num                      annotation    location  feature_num  \\\n",
       "0         16  'dad with recent heart attcak'   '696 724'            0   \n",
       "1         16     'mom with \"thyroid disease'   '668 693'            1   \n",
       "2         16                'chest pressure'   '203 217'            2   \n",
       "3         16         'intermittent episodes'     '70 91'            3   \n",
       "4         16                       'episode'   '176 183'            3   \n",
       "...      ...                             ...         ...          ...   \n",
       "1198    2436            'chest palpitations'     '71 89'            9   \n",
       "1199    2436            'chest palpitations'   '109 127'            9   \n",
       "1200    2436                     '2-3 month'     '50 59'           10   \n",
       "1201    2436                   '17 year old'     '26 37'           11   \n",
       "1202    2436                          'male'     '38 42'           12   \n",
       "\n",
       "     start_location end_location  \n",
       "0               696          724  \n",
       "1               668          693  \n",
       "2               203          217  \n",
       "3                70           91  \n",
       "4               176          183  \n",
       "...             ...          ...  \n",
       "1198             71           89  \n",
       "1199            109          127  \n",
       "1200             50           59  \n",
       "1201             26           37  \n",
       "1202             38           42  \n",
       "\n",
       "[1203 rows x 6 columns]"
      ]
     },
     "execution_count": 23,
     "metadata": {},
     "output_type": "execute_result"
    }
   ],
   "source": [
    "case_0_train[\"start_location\"] = case_0_train[\"location\"].apply(lambda x: x.split()[0][1:])\n",
    "case_0_train[\"end_location\"] = case_0_train[\"location\"].apply(lambda x: x.split()[-1][:-1])\n",
    "case_0_train"
   ]
  },
  {
   "cell_type": "code",
   "execution_count": 24,
   "id": "64a82de1",
   "metadata": {},
   "outputs": [
    {
     "data": {
      "text/plain": [
       "(1443, 6)"
      ]
     },
     "execution_count": 24,
     "metadata": {},
     "output_type": "execute_result"
    }
   ],
   "source": [
    "case_0 = pd.concat([case_0_train, df_4, df_5, df_8,df_9])\n",
    "case_0.shape"
   ]
  },
  {
   "cell_type": "code",
   "execution_count": 25,
   "id": "61b59833",
   "metadata": {},
   "outputs": [
    {
     "data": {
      "text/html": [
       "<div>\n",
       "<style scoped>\n",
       "    .dataframe tbody tr th:only-of-type {\n",
       "        vertical-align: middle;\n",
       "    }\n",
       "\n",
       "    .dataframe tbody tr th {\n",
       "        vertical-align: top;\n",
       "    }\n",
       "\n",
       "    .dataframe thead th {\n",
       "        text-align: right;\n",
       "    }\n",
       "</style>\n",
       "<table border=\"1\" class=\"dataframe\">\n",
       "  <thead>\n",
       "    <tr style=\"text-align: right;\">\n",
       "      <th></th>\n",
       "      <th>pn_num</th>\n",
       "      <th>annotation</th>\n",
       "      <th>location</th>\n",
       "      <th>feature_num</th>\n",
       "      <th>start_location</th>\n",
       "      <th>end_location</th>\n",
       "      <th>case_num</th>\n",
       "      <th>pn_history</th>\n",
       "    </tr>\n",
       "  </thead>\n",
       "  <tbody>\n",
       "    <tr>\n",
       "      <th>0</th>\n",
       "      <td>16</td>\n",
       "      <td>'dad with recent heart attcak'</td>\n",
       "      <td>'696 724'</td>\n",
       "      <td>0</td>\n",
       "      <td>696</td>\n",
       "      <td>724</td>\n",
       "      <td>0</td>\n",
       "      <td>HPI: 17yo M presents with palpitations. Patien...</td>\n",
       "    </tr>\n",
       "    <tr>\n",
       "      <th>1</th>\n",
       "      <td>16</td>\n",
       "      <td>'mom with \"thyroid disease'</td>\n",
       "      <td>'668 693'</td>\n",
       "      <td>1</td>\n",
       "      <td>668</td>\n",
       "      <td>693</td>\n",
       "      <td>0</td>\n",
       "      <td>HPI: 17yo M presents with palpitations. Patien...</td>\n",
       "    </tr>\n",
       "    <tr>\n",
       "      <th>2</th>\n",
       "      <td>16</td>\n",
       "      <td>'chest pressure'</td>\n",
       "      <td>'203 217'</td>\n",
       "      <td>2</td>\n",
       "      <td>203</td>\n",
       "      <td>217</td>\n",
       "      <td>0</td>\n",
       "      <td>HPI: 17yo M presents with palpitations. Patien...</td>\n",
       "    </tr>\n",
       "    <tr>\n",
       "      <th>3</th>\n",
       "      <td>16</td>\n",
       "      <td>'intermittent episodes'</td>\n",
       "      <td>'70 91'</td>\n",
       "      <td>3</td>\n",
       "      <td>70</td>\n",
       "      <td>91</td>\n",
       "      <td>0</td>\n",
       "      <td>HPI: 17yo M presents with palpitations. Patien...</td>\n",
       "    </tr>\n",
       "    <tr>\n",
       "      <th>4</th>\n",
       "      <td>16</td>\n",
       "      <td>'episode'</td>\n",
       "      <td>'176 183'</td>\n",
       "      <td>3</td>\n",
       "      <td>176</td>\n",
       "      <td>183</td>\n",
       "      <td>0</td>\n",
       "      <td>HPI: 17yo M presents with palpitations. Patien...</td>\n",
       "    </tr>\n",
       "    <tr>\n",
       "      <th>...</th>\n",
       "      <td>...</td>\n",
       "      <td>...</td>\n",
       "      <td>...</td>\n",
       "      <td>...</td>\n",
       "      <td>...</td>\n",
       "      <td>...</td>\n",
       "      <td>...</td>\n",
       "      <td>...</td>\n",
       "    </tr>\n",
       "    <tr>\n",
       "      <th>1438</th>\n",
       "      <td>520</td>\n",
       "      <td>'palpitation'</td>\n",
       "      <td>'30 41'</td>\n",
       "      <td>9</td>\n",
       "      <td>30</td>\n",
       "      <td>41</td>\n",
       "      <td>0</td>\n",
       "      <td>Consent givenbymom17 yo M c/o palpitations sin...</td>\n",
       "    </tr>\n",
       "    <tr>\n",
       "      <th>1439</th>\n",
       "      <td>2351</td>\n",
       "      <td>'palpitations'</td>\n",
       "      <td>'65 77'</td>\n",
       "      <td>9</td>\n",
       "      <td>65</td>\n",
       "      <td>77</td>\n",
       "      <td>0</td>\n",
       "      <td>17 year old male who presents with several mon...</td>\n",
       "    </tr>\n",
       "    <tr>\n",
       "      <th>1440</th>\n",
       "      <td>563</td>\n",
       "      <td>'palpitations'</td>\n",
       "      <td>'24 36'</td>\n",
       "      <td>9</td>\n",
       "      <td>24</td>\n",
       "      <td>36</td>\n",
       "      <td>0</td>\n",
       "      <td>17 yo M presenting with palpitations. This has...</td>\n",
       "    </tr>\n",
       "    <tr>\n",
       "      <th>1441</th>\n",
       "      <td>1840</td>\n",
       "      <td>'heart is going to jump out of his chest'</td>\n",
       "      <td>'104 143'</td>\n",
       "      <td>9</td>\n",
       "      <td>104</td>\n",
       "      <td>143</td>\n",
       "      <td>0</td>\n",
       "      <td>Mr. Cleveland is a 17 y/o M presenting with 2-...</td>\n",
       "    </tr>\n",
       "    <tr>\n",
       "      <th>1442</th>\n",
       "      <td>1757</td>\n",
       "      <td>'palpitations'</td>\n",
       "      <td>'60 72'</td>\n",
       "      <td>9</td>\n",
       "      <td>60</td>\n",
       "      <td>72</td>\n",
       "      <td>0</td>\n",
       "      <td>Dillon Cleveland is a 17 yo M who presents wit...</td>\n",
       "    </tr>\n",
       "  </tbody>\n",
       "</table>\n",
       "<p>1443 rows × 8 columns</p>\n",
       "</div>"
      ],
      "text/plain": [
       "      pn_num                                  annotation    location  \\\n",
       "0         16              'dad with recent heart attcak'   '696 724'   \n",
       "1         16                 'mom with \"thyroid disease'   '668 693'   \n",
       "2         16                            'chest pressure'   '203 217'   \n",
       "3         16                     'intermittent episodes'     '70 91'   \n",
       "4         16                                   'episode'   '176 183'   \n",
       "...      ...                                         ...         ...   \n",
       "1438     520                               'palpitation'     '30 41'   \n",
       "1439    2351                              'palpitations'     '65 77'   \n",
       "1440     563                              'palpitations'     '24 36'   \n",
       "1441    1840   'heart is going to jump out of his chest'   '104 143'   \n",
       "1442    1757                              'palpitations'     '60 72'   \n",
       "\n",
       "      feature_num start_location end_location  case_num  \\\n",
       "0               0            696          724         0   \n",
       "1               1            668          693         0   \n",
       "2               2            203          217         0   \n",
       "3               3             70           91         0   \n",
       "4               3            176          183         0   \n",
       "...           ...            ...          ...       ...   \n",
       "1438            9             30           41         0   \n",
       "1439            9             65           77         0   \n",
       "1440            9             24           36         0   \n",
       "1441            9            104          143         0   \n",
       "1442            9             60           72         0   \n",
       "\n",
       "                                             pn_history  \n",
       "0     HPI: 17yo M presents with palpitations. Patien...  \n",
       "1     HPI: 17yo M presents with palpitations. Patien...  \n",
       "2     HPI: 17yo M presents with palpitations. Patien...  \n",
       "3     HPI: 17yo M presents with palpitations. Patien...  \n",
       "4     HPI: 17yo M presents with palpitations. Patien...  \n",
       "...                                                 ...  \n",
       "1438  Consent givenbymom17 yo M c/o palpitations sin...  \n",
       "1439  17 year old male who presents with several mon...  \n",
       "1440  17 yo M presenting with palpitations. This has...  \n",
       "1441  Mr. Cleveland is a 17 y/o M presenting with 2-...  \n",
       "1442  Dillon Cleveland is a 17 yo M who presents wit...  \n",
       "\n",
       "[1443 rows x 8 columns]"
      ]
     },
     "execution_count": 25,
     "metadata": {},
     "output_type": "execute_result"
    }
   ],
   "source": [
    "case_0 = case_0.merge(patient_notes, on='pn_num', how='left')\n",
    "case_0"
   ]
  },
  {
   "cell_type": "code",
   "execution_count": 26,
   "id": "21e39f77",
   "metadata": {},
   "outputs": [
    {
     "data": {
      "text/html": [
       "<div>\n",
       "<style scoped>\n",
       "    .dataframe tbody tr th:only-of-type {\n",
       "        vertical-align: middle;\n",
       "    }\n",
       "\n",
       "    .dataframe tbody tr th {\n",
       "        vertical-align: top;\n",
       "    }\n",
       "\n",
       "    .dataframe thead th {\n",
       "        text-align: right;\n",
       "    }\n",
       "</style>\n",
       "<table border=\"1\" class=\"dataframe\">\n",
       "  <thead>\n",
       "    <tr style=\"text-align: right;\">\n",
       "      <th></th>\n",
       "      <th>pn_num</th>\n",
       "      <th>annotation</th>\n",
       "      <th>location</th>\n",
       "      <th>feature_num</th>\n",
       "      <th>start_location</th>\n",
       "      <th>end_location</th>\n",
       "      <th>case_num</th>\n",
       "      <th>pn_history</th>\n",
       "      <th>New_annotation</th>\n",
       "    </tr>\n",
       "  </thead>\n",
       "  <tbody>\n",
       "    <tr>\n",
       "      <th>0</th>\n",
       "      <td>16</td>\n",
       "      <td>'dad with recent heart attcak'</td>\n",
       "      <td>'696 724'</td>\n",
       "      <td>0</td>\n",
       "      <td>696</td>\n",
       "      <td>724</td>\n",
       "      <td>0</td>\n",
       "      <td>HPI: 17yo M presents with palpitations. Patien...</td>\n",
       "      <td>dad with recent heart attcak</td>\n",
       "    </tr>\n",
       "    <tr>\n",
       "      <th>1</th>\n",
       "      <td>16</td>\n",
       "      <td>'mom with \"thyroid disease'</td>\n",
       "      <td>'668 693'</td>\n",
       "      <td>1</td>\n",
       "      <td>668</td>\n",
       "      <td>693</td>\n",
       "      <td>0</td>\n",
       "      <td>HPI: 17yo M presents with palpitations. Patien...</td>\n",
       "      <td>mom with \"thyroid disease</td>\n",
       "    </tr>\n",
       "    <tr>\n",
       "      <th>2</th>\n",
       "      <td>16</td>\n",
       "      <td>'chest pressure'</td>\n",
       "      <td>'203 217'</td>\n",
       "      <td>2</td>\n",
       "      <td>203</td>\n",
       "      <td>217</td>\n",
       "      <td>0</td>\n",
       "      <td>HPI: 17yo M presents with palpitations. Patien...</td>\n",
       "      <td>chest pressure</td>\n",
       "    </tr>\n",
       "    <tr>\n",
       "      <th>3</th>\n",
       "      <td>16</td>\n",
       "      <td>'intermittent episodes'</td>\n",
       "      <td>'70 91'</td>\n",
       "      <td>3</td>\n",
       "      <td>70</td>\n",
       "      <td>91</td>\n",
       "      <td>0</td>\n",
       "      <td>HPI: 17yo M presents with palpitations. Patien...</td>\n",
       "      <td>intermittent episodes</td>\n",
       "    </tr>\n",
       "    <tr>\n",
       "      <th>4</th>\n",
       "      <td>16</td>\n",
       "      <td>'episode'</td>\n",
       "      <td>'176 183'</td>\n",
       "      <td>3</td>\n",
       "      <td>176</td>\n",
       "      <td>183</td>\n",
       "      <td>0</td>\n",
       "      <td>HPI: 17yo M presents with palpitations. Patien...</td>\n",
       "      <td>episode</td>\n",
       "    </tr>\n",
       "  </tbody>\n",
       "</table>\n",
       "</div>"
      ],
      "text/plain": [
       "   pn_num                      annotation    location  feature_num  \\\n",
       "0      16  'dad with recent heart attcak'   '696 724'            0   \n",
       "1      16     'mom with \"thyroid disease'   '668 693'            1   \n",
       "2      16                'chest pressure'   '203 217'            2   \n",
       "3      16         'intermittent episodes'     '70 91'            3   \n",
       "4      16                       'episode'   '176 183'            3   \n",
       "\n",
       "  start_location end_location  case_num  \\\n",
       "0            696          724         0   \n",
       "1            668          693         0   \n",
       "2            203          217         0   \n",
       "3             70           91         0   \n",
       "4            176          183         0   \n",
       "\n",
       "                                          pn_history  \\\n",
       "0  HPI: 17yo M presents with palpitations. Patien...   \n",
       "1  HPI: 17yo M presents with palpitations. Patien...   \n",
       "2  HPI: 17yo M presents with palpitations. Patien...   \n",
       "3  HPI: 17yo M presents with palpitations. Patien...   \n",
       "4  HPI: 17yo M presents with palpitations. Patien...   \n",
       "\n",
       "                 New_annotation  \n",
       "0  dad with recent heart attcak  \n",
       "1     mom with \"thyroid disease  \n",
       "2                chest pressure  \n",
       "3         intermittent episodes  \n",
       "4                       episode  "
      ]
     },
     "execution_count": 26,
     "metadata": {},
     "output_type": "execute_result"
    }
   ],
   "source": [
    "case_0[\"New_annotation\"] = case_0.apply(lambda x: x.pn_history[int(x.start_location):int(x.end_location)],axis=1)\n",
    "case_0.head()"
   ]
  },
  {
   "cell_type": "code",
   "execution_count": 27,
   "id": "dd8ed978",
   "metadata": {},
   "outputs": [
    {
     "data": {
      "text/html": [
       "<div>\n",
       "<style scoped>\n",
       "    .dataframe tbody tr th:only-of-type {\n",
       "        vertical-align: middle;\n",
       "    }\n",
       "\n",
       "    .dataframe tbody tr th {\n",
       "        vertical-align: top;\n",
       "    }\n",
       "\n",
       "    .dataframe thead th {\n",
       "        text-align: right;\n",
       "    }\n",
       "</style>\n",
       "<table border=\"1\" class=\"dataframe\">\n",
       "  <thead>\n",
       "    <tr style=\"text-align: right;\">\n",
       "      <th></th>\n",
       "      <th>pn_num</th>\n",
       "      <th>annotation</th>\n",
       "      <th>location</th>\n",
       "      <th>feature_num</th>\n",
       "      <th>start_location</th>\n",
       "      <th>end_location</th>\n",
       "      <th>case_num</th>\n",
       "      <th>pn_history</th>\n",
       "      <th>New_annotation</th>\n",
       "    </tr>\n",
       "  </thead>\n",
       "  <tbody>\n",
       "    <tr>\n",
       "      <th>0</th>\n",
       "      <td>16</td>\n",
       "      <td>'dad with recent heart attcak'</td>\n",
       "      <td>'696 724'</td>\n",
       "      <td>0</td>\n",
       "      <td>696</td>\n",
       "      <td>724</td>\n",
       "      <td>0</td>\n",
       "      <td>HPI: 17yo M presents with palpitations. Patien...</td>\n",
       "      <td>dad with recent heart attcak</td>\n",
       "    </tr>\n",
       "    <tr>\n",
       "      <th>1</th>\n",
       "      <td>16</td>\n",
       "      <td>'mom with \"thyroid disease'</td>\n",
       "      <td>'668 693'</td>\n",
       "      <td>1</td>\n",
       "      <td>668</td>\n",
       "      <td>693</td>\n",
       "      <td>0</td>\n",
       "      <td>HPI: 17yo M presents with palpitations. Patien...</td>\n",
       "      <td>mom with  thyroid disease</td>\n",
       "    </tr>\n",
       "    <tr>\n",
       "      <th>2</th>\n",
       "      <td>16</td>\n",
       "      <td>'chest pressure'</td>\n",
       "      <td>'203 217'</td>\n",
       "      <td>2</td>\n",
       "      <td>203</td>\n",
       "      <td>217</td>\n",
       "      <td>0</td>\n",
       "      <td>HPI: 17yo M presents with palpitations. Patien...</td>\n",
       "      <td>chest pressure</td>\n",
       "    </tr>\n",
       "    <tr>\n",
       "      <th>3</th>\n",
       "      <td>16</td>\n",
       "      <td>'intermittent episodes'</td>\n",
       "      <td>'70 91'</td>\n",
       "      <td>3</td>\n",
       "      <td>70</td>\n",
       "      <td>91</td>\n",
       "      <td>0</td>\n",
       "      <td>HPI: 17yo M presents with palpitations. Patien...</td>\n",
       "      <td>intermittent episodes</td>\n",
       "    </tr>\n",
       "    <tr>\n",
       "      <th>4</th>\n",
       "      <td>16</td>\n",
       "      <td>'episode'</td>\n",
       "      <td>'176 183'</td>\n",
       "      <td>3</td>\n",
       "      <td>176</td>\n",
       "      <td>183</td>\n",
       "      <td>0</td>\n",
       "      <td>HPI: 17yo M presents with palpitations. Patien...</td>\n",
       "      <td>episode</td>\n",
       "    </tr>\n",
       "    <tr>\n",
       "      <th>...</th>\n",
       "      <td>...</td>\n",
       "      <td>...</td>\n",
       "      <td>...</td>\n",
       "      <td>...</td>\n",
       "      <td>...</td>\n",
       "      <td>...</td>\n",
       "      <td>...</td>\n",
       "      <td>...</td>\n",
       "      <td>...</td>\n",
       "    </tr>\n",
       "    <tr>\n",
       "      <th>1438</th>\n",
       "      <td>520</td>\n",
       "      <td>'palpitation'</td>\n",
       "      <td>'30 41'</td>\n",
       "      <td>9</td>\n",
       "      <td>30</td>\n",
       "      <td>41</td>\n",
       "      <td>0</td>\n",
       "      <td>Consent givenbymom17 yo M c/o palpitations sin...</td>\n",
       "      <td>palpitation</td>\n",
       "    </tr>\n",
       "    <tr>\n",
       "      <th>1439</th>\n",
       "      <td>2351</td>\n",
       "      <td>'palpitations'</td>\n",
       "      <td>'65 77'</td>\n",
       "      <td>9</td>\n",
       "      <td>65</td>\n",
       "      <td>77</td>\n",
       "      <td>0</td>\n",
       "      <td>17 year old male who presents with several mon...</td>\n",
       "      <td>palpitations</td>\n",
       "    </tr>\n",
       "    <tr>\n",
       "      <th>1440</th>\n",
       "      <td>563</td>\n",
       "      <td>'palpitations'</td>\n",
       "      <td>'24 36'</td>\n",
       "      <td>9</td>\n",
       "      <td>24</td>\n",
       "      <td>36</td>\n",
       "      <td>0</td>\n",
       "      <td>17 yo M presenting with palpitations. This has...</td>\n",
       "      <td>palpitations</td>\n",
       "    </tr>\n",
       "    <tr>\n",
       "      <th>1441</th>\n",
       "      <td>1840</td>\n",
       "      <td>'heart is going to jump out of his chest'</td>\n",
       "      <td>'104 143'</td>\n",
       "      <td>9</td>\n",
       "      <td>104</td>\n",
       "      <td>143</td>\n",
       "      <td>0</td>\n",
       "      <td>Mr. Cleveland is a 17 y/o M presenting with 2-...</td>\n",
       "      <td>heart is going to jump out of his chest</td>\n",
       "    </tr>\n",
       "    <tr>\n",
       "      <th>1442</th>\n",
       "      <td>1757</td>\n",
       "      <td>'palpitations'</td>\n",
       "      <td>'60 72'</td>\n",
       "      <td>9</td>\n",
       "      <td>60</td>\n",
       "      <td>72</td>\n",
       "      <td>0</td>\n",
       "      <td>Dillon Cleveland is a 17 yo M who presents wit...</td>\n",
       "      <td>palpitations</td>\n",
       "    </tr>\n",
       "  </tbody>\n",
       "</table>\n",
       "<p>1443 rows × 9 columns</p>\n",
       "</div>"
      ],
      "text/plain": [
       "      pn_num                                  annotation    location  \\\n",
       "0         16              'dad with recent heart attcak'   '696 724'   \n",
       "1         16                 'mom with \"thyroid disease'   '668 693'   \n",
       "2         16                            'chest pressure'   '203 217'   \n",
       "3         16                     'intermittent episodes'     '70 91'   \n",
       "4         16                                   'episode'   '176 183'   \n",
       "...      ...                                         ...         ...   \n",
       "1438     520                               'palpitation'     '30 41'   \n",
       "1439    2351                              'palpitations'     '65 77'   \n",
       "1440     563                              'palpitations'     '24 36'   \n",
       "1441    1840   'heart is going to jump out of his chest'   '104 143'   \n",
       "1442    1757                              'palpitations'     '60 72'   \n",
       "\n",
       "      feature_num start_location end_location  case_num  \\\n",
       "0               0            696          724         0   \n",
       "1               1            668          693         0   \n",
       "2               2            203          217         0   \n",
       "3               3             70           91         0   \n",
       "4               3            176          183         0   \n",
       "...           ...            ...          ...       ...   \n",
       "1438            9             30           41         0   \n",
       "1439            9             65           77         0   \n",
       "1440            9             24           36         0   \n",
       "1441            9            104          143         0   \n",
       "1442            9             60           72         0   \n",
       "\n",
       "                                             pn_history  \\\n",
       "0     HPI: 17yo M presents with palpitations. Patien...   \n",
       "1     HPI: 17yo M presents with palpitations. Patien...   \n",
       "2     HPI: 17yo M presents with palpitations. Patien...   \n",
       "3     HPI: 17yo M presents with palpitations. Patien...   \n",
       "4     HPI: 17yo M presents with palpitations. Patien...   \n",
       "...                                                 ...   \n",
       "1438  Consent givenbymom17 yo M c/o palpitations sin...   \n",
       "1439  17 year old male who presents with several mon...   \n",
       "1440  17 yo M presenting with palpitations. This has...   \n",
       "1441  Mr. Cleveland is a 17 y/o M presenting with 2-...   \n",
       "1442  Dillon Cleveland is a 17 yo M who presents wit...   \n",
       "\n",
       "                               New_annotation  \n",
       "0                dad with recent heart attcak  \n",
       "1                   mom with  thyroid disease  \n",
       "2                              chest pressure  \n",
       "3                       intermittent episodes  \n",
       "4                                     episode  \n",
       "...                                       ...  \n",
       "1438                              palpitation  \n",
       "1439                             palpitations  \n",
       "1440                             palpitations  \n",
       "1441  heart is going to jump out of his chest  \n",
       "1442                             palpitations  \n",
       "\n",
       "[1443 rows x 9 columns]"
      ]
     },
     "execution_count": 27,
     "metadata": {},
     "output_type": "execute_result"
    }
   ],
   "source": [
    "case_0[\"New_annotation\"] = case_0[\"New_annotation\"].apply(lambda x: re.sub(r'''[/\"+,()\\r\\n]''',' ',x))\n",
    "case_0[\"New_annotation\"] = case_0[\"New_annotation\"].apply(lambda x: re.sub(r'''[']''','',x))\n",
    "case_0[\"New_annotation\"] = case_0[\"New_annotation\"].apply(lambda x: x.strip())\n",
    "case_0"
   ]
  },
  {
   "cell_type": "code",
   "execution_count": 28,
   "id": "92b5397c",
   "metadata": {
    "scrolled": true
   },
   "outputs": [
    {
     "data": {
      "text/html": [
       "<div>\n",
       "<style scoped>\n",
       "    .dataframe tbody tr th:only-of-type {\n",
       "        vertical-align: middle;\n",
       "    }\n",
       "\n",
       "    .dataframe tbody tr th {\n",
       "        vertical-align: top;\n",
       "    }\n",
       "\n",
       "    .dataframe thead th {\n",
       "        text-align: right;\n",
       "    }\n",
       "</style>\n",
       "<table border=\"1\" class=\"dataframe\">\n",
       "  <thead>\n",
       "    <tr style=\"text-align: right;\">\n",
       "      <th></th>\n",
       "      <th>pn_num</th>\n",
       "      <th>annotation</th>\n",
       "      <th>location</th>\n",
       "      <th>feature_num</th>\n",
       "      <th>start_location</th>\n",
       "      <th>end_location</th>\n",
       "      <th>case_num</th>\n",
       "      <th>pn_history</th>\n",
       "      <th>New_annotation</th>\n",
       "      <th>New_pn_history</th>\n",
       "    </tr>\n",
       "  </thead>\n",
       "  <tbody>\n",
       "    <tr>\n",
       "      <th>0</th>\n",
       "      <td>16</td>\n",
       "      <td>'dad with recent heart attcak'</td>\n",
       "      <td>'696 724'</td>\n",
       "      <td>0</td>\n",
       "      <td>696</td>\n",
       "      <td>724</td>\n",
       "      <td>0</td>\n",
       "      <td>HPI: 17yo M presents with palpitations. Patien...</td>\n",
       "      <td>dad with recent heart attcak</td>\n",
       "      <td>HPI: 17yo M presents with palpitations. Patien...</td>\n",
       "    </tr>\n",
       "    <tr>\n",
       "      <th>1</th>\n",
       "      <td>16</td>\n",
       "      <td>'mom with \"thyroid disease'</td>\n",
       "      <td>'668 693'</td>\n",
       "      <td>1</td>\n",
       "      <td>668</td>\n",
       "      <td>693</td>\n",
       "      <td>0</td>\n",
       "      <td>HPI: 17yo M presents with palpitations. Patien...</td>\n",
       "      <td>mom with  thyroid disease</td>\n",
       "      <td>HPI: 17yo M presents with palpitations. Patien...</td>\n",
       "    </tr>\n",
       "    <tr>\n",
       "      <th>2</th>\n",
       "      <td>16</td>\n",
       "      <td>'chest pressure'</td>\n",
       "      <td>'203 217'</td>\n",
       "      <td>2</td>\n",
       "      <td>203</td>\n",
       "      <td>217</td>\n",
       "      <td>0</td>\n",
       "      <td>HPI: 17yo M presents with palpitations. Patien...</td>\n",
       "      <td>chest pressure</td>\n",
       "      <td>HPI: 17yo M presents with palpitations. Patien...</td>\n",
       "    </tr>\n",
       "    <tr>\n",
       "      <th>3</th>\n",
       "      <td>16</td>\n",
       "      <td>'intermittent episodes'</td>\n",
       "      <td>'70 91'</td>\n",
       "      <td>3</td>\n",
       "      <td>70</td>\n",
       "      <td>91</td>\n",
       "      <td>0</td>\n",
       "      <td>HPI: 17yo M presents with palpitations. Patien...</td>\n",
       "      <td>intermittent episodes</td>\n",
       "      <td>HPI: 17yo M presents with palpitations. Patien...</td>\n",
       "    </tr>\n",
       "    <tr>\n",
       "      <th>4</th>\n",
       "      <td>16</td>\n",
       "      <td>'episode'</td>\n",
       "      <td>'176 183'</td>\n",
       "      <td>3</td>\n",
       "      <td>176</td>\n",
       "      <td>183</td>\n",
       "      <td>0</td>\n",
       "      <td>HPI: 17yo M presents with palpitations. Patien...</td>\n",
       "      <td>episode</td>\n",
       "      <td>HPI: 17yo M presents with palpitations. Patien...</td>\n",
       "    </tr>\n",
       "    <tr>\n",
       "      <th>...</th>\n",
       "      <td>...</td>\n",
       "      <td>...</td>\n",
       "      <td>...</td>\n",
       "      <td>...</td>\n",
       "      <td>...</td>\n",
       "      <td>...</td>\n",
       "      <td>...</td>\n",
       "      <td>...</td>\n",
       "      <td>...</td>\n",
       "      <td>...</td>\n",
       "    </tr>\n",
       "    <tr>\n",
       "      <th>1438</th>\n",
       "      <td>520</td>\n",
       "      <td>'palpitation'</td>\n",
       "      <td>'30 41'</td>\n",
       "      <td>9</td>\n",
       "      <td>30</td>\n",
       "      <td>41</td>\n",
       "      <td>0</td>\n",
       "      <td>Consent givenbymom17 yo M c/o palpitations sin...</td>\n",
       "      <td>palpitation</td>\n",
       "      <td>Consent givenbymom17 yo M c o palpitations sin...</td>\n",
       "    </tr>\n",
       "    <tr>\n",
       "      <th>1439</th>\n",
       "      <td>2351</td>\n",
       "      <td>'palpitations'</td>\n",
       "      <td>'65 77'</td>\n",
       "      <td>9</td>\n",
       "      <td>65</td>\n",
       "      <td>77</td>\n",
       "      <td>0</td>\n",
       "      <td>17 year old male who presents with several mon...</td>\n",
       "      <td>palpitations</td>\n",
       "      <td>17 year old male who presents with several mon...</td>\n",
       "    </tr>\n",
       "    <tr>\n",
       "      <th>1440</th>\n",
       "      <td>563</td>\n",
       "      <td>'palpitations'</td>\n",
       "      <td>'24 36'</td>\n",
       "      <td>9</td>\n",
       "      <td>24</td>\n",
       "      <td>36</td>\n",
       "      <td>0</td>\n",
       "      <td>17 yo M presenting with palpitations. This has...</td>\n",
       "      <td>palpitations</td>\n",
       "      <td>17 yo M presenting with palpitations. This has...</td>\n",
       "    </tr>\n",
       "    <tr>\n",
       "      <th>1441</th>\n",
       "      <td>1840</td>\n",
       "      <td>'heart is going to jump out of his chest'</td>\n",
       "      <td>'104 143'</td>\n",
       "      <td>9</td>\n",
       "      <td>104</td>\n",
       "      <td>143</td>\n",
       "      <td>0</td>\n",
       "      <td>Mr. Cleveland is a 17 y/o M presenting with 2-...</td>\n",
       "      <td>heart is going to jump out of his chest</td>\n",
       "      <td>Mr. Cleveland is a 17 y o M presenting with 2-...</td>\n",
       "    </tr>\n",
       "    <tr>\n",
       "      <th>1442</th>\n",
       "      <td>1757</td>\n",
       "      <td>'palpitations'</td>\n",
       "      <td>'60 72'</td>\n",
       "      <td>9</td>\n",
       "      <td>60</td>\n",
       "      <td>72</td>\n",
       "      <td>0</td>\n",
       "      <td>Dillon Cleveland is a 17 yo M who presents wit...</td>\n",
       "      <td>palpitations</td>\n",
       "      <td>Dillon Cleveland is a 17 yo M who presents wit...</td>\n",
       "    </tr>\n",
       "  </tbody>\n",
       "</table>\n",
       "<p>1443 rows × 10 columns</p>\n",
       "</div>"
      ],
      "text/plain": [
       "      pn_num                                  annotation    location  \\\n",
       "0         16              'dad with recent heart attcak'   '696 724'   \n",
       "1         16                 'mom with \"thyroid disease'   '668 693'   \n",
       "2         16                            'chest pressure'   '203 217'   \n",
       "3         16                     'intermittent episodes'     '70 91'   \n",
       "4         16                                   'episode'   '176 183'   \n",
       "...      ...                                         ...         ...   \n",
       "1438     520                               'palpitation'     '30 41'   \n",
       "1439    2351                              'palpitations'     '65 77'   \n",
       "1440     563                              'palpitations'     '24 36'   \n",
       "1441    1840   'heart is going to jump out of his chest'   '104 143'   \n",
       "1442    1757                              'palpitations'     '60 72'   \n",
       "\n",
       "      feature_num start_location end_location  case_num  \\\n",
       "0               0            696          724         0   \n",
       "1               1            668          693         0   \n",
       "2               2            203          217         0   \n",
       "3               3             70           91         0   \n",
       "4               3            176          183         0   \n",
       "...           ...            ...          ...       ...   \n",
       "1438            9             30           41         0   \n",
       "1439            9             65           77         0   \n",
       "1440            9             24           36         0   \n",
       "1441            9            104          143         0   \n",
       "1442            9             60           72         0   \n",
       "\n",
       "                                             pn_history  \\\n",
       "0     HPI: 17yo M presents with palpitations. Patien...   \n",
       "1     HPI: 17yo M presents with palpitations. Patien...   \n",
       "2     HPI: 17yo M presents with palpitations. Patien...   \n",
       "3     HPI: 17yo M presents with palpitations. Patien...   \n",
       "4     HPI: 17yo M presents with palpitations. Patien...   \n",
       "...                                                 ...   \n",
       "1438  Consent givenbymom17 yo M c/o palpitations sin...   \n",
       "1439  17 year old male who presents with several mon...   \n",
       "1440  17 yo M presenting with palpitations. This has...   \n",
       "1441  Mr. Cleveland is a 17 y/o M presenting with 2-...   \n",
       "1442  Dillon Cleveland is a 17 yo M who presents wit...   \n",
       "\n",
       "                               New_annotation  \\\n",
       "0                dad with recent heart attcak   \n",
       "1                   mom with  thyroid disease   \n",
       "2                              chest pressure   \n",
       "3                       intermittent episodes   \n",
       "4                                     episode   \n",
       "...                                       ...   \n",
       "1438                              palpitation   \n",
       "1439                             palpitations   \n",
       "1440                             palpitations   \n",
       "1441  heart is going to jump out of his chest   \n",
       "1442                             palpitations   \n",
       "\n",
       "                                         New_pn_history  \n",
       "0     HPI: 17yo M presents with palpitations. Patien...  \n",
       "1     HPI: 17yo M presents with palpitations. Patien...  \n",
       "2     HPI: 17yo M presents with palpitations. Patien...  \n",
       "3     HPI: 17yo M presents with palpitations. Patien...  \n",
       "4     HPI: 17yo M presents with palpitations. Patien...  \n",
       "...                                                 ...  \n",
       "1438  Consent givenbymom17 yo M c o palpitations sin...  \n",
       "1439  17 year old male who presents with several mon...  \n",
       "1440  17 yo M presenting with palpitations. This has...  \n",
       "1441  Mr. Cleveland is a 17 y o M presenting with 2-...  \n",
       "1442  Dillon Cleveland is a 17 yo M who presents wit...  \n",
       "\n",
       "[1443 rows x 10 columns]"
      ]
     },
     "execution_count": 28,
     "metadata": {},
     "output_type": "execute_result"
    }
   ],
   "source": [
    "case_0[\"New_pn_history\"] = case_0[\"pn_history\"].apply(lambda x: re.sub(r'''[/\",+()\\r\\n]''',' ',x))\n",
    "case_0[\"New_pn_history\"] = case_0[\"New_pn_history\"].apply(lambda x: re.sub(r'''[']''','',x))\n",
    "case_0"
   ]
  },
  {
   "cell_type": "code",
   "execution_count": 29,
   "id": "b63806ef",
   "metadata": {},
   "outputs": [
    {
     "data": {
      "text/html": [
       "<div>\n",
       "<style scoped>\n",
       "    .dataframe tbody tr th:only-of-type {\n",
       "        vertical-align: middle;\n",
       "    }\n",
       "\n",
       "    .dataframe tbody tr th {\n",
       "        vertical-align: top;\n",
       "    }\n",
       "\n",
       "    .dataframe thead th {\n",
       "        text-align: right;\n",
       "    }\n",
       "</style>\n",
       "<table border=\"1\" class=\"dataframe\">\n",
       "  <thead>\n",
       "    <tr style=\"text-align: right;\">\n",
       "      <th></th>\n",
       "      <th>pn_num</th>\n",
       "      <th>annotation</th>\n",
       "      <th>location</th>\n",
       "      <th>feature_num</th>\n",
       "      <th>start_location</th>\n",
       "      <th>end_location</th>\n",
       "      <th>case_num</th>\n",
       "      <th>pn_history</th>\n",
       "      <th>New_annotation</th>\n",
       "      <th>New_pn_history</th>\n",
       "    </tr>\n",
       "  </thead>\n",
       "  <tbody>\n",
       "    <tr>\n",
       "      <th>0</th>\n",
       "      <td>16</td>\n",
       "      <td>'dad with recent heart attcak'</td>\n",
       "      <td>'696 724'</td>\n",
       "      <td>0</td>\n",
       "      <td>696</td>\n",
       "      <td>724</td>\n",
       "      <td>0</td>\n",
       "      <td>HPI: 17yo M presents with palpitations. Patien...</td>\n",
       "      <td>dad with recent heart attcak</td>\n",
       "      <td>HPI: 17yo M presents with heart poundings. Pat...</td>\n",
       "    </tr>\n",
       "    <tr>\n",
       "      <th>1</th>\n",
       "      <td>16</td>\n",
       "      <td>'mom with \"thyroid disease'</td>\n",
       "      <td>'668 693'</td>\n",
       "      <td>1</td>\n",
       "      <td>668</td>\n",
       "      <td>693</td>\n",
       "      <td>0</td>\n",
       "      <td>HPI: 17yo M presents with palpitations. Patien...</td>\n",
       "      <td>mom with  thyroid disease</td>\n",
       "      <td>HPI: 17yo M presents with heart poundings. Pat...</td>\n",
       "    </tr>\n",
       "    <tr>\n",
       "      <th>2</th>\n",
       "      <td>16</td>\n",
       "      <td>'chest pressure'</td>\n",
       "      <td>'203 217'</td>\n",
       "      <td>2</td>\n",
       "      <td>203</td>\n",
       "      <td>217</td>\n",
       "      <td>0</td>\n",
       "      <td>HPI: 17yo M presents with palpitations. Patien...</td>\n",
       "      <td>chest pressure</td>\n",
       "      <td>HPI: 17yo M presents with heart poundings. Pat...</td>\n",
       "    </tr>\n",
       "    <tr>\n",
       "      <th>3</th>\n",
       "      <td>16</td>\n",
       "      <td>'intermittent episodes'</td>\n",
       "      <td>'70 91'</td>\n",
       "      <td>3</td>\n",
       "      <td>70</td>\n",
       "      <td>91</td>\n",
       "      <td>0</td>\n",
       "      <td>HPI: 17yo M presents with palpitations. Patien...</td>\n",
       "      <td>intermittent episodes</td>\n",
       "      <td>HPI: 17yo M presents with heart poundings. Pat...</td>\n",
       "    </tr>\n",
       "    <tr>\n",
       "      <th>4</th>\n",
       "      <td>16</td>\n",
       "      <td>'episode'</td>\n",
       "      <td>'176 183'</td>\n",
       "      <td>3</td>\n",
       "      <td>176</td>\n",
       "      <td>183</td>\n",
       "      <td>0</td>\n",
       "      <td>HPI: 17yo M presents with palpitations. Patien...</td>\n",
       "      <td>episode</td>\n",
       "      <td>HPI: 17yo M presents with heart poundings. Pat...</td>\n",
       "    </tr>\n",
       "    <tr>\n",
       "      <th>...</th>\n",
       "      <td>...</td>\n",
       "      <td>...</td>\n",
       "      <td>...</td>\n",
       "      <td>...</td>\n",
       "      <td>...</td>\n",
       "      <td>...</td>\n",
       "      <td>...</td>\n",
       "      <td>...</td>\n",
       "      <td>...</td>\n",
       "      <td>...</td>\n",
       "    </tr>\n",
       "    <tr>\n",
       "      <th>1438</th>\n",
       "      <td>520</td>\n",
       "      <td>'palpitation'</td>\n",
       "      <td>'30 41'</td>\n",
       "      <td>9</td>\n",
       "      <td>30</td>\n",
       "      <td>41</td>\n",
       "      <td>0</td>\n",
       "      <td>Consent givenbymom17 yo M c/o palpitations sin...</td>\n",
       "      <td>heart pounding</td>\n",
       "      <td>Consent givenbymom17 yo M c o heart poundings ...</td>\n",
       "    </tr>\n",
       "    <tr>\n",
       "      <th>1439</th>\n",
       "      <td>2351</td>\n",
       "      <td>'palpitations'</td>\n",
       "      <td>'65 77'</td>\n",
       "      <td>9</td>\n",
       "      <td>65</td>\n",
       "      <td>77</td>\n",
       "      <td>0</td>\n",
       "      <td>17 year old male who presents with several mon...</td>\n",
       "      <td>heart poundings</td>\n",
       "      <td>17 year old male who presents with several mon...</td>\n",
       "    </tr>\n",
       "    <tr>\n",
       "      <th>1440</th>\n",
       "      <td>563</td>\n",
       "      <td>'palpitations'</td>\n",
       "      <td>'24 36'</td>\n",
       "      <td>9</td>\n",
       "      <td>24</td>\n",
       "      <td>36</td>\n",
       "      <td>0</td>\n",
       "      <td>17 yo M presenting with palpitations. This has...</td>\n",
       "      <td>heart poundings</td>\n",
       "      <td>17 yo M presenting with heart poundings. This ...</td>\n",
       "    </tr>\n",
       "    <tr>\n",
       "      <th>1441</th>\n",
       "      <td>1840</td>\n",
       "      <td>'heart is going to jump out of his chest'</td>\n",
       "      <td>'104 143'</td>\n",
       "      <td>9</td>\n",
       "      <td>104</td>\n",
       "      <td>143</td>\n",
       "      <td>0</td>\n",
       "      <td>Mr. Cleveland is a 17 y/o M presenting with 2-...</td>\n",
       "      <td>heart is going to jump out of his chest</td>\n",
       "      <td>Mr. Cleveland is a 17 y o M presenting with 2-...</td>\n",
       "    </tr>\n",
       "    <tr>\n",
       "      <th>1442</th>\n",
       "      <td>1757</td>\n",
       "      <td>'palpitations'</td>\n",
       "      <td>'60 72'</td>\n",
       "      <td>9</td>\n",
       "      <td>60</td>\n",
       "      <td>72</td>\n",
       "      <td>0</td>\n",
       "      <td>Dillon Cleveland is a 17 yo M who presents wit...</td>\n",
       "      <td>heart poundings</td>\n",
       "      <td>Dillon Cleveland is a 17 yo M who presents wit...</td>\n",
       "    </tr>\n",
       "  </tbody>\n",
       "</table>\n",
       "<p>1443 rows × 10 columns</p>\n",
       "</div>"
      ],
      "text/plain": [
       "      pn_num                                  annotation    location  \\\n",
       "0         16              'dad with recent heart attcak'   '696 724'   \n",
       "1         16                 'mom with \"thyroid disease'   '668 693'   \n",
       "2         16                            'chest pressure'   '203 217'   \n",
       "3         16                     'intermittent episodes'     '70 91'   \n",
       "4         16                                   'episode'   '176 183'   \n",
       "...      ...                                         ...         ...   \n",
       "1438     520                               'palpitation'     '30 41'   \n",
       "1439    2351                              'palpitations'     '65 77'   \n",
       "1440     563                              'palpitations'     '24 36'   \n",
       "1441    1840   'heart is going to jump out of his chest'   '104 143'   \n",
       "1442    1757                              'palpitations'     '60 72'   \n",
       "\n",
       "      feature_num start_location end_location  case_num  \\\n",
       "0               0            696          724         0   \n",
       "1               1            668          693         0   \n",
       "2               2            203          217         0   \n",
       "3               3             70           91         0   \n",
       "4               3            176          183         0   \n",
       "...           ...            ...          ...       ...   \n",
       "1438            9             30           41         0   \n",
       "1439            9             65           77         0   \n",
       "1440            9             24           36         0   \n",
       "1441            9            104          143         0   \n",
       "1442            9             60           72         0   \n",
       "\n",
       "                                             pn_history  \\\n",
       "0     HPI: 17yo M presents with palpitations. Patien...   \n",
       "1     HPI: 17yo M presents with palpitations. Patien...   \n",
       "2     HPI: 17yo M presents with palpitations. Patien...   \n",
       "3     HPI: 17yo M presents with palpitations. Patien...   \n",
       "4     HPI: 17yo M presents with palpitations. Patien...   \n",
       "...                                                 ...   \n",
       "1438  Consent givenbymom17 yo M c/o palpitations sin...   \n",
       "1439  17 year old male who presents with several mon...   \n",
       "1440  17 yo M presenting with palpitations. This has...   \n",
       "1441  Mr. Cleveland is a 17 y/o M presenting with 2-...   \n",
       "1442  Dillon Cleveland is a 17 yo M who presents wit...   \n",
       "\n",
       "                               New_annotation  \\\n",
       "0                dad with recent heart attcak   \n",
       "1                   mom with  thyroid disease   \n",
       "2                              chest pressure   \n",
       "3                       intermittent episodes   \n",
       "4                                     episode   \n",
       "...                                       ...   \n",
       "1438                           heart pounding   \n",
       "1439                          heart poundings   \n",
       "1440                          heart poundings   \n",
       "1441  heart is going to jump out of his chest   \n",
       "1442                          heart poundings   \n",
       "\n",
       "                                         New_pn_history  \n",
       "0     HPI: 17yo M presents with heart poundings. Pat...  \n",
       "1     HPI: 17yo M presents with heart poundings. Pat...  \n",
       "2     HPI: 17yo M presents with heart poundings. Pat...  \n",
       "3     HPI: 17yo M presents with heart poundings. Pat...  \n",
       "4     HPI: 17yo M presents with heart poundings. Pat...  \n",
       "...                                                 ...  \n",
       "1438  Consent givenbymom17 yo M c o heart poundings ...  \n",
       "1439  17 year old male who presents with several mon...  \n",
       "1440  17 yo M presenting with heart poundings. This ...  \n",
       "1441  Mr. Cleveland is a 17 y o M presenting with 2-...  \n",
       "1442  Dillon Cleveland is a 17 yo M who presents wit...  \n",
       "\n",
       "[1443 rows x 10 columns]"
      ]
     },
     "execution_count": 29,
     "metadata": {},
     "output_type": "execute_result"
    }
   ],
   "source": [
    "case_0[\"New_annotation\"] = case_0.apply(lambda x : x.New_annotation.replace(\"SOB\", \"short of breath\"), axis = 1)\n",
    "case_0[\"New_pn_history\"] = case_0.apply(lambda x : x.New_pn_history.replace(\"SOB\", \"short of breath\"), axis = 1)\n",
    "case_0[\"New_pn_history\"] = case_0.apply(lambda x : x.New_pn_history.replace(\"palpitation\", \"heart pounding\"), axis = 1)\n",
    "case_0[\"New_annotation\"] = case_0.apply(lambda x : x.New_annotation.replace(\"palpitation\", \"heart pounding\"), axis = 1)\n",
    "case_0"
   ]
  },
  {
   "cell_type": "code",
   "execution_count": 30,
   "id": "f15ddbc4",
   "metadata": {},
   "outputs": [],
   "source": [
    "def word_lemm(sentence):\n",
    "    word_list = nltk.word_tokenize(sentence)\n",
    "    \n",
    "    lemmaztier = WordNetLemmatizer()\n",
    "    lemmatized_output = ' '.join([lemmaztier.lemmatize(w) for w in word_list])\n",
    "    return(lemmatized_output)"
   ]
  },
  {
   "cell_type": "code",
   "execution_count": 31,
   "id": "3dfa204d",
   "metadata": {},
   "outputs": [
    {
     "data": {
      "text/html": [
       "<div>\n",
       "<style scoped>\n",
       "    .dataframe tbody tr th:only-of-type {\n",
       "        vertical-align: middle;\n",
       "    }\n",
       "\n",
       "    .dataframe tbody tr th {\n",
       "        vertical-align: top;\n",
       "    }\n",
       "\n",
       "    .dataframe thead th {\n",
       "        text-align: right;\n",
       "    }\n",
       "</style>\n",
       "<table border=\"1\" class=\"dataframe\">\n",
       "  <thead>\n",
       "    <tr style=\"text-align: right;\">\n",
       "      <th></th>\n",
       "      <th>pn_num</th>\n",
       "      <th>annotation</th>\n",
       "      <th>location</th>\n",
       "      <th>feature_num</th>\n",
       "      <th>start_location</th>\n",
       "      <th>end_location</th>\n",
       "      <th>case_num</th>\n",
       "      <th>pn_history</th>\n",
       "      <th>New_annotation</th>\n",
       "      <th>New_pn_history</th>\n",
       "    </tr>\n",
       "  </thead>\n",
       "  <tbody>\n",
       "    <tr>\n",
       "      <th>0</th>\n",
       "      <td>16</td>\n",
       "      <td>'dad with recent heart attcak'</td>\n",
       "      <td>'696 724'</td>\n",
       "      <td>0</td>\n",
       "      <td>696</td>\n",
       "      <td>724</td>\n",
       "      <td>0</td>\n",
       "      <td>HPI: 17yo M presents with palpitations. Patien...</td>\n",
       "      <td>dad with recent heart attcak</td>\n",
       "      <td>HPI : 17yo M present with heart pounding . Pat...</td>\n",
       "    </tr>\n",
       "    <tr>\n",
       "      <th>1</th>\n",
       "      <td>16</td>\n",
       "      <td>'mom with \"thyroid disease'</td>\n",
       "      <td>'668 693'</td>\n",
       "      <td>1</td>\n",
       "      <td>668</td>\n",
       "      <td>693</td>\n",
       "      <td>0</td>\n",
       "      <td>HPI: 17yo M presents with palpitations. Patien...</td>\n",
       "      <td>mom with thyroid disease</td>\n",
       "      <td>HPI : 17yo M present with heart pounding . Pat...</td>\n",
       "    </tr>\n",
       "    <tr>\n",
       "      <th>2</th>\n",
       "      <td>16</td>\n",
       "      <td>'chest pressure'</td>\n",
       "      <td>'203 217'</td>\n",
       "      <td>2</td>\n",
       "      <td>203</td>\n",
       "      <td>217</td>\n",
       "      <td>0</td>\n",
       "      <td>HPI: 17yo M presents with palpitations. Patien...</td>\n",
       "      <td>chest pressure</td>\n",
       "      <td>HPI : 17yo M present with heart pounding . Pat...</td>\n",
       "    </tr>\n",
       "    <tr>\n",
       "      <th>3</th>\n",
       "      <td>16</td>\n",
       "      <td>'intermittent episodes'</td>\n",
       "      <td>'70 91'</td>\n",
       "      <td>3</td>\n",
       "      <td>70</td>\n",
       "      <td>91</td>\n",
       "      <td>0</td>\n",
       "      <td>HPI: 17yo M presents with palpitations. Patien...</td>\n",
       "      <td>intermittent episode</td>\n",
       "      <td>HPI : 17yo M present with heart pounding . Pat...</td>\n",
       "    </tr>\n",
       "    <tr>\n",
       "      <th>4</th>\n",
       "      <td>16</td>\n",
       "      <td>'episode'</td>\n",
       "      <td>'176 183'</td>\n",
       "      <td>3</td>\n",
       "      <td>176</td>\n",
       "      <td>183</td>\n",
       "      <td>0</td>\n",
       "      <td>HPI: 17yo M presents with palpitations. Patien...</td>\n",
       "      <td>episode</td>\n",
       "      <td>HPI : 17yo M present with heart pounding . Pat...</td>\n",
       "    </tr>\n",
       "  </tbody>\n",
       "</table>\n",
       "</div>"
      ],
      "text/plain": [
       "   pn_num                      annotation    location  feature_num  \\\n",
       "0      16  'dad with recent heart attcak'   '696 724'            0   \n",
       "1      16     'mom with \"thyroid disease'   '668 693'            1   \n",
       "2      16                'chest pressure'   '203 217'            2   \n",
       "3      16         'intermittent episodes'     '70 91'            3   \n",
       "4      16                       'episode'   '176 183'            3   \n",
       "\n",
       "  start_location end_location  case_num  \\\n",
       "0            696          724         0   \n",
       "1            668          693         0   \n",
       "2            203          217         0   \n",
       "3             70           91         0   \n",
       "4            176          183         0   \n",
       "\n",
       "                                          pn_history  \\\n",
       "0  HPI: 17yo M presents with palpitations. Patien...   \n",
       "1  HPI: 17yo M presents with palpitations. Patien...   \n",
       "2  HPI: 17yo M presents with palpitations. Patien...   \n",
       "3  HPI: 17yo M presents with palpitations. Patien...   \n",
       "4  HPI: 17yo M presents with palpitations. Patien...   \n",
       "\n",
       "                 New_annotation  \\\n",
       "0  dad with recent heart attcak   \n",
       "1      mom with thyroid disease   \n",
       "2                chest pressure   \n",
       "3          intermittent episode   \n",
       "4                       episode   \n",
       "\n",
       "                                      New_pn_history  \n",
       "0  HPI : 17yo M present with heart pounding . Pat...  \n",
       "1  HPI : 17yo M present with heart pounding . Pat...  \n",
       "2  HPI : 17yo M present with heart pounding . Pat...  \n",
       "3  HPI : 17yo M present with heart pounding . Pat...  \n",
       "4  HPI : 17yo M present with heart pounding . Pat...  "
      ]
     },
     "execution_count": 31,
     "metadata": {},
     "output_type": "execute_result"
    }
   ],
   "source": [
    "case_0[\"New_annotation\"] = case_0[\"New_annotation\"].apply(word_lemm)\n",
    "case_0[\"New_pn_history\"] = case_0[\"New_pn_history\"].apply(word_lemm)\n",
    "case_0.head()"
   ]
  },
  {
   "cell_type": "code",
   "execution_count": 32,
   "id": "f0590581",
   "metadata": {},
   "outputs": [
    {
     "data": {
      "text/html": [
       "<div>\n",
       "<style scoped>\n",
       "    .dataframe tbody tr th:only-of-type {\n",
       "        vertical-align: middle;\n",
       "    }\n",
       "\n",
       "    .dataframe tbody tr th {\n",
       "        vertical-align: top;\n",
       "    }\n",
       "\n",
       "    .dataframe thead th {\n",
       "        text-align: right;\n",
       "    }\n",
       "</style>\n",
       "<table border=\"1\" class=\"dataframe\">\n",
       "  <thead>\n",
       "    <tr style=\"text-align: right;\">\n",
       "      <th></th>\n",
       "      <th>pn_num</th>\n",
       "      <th>annotation</th>\n",
       "      <th>location</th>\n",
       "      <th>feature_num</th>\n",
       "      <th>start_location</th>\n",
       "      <th>end_location</th>\n",
       "      <th>case_num</th>\n",
       "      <th>pn_history</th>\n",
       "      <th>New_annotation</th>\n",
       "      <th>New_pn_history</th>\n",
       "      <th>new_location</th>\n",
       "    </tr>\n",
       "  </thead>\n",
       "  <tbody>\n",
       "    <tr>\n",
       "      <th>0</th>\n",
       "      <td>16</td>\n",
       "      <td>'dad with recent heart attcak'</td>\n",
       "      <td>'696 724'</td>\n",
       "      <td>0</td>\n",
       "      <td>696</td>\n",
       "      <td>724</td>\n",
       "      <td>0</td>\n",
       "      <td>HPI: 17yo M presents with palpitations. Patien...</td>\n",
       "      <td>dad with recent heart attcak</td>\n",
       "      <td>HPI : 17yo M present with heart pounding . Pat...</td>\n",
       "      <td>&lt;re.Match object; span=(666, 694), match='dad ...</td>\n",
       "    </tr>\n",
       "    <tr>\n",
       "      <th>1</th>\n",
       "      <td>16</td>\n",
       "      <td>'mom with \"thyroid disease'</td>\n",
       "      <td>'668 693'</td>\n",
       "      <td>1</td>\n",
       "      <td>668</td>\n",
       "      <td>693</td>\n",
       "      <td>0</td>\n",
       "      <td>HPI: 17yo M presents with palpitations. Patien...</td>\n",
       "      <td>mom with thyroid disease</td>\n",
       "      <td>HPI : 17yo M present with heart pounding . Pat...</td>\n",
       "      <td>&lt;re.Match object; span=(641, 665), match='mom ...</td>\n",
       "    </tr>\n",
       "    <tr>\n",
       "      <th>2</th>\n",
       "      <td>16</td>\n",
       "      <td>'chest pressure'</td>\n",
       "      <td>'203 217'</td>\n",
       "      <td>2</td>\n",
       "      <td>203</td>\n",
       "      <td>217</td>\n",
       "      <td>0</td>\n",
       "      <td>HPI: 17yo M presents with palpitations. Patien...</td>\n",
       "      <td>chest pressure</td>\n",
       "      <td>HPI : 17yo M present with heart pounding . Pat...</td>\n",
       "      <td>&lt;re.Match object; span=(200, 214), match='ches...</td>\n",
       "    </tr>\n",
       "    <tr>\n",
       "      <th>3</th>\n",
       "      <td>16</td>\n",
       "      <td>'intermittent episodes'</td>\n",
       "      <td>'70 91'</td>\n",
       "      <td>3</td>\n",
       "      <td>70</td>\n",
       "      <td>91</td>\n",
       "      <td>0</td>\n",
       "      <td>HPI: 17yo M presents with palpitations. Patien...</td>\n",
       "      <td>intermittent episode</td>\n",
       "      <td>HPI : 17yo M present with heart pounding . Pat...</td>\n",
       "      <td>&lt;re.Match object; span=(71, 91), match='interm...</td>\n",
       "    </tr>\n",
       "    <tr>\n",
       "      <th>4</th>\n",
       "      <td>16</td>\n",
       "      <td>'episode'</td>\n",
       "      <td>'176 183'</td>\n",
       "      <td>3</td>\n",
       "      <td>176</td>\n",
       "      <td>183</td>\n",
       "      <td>0</td>\n",
       "      <td>HPI: 17yo M presents with palpitations. Patien...</td>\n",
       "      <td>episode</td>\n",
       "      <td>HPI : 17yo M present with heart pounding . Pat...</td>\n",
       "      <td>&lt;re.Match object; span=(84, 91), match='episode'&gt;</td>\n",
       "    </tr>\n",
       "    <tr>\n",
       "      <th>...</th>\n",
       "      <td>...</td>\n",
       "      <td>...</td>\n",
       "      <td>...</td>\n",
       "      <td>...</td>\n",
       "      <td>...</td>\n",
       "      <td>...</td>\n",
       "      <td>...</td>\n",
       "      <td>...</td>\n",
       "      <td>...</td>\n",
       "      <td>...</td>\n",
       "      <td>...</td>\n",
       "    </tr>\n",
       "    <tr>\n",
       "      <th>1438</th>\n",
       "      <td>520</td>\n",
       "      <td>'palpitation'</td>\n",
       "      <td>'30 41'</td>\n",
       "      <td>9</td>\n",
       "      <td>30</td>\n",
       "      <td>41</td>\n",
       "      <td>0</td>\n",
       "      <td>Consent givenbymom17 yo M c/o palpitations sin...</td>\n",
       "      <td>heart pounding</td>\n",
       "      <td>Consent givenbymom17 yo M c o heart pounding s...</td>\n",
       "      <td>&lt;re.Match object; span=(30, 44), match='heart ...</td>\n",
       "    </tr>\n",
       "    <tr>\n",
       "      <th>1439</th>\n",
       "      <td>2351</td>\n",
       "      <td>'palpitations'</td>\n",
       "      <td>'65 77'</td>\n",
       "      <td>9</td>\n",
       "      <td>65</td>\n",
       "      <td>77</td>\n",
       "      <td>0</td>\n",
       "      <td>17 year old male who presents with several mon...</td>\n",
       "      <td>heart pounding</td>\n",
       "      <td>17 year old male who present with several mont...</td>\n",
       "      <td>&lt;re.Match object; span=(62, 76), match='heart ...</td>\n",
       "    </tr>\n",
       "    <tr>\n",
       "      <th>1440</th>\n",
       "      <td>563</td>\n",
       "      <td>'palpitations'</td>\n",
       "      <td>'24 36'</td>\n",
       "      <td>9</td>\n",
       "      <td>24</td>\n",
       "      <td>36</td>\n",
       "      <td>0</td>\n",
       "      <td>17 yo M presenting with palpitations. This has...</td>\n",
       "      <td>heart pounding</td>\n",
       "      <td>17 yo M presenting with heart pounding . This ...</td>\n",
       "      <td>&lt;re.Match object; span=(24, 38), match='heart ...</td>\n",
       "    </tr>\n",
       "    <tr>\n",
       "      <th>1441</th>\n",
       "      <td>1840</td>\n",
       "      <td>'heart is going to jump out of his chest'</td>\n",
       "      <td>'104 143'</td>\n",
       "      <td>9</td>\n",
       "      <td>104</td>\n",
       "      <td>143</td>\n",
       "      <td>0</td>\n",
       "      <td>Mr. Cleveland is a 17 y/o M presenting with 2-...</td>\n",
       "      <td>heart is going to jump out of his chest</td>\n",
       "      <td>Mr. Cleveland is a 17 y o M presenting with 2-...</td>\n",
       "      <td>&lt;re.Match object; span=(104, 143), match='hear...</td>\n",
       "    </tr>\n",
       "    <tr>\n",
       "      <th>1442</th>\n",
       "      <td>1757</td>\n",
       "      <td>'palpitations'</td>\n",
       "      <td>'60 72'</td>\n",
       "      <td>9</td>\n",
       "      <td>60</td>\n",
       "      <td>72</td>\n",
       "      <td>0</td>\n",
       "      <td>Dillon Cleveland is a 17 yo M who presents wit...</td>\n",
       "      <td>heart pounding</td>\n",
       "      <td>Dillon Cleveland is a 17 yo M who present with...</td>\n",
       "      <td>&lt;re.Match object; span=(58, 72), match='heart ...</td>\n",
       "    </tr>\n",
       "  </tbody>\n",
       "</table>\n",
       "<p>1443 rows × 11 columns</p>\n",
       "</div>"
      ],
      "text/plain": [
       "      pn_num                                  annotation    location  \\\n",
       "0         16              'dad with recent heart attcak'   '696 724'   \n",
       "1         16                 'mom with \"thyroid disease'   '668 693'   \n",
       "2         16                            'chest pressure'   '203 217'   \n",
       "3         16                     'intermittent episodes'     '70 91'   \n",
       "4         16                                   'episode'   '176 183'   \n",
       "...      ...                                         ...         ...   \n",
       "1438     520                               'palpitation'     '30 41'   \n",
       "1439    2351                              'palpitations'     '65 77'   \n",
       "1440     563                              'palpitations'     '24 36'   \n",
       "1441    1840   'heart is going to jump out of his chest'   '104 143'   \n",
       "1442    1757                              'palpitations'     '60 72'   \n",
       "\n",
       "      feature_num start_location end_location  case_num  \\\n",
       "0               0            696          724         0   \n",
       "1               1            668          693         0   \n",
       "2               2            203          217         0   \n",
       "3               3             70           91         0   \n",
       "4               3            176          183         0   \n",
       "...           ...            ...          ...       ...   \n",
       "1438            9             30           41         0   \n",
       "1439            9             65           77         0   \n",
       "1440            9             24           36         0   \n",
       "1441            9            104          143         0   \n",
       "1442            9             60           72         0   \n",
       "\n",
       "                                             pn_history  \\\n",
       "0     HPI: 17yo M presents with palpitations. Patien...   \n",
       "1     HPI: 17yo M presents with palpitations. Patien...   \n",
       "2     HPI: 17yo M presents with palpitations. Patien...   \n",
       "3     HPI: 17yo M presents with palpitations. Patien...   \n",
       "4     HPI: 17yo M presents with palpitations. Patien...   \n",
       "...                                                 ...   \n",
       "1438  Consent givenbymom17 yo M c/o palpitations sin...   \n",
       "1439  17 year old male who presents with several mon...   \n",
       "1440  17 yo M presenting with palpitations. This has...   \n",
       "1441  Mr. Cleveland is a 17 y/o M presenting with 2-...   \n",
       "1442  Dillon Cleveland is a 17 yo M who presents wit...   \n",
       "\n",
       "                               New_annotation  \\\n",
       "0                dad with recent heart attcak   \n",
       "1                    mom with thyroid disease   \n",
       "2                              chest pressure   \n",
       "3                        intermittent episode   \n",
       "4                                     episode   \n",
       "...                                       ...   \n",
       "1438                           heart pounding   \n",
       "1439                           heart pounding   \n",
       "1440                           heart pounding   \n",
       "1441  heart is going to jump out of his chest   \n",
       "1442                           heart pounding   \n",
       "\n",
       "                                         New_pn_history  \\\n",
       "0     HPI : 17yo M present with heart pounding . Pat...   \n",
       "1     HPI : 17yo M present with heart pounding . Pat...   \n",
       "2     HPI : 17yo M present with heart pounding . Pat...   \n",
       "3     HPI : 17yo M present with heart pounding . Pat...   \n",
       "4     HPI : 17yo M present with heart pounding . Pat...   \n",
       "...                                                 ...   \n",
       "1438  Consent givenbymom17 yo M c o heart pounding s...   \n",
       "1439  17 year old male who present with several mont...   \n",
       "1440  17 yo M presenting with heart pounding . This ...   \n",
       "1441  Mr. Cleveland is a 17 y o M presenting with 2-...   \n",
       "1442  Dillon Cleveland is a 17 yo M who present with...   \n",
       "\n",
       "                                           new_location  \n",
       "0     <re.Match object; span=(666, 694), match='dad ...  \n",
       "1     <re.Match object; span=(641, 665), match='mom ...  \n",
       "2     <re.Match object; span=(200, 214), match='ches...  \n",
       "3     <re.Match object; span=(71, 91), match='interm...  \n",
       "4     <re.Match object; span=(84, 91), match='episode'>  \n",
       "...                                                 ...  \n",
       "1438  <re.Match object; span=(30, 44), match='heart ...  \n",
       "1439  <re.Match object; span=(62, 76), match='heart ...  \n",
       "1440  <re.Match object; span=(24, 38), match='heart ...  \n",
       "1441  <re.Match object; span=(104, 143), match='hear...  \n",
       "1442  <re.Match object; span=(58, 72), match='heart ...  \n",
       "\n",
       "[1443 rows x 11 columns]"
      ]
     },
     "execution_count": 32,
     "metadata": {},
     "output_type": "execute_result"
    }
   ],
   "source": [
    "case_0[\"new_location\"] = case_0.apply(lambda x :re.search(r'\\b' + x.New_annotation + r'\\b', x.New_pn_history),axis =1)\n",
    "case_0"
   ]
  },
  {
   "cell_type": "code",
   "execution_count": 33,
   "id": "2916ea0a",
   "metadata": {},
   "outputs": [
    {
     "name": "stdout",
     "output_type": "stream",
     "text": [
      "[319, 375, 476, 477, 582, 634, 635, 777, 937, 1195, 1203, 1206, 1207, 1209, 1214, 1216, 1217, 1218, 1221, 1227, 1229, 1230, 1240, 1244, 1251, 1253, 1255, 1283, 1319, 1334]\n"
     ]
    },
    {
     "data": {
      "text/plain": [
       "(None, 30)"
      ]
     },
     "execution_count": 33,
     "metadata": {},
     "output_type": "execute_result"
    }
   ],
   "source": [
    "drop_index = []\n",
    "for  index,row in case_0.iterrows():\n",
    "    if row[\"new_location\"] == None:\n",
    "        drop_index.append(index)\n",
    "        \n",
    "print(drop_index),len(drop_index)"
   ]
  },
  {
   "cell_type": "code",
   "execution_count": 34,
   "id": "3ecbd107",
   "metadata": {},
   "outputs": [
    {
     "data": {
      "text/html": [
       "<div>\n",
       "<style scoped>\n",
       "    .dataframe tbody tr th:only-of-type {\n",
       "        vertical-align: middle;\n",
       "    }\n",
       "\n",
       "    .dataframe tbody tr th {\n",
       "        vertical-align: top;\n",
       "    }\n",
       "\n",
       "    .dataframe thead th {\n",
       "        text-align: right;\n",
       "    }\n",
       "</style>\n",
       "<table border=\"1\" class=\"dataframe\">\n",
       "  <thead>\n",
       "    <tr style=\"text-align: right;\">\n",
       "      <th></th>\n",
       "      <th>pn_num</th>\n",
       "      <th>annotation</th>\n",
       "      <th>location</th>\n",
       "      <th>feature_num</th>\n",
       "      <th>start_location</th>\n",
       "      <th>end_location</th>\n",
       "      <th>case_num</th>\n",
       "      <th>pn_history</th>\n",
       "      <th>New_annotation</th>\n",
       "      <th>New_pn_history</th>\n",
       "      <th>new_location</th>\n",
       "    </tr>\n",
       "  </thead>\n",
       "  <tbody>\n",
       "    <tr>\n",
       "      <th>0</th>\n",
       "      <td>16</td>\n",
       "      <td>'dad with recent heart attcak'</td>\n",
       "      <td>'696 724'</td>\n",
       "      <td>0</td>\n",
       "      <td>696</td>\n",
       "      <td>724</td>\n",
       "      <td>0</td>\n",
       "      <td>HPI: 17yo M presents with palpitations. Patien...</td>\n",
       "      <td>dad with recent heart attcak</td>\n",
       "      <td>HPI : 17yo M present with heart pounding . Pat...</td>\n",
       "      <td>&lt;re.Match object; span=(666, 694), match='dad ...</td>\n",
       "    </tr>\n",
       "    <tr>\n",
       "      <th>1</th>\n",
       "      <td>16</td>\n",
       "      <td>'mom with \"thyroid disease'</td>\n",
       "      <td>'668 693'</td>\n",
       "      <td>1</td>\n",
       "      <td>668</td>\n",
       "      <td>693</td>\n",
       "      <td>0</td>\n",
       "      <td>HPI: 17yo M presents with palpitations. Patien...</td>\n",
       "      <td>mom with thyroid disease</td>\n",
       "      <td>HPI : 17yo M present with heart pounding . Pat...</td>\n",
       "      <td>&lt;re.Match object; span=(641, 665), match='mom ...</td>\n",
       "    </tr>\n",
       "    <tr>\n",
       "      <th>2</th>\n",
       "      <td>16</td>\n",
       "      <td>'chest pressure'</td>\n",
       "      <td>'203 217'</td>\n",
       "      <td>2</td>\n",
       "      <td>203</td>\n",
       "      <td>217</td>\n",
       "      <td>0</td>\n",
       "      <td>HPI: 17yo M presents with palpitations. Patien...</td>\n",
       "      <td>chest pressure</td>\n",
       "      <td>HPI : 17yo M present with heart pounding . Pat...</td>\n",
       "      <td>&lt;re.Match object; span=(200, 214), match='ches...</td>\n",
       "    </tr>\n",
       "    <tr>\n",
       "      <th>3</th>\n",
       "      <td>16</td>\n",
       "      <td>'intermittent episodes'</td>\n",
       "      <td>'70 91'</td>\n",
       "      <td>3</td>\n",
       "      <td>70</td>\n",
       "      <td>91</td>\n",
       "      <td>0</td>\n",
       "      <td>HPI: 17yo M presents with palpitations. Patien...</td>\n",
       "      <td>intermittent episode</td>\n",
       "      <td>HPI : 17yo M present with heart pounding . Pat...</td>\n",
       "      <td>&lt;re.Match object; span=(71, 91), match='interm...</td>\n",
       "    </tr>\n",
       "    <tr>\n",
       "      <th>4</th>\n",
       "      <td>16</td>\n",
       "      <td>'episode'</td>\n",
       "      <td>'176 183'</td>\n",
       "      <td>3</td>\n",
       "      <td>176</td>\n",
       "      <td>183</td>\n",
       "      <td>0</td>\n",
       "      <td>HPI: 17yo M presents with palpitations. Patien...</td>\n",
       "      <td>episode</td>\n",
       "      <td>HPI : 17yo M present with heart pounding . Pat...</td>\n",
       "      <td>&lt;re.Match object; span=(84, 91), match='episode'&gt;</td>\n",
       "    </tr>\n",
       "    <tr>\n",
       "      <th>...</th>\n",
       "      <td>...</td>\n",
       "      <td>...</td>\n",
       "      <td>...</td>\n",
       "      <td>...</td>\n",
       "      <td>...</td>\n",
       "      <td>...</td>\n",
       "      <td>...</td>\n",
       "      <td>...</td>\n",
       "      <td>...</td>\n",
       "      <td>...</td>\n",
       "      <td>...</td>\n",
       "    </tr>\n",
       "    <tr>\n",
       "      <th>1438</th>\n",
       "      <td>520</td>\n",
       "      <td>'palpitation'</td>\n",
       "      <td>'30 41'</td>\n",
       "      <td>9</td>\n",
       "      <td>30</td>\n",
       "      <td>41</td>\n",
       "      <td>0</td>\n",
       "      <td>Consent givenbymom17 yo M c/o palpitations sin...</td>\n",
       "      <td>heart pounding</td>\n",
       "      <td>Consent givenbymom17 yo M c o heart pounding s...</td>\n",
       "      <td>&lt;re.Match object; span=(30, 44), match='heart ...</td>\n",
       "    </tr>\n",
       "    <tr>\n",
       "      <th>1439</th>\n",
       "      <td>2351</td>\n",
       "      <td>'palpitations'</td>\n",
       "      <td>'65 77'</td>\n",
       "      <td>9</td>\n",
       "      <td>65</td>\n",
       "      <td>77</td>\n",
       "      <td>0</td>\n",
       "      <td>17 year old male who presents with several mon...</td>\n",
       "      <td>heart pounding</td>\n",
       "      <td>17 year old male who present with several mont...</td>\n",
       "      <td>&lt;re.Match object; span=(62, 76), match='heart ...</td>\n",
       "    </tr>\n",
       "    <tr>\n",
       "      <th>1440</th>\n",
       "      <td>563</td>\n",
       "      <td>'palpitations'</td>\n",
       "      <td>'24 36'</td>\n",
       "      <td>9</td>\n",
       "      <td>24</td>\n",
       "      <td>36</td>\n",
       "      <td>0</td>\n",
       "      <td>17 yo M presenting with palpitations. This has...</td>\n",
       "      <td>heart pounding</td>\n",
       "      <td>17 yo M presenting with heart pounding . This ...</td>\n",
       "      <td>&lt;re.Match object; span=(24, 38), match='heart ...</td>\n",
       "    </tr>\n",
       "    <tr>\n",
       "      <th>1441</th>\n",
       "      <td>1840</td>\n",
       "      <td>'heart is going to jump out of his chest'</td>\n",
       "      <td>'104 143'</td>\n",
       "      <td>9</td>\n",
       "      <td>104</td>\n",
       "      <td>143</td>\n",
       "      <td>0</td>\n",
       "      <td>Mr. Cleveland is a 17 y/o M presenting with 2-...</td>\n",
       "      <td>heart is going to jump out of his chest</td>\n",
       "      <td>Mr. Cleveland is a 17 y o M presenting with 2-...</td>\n",
       "      <td>&lt;re.Match object; span=(104, 143), match='hear...</td>\n",
       "    </tr>\n",
       "    <tr>\n",
       "      <th>1442</th>\n",
       "      <td>1757</td>\n",
       "      <td>'palpitations'</td>\n",
       "      <td>'60 72'</td>\n",
       "      <td>9</td>\n",
       "      <td>60</td>\n",
       "      <td>72</td>\n",
       "      <td>0</td>\n",
       "      <td>Dillon Cleveland is a 17 yo M who presents wit...</td>\n",
       "      <td>heart pounding</td>\n",
       "      <td>Dillon Cleveland is a 17 yo M who present with...</td>\n",
       "      <td>&lt;re.Match object; span=(58, 72), match='heart ...</td>\n",
       "    </tr>\n",
       "  </tbody>\n",
       "</table>\n",
       "<p>1413 rows × 11 columns</p>\n",
       "</div>"
      ],
      "text/plain": [
       "      pn_num                                  annotation    location  \\\n",
       "0         16              'dad with recent heart attcak'   '696 724'   \n",
       "1         16                 'mom with \"thyroid disease'   '668 693'   \n",
       "2         16                            'chest pressure'   '203 217'   \n",
       "3         16                     'intermittent episodes'     '70 91'   \n",
       "4         16                                   'episode'   '176 183'   \n",
       "...      ...                                         ...         ...   \n",
       "1438     520                               'palpitation'     '30 41'   \n",
       "1439    2351                              'palpitations'     '65 77'   \n",
       "1440     563                              'palpitations'     '24 36'   \n",
       "1441    1840   'heart is going to jump out of his chest'   '104 143'   \n",
       "1442    1757                              'palpitations'     '60 72'   \n",
       "\n",
       "      feature_num start_location end_location  case_num  \\\n",
       "0               0            696          724         0   \n",
       "1               1            668          693         0   \n",
       "2               2            203          217         0   \n",
       "3               3             70           91         0   \n",
       "4               3            176          183         0   \n",
       "...           ...            ...          ...       ...   \n",
       "1438            9             30           41         0   \n",
       "1439            9             65           77         0   \n",
       "1440            9             24           36         0   \n",
       "1441            9            104          143         0   \n",
       "1442            9             60           72         0   \n",
       "\n",
       "                                             pn_history  \\\n",
       "0     HPI: 17yo M presents with palpitations. Patien...   \n",
       "1     HPI: 17yo M presents with palpitations. Patien...   \n",
       "2     HPI: 17yo M presents with palpitations. Patien...   \n",
       "3     HPI: 17yo M presents with palpitations. Patien...   \n",
       "4     HPI: 17yo M presents with palpitations. Patien...   \n",
       "...                                                 ...   \n",
       "1438  Consent givenbymom17 yo M c/o palpitations sin...   \n",
       "1439  17 year old male who presents with several mon...   \n",
       "1440  17 yo M presenting with palpitations. This has...   \n",
       "1441  Mr. Cleveland is a 17 y/o M presenting with 2-...   \n",
       "1442  Dillon Cleveland is a 17 yo M who presents wit...   \n",
       "\n",
       "                               New_annotation  \\\n",
       "0                dad with recent heart attcak   \n",
       "1                    mom with thyroid disease   \n",
       "2                              chest pressure   \n",
       "3                        intermittent episode   \n",
       "4                                     episode   \n",
       "...                                       ...   \n",
       "1438                           heart pounding   \n",
       "1439                           heart pounding   \n",
       "1440                           heart pounding   \n",
       "1441  heart is going to jump out of his chest   \n",
       "1442                           heart pounding   \n",
       "\n",
       "                                         New_pn_history  \\\n",
       "0     HPI : 17yo M present with heart pounding . Pat...   \n",
       "1     HPI : 17yo M present with heart pounding . Pat...   \n",
       "2     HPI : 17yo M present with heart pounding . Pat...   \n",
       "3     HPI : 17yo M present with heart pounding . Pat...   \n",
       "4     HPI : 17yo M present with heart pounding . Pat...   \n",
       "...                                                 ...   \n",
       "1438  Consent givenbymom17 yo M c o heart pounding s...   \n",
       "1439  17 year old male who present with several mont...   \n",
       "1440  17 yo M presenting with heart pounding . This ...   \n",
       "1441  Mr. Cleveland is a 17 y o M presenting with 2-...   \n",
       "1442  Dillon Cleveland is a 17 yo M who present with...   \n",
       "\n",
       "                                           new_location  \n",
       "0     <re.Match object; span=(666, 694), match='dad ...  \n",
       "1     <re.Match object; span=(641, 665), match='mom ...  \n",
       "2     <re.Match object; span=(200, 214), match='ches...  \n",
       "3     <re.Match object; span=(71, 91), match='interm...  \n",
       "4     <re.Match object; span=(84, 91), match='episode'>  \n",
       "...                                                 ...  \n",
       "1438  <re.Match object; span=(30, 44), match='heart ...  \n",
       "1439  <re.Match object; span=(62, 76), match='heart ...  \n",
       "1440  <re.Match object; span=(24, 38), match='heart ...  \n",
       "1441  <re.Match object; span=(104, 143), match='hear...  \n",
       "1442  <re.Match object; span=(58, 72), match='heart ...  \n",
       "\n",
       "[1413 rows x 11 columns]"
      ]
     },
     "execution_count": 34,
     "metadata": {},
     "output_type": "execute_result"
    }
   ],
   "source": [
    "case_0 = case_0.drop(drop_index,axis = 0)\n",
    "case_0"
   ]
  },
  {
   "cell_type": "code",
   "execution_count": 35,
   "id": "a1571d59",
   "metadata": {},
   "outputs": [
    {
     "data": {
      "text/html": [
       "<div>\n",
       "<style scoped>\n",
       "    .dataframe tbody tr th:only-of-type {\n",
       "        vertical-align: middle;\n",
       "    }\n",
       "\n",
       "    .dataframe tbody tr th {\n",
       "        vertical-align: top;\n",
       "    }\n",
       "\n",
       "    .dataframe thead th {\n",
       "        text-align: right;\n",
       "    }\n",
       "</style>\n",
       "<table border=\"1\" class=\"dataframe\">\n",
       "  <thead>\n",
       "    <tr style=\"text-align: right;\">\n",
       "      <th></th>\n",
       "      <th>pn_num</th>\n",
       "      <th>annotation</th>\n",
       "      <th>location</th>\n",
       "      <th>feature_num</th>\n",
       "      <th>start_location</th>\n",
       "      <th>end_location</th>\n",
       "      <th>case_num</th>\n",
       "      <th>pn_history</th>\n",
       "      <th>New_annotation</th>\n",
       "      <th>New_pn_history</th>\n",
       "      <th>new_location</th>\n",
       "    </tr>\n",
       "  </thead>\n",
       "  <tbody>\n",
       "    <tr>\n",
       "      <th>0</th>\n",
       "      <td>16</td>\n",
       "      <td>'dad with recent heart attcak'</td>\n",
       "      <td>'696 724'</td>\n",
       "      <td>0</td>\n",
       "      <td>666</td>\n",
       "      <td>694</td>\n",
       "      <td>0</td>\n",
       "      <td>HPI: 17yo M presents with palpitations. Patien...</td>\n",
       "      <td>dad with recent heart attcak</td>\n",
       "      <td>HPI : 17yo M present with heart pounding . Pat...</td>\n",
       "      <td>&lt;re.Match object; span=(666, 694), match='dad ...</td>\n",
       "    </tr>\n",
       "    <tr>\n",
       "      <th>1</th>\n",
       "      <td>16</td>\n",
       "      <td>'mom with \"thyroid disease'</td>\n",
       "      <td>'668 693'</td>\n",
       "      <td>1</td>\n",
       "      <td>641</td>\n",
       "      <td>665</td>\n",
       "      <td>0</td>\n",
       "      <td>HPI: 17yo M presents with palpitations. Patien...</td>\n",
       "      <td>mom with thyroid disease</td>\n",
       "      <td>HPI : 17yo M present with heart pounding . Pat...</td>\n",
       "      <td>&lt;re.Match object; span=(641, 665), match='mom ...</td>\n",
       "    </tr>\n",
       "    <tr>\n",
       "      <th>2</th>\n",
       "      <td>16</td>\n",
       "      <td>'chest pressure'</td>\n",
       "      <td>'203 217'</td>\n",
       "      <td>2</td>\n",
       "      <td>200</td>\n",
       "      <td>214</td>\n",
       "      <td>0</td>\n",
       "      <td>HPI: 17yo M presents with palpitations. Patien...</td>\n",
       "      <td>chest pressure</td>\n",
       "      <td>HPI : 17yo M present with heart pounding . Pat...</td>\n",
       "      <td>&lt;re.Match object; span=(200, 214), match='ches...</td>\n",
       "    </tr>\n",
       "    <tr>\n",
       "      <th>3</th>\n",
       "      <td>16</td>\n",
       "      <td>'intermittent episodes'</td>\n",
       "      <td>'70 91'</td>\n",
       "      <td>3</td>\n",
       "      <td>71</td>\n",
       "      <td>91</td>\n",
       "      <td>0</td>\n",
       "      <td>HPI: 17yo M presents with palpitations. Patien...</td>\n",
       "      <td>intermittent episode</td>\n",
       "      <td>HPI : 17yo M present with heart pounding . Pat...</td>\n",
       "      <td>&lt;re.Match object; span=(71, 91), match='interm...</td>\n",
       "    </tr>\n",
       "    <tr>\n",
       "      <th>4</th>\n",
       "      <td>16</td>\n",
       "      <td>'episode'</td>\n",
       "      <td>'176 183'</td>\n",
       "      <td>3</td>\n",
       "      <td>84</td>\n",
       "      <td>91</td>\n",
       "      <td>0</td>\n",
       "      <td>HPI: 17yo M presents with palpitations. Patien...</td>\n",
       "      <td>episode</td>\n",
       "      <td>HPI : 17yo M present with heart pounding . Pat...</td>\n",
       "      <td>&lt;re.Match object; span=(84, 91), match='episode'&gt;</td>\n",
       "    </tr>\n",
       "    <tr>\n",
       "      <th>...</th>\n",
       "      <td>...</td>\n",
       "      <td>...</td>\n",
       "      <td>...</td>\n",
       "      <td>...</td>\n",
       "      <td>...</td>\n",
       "      <td>...</td>\n",
       "      <td>...</td>\n",
       "      <td>...</td>\n",
       "      <td>...</td>\n",
       "      <td>...</td>\n",
       "      <td>...</td>\n",
       "    </tr>\n",
       "    <tr>\n",
       "      <th>1438</th>\n",
       "      <td>520</td>\n",
       "      <td>'palpitation'</td>\n",
       "      <td>'30 41'</td>\n",
       "      <td>9</td>\n",
       "      <td>30</td>\n",
       "      <td>44</td>\n",
       "      <td>0</td>\n",
       "      <td>Consent givenbymom17 yo M c/o palpitations sin...</td>\n",
       "      <td>heart pounding</td>\n",
       "      <td>Consent givenbymom17 yo M c o heart pounding s...</td>\n",
       "      <td>&lt;re.Match object; span=(30, 44), match='heart ...</td>\n",
       "    </tr>\n",
       "    <tr>\n",
       "      <th>1439</th>\n",
       "      <td>2351</td>\n",
       "      <td>'palpitations'</td>\n",
       "      <td>'65 77'</td>\n",
       "      <td>9</td>\n",
       "      <td>62</td>\n",
       "      <td>76</td>\n",
       "      <td>0</td>\n",
       "      <td>17 year old male who presents with several mon...</td>\n",
       "      <td>heart pounding</td>\n",
       "      <td>17 year old male who present with several mont...</td>\n",
       "      <td>&lt;re.Match object; span=(62, 76), match='heart ...</td>\n",
       "    </tr>\n",
       "    <tr>\n",
       "      <th>1440</th>\n",
       "      <td>563</td>\n",
       "      <td>'palpitations'</td>\n",
       "      <td>'24 36'</td>\n",
       "      <td>9</td>\n",
       "      <td>24</td>\n",
       "      <td>38</td>\n",
       "      <td>0</td>\n",
       "      <td>17 yo M presenting with palpitations. This has...</td>\n",
       "      <td>heart pounding</td>\n",
       "      <td>17 yo M presenting with heart pounding . This ...</td>\n",
       "      <td>&lt;re.Match object; span=(24, 38), match='heart ...</td>\n",
       "    </tr>\n",
       "    <tr>\n",
       "      <th>1441</th>\n",
       "      <td>1840</td>\n",
       "      <td>'heart is going to jump out of his chest'</td>\n",
       "      <td>'104 143'</td>\n",
       "      <td>9</td>\n",
       "      <td>104</td>\n",
       "      <td>143</td>\n",
       "      <td>0</td>\n",
       "      <td>Mr. Cleveland is a 17 y/o M presenting with 2-...</td>\n",
       "      <td>heart is going to jump out of his chest</td>\n",
       "      <td>Mr. Cleveland is a 17 y o M presenting with 2-...</td>\n",
       "      <td>&lt;re.Match object; span=(104, 143), match='hear...</td>\n",
       "    </tr>\n",
       "    <tr>\n",
       "      <th>1442</th>\n",
       "      <td>1757</td>\n",
       "      <td>'palpitations'</td>\n",
       "      <td>'60 72'</td>\n",
       "      <td>9</td>\n",
       "      <td>58</td>\n",
       "      <td>72</td>\n",
       "      <td>0</td>\n",
       "      <td>Dillon Cleveland is a 17 yo M who presents wit...</td>\n",
       "      <td>heart pounding</td>\n",
       "      <td>Dillon Cleveland is a 17 yo M who present with...</td>\n",
       "      <td>&lt;re.Match object; span=(58, 72), match='heart ...</td>\n",
       "    </tr>\n",
       "  </tbody>\n",
       "</table>\n",
       "<p>1413 rows × 11 columns</p>\n",
       "</div>"
      ],
      "text/plain": [
       "      pn_num                                  annotation    location  \\\n",
       "0         16              'dad with recent heart attcak'   '696 724'   \n",
       "1         16                 'mom with \"thyroid disease'   '668 693'   \n",
       "2         16                            'chest pressure'   '203 217'   \n",
       "3         16                     'intermittent episodes'     '70 91'   \n",
       "4         16                                   'episode'   '176 183'   \n",
       "...      ...                                         ...         ...   \n",
       "1438     520                               'palpitation'     '30 41'   \n",
       "1439    2351                              'palpitations'     '65 77'   \n",
       "1440     563                              'palpitations'     '24 36'   \n",
       "1441    1840   'heart is going to jump out of his chest'   '104 143'   \n",
       "1442    1757                              'palpitations'     '60 72'   \n",
       "\n",
       "      feature_num  start_location  end_location  case_num  \\\n",
       "0               0             666           694         0   \n",
       "1               1             641           665         0   \n",
       "2               2             200           214         0   \n",
       "3               3              71            91         0   \n",
       "4               3              84            91         0   \n",
       "...           ...             ...           ...       ...   \n",
       "1438            9              30            44         0   \n",
       "1439            9              62            76         0   \n",
       "1440            9              24            38         0   \n",
       "1441            9             104           143         0   \n",
       "1442            9              58            72         0   \n",
       "\n",
       "                                             pn_history  \\\n",
       "0     HPI: 17yo M presents with palpitations. Patien...   \n",
       "1     HPI: 17yo M presents with palpitations. Patien...   \n",
       "2     HPI: 17yo M presents with palpitations. Patien...   \n",
       "3     HPI: 17yo M presents with palpitations. Patien...   \n",
       "4     HPI: 17yo M presents with palpitations. Patien...   \n",
       "...                                                 ...   \n",
       "1438  Consent givenbymom17 yo M c/o palpitations sin...   \n",
       "1439  17 year old male who presents with several mon...   \n",
       "1440  17 yo M presenting with palpitations. This has...   \n",
       "1441  Mr. Cleveland is a 17 y/o M presenting with 2-...   \n",
       "1442  Dillon Cleveland is a 17 yo M who presents wit...   \n",
       "\n",
       "                               New_annotation  \\\n",
       "0                dad with recent heart attcak   \n",
       "1                    mom with thyroid disease   \n",
       "2                              chest pressure   \n",
       "3                        intermittent episode   \n",
       "4                                     episode   \n",
       "...                                       ...   \n",
       "1438                           heart pounding   \n",
       "1439                           heart pounding   \n",
       "1440                           heart pounding   \n",
       "1441  heart is going to jump out of his chest   \n",
       "1442                           heart pounding   \n",
       "\n",
       "                                         New_pn_history  \\\n",
       "0     HPI : 17yo M present with heart pounding . Pat...   \n",
       "1     HPI : 17yo M present with heart pounding . Pat...   \n",
       "2     HPI : 17yo M present with heart pounding . Pat...   \n",
       "3     HPI : 17yo M present with heart pounding . Pat...   \n",
       "4     HPI : 17yo M present with heart pounding . Pat...   \n",
       "...                                                 ...   \n",
       "1438  Consent givenbymom17 yo M c o heart pounding s...   \n",
       "1439  17 year old male who present with several mont...   \n",
       "1440  17 yo M presenting with heart pounding . This ...   \n",
       "1441  Mr. Cleveland is a 17 y o M presenting with 2-...   \n",
       "1442  Dillon Cleveland is a 17 yo M who present with...   \n",
       "\n",
       "                                           new_location  \n",
       "0     <re.Match object; span=(666, 694), match='dad ...  \n",
       "1     <re.Match object; span=(641, 665), match='mom ...  \n",
       "2     <re.Match object; span=(200, 214), match='ches...  \n",
       "3     <re.Match object; span=(71, 91), match='interm...  \n",
       "4     <re.Match object; span=(84, 91), match='episode'>  \n",
       "...                                                 ...  \n",
       "1438  <re.Match object; span=(30, 44), match='heart ...  \n",
       "1439  <re.Match object; span=(62, 76), match='heart ...  \n",
       "1440  <re.Match object; span=(24, 38), match='heart ...  \n",
       "1441  <re.Match object; span=(104, 143), match='hear...  \n",
       "1442  <re.Match object; span=(58, 72), match='heart ...  \n",
       "\n",
       "[1413 rows x 11 columns]"
      ]
     },
     "execution_count": 35,
     "metadata": {},
     "output_type": "execute_result"
    }
   ],
   "source": [
    "case_0[\"start_location\"] = case_0.apply(lambda x :re.search(r'\\b' + x.New_annotation + r'\\b', x.New_pn_history).start(),axis =1)\n",
    "case_0[\"end_location\"] = case_0.apply(lambda x :re.search(r'\\b' + x.New_annotation + r'\\b', x.New_pn_history).end(),axis =1)\n",
    "case_0"
   ]
  },
  {
   "cell_type": "code",
   "execution_count": 36,
   "id": "1546da00",
   "metadata": {},
   "outputs": [],
   "source": [
    "case_0 = case_0.drop(index = 161, axis = 0)\n",
    "case_0 = case_0.drop(index = 87, axis = 0)\n",
    "case_0 = case_0.drop(index = 164, axis = 0)\n",
    "case_0 = case_0.drop(index = 248, axis = 0)\n",
    "case_0 = case_0.drop(index = 4, axis = 0)\n",
    "case_0 = case_0.drop(index = 76, axis = 0)\n",
    "case_0 = case_0.drop(index = 127, axis = 0)\n",
    "case_0 = case_0.drop(index = 141, axis = 0)\n",
    "case_0 = case_0.drop(index = 197, axis = 0)\n",
    "case_0 = case_0.drop(index = [231,689], axis = 0)\n",
    "case_0 = case_0.drop(index = [288,389,390], axis = 0)\n",
    "case_0 = case_0.drop(index = [439,438], axis = 0)\n",
    "case_0 = case_0.drop(index = 534, axis = 0)\n",
    "case_0 = case_0.drop(index = 547, axis = 0)\n",
    "case_0 = case_0.drop(index = 575, axis = 0)\n",
    "case_0 = case_0.drop(index = 714, axis = 0)\n",
    "case_0 = case_0.drop(index = [728,1141], axis = 0)\n",
    "case_0 = case_0.drop(index = 847, axis = 0)\n",
    "case_0 = case_0.drop(index = [980,979], axis = 0)\n",
    "case_0 = case_0.drop(index = 176, axis = 0)\n",
    "case_0 = case_0.drop(index = 251, axis = 0)\n",
    "case_0 = case_0.drop(index = 307, axis = 0)\n",
    "case_0 = case_0.drop(index = 550, axis = 0)\n",
    "case_0 = case_0.drop(index = 604, axis = 0)\n",
    "case_0 = case_0.drop(index = 617, axis = 0)\n",
    "case_0 = case_0.drop(index = 693, axis = 0)\n",
    "case_0 = case_0.drop(index = 1072, axis = 0)\n",
    "case_0 = case_0.drop(index = 8, axis = 0)\n",
    "case_0 = case_0.drop(index = [78,77], axis = 0)\n",
    "case_0 = case_0.drop(index = 187, axis = 0)\n",
    "case_0 = case_0.drop(index = [236,237], axis = 0)\n",
    "case_0 = case_0.drop(index = 279, axis = 0)\n",
    "case_0 = case_0.drop(index = [309,310], axis = 0)\n",
    "case_0 = case_0.drop(index = 338, axis = 0)\n",
    "case_0 = case_0.drop(index = [348,349], axis = 0)\n",
    "case_0 = case_0.drop(index = 393, axis = 0)\n",
    "case_0 = case_0.drop(index = 471, axis = 0)\n",
    "case_0 = case_0.drop(index = 589, axis = 0)\n",
    "case_0 = case_0.drop(index = 732, axis = 0)\n",
    "case_0 = case_0.drop(index = 747, axis = 0)\n",
    "case_0 = case_0.drop(index = 821, axis = 0)\n",
    "case_0 = case_0.drop(index = 874, axis = 0)\n",
    "case_0 = case_0.drop(index = 948, axis = 0)\n",
    "case_0 = case_0.drop(index = 960, axis = 0)\n",
    "case_0 = case_0.drop(index = 1108, axis = 0)\n",
    "case_0 = case_0.drop(index = 119, axis = 0)\n",
    "case_0 = case_0.drop(index = 267, axis = 0)\n",
    "case_0 = case_0.drop(index = 314, axis = 0)\n",
    "case_0 = case_0.drop(index = 495, axis = 0)\n",
    "case_0 = case_0.drop(index = 620, axis = 0)\n",
    "case_0 = case_0.drop(index = 838, axis = 0)\n",
    "case_0 = case_0.drop(index = 1187, axis = 0)\n",
    "case_0 = case_0.drop(index = [31,32], axis = 0)\n",
    "case_0 = case_0.drop(index = 46, axis = 0)\n",
    "case_0 = case_0.drop(index = 58, axis = 0)\n",
    "case_0 = case_0.drop(index = 81, axis = 0)\n",
    "case_0 = case_0.drop(index = [95,99], axis = 0)\n",
    "case_0 = case_0.drop(index = [146,1010], axis = 0)\n",
    "case_0 = case_0.drop(index = 257, axis = 0)\n",
    "case_0 = case_0.drop(index = 327, axis = 0)\n",
    "case_0 = case_0.drop(index = 352, axis = 0)\n",
    "case_0 = case_0.drop(index = 373, axis = 0)\n",
    "case_0 = case_0.drop(index = 526, axis = 0)\n",
    "case_0 = case_0.drop(index = 557, axis = 0)\n",
    "case_0 = case_0.drop(index = 735, axis = 0)\n",
    "case_0 = case_0.drop(index = [750,973], axis = 0)\n",
    "case_0 = case_0.drop(index = 863, axis = 0)\n",
    "case_0 = case_0.drop(index = 910, axis = 0)\n",
    "case_0 = case_0.drop(index = 924, axis = 0)\n",
    "case_0 = case_0.drop(index = 950, axis = 0)\n",
    "case_0 = case_0.drop(index = 1088, axis = 0)\n",
    "case_0 = case_0.drop(index = 1120, axis = 0)\n",
    "case_0 = case_0.drop(index = 1199, axis = 0)\n",
    "case_0 = case_0.drop(index = 60, axis = 0)\n",
    "case_0 = case_0.drop(index = 329, axis = 0)\n",
    "case_0 = case_0.drop(index = 912, axis = 0)"
   ]
  },
  {
   "cell_type": "code",
   "execution_count": 37,
   "id": "2c3932d6",
   "metadata": {},
   "outputs": [],
   "source": [
    "case_0 = case_0.drop(index = 1401, axis = 0)"
   ]
  },
  {
   "cell_type": "code",
   "execution_count": 38,
   "id": "ecdfe5c7",
   "metadata": {},
   "outputs": [],
   "source": [
    "case_0 = case_0.drop(index = 82, axis = 0)"
   ]
  },
  {
   "cell_type": "code",
   "execution_count": 39,
   "id": "f1b07b65",
   "metadata": {},
   "outputs": [],
   "source": [
    "case_0 = case_0.drop(index = 878, axis = 0)"
   ]
  },
  {
   "cell_type": "code",
   "execution_count": 40,
   "id": "246016d3",
   "metadata": {},
   "outputs": [],
   "source": [
    "case_0 = case_0.drop(index = 923, axis = 0)"
   ]
  },
  {
   "cell_type": "code",
   "execution_count": null,
   "id": "876d1a50",
   "metadata": {},
   "outputs": [],
   "source": []
  },
  {
   "cell_type": "code",
   "execution_count": null,
   "id": "e8595f38",
   "metadata": {},
   "outputs": [],
   "source": []
  },
  {
   "cell_type": "code",
   "execution_count": null,
   "id": "bc1a9103",
   "metadata": {},
   "outputs": [],
   "source": []
  },
  {
   "cell_type": "code",
   "execution_count": null,
   "id": "bf23b713",
   "metadata": {},
   "outputs": [],
   "source": []
  },
  {
   "cell_type": "code",
   "execution_count": null,
   "id": "e19668df",
   "metadata": {},
   "outputs": [],
   "source": []
  },
  {
   "cell_type": "markdown",
   "id": "879a7026",
   "metadata": {},
   "source": [
    "### Feature - 0"
   ]
  },
  {
   "cell_type": "code",
   "execution_count": 41,
   "id": "12640474",
   "metadata": {},
   "outputs": [
    {
     "data": {
      "text/plain": [
       "(90, 11)"
      ]
     },
     "execution_count": 41,
     "metadata": {},
     "output_type": "execute_result"
    }
   ],
   "source": [
    "case_0_0 = case_0[case_0[\"feature_num\"] == 0]\n",
    "case_0_0.shape"
   ]
  },
  {
   "cell_type": "code",
   "execution_count": 42,
   "id": "46069b96",
   "metadata": {},
   "outputs": [
    {
     "data": {
      "text/plain": [
       "(69, 18)"
      ]
     },
     "execution_count": 42,
     "metadata": {},
     "output_type": "execute_result"
    }
   ],
   "source": [
    "pn_Num_list = list(case_0_0.pn_num.unique())\n",
    "\n",
    "final_train = []   # appending all the individual rows\n",
    "for patient_number in pn_Num_list:  # for each unique patient number\n",
    "    entities = []  # saving individaual entities locations\n",
    "    for row_index,row in case_0_0[case_0_0.pn_num == patient_number].iterrows():  # for each unique patient number \n",
    "        \n",
    "        entities.append((int(row[\"start_location\"]),int(row[\"end_location\"]),\"Feature_\" + str(row[\"feature_num\"]))) # store the locations in numeric format\n",
    "        \n",
    "    text = case_0_0[case_0_0.pn_num == patient_number][\"New_pn_history\"].values[0] # save the text for the unique patient number\n",
    "    \n",
    "    final_train.append((text,{\"entities\":entities}))  # for each unique pn_number append to final list\n",
    "    \n",
    "# Serializing json \n",
    "json_object = json.dumps(final_train, indent = 4)\n",
    "  \n",
    "# Writing to sample.json\n",
    "with open(\"sample_0.json\", \"w\") as outfile:\n",
    "    outfile.write(json_object)\n",
    "    \n",
    "# Opening JSON file\n",
    "f = open(\"sample_0.json\")\n",
    " \n",
    "# returns JSON object as\n",
    "# a dictionary\n",
    "data = json.load(f)\n",
    "\n",
    "nlp = spacy.blank(\"en\")\n",
    "def create_training(TRAIN_DATA):\n",
    "    db = DocBin()\n",
    "    for text, annot in tqdm(TRAIN_DATA):\n",
    "        doc = nlp.make_doc(text)\n",
    "        ents = []\n",
    "        for start, end, label in annot[\"entities\"]:\n",
    "            span = doc.char_span(start, end, label=label, alignment_mode=\"contract\")\n",
    "            if span is None:\n",
    "                print (\"Skipping entity\")\n",
    "            else:\n",
    "                ents.append(span)\n",
    "        doc.ents = ents\n",
    "        db.add(doc)\n",
    "    return (db)\n",
    "\n",
    "train, validation = train_test_split(data, test_size = 0.2, random_state = 100)\n",
    "len(train),len(validation)"
   ]
  },
  {
   "cell_type": "code",
   "execution_count": 43,
   "id": "c41008dc",
   "metadata": {},
   "outputs": [
    {
     "name": "stderr",
     "output_type": "stream",
     "text": [
      "100%|█████████████████████████████████████████████████████████████████████████████████| 69/69 [00:00<00:00, 699.35it/s]\n"
     ]
    }
   ],
   "source": [
    "#train data set\n",
    "camp_train = create_training(train)\n",
    "camp_train.to_disk(\"nbme_train_0.spacy\")"
   ]
  },
  {
   "cell_type": "code",
   "execution_count": 44,
   "id": "768aa01d",
   "metadata": {},
   "outputs": [
    {
     "name": "stderr",
     "output_type": "stream",
     "text": [
      "100%|█████████████████████████████████████████████████████████████████████████████████| 18/18 [00:00<00:00, 501.67it/s]\n"
     ]
    }
   ],
   "source": [
    "#Validation data set\n",
    "camp_validation = create_training(validation)\n",
    "camp_validation.to_disk(\"nbme_validation_0.spacy\")"
   ]
  },
  {
   "cell_type": "code",
   "execution_count": 45,
   "id": "228389d4",
   "metadata": {},
   "outputs": [
    {
     "name": "stdout",
     "output_type": "stream",
     "text": [
      "[+] Auto-filled config with all values\n",
      "[+] Saved config\n",
      "config_0.cfg\n",
      "You can now add your data and train your pipeline:\n",
      "python -m spacy train config_0.cfg --paths.train ./train.spacy --paths.dev ./dev.spacy\n"
     ]
    },
    {
     "name": "stderr",
     "output_type": "stream",
     "text": [
      "2022-05-02 13:35:48.362147: W tensorflow/stream_executor/platform/default/dso_loader.cc:64] Could not load dynamic library 'cudart64_110.dll'; dlerror: cudart64_110.dll not found\n",
      "2022-05-02 13:35:48.362192: I tensorflow/stream_executor/cuda/cudart_stub.cc:29] Ignore above cudart dlerror if you do not have a GPU set up on your machine.\n"
     ]
    }
   ],
   "source": [
    "!python -m spacy init fill-config ./base_config_0.cfg ./config_0.cfg"
   ]
  },
  {
   "cell_type": "code",
   "execution_count": 46,
   "id": "38506354",
   "metadata": {},
   "outputs": [
    {
     "name": "stdout",
     "output_type": "stream",
     "text": [
      "[i] Saving to output directory: output_0\n",
      "[i] Using CPU\n",
      "\u001b[1m\n",
      "=========================== Initializing pipeline ===========================\u001b[0m\n",
      "[+] Initialized pipeline\n",
      "\u001b[1m\n",
      "============================= Training pipeline =============================\u001b[0m\n",
      "[i] Pipeline: ['tok2vec', 'ner']\n",
      "[i] Initial learn rate: 0.001\n",
      "E    #       LOSS TOK2VEC  LOSS NER  ENTS_F  ENTS_P  ENTS_R  SCORE \n",
      "---  ------  ------------  --------  ------  ------  ------  ------\n",
      "  0       0          0.00     67.33    0.60    0.32    5.56    0.01\n",
      "  2     200        499.86   1563.09   85.71   88.24   83.33    0.86\n",
      "  5     400         47.09     59.64   85.71   88.24   83.33    0.86\n",
      "  8     600         11.89     11.16   85.71   88.24   83.33    0.86\n",
      " 11     800         23.35     15.03   77.78   77.78   77.78    0.78\n",
      " 14    1000          3.09      2.26   85.71   88.24   83.33    0.86\n",
      " 17    1200          0.01      0.01   77.78   77.78   77.78    0.78\n",
      " 20    1400          0.00      0.00   77.78   77.78   77.78    0.78\n",
      " 23    1600          0.00      0.00   77.78   77.78   77.78    0.78\n",
      " 26    1800          0.00      0.00   77.78   77.78   77.78    0.78\n",
      "[+] Saved pipeline to output directory\n",
      "output_0\\model-last\n"
     ]
    },
    {
     "name": "stderr",
     "output_type": "stream",
     "text": [
      "2022-05-02 13:35:52.998333: W tensorflow/stream_executor/platform/default/dso_loader.cc:64] Could not load dynamic library 'cudart64_110.dll'; dlerror: cudart64_110.dll not found\n",
      "2022-05-02 13:35:52.998384: I tensorflow/stream_executor/cuda/cudart_stub.cc:29] Ignore above cudart dlerror if you do not have a GPU set up on your machine.\n",
      "[2022-05-02 13:35:55,800] [INFO] Set up nlp object from config\n",
      "[2022-05-02 13:35:55,807] [INFO] Pipeline: ['tok2vec', 'ner']\n",
      "[2022-05-02 13:35:55,809] [INFO] Created vocabulary\n",
      "[2022-05-02 13:35:55,814] [INFO] Finished initializing nlp object\n",
      "[2022-05-02 13:35:56,244] [INFO] Initialized pipeline components: ['tok2vec', 'ner']\n"
     ]
    }
   ],
   "source": [
    "!python -m spacy train config_0.cfg --output ./output_0"
   ]
  },
  {
   "cell_type": "code",
   "execution_count": null,
   "id": "160233ae",
   "metadata": {},
   "outputs": [],
   "source": []
  },
  {
   "cell_type": "markdown",
   "id": "13b10d58",
   "metadata": {},
   "source": [
    "### Feature 1"
   ]
  },
  {
   "cell_type": "code",
   "execution_count": 47,
   "id": "033a58e3",
   "metadata": {},
   "outputs": [
    {
     "data": {
      "text/plain": [
       "(90, 11)"
      ]
     },
     "execution_count": 47,
     "metadata": {},
     "output_type": "execute_result"
    }
   ],
   "source": [
    "case_0_1 = case_0[case_0[\"feature_num\"] == 1]\n",
    "case_0_1.shape"
   ]
  },
  {
   "cell_type": "code",
   "execution_count": 48,
   "id": "5b46b9b1",
   "metadata": {},
   "outputs": [
    {
     "data": {
      "text/plain": [
       "(71, 18)"
      ]
     },
     "execution_count": 48,
     "metadata": {},
     "output_type": "execute_result"
    }
   ],
   "source": [
    "pn_Num_list = list(case_0_1.pn_num.unique())\n",
    "\n",
    "final_train = []   # appending all the individual rows\n",
    "for patient_number in pn_Num_list:  # for each unique patient number\n",
    "    entities = []  # saving individaual entities locations\n",
    "    for row_index,row in case_0_1[case_0_1.pn_num == patient_number].iterrows():  # for each unique patient number \n",
    "        \n",
    "        entities.append((int(row[\"start_location\"]),int(row[\"end_location\"]),\"Feature_\" + str(row[\"feature_num\"]))) # store the locations in numeric format\n",
    "        \n",
    "    text = case_0_1[case_0_1.pn_num == patient_number][\"New_pn_history\"].values[0] # save the text for the unique patient number\n",
    "    \n",
    "    final_train.append((text,{\"entities\":entities}))  # for each unique pn_number append to final list\n",
    "    \n",
    "# Serializing json \n",
    "json_object = json.dumps(final_train, indent = 4)\n",
    "  \n",
    "# Writing to sample.json\n",
    "with open(\"sample_1.json\", \"w\") as outfile:\n",
    "    outfile.write(json_object)\n",
    "    \n",
    "# Opening JSON file\n",
    "f = open(\"sample_1.json\")\n",
    " \n",
    "# returns JSON object as\n",
    "# a dictionary\n",
    "data = json.load(f)\n",
    "\n",
    "nlp = spacy.blank(\"en\")\n",
    "def create_training(TRAIN_DATA):\n",
    "    db = DocBin()\n",
    "    for text, annot in tqdm(TRAIN_DATA):\n",
    "        doc = nlp.make_doc(text)\n",
    "        ents = []\n",
    "        for start, end, label in annot[\"entities\"]:\n",
    "            span = doc.char_span(start, end, label=label, alignment_mode=\"contract\")\n",
    "            if span is None:\n",
    "                print (\"Skipping entity\")\n",
    "            else:\n",
    "                ents.append(span)\n",
    "        doc.ents = ents\n",
    "        db.add(doc)\n",
    "    return (db)\n",
    "\n",
    "train, validation = train_test_split(data, test_size = 0.2, random_state = 100)\n",
    "len(train),len(validation)"
   ]
  },
  {
   "cell_type": "code",
   "execution_count": 49,
   "id": "1b2b3579",
   "metadata": {},
   "outputs": [
    {
     "name": "stderr",
     "output_type": "stream",
     "text": [
      "100%|█████████████████████████████████████████████████████████████████████████████████| 71/71 [00:00<00:00, 838.15it/s]\n"
     ]
    }
   ],
   "source": [
    "#train data set\n",
    "camp_train = create_training(train)\n",
    "camp_train.to_disk(\"nbme_train_1.spacy\")"
   ]
  },
  {
   "cell_type": "code",
   "execution_count": 50,
   "id": "a2774b5f",
   "metadata": {},
   "outputs": [
    {
     "name": "stderr",
     "output_type": "stream",
     "text": [
      "100%|█████████████████████████████████████████████████████████████████████████████████| 18/18 [00:00<00:00, 821.04it/s]\n"
     ]
    }
   ],
   "source": [
    "#Validation data set\n",
    "camp_validation = create_training(validation)\n",
    "camp_validation.to_disk(\"nbme_validation_1.spacy\")"
   ]
  },
  {
   "cell_type": "code",
   "execution_count": 51,
   "id": "cecd5c30",
   "metadata": {},
   "outputs": [
    {
     "name": "stdout",
     "output_type": "stream",
     "text": [
      "[+] Auto-filled config with all values\n",
      "[+] Saved config\n",
      "config_1.cfg\n",
      "You can now add your data and train your pipeline:\n",
      "python -m spacy train config_1.cfg --paths.train ./train.spacy --paths.dev ./dev.spacy\n"
     ]
    },
    {
     "name": "stderr",
     "output_type": "stream",
     "text": [
      "2022-05-02 13:37:49.358525: W tensorflow/stream_executor/platform/default/dso_loader.cc:64] Could not load dynamic library 'cudart64_110.dll'; dlerror: cudart64_110.dll not found\n",
      "2022-05-02 13:37:49.358561: I tensorflow/stream_executor/cuda/cudart_stub.cc:29] Ignore above cudart dlerror if you do not have a GPU set up on your machine.\n"
     ]
    }
   ],
   "source": [
    "!python -m spacy init fill-config ./base_config_1.cfg ./config_1.cfg"
   ]
  },
  {
   "cell_type": "code",
   "execution_count": 52,
   "id": "2d63e3f8",
   "metadata": {},
   "outputs": [
    {
     "name": "stdout",
     "output_type": "stream",
     "text": [
      "[i] Saving to output directory: output_1\n",
      "[i] Using CPU\n",
      "\u001b[1m\n",
      "=========================== Initializing pipeline ===========================\u001b[0m\n",
      "[+] Initialized pipeline\n",
      "\u001b[1m\n",
      "============================= Training pipeline =============================\u001b[0m\n",
      "[i] Pipeline: ['tok2vec', 'ner']\n",
      "[i] Initial learn rate: 0.001\n",
      "E    #       LOSS TOK2VEC  LOSS NER  ENTS_F  ENTS_P  ENTS_R  SCORE \n",
      "---  ------  ------------  --------  ------  ------  ------  ------\n",
      "  0       0          0.00     59.17    0.00    0.00    0.00    0.00\n",
      "  2     200        257.12   1388.73  100.00  100.00  100.00    1.00\n",
      "  5     400         17.90     34.02   94.74   90.00  100.00    0.95\n",
      "  8     600          3.12      5.41   91.89   89.47   94.44    0.92\n",
      " 11     800          0.00      0.00   91.89   89.47   94.44    0.92\n",
      " 14    1000          2.33      2.13   94.44   94.44   94.44    0.94\n",
      " 16    1200          0.00      0.00   94.44   94.44   94.44    0.94\n",
      " 19    1400          0.01      0.01   91.89   89.47   94.44    0.92\n",
      " 22    1600          5.98      3.85   94.74   90.00  100.00    0.95\n",
      " 25    1800          0.55      0.40   94.44   94.44   94.44    0.94\n",
      "[+] Saved pipeline to output directory\n",
      "output_1\\model-last\n"
     ]
    },
    {
     "name": "stderr",
     "output_type": "stream",
     "text": [
      "2022-05-02 13:37:53.486887: W tensorflow/stream_executor/platform/default/dso_loader.cc:64] Could not load dynamic library 'cudart64_110.dll'; dlerror: cudart64_110.dll not found\n",
      "2022-05-02 13:37:53.486929: I tensorflow/stream_executor/cuda/cudart_stub.cc:29] Ignore above cudart dlerror if you do not have a GPU set up on your machine.\n",
      "[2022-05-02 13:37:56,107] [INFO] Set up nlp object from config\n",
      "[2022-05-02 13:37:56,114] [INFO] Pipeline: ['tok2vec', 'ner']\n",
      "[2022-05-02 13:37:56,117] [INFO] Created vocabulary\n",
      "[2022-05-02 13:37:56,118] [INFO] Finished initializing nlp object\n",
      "[2022-05-02 13:37:56,509] [INFO] Initialized pipeline components: ['tok2vec', 'ner']\n"
     ]
    }
   ],
   "source": [
    "!python -m spacy train config_1.cfg --output ./output_1"
   ]
  },
  {
   "cell_type": "code",
   "execution_count": null,
   "id": "41ce772e",
   "metadata": {},
   "outputs": [],
   "source": []
  },
  {
   "cell_type": "markdown",
   "id": "329f5d72",
   "metadata": {},
   "source": [
    "### Feature 2"
   ]
  },
  {
   "cell_type": "code",
   "execution_count": 53,
   "id": "e69b1644",
   "metadata": {},
   "outputs": [
    {
     "data": {
      "text/plain": [
       "(70, 11)"
      ]
     },
     "execution_count": 53,
     "metadata": {},
     "output_type": "execute_result"
    }
   ],
   "source": [
    "case_0_2 = case_0[case_0[\"feature_num\"] == 2]\n",
    "case_0_2.shape"
   ]
  },
  {
   "cell_type": "code",
   "execution_count": 54,
   "id": "105019ac",
   "metadata": {},
   "outputs": [
    {
     "data": {
      "text/plain": [
       "(55, 14)"
      ]
     },
     "execution_count": 54,
     "metadata": {},
     "output_type": "execute_result"
    }
   ],
   "source": [
    "pn_Num_list = list(case_0_2.pn_num.unique())\n",
    "\n",
    "final_train = []   # appending all the individual rows\n",
    "for patient_number in pn_Num_list:  # for each unique patient number\n",
    "    entities = []  # saving individaual entities locations\n",
    "    for row_index,row in case_0_2[case_0_2.pn_num == patient_number].iterrows():  # for each unique patient number \n",
    "        \n",
    "        entities.append((int(row[\"start_location\"]),int(row[\"end_location\"]),\"Feature_\" + str(row[\"feature_num\"]))) # store the locations in numeric format\n",
    "        \n",
    "    text = case_0_2[case_0_2.pn_num == patient_number][\"New_pn_history\"].values[0] # save the text for the unique patient number\n",
    "    \n",
    "    final_train.append((text,{\"entities\":entities}))  # for each unique pn_number append to final list\n",
    "    \n",
    "# Serializing json \n",
    "json_object = json.dumps(final_train, indent = 4)\n",
    "  \n",
    "# Writing to sample.json\n",
    "with open(\"sample_2.json\", \"w\") as outfile:\n",
    "    outfile.write(json_object)\n",
    "    \n",
    "# Opening JSON file\n",
    "f = open(\"sample_2.json\")\n",
    " \n",
    "# returns JSON object as\n",
    "# a dictionary\n",
    "data = json.load(f)\n",
    "\n",
    "nlp = spacy.blank(\"en\")\n",
    "def create_training(TRAIN_DATA):\n",
    "    db = DocBin()\n",
    "    for text, annot in tqdm(TRAIN_DATA):\n",
    "        doc = nlp.make_doc(text)\n",
    "        ents = []\n",
    "        for start, end, label in annot[\"entities\"]:\n",
    "            span = doc.char_span(start, end, label=label, alignment_mode=\"contract\")\n",
    "            if span is None:\n",
    "                print (\"Skipping entity\")\n",
    "            else:\n",
    "                ents.append(span)\n",
    "        doc.ents = ents\n",
    "        db.add(doc)\n",
    "    return (db)\n",
    "\n",
    "train, validation = train_test_split(data, test_size = 0.2, random_state = 100)\n",
    "len(train),len(validation)"
   ]
  },
  {
   "cell_type": "code",
   "execution_count": 55,
   "id": "c8d8b317",
   "metadata": {},
   "outputs": [
    {
     "name": "stderr",
     "output_type": "stream",
     "text": [
      "100%|█████████████████████████████████████████████████████████████████████████████████| 55/55 [00:00<00:00, 746.23it/s]\n"
     ]
    }
   ],
   "source": [
    "#train data set\n",
    "camp_train = create_training(train)\n",
    "camp_train.to_disk(\"nbme_train_2.spacy\")"
   ]
  },
  {
   "cell_type": "code",
   "execution_count": 56,
   "id": "d0bc8c60",
   "metadata": {},
   "outputs": [
    {
     "name": "stderr",
     "output_type": "stream",
     "text": [
      "100%|█████████████████████████████████████████████████████████████████████████████████| 14/14 [00:00<00:00, 585.27it/s]\n"
     ]
    }
   ],
   "source": [
    "#Validation data set\n",
    "camp_validation = create_training(validation)\n",
    "camp_validation.to_disk(\"nbme_validation_2.spacy\")"
   ]
  },
  {
   "cell_type": "code",
   "execution_count": 57,
   "id": "d4135d13",
   "metadata": {},
   "outputs": [
    {
     "name": "stdout",
     "output_type": "stream",
     "text": [
      "[+] Auto-filled config with all values\n",
      "[+] Saved config\n",
      "config_2.cfg\n",
      "You can now add your data and train your pipeline:\n",
      "python -m spacy train config_2.cfg --paths.train ./train.spacy --paths.dev ./dev.spacy\n"
     ]
    },
    {
     "name": "stderr",
     "output_type": "stream",
     "text": [
      "2022-05-02 13:39:50.710000: W tensorflow/stream_executor/platform/default/dso_loader.cc:64] Could not load dynamic library 'cudart64_110.dll'; dlerror: cudart64_110.dll not found\n",
      "2022-05-02 13:39:50.710042: I tensorflow/stream_executor/cuda/cudart_stub.cc:29] Ignore above cudart dlerror if you do not have a GPU set up on your machine.\n"
     ]
    }
   ],
   "source": [
    "!python -m spacy init fill-config ./base_config_2.cfg ./config_2.cfg"
   ]
  },
  {
   "cell_type": "code",
   "execution_count": 58,
   "id": "ea26523a",
   "metadata": {},
   "outputs": [
    {
     "name": "stdout",
     "output_type": "stream",
     "text": [
      "[i] Saving to output directory: output_2\n",
      "[i] Using CPU\n",
      "\u001b[1m\n",
      "=========================== Initializing pipeline ===========================\u001b[0m\n",
      "[+] Initialized pipeline\n",
      "\u001b[1m\n",
      "============================= Training pipeline =============================\u001b[0m\n",
      "[i] Pipeline: ['tok2vec', 'ner']\n",
      "[i] Initial learn rate: 0.001\n",
      "E    #       LOSS TOK2VEC  LOSS NER  ENTS_F  ENTS_P  ENTS_R  SCORE \n",
      "---  ------  ------------  --------  ------  ------  ------  ------\n",
      "  0       0          0.00     50.17    1.48    0.76   33.33    0.01\n",
      "  3     200        217.60   1161.03   74.07   83.33   66.67    0.74\n",
      "  7     400         13.67     26.60   75.86   78.57   73.33    0.76\n",
      " 10     600          0.12      0.15   78.57   84.62   73.33    0.79\n",
      " 14     800          9.47     11.36   73.33   73.33   73.33    0.73\n",
      " 18    1000         21.24     17.66   93.33   93.33   93.33    0.93\n",
      " 21    1200          6.04      4.44   89.66   92.86   86.67    0.90\n",
      " 25    1400      23482.23    150.14   60.00   60.00   60.00    0.60\n",
      " 29    1600         13.45      5.58   62.07   64.29   60.00    0.62\n",
      " 32    1800          4.26      2.11   93.33   93.33   93.33    0.93\n",
      " 36    2000       1774.82     48.15   85.71   92.31   80.00    0.86\n",
      " 40    2200          4.74      2.10   85.71   92.31   80.00    0.86\n",
      " 43    2400          4.91      1.92   92.86  100.00   86.67    0.93\n",
      " 47    2600         11.81      4.00   85.71   92.31   80.00    0.86\n",
      "[+] Saved pipeline to output directory\n",
      "output_2\\model-last\n"
     ]
    },
    {
     "name": "stderr",
     "output_type": "stream",
     "text": [
      "2022-05-02 13:39:55.245537: W tensorflow/stream_executor/platform/default/dso_loader.cc:64] Could not load dynamic library 'cudart64_110.dll'; dlerror: cudart64_110.dll not found\n",
      "2022-05-02 13:39:55.245574: I tensorflow/stream_executor/cuda/cudart_stub.cc:29] Ignore above cudart dlerror if you do not have a GPU set up on your machine.\n",
      "[2022-05-02 13:39:58,201] [INFO] Set up nlp object from config\n",
      "[2022-05-02 13:39:58,208] [INFO] Pipeline: ['tok2vec', 'ner']\n",
      "[2022-05-02 13:39:58,211] [INFO] Created vocabulary\n",
      "[2022-05-02 13:39:58,212] [INFO] Finished initializing nlp object\n",
      "[2022-05-02 13:39:58,573] [INFO] Initialized pipeline components: ['tok2vec', 'ner']\n"
     ]
    }
   ],
   "source": [
    "!python -m spacy train config_2.cfg --output ./output_2"
   ]
  },
  {
   "cell_type": "code",
   "execution_count": null,
   "id": "50aa4170",
   "metadata": {},
   "outputs": [],
   "source": []
  },
  {
   "cell_type": "markdown",
   "id": "0ea32e50",
   "metadata": {},
   "source": [
    "### Feature 3"
   ]
  },
  {
   "cell_type": "code",
   "execution_count": 59,
   "id": "412c8b87",
   "metadata": {},
   "outputs": [
    {
     "data": {
      "text/plain": [
       "(118, 11)"
      ]
     },
     "execution_count": 59,
     "metadata": {},
     "output_type": "execute_result"
    }
   ],
   "source": [
    "case_0_3 = case_0[case_0[\"feature_num\"] == 3]\n",
    "case_0_3.shape"
   ]
  },
  {
   "cell_type": "code",
   "execution_count": 60,
   "id": "8ec03cbd",
   "metadata": {},
   "outputs": [
    {
     "data": {
      "text/plain": [
       "(70, 18)"
      ]
     },
     "execution_count": 60,
     "metadata": {},
     "output_type": "execute_result"
    }
   ],
   "source": [
    "pn_Num_list = list(case_0_3.pn_num.unique())\n",
    "\n",
    "final_train = []   # appending all the individual rows\n",
    "for patient_number in pn_Num_list:  # for each unique patient number\n",
    "    entities = []  # saving individaual entities locations\n",
    "    for row_index,row in case_0_3[case_0_3.pn_num == patient_number].iterrows():  # for each unique patient number \n",
    "        \n",
    "        entities.append((int(row[\"start_location\"]),int(row[\"end_location\"]),\"Feature_\" + str(row[\"feature_num\"]))) # store the locations in numeric format\n",
    "        \n",
    "    text = case_0_3[case_0_3.pn_num == patient_number][\"New_pn_history\"].values[0] # save the text for the unique patient number\n",
    "    \n",
    "    final_train.append((text,{\"entities\":entities}))  # for each unique pn_number append to final list\n",
    "    \n",
    "# Serializing json \n",
    "json_object = json.dumps(final_train, indent = 4)\n",
    "  \n",
    "# Writing to sample.json\n",
    "with open(\"sample_3.json\", \"w\") as outfile:\n",
    "    outfile.write(json_object)\n",
    "    \n",
    "# Opening JSON file\n",
    "f = open(\"sample_3.json\")\n",
    " \n",
    "# returns JSON object as\n",
    "# a dictionary\n",
    "data = json.load(f)\n",
    "\n",
    "nlp = spacy.blank(\"en\")\n",
    "def create_training(TRAIN_DATA):\n",
    "    db = DocBin()\n",
    "    for text, annot in tqdm(TRAIN_DATA):\n",
    "        doc = nlp.make_doc(text)\n",
    "        ents = []\n",
    "        for start, end, label in annot[\"entities\"]:\n",
    "            span = doc.char_span(start, end, label=label, alignment_mode=\"contract\")\n",
    "            if span is None:\n",
    "                print (\"Skipping entity\")\n",
    "            else:\n",
    "                ents.append(span)\n",
    "        doc.ents = ents\n",
    "        db.add(doc)\n",
    "    return (db)\n",
    "\n",
    "train, validation = train_test_split(data, test_size = 0.2, random_state = 100)\n",
    "len(train),len(validation)"
   ]
  },
  {
   "cell_type": "code",
   "execution_count": 61,
   "id": "52f8eacb",
   "metadata": {},
   "outputs": [
    {
     "name": "stderr",
     "output_type": "stream",
     "text": [
      "100%|█████████████████████████████████████████████████████████████████████████████████| 70/70 [00:00<00:00, 797.48it/s]\n"
     ]
    }
   ],
   "source": [
    "#train data set\n",
    "camp_train = create_training(train)\n",
    "camp_train.to_disk(\"nbme_train_3.spacy\")"
   ]
  },
  {
   "cell_type": "code",
   "execution_count": 62,
   "id": "a44838ed",
   "metadata": {},
   "outputs": [
    {
     "name": "stderr",
     "output_type": "stream",
     "text": [
      "100%|█████████████████████████████████████████████████████████████████████████████████| 18/18 [00:00<00:00, 903.14it/s]\n"
     ]
    }
   ],
   "source": [
    "#Validation data set\n",
    "camp_validation = create_training(validation)\n",
    "camp_validation.to_disk(\"nbme_validation_3.spacy\")"
   ]
  },
  {
   "cell_type": "code",
   "execution_count": 63,
   "id": "f90f39aa",
   "metadata": {},
   "outputs": [
    {
     "name": "stdout",
     "output_type": "stream",
     "text": [
      "[+] Auto-filled config with all values\n",
      "[+] Saved config\n",
      "config_3.cfg\n",
      "You can now add your data and train your pipeline:\n",
      "python -m spacy train config_3.cfg --paths.train ./train.spacy --paths.dev ./dev.spacy\n"
     ]
    },
    {
     "name": "stderr",
     "output_type": "stream",
     "text": [
      "2022-05-02 13:42:45.082240: W tensorflow/stream_executor/platform/default/dso_loader.cc:64] Could not load dynamic library 'cudart64_110.dll'; dlerror: cudart64_110.dll not found\n",
      "2022-05-02 13:42:45.082277: I tensorflow/stream_executor/cuda/cudart_stub.cc:29] Ignore above cudart dlerror if you do not have a GPU set up on your machine.\n"
     ]
    }
   ],
   "source": [
    "!python -m spacy init fill-config ./base_config_3.cfg ./config_3.cfg"
   ]
  },
  {
   "cell_type": "code",
   "execution_count": 64,
   "id": "425e96bd",
   "metadata": {},
   "outputs": [
    {
     "name": "stdout",
     "output_type": "stream",
     "text": [
      "[i] Saving to output directory: output_3\n",
      "[i] Using CPU\n",
      "\u001b[1m\n",
      "=========================== Initializing pipeline ===========================\u001b[0m\n",
      "[+] Initialized pipeline\n",
      "\u001b[1m\n",
      "============================= Training pipeline =============================\u001b[0m\n",
      "[i] Pipeline: ['tok2vec', 'ner']\n",
      "[i] Initial learn rate: 0.001\n",
      "E    #       LOSS TOK2VEC  LOSS NER  ENTS_F  ENTS_P  ENTS_R  SCORE \n",
      "---  ------  ------------  --------  ------  ------  ------  ------\n",
      "  0       0          0.00     56.83    0.00    0.00    0.00    0.00\n",
      "  2     200       1446.31   1934.43   15.00   18.75   12.50    0.15\n",
      "  5     400         38.25    282.24   30.43   31.82   29.17    0.30\n",
      "  8     600         77.60    184.82   40.00   63.64   29.17    0.40\n",
      " 11     800         66.52    126.37   53.06   52.00   54.17    0.53\n",
      " 14    1000         79.47    103.28   37.74   34.48   41.67    0.38\n",
      " 17    1200         91.51     99.87   45.28   41.38   50.00    0.45\n",
      " 20    1400         79.47     86.62   45.83   45.83   45.83    0.46\n",
      " 22    1600         92.36     73.40   44.00   42.31   45.83    0.44\n",
      " 25    1800         81.51     70.84   33.33   33.33   33.33    0.33\n",
      " 28    2000         58.53     52.30   48.98   48.00   50.00    0.49\n",
      " 31    2200         98.51     64.74   46.15   42.86   50.00    0.46\n",
      " 34    2400        818.84     84.53   44.90   44.00   45.83    0.45\n",
      "[+] Saved pipeline to output directory\n",
      "output_3\\model-last\n"
     ]
    },
    {
     "name": "stderr",
     "output_type": "stream",
     "text": [
      "2022-05-02 13:42:49.167224: W tensorflow/stream_executor/platform/default/dso_loader.cc:64] Could not load dynamic library 'cudart64_110.dll'; dlerror: cudart64_110.dll not found\n",
      "2022-05-02 13:42:49.167266: I tensorflow/stream_executor/cuda/cudart_stub.cc:29] Ignore above cudart dlerror if you do not have a GPU set up on your machine.\n",
      "[2022-05-02 13:42:52,246] [INFO] Set up nlp object from config\n",
      "[2022-05-02 13:42:52,253] [INFO] Pipeline: ['tok2vec', 'ner']\n",
      "[2022-05-02 13:42:52,256] [INFO] Created vocabulary\n",
      "[2022-05-02 13:42:52,256] [INFO] Finished initializing nlp object\n",
      "[2022-05-02 13:42:52,640] [INFO] Initialized pipeline components: ['tok2vec', 'ner']\n"
     ]
    }
   ],
   "source": [
    "!python -m spacy train config_3.cfg --output ./output_3"
   ]
  },
  {
   "cell_type": "code",
   "execution_count": null,
   "id": "93647cf7",
   "metadata": {},
   "outputs": [],
   "source": []
  },
  {
   "cell_type": "markdown",
   "id": "8ac450f7",
   "metadata": {},
   "source": [
    "### Feature 4"
   ]
  },
  {
   "cell_type": "code",
   "execution_count": 65,
   "id": "68c606f4",
   "metadata": {},
   "outputs": [
    {
     "data": {
      "text/plain": [
       "(93, 11)"
      ]
     },
     "execution_count": 65,
     "metadata": {},
     "output_type": "execute_result"
    }
   ],
   "source": [
    "case_0_4 = case_0[case_0[\"feature_num\"] == 4]\n",
    "case_0_4.shape"
   ]
  },
  {
   "cell_type": "code",
   "execution_count": 66,
   "id": "639032e1",
   "metadata": {},
   "outputs": [
    {
     "data": {
      "text/plain": [
       "(74, 19)"
      ]
     },
     "execution_count": 66,
     "metadata": {},
     "output_type": "execute_result"
    }
   ],
   "source": [
    "pn_Num_list = list(case_0_4.pn_num.unique())\n",
    "\n",
    "final_train = []   # appending all the individual rows\n",
    "for patient_number in pn_Num_list:  # for each unique patient number\n",
    "    entities = []  # saving individaual entities locations\n",
    "    for row_index,row in case_0_4[case_0_4.pn_num == patient_number].iterrows():  # for each unique patient number \n",
    "        \n",
    "        entities.append((int(row[\"start_location\"]),int(row[\"end_location\"]),\"Feature_\" + str(row[\"feature_num\"]))) # store the locations in numeric format\n",
    "        \n",
    "    text = case_0_4[case_0_4.pn_num == patient_number][\"New_pn_history\"].values[0] # save the text for the unique patient number\n",
    "    \n",
    "    final_train.append((text,{\"entities\":entities}))  # for each unique pn_number append to final list\n",
    "    \n",
    "# Serializing json \n",
    "json_object = json.dumps(final_train, indent = 4)\n",
    "  \n",
    "# Writing to sample.json\n",
    "with open(\"sample_4.json\", \"w\") as outfile:\n",
    "    outfile.write(json_object)\n",
    "    \n",
    "# Opening JSON file\n",
    "f = open(\"sample_4.json\")\n",
    " \n",
    "# returns JSON object as\n",
    "# a dictionary\n",
    "data = json.load(f)\n",
    "\n",
    "nlp = spacy.blank(\"en\")\n",
    "def create_training(TRAIN_DATA):\n",
    "    db = DocBin()\n",
    "    for text, annot in tqdm(TRAIN_DATA):\n",
    "        doc = nlp.make_doc(text)\n",
    "        ents = []\n",
    "        for start, end, label in annot[\"entities\"]:\n",
    "            span = doc.char_span(start, end, label=label, alignment_mode=\"contract\")\n",
    "            if span is None:\n",
    "                print (\"Skipping entity\")\n",
    "            else:\n",
    "                ents.append(span)\n",
    "        doc.ents = ents\n",
    "        db.add(doc)\n",
    "    return (db)\n",
    "\n",
    "train, validation = train_test_split(data, test_size = 0.2, random_state = 100)\n",
    "len(train),len(validation)"
   ]
  },
  {
   "cell_type": "code",
   "execution_count": 67,
   "id": "9558fad7",
   "metadata": {},
   "outputs": [
    {
     "name": "stderr",
     "output_type": "stream",
     "text": [
      "100%|█████████████████████████████████████████████████████████████████████████████████| 74/74 [00:00<00:00, 833.51it/s]\n"
     ]
    }
   ],
   "source": [
    "#train data set\n",
    "camp_train = create_training(train)\n",
    "camp_train.to_disk(\"nbme_train_4.spacy\")"
   ]
  },
  {
   "cell_type": "code",
   "execution_count": 68,
   "id": "5005c494",
   "metadata": {},
   "outputs": [
    {
     "name": "stderr",
     "output_type": "stream",
     "text": [
      "100%|█████████████████████████████████████████████████████████████████████████████████| 19/19 [00:00<00:00, 952.99it/s]\n"
     ]
    }
   ],
   "source": [
    "#Validation data set\n",
    "camp_validation = create_training(validation)\n",
    "camp_validation.to_disk(\"nbme_validation_4.spacy\")"
   ]
  },
  {
   "cell_type": "code",
   "execution_count": 69,
   "id": "9487b174",
   "metadata": {},
   "outputs": [
    {
     "name": "stdout",
     "output_type": "stream",
     "text": [
      "[+] Auto-filled config with all values\n",
      "[+] Saved config\n",
      "config_4.cfg\n",
      "You can now add your data and train your pipeline:\n",
      "python -m spacy train config_4.cfg --paths.train ./train.spacy --paths.dev ./dev.spacy\n"
     ]
    },
    {
     "name": "stderr",
     "output_type": "stream",
     "text": [
      "2022-05-02 13:45:14.842701: W tensorflow/stream_executor/platform/default/dso_loader.cc:64] Could not load dynamic library 'cudart64_110.dll'; dlerror: cudart64_110.dll not found\n",
      "2022-05-02 13:45:14.842742: I tensorflow/stream_executor/cuda/cudart_stub.cc:29] Ignore above cudart dlerror if you do not have a GPU set up on your machine.\n"
     ]
    }
   ],
   "source": [
    "!python -m spacy init fill-config ./base_config_4.cfg ./config_4.cfg"
   ]
  },
  {
   "cell_type": "code",
   "execution_count": 70,
   "id": "05f39725",
   "metadata": {},
   "outputs": [
    {
     "name": "stdout",
     "output_type": "stream",
     "text": [
      "[i] Saving to output directory: output_4\n",
      "[i] Using CPU\n",
      "\u001b[1m\n",
      "=========================== Initializing pipeline ===========================\u001b[0m\n",
      "[+] Initialized pipeline\n",
      "\u001b[1m\n",
      "============================= Training pipeline =============================\u001b[0m\n",
      "[i] Pipeline: ['tok2vec', 'ner']\n",
      "[i] Initial learn rate: 0.001\n",
      "E    #       LOSS TOK2VEC  LOSS NER  ENTS_F  ENTS_P  ENTS_R  SCORE \n",
      "---  ------  ------------  --------  ------  ------  ------  ------\n",
      "  0       0          0.00     49.50    0.00    0.00    0.00    0.00\n",
      "  2     200         22.37   1141.44   80.00   87.50   73.68    0.80\n",
      "  5     400        420.37    151.20   80.00   87.50   73.68    0.80\n",
      "  8     600       1234.01    137.49   86.49   88.89   84.21    0.86\n",
      " 10     800         36.63     37.56   78.95   78.95   78.95    0.79\n",
      " 13    1000         19.54     17.86   85.71   93.75   78.95    0.86\n",
      " 16    1200       1518.82     50.31   74.29   81.25   68.42    0.74\n",
      " 18    1400         21.90     12.01   80.00   87.50   73.68    0.80\n",
      " 21    1600       2674.08     56.09   85.71   93.75   78.95    0.86\n",
      " 24    1800          4.82      1.98   88.89   94.12   84.21    0.89\n",
      " 27    2000          0.00      0.00   86.49   88.89   84.21    0.86\n",
      " 29    2200         23.23      8.91   74.29   81.25   68.42    0.74\n",
      " 32    2400         20.22     10.69   73.68   73.68   73.68    0.74\n",
      " 35    2600        479.55     26.92   82.05   80.00   84.21    0.82\n",
      " 38    2800         45.61     16.38   59.26  100.00   42.11    0.59\n",
      " 41    3000      10807.70     80.57   84.21   84.21   84.21    0.84\n",
      " 47    3200          7.70      2.03   78.95   78.95   78.95    0.79\n",
      " 54    3400          0.00      0.00   78.95   78.95   78.95    0.79\n",
      "[+] Saved pipeline to output directory\n",
      "output_4\\model-last\n"
     ]
    },
    {
     "name": "stderr",
     "output_type": "stream",
     "text": [
      "2022-05-02 13:45:18.769103: W tensorflow/stream_executor/platform/default/dso_loader.cc:64] Could not load dynamic library 'cudart64_110.dll'; dlerror: cudart64_110.dll not found\n",
      "2022-05-02 13:45:18.769148: I tensorflow/stream_executor/cuda/cudart_stub.cc:29] Ignore above cudart dlerror if you do not have a GPU set up on your machine.\n",
      "[2022-05-02 13:45:21,404] [INFO] Set up nlp object from config\n",
      "[2022-05-02 13:45:21,412] [INFO] Pipeline: ['tok2vec', 'ner']\n",
      "[2022-05-02 13:45:21,415] [INFO] Created vocabulary\n",
      "[2022-05-02 13:45:21,416] [INFO] Finished initializing nlp object\n",
      "[2022-05-02 13:45:21,793] [INFO] Initialized pipeline components: ['tok2vec', 'ner']\n"
     ]
    }
   ],
   "source": [
    "!python -m spacy train config_4.cfg --output ./output_4"
   ]
  },
  {
   "cell_type": "code",
   "execution_count": null,
   "id": "28572b74",
   "metadata": {},
   "outputs": [],
   "source": []
  },
  {
   "cell_type": "markdown",
   "id": "e08e17c1",
   "metadata": {},
   "source": [
    "### Feature 5"
   ]
  },
  {
   "cell_type": "code",
   "execution_count": 71,
   "id": "e64ff0e0",
   "metadata": {},
   "outputs": [
    {
     "data": {
      "text/plain": [
       "(110, 11)"
      ]
     },
     "execution_count": 71,
     "metadata": {},
     "output_type": "execute_result"
    }
   ],
   "source": [
    "case_0_5 = case_0[case_0[\"feature_num\"] == 5]\n",
    "case_0_5.shape"
   ]
  },
  {
   "cell_type": "code",
   "execution_count": 72,
   "id": "0cefaf2a",
   "metadata": {},
   "outputs": [
    {
     "data": {
      "text/plain": [
       "(86, 22)"
      ]
     },
     "execution_count": 72,
     "metadata": {},
     "output_type": "execute_result"
    }
   ],
   "source": [
    "pn_Num_list = list(case_0_5.pn_num.unique())\n",
    "\n",
    "final_train = []   # appending all the individual rows\n",
    "for patient_number in pn_Num_list:  # for each unique patient number\n",
    "    entities = []  # saving individaual entities locations\n",
    "    for row_index,row in case_0_5[case_0_5.pn_num == patient_number].iterrows():  # for each unique patient number \n",
    "        \n",
    "        entities.append((int(row[\"start_location\"]),int(row[\"end_location\"]),\"Feature_\" + str(row[\"feature_num\"]))) # store the locations in numeric format\n",
    "        \n",
    "    text = case_0_5[case_0_5.pn_num == patient_number][\"New_pn_history\"].values[0] # save the text for the unique patient number\n",
    "    \n",
    "    final_train.append((text,{\"entities\":entities}))  # for each unique pn_number append to final list\n",
    "    \n",
    "# Serializing json \n",
    "json_object = json.dumps(final_train, indent = 4)\n",
    "  \n",
    "# Writing to sample.json\n",
    "with open(\"sample_5.json\", \"w\") as outfile:\n",
    "    outfile.write(json_object)\n",
    "    \n",
    "# Opening JSON file\n",
    "f = open(\"sample_5.json\")\n",
    " \n",
    "# returns JSON object as\n",
    "# a dictionary\n",
    "data = json.load(f)\n",
    "\n",
    "nlp = spacy.blank(\"en\")\n",
    "def create_training(TRAIN_DATA):\n",
    "    db = DocBin()\n",
    "    for text, annot in tqdm(TRAIN_DATA):\n",
    "        doc = nlp.make_doc(text)\n",
    "        ents = []\n",
    "        for start, end, label in annot[\"entities\"]:\n",
    "            span = doc.char_span(start, end, label=label, alignment_mode=\"contract\")\n",
    "            if span is None:\n",
    "                print (\"Skipping entity\")\n",
    "            else:\n",
    "                ents.append(span)\n",
    "        doc.ents = ents\n",
    "        db.add(doc)\n",
    "    return (db)\n",
    "\n",
    "train, validation = train_test_split(data, test_size = 0.2, random_state = 100)\n",
    "len(train),len(validation)"
   ]
  },
  {
   "cell_type": "code",
   "execution_count": 73,
   "id": "68b6e0c6",
   "metadata": {},
   "outputs": [
    {
     "name": "stderr",
     "output_type": "stream",
     "text": [
      "100%|█████████████████████████████████████████████████████████████████████████████████| 86/86 [00:00<00:00, 917.77it/s]\n"
     ]
    }
   ],
   "source": [
    "#train data set\n",
    "camp_train = create_training(train)\n",
    "camp_train.to_disk(\"nbme_train_5.spacy\")"
   ]
  },
  {
   "cell_type": "code",
   "execution_count": 74,
   "id": "61235991",
   "metadata": {},
   "outputs": [
    {
     "name": "stderr",
     "output_type": "stream",
     "text": [
      "100%|████████████████████████████████████████████████████████████████████████████████| 22/22 [00:00<00:00, 1099.66it/s]\n"
     ]
    }
   ],
   "source": [
    "#Validation data set\n",
    "camp_validation = create_training(validation)\n",
    "camp_validation.to_disk(\"nbme_validation_5.spacy\")"
   ]
  },
  {
   "cell_type": "code",
   "execution_count": 75,
   "id": "259594db",
   "metadata": {},
   "outputs": [
    {
     "name": "stdout",
     "output_type": "stream",
     "text": [
      "[+] Auto-filled config with all values\n",
      "[+] Saved config\n",
      "config_5.cfg\n",
      "You can now add your data and train your pipeline:\n",
      "python -m spacy train config_5.cfg --paths.train ./train.spacy --paths.dev ./dev.spacy\n"
     ]
    },
    {
     "name": "stderr",
     "output_type": "stream",
     "text": [
      "2022-05-02 13:48:47.941748: W tensorflow/stream_executor/platform/default/dso_loader.cc:64] Could not load dynamic library 'cudart64_110.dll'; dlerror: cudart64_110.dll not found\n",
      "2022-05-02 13:48:47.941792: I tensorflow/stream_executor/cuda/cudart_stub.cc:29] Ignore above cudart dlerror if you do not have a GPU set up on your machine.\n"
     ]
    }
   ],
   "source": [
    "!python -m spacy init fill-config ./base_config_5.cfg ./config_5.cfg"
   ]
  },
  {
   "cell_type": "code",
   "execution_count": 76,
   "id": "10f6fd72",
   "metadata": {},
   "outputs": [
    {
     "name": "stdout",
     "output_type": "stream",
     "text": [
      "[i] Saving to output directory: output_5\n",
      "[i] Using CPU\n",
      "\u001b[1m\n",
      "=========================== Initializing pipeline ===========================\u001b[0m\n",
      "[+] Initialized pipeline\n",
      "\u001b[1m\n",
      "============================= Training pipeline =============================\u001b[0m\n",
      "[i] Pipeline: ['tok2vec', 'ner']\n",
      "[i] Initial learn rate: 0.001\n",
      "E    #       LOSS TOK2VEC  LOSS NER  ENTS_F  ENTS_P  ENTS_R  SCORE \n",
      "---  ------  ------------  --------  ------  ------  ------  ------\n",
      "  0       0          0.00     61.67    0.79    0.41   13.64    0.01\n",
      "  2     200        860.27   1729.01   57.14   60.00   54.55    0.57\n",
      "  4     400        113.57    176.52   71.11   69.57   72.73    0.71\n",
      "  6     600        164.39    108.00   59.65   48.57   77.27    0.60\n",
      "  9     800         40.74     48.10   69.39   62.96   77.27    0.69\n",
      " 11    1000         47.92     35.34   66.67   65.22   68.18    0.67\n",
      " 13    1200         56.42     28.26   71.11   69.57   72.73    0.71\n",
      " 16    1400         19.22      9.37   69.57   66.67   72.73    0.70\n",
      " 18    1600         41.70     10.71   71.11   69.57   72.73    0.71\n",
      " 20    1800         32.78     12.44   68.00   60.71   77.27    0.68\n",
      " 23    2000         17.85      6.45   68.00   60.71   77.27    0.68\n",
      "[+] Saved pipeline to output directory\n",
      "output_5\\model-last\n"
     ]
    },
    {
     "name": "stderr",
     "output_type": "stream",
     "text": [
      "2022-05-02 13:48:51.878345: W tensorflow/stream_executor/platform/default/dso_loader.cc:64] Could not load dynamic library 'cudart64_110.dll'; dlerror: cudart64_110.dll not found\n",
      "2022-05-02 13:48:51.878380: I tensorflow/stream_executor/cuda/cudart_stub.cc:29] Ignore above cudart dlerror if you do not have a GPU set up on your machine.\n",
      "[2022-05-02 13:48:54,439] [INFO] Set up nlp object from config\n",
      "[2022-05-02 13:48:54,450] [INFO] Pipeline: ['tok2vec', 'ner']\n",
      "[2022-05-02 13:48:54,453] [INFO] Created vocabulary\n",
      "[2022-05-02 13:48:54,454] [INFO] Finished initializing nlp object\n",
      "[2022-05-02 13:48:54,822] [INFO] Initialized pipeline components: ['tok2vec', 'ner']\n"
     ]
    }
   ],
   "source": [
    "!python -m spacy train config_5.cfg --output ./output_5"
   ]
  },
  {
   "cell_type": "code",
   "execution_count": null,
   "id": "bfdd9064",
   "metadata": {},
   "outputs": [],
   "source": []
  },
  {
   "cell_type": "markdown",
   "id": "2ca8cd9b",
   "metadata": {},
   "source": [
    "### Feature 6"
   ]
  },
  {
   "cell_type": "code",
   "execution_count": 77,
   "id": "082ff8e0",
   "metadata": {},
   "outputs": [
    {
     "data": {
      "text/plain": [
       "(113, 11)"
      ]
     },
     "execution_count": 77,
     "metadata": {},
     "output_type": "execute_result"
    }
   ],
   "source": [
    "case_0_6 = case_0[case_0[\"feature_num\"] == 6]\n",
    "case_0_6.shape"
   ]
  },
  {
   "cell_type": "code",
   "execution_count": 78,
   "id": "4b888046",
   "metadata": {},
   "outputs": [
    {
     "data": {
      "text/plain": [
       "(72, 19)"
      ]
     },
     "execution_count": 78,
     "metadata": {},
     "output_type": "execute_result"
    }
   ],
   "source": [
    "pn_Num_list = list(case_0_6.pn_num.unique())\n",
    "\n",
    "final_train = []   # appending all the individual rows\n",
    "for patient_number in pn_Num_list:  # for each unique patient number\n",
    "    entities = []  # saving individaual entities locations\n",
    "    for row_index,row in case_0_6[case_0_6.pn_num == patient_number].iterrows():  # for each unique patient number \n",
    "        \n",
    "        entities.append((int(row[\"start_location\"]),int(row[\"end_location\"]),\"Feature_\" + str(row[\"feature_num\"]))) # store the locations in numeric format\n",
    "        \n",
    "    text = case_0_6[case_0_6.pn_num == patient_number][\"New_pn_history\"].values[0] # save the text for the unique patient number\n",
    "    \n",
    "    final_train.append((text,{\"entities\":entities}))  # for each unique pn_number append to final list\n",
    "    \n",
    "# Serializing json \n",
    "json_object = json.dumps(final_train, indent = 4)\n",
    "  \n",
    "# Writing to sample.json\n",
    "with open(\"sample_6.json\", \"w\") as outfile:\n",
    "    outfile.write(json_object)\n",
    "    \n",
    "# Opening JSON file\n",
    "f = open(\"sample_6.json\")\n",
    " \n",
    "# returns JSON object as\n",
    "# a dictionary\n",
    "data = json.load(f)\n",
    "\n",
    "nlp = spacy.blank(\"en\")\n",
    "def create_training(TRAIN_DATA):\n",
    "    db = DocBin()\n",
    "    for text, annot in tqdm(TRAIN_DATA):\n",
    "        doc = nlp.make_doc(text)\n",
    "        ents = []\n",
    "        for start, end, label in annot[\"entities\"]:\n",
    "            span = doc.char_span(start, end, label=label, alignment_mode=\"contract\")\n",
    "            if span is None:\n",
    "                print (\"Skipping entity\")\n",
    "            else:\n",
    "                ents.append(span)\n",
    "        doc.ents = ents\n",
    "        db.add(doc)\n",
    "    return (db)\n",
    "\n",
    "train, validation = train_test_split(data, test_size = 0.2, random_state = 100)\n",
    "len(train),len(validation)"
   ]
  },
  {
   "cell_type": "code",
   "execution_count": 79,
   "id": "1494aedd",
   "metadata": {},
   "outputs": [
    {
     "name": "stderr",
     "output_type": "stream",
     "text": [
      "100%|█████████████████████████████████████████████████████████████████████████████████| 72/72 [00:00<00:00, 752.52it/s]\n"
     ]
    }
   ],
   "source": [
    "#train data set\n",
    "camp_train = create_training(train)\n",
    "camp_train.to_disk(\"nbme_train_6.spacy\")"
   ]
  },
  {
   "cell_type": "code",
   "execution_count": 80,
   "id": "090fe1c1",
   "metadata": {},
   "outputs": [
    {
     "name": "stderr",
     "output_type": "stream",
     "text": [
      "100%|████████████████████████████████████████████████████████████████████████████████| 19/19 [00:00<00:00, 1002.99it/s]\n"
     ]
    }
   ],
   "source": [
    "#Validation data set\n",
    "camp_validation = create_training(validation)\n",
    "camp_validation.to_disk(\"nbme_validation_6.spacy\")"
   ]
  },
  {
   "cell_type": "code",
   "execution_count": 81,
   "id": "b3b6bbae",
   "metadata": {},
   "outputs": [
    {
     "name": "stdout",
     "output_type": "stream",
     "text": [
      "[+] Auto-filled config with all values\n",
      "[+] Saved config\n",
      "config_6.cfg\n",
      "You can now add your data and train your pipeline:\n",
      "python -m spacy train config_6.cfg --paths.train ./train.spacy --paths.dev ./dev.spacy\n"
     ]
    },
    {
     "name": "stderr",
     "output_type": "stream",
     "text": [
      "2022-05-02 13:50:50.955700: W tensorflow/stream_executor/platform/default/dso_loader.cc:64] Could not load dynamic library 'cudart64_110.dll'; dlerror: cudart64_110.dll not found\n",
      "2022-05-02 13:50:50.955738: I tensorflow/stream_executor/cuda/cudart_stub.cc:29] Ignore above cudart dlerror if you do not have a GPU set up on your machine.\n"
     ]
    }
   ],
   "source": [
    "!python -m spacy init fill-config ./base_config_6.cfg ./config_6.cfg"
   ]
  },
  {
   "cell_type": "code",
   "execution_count": 82,
   "id": "94fbe8a3",
   "metadata": {},
   "outputs": [
    {
     "name": "stdout",
     "output_type": "stream",
     "text": [
      "[i] Saving to output directory: output_6\n",
      "[i] Using CPU\n",
      "\u001b[1m\n",
      "=========================== Initializing pipeline ===========================\u001b[0m\n",
      "[+] Initialized pipeline\n",
      "\u001b[1m\n",
      "============================= Training pipeline =============================\u001b[0m\n",
      "[i] Pipeline: ['tok2vec', 'ner']\n",
      "[i] Initial learn rate: 0.001\n",
      "E    #       LOSS TOK2VEC  LOSS NER  ENTS_F  ENTS_P  ENTS_R  SCORE \n",
      "---  ------  ------------  --------  ------  ------  ------  ------\n",
      "  0       0          0.00     59.83    0.48    0.25    4.76    0.00\n",
      "  2     200         28.76   1257.48   28.57   35.71   23.81    0.29\n",
      "  5     400       1194.77    480.44   34.29   42.86   28.57    0.34\n",
      "  8     600        217.44    150.39   40.00   42.11   38.10    0.40\n",
      " 11     800         65.57     88.83   43.24   50.00   38.10    0.43\n",
      " 13    1000        525.55     71.80   40.00   42.11   38.10    0.40\n",
      " 16    1200         26.65     16.68   22.86   28.57   19.05    0.23\n",
      " 19    1400         49.20     14.43   41.03   44.44   38.10    0.41\n",
      " 22    1600         22.14      8.30   37.21   36.36   38.10    0.37\n",
      " 25    1800         58.42     21.60   51.28   55.56   47.62    0.51\n",
      " 27    2000        105.71     38.33   43.90   45.00   42.86    0.44\n",
      " 30    2200         35.46     10.51   45.45   43.48   47.62    0.45\n",
      " 33    2400         57.91     20.17   47.83   44.00   52.38    0.48\n",
      " 36    2600         44.07     13.17   46.81   42.31   52.38    0.47\n",
      " 40    2800          0.15      0.03   35.00   36.84   33.33    0.35\n",
      " 46    3000         54.07      9.58   40.00   37.50   42.86    0.40\n",
      " 53    3200        246.44     49.22   32.43   37.50   28.57    0.32\n",
      " 62    3400         31.27      5.55   33.33   40.00   28.57    0.33\n",
      "[+] Saved pipeline to output directory\n",
      "output_6\\model-last\n"
     ]
    },
    {
     "name": "stderr",
     "output_type": "stream",
     "text": [
      "2022-05-02 13:50:55.085077: W tensorflow/stream_executor/platform/default/dso_loader.cc:64] Could not load dynamic library 'cudart64_110.dll'; dlerror: cudart64_110.dll not found\n",
      "2022-05-02 13:50:55.085115: I tensorflow/stream_executor/cuda/cudart_stub.cc:29] Ignore above cudart dlerror if you do not have a GPU set up on your machine.\n",
      "[2022-05-02 13:50:57,777] [INFO] Set up nlp object from config\n",
      "[2022-05-02 13:50:57,784] [INFO] Pipeline: ['tok2vec', 'ner']\n",
      "[2022-05-02 13:50:57,787] [INFO] Created vocabulary\n",
      "[2022-05-02 13:50:57,787] [INFO] Finished initializing nlp object\n",
      "[2022-05-02 13:50:58,171] [INFO] Initialized pipeline components: ['tok2vec', 'ner']\n"
     ]
    }
   ],
   "source": [
    "!python -m spacy train config_6.cfg --output ./output_6"
   ]
  },
  {
   "cell_type": "code",
   "execution_count": null,
   "id": "82c07e2f",
   "metadata": {},
   "outputs": [],
   "source": []
  },
  {
   "cell_type": "markdown",
   "id": "7cfcd892",
   "metadata": {},
   "source": [
    "### Feature 7"
   ]
  },
  {
   "cell_type": "code",
   "execution_count": 83,
   "id": "68464fb6",
   "metadata": {},
   "outputs": [
    {
     "data": {
      "text/plain": [
       "(75, 11)"
      ]
     },
     "execution_count": 83,
     "metadata": {},
     "output_type": "execute_result"
    }
   ],
   "source": [
    "case_0_7 = case_0[case_0[\"feature_num\"] == 7]\n",
    "case_0_7.shape"
   ]
  },
  {
   "cell_type": "code",
   "execution_count": 84,
   "id": "7578506e",
   "metadata": {},
   "outputs": [
    {
     "data": {
      "text/plain": [
       "(58, 15)"
      ]
     },
     "execution_count": 84,
     "metadata": {},
     "output_type": "execute_result"
    }
   ],
   "source": [
    "pn_Num_list = list(case_0_7.pn_num.unique())\n",
    "\n",
    "final_train = []   # appending all the individual rows\n",
    "for patient_number in pn_Num_list:  # for each unique patient number\n",
    "    entities = []  # saving individaual entities locations\n",
    "    for row_index,row in case_0_7[case_0_7.pn_num == patient_number].iterrows():  # for each unique patient number \n",
    "        \n",
    "        entities.append((int(row[\"start_location\"]),int(row[\"end_location\"]),\"Feature_\" + str(row[\"feature_num\"]))) # store the locations in numeric format\n",
    "        \n",
    "    text = case_0_7[case_0_7.pn_num == patient_number][\"New_pn_history\"].values[0] # save the text for the unique patient number\n",
    "    \n",
    "    final_train.append((text,{\"entities\":entities}))  # for each unique pn_number append to final list\n",
    "    \n",
    "# Serializing json \n",
    "json_object = json.dumps(final_train, indent = 4)\n",
    "  \n",
    "# Writing to sample.json\n",
    "with open(\"sample_7.json\", \"w\") as outfile:\n",
    "    outfile.write(json_object)\n",
    "    \n",
    "# Opening JSON file\n",
    "f = open(\"sample_7.json\")\n",
    " \n",
    "# returns JSON object as\n",
    "# a dictionary\n",
    "data = json.load(f)\n",
    "\n",
    "nlp = spacy.blank(\"en\")\n",
    "def create_training(TRAIN_DATA):\n",
    "    db = DocBin()\n",
    "    for text, annot in tqdm(TRAIN_DATA):\n",
    "        doc = nlp.make_doc(text)\n",
    "        ents = []\n",
    "        for start, end, label in annot[\"entities\"]:\n",
    "            span = doc.char_span(start, end, label=label, alignment_mode=\"contract\")\n",
    "            if span is None:\n",
    "                print (\"Skipping entity\")\n",
    "            else:\n",
    "                ents.append(span)\n",
    "        doc.ents = ents\n",
    "        db.add(doc)\n",
    "    return (db)\n",
    "\n",
    "train, validation = train_test_split(data, test_size = 0.2, random_state = 100)\n",
    "len(train),len(validation)"
   ]
  },
  {
   "cell_type": "code",
   "execution_count": 85,
   "id": "844f6119",
   "metadata": {},
   "outputs": [
    {
     "name": "stderr",
     "output_type": "stream",
     "text": [
      "100%|█████████████████████████████████████████████████████████████████████████████████| 58/58 [00:00<00:00, 842.44it/s]\n"
     ]
    }
   ],
   "source": [
    "#train data set\n",
    "camp_train = create_training(train)\n",
    "camp_train.to_disk(\"nbme_train_7.spacy\")"
   ]
  },
  {
   "cell_type": "code",
   "execution_count": 86,
   "id": "39b0b90e",
   "metadata": {},
   "outputs": [
    {
     "name": "stderr",
     "output_type": "stream",
     "text": [
      "100%|█████████████████████████████████████████████████████████████████████████████████| 15/15 [00:00<00:00, 940.93it/s]\n"
     ]
    }
   ],
   "source": [
    "#Validation data set\n",
    "camp_validation = create_training(validation)\n",
    "camp_validation.to_disk(\"nbme_validation_7.spacy\")"
   ]
  },
  {
   "cell_type": "code",
   "execution_count": 87,
   "id": "8e7aea14",
   "metadata": {},
   "outputs": [
    {
     "name": "stdout",
     "output_type": "stream",
     "text": [
      "[+] Auto-filled config with all values\n",
      "[+] Saved config\n",
      "config_7.cfg\n",
      "You can now add your data and train your pipeline:\n",
      "python -m spacy train config_7.cfg --paths.train ./train.spacy --paths.dev ./dev.spacy\n"
     ]
    },
    {
     "name": "stderr",
     "output_type": "stream",
     "text": [
      "2022-05-02 13:54:30.812276: W tensorflow/stream_executor/platform/default/dso_loader.cc:64] Could not load dynamic library 'cudart64_110.dll'; dlerror: cudart64_110.dll not found\n",
      "2022-05-02 13:54:30.812313: I tensorflow/stream_executor/cuda/cudart_stub.cc:29] Ignore above cudart dlerror if you do not have a GPU set up on your machine.\n"
     ]
    }
   ],
   "source": [
    "!python -m spacy init fill-config ./base_config_7.cfg ./config_7.cfg"
   ]
  },
  {
   "cell_type": "code",
   "execution_count": 88,
   "id": "d6130f6e",
   "metadata": {},
   "outputs": [
    {
     "name": "stdout",
     "output_type": "stream",
     "text": [
      "[i] Saving to output directory: output_7\n",
      "[i] Using CPU\n",
      "\u001b[1m\n",
      "=========================== Initializing pipeline ===========================\u001b[0m\n",
      "[+] Initialized pipeline\n",
      "\u001b[1m\n",
      "============================= Training pipeline =============================\u001b[0m\n",
      "[i] Pipeline: ['tok2vec', 'ner']\n",
      "[i] Initial learn rate: 0.001\n",
      "E    #       LOSS TOK2VEC  LOSS NER  ENTS_F  ENTS_P  ENTS_R  SCORE \n",
      "---  ------  ------------  --------  ------  ------  ------  ------\n",
      "  0       0          0.00     67.50    0.00    0.00    0.00    0.00\n",
      "  3     200       2816.96   2150.78   93.75   88.24  100.00    0.94\n",
      "  6     400         14.17     43.02   96.77   93.75  100.00    0.97\n",
      " 10     600          4.82      5.95   96.77   93.75  100.00    0.97\n",
      " 13     800          0.00      0.00   96.77   93.75  100.00    0.97\n",
      " 17    1000          0.00      0.00   96.77   93.75  100.00    0.97\n",
      " 20    1200          0.00      0.00   96.77   93.75  100.00    0.97\n",
      " 24    1400          0.00      0.00   96.77   93.75  100.00    0.97\n",
      " 27    1600          0.00      0.00   96.77   93.75  100.00    0.97\n",
      " 31    1800          0.00      0.00   96.77   93.75  100.00    0.97\n",
      " 34    2000          0.00      0.00   96.77   93.75  100.00    0.97\n",
      "[+] Saved pipeline to output directory\n",
      "output_7\\model-last\n"
     ]
    },
    {
     "name": "stderr",
     "output_type": "stream",
     "text": [
      "2022-05-02 13:54:34.715026: W tensorflow/stream_executor/platform/default/dso_loader.cc:64] Could not load dynamic library 'cudart64_110.dll'; dlerror: cudart64_110.dll not found\n",
      "2022-05-02 13:54:34.715071: I tensorflow/stream_executor/cuda/cudart_stub.cc:29] Ignore above cudart dlerror if you do not have a GPU set up on your machine.\n",
      "[2022-05-02 13:54:37,274] [INFO] Set up nlp object from config\n",
      "[2022-05-02 13:54:37,281] [INFO] Pipeline: ['tok2vec', 'ner']\n",
      "[2022-05-02 13:54:37,284] [INFO] Created vocabulary\n",
      "[2022-05-02 13:54:37,285] [INFO] Finished initializing nlp object\n",
      "[2022-05-02 13:54:37,628] [INFO] Initialized pipeline components: ['tok2vec', 'ner']\n"
     ]
    }
   ],
   "source": [
    "!python -m spacy train config_7.cfg --output ./output_7"
   ]
  },
  {
   "cell_type": "code",
   "execution_count": null,
   "id": "8115a5e4",
   "metadata": {},
   "outputs": [],
   "source": []
  },
  {
   "cell_type": "markdown",
   "id": "9abf2425",
   "metadata": {},
   "source": [
    "### Feature 8"
   ]
  },
  {
   "cell_type": "code",
   "execution_count": 89,
   "id": "ecb4bdb8",
   "metadata": {},
   "outputs": [
    {
     "data": {
      "text/plain": [
       "(116, 11)"
      ]
     },
     "execution_count": 89,
     "metadata": {},
     "output_type": "execute_result"
    }
   ],
   "source": [
    "case_0_8 = case_0[case_0[\"feature_num\"] == 8]\n",
    "case_0_8.shape"
   ]
  },
  {
   "cell_type": "code",
   "execution_count": 90,
   "id": "a2541f2e",
   "metadata": {},
   "outputs": [
    {
     "data": {
      "text/plain": [
       "(80, 20)"
      ]
     },
     "execution_count": 90,
     "metadata": {},
     "output_type": "execute_result"
    }
   ],
   "source": [
    "pn_Num_list = list(case_0_8.pn_num.unique())\n",
    "\n",
    "final_train = []   # appending all the individual rows\n",
    "for patient_number in pn_Num_list:  # for each unique patient number\n",
    "    entities = []  # saving individaual entities locations\n",
    "    for row_index,row in case_0_8[case_0_8.pn_num == patient_number].iterrows():  # for each unique patient number \n",
    "        \n",
    "        entities.append((int(row[\"start_location\"]),int(row[\"end_location\"]),\"Feature_\" + str(row[\"feature_num\"]))) # store the locations in numeric format\n",
    "        \n",
    "    text = case_0_8[case_0_8.pn_num == patient_number][\"New_pn_history\"].values[0] # save the text for the unique patient number\n",
    "    \n",
    "    final_train.append((text,{\"entities\":entities}))  # for each unique pn_number append to final list\n",
    "    \n",
    "# Serializing json \n",
    "json_object = json.dumps(final_train, indent = 4)\n",
    "  \n",
    "# Writing to sample.json\n",
    "with open(\"sample_8.json\", \"w\") as outfile:\n",
    "    outfile.write(json_object)\n",
    "    \n",
    "# Opening JSON file\n",
    "f = open(\"sample_8.json\")\n",
    " \n",
    "# returns JSON object as\n",
    "# a dictionary\n",
    "data = json.load(f)\n",
    "\n",
    "nlp = spacy.blank(\"en\")\n",
    "def create_training(TRAIN_DATA):\n",
    "    db = DocBin()\n",
    "    for text, annot in tqdm(TRAIN_DATA):\n",
    "        doc = nlp.make_doc(text)\n",
    "        ents = []\n",
    "        for start, end, label in annot[\"entities\"]:\n",
    "            span = doc.char_span(start, end, label=label, alignment_mode=\"contract\")\n",
    "            if span is None:\n",
    "                print (\"Skipping entity\")\n",
    "            else:\n",
    "                ents.append(span)\n",
    "        doc.ents = ents\n",
    "        db.add(doc)\n",
    "    return (db)\n",
    "\n",
    "train, validation = train_test_split(data, test_size = 0.2, random_state = 100)\n",
    "len(train),len(validation)"
   ]
  },
  {
   "cell_type": "code",
   "execution_count": 91,
   "id": "9f4ae788",
   "metadata": {},
   "outputs": [
    {
     "name": "stderr",
     "output_type": "stream",
     "text": [
      "100%|█████████████████████████████████████████████████████████████████████████████████| 80/80 [00:00<00:00, 882.07it/s]"
     ]
    },
    {
     "name": "stdout",
     "output_type": "stream",
     "text": [
      "Skipping entity\n"
     ]
    },
    {
     "name": "stderr",
     "output_type": "stream",
     "text": [
      "\n"
     ]
    }
   ],
   "source": [
    "#train data set\n",
    "camp_train = create_training(train)\n",
    "camp_train.to_disk(\"nbme_train_8.spacy\")"
   ]
  },
  {
   "cell_type": "code",
   "execution_count": 92,
   "id": "d712b3bb",
   "metadata": {},
   "outputs": [
    {
     "name": "stderr",
     "output_type": "stream",
     "text": [
      "100%|█████████████████████████████████████████████████████████████████████████████████| 20/20 [00:00<00:00, 912.15it/s]\n"
     ]
    }
   ],
   "source": [
    "#Validation data set\n",
    "camp_validation = create_training(validation)\n",
    "camp_validation.to_disk(\"nbme_validation_8.spacy\")"
   ]
  },
  {
   "cell_type": "code",
   "execution_count": 93,
   "id": "9b298973",
   "metadata": {},
   "outputs": [
    {
     "name": "stdout",
     "output_type": "stream",
     "text": [
      "[+] Auto-filled config with all values\n",
      "[+] Saved config\n",
      "config_8.cfg\n",
      "You can now add your data and train your pipeline:\n",
      "python -m spacy train config_8.cfg --paths.train ./train.spacy --paths.dev ./dev.spacy\n"
     ]
    },
    {
     "name": "stderr",
     "output_type": "stream",
     "text": [
      "2022-05-02 13:56:34.016023: W tensorflow/stream_executor/platform/default/dso_loader.cc:64] Could not load dynamic library 'cudart64_110.dll'; dlerror: cudart64_110.dll not found\n",
      "2022-05-02 13:56:34.016062: I tensorflow/stream_executor/cuda/cudart_stub.cc:29] Ignore above cudart dlerror if you do not have a GPU set up on your machine.\n"
     ]
    }
   ],
   "source": [
    "!python -m spacy init fill-config ./base_config_8.cfg ./config_8.cfg"
   ]
  },
  {
   "cell_type": "code",
   "execution_count": 94,
   "id": "09381a51",
   "metadata": {},
   "outputs": [
    {
     "name": "stdout",
     "output_type": "stream",
     "text": [
      "[i] Saving to output directory: output_8\n",
      "[i] Using CPU\n",
      "\u001b[1m\n",
      "=========================== Initializing pipeline ===========================\u001b[0m\n",
      "[+] Initialized pipeline\n",
      "\u001b[1m\n",
      "============================= Training pipeline =============================\u001b[0m\n",
      "[i] Pipeline: ['tok2vec', 'ner']\n",
      "[i] Initial learn rate: 0.001\n",
      "E    #       LOSS TOK2VEC  LOSS NER  ENTS_F  ENTS_P  ENTS_R  SCORE \n",
      "---  ------  ------------  --------  ------  ------  ------  ------\n",
      "  0       0          0.00     50.33    0.00    0.00    0.00    0.00\n",
      "  2     200         20.23   1358.78   54.55   44.12   71.43    0.55\n",
      "  5     400         40.73    246.01   56.52   52.00   61.90    0.57\n",
      "  7     600       2251.95    417.70   44.44   53.33   38.10    0.44\n",
      " 10     800       2531.32    220.99   50.00   47.83   52.38    0.50\n",
      " 12    1000        148.46    152.25   43.24   50.00   38.10    0.43\n",
      " 15    1200        118.01    131.15   41.18   53.85   33.33    0.41\n",
      " 17    1400        117.48    105.95   50.00   52.63   47.62    0.50\n",
      " 20    1600        124.85    118.33   54.55   52.17   57.14    0.55\n",
      " 22    1800        105.25     95.37   38.89   46.67   33.33    0.39\n",
      " 25    2000      13592.92    140.99   40.00   50.00   33.33    0.40\n",
      "[+] Saved pipeline to output directory\n",
      "output_8\\model-last\n"
     ]
    },
    {
     "name": "stderr",
     "output_type": "stream",
     "text": [
      "2022-05-02 13:56:37.908665: W tensorflow/stream_executor/platform/default/dso_loader.cc:64] Could not load dynamic library 'cudart64_110.dll'; dlerror: cudart64_110.dll not found\n",
      "2022-05-02 13:56:37.908708: I tensorflow/stream_executor/cuda/cudart_stub.cc:29] Ignore above cudart dlerror if you do not have a GPU set up on your machine.\n",
      "[2022-05-02 13:56:40,471] [INFO] Set up nlp object from config\n",
      "[2022-05-02 13:56:40,478] [INFO] Pipeline: ['tok2vec', 'ner']\n",
      "[2022-05-02 13:56:40,481] [INFO] Created vocabulary\n",
      "[2022-05-02 13:56:40,481] [INFO] Finished initializing nlp object\n",
      "[2022-05-02 13:56:40,872] [INFO] Initialized pipeline components: ['tok2vec', 'ner']\n"
     ]
    }
   ],
   "source": [
    "!python -m spacy train config_8.cfg --output ./output_8"
   ]
  },
  {
   "cell_type": "code",
   "execution_count": null,
   "id": "5aa38b4f",
   "metadata": {},
   "outputs": [],
   "source": []
  },
  {
   "cell_type": "markdown",
   "id": "29adad4f",
   "metadata": {},
   "source": [
    "### Feature 9"
   ]
  },
  {
   "cell_type": "code",
   "execution_count": 95,
   "id": "4c8a0787",
   "metadata": {},
   "outputs": [
    {
     "data": {
      "text/plain": [
       "(160, 11)"
      ]
     },
     "execution_count": 95,
     "metadata": {},
     "output_type": "execute_result"
    }
   ],
   "source": [
    "case_0_9 = case_0[case_0[\"feature_num\"] == 9]\n",
    "case_0_9.shape"
   ]
  },
  {
   "cell_type": "code",
   "execution_count": 96,
   "id": "cdc08857",
   "metadata": {},
   "outputs": [
    {
     "data": {
      "text/plain": [
       "(103, 26)"
      ]
     },
     "execution_count": 96,
     "metadata": {},
     "output_type": "execute_result"
    }
   ],
   "source": [
    "pn_Num_list = list(case_0_9.pn_num.unique())\n",
    "\n",
    "final_train = []   # appending all the individual rows\n",
    "for patient_number in pn_Num_list:  # for each unique patient number\n",
    "    entities = []  # saving individaual entities locations\n",
    "    for row_index,row in case_0_9[case_0_9.pn_num == patient_number].iterrows():  # for each unique patient number \n",
    "        \n",
    "        entities.append((int(row[\"start_location\"]),int(row[\"end_location\"]),\"Feature_\" + str(row[\"feature_num\"]))) # store the locations in numeric format\n",
    "        \n",
    "    text = case_0_9[case_0_9.pn_num == patient_number][\"New_pn_history\"].values[0] # save the text for the unique patient number\n",
    "    \n",
    "    final_train.append((text,{\"entities\":entities}))  # for each unique pn_number append to final list\n",
    "    \n",
    "# Serializing json \n",
    "json_object = json.dumps(final_train, indent = 4)\n",
    "  \n",
    "# Writing to sample.json\n",
    "with open(\"sample_9.json\", \"w\") as outfile:\n",
    "    outfile.write(json_object)\n",
    "    \n",
    "# Opening JSON file\n",
    "f = open(\"sample_9.json\")\n",
    " \n",
    "# returns JSON object as\n",
    "# a dictionary\n",
    "data = json.load(f)\n",
    "\n",
    "nlp = spacy.blank(\"en\")\n",
    "def create_training(TRAIN_DATA):\n",
    "    db = DocBin()\n",
    "    for text, annot in tqdm(TRAIN_DATA):\n",
    "        doc = nlp.make_doc(text)\n",
    "        ents = []\n",
    "        for start, end, label in annot[\"entities\"]:\n",
    "            span = doc.char_span(start, end, label=label, alignment_mode=\"contract\")\n",
    "            if span is None:\n",
    "                print (\"Skipping entity\")\n",
    "            else:\n",
    "                ents.append(span)\n",
    "        doc.ents = ents\n",
    "        db.add(doc)\n",
    "    return (db)\n",
    "\n",
    "train, validation = train_test_split(data, test_size = 0.2, random_state = 100)\n",
    "len(train),len(validation)"
   ]
  },
  {
   "cell_type": "code",
   "execution_count": 97,
   "id": "9d1ed7b8",
   "metadata": {},
   "outputs": [
    {
     "name": "stderr",
     "output_type": "stream",
     "text": [
      "100%|███████████████████████████████████████████████████████████████████████████████| 103/103 [00:00<00:00, 854.08it/s]\n"
     ]
    }
   ],
   "source": [
    "#train data set\n",
    "camp_train = create_training(train)\n",
    "camp_train.to_disk(\"nbme_train_9.spacy\")"
   ]
  },
  {
   "cell_type": "code",
   "execution_count": 98,
   "id": "01dfe8fb",
   "metadata": {},
   "outputs": [
    {
     "name": "stderr",
     "output_type": "stream",
     "text": [
      "100%|█████████████████████████████████████████████████████████████████████████████████| 26/26 [00:00<00:00, 788.40it/s]\n"
     ]
    }
   ],
   "source": [
    "#Validation data set\n",
    "camp_validation = create_training(validation)\n",
    "camp_validation.to_disk(\"nbme_validation_9.spacy\")"
   ]
  },
  {
   "cell_type": "code",
   "execution_count": 99,
   "id": "8bc225b5",
   "metadata": {},
   "outputs": [
    {
     "name": "stdout",
     "output_type": "stream",
     "text": [
      "[+] Auto-filled config with all values\n",
      "[+] Saved config\n",
      "config_9.cfg\n",
      "You can now add your data and train your pipeline:\n",
      "python -m spacy train config_9.cfg --paths.train ./train.spacy --paths.dev ./dev.spacy\n"
     ]
    },
    {
     "name": "stderr",
     "output_type": "stream",
     "text": [
      "2022-05-02 13:58:39.740485: W tensorflow/stream_executor/platform/default/dso_loader.cc:64] Could not load dynamic library 'cudart64_110.dll'; dlerror: cudart64_110.dll not found\n",
      "2022-05-02 13:58:39.740524: I tensorflow/stream_executor/cuda/cudart_stub.cc:29] Ignore above cudart dlerror if you do not have a GPU set up on your machine.\n"
     ]
    }
   ],
   "source": [
    "!python -m spacy init fill-config ./base_config_9.cfg ./config_9.cfg"
   ]
  },
  {
   "cell_type": "code",
   "execution_count": 100,
   "id": "acd84367",
   "metadata": {},
   "outputs": [
    {
     "name": "stdout",
     "output_type": "stream",
     "text": [
      "[i] Saving to output directory: output_9\n",
      "[i] Using CPU\n",
      "\u001b[1m\n",
      "=========================== Initializing pipeline ===========================\u001b[0m\n",
      "[+] Initialized pipeline\n",
      "\u001b[1m\n",
      "============================= Training pipeline =============================\u001b[0m\n",
      "[i] Pipeline: ['tok2vec', 'ner']\n",
      "[i] Initial learn rate: 0.001\n",
      "E    #       LOSS TOK2VEC  LOSS NER  ENTS_F  ENTS_P  ENTS_R  SCORE \n",
      "---  ------  ------------  --------  ------  ------  ------  ------\n",
      "  0       0          0.00     54.17    0.00    0.00    0.00    0.00\n",
      "  1     200         30.01   1206.73   62.50   54.35   73.53    0.62\n",
      "  3     400      22040.39    668.00   71.79   63.64   82.35    0.72\n",
      "  5     600       2026.26    174.60   68.57   66.67   70.59    0.69\n",
      "  7     800       1315.77    142.60   73.24   70.27   76.47    0.73\n",
      "  9    1000         73.27     91.95   74.29   72.22   76.47    0.74\n",
      " 11    1200         76.22     69.59   75.00   80.00   70.59    0.75\n",
      " 13    1400         79.56     63.21   72.46   71.43   73.53    0.72\n",
      " 15    1600         67.81     44.20   71.88   76.67   67.65    0.72\n",
      " 17    1800        101.96     42.36   68.97   83.33   58.82    0.69\n",
      " 19    2000         86.85     38.27   66.67   76.92   58.82    0.67\n",
      " 21    2200         70.94     31.55   80.56   76.32   85.29    0.81\n",
      " 24    2400        109.85     43.84   66.67   76.92   58.82    0.67\n",
      " 27    2600        131.62     40.16   69.84   75.86   64.71    0.70\n",
      " 32    2800         61.72     25.07   68.75   73.33   64.71    0.69\n",
      " 38    3000        178.04     50.19   72.13   81.48   64.71    0.72\n",
      " 45    3200         89.75     29.08   71.88   76.67   67.65    0.72\n",
      " 54    3400        197.61     40.07   70.59   70.59   70.59    0.71\n",
      " 65    3600         87.56     15.49   73.85   77.42   70.59    0.74\n",
      " 76    3800         33.06      5.97   73.85   77.42   70.59    0.74\n",
      "[+] Saved pipeline to output directory\n",
      "output_9\\model-last\n"
     ]
    },
    {
     "name": "stderr",
     "output_type": "stream",
     "text": [
      "2022-05-02 13:58:43.672796: W tensorflow/stream_executor/platform/default/dso_loader.cc:64] Could not load dynamic library 'cudart64_110.dll'; dlerror: cudart64_110.dll not found\n",
      "2022-05-02 13:58:43.672841: I tensorflow/stream_executor/cuda/cudart_stub.cc:29] Ignore above cudart dlerror if you do not have a GPU set up on your machine.\n",
      "[2022-05-02 13:58:46,202] [INFO] Set up nlp object from config\n",
      "[2022-05-02 13:58:46,209] [INFO] Pipeline: ['tok2vec', 'ner']\n",
      "[2022-05-02 13:58:46,211] [INFO] Created vocabulary\n",
      "[2022-05-02 13:58:46,212] [INFO] Finished initializing nlp object\n",
      "[2022-05-02 13:58:46,641] [INFO] Initialized pipeline components: ['tok2vec', 'ner']\n"
     ]
    }
   ],
   "source": [
    "!python -m spacy train config_9.cfg --output ./output_9"
   ]
  },
  {
   "cell_type": "code",
   "execution_count": null,
   "id": "5ed26382",
   "metadata": {},
   "outputs": [],
   "source": []
  },
  {
   "cell_type": "markdown",
   "id": "8a72ca04",
   "metadata": {},
   "source": [
    "### Feature 10"
   ]
  },
  {
   "cell_type": "code",
   "execution_count": 101,
   "id": "b5509977",
   "metadata": {},
   "outputs": [
    {
     "data": {
      "text/plain": [
       "(99, 11)"
      ]
     },
     "execution_count": 101,
     "metadata": {},
     "output_type": "execute_result"
    }
   ],
   "source": [
    "case_0_10 = case_0[case_0[\"feature_num\"] == 10]\n",
    "case_0_10.shape"
   ]
  },
  {
   "cell_type": "code",
   "execution_count": 102,
   "id": "a058b228",
   "metadata": {},
   "outputs": [
    {
     "data": {
      "text/plain": [
       "(73, 19)"
      ]
     },
     "execution_count": 102,
     "metadata": {},
     "output_type": "execute_result"
    }
   ],
   "source": [
    "pn_Num_list = list(case_0_10.pn_num.unique())\n",
    "\n",
    "final_train = []   # appending all the individual rows\n",
    "for patient_number in pn_Num_list:  # for each unique patient number\n",
    "    entities = []  # saving individaual entities locations\n",
    "    for row_index,row in case_0_10[case_0_10.pn_num == patient_number].iterrows():  # for each unique patient number \n",
    "        \n",
    "        entities.append((int(row[\"start_location\"]),int(row[\"end_location\"]),\"Feature_\" + str(row[\"feature_num\"]))) # store the locations in numeric format\n",
    "        \n",
    "    text = case_0_10[case_0_10.pn_num == patient_number][\"New_pn_history\"].values[0] # save the text for the unique patient number\n",
    "    \n",
    "    final_train.append((text,{\"entities\":entities}))  # for each unique pn_number append to final list\n",
    "    \n",
    "# Serializing json \n",
    "json_object = json.dumps(final_train, indent = 4)\n",
    "  \n",
    "# Writing to sample.json\n",
    "with open(\"sample_10.json\", \"w\") as outfile:\n",
    "    outfile.write(json_object)\n",
    "    \n",
    "# Opening JSON file\n",
    "f = open(\"sample_10.json\")\n",
    " \n",
    "# returns JSON object as\n",
    "# a dictionary\n",
    "data = json.load(f)\n",
    "\n",
    "nlp = spacy.blank(\"en\")\n",
    "def create_training(TRAIN_DATA):\n",
    "    db = DocBin()\n",
    "    for text, annot in tqdm(TRAIN_DATA):\n",
    "        doc = nlp.make_doc(text)\n",
    "        ents = []\n",
    "        for start, end, label in annot[\"entities\"]:\n",
    "            span = doc.char_span(start, end, label=label, alignment_mode=\"contract\")\n",
    "            if span is None:\n",
    "                print (\"Skipping entity\")\n",
    "            else:\n",
    "                ents.append(span)\n",
    "        doc.ents = ents\n",
    "        db.add(doc)\n",
    "    return (db)\n",
    "\n",
    "train, validation = train_test_split(data, test_size = 0.2, random_state = 100)\n",
    "len(train),len(validation)"
   ]
  },
  {
   "cell_type": "code",
   "execution_count": 103,
   "id": "7f52582f",
   "metadata": {},
   "outputs": [
    {
     "name": "stderr",
     "output_type": "stream",
     "text": [
      "100%|█████████████████████████████████████████████████████████████████████████████████| 73/73 [00:00<00:00, 871.24it/s]\n"
     ]
    }
   ],
   "source": [
    "#train data set\n",
    "camp_train = create_training(train)\n",
    "camp_train.to_disk(\"nbme_train_10.spacy\")"
   ]
  },
  {
   "cell_type": "code",
   "execution_count": 104,
   "id": "b7a6842a",
   "metadata": {},
   "outputs": [
    {
     "name": "stderr",
     "output_type": "stream",
     "text": [
      "100%|█████████████████████████████████████████████████████████████████████████████████| 19/19 [00:00<00:00, 828.79it/s]\n"
     ]
    }
   ],
   "source": [
    "#Validation data set\n",
    "camp_validation = create_training(validation)\n",
    "camp_validation.to_disk(\"nbme_validation_10.spacy\")"
   ]
  },
  {
   "cell_type": "code",
   "execution_count": 105,
   "id": "24e69115",
   "metadata": {},
   "outputs": [
    {
     "name": "stdout",
     "output_type": "stream",
     "text": [
      "[+] Auto-filled config with all values\n",
      "[+] Saved config\n",
      "config_10.cfg\n",
      "You can now add your data and train your pipeline:\n",
      "python -m spacy train config_10.cfg --paths.train ./train.spacy --paths.dev ./dev.spacy\n"
     ]
    },
    {
     "name": "stderr",
     "output_type": "stream",
     "text": [
      "2022-05-02 14:03:23.468008: W tensorflow/stream_executor/platform/default/dso_loader.cc:64] Could not load dynamic library 'cudart64_110.dll'; dlerror: cudart64_110.dll not found\n",
      "2022-05-02 14:03:23.468050: I tensorflow/stream_executor/cuda/cudart_stub.cc:29] Ignore above cudart dlerror if you do not have a GPU set up on your machine.\n"
     ]
    }
   ],
   "source": [
    "!python -m spacy init fill-config ./base_config_10.cfg ./config_10.cfg"
   ]
  },
  {
   "cell_type": "code",
   "execution_count": 106,
   "id": "01e07476",
   "metadata": {},
   "outputs": [
    {
     "name": "stdout",
     "output_type": "stream",
     "text": [
      "[i] Saving to output directory: output_10"
     ]
    },
    {
     "name": "stderr",
     "output_type": "stream",
     "text": [
      "2022-05-02 14:03:27.398933: W tensorflow/stream_executor/platform/default/dso_loader.cc:64] Could not load dynamic library 'cudart64_110.dll'; dlerror: cudart64_110.dll not found\n",
      "2022-05-02 14:03:27.398974: I tensorflow/stream_executor/cuda/cudart_stub.cc:29] Ignore above cudart dlerror if you do not have a GPU set up on your machine.\n",
      "[2022-05-02 14:03:29,955] [INFO] Set up nlp object from config\n",
      "[2022-05-02 14:03:29,962] [INFO] Pipeline: ['tok2vec', 'ner']\n",
      "[2022-05-02 14:03:29,965] [INFO] Created vocabulary\n",
      "[2022-05-02 14:03:29,965] [INFO] Finished initializing nlp object\n",
      "[2022-05-02 14:03:30,334] [INFO] Initialized pipeline components: ['tok2vec', 'ner']\n"
     ]
    },
    {
     "name": "stdout",
     "output_type": "stream",
     "text": [
      "\n",
      "[i] Using CPU\n",
      "\u001b[1m\n",
      "=========================== Initializing pipeline ===========================\u001b[0m\n",
      "[+] Initialized pipeline\n",
      "\u001b[1m\n",
      "============================= Training pipeline =============================\u001b[0m\n",
      "[i] Pipeline: ['tok2vec', 'ner']\n",
      "[i] Initial learn rate: 0.001\n",
      "E    #       LOSS TOK2VEC  LOSS NER  ENTS_F  ENTS_P  ENTS_R  SCORE \n",
      "---  ------  ------------  --------  ------  ------  ------  ------\n",
      "  0       0          0.00     60.83    0.00    0.00    0.00    0.00\n",
      "  2     200       3171.75   2613.93   24.24   30.77   20.00    0.24\n",
      "  5     400         48.68    251.71   60.87   53.85   70.00    0.61\n",
      "  8     600        106.84    179.28   55.56   62.50   50.00    0.56\n",
      " 10     800         89.40    107.85   54.55   50.00   60.00    0.55\n",
      " 13    1000         71.18     84.02   48.78   47.62   50.00    0.49\n",
      " 16    1200         76.13     73.56   51.16   47.83   55.00    0.51\n",
      " 19    1400        532.74     56.43   55.56   62.50   50.00    0.56\n",
      " 21    1600         60.67     46.53   53.66   52.38   55.00    0.54\n",
      " 24    1800        104.73     47.10   44.44   40.00   50.00    0.44\n",
      " 27    2000         57.90     41.32   46.51   43.48   50.00    0.47\n",
      "[+] Saved pipeline to output directory\n",
      "output_10\\model-last\n"
     ]
    }
   ],
   "source": [
    "!python -m spacy train config_10.cfg --output ./output_10"
   ]
  },
  {
   "cell_type": "code",
   "execution_count": null,
   "id": "e5ed2e74",
   "metadata": {},
   "outputs": [],
   "source": []
  },
  {
   "cell_type": "markdown",
   "id": "2e744e4c",
   "metadata": {},
   "source": [
    "### Feature 11"
   ]
  },
  {
   "cell_type": "code",
   "execution_count": 107,
   "id": "88615d46",
   "metadata": {},
   "outputs": [
    {
     "data": {
      "text/plain": [
       "(94, 11)"
      ]
     },
     "execution_count": 107,
     "metadata": {},
     "output_type": "execute_result"
    }
   ],
   "source": [
    "case_0_11 = case_0[case_0[\"feature_num\"] == 11]\n",
    "case_0_11.shape"
   ]
  },
  {
   "cell_type": "code",
   "execution_count": 108,
   "id": "4701d5fe",
   "metadata": {},
   "outputs": [
    {
     "data": {
      "text/plain": [
       "(75, 19)"
      ]
     },
     "execution_count": 108,
     "metadata": {},
     "output_type": "execute_result"
    }
   ],
   "source": [
    "pn_Num_list = list(case_0_11.pn_num.unique())\n",
    "\n",
    "final_train = []   # appending all the individual rows\n",
    "for patient_number in pn_Num_list:  # for each unique patient number\n",
    "    entities = []  # saving individaual entities locations\n",
    "    for row_index,row in case_0_11[case_0_11.pn_num == patient_number].iterrows():  # for each unique patient number \n",
    "        \n",
    "        entities.append((int(row[\"start_location\"]),int(row[\"end_location\"]),\"Feature_\" + str(row[\"feature_num\"]))) # store the locations in numeric format\n",
    "        \n",
    "    text = case_0_11[case_0_11.pn_num == patient_number][\"New_pn_history\"].values[0] # save the text for the unique patient number\n",
    "    \n",
    "    final_train.append((text,{\"entities\":entities}))  # for each unique pn_number append to final list\n",
    "    \n",
    "# Serializing json \n",
    "json_object = json.dumps(final_train, indent = 4)\n",
    "  \n",
    "# Writing to sample.json\n",
    "with open(\"sample_11.json\", \"w\") as outfile:\n",
    "    outfile.write(json_object)\n",
    "    \n",
    "# Opening JSON file\n",
    "f = open(\"sample_11.json\")\n",
    " \n",
    "# returns JSON object as\n",
    "# a dictionary\n",
    "data = json.load(f)\n",
    "\n",
    "nlp = spacy.blank(\"en\")\n",
    "def create_training(TRAIN_DATA):\n",
    "    db = DocBin()\n",
    "    for text, annot in tqdm(TRAIN_DATA):\n",
    "        doc = nlp.make_doc(text)\n",
    "        ents = []\n",
    "        for start, end, label in annot[\"entities\"]:\n",
    "            span = doc.char_span(start, end, label=label, alignment_mode=\"contract\")\n",
    "            if span is None:\n",
    "                print (\"Skipping entity\")\n",
    "            else:\n",
    "                ents.append(span)\n",
    "        doc.ents = ents\n",
    "        db.add(doc)\n",
    "    return (db)\n",
    "\n",
    "train, validation = train_test_split(data, test_size = 0.2, random_state = 100)\n",
    "len(train),len(validation)"
   ]
  },
  {
   "cell_type": "code",
   "execution_count": 109,
   "id": "8fff051f",
   "metadata": {},
   "outputs": [
    {
     "name": "stderr",
     "output_type": "stream",
     "text": [
      "100%|█████████████████████████████████████████████████████████████████████████████████| 75/75 [00:00<00:00, 844.86it/s]\n"
     ]
    }
   ],
   "source": [
    "#train data set\n",
    "camp_train = create_training(train)\n",
    "camp_train.to_disk(\"nbme_train_11.spacy\")"
   ]
  },
  {
   "cell_type": "code",
   "execution_count": 110,
   "id": "c8db3329",
   "metadata": {},
   "outputs": [
    {
     "name": "stderr",
     "output_type": "stream",
     "text": [
      "100%|█████████████████████████████████████████████████████████████████████████████████| 19/19 [00:00<00:00, 949.96it/s]\n"
     ]
    }
   ],
   "source": [
    "#Validation data set\n",
    "camp_validation = create_training(validation)\n",
    "camp_validation.to_disk(\"nbme_validation_11.spacy\")"
   ]
  },
  {
   "cell_type": "code",
   "execution_count": 111,
   "id": "fab476db",
   "metadata": {},
   "outputs": [
    {
     "name": "stdout",
     "output_type": "stream",
     "text": [
      "[+] Auto-filled config with all values\n",
      "[+] Saved config\n",
      "config_11.cfg\n",
      "You can now add your data and train your pipeline:\n",
      "python -m spacy train config_11.cfg --paths.train ./train.spacy --paths.dev ./dev.spacy\n"
     ]
    },
    {
     "name": "stderr",
     "output_type": "stream",
     "text": [
      "2022-05-02 14:05:26.794909: W tensorflow/stream_executor/platform/default/dso_loader.cc:64] Could not load dynamic library 'cudart64_110.dll'; dlerror: cudart64_110.dll not found\n",
      "2022-05-02 14:05:26.794947: I tensorflow/stream_executor/cuda/cudart_stub.cc:29] Ignore above cudart dlerror if you do not have a GPU set up on your machine.\n"
     ]
    }
   ],
   "source": [
    "!python -m spacy init fill-config ./base_config_11.cfg ./config_11.cfg"
   ]
  },
  {
   "cell_type": "code",
   "execution_count": 112,
   "id": "f39d1983",
   "metadata": {},
   "outputs": [
    {
     "name": "stdout",
     "output_type": "stream",
     "text": [
      "[i] Saving to output directory: output_11\n",
      "[i] Using CPU\n",
      "\u001b[1m\n",
      "=========================== Initializing pipeline ===========================\u001b[0m\n",
      "[+] Initialized pipeline\n",
      "\u001b[1m\n",
      "============================= Training pipeline =============================\u001b[0m\n",
      "[i] Pipeline: ['tok2vec', 'ner']\n",
      "[i] Initial learn rate: 0.001\n",
      "E    #       LOSS TOK2VEC  LOSS NER  ENTS_F  ENTS_P  ENTS_R  SCORE \n",
      "---  ------  ------------  --------  ------  ------  ------  ------\n",
      "  0       0          0.00     62.00    0.00    0.00    0.00    0.00\n",
      "  2     200       4985.02   2028.15   89.47   89.47   89.47    0.89\n",
      "  5     400          8.02     20.88  100.00  100.00  100.00    1.00\n",
      "  8     600          2.19      3.41  100.00  100.00  100.00    1.00\n",
      " 10     800          0.00      0.00  100.00  100.00  100.00    1.00\n",
      " 13    1000          0.00      0.00  100.00  100.00  100.00    1.00\n",
      " 16    1200          0.00      0.00  100.00  100.00  100.00    1.00\n",
      " 18    1400          0.30      0.27   92.31   90.00   94.74    0.92\n",
      " 21    1600         26.91      7.73  100.00  100.00  100.00    1.00\n",
      " 24    1800      65577.36    158.40   94.74   94.74   94.74    0.95\n",
      " 26    2000         47.79     15.96   97.44   95.00  100.00    0.97\n",
      "[+] Saved pipeline to output directory\n",
      "output_11\\model-last\n"
     ]
    },
    {
     "name": "stderr",
     "output_type": "stream",
     "text": [
      "2022-05-02 14:05:30.676235: W tensorflow/stream_executor/platform/default/dso_loader.cc:64] Could not load dynamic library 'cudart64_110.dll'; dlerror: cudart64_110.dll not found\n",
      "2022-05-02 14:05:30.676271: I tensorflow/stream_executor/cuda/cudart_stub.cc:29] Ignore above cudart dlerror if you do not have a GPU set up on your machine.\n",
      "[2022-05-02 14:05:33,258] [INFO] Set up nlp object from config\n",
      "[2022-05-02 14:05:33,265] [INFO] Pipeline: ['tok2vec', 'ner']\n",
      "[2022-05-02 14:05:33,268] [INFO] Created vocabulary\n",
      "[2022-05-02 14:05:33,268] [INFO] Finished initializing nlp object\n",
      "[2022-05-02 14:05:33,638] [INFO] Initialized pipeline components: ['tok2vec', 'ner']\n"
     ]
    }
   ],
   "source": [
    "!python -m spacy train config_11.cfg --output ./output_11"
   ]
  },
  {
   "cell_type": "code",
   "execution_count": null,
   "id": "64bbd338",
   "metadata": {},
   "outputs": [],
   "source": []
  },
  {
   "cell_type": "markdown",
   "id": "e99a4ee3",
   "metadata": {},
   "source": [
    "### Feature 12"
   ]
  },
  {
   "cell_type": "code",
   "execution_count": 113,
   "id": "ff28160e",
   "metadata": {},
   "outputs": [
    {
     "data": {
      "text/plain": [
       "(91, 11)"
      ]
     },
     "execution_count": 113,
     "metadata": {},
     "output_type": "execute_result"
    }
   ],
   "source": [
    "case_0_12 = case_0[case_0[\"feature_num\"] == 12]\n",
    "case_0_12.shape"
   ]
  },
  {
   "cell_type": "code",
   "execution_count": 114,
   "id": "786a147a",
   "metadata": {},
   "outputs": [
    {
     "data": {
      "text/plain": [
       "(72, 19)"
      ]
     },
     "execution_count": 114,
     "metadata": {},
     "output_type": "execute_result"
    }
   ],
   "source": [
    "pn_Num_list = list(case_0_12.pn_num.unique())\n",
    "\n",
    "final_train = []   # appending all the individual rows\n",
    "for patient_number in pn_Num_list:  # for each unique patient number\n",
    "    entities = []  # saving individaual entities locations\n",
    "    for row_index,row in case_0_12[case_0_12.pn_num == patient_number].iterrows():  # for each unique patient number \n",
    "        \n",
    "        entities.append((int(row[\"start_location\"]),int(row[\"end_location\"]),\"Feature_\" + str(row[\"feature_num\"]))) # store the locations in numeric format\n",
    "        \n",
    "    text = case_0_12[case_0_12.pn_num == patient_number][\"New_pn_history\"].values[0] # save the text for the unique patient number\n",
    "    \n",
    "    final_train.append((text,{\"entities\":entities}))  # for each unique pn_number append to final list\n",
    "    \n",
    "# Serializing json \n",
    "json_object = json.dumps(final_train, indent = 4)\n",
    "  \n",
    "# Writing to sample.json\n",
    "with open(\"sample_12.json\", \"w\") as outfile:\n",
    "    outfile.write(json_object)\n",
    "    \n",
    "# Opening JSON file\n",
    "f = open(\"sample_12.json\")\n",
    " \n",
    "# returns JSON object as\n",
    "# a dictionary\n",
    "data = json.load(f)\n",
    "\n",
    "nlp = spacy.blank(\"en\")\n",
    "def create_training(TRAIN_DATA):\n",
    "    db = DocBin()\n",
    "    for text, annot in tqdm(TRAIN_DATA):\n",
    "        doc = nlp.make_doc(text)\n",
    "        ents = []\n",
    "        for start, end, label in annot[\"entities\"]:\n",
    "            span = doc.char_span(start, end, label=label, alignment_mode=\"contract\")\n",
    "            if span is None:\n",
    "                print (\"Skipping entity\")\n",
    "            else:\n",
    "                ents.append(span)\n",
    "        doc.ents = ents\n",
    "        db.add(doc)\n",
    "    return (db)\n",
    "\n",
    "train, validation = train_test_split(data, test_size = 0.2, random_state = 100)\n",
    "len(train),len(validation)"
   ]
  },
  {
   "cell_type": "code",
   "execution_count": 115,
   "id": "e1799193",
   "metadata": {},
   "outputs": [
    {
     "name": "stderr",
     "output_type": "stream",
     "text": [
      "100%|█████████████████████████████████████████████████████████████████████████████████| 72/72 [00:00<00:00, 650.81it/s]\n"
     ]
    }
   ],
   "source": [
    "#train data set\n",
    "camp_train = create_training(train)\n",
    "camp_train.to_disk(\"nbme_train_12.spacy\")"
   ]
  },
  {
   "cell_type": "code",
   "execution_count": 116,
   "id": "f1caad6b",
   "metadata": {},
   "outputs": [
    {
     "name": "stderr",
     "output_type": "stream",
     "text": [
      "100%|█████████████████████████████████████████████████████████████████████████████████| 19/19 [00:00<00:00, 952.57it/s]\n"
     ]
    }
   ],
   "source": [
    "#Validation data set\n",
    "camp_validation = create_training(validation)\n",
    "camp_validation.to_disk(\"nbme_validation_12.spacy\")"
   ]
  },
  {
   "cell_type": "code",
   "execution_count": 117,
   "id": "1653bf3b",
   "metadata": {},
   "outputs": [
    {
     "name": "stdout",
     "output_type": "stream",
     "text": [
      "[+] Auto-filled config with all values\n",
      "[+] Saved config\n",
      "config_12.cfg\n",
      "You can now add your data and train your pipeline:\n",
      "python -m spacy train config_12.cfg --paths.train ./train.spacy --paths.dev ./dev.spacy\n"
     ]
    },
    {
     "name": "stderr",
     "output_type": "stream",
     "text": [
      "2022-05-02 14:07:30.060842: W tensorflow/stream_executor/platform/default/dso_loader.cc:64] Could not load dynamic library 'cudart64_110.dll'; dlerror: cudart64_110.dll not found\n",
      "2022-05-02 14:07:30.060878: I tensorflow/stream_executor/cuda/cudart_stub.cc:29] Ignore above cudart dlerror if you do not have a GPU set up on your machine.\n"
     ]
    }
   ],
   "source": [
    "!python -m spacy init fill-config ./base_config_12.cfg ./config_12.cfg"
   ]
  },
  {
   "cell_type": "code",
   "execution_count": 118,
   "id": "bc85c57c",
   "metadata": {},
   "outputs": [
    {
     "name": "stdout",
     "output_type": "stream",
     "text": [
      "[i] Saving to output directory: output_12\n",
      "[i] Using CPU\n",
      "\u001b[1m\n",
      "=========================== Initializing pipeline ===========================\u001b[0m\n",
      "[+] Initialized pipeline\n",
      "\u001b[1m\n",
      "============================= Training pipeline =============================\u001b[0m\n",
      "[i] Pipeline: ['tok2vec', 'ner']\n",
      "[i] Initial learn rate: 0.001\n",
      "E    #       LOSS TOK2VEC  LOSS NER  ENTS_F  ENTS_P  ENTS_R  SCORE \n",
      "---  ------  ------------  --------  ------  ------  ------  ------\n",
      "  0       0          0.00     63.33    0.00    0.00    0.00    0.00\n",
      "  2     200          5.06    958.24  100.00  100.00  100.00    1.00\n",
      "  5     400          0.00      0.00  100.00  100.00  100.00    1.00\n",
      "  8     600          0.00      0.00  100.00  100.00  100.00    1.00\n",
      " 11     800          0.00      0.00  100.00  100.00  100.00    1.00\n",
      " 13    1000          0.00      0.00  100.00  100.00  100.00    1.00\n",
      " 16    1200          0.00      0.00  100.00  100.00  100.00    1.00\n",
      " 19    1400          0.00      0.00  100.00  100.00  100.00    1.00\n",
      " 22    1600          0.00      0.00  100.00  100.00  100.00    1.00\n",
      " 25    1800          0.00      0.00  100.00  100.00  100.00    1.00\n",
      "[+] Saved pipeline to output directory\n",
      "output_12\\model-last\n"
     ]
    },
    {
     "name": "stderr",
     "output_type": "stream",
     "text": [
      "2022-05-02 14:07:33.964983: W tensorflow/stream_executor/platform/default/dso_loader.cc:64] Could not load dynamic library 'cudart64_110.dll'; dlerror: cudart64_110.dll not found\n",
      "2022-05-02 14:07:33.965019: I tensorflow/stream_executor/cuda/cudart_stub.cc:29] Ignore above cudart dlerror if you do not have a GPU set up on your machine.\n",
      "[2022-05-02 14:07:36,537] [INFO] Set up nlp object from config\n",
      "[2022-05-02 14:07:36,544] [INFO] Pipeline: ['tok2vec', 'ner']\n",
      "[2022-05-02 14:07:36,547] [INFO] Created vocabulary\n",
      "[2022-05-02 14:07:36,548] [INFO] Finished initializing nlp object\n",
      "[2022-05-02 14:07:36,912] [INFO] Initialized pipeline components: ['tok2vec', 'ner']\n"
     ]
    }
   ],
   "source": [
    "!python -m spacy train config_12.cfg --output ./output_12"
   ]
  },
  {
   "cell_type": "code",
   "execution_count": null,
   "id": "711f0e74",
   "metadata": {},
   "outputs": [],
   "source": []
  },
  {
   "cell_type": "code",
   "execution_count": null,
   "id": "b2270881",
   "metadata": {},
   "outputs": [],
   "source": []
  }
 ],
 "metadata": {
  "kernelspec": {
   "display_name": "Python 3",
   "language": "python",
   "name": "python3"
  },
  "language_info": {
   "codemirror_mode": {
    "name": "ipython",
    "version": 3
   },
   "file_extension": ".py",
   "mimetype": "text/x-python",
   "name": "python",
   "nbconvert_exporter": "python",
   "pygments_lexer": "ipython3",
   "version": "3.8.8"
  }
 },
 "nbformat": 4,
 "nbformat_minor": 5
}
